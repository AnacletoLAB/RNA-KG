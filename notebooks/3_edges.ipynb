{
 "cells": [
  {
   "cell_type": "markdown",
   "metadata": {
    "collapsed": true,
    "jupyter": {
     "outputs_hidden": true
    }
   },
   "source": [
    "# <p style=\"text-align: center;\">RNA Knowledge Graph Build Data Preparation</p>\n",
    "    \n",
    "***\n",
    "***\n",
    "\n",
    "**Author:** [ECavalleri](https://mail.google.com/mail/u/0/?view=cm&fs=1&tf=1&to=emanuele.cavalleri@unimi.it)\n",
    "\n",
    "**GitHub Repositories:** [RNA-KG](https://github.com/AnacletoLAB/RNA-KG/)\n",
    "  \n",
    "<br>  \n",
    "  \n",
    "**Purpose:** This notebook serves as a script to download, process, map, and clean data in order to build edges for the RNA-centered Knowledge Graph.\n",
    "\n",
    "<br>\n",
    "\n",
    "**Dependencies:**   \n",
    "- **Scripts**: This notebook utilizes several helper functions, which are stored in the [`data_utils.py`](https://github.com/callahantiff/PheKnowLator/blob/master/pkt_kg/utils/data_utils.py) and [`kg_utils.py`](https://github.com/callahantiff/PheKnowLator/blob/master/pkt_kg/utils/kg_utils.py) scripts.  \n",
    "- **Data**: All downloaded and generated data sources are provided through [10.5281/zenodo.10078876](https://zenodo.org/doi/10.5281/zenodo.10078876) dedicated repository. <u>This notebook will download everything that is needed for you</u>.  \n",
    "_____\n",
    "***"
   ]
  },
  {
   "cell_type": "markdown",
   "metadata": {},
   "source": [
    "## Set-Up Environment\n",
    "_____"
   ]
  },
  {
   "cell_type": "code",
   "execution_count": 1,
   "metadata": {},
   "outputs": [],
   "source": [
    "%%capture\n",
    "import sys\n",
    "!{sys.executable} -m pip install -r requirements.txt\n",
    "sys.path.append('../')"
   ]
  },
  {
   "cell_type": "code",
   "execution_count": 2,
   "metadata": {},
   "outputs": [
    {
     "name": "stderr",
     "output_type": "stream",
     "text": [
      "/home/ecavalleri/.local/lib/python3.10/site-packages/pandas/core/computation/expressions.py:21: UserWarning: Pandas requires version '2.8.4' or newer of 'numexpr' (version '2.8.1' currently installed).\n",
      "  from pandas.core.computation.check import NUMEXPR_INSTALLED\n",
      "/home/ecavalleri/.local/lib/python3.10/site-packages/pandas/core/arrays/masked.py:60: UserWarning: Pandas requires version '1.3.6' or newer of 'bottleneck' (version '1.3.2' currently installed).\n",
      "  from pandas.core import (\n"
     ]
    }
   ],
   "source": [
    "# import needed libraries\n",
    "import datetime\n",
    "import glob\n",
    "import itertools\n",
    "import networkx\n",
    "import numpy\n",
    "import os\n",
    "import pickle\n",
    "import re\n",
    "import requests\n",
    "import tarfile\n",
    "import shutil\n",
    "import pandas as pd\n",
    "import gffpandas.gffpandas as gffpd\n",
    "import numpy as np\n",
    "pd.set_option('display.max_columns', None)\n",
    "import re\n",
    "import zipfile\n",
    "import io\n",
    "from bs4 import BeautifulSoup\n",
    "from itertools import permutations\n",
    "\n",
    "from collections import Counter\n",
    "from functools import reduce\n",
    "from rdflib import Graph, Namespace, URIRef, BNode, Literal\n",
    "from rdflib.namespace import OWL, RDF, RDFS\n",
    "from reactome2py import content\n",
    "from tqdm import tqdm\n",
    "from typing import Dict\n",
    "\n",
    "from pkt_kg.utils import * \n",
    "from builds.ontology_cleaning import *\n",
    "\n",
    "from Bio import SeqIO, Entrez\n",
    "\n",
    "from Bio.SeqIO.FastaIO import SimpleFastaParser\n",
    "\n",
    "from typing import Tuple"
   ]
  },
  {
   "cell_type": "markdown",
   "metadata": {},
   "source": [
    "#### Define Global Variables"
   ]
  },
  {
   "cell_type": "code",
   "execution_count": 3,
   "metadata": {},
   "outputs": [],
   "source": [
    "# directory to store resources\n",
    "resource_data_location = '../resources/'    \n",
    "\n",
    "# directory to use for unprocessed data\n",
    "unprocessed_data_location = '../resources/processed_data/unprocessed_data/'\n",
    "\n",
    "# directory to use for unprocessed edge data\n",
    "unprocessed_edge_data_location = '../resources/processed_data/unprocessed_data/edges/'\n",
    "\n",
    "# directory to use for processed data\n",
    "processed_data_location = '../resources/processed_data/'\n",
    "\n",
    "# directory to write relations data to\n",
    "relations_data_location = '../resources/relations_data/'\n",
    "\n",
    "# directory to write ontology data to\n",
    "ontology_data_location = '../resources/ontologies/'\n",
    "\n",
    "# directory to write edges data to\n",
    "edge_data_location = '../resources/edge_data/'\n",
    "\n",
    "# processed data url \n",
    "processed_url = 'https://storage.googleapis.com/pheknowlator/current_build/data/processed_data/'\n",
    "\n",
    "# owltools location\n",
    "owltools_location = '../pkt_kg/libs/owltools'"
   ]
  },
  {
   "cell_type": "markdown",
   "metadata": {},
   "source": [
    "***\n",
    "***\n",
    "## IMPORT MAPPING DATASETS  <a class=\"anchor\" id=\"create-identifier-maps\"></a>\n",
    "***\n",
    "***"
   ]
  },
  {
   "cell_type": "code",
   "execution_count": 4,
   "metadata": {},
   "outputs": [],
   "source": [
    "entrez_pro_map = pd.read_csv(processed_data_location+'ENTREZ_GENE_PRO_ONTOLOGY_MAP.txt', header=None, delimiter='\\t')[[0,1]]\n",
    "symbol_ensembl_map = pd.read_csv(processed_data_location+'GENE_SYMBOL_ENSEMBL_TRANSCRIPT_MAP.txt', header=None, delimiter='\\t')[[0,1]]\n",
    "mesh_to_chebi = pd.read_csv(processed_data_location+'MESH_CHEBI_MAP.txt', sep='\\t', header=None)\n",
    "disgenet_mondo_map = pd.read_csv(processed_data_location+'DISEASE_MONDO_MAP.txt', sep='\\t', header=None)\n",
    "phenot_hpo_map = pd.read_csv(processed_data_location+'PHENOTYPE_HPO_MAP.txt', sep='\\t', header=None)\n",
    "disgenet_mondo_hpo_map = pd.concat([disgenet_mondo_map, phenot_hpo_map]).drop_duplicates()\n",
    "string_pro = pd.read_csv(processed_data_location + 'STRING_PRO_ONTOLOGY_MAP.txt', sep='\\t', header=None)[[0,1]]\n",
    "hpa_gtex_map = pd.read_csv(processed_data_location+'HPA_GTEx_TISSUE_CELL_MAP.txt', header=None, delimiter='\\t')\n",
    "desc_chebi_map = pd.read_csv(processed_data_location+'DESC_CHEBI_MAP.txt', header=None, delimiter='\\t')\n",
    "desc_drugbank_map = pd.read_csv(processed_data_location+'DESC_DRUGBANK_MAP.txt', header=None, delimiter='\\t')\n",
    "desc_chebi_map = pd.concat([desc_chebi_map, desc_drugbank_map]).drop_duplicates()\n",
    "desc_mondo_map = pd.read_csv(processed_data_location + 'DESC_MONDO_MAP.txt', header=None, sep='\\t')\n",
    "desc_hpo_map = pd.read_csv(processed_data_location + 'DESC_HP_MAP.txt', header=None, sep='\\t')\n",
    "desc_disPhe_map = pd.concat([desc_mondo_map, desc_hpo_map]).drop_duplicates()\n",
    "desc_go_map = pd.read_csv(processed_data_location+'DESC_GO_MAP.txt', header=None, delimiter='\\t')\n",
    "desc_reactome_map = pd.read_csv(processed_data_location + 'DESC_REACTOME_MAP.txt', header=None, sep='\\t')\n",
    "desc_wpw_map = pd.read_csv(processed_data_location + 'DESC_WIKIPATHWAYS_MAP.txt', header=None, sep='\\t')\n",
    "desc_pw_map = pd.read_csv(processed_data_location+'DESC_PW_MAP.txt', header=None, delimiter='\\t')\n",
    "mirna_mirbase_map = pd.read_csv(processed_data_location + 'MIRNA_MIRBASE_MAP.txt', header=None, sep='\\t')\n",
    "symbol_to_pro = pd.read_csv(processed_data_location + 'GENE_SYMBOL_PRO_ONTOLOGY_MAP.txt', header=None, sep='\\t')\n",
    "symbol_entrez_map = pd.read_csv(processed_data_location+'GENE_SYMBOL_ENTREZ_ID_MAP.txt',header=None, sep='\\t')\n",
    "ensembl_entrezTranscript_map = pd.read_csv(processed_data_location+'ENTREZ_GENE_ENSEMBL_TRANSCRIPT_MAP.txt',header=None, sep='\\t')\n",
    "ensembl_entrezGene_map = pd.read_csv(processed_data_location+'ENSEMBL_GENE_ENTREZ_GENE_MAP.txt',header=None, sep='\\t')\n",
    "desc_uberon_map = pd.read_csv(processed_data_location+'DESC_EXT_MAP.txt', header=None, delimiter='\\t')\n",
    "desc_clo_map = pd.read_csv(processed_data_location+'DESC_CLO_MAP.txt', header=None, delimiter='\\t')\n",
    "desc_anatomyCell_map = pd.concat([desc_uberon_map, desc_clo_map]).drop_duplicates()\n",
    "desc_pro_map = pd.read_csv(processed_data_location + 'DESC_PR_MAP.txt', header=None, sep='\\t')\n",
    "desc_pro_map_all = pd.read_csv(processed_data_location + 'DESC_PR_ALL_MAP.txt', header=None, sep='\\t')\n",
    "desc_so_map = pd.read_csv(processed_data_location + 'DESC_SO_MAP.txt', header=None, sep='\\t')\n",
    "tRNA_map = pd.read_csv(processed_data_location+'GtRNAdb_MAP.txt',sep='\\t',header=None)\n",
    "tsRNA_map = pd.read_csv(unprocessed_data_location + 'newID_20210202.txt', sep=\"\\t\")\n",
    "cancer_mondo_map = pd.read_csv(processed_data_location + 'TCGA_MONDO_MAP.txt', header=None, sep='\\t')\n",
    "mintbase_tRNA_map = pd.read_csv(processed_data_location + 'tRNA_MINTbase_RNACENTRAL_MAP.txt', header=None, sep='\\t')\n",
    "tRNA_MINTbase_GtRNAdb_map = pd.read_csv(unprocessed_data_location + 'MINTbase-gtRNAdb_mapping.txt',sep='\\t')\n",
    "aa_chebi_map = pd.read_csv(processed_data_location + 'AminoAcid_ChEBI_MAP.txt', header=None, sep='\\t')\n",
    "ribozyme_rfam_map = pd.read_csv(processed_data_location + 'ribozyme_RFAM_MAP.txt', header=None, sep='\\t')\n",
    "circbase_map = pd.read_csv(processed_data_location + 'CIRCBASE_MAP.txt', header=None, sep='\\t')\n",
    "symbol_to_circbase = pd.read_csv(unprocessed_data_location + 'hsa_hg19_circRNA.txt', sep='\\t')[['gene symbol','circRNA ID']].drop_duplicates()\n",
    "unipro_pro_map = pd.read_csv(processed_data_location+'UNIPROT_ACCESSION_PRO_ONTOLOGY_MAP.txt', sep='\\t', header=None)[[0,1]].drop_duplicates()\n",
    "\n",
    "doid_mondo_map = pd.read_csv(processed_data_location+'DOID_MONDO_MAP.txt', header=None, delimiter='\\t')\n",
    "doid_mondo_map[1] = doid_mondo_map[1].str.split(', ')\n",
    "doid_mondo_map = doid_mondo_map.explode(1)"
   ]
  },
  {
   "cell_type": "code",
   "execution_count": 5,
   "metadata": {},
   "outputs": [],
   "source": [
    "#rnacentral_map = pd.read_csv(unprocessed_data_location + \"id_mapping.tsv\", delimiter='\\t',\n",
    "#                             names=['ID', 'DB', 'DB ID', 'Organism', 'RNA category', 'Label'])\n",
    "rnacentral_map_human = pd.read_csv(processed_data_location + 'RNACENTRAL_MAP.txt', sep='\\t')\n",
    "\n",
    "rnacentral_map_mirbase = pd.read_csv(\n",
    "    processed_data_location + 'RNAcentral_MAP/mirbase.tsv',\n",
    "    sep='\\t', names=['RNAcentral ID', 'DB', 'miRBase ID', 'Organism', 'miRNA category', 'Label'])\n",
    "rnacentral_map_human_mirbase = rnacentral_map_mirbase[rnacentral_map_mirbase['Organism'] == 9606].drop(\n",
    "    columns=['Organism', 'DB', 'miRNA category', 'Label'])\n",
    "\n",
    "ensembl_map = pd.read_csv(processed_data_location + 'ensembl_identifier_data_cleaned.txt', sep='\\t')\n",
    "\n",
    "rnacentral_map_ensembl = pd.read_csv(\n",
    "    processed_data_location + 'RNAcentral_MAP/ensembl.tsv',\n",
    "    sep='\\t', names=['RNAcentral ID', 'DB', 'Ensembl transcript ID', 'Organism', 'RNA category', 'Ensembl Gene ID'])\n",
    "rnacentral_map_human_ensembl = rnacentral_map_ensembl[rnacentral_map_ensembl['Organism'] == 9606].drop(\n",
    "    columns=['Organism', 'DB', 'RNA category'])\n",
    "rnacentral_map_human_ensembl['Ensembl Gene ID'] = rnacentral_map_human_ensembl['Ensembl Gene ID'].str.split('.').str[0]\n",
    "\n",
    "rnacentral_map_lncipedia = pd.read_csv(processed_data_location + \"RNAcentral_MAP/lncipedia.tsv\",sep='\\t',\n",
    "                                       names=['RNAcentral ID', 'DB', 'LNCipedia transcript ID', 'Organism', 'RNA category', 'LNCipedia Gene ID'])\n",
    "rnacentral_map_human_lncipedia = rnacentral_map_lncipedia[rnacentral_map_lncipedia['Organism'] == 9606].drop(\n",
    "    columns=['Organism', 'DB', 'RNA category'])\n",
    "\n",
    "rnacentral_map_gtrnadb = pd.read_csv(processed_data_location + \"RNAcentral_MAP/gtrnadb.tsv\",sep='\\t',\n",
    "                                     names=['RNAcentral ID', 'DB', 'GtRNAdb transcript ID', 'Organism', 'RNA category', 'GtRNAdb Gene ID'])\n",
    "rnacentral_map_human_gtrnadb = rnacentral_map_gtrnadb[rnacentral_map_gtrnadb['Organism'] == 9606].drop(\n",
    "    columns=['Organism', 'DB', 'RNA category'])\n",
    "\n",
    "rnacentral_map_hgnc = pd.read_csv(processed_data_location + \"RNAcentral_MAP/hgnc.tsv\",sep='\\t',\n",
    "                                  names=['RNAcentral ID', 'DB', 'HGNC ID', 'Organism', 'RNA category', 'HGNC symbol'])\n",
    "rnacentral_map_human_hgnc = rnacentral_map_hgnc[rnacentral_map_hgnc['Organism'] == 9606].drop(\n",
    "    columns=['Organism', 'DB'])\n",
    "\n",
    "rnacentral_map_lncbook = pd.read_csv(processed_data_location+\"RNAcentral_MAP/lncbook.tsv\",sep='\\t',\n",
    "                                     names=['RNAcentral ID', 'DB', 'LncBook Transcript ID', 'Organism', 'RNA category', 'LncBook Gene ID'])\n",
    "rnacentral_map_human_lncbook = rnacentral_map_lncbook[rnacentral_map_lncbook['Organism'] == 9606].drop(\n",
    "    columns=['Organism', 'DB', 'RNA category'])\n",
    "\n",
    "rnacentral_map_noncode = pd.read_csv(processed_data_location + \"RNAcentral_MAP/noncode.tsv\",sep='\\t',\n",
    "                                     names=['RNAcentral ID', 'DB', 'NONCODE Transcript ID', 'Organism', 'RNA category', 'NONCODE Gene ID'])\n",
    "rnacentral_map_human_noncode = rnacentral_map_noncode[rnacentral_map_noncode['Organism'] == 9606].drop(\n",
    "    columns=['Organism', 'DB', 'RNA category'])\n",
    "\n",
    "rnacentral_map_rfam = pd.read_csv(processed_data_location + \"RNAcentral_MAP/rfam.tsv\",sep='\\t',\n",
    "                                     names=['RNAcentral ID', 'DB', 'Rfam ID', 'Organism', 'RNA category', \"nan\"]).drop(columns=\"nan\")\n",
    "rnacentral_map_human_rfam = rnacentral_map_rfam[rnacentral_map_rfam['Organism'] == 9606].drop(\n",
    "    columns=['Organism', 'DB', 'RNA category'])\n",
    "\n",
    "rnacentral_map_refseq = pd.read_csv(processed_data_location + \"RNAcentral_MAP/refseq.tsv\",sep='\\t', \n",
    "                                    names=['RNAcentral ID', 'DB', 'RefSeq ID', 'Organism', 'RNA category', \"Label\"])\n",
    "ensembl_refseq_map = pd.read_csv('https://ftp.ensembl.org/pub/release-113/tsv/homo_sapiens/Homo_sapiens.GRCh38.113.refseq.tsv.gz', sep='\\t')\n",
    "rnacentral_map_human_refseq = rnacentral_map_refseq[rnacentral_map_refseq['Organism'] == 9606].drop(\n",
    "    columns=['Organism', 'DB', 'RNA category'])\n",
    "ensembl_refseq_map = ensembl_refseq_map[~ensembl_refseq_map['xref'].isin(rnacentral_map_human_refseq['RefSeq ID'])]\n",
    "rnacentral_map_human_refseq = pd.concat(\n",
    "    [rnacentral_map_human_refseq, ensembl_refseq_map[['transcript_stable_id','xref']].rename(\n",
    "        columns={'transcript_stable_id':'RNAcentral ID', 'xref':'RefSeq ID'})]).drop_duplicates(subset='RefSeq ID', keep='first')\n",
    "\n",
    "rnacentral_map_human_pirbase = pd.read_csv(processed_data_location + \"RNAcentral_MAP/pirbase.tsv\",sep='\\t',names=['RNAcentral ID', \"piRBase ID\"])"
   ]
  },
  {
   "cell_type": "code",
   "execution_count": 6,
   "metadata": {},
   "outputs": [],
   "source": [
    "# Look-up tables to ground properties: synonyms are mapped to labels\n",
    "location_map = pd.concat([pd.read_csv(unprocessed_data_location + 'DESC_EXT_MAP.txt', sep='\\t', header=None),\n",
    "                          pd.read_csv(unprocessed_data_location + 'DESC_CLO_MAP.txt', sep='\\t', header=None),\n",
    "                          pd.read_csv(unprocessed_data_location + 'DESC_MONDO_MAP.txt', sep='\\t', header=None)])\n",
    "location_map = location_map.merge(pd.concat([desc_anatomyCell_map,desc_mondo_map]), how='outer', on=1)[['0_y', '0_x']]\n",
    "location_map['0_y'] = location_map['0_y'].fillna(location_map['0_x'])\n",
    "location_map['0_x'] = location_map['0_x'].fillna(location_map['0_y'])\n",
    "location_map = location_map.drop_duplicates(subset='0_y', keep='first')\n",
    "disease_map = location_map.copy()\n",
    "\n",
    "method_map = pd.read_csv(unprocessed_data_location + 'DESC_NCIT_MAP.txt', sep='\\t', header=None)\n",
    "desc_method_map = pd.read_csv(processed_data_location + 'DESC_NCIT_MAP.txt', sep='\\t', header=None)\n",
    "method_map = method_map.merge(desc_method_map, how='outer', on=1)[['0_y', '0_x']].drop_duplicates(subset='0_y')\n",
    "method_map['0_y'] = method_map['0_y'].fillna(method_map['0_x'])\n",
    "method_map['0_x'] = method_map['0_x'].fillna(method_map['0_y'])\n",
    "method_map = method_map.drop_duplicates(subset='0_y', keep='first')"
   ]
  },
  {
   "cell_type": "markdown",
   "metadata": {},
   "source": [
    "***\n",
    "***\n",
    "## DOWNLOAD AND PROCESS EDGE DATASETS<a class=\"anchor\" id=\"create-edges\"></a>\n",
    "Edges are classified according to interactors' types. The relations from different sources are matched joining their dataframes after fixing identifiers.\n",
    "***\n",
    "***"
   ]
  },
  {
   "cell_type": "markdown",
   "metadata": {},
   "source": [
    "### RNA - http://purl.obolibrary.org/obo/RO_0002203 (develops into) - RNA"
   ]
  },
  {
   "cell_type": "markdown",
   "metadata": {},
   "source": [
    "* [miRBase](https://www.mirbase.org/) <br />  The miRBase database is a searchable database of published miRNA sequences and annotation. Each entry represents a predicted hairpin portion of a miRNA transcript (termed mir in the database), with information on the location and sequence of the mature miRNA sequence (termed miR)."
   ]
  },
  {
   "cell_type": "code",
   "execution_count": null,
   "metadata": {},
   "outputs": [],
   "source": [
    "data_downloader('https://www.mirbase.org/download/miRNA.dat', unprocessed_data_location)"
   ]
  },
  {
   "cell_type": "code",
   "execution_count": null,
   "metadata": {},
   "outputs": [],
   "source": [
    "embl_file = unprocessed_data_location + 'miRNA.dat'\n",
    "\n",
    "# Create empty lists to store the data\n",
    "data = {\n",
    "    \"ID\": [],\n",
    "    \"Description\": [],\n",
    "    \"Sequence\": [],\n",
    "    \"Comments\": [],\n",
    "    \"References\": [],\n",
    "    \"Feature Table\": []\n",
    "}\n",
    "\n",
    "# Iterate through the records in the EMBL file\n",
    "for record in SeqIO.parse(embl_file, \"embl\"):\n",
    "    data[\"ID\"].append(record.id)\n",
    "    data[\"Description\"].append(record.description)\n",
    "    data[\"Sequence\"].append(str(record.seq))\n",
    "    data[\"Comments\"].append(str(record.annotations.get('comment', '')))\n",
    "    references = []\n",
    "    i = 0\n",
    "    for ref in record.annotations.get('references', []):\n",
    "        i = i + 1\n",
    "        references.append(f\"{[i], 'https://pubmed.ncbi.nlm.nih.gov/' + ref.pubmed_id}\")\n",
    "    data[\"References\"].append(\", \".join(references))\n",
    "    feature_table = \"\\n\".join(str(feature) for feature in record.features)\n",
    "    data[\"Feature Table\"].append(feature_table)\n",
    "\n",
    "df = pd.DataFrame(data)\n",
    "df = df[df['Description'].astype(str).str.contains('Homo sapiens')]\n",
    "\n",
    "df['Feature Table'] = df['Feature Table'].str.split(\"type: miRNA\")\n",
    "df = df.explode('Feature Table')\n",
    "df = df[df['Feature Table'] != '']\n",
    "df.head(n=3)"
   ]
  },
  {
   "cell_type": "code",
   "execution_count": null,
   "metadata": {},
   "outputs": [],
   "source": [
    "df['Feature Table'] = df['Feature Table'].str.split(\"\\n\")\n",
    "list(df['Feature Table'].loc[57])"
   ]
  },
  {
   "cell_type": "code",
   "execution_count": null,
   "metadata": {},
   "outputs": [],
   "source": [
    "def extract_values(row):\n",
    "    result = {}\n",
    "    for item in row:\n",
    "        if \"location: \" in item:\n",
    "            key_value = item.split(\"location: \")\n",
    "            value = key_value[1]\n",
    "            result['location'] = value\n",
    "        elif \"Key: \" in item:\n",
    "            key_value = item.split(\"Key: \")\n",
    "            key = key_value[1].split(\", Value:\")[0].strip()\n",
    "            value = key_value[1].split(\", Value:\")[1].strip(\" ['\").strip(\"'']\")\n",
    "            result[key] = value\n",
    "    return pd.Series(result)\n",
    "\n",
    "new_columns = df['Feature Table'].apply(extract_values)\n",
    "\n",
    "df = pd.concat([df, new_columns], axis=1)\n",
    "\n",
    "# 'accession' column contains 'product' with miRBase identifiers\n",
    "df = df.drop(columns = ['product'])\n",
    "\n",
    "df['Source'] = 'miRBase'\n",
    "df.head(n=1)"
   ]
  },
  {
   "cell_type": "markdown",
   "metadata": {},
   "source": [
    "Description, Sequence, Comments, References, Feature Table, location, accession, evidence, experiment columns are node properties for premiRNA and miRNA. We can remove them since they are not edge properties."
   ]
  },
  {
   "cell_type": "code",
   "execution_count": null,
   "metadata": {},
   "outputs": [],
   "source": [
    "df = df.drop(columns=['Description', 'Sequence', 'Comments', 'References', 'Feature Table', 'location',\n",
    "                      'evidence', 'experiment'])\n",
    "premiRNAmiRNA = df[['ID', 'accession', 'Source']].dropna()\n",
    "premiRNAmiRNA.head(n=3)"
   ]
  },
  {
   "cell_type": "code",
   "execution_count": null,
   "metadata": {},
   "outputs": [],
   "source": [
    "# Mapping for pre-miRNA is 1-to-1\n",
    "all(premiRNAmiRNA['ID'].isin(rnacentral_map_human_mirbase['miRBase ID']))"
   ]
  },
  {
   "cell_type": "code",
   "execution_count": null,
   "metadata": {},
   "outputs": [],
   "source": [
    "# Mapping for mature miRNA is 1-to-1\n",
    "all(premiRNAmiRNA['accession'].isin(rnacentral_map_human_mirbase['miRBase ID']))"
   ]
  },
  {
   "cell_type": "code",
   "execution_count": null,
   "metadata": {},
   "outputs": [],
   "source": [
    "premiRNAmiRNA = pd.merge(premiRNAmiRNA, rnacentral_map_human_mirbase.rename(columns={'miRBase ID':'ID'}), on='ID').drop(\n",
    "    columns=['ID']).rename(columns={'RNAcentral ID':':START_ID'})\n",
    "premiRNAmiRNA = pd.merge(premiRNAmiRNA, rnacentral_map_human_mirbase.rename(columns={'miRBase ID':'accession'}), on='accession').drop(\n",
    "    columns=['accession']).rename(columns={'RNAcentral ID':':END_ID'})\n",
    "premiRNAmiRNA = premiRNAmiRNA.fillna('nan')\n",
    "premiRNAmiRNA.head(n=3)"
   ]
  },
  {
   "cell_type": "markdown",
   "metadata": {},
   "source": [
    "* [tsRFun](https://rna.sysu.edu.cn/tsRFun)"
   ]
  },
  {
   "cell_type": "code",
   "execution_count": null,
   "metadata": {},
   "outputs": [],
   "source": [
    "tsRNA_map = pd.read_csv(unprocessed_data_location + 'newID_20210202.txt', sep=\"\\t\")\n",
    "tsRNA_map = tsRNA_map[['tRNA','tsRNAid']]\n",
    "tsRNA_map.head(n=3)\n",
    "gtrnadb_rnacentral_map_human = pd.read_csv(processed_data_location + \"RNAcentral_MAP/gtrnadb.tsv\",sep='\\t',\n",
    "                                     names=['RNAcentral ID', 'DB', 'GtRNAdb ID', 'Organism', 'RNA category',\"Label\"])\n",
    "gtrnadb_rnacentral_map_human = gtrnadb_rnacentral_map_human[gtrnadb_rnacentral_map_human['Organism']==9606]\n",
    "tsRNA_RNAcentral_map = pd.merge(tsRNA_map, gtrnadb_rnacentral_map_human, left_on='tRNA', right_on='Label')[['tsRNAid','RNAcentral ID']].drop_duplicates()\n",
    "tsRNA_RNAcentral_map.rename(columns={'tsRNAid':':END_ID','RNAcentral ID':':START_ID'}, inplace=True)\n",
    "tsRNA_RNAcentral_map['Source'] = 'tsRFun'\n",
    "tsRNA_RNAcentral_map.head(n=3)"
   ]
  },
  {
   "cell_type": "markdown",
   "metadata": {},
   "source": [
    "* [tRFdb](http://genome.bioch.virginia.edu/trfdb/index.php) <br /> tRFdb is a comprehensive database of tRFs prepared from publicly available high-throughput sequencing data of >50 short RNA libraries. tRFs originate precisely from the extreme 5' (tRF-5) or 3' ends (tRF-3) of mature tRNAs or from the 3' trailer sequence of precursor tRNA transcripts (tRF-1) and are present in humans, mice, flies, worms and yeasts."
   ]
  },
  {
   "cell_type": "code",
   "execution_count": null,
   "metadata": {},
   "outputs": [],
   "source": [
    "#http://genome.bioch.virginia.edu/trfdb/index.php --> download webpages as html"
   ]
  },
  {
   "cell_type": "code",
   "execution_count": null,
   "metadata": {},
   "outputs": [],
   "source": [
    "tRF1_tRNA = pd.read_html(unprocessed_data_location+'trf1.html')[2]\n",
    "tRF1_tRNA.drop(columns=['Type','Organism','Experiment Info','Sequence','tRNA Gene Co-ordinates'],inplace=True)\n",
    "tRF1_tRNA.head(n=3)"
   ]
  },
  {
   "cell_type": "code",
   "execution_count": null,
   "metadata": {},
   "outputs": [],
   "source": [
    "tRF3_tRNA = pd.read_html(unprocessed_data_location+'trf3.html')[2]\n",
    "tRF3_tRNA.drop(columns=['Type','Organism','Experiment Info','Sequence','tRNA Gene Co-ordinates'],inplace=True)\n",
    "tRF3_tRNA.head(n=3)"
   ]
  },
  {
   "cell_type": "code",
   "execution_count": null,
   "metadata": {},
   "outputs": [],
   "source": [
    "tRF5_tRNA = pd.read_html(unprocessed_data_location+'trf5.html')[2]\n",
    "tRF5_tRNA.drop(columns=['Type','Organism','Experiment Info','Sequence','tRNA Gene Co-ordinates'],inplace=True)\n",
    "tRF5_tRNA.head(n=3)"
   ]
  },
  {
   "cell_type": "code",
   "execution_count": null,
   "metadata": {},
   "outputs": [],
   "source": [
    "tRF_tRNA = pd.concat([tRF1_tRNA,tRF3_tRNA,tRF5_tRNA])\n",
    "tRF_tRNA['Source'] = 'tRFdb'\n",
    "tRF_tRNA.head(n=3)"
   ]
  },
  {
   "cell_type": "code",
   "execution_count": null,
   "metadata": {},
   "outputs": [],
   "source": [
    "tRF_tRNA.rename(columns={'tRF ID':'tRF','tRNA Name':'tRNA'},inplace=True)\n",
    "tRF_tRNA[':END_ID'] = \"trfdb?\" + tRF_tRNA['tRF'].astype(str)\n",
    "tRF_tRNA.drop(columns=['tRF'],inplace=True)\n",
    "# map tRNA column using GtRNAdb look-up table\n",
    "tRF_tRNA = pd.merge(tRF_tRNA, tRNA_map.rename(columns={0:'tRNA'}), on='tRNA').drop(columns=['tRNA']).rename(columns={1:'tRNA'})\n",
    "tRF_tRNA = pd.merge(tRF_tRNA, rnacentral_map_human_gtrnadb[['RNAcentral ID','GtRNAdb Gene ID']].drop_duplicates().rename(\n",
    "    columns={'GtRNAdb Gene ID':'tRNA'}), on='tRNA').drop(\n",
    "        columns=['tRNA']).rename(columns={'RNAcentral ID':':START_ID'})\n",
    "tRF_tRNA.head(n=3)"
   ]
  },
  {
   "cell_type": "markdown",
   "metadata": {},
   "source": [
    "* [MINTbase](https://cm.jefferson.edu/MINTbase/) <br /> The Mitochondrial and Nuclear tRNA fragment database (MINTbase) is a repository of tRNA fragments (tRFs)."
   ]
  },
  {
   "cell_type": "code",
   "execution_count": null,
   "metadata": {},
   "outputs": [],
   "source": [
    "# https://cm.jefferson.edu/MINTbase/InputController?g=GRCh37&d=y&v=g&e=1.0&cl=,4,5,11,12,16,18,19,21,22,26,27,#ttop --> copy-paste table content"
   ]
  },
  {
   "cell_type": "code",
   "execution_count": null,
   "metadata": {},
   "outputs": [],
   "source": [
    "tRF_tRNA2 = pd.read_csv(unprocessed_data_location+'MINTbase.txt',sep='\\t')\n",
    "tRF_tRNA2['MINTbase Alternative IDs (GRCh37 assembly-derived)'] = tRF_tRNA2[\n",
    "    'MINTbase Alternative IDs (GRCh37 assembly-derived)'].str.split('@').str[0]\n",
    "tRF_tRNA2.rename(columns={'MINTbase Alternative IDs (GRCh37 assembly-derived)':'MINTbase tRNA name'},inplace=True)\n",
    "tRF_tRNA2 = tRF_tRNA2[['License Plate (sequence derived)','MINTbase tRNA name','Expressed (# of datasets)?','Maximum RPM']].drop_duplicates()\n",
    "tRF_tRNA2 = pd.merge(tRF_tRNA2, mintbase_tRNA_map.rename(columns={0:'MINTbase tRNA name'}), on='MINTbase tRNA name').drop(\n",
    "    columns=['MINTbase tRNA name']).rename(columns={1:':START_ID'})\n",
    "\n",
    "tRF_tRNA2['Expressed (# of datasets)?'] = tRF_tRNA2['Expressed (# of datasets)?'].str.replace(\"yes \\(\", \"\",regex=True)\n",
    "tRF_tRNA2['Expressed (# of datasets)?'] = tRF_tRNA2['Expressed (# of datasets)?'].str.replace(\"\\)\", \"\",regex=True).astype(int)\n",
    "tRF_tRNA2.rename(columns={'License Plate (sequence derived)':':END_ID'},inplace=True)\n",
    "tRF_tRNA2 = tRF_tRNA2.rename(columns={'Maximum RPM':'Maximum_RPM'})\n",
    "tRF_tRNA2['Source'] = 'MINTbase'\n",
    "tRF_tRNA2.head(n=3)"
   ]
  },
  {
   "cell_type": "code",
   "execution_count": null,
   "metadata": {},
   "outputs": [],
   "source": [
    "RNA_develop_into_RNA = pd.concat([premiRNAmiRNA, tsRNA_RNAcentral_map, tRF_tRNA, tRF_tRNA2])\n",
    "RNA_develop_into_RNA = RNA_develop_into_RNA.groupby([':START_ID',':END_ID']).agg({'Maximum_RPM': np.mean, 'Source': set}).reset_index()\n",
    "RNA_develop_into_RNA[':TYPE'] = 'develops_into'\n",
    "RNA_develop_into_RNA.to_pickle(unprocessed_edge_data_location+'RNA_develops_into_RNA.pkl')\n",
    "RNA_develop_into_RNA.head(n=3)"
   ]
  },
  {
   "cell_type": "code",
   "execution_count": null,
   "metadata": {},
   "outputs": [],
   "source": [
    "RNA_develop_from_RNA = RNA_develop_into_RNA.rename(columns={':START_ID':':END_ID',':END_ID':':START_ID'})\n",
    "RNA_develop_from_RNA[':TYPE'] = 'develops_from'\n",
    "RNA_develop_from_RNA.to_pickle(unprocessed_edge_data_location+'RNA_develops_from_RNA.pkl')\n",
    "RNA_develop_from_RNA.head(n=3)"
   ]
  },
  {
   "cell_type": "markdown",
   "metadata": {},
   "source": [
    "***\n",
    "### RNA - http://purl.obolibrary.org/obo/RO_HOM0000000 (in similarity relationship with) - RNA"
   ]
  },
  {
   "cell_type": "markdown",
   "metadata": {},
   "source": [
    "* [Rfam](http://rfamlive.xfam.org/) <br /> The Rfam database is a collection of RNA families, each represented by multiple sequence alignments, consensus secondary structures and covariance models."
   ]
  },
  {
   "cell_type": "code",
   "execution_count": null,
   "metadata": {},
   "outputs": [],
   "source": [
    "! wget https://ftp.ebi.ac.uk/pub/databases/RNAcentral/current_release/rfam/rfam_annotations.tsv.gz -O ../resources/processed_data/unprocessed_data/rfam_annotations.tsv.gz"
   ]
  },
  {
   "cell_type": "code",
   "execution_count": null,
   "metadata": {},
   "outputs": [],
   "source": [
    "rnacentral_map_rfam_human = rnacentral_map_rfam[(rnacentral_map_rfam['Organism'] == 9606)]\n",
    "\n",
    "rfam_annotations = pd.read_csv(unprocessed_data_location + 'rfam_annotations.tsv.gz', sep='\\t',names=[\n",
    "    'RNAcentral ID', \"Rfam ID\",\"Score\",\"E-value\",\"Sequence-Start\",\"Sequence-Stop\",\"Model-Start\",\"Model-Stop\",'Rfam-Model-Description'\n",
    "    ]).drop(columns=[\"E-value\",\"Sequence-Start\",\"Sequence-Stop\",\"Model-Start\",\"Model-Stop\", 'Rfam-Model-Description'])\n",
    "rfam_annotations = rfam_annotations[rfam_annotations['RNAcentral ID'].isin(rnacentral_map_rfam_human['RNAcentral ID'])]\n",
    "rfam_annotations.head(n=3)"
   ]
  },
  {
   "cell_type": "code",
   "execution_count": null,
   "metadata": {},
   "outputs": [],
   "source": [
    "edges = pd.merge(rfam_annotations,rfam_annotations,on='Rfam ID',suffixes=('_1', '_2'))\n",
    "edges = edges[edges['RNAcentral ID_1'] != edges['RNAcentral ID_2']]\n",
    "edges = edges[['RNAcentral ID_1', 'RNAcentral ID_2', 'Score_1', 'Score_2']]\n",
    "edges['Score'] = (edges['Score_1'] + edges['Score_2']) / 2\n",
    "rfam_sim = edges[['RNAcentral ID_1','RNAcentral ID_2','Score']]\n",
    "rfam_sim = rfam_sim.fillna('nan')\n",
    "rfam_sim.rename(columns={'RNAcentral ID_1':':START_ID','RNAcentral ID_2':':END_ID'},inplace=True)\n",
    "#rfam_sim = rfam_sim.groupby([':START_ID',':END_ID']).agg({'Score': np.mean}).reset_index()\n",
    "rfam_sim['Source'] = 'Rfam, RNAcentral'\n",
    "rfam_sim.head(n=3)"
   ]
  },
  {
   "cell_type": "markdown",
   "metadata": {},
   "source": [
    "* [miRBase](https://www.mirbase.org/)"
   ]
  },
  {
   "cell_type": "code",
   "execution_count": null,
   "metadata": {},
   "outputs": [],
   "source": [
    "premiRNApremiRNA = df[['ID', 'similarity', 'Source']].dropna()\n",
    "premiRNApremiRNA.head(n=3)"
   ]
  },
  {
   "cell_type": "code",
   "execution_count": null,
   "metadata": {},
   "outputs": [],
   "source": [
    "# Mapping for similar miRNA is not 1-to-1\n",
    "all(premiRNApremiRNA['similarity'].isin(rnacentral_map_human_mirbase['miRBase ID']))"
   ]
  },
  {
   "cell_type": "code",
   "execution_count": null,
   "metadata": {},
   "outputs": [],
   "source": [
    "len(premiRNApremiRNA) == len(premiRNApremiRNA['similarity'].isin(rnacentral_map_human_mirbase['miRBase ID']))"
   ]
  },
  {
   "cell_type": "markdown",
   "metadata": {},
   "source": [
    "miRNA in the column named similarity are all belonging to the Mus Musculus species."
   ]
  },
  {
   "cell_type": "code",
   "execution_count": null,
   "metadata": {},
   "outputs": [],
   "source": [
    "rfam_sim[':TYPE'] = 'in_similarity_relationship_with'\n",
    "rfam_sim_inverse = rfam_sim.rename(columns={':START_ID':':END_ID',':END_ID':':START_ID'})\n",
    "rfam_sim = pd.concat([rfam_sim,rfam_sim_inverse])\n",
    "rfam_sim['Source'] = rfam_sim['Source'].str.split(\", \")\n",
    "rfam_sim = rfam_sim.explode('Source')\n",
    "\n",
    "rfam_sim = rfam_sim.groupby([':START_ID',':END_ID']).agg({'Score': np.mean, 'Source': set}).reset_index()\n",
    "rfam_sim = rfam_sim.rename(columns={'Score':'Rfam_score'})\n",
    "rfam_sim.to_pickle(unprocessed_edge_data_location+'RNA_in_similarity_relationship_with_RNA.pkl')\n",
    "rfam_sim.head(n=3)"
   ]
  },
  {
   "cell_type": "markdown",
   "metadata": {},
   "source": [
    "***\n",
    "### RNA - http://purl.obolibrary.org/obo/RO_0002479 (has part that occurs in) - OBO\n"
   ]
  },
  {
   "cell_type": "markdown",
   "metadata": {},
   "source": [
    "* [miRBase](https://www.mirbase.org/)"
   ]
  },
  {
   "cell_type": "code",
   "execution_count": null,
   "metadata": {},
   "outputs": [],
   "source": [
    "df.mod_base.unique() # GO"
   ]
  },
  {
   "cell_type": "code",
   "execution_count": null,
   "metadata": {},
   "outputs": [],
   "source": [
    "df = df[['ID', 'mod_base', 'Source']].dropna()\n",
    "df.mod_base = 'GO_0006382'\n",
    "df"
   ]
  },
  {
   "cell_type": "code",
   "execution_count": null,
   "metadata": {},
   "outputs": [],
   "source": [
    "# Mapping for pre-miRNA is 1-to-1\n",
    "all(df['ID'].isin(rnacentral_map_human_mirbase['miRBase ID']))"
   ]
  },
  {
   "cell_type": "code",
   "execution_count": null,
   "metadata": {},
   "outputs": [],
   "source": [
    "df = pd.merge(df, rnacentral_map_human_mirbase.rename(columns={'miRBase ID':'ID'}), on='ID').drop(\n",
    "    columns=['ID']).rename(columns={'RNAcentral ID':':START_ID', 'mod_base':':END_ID'})\n",
    "df"
   ]
  },
  {
   "cell_type": "code",
   "execution_count": null,
   "metadata": {},
   "outputs": [],
   "source": [
    "df = df.groupby([':START_ID',':END_ID']).agg({'Source': set}).reset_index()\n",
    "df[':TYPE'] = 'has_part_that_occurs_in'\n",
    "df.to_pickle(unprocessed_edge_data_location+'RNA_has_part_that_occurs_in_OBO.pkl')\n",
    "df.head(n=3)"
   ]
  },
  {
   "cell_type": "markdown",
   "metadata": {},
   "source": [
    "***\n",
    "### RNA - http://purl.obolibrary.org/obo/RO_0002435 (genetically interacts with) - RNA"
   ]
  },
  {
   "cell_type": "markdown",
   "metadata": {},
   "source": [
    "* [piRBase](http://bigdata.ibp.ac.cn/piRBase/)"
   ]
  },
  {
   "cell_type": "code",
   "execution_count": null,
   "metadata": {},
   "outputs": [],
   "source": [
    "# Function to retrieve the total number of piRNAs in a cluster\n",
    "def get_total_pirnas(url):\n",
    "    response = requests.get(url)\n",
    "    if response.status_code == 200:\n",
    "        soup = BeautifulSoup(response.text, \"html.parser\")\n",
    "        piRNA_info = soup.find(\"th\", text=\"Number of piRNAs\")\n",
    "        if piRNA_info:\n",
    "            total_pirnas = piRNA_info.find_next(\"td\").text.strip()\n",
    "            return int(total_pirnas)\n",
    "    return 0\n",
    "\n",
    "# Function to fetch and parse a specific page\n",
    "def fetch_page(url, page_size):\n",
    "    payload = {\n",
    "        \"pageSize\": page_size,\n",
    "    }\n",
    "    response = requests.post(url, data=payload)\n",
    "    if response.status_code == 200:\n",
    "        try:\n",
    "            tables = pd.read_html(response.text)\n",
    "            if len(tables) > 3:\n",
    "                tables[3]['Name'] = tables[3]['Name'].str.strip()\n",
    "                return tables[3]\n",
    "            elif len(tables) > 2:\n",
    "                tables[2]['Name'] = tables[2]['Name'].str.strip()\n",
    "                return tables[2]\n",
    "        except ValueError as e:\n",
    "            print(f\"Error parsing tables: {e}\")\n",
    "            return None\n",
    "    else:\n",
    "        print(f\"Failed to fetch data. Status code: {response.status_code}\")\n",
    "        return None\n",
    "\n",
    "all_pirnas = []\n",
    "for i in range(1, 231):\n",
    "    url = \"http://bigdata.ibp.ac.cn/piRBase/clusters.php?organism=hsa&name=clus-hsa-\" + str(i)\n",
    "    print(i)\n",
    "    print(get_total_pirnas(url))\n",
    "    combined_data = fetch_page(url=url,page_size=get_total_pirnas(url))\n",
    "    all_pirnas.append(combined_data)\n",
    "\n",
    "with open(unprocessed_data_location + \"piRBase_cluster.pkl\", \"wb\") as f:\n",
    "    pickle.dump(all_pirnas, f)\n",
    "with open(unprocessed_data_location + \"piRBase_cluster.pkl\", \"rb\") as f:\n",
    "    all_pirnas = pickle.load(f)\n",
    "all_pirnas[0].head(n=3)"
   ]
  },
  {
   "cell_type": "code",
   "execution_count": null,
   "metadata": {},
   "outputs": [],
   "source": [
    "all_new = []\n",
    "for df in all_pirnas:\n",
    "    df_new = pd.merge(combined_data, rnacentral_map_human_pirbase.rename(columns={'piRBase ID':'Name'}), on='Name').drop(\n",
    "    columns=['Name','Length','Organism','Sequence']).rename(columns={'RNAcentral ID':'RNA'})\n",
    "    all_new.append(df_new)\n",
    "all_new[0].head(n=3)"
   ]
  },
  {
   "cell_type": "markdown",
   "metadata": {},
   "source": [
    "All dataframes are empty. We leave the processing code below since maybe in the future golden piRNA sequences will be clustered together."
   ]
  },
  {
   "cell_type": "code",
   "execution_count": null,
   "metadata": {},
   "outputs": [],
   "source": [
    "all_pirnas = []\n",
    "for df in all_new:\n",
    "    name_permutations = list(permutations(df['RNA'], 2))\n",
    "    df_new = pd.DataFrame(name_permutations, columns=[\"RNA1\", \"RNA2\"])\n",
    "    all_pirnas.append(df_new)\n",
    "df = pd.concat(all_pirnas).drop_duplicates()\n",
    "df['Source'] = 'piRBase'\n",
    "df.head(n=3)"
   ]
  },
  {
   "cell_type": "markdown",
   "metadata": {},
   "source": [
    "* [TAM](http://www.lirmed.com/tam2/)"
   ]
  },
  {
   "cell_type": "code",
   "execution_count": null,
   "metadata": {},
   "outputs": [],
   "source": [
    "! wget http://www.lirmed.com/tam2/Public/static/data/mirset_v9.txt -O ../resources/processed_data/unprocessed_data/mirset_v9.txt"
   ]
  },
  {
   "cell_type": "code",
   "execution_count": null,
   "metadata": {},
   "outputs": [],
   "source": [
    "with open(unprocessed_data_location+'mirset_v9.txt', 'r') as file:\n",
    "    data = file.read().rstrip()\n",
    "    \n",
    "TAM = pd.DataFrame([ ln.rstrip().split('\\t') for ln in\n",
    "    io.StringIO(data).readlines() ]).fillna('')\n",
    "\n",
    "miRNA_miRNA=TAM[(TAM[0].str.contains(\"luster\"))]\n",
    "miRNA_miRNA[1] = miRNA_miRNA[1].str.lower()\n",
    "miRNA_miRNA=miRNA_miRNA.dropna(axis=1, how='all')\n",
    "miRNA_miRNA=miRNA_miRNA.drop(columns=[0,1])\n",
    "miRNA_miRNA['merged'] = miRNA_miRNA[miRNA_miRNA.columns[1:]].apply(\n",
    "    lambda x: ','.join(x.dropna().astype(str)),\n",
    "    axis=1\n",
    ")\n",
    "miRNA_miRNA=miRNA_miRNA[[2,'merged']]\n",
    "miRNA_miRNA['merged'] = miRNA_miRNA.merged.str.split(',')\n",
    "miRNA_miRNA = miRNA_miRNA.explode('merged')\n",
    "miRNA_miRNA = miRNA_miRNA[miRNA_miRNA.merged != '']\n",
    "miRNA_miRNA.head(n=3)"
   ]
  },
  {
   "cell_type": "code",
   "execution_count": null,
   "metadata": {},
   "outputs": [],
   "source": [
    "# Mapping for miRNA is 1-to-1\n",
    "all(miRNA_miRNA[2].isin(rnacentral_map_human['DB Description']))"
   ]
  },
  {
   "cell_type": "code",
   "execution_count": null,
   "metadata": {},
   "outputs": [],
   "source": [
    "# These miRNAs are all premiRNAs\n",
    "rnacentral_map_human[rnacentral_map_human['DB Description'].isin(miRNA_miRNA[2])]['RNA category'].unique()"
   ]
  },
  {
   "cell_type": "code",
   "execution_count": null,
   "metadata": {},
   "outputs": [],
   "source": [
    "# Mapping for interacting miRNA is 1-to-1\n",
    "all(miRNA_miRNA['merged'].isin(rnacentral_map_human['DB Description']))"
   ]
  },
  {
   "cell_type": "code",
   "execution_count": null,
   "metadata": {},
   "outputs": [],
   "source": [
    "# Interacting miRNAs are all premiRNAs\n",
    "rnacentral_map_human[rnacentral_map_human['DB Description'].isin(miRNA_miRNA['merged'])]['RNA category'].unique()"
   ]
  },
  {
   "cell_type": "code",
   "execution_count": null,
   "metadata": {},
   "outputs": [],
   "source": [
    "miRNA_miRNA = pd.merge(miRNA_miRNA, rnacentral_map_human.rename(columns={'DB Description':2}), on=2).drop(\n",
    "    columns=[2]).rename(columns={'RNAcentral ID':'RNA1'})\n",
    "miRNA_miRNA = pd.merge(miRNA_miRNA, rnacentral_map_human.rename(columns={'DB Description':'merged'}), on='merged').drop(\n",
    "    columns=['merged']).rename(columns={'RNAcentral ID':'RNA2'})\n",
    "miRNA_miRNA = miRNA_miRNA[['RNA1', 'RNA2']]\n",
    "\n",
    "miRNA_miRNA = miRNA_miRNA.apply(lambda x: sorted(x), axis=1, result_type='expand').rename(columns={0:':START_ID',1:':END_ID'})\n",
    "#miRNA_miRNA['Number_of_experiments'] = (miRNA_miRNA.groupby(miRNA_miRNA.columns.tolist()).transform('size'))\n",
    "#miRNA_miRNA = miRNA_miRNA[miRNA_miRNA['Number_of_experiments'].notna()].drop_duplicates()\n",
    "\n",
    "miRNA_miRNA['Source'] = 'TAM'\n",
    "miRNA_miRNA.head(n=3)"
   ]
  },
  {
   "cell_type": "code",
   "execution_count": null,
   "metadata": {},
   "outputs": [],
   "source": [
    "miRNA_miRNA[':TYPE'] = 'genetically_interacts_with'\n",
    "miRNA_miRNA_inv = miRNA_miRNA.rename(columns={':START_ID':':END_ID',':END_ID':':START_ID'})\n",
    "miRNA_miRNA = pd.concat([miRNA_miRNA,miRNA_miRNA_inv])\n",
    "miRNA_miRNA = miRNA_miRNA.groupby([':START_ID',':END_ID']).agg({'Source': set}).reset_index()\n",
    "miRNA_miRNA.to_pickle(unprocessed_edge_data_location+'RNA_genetically_interacts_with_RNA.pkl')\n",
    "miRNA_miRNA.head(n=3)"
   ]
  },
  {
   "cell_type": "markdown",
   "metadata": {},
   "source": [
    "***\n",
    "### Gene - http://purl.obolibrary.org/obo/RO_0002435 (genetically interacts with) - Gene"
   ]
  },
  {
   "cell_type": "markdown",
   "metadata": {},
   "source": [
    "* [GeneMANIA](http://genemania.org/) <br/>\n",
    "GeneMANIA provides genes that are related, using a very large set of functional association data. Association data include protein and genetic interactions, pathways, co-expression, co-localization and protein domain similarity."
   ]
  },
  {
   "cell_type": "code",
   "execution_count": null,
   "metadata": {},
   "outputs": [],
   "source": [
    "data_downloader('http://genemania.org/data/current/Homo_sapiens.COMBINED/COMBINED.DEFAULT_NETWORKS.BP_COMBINING.txt', unprocessed_data_location)"
   ]
  },
  {
   "cell_type": "code",
   "execution_count": null,
   "metadata": {},
   "outputs": [],
   "source": [
    "gene_gene = pd.read_csv(unprocessed_data_location + \"COMBINED.DEFAULT_NETWORKS.BP_COMBINING.txt\", sep='\\t')\n",
    "gene_gene = pd.merge(gene_gene, ensembl_entrezGene_map.rename(columns={0:'Gene_A'}), on='Gene_A')\n",
    "gene_gene = pd.merge(gene_gene, ensembl_entrezGene_map.rename(columns={0:'Gene_B'}), on='Gene_B')\n",
    "gene_gene[['1_x','1_y','Weight']].head(n=3)"
   ]
  },
  {
   "cell_type": "code",
   "execution_count": null,
   "metadata": {},
   "outputs": [],
   "source": [
    "gene_gene['Source'] = 'GeneMANIA' \n",
    "gene_gene = gene_gene.rename(columns={'1_x':':START_ID','1_y':':END_ID'})\n",
    "gene_gene[':TYPE'] = 'genetically_interacts_with'\n",
    "gene_gene_inv = gene_gene.rename(columns={':START_ID':':END_ID',':END_ID':':START_ID'})\n",
    "gene_gene = pd.concat([gene_gene,gene_gene_inv])\n",
    "gene_gene = gene_gene.groupby([':START_ID',':END_ID']).agg({'Source': set, 'Weight': np.mean}).reset_index()\n",
    "gene_gene = gene_gene.rename(columns={'Weight':'GeneMANIA_weight'})\n",
    "gene_gene.to_pickle(unprocessed_edge_data_location+'gene_genetically_interacts_with_gene.pkl')\n",
    "gene_gene.head(n=3)"
   ]
  },
  {
   "cell_type": "markdown",
   "metadata": {},
   "source": [
    "***\n",
    "### RNA - http://purl.obolibrary.org/obo/RO_HOM0000001 (in homology relationship with) - RNA\n"
   ]
  },
  {
   "cell_type": "markdown",
   "metadata": {},
   "source": [
    "* [TAM](http://www.lirmed.com/tam2/)"
   ]
  },
  {
   "cell_type": "code",
   "execution_count": null,
   "metadata": {},
   "outputs": [],
   "source": [
    "! wget http://www.lirmed.com/tam2/Public/static/data/mirset_v9.txt -O ../resources/processed_data/unprocessed_data/mirset_v9.txt"
   ]
  },
  {
   "cell_type": "code",
   "execution_count": null,
   "metadata": {},
   "outputs": [],
   "source": [
    "#with open(unprocessed_data_location+'mirset_v9.txt', 'r') as file:\n",
    "#    data = file.read().rstrip()\n",
    "    \n",
    "#TAM = pd.DataFrame([ ln.rstrip().split('\\t') for ln in\n",
    "#    io.StringIO(data).readlines() ]).fillna('')\n",
    "\n",
    "miRNA_miRNA=TAM[TAM[0].str.contains(\"amily\")]\n",
    "miRNA_miRNA[1] = miRNA_miRNA[1].str.lower()\n",
    "miRNA_miRNA=miRNA_miRNA.dropna(axis=1, how='all')\n",
    "miRNA_miRNA=miRNA_miRNA.drop(columns=[0,1])\n",
    "miRNA_miRNA['merged'] = miRNA_miRNA[miRNA_miRNA.columns[1:]].apply(\n",
    "    lambda x: ','.join(x.dropna().astype(str)),\n",
    "    axis=1\n",
    ")\n",
    "miRNA_miRNA=miRNA_miRNA[[2,'merged']]\n",
    "\n",
    "miRNA_miRNA['merged'] = miRNA_miRNA.merged.str.split(',')\n",
    "miRNA_miRNA = miRNA_miRNA.explode('merged')\n",
    "miRNA_miRNA = miRNA_miRNA[miRNA_miRNA.merged != '']\n",
    "\n",
    "# Mapping for miRNA is 1-to-1\n",
    "print(all(miRNA_miRNA[2].isin(rnacentral_map_human['DB Description'])))\n",
    "# These miRNAs are all premiRNAs\n",
    "print(rnacentral_map_human[rnacentral_map_human['DB Description'].isin(miRNA_miRNA[2])]['RNA category'].unique())\n",
    "# Mapping for interacting miRNA is 1-to-1\n",
    "print(all(miRNA_miRNA['merged'].isin(rnacentral_map_human['DB Description'])))\n",
    "# These miRNAs are all premiRNAs\n",
    "print(rnacentral_map_human[rnacentral_map_human['DB Description'].isin(miRNA_miRNA['merged'])]['RNA category'].unique())"
   ]
  },
  {
   "cell_type": "code",
   "execution_count": null,
   "metadata": {},
   "outputs": [],
   "source": [
    "# According to miRBase, these miRNA labels belong all to dead hairpin entries\n",
    "miRNA_miRNA[~miRNA_miRNA[2].isin(rnacentral_map_human['DB Description'])].head(n=3)"
   ]
  },
  {
   "cell_type": "code",
   "execution_count": null,
   "metadata": {},
   "outputs": [],
   "source": [
    "miRNA_miRNA = pd.merge(miRNA_miRNA, rnacentral_map_human.rename(columns={'DB Description':2}), on=2).drop(\n",
    "    columns=[2]).rename(columns={'RNAcentral ID':'RNA1'})\n",
    "miRNA_miRNA = pd.merge(miRNA_miRNA, rnacentral_map_human.rename(columns={'DB Description':'merged'}), on='merged').drop(\n",
    "    columns=['merged']).rename(columns={'RNAcentral ID':'RNA2'})\n",
    "miRNA_miRNA = miRNA_miRNA[['RNA1', 'RNA2']]\n",
    "\n",
    "miRNA_miRNA = miRNA_miRNA.apply(lambda x: sorted(x), axis=1, result_type='expand').rename(columns={0:'RNA1',1:'RNA2'})\n",
    "#miRNA_miRNA['Number_of_experiments'] = (miRNA_miRNA.groupby(miRNA_miRNA.columns.tolist()).transform('size'))\n",
    "#miRNA_miRNA = miRNA_miRNA[miRNA_miRNA['Number_of_experiments'].notna()].drop_duplicates()\n",
    "\n",
    "miRNA_miRNA['Source'] = 'TAM'\n",
    "miRNA_miRNA = miRNA_miRNA.rename(columns={'RNA1':':START_ID','RNA2':':END_ID'})\n",
    "miRNA_miRNA.head(n=3)"
   ]
  },
  {
   "cell_type": "code",
   "execution_count": null,
   "metadata": {},
   "outputs": [],
   "source": [
    "miRNA_miRNA[':TYPE'] = 'in_homology_relationship_with'\n",
    "miRNA_miRNA_inv = miRNA_miRNA.rename(columns={':START_ID':':END_ID',':END_ID':':START_ID'})\n",
    "miRNA_miRNA = pd.concat([miRNA_miRNA,miRNA_miRNA_inv])\n",
    "miRNA_miRNA = miRNA_miRNA.groupby([':START_ID',':END_ID']).agg({'Source': set}).reset_index()\n",
    "miRNA_miRNA.to_pickle(unprocessed_edge_data_location+'RNA_in_homology_relationship_with_RNA.pkl')\n",
    "miRNA_miRNA.head(n=3)"
   ]
  },
  {
   "cell_type": "markdown",
   "metadata": {},
   "source": [
    "***\n",
    "### RNA - http://purl.obolibrary.org/obo/RO_0002450 (directly positively regulates activity of) - RNA"
   ]
  },
  {
   "cell_type": "markdown",
   "metadata": {},
   "source": [
    "* [TarBase](https://dianalab.e-ce.uth.gr/tarbasev9) <br />  DIANA-TarBase v8 is a reference database devoted to the indexing of experimentally supported microRNA (miRNA) targets on protein-coding transcripts."
   ]
  },
  {
   "cell_type": "code",
   "execution_count": null,
   "metadata": {},
   "outputs": [],
   "source": [
    "data_downloader('https://dianalab.e-ce.uth.gr/tarbasev9/data/Homo_sapiens_TarBase-v9.tsv.gz', unprocessed_data_location)"
   ]
  },
  {
   "cell_type": "code",
   "execution_count": null,
   "metadata": {},
   "outputs": [],
   "source": [
    "miRNA_RNA = pd.read_csv(unprocessed_data_location + 'Homo_sapiens_TarBase-v9.tsv', sep=\"\\t\", dtype={'article_pubmed_id':'string'})[[\n",
    "    'mirna_id', 'transcript_id', 'experimental_method', 'regulation', 'tissue', 'cell_line', 'article_pubmed_id', 'microt_score']]  \n",
    "\n",
    "# microT score >=0.7 is a reliable threshold according to TarBase\n",
    "miRNA_RNA = miRNA_RNA[miRNA_RNA['microt_score'] >= 0.7]\n",
    "miRNA_RNA['cell_line'] = miRNA_RNA['cell_line'].fillna(miRNA_RNA['tissue'])\n",
    "miRNA_RNA.drop(columns=['tissue'], inplace=True)\n",
    "miRNA_RNA['cell_line'] = miRNA_RNA['cell_line'].str.lower()\n",
    "miRNA_RNA['cell_line'] = miRNA_RNA['cell_line'].str.replace(\"-\",\"\").str.replace(\n",
    "    \"_\",\" \").str.replace(\"  \",\" \").str.replace(' cell', '').str.replace(' cells', '')\n",
    "miRNA_RNA['experimental_method'] = miRNA_RNA['experimental_method'].str.lower()\n",
    "miRNA_RNA['article_pubmed_id'] = pd.to_numeric(miRNA_RNA['article_pubmed_id'], errors='coerce')\n",
    "miRNA_RNA['article_pubmed_id'] = miRNA_RNA['article_pubmed_id'].replace(\"<NA>\", np.nan)\n",
    "miRNA_RNA = pd.merge(miRNA_RNA, location_map, right_on='0_y', left_on='cell_line', how='left')\n",
    "miRNA_RNA['0_x'] = miRNA_RNA['0_x'].fillna(miRNA_RNA['cell_line'])\n",
    "miRNA_RNA = miRNA_RNA.drop(columns=['0_y', 'cell_line'])\n",
    "miRNA_RNA = miRNA_RNA.rename(columns={'0_x':'Location'})\n",
    "\n",
    "miRNA_RNA = pd.merge(miRNA_RNA, method_map, right_on='0_y', left_on='experimental_method', how='left')\n",
    "miRNA_RNA['0_x'] = miRNA_RNA['0_x'].fillna(miRNA_RNA['experimental_method'])\n",
    "miRNA_RNA = miRNA_RNA.drop(columns=['0_y', 'experimental_method'])\n",
    "miRNA_RNA = miRNA_RNA.rename(columns={'0_x':'Method','article_pubmed_id':'PubMedID'})\n",
    "\n",
    "miRNA_RNA.head(n=3)"
   ]
  },
  {
   "cell_type": "code",
   "execution_count": null,
   "metadata": {},
   "outputs": [],
   "source": [
    "# miRNAs are all 1-to-1 mapped\n",
    "all(miRNA_RNA['mirna_id'].isin(rnacentral_map_human_mirbase['miRBase ID']))"
   ]
  },
  {
   "cell_type": "code",
   "execution_count": null,
   "metadata": {},
   "outputs": [],
   "source": [
    "miRNA_RNA = pd.merge(miRNA_RNA.rename(columns={'mirna_id':'miRBase ID'}),\n",
    "                     rnacentral_map_human_mirbase, on='miRBase ID').drop(\n",
    "                         columns=['miRBase ID']).rename(columns={'RNAcentral ID':'RNA1'})"
   ]
  },
  {
   "cell_type": "code",
   "execution_count": null,
   "metadata": {},
   "outputs": [],
   "source": [
    "# Ensembl IDs not present in our look-up tables are all belonging to retired or novel transcripts\n",
    "miRNA_RNA[~miRNA_RNA['transcript_id'].isin(ensembl_entrezTranscript_map[1])]['transcript_id'].unique()[:3]"
   ]
  },
  {
   "cell_type": "code",
   "execution_count": null,
   "metadata": {},
   "outputs": [],
   "source": [
    "miRNA_RNA_rnacentral = pd.merge(miRNA_RNA, rnacentral_map_human_ensembl.rename(columns={\n",
    "    'Ensembl transcript ID':'transcript_id'}), on='transcript_id').drop(columns=['Ensembl Gene ID','transcript_id'])\n",
    "miRNA_RNA_rnacentral = miRNA_RNA_rnacentral.rename(columns={'RNAcentral ID':'RNA2'})\n",
    "\n",
    "miRNA_RNA_rnacentral = miRNA_RNA_rnacentral.groupby(\n",
    "    ['RNA1', 'RNA2', 'Method', 'regulation','Location', 'PubMedID']\n",
    ").agg({'microt_score': list}).reset_index()\n",
    "#miRNA_RNA_rnacentral[\"Number_of_experiments\"] = miRNA_RNA_rnacentral[\"microt_score\"].apply(len)\n",
    "miRNA_RNA_rnacentral[\"microT_score\"] = miRNA_RNA_rnacentral[\"microt_score\"].apply(np.mean)\n",
    "miRNA_RNA_rnacentral = miRNA_RNA_rnacentral.drop(columns=[\"microt_score\"])\n",
    "\n",
    "miRNA_RNA_rnacentral['Source'] = 'TarBase, microT, miRNet'\n",
    "miRNA_RNA_rnacentral.head(n=3)"
   ]
  },
  {
   "cell_type": "code",
   "execution_count": null,
   "metadata": {},
   "outputs": [],
   "source": [
    "miRNA_RNA_ensembl = pd.merge(miRNA_RNA, ensembl_entrezTranscript_map.rename(\n",
    "    columns={1:'transcript_id'}), on='transcript_id').drop(columns=[0,2,3,4,5])\n",
    "miRNA_RNA_ensembl = miRNA_RNA_ensembl[~miRNA_RNA_ensembl['transcript_id'].isin(rnacentral_map_human_ensembl['Ensembl transcript ID'])]\n",
    "miRNA_RNA_ensembl = miRNA_RNA_ensembl.rename(columns={'transcript_id':'RNA2'})\n",
    "\n",
    "miRNA_RNA_ensembl = miRNA_RNA_ensembl.groupby(\n",
    "    ['RNA1', 'RNA2', 'Method', 'regulation', 'Location', 'PubMedID']\n",
    ").agg({'microt_score': list}).reset_index()\n",
    "#miRNA_RNA_ensembl[\"Number_of_experiments\"] = miRNA_RNA_ensembl[\"microt_score\"].apply(len)\n",
    "miRNA_RNA_ensembl[\"microT_score\"] = miRNA_RNA_ensembl[\"microt_score\"].apply(np.mean)\n",
    "miRNA_RNA_ensembl = miRNA_RNA_ensembl.drop(columns=[\"microt_score\"])\n",
    "\n",
    "miRNA_RNA_ensembl['Source'] = 'TarBase, microT, miRNet'\n",
    "miRNA_RNA_ensembl.head(n=3)"
   ]
  },
  {
   "cell_type": "code",
   "execution_count": null,
   "metadata": {},
   "outputs": [],
   "source": [
    "miRNA_RNA_rnacentral_pos = miRNA_RNA_rnacentral[miRNA_RNA_rnacentral['regulation'] == \"Positive\"].drop(columns=['regulation'])\n",
    "miRNA_RNA_rnacentral_pos.head(n=3) # Empty"
   ]
  },
  {
   "cell_type": "code",
   "execution_count": null,
   "metadata": {},
   "outputs": [],
   "source": [
    "miRNA_RNA_ensembl_pos = miRNA_RNA_ensembl[miRNA_RNA_ensembl['regulation'] == \"Positive\"].drop(columns=['regulation'])\n",
    "miRNA_RNA_ensembl_pos.head(n=3)"
   ]
  },
  {
   "cell_type": "code",
   "execution_count": null,
   "metadata": {},
   "outputs": [],
   "source": [
    "miRNA_RNA_pos = pd.concat([miRNA_RNA_rnacentral_pos, miRNA_RNA_ensembl_pos]).rename(columns={'RNA1':':START_ID','RNA2':':END_ID'})\n",
    "\n",
    "miRNA_RNA_pos['Source'] = miRNA_RNA_pos['Source'].str.split(\", \")\n",
    "miRNA_RNA_pos = miRNA_RNA_pos.explode('Source')\n",
    "miRNA_RNA_pos = miRNA_RNA_pos.groupby([':START_ID',':END_ID']).agg({'Method': set, 'Location': set, 'PubMedID': set,\n",
    "                                                                    'microT_score':np.mean, 'Source': set}).reset_index()\n",
    "\n",
    "miRNA_RNA_pos[':TYPE'] = 'directly_positively_regulates_activity_of'\n",
    "miRNA_RNA_pos.to_pickle(unprocessed_edge_data_location+'RNA_directly_positively_regulates_activity_of_RNA.pkl')\n",
    "miRNA_RNA_pos.head(n=3)"
   ]
  },
  {
   "cell_type": "markdown",
   "metadata": {},
   "source": [
    "***\n",
    "### RNA - http://purl.obolibrary.org/obo/RO_0002449 (directly negatively regulates activity of) - RNA"
   ]
  },
  {
   "cell_type": "markdown",
   "metadata": {},
   "source": [
    "* [TarBase](https://dianalab.e-ce.uth.gr/tarbasev9)"
   ]
  },
  {
   "cell_type": "code",
   "execution_count": null,
   "metadata": {},
   "outputs": [],
   "source": [
    "miRNA_RNA_rnacentral_neg = miRNA_RNA_rnacentral[miRNA_RNA_rnacentral['regulation'] == \"Negative\"].drop(columns=['regulation'])\n",
    "miRNA_RNA_rnacentral_neg.head(n=3)"
   ]
  },
  {
   "cell_type": "code",
   "execution_count": null,
   "metadata": {},
   "outputs": [],
   "source": [
    "miRNA_RNA_ensembl_neg = miRNA_RNA_ensembl[miRNA_RNA_ensembl['regulation'] == \"Negative\"].drop(columns=['regulation'])\n",
    "miRNA_RNA_ensembl_neg.head(n=3)"
   ]
  },
  {
   "cell_type": "code",
   "execution_count": null,
   "metadata": {},
   "outputs": [],
   "source": [
    "miRNA_RNA_neg = pd.concat([miRNA_RNA_rnacentral_neg, miRNA_RNA_ensembl_neg]).rename(columns={'RNA1':':START_ID','RNA2':':END_ID'})\n",
    "\n",
    "miRNA_RNA_neg['Source'] = miRNA_RNA_neg['Source'].str.split(\", \")\n",
    "miRNA_RNA_neg = miRNA_RNA_neg.explode('Source')\n",
    "miRNA_RNA_neg = miRNA_RNA_neg.groupby([':START_ID',':END_ID']).agg({'Method': set, 'Location': set, 'PubMedID': set,\n",
    "                                                                    'microT_score':np.mean, 'Source': set}).reset_index()\n",
    "\n",
    "miRNA_RNA_neg[':TYPE'] = 'directly_negatively_regulates_activity_of'\n",
    "miRNA_RNA_neg.to_pickle(unprocessed_edge_data_location+'RNA_directly_negatively_regulates_activity_of_RNA.pkl')\n",
    "miRNA_RNA_neg.head(n=3)"
   ]
  },
  {
   "cell_type": "markdown",
   "metadata": {},
   "source": [
    "***\n",
    "### RNA - http://purl.obolibrary.org/obo/RO_0002448 (directly regulates activity of) - RNA\n"
   ]
  },
  {
   "cell_type": "markdown",
   "metadata": {},
   "source": [
    "* [TargetScan](https://www.targetscan.org/vert_80/) <br /> TargetScan predicts biological targets of miRNAs by searching for the presence of conserved 8mer, 7mer, and 6mer sites that match the seed region of each miRNA. "
   ]
  },
  {
   "cell_type": "code",
   "execution_count": null,
   "metadata": {},
   "outputs": [],
   "source": [
    "!wget https://www.targetscan.org/vert_80/vert_80_data_download/Predicted_Targets_Context_Scores.default_predictions.txt.zip -O ../resources/processed_data/unprocessed_data/Predicted_Targets_Context_Scores.default_predictions.txt.zip"
   ]
  },
  {
   "cell_type": "code",
   "execution_count": null,
   "metadata": {},
   "outputs": [],
   "source": [
    "miRNA_RNA = pd.read_csv(unprocessed_data_location+'Predicted_Targets_Context_Scores.default_predictions.txt.zip', sep='\\t')\n",
    "miRNA_RNA = miRNA_RNA[miRNA_RNA['Gene Tax ID'] == 9606]\n",
    "\n",
    "# From TargetScan: The context++ score (CS) for a specific site is the sum of the contribution of 14 features (Agarwal et al., 2015)\n",
    "# including site type, supplementary pairing, local AU, minimum distance, and PCT (probability of conserved targeting)\n",
    "miRNA_RNA.drop(columns=['Gene ID','Gene Symbol','Gene Tax ID', 'Site Type', 'UTR_start', 'UTR end', 'context++ score',\n",
    "                         'context++ score percentile', 'weighted context++ score percentile', 'Predicted relative KD'], inplace=True)\n",
    "\n",
    "# Targets with lowest context+ scores are the most representative ones\n",
    "print(miRNA_RNA['weighted context++ score'].min())\n",
    "\n",
    "miRNA_RNA['Transcript ID'] = miRNA_RNA['Transcript ID'].str.split('.').str[0]\n",
    "miRNA_RNA['miRNA'] = miRNA_RNA['miRNA'].str.split('.').str[0]\n",
    "\n",
    "print(miRNA_RNA[~miRNA_RNA['Transcript ID'].str.startswith('ENST')]['Transcript ID'].unique())\n",
    "\n",
    "# CDR1as is NCBI entrez 286411\n",
    "miRNA_RNA = miRNA_RNA[~((miRNA_RNA['Transcript ID'] == 'CDR1as') & miRNA_RNA.duplicated())]\n",
    "cdr1as_transcripts = ', '.join(list(ensembl_entrezTranscript_map[ensembl_entrezTranscript_map[0] == 286411][1]))\n",
    "miRNA_RNA.loc[miRNA_RNA['Transcript ID'] == 'CDR1as', 'Transcript ID'] = cdr1as_transcripts\n",
    "miRNA_RNA['Transcript ID'] = miRNA_RNA['Transcript ID'].str.split(', ')\n",
    "miRNA_RNA = miRNA_RNA.explode('Transcript ID')\n",
    "\n",
    "print(all(miRNA_RNA['miRNA'].isin(rnacentral_map_human['DB Description'])))\n",
    "miRNA_RNA_miRNAnotInRNAcentral3p = miRNA_RNA[~miRNA_RNA['miRNA'].isin(rnacentral_map_human['DB Description'])]\n",
    "miRNA_RNA_miRNAnotInRNAcentral5p = miRNA_RNA[~miRNA_RNA['miRNA'].isin(rnacentral_map_human['DB Description'])]\n",
    "miRNA_RNA_miRNAnotInRNAcentral5p['miRNA'] = miRNA_RNA_miRNAnotInRNAcentral5p['miRNA'].astype(str) + '-3p'\n",
    "miRNA_RNA_miRNAnotInRNAcentral3p['miRNA'] = miRNA_RNA_miRNAnotInRNAcentral3p['miRNA'].astype(str) + '-5p'\n",
    "miRNA_RNA_miRNAnotInRNAcentral = pd.concat([miRNA_RNA_miRNAnotInRNAcentral3p, miRNA_RNA_miRNAnotInRNAcentral5p])\n",
    "miRNA_RNA_miRNAnotInRNAcentral = pd.merge(miRNA_RNA_miRNAnotInRNAcentral, rnacentral_map_human.rename(\n",
    "    columns={'DB Description':'miRNA'}), on='miRNA').drop(columns=['miRNA']).rename(columns={'RNAcentral ID':'RNA1'})\n",
    "\n",
    "miRNA_RNA = pd.merge(miRNA_RNA, rnacentral_map_human.rename(columns={'DB Description':'miRNA'}), on='miRNA')\n",
    "miRNA_RNA = pd.concat([miRNA_RNA.rename(columns={'RNAcentral ID':'RNA1'}),\n",
    "                       miRNA_RNA_miRNAnotInRNAcentral]).drop(columns=['DB', 'Organism', 'RNA category'])\n",
    "miRNA_RNA = miRNA_RNA.fillna('nan')\n",
    "miRNA_RNA = miRNA_RNA.groupby(['Transcript ID', 'RNA1']).agg({'weighted context++ score': list}).reset_index()\n",
    "#miRNA_RNA['Number_of_experiments_from_TargetScan'] = miRNA_RNA['weighted context++ score'].apply(len)\n",
    "miRNA_RNA['Weighted_CS_score'] = miRNA_RNA['weighted context++ score'].apply(np.mean)\n",
    "miRNA_RNA = miRNA_RNA.drop(columns=['weighted context++ score'])\n",
    "\n",
    "miRNA_RNA['Source'] = 'TargetScan'\n",
    "\n",
    "miRNA_RNAcentral = pd.merge(miRNA_RNA, rnacentral_map_human_ensembl.rename(columns={\n",
    "    'Ensembl transcript ID': 'Transcript ID'})).drop(columns=['Ensembl Gene ID']).rename(\n",
    "        columns={'RNAcentral ID':'RNA2'})\n",
    "\n",
    "miRNA_RNA_ensembl = miRNA_RNA[~miRNA_RNA['Transcript ID'].isin(miRNA_RNAcentral['Transcript ID'])]\n",
    "miRNA_RNA_ensembl = miRNA_RNA_ensembl.rename(columns={'Transcript ID':'RNA2'})\n",
    "\n",
    "miRNA_RNAcentral = miRNA_RNAcentral.drop(columns=['Transcript ID'])\n",
    "\n",
    "print(miRNA_RNAcentral.head(n=3))\n",
    "print(miRNA_RNA_ensembl.head(n=3))\n",
    "\n",
    "RNA_directly_regulates_activity_of_RNA_1 = pd.concat([miRNA_RNAcentral, miRNA_RNA_ensembl])\n",
    "RNA_directly_regulates_activity_of_RNA_1.rename(columns={'RNA1':':START_ID','RNA2':':END_ID'},inplace=True)\n",
    "RNA_directly_regulates_activity_of_RNA_1.head(n=3)"
   ]
  },
  {
   "cell_type": "markdown",
   "metadata": {},
   "source": [
    "* [miRDB](https://mirdb.org/index.html) <br />  miRDB is an online database for miRNA target prediction and functional annotations. All the targets in miRDB were predicted by a bioinformatics tool, MirTarget, which was developed by analyzing thousands of miRNA-target interactions from high-throughput sequencing experiments."
   ]
  },
  {
   "cell_type": "code",
   "execution_count": null,
   "metadata": {},
   "outputs": [],
   "source": [
    "data_downloader('https://mirdb.org/download/miRDB_v6.0_prediction_result.txt.gz', unprocessed_data_location)"
   ]
  },
  {
   "cell_type": "code",
   "execution_count": null,
   "metadata": {},
   "outputs": [],
   "source": [
    "miRNA_mRNA2 = pd.read_csv(unprocessed_data_location+'miRDB_v6.0_prediction_result.txt', sep='\\t', names=['RNA1', 'RNA2', 'score'])\n",
    "# From miRDB:\n",
    "# All the predicted targets have target prediction scores between 50 - 100.\n",
    "# These scores are assigned by the new computational target prediction algorithm.\n",
    "# The higher the score, the more confidence we have in this prediction.\n",
    "# That is why the search result is ordered by prediction score.\n",
    "# In our experience, a predicted target with prediction score > 80 is most likely to be real.\n",
    "# If the score is below 60, you need to be cautious and it is recommended to have other supporting evidence as well.  \n",
    "miRNA_mRNA2 = miRNA_mRNA2[miRNA_mRNA2['score'] > 80]\n",
    "\n",
    "print(all(miRNA_mRNA2['RNA1'].isin(rnacentral_map_human['DB Description'])))\n",
    "# Sequences not in RNAcentral are all belonging to non-human miRNAs\n",
    "print(miRNA_mRNA2[~miRNA_mRNA2['RNA1'].isin(rnacentral_map_human['DB Description'])]['RNA1'].str[:3].unique())\n",
    "miRNA_mRNA2 = pd.merge(miRNA_mRNA2, rnacentral_map_human.rename(columns={'DB Description':'RNA1'}), on='RNA1').drop(\n",
    "    columns=['RNA1']).rename(columns={'RNAcentral ID':'RNA1'})\n",
    "\n",
    "miRNA_mRNA2 = miRNA_mRNA2.fillna('nan')\n",
    "miRNA_mRNA2 = miRNA_mRNA2.groupby(['RNA1', 'RNA2']).agg({'score': list}).reset_index()\n",
    "#miRNA_mRNA2['Number_of_experiments'] = miRNA_mRNA2['score'].apply(len)\n",
    "miRNA_mRNA2['miRDB_score'] = miRNA_mRNA2['score'].apply(np.mean)\n",
    "miRNA_mRNA2 = miRNA_mRNA2.drop(columns=['score'])\n",
    "miRNA_mRNA2['Source'] = 'miRDB'\n",
    "\n",
    "RNA_directly_regulates_activity_of_RNA_2 = pd.merge(miRNA_mRNA2, rnacentral_map_human_refseq[['RNAcentral ID','RefSeq ID']],\n",
    "                                                    left_on='RNA2', right_on='RefSeq ID').drop(columns=['RefSeq ID', 'RNA2'])\n",
    "\n",
    "RNA_directly_regulates_activity_of_RNA_2.rename(columns={'RNA1':':START_ID','RNAcentral ID':':END_ID'},inplace=True)\n",
    "RNA_directly_regulates_activity_of_RNA_2.head(n=3)"
   ]
  },
  {
   "cell_type": "markdown",
   "metadata": {},
   "source": [
    "* [miRecords](http://c1.accurascience.com/miRecords/download_data.php?v=4) <br />  miRecords is a resource for animal miRNA-target interactions."
   ]
  },
  {
   "cell_type": "code",
   "execution_count": null,
   "metadata": {},
   "outputs": [],
   "source": [
    "!wget http://c1.accurascience.com/miRecords/download_data.php?v=4 -O ../resources/processed_data/unprocessed_data/download_data.php?v=4.csv"
   ]
  },
  {
   "cell_type": "code",
   "execution_count": null,
   "metadata": {},
   "outputs": [],
   "source": [
    "miRNA_mRNA2 = pd.read_excel(unprocessed_data_location+\"download_data.php?v=4.csv\")\n",
    "\n",
    "# We keep only Homo sapiens rows\n",
    "miRNA_mRNA2 = miRNA_mRNA2[miRNA_mRNA2['Target gene_species_scientific'].str.contains(\"apiens\")]\n",
    "miRNA_mRNA2 = miRNA_mRNA2[miRNA_mRNA2['miRNA_species'].str.contains(\"apiens\")]\n",
    "miRNA_mRNA2['Target gene_Refseq_acc']= miRNA_mRNA2['Target gene_Refseq_acc'].str.split(\".\").str[0]\n",
    "miRNA_mRNA2.rename(columns={'Target gene_Refseq_acc': 'RNA2', 'miRNA_mature_ID': 'RNA1'}, inplace=True)\n",
    "miRNA_mRNA2.drop(columns=['Target gene_species_scientific','Target gene_name','miRNA_species'], inplace=True)\n",
    "miRNA_mRNA2['RNA1'] = miRNA_mRNA2['RNA1'].str.replace(\"[\",\"\")\n",
    "miRNA_mRNA2['RNA1'] = miRNA_mRNA2['RNA1'].str.replace(\"]\",\"\")\n",
    "\n",
    "print(all(miRNA_mRNA2['RNA1'].isin(rnacentral_map_human['DB Description'])))\n",
    "print(miRNA_mRNA2[~miRNA_mRNA2['RNA1'].isin(rnacentral_map_human['DB Description'])]['RNA1'].str[:3].unique())\n",
    "miRNA_RNA_miRNAnotInRNAcentral3p = miRNA_mRNA2[~miRNA_mRNA2['RNA1'].isin(rnacentral_map_human['DB Description'])]\n",
    "miRNA_RNA_miRNAnotInRNAcentral5p = miRNA_mRNA2[~miRNA_mRNA2['RNA1'].isin(rnacentral_map_human['DB Description'])]\n",
    "miRNA_RNA_miRNAnotInRNAcentral5p['RNA1'] = miRNA_RNA_miRNAnotInRNAcentral5p['RNA1'].astype(str) + '-3p'\n",
    "miRNA_RNA_miRNAnotInRNAcentral3p['RNA1'] = miRNA_RNA_miRNAnotInRNAcentral3p['RNA1'].astype(str) + '-5p'\n",
    "miRNA_RNA_miRNAnotInRNAcentral = pd.concat([miRNA_RNA_miRNAnotInRNAcentral3p, miRNA_RNA_miRNAnotInRNAcentral5p])\n",
    "miRNA_RNA_miRNAnotInRNAcentralhsa = miRNA_RNA_miRNAnotInRNAcentral.copy()\n",
    "miRNA_RNA_miRNAnotInRNAcentralhsa['RNA1'] = \"hsa-\" + miRNA_RNA_miRNAnotInRNAcentralhsa['RNA1']\n",
    "miRNA_RNA_miRNAnotInRNAcentral = pd.concat([miRNA_RNA_miRNAnotInRNAcentralhsa, miRNA_RNA_miRNAnotInRNAcentral3p,\n",
    "                                            miRNA_RNA_miRNAnotInRNAcentral5p])\n",
    "miRNA_RNA_miRNAnotInRNAcentral = pd.merge(miRNA_RNA_miRNAnotInRNAcentral, rnacentral_map_human.rename(\n",
    "    columns={'DB Description':'RNA1'}), on='RNA1').drop(columns=['RNA1']).rename(columns={'RNAcentral ID':'RNA1'})\n",
    "miRNA_mRNA2 = pd.merge(miRNA_mRNA2, rnacentral_map_human.rename(columns={'DB Description':'RNA1'}), on='RNA1').drop(\n",
    "    columns=['RNA1']).rename(columns={'RNAcentral ID':'RNA1'})\n",
    "miRNA_mRNA2 = pd.concat([miRNA_mRNA2, miRNA_RNA_miRNAnotInRNAcentral])\n",
    "\n",
    "miRNA_mRNA2 = miRNA_mRNA2.drop(columns=['Target site_number','miRNA_regulation','Reporter_target gene/region','Mutation_target region',\n",
    "                                        'Reporter link element','Target gene mRNA_level','Original description',\n",
    "                                        'Post mutation_method',\t'Original description_mutation_region', 'Target site_position',\n",
    "                                        'miRNA_regulation_site','Reporter_target site','Reporter link element.1','Test_method_inter_site',\n",
    "                                        'Original description_inter_site','Mutation_target site','Post mutation_method_site',\n",
    "                                        'Original description_mutation_site','Additional note','DB','DB ID','Organism','RNA category'])\n",
    "\n",
    "miRNA_mRNA2 = pd.merge(miRNA_mRNA2, rnacentral_map_human_refseq[['RNAcentral ID','RefSeq ID']].rename(\n",
    "    columns={'RefSeq ID':'RNA2'}), on='RNA2').drop(columns=['RNA2']).rename(columns={'RNAcentral ID':'RNA2'})\n",
    "\n",
    "miRNA_mRNA2['Source'] = 'miRecords, miRNet'\n",
    "\n",
    "miRNA_mRNA2['Pubmed_id'] = pd.to_numeric(miRNA_mRNA2['Pubmed_id'], errors='coerce')\n",
    "miRNA_mRNA2['Pubmed_id'] = miRNA_mRNA2['Pubmed_id'].replace(0, np.nan)\n",
    "miRNA_mRNA2['Pubmed_id'] = miRNA_mRNA2['Pubmed_id'].replace(\"<NA>\", np.nan)\n",
    "miRNA_mRNA2['Pubmed_id'] = pd.to_numeric(miRNA_mRNA2['Pubmed_id'], errors='coerce')\n",
    "miRNA_mRNA2['Pubmed_id'] = miRNA_mRNA2['Pubmed_id'].replace(\"<NA>\", np.nan)\n",
    "\n",
    "miRNA_mRNA2['Test_method_inter'] = miRNA_mRNA2['Test_method_inter'].str.lower()\n",
    "miRNA_mRNA2['Test_method_inter'] = miRNA_mRNA2['Test_method_inter'].str.replace(\"\\}\\{\",\", \", regex=True)\n",
    "miRNA_mRNA2['Test_method_inter'] = miRNA_mRNA2['Test_method_inter'].str.replace(\"\\{\",\"\", regex=True)\n",
    "miRNA_mRNA2['Test_method_inter'] = miRNA_mRNA2['Test_method_inter'].str.replace(\"\\}\",\"\", regex=True)\n",
    "miRNA_mRNA2['Test_method_inter'] = miRNA_mRNA2['Test_method_inter'].replace(\"n/a\", np.nan)\n",
    "miRNA_mRNA2['Test_method_inter'] = miRNA_mRNA2['Test_method_inter'].str.split(\", \")\n",
    "miRNA_mRNA2 = miRNA_mRNA2.explode('Test_method_inter')\n",
    "miRNA_mRNA2 = pd.merge(miRNA_mRNA2, method_map, right_on='0_y', left_on='Test_method_inter', how='left')\n",
    "miRNA_mRNA2['0_x'] = miRNA_mRNA2['0_x'].fillna(miRNA_mRNA2['Test_method_inter'])\n",
    "miRNA_mRNA2 = miRNA_mRNA2.drop(columns=['0_y', 'Test_method_inter'])\n",
    "miRNA_mRNA2 = miRNA_mRNA2.rename(columns={'0_x':'Method','Pubmed_id':'PubMedID'})\n",
    "\n",
    "RNA_directly_regulates_activity_of_RNA_3 = miRNA_mRNA2.copy()\n",
    "RNA_directly_regulates_activity_of_RNA_3.rename(columns={'RNA1':':START_ID','RNA2':':END_ID'},inplace=True)\n",
    "RNA_directly_regulates_activity_of_RNA_3.head(n=3)"
   ]
  },
  {
   "cell_type": "markdown",
   "metadata": {},
   "source": [
    "* [SomamiR](https://compbio.uthsc.edu/SomamiR/) <br /> SomamiR is a database of cancer somatic mutations in microRNAs (miRNA) and their target sites that potentially alter the interactions between miRNAs and competing endogenous RNAs (ceRNA) including mRNAs, circular RNAs (circRNA) and long noncoding RNAs (lncRNA)."
   ]
  },
  {
   "cell_type": "code",
   "execution_count": null,
   "metadata": {},
   "outputs": [],
   "source": [
    "!wget https://compbio.uthsc.edu/SomamiR/download/predicted_mRNA_targets_somamir_v2.0.txt.tar.gz -O ../resources/processed_data/unprocessed_data/predicted_mRNA_targets_somamir_v2.0.txt.tar.gz"
   ]
  },
  {
   "cell_type": "code",
   "execution_count": null,
   "metadata": {},
   "outputs": [],
   "source": [
    "mRNA_miRNA2 = pd.read_csv(unprocessed_data_location + 'predicted_mRNA_targets_somamir_v2.0.txt.tar.gz', sep='\\t')\n",
    "# We select only relationships validated by TargetScan\n",
    "mRNA_miRNA2 = mRNA_miRNA2[mRNA_miRNA2['Targetscan'] == 1]\n",
    "\n",
    "mRNA_miRNA2.drop(columns=[\n",
    "    'Genesymbol', 'Targetscan', 'Chromosome', 'strand', 'Mutationlocation', 'Mutationid', 'Sample_id',\n",
    "    'WTallele', 'Mutantallele', 'Organisms', 'Targetsiteclass', 'Seed_mod', \n",
    "    'mRNAseq', 'miRseedseq', 'Seedclass', 'WTconservation', 'wildtype_csp', \n",
    "    'mutant_csp', 'display_first', 'pita_ref', 'pita_mut', 'pita_diff'\n",
    "], inplace=True)\n",
    "\n",
    "print(all(mRNA_miRNA2['miRNA'].isin(rnacentral_map_human['DB Description'])))\n",
    "print(mRNA_miRNA2[~mRNA_miRNA2['miRNA'].isin(rnacentral_map_human['DB Description'])]['miRNA'].str[:3].unique())\n",
    "miRNA_RNA_miRNAnotInRNAcentral3p = mRNA_miRNA2[~mRNA_miRNA2['miRNA'].isin(rnacentral_map_human['DB Description'])]\n",
    "miRNA_RNA_miRNAnotInRNAcentral5p = mRNA_miRNA2[~mRNA_miRNA2['miRNA'].isin(rnacentral_map_human['DB Description'])]\n",
    "miRNA_RNA_miRNAnotInRNAcentral5p['miRNA'] = miRNA_RNA_miRNAnotInRNAcentral5p['miRNA'].astype(str) + '-3p'\n",
    "miRNA_RNA_miRNAnotInRNAcentral3p['miRNA'] = miRNA_RNA_miRNAnotInRNAcentral3p['miRNA'].astype(str) + '-5p'\n",
    "miRNA_RNA_miRNAnotInRNAcentral = pd.concat([miRNA_RNA_miRNAnotInRNAcentral3p, miRNA_RNA_miRNAnotInRNAcentral5p])\n",
    "miRNA_RNA_miRNAnotInRNAcentral = pd.merge(miRNA_RNA_miRNAnotInRNAcentral, rnacentral_map_human.rename(\n",
    "    columns={'DB Description':'miRNA'}), on='miRNA').drop(columns=['miRNA']).rename(columns={'RNAcentral ID':'miRNA'})\n",
    "mRNA_miRNA2 = pd.merge(mRNA_miRNA2, rnacentral_map_human.rename(columns={'DB Description':'miRNA'}), on='miRNA').drop(\n",
    "    columns=['miRNA']).rename(columns={'RNAcentral ID':'miRNA'})\n",
    "mRNA_miRNA2 = pd.concat([mRNA_miRNA2, miRNA_RNA_miRNAnotInRNAcentral]).rename(columns={'miRNA':'RNA1','Refseq':'RNA2'})\n",
    "\n",
    "mRNA_miRNA2['Pubmedid'] = pd.to_numeric(mRNA_miRNA2['Pubmedid'], errors='coerce')\n",
    "mRNA_miRNA2['Pubmedid'] = mRNA_miRNA2['Pubmedid'].astype(str)\n",
    "mRNA_miRNA2['Pubmedid'] = mRNA_miRNA2['Pubmedid'].str.replace(\".0\", \"\")\n",
    "mRNA_miRNA2['Pubmedid'] = mRNA_miRNA2['Pubmedid'].replace(\"<NA>\", np.nan)\n",
    "\n",
    "mRNA_miRNA2['Cancertype'] = mRNA_miRNA2['Cancertype'].str.lower()\n",
    "mRNA_miRNA2['Cancertype'] = mRNA_miRNA2['Cancertype'].str.replace('[ns]','')\n",
    "import re\n",
    "\n",
    "mRNA_miRNA2['Cancertype'] = mRNA_miRNA2['Cancertype'].apply(\n",
    "    lambda x: ' '.join(re.findall(r'\\[(.*?)\\]', x)) if '[' in x and ']' in x else x\n",
    ").str.replace('_', ' ')\n",
    "mRNA_miRNA2 = pd.merge(mRNA_miRNA2, disease_map, right_on='0_y', left_on='Cancertype', how='left')\n",
    "mRNA_miRNA2['0_x'] = mRNA_miRNA2['0_x'].fillna(mRNA_miRNA2['Cancertype'])\n",
    "mRNA_miRNA2['0_x'] = mRNA_miRNA2['0_x'].replace('',np.nan)\n",
    "mRNA_miRNA2 = mRNA_miRNA2.drop(columns=['0_y', 'Cancertype'])\n",
    "mRNA_miRNA2 = mRNA_miRNA2.rename(columns={'0_x':'Location'})\n",
    "\n",
    "mRNA_miRNA2['Source'] = 'SomamiR, TargetScan'\n",
    "\n",
    "mRNA_miRNA2 = pd.merge(mRNA_miRNA2, rnacentral_map_human_refseq.rename(\n",
    "    columns={\"RefSeq ID\":\"RNA2\"}), on=\"RNA2\").drop(columns=['Label','RNA2','DB','DB ID','Organism','RNA category']).rename(columns={\"RNAcentral ID\":\"RNA2\"})\n",
    "\n",
    "RNA_directly_regulates_activity_of_RNA_4 = mRNA_miRNA2.copy()\n",
    "RNA_directly_regulates_activity_of_RNA_4.rename(columns={'RNA1':':START_ID','RNA2':':END_ID','Pubmedid':'PubMedID','U_mut_id':'Mutation'},inplace=True)\n",
    "RNA_directly_regulates_activity_of_RNA_4.head(n=3)"
   ]
  },
  {
   "cell_type": "markdown",
   "metadata": {},
   "source": [
    "* [miRdSNP](http://mirdsnp.ccr.buffalo.edu/index.php) <br /> miRdSNP is a database of disease-associated SNPs and microRNA target sites on 3'UTRs of human genes."
   ]
  },
  {
   "cell_type": "code",
   "execution_count": null,
   "metadata": {},
   "outputs": [],
   "source": [
    "!wget http://mirdsnp.ccr.buffalo.edu/downloads/mirdsnp-dsnp-generated-mir-targets-v11.03.csv -O ../resources/processed_data/unprocessed_data/mirdsnp-dsnp-generated-mir-targets-v11.03.csv"
   ]
  },
  {
   "cell_type": "code",
   "execution_count": null,
   "metadata": {},
   "outputs": [],
   "source": [
    "mRNA_miRNA2 = pd.read_csv(unprocessed_data_location+'mirdsnp-dsnp-generated-mir-targets-v11.03.csv')\n",
    "#mRNA_miRNA2 = mRNA_miRNA2[mRNA_miRNA2['experimentally_confirmed']=='Yes']\n",
    "mRNA_miRNA2.drop(columns=['experimentally_confirmed', 'gene_name', 'distance'],inplace=True)\n",
    "\n",
    "print(all(mRNA_miRNA2['miR'].isin(rnacentral_map_human['DB Description'])))\n",
    "print(mRNA_miRNA2[~mRNA_miRNA2['miR'].isin(rnacentral_map_human['DB Description'])]['miR'].str[:3].unique())\n",
    "miRNA_RNA_miRNAnotInRNAcentral3p = mRNA_miRNA2[~mRNA_miRNA2['miR'].isin(rnacentral_map_human['DB Description'])]\n",
    "miRNA_RNA_miRNAnotInRNAcentral5p = mRNA_miRNA2[~mRNA_miRNA2['miR'].isin(rnacentral_map_human['DB Description'])]\n",
    "miRNA_RNA_miRNAnotInRNAcentral5p['miR'] = miRNA_RNA_miRNAnotInRNAcentral5p['miR'].astype(str) + '-3p'\n",
    "miRNA_RNA_miRNAnotInRNAcentral3p['miR'] = miRNA_RNA_miRNAnotInRNAcentral3p['miR'].astype(str) + '-5p'\n",
    "miRNA_RNA_miRNAnotInRNAcentral = pd.concat([miRNA_RNA_miRNAnotInRNAcentral3p, miRNA_RNA_miRNAnotInRNAcentral5p])\n",
    "miRNA_RNA_miRNAnotInRNAcentral = pd.merge(miRNA_RNA_miRNAnotInRNAcentral, rnacentral_map_human.rename(\n",
    "    columns={'DB Description':'miR'}), on='miR').drop(columns=['miR']).rename(columns={'RNAcentral ID':'miR'})\n",
    "mRNA_miRNA2 = pd.merge(mRNA_miRNA2, rnacentral_map_human.rename(columns={'DB Description':'miR'}), on='miR').drop(\n",
    "    columns=['miR']).rename(columns={'RNAcentral ID':'miR'})\n",
    "mRNA_miRNA2 = pd.concat([mRNA_miRNA2, miRNA_RNA_miRNAnotInRNAcentral]).rename(columns={'miR':'RNA1','refseq_id':'RNA2'})\n",
    "mRNA_miRNA2 = mRNA_miRNA2.fillna('nan')\n",
    "mRNA_miRNA2['Number_of_experiments'] = (mRNA_miRNA2.groupby(mRNA_miRNA2.columns.tolist()).transform('size'))\n",
    "mRNA_miRNA2 = mRNA_miRNA2[mRNA_miRNA2['Number_of_experiments'].notna()].drop_duplicates()\n",
    "mRNA_miRNA2['Source'] = 'miRdSNP'\n",
    "\n",
    "print(all(mRNA_miRNA2['RNA2'].isin(ensembl_refseq_map['xref'])))\n",
    "\n",
    "mRNA_miRNA2 = pd.merge(mRNA_miRNA2, rnacentral_map_human_refseq.rename(\n",
    "    columns={\"RefSeq ID\":\"RNA2\"}), on=\"RNA2\").drop(columns=['Label','RNA2','DB','DB ID','Organism','RNA category']).rename(columns={\"RNAcentral ID\":\"RNA2\"})\n",
    "\n",
    "mRNA_miRNA2['diseases'] = mRNA_miRNA2['diseases'].str.lower()\n",
    "mRNA_miRNA2['diseases'] = mRNA_miRNA2['diseases'].str.split(', ')\n",
    "mRNA_miRNA2 = mRNA_miRNA2.explode('diseases')\n",
    "\n",
    "mRNA_miRNA2 = pd.merge(mRNA_miRNA2, disease_map, right_on='0_y', left_on='diseases', how='left')\n",
    "mRNA_miRNA2['0_x'] = mRNA_miRNA2['0_x'].fillna(mRNA_miRNA2['diseases'])\n",
    "mRNA_miRNA2 = mRNA_miRNA2.drop(columns=['0_y', 'diseases'])\n",
    "mRNA_miRNA2 = mRNA_miRNA2.rename(columns={'0_x':'Location'})\n",
    "\n",
    "RNA_directly_regulates_activity_of_RNA_5 = mRNA_miRNA2.copy()\n",
    "RNA_directly_regulates_activity_of_RNA_5.rename(columns={'RNA1':':START_ID','RNA2':':END_ID', \"SNP\":'Mutation'},inplace=True)\n",
    "RNA_directly_regulates_activity_of_RNA_5.head(n=3)"
   ]
  },
  {
   "cell_type": "code",
   "execution_count": null,
   "metadata": {},
   "outputs": [],
   "source": [
    "RNA_directly_regulates_activity_of_RNA = pd.concat([RNA_directly_regulates_activity_of_RNA_1, RNA_directly_regulates_activity_of_RNA_2,\n",
    "                                                    RNA_directly_regulates_activity_of_RNA_3, RNA_directly_regulates_activity_of_RNA_4,\n",
    "                                                    RNA_directly_regulates_activity_of_RNA_5])\n",
    "RNA_directly_regulates_activity_of_RNA['Source'] = RNA_directly_regulates_activity_of_RNA['Source'].str.split(\", \")\n",
    "RNA_directly_regulates_activity_of_RNA = RNA_directly_regulates_activity_of_RNA.explode('Source')\n",
    "RNA_directly_regulates_activity_of_RNA = RNA_directly_regulates_activity_of_RNA.groupby(\n",
    "    [':START_ID',':END_ID']).agg({'Source': set, 'Method': set,'Location': set, 'Mutation': set,\n",
    "                                 'PubMedID': set, 'miRDB_score': np.mean, 'Weighted_CS_score':np.mean}).reset_index()   \n",
    "RNA_directly_regulates_activity_of_RNA[':TYPE'] = 'directly_regulates_activity_of'\n",
    "RNA_directly_regulates_activity_of_RNA.to_pickle(unprocessed_edge_data_location+'RNA_directly_regulates_activity_of_RNA.pkl')\n",
    "RNA_directly_regulates_activity_of_RNA.head(n=3)"
   ]
  },
  {
   "cell_type": "markdown",
   "metadata": {},
   "source": [
    "***\n",
    "### RNA - http://purl.obolibrary.org/obo/RO_0011002 (regulates activity of) - Gene\n"
   ]
  },
  {
   "cell_type": "markdown",
   "metadata": {},
   "source": [
    "* [TarpiD](https://tarpid.nitrkl.ac.in/tarpid_db/) <br /> TarpiD is a manually curated database that aims to catalogue published piRNA:gene interactions and their functions, which are predicted computationally or validated experimentally by adopting different methods."
   ]
  },
  {
   "cell_type": "code",
   "execution_count": null,
   "metadata": {},
   "outputs": [],
   "source": [
    "piRNA_gene = []\n",
    "for i in range(28682):\n",
    "    url = \"https://tarpid.nitrkl.ac.in/tarpid_db/specific_search/pirna_gene_detail.php?tpid=tpd_\" + str(i)\n",
    "    response = requests.get(url)\n",
    "    html_content = response.text\n",
    "\n",
    "    soup = BeautifulSoup(html_content, 'html.parser')\n",
    "    detail_content = soup.find('section', id='detail_content')\n",
    "    content = detail_content.find_next('div', class_='detail_content_center').text.strip()\n",
    "    piRNA_gene.append(content)\n",
    "\n",
    "piRNA_gene = pd.DataFrame([i.split(\" \") for i in piRNA_gene]).drop_duplicates().to_csv(\n",
    "    unprocessed_data_location + 'piRNA-gene.txt', sep='\\t', index=None)\n",
    "\n",
    "#piRNA_gene = pd.read_csv(unprocessed_data_location + 'piRNA-gene.txt', sep=\"\\t\")\n",
    "\n",
    "piRNA_gene = piRNA_gene[(~piRNA_gene[\"0\"].str.contains(\"sse\")) &  (~piRNA_gene[\"0\"].str.contains(\"mmu\")) & (piRNA_gene[\"0\"].str.contains(r'^piR-\\d')) &\n",
    "                        (~piRNA_gene[\"0\"].str.contains(\"gga\")) & (~piRNA_gene[\"0\"].str.contains(\"ur\"))]\n",
    "piRNA_gene[\"2\"] = piRNA_gene[\"2\"].str.split(\":\").str[0]\n",
    "print(piRNA_gene[\"1\"].unique())\n",
    "piRNA_gene.head(n=3)"
   ]
  },
  {
   "cell_type": "code",
   "execution_count": null,
   "metadata": {},
   "outputs": [],
   "source": [
    "piRNA_gene_fixed = piRNA_gene.copy()\n",
    "piRNA_gene_fixed[\"0\"] = piRNA_gene_fixed[\"0\"].str.replace(\"piR-\", \"piR-hsa-\")\n",
    "piRNA_gene_fixed = pd.merge(piRNA_gene_fixed, symbol_entrez_map, left_on=\"2\", right_on=0).drop(\n",
    "    columns=[\"2\", 0, \"1\"]).rename(columns={\"0\":'piRNA', 1:':END_ID'})\n",
    "piRNA_gene_fixed = pd.merge(piRNA_gene_fixed, rnacentral_map_human_pirbase.rename(columns={'piRBase ID':'piRNA'}), on='piRNA').drop(\n",
    "    columns=['piRNA']).rename(columns={'RNAcentral ID':':START_ID'})\n",
    "piRNA_gene_fixed['Source'] = 'TarpiD'\n",
    "piRNA_gene_fixed.head(n=3)"
   ]
  },
  {
   "cell_type": "markdown",
   "metadata": {},
   "source": [
    "* [miRTarBase](https://awi.cuhk.edu.cn/~miRTarBase/miRTarBase_2025/php/index.php) <br /> miRTarBase has accumulated more than three hundred and sixty thousand miRNA-target interactions (MTIs), which are collected by manually surveying pertinent literature after NLP of the text systematically to filter research articles related to functional studies of miRNAs."
   ]
  },
  {
   "cell_type": "code",
   "execution_count": null,
   "metadata": {},
   "outputs": [],
   "source": [
    "!wget https://awi.cuhk.edu.cn/~miRTarBase/miRTarBase_2025/cache/download/10.0/miRTarBase_MTI.csv -O ../resources/processed_data/unprocessed_data/miRTarBase_MTI.csv"
   ]
  },
  {
   "cell_type": "code",
   "execution_count": null,
   "metadata": {},
   "outputs": [],
   "source": [
    "miRNA_gene = pd.read_csv(unprocessed_data_location + 'miRTarBase_MTI.csv',\n",
    "                         dtype={'Target Gene (Entrez ID)': 'string', 'References (PMID)': 'string'})\n",
    "miRNA_gene['Target Gene (Entrez ID)'] = miRNA_gene['Target Gene (Entrez ID)'].str.split('.').str[0]\n",
    "miRNA_gene['References (PMID)'] = miRNA_gene['References (PMID)'].str.split('.').str[0]\n",
    "miRNA_gene = miRNA_gene[(miRNA_gene['Species (miRNA)'] == 'hsa') & (miRNA_gene['Species (Target Gene)'] == 'hsa')]\n",
    "miRNA_gene = miRNA_gene[~miRNA_gene['Support Type'].str.contains('Weak')]\n",
    "miRNA_gene.drop(columns=['miRTarBase ID','Species (miRNA)','Target Gene','Species (Target Gene)','Support Type'], inplace=True)\n",
    "miRNA_gene['miRNA'] = miRNA_gene['miRNA'].str.replace('Hsa-', 'hsa-')\n",
    "miRNA_gene['miRNA'] = miRNA_gene['miRNA'].str.replace(r'^M', 'm', regex=True)\n",
    "\n",
    "print(all(miRNA_gene['miRNA'].isin(rnacentral_map_human['DB Description'])))\n",
    "miRNA_gene['miRNA'] = miRNA_gene['miRNA'].str.strip()\n",
    "print(miRNA_gene[~miRNA_gene['miRNA'].isin(rnacentral_map_human['DB Description'])]['miRNA'].str[:3].unique())\n",
    "miRNA_RNA_miRNAnotInRNAcentral3p = miRNA_gene[~miRNA_gene['miRNA'].isin(rnacentral_map_human['DB Description'])]\n",
    "miRNA_RNA_miRNAnotInRNAcentral5p = miRNA_gene[~miRNA_gene['miRNA'].isin(rnacentral_map_human['DB Description'])]\n",
    "miRNA_RNA_miRNAnotInRNAcentral5p['miRNA'] = miRNA_RNA_miRNAnotInRNAcentral5p['miRNA'].astype(str) + '-3p'\n",
    "miRNA_RNA_miRNAnotInRNAcentral3p['miRNA'] = miRNA_RNA_miRNAnotInRNAcentral3p['miRNA'].astype(str) + '-5p'\n",
    "miRNA_RNA_miRNAnotInRNAcentral = pd.concat([miRNA_RNA_miRNAnotInRNAcentral3p, miRNA_RNA_miRNAnotInRNAcentral5p])\n",
    "miRNA_RNA_miRNAnotInRNAcentralhsa = miRNA_RNA_miRNAnotInRNAcentral.copy()\n",
    "miRNA_RNA_miRNAnotInRNAcentralhsa['miRNA'] = \"hsa-\" + miRNA_RNA_miRNAnotInRNAcentralhsa['miRNA']\n",
    "miRNA_RNA_miRNAnotInRNAcentral = pd.concat([miRNA_RNA_miRNAnotInRNAcentralhsa, miRNA_RNA_miRNAnotInRNAcentral3p,\n",
    "                                            miRNA_RNA_miRNAnotInRNAcentral5p])\n",
    "miRNA_RNA_miRNAnotInRNAcentral = pd.merge(miRNA_RNA_miRNAnotInRNAcentral, rnacentral_map_human.rename(\n",
    "    columns={'DB Description':'miRNA'}), on='miRNA').drop(columns=['miRNA']).rename(columns={'RNAcentral ID':'RNA'})\n",
    "miRNA_gene = pd.merge(miRNA_gene, rnacentral_map_human.rename(columns={'DB Description':'miRNA'}), on='miRNA').drop(\n",
    "    columns=['miRNA']).rename(columns={'RNAcentral ID':'RNA'})\n",
    "miRNA_gene = pd.concat([miRNA_gene, miRNA_RNA_miRNAnotInRNAcentral]).drop(columns=['DB','DB ID','Organism','RNA category'])\n",
    "miRNA_gene.rename(columns={'RNA':':START_ID','Target Gene (Entrez ID)':':END_ID'}, inplace=True)\n",
    "\n",
    "miRNA_gene['References (PMID)'] = pd.to_numeric(miRNA_gene['References (PMID)'], errors='coerce')\n",
    "miRNA_gene['References (PMID)'] = miRNA_gene['References (PMID)'].astype(str)\n",
    "miRNA_gene['References (PMID)'] = miRNA_gene['References (PMID)'].str.replace(\".0\", \"\")\n",
    "miRNA_gene['References (PMID)'] = miRNA_gene['References (PMID)'].replace(\"<NA>\", np.nan)\n",
    "\n",
    "miRNA_gene['Experiments'] = miRNA_gene['Experiments'].str.lower()\n",
    "miRNA_gene['Experiments'] = miRNA_gene['Experiments'].str.split(\"\\/\\/\", regex=True)\n",
    "miRNA_gene = miRNA_gene.explode('Experiments')\n",
    "miRNA_gene['Experiments'] = miRNA_gene['Experiments'].str.split(\";\")\n",
    "miRNA_gene = miRNA_gene.explode('Experiments')\n",
    "miRNA_gene = pd.merge(miRNA_gene, method_map, right_on='0_y', left_on='Experiments', how='left')\n",
    "miRNA_gene['0_x'] = miRNA_gene['0_x'].fillna(miRNA_gene['Experiments'])\n",
    "miRNA_gene = miRNA_gene.drop(columns=['0_y', 'Experiments'])\n",
    "miRNA_gene = miRNA_gene.rename(columns={'0_x':'Method','References (PMID)':'PubMedID'})\n",
    "\n",
    "miRNA_gene['Source'] = 'miRTarBase'\n",
    "miRNA_gene.head(n=3)"
   ]
  },
  {
   "cell_type": "markdown",
   "metadata": {},
   "source": [
    "* [miRNet](https://www.mirnet.ca/miRNet/)"
   ]
  },
  {
   "cell_type": "code",
   "execution_count": null,
   "metadata": {},
   "outputs": [],
   "source": [
    "!wget https://www.dropbox.com/s/r01ppq5x42v4lyh/miRNet-mir-pseudogene.csv?dl=0 -O ../resources/processed_data/unprocessed_data/miRNet-mir-pseudogene.csv"
   ]
  },
  {
   "cell_type": "code",
   "execution_count": null,
   "metadata": {},
   "outputs": [],
   "source": [
    "miRNA_pseudogene = pd.read_csv(unprocessed_data_location+'miRNet-mir-pseudogene.csv')\n",
    "miRNA_pseudogene.drop(columns=['mirnet','mir_id','entrez','symbol','gene_name','mbv'], inplace=True)\n",
    "\n",
    "print(all(miRNA_pseudogene['mir_acc'].isin(rnacentral_map_human['DB ID'])))\n",
    "miRNA_pseudogene = pd.merge(miRNA_pseudogene, rnacentral_map_human.rename(columns={'DB ID':'mir_acc'}), on='mir_acc').drop(\n",
    "    columns=['DB','Organism','RNA category','DB Description','mir_acc']).rename(columns={'RNAcentral ID':'RNA'})\n",
    "miRNA_pseudogene['Source'] = 'miRNet'\n",
    "\n",
    "miRNA_pseudogene = pd.merge(miRNA_pseudogene, ensembl_entrezGene_map.rename(columns={0:'embl',1:':END_ID'}),\n",
    "                            on='embl').drop(columns=[2,3,4,5,'embl']).rename(columns={'RNA':':START_ID'})\n",
    "miRNA_pseudogene.head(n=3)"
   ]
  },
  {
   "cell_type": "code",
   "execution_count": null,
   "metadata": {},
   "outputs": [],
   "source": [
    "RNA_regulates_activity_of_Gene = pd.concat([miRNA_pseudogene, miRNA_gene, piRNA_gene_fixed])\n",
    "RNA_regulates_activity_of_Gene = RNA_regulates_activity_of_Gene.groupby([':START_ID',':END_ID']).agg(\n",
    "    {'Source': set, 'Method': set, 'PubMedID': set}).reset_index()\n",
    "RNA_regulates_activity_of_Gene[':TYPE'] = 'regulates_activity_of'\n",
    "RNA_regulates_activity_of_Gene.to_pickle(unprocessed_edge_data_location+'RNA_regulates_activity_of_gene.pkl')\n",
    "RNA_regulates_activity_of_Gene.head(n=3)"
   ]
  },
  {
   "cell_type": "markdown",
   "metadata": {},
   "source": [
    "***\n",
    "### OBO - http://purl.obolibrary.org/obo/RO_0011002 (regulates activity of) - RNA"
   ]
  },
  {
   "cell_type": "markdown",
   "metadata": {},
   "source": [
    "* [EpimiR](http://www.jianglab.cn/EpimiR/index.jsp) <br />\n",
    "The EpimiR database have obtained 1974 regulatory relationships between 19 types of epigenetic modifications (including DNA methylation, histone acetylation, H3K4me3 and H3K27me3, etc.) and 617 miRNAs across 7 species (including Homo sapiens) from nearly 2000 literatures."
   ]
  },
  {
   "cell_type": "code",
   "execution_count": null,
   "metadata": {},
   "outputs": [],
   "source": [
    "!wget https://www.dropbox.com/s/p852ndpck5jasxz/miRNet-mir-epi-hsa.csv?dl=0 -O ../resources/processed_data/unprocessed_data/miRNet-mir-epi-hsa.csv"
   ]
  },
  {
   "cell_type": "code",
   "execution_count": null,
   "metadata": {},
   "outputs": [],
   "source": [
    "miRNA_epiMod = pd.read_csv(unprocessed_data_location + 'miRNet-mir-epi-hsa.csv') # Epigenetic modification (SO)\n",
    "miRNA_epiMod = miRNA_epiMod[miRNA_epiMod['expression'] == 'high']\n",
    "miRNA_epiMod.drop(columns=['mirnet','mir_id','note','res_type','year','support','detect','expression'], inplace=True)\n",
    "miRNA_epiMod['epi_modification'] = miRNA_epiMod.epi_modification.str.split('/')\n",
    "miRNA_epiMod = miRNA_epiMod.explode('epi_modification')\n",
    "\n",
    "print(all(miRNA_epiMod['mir_acc'].isin(rnacentral_map_human['DB ID'])))\n",
    "# These are miRBase dead entries\n",
    "print(miRNA_epiMod[~miRNA_epiMod['mir_acc'].isin(rnacentral_map_human['DB ID'])])\n",
    "miRNA_epiMod = pd.merge(miRNA_epiMod, rnacentral_map_human.rename(columns={'DB ID':'mir_acc'}), on='mir_acc').drop(\n",
    "    columns=['DB','Organism','RNA category','DB Description','mir_acc']).rename(columns={'RNAcentral ID':':END_ID'})\n",
    "miRNA_epiMod.experiment = miRNA_epiMod.experiment.str.replace(\"in vivo \", 'in vivo')\n",
    "miRNA_epiMod.experiment = miRNA_epiMod.experiment.str.replace(\"/vivo\", ', in vivo')\n",
    "miRNA_epiMod.experiment = miRNA_epiMod.experiment.str.replace(\"/\", ', ')\n",
    "miRNA_epiMod.experiment = miRNA_epiMod.experiment.str.replace(\".\", ', ')\n",
    "miRNA_epiMod.epi_regulator = miRNA_epiMod.epi_regulator.str.replace(\"/\", ', ')\n",
    "miRNA_epiMod.epi_regulator = miRNA_epiMod.epi_regulator.str.lower()\n",
    "miRNA_epiMod.epi_target = miRNA_epiMod.epi_target.str.lower()\n",
    "miRNA_epiMod.epi_target = miRNA_epiMod.epi_target.str.replace(\"/\", ', ')\n",
    "miRNA_epiMod.epi_target = miRNA_epiMod.epi_target.str.strip()\n",
    "miRNA_epiMod.epi_target = miRNA_epiMod.epi_target.str.replace(\" cluster\", '')\n",
    "miRNA_epiMod.epi_target = miRNA_epiMod.epi_target.replace(\"\\\\\\\\\\\\\\\\n\", np.nan)\n",
    "miRNA_epiMod.epi_target = miRNA_epiMod.epi_target.replace(r'\\(.*?\\)', '', regex=True)\n",
    "miRNA_epiMod.epi_target = miRNA_epiMod.epi_target.replace(r' \\(.*?\\)', '', regex=True)\n",
    "miRNA_epiMod.condition = miRNA_epiMod.condition.str.replace('non-small-cell lung cancer', 'non-small cell lung carcinoma')\n",
    "\n",
    "miRNA_epiMod['pmid'] = pd.to_numeric(miRNA_epiMod['pmid'], errors='coerce')\n",
    "miRNA_epiMod['pmid'] = miRNA_epiMod['pmid'].astype(str)\n",
    "miRNA_epiMod['pmid'] = miRNA_epiMod['pmid'].str.replace(\".0\", \"\")\n",
    "miRNA_epiMod['pmid'] = miRNA_epiMod['pmid'].replace(\"<NA>\", np.nan)\n",
    "\n",
    "miRNA_epiMod['epi_regulator'] = miRNA_epiMod['epi_regulator'].str.split(\", \")\n",
    "miRNA_epiMod = miRNA_epiMod.explode('epi_regulator')\n",
    "\n",
    "miRNA_epiMod['epi_target'] = miRNA_epiMod['epi_target'].str.split(\", \")\n",
    "miRNA_epiMod = miRNA_epiMod.explode('epi_target')\n",
    "\n",
    "miRNA_epiMod['experiment'] = miRNA_epiMod['experiment'].str.split(\", \")\n",
    "miRNA_epiMod = miRNA_epiMod.explode('experiment')\n",
    "miRNA_epiMod = pd.merge(miRNA_epiMod, method_map, right_on='0_y', left_on='experiment', how='left')\n",
    "miRNA_epiMod['0_x'] = miRNA_epiMod['0_x'].fillna(miRNA_epiMod['experiment'])\n",
    "miRNA_epiMod = miRNA_epiMod.drop(columns=['0_y', 'experiment'])\n",
    "miRNA_epiMod = miRNA_epiMod.rename(columns={'0_x':'Method','pmid':'PubMedID','epi_regulator':'Regulator', 'epi_target':'Interactor'})\n",
    "\n",
    "miRNA_epiMod = pd.merge(miRNA_epiMod, disease_map, right_on='0_y', left_on='condition', how='left')\n",
    "miRNA_epiMod['0_x'] = miRNA_epiMod['0_x'].fillna(miRNA_epiMod['condition'])\n",
    "miRNA_epiMod = miRNA_epiMod.drop(columns=['0_y', 'condition'])\n",
    "miRNA_epiMod = miRNA_epiMod.rename(columns={'0_x':'Location'})\n",
    "\n",
    "#miRNA_epiMod = miRNA_epiMod.groupby([':END_ID', 'epi_modification','epi_regulator','experiment','epi_target','condition']).agg({'pmid': set}).reset_index()\n",
    "#miRNA_epiMod['Number_of_experiments'] = miRNA_epiMod['pmid'].apply(len)\n",
    "miRNA_epiMod['Source'] = 'EpimiR'\n",
    "miRNA_epiMod2 = miRNA_epiMod.copy()\n",
    "miRNA_epiMod['Source'] = 'miRNet'\n",
    "miRNA_epiMod = pd.concat([miRNA_epiMod, miRNA_epiMod2])\n",
    "miRNA_epiMod.head(n=3)"
   ]
  },
  {
   "cell_type": "code",
   "execution_count": null,
   "metadata": {},
   "outputs": [],
   "source": [
    "miRNA_epiMod['epi_modification'] = miRNA_epiMod['epi_modification'].str.lower().str.replace('dna methylation','silenced by dna methylation')\n",
    "miRNA_epiMod['epi_modification'] = miRNA_epiMod['epi_modification'].str.lower().str.replace('h3k4me','h3k4 methylation site')\n",
    "miRNA_epiMod['epi_modification'] = miRNA_epiMod['epi_modification'].str.lower().str.replace('h5ac','histone acetylation')\n",
    "miRNA_epiMod['epi_modification'] = miRNA_epiMod['epi_modification'].str.lower().str.replace('h3k9me','h3k9 methylation site')\n",
    "miRNA_epiMod['epi_modification'] = miRNA_epiMod['epi_modification'].str.lower().str.replace('h3k27me','h3k27 methylation site')\n",
    "miRNA_epiMod['epi_modification'] = miRNA_epiMod['epi_modification'].str.lower().str.replace('h3s10p','phosphorylation site')\n",
    "miRNA_epiMod['epi_modification'] = miRNA_epiMod['epi_modification'].str.lower().str.replace('h3r17me2','histone methylation site')\n",
    "\n",
    "miRNA_epiMod = pd.merge(miRNA_epiMod, desc_so_map, left_on='epi_modification', right_on=0)\n",
    "miRNA_epiMod = miRNA_epiMod.drop(columns=['epi_modification', 0])\n",
    "miRNA_epiMod = miRNA_epiMod.rename(columns={1:':START_ID'})\n",
    "\n",
    "miRNA_epiMod = miRNA_epiMod.groupby([':START_ID',':END_ID']).agg({'Source': set, 'Method': set, 'PubMedID': set,\n",
    "                                                                  'Location': set, 'Regulator': set, 'Interactor': set}).reset_index()\n",
    "miRNA_epiMod[':TYPE'] = 'regulates_activity_of'\n",
    "miRNA_epiMod.to_pickle(unprocessed_edge_data_location+'OBO_regulates_activity_of_RNA.pkl')\n",
    "miRNA_epiMod.head(n=3)"
   ]
  },
  {
   "cell_type": "markdown",
   "metadata": {},
   "source": [
    "***\n",
    "### RNA - http://purl.obolibrary.org/obo/RO_0002245 (over-expressed in) - OBO"
   ]
  },
  {
   "cell_type": "markdown",
   "metadata": {},
   "source": [
    "* [piRBase](http://bigdata.ibp.ac.cn/piRBase/) <br /> piRBase is a database supporting piRNA functional study."
   ]
  },
  {
   "cell_type": "code",
   "execution_count": null,
   "metadata": {},
   "outputs": [],
   "source": [
    "!mkdir ../resources/processed_data/unprocessed_data/piRBase_disease\n",
    "# http://bigdata.ibp.ac.cn/piRBase/cancer.php --> for each disease (17) in the scroll bar -->\n",
    "# download html and place in processed_data/unprocessed_data/piRBase_disease/"
   ]
  },
  {
   "cell_type": "code",
   "execution_count": null,
   "metadata": {},
   "outputs": [],
   "source": [
    "df = pd.DataFrame()\n",
    "\n",
    "directory = unprocessed_data_location + \"piRBase_disease/\"\n",
    "for filename in os.listdir(directory):\n",
    "    filepath = os.path.join(directory, filename)\n",
    "    temp = pd.read_html(filepath)[1]\n",
    "    df = pd.concat([df, temp])\n",
    "\n",
    "df.Disease = df.Disease.str.lower()\n",
    "df.Subtype = df.Subtype.str.lower()\n",
    "df.Name = df.Name.str.strip()\n",
    "df['Source'] = 'piRBase'\n",
    "df = df[['Name', 'Disease', 'Subtype', 'Expression', 'Function', 'PubMed', 'Source']].drop(columns=['Function']) # Mondo+HPO\n",
    "df = df[~df['Name'].isna()]\n",
    "df = df[df['Name'].str.startswith('piR-hsa')]\n",
    "df['Subtype'] = df['Subtype'].fillna(df['Disease'])\n",
    "df = df.drop(columns=['Disease'])\n",
    "#df.PubMed = 'https://pubmed.ncbi.nlm.nih.gov/' + df.PubMed.astype('Int64').astype('str')\n",
    "df = df.rename(columns = {'Subtype':'Disease'})\n",
    "\n",
    "df = pd.merge(df, rnacentral_map_human_pirbase.rename(columns={'piRBase ID':'Name'}), on='Name').drop(\n",
    "    columns=['Name']).rename(columns={'RNAcentral ID':'RNA'})\n",
    "\n",
    "df.Disease = df.Disease.replace('heart failure', 'MONDO_0005252')\n",
    "df.Disease = df.Disease.replace('cardiac hypertrophy', 'HP_0001714')\n",
    "df.Disease = df.Disease.replace('multiple myeloma', 'HP_0006775')\n",
    "df.Disease = df.Disease.replace('gastric cancer', 'MONDO_0001056')\n",
    "df.Disease = df.Disease.replace('breast cancer', 'MONDO_0007254')\n",
    "df.Disease = df.Disease.replace('liver cancer', 'MONDO_0002691')\n",
    "df.Disease = df.Disease.replace('myeloma', 'MONDO_0005170')\n",
    "df.Disease = df.Disease.replace('bladder cancer', 'MONDO_0004986')\n",
    "df.Disease = df.Disease.replace('colorectal cancer', 'MONDO_0005575')\n",
    "df.Disease = df.Disease.replace('pancreas cancer', 'MONDO_0005192')\n",
    "df.Disease = df.Disease.replace('kidney cancer', 'MONDO_0002367')\n",
    "df.Disease = df.Disease.replace('cardiovascular diseases', 'MONDO_0004995')\n",
    "df.Disease = df.Disease.replace('alzheimer', 'MONDO_0004975')\n",
    "df.Disease = df.Disease.replace('thyroid cancer', 'MONDO_0002108')\n",
    "df.Disease = df.Disease.replace('lung cancer', 'MONDO_0008903')\n",
    "df.Disease = df.Disease.replace('prostate cancer', 'MONDO_0008315')\n",
    "df.Disease = df.Disease.replace('parkinson', 'MONDO_0005180')\n",
    "df.Disease = df.Disease.replace('glioblastoma', 'MONDO_0018177')\n",
    "df.Disease = df.Disease.replace('ovarian cancer', 'MONDO_0008170')\n",
    "\n",
    "print(df.Expression.unique())\n",
    "df[['Regulation', 'Fold_Change']] = df['Expression'].str.extract(r'(up-regulated|down-regulated)\\s*FC\\s*(\\d*\\.?\\d+)?')\n",
    "df['Fold_Change'] = pd.to_numeric(df['Fold_Change'], errors='coerce')\n",
    "df.drop(columns=['Expression'], inplace=True)\n",
    "\n",
    "df['PubMed'] = pd.to_numeric(df['PubMed'], errors='coerce')\n",
    "df['PubMed'] = df['PubMed'].astype(str)\n",
    "df['PubMed'] = df['PubMed'].str.replace(\".0\", \"\")\n",
    "df['PubMed'] = df['PubMed'].replace(\"<NA>\", np.nan)\n",
    "\n",
    "df.head(n=3)"
   ]
  },
  {
   "cell_type": "code",
   "execution_count": null,
   "metadata": {},
   "outputs": [],
   "source": [
    "df_up = df[df['Regulation'] == 'up-regulated']\n",
    "df_up.rename(columns={'RNA':':START_ID','Disease':':END_ID', 'PubMed':'PubMedID'},inplace=True)\n",
    "df_up.head(n=3)"
   ]
  },
  {
   "cell_type": "markdown",
   "metadata": {},
   "source": [
    "* [iPiDA-GCN](http://bliulab.net/iPiDA-GCN/) <br /> iPiDA-GCN is a computational method called for piRNA-disease association identification based on graph convolutional networks (GCNs)."
   ]
  },
  {
   "cell_type": "code",
   "execution_count": null,
   "metadata": {},
   "outputs": [],
   "source": [
    "url = \"http://bliulab.net/iPiDA-GCN/static/download/piRNA_disease_information.zip\" # Mondo+HPO\n",
    "filename = \"piRNA_disease_information.zip\"\n",
    "\n",
    "response = requests.get(url)\n",
    "with open(filename, \"wb\") as file:\n",
    "    file.write(response.content)\n",
    "\n",
    "with zipfile.ZipFile(filename, \"r\") as zip_ref:\n",
    "    zip_ref.extractall(unprocessed_data_location)"
   ]
  },
  {
   "cell_type": "code",
   "execution_count": null,
   "metadata": {},
   "outputs": [],
   "source": [
    "pirna_disease2 = pd.DataFrame(np.load(unprocessed_data_location + \"piRNA_disease_information/adjPD.npy\"))\n",
    "pirna_disease2.head(n=3)"
   ]
  },
  {
   "cell_type": "code",
   "execution_count": null,
   "metadata": {},
   "outputs": [],
   "source": [
    "disease_info = pd.read_excel(unprocessed_data_location + \"piRNA_disease_information/disease_information.xlsx\")\n",
    "disease_info['DOID'] = disease_info['DOID'].str.replace(':','_')\n",
    "disease_info = disease_info.drop(11)\n",
    "disease_info.head(n=3)"
   ]
  },
  {
   "cell_type": "code",
   "execution_count": null,
   "metadata": {},
   "outputs": [],
   "source": [
    "colnames = pd.merge(disease_info, doid_mondo_map.rename(columns={0:'DOID'}), on='DOID')[1]\n",
    "pirna_disease2.columns=colnames\n",
    "pirna_disease2.head(n=3)"
   ]
  },
  {
   "cell_type": "code",
   "execution_count": null,
   "metadata": {},
   "outputs": [],
   "source": [
    "pirna_info = pd.read_excel(unprocessed_data_location + \"piRNA_disease_information/piRNA_information.xlsx\")[[\"ncRNA Symbol\",\"pi_num\"]]\n",
    "pirna_info.head(n=3)"
   ]
  },
  {
   "cell_type": "code",
   "execution_count": null,
   "metadata": {},
   "outputs": [],
   "source": [
    "pirna_disease2 = pd.merge(pirna_disease2, pirna_info, left_index=True, right_on=\"pi_num\").set_index(\"ncRNA Symbol\")\n",
    "pirna_disease2.head(n=3)"
   ]
  },
  {
   "cell_type": "code",
   "execution_count": null,
   "metadata": {},
   "outputs": [],
   "source": [
    "pirna_disease_list = pd.DataFrame(columns = [\"piRNA\", \"dis\"])\n",
    "\n",
    "for disease in pirna_disease2.columns:    \n",
    "    piRNA=[]\n",
    "    for index, row in pirna_disease2.iterrows():\n",
    "         if row[disease] == 1.0:\n",
    "            piRNA.append(index)\n",
    "    \n",
    "    df = pd.DataFrame(piRNA, columns = ['piRNA'])\n",
    "    df['dis'] = disease\n",
    "    \n",
    "    pirna_disease_list = pd.concat([pirna_disease_list, df], ignore_index=True)\n",
    "    \n",
    "pirna_disease_list.head(n=3)"
   ]
  },
  {
   "cell_type": "code",
   "execution_count": null,
   "metadata": {},
   "outputs": [],
   "source": [
    "pirna_disease_list = pd.merge(pirna_disease_list, rnacentral_map_human_pirbase.rename(columns={'piRBase ID':'piRNA'}), on='piRNA').drop(\n",
    "    columns=['piRNA']).rename(columns={'RNAcentral ID':':START_ID','dis':':END_ID'})\n",
    "\n",
    "#pirna_disease_list['Number_of_experiments'] = (pirna_disease_list.groupby(pirna_disease_list.columns.tolist()).transform('size'))\n",
    "#pirna_disease_list = pirna_disease_list[pirna_disease_list['Number_of_experiments'].notna()].drop_duplicates()\n",
    "pirna_disease_list['Source'] = 'iPiDA-GCN'\n",
    "pirna_disease_list.head(n=3) "
   ]
  },
  {
   "cell_type": "markdown",
   "metadata": {},
   "source": [
    "* [LncRNAWiki](https://ngdc.cncb.ac.cn/lncrnawiki/)"
   ]
  },
  {
   "cell_type": "code",
   "execution_count": null,
   "metadata": {},
   "outputs": [],
   "source": [
    "LncRNAWiki = pd.read_csv(unprocessed_data_location+'LncRNAWiki_BrowseDownload.csv') # PW\n",
    "lncRNA_pw = LncRNAWiki[LncRNAWiki['pathway'].notna()]\n",
    "lncRNA_pw.pathway = lncRNA_pw.pathway.str.lower()\n",
    "lncRNA_pw = lncRNA_pw.drop(columns=['symbol','synonyms','gene_locus','gene_id','conservation_ortholog','clinical_detail','epigenetic_modification',\n",
    "                                        'modification_detail','target_interaction', 'conservation_species','target_effect','biological_process',\n",
    "                                        'description','conservation','target_type','biological_context','regulator_effect',\n",
    "                                        'regulator_interaction', 'genome_variation', 'variation_detail', 'molecular_function',\n",
    "                                        'expression','regulator_type','functional_mechanism'])\n",
    "\n",
    "lncRNA_pw['transcript_id'] = lncRNA_pw['transcript_id'].str.split(',')\n",
    "lncRNA_pw = lncRNA_pw.explode('transcript_id')\n",
    "lncRNA_pw = lncRNA_pw[lncRNA_pw['transcript_id'].notna()]\n",
    "\n",
    "lncRNA_pw['pathway'] = lncRNA_pw['pathway'].str.split(',')\n",
    "lncRNA_pw = lncRNA_pw.explode('pathway')\n",
    "lncRNA_pw = lncRNA_pw[lncRNA_pw['pathway'].notna()]\n",
    "\n",
    "lncRNA_pw = pd.merge(desc_pw_map.rename(columns={0:'pathway'}), lncRNA_pw, on=['pathway']).drop(\n",
    "    columns=['pathway']).rename(columns={1:'Pathway'})\n",
    "\n",
    "lncRNA_pw = pd.merge(lncRNA_pw, rnacentral_map_human_lncbook[['LncBook Transcript ID', 'RNAcentral ID']].drop_duplicates().rename(\n",
    "    columns={'LncBook Transcript ID':'transcript_id'}), on = 'transcript_id').drop(columns=['transcript_id']).rename(\n",
    "        columns={'RNAcentral ID':'RNA'})  \n",
    "\n",
    "lncRNA_pw = lncRNA_pw[lncRNA_pw['RNA'].notna()]\n",
    "\n",
    "lncRNA_pw['pmid'] = pd.to_numeric(lncRNA_pw['pmid'], errors='coerce')\n",
    "lncRNA_pw['pmid'] = lncRNA_pw['pmid'].astype(str)\n",
    "lncRNA_pw['pmid'] = lncRNA_pw['pmid'].str.replace(\".0\", \"\")\n",
    "lncRNA_pw['pmid'] = lncRNA_pw['pmid'].replace(\"<NA>\", np.nan)\n",
    "\n",
    "lncRNA_pw['drug'] = lncRNA_pw['drug'].str.lower().str.split(\";\")\n",
    "lncRNA_pw = lncRNA_pw.explode('drug')\n",
    "\n",
    "lncRNA_pw['regulator'] = lncRNA_pw['regulator'].str.lower().str.split(\";\")\n",
    "lncRNA_pw = lncRNA_pw.explode('regulator')\n",
    "lncRNA_pw['target'] = lncRNA_pw['target'].str.lower().str.split(\";\")\n",
    "lncRNA_pw = lncRNA_pw.explode('target')\n",
    "\n",
    "lncRNA_pw['experimental_method'] = lncRNA_pw['experimental_method'].str.lower().str.split(\";\")\n",
    "lncRNA_pw = lncRNA_pw.explode('experimental_method')\n",
    "lncRNA_pw = pd.merge(lncRNA_pw, method_map, right_on='0_y', left_on='experimental_method', how='left')\n",
    "lncRNA_pw['0_x'] = lncRNA_pw['0_x'].fillna(lncRNA_pw['experimental_method'])\n",
    "lncRNA_pw = lncRNA_pw.drop(columns=['0_y', 'experimental_method'])\n",
    "lncRNA_pw = lncRNA_pw.rename(columns={'0_x':'Method','pmid':'PubMedID', 'drug':'Drug', 'regulator':'Regulator', 'target':'Interactor'})\n",
    "\n",
    "lncRNA_pw['tissue/cell line'] = lncRNA_pw['tissue/cell line'].str.lower().str.split(\";\")\n",
    "lncRNA_pw = lncRNA_pw.explode('tissue/cell line')\n",
    "lncRNA_pw = pd.merge(lncRNA_pw, location_map, right_on='0_y', left_on='tissue/cell line', how='left')\n",
    "lncRNA_pw['0_x'] = lncRNA_pw['0_x'].fillna(lncRNA_pw['tissue/cell line'])\n",
    "lncRNA_pw = lncRNA_pw.drop(columns=['0_y', 'tissue/cell line'])\n",
    "lncRNA_pw = lncRNA_pw.rename(columns={'0_x':'Location'})\n",
    "\n",
    "lncRNA_pw['context_detail'] = lncRNA_pw['context_detail'].str.lower().str.split(\";\")\n",
    "lncRNA_pw = lncRNA_pw.explode('context_detail')\n",
    "lncRNA_pw = pd.merge(lncRNA_pw, disease_map, right_on='0_y', left_on='context_detail', how='left')\n",
    "lncRNA_pw['0_x'] = lncRNA_pw['0_x'].fillna(lncRNA_pw['context_detail'])\n",
    "lncRNA_pw = lncRNA_pw.drop(columns=['0_y', 'context_detail'])\n",
    "lncRNA_pw = lncRNA_pw.rename(columns={'0_x':'Location2'})\n",
    "\n",
    "lncRNA_pw = pd.concat([lncRNA_pw.drop(columns=['Location2']), lncRNA_pw.drop(columns=['Location']).rename(columns={'Location2':'Location'})])\n",
    "\n",
    "lncRNA_pw['Source'] = 'LncRNAWiki'\n",
    "lncRNA_pw.rename(columns={'RNA':':START_ID','Pathway':':END_ID'}, inplace=True)\n",
    "lncRNA_pw.head(n=3) "
   ]
  },
  {
   "cell_type": "code",
   "execution_count": null,
   "metadata": {},
   "outputs": [],
   "source": [
    "lncRNA_pw_up = lncRNA_pw[lncRNA_pw['expression_detail'] == 'Up-regulated'].drop(columns=['expression_detail'])\n",
    "lncRNA_pw_up.head(n=3)"
   ]
  },
  {
   "cell_type": "markdown",
   "metadata": {},
   "source": [
    "* [LncBook](https://ngdc.cncb.ac.cn/lncbook/)"
   ]
  },
  {
   "cell_type": "code",
   "execution_count": null,
   "metadata": {},
   "outputs": [],
   "source": [
    "! wget https://ngdc.cncb.ac.cn/lncbook/files/expression_LncBook2.0.csv.gz -O ../resources/processed_data/unprocessed_data/expression_LncBook2.0.csv.gz"
   ]
  },
  {
   "cell_type": "code",
   "execution_count": null,
   "metadata": {},
   "outputs": [],
   "source": [
    "lncRNA_expression = pd.read_csv(unprocessed_data_location + 'expression_LncBook2.0.csv.gz') # Biological context (Uberon+GO+CLO+Mondo+GO)\n",
    "lncRNA_expression.drop(columns=['Symbol','Featured Expression'],inplace=True)\n",
    "lncRNA_expression.rename(columns={'Normal Tissue/Cell Line': 'UBERON_0000479',\n",
    "                                 'Organ Development':'GO_0048513',\n",
    "                                 'Preimplantation Embryo':'GO_0007566',\n",
    "                                 'Cell Differentiation':'GO_0030154',\n",
    "                                 'Subcellular Localization':'GO_0051179',\n",
    "                                 'Exosome':'GO_0070062',\n",
    "                                 'Cancer Cell Line':'CLO_0009828',\n",
    "                                 'Virus Infection':'MONDO_0005108',\n",
    "                                 'Circadian Rhythm':'GO_0007623'},inplace=True)\n",
    "\n",
    "lncRNA_expression = pd.merge(lncRNA_expression, rnacentral_map_human_lncbook[['RNAcentral ID', 'LncBook Gene ID']].drop_duplicates().rename(\n",
    "    columns={'LncBook Gene ID':'Gene ID'}), on = 'Gene ID').drop(columns=['Gene ID']).rename(columns={'RNAcentral ID':'RNA'})\n",
    "lncRNA_expression.head(n=3)"
   ]
  },
  {
   "cell_type": "code",
   "execution_count": null,
   "metadata": {},
   "outputs": [],
   "source": [
    "# HC\n",
    "HCfinal=pd.DataFrame()\n",
    "# NE\n",
    "NEfinal=pd.DataFrame()\n",
    "# MC\n",
    "MCfinal=pd.DataFrame()\n",
    "# LC\n",
    "LCfinal=pd.DataFrame()\n",
    "\n",
    "for i in ['UBERON_0000479','GO_0048513','GO_0007566','GO_0030154','GO_0051179',\n",
    "          'GO_0070062','CLO_0009828','MONDO_0005108','GO_0007623']:\n",
    "    HC = lncRNA_expression[['RNA','Expression Capacity',i]][lncRNA_expression[['RNA','Expression Capacity',i]][i]=='HC']\n",
    "    HC[i]=i\n",
    "    HC.rename(columns={i:'HC'},inplace=True)\n",
    "    HCfinal = pd.concat([HCfinal,HC])\n",
    "    \n",
    "    NE = lncRNA_expression[['RNA','Expression Capacity',i]][lncRNA_expression[['RNA','Expression Capacity',i]][i]=='NE']\n",
    "    NE[i]=i\n",
    "    NE.rename(columns={i:'NE'},inplace=True)\n",
    "    NEfinal = pd.concat([NEfinal,NE])\n",
    "    \n",
    "    MC = lncRNA_expression[['RNA','Expression Capacity',i]][lncRNA_expression[['RNA','Expression Capacity',i]][i]=='MC']\n",
    "    MC[i]=i\n",
    "    MC.rename(columns={i:'MC'},inplace=True)\n",
    "    MCfinal = pd.concat([MCfinal,MC])\n",
    "\n",
    "    LC = lncRNA_expression[['RNA','Expression Capacity',i]][lncRNA_expression[['RNA','Expression Capacity',i]][i]=='LC']\n",
    "    LC[i]=i\n",
    "    LC.rename(columns={i:'LC'},inplace=True)\n",
    "    LCfinal = pd.concat([LCfinal,LC])\n",
    " \n",
    "HCfinal = HCfinal.rename(columns={'HC':':END_ID', 'RNA':':START_ID'}).drop(columns='Expression Capacity')\n",
    "LCfinal = LCfinal.rename(columns={'LC':':END_ID', 'RNA':':START_ID'}).drop(columns='Expression Capacity')\n",
    "MCfinal = MCfinal.rename(columns={'MC':':END_ID', 'RNA':':START_ID'}).drop(columns='Expression Capacity')\n",
    "NEfinal = NEfinal.rename(columns={'NE':':END_ID', 'RNA':':START_ID'}).drop(columns='Expression Capacity')\n",
    "\n",
    "'''\n",
    "HCfinal['Number_of_experiments'] = (HCfinal.groupby(HCfinal.columns.tolist()).transform('size'))\n",
    "HCfinal = HCfinal[HCfinal['Number_of_experiments'].notna()].drop_duplicates()\n",
    "LCfinal['Number_of_experiments'] = (LCfinal.groupby(LCfinal.columns.tolist()).transform('size'))\n",
    "LCfinal = LCfinal[LCfinal['Number_of_experiments'].notna()].drop_duplicates()\n",
    "MCfinal['Number_of_experiments'] = (MCfinal.groupby(MCfinal.columns.tolist()).transform('size'))\n",
    "MCfinal = MCfinal[MCfinal['Number_of_experiments'].notna()].drop_duplicates()\n",
    "NEfinal['Number_of_experiments'] = (NEfinal.groupby(NEfinal.columns.tolist()).transform('size'))\n",
    "NEfinal = NEfinal[NEfinal['Number_of_experiments'].notna()].drop_duplicates()\n",
    "'''\n",
    "\n",
    "HCfinal['Source'] = 'LncBook'\n",
    "LCfinal['Source'] = 'LncBook'\n",
    "MCfinal['Source'] = 'LncBook'\n",
    "NEfinal['Source'] = 'LncBook'\n",
    "\n",
    "HCfinal.head(n=3) "
   ]
  },
  {
   "cell_type": "markdown",
   "metadata": {},
   "source": [
    "* [miRNet](https://www.mirnet.ca/miRNet/)"
   ]
  },
  {
   "cell_type": "code",
   "execution_count": null,
   "metadata": {},
   "outputs": [],
   "source": [
    "!wget https://www.dropbox.com/s/o27wz2kg9co76mo/miRNet-mir-disease.csv?dl=0 -O ../resources/processed_data/unprocessed_data/miRNet-mir-disease.csv"
   ]
  },
  {
   "cell_type": "code",
   "execution_count": null,
   "metadata": {},
   "outputs": [],
   "source": [
    "mirnet = pd.read_csv(unprocessed_data_location + \"miRNet-mir-disease.csv\").drop(columns=['mirnet','mir_id']) # Mondo+HPO\n",
    "mirnet.disease = mirnet.disease.str.lower()\n",
    "mirnet.pmid = mirnet.pmid.str.split('|')\n",
    "mirnet = mirnet.explode('pmid')\n",
    "mirnet.evidence = mirnet.evidence.str.split(', ')\n",
    "mirnet = mirnet.explode('evidence')\n",
    "mirnet.database = mirnet.database.str.replace(\" v3.2\", \"\").str.replace(\" v2.0\", \"\")\n",
    "mirnet.database = mirnet.database.str.split(', ')\n",
    "mirnet['database'] = mirnet['database'].apply(lambda x: set(x))\n",
    "mirnet.method = mirnet.method.str.replace(\", HMDD v3.2\", \"\").str.replace(\n",
    "    \", HMDD v2.0\", \"\").str.replace(\"HMDD v3.2\", \"\").str.replace(\"HMDD v2.0\", \"\")\n",
    "\n",
    "mirnet.method = mirnet.method.str.lower()\n",
    "mirnet.method = mirnet.method.str.split(', ')\n",
    "mirnet = mirnet.explode('method')\n",
    "mirnet = pd.merge(mirnet, method_map, right_on='0_y', left_on='method', how='left')\n",
    "mirnet['0_x'] = mirnet['0_x'].fillna(mirnet['method'])\n",
    "mirnet = mirnet.drop(columns=['0_y', 'method'])\n",
    "mirnet = mirnet.rename(columns={'0_x':'Method'})\n",
    "\n",
    "print(all(mirnet['mir_acc'].isin(rnacentral_map_human_mirbase['miRBase ID'])))\n",
    "# These are all miRBase dead entries\n",
    "print(mirnet[~mirnet['mir_acc'].isin(rnacentral_map_human_mirbase['miRBase ID'])].head(n=3))\n",
    "mirnet = pd.merge(mirnet, rnacentral_map_human_mirbase.rename(columns={'miRBase ID':'mir_acc'}), on='mir_acc').drop(\n",
    "    columns=['mir_acc']).rename(columns={'RNAcentral ID':'RNA'})\n",
    "\n",
    "# miRBase and HMDD entries are not updated in miRNet. We will use the latest version of the databases\n",
    "mirnet['database'] = mirnet['database'].astype(str)\n",
    "mirnet = mirnet[(mirnet['database']!=\"{'HMDD'}\")]\n",
    "mirnet = mirnet[(mirnet['database']!=\"{'miR2Disease'}\")]\n",
    "mirnet['database'] = mirnet['database'].str.replace('\\{', '', regex=True)\n",
    "mirnet['database'] = mirnet['database'].str.replace('\\}', '', regex=True)\n",
    "mirnet['database'] = mirnet['database'].str.replace('\\'', '', regex=True)\n",
    "mirnet['database'] = mirnet['database'].astype(str) +', miRNet'\n",
    "mirnet['database'] = mirnet['database'].str.split(', ')\n",
    "mirnet = mirnet.explode('database')\n",
    "\n",
    "desc_to_doid_mi2disease = pd.read_csv(\"http://watson.compbio.iupui.edu:8080/miR2Disease/download/diseaseList.txt\",\n",
    "                                      sep=\"\\t\", names=[1,0], skiprows=1)\n",
    "desc_to_doid_mi2disease[0] = desc_to_doid_mi2disease[0].str.replace(':', '_')\n",
    "desc_to_doid_mi2disease[1] = desc_to_doid_mi2disease[1].str.replace(r'\\(.*?\\)', '', regex=True).str.strip().str.lower()\n",
    "desc_to_mondo_mir2disease = pd.merge(desc_to_doid_mi2disease, doid_mondo_map, on=0)[['1_x','1_y']].rename(columns={'1_x':0,'1_y':1})\n",
    "desc_to_mondo_mir2disease2 = pd.merge(desc_to_doid_mi2disease, desc_disPhe_map.rename(\n",
    "    columns={0:1,1:0}), on=1)[[1,'0_y']].rename(columns={1:0,'0_y':1})\n",
    "desc_to_mondo_mir2disease = pd.concat([desc_to_mondo_mir2disease, desc_to_mondo_mir2disease2]).drop_duplicates()\n",
    "mirnet = mirnet.merge(desc_to_mondo_mir2disease, left_on='disease', right_on=0).drop(\n",
    "    columns=[0,'disease']).rename(columns={1:'Disease'})\n",
    "#mirnet = mirnet.groupby(['RNA', 'Disease', 'method', 'evidence', 'database']).agg({'pmid': set}).reset_index()#\n",
    "#mirnet['Number_of_experiments'] = mirnet['pmid'].apply(len)\n",
    "\n",
    "mirnet['pmid'] = pd.to_numeric(mirnet['pmid'], errors='coerce')\n",
    "mirnet['pmid'] = mirnet['pmid'].astype(str)\n",
    "mirnet['pmid'] = mirnet['pmid'].str.replace(\".0\", \"\")\n",
    "mirnet['pmid'] = mirnet['pmid'].replace(\"<NA>\", np.nan)\n",
    "\n",
    "mirnet.rename(columns={'RNA':':START_ID','Disease':':END_ID', 'pmid':'PubMedID', 'database':'Source'}, inplace=True)\n",
    "mirnet.head(n=3)"
   ]
  },
  {
   "cell_type": "code",
   "execution_count": null,
   "metadata": {},
   "outputs": [],
   "source": [
    "mirnet_up = mirnet[mirnet['evidence'].str.contains('overexpr')].drop(columns=['evidence'])\n",
    "mirnet_up.head(n=3)"
   ]
  },
  {
   "cell_type": "markdown",
   "metadata": {},
   "source": [
    "* [miR2Disease](http://watson.compbio.iupui.edu:8080/miR2Disease/) <br />miR2Disease is a manually curated database that aims at providing a comprehensive resource of miRNA deregulation in various human diseases."
   ]
  },
  {
   "cell_type": "code",
   "execution_count": null,
   "metadata": {},
   "outputs": [],
   "source": [
    "data_downloader('http://watson.compbio.iupui.edu:8080/miR2Disease/download/AllEntries.txt', unprocessed_data_location) # Mondo+HPO"
   ]
  },
  {
   "cell_type": "code",
   "execution_count": null,
   "metadata": {},
   "outputs": [],
   "source": [
    "mir2disease = pd.read_csv(unprocessed_data_location + 'AllEntries.txt', sep=\"\\t\", header=None).drop(columns=[4,5])\n",
    "mir2disease[1] = mir2disease[1].str.lower()\n",
    "mir2disease.rename(columns={0: 'mir_id', 1: 'disease'}, inplace=True)\n",
    "\n",
    "desc_to_doid_mi2disease = pd.read_csv(\"http://watson.compbio.iupui.edu:8080/miR2Disease/download/diseaseList.txt\",\n",
    "                                      sep=\"\\t\", names=[1,0], skiprows=1)\n",
    "desc_to_doid_mi2disease[0] = desc_to_doid_mi2disease[0].str.replace(':', '_')\n",
    "desc_to_doid_mi2disease[1] = desc_to_doid_mi2disease[1].str.replace(r'\\(.*?\\)', '', regex=True).str.strip().str.lower()\n",
    "desc_to_mondo_mir2disease = pd.merge(desc_to_doid_mi2disease, doid_mondo_map, on=0)[['1_x','1_y']].rename(columns={'1_x':0,'1_y':1})\n",
    "desc_to_mondo_mir2disease2 = pd.merge(desc_to_doid_mi2disease, desc_disPhe_map.rename(\n",
    "    columns={0:1,1:0}), on=1)[[1,'0_y']].rename(columns={1:0,'0_y':1})\n",
    "desc_to_mondo_mir2disease = pd.concat([desc_to_mondo_mir2disease, desc_to_mondo_mir2disease2]).drop_duplicates()\n",
    "mir2disease = mir2disease.merge(desc_to_mondo_mir2disease, left_on='disease', right_on=0).drop(\n",
    "    columns=[0,'disease']).rename(columns={1:'Disease'})\n",
    "\n",
    "print(all(mir2disease['mir_id'].isin(rnacentral_map_human['DB Description'])))\n",
    "mir2disease['mir_id'] = mir2disease['mir_id'].str.strip()\n",
    "print(mir2disease[~mir2disease['mir_id'].isin(rnacentral_map_human['DB Description'])]['mir_id'].str[:3].unique())\n",
    "miRNA_RNA_miRNAnotInRNAcentral3p = mir2disease[~mir2disease['mir_id'].isin(rnacentral_map_human['DB Description'])]\n",
    "miRNA_RNA_miRNAnotInRNAcentral5p = mir2disease[~mir2disease['mir_id'].isin(rnacentral_map_human['DB Description'])]\n",
    "miRNA_RNA_miRNAnotInRNAcentral5p['mir_id'] = miRNA_RNA_miRNAnotInRNAcentral5p['mir_id'].astype(str) + '-3p'\n",
    "miRNA_RNA_miRNAnotInRNAcentral3p['mir_id'] = miRNA_RNA_miRNAnotInRNAcentral3p['mir_id'].astype(str) + '-5p'\n",
    "miRNA_RNA_miRNAnotInRNAcentral = pd.concat([miRNA_RNA_miRNAnotInRNAcentral3p, miRNA_RNA_miRNAnotInRNAcentral5p])\n",
    "miRNA_RNA_miRNAnotInRNAcentral = pd.merge(miRNA_RNA_miRNAnotInRNAcentral, rnacentral_map_human.rename(\n",
    "    columns={'DB Description':'mir_id'}), on='mir_id').drop(columns=['mir_id']).rename(columns={'RNAcentral ID':':START_ID'})\n",
    "mir2disease = pd.merge(mir2disease, rnacentral_map_human.rename(columns={'DB Description':'mir_id'}), on='mir_id').drop(\n",
    "    columns=['mir_id']).rename(columns={'RNAcentral ID':':START_ID'})\n",
    "mir2disease = pd.concat([mir2disease, miRNA_RNA_miRNAnotInRNAcentral]).drop(columns=['DB','DB ID','Organism','RNA category'])\n",
    "#mir2disease = mir2disease.fillna('nan')\n",
    "#mir2disease['Number_of_experiments'] = (mir2disease.groupby(mir2disease.columns.tolist()).transform('size'))\n",
    "#mir2disease = mir2disease[mir2disease['Number_of_experiments'].notna()].drop_duplicates()\n",
    "\n",
    "mir2disease[3] = mir2disease[3].str.lower()\n",
    "mir2disease[3] = mir2disease[3].str.split(', ')\n",
    "mir2disease = mir2disease.explode(3)\n",
    "mir2disease = pd.merge(mir2disease, method_map, right_on='0_y', left_on=3, how='left')\n",
    "mir2disease['0_x'] = mir2disease['0_x'].fillna(mir2disease[3])\n",
    "mir2disease = mir2disease.drop(columns=['0_y', 3])\n",
    "mir2disease = mir2disease.rename(columns={'0_x':'Method'})\n",
    "\n",
    "mir2disease['Source'] = 'miR2Disease'\n",
    "mir2disease = mir2disease.rename(columns={'Disease':':END_ID'})\n",
    "mir2disease.head(n=3)"
   ]
  },
  {
   "cell_type": "code",
   "execution_count": null,
   "metadata": {},
   "outputs": [],
   "source": [
    "mir2disease[2].unique()"
   ]
  },
  {
   "cell_type": "code",
   "execution_count": null,
   "metadata": {},
   "outputs": [],
   "source": [
    "mir2disease_up = mir2disease[mir2disease[2] == 'up-regulated'].drop(columns=[2])\n",
    "mir2disease_up.head(n=3)"
   ]
  },
  {
   "cell_type": "markdown",
   "metadata": {},
   "source": [
    "* [HMDD](https://www.cuilab.cn/hmdd) <br /> HMDD (the Human microRNA Disease Database) is a database that curated experiment-supported evidence for human microRNA (miRNA) and disease associations. miRNAs are one class of important regulatory RNAs, which mainly repress gene express at the post-transcriptional level."
   ]
  },
  {
   "cell_type": "code",
   "execution_count": null,
   "metadata": {},
   "outputs": [],
   "source": [
    "!wget http://www.cuilab.cn/static/hmdd3/data/alldata_v4.xlsx --no-check-certificate -O ../resources/processed_data/unprocessed_data/alldata_v4.xlsx"
   ]
  },
  {
   "cell_type": "code",
   "execution_count": null,
   "metadata": {},
   "outputs": [],
   "source": [
    "hmdd = pd.read_excel(unprocessed_data_location+'alldata_v4.xlsx').drop(columns=['description']) # Mondo+HPO\n",
    "hmdd.disease = hmdd.disease.str.lower().str.strip()\n",
    "hmdd = hmdd[hmdd['disease'].notna()]\n",
    "\n",
    "hmdd = hmdd.merge(desc_disPhe_map, left_on='disease', right_on=0).drop(\n",
    "    columns=[0,'disease']).rename(columns={1:'Disease'})\n",
    "\n",
    "print(all(hmdd['miRNA'].isin(rnacentral_map_human['DB Description'])))\n",
    "hmdd['miRNA'] = hmdd['miRNA'].str.strip()\n",
    "hmdd['miRNA'] = hmdd['miRNA'].str.replace('EBV', 'ebv')\n",
    "hmdd['miRNA'] = hmdd['miRNA'].str.replace('HBV', 'hbv')\n",
    "print(hmdd[~hmdd['miRNA'].isin(rnacentral_map_human['DB Description'])]['miRNA'].str[:3].unique())\n",
    "miRNA_RNA_miRNAnotInRNAcentral3p = hmdd[~hmdd['miRNA'].isin(rnacentral_map_human['DB Description'])]\n",
    "miRNA_RNA_miRNAnotInRNAcentral5p = hmdd[~hmdd['miRNA'].isin(rnacentral_map_human['DB Description'])]\n",
    "miRNA_RNA_miRNAnotInRNAcentral5p['miRNA'] = miRNA_RNA_miRNAnotInRNAcentral5p['miRNA'].astype(str) + '-3p'\n",
    "miRNA_RNA_miRNAnotInRNAcentral3p['miRNA'] = miRNA_RNA_miRNAnotInRNAcentral3p['miRNA'].astype(str) + '-5p'\n",
    "miRNA_RNA_miRNAnotInRNAcentral = pd.concat([miRNA_RNA_miRNAnotInRNAcentral3p, miRNA_RNA_miRNAnotInRNAcentral5p])\n",
    "miRNA_RNA_miRNAnotInRNAcentral = pd.merge(miRNA_RNA_miRNAnotInRNAcentral, rnacentral_map_human.rename(\n",
    "    columns={'DB Description':'miRNA'}), on='miRNA').drop(columns=['miRNA']).rename(columns={'RNAcentral ID':'RNA'})\n",
    "hmdd = pd.merge(hmdd, rnacentral_map_human.rename(columns={'DB Description':'miRNA'}), on='miRNA').drop(\n",
    "    columns=['miRNA']).rename(columns={'RNAcentral ID':'RNA'})\n",
    "hmdd = pd.concat([hmdd, miRNA_RNA_miRNAnotInRNAcentral]).drop(columns=['DB','DB ID','Organism','RNA category'])\n",
    "#hmdd = hmdd.fillna('nan')\n",
    "#hmdd['Number_of_experiments'] = (hmdd.groupby(hmdd.columns.tolist()).transform('size'))\n",
    "#hmdd = hmdd[hmdd['Number_of_experiments'].notna()].drop_duplicates()\n",
    "\n",
    "hmdd['PMID'] = pd.to_numeric(hmdd['PMID'], errors='coerce')\n",
    "hmdd['PMID'] = hmdd['PMID'].astype(str)\n",
    "hmdd['PMID'] = hmdd['PMID'].str.replace(\".0\", \"\")\n",
    "hmdd['PMID'] = hmdd['PMID'].replace(\"<NA>\", np.nan)\n",
    "\n",
    "hmdd.rename(columns={'RNA':':START_ID','Disease':':END_ID','PMID':'PubMedID'}, inplace=True)\n",
    "hmdd['Source'] = 'HMDD' \n",
    "hmdd.head(n=3)"
   ]
  },
  {
   "cell_type": "code",
   "execution_count": null,
   "metadata": {},
   "outputs": [],
   "source": [
    "hmdd.code.unique()[:5]"
   ]
  },
  {
   "cell_type": "code",
   "execution_count": null,
   "metadata": {},
   "outputs": [],
   "source": [
    "hmdd_up = hmdd[hmdd['code'] == 'tissue_expression_up'].drop(columns=['code'])\n",
    "hmdd_up.head(n=3)"
   ]
  },
  {
   "cell_type": "markdown",
   "metadata": {},
   "source": [
    "* [dbDEMC](https://www.biosino.org/dbDEMC/index) <br /> dbDEMC (database of Differentially Expressed MiRNAs in human Cancers) is an integrated database that designed to store and display differentially expressed microRNAs (miRNAs) in cancers."
   ]
  },
  {
   "cell_type": "code",
   "execution_count": null,
   "metadata": {},
   "outputs": [],
   "source": [
    "! wget https://www.biosino.org/dbDEMC/download/MiRExpAll -O ../resources/processed_data/unprocessed_data/MiRExpAll"
   ]
  },
  {
   "cell_type": "code",
   "execution_count": null,
   "metadata": {},
   "outputs": [],
   "source": [
    "dbdemc = pd.read_csv(unprocessed_data_location+\"MiRExpAll\", sep=\"\\t\")\n",
    "dbdemc = dbdemc[dbdemc.Species.str.contains(\"apiens\")]\n",
    "dbdemc['CancerSubtype'] = dbdemc['CancerSubtype'].fillna(dbdemc['CancerType'])\n",
    "dbdemc = dbdemc.drop(columns=['ExperimentID','logFC','AveExpr','miRNA_ID','SourceDataID','ExperimentalDesign',\n",
    "                                              'Tvalue','Pvalue','Bvalue','Species','CancerType'])\n",
    "dbdemc = dbdemc[dbdemc['adjPvalue']<.01]\n",
    "dbdemc.CancerSubtype = dbdemc.CancerSubtype.str.lower().str.strip()\n",
    "\n",
    "dbdemc = dbdemc.merge(desc_disPhe_map, left_on='CancerSubtype', right_on=0).drop(\n",
    "    columns=[0,'CancerSubtype']).rename(columns={1:'Disease'})\n",
    "\n",
    "print(all(dbdemc['miRBaseID'].isin(rnacentral_map_human['DB Description'])))\n",
    "print(dbdemc[~dbdemc['miRBaseID'].isin(rnacentral_map_human['DB Description'])]['miRBaseID'].str[:3].unique())\n",
    "miRNA_RNA_miRNAnotInRNAcentral3p = dbdemc[~dbdemc['miRBaseID'].isin(rnacentral_map_human['DB Description'])]\n",
    "miRNA_RNA_miRNAnotInRNAcentral5p = dbdemc[~dbdemc['miRBaseID'].isin(rnacentral_map_human['DB Description'])]\n",
    "miRNA_RNA_miRNAnotInRNAcentral5p['miRBaseID'] = miRNA_RNA_miRNAnotInRNAcentral5p['miRBaseID'].astype(str) + '-3p'\n",
    "miRNA_RNA_miRNAnotInRNAcentral3p['miRBaseID'] = miRNA_RNA_miRNAnotInRNAcentral3p['miRBaseID'].astype(str) + '-5p'\n",
    "miRNA_RNA_miRNAnotInRNAcentral = pd.concat([miRNA_RNA_miRNAnotInRNAcentral3p, miRNA_RNA_miRNAnotInRNAcentral5p])\n",
    "miRNA_RNA_miRNAnotInRNAcentral = pd.merge(miRNA_RNA_miRNAnotInRNAcentral, rnacentral_map_human.rename(\n",
    "    columns={'DB Description':'miRBaseID'}), on='miRBaseID').drop(columns=['miRBaseID']).rename(columns={'RNAcentral ID':'RNA'})\n",
    "dbdemc_map = rnacentral_map_human[rnacentral_map_human['DB Description'].isin(dbdemc['miRBaseID']) &\n",
    "                    (~rnacentral_map_human['DB Description'].isna())][['DB Description','RNAcentral ID']].drop_duplicates()\n",
    "dbdemc_map = dbdemc_map.rename(columns={'DB Description':'miRBaseID'})\n",
    "dbdemc = pd.merge(dbdemc, dbdemc_map, on='miRBaseID').drop(\n",
    "        columns=['miRBaseID']).rename(columns={'RNAcentral ID':'RNA'})\n",
    "print(dbdemc.head(n=3))\n",
    "dbdemc = pd.concat([dbdemc, miRNA_RNA_miRNAnotInRNAcentral]).drop(columns=['DB','DB ID','Organism','RNA category'])\n",
    "\n",
    "dbdemc['Cellline'] = dbdemc['Cellline'].str.lower().str.split(\";\")\n",
    "dbdemc = dbdemc.explode('Cellline')\n",
    "dbdemc = pd.merge(dbdemc, location_map, right_on='0_y', left_on='Cellline', how='left')\n",
    "dbdemc['0_x'] = dbdemc['0_x'].fillna(dbdemc['Cellline'])\n",
    "dbdemc = dbdemc.drop(columns=['0_y', 'Cellline'])\n",
    "dbdemc = dbdemc.rename(columns={'0_x':'Location'})\n",
    "\n",
    "dbdemc.rename(columns={'RNA':':START_ID','Disease':':END_ID', 'adjPvalue':'FDR'}, inplace=True)\n",
    "dbdemc['Source'] = 'dbDEMC' \n",
    "dbdemc.head(n=3)"
   ]
  },
  {
   "cell_type": "code",
   "execution_count": null,
   "metadata": {},
   "outputs": [],
   "source": [
    "dbdemc_up = dbdemc[dbdemc['Status'] == 'UP'].drop(columns=['Status'])\n",
    "dbdemc_up.head(n=3)"
   ]
  },
  {
   "cell_type": "markdown",
   "metadata": {},
   "source": [
    "* miRCancer"
   ]
  },
  {
   "cell_type": "code",
   "execution_count": null,
   "metadata": {},
   "outputs": [],
   "source": [
    "mircancer = pd.read_csv(unprocessed_data_location + 'miRCancerJune2020.txt',sep='\\t', encoding='latin1')\n",
    "'''\n",
    "mircancer_ref = pd.DataFrame(mircancer['PubMed Article'].unique(), columns=[\"PubMed Article\"])\n",
    "\n",
    "Entrez.email = 'emanuelecavalleri@email.com'\n",
    "def convert_to_pmid(article_title):\n",
    "    handle = Entrez.esearch(db=\"pubmed\", term=article_title)\n",
    "    record = Entrez.read(handle)\n",
    "    handle.close()\n",
    "    if record[\"IdList\"]:\n",
    "        return record[\"IdList\"][0]\n",
    "    else:\n",
    "        return None\n",
    "\n",
    "# NCBI works with some limits\n",
    "mircancer_ref = np.array_split(mircancer_ref, 7)\n",
    "mircancer_ref[0][\"PMID\"] = mircancer_ref[0][\"PubMed Article\"].apply(convert_to_pmid)\n",
    "mircancer_ref[0].to_csv(unprocessed_data_location + 'miRCancerJune2020_ref0.txt', sep='\\t', index=None)\n",
    "mircancer_ref[1][\"PMID\"] = mircancer_ref[1][\"PubMed Article\"].apply(convert_to_pmid)\n",
    "mircancer_ref[1].to_csv(unprocessed_data_location + 'miRCancerJune2020_ref1.txt', sep='\\t', index=None)\n",
    "mircancer_ref[2][\"PMID\"] = mircancer_ref[2][\"PubMed Article\"].apply(convert_to_pmid)\n",
    "mircancer_ref[2].to_csv(unprocessed_data_location + 'miRCancerJune2020_ref2.txt', sep='\\t', index=None)\n",
    "mircancer_ref[3][\"PMID\"] = mircancer_ref[3][\"PubMed Article\"].apply(convert_to_pmid)\n",
    "mircancer_ref[3].to_csv(unprocessed_data_location + 'miRCancerJune2020_ref3.txt', sep='\\t', index=None)\n",
    "mircancer_ref[4][\"PMID\"] = mircancer_ref[4][\"PubMed Article\"].apply(convert_to_pmid)\n",
    "mircancer_ref[4].to_csv(unprocessed_data_location + 'miRCancerJune2020_ref4.txt', sep='\\t', index=None)\n",
    "mircancer_ref[5][\"PMID\"] = mircancer_ref[5][\"PubMed Article\"].apply(convert_to_pmid)\n",
    "mircancer_ref[5].to_csv(unprocessed_data_location + 'miRCancerJune2020_ref5.txt', sep='\\t', index=None)\n",
    "mircancer_ref[6][\"PMID\"] = mircancer_ref[6][\"PubMed Article\"].apply(convert_to_pmid)\n",
    "mircancer_ref[6].to_csv(unprocessed_data_location + 'miRCancerJune2020_ref6.txt', sep='\\t', index=None)\n",
    "mircancer_ref = pd.concat(mircancer_ref)\n",
    "mircancer_ref.to_csv(unprocessed_data_location + 'miRCancerJune2020_ref.txt', sep='\\t', index=None)\n",
    "'''\n",
    "mircancer_ref = pd.read_csv(unprocessed_data_location + 'miRCancerJune2020_ref.txt', sep='\\t')\n",
    "\n",
    "mircancer = pd.merge(mircancer, mircancer_ref, on='PubMed Article', how='left')\n",
    "\n",
    "mircancer = mircancer.merge(desc_disPhe_map, left_on='Cancer', right_on=0).drop(\n",
    "    columns=[0,'Cancer']).rename(columns={1:'Disease'})\n",
    "\n",
    "print(all(mircancer['mirId'].isin(rnacentral_map_human['DB Description'])))\n",
    "print(mircancer[~mircancer['mirId'].isin(rnacentral_map_human['DB Description'])]['mirId'].str[:3].unique())\n",
    "miRNA_RNA_miRNAnotInRNAcentral3p = mircancer[~mircancer['mirId'].isin(rnacentral_map_human['DB Description'])]\n",
    "miRNA_RNA_miRNAnotInRNAcentral5p = mircancer[~mircancer['mirId'].isin(rnacentral_map_human['DB Description'])]\n",
    "miRNA_RNA_miRNAnotInRNAcentral5p['mirId'] = miRNA_RNA_miRNAnotInRNAcentral5p['mirId'].astype(str) + '-3p'\n",
    "miRNA_RNA_miRNAnotInRNAcentral3p['mirId'] = miRNA_RNA_miRNAnotInRNAcentral3p['mirId'].astype(str) + '-5p'\n",
    "miRNA_RNA_miRNAnotInRNAcentral = pd.concat([miRNA_RNA_miRNAnotInRNAcentral3p, miRNA_RNA_miRNAnotInRNAcentral5p])\n",
    "miRNA_RNA_miRNAnotInRNAcentralhsa = miRNA_RNA_miRNAnotInRNAcentral.copy()\n",
    "miRNA_RNA_miRNAnotInRNAcentralhsa['mirId'] = 'hsa-' + miRNA_RNA_miRNAnotInRNAcentralhsa['mirId'].astype(str)\n",
    "miRNA_RNA_miRNAnotInRNAcentral = pd.concat([miRNA_RNA_miRNAnotInRNAcentral, miRNA_RNA_miRNAnotInRNAcentralhsa])\n",
    "miRNA_RNA_miRNAnotInRNAcentral = pd.merge(miRNA_RNA_miRNAnotInRNAcentral, rnacentral_map_human.rename(\n",
    "    columns={'DB Description':'mirId'}), on='mirId').drop(columns=['mirId']).rename(columns={'RNAcentral ID':':START_ID'})\n",
    "\n",
    "mircancer = pd.merge(mircancer, rnacentral_map_human.rename(\n",
    "    columns={'DB Description':'mirId'}), on='mirId').drop(\n",
    "        columns=['DB','DB ID','mirId','Organism','RNA category']).rename(columns={'RNAcentral ID':':START_ID'})\n",
    "mircancer = pd.concat([mircancer, miRNA_RNA_miRNAnotInRNAcentral]).drop(columns=['DB','DB ID','Organism','RNA category'])\n",
    "#mircancer = mircancer.fillna('nan')\n",
    "#mircancer = mircancer.groupby([':START_ID', 'Disease', 'Profile']).agg({'PMID': set}).reset_index()\n",
    "#mircancer['Number_of_experiments'] = mircancer['PMID'].apply(len)\n",
    "\n",
    "mircancer['PMID'] = pd.to_numeric(mircancer['PMID'], errors='coerce')\n",
    "mircancer['PMID'] = mircancer['PMID'].astype(str)\n",
    "mircancer['PMID'] = mircancer['PMID'].str.replace(\".0\", \"\")\n",
    "mircancer['PMID'] = mircancer['PMID'].replace(\"<NA>\", np.nan)\n",
    "\n",
    "mircancer.rename(columns={'Disease':':END_ID', 'PMID':'PubMedID'}, inplace=True)\n",
    "mircancer['Source'] = 'miRCancer'\n",
    "mircancer.head(n=3)"
   ]
  },
  {
   "cell_type": "code",
   "execution_count": null,
   "metadata": {},
   "outputs": [],
   "source": [
    "mircancer_up = mircancer[mircancer['Profile'].str.contains('up')].drop(columns=['Profile','PubMed Article'])\n",
    "mircancer_up.head(n=3)"
   ]
  },
  {
   "cell_type": "markdown",
   "metadata": {},
   "source": [
    "* [ncRDeathDB](https://www.rna-society.org/ncrdeathdb/)"
   ]
  },
  {
   "cell_type": "code",
   "execution_count": null,
   "metadata": {},
   "outputs": [],
   "source": [
    "! wget https://www.rna-society.org/ncrdeathdb/data/allNcRNACelldeathData.xlsx -O ../resources/processed_data/unprocessed_data/allNcRNACelldeathData.xlsx"
   ]
  },
  {
   "cell_type": "code",
   "execution_count": null,
   "metadata": {},
   "outputs": [],
   "source": [
    "RNA_pDeath = pd.read_excel(unprocessed_data_location + 'allNcRNACelldeathData.xlsx', dtype={\"geneid\": \"string\"})\n",
    "print(RNA_pDeath['RNA Category'].unique())\n",
    "print(RNA_pDeath['Action_Mode'].unique())\n",
    "print(RNA_pDeath['Pathway'].unique())\n",
    "RNA_pDeath['Pathway'] = RNA_pDeath['Pathway'].replace({'necrosis': 'GO_0097300', 'autophagy': 'GO_0006914',\n",
    "                                                       'apoptosis': 'GO_0006915'})\n",
    "RNA_pDeath.Action_Mode = RNA_pDeath.Action_Mode.str.replace('updown', 'up,down')\n",
    "RNA_pDeath.Action_Mode = RNA_pDeath.Action_Mode.str.replace('dowm', 'down')\n",
    "RNA_pDeath.Action_Mode = RNA_pDeath.Action_Mode.str.replace('up ed', 'up')\n",
    "RNA_pDeath.Action_Mode = RNA_pDeath.Action_Mode.str.split(\",\")\n",
    "RNA_pDeath = RNA_pDeath.explode('Action_Mode')\n",
    "RNA_pDeath.miRBase_ID = RNA_pDeath.miRBase_ID.str.split(\",\")\n",
    "RNA_pDeath = RNA_pDeath.explode('miRBase_ID')\n",
    "RNA_pDeath['RNA Category'] = RNA_pDeath['RNA Category'].str.strip()\n",
    "RNA_pDeath['miRNA_symbol'] = RNA_pDeath['miRNA_symbol'].str.strip() # This (mislabeled) column is used for identifying lncRNAs and snoRNAs\n",
    "RNA_pDeath['miRNA_symbol'] = RNA_pDeath['miRNA_symbol'].str.upper()\n",
    "RNA_pDeath['miRBase_ID'] = RNA_pDeath['miRBase_ID'].str.strip()\n",
    "RNA_pDeath['Gene_Symbol'] = RNA_pDeath['Gene_Symbol'].str.strip()\n",
    "RNA_pDeath['Tissue'] = RNA_pDeath['Tissue'].str.strip()\n",
    "RNA_pDeath = RNA_pDeath[RNA_pDeath.tax_id == 9606] # aggiungere le altre specie\n",
    "RNA_pDeath.drop(columns=['Description','Description.1','tax_id','Organism','id','miRBase_mature_ID',\n",
    "                         'geneid','Synonyms','Links','chromosome','map_location','type_of_gene','Full_name_from_nomenclature_authority',\n",
    "                         'Other_designations'],inplace=True)\n",
    "#Gene_Symbol è il gene  con cui l'RNA interagisce\n",
    "\n",
    "RNA_pDeath['PMID'] = pd.to_numeric(RNA_pDeath['PMID'], errors='coerce')\n",
    "RNA_pDeath['PMID'] = RNA_pDeath['PMID'].astype(str)\n",
    "RNA_pDeath['PMID'] = RNA_pDeath['PMID'].str.replace(\".0\", \"\")\n",
    "RNA_pDeath['PMID'] = RNA_pDeath['PMID'].replace(\"<NA>\", np.nan)\n",
    "\n",
    "RNA_pDeath['Tissue'] = RNA_pDeath['Tissue'].str.lower().str.split(\";\")\n",
    "RNA_pDeath = RNA_pDeath.explode('Tissue')\n",
    "RNA_pDeath = pd.merge(RNA_pDeath, location_map, right_on='0_y', left_on='Tissue', how='left')\n",
    "RNA_pDeath['0_x'] = RNA_pDeath['0_x'].fillna(RNA_pDeath['Tissue'])\n",
    "RNA_pDeath = RNA_pDeath.drop(columns=['0_y', 'Tissue'])\n",
    "RNA_pDeath = RNA_pDeath.rename(columns={'0_x':'Location', 'PMID':'PubMedID'})\n",
    "\n",
    "RNA_pDeath.head(n=3)"
   ]
  },
  {
   "cell_type": "code",
   "execution_count": null,
   "metadata": {},
   "outputs": [],
   "source": [
    "miRNA_pDeath = RNA_pDeath[RNA_pDeath['RNA Category'] == 'miRNA']\n",
    "# These miRBase entries do no exist\n",
    "print(miRNA_pDeath[~miRNA_pDeath['miRBase_ID'].isin(rnacentral_map_human_mirbase['miRBase ID'])]['miRBase_ID'].unique()[:5])\n",
    "miRNA_pDeath = pd.merge(miRNA_pDeath, rnacentral_map_human_mirbase, left_on='miRBase_ID',\n",
    "                        right_on='miRBase ID').drop(columns=['miRBase_ID','miRBase ID','RNA Category','miRNA_symbol'])\n",
    "miRNA_pDeath.head(n=3)"
   ]
  },
  {
   "cell_type": "code",
   "execution_count": null,
   "metadata": {},
   "outputs": [],
   "source": [
    "RNA_pDeath = RNA_pDeath[RNA_pDeath['RNA Category'] != 'miRNA']\n",
    "RNA_pDeath = pd.merge(RNA_pDeath, rnacentral_map_human_hgnc[['RNAcentral ID','HGNC symbol']].drop_duplicates(),\n",
    "                      left_on='miRNA_symbol', right_on='HGNC symbol').drop(columns=['RNA Category','miRBase_ID','HGNC symbol','miRNA_symbol'])\n",
    "RNA_pDeath.head(n=3)"
   ]
  },
  {
   "cell_type": "code",
   "execution_count": null,
   "metadata": {},
   "outputs": [],
   "source": [
    "RNA_pDeath = pd.concat([RNA_pDeath, miRNA_pDeath])\n",
    "RNA_pDeath = RNA_pDeath.rename(columns={'RNAcentral ID':':START_ID','Pathway':':END_ID'})\n",
    "RNA_pDeath['Source'] = 'ncRDeathDB'"
   ]
  },
  {
   "cell_type": "code",
   "execution_count": null,
   "metadata": {},
   "outputs": [],
   "source": [
    "RNA_pDeath_up = RNA_pDeath[RNA_pDeath['Action_Mode'] == 'up'].drop(columns='Action_Mode') # GO\n",
    "RNA_pDeath_up.head(n=3)"
   ]
  },
  {
   "cell_type": "markdown",
   "metadata": {},
   "source": [
    "* [Lnc2Cancer](http://bio-bigdata.hrbmu.edu.cn/lnc2cancer/index.html)"
   ]
  },
  {
   "cell_type": "code",
   "execution_count": null,
   "metadata": {},
   "outputs": [],
   "source": [
    "! wget http://bio-bigdata.hrbmu.edu.cn/lnc2cancer/download/circRNA.xlsx -O ../resources/processed_data/unprocessed_data/circRNA.xlsx"
   ]
  },
  {
   "cell_type": "code",
   "execution_count": null,
   "metadata": {},
   "outputs": [],
   "source": [
    "circRNA_disease2 = pd.read_excel(unprocessed_data_location+'circRNA.xlsx').drop(columns=[\n",
    "                                 'sample','function description','year','title']) # circBase -- Mondo+HPO\n",
    "#circRNA_disease2.drop(columns=['desc','cancer type'],inplace=True)\n",
    "circRNA_disease2['name'] = \"hsa_\" + circRNA_disease2['name'].str.strip().str.lower()\n",
    "circRNA_disease2 = circRNA_disease2[circRNA_disease2['name'].str.match(r'hsa_circ_\\d+')]\n",
    "circRNA_disease2['cancer type'] = circRNA_disease2['cancer type'].str.strip().str.lower()\n",
    "circRNA_disease2['regulated'] = circRNA_disease2['regulated'].str.strip().str.lower() \n",
    "circRNA_disease2 = pd.merge(desc_disPhe_map.rename(columns={0:'cancer type'}), circRNA_disease2, on=['cancer type']).drop(\n",
    "    columns=['cancer type']).rename(columns={1:'Disease'})\n",
    "\n",
    "print(circRNA_disease2.regulated.unique())\n",
    "circRNA_disease2.regulated = circRNA_disease2.regulated.str.replace(\"down-regulation\", \"down-regulated\")\n",
    "circRNA_disease2.regulated = circRNA_disease2.regulated.str.replace(\"expressed\", \"expression\")\n",
    "circRNA_disease2.regulated = circRNA_disease2.regulated.str.replace(\"ly\", \"\")\n",
    "print(circRNA_disease2.regulated.unique())\n",
    "\n",
    "circRNA_disease2['pubmed id'] = pd.to_numeric(circRNA_disease2['pubmed id'], errors='coerce')\n",
    "circRNA_disease2['pubmed id'] = circRNA_disease2['pubmed id'].astype(str)\n",
    "circRNA_disease2['pubmed id'] = circRNA_disease2['pubmed id'].str.replace(\".0\", \"\")\n",
    "circRNA_disease2['pubmed id'] = circRNA_disease2['pubmed id'].replace(\"<NA>\", np.nan)\n",
    "\n",
    "circRNA_disease2['methods'] = circRNA_disease2['methods'].str.replace(\"?\", ' ')\n",
    "circRNA_disease2['methods'] = circRNA_disease2['methods'].str.replace(\" etc.\", '')\n",
    "circRNA_disease2['methods'] = circRNA_disease2['methods'].str.lower().str.split(\", \")\n",
    "circRNA_disease2 = circRNA_disease2.explode('methods')\n",
    "circRNA_disease2 = pd.merge(circRNA_disease2, location_map, right_on='0_y', left_on='methods', how='left')\n",
    "circRNA_disease2['0_x'] = circRNA_disease2['0_x'].fillna(circRNA_disease2['methods'])\n",
    "circRNA_disease2 = circRNA_disease2.drop(columns=['0_y', 'methods'])\n",
    "circRNA_disease2 = circRNA_disease2.rename(columns={'0_x':'Method'})\n",
    "\n",
    "circRNA_disease2['Source'] = 'Lnc2Cancer'\n",
    "circRNA_disease2.rename(columns={'name':':START_ID', 'Disease':':END_ID', 'pubmed id':'PubMedID'},inplace=True)\n",
    "circRNA_disease2.head(n=3)"
   ]
  },
  {
   "cell_type": "code",
   "execution_count": null,
   "metadata": {},
   "outputs": [],
   "source": [
    "circRNA_disease2_up = circRNA_disease2[circRNA_disease2['regulated'] == 'up-regulated'] # circBase -- Mondo+HPO\n",
    "circRNA_disease2_up = circRNA_disease2_up.drop(columns=['regulated'])\n",
    "circRNA_disease2_up.head(n=3)"
   ]
  },
  {
   "cell_type": "code",
   "execution_count": null,
   "metadata": {},
   "outputs": [],
   "source": [
    "! wget http://bio-bigdata.hrbmu.edu.cn/lnc2cancer/download/lncRNA.xlsx -O ../resources/processed_data/unprocessed_data/lncRNA.xlsx "
   ]
  },
  {
   "cell_type": "code",
   "execution_count": null,
   "metadata": {},
   "outputs": [],
   "source": [
    "lncRNA_disease2 = pd.read_excel(unprocessed_data_location+'lncRNA.xlsx').drop(columns=[\n",
    "                                 'sample','function description','year','title']) # Mondo+HPO\n",
    "#lncRNA_disease2.drop(columns=['desc','cancer type'],inplace=True)\n",
    "lncRNA_disease2['name'] = lncRNA_disease2['name'].str.strip().str.upper()\n",
    "lncRNA_disease2['cancer type'] = lncRNA_disease2['cancer type'].str.strip().str.lower()\n",
    "lncRNA_disease2['regulated'] = lncRNA_disease2['regulated'].str.strip().str.lower() \n",
    "lncRNA_disease2 = pd.merge(desc_disPhe_map.rename(columns={0:'cancer type'}), lncRNA_disease2, on=['cancer type']).drop(\n",
    "    columns=['cancer type']).rename(columns={1:'Disease'})\n",
    "lncRNA_disease2 = pd.merge(lncRNA_disease2,\n",
    "                           rnacentral_map_human_hgnc[['HGNC symbol', 'RNAcentral ID']].drop_duplicates().rename(\n",
    "                               columns={'HGNC symbol':'name'}), on = 'name').drop(\n",
    "                                   columns=['name']).rename(columns={'RNAcentral ID':'RNA'})\n",
    "\n",
    "print(lncRNA_disease2.regulated.unique())\n",
    "lncRNA_disease2.regulated = lncRNA_disease2.regulated.str.replace(\"down-regulation\", \"down-regulated\")\n",
    "lncRNA_disease2.regulated = lncRNA_disease2.regulated.str.replace(\"expressed\", \"expression\")\n",
    "lncRNA_disease2.regulated = lncRNA_disease2.regulated.str.replace(\"ly\", \"\")\n",
    "print(lncRNA_disease2.regulated.unique())\n",
    "\n",
    "lncRNA_disease2['pubmed id'] = pd.to_numeric(lncRNA_disease2['pubmed id'], errors='coerce')\n",
    "lncRNA_disease2['pubmed id'] = lncRNA_disease2['pubmed id'].astype(str)\n",
    "lncRNA_disease2['pubmed id'] = lncRNA_disease2['pubmed id'].str.replace(\".0\", \"\")\n",
    "lncRNA_disease2['pubmed id'] = lncRNA_disease2['pubmed id'].replace(\"<NA>\", np.nan)\n",
    "\n",
    "lncRNA_disease2['methods'] = lncRNA_disease2['methods'].str.replace(\"?\", ' ')\n",
    "lncRNA_disease2['methods'] = lncRNA_disease2['methods'].str.replace(\" etc.\", '')\n",
    "lncRNA_disease2['methods'] = lncRNA_disease2['methods'].str.lower().str.split(\", \")\n",
    "lncRNA_disease2 = lncRNA_disease2.explode('methods')\n",
    "lncRNA_disease2 = pd.merge(lncRNA_disease2, location_map, right_on='0_y', left_on='methods', how='left')\n",
    "lncRNA_disease2['0_x'] = lncRNA_disease2['0_x'].fillna(lncRNA_disease2['methods'])\n",
    "lncRNA_disease2 = lncRNA_disease2.drop(columns=['0_y', 'methods'])\n",
    "lncRNA_disease2 = lncRNA_disease2.rename(columns={'0_x':'Method'})\n",
    "\n",
    "lncRNA_disease2['Source'] = 'Lnc2Cancer'\n",
    "lncRNA_disease2n = lncRNA_disease2.copy()\n",
    "lncRNA_disease2n['Source'] = 'NONCODE'\n",
    "lncRNA_disease2 = pd.concat([lncRNA_disease2, lncRNA_disease2n])\n",
    "lncRNA_disease2.rename(columns={'RNA':':START_ID', 'Disease':':END_ID', 'pubmed id':'PubMedID'},inplace=True)\n",
    "lncRNA_disease2.head(n=3)"
   ]
  },
  {
   "cell_type": "code",
   "execution_count": null,
   "metadata": {},
   "outputs": [],
   "source": [
    "lncRNA_disease2_up = lncRNA_disease2[lncRNA_disease2['regulated'] == 'up-regulated'] # Mondo+HPO\n",
    "lncRNA_disease2_up = lncRNA_disease2_up.drop(columns=['regulated'])\n",
    "lncRNA_disease2_up.head(n=3)"
   ]
  },
  {
   "cell_type": "markdown",
   "metadata": {},
   "source": [
    "* LncRNAWiki"
   ]
  },
  {
   "cell_type": "code",
   "execution_count": null,
   "metadata": {},
   "outputs": [],
   "source": [
    "LncRNAWiki = pd.read_csv(unprocessed_data_location+'LncRNAWiki_BrowseDownload.csv')\n",
    "lncRNA_disease = LncRNAWiki[LncRNAWiki['biological_context'].notna()]\n",
    "lncRNA_disease = lncRNA_disease[lncRNA_disease.biological_context.str.contains('isease')]\n",
    "lncRNA_disease = lncRNA_disease.drop(columns=['symbol','synonyms','gene_locus','gene_id','conservation_ortholog','clinical_detail',\n",
    "                                        'modification_detail','target_interaction', 'conservation_species','target_effect','epigenetic_modification',\n",
    "                                        'description','conservation','target_type','biological_context','regulator_effect','biological_process','pathway',\n",
    "                                        'regulator_interaction', 'genome_variation', 'variation_detail', 'molecular_function',\n",
    "                                        'expression','regulator_type','functional_mechanism'])\n",
    "\n",
    "lncRNA_disease['transcript_id'] = lncRNA_disease['transcript_id'].str.split(',')\n",
    "lncRNA_disease = lncRNA_disease.explode('transcript_id')\n",
    "lncRNA_disease = lncRNA_disease[lncRNA_disease['transcript_id'].notna()]\n",
    "\n",
    "lncRNA_disease['context_detail'] = lncRNA_disease['context_detail'].str.split(',')\n",
    "lncRNA_disease = lncRNA_disease.explode('context_detail')\n",
    "lncRNA_disease = lncRNA_disease[lncRNA_disease['context_detail'].notna()]\n",
    "\n",
    "lncRNA_disease = pd.merge(desc_disPhe_map.rename(columns={0:'context_detail'}), lncRNA_disease, on=['context_detail']).drop(\n",
    "    columns=['context_detail']).rename(columns={1:'Disease'})\n",
    "lncRNA_disease = pd.merge(lncRNA_disease, rnacentral_map_human_lncbook[['LncBook Transcript ID', 'RNAcentral ID']].drop_duplicates().rename(\n",
    "    columns={'LncBook Transcript ID':'transcript_id'}), on = 'transcript_id').drop(columns=['transcript_id']).rename(\n",
    "        columns={'RNAcentral ID':'RNA'})  \n",
    "\n",
    "lncRNA_disease = lncRNA_disease.fillna('nan')\n",
    "lncRNA_disease.expression_detail = lncRNA_disease.expression_detail.str.split(';')\n",
    "lncRNA_disease = lncRNA_disease.explode('expression_detail')\n",
    "print(lncRNA_disease.expression_detail.unique())\n",
    "\n",
    "lncRNA_disease = lncRNA_disease[lncRNA_disease['RNA'].notna()]\n",
    "lncRNA_disease = lncRNA_disease[lncRNA_disease['Disease'].notna()]\n",
    "\n",
    "lncRNA_disease['pmid'] = pd.to_numeric(lncRNA_disease['pmid'], errors='coerce')\n",
    "lncRNA_disease['pmid'] = lncRNA_disease['pmid'].astype(str)\n",
    "lncRNA_disease['pmid'] = lncRNA_disease['pmid'].str.replace(\".0\", \"\")\n",
    "lncRNA_disease['pmid'] = lncRNA_disease['pmid'].replace(\"<NA>\", np.nan)\n",
    "\n",
    "lncRNA_disease['drug'] = lncRNA_disease['drug'].str.lower().str.split(\";\")\n",
    "lncRNA_disease = lncRNA_disease.explode('drug')\n",
    "\n",
    "lncRNA_disease['regulator'] = lncRNA_disease['regulator'].str.lower().str.split(\";\")\n",
    "lncRNA_disease = lncRNA_disease.explode('regulator')\n",
    "lncRNA_disease['target'] = lncRNA_disease['target'].str.lower().str.split(\";\")\n",
    "lncRNA_disease = lncRNA_disease.explode('target')\n",
    "\n",
    "lncRNA_disease['experimental_method'] = lncRNA_disease['experimental_method'].str.lower().str.split(\";\")\n",
    "lncRNA_disease = lncRNA_disease.explode('experimental_method')\n",
    "lncRNA_disease = pd.merge(lncRNA_disease, method_map, right_on='0_y', left_on='experimental_method', how='left')\n",
    "lncRNA_disease['0_x'] = lncRNA_disease['0_x'].fillna(lncRNA_disease['experimental_method'])\n",
    "lncRNA_disease = lncRNA_disease.drop(columns=['0_y', 'experimental_method'])\n",
    "lncRNA_disease = lncRNA_disease.rename(columns={'0_x':'Method','pmid':'PubMedID', 'drug':'Drug', 'regulator':'Regulator', 'target':'Interactor'})\n",
    "\n",
    "lncRNA_disease['tissue/cell line'] = lncRNA_disease['tissue/cell line'].str.lower().str.split(\";\")\n",
    "lncRNA_disease = lncRNA_disease.explode('tissue/cell line')\n",
    "lncRNA_disease = pd.merge(lncRNA_disease, location_map, right_on='0_y', left_on='tissue/cell line', how='left')\n",
    "lncRNA_disease['0_x'] = lncRNA_disease['0_x'].fillna(lncRNA_disease['tissue/cell line'])\n",
    "lncRNA_disease = lncRNA_disease.drop(columns=['0_y', 'tissue/cell line'])\n",
    "lncRNA_disease = lncRNA_disease.rename(columns={'0_x':'Location'})\n",
    "\n",
    "lncRNA_disease['Source'] = 'LncRNAWiki'\n",
    "lncRNA_disease2 = lncRNA_disease.copy()\n",
    "lncRNA_disease2['Source'] = 'NONCODE'\n",
    "lncRNA_disease = pd.concat([lncRNA_disease, lncRNA_disease2])\n",
    "lncRNA_disease.rename(columns={'RNA':':START_ID', 'Disease':':END_ID'},inplace=True)\n",
    "lncRNA_disease.head(n=3)"
   ]
  },
  {
   "cell_type": "code",
   "execution_count": null,
   "metadata": {},
   "outputs": [],
   "source": [
    "lncRNA_disease_up = lncRNA_disease[lncRNA_disease['expression_detail'] == 'Up-regulated'] # Mondo+HPO\n",
    "lncRNA_disease_up = lncRNA_disease_up.drop(columns=['expression_detail'])\n",
    "lncRNA_disease_up.head(n=3)"
   ]
  },
  {
   "cell_type": "markdown",
   "metadata": {},
   "source": [
    "* [TANRIC](https://www.tanric.org/) <br /> TANRIC characterizes the expression profiles of lncRNAs in large patient cohorts of 20 cancer types."
   ]
  },
  {
   "cell_type": "code",
   "execution_count": null,
   "metadata": {},
   "outputs": [],
   "source": [
    "# https://ibl.mdanderson.org/tanric/_design/basic/download.html --> Select all --> Download button --> place them in a folder called tanric\n",
    "import zipfile\n",
    "for filename in os.listdir(unprocessed_data_location + \"tanric/\"):\n",
    "    if filename.endswith(\".zip\"):\n",
    "        with zipfile.ZipFile(os.path.join(unprocessed_data_location + \"tanric/\", filename), \"r\") as zip_ref:\n",
    "            zip_ref.extract(filename[:-4] + \".tsv\", unprocessed_data_location + \"tanric/\")"
   ]
  },
  {
   "cell_type": "code",
   "execution_count": null,
   "metadata": {},
   "outputs": [],
   "source": [
    "df = []\n",
    "\n",
    "for tsv_file in os.listdir(unprocessed_data_location + \"tanric/\"): # Mondo+HPO\n",
    "    if tsv_file.endswith(\".tsv\"):\n",
    "        lncRNA_disease2 = pd.read_csv(unprocessed_data_location + \"tanric/\" + tsv_file, sep=\"\\t\")\n",
    "        lncRNA_disease2['Number_of_experiments'] = lncRNA_disease2.drop(columns=['Gene_ID'])[lncRNA_disease2.drop(\n",
    "            columns=['Gene_ID']) >= 0.3].count(axis=1)\n",
    "        lncRNA_disease2['Mean_value_across_experiments'] = np.mean(lncRNA_disease2.drop(columns=['Gene_ID']), axis=1)\n",
    "        processed_df = lncRNA_disease2[['Gene_ID','Mean_value_across_experiments','Number_of_experiments']]\n",
    "        processed_df['Disease'] = tsv_file\n",
    "        processed_df = processed_df[processed_df['Mean_value_across_experiments'] > 0.3]\n",
    "        processed_df = processed_df[processed_df['Number_of_experiments'] > 0]\n",
    "        df.append(processed_df)\n",
    "\n",
    "lncRNA_disease_up_3 = pd.concat(df)\n",
    "lncRNA_disease_up_3.Gene_ID = lncRNA_disease_up_3.Gene_ID.str.split('.').str[0]\n",
    "lncRNA_disease_up_3.head(n=3)"
   ]
  },
  {
   "cell_type": "code",
   "execution_count": null,
   "metadata": {},
   "outputs": [],
   "source": [
    "lncRNA_disease_up_3['Disease'] = lncRNA_disease_up_3['Disease'].str.replace(\"-rnaexpr.tsv\",\"\")\n",
    "lncRNA_disease_up_3['Disease'] = lncRNA_disease_up_3['Disease'].str.replace(\"TCGA-\",\"\")\n",
    "lncRNA_disease_up_3['Disease'] = lncRNA_disease_up_3['Disease'].str.replace(\"OTHER-\",\"\")\n",
    "lncRNA_disease_up_3['Disease'] = lncRNA_disease_up_3['Disease'].str.replace(\"_CHINA\",\"\")\n",
    "lncRNA_disease_up_3['Disease'] = lncRNA_disease_up_3['Disease'].str.replace(\"_JAPAN\",\"\")\n",
    "lncRNA_disease_up_3['Disease'] = lncRNA_disease_up_3['Disease'].str.replace(\"_KOREA\",\"\")\n",
    "\n",
    "lncRNA_disease_up_3 = pd.merge(lncRNA_disease_up_3, cancer_mondo_map.rename(columns={0:'Disease'}), on='Disease').drop(\n",
    "    columns=['Disease']).rename(columns={1:'Disease'})\n",
    "lncRNA_disease_up_3 = pd.merge(lncRNA_disease_up_3, rnacentral_map_human_ensembl[[\n",
    "    'RNAcentral ID', 'Ensembl Gene ID']].drop_duplicates().rename(columns={'Ensembl Gene ID':'Gene_ID'}), on='Gene_ID').drop(\n",
    "    columns=['Gene_ID']).rename(columns={'RNAcentral ID':'RNA'})\n",
    "lncRNA_disease_up_3 = lncRNA_disease_up_3.rename(columns={'RNA':':START_ID','Disease':':END_ID','Mean_value_across_experiments':'TANRIC_score'})\n",
    "lncRNA_disease_up_3['Source'] = 'TANRIC'\n",
    "lncRNA_disease_up_3.head(n=3)"
   ]
  },
  {
   "cell_type": "code",
   "execution_count": null,
   "metadata": {},
   "outputs": [],
   "source": [
    "RNA_over_expressed_in_OBO = pd.concat([df_up, pirna_disease_list, lncRNA_pw_up, HCfinal, dbdemc_up,\n",
    "                                        mirnet_up, mir2disease_up, hmdd_up, mircancer_up,\n",
    "                                        RNA_pDeath_up, circRNA_disease2_up, lncRNA_disease2_up,\n",
    "                                        lncRNA_disease_up, lncRNA_disease_up_3])\n",
    "\n",
    "RNA_over_expressed_in_OBO = RNA_over_expressed_in_OBO.groupby([':START_ID',':END_ID']).agg({'PubMedID':set,'Source':set,'Fold_Change':np.mean,\n",
    "                                                                                            'Regulator':set,'Interactor':set,'Drug':set,\n",
    "                                                                                            'Method':set,'Location':set,'FDR':np.mean,\n",
    "                                                                                            'TANRIC_score':np.mean}).reset_index()\n",
    "\n",
    "RNA_over_expressed_in_OBO[':TYPE'] = 'over_expressed_in'\n",
    "RNA_over_expressed_in_OBO.to_pickle(unprocessed_edge_data_location+'RNA_over_expressed_in_OBO.pkl')\n",
    "RNA_over_expressed_in_OBO.head(n=3)"
   ]
  },
  {
   "cell_type": "markdown",
   "metadata": {},
   "source": [
    "***\n",
    "### RNA - http://purl.obolibrary.org/obo/RO_0002206 (expressed in) - OBO"
   ]
  },
  {
   "cell_type": "markdown",
   "metadata": {},
   "source": [
    "* [Lnc2Cancer](http://bio-bigdata.hrbmu.edu.cn/lnc2cancer/index.html) <br /> Lnc2Cancer is a manually curated database that provides comprehensive experimentally supported associations between lncRNA or circRNA and human cancer."
   ]
  },
  {
   "cell_type": "code",
   "execution_count": null,
   "metadata": {},
   "outputs": [],
   "source": [
    "! wget http://bio-bigdata.hrbmu.edu.cn/lnc2cancer/download/circRNA.xlsx -O ../resources/processed_data/unprocessed_data/circRNA.xlsx"
   ]
  },
  {
   "cell_type": "code",
   "execution_count": null,
   "metadata": {},
   "outputs": [],
   "source": [
    "circRNA_disease2_de = circRNA_disease2[circRNA_disease2['regulated'] == 'differential expression']\n",
    "circRNA_disease2_de = circRNA_disease2_de.drop(columns=['regulated'])\n",
    "circRNA_disease2_de.head(n=3)"
   ]
  },
  {
   "cell_type": "code",
   "execution_count": null,
   "metadata": {},
   "outputs": [],
   "source": [
    "! wget http://bio-bigdata.hrbmu.edu.cn/lnc2cancer/download/lncRNA.xlsx -O ../resources/processed_data/unprocessed_data/lncRNA.xlsx "
   ]
  },
  {
   "cell_type": "code",
   "execution_count": null,
   "metadata": {},
   "outputs": [],
   "source": [
    "lncRNA_disease2_de = lncRNA_disease2[lncRNA_disease2['regulated'] == 'differential expression']\n",
    "lncRNA_disease2_de = lncRNA_disease2_de.drop(columns=['regulated'])\n",
    "lncRNA_disease2_de.head(n=3)"
   ]
  },
  {
   "cell_type": "markdown",
   "metadata": {},
   "source": [
    "* LncRNAWiki"
   ]
  },
  {
   "cell_type": "code",
   "execution_count": null,
   "metadata": {},
   "outputs": [],
   "source": [
    "lncRNA_disease_de = lncRNA_disease[(lncRNA_disease['expression_detail'] == 'Differentially expressed')]\n",
    "lncRNA_disease_de = lncRNA_disease_de.drop(columns=['expression_detail'])\n",
    "lncRNA_disease_de.head(n=3)"
   ]
  },
  {
   "cell_type": "code",
   "execution_count": null,
   "metadata": {},
   "outputs": [],
   "source": [
    "lncRNA_pw_expressed = lncRNA_pw[(lncRNA_pw['expression_detail'] == 'Differentially expressed')].drop(columns=['expression_detail']) # PW\n",
    "lncRNA_pw_expressed.head(n=3)"
   ]
  },
  {
   "cell_type": "markdown",
   "metadata": {},
   "source": [
    "* miRNet"
   ]
  },
  {
   "cell_type": "code",
   "execution_count": null,
   "metadata": {},
   "outputs": [],
   "source": [
    "mirnet_normal = mirnet[mirnet['evidence'].str.contains('normal')].drop(columns=['evidence']) # Mondo+HPO\n",
    "mirnet_normal.head(n=3)"
   ]
  },
  {
   "cell_type": "markdown",
   "metadata": {},
   "source": [
    "* [miR2Disease](http://watson.compbio.iupui.edu:8080/miR2Disease/)"
   ]
  },
  {
   "cell_type": "code",
   "execution_count": null,
   "metadata": {},
   "outputs": [],
   "source": [
    "mir2disease_normal = mir2disease[mir2disease[2] == 'normal'].drop(columns=[2])\n",
    "mir2disease_normal.head(n=3)"
   ]
  },
  {
   "cell_type": "code",
   "execution_count": null,
   "metadata": {},
   "outputs": [],
   "source": [
    "RNA_expressed_in_OBO = pd.concat([lncRNA_pw_expressed, mirnet_normal, mir2disease_normal,\n",
    "                                  lncRNA_disease_de, lncRNA_disease2_de, circRNA_disease2_de])\n",
    "RNA_expressed_in_OBO = RNA_expressed_in_OBO.groupby([':START_ID',':END_ID']).agg({'PubMedID':set,'Source':set,\n",
    "                                                                                  'Regulator':set,'Interactor':set,'Drug':set,\n",
    "                                                                                  'Method':set,'Location':set\n",
    "                                                                                  }).reset_index()\n",
    "RNA_expressed_in_OBO[':TYPE'] = 'expressed_in'\n",
    "RNA_expressed_in_OBO.to_pickle(unprocessed_edge_data_location+'RNA_expressed_in_OBO.pkl')\n",
    "RNA_expressed_in_OBO.head(n=3)"
   ]
  },
  {
   "cell_type": "code",
   "execution_count": null,
   "metadata": {},
   "outputs": [],
   "source": [
    "OBO_expresses_RNA = RNA_expressed_in_OBO.rename(columns={':START_ID':':END_ID',':END_ID':':START_ID'})\n",
    "OBO_expresses_RNA[':TYPE'] = 'expresses'\n",
    "OBO_expresses_RNA.to_pickle(unprocessed_edge_data_location+'OBO_expresses_RNA.pkl')\n",
    "OBO_expresses_RNA.head(n=3)"
   ]
  },
  {
   "cell_type": "markdown",
   "metadata": {},
   "source": [
    "***\n",
    "### RNA - http://purl.obolibrary.org/obo/RO_0002246 (under-expressed in) - OBO"
   ]
  },
  {
   "cell_type": "markdown",
   "metadata": {},
   "source": [
    "* [piRBase](http://bigdata.ibp.ac.cn/piRBase/) <br /> piRBase is a database supporting piRNA functional study."
   ]
  },
  {
   "cell_type": "code",
   "execution_count": null,
   "metadata": {},
   "outputs": [],
   "source": [
    "df = pd.DataFrame()\n",
    "\n",
    "directory = unprocessed_data_location + \"piRBase_disease/\"\n",
    "for filename in os.listdir(directory):\n",
    "    filepath = os.path.join(directory, filename)\n",
    "    temp = pd.read_html(filepath)[1]\n",
    "    df = pd.concat([df, temp])\n",
    "\n",
    "df.Disease = df.Disease.str.lower()\n",
    "df.Subtype = df.Subtype.str.lower()\n",
    "df.Name = df.Name.str.strip()\n",
    "df['Source'] = 'piRBase'\n",
    "df = df[['Name', 'Disease', 'Subtype', 'Expression', 'Function', 'PubMed', 'Source']].drop(columns=['Function']) # Mondo+HPO\n",
    "df = df[~df['Name'].isna()]\n",
    "df = df[df['Name'].str.startswith('piR-hsa')]\n",
    "df['Subtype'] = df['Subtype'].fillna(df['Disease'])\n",
    "df = df.drop(columns=['Disease'])\n",
    "#df.PubMed = 'https://pubmed.ncbi.nlm.nih.gov/' + df.PubMed.astype('Int64').astype('str')\n",
    "df = df.rename(columns = {'Subtype':'Disease'})\n",
    "\n",
    "df = pd.merge(df, rnacentral_map_human_pirbase.rename(columns={'piRBase ID':'Name'}), on='Name').drop(\n",
    "    columns=['Name']).rename(columns={'RNAcentral ID':'RNA'})\n",
    "\n",
    "df.Disease = df.Disease.replace('heart failure', 'MONDO_0005252')\n",
    "df.Disease = df.Disease.replace('cardiac hypertrophy', 'HP_0001714')\n",
    "df.Disease = df.Disease.replace('multiple myeloma', 'HP_0006775')\n",
    "df.Disease = df.Disease.replace('gastric cancer', 'MONDO_0001056')\n",
    "df.Disease = df.Disease.replace('breast cancer', 'MONDO_0007254')\n",
    "df.Disease = df.Disease.replace('liver cancer', 'MONDO_0002691')\n",
    "df.Disease = df.Disease.replace('myeloma', 'MONDO_0005170')\n",
    "df.Disease = df.Disease.replace('bladder cancer', 'MONDO_0004986')\n",
    "df.Disease = df.Disease.replace('colorectal cancer', 'MONDO_0005575')\n",
    "df.Disease = df.Disease.replace('pancreas cancer', 'MONDO_0005192')\n",
    "df.Disease = df.Disease.replace('kidney cancer', 'MONDO_0002367')\n",
    "df.Disease = df.Disease.replace('cardiovascular diseases', 'MONDO_0004995')\n",
    "df.Disease = df.Disease.replace('alzheimer', 'MONDO_0004975')\n",
    "df.Disease = df.Disease.replace('thyroid cancer', 'MONDO_0002108')\n",
    "df.Disease = df.Disease.replace('lung cancer', 'MONDO_0008903')\n",
    "df.Disease = df.Disease.replace('prostate cancer', 'MONDO_0008315')\n",
    "df.Disease = df.Disease.replace('parkinson', 'MONDO_0005180')\n",
    "df.Disease = df.Disease.replace('glioblastoma', 'MONDO_0018177')\n",
    "df.Disease = df.Disease.replace('ovarian cancer', 'MONDO_0008170')\n",
    "\n",
    "print(df.Expression.unique())\n",
    "df[['Regulation', 'Fold_Change']] = df['Expression'].str.extract(r'(up-regulated|down-regulated)\\s*FC\\s*(\\d*\\.?\\d+)?')\n",
    "df['Fold_Change'] = pd.to_numeric(df['Fold_Change'], errors='coerce')\n",
    "df.drop(columns=['Expression'], inplace=True)\n",
    "\n",
    "df['PubMed'] = pd.to_numeric(df['PubMed'], errors='coerce')\n",
    "df['PubMed'] = df['PubMed'].astype(str)\n",
    "df['PubMed'] = df['PubMed'].str.replace(\".0\", \"\")\n",
    "df['PubMed'] = df['PubMed'].replace(\"<NA>\", np.nan)\n",
    "\n",
    "df.head(n=3)"
   ]
  },
  {
   "cell_type": "code",
   "execution_count": null,
   "metadata": {},
   "outputs": [],
   "source": [
    "df_down = df[df['Regulation'] == 'down-regulated']\n",
    "df_down.rename(columns={'RNA':':START_ID', 'Disease':':END_ID'}, inplace=True)\n",
    "df_down.head(n=3)"
   ]
  },
  {
   "cell_type": "markdown",
   "metadata": {},
   "source": [
    "* [LncRNAWiki](https://ngdc.cncb.ac.cn/lncrnawiki/)"
   ]
  },
  {
   "cell_type": "code",
   "execution_count": null,
   "metadata": {},
   "outputs": [],
   "source": [
    "lncRNA_pw_down = lncRNA_pw[lncRNA_pw['expression_detail'] == 'Down-regulated'].drop(columns=['expression_detail']) # PW\n",
    "lncRNA_pw_down.head(n=3)"
   ]
  },
  {
   "cell_type": "code",
   "execution_count": null,
   "metadata": {},
   "outputs": [],
   "source": [
    "lncRNA_disease_down = lncRNA_disease[lncRNA_disease['expression_detail'] == 'Down-regulated']\n",
    "lncRNA_disease_down = lncRNA_disease_down.drop(columns=['expression_detail'])\n",
    "lncRNA_disease_down.head(n=3)"
   ]
  },
  {
   "cell_type": "markdown",
   "metadata": {},
   "source": [
    "* LncBook"
   ]
  },
  {
   "cell_type": "code",
   "execution_count": null,
   "metadata": {},
   "outputs": [],
   "source": [
    "LCfinal.head(n=3) # Mondo+HPO"
   ]
  },
  {
   "cell_type": "markdown",
   "metadata": {},
   "source": [
    "* miRNet"
   ]
  },
  {
   "cell_type": "code",
   "execution_count": null,
   "metadata": {},
   "outputs": [],
   "source": [
    "mirnet_down = mirnet[(mirnet['evidence'].str.contains('down'))].drop(columns=['evidence']) # Mondo+HPO\n",
    "mirnet_down.head(n=3)"
   ]
  },
  {
   "cell_type": "markdown",
   "metadata": {},
   "source": [
    "* [miR2Disease](http://watson.compbio.iupui.edu:8080/miR2Disease/)"
   ]
  },
  {
   "cell_type": "code",
   "execution_count": null,
   "metadata": {},
   "outputs": [],
   "source": [
    "mir2disease_down = mir2disease[mir2disease[2] == 'down-regulated'].drop(columns=[2])\n",
    "mir2disease_down.head(n=3)"
   ]
  },
  {
   "cell_type": "markdown",
   "metadata": {},
   "source": [
    "* [HMDD](https://www.cuilab.cn/hmdd)"
   ]
  },
  {
   "cell_type": "code",
   "execution_count": null,
   "metadata": {},
   "outputs": [],
   "source": [
    "hmdd_down = hmdd[(hmdd['code'] == 'tissue_expression_down') | (hmdd['code'] == 'genetics_knock down_suppress')].drop(columns=['code'])\n",
    "hmdd_down.head(n=3)"
   ]
  },
  {
   "cell_type": "markdown",
   "metadata": {},
   "source": [
    "* dbDEMC"
   ]
  },
  {
   "cell_type": "code",
   "execution_count": null,
   "metadata": {},
   "outputs": [],
   "source": [
    "dbdemc_down = dbdemc[dbdemc['Status'] == 'DOWN'].drop(columns=['Status'])\n",
    "dbdemc_down.head(n=3)"
   ]
  },
  {
   "cell_type": "markdown",
   "metadata": {},
   "source": [
    "* miRCancer"
   ]
  },
  {
   "cell_type": "code",
   "execution_count": null,
   "metadata": {},
   "outputs": [],
   "source": [
    "mircancer_down = mircancer[mircancer['Profile'].str.contains('down')].drop(columns=['Profile'])\n",
    "mircancer_down.head(n=3)"
   ]
  },
  {
   "cell_type": "markdown",
   "metadata": {},
   "source": [
    "* [ncRDeathDB](https://www.rna-society.org/ncrdeathdb/) <br/> ncRDeathDB includes ncRNA types associated with apoptosis, autophagy, and necrosis."
   ]
  },
  {
   "cell_type": "code",
   "execution_count": null,
   "metadata": {},
   "outputs": [],
   "source": [
    "! wget -O https://www.rna-society.org/ncrdeathdb/data/allNcRNACelldeathData.xlsx -P ../resources/processed_data/unprocessed_data/"
   ]
  },
  {
   "cell_type": "code",
   "execution_count": null,
   "metadata": {},
   "outputs": [],
   "source": [
    "RNA_pDeath_down = RNA_pDeath[RNA_pDeath['Action_Mode'] == 'down'].drop(columns='Action_Mode') # GO\n",
    "RNA_pDeath_down.head(n=3)"
   ]
  },
  {
   "cell_type": "markdown",
   "metadata": {},
   "source": [
    "* [Lnc2Cancer](http://bio-bigdata.hrbmu.edu.cn/lnc2cancer/index.html) <br /> Lnc2Cancer is a manually curated database that provides comprehensive experimentally supported associations between lncRNA or circRNA and human cancer."
   ]
  },
  {
   "cell_type": "code",
   "execution_count": null,
   "metadata": {},
   "outputs": [],
   "source": [
    "circRNA_disease2_down = circRNA_disease2[circRNA_disease2['regulated'] == 'down-regulated'] # circBase -- Mondo+HPO\n",
    "circRNA_disease2_down = circRNA_disease2_down.drop(columns=['regulated'])\n",
    "circRNA_disease2_down.head(n=3)"
   ]
  },
  {
   "cell_type": "code",
   "execution_count": null,
   "metadata": {},
   "outputs": [],
   "source": [
    "lncRNA_disease2_down = lncRNA_disease2[lncRNA_disease2['regulated'] == 'down-regulated'] # Mondo+HPO\n",
    "lncRNA_disease2_down = lncRNA_disease2_down.drop(columns=['regulated'])\n",
    "lncRNA_disease2_down.head(n=3)"
   ]
  },
  {
   "cell_type": "code",
   "execution_count": null,
   "metadata": {},
   "outputs": [],
   "source": [
    "RNA_expressed_in_OBO = pd.concat([df_down, lncRNA_pw_down, LCfinal, mirnet_down, dbdemc_down,\n",
    "                                  mir2disease_down, hmdd_down, mircancer_down,\n",
    "                                  lncRNA_disease_down, lncRNA_disease2_down,\n",
    "                                  circRNA_disease2_down, RNA_pDeath_down])\n",
    "\n",
    "RNA_expressed_in_OBO = RNA_expressed_in_OBO.groupby([':START_ID',':END_ID']).agg({'PubMedID':set,'Source':set,'Fold_Change':np.mean,\n",
    "                                                                                            'Regulator':set,'Interactor':set,'Drug':set,\n",
    "                                                                                            'Method':set,'Location':set,'FDR':np.mean}).reset_index()\n",
    "\n",
    "RNA_expressed_in_OBO[':TYPE'] = 'under_expressed_in'\n",
    "RNA_expressed_in_OBO.to_pickle(unprocessed_edge_data_location+'RNA_under_expressed_in_OBO.pkl')\n",
    "RNA_expressed_in_OBO.head(n=3)"
   ]
  },
  {
   "cell_type": "markdown",
   "metadata": {},
   "source": [
    "***\n",
    "### Gene - http://purl.obolibrary.org/obo/RO_0003302 (causes or contributes to condition) - OBO"
   ]
  },
  {
   "cell_type": "markdown",
   "metadata": {},
   "source": [
    "* CTD"
   ]
  },
  {
   "cell_type": "code",
   "execution_count": null,
   "metadata": {},
   "outputs": [],
   "source": [
    "data_downloader(\"https://ctdbase.org/reports/CTD_curated_genes_diseases.tsv.gz\", unprocessed_data_location)"
   ]
  },
  {
   "cell_type": "code",
   "execution_count": null,
   "metadata": {},
   "outputs": [],
   "source": [
    "ctd_gene_disease = pd.read_csv(unprocessed_data_location+'CTD_curated_genes_diseases.tsv', sep='\\t', comment=\"#\",\n",
    "                          names=['GeneSymbol','GeneID','DiseaseName','DiseaseID','OmimIDs','PubMedIDs'])\n",
    "\n",
    "ctd_gene_disease = ctd_gene_disease[['GeneID','DiseaseID','PubMedIDs']]\n",
    "ctd_gene_disease['DiseaseID'] = ctd_gene_disease['DiseaseID'].str.replace('MESH:', '')\n",
    "\n",
    "ctd_gene_disease['PubMedIDs'] = pd.to_numeric(ctd_gene_disease['PubMedIDs'], errors='coerce')\n",
    "ctd_gene_disease['PubMedIDs'] = ctd_gene_disease['PubMedIDs'].astype(str)\n",
    "ctd_gene_disease['PubMedIDs'] = ctd_gene_disease['PubMedIDs'].str.replace(\".0\", \"\")\n",
    "ctd_gene_disease['PubMedIDs'] = ctd_gene_disease['PubMedIDs'].replace(\"<NA>\", np.nan)\n",
    "\n",
    "ctd_gene_disease = pd.merge(ctd_gene_disease, disgenet_mondo_hpo_map.rename(columns={0:'DiseaseID'}), on='DiseaseID')\n",
    "ctd_gene_disease['Source'] = \"CTD\"\n",
    "ctd_gene_disease2 = ctd_gene_disease.copy()\n",
    "ctd_gene_disease['Source'] = \"DisGeNET\"\n",
    "ctd_gene_disease = pd.concat([ctd_gene_disease, ctd_gene_disease2])\n",
    "ctd_gene_disease[['GeneID','PubMedIDs',1,'Source']].head(n=3)"
   ]
  },
  {
   "cell_type": "code",
   "execution_count": null,
   "metadata": {},
   "outputs": [],
   "source": [
    "ctd_gene_disease = ctd_gene_disease[['GeneID','PubMedIDs',1,'Source']].rename(columns={1:':END_ID','GeneID':':START_ID','PubMedIDs':'PubMedID'})\n",
    "ctd_gene_disease = ctd_gene_disease.groupby([':START_ID',':END_ID']).agg({'PubMedID':set,\"Source\":set}).reset_index()\n",
    "\n",
    "ctd_gene_disease[':TYPE'] = 'causes_or_contributes_to_condition'\n",
    "ctd_gene_disease.to_pickle(unprocessed_edge_data_location+'gene_causes_or_contributes_to_condition_OBO.pkl')\n",
    "ctd_gene_disease.head(n=3)"
   ]
  },
  {
   "cell_type": "markdown",
   "metadata": {},
   "source": [
    "***\n",
    "### RNA - http://purl.obolibrary.org/obo/RO_0003302 (causes or contributes to condition) - OBO\n"
   ]
  },
  {
   "cell_type": "markdown",
   "metadata": {},
   "source": [
    "* [RNADisease](http://www.rnadisease.org/) <br/> RNADisease includes literature-verified RNA-disease interaction entries and uses a variety of algorithms to obtain a large amount of prediction RNA-disease data."
   ]
  },
  {
   "cell_type": "code",
   "execution_count": null,
   "metadata": {},
   "outputs": [],
   "source": [
    "!wget http://www.rnadisease.org/static/download/RNADiseasev4.0_RNA-disease_experiment_all.zip -O ../resources/processed_data/unprocessed_data/RNADiseasev4.0_RNA-disease_experiment_all.zip\n",
    "import zipfile\n",
    "with zipfile.ZipFile(unprocessed_data_location+'RNADiseasev4.0_RNA-disease_experiment_all.zip', 'r') as zip_ref: # Mondo+HPO\n",
    "    zip_ref.extractall(unprocessed_data_location)"
   ]
  },
  {
   "cell_type": "code",
   "execution_count": null,
   "metadata": {},
   "outputs": [],
   "source": [
    "RNA_disease = pd.read_excel(unprocessed_data_location+'RNADiseasev4.0_RNA-disease_experiment_all.xlsx')\n",
    "# We select only strong evidence interactions for hsa\n",
    "RNA_disease = RNA_disease[RNA_disease['specise'].str.contains('apiens')]\n",
    "# We keep only entries score is >= 0.95 (see http://www.rnadisease.org/help Q10)\n",
    "RNA_disease = RNA_disease[RNA_disease['score']>=0.95]\n",
    "\n",
    "RNA_disease = RNA_disease[(RNA_disease['DO ID'].notna())]\n",
    "RNA_disease['DO ID'] = RNA_disease['DO ID'].str.replace(':','_')\n",
    "RNA_disease['RNA Type'] = RNA_disease['RNA Type'].str.replace(' ','_')\n",
    "RNA_disease = pd.merge(RNA_disease, doid_mondo_map.rename(columns={0:'DO ID'}), on=['DO ID'])\n",
    "RNA_disease['RNA Symbol'] = RNA_disease['RNA Symbol'].str.split('.').str[0]\n",
    "\n",
    "RNA_disease[1] = RNA_disease[1].str.split(',')\n",
    "RNA_disease = RNA_disease.explode(1)\n",
    "RNA_disease.drop(columns=['RDID','specise','Disease Name', 'MeSH ID','KEGG disease ID','DO ID'],inplace=True)\n",
    "\n",
    "RNA_disease['PMID'] = pd.to_numeric(RNA_disease['PMID'], errors='coerce')\n",
    "RNA_disease['PMID'] = RNA_disease['PMID'].astype(str)\n",
    "RNA_disease['PMID'] = RNA_disease['PMID'].str.replace(\".0\", \"\")\n",
    "RNA_disease['PMID'] = RNA_disease['PMID'].replace(\"<NA>\", np.nan)\n",
    "\n",
    "RNA_disease.head(n=3)"
   ]
  },
  {
   "cell_type": "code",
   "execution_count": null,
   "metadata": {},
   "outputs": [],
   "source": [
    "RNA_disease['RNA Type'].unique()"
   ]
  },
  {
   "cell_type": "code",
   "execution_count": null,
   "metadata": {},
   "outputs": [],
   "source": [
    "ensembl_map['ensembl_transcript_type'].unique()"
   ]
  },
  {
   "cell_type": "code",
   "execution_count": null,
   "metadata": {},
   "outputs": [],
   "source": [
    "ensembl_map['ensembl_transcript_type'] = ensembl_map['ensembl_transcript_type'].str.replace(\"transcribed_unitary_pseudogene\",\"pseudo\")\n",
    "ensembl_map['ensembl_transcript_type'] = ensembl_map['ensembl_transcript_type'].str.replace(\"transcribed_unprocessed_pseudogene\",\"pseudo\")\n",
    "ensembl_map['ensembl_transcript_type'] = ensembl_map['ensembl_transcript_type'].str.replace(\"transcribed_processed_pseudogene\",\"pseudo\")\n",
    "ensembl_map['ensembl_transcript_type'] = ensembl_map['ensembl_transcript_type'].str.replace(\"unprocessed_pseudogene\",\"pseudo\")\n",
    "ensembl_map['ensembl_transcript_type'] = ensembl_map['ensembl_transcript_type'].str.replace(\"processed_pseudogene\",\"pseudo\")\n",
    "ensembl_map['ensembl_transcript_type'] = ensembl_map['ensembl_transcript_type'].str.replace(\"IG_V_pseudogene\",\"pseudo\")\n",
    "ensembl_map['ensembl_transcript_type'] = ensembl_map['ensembl_transcript_type'].str.replace(\"unitary_pseudogene\",\"pseudo\")\n",
    "ensembl_map['ensembl_transcript_type'] = ensembl_map['ensembl_transcript_type'].str.replace(\"TR_J_pseudogene\",\"pseudo\")\n",
    "ensembl_map['ensembl_transcript_type'] = ensembl_map['ensembl_transcript_type'].str.replace(\"TR_V_pseudogene\",\"pseudo\")\n",
    "ensembl_map['ensembl_transcript_type'] = ensembl_map['ensembl_transcript_type'].str.replace(\"IG_C_pseudogene\",\"pseudo\")\n",
    "ensembl_map['ensembl_transcript_type'] = ensembl_map['ensembl_transcript_type'].str.replace(\"IG_J_pseudogene\",\"pseudo\")\n",
    "ensembl_map['ensembl_transcript_type'] = ensembl_map['ensembl_transcript_type'].str.replace(\"translated_processed_pseudogene\",\"pseudo\")\n",
    "ensembl_map['ensembl_transcript_type'] = ensembl_map['ensembl_transcript_type'].str.replace(\"pseudogene\",\"pseudo\")\n",
    "ensembl_map['ensembl_transcript_type'] = ensembl_map['ensembl_transcript_type'].str.replace(\"IG_pseudogene\",\"pseudo\")"
   ]
  },
  {
   "cell_type": "code",
   "execution_count": null,
   "metadata": {},
   "outputs": [],
   "source": [
    "pseudo_disease = RNA_disease[RNA_disease['RNA Type'] == 'pseudo']\n",
    "ensembl_map_mrna = ensembl_map[['transcript_stable_id','ensembl_transcript_type', \"symbol\"]]\n",
    "ensembl_map_mrna = ensembl_map_mrna[ensembl_map_mrna['ensembl_transcript_type'] == 'protein_coding'].drop_duplicates()\n",
    "pseudo_disease = pd.merge(pseudo_disease, ensembl_map_mrna, left_on='RNA Symbol',right_on='symbol')\n",
    "pseudo_disease.drop(columns=['RNA Symbol','RNA Type','symbol','ensembl_transcript_type'],inplace=True)\n",
    "\n",
    "pseudo_disease['Source'] = 'RNADisease'\n",
    "pseudo_disease.head(n=3)"
   ]
  },
  {
   "cell_type": "code",
   "execution_count": null,
   "metadata": {},
   "outputs": [],
   "source": [
    "mRNA_disease = RNA_disease[RNA_disease['RNA Type'] == 'mRNA']\n",
    "ensembl_map_mrna = ensembl_map[['transcript_stable_id','ensembl_transcript_type', \"symbol\"]]\n",
    "ensembl_map_mrna = ensembl_map_mrna[ensembl_map_mrna['ensembl_transcript_type'] == 'protein_coding'].drop_duplicates()\n",
    "mRNA_disease = pd.merge(mRNA_disease, ensembl_map_mrna, left_on='RNA Symbol',right_on='symbol')\n",
    "mRNA_disease.drop(columns=['RNA Symbol','RNA Type','symbol','ensembl_transcript_type'],inplace=True)\n",
    "\n",
    "mRNA_disease['Source'] = 'RNADisease'\n",
    "mRNA_disease.head(n=3)"
   ]
  },
  {
   "cell_type": "code",
   "execution_count": null,
   "metadata": {},
   "outputs": [],
   "source": [
    "RNAdisease = RNA_disease[(RNA_disease['RNA Type'] != 'mRNA') & (RNA_disease['RNA Type'] != 'pseudo')]"
   ]
  },
  {
   "cell_type": "code",
   "execution_count": null,
   "metadata": {},
   "outputs": [],
   "source": [
    "print(RNAdisease[RNAdisease['RNA Type'] == 'miRNA']['RNA Symbol'].str[:5].unique())\n",
    "RNAdisease['RNA Symbol'] = RNAdisease['RNA Symbol'].str.replace(\"EBV-\", \"ebv-\")\n",
    "RNAdisease['RNA Symbol'] = RNAdisease['RNA Symbol'].str.replace(\"MCV-\", \"mcv-\")"
   ]
  },
  {
   "cell_type": "code",
   "execution_count": null,
   "metadata": {},
   "outputs": [],
   "source": [
    "RNAdisease = pd.merge(RNAdisease, rnacentral_map_mirbase[['Label', 'RNAcentral ID']].drop_duplicates(), left_on=['RNA Symbol'],\n",
    "                   right_on=['Label'], how=\"left\").drop(columns=[\"Label\"])\n",
    "\n",
    "RNAdisease['RNAcentral ID'] = RNAdisease['RNAcentral ID'].fillna(RNAdisease['RNA Symbol'])\n",
    "RNAdisease.drop(columns=['RNA Symbol'],inplace=True)\n",
    "RNAdisease.rename(columns={'RNAcentral ID':'RNA Symbol'},inplace=True)\n",
    "RNAdisease.head(n=3)"
   ]
  },
  {
   "cell_type": "code",
   "execution_count": null,
   "metadata": {},
   "outputs": [],
   "source": [
    "RNAdisease = pd.merge(RNAdisease, rnacentral_map_human_pirbase[['piRBase ID', 'RNAcentral ID']].drop_duplicates(), left_on=['RNA Symbol'],\n",
    "                   right_on=['piRBase ID'], how=\"left\").drop(columns=[\"piRBase ID\"])\n",
    "\n",
    "RNAdisease['RNAcentral ID'] = RNAdisease['RNAcentral ID'].fillna(RNAdisease['RNA Symbol'])\n",
    "RNAdisease.drop(columns=['RNA Symbol'],inplace=True)\n",
    "RNAdisease.rename(columns={'RNAcentral ID':'RNA Symbol'},inplace=True)\n",
    "RNAdisease.head(n=3)"
   ]
  },
  {
   "cell_type": "code",
   "execution_count": null,
   "metadata": {},
   "outputs": [],
   "source": [
    "RNAdisease = pd.merge(RNAdisease,rnacentral_map_human_hgnc[['RNAcentral ID','HGNC symbol','RNA category']].drop_duplicates(),\n",
    "                      left_on=['RNA Symbol', 'RNA Type'],\n",
    "                   right_on=['HGNC symbol', 'RNA category'], how=\"left\").drop(columns=['RNA Type',\"HGNC symbol\"])\n",
    "\n",
    "RNAdisease['RNAcentral ID'] = RNAdisease['RNAcentral ID'].fillna(RNAdisease['RNA Symbol'])\n",
    "RNAdisease.drop(columns=['RNA Symbol'],inplace=True)\n",
    "RNAdisease.rename(columns={'RNAcentral ID':':START_ID', 1:':END_ID'},inplace=True)\n",
    "RNAdisease.head(n=3)"
   ]
  },
  {
   "cell_type": "code",
   "execution_count": null,
   "metadata": {},
   "outputs": [],
   "source": [
    "RNAdisease = pd.concat([RNAdisease, mRNA_disease, pseudo_disease])\n",
    "RNAdisease = RNAdisease[(RNAdisease[':START_ID'].str.startswith(\"ENST\")) |\n",
    "                         (RNAdisease[':START_ID'].str.startswith(\"URS\")) |\n",
    "                           (RNAdisease[':START_ID'].str.startswith(\"hsa_circ\"))]\n",
    "\n",
    "RNAdisease.rename(columns={'score':'RNAsister_score','PMID':'PubMedID'},inplace=True)\n",
    "RNAdisease.drop(columns=['RNA category',1,'transcript_stable_id'],inplace=True)\n",
    "\n",
    "RNAdisease['Source'] = 'RNADisease'\n",
    "RNAdisease.head(n=3)"
   ]
  },
  {
   "cell_type": "markdown",
   "metadata": {},
   "source": [
    "* [tsRFun](https://rna.sysu.edu.cn/tsRFun/index.php)"
   ]
  },
  {
   "cell_type": "code",
   "execution_count": null,
   "metadata": {},
   "outputs": [],
   "source": [
    "!wget -O https://rna.sysu.edu.cn/tsRFun/download/tsRinCancer/allCancer_0.txt -P ../resources/processed_data/unprocessed_data/allCancer_0.txt"
   ]
  },
  {
   "cell_type": "code",
   "execution_count": null,
   "metadata": {},
   "outputs": [],
   "source": [
    "tsRNA_disease = pd.read_csv(unprocessed_data_location + 'allCancer_0.txt', sep=\"\\t\", index_col=0) # Mondo+HPO\n",
    "\n",
    "# We keep only log2FC columns\n",
    "tsRNA_disease = tsRNA_disease.loc[:, tsRNA_disease.columns.str.endswith('_log2FC')]\n",
    "tsRNA_disease.columns = tsRNA_disease.columns.str.replace(r'_log2FC', '')\n",
    "# tsRNA has a relationship with cancer iff |log2FC| >= 1\n",
    "tsRNA_disease[abs(tsRNA_disease) < 1] = 0\n",
    "\n",
    "tsRNA_disease.head(n=3)"
   ]
  },
  {
   "cell_type": "code",
   "execution_count": null,
   "metadata": {},
   "outputs": [],
   "source": [
    "# We want a dataframe with 2 columns, tRF and associated cancer;\n",
    "# this is an example with ACC \n",
    "tRF=[]\n",
    "log2FC=[]\n",
    "for index, row in tsRNA_disease.iterrows():\n",
    "     if row['ACC'] != 0:\n",
    "            tRF.append(index)\n",
    "            log2FC.append(row['ACC'])\n",
    "            \n",
    "df_acc = pd.DataFrame (tRF, columns = ['tRF'])\n",
    "df_acc['dis'] = 'ACC'\n",
    "df_acc['log2FC'] = log2FC\n",
    "df_acc.head(n=3)"
   ]
  },
  {
   "cell_type": "code",
   "execution_count": null,
   "metadata": {},
   "outputs": [],
   "source": [
    "# Empty dataframe to store processed rows\n",
    "trRF_disease = pd.DataFrame(columns = [\"tRF\", \"dis\"])\n",
    "\n",
    "log2FC=[]\n",
    "for cancer in tsRNA_disease.columns:    \n",
    "    tRF=[]\n",
    "    for index, row in tsRNA_disease.iterrows():\n",
    "         if row[cancer] != 0:\n",
    "            tRF.append(index)\n",
    "            log2FC.append(row[cancer])\n",
    "    \n",
    "    df = pd.DataFrame(tRF, columns = ['tRF'])\n",
    "    df['dis'] = cancer\n",
    "    \n",
    "    trRF_disease = pd.concat([trRF_disease, df], ignore_index=True)\n",
    "    \n",
    "trRF_disease['log2FC'] = log2FC\n",
    "trRF_disease.head(n=3)"
   ]
  },
  {
   "cell_type": "code",
   "execution_count": null,
   "metadata": {},
   "outputs": [],
   "source": [
    "trRF_disease = pd.merge(trRF_disease, cancer_mondo_map.rename(columns={0:'dis'}), on='dis')\n",
    "trRF_disease.drop(columns=['dis'],inplace=True)\n",
    "trRF_disease.rename(columns={1:'Disease'}, inplace=True)\n",
    "trRF_disease['Source'] = 'tsRFun'\n",
    "\n",
    "trRF_disease.rename(columns={'tRF':':START_ID','Disease':':END_ID'},inplace=True)\n",
    "trRF_disease.head(n=3)"
   ]
  },
  {
   "cell_type": "markdown",
   "metadata": {},
   "source": [
    "* miRNet"
   ]
  },
  {
   "cell_type": "code",
   "execution_count": null,
   "metadata": {},
   "outputs": [],
   "source": [
    "mirnet_causes = mirnet[(~mirnet['evidence'].str.contains('down')) & (~mirnet['evidence'].str.contains('over'))]\n",
    "mirnet_causes.head(n=3)"
   ]
  },
  {
   "cell_type": "markdown",
   "metadata": {},
   "source": [
    "* [HMDD](https://www.cuilab.cn/hmdd)"
   ]
  },
  {
   "cell_type": "code",
   "execution_count": null,
   "metadata": {},
   "outputs": [],
   "source": [
    "hmdd_causes = hmdd[(hmdd['code'] != 'tissue_expression_up') & (hmdd['code'] != 'tissue_expression_down')  &\n",
    "                   (hmdd['code'] != 'genetics_knock down_suppress')]\n",
    "hmdd_causes.head(n=3)"
   ]
  },
  {
   "cell_type": "markdown",
   "metadata": {},
   "source": [
    "* [TAM](http://www.lirmed.com/tam2/)"
   ]
  },
  {
   "cell_type": "code",
   "execution_count": null,
   "metadata": {},
   "outputs": [],
   "source": [
    "with open(unprocessed_data_location+'mirset_v9.txt', 'r') as file: # Mondo+HPO\n",
    "    data = file.read().rstrip()\n",
    "    \n",
    "TAM = pd.DataFrame([ ln.rstrip().split('\\t') for ln in\n",
    "    io.StringIO(data).readlines() ]).fillna('')\n",
    "\n",
    "TAM = TAM.dropna(axis=1, how='all')\n",
    "miRNA_disease2 = TAM[TAM[0]==(\"HMDD\")]\n",
    "miRNA_disease2[1] = miRNA_disease2[1].str.lower()\n",
    "miRNA_disease2 = miRNA_disease2.dropna(axis=1, how='all')\n",
    "miRNA_disease2 = miRNA_disease2.drop(columns=[0])\n",
    "miRNA_disease2.head(n=3)"
   ]
  },
  {
   "cell_type": "code",
   "execution_count": null,
   "metadata": {},
   "outputs": [],
   "source": [
    "miRNA_disease2['merged'] = miRNA_disease2[miRNA_disease2.columns[1:]].apply(\n",
    "    lambda x: ','.join(x.dropna().astype(str)),\n",
    "    axis=1\n",
    ")\n",
    "miRNA_disease2 = miRNA_disease2[[1,'merged']]\n",
    "\n",
    "miRNA_disease2['merged'] = miRNA_disease2.merged.str.split(',')\n",
    "miRNA_disease2 = miRNA_disease2.explode('merged')\n",
    "miRNA_disease2.rename(columns={1: 'disease', 'merged': 'mir_id'}, inplace=True)\n",
    "\n",
    "miRNA_disease2 = miRNA_disease2.merge(desc_disPhe_map, left_on='disease', right_on=0).drop(\n",
    "    columns=[0,'disease']).rename(columns={1:'Disease'})\n",
    "\n",
    "print(all(miRNA_disease2['mir_id'].isin(rnacentral_map_human['DB Description'])))\n",
    "miRNA_RNA_miRNAnotInRNAcentral3p = miRNA_disease2[~miRNA_disease2['mir_id'].isin(rnacentral_map_human['DB Description'])]\n",
    "miRNA_RNA_miRNAnotInRNAcentral5p = miRNA_disease2[~miRNA_disease2['mir_id'].isin(rnacentral_map_human['DB Description'])]\n",
    "miRNA_RNA_miRNAnotInRNAcentral5p['mir_id'] = miRNA_RNA_miRNAnotInRNAcentral5p['mir_id'].astype(str) + '-3p'\n",
    "miRNA_RNA_miRNAnotInRNAcentral3p['mir_id'] = miRNA_RNA_miRNAnotInRNAcentral3p['mir_id'].astype(str) + '-5p'\n",
    "miRNA_RNA_miRNAnotInRNAcentral = pd.concat([miRNA_RNA_miRNAnotInRNAcentral3p, miRNA_RNA_miRNAnotInRNAcentral5p])\n",
    "miRNA_RNA_miRNAnotInRNAcentral = pd.merge(miRNA_RNA_miRNAnotInRNAcentral, rnacentral_map_human.rename(\n",
    "    columns={'DB Description':'mir_id'}), on='mir_id').drop(columns=['mir_id']).rename(columns={'RNAcentral ID':'RNA'})\n",
    "\n",
    "miRNA_disease2 = pd.merge(miRNA_disease2, rnacentral_map_human.rename(\n",
    "    columns={'DB Description':'mir_id'}), on='mir_id').drop(columns=['DB','DB ID','mir_id','Organism','RNA category']).rename(columns={'RNAcentral ID':'RNA'})\n",
    "miRNA_disease2 = pd.concat([miRNA_disease2, miRNA_RNA_miRNAnotInRNAcentral]).drop(columns=['DB','DB ID','Organism','RNA category'])\n",
    "\n",
    "miRNA_disease2['Source'] = 'TAM' \n",
    "miRNA_disease2.head(n=3)"
   ]
  },
  {
   "cell_type": "markdown",
   "metadata": {},
   "source": [
    "* [miRcancer](http://mircancer.ecu.edu/) <br /> miRCancer provides comprehensive collection of miRNA expression profiles in various human cancers which are automatically extracted from published literatures in PubMed."
   ]
  },
  {
   "cell_type": "code",
   "execution_count": null,
   "metadata": {},
   "outputs": [],
   "source": [
    "mircancer_causes = mircancer[(~mircancer['Profile'].str.contains(\"down\")) &\n",
    "                             (~mircancer['Profile'].str.contains(\"up\"))].drop(columns=['Profile'])\n",
    "mircancer_causes.head(n=3)"
   ]
  },
  {
   "cell_type": "markdown",
   "metadata": {},
   "source": [
    "* [Lnc2Cancer](http://bio-bigdata.hrbmu.edu.cn/lnc2cancer/index.html) <br /> Lnc2Cancer is a manually curated database that provides comprehensive experimentally supported associations between lncRNA or circRNA and human cancer."
   ]
  },
  {
   "cell_type": "code",
   "execution_count": null,
   "metadata": {},
   "outputs": [],
   "source": [
    "circRNA_disease2_causes = circRNA_disease2[circRNA_disease2['regulated'] == 'nan'] # Mondo+HPO  \n",
    "circRNA_disease2_causes = circRNA_disease2_causes.drop(columns=['regulated'])\n",
    "circRNA_disease2_causes.head(n=3)"
   ]
  },
  {
   "cell_type": "code",
   "execution_count": null,
   "metadata": {},
   "outputs": [],
   "source": [
    "lncRNA_disease2_causes = lncRNA_disease2[lncRNA_disease2['regulated'] == 'nan'] # Mondo+HPO  \n",
    "lncRNA_disease2_causes = lncRNA_disease2_causes.drop(columns=['regulated'])\n",
    "lncRNA_disease2_causes.head(n=3)"
   ]
  },
  {
   "cell_type": "markdown",
   "metadata": {},
   "source": [
    "* [LncRNAWiki](https://ngdc.cncb.ac.cn/lncrnawiki/)"
   ]
  },
  {
   "cell_type": "code",
   "execution_count": null,
   "metadata": {},
   "outputs": [],
   "source": [
    "lncRNA_disease_causes = lncRNA_disease[lncRNA_disease['expression_detail'] == 'nan'].drop(columns=['expression_detail'])\n",
    "lncRNA_disease_causes.head(n=3)"
   ]
  },
  {
   "cell_type": "code",
   "execution_count": null,
   "metadata": {},
   "outputs": [],
   "source": [
    "RNA_causes_or_contributes_to_condition_OBO = pd.concat([lncRNA_disease2_causes, lncRNA_disease_causes,circRNA_disease2_causes,\n",
    "                                                        RNAdisease, trRF_disease, mirnet_causes,\n",
    "                                                        hmdd_causes, miRNA_disease2, mircancer_causes])\n",
    "\n",
    "RNA_causes_or_contributes_to_condition_OBO = RNA_causes_or_contributes_to_condition_OBO.groupby([':START_ID',':END_ID']).agg(\n",
    "    {'PubMedID':set,'Method':set,'log2FC':np.mean,'Source':set,'Regulator':set,'Interactor':set,'Drug':set,'Location':set,\n",
    "    'RNAsister_score':np.mean,\t'log2FC':np.mean }).reset_index()\n",
    "\n",
    "RNA_causes_or_contributes_to_condition_OBO[':TYPE'] = 'causes_or_contributes_to_condition'\n",
    "RNA_causes_or_contributes_to_condition_OBO.to_pickle(unprocessed_edge_data_location+'RNA_causes_or_contributes_to_condition_OBO.pkl')\n",
    "RNA_causes_or_contributes_to_condition_OBO.head(n=3)"
   ]
  },
  {
   "cell_type": "markdown",
   "metadata": {},
   "source": [
    "***\n",
    "### RNA - http://purl.obolibrary.org/obo/RO_0004013 (is causal germline mutation in) - OBO"
   ]
  },
  {
   "cell_type": "markdown",
   "metadata": {},
   "source": [
    "* ClinVar"
   ]
  },
  {
   "cell_type": "code",
   "execution_count": null,
   "metadata": {},
   "outputs": [],
   "source": [
    "# download data\n",
    "url = 'ftp://ftp.ncbi.nlm.nih.gov/pub/clinvar/tab_delimited/variant_summary.txt.gz'\n",
    "data_downloader(url, unprocessed_data_location, 'variant_summary.txt.gz')"
   ]
  },
  {
   "cell_type": "code",
   "execution_count": null,
   "metadata": {},
   "outputs": [],
   "source": [
    "clinvar_data = pd.read_csv(unprocessed_data_location + 'variant_summary.txt', header=0,\n",
    "                           delimiter='\\t', low_memory=False)[['Name', 'GeneID','Assembly','ClinSigSimple',\n",
    "                                                              'RS# (dbSNP)','PhenotypeIDS','ReviewStatus']]\n",
    "clinvar_data = clinvar_data[clinvar_data['GeneID'] != -1].drop(columns=['GeneID'])\n",
    "clinvar_data = clinvar_data[clinvar_data['ClinSigSimple'] == 1].drop(columns=['ClinSigSimple'])\n",
    "clinvar_data = clinvar_data[(clinvar_data['ReviewStatus'] == \"criteria provided, multiple submitters, no conflicts\")\n",
    "                            | (clinvar_data['ReviewStatus'] == \"reviewed by expert panel\")\n",
    "                            | (clinvar_data['ReviewStatus'] == \"practice guideline\")].drop(columns=['ReviewStatus'])\n",
    "clinvar_data = clinvar_data[clinvar_data['RS# (dbSNP)'] != -1]\n",
    "clinvar_data['RS# (dbSNP)'] = 'rs' + clinvar_data['RS# (dbSNP)'].astype(str)\n",
    "clinvar_data['Name'] = clinvar_data['Name'].str.split(\".\").str[0]\n",
    "clinvar_data = clinvar_data[clinvar_data['Assembly'] == 'GRCh38'].drop(columns=['Assembly'])\n",
    "\n",
    "clinvar_data = pd.merge(clinvar_data, rnacentral_map_human_refseq[['RNAcentral ID','RefSeq ID']].drop_duplicates().rename(\n",
    "    columns={'RefSeq ID':'Name'}), on='Name', how='left')\n",
    "clinvar_data = clinvar_data.drop(columns=['Name'])\n",
    "\n",
    "clinvar_data['PhenotypeIDS'] = clinvar_data['PhenotypeIDS'].str.split(\"\\|\")\n",
    "clinvar_data = clinvar_data.explode('PhenotypeIDS')\n",
    "clinvar_data['PhenotypeIDS'] = clinvar_data['PhenotypeIDS'].str.split(\";\")\n",
    "clinvar_data = clinvar_data.explode('PhenotypeIDS')\n",
    "clinvar_data['PhenotypeIDS'] = clinvar_data['PhenotypeIDS'].str.split(\",\")\n",
    "clinvar_data = clinvar_data.explode('PhenotypeIDS')\n",
    "clinvar_data['PhenotypeIDS'] = clinvar_data['PhenotypeIDS'].str.replace(\"MONDO:MONDO:\", \"MONDO_\")\n",
    "clinvar_data['PhenotypeIDS'] = clinvar_data['PhenotypeIDS'].str.replace(\"Human Phenotype Ontology:HP:\", \"HP_\")\n",
    "clinvar_data = clinvar_data[(clinvar_data['PhenotypeIDS'].str.startswith('HP')) | (clinvar_data['PhenotypeIDS'].str.startswith('MONDO'))]\n",
    "clinvar_data['Source'] = 'ClinVar'\n",
    "clinvar_data.rename(columns={'PhenotypeIDS':':END_ID','RNAcentral ID':':START_ID', 'RS# (dbSNP)':'Mutation'},inplace=True)\n",
    "clinvar_data.head(n=3)"
   ]
  },
  {
   "cell_type": "markdown",
   "metadata": {},
   "source": [
    "* [PolymiRTS](https://compbio.uthsc.edu/miRSNP/home.php) <br /> PolymiRTS is a database of naturally occurring DNA variations in microRNA (miRNA) seed regions and miRNA target sites."
   ]
  },
  {
   "cell_type": "code",
   "execution_count": null,
   "metadata": {},
   "outputs": [],
   "source": [
    "!wget https://compbio.uthsc.edu/miRSNP/download/PolymiRTS3.0/Genes_associated_with_human_diseases_traits.txt -O ../resources/processed_data/unprocessed_data/Genes_associated_with_human_diseases_traits.txt"
   ]
  },
  {
   "cell_type": "code",
   "execution_count": null,
   "metadata": {},
   "outputs": [],
   "source": [
    "mrna_disease = pd.read_csv(unprocessed_data_location + 'Genes_associated_with_human_diseases_traits.txt',\n",
    "                           sep='\\t').drop(columns=['Study','Link']) # Mondo+HPO \n",
    "mrna_disease['p-Value'] = pd.to_numeric(mrna_disease['p-Value'], errors='coerce')\n",
    "mrna_disease = mrna_disease[mrna_disease['p-Value'] < 0.01]\n",
    "mrna_disease['Disease/Trait'] = mrna_disease['Disease/Trait'].str.lower()\n",
    "mrna_disease = pd.merge(mrna_disease, desc_disPhe_map.rename(columns={0:'Disease/Trait'}), on='Disease/Trait').drop(\n",
    "    columns=['Disease/Trait']).rename(columns={1:'Disease'})\n",
    "\n",
    "mrna_disease = pd.merge(rnacentral_map_human_refseq[['RNAcentral ID','RefSeq ID']].drop_duplicates().rename(\n",
    "    columns={'RefSeq ID':'RefSeQID'}), mrna_disease, on='RefSeQID').drop(columns=['RefSeQID'])\n",
    "\n",
    "mrna_disease['Source'] = 'PolymiRTS'\n",
    "\n",
    "mrna_disease['PUBMEDID'] = pd.to_numeric(mrna_disease['PUBMEDID'], errors='coerce')\n",
    "mrna_disease['PUBMEDID'] = mrna_disease['PUBMEDID'].astype(str)\n",
    "mrna_disease['PUBMEDID'] = mrna_disease['PUBMEDID'].str.replace(\".0\", \"\")\n",
    "mrna_disease['PUBMEDID'] = mrna_disease['PUBMEDID'].replace(\"<NA>\", np.nan)\n",
    "mrna_disease.rename(columns={'RNAcentral ID':':START_ID', 'Disease':':END_ID', 'p-Value':'p-value',\n",
    "                             'SNPs':'Mutation','PUBMEDID':'PubMedID'}, inplace=True)\n",
    "mrna_disease.head(n=3)"
   ]
  },
  {
   "cell_type": "markdown",
   "metadata": {},
   "source": [
    "* [miRdSNP](http://mirdsnp.ccr.buffalo.edu/index.php) <br /> miRdSNP is a database of disease-associated SNPs and microRNA target sites on 3'UTRs of human genes."
   ]
  },
  {
   "cell_type": "code",
   "execution_count": null,
   "metadata": {},
   "outputs": [],
   "source": [
    "miRdSNP = pd.read_csv(unprocessed_data_location+'mirdsnp-dsnp-generated-mir-targets-v11.03.csv') # Mondo+HPO\n",
    "miRdSNP = miRdSNP[miRdSNP['experimentally_confirmed'] == 'Yes']\n",
    "miRdSNP = miRdSNP.drop(columns=['gene_name','distance','experimentally_confirmed'])\n",
    "miRdSNP.diseases = miRdSNP.diseases.str.lower()\n",
    "\n",
    "miRdSNP = miRdSNP.merge(desc_disPhe_map, left_on='diseases', right_on=0).drop(\n",
    "    columns=[0,'diseases']).rename(columns={1:'Disease'})\n",
    "\n",
    "print(any(miRdSNP['miR'].isin(rnacentral_map_human['DB Description'])))\n",
    "miRNA_RNA_miRNAnotInRNAcentral3p = miRdSNP[~miRdSNP['miR'].isin(rnacentral_map_human['DB Description'])]\n",
    "miRNA_RNA_miRNAnotInRNAcentral5p = miRdSNP[~miRdSNP['miR'].isin(rnacentral_map_human['DB Description'])]\n",
    "miRNA_RNA_miRNAnotInRNAcentral5p['miR'] = miRNA_RNA_miRNAnotInRNAcentral5p['miR'].astype(str) + '-3p'\n",
    "miRNA_RNA_miRNAnotInRNAcentral3p['miR'] = miRNA_RNA_miRNAnotInRNAcentral3p['miR'].astype(str) + '-5p'\n",
    "miRNA_RNA_miRNAnotInRNAcentral = pd.concat([miRNA_RNA_miRNAnotInRNAcentral3p, miRNA_RNA_miRNAnotInRNAcentral5p])\n",
    "miRdSNP = pd.merge(miRNA_RNA_miRNAnotInRNAcentral, rnacentral_map_human.rename(\n",
    "    columns={'DB Description':'miR'}), on='miR').drop(columns=['DB','DB ID','miR','Organism','RNA category']).rename(columns={'RNAcentral ID':'RNA'})\n",
    "\n",
    "miRdSNP = pd.merge(miRdSNP, rnacentral_map_human_refseq[['Label','RefSeq ID']].drop_duplicates().dropna(),\n",
    "                   left_on='refseq_id', right_on='RefSeq ID', how='left')\n",
    "miRdSNP['Label'] = miRdSNP['Label'].fillna(miRdSNP['refseq_id'])\n",
    "miRdSNP = miRdSNP.drop(columns=['RefSeq ID', 'refseq_id'])\n",
    "miRdSNP = miRdSNP.rename(columns={'Label':'Interactor'})\n",
    "\n",
    "miRdSNP.rename(columns={'RNA':':START_ID','Disease':':END_ID', 'SNP':'Mutation'}, inplace=True)\n",
    "miRdSNP['Source'] = 'miRdSNP'\n",
    "miRdSNP.head(n=3)"
   ]
  },
  {
   "cell_type": "code",
   "execution_count": null,
   "metadata": {},
   "outputs": [],
   "source": [
    "RNA_is_causal_germline_mutation_in_OBO = pd.concat([clinvar_data, mrna_disease, miRdSNP])\n",
    "RNA_is_causal_germline_mutation_in_OBO = RNA_is_causal_germline_mutation_in_OBO.groupby(\n",
    "    [':START_ID',':END_ID']).agg({'Mutation':set,'Source':set,'PubMedID':set,'p-value':np.mean,'Interactor':set}).reset_index()\n",
    "RNA_is_causal_germline_mutation_in_OBO[':TYPE'] = 'is_causal_germline_mutation_in'\n",
    "RNA_is_causal_germline_mutation_in_OBO.to_pickle(unprocessed_edge_data_location+'RNA_is_causal_germline_mutation_in_OBO.pkl')\n",
    "\n",
    "OBO_has_material_basis_in_germline_mutation_in_RNA = RNA_is_causal_germline_mutation_in_OBO.rename(\n",
    "    columns={':START_ID':':END_ID',':END_ID':':START_ID'})\n",
    "OBO_has_material_basis_in_germline_mutation_in_RNA[':TYPE'] = 'has_material_basis_in_germline_mutation_in'\n",
    "OBO_has_material_basis_in_germline_mutation_in_RNA.to_pickle(\n",
    "    unprocessed_edge_data_location+'OBO_has_material_basis_in_germline_mutation_in_RNA.pkl')\n",
    "OBO_has_material_basis_in_germline_mutation_in_RNA.head(n=3)"
   ]
  },
  {
   "cell_type": "markdown",
   "metadata": {},
   "source": [
    "***\n",
    "### RNA - http://purl.obolibrary.org/obo/RO_0004014 (is causal somatic mutation in) - OBO"
   ]
  },
  {
   "cell_type": "markdown",
   "metadata": {},
   "source": [
    "* [LncBook](https://ngdc.cncb.ac.cn/lncbook/)"
   ]
  },
  {
   "cell_type": "code",
   "execution_count": null,
   "metadata": {},
   "outputs": [],
   "source": [
    "!wget https://ngdc.cncb.ac.cn/lncbook/files/variation_LncBook2.0.csv.gz -O ../resources/processed_data/unprocessed_data/variation_LncBook2.0.csv.gz"
   ]
  },
  {
   "cell_type": "code",
   "execution_count": null,
   "metadata": {},
   "outputs": [],
   "source": [
    "lncRNA_disease2 = pd.read_csv(unprocessed_data_location+'variation_LncBook2.0.csv.gz').drop(\n",
    "    columns=['Symbol','ClinVar Allele ID','ClinVar Variation Effect','ClinVar Disease Name','Variant Name','dbSNP ID']) # Mondo+HPO\n",
    "print(lncRNA_disease2['COSMIC Variation Effect'].unique())\n",
    "lncRNA_disease2 = lncRNA_disease2[lncRNA_disease2['COSMIC Variation Effect'] == 'Pathogenic'].drop(columns=['COSMIC Variation Effect'])\n",
    "lncRNA_disease2 = lncRNA_disease2[lncRNA_disease2['COSMIC Tumor Name'] != '-']\n",
    "lncRNA_disease2['COSMIC Tumor Name'] = lncRNA_disease2['COSMIC Tumor Name'].str.split(';')\n",
    "lncRNA_disease2 = lncRNA_disease2.explode('COSMIC Tumor Name')\n",
    "lncRNA_disease2['COSMIC Tumor Name'] = lncRNA_disease2['COSMIC Tumor Name'].str.replace(r\"\\(.*?\\)\", \"\", regex=True)\n",
    "lncRNA_disease2['COSMIC Tumor Name'] = [desc[1:] if desc.startswith(' ') else\n",
    "                                       desc for desc in lncRNA_disease2['COSMIC Tumor Name']]\n",
    "lncRNA_disease2['COSMIC Tumor Name'] = lncRNA_disease2['COSMIC Tumor Name'].str.lower()\n",
    "\n",
    "lncRNA_disease2 = pd.merge(desc_disPhe_map.rename(columns={0:'COSMIC Tumor Name'}), lncRNA_disease2, on=['COSMIC Tumor Name']).drop(\n",
    "    columns=['COSMIC Tumor Name']).rename(columns={1:'Disease'})\n",
    "lncRNA_disease2 = pd.merge(lncRNA_disease2, rnacentral_map_human_lncbook[['RNAcentral ID','LncBook Gene ID']].drop_duplicates().rename(\n",
    "    columns={'LncBook Gene ID':'Gene ID'}), on='Gene ID').drop(columns=['Gene ID']).rename(columns={'RNAcentral ID':'RNA'})\n",
    "\n",
    "lncRNA_disease2['Source'] = 'LncBook'\n",
    "lncRNA_disease2.rename(columns={'RNA':':START_ID','Disease':':END_ID','COSMIC Mutation ID':'Mutation'}, inplace=True) \n",
    "lncRNA_disease2.head(n=3)"
   ]
  },
  {
   "cell_type": "markdown",
   "metadata": {},
   "source": [
    "* SomamiR"
   ]
  },
  {
   "cell_type": "code",
   "execution_count": null,
   "metadata": {},
   "outputs": [],
   "source": [
    "miRNA_lncRNA2 = pd.read_csv(unprocessed_data_location+'lncRNA_somatic_v2.0.txt.tar.gz',sep='\\t',dtype={'PMID':str})\n",
    "miRNA_lncRNA2.drop(columns=['Unnamed: 18'],inplace=True) # Mondo+HPO\n",
    "miRNA_lncRNA2.rename(columns={'lncRNA_somatic_v2.0.txt':'Gene'},inplace=True)\n",
    "miRNA_lncRNA2['Gene'] = miRNA_lncRNA2['Gene'].str.replace(r'lnc-', '')\n",
    "miRNA_lncRNA2.rename(columns={'Gene': 'symbol', 'miRNA':'mir_id'}, inplace=True)\n",
    "miRNA_lncRNA2 = miRNA_lncRNA2[miRNA_lncRNA2['TargetScan_Site(0=No;1=Yes)'] == 1]\n",
    "\n",
    "lncpedia_map = pd.read_csv(\"https://lncipedia.org/downloads/lncipedia_5_0/lncipedia_5_0_vs_5_2.txt\", sep='\\t')\n",
    "miRNA_lncRNA2 = miRNA_lncRNA2.merge(lncpedia_map.rename(columns={'LNCipedia 5.0 Transcript ID':'Transcript'}),\n",
    "                                    on='Transcript').drop(columns=['Transcript']).rename(\n",
    "                                        columns={'LNCipedia 5.2 Transcript ID':'Transcript'})\n",
    "miRNA_lncRNA2 = pd.merge(rnacentral_map_human_lncipedia.rename(columns={'LNCipedia transcript ID':'Transcript'}),\n",
    "                         miRNA_lncRNA2, on='Transcript').drop(columns=['Transcript','LNCipedia Gene ID']).rename(\n",
    "                             columns={'RNAcentral ID':'RNA'})\n",
    "\n",
    "miRNA_lncRNA2 = miRNA_lncRNA2.drop(columns=['symbol','Chromosome','Location','Ref_Allele','Sample_Name',\n",
    "                                            'Mut_Allele','FuncClass','Alteration','Target_Site',\n",
    "                                            'Seed','SeedClass', 'TargetScan_Site(0=No;1=Yes)','Mut_ID'])\n",
    "\n",
    "miRNA_lncRNA2 = miRNA_lncRNA2[miRNA_lncRNA2['Cancer_Class'].notna()]\n",
    "miRNA_lncRNA2['Cancer_Class'] = miRNA_lncRNA2['Cancer_Class'].str.lower()\n",
    "miRNA_lncRNA2['Cancer_Class'].str.replace('[ns]','[cancer]')\n",
    "miRNA_lncRNA2['Cancer_Class'] = miRNA_lncRNA2['Cancer_Class'].apply(\n",
    "    lambda x: ' '.join([x.split('[')[1].split(']')[0], x.split('[')[-1].split(']')[0]])).str.replace('_', ' ')\n",
    "\n",
    "miRNA_lncRNA2 = miRNA_lncRNA2.merge(desc_disPhe_map, left_on='Cancer_Class', right_on=0).drop(\n",
    "    columns=[0,'Cancer_Class']).rename(columns={1:'Disease'})\n",
    "\n",
    "miRNA_lncRNA2['PMID'] = pd.to_numeric(miRNA_lncRNA2['PMID'], errors='coerce')\n",
    "miRNA_lncRNA2['PMID'] = miRNA_lncRNA2['PMID'].astype(str)\n",
    "miRNA_lncRNA2['PMID'] = miRNA_lncRNA2['PMID'].str.replace(\".0\", \"\")\n",
    "miRNA_lncRNA2['PMID'] = miRNA_lncRNA2['PMID'].replace(\"<NA>\", np.nan)\n",
    "\n",
    "miRNA_lncRNA2['Source'] = 'SomamiR'\n",
    "miRNA_lncRNA3 = miRNA_lncRNA2.copy()\n",
    "miRNA_lncRNA3['Source'] = 'TargetScan'\n",
    "miRNA_lncRNA2 = pd.concat([miRNA_lncRNA2, miRNA_lncRNA3])\n",
    "miRNA_lncRNA2.rename(columns={'RNA':':START_ID','Disease':':END_ID','COSMIC_ID':'Mutation','mir_id':'Interactor','PMID':'PubMedID'}, inplace=True)\n",
    "miRNA_lncRNA2.head(n=3)"
   ]
  },
  {
   "cell_type": "code",
   "execution_count": null,
   "metadata": {},
   "outputs": [],
   "source": [
    "data_downloader('https://compbio.uthsc.edu/SomamiR/download/miRNA_somatic_v2.0.txt.tar.gz', unprocessed_data_location)"
   ]
  },
  {
   "cell_type": "code",
   "execution_count": null,
   "metadata": {},
   "outputs": [],
   "source": [
    "somamir = pd.read_csv(unprocessed_data_location +\n",
    "                      'miRNA_somatic_v2.0.txt.tar',sep='\\t').drop(\n",
    "                          columns=['Reference','Derived','SNP','Whole_Genome','Whole_Exome','Study_ID','Source',\n",
    "                          'miRNA_Chromosome','Strand','Maturestart','Matureend','Mutation_Distance','Regioin',\n",
    "                            'miR2GO_Execution_Sequence','Unnamed: 19','Sample_Name']) # Mondo+HPO\n",
    "somamir.Cancer_Type = somamir.Cancer_Type.str.replace(\"[NS]\",\"\")\n",
    "somamir = somamir[somamir.Cancer_Type!=\"\"]\n",
    "somamir['Cancer_Type'] = somamir['Cancer_Type'].apply(\n",
    "    lambda x: ' '.join([x.split('[')[1].split(']')[0], x.split('[')[-1].split(']')[0]])).str.replace('_', ' ')\n",
    "\n",
    "somamir = somamir.merge(desc_disPhe_map, left_on='Cancer_Type', right_on=0).drop(\n",
    "    columns=[0,'Cancer_Type']).rename(columns={1:'Disease'})\n",
    "\n",
    "print(all(somamir['miRNA_Name'].isin(rnacentral_map_human['DB Description'])))\n",
    "print(somamir[~somamir['miRNA_Name'].isin(rnacentral_map_human['DB Description'])]['miRNA_Name'].str[:3].unique())\n",
    "miRNA_RNA_miRNAnotInRNAcentral3p = somamir[~somamir['miRNA_Name'].isin(rnacentral_map_human['DB Description'])]\n",
    "miRNA_RNA_miRNAnotInRNAcentral5p = somamir[~somamir['miRNA_Name'].isin(rnacentral_map_human['DB Description'])]\n",
    "miRNA_RNA_miRNAnotInRNAcentral5p['miRNA_Name'] = miRNA_RNA_miRNAnotInRNAcentral5p['miRNA_Name'].astype(str) + '-3p'\n",
    "miRNA_RNA_miRNAnotInRNAcentral3p['miRNA_Name'] = miRNA_RNA_miRNAnotInRNAcentral3p['miRNA_Name'].astype(str) + '-5p'\n",
    "miRNA_RNA_miRNAnotInRNAcentral = pd.concat([miRNA_RNA_miRNAnotInRNAcentral3p, miRNA_RNA_miRNAnotInRNAcentral5p])\n",
    "miRNA_RNA_miRNAnotInRNAcentral = pd.merge(miRNA_RNA_miRNAnotInRNAcentral, rnacentral_map_human.rename(\n",
    "    columns={'DB Description':'miRNA_Name'}), on='miRNA_Name').drop(columns=['miRNA_Name']).rename(columns={'RNAcentral ID':'RNA'})\n",
    "\n",
    "somamir = pd.merge(somamir, rnacentral_map_human.rename(\n",
    "    columns={'DB Description':'miRNA_Name'}), on='miRNA_Name').drop(\n",
    "        columns=['DB','DB ID','miRNA_Name','Organism','RNA category']).rename(columns={'RNAcentral ID':'RNA'})\n",
    "somamir = pd.concat([somamir, miRNA_RNA_miRNAnotInRNAcentral]).drop(columns=['DB','DB ID','Mutation_ID','Organism','RNA category'])\n",
    "\n",
    "somamir['Source'] = 'SomamiR'\n",
    "somamir = somamir.rename(columns={'RNA':':START_ID','Disease':':END_ID','COSMIC_ID':'Mutation'})\n",
    "somamir.head(n=3)"
   ]
  },
  {
   "cell_type": "code",
   "execution_count": null,
   "metadata": {},
   "outputs": [],
   "source": [
    "circRNA_miRNA = pd.read_csv(unprocessed_data_location + 'circRNA_somatic_v2.0.txt.tar.gz', sep=\"\\t\")\n",
    "circRNA_miRNA = circRNA_miRNA[circRNA_miRNA['TargetScan_Site(0=No;1=Yes)'] == 1]\n",
    "circRNA_miRNA = circRNA_miRNA.drop(columns=['Gene','Mut_ID','Chromosome','Location','Mut_Allele','FuncClass','Alteration','Ref_Allele',\n",
    "                                            'Target_Site','Seed','SeedClass','TargetScan_Site(0=No;1=Yes)','Sample_Name','Unnamed: 18'])\n",
    "\n",
    "circRNA_miRNA['PMID'] = pd.to_numeric(circRNA_miRNA['PMID'], errors='coerce')\n",
    "circRNA_miRNA['PMID'] = circRNA_miRNA['PMID'].astype(str)\n",
    "circRNA_miRNA['PMID'] = circRNA_miRNA['PMID'].str.replace(\".0\", \"\")\n",
    "circRNA_miRNA['PMID'] = circRNA_miRNA['PMID'].replace(\"<NA>\", np.nan)\n",
    "circRNA_miRNA['PMID'] = circRNA_miRNA['PMID'].replace(\"nan\", np.nan)\n",
    "\n",
    "circRNA_miRNA['Cancer_Class'] = circRNA_miRNA['Cancer_Class'].str.lower()\n",
    "circRNA_miRNA['Cancer_Class'] = circRNA_miRNA['Cancer_Class'].str.replace('[ns]','')\n",
    "circRNA_miRNA['Cancer_Class'] = circRNA_miRNA['Cancer_Class'].str.replace('_',' ')\n",
    "circRNA_miRNA['Cancer_Class'] = circRNA_miRNA['Cancer_Class'].astype(str).apply(\n",
    "     lambda x: ' '.join(re.findall(r'\\[(.*?)\\]', x)) if '[' in x and ']' in x else x)\n",
    "circRNA_miRNA = circRNA_miRNA.explode('Cancer_Class')\n",
    "circRNA_miRNA = pd.merge(circRNA_miRNA, desc_disPhe_map.rename(columns={0:'Cancer_Class'}), on='Cancer_Class')\n",
    "\n",
    "circRNA_miRNA['Source'] = 'SomamiR'\n",
    "circRNA_miRNA2 = circRNA_miRNA.copy()\n",
    "circRNA_miRNA2['Source'] = 'TargetScan'\n",
    "circRNA_miRNA = pd.concat([circRNA_miRNA, circRNA_miRNA2])\n",
    "RNA_RNA8 = circRNA_miRNA.rename(columns={'Transcript':':START_ID','COSMIC_ID':'Mutation','miRNA':'Interactor',\n",
    "                                         'PMID':'PubMedID',1:':END_ID'}).drop_duplicates()\n",
    "RNA_RNA8.head(n=3)"
   ]
  },
  {
   "cell_type": "code",
   "execution_count": null,
   "metadata": {},
   "outputs": [],
   "source": [
    "RNA_is_causal_germline_mutation_in_OBO = pd.concat([somamir, miRNA_lncRNA2, lncRNA_disease2, RNA_RNA8])\n",
    "RNA_is_causal_germline_mutation_in_OBO = RNA_is_causal_germline_mutation_in_OBO.groupby(\n",
    "    [':START_ID', ':END_ID']).agg({'Mutation':set,'Source':set,'PubMedID':set,'Interactor':set}).reset_index()\n",
    "RNA_is_causal_germline_mutation_in_OBO[':TYPE'] = 'is_causal_somatic_mutation_in'\n",
    "RNA_is_causal_germline_mutation_in_OBO.to_pickle(unprocessed_edge_data_location+'RNA_is_causal_somatic_mutation_in_OBO.pkl')\n",
    "\n",
    "OBO_has_material_basis_in_germline_mutation_in_RNA = RNA_is_causal_germline_mutation_in_OBO.rename(\n",
    "    columns={':START_ID':':END_ID',':END_ID':':START_ID'})\n",
    "OBO_has_material_basis_in_germline_mutation_in_RNA[':TYPE'] = 'has_material_basis_in_somatic_mutation_in'\n",
    "OBO_has_material_basis_in_germline_mutation_in_RNA.to_pickle(\n",
    "    unprocessed_edge_data_location+'OBO_has_material_basis_in_somatic_mutation_in_RNA.pkl')\n",
    "OBO_has_material_basis_in_germline_mutation_in_RNA.head(n=3)"
   ]
  },
  {
   "cell_type": "markdown",
   "metadata": {},
   "source": [
    "***\n",
    "### RNA - http://purl.obolibrary.org/obo/RO_0002436?hosted (molecularly interacts with?molecularly hosted by) - Gene"
   ]
  },
  {
   "cell_type": "markdown",
   "metadata": {},
   "source": [
    "* [snoDB](https://bioinfo-scottgroup.med.usherbrooke.ca/snoDB/) <br /> snoDB is an interactive database of human small nucleolar RNAs (snoRNAs) that includes up-to-date information on snoRNA features, genomic location, conservation, host gene, snoRNA-RNA targets and snoRNA abundance and provides links to other resources."
   ]
  },
  {
   "cell_type": "code",
   "execution_count": null,
   "metadata": {},
   "outputs": [],
   "source": [
    "data_downloader('https://bioinfo-scottgroup.med.usherbrooke.ca/snoDB/download_all', unprocessed_data_location)"
   ]
  },
  {
   "cell_type": "code",
   "execution_count": null,
   "metadata": {},
   "outputs": [],
   "source": [
    "snoDB = pd.read_csv(unprocessed_data_location + 'download_all', sep=\"\\t\")\n",
    "snoDB = snoDB[['rna_central_id','host_gene_id','rrna_targets','snrna_targets','lncrna_targets','protein_coding_targets','snorna_targets',\n",
    "               'mirna_targets','trna_targets','ncrna_targets','pseudogene_targets','other_targets','is_expressed']]\n",
    "snoDB = snoDB[snoDB['rna_central_id'].notna()]\n",
    "snoDB = snoDB.rename(columns={'rna_central_id':'RNA'})\n",
    "for col in snoDB.columns:\n",
    "    snoDB[col] = snoDB[col].astype(str).str.split(';')\n",
    "for col in snoDB.columns:\n",
    "    snoDB = snoDB.explode(col) \n",
    "snoDB['Source'] = 'snoDB'\n",
    "snoDB.head(n=3)"
   ]
  },
  {
   "cell_type": "code",
   "execution_count": null,
   "metadata": {},
   "outputs": [],
   "source": [
    "snoRNA_gene = snoDB[['RNA', 'host_gene_id', 'is_expressed', 'Source']]\n",
    "snoRNA_gene = snoRNA_gene[snoRNA_gene['host_gene_id'] != 'nan']\n",
    "snoRNA_gene = snoRNA_gene.merge(ensembl_entrezGene_map.rename(columns={0:'host_gene_id'}), on='host_gene_id').drop(\n",
    "    columns=['host_gene_id']).rename(columns={1:'Gene'})\n",
    "snoRNA_gene = snoRNA_gene[['RNA', 'Gene', 'Source']]\n",
    "snoRNA_gene = snoRNA_gene.groupby(['RNA','Gene']).agg({'Source':set}).reset_index()\n",
    "snoRNA_gene[':TYPE'] = 'molecularly_hosted_by'\n",
    "snoRNA_gene.rename(columns={'RNA':':START_ID','Gene':':END_ID'}).to_pickle(unprocessed_edge_data_location+\"RNA_molecularly_hosted_by_gene.pkl\")\n",
    "snoRNA_gene[':TYPE'] = 'molecularly_hosts'\n",
    "snoRNA_gene.rename(columns={'RNA':':END_ID','Gene':':START_ID'}).to_pickle(unprocessed_edge_data_location+\"gene_molecularly_hosts_RNA.pkl\")\n",
    "snoRNA_gene.head(n=3)"
   ]
  },
  {
   "cell_type": "markdown",
   "metadata": {},
   "source": [
    "***\n",
    "### RNA - http://purl.obolibrary.org/obo/RO_0002434 (interacts with) - RNA"
   ]
  },
  {
   "cell_type": "markdown",
   "metadata": {},
   "source": [
    "* [RNAInter](http://www.rnainter.org/) <br/> RNAInter integrates experimentally validated and computationally predicted RNA interactome data from the literature and databases."
   ]
  },
  {
   "cell_type": "code",
   "execution_count": null,
   "metadata": {},
   "outputs": [],
   "source": [
    "!wget http://www.rnainter.org/raidMedia/download/Download_data_RR.tar.gz -O ../resources/processed_data/unprocessed_data/Download_data_RR.tar.gz"
   ]
  },
  {
   "cell_type": "code",
   "execution_count": null,
   "metadata": {},
   "outputs": [],
   "source": [
    "RNA_RNA = pd.read_csv(unprocessed_data_location+'Download_data_RR.tar.gz',sep='\\t').rename(columns={'Download_data_RR.txt':'RNAInterID'})\n",
    "\n",
    "# We select only strong evidence interactions for hsa\n",
    "RNA_RNA = RNA_RNA[(RNA_RNA['score'] >= 0.2886) &\n",
    "                  (RNA_RNA['Species1'].str.contains('apiens')) &\n",
    "                  (RNA_RNA['Species2'].str.contains('apiens'))]\n",
    "\n",
    "RNA_RNA.Category1 = RNA_RNA.Category1.str.replace(\"PCG\", 'mRNA')\n",
    "RNA_RNA.Category2 = RNA_RNA.Category2.str.replace(\"PCG\", 'mRNA')\n",
    "\n",
    "RNA_RNA.Raw_ID1 = RNA_RNA.Raw_ID1.str.replace(\"NCBI:\", '')\n",
    "RNA_RNA.Raw_ID2 = RNA_RNA.Raw_ID2.str.replace(\"NCBI:\", '')\n",
    "\n",
    "RNA_RNA.Raw_ID1 = RNA_RNA.Raw_ID1.str.replace(\"miRBase:\", '')\n",
    "RNA_RNA.Raw_ID2 = RNA_RNA.Raw_ID2.str.replace(\"miRBase:\", '')\n",
    "\n",
    "RNA_RNA.Raw_ID1 = RNA_RNA.Raw_ID1.str.replace(\"circBase:\", '')\n",
    "RNA_RNA.Raw_ID2 = RNA_RNA.Raw_ID2.str.replace(\"circBase:\", '')\n",
    "\n",
    "# tRF\n",
    "RNA_RNA.Raw_ID1 = RNA_RNA.Raw_ID1.str.replace(\"tRFdb:\", 'trfdb?')\n",
    "RNA_RNA.Raw_ID2 = RNA_RNA.Raw_ID2.str.replace(\"tRFdb:\", 'trfdb?')\n",
    "\n",
    "RNA_RNA['Raw_ID1'] = RNA_RNA['Raw_ID1'].str.split(';')\n",
    "RNA_RNA = RNA_RNA.explode('Raw_ID1')\n",
    "RNA_RNA['Raw_ID2'] = RNA_RNA['Raw_ID2'].str.split(';')\n",
    "RNA_RNA = RNA_RNA.explode('Raw_ID2')\n",
    "\n",
    "RNA_RNA['Interactor1.Symbol'] = RNA_RNA['Interactor1.Symbol'].str.split('.').str[0]\n",
    "RNA_RNA['Interactor2.Symbol'] = RNA_RNA['Interactor2.Symbol'].str.split('.').str[0]\n",
    "\n",
    "# Edge properties\n",
    "RNA_RNA.strong = RNA_RNA.strong.str.replace('//','|')\n",
    "RNA_RNA.strong = RNA_RNA.strong.str.lower()\n",
    "\n",
    "RNA_RNA.weak = RNA_RNA.weak.str.replace('//','|')\n",
    "RNA_RNA.weak = RNA_RNA.weak.str.lower()\n",
    "\n",
    "RNA_RNA.predict = RNA_RNA.predict.str.replace('//','|')\n",
    "RNA_RNA.predict = RNA_RNA.predict.str.lower()\n",
    "\n",
    "RNA_RNA.head(n=3)"
   ]
  },
  {
   "cell_type": "code",
   "execution_count": null,
   "metadata": {},
   "outputs": [],
   "source": [
    "a = set(RNA_RNA.Category1)\n",
    "b = set(RNA_RNA.Category2)\n",
    "a.union(b)"
   ]
  },
  {
   "cell_type": "code",
   "execution_count": null,
   "metadata": {},
   "outputs": [],
   "source": [
    "RNA_RNA = pd.merge(RNA_RNA, rnacentral_map_human_mirbase[['miRBase ID', 'RNAcentral ID']].drop_duplicates(), left_on=['Raw_ID1'],\n",
    "                   right_on=['miRBase ID'], how=\"left\").drop(columns=[\"miRBase ID\"])\n",
    "\n",
    "RNA_RNA['RNAcentral ID'] = RNA_RNA['RNAcentral ID'].fillna(RNA_RNA['Raw_ID1'])\n",
    "RNA_RNA.drop(columns=['Raw_ID1'],inplace=True)\n",
    "RNA_RNA.rename(columns={'RNAcentral ID':'Raw_ID1'},inplace=True)\n",
    "\n",
    "RNA_RNA = pd.merge(RNA_RNA, rnacentral_map_human_mirbase[['miRBase ID', 'RNAcentral ID']].drop_duplicates(), left_on=['Raw_ID2'],\n",
    "                   right_on=['miRBase ID'], how=\"left\").drop(columns=[\"miRBase ID\"])\n",
    "\n",
    "RNA_RNA['RNAcentral ID'] = RNA_RNA['RNAcentral ID'].fillna(RNA_RNA['Raw_ID2'])\n",
    "RNA_RNA.drop(columns=['Raw_ID2'],inplace=True)\n",
    "RNA_RNA.rename(columns={'RNAcentral ID':'Raw_ID2'},inplace=True)\n",
    "\n",
    "RNA_RNA.head(n=2)"
   ]
  },
  {
   "cell_type": "code",
   "execution_count": null,
   "metadata": {},
   "outputs": [],
   "source": [
    "print(RNA_RNA[RNA_RNA['Category2'] == 'piRNA'])"
   ]
  },
  {
   "cell_type": "code",
   "execution_count": null,
   "metadata": {},
   "outputs": [],
   "source": [
    "print(RNA_RNA[RNA_RNA['Category2'] == 'piRNA'])\n",
    "RNA_RNA.loc[31571, 'Raw_ID2'] = 'piR-hsa-39980'\n",
    "RNA_RNA.loc[39194, 'Raw_ID2'] = 'piR-hsa-20280'"
   ]
  },
  {
   "cell_type": "code",
   "execution_count": null,
   "metadata": {},
   "outputs": [],
   "source": [
    "print(RNA_RNA[RNA_RNA['Category1'] == 'tRNA'])"
   ]
  },
  {
   "cell_type": "code",
   "execution_count": null,
   "metadata": {},
   "outputs": [],
   "source": [
    "print(RNA_RNA[RNA_RNA['Category1'] == 'tRNA'])\n",
    "RNA_RNA.loc[23191, 'Raw_ID1'] = 'URS0000287398'\n",
    "RNA_RNA.loc[23192, 'Raw_ID1'] = 'URS00003C9A26'"
   ]
  },
  {
   "cell_type": "code",
   "execution_count": null,
   "metadata": {},
   "outputs": [],
   "source": [
    "ensembl_map['ensembl_transcript_type'] = ensembl_map['ensembl_transcript_type'].str.replace(\"transcribed_unitary_pseudogene\",\"pseudo\")\n",
    "ensembl_map['ensembl_transcript_type'] = ensembl_map['ensembl_transcript_type'].str.replace(\"transcribed_unprocessed_pseudogene\",\"pseudo\")\n",
    "ensembl_map['ensembl_transcript_type'] = ensembl_map['ensembl_transcript_type'].str.replace(\"transcribed_processed_pseudogene\",\"pseudo\")\n",
    "ensembl_map['ensembl_transcript_type'] = ensembl_map['ensembl_transcript_type'].str.replace(\"unprocessed_pseudogene\",\"pseudo\")\n",
    "ensembl_map['ensembl_transcript_type'] = ensembl_map['ensembl_transcript_type'].str.replace(\"processed_pseudogene\",\"pseudo\")\n",
    "ensembl_map['ensembl_transcript_type'] = ensembl_map['ensembl_transcript_type'].str.replace(\"IG_V_pseudogene\",\"pseudo\")\n",
    "ensembl_map['ensembl_transcript_type'] = ensembl_map['ensembl_transcript_type'].str.replace(\"unitary_pseudogene\",\"pseudo\")\n",
    "ensembl_map['ensembl_transcript_type'] = ensembl_map['ensembl_transcript_type'].str.replace(\"TR_J_pseudogene\",\"pseudo\")\n",
    "ensembl_map['ensembl_transcript_type'] = ensembl_map['ensembl_transcript_type'].str.replace(\"TR_V_pseudogene\",\"pseudo\")\n",
    "ensembl_map['ensembl_transcript_type'] = ensembl_map['ensembl_transcript_type'].str.replace(\"IG_C_pseudogene\",\"pseudo\")\n",
    "ensembl_map['ensembl_transcript_type'] = ensembl_map['ensembl_transcript_type'].str.replace(\"IG_J_pseudogene\",\"pseudo\")\n",
    "ensembl_map['ensembl_transcript_type'] = ensembl_map['ensembl_transcript_type'].str.replace(\"translated_processed_pseudogene\",\"pseudo\")\n",
    "ensembl_map['ensembl_transcript_type'] = ensembl_map['ensembl_transcript_type'].str.replace(\"pseudogene\",\"pseudo\")\n",
    "ensembl_map['ensembl_transcript_type'] = ensembl_map['ensembl_transcript_type'].str.replace(\"IG_pseudogene\",\"pseudo\")"
   ]
  },
  {
   "cell_type": "code",
   "execution_count": null,
   "metadata": {},
   "outputs": [],
   "source": [
    "i = RNA_RNA[(RNA_RNA['Category1']=='pseudo')].index.values\n",
    "pseudo = RNA_RNA[RNA_RNA['Category1']=='pseudo']\n",
    "ensembl_entrezTranscript_map[0] = ensembl_entrezTranscript_map[0].astype(str)\n",
    "ensembl_entrezTranscript_map_pseudo = ensembl_entrezTranscript_map[ensembl_entrezTranscript_map[2] == 'pseudo']\n",
    "pseudo = pd.merge(pseudo, ensembl_entrezTranscript_map_pseudo, left_on=['Raw_ID1'],\n",
    "                right_on=[0]).drop(columns=['Raw_ID1',2,3,4,5]).rename(columns={0:'Raw_ID1'})\n",
    "pseudo.drop(columns=['Raw_ID1'],inplace=True)\n",
    "pseudo.rename(columns={1:'Raw_ID1'}, inplace=True)\n",
    "RNA_RNA.drop(index=i,inplace=True,axis=0)\n",
    "RNA_RNA = pd.concat([pseudo,RNA_RNA])\n",
    "\n",
    "i = RNA_RNA[RNA_RNA['Category2']=='pseudo'].index.values\n",
    "pseudo = RNA_RNA[RNA_RNA['Category2']=='pseudo']\n",
    "pseudo = pd.merge(pseudo, ensembl_entrezTranscript_map_pseudo, left_on=['Raw_ID2'],\n",
    "                right_on=[0]).drop(columns=['Raw_ID2',2,3,4,5]).rename(columns={0:'Raw_ID2'})\n",
    "pseudo.drop(columns=['Raw_ID2'],inplace=True)\n",
    "pseudo.rename(columns={1:'Raw_ID2'}, inplace=True)\n",
    "RNA_RNA.drop(index=i,inplace=True,axis=0)\n",
    "RNA_RNA = pd.concat([pseudo,RNA_RNA])\n",
    "\n",
    "pseudo.head(n=3)"
   ]
  },
  {
   "cell_type": "code",
   "execution_count": null,
   "metadata": {},
   "outputs": [],
   "source": [
    "i = RNA_RNA[(RNA_RNA['Category1']=='mRNA')].index.values\n",
    "mrna = RNA_RNA[RNA_RNA['Category1']=='mRNA']\n",
    "ensembl_entrezTranscript_map[0] = ensembl_entrezTranscript_map[0].astype(str)\n",
    "ensembl_entrezTranscript_map_mrna = ensembl_entrezTranscript_map[ensembl_entrezTranscript_map[2] == 'protein-coding']\n",
    "mrna = pd.merge(mrna, ensembl_entrezTranscript_map_mrna, left_on=['Raw_ID1'],\n",
    "                right_on=[0]).drop(columns=['Raw_ID1',2,3,4,5]).rename(columns={0:'Raw_ID1'})\n",
    "mrna.drop(columns=['Raw_ID1'],inplace=True)\n",
    "mrna.rename(columns={1:'Raw_ID1'}, inplace=True)\n",
    "RNA_RNA.drop(index=i,inplace=True,axis=0)\n",
    "RNA_RNA = pd.concat([mrna,RNA_RNA])\n",
    "\n",
    "i = RNA_RNA[RNA_RNA['Category2']=='mRNA'].index.values\n",
    "mrna = RNA_RNA[RNA_RNA['Category2']=='mRNA']\n",
    "mrna = pd.merge(mrna, ensembl_entrezTranscript_map_mrna, left_on=['Raw_ID2'],\n",
    "                right_on=[0]).drop(columns=['Raw_ID2',2,3,4,5]).rename(columns={0:'Raw_ID2'})\n",
    "mrna.drop(columns=['Raw_ID2'],inplace=True)\n",
    "mrna.rename(columns={1:'Raw_ID2'}, inplace=True)\n",
    "RNA_RNA.drop(index=i,inplace=True,axis=0)\n",
    "RNA_RNA = pd.concat([mrna,RNA_RNA])\n",
    "\n",
    "mrna.head(n=3)"
   ]
  },
  {
   "cell_type": "code",
   "execution_count": null,
   "metadata": {},
   "outputs": [],
   "source": [
    "i = RNA_RNA[(RNA_RNA['Category1']=='protein') | (RNA_RNA['Category1']=='TF')].index.values\n",
    "protein = RNA_RNA[(RNA_RNA['Category1']=='protein') | (RNA_RNA['Category1']=='TF')]\n",
    "entrez_pro_map[0] = entrez_pro_map[0].astype(str)\n",
    "protein = pd.merge(protein, entrez_pro_map, left_on=['Raw_ID1'],\n",
    "                right_on=[0]).drop(columns=['Raw_ID1']).rename(columns={0:'Raw_ID1'})\n",
    "protein.drop(columns=['Raw_ID1'],inplace=True)\n",
    "protein.rename(columns={1:'Raw_ID1'}, inplace=True)\n",
    "RNA_RNA.drop(index=i,inplace=True,axis=0)\n",
    "RNA_RNA = pd.concat([protein,RNA_RNA])\n",
    "\n",
    "i = RNA_RNA[(RNA_RNA['Category2']=='protein') | (RNA_RNA['Category2']=='TF')].index.values\n",
    "protein = RNA_RNA[(RNA_RNA['Category2']=='protein') | (RNA_RNA['Category2']=='TF')]\n",
    "protein = pd.merge(protein, entrez_pro_map, left_on=['Raw_ID2'],\n",
    "                right_on=[0]).drop(columns=['Raw_ID2']).rename(columns={0:'Raw_ID2'})\n",
    "protein.drop(columns=['Raw_ID2'],inplace=True)\n",
    "protein.rename(columns={1:'Raw_ID2'}, inplace=True)\n",
    "RNA_RNA.drop(index=i,inplace=True,axis=0)\n",
    "RNA_RNA = pd.concat([protein,RNA_RNA])\n",
    "\n",
    "protein.head(n=3)"
   ]
  },
  {
   "cell_type": "code",
   "execution_count": null,
   "metadata": {},
   "outputs": [],
   "source": [
    "i = RNA_RNA[(RNA_RNA['Category1']!='protein') & (RNA_RNA['Category1']!='TF') & (RNA_RNA['Category1']!='mRNA') & \n",
    "            (RNA_RNA['Category1']!='pseudo') & (RNA_RNA['Category1']!='piRNA') & (RNA_RNA['Category1']!='miRNA')\n",
    "            & (RNA_RNA['Category1']!='eRNA') & (RNA_RNA['Category1']!='circRNA') & (RNA_RNA['Category1']!='tRF')].index.values\n",
    "ncrna = RNA_RNA[(RNA_RNA['Category1']!='protein') & (RNA_RNA['Category1']!='TF') & (RNA_RNA['Category1']!='mRNA')\n",
    "            & (RNA_RNA['Category1']!='pseudo') & (RNA_RNA['Category1']!='piRNA') & (RNA_RNA['Category1']!='miRNA')\n",
    "            & (RNA_RNA['Category1']!='eRNA') & (RNA_RNA['Category1']!='circRNA') & (RNA_RNA['Category1']!='tRF')]\n",
    "rnacentral_map_human_hgnc_type = rnacentral_map_hgnc[rnacentral_map_hgnc['Organism'] ==9606]\n",
    "ncrna = pd.merge(ncrna, rnacentral_map_human_hgnc_type, left_on=['Interactor1.Symbol','Category1'],\n",
    "                right_on=[\"HGNC symbol\",'RNA category']).drop(columns=[\"Interactor1.Symbol\",'Raw_ID1','RNA category'])\n",
    "ncrna.rename(columns={\"RNAcentral ID\":'Raw_ID1'}, inplace=True)\n",
    "RNA_RNA.drop(index=i,inplace=True,axis=0)\n",
    "RNA_RNA = pd.concat([ncrna,RNA_RNA])\n",
    "\n",
    "i = RNA_RNA[(RNA_RNA['Category2']!='protein') & (RNA_RNA['Category2']!='TF') & (RNA_RNA['Category2']!='mRNA')\n",
    "            & (RNA_RNA['Category2']!='pseudo') & (RNA_RNA['Category2']!='piRNA') & (RNA_RNA['Category2']!='miRNA')\n",
    "            & (RNA_RNA['Category2']!='eRNA') & (RNA_RNA['Category2']!='circRNA') & (RNA_RNA['Category2']!='tRF')].index.values\n",
    "ncrna = RNA_RNA[(RNA_RNA['Category2']!='protein') & (RNA_RNA['Category2']!='TF') & (RNA_RNA['Category2']!='mRNA')\n",
    "            & (RNA_RNA['Category2']!='pseudo') & (RNA_RNA['Category2']!='piRNA') & (RNA_RNA['Category2']!='miRNA')\n",
    "            & (RNA_RNA['Category2']!='eRNA') & (RNA_RNA['Category2']!='circRNA') & (RNA_RNA['Category2']!='tRF')]\n",
    "ncrna = pd.merge(ncrna, rnacentral_map_human_hgnc_type, left_on=['Interactor2.Symbol','Category2'],\n",
    "                right_on=[\"HGNC symbol\",'RNA category']).drop(columns=[\"Interactor2.Symbol\",'Raw_ID2','RNA category'])\n",
    "ncrna.rename(columns={\"RNAcentral ID\":'Raw_ID2'}, inplace=True)\n",
    "RNA_RNA.drop(index=i,inplace=True,axis=0)\n",
    "RNA_RNA = pd.concat([ncrna,RNA_RNA])\n",
    "RNA_RNA = RNA_RNA[['Raw_ID1','Raw_ID2','Category1','Category2','score','strong','weak','predict']]\n",
    "\n",
    "ncrna.head(n=3)"
   ]
  },
  {
   "cell_type": "code",
   "execution_count": null,
   "metadata": {},
   "outputs": [],
   "source": [
    "a = set(RNA_RNA.Category1)\n",
    "b = set(RNA_RNA.Category2)\n",
    "a.union(b)"
   ]
  },
  {
   "cell_type": "code",
   "execution_count": null,
   "metadata": {},
   "outputs": [],
   "source": [
    "# Mislabeled data\n",
    "RNA_protein_ = RNA_RNA[(RNA_RNA['Raw_ID1'].str.startswith(\"PR\")) | (RNA_RNA['Raw_ID2'].str.startswith(\"PR\"))]"
   ]
  },
  {
   "cell_type": "code",
   "execution_count": null,
   "metadata": {},
   "outputs": [],
   "source": [
    "RNA_RNA = RNA_RNA[(RNA_RNA['Raw_ID1'].str.startswith(\"URS\")) | (RNA_RNA['Raw_ID1'].str.startswith(\"ENST\")) |\n",
    "                   (RNA_RNA['Raw_ID1'].str.startswith(\"hsa_circ\")) | (RNA_RNA['Raw_ID1'].str.startswith(\"trfdb?\"))]\n",
    "RNA_RNA = RNA_RNA[(RNA_RNA['Raw_ID2'].str.startswith(\"URS\")) | (RNA_RNA['Raw_ID2'].str.startswith(\"ENST\")) |\n",
    "                   (RNA_RNA['Raw_ID2'].str.startswith(\"hsa_circ\")) | (RNA_RNA['Raw_ID2'].str.startswith(\"trfdb?\"))]\n",
    "\n",
    "RNA_RNA['Method'] = RNA_RNA.strong + \"|\" + RNA_RNA.weak + \"|\" + RNA_RNA.predict\n",
    "RNA_RNA = RNA_RNA[['Raw_ID1','Raw_ID2','Method','score']]\n",
    "\n",
    "RNA_RNA.head(n=3)"
   ]
  },
  {
   "cell_type": "code",
   "execution_count": null,
   "metadata": {},
   "outputs": [],
   "source": [
    "RNA_RNA['Method'] = RNA_RNA['Method'].str.lower().str.split(\"|\")\n",
    "RNA_RNA = RNA_RNA.explode('Method')\n",
    "RNA_RNA = pd.merge(RNA_RNA, location_map, right_on='0_y', left_on='Method', how='left')\n",
    "RNA_RNA['0_x'] = RNA_RNA['0_x'].fillna(RNA_RNA['Method'])\n",
    "RNA_RNA = RNA_RNA.drop(columns=['0_y', 'Method'])\n",
    "RNA_RNA = RNA_RNA.rename(columns={'0_x':'Method'})\n",
    "\n",
    "RNA_RNA['Source'] = 'RNAInter'\n",
    "RNA_RNA = RNA_RNA.rename(columns={'Raw_ID1':':START_ID','Raw_ID2':':END_ID','score':'RNAsister_score'}).drop_duplicates()\n",
    "RNA_RNA.head(n=3)"
   ]
  },
  {
   "cell_type": "markdown",
   "metadata": {},
   "source": [
    "* [PolymiRTS](https://compbio.uthsc.edu/miRSNP/home.php)"
   ]
  },
  {
   "cell_type": "code",
   "execution_count": null,
   "metadata": {},
   "outputs": [],
   "source": [
    "mirna_mrna = pd.read_csv(unprocessed_data_location + 'target_miRSNP_human_CLASH.txt',sep='\\t')[['refseq','microRNA_name','mutid']]\n",
    "mirna_mrna_5p = mirna_mrna[mirna_mrna['microRNA_name'].str.contains(\"\\\\*\")]\n",
    "mirna_mrna = mirna_mrna[~mirna_mrna['microRNA_name'].str.contains(\"\\\\*\")]\n",
    "mirna_mrna_3p = mirna_mrna_5p.copy()\n",
    "mirna_mrna_5p['microRNA_name'] = mirna_mrna['microRNA_name'].str.replace('*', '-5p')\n",
    "mirna_mrna_3p['microRNA_name'] = mirna_mrna['microRNA_name'].str.replace('*', '-3p')\n",
    "mirna_mrna = pd.concat([mirna_mrna, mirna_mrna_5p, mirna_mrna_3p])\n",
    "mirna_mrna = mirna_mrna[(mirna_mrna['microRNA_name'].notna()) & (mirna_mrna['refseq'].notna())]\n",
    "print(all(mirna_mrna['microRNA_name'].isin(rnacentral_map_human['DB Description'])))\n",
    "print(mirna_mrna[mirna_mrna['microRNA_name'].isin(rnacentral_map_human['DB Description'])]['microRNA_name'].str[:3].unique())\n",
    "miRNA_RNA_miRNAnotInRNAcentral3p = mirna_mrna[~mirna_mrna['microRNA_name'].isin(rnacentral_map_human['DB Description'])]\n",
    "miRNA_RNA_miRNAnotInRNAcentral5p = mirna_mrna[~mirna_mrna['microRNA_name'].isin(rnacentral_map_human['DB Description'])]\n",
    "miRNA_RNA_miRNAnotInRNAcentral5p['microRNA_name'] = miRNA_RNA_miRNAnotInRNAcentral5p['microRNA_name'].astype(str) + '-3p'\n",
    "miRNA_RNA_miRNAnotInRNAcentral3p['microRNA_name'] = miRNA_RNA_miRNAnotInRNAcentral3p['microRNA_name'].astype(str) + '-5p'\n",
    "miRNA_RNA_miRNAnotInRNAcentral = pd.concat([miRNA_RNA_miRNAnotInRNAcentral3p, miRNA_RNA_miRNAnotInRNAcentral5p])\n",
    "miRNA_RNA_miRNAnotInRNAcentral = pd.merge(miRNA_RNA_miRNAnotInRNAcentral, rnacentral_map_human[['DB Description','RNAcentral ID']].drop_duplicates().rename(\n",
    "    columns={'DB Description':'microRNA_name'}), on='microRNA_name').drop(columns=['microRNA_name']).rename(columns={'RNAcentral ID':'RNA1'})\n",
    "\n",
    "mirna_mrna = pd.merge(mirna_mrna, rnacentral_map_human[['DB Description','RNAcentral ID']].drop_duplicates().rename(\n",
    "    columns={'DB Description':'microRNA_name'}), on='microRNA_name')\n",
    "mirna_mrna = pd.concat([mirna_mrna.rename(columns={'RNAcentral ID':'RNA1'}),\n",
    "                       miRNA_RNA_miRNAnotInRNAcentral]).drop(columns=['microRNA_name'])\n",
    "\n",
    "mirna_mrna = pd.merge(rnacentral_map_human_refseq[['RNAcentral ID', 'RefSeq ID']].drop_duplicates(), mirna_mrna, left_on='RefSeq ID',\n",
    "                        right_on='refseq').drop(columns=['RefSeq ID', 'refseq'])\n",
    "\n",
    "RNA_RNA2 = mirna_mrna.rename(columns={'RNAcentral ID':':START_ID', 'RNA1':':END_ID', 'mutid':'Mutation'})\n",
    "RNA_RNA2['Source'] = \"PolymiRTS\"\n",
    "RNA_RNA2.head(n=3)"
   ]
  },
  {
   "cell_type": "markdown",
   "metadata": {},
   "source": [
    "* [miRNet](https://www.mirnet.ca/)"
   ]
  },
  {
   "cell_type": "code",
   "execution_count": null,
   "metadata": {},
   "outputs": [],
   "source": [
    "!wget -O https://www.dropbox.com/s/oxraur4z5921sg4/miRNet-mir-circRNA.csv?dl=0 -P ../resources/processed_data/unprocessed_data/"
   ]
  },
  {
   "cell_type": "code",
   "execution_count": null,
   "metadata": {},
   "outputs": [],
   "source": [
    "circRNA_miRNA2 = pd.read_csv(unprocessed_data_location + 'miRNet-mir-circRNA.csv?dl=0')\n",
    "circRNA_miRNA2 = circRNA_miRNA2.drop(columns=['mirnet','mir_id','symbol','entrez','mbv','embl','gene_name'])\n",
    "circRNA_miRNA2 = pd.merge(circRNA_miRNA2, circbase_map.rename(\n",
    "    columns={1:'genbank_id'}), on='genbank_id').drop(columns=['genbank_id']).rename(columns={0:'RNA1'})\n",
    "\n",
    "print(all(circRNA_miRNA2['mir_acc'].isin(rnacentral_map_human_mirbase['miRBase ID'])))\n",
    "circRNA_miRNA2 = pd.merge(circRNA_miRNA2, rnacentral_map_human_mirbase.rename(columns={'miRBase ID':'mir_acc'}), on='mir_acc').drop(\n",
    "    columns=['mir_acc']).rename(columns={'RNAcentral ID':'RNA2'})\n",
    "circRNA_miRNA2['Source'] = 'miRNet'\n",
    "circRNA_miRNA2 = circRNA_miRNA2[circRNA_miRNA2['RNA1'].str.startswith(\"hsa_circ_\")]\n",
    "RNA_RNA6 = circRNA_miRNA2.rename(columns={'RNA1':':START_ID','RNA2':':END_ID'})\n",
    "RNA_RNA6.head(n=3)"
   ]
  },
  {
   "cell_type": "markdown",
   "metadata": {},
   "source": [
    "* [LncExpDB](https://ngdc.cncb.ac.cn/lncexpdb/) <br /> LncExpDB is a comprehensive database for lncRNA expression. It covers expression profiles of lncRNA genes across various biological contexts, predicts potential functional lncRNAs and their interacting partners, and thus provides essential guidance on experimental design."
   ]
  },
  {
   "cell_type": "code",
   "execution_count": null,
   "metadata": {},
   "outputs": [],
   "source": [
    "# https://ngdc.cncb.ac.cn/lncexpdb/interactions --> Download button\n",
    "lncRNA_mRNA = pd.read_csv(unprocessed_data_location + 'interaction.txt', sep='\\t').drop(columns=['ID','lncname','pcgname',\n",
    "                                                                                                 'lnclocation','pcglocation'])\n",
    "lncRNA_mRNA['pcg'] = lncRNA_mRNA['pcg'].str.split('.').str[0]\n",
    "# \"Breadth\" column indicates how broadly the lncRNA is expressed across different biological contexts.\n",
    "# A threshold of 3 allows to focus on relationships that are likely to be conserved or important across different biological conditions.\n",
    "lncRNA_mRNA = lncRNA_mRNA[lncRNA_mRNA['breadth']>=3]\n",
    "lncRNA_mRNA = pd.merge(lncRNA_mRNA, rnacentral_map_human_lncbook[['LncBook Gene ID','RNAcentral ID']].rename(\n",
    "    columns={'LncBook Gene ID':'geneid'}), on='geneid').rename(columns={'RNAcentral ID':'RNA1'}).drop(columns=['geneid'])\n",
    "ensembl_map_lncRNA = ensembl_map[['transcript_stable_id','ensembl_gene_id','ensembl_transcript_type']].rename(columns={'ensembl_gene_id':'pcg'})\n",
    "ensembl_map_lncRNA = ensembl_map_lncRNA[ensembl_map_lncRNA['ensembl_transcript_type'] == 'protein_coding']\n",
    "ensembl_map_lncRNA = ensembl_map_lncRNA.drop(columns=['ensembl_transcript_type']).drop_duplicates()\n",
    "lncRNA_mRNA = pd.merge(lncRNA_mRNA, ensembl_map_lncRNA, on='pcg').rename(columns={'transcript_stable_id':'RNA2'}).drop(columns=['pcg'])\n",
    "lncRNA_mRNA.context = lncRNA_mRNA.context.str.split(',')\n",
    "lncRNA_mRNA = lncRNA_mRNA.explode('context')\n",
    "# Exclude -1 distances before calculating mean distance; -1 means the 2 RNAs are not on the same chromosome (\"trans\")\n",
    "lncRNA_mRNA['distance'] = lncRNA_mRNA['distance'].replace(-1, np.nan)\n",
    "lncRNA_mRNA['Source'] = 'LncExpDB'\n",
    "lncRNA_mRNA.rename(columns={'RNA1':':START_ID','RNA2':':END_ID','distance':'Distance'},inplace=True)\n",
    "\n",
    "lncRNA_mRNA['Location'] = lncRNA_mRNA.context\n",
    "lncRNA_mRNA['Location'] = lncRNA_mRNA['Location'].replace('Normal', np.nan)\n",
    "lncRNA_mRNA['Location'] = lncRNA_mRNA['Location'].replace('Normal Tissue/Cell Line', np.nan)\n",
    "lncRNA_mRNA['Location'] = lncRNA_mRNA['Location'].str.replace('OrganDevelopment','organ development', regex=False)\n",
    "lncRNA_mRNA['Location'] = lncRNA_mRNA['Location'].str.replace('PreimplantationEmbryo','preimplantation embryo', regex=False)\n",
    "lncRNA_mRNA['Location'] = lncRNA_mRNA['Location'].str.replace('CellDifferentiation','cell differentiation', regex=False)\n",
    "lncRNA_mRNA['Location'] = lncRNA_mRNA['Location'].str.replace('SubcellularLocation','subcellular location', regex=False)\n",
    "lncRNA_mRNA['Location'] = lncRNA_mRNA['Location'].str.replace('Exosome','exosome', regex=False)\n",
    "lncRNA_mRNA['Location'] = lncRNA_mRNA['Location'].str.replace('CancerCellLine','cancer cell line', regex=False)\n",
    "lncRNA_mRNA['Location'] = lncRNA_mRNA['Location'].str.replace('VirusInfection','virus infection', regex=False)\n",
    "lncRNA_mRNA['Location'] = lncRNA_mRNA['Location'].str.replace('Circadian','circadian rythm', regex=False)\n",
    "\n",
    "RNA_RNA_7 = lncRNA_mRNA.drop(columns=['context','breadth']).drop_duplicates()\n",
    "RNA_RNA_7.head(n=3)"
   ]
  },
  {
   "cell_type": "markdown",
   "metadata": {},
   "source": [
    "* [miRNet](https://www.mirnet.ca/miRNet/)"
   ]
  },
  {
   "cell_type": "code",
   "execution_count": null,
   "metadata": {},
   "outputs": [],
   "source": [
    "!wget -O https://www.dropbox.com/s/gpt1yrwoe1h2gx7/miRNet-mir-sncRNA.csv?dl=0 -P ../resources/processed_data/unprocessed_data/miRNet-mir-sncRNA.csv?dl=0"
   ]
  },
  {
   "cell_type": "code",
   "execution_count": null,
   "metadata": {},
   "outputs": [],
   "source": [
    "snoRNA_miRNA2 = pd.read_csv(unprocessed_data_location + 'miRNet-mir-sncRNA.csv?dl=0')\n",
    "snoRNA_miRNA2 = snoRNA_miRNA2[snoRNA_miRNA2.gene_name.str.contains('small nucleolar')]\n",
    "snoRNA_miRNA2.drop(columns=['mirnet','mir_id','entrez','symbol','gene_name','mbv'],inplace=True)\n",
    "snoRNA_miRNA2 = pd.merge(snoRNA_miRNA2, rnacentral_map_human_ensembl.rename(\n",
    "    columns={'Ensembl Gene ID':'embl'}), on='embl').drop(columns=['embl','Ensembl transcript ID']).rename(columns={'RNAcentral ID':'RNA1'})\n",
    "snoRNA_miRNA2['Source'] = 'miRNet'\n",
    "\n",
    "print(all(snoRNA_miRNA2['mir_acc'].isin(rnacentral_map_human_mirbase['miRBase ID'])))\n",
    "snoRNA_miRNA2 = pd.merge(snoRNA_miRNA2, rnacentral_map_human_mirbase.rename(columns={'miRBase ID':'mir_acc'}),\n",
    "                          on='mir_acc').drop(columns=['mir_acc']).rename(columns={'RNAcentral ID':'RNA2'})\n",
    "\n",
    "snoRNA_miRNA2.rename(columns={'RNA1':':START_ID','RNA2':':END_ID'},inplace=True)\n",
    "snoRNA_miRNA2.head(n=3)"
   ]
  },
  {
   "cell_type": "code",
   "execution_count": null,
   "metadata": {},
   "outputs": [],
   "source": [
    "!wget https://www.dropbox.com/s/80gvign9866s5na/miRNet-mir-lncRNA.csv?dl=0 -O ../resources/processed_data/unprocessed_data/miRNet-mir-lncRNA.csv?dl=0"
   ]
  },
  {
   "cell_type": "code",
   "execution_count": null,
   "metadata": {},
   "outputs": [],
   "source": [
    "miRNA_lncRNA = pd.read_csv(unprocessed_data_location + \"miRNet-mir-lncRNA.csv?dl=0\")\n",
    "miRNA_lncRNA.drop(columns=['mirnet','symbol','mbv','entrez','gene_name'],inplace=True)\n",
    "\n",
    "print(all(miRNA_lncRNA['mir_acc'].isin(rnacentral_map_human_mirbase['miRBase ID'])))\n",
    "miRNA_lncRNA = pd.merge(miRNA_lncRNA, rnacentral_map_human_mirbase.rename(\n",
    "    columns={'miRBase ID':'mir_acc'}), on='mir_acc').drop(columns=['mir_acc','mir_id']).rename(columns={'RNAcentral ID':'RNA1'})\n",
    "\n",
    "miRNA_lncRNA['Source'] = 'miRNet'\n",
    "\n",
    "print(all(miRNA_lncRNA['embl'].isin(rnacentral_map_human_ensembl['Ensembl Gene ID'])))\n",
    "miRNA_lncRNA_rnacentral = pd.merge(miRNA_lncRNA, rnacentral_map_human_ensembl.rename(columns={'Ensembl Gene ID':'embl'}),\n",
    "                                   on='embl').drop(columns=['Ensembl transcript ID']).rename(columns={'RNAcentral ID':'RNA2'})\n",
    "miRNA_lncRNA_ensembl = miRNA_lncRNA[~miRNA_lncRNA['embl'].isin(miRNA_lncRNA_rnacentral['embl'])]\n",
    "\n",
    "miRNA_lncRNA_ensembl = miRNA_lncRNA_ensembl.merge(ensembl_map, left_on='embl', right_on='ensembl_gene_id')\n",
    "miRNA_lncRNA_ensembl = miRNA_lncRNA_ensembl[miRNA_lncRNA_ensembl['ensembl_gene_type'] == 'lncRNA'][[\n",
    "    'RNA1','transcript_stable_id','Source']].rename(columns={'transcript_stable_id':'RNA2'})\n",
    "miRNA_lncRNA_rnacentral.drop(columns=['embl'],inplace=True)\n",
    "\n",
    "print(miRNA_lncRNA_ensembl.head(n=3))\n",
    "print(miRNA_lncRNA_rnacentral.head(n=3))\n",
    "miRNA_lncRNA = pd.concat([miRNA_lncRNA_rnacentral,miRNA_lncRNA_ensembl])\n",
    "miRNA_lncRNA.rename(columns={'RNA1':':START_ID','RNA2':':END_ID'},inplace=True)\n",
    "miRNA_lncRNA.head(n=3)"
   ]
  },
  {
   "cell_type": "markdown",
   "metadata": {},
   "source": [
    "* [snoDB](https://bioinfo-scottgroup.med.usherbrooke.ca/snoDB/)"
   ]
  },
  {
   "cell_type": "code",
   "execution_count": null,
   "metadata": {},
   "outputs": [],
   "source": [
    "snoDB = pd.read_csv(unprocessed_data_location + 'download_all', sep=\"\\t\")\n",
    "snoDB = snoDB[['rna_central_id','host_gene_id','rrna_targets','snrna_targets','lncrna_targets','protein_coding_targets','snorna_targets',\n",
    "               'mirna_targets','trna_targets','ncrna_targets','pseudogene_targets','other_targets','is_expressed']]\n",
    "snoDB = snoDB[snoDB['rna_central_id'].notna()]\n",
    "snoDB = snoDB.rename(columns={'rna_central_id':':START_ID'})\n",
    "for col in snoDB.columns:\n",
    "    snoDB[col] = snoDB[col].astype(str).str.split(';')\n",
    "for col in snoDB.columns:\n",
    "    snoDB = snoDB.explode(col)\n",
    "snoDB.fillna('nan', inplace=True)   \n",
    "snoDB['Source'] = 'snoDB'\n",
    "snoDB.head(n=3)"
   ]
  },
  {
   "cell_type": "code",
   "execution_count": null,
   "metadata": {},
   "outputs": [],
   "source": [
    "snoRNA_miRNA = snoDB[[':START_ID', 'mirna_targets', 'Source']]\n",
    "snoRNA_miRNA = snoRNA_miRNA[snoRNA_miRNA['mirna_targets'] != 'nan']\n",
    "snoRNA_miRNA['mirna_targets'] = snoRNA_miRNA['mirna_targets'].str.split('.').str[0]\n",
    "\n",
    "snoRNA_miRNA = pd.merge(snoRNA_miRNA, rnacentral_map_human_hgnc.drop(columns=['HGNC ID']).drop_duplicates().rename(\n",
    "    columns={'HGNC symbol':'mirna_targets'}), on = 'mirna_targets').drop(columns=['mirna_targets','RNA category']).rename(\n",
    "        columns={'RNAcentral ID':':END_ID'})\n",
    "\n",
    "snoRNA_miRNA.head(n=3)"
   ]
  },
  {
   "cell_type": "code",
   "execution_count": null,
   "metadata": {},
   "outputs": [],
   "source": [
    "snoRNA_snoRNA = snoDB[[':START_ID', 'snorna_targets', 'Source']]\n",
    "snoRNA_snoRNA = snoRNA_snoRNA[snoRNA_snoRNA['snorna_targets'] != 'nan']\n",
    "snoRNA_snoRNA['snorna_targets'] = snoRNA_snoRNA['snorna_targets'].str.split('.').str[0]\n",
    "\n",
    "snoRNA_snoRNA = pd.merge(snoRNA_snoRNA, rnacentral_map_human_hgnc.drop(columns=['HGNC ID']).drop_duplicates().rename(\n",
    "    columns={'HGNC symbol':'snorna_targets'}), on = 'snorna_targets').drop(columns=['snorna_targets']).rename(columns={'RNAcentral ID':':END_ID'})\n",
    "\n",
    "snoRNA_snoRNA.head(n=3)"
   ]
  },
  {
   "cell_type": "code",
   "execution_count": null,
   "metadata": {},
   "outputs": [],
   "source": [
    "snoRNA_lncRNA = snoDB[[':START_ID', 'lncrna_targets', 'Source']]\n",
    "snoRNA_lncRNA = snoRNA_lncRNA[snoRNA_lncRNA['lncrna_targets'] != 'nan']\n",
    "snoRNA_lncRNA['lncrna_targets'] = snoRNA_lncRNA['lncrna_targets'].str.split('.').str[0]\n",
    "\n",
    "snoRNA_lncRNA = pd.merge(snoRNA_lncRNA, rnacentral_map_human_hgnc.drop(columns=['HGNC ID']).drop_duplicates().rename(\n",
    "    columns={'HGNC symbol':'lncrna_targets'}), on = 'lncrna_targets').drop(columns=['lncrna_targets']).rename(columns={'RNAcentral ID':':END_ID'})\n",
    "\n",
    "snoRNA_lncRNA.head(n=3)"
   ]
  },
  {
   "cell_type": "code",
   "execution_count": null,
   "metadata": {},
   "outputs": [],
   "source": [
    "snoRNA_snRNA = snoDB[[':START_ID','snrna_targets', 'Source']]\n",
    "snoRNA_snRNA = snoRNA_snRNA[snoRNA_snRNA['snrna_targets'] != 'nan']\n",
    "snoRNA_snRNA['snrna_targets'] = snoRNA_snRNA['snrna_targets'].str.split('.').str[0]\n",
    "\n",
    "snoRNA_snRNA = pd.merge(snoRNA_snRNA, rnacentral_map_human_hgnc.drop(columns=['HGNC ID']).drop_duplicates().rename(\n",
    "    columns={'HGNC symbol':'snrna_targets'}), on = 'snrna_targets').drop(columns=['snrna_targets','RNA category']).rename(\n",
    "        columns={'RNAcentral ID':':END_ID'})\n",
    "\n",
    "snoRNA_snRNA.head(n=3)"
   ]
  },
  {
   "cell_type": "code",
   "execution_count": null,
   "metadata": {},
   "outputs": [],
   "source": [
    "snoRNA_rRNA = snoDB[[':START_ID','rrna_targets', 'Source']]\n",
    "snoRNA_rRNA = snoRNA_rRNA[snoRNA_rRNA['rrna_targets'] != 'nan']\n",
    "snoRNA_rRNA['rrna_targets'] = snoRNA_rRNA['rrna_targets'].str.split('.').str[0]\n",
    "\n",
    "snoRNA_rRNA_rnacentral = pd.merge(snoRNA_rRNA, rnacentral_map_human_hgnc.drop(columns=['HGNC ID']).drop_duplicates().rename(\n",
    "    columns={'HGNC symbol':'rrna_targets'}), on = 'rrna_targets').drop(columns=['rrna_targets','RNA category']).rename(\n",
    "        columns={'RNAcentral ID':':END_ID'})\n",
    "snoRNA_rRNA_snodb = snoRNA_rRNA[~snoRNA_rRNA['rrna_targets'].isin(rnacentral_map_human_hgnc['HGNC symbol'])] # snoDB's rRNA IDs\n",
    "snoRNA_rRNA_snodb.rename(columns={'rrna_targets':':END_ID'},inplace=True)\n",
    "\n",
    "print(snoRNA_rRNA_snodb.head(n=3))\n",
    "print(snoRNA_rRNA_rnacentral.head(n=3))\n",
    "snoRNA_rRNA = pd.concat([snoRNA_rRNA_rnacentral,snoRNA_rRNA_snodb])\n",
    "snoRNA_rRNA.head(n=3)"
   ]
  },
  {
   "cell_type": "code",
   "execution_count": null,
   "metadata": {},
   "outputs": [],
   "source": [
    "snoRNA_tRNA = snoDB[[':START_ID','trna_targets', 'Source']]\n",
    "snoRNA_tRNA = snoRNA_tRNA[snoRNA_tRNA['trna_targets'] != 'nan']\n",
    "snoRNA_tRNA['trna_targets'] = snoRNA_tRNA['trna_targets'].str.split('_').str[0]\n",
    "\n",
    "snoRNA_tRNA_rnacentral = pd.merge(snoRNA_tRNA, rnacentral_map_human_hgnc.drop(columns=['HGNC ID']).drop_duplicates().rename(\n",
    "    columns={'HGNC symbol':'trna_targets'}), on = 'trna_targets').drop(columns=['trna_targets','RNA category']).rename(\n",
    "        columns={'RNAcentral ID':':END_ID'})\n",
    "snoRNA_tRNA_rnacentral.head(n=3)"
   ]
  },
  {
   "cell_type": "code",
   "execution_count": null,
   "metadata": {},
   "outputs": [],
   "source": [
    "snoRNA_ncRNA = snoDB[[':START_ID','ncrna_targets', 'Source']]\n",
    "snoRNA_other = snoDB[[':START_ID','other_targets', 'Source']].rename(columns={'other_targets':'ncrna_targets'})\n",
    "snoRNA_ncRNA = pd.concat([snoRNA_ncRNA,snoRNA_other])\n",
    "snoRNA_ncRNA = snoRNA_ncRNA[snoRNA_ncRNA['ncrna_targets'] != 'nan']\n",
    "snoRNA_ncRNA['ncrna_targets'] = snoRNA_ncRNA['ncrna_targets'].str.split('_').str[0]\n",
    "\n",
    "snoRNA_ncRNA = pd.merge(snoRNA_ncRNA, rnacentral_map_human_hgnc.drop(columns=['HGNC ID']).drop_duplicates().rename(\n",
    "    columns={'HGNC symbol':'ncrna_targets'}), on = 'ncrna_targets').drop(columns=['ncrna_targets','RNA category']).rename(\n",
    "        columns={'RNAcentral ID':':END_ID'})\n",
    "\n",
    "snoRNA_ncRNA.head(n=3)"
   ]
  },
  {
   "cell_type": "markdown",
   "metadata": {},
   "source": [
    "* [tsRFun](https://rna.sysu.edu.cn/tsRFun/index.php) <br /> tsRFun is a platform for tsRNA functions by High-throughput Small RNA-Seq and CLIP-Seq Data."
   ]
  },
  {
   "cell_type": "code",
   "execution_count": null,
   "metadata": {},
   "outputs": [],
   "source": [
    "!wget https://rna.sysu.edu.cn/tsRFun/download/tsRNetwork/all_hypgm_df.txt -O ../resources/processed_data/unprocessed_data/all_hypgm_df.txt"
   ]
  },
  {
   "cell_type": "code",
   "execution_count": null,
   "metadata": {},
   "outputs": [],
   "source": [
    "tsRNA_miRNA = pd.read_csv(unprocessed_data_location + 'all_hypgm_df.txt', sep=\"\\t\")  \n",
    "# We consider pairs with FDR < 0.01\n",
    "tsRNA_miRNA = tsRNA_miRNA[tsRNA_miRNA['adj.p'] < 0.01]\n",
    "# We also remove unadjusted p-val column since we have FDR\n",
    "tsRNA_miRNA.drop('p', axis=1, inplace=True)\n",
    "tsRNA_miRNA.rename(columns={'adj.p':'FDR'}, inplace=True)\n",
    "\n",
    "print(all(tsRNA_miRNA['miRNA'].isin(rnacentral_map_human['DB Description'])))\n",
    "tsRNA_miRNA = pd.merge(tsRNA_miRNA, rnacentral_map_human.rename(columns={'DB Description':'miRNA'}),\n",
    "                          on='miRNA').drop(columns=['DB','DB ID','miRNA','Organism','RNA category']).rename(\n",
    "                              columns={'RNAcentral ID':':START_ID'})\n",
    "tsRNA_miRNA = pd.merge(tsRNA_miRNA, tsRNA_map[['tRNA','tsRNAid']].rename(columns={'tRNA':'tsRNA'}), on=['tsRNA']).rename(\n",
    "    columns={'tsRNAid':':END_ID'})\n",
    "\n",
    "tsRNA_miRNA['Source'] = 'tsRFun'\n",
    "tsRNA_miRNA = tsRNA_miRNA.drop_duplicates()\n",
    "tsRNA_miRNA.head(n=3)"
   ]
  },
  {
   "cell_type": "markdown",
   "metadata": {},
   "source": [
    "* [LncRNAWiki](https://ngdc.cncb.ac.cn/lncrnawiki/) <br />  LncRNAWiki is devoted to community curation of human long non-coding RNAs (lncRNAs) to provide a comprehensive and up-to-date resource of functionally annotated lncRNAs. It incorporates a comprehensive collection of experimentally studied lncRNAs and integrates a wealth of their annotations based on a standardized curation model, and improves curation quality through expert curator review and community error report. "
   ]
  },
  {
   "cell_type": "code",
   "execution_count": null,
   "metadata": {},
   "outputs": [],
   "source": [
    "!wget https://ngdc.cncb.ac.cn/lncrnawiki/file/LncRNAWiki_BrowseDownload.csv -O ../resources/processed_data/unprocessed_data/LncRNAWiki_BrowseDownload.csv"
   ]
  },
  {
   "cell_type": "code",
   "execution_count": null,
   "metadata": {},
   "outputs": [],
   "source": [
    "LncRNAWiki = pd.read_csv(unprocessed_data_location+'LncRNAWiki_BrowseDownload.csv')\n",
    "miRNA_lncRNA2 = LncRNAWiki[LncRNAWiki['target_type'].notna()]\n",
    "miRNA_lncRNA2 = miRNA_lncRNA2[miRNA_lncRNA2.target_type.str.contains('miRNA')]\n",
    "miRNA_lncRNA2 = miRNA_lncRNA2[miRNA_lncRNA2['target_type'].notna()]\n",
    "miRNA_lncRNA2.target = 'hsa-'+miRNA_lncRNA2.target\n",
    "miRNA_lncRNA2.drop(columns=['symbol','synonyms','gene_locus','gene_id','conservation_ortholog','biological_process','modification_detail','pathway',\n",
    "                            'conservation_species','target_interaction','description','conservation',\n",
    "                            'biological_context', 'genome_variation','variation_detail','epigenetic_modification',\n",
    "                            'expression','regulator_type','regulator_interaction','target_type','molecular_function',\n",
    "                            'regulator','regulator_effect','target_effect','functional_mechanism','clinical_detail','expression_detail'\n",
    "                            ],inplace=True)\n",
    "miRNA_lncRNA2['transcript_id'] = miRNA_lncRNA2['transcript_id'].str.split(',')\n",
    "miRNA_lncRNA2 = miRNA_lncRNA2.explode('transcript_id')\n",
    "miRNA_lncRNA2 = miRNA_lncRNA2[miRNA_lncRNA2['transcript_id'].notna()]\n",
    "\n",
    "miRNA_lncRNA2 = pd.merge(miRNA_lncRNA2, rnacentral_map_human_lncbook.rename(columns={'LncBook Transcript ID':'transcript_id'}),\n",
    "                          on = 'transcript_id').drop(columns=['transcript_id','LncBook Gene ID']).rename(columns={'RNAcentral ID':'RNA2'})\n",
    "\n",
    "print(all(miRNA_lncRNA2['target'].isin(rnacentral_map_human['DB Description'])))\n",
    "miRNA_RNA_miRNAnotInRNAcentral3p = miRNA_lncRNA2[~miRNA_lncRNA2['target'].isin(rnacentral_map_human['DB Description'])]\n",
    "miRNA_RNA_miRNAnotInRNAcentral5p = miRNA_lncRNA2[~miRNA_lncRNA2['target'].isin(rnacentral_map_human['DB Description'])]\n",
    "miRNA_RNA_miRNAnotInRNAcentral5p['target'] = miRNA_RNA_miRNAnotInRNAcentral5p['target'].astype(str) + '-3p'\n",
    "miRNA_RNA_miRNAnotInRNAcentral3p['target'] = miRNA_RNA_miRNAnotInRNAcentral3p['target'].astype(str) + '-5p'\n",
    "miRNA_RNA_miRNAnotInRNAcentral = pd.concat([miRNA_RNA_miRNAnotInRNAcentral3p, miRNA_RNA_miRNAnotInRNAcentral5p])\n",
    "miRNA_RNA_miRNAnotInRNAcentral = pd.merge(miRNA_RNA_miRNAnotInRNAcentral,\n",
    "                                          rnacentral_map_human[['DB Description','RNAcentral ID']].drop_duplicates().rename(\n",
    "                                              columns={'DB Description':'target'}), on='target').drop(\n",
    "                                                  columns=['target']).rename(columns={'RNAcentral ID':'RNA1'})\n",
    "\n",
    "miRNA_lncRNA2 = pd.merge(miRNA_lncRNA2, rnacentral_map_human[['DB Description','RNAcentral ID']].drop_duplicates().rename(\n",
    "    columns={'DB Description':'target'}), on='target').drop(\n",
    "        columns=['target']).rename(columns={'RNAcentral ID':'RNA1'})\n",
    "miRNA_lncRNA2 = pd.concat([miRNA_lncRNA2, miRNA_RNA_miRNAnotInRNAcentral]).drop_duplicates()\n",
    "\n",
    "miRNA_lncRNA2['pmid'] = pd.to_numeric(miRNA_lncRNA2['pmid'], errors='coerce')\n",
    "miRNA_lncRNA2['pmid'] = miRNA_lncRNA2['pmid'].astype(str)\n",
    "miRNA_lncRNA2['pmid'] = miRNA_lncRNA2['pmid'].str.replace(\".0\", \"\")\n",
    "miRNA_lncRNA2['pmid'] = miRNA_lncRNA2['pmid'].replace(\"<NA>\", np.nan)\n",
    "\n",
    "miRNA_lncRNA2['drug'] = miRNA_lncRNA2['drug'].str.lower().str.split(\";\")\n",
    "miRNA_lncRNA2 = miRNA_lncRNA2.explode('drug')\n",
    "\n",
    "miRNA_lncRNA2['experimental_method'] = miRNA_lncRNA2['experimental_method'].str.lower().str.split(\";\")\n",
    "miRNA_lncRNA2 = miRNA_lncRNA2.explode('experimental_method')\n",
    "miRNA_lncRNA2 = pd.merge(miRNA_lncRNA2, method_map, right_on='0_y', left_on='experimental_method', how='left')\n",
    "miRNA_lncRNA2['0_x'] = miRNA_lncRNA2['0_x'].fillna(miRNA_lncRNA2['experimental_method'])\n",
    "miRNA_lncRNA2 = miRNA_lncRNA2.drop(columns=['0_y', 'experimental_method'])\n",
    "miRNA_lncRNA2 = miRNA_lncRNA2.rename(columns={'0_x':'Method','pmid':'PubMedID', 'drug':'Drug', 'regulator':'Regulator', 'target':'Interactor'})\n",
    "\n",
    "miRNA_lncRNA2['tissue/cell line'] = miRNA_lncRNA2['tissue/cell line'].str.lower().str.split(\";\")\n",
    "miRNA_lncRNA2 = miRNA_lncRNA2.explode('tissue/cell line')\n",
    "miRNA_lncRNA2 = pd.merge(miRNA_lncRNA2, location_map, right_on='0_y', left_on='tissue/cell line', how='left')\n",
    "miRNA_lncRNA2['0_x'] = miRNA_lncRNA2['0_x'].fillna(miRNA_lncRNA2['tissue/cell line'])\n",
    "miRNA_lncRNA2 = miRNA_lncRNA2.drop(columns=['0_y', 'tissue/cell line'])\n",
    "miRNA_lncRNA2 = miRNA_lncRNA2.rename(columns={'0_x':'Location'})\n",
    "\n",
    "miRNA_lncRNA2['context_detail'] = miRNA_lncRNA2['context_detail'].str.lower().str.split(\";\")\n",
    "miRNA_lncRNA2 = miRNA_lncRNA2.explode('context_detail')\n",
    "miRNA_lncRNA2 = pd.merge(miRNA_lncRNA2, disease_map, right_on='0_y', left_on='context_detail', how='left')\n",
    "miRNA_lncRNA2['0_x'] = miRNA_lncRNA2['0_x'].fillna(miRNA_lncRNA2['context_detail'])\n",
    "miRNA_lncRNA2 = miRNA_lncRNA2.drop(columns=['0_y', 'context_detail'])\n",
    "miRNA_lncRNA2 = miRNA_lncRNA2.rename(columns={'0_x':'Location2'})\n",
    "\n",
    "miRNA_lncRNA2 = pd.concat([miRNA_lncRNA2.drop(columns=['Location2']), miRNA_lncRNA2.drop(columns=['Location']).rename(columns={'Location2':'Location'})])\n",
    "\n",
    "miRNA_lncRNA2['Source'] = 'LncRNAWiki'\n",
    "miRNA_lncRNA2.rename(columns={'RNA1':':START_ID','RNA2':':END_ID'},inplace=True)\n",
    "RNA_RNA3 = miRNA_lncRNA2.copy().drop_duplicates()\n",
    "RNA_RNA3.head(n=3)"
   ]
  },
  {
   "cell_type": "markdown",
   "metadata": {},
   "source": [
    "* [SomamiR](https://compbio.uthsc.edu/SomamiR/)"
   ]
  },
  {
   "cell_type": "code",
   "execution_count": null,
   "metadata": {},
   "outputs": [],
   "source": [
    "!wget https://compbio.uthsc.edu/SomamiR/download/lncRNA_somatic_v2.0.txt.tar.gz -O ../resources/processed_data/unprocessed_data/lncRNA_somatic_v2.0.txt.tar.gz"
   ]
  },
  {
   "cell_type": "code",
   "execution_count": null,
   "metadata": {},
   "outputs": [],
   "source": [
    "miRNA_lncRNA2 = pd.read_csv(unprocessed_data_location+'lncRNA_somatic_v2.0.txt.tar.gz',sep='\\t',dtype={'PMID':str})\n",
    "miRNA_lncRNA2.drop(columns=['Unnamed: 18'],inplace=True)\n",
    "miRNA_lncRNA2.rename(columns={'lncRNA_somatic_v2.0.txt':'Gene'},inplace=True)\n",
    "miRNA_lncRNA2['Gene'] = miRNA_lncRNA2['Gene'].str.replace(r'lnc-', '')\n",
    "miRNA_lncRNA2.rename(columns={'Gene': 'symbol', 'miRNA':'mir_id'}, inplace=True)\n",
    "miRNA_lncRNA2 = miRNA_lncRNA2[miRNA_lncRNA2['TargetScan_Site(0=No;1=Yes)'] == 1]\n",
    "\n",
    "lncpedia_map = pd.read_csv(\"https://lncipedia.org/downloads/lncipedia_5_0/lncipedia_5_0_vs_5_2.txt\", sep='\\t')\n",
    "miRNA_lncRNA2 = miRNA_lncRNA2.merge(lncpedia_map.rename(columns={'LNCipedia 5.0 Transcript ID':'Transcript'}),\n",
    "                                    on='Transcript').drop(columns=['Transcript']).rename(\n",
    "                                        columns={'LNCipedia 5.2 Transcript ID':'Transcript'})\n",
    "miRNA_lncRNA2 = pd.merge(rnacentral_map_human_lncipedia.rename(columns={'LNCipedia transcript ID':'Transcript'}),\n",
    "                         miRNA_lncRNA2, on='Transcript').drop(columns=['Transcript','LNCipedia Gene ID']).rename(\n",
    "                             columns={'RNAcentral ID':'RNA2'})\n",
    "\n",
    "miRNA_lncRNA2 = miRNA_lncRNA2.drop(columns=['symbol','Chromosome','Location','Ref_Allele','Sample_Name',\n",
    "                                            'Mut_Allele','FuncClass','Alteration','Target_Site',\n",
    "                                            'Seed','SeedClass', 'TargetScan_Site(0=No;1=Yes)'])\n",
    "\n",
    "print(all(miRNA_lncRNA2['mir_id'].isin(rnacentral_map_human['DB Description'])))\n",
    "print(miRNA_lncRNA2[~miRNA_lncRNA2['mir_id'].isin(rnacentral_map_human['DB Description'])]['mir_id'].str[:3].unique())\n",
    "miRNA_RNA_miRNAnotInRNAcentral3p = miRNA_lncRNA2[~miRNA_lncRNA2['mir_id'].isin(rnacentral_map_human['DB Description'])]\n",
    "miRNA_RNA_miRNAnotInRNAcentral5p = miRNA_lncRNA2[~miRNA_lncRNA2['mir_id'].isin(rnacentral_map_human['DB Description'])]\n",
    "miRNA_RNA_miRNAnotInRNAcentral5p['mir_id'] = miRNA_RNA_miRNAnotInRNAcentral5p['mir_id'].astype(str) + '-3p'\n",
    "miRNA_RNA_miRNAnotInRNAcentral3p['mir_id'] = miRNA_RNA_miRNAnotInRNAcentral3p['mir_id'].astype(str) + '-5p'\n",
    "miRNA_RNA_miRNAnotInRNAcentral = pd.concat([miRNA_RNA_miRNAnotInRNAcentral3p, miRNA_RNA_miRNAnotInRNAcentral5p])\n",
    "miRNA_RNA_miRNAnotInRNAcentral = pd.merge(miRNA_RNA_miRNAnotInRNAcentral, rnacentral_map_human[['DB Description','RNAcentral ID']].drop_duplicates().rename(\n",
    "    columns={'DB Description':'mir_id'}), on='mir_id').drop(columns=['mir_id']).rename(\n",
    "        columns={'RNAcentral ID':'RNA1'})\n",
    "\n",
    "miRNA_lncRNA2 = pd.merge(miRNA_lncRNA2, rnacentral_map_human[['DB Description','RNAcentral ID']].drop_duplicates().rename(\n",
    "    columns={'DB Description':'mir_id'}), on='mir_id').drop(\n",
    "        columns=['mir_id']).rename(columns={'RNAcentral ID':'RNA1'})\n",
    "miRNA_lncRNA2 = pd.concat([miRNA_lncRNA2, miRNA_RNA_miRNAnotInRNAcentral]).drop_duplicates()\n",
    "miRNA_lncRNA2 = miRNA_lncRNA2[(miRNA_lncRNA2['RNA1'].notna()) & (miRNA_lncRNA2['RNA2'].notna())]\n",
    "\n",
    "miRNA_lncRNA2['PMID'] = pd.to_numeric(miRNA_lncRNA2['PMID'], errors='coerce')\n",
    "miRNA_lncRNA2['PMID'] = miRNA_lncRNA2['PMID'].astype(str)\n",
    "miRNA_lncRNA2['PMID'] = miRNA_lncRNA2['PMID'].str.replace(\".0\", \"\")\n",
    "miRNA_lncRNA2['PMID'] = miRNA_lncRNA2['PMID'].replace(\"<NA>\", np.nan)\n",
    "\n",
    "miRNA_lncRNA2['Cancer_Class'] = miRNA_lncRNA2['Cancer_Class'].str.lower()\n",
    "miRNA_lncRNA2['Cancer_Class'] = miRNA_lncRNA2['Cancer_Class'].str.replace('[ns]','')\n",
    "miRNA_lncRNA2['Cancer_Class'] = miRNA_lncRNA2['Cancer_Class'].str.replace('_',' ')\n",
    "miRNA_lncRNA2['Cancer_Class'] = miRNA_lncRNA2['Cancer_Class'].astype(str).apply(\n",
    "     lambda x: ' '.join(re.findall(r'\\[(.*?)\\]', x)) if '[' in x and ']' in x else x)\n",
    "miRNA_lncRNA2 = miRNA_lncRNA2.explode('Cancer_Class')\n",
    "miRNA_lncRNA2 = pd.merge(miRNA_lncRNA2, location_map, right_on='0_y', left_on='Cancer_Class', how='left')\n",
    "miRNA_lncRNA2['0_x'] = miRNA_lncRNA2['0_x'].fillna(miRNA_lncRNA2['Cancer_Class'])\n",
    "miRNA_lncRNA2 = miRNA_lncRNA2.drop(columns=['0_y', 'Cancer_Class'])\n",
    "miRNA_lncRNA2 = miRNA_lncRNA2.rename(columns={'0_x':'Location'})\n",
    "miRNA_lncRNA2['Location'] = miRNA_lncRNA2['Location'].replace(\"<NA>\", np.nan)\n",
    "\n",
    "miRNA_lncRNA2['Source'] = 'SomamiR'\n",
    "miRNA_lncRNA3 = miRNA_lncRNA2.copy()\n",
    "miRNA_lncRNA3['Source'] = 'TargetScan'\n",
    "miRNA_lncRNA2 = pd.concat([miRNA_lncRNA2, miRNA_lncRNA3])\n",
    "RNA_RNA4 = miRNA_lncRNA2.rename(columns={'RNA1':':START_ID','RNA2':':END_ID','COSMIC_ID':'Mutation','PMID':'PubMedID'}).drop_duplicates()\n",
    "RNA_RNA4.head(n=3)"
   ]
  },
  {
   "cell_type": "code",
   "execution_count": null,
   "metadata": {},
   "outputs": [],
   "source": [
    "!wget https://compbio.uthsc.edu/SomamiR/download/circRNA_somatic_v2.0.txt.tar.gz -O ../resources/processed_data/unprocessed_data/circRNA_somatic_v2.0.txt.tar.gz"
   ]
  },
  {
   "cell_type": "code",
   "execution_count": null,
   "metadata": {},
   "outputs": [],
   "source": [
    "circRNA_miRNA = pd.read_csv(unprocessed_data_location + 'circRNA_somatic_v2.0.txt.tar.gz', sep=\"\\t\")\n",
    "circRNA_miRNA = circRNA_miRNA[circRNA_miRNA['TargetScan_Site(0=No;1=Yes)'] == 1]\n",
    "circRNA_miRNA = circRNA_miRNA.drop(columns=['Gene','Mut_ID','Chromosome','Location','Mut_Allele','FuncClass','Alteration','Ref_Allele',\n",
    "                                            'Target_Site','Seed','SeedClass','TargetScan_Site(0=No;1=Yes)','Sample_Name','Unnamed: 18'])\n",
    "\n",
    "circRNA_miRNA['Transcript'] = circRNA_miRNA['Transcript'].str.lower()\n",
    "circRNA_miRNA = circRNA_miRNA[circRNA_miRNA['Transcript'].str.match(r'hsa_circ_\\d+')]\n",
    "\n",
    "print(all(circRNA_miRNA['miRNA'].isin(rnacentral_map_human['DB Description'])))\n",
    "print(circRNA_miRNA[~circRNA_miRNA['miRNA'].isin(rnacentral_map_human['DB Description'])]['miRNA'].str[:3].unique())\n",
    "miRNA_RNA_miRNAnotInRNAcentral3p = circRNA_miRNA[~circRNA_miRNA['miRNA'].isin(rnacentral_map_human['DB Description'])]\n",
    "miRNA_RNA_miRNAnotInRNAcentral5p = circRNA_miRNA[~circRNA_miRNA['miRNA'].isin(rnacentral_map_human['DB Description'])]\n",
    "miRNA_RNA_miRNAnotInRNAcentral5p['miRNA'] = miRNA_RNA_miRNAnotInRNAcentral5p['miRNA'].astype(str) + '-3p'\n",
    "miRNA_RNA_miRNAnotInRNAcentral3p['miRNA'] = miRNA_RNA_miRNAnotInRNAcentral3p['miRNA'].astype(str) + '-5p'\n",
    "miRNA_RNA_miRNAnotInRNAcentral = pd.concat([miRNA_RNA_miRNAnotInRNAcentral3p, miRNA_RNA_miRNAnotInRNAcentral5p])\n",
    "miRNA_RNA_miRNAnotInRNAcentral = pd.merge(miRNA_RNA_miRNAnotInRNAcentral, rnacentral_map_human.rename(\n",
    "    columns={'DB Description':'miRNA'}), on='miRNA').drop(columns=['miRNA']).rename(columns={'RNAcentral ID':'miRNA'})\n",
    "circRNA_miRNA = pd.merge(circRNA_miRNA, rnacentral_map_human[['DB Description','RNAcentral ID']].drop_duplicates().rename(\n",
    "    columns={'DB Description':'miRNA'}), on='miRNA').drop(\n",
    "        columns=['miRNA']).rename(columns={'RNAcentral ID':'miRNA'})\n",
    "circRNA_miRNA = pd.concat([circRNA_miRNA, miRNA_RNA_miRNAnotInRNAcentral]).rename(columns={'miRNA':'RNA1','Transcript':'RNA2'})\n",
    "\n",
    "circRNA_miRNA['PMID'] = pd.to_numeric(circRNA_miRNA['PMID'], errors='coerce')\n",
    "circRNA_miRNA['PMID'] = circRNA_miRNA['PMID'].astype(str)\n",
    "circRNA_miRNA['PMID'] = circRNA_miRNA['PMID'].str.replace(\".0\", \"\")\n",
    "circRNA_miRNA['PMID'] = circRNA_miRNA['PMID'].replace(\"<NA>\", np.nan)\n",
    "\n",
    "circRNA_miRNA['Cancer_Class'] = circRNA_miRNA['Cancer_Class'].str.lower()\n",
    "circRNA_miRNA['Cancer_Class'] = circRNA_miRNA['Cancer_Class'].str.replace('[ns]','')\n",
    "circRNA_miRNA['Cancer_Class'] = circRNA_miRNA['Cancer_Class'].str.replace('_',' ')\n",
    "circRNA_miRNA['Cancer_Class'] = circRNA_miRNA['Cancer_Class'].astype(str).apply(\n",
    "     lambda x: ' '.join(re.findall(r'\\[(.*?)\\]', x)) if '[' in x and ']' in x else x)\n",
    "circRNA_miRNA = circRNA_miRNA.explode('Cancer_Class')\n",
    "circRNA_miRNA = pd.merge(circRNA_miRNA, location_map, right_on='0_y', left_on='Cancer_Class', how='left')\n",
    "circRNA_miRNA['0_x'] = circRNA_miRNA['0_x'].fillna(circRNA_miRNA['Cancer_Class'])\n",
    "circRNA_miRNA = circRNA_miRNA.drop(columns=['0_y', 'Cancer_Class'])\n",
    "circRNA_miRNA = circRNA_miRNA.rename(columns={'0_x':'Location'})\n",
    "circRNA_miRNA['Location'] = circRNA_miRNA['Location'].replace(\"<NA>\", np.nan)\n",
    "\n",
    "circRNA_miRNA['Source'] = 'SomamiR'\n",
    "circRNA_miRNA2 = circRNA_miRNA.copy()\n",
    "circRNA_miRNA2['Source'] = 'TargetScan'\n",
    "circRNA_miRNA = pd.concat([circRNA_miRNA, circRNA_miRNA2])\n",
    "circRNA_miRNA = circRNA_miRNA[circRNA_miRNA['RNA2'].str.startswith('hsa_circ_')]\n",
    "RNA_RNA8 = circRNA_miRNA.rename(columns={'RNA2':':START_ID','RNA1':':END_ID','COSMIC_ID':'Mutation','PMID':'PubMedID'}).drop_duplicates()\n",
    "RNA_RNA8.head(n=3)"
   ]
  },
  {
   "cell_type": "markdown",
   "metadata": {},
   "source": [
    "* [LncBase](https://diana.e-ce.uth.gr/lncbasev3/home) <br />  DIANA-LncBase v3 is a reference repository with experimentally supported miRNA targets on long non-coding transcripts."
   ]
  },
  {
   "cell_type": "code",
   "execution_count": null,
   "metadata": {},
   "outputs": [],
   "source": [
    "! wget -O https://dianalab.e-ce.uth.gr/downloads/lncbase_v2_pred_data.tar.gz -P ../resources/processed_data/unprocessed_data/\n",
    "import tarfile\n",
    "with tarfile.open(unprocessed_data_location + 'lncbase_v2_pred_data.tar.gz', 'r:gz') as tar:\n",
    "    tar.extractall(unprocessed_data_location)"
   ]
  },
  {
   "cell_type": "code",
   "execution_count": null,
   "metadata": {},
   "outputs": [],
   "source": [
    "mirna_lncrna2 = pd.read_csv(unprocessed_data_location+\"lncBaseV2_predicted_human_data.csv\").drop(columns=['Gene_ID(Gene_Name)'])\n",
    "\n",
    "# From LncBase: high-confidence miTG score is >= 0.5\n",
    "mirna_lncrna2[\"miTG-score\"] = pd.to_numeric(mirna_lncrna2[\"miTG-score\"], errors='coerce')\n",
    "mirna_lncrna2 = mirna_lncrna2[mirna_lncrna2[\"miTG-score\"] >= 0.5]\n",
    "mirna_lncrna2['#Transcript_ID'] = mirna_lncrna2['#Transcript_ID'].str.replace('>', '')\n",
    "mirna_lncrna2['Mirna_Name(miRBase_version)'] = mirna_lncrna2['Mirna_Name(miRBase_version)'].str.replace(r'\\(.*\\)', '', regex=True)\n",
    "mirna_lncrna2['Source'] = 'LncBase'\n",
    "\n",
    "print(all(mirna_lncrna2['Mirna_Name(miRBase_version)'].isin(rnacentral_map_human['DB Description'])))\n",
    "print(mirna_lncrna2[~mirna_lncrna2['Mirna_Name(miRBase_version)'].isin(rnacentral_map_human['DB Description'])][\n",
    "    'Mirna_Name(miRBase_version)'].str[:3].unique())\n",
    "miRNA_RNA_miRNAnotInRNAcentral3p = mirna_lncrna2[~mirna_lncrna2['Mirna_Name(miRBase_version)'].isin(rnacentral_map_human['DB Description'])]\n",
    "miRNA_RNA_miRNAnotInRNAcentral5p = mirna_lncrna2[~mirna_lncrna2['Mirna_Name(miRBase_version)'].isin(rnacentral_map_human['DB Description'])]\n",
    "miRNA_RNA_miRNAnotInRNAcentral5p['Mirna_Name(miRBase_version)'] = miRNA_RNA_miRNAnotInRNAcentral5p[\n",
    "    'Mirna_Name(miRBase_version)'].astype(str) + '-3p'\n",
    "miRNA_RNA_miRNAnotInRNAcentral3p['Mirna_Name(miRBase_version)'] = miRNA_RNA_miRNAnotInRNAcentral3p[\n",
    "    'Mirna_Name(miRBase_version)'].astype(str) + '-5p'\n",
    "miRNA_RNA_miRNAnotInRNAcentral = pd.concat([miRNA_RNA_miRNAnotInRNAcentral3p, miRNA_RNA_miRNAnotInRNAcentral5p])\n",
    "miRNA_RNA_miRNAnotInRNAcentral = pd.merge(miRNA_RNA_miRNAnotInRNAcentral, rnacentral_map_human[['DB Description','RNAcentral ID']].drop_duplicates().rename(\n",
    "    columns={'DB Description':'Mirna_Name(miRBase_version)'}), on='Mirna_Name(miRBase_version)').drop(columns=[\n",
    "        'Mirna_Name(miRBase_version)']).rename(columns={'RNAcentral ID':'RNA1'})\n",
    "\n",
    "mirna_lncrna2 = pd.merge(mirna_lncrna2, rnacentral_map_human[['DB Description','RNAcentral ID']].drop_duplicates().rename(\n",
    "    columns={'DB Description':'Mirna_Name(miRBase_version)'}),on='Mirna_Name(miRBase_version)').drop(columns=['Mirna_Name(miRBase_version)']\n",
    "                                                                                                     ).rename(columns={'RNAcentral ID':'RNA1'})\n",
    "mirna_lncrna2 = pd.concat([mirna_lncrna2, miRNA_RNA_miRNAnotInRNAcentral]).drop_duplicates()\n",
    "\n",
    "mirna_lncrna2 = mirna_lncrna2[(mirna_lncrna2['RNA1'].notna()) & (mirna_lncrna2[\"#Transcript_ID\"].notna())]\n",
    "print(all(mirna_lncrna2['#Transcript_ID'].isin(rnacentral_map_human_ensembl['Ensembl transcript ID'])))\n",
    "print(mirna_lncrna2[~mirna_lncrna2['#Transcript_ID'].isin(rnacentral_map_human_ensembl['Ensembl transcript ID'])][\n",
    "    '#Transcript_ID'].str[:3].unique())\n",
    "mirna_lncrna2['#Transcript_ID'] = mirna_lncrna2['#Transcript_ID'].str.split(\".\").str[0]\n",
    "mirna_lncrna2_rnacentral = mirna_lncrna2[mirna_lncrna2['#Transcript_ID'].str.startswith('ENST')].rename(columns={\"#Transcript_ID\":'RNA2'})\n",
    "print(all(mirna_lncrna2['#Transcript_ID'].isin(rnacentral_map_human_ensembl['Ensembl transcript ID'])))\n",
    "mirna_lncrna2_rnacentral = pd.merge(mirna_lncrna2, rnacentral_map_human_ensembl.rename(columns={\"Ensembl transcript ID\":'#Transcript_ID'}),\n",
    "                                     on='#Transcript_ID').drop(columns=['Ensembl Gene ID']).rename(\n",
    "                                         columns={'RNAcentral ID':'RNA2'})\n",
    "mirna_lncrna2_ensembl = mirna_lncrna2[~(mirna_lncrna2['#Transcript_ID'].isin(\n",
    "    rnacentral_map_human_ensembl['Ensembl transcript ID'])) & (mirna_lncrna2['#Transcript_ID'].str.startswith('ENST'))].rename(\n",
    "        columns={\"#Transcript_ID\":'RNA2'})\n",
    "mirna_lncrna2_rnacentral.drop(columns=['#Transcript_ID'],inplace=True)\n",
    "print(mirna_lncrna2_ensembl.head(n=3))\n",
    "mirna_lncrna2_rnacentral.head(n=3)\n",
    "\n",
    "RNA_RNA5 = pd.concat([mirna_lncrna2_rnacentral,mirna_lncrna2_ensembl]).drop_duplicates()\n",
    "RNA_RNA5.rename(columns={'RNA1':':START_ID','RNA2':':END_ID', 'miTG-score':'miTG_score'},inplace=True)\n",
    "RNA_RNA5.head(n=3)"
   ]
  },
  {
   "cell_type": "code",
   "execution_count": null,
   "metadata": {},
   "outputs": [],
   "source": [
    "RNA_interacts_with_RNA = pd.concat([RNA_RNA5, RNA_RNA8, RNA_RNA4, RNA_RNA3, tsRNA_miRNA, snoRNA_ncRNA, snoRNA_tRNA_rnacentral,\n",
    "                                    snoRNA_rRNA, snoRNA_snRNA, snoRNA_lncRNA, snoRNA_snoRNA, snoRNA_miRNA, miRNA_lncRNA, snoRNA_miRNA2,\n",
    "                                    RNA_RNA_7, RNA_RNA6, RNA_RNA2, RNA_RNA]).drop(columns=['DB','DB ID','Organism','RNA category','Mut_ID','tsRNA'])\n",
    "RNA_interacts_with_RNA = RNA_interacts_with_RNA.groupby([':START_ID',':END_ID']).agg({\n",
    "    'miTG_score': np.mean,\n",
    "    'Source': set,\n",
    "    'Mutation': set,\n",
    "    'PubMedID': set,\n",
    "    'Location': set,\n",
    "    'Drug': set,\n",
    "    'Method': set,\n",
    "    'FDR': np.mean,\n",
    "    'Distance': np.mean,\n",
    "    'RNAsister_score': np.mean}).reset_index()\n",
    "RNA_interacts_with_RNA_inv = RNA_interacts_with_RNA.rename(columns={':START_ID':':END_ID',':END_ID':':START_ID'})\n",
    "RNA_interacts_with_RNA = pd.concat([RNA_interacts_with_RNA, RNA_interacts_with_RNA_inv])\n",
    "RNA_interacts_with_RNA[':TYPE'] = 'interacts_with'\n",
    "RNA_interacts_with_RNA.to_pickle(unprocessed_edge_data_location+'RNA_interacts_with_RNA.pkl')\n",
    "RNA_interacts_with_RNA.head(n=3)"
   ]
  },
  {
   "cell_type": "markdown",
   "metadata": {},
   "source": [
    "***\n",
    "### RNA - http://purl.obolibrary.org/obo/RO_0002436 (molecularly interacts with) - RNA"
   ]
  },
  {
   "cell_type": "markdown",
   "metadata": {},
   "source": [
    "* [LncBook](https://ngdc.cncb.ac.cn/lncbook/) <br />  LncBook accommodates a high-quality collection of 95,243 human lncRNA genes and 323,950 lncRNA transcripts, and incorporates their abundant annotations at different omics levels, thereby enabling users to decipher functional signatures of lncRNAs in human diseases and different biological contexts."
   ]
  },
  {
   "cell_type": "code",
   "execution_count": null,
   "metadata": {},
   "outputs": [],
   "source": [
    "!wget https://ngdc.cncb.ac.cn/lncbook/files/lncrna_mirna_miRandaAndTargetScanAndRNAhybrid_LncBook2.0.csv.gz -O ../resources/processed_data/unprocessed_data/lncrna_mirna_miRandaAndTargetScanAndRNAhybrid_LncBook2.0.csv.gz"
   ]
  },
  {
   "cell_type": "code",
   "execution_count": null,
   "metadata": {},
   "outputs": [],
   "source": [
    "mirna_lncrna2 = pd.read_csv(unprocessed_data_location+\"lncrna_mirna_miRandaAndTargetScanAndRNAhybrid_LncBook2.0.csv.gz\", header=None)\n",
    "mirna_lncrna2 = mirna_lncrna2[[0,3,4,5,6,10]]\n",
    "mirna_lncrna2[3] = mirna_lncrna2[3].fillna(mirna_lncrna2[0])\n",
    "mirna_lncrna2.drop(columns=[0],inplace=True)\n",
    "mirna_lncrna2.columns = ['symbol', 'Binding_start', 'Binding_end', 'Minimum free energy [kcal/mol]', 'mir_id']\n",
    "mirna_lncrna2['Source'] = 'LncBook'\n",
    "mirna_lncrna3 = mirna_lncrna2.copy()\n",
    "mirna_lncrna3['Source'] = 'TargetScan'\n",
    "mirna_lncrna4 = mirna_lncrna2.copy()\n",
    "mirna_lncrna4['Source'] = 'miRanda'\n",
    "mirna_lncrna5 = mirna_lncrna2.copy()\n",
    "mirna_lncrna5['Source'] = 'RNAhybrid'\n",
    "mirna_lncrna2 = pd.concat([mirna_lncrna2, mirna_lncrna3, mirna_lncrna4, mirna_lncrna5])\n",
    "\n",
    "print(all(mirna_lncrna2['mir_id'].isin(rnacentral_map_human['DB Description'])))\n",
    "mirna_lncrna2 = pd.merge(mirna_lncrna2, rnacentral_map_human.rename(columns={'DB Description':'mir_id'}),\n",
    "                          on='mir_id').drop(columns=['DB','DB ID','mir_id','Organism','RNA category']).rename(\n",
    "                              columns={'RNAcentral ID':'RNA1'})\n",
    "\n",
    "# These are few sequences without an official symbol. Therefore, we remove them\n",
    "print(mirna_lncrna2[~mirna_lncrna2['symbol'].isin(rnacentral_map_human_lncbook['LncBook Transcript ID'])]['symbol'].unique()[:3])\n",
    "print(mirna_lncrna2[~mirna_lncrna2['symbol'].isin(rnacentral_map_human_lncbook['LncBook Transcript ID'])]['symbol'].str[:6].unique())\n",
    "mirna_lncrna2 = pd.merge(mirna_lncrna2, rnacentral_map_human_lncbook[['RNAcentral ID','LncBook Transcript ID']].drop_duplicates().rename(\n",
    "    columns={'LncBook Transcript ID':'symbol'}), on='symbol').drop(columns=['symbol']).rename(columns={'RNAcentral ID':'RNA2'})\n",
    "\n",
    "mirna_lncrna2['Binding_pos'] = mirna_lncrna2['Binding_start'].astype(str) + '-' + mirna_lncrna2['Binding_end'].astype(str)\n",
    "mirna_lncrna2['Binding_pos'] = mirna_lncrna2['Binding_pos'].replace('nan-nan', np.nan)\n",
    "\n",
    "mirna_lncrna2.rename(columns={'RNA1':':START_ID','RNA2':':END_ID','Minimum free energy [kcal/mol]':'Minimum_free_energy_kcal_mol'},inplace=True)\n",
    "mirna_lncrna2.head(n=3)"
   ]
  },
  {
   "cell_type": "code",
   "execution_count": null,
   "metadata": {},
   "outputs": [],
   "source": [
    "RNA_molecularly_interacts_with_RNA_inv = mirna_lncrna2.rename(columns={':START_ID':':END_ID',':END_ID':':START_ID'})\n",
    "RNA_molecularly_interacts_with_RNA = pd.concat([mirna_lncrna2, RNA_molecularly_interacts_with_RNA_inv])\n",
    "RNA_molecularly_interacts_with_RNA = RNA_molecularly_interacts_with_RNA.groupby([':START_ID',':END_ID']).agg({\n",
    "    'Minimum_free_energy_kcal_mol':np.mean,'Binding_pos':set,'Source':set}).reset_index()\n",
    "RNA_molecularly_interacts_with_RNA[':TYPE'] = 'molecularly_interacts_with'\n",
    "RNA_molecularly_interacts_with_RNA.to_pickle(unprocessed_edge_data_location+'RNA_molecularly_interacts_with_RNA.pkl')\n",
    "RNA_molecularly_interacts_with_RNA.head(n=3)"
   ]
  },
  {
   "cell_type": "markdown",
   "metadata": {},
   "source": [
    "***\n",
    "### SNP - http://purl.obolibrary.org/obo/RO_0002566 (causally influences) - RNA"
   ]
  },
  {
   "cell_type": "markdown",
   "metadata": {},
   "source": [
    "* ClinVar"
   ]
  },
  {
   "cell_type": "code",
   "execution_count": null,
   "metadata": {},
   "outputs": [],
   "source": [
    "# Download data\n",
    "url = 'ftp://ftp.ncbi.nlm.nih.gov/pub/clinvar/tab_delimited/variant_summary.txt.gz'\n",
    "data_downloader(url, unprocessed_data_location, 'variant_summary.txt.gz')"
   ]
  },
  {
   "cell_type": "code",
   "execution_count": null,
   "metadata": {},
   "outputs": [],
   "source": [
    "clinvar_data = pd.read_csv(unprocessed_data_location + 'variant_summary.txt', header=0,\n",
    "                           delimiter='\\t', low_memory=False)[['Name', 'GeneID','Assembly',\n",
    "                                                              'RS# (dbSNP)','PhenotypeList','ReviewStatus']]\n",
    "clinvar_data = clinvar_data[clinvar_data['GeneID'] != -1].drop(columns=['GeneID'])\n",
    "clinvar_data = clinvar_data[(clinvar_data['ReviewStatus'] == \"criteria provided, multiple submitters, no conflicts\")\n",
    "                            | (clinvar_data['ReviewStatus'] == \"reviewed by expert panel\")\n",
    "                            | (clinvar_data['ReviewStatus'] == \"practice guideline\")].drop(columns=['ReviewStatus'])\n",
    "clinvar_data = clinvar_data[clinvar_data['RS# (dbSNP)'] != -1]\n",
    "clinvar_data['RS# (dbSNP)'] = 'rs' + clinvar_data['RS# (dbSNP)'].astype(str)\n",
    "clinvar_data['Name'] = clinvar_data['Name'].str.split(\".\").str[0]\n",
    "clinvar_data = clinvar_data[clinvar_data['Assembly'] == 'GRCh38'].drop(columns=['Assembly'])\n",
    "\n",
    "clinvar_data['PhenotypeList'] = clinvar_data['PhenotypeList'].str.lower()\n",
    "clinvar_data['PhenotypeList'] = clinvar_data['PhenotypeList'].str.split(\"|\")\n",
    "clinvar_data = clinvar_data.explode('PhenotypeList')\n",
    "clinvar_data = pd.merge(clinvar_data, disease_map, right_on='0_y', left_on='PhenotypeList', how='left')\n",
    "clinvar_data['0_x'] = clinvar_data['0_x'].fillna(clinvar_data['PhenotypeList'])\n",
    "clinvar_data = clinvar_data.drop(columns=['0_y', 'PhenotypeList'])\n",
    "clinvar_data = clinvar_data.rename(columns={'0_x':'Location'})\n",
    "clinvar_data['Location'] = clinvar_data['Location'].replace(\"not provided\", np.nan)\n",
    "clinvar_data['Location'] = clinvar_data['Location'].replace(\"<NA>\", np.nan)\n",
    "\n",
    "clinvar_data = pd.merge(clinvar_data, rnacentral_map_human_refseq[['RNAcentral ID','RefSeq ID']].drop_duplicates().rename(\n",
    "    columns={'RefSeq ID':'Name'}), on='Name')\n",
    "clinvar_data = clinvar_data.rename(columns={'RNAcentral ID':':END_ID', 'RS# (dbSNP)':':START_ID'})\n",
    "clinvar_data['Source'] = 'ClinVar'\n",
    "clinvar_data.head(n=3)"
   ]
  },
  {
   "cell_type": "markdown",
   "metadata": {},
   "source": [
    "* [PolymiRTS](https://compbio.uthsc.edu/miRSNP/home.php)"
   ]
  },
  {
   "cell_type": "code",
   "execution_count": null,
   "metadata": {},
   "outputs": [],
   "source": [
    "snp_mirna = pd.read_csv(unprocessed_data_location + 'target_miRSNP_human_CLASH.txt',sep='\\t')[['refseq','microRNA_name','mutid']]\n",
    "\n",
    "snp_mirna_5p = snp_mirna[snp_mirna['microRNA_name'].str.contains(\"\\\\*\")]\n",
    "snp_mirna = snp_mirna[~snp_mirna['microRNA_name'].str.contains(\"\\\\*\")]\n",
    "snp_mirna_3p = snp_mirna_5p.copy()\n",
    "snp_mirna_5p['microRNA_name'] = snp_mirna['microRNA_name'].str.replace('*', '-5p')\n",
    "snp_mirna_3p['microRNA_name'] = snp_mirna['microRNA_name'].str.replace('*', '-3p')\n",
    "snp_mirna = pd.concat([snp_mirna, snp_mirna_5p, snp_mirna_3p])\n",
    "snp_mirna = snp_mirna[(snp_mirna['microRNA_name'].notna()) & (snp_mirna['mutid'].notna())]\n",
    "print(all(snp_mirna['microRNA_name'].isin(rnacentral_map_human['DB Description'])))\n",
    "print(snp_mirna[snp_mirna['microRNA_name'].isin(rnacentral_map_human['DB Description'])]['microRNA_name'].str[:3].unique())\n",
    "\n",
    "miRNA_RNA_miRNAnotInRNAcentral3p = snp_mirna[~snp_mirna['microRNA_name'].isin(rnacentral_map_human['DB Description'])]\n",
    "miRNA_RNA_miRNAnotInRNAcentral5p = snp_mirna[~snp_mirna['microRNA_name'].isin(rnacentral_map_human['DB Description'])]\n",
    "miRNA_RNA_miRNAnotInRNAcentral5p['microRNA_name'] = miRNA_RNA_miRNAnotInRNAcentral5p['microRNA_name'].astype(str) + '-3p'\n",
    "miRNA_RNA_miRNAnotInRNAcentral3p['microRNA_name'] = miRNA_RNA_miRNAnotInRNAcentral3p['microRNA_name'].astype(str) + '-5p'\n",
    "miRNA_RNA_miRNAnotInRNAcentral = pd.concat([miRNA_RNA_miRNAnotInRNAcentral3p, miRNA_RNA_miRNAnotInRNAcentral5p])\n",
    "miRNA_RNA_miRNAnotInRNAcentral = pd.merge(miRNA_RNA_miRNAnotInRNAcentral, rnacentral_map_human[['RNAcentral ID','DB Description']].drop_duplicates().rename(\n",
    "    columns={'DB Description':'microRNA_name'}), on='microRNA_name').drop(columns=['microRNA_name']).rename(columns={'RNAcentral ID':'RNA1'})\n",
    "\n",
    "snp_mirna = pd.merge(snp_mirna, rnacentral_map_human[['RNAcentral ID','DB Description']].drop_duplicates().rename(\n",
    "    columns={'DB Description':'microRNA_name'}), on='microRNA_name')\n",
    "snp_mirna = pd.concat([snp_mirna.rename(columns={'RNAcentral ID':'RNA1'}),\n",
    "                       miRNA_RNA_miRNAnotInRNAcentral]).drop(columns=['microRNA_name'])\n",
    "\n",
    "snp_mirna = pd.merge(snp_mirna, rnacentral_map_human_refseq[['RNAcentral ID','RefSeq ID']].drop_duplicates().rename(columns={'RefSeq ID':'refseq'}),\n",
    "                        on='refseq', how='left')\n",
    "snp_mirna['RNAcentral ID'] = snp_mirna['RNAcentral ID'].fillna(snp_mirna['refseq'])\n",
    "snp_mirna = snp_mirna.drop(columns=['refseq'])\n",
    "snp_mirna = snp_mirna.rename(columns={'RNAcentral ID':'Interactor'})\n",
    "snp_mirna['Source'] = 'PolymiRTS'\n",
    "snp_mirna = snp_mirna.rename(columns={'mutid':':START_ID', 'RNA1':':END_ID'})\n",
    "snp_mirna.head(n=3)"
   ]
  },
  {
   "cell_type": "code",
   "execution_count": null,
   "metadata": {},
   "outputs": [],
   "source": [
    "!wget https://compbio.uthsc.edu/miRSNP/download/PolymiRTS3.0/target_miRSNP_human_CLASH.txt -O ../resources/processed_data/unprocessed_data/target_miRSNP_human_CLASH.txt"
   ]
  },
  {
   "cell_type": "code",
   "execution_count": null,
   "metadata": {},
   "outputs": [],
   "source": [
    "snp_mrna = pd.read_csv(unprocessed_data_location + 'target_miRSNP_human_CLASH.txt',sep='\\t')[['refseq','microRNA_name','mutid']]\n",
    "\n",
    "snp_mrna = pd.merge(rnacentral_map_human_refseq[['RNAcentral ID','RefSeq ID']].drop_duplicates(),snp_mrna,\n",
    "                                  left_on='RefSeq ID', right_on='refseq',\n",
    "                                  how='right')\n",
    "\n",
    "snp_mrna.rename(columns={'mutid':':START_ID', 'RNAcentral ID':':END_ID', 'microRNA_name':'Interactor'},inplace=True)\n",
    "snp_mrna = snp_mrna[[':START_ID',':END_ID','Interactor']].drop_duplicates()\n",
    "snp_mrna = snp_mrna[(~snp_mrna[':START_ID'].isna()) & (~snp_mrna[':END_ID'].isna())]\n",
    "snp_mrna['Source'] = 'PolymiRTS'\n",
    "snp_mrna.head(n=3)"
   ]
  },
  {
   "cell_type": "markdown",
   "metadata": {},
   "source": [
    "* miRNet"
   ]
  },
  {
   "cell_type": "code",
   "execution_count": null,
   "metadata": {},
   "outputs": [],
   "source": [
    "!wget https://www.dropbox.com/s/8aq8k0yoy5ak0d6/miRNet-snpmirbs-hsa.csv?dl=0 -O ../resources/processed_data/unprocessed_data/miRNet-snpmirbs-hsa.csv?dl=0"
   ]
  },
  {
   "cell_type": "code",
   "execution_count": null,
   "metadata": {},
   "outputs": [],
   "source": [
    "gene_variant = pd.read_csv(unprocessed_data_location + \"miRNet-snpmirbs-hsa.csv?dl=0\")\n",
    "gene_variant = gene_variant[['rsid','transcript_id']]\n",
    "gene_variant = gene_variant.rename(columns={'rsid':'SNP', 'transcript_id':'RefSeq ID'})\n",
    "\n",
    "gene_variant = pd.merge(rnacentral_map_human_refseq[['RNAcentral ID','RefSeq ID']].drop_duplicates(),gene_variant,on='RefSeq ID')\n",
    "\n",
    "gene_variant['Source'] = 'miRNet'\n",
    "gene_variant.rename(columns={'SNP':':START_ID', 'RNAcentral ID':':END_ID'},inplace=True)\n",
    "gene_variant.head(n=3)"
   ]
  },
  {
   "cell_type": "code",
   "execution_count": null,
   "metadata": {},
   "outputs": [],
   "source": [
    "'''\n",
    "# Since we are dealing with 350K edges, we keep only those whose SNP is already considered by other sources.\n",
    "SNPnonO_data = pd.concat([pd.read_csv('../resources/edge_data/variant-piRNA2566.txt',sep='\\t').rename(columns={'rs Id':'SNP'})['SNP'],\n",
    "                          pd.read_csv('../resources/edge_data/variant-miRNA2566.txt',sep='\\t')['SNP'],\n",
    "                          pd.read_csv('../resources/edge_data/variant-premiRNA2566.txt', sep='\\t')['SNP'],\n",
    "                          pd.read_csv('../resources/edge_data/variant-disease3302.txt', sep='\\t')['SNP'],\n",
    "                          pd.read_csv('../resources/edge_data/variant-phenotype3302.txt', sep='\\t')['SNP']]).drop_duplicates()\n",
    "\n",
    "# This contains HDMM KG rsIDs\n",
    "nonO_data = pd.read_pickle(r'../resources/construction_approach/'+'subclass_construction_mapORIGINAL.pkl')\n",
    "nonO_data_series = pd.Series(nonO_data)\n",
    "\n",
    "b = pd.DataFrame(nonO_data_series)\n",
    "b['SNP'] = b.index\n",
    "\n",
    "gene_variant = gene_variant[(gene_variant['SNP'].isin(SNPnonO_data)) | (gene_variant['SNP'].isin(b['SNP']))]\n",
    "gene_variant\n",
    "'''"
   ]
  },
  {
   "cell_type": "markdown",
   "metadata": {},
   "source": [
    "* [piRBase](http://bigdata.ibp.ac.cn/piRBase/)"
   ]
  },
  {
   "cell_type": "code",
   "execution_count": null,
   "metadata": {},
   "outputs": [],
   "source": [
    "# http://bigdata.ibp.ac.cn/piRBase/variants.php -->  Display 1151 (since \"Total amount: 1151\") items per page --> Display button --> download html"
   ]
  },
  {
   "cell_type": "code",
   "execution_count": null,
   "metadata": {},
   "outputs": [],
   "source": [
    "variant_piRNA = pd.read_html(unprocessed_data_location + 'piRNA-variant.html')[1]\n",
    "variant_piRNA = variant_piRNA[~variant_piRNA['rs Id'].isna()]\n",
    "variant_piRNA = variant_piRNA[['Variants', 'rs Id']]\n",
    "variant_piRNA['Variants'] = variant_piRNA['Variants'].str.replace('>', '-')\n",
    "variant_piRNA.head(n=3)"
   ]
  },
  {
   "cell_type": "code",
   "execution_count": null,
   "metadata": {},
   "outputs": [],
   "source": [
    "df = pd.DataFrame()\n",
    "for i in variant_piRNA.Variants.unique():\n",
    "    temp = pd.read_html('http://bigdata.ibp.ac.cn/piRBase/variants2.php?organism=hsa&name=' + i)[1]\n",
    "    temp = temp[['Name']]\n",
    "    temp['Variants'] = i\n",
    "    df = pd.concat([df, temp])\n",
    "\n",
    "df.head(n=3)"
   ]
  },
  {
   "cell_type": "code",
   "execution_count": null,
   "metadata": {},
   "outputs": [],
   "source": [
    "#df.to_csv(unprocessed_data_location + 'piRBase_piRNA-variant.csv', index=False)\n",
    "#df = pd.read_csv(unprocessed_data_location + 'piRBase_piRNA-variant.csv')"
   ]
  },
  {
   "cell_type": "code",
   "execution_count": null,
   "metadata": {},
   "outputs": [],
   "source": [
    "variant_piRNA = pd.merge(variant_piRNA, df, on=['Variants']).drop(columns=['Variants'])\n",
    "variant_piRNA = variant_piRNA.rename(columns={'Name':'piRNA'})\n",
    "variant_piRNA = pd.merge(variant_piRNA, rnacentral_map_human_pirbase.rename(columns={'piRBase ID':'piRNA'}), on='piRNA').drop(\n",
    "    columns=['piRNA']).rename(columns={'RNAcentral ID':':END_ID', 'rs Id':':START_ID'})\n",
    "variant_piRNA['Source'] = 'piRBase'\n",
    "variant_piRNA.head(n=3) # Empty"
   ]
  },
  {
   "cell_type": "markdown",
   "metadata": {},
   "source": [
    "* [miRNet](https://www.mirnet.ca/miRNet/)"
   ]
  },
  {
   "cell_type": "code",
   "execution_count": null,
   "metadata": {},
   "outputs": [],
   "source": [
    "!wget https://www.dropbox.com/s/cu4hv35ulu3a8d6/miRNet-snp-mir-hsa.csv?dl=0 -O ../resources/processed_data/unprocessed_data/miRNet-snp-mir-hsa.csv?dl=0"
   ]
  },
  {
   "cell_type": "code",
   "execution_count": null,
   "metadata": {},
   "outputs": [],
   "source": [
    "miRNA_variant = pd.read_csv(unprocessed_data_location + \"miRNet-snp-mir-hsa.csv?dl=0\")\n",
    "miRNA_variant = miRNA_variant[miRNA_variant['High_Confidence']=='YES']\n",
    "miRNA_variant.drop(columns=['mirnet','chr_pos','Mature_Pos','MIRNA_Name','Precursor_Pos','Mature_Name','gnomAD_MAF',\n",
    "                            'Robust_FANTOM5','Conserved_ADmiRE', 'Family_Name','Predicted_Motif',\n",
    "                            'AF_Percentile_gnomAD','Phylop_100way','Phastcons_100way','High_Confidence','MIRNA_Domain'],\n",
    "                   inplace=True)\n",
    "miRNA_variant['Mature_Acc'].fillna(miRNA_variant['MIRNA_Acc'], inplace=True)\n",
    "miRNA_variant.drop(columns=['MIRNA_Acc'], inplace=True)\n",
    "\n",
    "print(all(miRNA_variant['Mature_Acc'].isin(rnacentral_map_human_mirbase['miRBase ID'])))\n",
    "miRNA_variant = pd.merge(miRNA_variant, rnacentral_map_human_mirbase.rename(columns={'miRBase ID':'Mature_Acc'}),\n",
    "                          on='Mature_Acc').drop(columns=['Mature_Acc']).rename(columns={'RNAcentral ID':'RNA'})\n",
    "\n",
    "miRNA_variant['Source'] = 'miRNet'\n",
    "miRNA_variant.rename(columns={'RNA':':END_ID', 'rsid':':START_ID'},inplace=True)\n",
    "miRNA_variant.head(n=3)"
   ]
  },
  {
   "cell_type": "markdown",
   "metadata": {},
   "source": [
    "* [miRdSNP](http://mirdsnp.ccr.buffalo.edu/)"
   ]
  },
  {
   "cell_type": "code",
   "execution_count": null,
   "metadata": {},
   "outputs": [],
   "source": [
    "!wget http://mirdsnp.ccr.buffalo.edu/downloads/mirdsnp-dsnp-generated-mir-targets-v11.03.csv -P ../resources/processed_data/unprocessed_data/mirdsnp-dsnp-generated-mir-targets-v11.03.csv"
   ]
  },
  {
   "cell_type": "code",
   "execution_count": null,
   "metadata": {},
   "outputs": [],
   "source": [
    "miRNA_variant2 = pd.read_csv(unprocessed_data_location+'mirdsnp-dsnp-generated-mir-targets-v11.03.csv')\n",
    "miRNA_variant2 = miRNA_variant2[miRNA_variant2['experimentally_confirmed'].notna()]\n",
    "miRNA_variant2.rename(columns={'SNP':'rsid','miR':'MIRNA_Name'},inplace=True)\n",
    "miRNA_variant2 = miRNA_variant2.drop(columns=['experimentally_confirmed','gene_name','distance'])\n",
    "\n",
    "print(miRNA_variant2)\n",
    "print(any(miRNA_variant2['MIRNA_Name'].isin(rnacentral_map_human['DB Description'])))\n",
    "miRNA_RNA_miRNAnotInRNAcentral3p = miRNA_variant2[~miRNA_variant2['MIRNA_Name'].isin(rnacentral_map_human['DB Description'])]\n",
    "miRNA_RNA_miRNAnotInRNAcentral5p = miRNA_variant2[~miRNA_variant2['MIRNA_Name'].isin(rnacentral_map_human['DB Description'])]\n",
    "miRNA_RNA_miRNAnotInRNAcentral5p['MIRNA_Name'] = miRNA_RNA_miRNAnotInRNAcentral5p['MIRNA_Name'].astype(str) + '-3p'\n",
    "miRNA_RNA_miRNAnotInRNAcentral3p['MIRNA_Name'] = miRNA_RNA_miRNAnotInRNAcentral3p['MIRNA_Name'].astype(str) + '-5p'\n",
    "miRNA_RNA_miRNAnotInRNAcentral = pd.concat([miRNA_RNA_miRNAnotInRNAcentral3p, miRNA_RNA_miRNAnotInRNAcentral5p])\n",
    "miRNA_variant2 = pd.merge(miRNA_RNA_miRNAnotInRNAcentral, rnacentral_map_human[['RNAcentral ID','DB Description']].drop_duplicates().rename(\n",
    "    columns={'DB Description':'MIRNA_Name'}), on='MIRNA_Name').drop(columns=['MIRNA_Name']).rename(columns={'RNAcentral ID':'RNA1'})\n",
    "\n",
    "miRNA_variant2 = pd.merge(miRNA_variant2, rnacentral_map_human_refseq[['RNAcentral ID','RefSeq ID']].drop_duplicates().rename(columns={'RefSeq ID':'refseq_id'}),\n",
    "                        on='refseq_id', how='left')\n",
    "miRNA_variant2['RNAcentral ID'] = miRNA_variant2['RNAcentral ID'].fillna(miRNA_variant2['refseq_id'])\n",
    "miRNA_variant2 = miRNA_variant2.drop(columns=['refseq_id'])\n",
    "miRNA_variant2 = miRNA_variant2.rename(columns={'RNAcentral ID':'Interactor'})\n",
    "\n",
    "miRNA_variant2['diseases'] = miRNA_variant2['diseases'].str.lower().str.strip()\n",
    "miRNA_variant2 = pd.merge(miRNA_variant2, disease_map, right_on='0_y', left_on='diseases', how='left')\n",
    "miRNA_variant2['0_x'] = miRNA_variant2['0_x'].fillna(miRNA_variant2['diseases'])\n",
    "miRNA_variant2 = miRNA_variant2.drop(columns=['0_y', 'diseases'])\n",
    "miRNA_variant2 = miRNA_variant2.rename(columns={'0_x':'Location'})\n",
    "miRNA_variant2['Location'] = miRNA_variant2['Location'].replace(\"not provided\", np.nan)\n",
    "miRNA_variant2['Location'] = miRNA_variant2['Location'].replace(\"<NA>\", np.nan)\n",
    "\n",
    "miRNA_variant2['Source'] = 'miRdSNP'\n",
    "miRNA_variant2.rename(columns={'rsid':':START_ID', 'RNA1':':END_ID'},inplace=True)\n",
    "miRNA_variant2.head(n=3)"
   ]
  },
  {
   "cell_type": "code",
   "execution_count": null,
   "metadata": {},
   "outputs": [],
   "source": [
    "SNP_causally_influences_RNA = pd.concat([miRNA_variant2, miRNA_variant, variant_piRNA, gene_variant, snp_mrna, snp_mirna, clinvar_data])\n",
    "SNP_causally_influences_RNA = SNP_causally_influences_RNA.groupby([':START_ID',':END_ID']).agg({'Interactor':set,\n",
    "                                                                                                'Location':set,'Source':set}).reset_index()\n",
    "SNP_causally_influences_RNA[':TYPE'] = 'causally_influences'\n",
    "SNP_causally_influences_RNA.to_pickle(unprocessed_edge_data_location+'SNP_causally_influences_RNA.pkl')\n",
    "\n",
    "RNA_causally_influenced_by_SNP = SNP_causally_influences_RNA.rename(columns={':START_ID':':END_ID',':END_ID':':START_ID'})\n",
    "RNA_causally_influenced_by_SNP[':TYPE'] = 'causally_influenced_by'\n",
    "RNA_causally_influenced_by_SNP.to_pickle(unprocessed_edge_data_location+'RNA_causally_influenced_by_SNP.pkl')\n",
    "RNA_causally_influenced_by_SNP.head(n=3)"
   ]
  },
  {
   "cell_type": "markdown",
   "metadata": {},
   "source": [
    "***\n",
    "### COSMIC - http://purl.obolibrary.org/obo/RO_0002566 (causally influences) - RNA"
   ]
  },
  {
   "cell_type": "markdown",
   "metadata": {},
   "source": [
    "* COSMIC"
   ]
  },
  {
   "cell_type": "code",
   "execution_count": null,
   "metadata": {},
   "outputs": [],
   "source": [
    "# https://cancer.sanger.ac.uk/cosmic/download/cosmic/v101/noncodingvariantsvcfnormal --> \"Non-Coding Variants VCF Normal\" tab --> \n",
    "# --> Cosmic_NonCodingVariants_VcfNormal_v101_GRCh38. --> Register and click on \"Download in browser\""
   ]
  },
  {
   "cell_type": "code",
   "execution_count": null,
   "metadata": {},
   "outputs": [],
   "source": [
    "cosmic = pd.read_csv(unprocessed_data_location + 'Cosmic_NonCodingVariants_Normal_v101_GRCh38.vcf', sep='\\t', comment='#',\n",
    "                     names=['chr','pos',':START_ID','REF','ALT','FILTER','QUAL', 'INFO'])[[':START_ID','INFO']]\n",
    "cosmic = cosmic[cosmic['INFO'].str.contains('IS_CANONICAL=y')]\n",
    "cosmic['INFO'] = cosmic['INFO'].str.split('TRANSCRIPT=').str[1]\n",
    "cosmic['INFO'] = cosmic['INFO'].str.split(';').str[0].str.split(\".\").str[0]\n",
    "cosmic = cosmic.merge(rnacentral_map_human_ensembl[['RNAcentral ID','Ensembl transcript ID']].drop_duplicates().rename(\n",
    "    columns={'Ensembl transcript ID':'INFO'}), on='INFO')\n",
    "cosmic['RNAcentral ID'] = cosmic['RNAcentral ID'].fillna(cosmic['INFO'])\n",
    "cosmic = cosmic.rename(columns={'RNAcentral ID':':END_ID'}).drop(columns=['INFO'])\n",
    "cosmic = cosmic[(cosmic[':START_ID'] != \".\") & (cosmic[':END_ID'] != \".\")]\n",
    "cosmic['Source'] = 'COSMIC'\n",
    "cosmic.head(n=3)"
   ]
  },
  {
   "cell_type": "markdown",
   "metadata": {},
   "source": [
    "* [LncBook](https://ngdc.cncb.ac.cn/lncbook/)"
   ]
  },
  {
   "cell_type": "code",
   "execution_count": null,
   "metadata": {},
   "outputs": [],
   "source": [
    "!wget https://ngdc.cncb.ac.cn/lncbook/files/variation_LncBook2.0.csv.gz -O ../resources/processed_data/unprocessed_data/variation_LncBook2.0.csv.gz"
   ]
  },
  {
   "cell_type": "code",
   "execution_count": null,
   "metadata": {},
   "outputs": [],
   "source": [
    "lncRNA_disease2 = pd.read_csv(unprocessed_data_location+'variation_LncBook2.0.csv.gz').drop(\n",
    "    columns=['Symbol','ClinVar Allele ID','ClinVar Variation Effect','ClinVar Disease Name','Variant Name','dbSNP ID']) # Mondo+HPO\n",
    "print(lncRNA_disease2['COSMIC Variation Effect'].unique())\n",
    "lncRNA_disease2 = lncRNA_disease2[lncRNA_disease2['COSMIC Variation Effect'] == 'Pathogenic'].drop(columns=['COSMIC Variation Effect'])\n",
    "lncRNA_disease2 = lncRNA_disease2[lncRNA_disease2['COSMIC Tumor Name'] != '-']\n",
    "lncRNA_disease2['COSMIC Tumor Name'] = lncRNA_disease2['COSMIC Tumor Name'].str.split(';')\n",
    "lncRNA_disease2 = lncRNA_disease2.explode('COSMIC Tumor Name')\n",
    "lncRNA_disease2['COSMIC Tumor Name'] = lncRNA_disease2['COSMIC Tumor Name'].str.replace(r\"\\(.*?\\)\", \"\", regex=True)\n",
    "lncRNA_disease2['COSMIC Tumor Name'] = [desc[1:] if desc.startswith(' ') else\n",
    "                                       desc for desc in lncRNA_disease2['COSMIC Tumor Name']]\n",
    "lncRNA_disease2['COSMIC Tumor Name'] = lncRNA_disease2['COSMIC Tumor Name'].str.lower()\n",
    "\n",
    "lncRNA_disease2 = pd.merge(lncRNA_disease2, rnacentral_map_human_lncbook[['RNAcentral ID','LncBook Gene ID']].drop_duplicates().rename(\n",
    "    columns={'LncBook Gene ID':'Gene ID'}), on='Gene ID').drop(columns=['Gene ID']).rename(columns={'RNAcentral ID':'RNA'})\n",
    "\n",
    "lncRNA_disease2 = pd.merge(lncRNA_disease2, disease_map, right_on='0_y', left_on='COSMIC Tumor Name', how='left')\n",
    "lncRNA_disease2['0_x'] = lncRNA_disease2['0_x'].fillna(lncRNA_disease2['COSMIC Tumor Name'])\n",
    "lncRNA_disease2 = lncRNA_disease2.drop(columns=['0_y', 'COSMIC Tumor Name'])\n",
    "lncRNA_disease2 = lncRNA_disease2.rename(columns={'0_x':'Location'})\n",
    "\n",
    "lncRNA_disease2['Source'] = 'LncBook'\n",
    "lncRNA_disease2.rename(columns={'RNA':':END_ID','COSMIC Mutation ID':':START_ID'}, inplace=True) \n",
    "lncRNA_disease2.head(n=3)"
   ]
  },
  {
   "cell_type": "markdown",
   "metadata": {},
   "source": [
    "* SomamiR"
   ]
  },
  {
   "cell_type": "code",
   "execution_count": null,
   "metadata": {},
   "outputs": [],
   "source": [
    "miRNA_lncRNA2 = pd.read_csv(unprocessed_data_location+'lncRNA_somatic_v2.0.txt.tar.gz',sep='\\t',dtype={'PMID':str})\n",
    "miRNA_lncRNA2.drop(columns=['Unnamed: 18'],inplace=True) # Mondo+HPO\n",
    "miRNA_lncRNA2.rename(columns={'lncRNA_somatic_v2.0.txt':'Gene'},inplace=True)\n",
    "miRNA_lncRNA2['Gene'] = miRNA_lncRNA2['Gene'].str.replace(r'lnc-', '')\n",
    "miRNA_lncRNA2.rename(columns={'Gene': 'symbol', 'miRNA':'mir_id'}, inplace=True)\n",
    "miRNA_lncRNA2 = miRNA_lncRNA2[miRNA_lncRNA2['TargetScan_Site(0=No;1=Yes)'] == 1]\n",
    "\n",
    "lncpedia_map = pd.read_csv(\"https://lncipedia.org/downloads/lncipedia_5_0/lncipedia_5_0_vs_5_2.txt\", sep='\\t')\n",
    "miRNA_lncRNA2 = miRNA_lncRNA2.merge(lncpedia_map.rename(columns={'LNCipedia 5.0 Transcript ID':'Transcript'}),\n",
    "                                    on='Transcript').drop(columns=['Transcript']).rename(\n",
    "                                        columns={'LNCipedia 5.2 Transcript ID':'Transcript'})\n",
    "miRNA_lncRNA2 = pd.merge(rnacentral_map_human_lncipedia.rename(columns={'LNCipedia transcript ID':'Transcript'}),\n",
    "                         miRNA_lncRNA2, on='Transcript').drop(columns=['Transcript','LNCipedia Gene ID']).rename(\n",
    "                             columns={'RNAcentral ID':'RNA'})\n",
    "\n",
    "miRNA_lncRNA2 = miRNA_lncRNA2.drop(columns=['symbol','Chromosome','Location','Ref_Allele','Sample_Name',\n",
    "                                            'Mut_Allele','FuncClass','Alteration','Target_Site',\n",
    "                                            'Seed','SeedClass', 'TargetScan_Site(0=No;1=Yes)','Mut_ID'])\n",
    "\n",
    "miRNA_lncRNA2 = miRNA_lncRNA2[miRNA_lncRNA2['Cancer_Class'].notna()]\n",
    "miRNA_lncRNA2['Cancer_Class'] = miRNA_lncRNA2['Cancer_Class'].str.lower()\n",
    "miRNA_lncRNA2['Cancer_Class'].str.replace('[ns]','[cancer]')\n",
    "miRNA_lncRNA2['Cancer_Class'] = miRNA_lncRNA2['Cancer_Class'].apply(\n",
    "    lambda x: ' '.join([x.split('[')[1].split(']')[0], x.split('[')[-1].split(']')[0]])).str.replace('_', ' ')\n",
    "\n",
    "miRNA_lncRNA2['PMID'] = pd.to_numeric(miRNA_lncRNA2['PMID'], errors='coerce')\n",
    "miRNA_lncRNA2['PMID'] = miRNA_lncRNA2['PMID'].astype(str)\n",
    "miRNA_lncRNA2['PMID'] = miRNA_lncRNA2['PMID'].str.replace(\".0\", \"\")\n",
    "miRNA_lncRNA2['PMID'] = miRNA_lncRNA2['PMID'].replace(\"<NA>\", np.nan)\n",
    "\n",
    "miRNA_lncRNA2 = pd.merge(miRNA_lncRNA2, disease_map, right_on='0_y', left_on='Cancer_Class', how='left')\n",
    "miRNA_lncRNA2['0_x'] = miRNA_lncRNA2['0_x'].fillna(miRNA_lncRNA2['Cancer_Class'])\n",
    "miRNA_lncRNA2 = miRNA_lncRNA2.drop(columns=['0_y', 'Cancer_Class'])\n",
    "miRNA_lncRNA2 = miRNA_lncRNA2.rename(columns={'0_x':'Location'})\n",
    "\n",
    "miRNA_lncRNA2['Source'] = 'SomamiR'\n",
    "miRNA_lncRNA3 = miRNA_lncRNA2.copy()\n",
    "miRNA_lncRNA3['Source'] = 'TargetScan'\n",
    "miRNA_lncRNA2 = pd.concat([miRNA_lncRNA2, miRNA_lncRNA3])\n",
    "miRNA_lncRNA2.rename(columns={'RNA':':END_ID','COSMIC_ID':':START_ID','mir_id':'Interactor','PMID':'PubMedID'}, inplace=True)\n",
    "miRNA_lncRNA2.head(n=3)"
   ]
  },
  {
   "cell_type": "code",
   "execution_count": null,
   "metadata": {},
   "outputs": [],
   "source": [
    "data_downloader('https://compbio.uthsc.edu/SomamiR/download/miRNA_somatic_v2.0.txt.tar.gz', unprocessed_data_location)"
   ]
  },
  {
   "cell_type": "code",
   "execution_count": null,
   "metadata": {},
   "outputs": [],
   "source": [
    "somamir = pd.read_csv(unprocessed_data_location +\n",
    "                      'miRNA_somatic_v2.0.txt.tar',sep='\\t').drop(\n",
    "                          columns=['Reference','Derived','SNP','Whole_Genome','Whole_Exome','Study_ID','Source',\n",
    "                          'miRNA_Chromosome','Strand','Maturestart','Matureend','Mutation_Distance','Regioin',\n",
    "                            'miR2GO_Execution_Sequence','Unnamed: 19','Sample_Name']) # Mondo+HPO\n",
    "somamir.Cancer_Type = somamir.Cancer_Type.str.replace(\"[NS]\",\"\")\n",
    "somamir = somamir[somamir.Cancer_Type!=\"\"]\n",
    "somamir['Cancer_Type'] = somamir['Cancer_Type'].apply(\n",
    "    lambda x: ' '.join([x.split('[')[1].split(']')[0], x.split('[')[-1].split(']')[0]])).str.replace('_', ' ')\n",
    "\n",
    "somamir = pd.merge(somamir, disease_map, right_on='0_y', left_on='Cancer_Type', how='left')\n",
    "somamir['0_x'] = somamir['0_x'].fillna(somamir['Cancer_Type'])\n",
    "somamir = somamir.drop(columns=['0_y', 'Cancer_Type'])\n",
    "somamir = somamir.rename(columns={'0_x':'Location'})\n",
    "\n",
    "print(all(somamir['miRNA_Name'].isin(rnacentral_map_human['DB Description'])))\n",
    "print(somamir[~somamir['miRNA_Name'].isin(rnacentral_map_human['DB Description'])]['miRNA_Name'].str[:3].unique())\n",
    "miRNA_RNA_miRNAnotInRNAcentral3p = somamir[~somamir['miRNA_Name'].isin(rnacentral_map_human['DB Description'])]\n",
    "miRNA_RNA_miRNAnotInRNAcentral5p = somamir[~somamir['miRNA_Name'].isin(rnacentral_map_human['DB Description'])]\n",
    "miRNA_RNA_miRNAnotInRNAcentral5p['miRNA_Name'] = miRNA_RNA_miRNAnotInRNAcentral5p['miRNA_Name'].astype(str) + '-3p'\n",
    "miRNA_RNA_miRNAnotInRNAcentral3p['miRNA_Name'] = miRNA_RNA_miRNAnotInRNAcentral3p['miRNA_Name'].astype(str) + '-5p'\n",
    "miRNA_RNA_miRNAnotInRNAcentral = pd.concat([miRNA_RNA_miRNAnotInRNAcentral3p, miRNA_RNA_miRNAnotInRNAcentral5p])\n",
    "miRNA_RNA_miRNAnotInRNAcentral = pd.merge(miRNA_RNA_miRNAnotInRNAcentral, rnacentral_map_human.rename(\n",
    "    columns={'DB Description':'miRNA_Name'}), on='miRNA_Name').drop(columns=['miRNA_Name']).rename(columns={'RNAcentral ID':'RNA'})\n",
    "\n",
    "somamir = pd.merge(somamir, rnacentral_map_human.rename(\n",
    "    columns={'DB Description':'miRNA_Name'}), on='miRNA_Name').drop(\n",
    "        columns=['DB','DB ID','miRNA_Name','Organism','RNA category']).rename(columns={'RNAcentral ID':'RNA'})\n",
    "somamir = pd.concat([somamir, miRNA_RNA_miRNAnotInRNAcentral]).drop(columns=['DB','DB ID','Mutation_ID','Organism','RNA category'])\n",
    "\n",
    "somamir['Source'] = 'SomamiR'\n",
    "somamir = somamir.rename(columns={'RNA':':END_ID','Disease':'Location','COSMIC_ID':':START_ID'})\n",
    "somamir.head(n=3)"
   ]
  },
  {
   "cell_type": "code",
   "execution_count": null,
   "metadata": {},
   "outputs": [],
   "source": [
    "circRNA_miRNA = pd.read_csv(unprocessed_data_location + 'circRNA_somatic_v2.0.txt.tar.gz', sep=\"\\t\")\n",
    "circRNA_miRNA = circRNA_miRNA[circRNA_miRNA['TargetScan_Site(0=No;1=Yes)'] == 1]\n",
    "circRNA_miRNA = circRNA_miRNA.drop(columns=['Gene','Mut_ID','Chromosome','Location','Mut_Allele','FuncClass','Alteration','Ref_Allele',\n",
    "                                            'Target_Site','Seed','SeedClass','TargetScan_Site(0=No;1=Yes)','Sample_Name','Unnamed: 18'])\n",
    "\n",
    "circRNA_miRNA['PMID'] = pd.to_numeric(circRNA_miRNA['PMID'], errors='coerce')\n",
    "circRNA_miRNA['PMID'] = circRNA_miRNA['PMID'].astype(str)\n",
    "circRNA_miRNA['PMID'] = circRNA_miRNA['PMID'].str.replace(\".0\", \"\")\n",
    "circRNA_miRNA['PMID'] = circRNA_miRNA['PMID'].replace(\"<NA>\", np.nan)\n",
    "circRNA_miRNA['PMID'] = circRNA_miRNA['PMID'].replace(\"nan\", np.nan)\n",
    "\n",
    "circRNA_miRNA['Cancer_Class'] = circRNA_miRNA['Cancer_Class'].str.lower()\n",
    "circRNA_miRNA['Cancer_Class'] = circRNA_miRNA['Cancer_Class'].str.replace('[ns]','')\n",
    "circRNA_miRNA['Cancer_Class'] = circRNA_miRNA['Cancer_Class'].str.replace('_',' ')\n",
    "circRNA_miRNA['Cancer_Class'] = circRNA_miRNA['Cancer_Class'].astype(str).apply(\n",
    "     lambda x: ' '.join(re.findall(r'\\[(.*?)\\]', x)) if '[' in x and ']' in x else x)\n",
    "circRNA_miRNA = circRNA_miRNA.explode('Cancer_Class')\n",
    "\n",
    "circRNA_miRNA = pd.merge(circRNA_miRNA, disease_map, right_on='0_y', left_on='Cancer_Class', how='left')\n",
    "circRNA_miRNA['0_x'] = circRNA_miRNA['0_x'].fillna(circRNA_miRNA['Cancer_Class'])\n",
    "circRNA_miRNA = circRNA_miRNA.drop(columns=['0_y', 'Cancer_Class'])\n",
    "circRNA_miRNA = circRNA_miRNA.rename(columns={'0_x':'Location'})\n",
    "\n",
    "circRNA_miRNA['Source'] = 'SomamiR'\n",
    "circRNA_miRNA2 = circRNA_miRNA.copy()\n",
    "circRNA_miRNA2['Source'] = 'TargetScan'\n",
    "circRNA_miRNA = pd.concat([circRNA_miRNA, circRNA_miRNA2])\n",
    "RNA_RNA8 = circRNA_miRNA.rename(columns={'Transcript':':END_ID','COSMIC_ID':':START_ID','miRNA':'Interactor',\n",
    "                                         'PMID':'PubMedID'}).drop_duplicates()\n",
    "RNA_RNA8.head(n=3)"
   ]
  },
  {
   "cell_type": "code",
   "execution_count": null,
   "metadata": {},
   "outputs": [],
   "source": [
    "cosmic_causally_influences_OBO = pd.concat([cosmic, lncRNA_disease2, miRNA_lncRNA2, somamir, RNA_RNA8]).drop(\n",
    "    columns=['GWAS Trait']).drop_duplicates()\n",
    "cosmic_causally_influences_OBO = cosmic_causally_influences_OBO.groupby([':START_ID',':END_ID']).agg({'Source':set,'Location':set,\n",
    "                                                                                                      'Interactor':set,\n",
    "                                                                                                      'PubMedID':set}).reset_index()\n",
    "cosmic_causally_influences_OBO[':TYPE'] = 'causally_influences'\n",
    "cosmic_causally_influences_OBO.to_pickle(unprocessed_edge_data_location+'COSMIC_causally_influences_RNA.pkl')\n",
    "\n",
    "OBO_causally_influenced_by_COSMIC = cosmic_causally_influences_OBO.rename(columns={':START_ID':':END_ID',':END_ID':':START_ID'})\n",
    "OBO_causally_influenced_by_COSMIC[':TYPE'] = 'causally_influenced_by'\n",
    "OBO_causally_influenced_by_COSMIC.to_pickle(unprocessed_edge_data_location+'RNA_causally_influenced_by_COSMIC.pkl')\n",
    "OBO_causally_influenced_by_COSMIC.head(n=3)"
   ]
  },
  {
   "cell_type": "markdown",
   "metadata": {},
   "source": [
    "***\n",
    "### SNP - http://purl.obolibrary.org/obo/RO_0002566 (causally influences) - OBO"
   ]
  },
  {
   "cell_type": "markdown",
   "metadata": {},
   "source": [
    "* [miRNet](https://www.mirnet.ca/miRNet/)"
   ]
  },
  {
   "cell_type": "code",
   "execution_count": null,
   "metadata": {},
   "outputs": [],
   "source": [
    "!wget https://www.dropbox.com/s/f87f2q9ryjs3il9/miRNet-snptfbs-hsa.csv?dl=0 -O ../resources/processed_data/unprocessed_data/miRNet-snptfbs-hsa.csv?dl=0"
   ]
  },
  {
   "cell_type": "code",
   "execution_count": null,
   "metadata": {},
   "outputs": [],
   "source": [
    "TF_variant = pd.read_csv(unprocessed_data_location + \"miRNet-snptfbs-hsa.csv?dl=0\") # TF (PRO)\n",
    "TF_variant.drop(columns=['chr_pos','mirnet','entrez','name'],inplace=True)\n",
    "\n",
    "TF_variant = pd.merge(TF_variant,symbol_to_pro.rename(columns={0:'symbol'}),on=['symbol'])\n",
    "TF_variant.drop(columns=['symbol'],inplace=True)\n",
    "TF_variant.rename(columns={'rsid':'SNP', 1:'TF'},inplace=True)\n",
    "TF_variant = TF_variant[['SNP','TF']]\n",
    "TF_variant['Source'] = 'miRNet'\n",
    "TF_variant.rename(columns={'SNP':':START_ID', 'TF':':END_ID'},inplace=True)\n",
    "TF_variant.head(n=3)"
   ]
  },
  {
   "cell_type": "code",
   "execution_count": null,
   "metadata": {},
   "outputs": [],
   "source": [
    "'''\n",
    "# Since we are dealing with >2M edges, we keep only those whose SNP is already considered by other sources.\n",
    "SNPnonO_data = pd.concat([pd.read_csv('../resources/edge_data/variant-piRNA2566.txt',sep='\\t').rename(columns={'rs Id':'SNP'})['SNP'],\n",
    "                          pd.read_csv('../resources/edge_data/variant-miRNA2566.txt',sep='\\t')['SNP'],\n",
    "                          pd.read_csv('../resources/edge_data/variant-premiRNA2566.txt', sep='\\t')['SNP'],\n",
    "                          pd.read_csv('../resources/edge_data/variant-gene2566.txt', sep='\\t')['SNP'],\n",
    "                          pd.read_csv('../resources/edge_data/variant-disease3302.txt', sep='\\t')['SNP'],\n",
    "                          pd.read_csv('../resources/edge_data/variant-phenotype3302.txt', sep='\\t')['SNP']]).drop_duplicates()\n",
    "\n",
    "# This contains HDMM KG rsIDs\n",
    "nonO_data = pd.read_pickle(r'../resources/construction_approach/'+'subclass_construction_mapORIGINAL.pkl')\n",
    "nonO_data_series = pd.Series(nonO_data)\n",
    "\n",
    "b = pd.DataFrame(nonO_data_series)\n",
    "b['SNP'] = b.index\n",
    "\n",
    "TF_variant = TF_variant[(TF_variant['SNP'].isin(SNPnonO_data)) | (TF_variant['SNP'].isin(b['SNP']))]\n",
    "TF_variant\n",
    "'''"
   ]
  },
  {
   "cell_type": "markdown",
   "metadata": {},
   "source": [
    "* [miRdSNP](http://mirdsnp.ccr.buffalo.edu/index.php)"
   ]
  },
  {
   "cell_type": "code",
   "execution_count": null,
   "metadata": {},
   "outputs": [],
   "source": [
    "!wget http://mirdsnp.ccr.buffalo.edu/downloads/mirdsnp-dsnps-v11.03.csv -O ../resources/processed_data/unprocessed_data/mirdsnp-dsnps-v11.03.csv"
   ]
  },
  {
   "cell_type": "code",
   "execution_count": null,
   "metadata": {},
   "outputs": [],
   "source": [
    "disease_variant = pd.read_csv(unprocessed_data_location+'mirdsnp-dsnps-v11.03.csv') # Mondo+HPO\n",
    "disease_variant.drop(columns=['pub_year','pub_month','link','journal','article_date','title'],inplace=True)\n",
    "disease_variant.disease = disease_variant.disease.str.lower()\n",
    "disease_variant['snps'] = disease_variant.snps.str.split(',')\n",
    "disease_variant = disease_variant.explode('snps')\n",
    "\n",
    "disease_variant = pd.merge(disease_variant, desc_disPhe_map.rename(columns={0:'disease'}),on='disease')\n",
    "disease_variant.drop(columns=['disease'],inplace=True)\n",
    "\n",
    "disease_variant['pubmed_id'] = pd.to_numeric(disease_variant['pubmed_id'], errors='coerce')\n",
    "disease_variant['pubmed_id'] = disease_variant['pubmed_id'].astype(str)\n",
    "disease_variant['pubmed_id'] = disease_variant['pubmed_id'].str.replace(\".0\", \"\")\n",
    "disease_variant['pubmed_id'] = disease_variant['pubmed_id'].replace(\"<NA>\", np.nan)\n",
    "\n",
    "disease_variant = disease_variant.rename(columns={'pubmed_id':'PMID','snps':'SNP', 1:'Disease'})\n",
    "disease_variant['Source'] = 'miRdSNP' \n",
    "disease_variant.rename(columns={'Disease':':END_ID', 'SNP':':START_ID', 'PMID':'PubMedID'},inplace=True)\n",
    "disease_variant.head(n=3)"
   ]
  },
  {
   "cell_type": "code",
   "execution_count": null,
   "metadata": {},
   "outputs": [],
   "source": [
    "SNP_causally_influences_OBO = pd.concat([TF_variant, disease_variant])\n",
    "SNP_causally_influences_OBO = SNP_causally_influences_OBO.groupby([':START_ID',':END_ID']).agg({'PubMedID':set,'Source':set}).reset_index()\n",
    "SNP_causally_influences_OBO[':TYPE'] = 'causally_influences'\n",
    "SNP_causally_influences_OBO.to_pickle(unprocessed_edge_data_location+'SNP_causally_influences_OBO.pkl')\n",
    "\n",
    "OBO_causally_influenced_by_SNP = SNP_causally_influences_OBO.rename(columns={':START_ID':':END_ID',':END_ID':':START_ID'})\n",
    "OBO_causally_influenced_by_SNP[':TYPE'] = 'causally_influenced_by'\n",
    "OBO_causally_influenced_by_SNP.to_pickle(unprocessed_edge_data_location+'OBO_causally_influenced_by_SNP.pkl')\n",
    "OBO_causally_influenced_by_SNP.head(n=3)"
   ]
  },
  {
   "cell_type": "markdown",
   "metadata": {},
   "source": [
    "***\n",
    "### Chemical modification - http://purl.obolibrary.org/obo/RO_0002314 (characteristic of part of) - RNA"
   ]
  },
  {
   "cell_type": "markdown",
   "metadata": {},
   "source": [
    "* [GtRNAdb](http://gtrnadb.ucsc.edu/GtRNAdb2/index.html) <br /> \n",
    "The genomic tRNA database contains tRNA gene predictions made by tRNAscan-SE on complete or nearly complete genomes. Unless otherwise noted, all annotation is automated, and has not been inspected for agreement with published literature."
   ]
  },
  {
   "cell_type": "code",
   "execution_count": null,
   "metadata": {},
   "outputs": [],
   "source": [
    "!wget http://gtrnadb.ucsc.edu/genomes/eukaryota/Hsapi38/hg38-tRNAs.fa -O ../resources/processed_data/unprocessed_data/hg38-tRNAs.fa"
   ]
  },
  {
   "cell_type": "code",
   "execution_count": null,
   "metadata": {},
   "outputs": [],
   "source": [
    "identifiers = []\n",
    "seq = []\n",
    "\n",
    "fasta_file_path = unprocessed_data_location + 'hg38-tRNAs.fa'\n",
    "\n",
    "with open(fasta_file_path) as fasta_file:\n",
    "    for title, sequence in SimpleFastaParser(fasta_file):\n",
    "        identifiers.append(title.split(None, 1)[0])  # First word is ID\n",
    "        seq.append(sequence)\n",
    "        \n",
    "data = {\"Identifier\": identifiers, \"Sequence\": seq}\n",
    "df = pd.DataFrame(data)\n",
    "df['Identifier'] = df['Identifier'].str[len('Homo_sapiens_'):]\n",
    "df"
   ]
  },
  {
   "cell_type": "code",
   "execution_count": null,
   "metadata": {},
   "outputs": [],
   "source": [
    "tRNA = pd.DataFrame()\n",
    "for identifier in df['Identifier'] [1:] :\n",
    "\n",
    "    temp = pd.read_html('http://gtrnadb.ucsc.edu/genomes/eukaryota/Hsapi38/genes/' + identifier + '.html')[0].T\n",
    "    temp2 = pd.read_html('http://gtrnadb.ucsc.edu/genomes/eukaryota/Hsapi38/genes/' + identifier + '.html')[1].T\n",
    "    temp = pd.concat([temp,temp2],axis=1)\n",
    "    temp.columns = temp.iloc[0]\n",
    "    temp = temp[1:]\n",
    "    tRNA = pd.concat([tRNA, temp])\n",
    "\n",
    "tRNA.Locus = tRNA.Locus.str.replace(' View in Genome Browser', '')\n",
    "tRNA = tRNA[['GtRNAdb Gene Symbol', 'Known Modifications (Modomics)']]\n",
    "tRNA"
   ]
  },
  {
   "cell_type": "code",
   "execution_count": null,
   "metadata": {},
   "outputs": [],
   "source": [
    "tRNA['Known Modifications (Modomics)'] = tRNA['Known Modifications (Modomics)'].str.split(' ')\n",
    "tRNA_mod = tRNA[['GtRNAdb Gene Symbol', 'Known Modifications (Modomics)']].explode('Known Modifications (Modomics)').dropna()\n",
    "tRNA_mod = tRNA_mod.rename(columns={'GtRNAdb Gene Symbol':'tRNA', 'Known Modifications (Modomics)':'Modification'})\n",
    "\n",
    "#tRNA_mod = pd.read_csv(edge_data_location+'modification-tRNA2314.txt', sep='\\t').drop(columns=['Source(s)'])\n",
    "tRNA_mod['tRNA'] = tRNA_mod['tRNA'].str.replace('.html', '')\n",
    "tRNA_mod = pd.merge(tRNA_mod, rnacentral_map_human_gtrnadb[['RNAcentral ID','GtRNAdb Gene ID']].drop_duplicates().rename(\n",
    "    columns={'GtRNAdb Gene ID':'tRNA'}), on='tRNA').drop(\n",
    "        columns=['tRNA']).rename(columns={'RNAcentral ID':'RNA'})\n",
    "\n",
    "tRNA_mod['Source'] = 'GtRNAdb, Modomics'\n",
    "tRNA_mod['Source'] = tRNA_mod['Source'].str.split(', ')\n",
    "tRNA_mod = tRNA_mod.explode('Source')\n",
    "tRNA_mod.rename(columns={'RNA':':END_ID','Modification':':START_ID'},inplace=True)\n",
    "tRNA_mod.head(n=3)"
   ]
  },
  {
   "cell_type": "code",
   "execution_count": null,
   "metadata": {},
   "outputs": [],
   "source": [
    "tRNA_mod[':TYPE'] = 'characteristic_of_part_of'\n",
    "tRNA_mod = tRNA_mod.groupby([':START_ID',':END_ID']).agg({'Source':set}).reset_index()\n",
    "tRNA_mod.to_pickle(unprocessed_edge_data_location+'ChemicalModification_characteristic_of_part_of_RNA.pkl')\n",
    "tRNA_mod.head(n=3)"
   ]
  },
  {
   "cell_type": "markdown",
   "metadata": {},
   "source": [
    "***\n",
    "### OBO - http://purl.obolibrary.org/obo/RO_0002434 (interacts with) - OBO"
   ]
  },
  {
   "cell_type": "markdown",
   "metadata": {},
   "source": [
    "* CTD"
   ]
  },
  {
   "cell_type": "code",
   "execution_count": null,
   "metadata": {},
   "outputs": [],
   "source": [
    "ctd_pro = pd.read_csv(unprocessed_data_location+'CTD_chem_gene_ixns.tsv', sep='\\t', comment=\"#\",\n",
    "                          names=['ChemicalName','ChemicalID','CasRN','GeneSymbol','GeneID','GeneForms',\n",
    "                                 'Organism','OrganismID','Interaction','InteractionActions','PubMedIDs'])\n",
    "ctd_pro = ctd_pro[ctd_pro['InteractionActions'] != 'affects']\n",
    "ctd_pro = ctd_pro[ctd_pro['Organism'] == 'Homo sapiens']\n",
    "ctd_pro = ctd_pro[(ctd_pro['GeneForms'].notna()) & (ctd_pro['GeneForms'].str.startswith(\"protein\"))]\n",
    "ctd_pro = ctd_pro[['ChemicalID','GeneID','PubMedIDs']]\n",
    "ctd_pro['ChemicalID'] = 'MESH_' + ctd_pro['ChemicalID']\n",
    "\n",
    "ctd_pro['PubMedIDs'] = pd.to_numeric(ctd_pro['PubMedIDs'], errors='coerce')\n",
    "ctd_pro['PubMedIDs'] = ctd_pro['PubMedIDs'].astype(str)\n",
    "ctd_pro['PubMedIDs'] = ctd_pro['PubMedIDs'].str.replace(\".0\", \"\")\n",
    "ctd_pro['PubMedIDs'] = ctd_pro['PubMedIDs'].replace(\"<NA>\", np.nan)\n",
    "\n",
    "ctd_pro = pd.merge(ctd_pro, mesh_to_chebi.rename(columns={0:'ChemicalID'}), on='ChemicalID').drop(columns=['ChemicalID'])\n",
    "ctd_pro = ctd_pro.merge(entrez_pro_map.rename(columns={0:'GeneID'}), on='GeneID')\n",
    "ctd_pro = ctd_pro[['PubMedIDs','1_x','1_y']].rename(columns={'PubMedIDs':'PubMedID','1_x':':START_ID','1_y':':END_ID'})\n",
    "ctd_pro['Source'] = 'CTD'\n",
    "ctd_pro.head(n=3)"
   ]
  },
  {
   "cell_type": "code",
   "execution_count": null,
   "metadata": {},
   "outputs": [],
   "source": [
    "ctd_pro[':TYPE'] = 'interacts_with'\n",
    "ctd_pro_inv = ctd_pro.rename(columns={':END_ID':':START_ID',':START_ID':':END_ID'})\n",
    "ctd_pro = pd.concat([ctd_pro, ctd_pro_inv])\n",
    "ctd_pro = ctd_pro.groupby([':START_ID',':END_ID']).agg({'Source':set}).reset_index()\n",
    "ctd_pro.to_pickle(unprocessed_edge_data_location+'OBO_interacts_with_OBO.pkl')\n",
    "ctd_pro.head(n=3)"
   ]
  },
  {
   "cell_type": "markdown",
   "metadata": {},
   "source": [
    "***\n",
    "### OBO - http://purl.obolibrary.org/obo/RO_0002436 (molecularly interacts with) - OBO"
   ]
  },
  {
   "cell_type": "markdown",
   "metadata": {},
   "source": [
    "* STRING"
   ]
  },
  {
   "cell_type": "code",
   "execution_count": null,
   "metadata": {},
   "outputs": [],
   "source": [
    "data_downloader(\"https://stringdb-downloads.org/download/protein.links.v12.0/9606.protein.links.v12.0.txt.gz\", unprocessed_data_location)"
   ]
  },
  {
   "cell_type": "code",
   "execution_count": null,
   "metadata": {},
   "outputs": [],
   "source": [
    "string = pd.read_csv(unprocessed_data_location + \"9606.protein.links.v12.0.txt\", sep='\\s')\n",
    "string = string[string['combined_score'] >= 700]\n",
    "string['protein1'] = string['protein1'].str.replace(\"9606.\",\"\")\n",
    "string['protein2'] = string['protein2'].str.replace(\"9606.\",\"\")\n",
    "string = pd.merge(string, string_pro.rename(columns={0:'protein1'}), on='protein1').merge(\n",
    "    string_pro.rename(columns={0:'protein2'}), on='protein2')\n",
    "string = string[['1_x','1_y','combined_score']]\n",
    "string = string.rename(columns={'1_x':':START_ID','1_y':':END_ID','combined_score':'STRING_score'})\n",
    "string['Source'] = 'STRING'\n",
    "string.head(n=3)"
   ]
  },
  {
   "cell_type": "markdown",
   "metadata": {},
   "source": [
    "* UniProtKB"
   ]
  },
  {
   "cell_type": "code",
   "execution_count": null,
   "metadata": {},
   "outputs": [],
   "source": [
    "url = 'https://rest.uniprot.org/uniprotkb/stream?fields=accession%2Cxref_pro%2Ccc_cofactor%2Ccc_catalytic_activity&format=tsv&query=%28%28taxonomy_id%3A9606%29+AND+%28reviewed%3Atrue%29%29'\n",
    "data_downloader(url, unprocessed_data_location, 'uniprot-cofactor-catalyst.tab')"
   ]
  },
  {
   "cell_type": "code",
   "execution_count": null,
   "metadata": {},
   "outputs": [],
   "source": [
    "df = pd.read_csv(unprocessed_data_location + 'uniprot-cofactor-catalyst.tab', sep='\\t').drop(columns=['Entry','Catalytic activity'])\n",
    "df['PRO'] = df['PRO'].str.split(';')\n",
    "df = df.explode('PRO')\n",
    "df = df[(df['PRO'].notna()) & (df['PRO'].str.startswith('PR'))]\n",
    "df['PRO'] = df['PRO'].str.replace('PR:', 'PR_')\n",
    "df['Cofactor'] = df['Cofactor'].str.extract(r'(CHEBI:[^;]+)', expand=False)\n",
    "df['Cofactor'] = df['Cofactor'].str.replace('CHEBI:', 'CHEBI_')\n",
    "df['Cofactor'] = df['Cofactor'].str.split(', ')\n",
    "df = df.explode('Cofactor')\n",
    "df = df.dropna()\n",
    "df['Source'] = 'UniProtKB'\n",
    "cofactor = df.rename(columns={'Cofactor':':START_ID','PRO':':END_ID'})\n",
    "cofactor.head(n=3)"
   ]
  },
  {
   "cell_type": "code",
   "execution_count": null,
   "metadata": {},
   "outputs": [],
   "source": [
    "df = pd.read_csv(unprocessed_data_location + 'uniprot-cofactor-catalyst.tab', sep='\\t').drop(columns=['Entry','Cofactor'])\n",
    "df['PRO'] = df['PRO'].str.split(';')\n",
    "df = df.explode('PRO')\n",
    "df = df[(df['PRO'].notna()) & (df['PRO'].str.startswith('PR'))]\n",
    "df['PRO'] = df['PRO'].str.replace('PR:', 'PR_')\n",
    "df['Catalytic activity'] = df['Catalytic activity'].str.extract(r'(CHEBI:[^;]+)', expand=False)\n",
    "df['Catalytic activity'] = df['Catalytic activity'].str.replace('ChEBI:CHEBI:', 'CHEBI:')\n",
    "df['Catalytic activity'] = df['Catalytic activity'].str.replace('CHEBI:', 'CHEBI_')\n",
    "df['Catalytic activity'] = df['Catalytic activity'].str.split(', ')\n",
    "df = df.explode('Catalytic activity')\n",
    "df = df.dropna()\n",
    "df['Source'] = 'UniProtKB'\n",
    "catalyst = df.rename(columns={'Catalytic activity':':START_ID','PRO':':END_ID'})\n",
    "catalyst.head(n=3)"
   ]
  },
  {
   "cell_type": "markdown",
   "metadata": {},
   "source": [
    "* CTD"
   ]
  },
  {
   "cell_type": "code",
   "execution_count": null,
   "metadata": {},
   "outputs": [],
   "source": [
    "data_downloader(\"https://ctdbase.org/reports/CTD_chem_go_enriched.tsv.gz\", unprocessed_data_location)"
   ]
  },
  {
   "cell_type": "code",
   "execution_count": null,
   "metadata": {},
   "outputs": [],
   "source": [
    "ctd_go = pd.read_csv(unprocessed_data_location+'CTD_chem_go_enriched.tsv', sep='\\t', comment=\"#\",\n",
    "                          names=['ChemicalName','ChemicalID','CasRN','Ontology','GOTermName','GOTermID',\n",
    "                                 'HighestGOLevel','PValue','CorrectedPValue','TargetMatchQty','TargetTotalQty',\n",
    "                                 'BackgroundMatchQty','BackgroundTotalQty'])\n",
    "\n",
    "ctd_go = ctd_go[ctd_go['CorrectedPValue']<=1.04e-47]\n",
    "ctd_go = ctd_go[['ChemicalID','GOTermID','CorrectedPValue','TargetMatchQty']]\n",
    "ctd_go['ChemicalID'] = \"MESH_\" + ctd_go['ChemicalID']\n",
    "ctd_go['GOTermID'] = ctd_go['GOTermID'].str.replace('GO:', 'GO_')\n",
    "ctd_go.head(n=3)"
   ]
  },
  {
   "cell_type": "code",
   "execution_count": null,
   "metadata": {},
   "outputs": [],
   "source": [
    "ctd_go = pd.merge(ctd_go, mesh_to_chebi.rename(columns={0:'ChemicalID'}), on='ChemicalID')\n",
    "ctd_go = ctd_go.rename(columns={'GOTermID':':START_ID', 1:':END_ID', 'CorrectedPValue':'FDR'})\n",
    "ctd_go['Source'] = 'CTD'\n",
    "ctd_go.head(n=3)"
   ]
  },
  {
   "cell_type": "code",
   "execution_count": null,
   "metadata": {},
   "outputs": [],
   "source": [
    "ctd_pro = pd.read_csv(unprocessed_data_location+'CTD_chem_gene_ixns.tsv', sep='\\t', comment=\"#\",\n",
    "                          names=['ChemicalName','ChemicalID','CasRN','GeneSymbol','GeneID','GeneForms',\n",
    "                                 'Organism','OrganismID','Interaction','InteractionActions','PubMedIDs'])\n",
    "ctd_pro = ctd_pro[ctd_pro['InteractionActions'] != 'affects']\n",
    "ctd_pro = ctd_pro[ctd_pro['Organism'] == 'Homo sapiens']\n",
    "ctd_pro = ctd_pro[(ctd_pro['GeneForms'].notna()) & (ctd_pro['GeneForms'].str.startswith(\"protein\"))]\n",
    "ctd_pro = ctd_pro[['ChemicalID','GeneID','PubMedIDs']]\n",
    "ctd_pro['ChemicalID'] = 'MESH_' + ctd_pro['ChemicalID']\n",
    "ctd_pro.head(n=3)"
   ]
  },
  {
   "cell_type": "code",
   "execution_count": null,
   "metadata": {},
   "outputs": [],
   "source": [
    "ctd_pro = pd.merge(ctd_pro, mesh_to_chebi.rename(columns={0:'ChemicalID'}), on='ChemicalID').drop(columns=['ChemicalID'])\n",
    "ctd_pro = ctd_pro.merge(entrez_pro_map.rename(columns={0:'GeneID'}), on='GeneID')\n",
    "\n",
    "ctd_pro['PubMedIDs'] = pd.to_numeric(ctd_pro['PubMedIDs'], errors='coerce')\n",
    "ctd_pro['PubMedIDs'] = ctd_pro['PubMedIDs'].astype(str)\n",
    "ctd_pro['PubMedIDs'] = ctd_pro['PubMedIDs'].str.replace(\".0\", \"\")\n",
    "ctd_pro['PubMedIDs'] = ctd_pro['PubMedIDs'].replace(\"<NA>\", np.nan)\n",
    "\n",
    "ctd_pro['Source'] = 'CTD'\n",
    "ctd_pro = ctd_pro.rename(columns={'1_x':':START_ID','1_y':':END_ID','PubMedIDs':'PubMedID'})\n",
    "ctd_pro.head(n=3)"
   ]
  },
  {
   "cell_type": "code",
   "execution_count": null,
   "metadata": {},
   "outputs": [],
   "source": [
    "OBO_molecularly_interacts_with_OBO = pd.concat([ctd_pro, ctd_go, catalyst, cofactor, string])\n",
    "OBO_molecularly_interacts_with_OBO[':TYPE'] = 'molecularly_interacts_with'\n",
    "OBO_molecularly_interacts_with_OBO_inv = OBO_molecularly_interacts_with_OBO.rename(columns={':END_ID':':START_ID',':START_ID':':END_ID'})\n",
    "OBO_molecularly_interacts_with_OBO = pd.concat([OBO_molecularly_interacts_with_OBO, OBO_molecularly_interacts_with_OBO_inv])\n",
    "OBO_molecularly_interacts_with_OBO = OBO_molecularly_interacts_with_OBO.groupby(\n",
    "    [':START_ID',':END_ID']).agg({'FDR':np.mean, 'Source':set}).reset_index()\n",
    "OBO_molecularly_interacts_with_OBO.to_pickle(unprocessed_edge_data_location+'OBO_molecularly_interacts_with_OBO.pkl')\n",
    "OBO_molecularly_interacts_with_OBO.head(n=3)"
   ]
  },
  {
   "cell_type": "markdown",
   "metadata": {},
   "source": [
    "***\n",
    "### OBO - http://purl.obolibrary.org/obo/RO_0002200 (has phenotype) - OBO"
   ]
  },
  {
   "cell_type": "markdown",
   "metadata": {},
   "source": [
    "* HPO"
   ]
  },
  {
   "cell_type": "code",
   "execution_count": null,
   "metadata": {},
   "outputs": [],
   "source": [
    "# https://hpo.jax.org/data/annotations --> Click on the \"DOWNLOAD HPO ANNOTATIONS\" button "
   ]
  },
  {
   "cell_type": "code",
   "execution_count": null,
   "metadata": {},
   "outputs": [],
   "source": [
    "dis_phen = pd.read_csv(unprocessed_data_location+'phenotype.hpoa', sep='\\t', comment=\"#\")[['database_id', 'hpo_id','reference','frequency']]\n",
    "dis_phen['database_id'] = dis_phen['database_id'].str.split(\":\").str[1]\n",
    "dis_phen['hpo_id'] = dis_phen['hpo_id'].str.replace(\":\", \"_\")\n",
    "dis_phen['reference'] = dis_phen['reference'].str.replace(\"PMID:\", \"\")\n",
    "dis_phen['reference'] = pd.to_numeric(dis_phen['reference'], errors='coerce')\n",
    "dis_phen['reference'] = dis_phen['reference'].astype(str)\n",
    "dis_phen['reference'] = dis_phen['reference'].str.replace(\".0\", \"\")\n",
    "dis_phen['reference'] = dis_phen['reference'].replace(\"<NA>\", np.nan)\n",
    "# dis_phen['frequency'] = dis_phen['frequency'].str.split(\"/\").str[0].astype(float) / dis_phen['frequency'].str.split(\"/\").str[1].astype(float)\n",
    "dis_phen.head(n=3)"
   ]
  },
  {
   "cell_type": "code",
   "execution_count": null,
   "metadata": {},
   "outputs": [],
   "source": [
    "dis_phen = pd.merge(dis_phen, disgenet_mondo_map.rename(columns={0:'database_id'}), on='database_id')\n",
    "dis_phen = dis_phen.rename(columns={1:':START_ID','hpo_id':':END_ID','reference':'PubMedID'})\n",
    "dis_phen['Source'] = 'HPO' \n",
    "dis_phen.head(n=3)"
   ]
  },
  {
   "cell_type": "code",
   "execution_count": null,
   "metadata": {},
   "outputs": [],
   "source": [
    "dis_phen = dis_phen.groupby([':START_ID',':END_ID']).agg({'PubMedID':set,'Source':set}).reset_index() \n",
    "dis_phen[':TYPE'] = 'has_phenotype'  \n",
    "dis_phen.to_pickle(unprocessed_edge_data_location+'OBO_has_phenotype_OBO.pkl')\n",
    "dis_phen = dis_phen.rename(columns={':START_ID':':END_ID',':END_ID':':START_ID'})\n",
    "dis_phen[':TYPE'] = 'phenotype_of'\n",
    "dis_phen.to_pickle(unprocessed_edge_data_location+'OBO_phenotype_of_OBO.pkl')\n",
    "dis_phen.head(n=3)"
   ]
  },
  {
   "cell_type": "markdown",
   "metadata": {},
   "source": [
    "***\n",
    "### RNA - http://purl.obolibrary.org/obo/RO_0002436 (molecularly interacts with) - OBO"
   ]
  },
  {
   "cell_type": "markdown",
   "metadata": {},
   "source": [
    "* [Apta-Index](https://www.aptagen.com/apta-index/) <br/>\n",
    "Apta-index is the most advanced user-friendly database on aptamers. Aptagen does not list this information contained herein as products but as a database of information obtained from the published literature. "
   ]
  },
  {
   "cell_type": "code",
   "execution_count": null,
   "metadata": {},
   "outputs": [],
   "source": [
    "# Manual collection of data from https://www.aptagen.com/apta-index/\n",
    "aptamer_protein = pd.read_csv(unprocessed_data_location + 'aptaindex.csv',names=['Name', 'ID', 'Target', 'Sequence']) # PRO\n",
    "aptamer_protein.Target = aptamer_protein.Target.str.lower()\n",
    "aptamer_protein = pd.merge(aptamer_protein, desc_pro_map.rename(columns={0:'Target'}),on='Target')\n",
    "aptamer_protein['ID'] = 'aptamer-details/?id=' + aptamer_protein['ID'].astype(str)\n",
    "aptamer_protein = aptamer_protein.drop(columns=['Name','Target', 'Sequence'])\n",
    "\n",
    "aptamer_protein['Source'] = 'Apta-Index'\n",
    "aptamer_protein.rename(columns={'ID':':START_ID',1:':END_ID'},inplace=True)\n",
    "aptamer_protein.head(n=3)"
   ]
  },
  {
   "cell_type": "code",
   "execution_count": null,
   "metadata": {},
   "outputs": [],
   "source": [
    "aptamer_chemical = pd.read_csv(unprocessed_data_location + 'aptaindex.csv',\n",
    "                               names=['Name', 'ID', 'Target', 'Sequence']) # ChEBI+DrugBank\n",
    "aptamer_chemical.Target = aptamer_chemical.Target.str.lower()\n",
    "aptamer_chemical = pd.merge(aptamer_chemical,\n",
    "                            desc_chebi_map.rename(columns={0:'Target'}),on='Target')\n",
    "\n",
    "aptamer_chemical['ID'] = 'aptamer-details/?id=' + aptamer_chemical['ID'].astype(str)\n",
    "aptamer_chemical = aptamer_chemical.drop(columns=['Name','Target','Sequence'])\n",
    "\n",
    "aptamer_chemical['Source'] = 'Apta-Index'\n",
    "aptamer_chemical.rename(columns={'ID':':START_ID',1:':END_ID'},inplace=True)\n",
    "aptamer_chemical.head(n=3)"
   ]
  },
  {
   "cell_type": "markdown",
   "metadata": {},
   "source": [
    "* LncBook"
   ]
  },
  {
   "cell_type": "code",
   "execution_count": null,
   "metadata": {},
   "outputs": [],
   "source": [
    "!wget https://ngdc.cncb.ac.cn/lncbook/files/lncrna_rbp_LncBook2.0.csv.gz -O ../resources/processed_data/unprocessed_data/lncrna_rbp_LncBook2.0.csv.gz"
   ]
  },
  {
   "cell_type": "code",
   "execution_count": null,
   "metadata": {},
   "outputs": [],
   "source": [
    "lncRNA_protein = pd.read_csv(unprocessed_data_location + 'lncrna_rbp_LncBook2.0.csv.gz') # RBP (PRO) \n",
    "lncRNA_protein.drop(columns=['Gene ID','Symbol','Length'],inplace=True)\n",
    "\n",
    "lncRNA_protein = pd.merge(lncRNA_protein, rnacentral_map_human_lncbook[['LncBook Transcript ID', 'RNAcentral ID']].rename(\n",
    "    columns={'LncBook Transcript ID': 'Transcript ID'}).drop_duplicates(), on='Transcript ID').drop(columns=['Transcript ID']).rename(columns={\n",
    "        'RNAcentral ID':'RNA'})\n",
    "lncRNA_protein = pd.merge(lncRNA_protein, symbol_to_pro.rename(columns={0:'Protein'}), on='Protein').drop(columns=['Protein']).rename(columns={\n",
    "        1:'RBP'})\n",
    "\n",
    "lncRNA_protein['Cell Line'] = lncRNA_protein['Cell Line'].str.lower()\n",
    "lncRNA_protein = lncRNA_protein.explode('Cell Line')\n",
    "lncRNA_protein = pd.merge(lncRNA_protein, location_map, right_on='0_y', left_on='Cell Line', how='left')\n",
    "lncRNA_protein['0_x'] = lncRNA_protein['0_x'].fillna(lncRNA_protein['Cell Line'])\n",
    "lncRNA_protein = lncRNA_protein.drop(columns=['0_y', 'Cell Line'])\n",
    "lncRNA_protein = lncRNA_protein.rename(columns={'0_x':'Location'})\n",
    "\n",
    "lncRNA_protein['Binding_pos'] = lncRNA_protein['Start'].astype(str) + \"-\" + lncRNA_protein['End'].astype(str)\n",
    "lncRNA_protein['Binding_pos'] = lncRNA_protein['Binding_pos'].replace(\"nan-nan\", np.nan)\n",
    "\n",
    "lncRNA_protein['Source'] = 'LncBook'\n",
    "lncRNA_protein.rename(columns={'RNA':':START_ID', 'RBP':':END_ID'},inplace=True)\n",
    "lncRNA_protein.head(n=3)"
   ]
  },
  {
   "cell_type": "markdown",
   "metadata": {},
   "source": [
    "* [tRNAdb](http://trna.bioinf.uni-leipzig.de/DataOutput/) <br /> tRNAdb contains more than 12 000 tRNA genes, classified into families according to amino acid specificity. The database provides various services including graphical representations of tRNA secondary structures, a customizable output of aligned or un-aligned sequences with a variety of individual and combinable search criteria, as well as the construction of consensus sequences for any selected set of tRNAs."
   ]
  },
  {
   "cell_type": "code",
   "execution_count": null,
   "metadata": {},
   "outputs": [],
   "source": [
    "#http://trna.bioinf.uni-leipzig.de/DataOutput/Result --> Download html"
   ]
  },
  {
   "cell_type": "code",
   "execution_count": null,
   "metadata": {},
   "outputs": [],
   "source": [
    "tRNA_aa = pd.read_html(unprocessed_data_location+'tRNAdb - Transfer RNA database.html')[3] # ChEBI - Amino acid\n",
    "tRNA_aa.drop(columns=[0,1,2,4,19,20],inplace=True)\n",
    "tRNA_aa.rename(columns=tRNA_aa.iloc[0], inplace=True)\n",
    "tRNA_aa = tRNA_aa.iloc[2:]\n",
    "tRNA_aa.head(n=3)"
   ]
  },
  {
   "cell_type": "code",
   "execution_count": null,
   "metadata": {},
   "outputs": [],
   "source": [
    "tRNA_aa = tRNA_MINTbase_GtRNAdb_map[['gtRNAdb name']]\n",
    "tRNA_aa['gtRNAdb name'] = tRNA_aa['gtRNAdb name']\n",
    "tRNA_aa['new'] = tRNA_MINTbase_GtRNAdb_map['gtRNAdb name'].str.split(\"-\").str[1]\n",
    "tRNA_aa['Amino Acid'] = tRNA_aa[tRNA_aa['new']=='tRNA']['gtRNAdb name'].str.split(\"-\").str[2]\n",
    "tRNA_aa['Amino Acid'].fillna(tRNA_aa['new'],inplace=True)\n",
    "tRNA_aa.drop(columns=['new'],inplace=True)\n",
    "tRNA_aa.head(n=3)"
   ]
  },
  {
   "cell_type": "code",
   "execution_count": null,
   "metadata": {},
   "outputs": [],
   "source": [
    "tRNA_aa = pd.merge(tRNA_aa, rnacentral_map_human_gtrnadb[['RNAcentral ID','GtRNAdb Gene ID']].drop_duplicates().rename(\n",
    "    columns={'GtRNAdb Gene ID':'gtRNAdb name'}), on='gtRNAdb name').drop(columns=['gtRNAdb name']).rename(columns={'RNAcentral ID':'RNA'})\n",
    "tRNA_aa = pd.merge(tRNA_aa, aa_chebi_map.rename(columns={0:'Amino Acid'}), on='Amino Acid')\n",
    "tRNA_aa.drop(columns=['Amino Acid'],inplace=True)\n",
    "tRNA_aa.rename(columns={1:'Amino acid'},inplace=True)\n",
    "tRNA_aa['Source'] = 'GtRNAdb, tRNAdb'\n",
    "tRNA_aa['Source'] = tRNA_aa['Source'].str.split(', ')\n",
    "tRNA_aa = tRNA_aa.explode('Source')\n",
    "tRNA_aa = tRNA_aa.drop_duplicates()\n",
    "tRNA_aa.rename(columns={'RNA':':START_ID', 'Amino acid':':END_ID'},inplace=True)\n",
    "tRNA_aa.head(n=3)"
   ]
  },
  {
   "cell_type": "code",
   "execution_count": null,
   "metadata": {},
   "outputs": [],
   "source": [
    "RNA_molecularly_interacts_with_OBO = pd.concat([lncRNA_protein, tRNA_aa, aptamer_chemical, aptamer_protein])\n",
    "RNA_molecularly_interacts_with_OBO = RNA_molecularly_interacts_with_OBO.groupby([':START_ID',':END_ID']).agg(\n",
    "    {'Location':set,'Binding_pos':set,'Source':set}).reset_index()\n",
    "RNA_molecularly_interacts_with_OBO[':TYPE'] = 'molecularly_interacts_with'\n",
    "RNA_molecularly_interacts_with_OBO.to_pickle(unprocessed_edge_data_location+'RNA_molecularly_interacts_with_OBO.pkl')\n",
    "OBO_molecularly_interacts_with_RNA = RNA_molecularly_interacts_with_OBO.rename(columns={':START_ID':':END_ID',':END_ID':':START_ID'})\n",
    "OBO_molecularly_interacts_with_RNA.to_pickle(unprocessed_edge_data_location+'OBO_molecularly_interacts_with_RNA.pkl')\n",
    "OBO_molecularly_interacts_with_RNA.head(n=3)"
   ]
  },
  {
   "cell_type": "markdown",
   "metadata": {},
   "source": [
    "***\n",
    "### RNA - http://purl.obolibrary.org/obo/RO_0002434 (interacts with) - Gene"
   ]
  },
  {
   "cell_type": "markdown",
   "metadata": {},
   "source": [
    "* [RNAInter](http://www.rnainter.org/) <br/> RNAInter integrates experimentally validated and computationally predicted RNA interactome data from the literature and databases."
   ]
  },
  {
   "cell_type": "code",
   "execution_count": null,
   "metadata": {},
   "outputs": [],
   "source": [
    "!wget http://www.rnainter.org/raidMedia/download/Download_data_RD.tar.gz -O ../resources/processed_data/unprocessed_data/Download_data_RD.tar.gz"
   ]
  },
  {
   "cell_type": "code",
   "execution_count": null,
   "metadata": {},
   "outputs": [],
   "source": [
    "RNA_gene = pd.read_csv(unprocessed_data_location+'Download_data_RD.tar.gz',\n",
    "                                            sep='\\t').rename(columns={'Download_data_RD.txt':'RNAInterID'})\n",
    "\n",
    "# We select only strong evidence interactions for hsa\n",
    "RNA_gene = RNA_gene[(RNA_gene['score'] >= 0.2886) & (RNA_gene['Species1'].str.contains('apiens')) &\n",
    "                    (RNA_gene['Species2'].str.contains('apiens'))]\n",
    "\n",
    "print(set(RNA_gene.Category2)) # Genes are all in the second column\n",
    "print(set(RNA_gene.Category1))\n",
    "RNA_gene = RNA_gene[(RNA_gene['Raw_ID2'].str != 'nan') & (RNA_gene['Raw_ID2'].str.startswith('NCBI'))]\n",
    "RNA_gene.Raw_ID1 = RNA_gene.Raw_ID1.str.replace(\"NCBI:\", '')\n",
    "RNA_gene.Raw_ID2 = RNA_gene.Raw_ID2.str.replace(\"NCBI:\", '')\n",
    "\n",
    "RNA_gene['Raw_ID1'] = RNA_gene['Raw_ID1'].str.split(';')\n",
    "RNA_gene = RNA_gene.explode('Raw_ID1')\n",
    "RNA_gene['Raw_ID2'] = RNA_gene['Raw_ID2'].str.split(';')\n",
    "RNA_gene = RNA_gene.explode('Raw_ID2')\n",
    "\n",
    "RNA_gene.head(n=3)"
   ]
  },
  {
   "cell_type": "code",
   "execution_count": null,
   "metadata": {},
   "outputs": [],
   "source": [
    "i = RNA_gene[(RNA_gene['Category1']=='mRNA')].index.values\n",
    "mrna = RNA_gene[RNA_gene['Category1']=='mRNA']\n",
    "ensembl_entrezTranscript_map[0] = ensembl_entrezTranscript_map[0].astype(str)\n",
    "ensembl_entrezTranscript_map_mrna = ensembl_entrezTranscript_map[ensembl_entrezTranscript_map[2] == 'protein-coding']\n",
    "mrna = pd.merge(mrna, ensembl_entrezTranscript_map_mrna, left_on=['Raw_ID1'],\n",
    "                right_on=[0]).drop(columns=['Raw_ID1',2,3,4,5]).rename(columns={0:'Raw_ID1'})\n",
    "mrna.drop(columns=['Raw_ID1'],inplace=True)\n",
    "mrna.rename(columns={1:'Raw_ID1'}, inplace=True)\n",
    "RNA_gene.drop(index=i,inplace=True,axis=0)\n",
    "RNA_gene = pd.concat([mrna,RNA_gene])\n",
    "\n",
    "mrna.head(n=3)"
   ]
  },
  {
   "cell_type": "code",
   "execution_count": null,
   "metadata": {},
   "outputs": [],
   "source": [
    "i = RNA_gene[(RNA_gene['Category1']!='mRNA')].index.values\n",
    "ncrna = RNA_gene[(RNA_gene['Category1']!='mRNA')]\n",
    "rnacentral_map_human_hgnc_type = rnacentral_map_hgnc[rnacentral_map_hgnc['Organism'] ==9606]\n",
    "ncrna = pd.merge(ncrna, rnacentral_map_human_hgnc_type, left_on=['Interactor1.Symbol','Category1'],\n",
    "                right_on=[\"HGNC symbol\",'RNA category']).drop(columns=[\"Interactor1.Symbol\",'Raw_ID1','RNA category'])\n",
    "ncrna.rename(columns={\"RNAcentral ID\":'Raw_ID1'}, inplace=True)\n",
    "RNA_gene.drop(index=i,inplace=True,axis=0)\n",
    "RNA_gene = pd.concat([ncrna,RNA_gene])\n",
    "\n",
    "ncrna.head(n=3)"
   ]
  },
  {
   "cell_type": "code",
   "execution_count": null,
   "metadata": {},
   "outputs": [],
   "source": [
    "RNA_gene = RNA_gene[(RNA_gene['Raw_ID1'].str.startswith(\"URS\")) | (RNA_gene['Raw_ID1'].str.startswith(\"ENST\"))\n",
    "                    | (RNA_gene['Raw_ID1'].str.startswith(\"trfdb?\")) | (RNA_gene['Raw_ID1'].str.startswith(\"hsa_circ_\"))]\n",
    "RNA_gene = RNA_gene[RNA_gene['Raw_ID2'].str[0].str.isdigit()]\n",
    "\n",
    "RNA_gene['Method'] = RNA_gene['strong'].astype(str) + \"//\" + RNA_gene['weak'].astype(str) + \"//\" + RNA_gene['predict'].astype(str)\n",
    "RNA_gene['Method'] = RNA_gene['Method'].str.replace(\"nan\\/\\/\", '', regex=True)\n",
    "RNA_gene['Method'] = RNA_gene['Method'].str.replace(\"\\/\\/nan\", '', regex=True)\n",
    "RNA_gene['Method'] = RNA_gene['Method'].replace(\"nan\", np.nan)\n",
    "RNA_gene['Method'] = RNA_gene['Method'].str.lower().str.split(\"//\")\n",
    "RNA_gene = RNA_gene.explode('Method')\n",
    "RNA_gene = pd.merge(RNA_gene, location_map, right_on='0_y', left_on='Method', how='left')\n",
    "RNA_gene['0_x'] = RNA_gene['0_x'].fillna(RNA_gene['Method'])\n",
    "RNA_gene = RNA_gene.drop(columns=['0_y', 'Method'])\n",
    "RNA_gene = RNA_gene.rename(columns={'0_x':'Method'})\n",
    "\n",
    "RNA_gene['Source'] = 'RNAInter'\n",
    "RNA_gene.rename(columns={'Raw_ID1':':START_ID', 'Raw_ID2':':END_ID', 'score':'RNAsister_score'},inplace=True)\n",
    "RNA_gene.head(n=3)"
   ]
  },
  {
   "cell_type": "markdown",
   "metadata": {},
   "source": [
    "* [LncRNAWiki](https://ngdc.cncb.ac.cn/lncrnawiki/)"
   ]
  },
  {
   "cell_type": "code",
   "execution_count": null,
   "metadata": {},
   "outputs": [],
   "source": [
    "LncRNAWiki = pd.read_csv(unprocessed_data_location+'LncRNAWiki_BrowseDownload.csv')\n",
    "lncRNA_gene = LncRNAWiki[LncRNAWiki['target_type'].notna()]\n",
    "lncRNA_gene = lncRNA_gene[lncRNA_gene.target_type.str.contains('PCG')]\n",
    "lncRNA_gene = lncRNA_gene.drop(columns=['symbol','synonyms','gene_locus','gene_id','conservation_ortholog','clinical_detail','biological_process','pathway',\n",
    "                                        'modification_detail','target_interaction', 'conservation_species','target_effect','epigenetic_modification',\n",
    "                                        'description','conservation','target_type','biological_context','regulator_effect','expression_detail',\n",
    "                                        'regulator_interaction', 'genome_variation', 'variation_detail', 'molecular_function',\n",
    "                                        'expression','regulator_type','functional_mechanism'])\n",
    "        \n",
    "lncRNA_gene['transcript_id'] = lncRNA_gene['transcript_id'].str.split(',')\n",
    "lncRNA_gene = lncRNA_gene.explode('transcript_id')\n",
    "lncRNA_gene = lncRNA_gene[lncRNA_gene['transcript_id'].notna()]\n",
    "\n",
    "lncRNA_gene = pd.merge(lncRNA_gene, rnacentral_map_human_lncbook[['LncBook Transcript ID', 'RNAcentral ID']].drop_duplicates().rename(\n",
    "    columns={'LncBook Transcript ID':'transcript_id'}), on = 'transcript_id').drop(columns=['transcript_id']).rename(\n",
    "        columns={'RNAcentral ID':'RNA'})  \n",
    "\n",
    "lncRNA_gene = pd.merge(lncRNA_gene,symbol_entrez_map.rename(columns={0:'target'}), on='target').drop(columns=['target']).rename(columns={1:'Gene'})\n",
    "lncRNA_gene = lncRNA_gene.fillna('nan')\n",
    "lncRNA_gene = lncRNA_gene[lncRNA_gene['RNA'].notna()]\n",
    "lncRNA_gene = lncRNA_gene[lncRNA_gene['Gene'].notna()]\n",
    "\n",
    "lncRNA_gene['pmid'] = pd.to_numeric(lncRNA_gene['pmid'], errors='coerce')\n",
    "lncRNA_gene['pmid'] = lncRNA_gene['pmid'].astype(str)\n",
    "lncRNA_gene['pmid'] = lncRNA_gene['pmid'].str.replace(\".0\", \"\")\n",
    "lncRNA_gene['pmid'] = lncRNA_gene['pmid'].replace(\"nan\", np.nan)\n",
    "\n",
    "lncRNA_gene['drug'] = lncRNA_gene['drug'].str.lower().str.split(\";\")\n",
    "lncRNA_gene = lncRNA_gene.explode('drug')\n",
    "\n",
    "lncRNA_gene['regulator'] = lncRNA_gene['regulator'].str.lower().str.split(\";\")\n",
    "lncRNA_gene = lncRNA_gene.explode('regulator')\n",
    "\n",
    "lncRNA_gene['experimental_method'] = lncRNA_gene['experimental_method'].str.lower().str.split(\";\")\n",
    "lncRNA_gene = lncRNA_gene.explode('experimental_method')\n",
    "lncRNA_gene = pd.merge(lncRNA_gene, method_map, right_on='0_y', left_on='experimental_method', how='left')\n",
    "lncRNA_gene['0_x'] = lncRNA_gene['0_x'].fillna(lncRNA_gene['experimental_method'])\n",
    "lncRNA_gene = lncRNA_gene.drop(columns=['0_y', 'experimental_method'])\n",
    "lncRNA_gene = lncRNA_gene.rename(columns={'0_x':'Method','pmid':'PubMedID', 'drug':'Drug', 'regulator':'Regulator', 'target':'Interactor'})\n",
    "\n",
    "lncRNA_gene['tissue/cell line'] = lncRNA_gene['tissue/cell line'].str.lower().str.split(\";\")\n",
    "lncRNA_gene = lncRNA_gene.explode('tissue/cell line')\n",
    "lncRNA_gene = pd.merge(lncRNA_gene, location_map, right_on='0_y', left_on='tissue/cell line', how='left')\n",
    "lncRNA_gene['0_x'] = lncRNA_gene['0_x'].fillna(lncRNA_gene['tissue/cell line'])\n",
    "lncRNA_gene = lncRNA_gene.drop(columns=['0_y', 'tissue/cell line'])\n",
    "lncRNA_gene = lncRNA_gene.rename(columns={'0_x':'Location'})\n",
    "\n",
    "lncRNA_gene['context_detail'] = lncRNA_gene['context_detail'].str.lower().str.split(\";\")\n",
    "lncRNA_gene = lncRNA_gene.explode('context_detail')\n",
    "lncRNA_gene = pd.merge(lncRNA_gene, disease_map, right_on='0_y', left_on='context_detail', how='left')\n",
    "lncRNA_gene['0_x'] = lncRNA_gene['0_x'].fillna(lncRNA_gene['context_detail'])\n",
    "lncRNA_gene = lncRNA_gene.drop(columns=['0_y', 'context_detail'])\n",
    "lncRNA_gene = lncRNA_gene.rename(columns={'0_x':'Location2'})\n",
    "\n",
    "lncRNA_gene = pd.concat([lncRNA_gene.drop(columns=['Location2']), lncRNA_gene.drop(columns=['Location']).rename(columns={'Location2':'Location'})])\n",
    "\n",
    "lncRNA_gene['Source'] = 'LncRNAWiki'\n",
    "lncRNA_gene.rename(columns={'RNA':':START_ID', 'Gene':':END_ID'},inplace=True)\n",
    "lncRNA_gene.head(n=3)"
   ]
  },
  {
   "cell_type": "markdown",
   "metadata": {},
   "source": [
    "* [snoDB](https://bioinfo-scottgroup.med.usherbrooke.ca/snoDB/)"
   ]
  },
  {
   "cell_type": "code",
   "execution_count": null,
   "metadata": {},
   "outputs": [],
   "source": [
    "snoDB = pd.read_csv(unprocessed_data_location + 'download_all', sep=\"\\t\")\n",
    "snoDB = snoDB[['rna_central_id','host_gene_id','rrna_targets','snrna_targets','lncrna_targets','protein_coding_targets','snorna_targets',\n",
    "               'mirna_targets','trna_targets','ncrna_targets','pseudogene_targets','other_targets','is_expressed']]\n",
    "snoDB = snoDB[snoDB['rna_central_id'].notna()]\n",
    "snoDB = snoDB.rename(columns={'rna_central_id':'RNA'})\n",
    "for col in snoDB.columns:\n",
    "    snoDB[col] = snoDB[col].astype(str).str.split(';')\n",
    "for col in snoDB.columns:\n",
    "    snoDB = snoDB.explode(col) \n",
    "snoDB['Source'] = 'snoDB'\n",
    "snoDB.head(n=3)\n",
    "\n",
    "snoRNA_pcg = snoDB[['RNA', 'protein_coding_targets', 'Source']]\n",
    "snoRNA_pcg = snoRNA_pcg[snoRNA_pcg['protein_coding_targets'] != 'nan']\n",
    "snoRNA_pcg['protein_coding_targets'] = snoRNA_pcg['protein_coding_targets'].str.split('.').str[0]\n",
    "\n",
    "snoRNA_pcg = pd.merge(snoRNA_pcg, symbol_entrez_map.rename(columns={0:'protein_coding_targets'})).drop(\n",
    "    columns=['protein_coding_targets']).rename(columns={1:'Gene'})\n",
    "\n",
    "snoRNA_pcg.head(n=3)"
   ]
  },
  {
   "cell_type": "code",
   "execution_count": null,
   "metadata": {},
   "outputs": [],
   "source": [
    "snoRNA_pseudogene = snoDB[['RNA', 'pseudogene_targets', 'Source']]\n",
    "snoRNA_pseudogene = snoRNA_pseudogene[snoRNA_pseudogene['pseudogene_targets'] != 'nan']\n",
    "snoRNA_pseudogene['pseudogene_targets'] = snoRNA_pseudogene['pseudogene_targets'].str.split('.').str[0]\n",
    "\n",
    "snoRNA_pseudogene = pd.merge(snoRNA_pseudogene, symbol_entrez_map.rename(columns={0:'pseudogene_targets'})).drop(\n",
    "    columns=['pseudogene_targets']).rename(columns={1:'Gene'})\n",
    "\n",
    "snoRNA_pseudogene.head(n=3) # Empty"
   ]
  },
  {
   "cell_type": "code",
   "execution_count": null,
   "metadata": {},
   "outputs": [],
   "source": [
    "RNA_interacts_with_Gene = pd.concat([RNA_gene, lncRNA_gene, snoRNA_pcg.rename(columns={'RNA':':START_ID','Gene':':END_ID'})])\n",
    "RNA_interacts_with_Gene = RNA_interacts_with_Gene.groupby([':START_ID',':END_ID']).agg(\n",
    "    {'RNAsister_score':np.mean,'Location':set,'Method':set,'Source':set, 'Regulator':set,'Drug':set,'PubMedID':set}).reset_index()\n",
    "RNA_interacts_with_Gene[':TYPE'] = 'interacts_with'\n",
    "RNA_interacts_with_Gene.to_pickle(unprocessed_edge_data_location+'RNA_interacts_with_gene.pkl')\n",
    "\n",
    "Gene_interacts_with_RNA = RNA_interacts_with_Gene.rename(columns={':START_ID':':END_ID',':END_ID':':START_ID'})\n",
    "Gene_interacts_with_RNA.to_pickle(unprocessed_edge_data_location+'gene_interacts_with_RNA.pkl')\n",
    "Gene_interacts_with_RNA.head(n=3)"
   ]
  },
  {
   "cell_type": "markdown",
   "metadata": {},
   "source": [
    "***\n",
    "### RNA - http://purl.obolibrary.org/obo/RO_0002326 (contributes to) - OBO"
   ]
  },
  {
   "cell_type": "markdown",
   "metadata": {},
   "source": [
    "* [The GO resource](https://geneontology.org/) (GO annotations) <br/> The Gene Ontology (GO) knowledgebase is the world’s largest source of information on the functions of genes. This knowledge is both human-readable and machine-readable, and is a foundation for computational analysis of large-scale molecular biology and genetics experiments in biomedical research. "
   ]
  },
  {
   "cell_type": "code",
   "execution_count": null,
   "metadata": {},
   "outputs": [],
   "source": [
    "!wget http://current.geneontology.org/annotations/goa_human_rna.gaf.gz -O ../resources/processed_data/unprocessed_data/goa_human_rna.gaf.gz"
   ]
  },
  {
   "cell_type": "code",
   "execution_count": null,
   "metadata": {},
   "outputs": [],
   "source": [
    "import gzip \n",
    "with gzip.open(unprocessed_data_location+'goa_human_rna.gaf.gz') as f: # GO\n",
    "    go_annotations = pd.read_csv(f, comment='!', delimiter='\\t', names=[\n",
    "        'DB', 'DB Object ID', 'DB Object Symbol', 'Qualifier', 'GO ID', 'DB:Reference (|DB:Reference)', 'Evidence Code',\n",
    "        'With (or) From', 'Aspect', 'DB Object Name', 'DB Object Synonym (|Synonym)', 'DB Object Type', 'Taxon(|taxon)',\n",
    "        'Date', 'Assigned By', 'Annotation Extension', 'Gene Product Form ID'])\n",
    "\n",
    "go_annotations = go_annotations[go_annotations['Taxon(|taxon)'] == 'taxon:9606']\n",
    "go_annotations.head(n=2)"
   ]
  },
  {
   "cell_type": "code",
   "execution_count": null,
   "metadata": {},
   "outputs": [],
   "source": [
    "print(go_annotations['Qualifier'].unique())\n",
    "go_annotations['Qualifier'] = go_annotations['Qualifier'].replace('enables', '2327') # RO_0002327\n",
    "go_annotations['Qualifier'] = go_annotations['Qualifier'].replace('involved_in', '2331')\n",
    "go_annotations['Qualifier'] = go_annotations['Qualifier'].replace('located_in', '1025')\n",
    "go_annotations['Qualifier'] = go_annotations['Qualifier'].replace('part_of', 'BFO50')\n",
    "go_annotations['Qualifier'] = go_annotations['Qualifier'].replace('acts_upstream_of', '2263')\n",
    "go_annotations['Qualifier'] = go_annotations['Qualifier'].replace('acts_upstream_of_or_within', '2264')\n",
    "go_annotations['Qualifier'] = go_annotations['Qualifier'].replace('is_active_in', '2432')\n",
    "go_annotations['Qualifier'] = go_annotations['Qualifier'].replace('acts_upstream_of_or_within_negative_effect', '4033')\n",
    "go_annotations['Qualifier'] = go_annotations['Qualifier'].replace('acts_upstream_of_negative_effect', '4035')\n",
    "go_annotations['Qualifier'] = go_annotations['Qualifier'].replace('colocalizes_with', '2325')\n",
    "go_annotations['Qualifier'] = go_annotations['Qualifier'].replace('contributes_to', '2326')\n",
    "go_annotations['Qualifier'] = go_annotations['Qualifier'].replace('NOT|involved_in', '2331?NOT')\n",
    "go_annotations['Qualifier'] = go_annotations['Qualifier'].replace('NOT|located_in', '1025?NOT')\n",
    "print(go_annotations['Qualifier'].unique())"
   ]
  },
  {
   "cell_type": "code",
   "execution_count": null,
   "metadata": {},
   "outputs": [],
   "source": [
    "print(\"Are all 'DB Object ID' and 'DB Object Symbol' cells equal?\", all(go_annotations['DB Object ID'] == go_annotations['DB Object Symbol']))\n",
    "go_annotations = go_annotations.drop(columns=['DB Object Symbol'])"
   ]
  },
  {
   "cell_type": "code",
   "execution_count": null,
   "metadata": {},
   "outputs": [],
   "source": [
    "go_annotations['GO ID'] = go_annotations['GO ID'].str.replace('GO:', 'GO_')\n",
    "go_annotations['DB Object ID'] = go_annotations['DB Object ID'].str.replace('_.*', '', regex=True)\n",
    "go_annotations = go_annotations.drop(columns=['Gene Product Form ID', 'DB Object Synonym (|Synonym)', 'DB','Date','Annotation Extension',\n",
    "                                              'With (or) From','DB Object Name',\n",
    "                                              'DB Object Type','Taxon(|taxon)',\"Aspect\"])\n",
    "\n",
    "print(go_annotations[go_annotations['DB Object ID'].isna()])\n",
    "go_annotations.head(n=3)"
   ]
  },
  {
   "cell_type": "code",
   "execution_count": null,
   "metadata": {},
   "outputs": [],
   "source": [
    "go_annotations['Assigned By'] = \"GOC|\" + go_annotations['Assigned By'].astype(str)\n",
    "go_annotations['Assigned By'] = go_annotations['Assigned By'].replace(\"GOC|GOC\", \"GOC\")\n",
    "go_annotations['Assigned By'] = go_annotations['Assigned By'].replace(\"GOC|BHF-UCL\", \"GOC\")\n",
    "go_annotations['Assigned By'] = go_annotations['Assigned By'].replace(\"GOC|ARUK-UCL\", \"GOC\")\n",
    "go_annotations['Assigned By'] = go_annotations['Assigned By'].replace(\"GOC|DIBU\", \"GOC\")\n",
    "go_annotations['Assigned By'] = go_annotations['Assigned By'].replace(\"GOC|ParkinsonsUK-UCL\", \"GOC\")\n",
    "go_annotations['Assigned By'] = go_annotations['Assigned By'].replace(\"GOC|FlyBase\", \"GOC\")\n",
    "go_annotations['Assigned By'] = go_annotations['Assigned By'].replace(\"GOC|UniProt\", \"GOC|UniProtKB\")\n",
    "go_annotations['Assigned By'].unique()"
   ]
  },
  {
   "cell_type": "code",
   "execution_count": null,
   "metadata": {},
   "outputs": [],
   "source": [
    "go_annotations['DB:Reference (|DB:Reference)'] = go_annotations['DB:Reference (|DB:Reference)'].str.split('PMID:').str[1]\n",
    "go_annotations['DB:Reference (|DB:Reference)'] = pd.to_numeric(go_annotations['DB:Reference (|DB:Reference)'], errors='coerce')\n",
    "go_annotations['DB:Reference (|DB:Reference)'] = go_annotations['DB:Reference (|DB:Reference)'].replace(0, np.nan)\n",
    "go_annotations['DB:Reference (|DB:Reference)'] = go_annotations['DB:Reference (|DB:Reference)'].replace(\"<NA>\", np.nan)\n",
    "go_annotations['DB:Reference (|DB:Reference)'] = pd.to_numeric(go_annotations['DB:Reference (|DB:Reference)'], errors='coerce')\n",
    "go_annotations['DB:Reference (|DB:Reference)'] = go_annotations['DB:Reference (|DB:Reference)'].astype(str)\n",
    "go_annotations['DB:Reference (|DB:Reference)'] = go_annotations['DB:Reference (|DB:Reference)'].str.replace(\".0\", \"\")\n",
    "go_annotations['DB:Reference (|DB:Reference)'] = go_annotations['DB:Reference (|DB:Reference)'].replace(\"<NA>\",\"nan\")\n",
    "go_annotations['DB:Reference (|DB:Reference)'] = go_annotations['DB:Reference (|DB:Reference)'].replace(\"nan\",np.nan)\n",
    "\n",
    "go_annotations.rename(columns={'DB Object ID':':START_ID','GO ID':':END_ID','Evidence Code':'GO_evidence',\n",
    "                               'Assigned By':'Source','DB:Reference (|DB:Reference)':'PubMedID'},inplace=True)\n",
    "go_annotations['Source'] = go_annotations['Source'].str.split('|')\n",
    "go_annotations = go_annotations.explode('Source')\n",
    "go_annotations.head(n=3)"
   ]
  },
  {
   "cell_type": "code",
   "execution_count": null,
   "metadata": {},
   "outputs": [],
   "source": [
    "go_annotations2326 = go_annotations[go_annotations['Qualifier'] == '2326'].drop(columns=['Qualifier'])\n",
    "go_annotations2326 = go_annotations2326.groupby([':START_ID',':END_ID']).agg({'GO_evidence':set,'Source':set,'PubMedID':set}).reset_index()\n",
    "go_annotations2326[':TYPE'] = 'contributes_to'\n",
    "go_annotations2326.to_pickle(unprocessed_edge_data_location+'RNA_contributes_to_OBO.pkl')\n",
    "go_annotations2326.head(n=3)"
   ]
  },
  {
   "cell_type": "markdown",
   "metadata": {},
   "source": [
    "***\n",
    "### RNA - http://purl.obolibrary.org/obo/RO_0003304 (contributes to condition) - OBO"
   ]
  },
  {
   "cell_type": "markdown",
   "metadata": {},
   "source": [
    "* [LncRNADisease](http://www.rnanut.net/lncrnadisease/) <br /> LncRNADisease integrates comprehensive experimentally supported and predicted ncRNA-disease associations curated from manual literatures and other resources."
   ]
  },
  {
   "cell_type": "code",
   "execution_count": null,
   "metadata": {},
   "outputs": [],
   "source": [
    "data_downloader('http://www.rnanut.net/lncrnadisease/static/download/website_alldata.tsv', unprocessed_data_location)"
   ]
  },
  {
   "cell_type": "code",
   "execution_count": null,
   "metadata": {},
   "outputs": [],
   "source": [
    "lncRNADisease = pd.read_csv(unprocessed_data_location + 'website_alldata.tsv', sep=\"\\t\") # Mondo+HPO\n",
    "# We keep only rows dealing with HS\n",
    "lncRNA_disease_contributes = lncRNADisease[(lncRNADisease['Species'].str.contains(\"sapiens\")) & (lncRNADisease['Causality'] == 'No')]\n",
    "lncRNA_disease_contributes.drop(columns=['Causality','Species','Description','Dysfunction Pattern',\n",
    "                                         'Clinical Application','Causal Description'],inplace=True)\n",
    "circRNADisease = lncRNA_disease_contributes[lncRNA_disease_contributes['ncRNA Category'] == 'CircRNA']\n",
    "circRNADisease[':START_ID'] = circRNADisease['ncRNA Symbol'].str.strip().str.lower()\n",
    "circRNADisease['Disease Name'] = circRNADisease['Disease Name'].str.strip().str.lower()\n",
    "\n",
    "circRNADisease = pd.merge(circRNADisease, desc_disPhe_map.rename(columns={0:'Disease Name'}),\n",
    "                                        on='Disease Name').drop(columns=['Disease Name']).rename(columns={1:':END_ID'})\n",
    "\n",
    "circRNADisease['PubMed ID'] = pd.to_numeric(circRNADisease['PubMed ID'], errors='coerce')\n",
    "circRNADisease['PubMed ID'] = circRNADisease['PubMed ID'].astype(str)\n",
    "circRNADisease['PubMed ID'] = circRNADisease['PubMed ID'].str.replace(\".0\", \"\")\n",
    "circRNADisease['PubMed ID'] = circRNADisease['PubMed ID'].replace(\"nan\", np.nan)\n",
    "\n",
    "circRNADisease['Validated Method'] = circRNADisease['Validated Method'].str.strip().str.split(\"//\")\n",
    "circRNADisease = circRNADisease.explode('Validated Method')\n",
    "circRNADisease['Validated Method'] = circRNADisease['Validated Method'].str.lower().str.split(\";\")\n",
    "circRNADisease = circRNADisease.explode('Validated Method')\n",
    "circRNADisease = pd.merge(circRNADisease, method_map, right_on='0_y', left_on='Validated Method', how='left')\n",
    "circRNADisease['0_x'] = circRNADisease['0_x'].fillna(circRNADisease['Validated Method'])\n",
    "circRNADisease = circRNADisease.drop(columns=['0_y', 'Validated Method'])\n",
    "circRNADisease = circRNADisease.rename(columns={'0_x':'Method','PubMed ID':'PubMedID'})\n",
    "\n",
    "circRNADisease['Sample'] = circRNADisease['Sample'].str.strip().str.lower().str.split(\";\")\n",
    "circRNADisease = circRNADisease.explode('Sample')\n",
    "circRNADisease = pd.merge(circRNADisease, location_map, right_on='0_y', left_on='Sample', how='left')\n",
    "circRNADisease['0_x'] = circRNADisease['0_x'].fillna(circRNADisease['Sample'])\n",
    "circRNADisease = circRNADisease.drop(columns=['0_y', 'Sample'])\n",
    "circRNADisease = circRNADisease.rename(columns={'0_x':'Location'})\n",
    "circRNADisease['Source'] = 'LncRNADisease'\n",
    "circRNADisease.head(n=3)"
   ]
  },
  {
   "cell_type": "code",
   "execution_count": null,
   "metadata": {},
   "outputs": [],
   "source": [
    "lncRNADisease = pd.read_csv(unprocessed_data_location + 'website_alldata.tsv', sep=\"\\t\") # Mondo+HPO\n",
    "# We keep only rows dealing with HS\n",
    "lncRNA_disease_contributes = lncRNADisease[(lncRNADisease['Species'].str.contains(\"sapiens\")) & (lncRNADisease['Causality'] == 'No')]\n",
    "lncRNA_disease_contributes.drop(columns=['Causality','Species','Description','Dysfunction Pattern',\n",
    "                                         'Clinical Application','Causal Description'],inplace=True)\n",
    "lncRNA_disease_contributes = lncRNA_disease_contributes[lncRNA_disease_contributes['ncRNA Category'] == 'LncRNA']\n",
    "lncRNA_disease_contributes['ncRNA Symbol'] = lncRNA_disease_contributes['ncRNA Symbol'].str.strip().str.upper()\n",
    "\n",
    "lncRNA_disease_contributes = pd.merge(lncRNA_disease_contributes, rnacentral_map_human_hgnc[\n",
    "    rnacentral_map_human_hgnc['RNA category'] == 'lncRNA'][['RNAcentral ID', 'HGNC symbol']].drop_duplicates().rename(\n",
    "        columns={'HGNC symbol':'ncRNA Symbol'}),on='ncRNA Symbol')\n",
    "\n",
    "lncRNA_disease_contributes['Disease Name'] = lncRNA_disease_contributes['Disease Name'].str.strip().str.lower()\n",
    "\n",
    "lncRNA_disease_contributes = pd.merge(lncRNA_disease_contributes, desc_disPhe_map.rename(columns={0:'Disease Name'}),\n",
    "                                        on='Disease Name').drop(columns=['Disease Name']).rename(columns={1:':END_ID'})\n",
    "\n",
    "lncRNA_disease_contributes['PubMed ID'] = pd.to_numeric(lncRNA_disease_contributes['PubMed ID'], errors='coerce')\n",
    "lncRNA_disease_contributes['PubMed ID'] = lncRNA_disease_contributes['PubMed ID'].astype(str)\n",
    "lncRNA_disease_contributes['PubMed ID'] = lncRNA_disease_contributes['PubMed ID'].str.replace(\".0\", \"\")\n",
    "lncRNA_disease_contributes['PubMed ID'] = lncRNA_disease_contributes['PubMed ID'].replace(\"nan\", np.nan)\n",
    "\n",
    "lncRNA_disease_contributes['Validated Method'] = lncRNA_disease_contributes['Validated Method'].str.strip().str.split(\"//\")\n",
    "lncRNA_disease_contributes = lncRNA_disease_contributes.explode('Validated Method')\n",
    "lncRNA_disease_contributes['Validated Method'] = lncRNA_disease_contributes['Validated Method'].str.lower().str.split(\";\")\n",
    "lncRNA_disease_contributes = lncRNA_disease_contributes.explode('Validated Method')\n",
    "lncRNA_disease_contributes = pd.merge(lncRNA_disease_contributes, method_map, right_on='0_y', left_on='Validated Method', how='left')\n",
    "lncRNA_disease_contributes['0_x'] = lncRNA_disease_contributes['0_x'].fillna(lncRNA_disease_contributes['Validated Method'])\n",
    "lncRNA_disease_contributes = lncRNA_disease_contributes.drop(columns=['0_y', 'Validated Method'])\n",
    "lncRNA_disease_contributes = lncRNA_disease_contributes.rename(columns={'0_x':'Method','PubMed ID':'PubMedID'})\n",
    "\n",
    "lncRNA_disease_contributes['Sample'] = lncRNA_disease_contributes['Sample'].str.lower().str.strip().str.split(\";\")\n",
    "lncRNA_disease_contributes = lncRNA_disease_contributes.explode('Sample')\n",
    "lncRNA_disease_contributes = pd.merge(lncRNA_disease_contributes, location_map, right_on='0_y', left_on='Sample', how='left')\n",
    "lncRNA_disease_contributes['0_x'] = lncRNA_disease_contributes['0_x'].fillna(lncRNA_disease_contributes['Sample'])\n",
    "lncRNA_disease_contributes = lncRNA_disease_contributes.drop(columns=['0_y', 'Sample'])\n",
    "lncRNA_disease_contributes = lncRNA_disease_contributes.rename(columns={'0_x':'Location'})\n",
    "\n",
    "lncRNA_disease_contributes['Source'] = 'NONCODE, LncRNADisease'\n",
    "lncRNA_disease_contributes['Source'] = lncRNA_disease_contributes['Source'].str.split(', ')\n",
    "lncRNA_disease_contributes = lncRNA_disease_contributes.explode('Source')\n",
    "lncRNA_disease_contributes.rename(columns={'RNAcentral ID':':START_ID', 'Disease':':END_ID'},inplace=True)\n",
    "lncRNA_disease_contributes.head(n=3)"
   ]
  },
  {
   "cell_type": "code",
   "execution_count": null,
   "metadata": {},
   "outputs": [],
   "source": [
    "RNA_contributes_to_condition_OBO = pd.concat([lncRNA_disease_contributes, circRNADisease])\n",
    "RNA_contributes_to_condition_OBO = RNA_contributes_to_condition_OBO.groupby([':START_ID',':END_ID']).agg(\n",
    "    {'PubMedID':set,'Method':set,'Location':set,'Source':set}).reset_index()\n",
    "RNA_contributes_to_condition_OBO[\":TYPE\"] = \"contributes_to_condition\"\n",
    "RNA_contributes_to_condition_OBO.to_pickle(unprocessed_edge_data_location+'RNA_contributes_to_condition_OBO.pkl')\n",
    "RNA_contributes_to_condition_OBO.head(n=3)"
   ]
  },
  {
   "cell_type": "markdown",
   "metadata": {},
   "source": [
    "***\n",
    "### RNA - http://purl.obolibrary.org/obo/RO_0003303 (causes condition) - OBO"
   ]
  },
  {
   "cell_type": "markdown",
   "metadata": {},
   "source": [
    "* [LncRNADisease](http://www.rnanut.net/lncrnadisease/) <br /> LncRNADisease integrates comprehensive experimentally supported and predicted ncRNA-disease associations curated from manual literatures and other resources."
   ]
  },
  {
   "cell_type": "code",
   "execution_count": null,
   "metadata": {},
   "outputs": [],
   "source": [
    "lncRNADisease = pd.read_csv(unprocessed_data_location + 'website_alldata.tsv', sep=\"\\t\") # Mondo+HPO\n",
    "# We keep only rows dealing with HS\n",
    "lncRNA_disease_contributes = lncRNADisease[(lncRNADisease['Species'].str.contains(\"sapiens\")) & (lncRNADisease['Causality'] == 'Yes')]\n",
    "lncRNA_disease_contributes.drop(columns=['Causality','Species','Description','Dysfunction Pattern',\n",
    "                                         'Clinical Application','Causal Description'],inplace=True)\n",
    "circRNADisease = lncRNA_disease_contributes[lncRNA_disease_contributes['ncRNA Category'] == 'CircRNA']\n",
    "circRNADisease[':START_ID'] = circRNADisease['ncRNA Symbol'].str.strip().str.lower()\n",
    "circRNADisease['Disease Name'] = circRNADisease['Disease Name'].str.strip().str.lower()\n",
    "\n",
    "circRNADisease = pd.merge(circRNADisease, desc_disPhe_map.rename(columns={0:'Disease Name'}),\n",
    "                                        on='Disease Name').drop(columns=['Disease Name']).rename(columns={1:':END_ID'})\n",
    "\n",
    "circRNADisease['PubMed ID'] = pd.to_numeric(circRNADisease['PubMed ID'], errors='coerce')\n",
    "circRNADisease['PubMed ID'] = circRNADisease['PubMed ID'].astype(str)\n",
    "circRNADisease['PubMed ID'] = circRNADisease['PubMed ID'].str.replace(\".0\", \"\")\n",
    "circRNADisease['PubMed ID'] = circRNADisease['PubMed ID'].replace(\"nan\", np.nan)\n",
    "\n",
    "circRNADisease['Validated Method'] = circRNADisease['Validated Method'].str.strip().str.split(\"//\")\n",
    "circRNADisease = circRNADisease.explode('Validated Method')\n",
    "circRNADisease['Validated Method'] = circRNADisease['Validated Method'].str.lower().str.split(\";\")\n",
    "circRNADisease = circRNADisease.explode('Validated Method')\n",
    "circRNADisease = pd.merge(circRNADisease, method_map, right_on='0_y', left_on='Validated Method', how='left')\n",
    "circRNADisease['0_x'] = circRNADisease['0_x'].fillna(circRNADisease['Validated Method'])\n",
    "circRNADisease = circRNADisease.drop(columns=['0_y', 'Validated Method'])\n",
    "circRNADisease = circRNADisease.rename(columns={'0_x':'Method','PubMed ID':'PubMedID'})\n",
    "\n",
    "circRNADisease['Sample'] = circRNADisease['Sample'].str.strip().str.lower().str.split(\";\")\n",
    "circRNADisease = circRNADisease.explode('Sample')\n",
    "circRNADisease = pd.merge(circRNADisease, location_map, right_on='0_y', left_on='Sample', how='left')\n",
    "circRNADisease['0_x'] = circRNADisease['0_x'].fillna(circRNADisease['Sample'])\n",
    "circRNADisease = circRNADisease.drop(columns=['0_y', 'Sample'])\n",
    "circRNADisease = circRNADisease.rename(columns={'0_x':'Location'})\n",
    "circRNADisease['Source'] = 'LncRNADisease'\n",
    "circRNADisease.head(n=3)"
   ]
  },
  {
   "cell_type": "code",
   "execution_count": null,
   "metadata": {},
   "outputs": [],
   "source": [
    "lncRNADisease = pd.read_csv(unprocessed_data_location + 'website_alldata.tsv', sep=\"\\t\") # Mondo+HPO\n",
    "# We keep only rows dealing with HS\n",
    "lncRNA_disease_contributes = lncRNADisease[(lncRNADisease['Species'].str.contains(\"sapiens\")) & (lncRNADisease['Causality'] == 'Yes')]\n",
    "lncRNA_disease_contributes.drop(columns=['Causality','Species','Description','Dysfunction Pattern',\n",
    "                                         'Clinical Application','Causal Description'],inplace=True)\n",
    "lncRNA_disease_contributes = lncRNA_disease_contributes[lncRNA_disease_contributes['ncRNA Category'] == 'LncRNA']\n",
    "lncRNA_disease_contributes['ncRNA Symbol'] = lncRNA_disease_contributes['ncRNA Symbol'].str.strip().str.upper()\n",
    "\n",
    "lncRNA_disease_contributes = pd.merge(lncRNA_disease_contributes, rnacentral_map_human_hgnc[\n",
    "    rnacentral_map_human_hgnc['RNA category'] == 'lncRNA'][['RNAcentral ID', 'HGNC symbol']].drop_duplicates().rename(\n",
    "        columns={'HGNC symbol':'ncRNA Symbol'}),on='ncRNA Symbol')\n",
    "\n",
    "lncRNA_disease_contributes['Disease Name'] = lncRNA_disease_contributes['Disease Name'].str.strip().str.lower()\n",
    "\n",
    "lncRNA_disease_contributes = pd.merge(lncRNA_disease_contributes, desc_disPhe_map.rename(columns={0:'Disease Name'}),\n",
    "                                        on='Disease Name').drop(columns=['Disease Name']).rename(columns={1:':END_ID'})\n",
    "\n",
    "lncRNA_disease_contributes['PubMed ID'] = pd.to_numeric(lncRNA_disease_contributes['PubMed ID'], errors='coerce')\n",
    "lncRNA_disease_contributes['PubMed ID'] = lncRNA_disease_contributes['PubMed ID'].astype(str)\n",
    "lncRNA_disease_contributes['PubMed ID'] = lncRNA_disease_contributes['PubMed ID'].str.replace(\".0\", \"\")\n",
    "lncRNA_disease_contributes['PubMed ID'] = lncRNA_disease_contributes['PubMed ID'].replace(\"nan\", np.nan)\n",
    "\n",
    "lncRNA_disease_contributes['Validated Method'] = lncRNA_disease_contributes['Validated Method'].str.strip().str.split(\"//\")\n",
    "lncRNA_disease_contributes = lncRNA_disease_contributes.explode('Validated Method')\n",
    "lncRNA_disease_contributes['Validated Method'] = lncRNA_disease_contributes['Validated Method'].str.lower().str.split(\";\")\n",
    "lncRNA_disease_contributes = lncRNA_disease_contributes.explode('Validated Method')\n",
    "lncRNA_disease_contributes = pd.merge(lncRNA_disease_contributes, method_map, right_on='0_y', left_on='Validated Method', how='left')\n",
    "lncRNA_disease_contributes['0_x'] = lncRNA_disease_contributes['0_x'].fillna(lncRNA_disease_contributes['Validated Method'])\n",
    "lncRNA_disease_contributes = lncRNA_disease_contributes.drop(columns=['0_y', 'Validated Method'])\n",
    "lncRNA_disease_contributes = lncRNA_disease_contributes.rename(columns={'0_x':'Method','PubMed ID':'PubMedID'})\n",
    "\n",
    "lncRNA_disease_contributes['Sample'] = lncRNA_disease_contributes['Sample'].str.lower().str.strip().str.split(\";\")\n",
    "lncRNA_disease_contributes = lncRNA_disease_contributes.explode('Sample')\n",
    "lncRNA_disease_contributes = pd.merge(lncRNA_disease_contributes, location_map, right_on='0_y', left_on='Sample', how='left')\n",
    "lncRNA_disease_contributes['0_x'] = lncRNA_disease_contributes['0_x'].fillna(lncRNA_disease_contributes['Sample'])\n",
    "lncRNA_disease_contributes = lncRNA_disease_contributes.drop(columns=['0_y', 'Sample'])\n",
    "lncRNA_disease_contributes = lncRNA_disease_contributes.rename(columns={'0_x':'Location'})\n",
    "\n",
    "lncRNA_disease_contributes['Source'] = 'NONCODE, LncRNADisease'\n",
    "lncRNA_disease_contributes['Source'] = lncRNA_disease_contributes['Source'].str.split(', ')\n",
    "lncRNA_disease_contributes = lncRNA_disease_contributes.explode('Source')\n",
    "lncRNA_disease_contributes.rename(columns={'RNAcentral ID':':START_ID', 'Disease':':END_ID'},inplace=True)\n",
    "lncRNA_disease_contributes.head(n=3)"
   ]
  },
  {
   "cell_type": "code",
   "execution_count": null,
   "metadata": {},
   "outputs": [],
   "source": [
    "RNA_causes_condition_OBO = pd.concat([lncRNA_disease_contributes, circRNADisease])\n",
    "RNA_causes_condition_OBO = RNA_causes_condition_OBO.groupby([':START_ID',':END_ID']).agg(\n",
    "    {'PubMedID':set,'Method':set,'Location':set,'Source':set}).reset_index()\n",
    "RNA_causes_condition_OBO[\":TYPE\"] = \"causes_condition\"\n",
    "RNA_causes_condition_OBO.to_pickle(unprocessed_edge_data_location+'RNA_causes_condition_OBO.pkl')\n",
    "RNA_causes_condition_OBO.head(n=3)"
   ]
  },
  {
   "cell_type": "markdown",
   "metadata": {},
   "source": [
    "***\n",
    "### RNA - http://purl.obolibrary.org/obo/RO_0002434 (interacts with) - OBO"
   ]
  },
  {
   "cell_type": "markdown",
   "metadata": {},
   "source": [
    "* ViRBase"
   ]
  },
  {
   "cell_type": "code",
   "execution_count": null,
   "metadata": {},
   "outputs": [],
   "source": [
    "ViRBase = pd.read_csv(unprocessed_data_location+'all_ncRNA_associated_interactions.txt',sep='\\t') # PRO\n",
    "# We select only strong evidence interactions for hsa\n",
    "ViRBase = ViRBase[ViRBase['Host Species'].str.contains('apiens')]\n",
    "# We keep only entries score is > 0.7 (see http://www.rna-society.org/virbase/help.html Q8)\n",
    "ViRBase = ViRBase[ViRBase['Score']>=0.7]\n",
    "ViRBase['PMID'] = pd.to_numeric(ViRBase['PMID'], errors='coerce').astype('Int64').astype(str)\n",
    "ViRBase.drop(columns=['ViRBase ID','Virus Name','Virus Strain Name','Virus Family',\n",
    "                      'Host Species','Interactor1 Symbol','Interactor2 Symbol'],inplace=True)\n",
    "ViRBase.head(n=3)"
   ]
  },
  {
   "cell_type": "code",
   "execution_count": null,
   "metadata": {},
   "outputs": [],
   "source": [
    "host_virus = ViRBase[(ViRBase['Interactor1 Source'] == 'host') & (ViRBase['Interactor2 Source'] == 'virus')]\n",
    "virus_host = ViRBase[(ViRBase['Interactor1 Source'] == 'virus') & (ViRBase['Interactor2 Source'] == 'host')]\n",
    "virus_host.rename(columns={'Interactor1 Source':'Interactor2 Source',\n",
    "                           'Interactor1 Category':'Interactor2 Category',\n",
    "                           'Interactor1 ID':'Interactor2 ID',\n",
    "                           'Interactor2 Source':'Interactor1 Source',\n",
    "                           'Interactor2 Category':'Interactor1 Category',\n",
    "                           'Interactor2 ID':'Interactor1 ID'\n",
    "                          },inplace=True)\n",
    "ViRBase = pd.concat([virus_host,host_virus])\n",
    "ViRBase['Interactor1 Category'] = ViRBase['Interactor1 Category'].str.replace(' ','_')\n",
    "ViRBase['Interactor2 Category'] = ViRBase['Interactor2 Category'].str.replace(' ','_')\n",
    "ViRBase.drop(columns=['Interactor2 Source','Interactor1 Source'],inplace=True)\n",
    "ViRBase.head(n=3)"
   ]
  },
  {
   "cell_type": "code",
   "execution_count": null,
   "metadata": {},
   "outputs": [],
   "source": [
    "print(ViRBase['Taxonomy ID'].unique())"
   ]
  },
  {
   "cell_type": "code",
   "execution_count": null,
   "metadata": {},
   "outputs": [],
   "source": [
    "set(ViRBase['Interactor1 Category'])"
   ]
  },
  {
   "cell_type": "code",
   "execution_count": null,
   "metadata": {},
   "outputs": [],
   "source": [
    "i = ViRBase[(ViRBase['Interactor1 Category']=='protein')].index.values\n",
    "ViRBase_pro = ViRBase[(ViRBase['Interactor1 Category']=='protein')]\n",
    "entrez_pro_map[0] = entrez_pro_map[0].astype(str)\n",
    "ViRBase_pro = pd.merge(ViRBase_pro, entrez_pro_map.rename(columns={0:'Interactor1 ID'}), on=['Interactor1 ID'])\n",
    "ViRBase_pro.drop(columns=['Interactor1 ID'],inplace=True)\n",
    "ViRBase_pro.rename(columns={1:'Interactor1 ID'}, inplace=True)\n",
    "ViRBase.drop(index=i,inplace=True,axis=0)\n",
    "ViRBase = pd.concat([ViRBase_pro,ViRBase])\n",
    "ViRBase_pro.head(n=3)"
   ]
  },
  {
   "cell_type": "code",
   "execution_count": null,
   "metadata": {},
   "outputs": [],
   "source": [
    "viralprotein_RNA = ViRBase[(ViRBase['Interactor2 Category']=='protein')]\n",
    "                           \n",
    "viralprotein_RNA['Interactor2 ID'].replace({'1489078':'PR_P03126',\n",
    "                                            '1489080':'PR_P03120',\n",
    "                                            # Only papilloma type 16 is considered in PRO\n",
    "                                            '3783750':'PR_P03230',\n",
    "                                            '3783774':'PR_P03211',\n",
    "                                            '944566':'PR_000008466',\n",
    "                                            '944568':'PR_P0C6K0',\n",
    "                                            'E':'PR_000036822',\n",
    "                                            'M1':'PR_000049763',\n",
    "                                            'NP':'PR_000049760',\n",
    "                                            'NS1':'PR_000036824',\n",
    "                                            'NS3':'PR_000036828',\n",
    "                                            'P40':'PR_000038390',\n",
    "                                            'PB1':'PR_000049745',\n",
    "                                            'Pol':'PR_000044455',\n",
    "                                            'env':'PR_000003225',\n",
    "                                            'gag':'PR_000048976',\n",
    "                                            'NS5A':'PR_000012225',\n",
    "                                            'pp65':'PR_000009732',\n",
    "                                            '3783751':'PR_P03230',\n",
    "                                            'E7':'PR_P03126',\n",
    "                                            '1489079':'PR_P03126',\n",
    "                                            '1489088':'PR_P03126',\n",
    "                                            '1489089':'PR_P03126',\n",
    "                                            '1489085':'PR_P03120',\n",
    "                                            'Bet':'PR_000004725',\n",
    "                                            '156110':'PR_000011120, PR_000011118, PR_000011119',\n",
    "                                            'N':'PR_000050262'},inplace=True)\n",
    "viralprotein_RNA['Interactor2 ID'] = viralprotein_RNA['Interactor2 ID'].str.split(', ')\n",
    "viralprotein_RNA = viralprotein_RNA.explode('Interactor2 ID')\n",
    "i = ViRBase[(ViRBase['Interactor2 Category']=='protein')].index.values\n",
    "ViRBase.drop(index=i,inplace=True,axis=0)\n",
    "ViRBase = pd.concat([viralprotein_RNA,ViRBase])\n",
    "viralprotein_RNA.head(n=3)"
   ]
  },
  {
   "cell_type": "code",
   "execution_count": null,
   "metadata": {},
   "outputs": [],
   "source": [
    "ViRBase[(ViRBase['Interactor1 Category']=='miRNA')]['Interactor1 ID'].str[:3].unique()"
   ]
  },
  {
   "cell_type": "code",
   "execution_count": null,
   "metadata": {},
   "outputs": [],
   "source": [
    "i = ViRBase[(ViRBase['Interactor1 Category']=='miRNA')].index.values\n",
    "ViRBase_mirna = ViRBase[(ViRBase['Interactor1 Category']=='miRNA')]\n",
    "ViRBase_mirna = pd.merge(ViRBase_mirna, rnacentral_map_mirbase.rename(columns={'miRBase ID':'Interactor1 ID'}),\n",
    "                         on=['Interactor1 ID']).drop(columns=['Interactor1 ID','DB','Organism','miRNA category','Label']).rename(\n",
    "                             columns={'RNAcentral ID':'Interactor1 ID'})\n",
    "ViRBase.drop(index=i,inplace=True,axis=0)\n",
    "ViRBase = pd.concat([ViRBase_mirna,ViRBase])\n",
    "\n",
    "i = ViRBase[(ViRBase['Interactor2 Category']=='miRNA')].index.values\n",
    "ViRBase_mirna = ViRBase[(ViRBase['Interactor2 Category']=='miRNA')]\n",
    "ViRBase_mirna = pd.merge(ViRBase_mirna, rnacentral_map_mirbase.rename(columns={'miRBase ID':'Interactor2 ID'}),\n",
    "                         on=['Interactor2 ID']).drop(columns=['Interactor2 ID','DB','Organism','miRNA category','Label']).rename(\n",
    "                             columns={'RNAcentral ID':'Interactor2 ID'})\n",
    "ViRBase.drop(index=i,inplace=True,axis=0)\n",
    "ViRBase = pd.concat([ViRBase_mirna,ViRBase])\n",
    "ViRBase_mirna.head(n=3)"
   ]
  },
  {
   "cell_type": "code",
   "execution_count": null,
   "metadata": {},
   "outputs": [],
   "source": [
    "ViRBase = pd.merge(ViRBase, symbol_entrez_map, left_on=['Interactor1 ID'], right_on=0,how='left')\n",
    "ViRBase[1] = ViRBase[1].fillna(ViRBase['Interactor1 ID'])\n",
    "ViRBase.drop(columns=[0,'Interactor1 ID'],inplace=True)\n",
    "ViRBase.rename(columns={1:'Interactor1 ID'},inplace=True)\n",
    "\n",
    "ViRBase = pd.merge(ViRBase, symbol_entrez_map, left_on=['Interactor2 ID'], right_on=0,how='left')\n",
    "ViRBase[1] = ViRBase[1].fillna(ViRBase['Interactor2 ID'])\n",
    "ViRBase.drop(columns=[0,'Interactor2 ID'],inplace=True)\n",
    "ViRBase.rename(columns={1:'Interactor2 ID'},inplace=True)\n",
    "\n",
    "i = ViRBase[(ViRBase['Interactor1 Category']!='miRNA') & (ViRBase['Interactor1 Category']!='protein')\n",
    "             & (ViRBase['Interactor1 Category']!='pseudo') & (ViRBase['Interactor1 Category']!='mRNA')].index.values\n",
    "ViRBase_ncrna = ViRBase[(ViRBase['Interactor1 Category']!='miRNA') & (ViRBase['Interactor1 Category']!='protein')\n",
    "                        & (ViRBase['Interactor1 Category']!='pseudo') & (ViRBase['Interactor1 Category']!='mRNA')]\n",
    "ensembl_entrezTranscript_map[0] = ensembl_entrezTranscript_map[0].astype(str)\n",
    "ViRBase_ncrna = pd.merge(ViRBase_ncrna, ensembl_entrezTranscript_map,\n",
    "                         left_on=['Interactor1 ID','Interactor1 Category'],\n",
    "                         right_on=[0,2]).drop(columns=['Interactor1 ID',2,3,4,5]).rename(columns={0:'Interactor1 ID'})\n",
    "ViRBase_ncrna.drop(columns=['Interactor1 ID'],inplace=True)\n",
    "ViRBase_ncrna.rename(columns={1:'Interactor1 ID'}, inplace=True)\n",
    "ViRBase.drop(index=i,inplace=True,axis=0)\n",
    "ViRBase = pd.concat([ViRBase_ncrna,ViRBase])\n",
    "\n",
    "i = ViRBase[(ViRBase['Interactor2 Category']!='miRNA') & (ViRBase['Interactor2 Category']!='protein')\n",
    "            & (ViRBase['Interactor2 Category']!='pseudo') & (ViRBase['Interactor2 Category']!='mRNA')].index.values\n",
    "ViRBase_ncrna = ViRBase[(ViRBase['Interactor2 Category']!='miRNA') & (ViRBase['Interactor2 Category']!='protein')\n",
    "                        & (ViRBase['Interactor2 Category']!='pseudo') & (ViRBase['Interactor2 Category']!='mRNA')]\n",
    "ensembl_entrezTranscript_map[0] = ensembl_entrezTranscript_map[0].astype(str)\n",
    "ViRBase_ncrna = pd.merge(ViRBase_ncrna, ensembl_entrezTranscript_map,\n",
    "                         left_on=['Interactor2 ID','Interactor2 Category'],\n",
    "                         right_on=[0,2]).drop(columns=['Interactor2 ID',2,3,4,5]).rename(columns={0:'Interactor2 ID'})\n",
    "ViRBase_ncrna.drop(columns=['Interactor2 ID'],inplace=True)\n",
    "ViRBase_ncrna.rename(columns={1:'Interactor2 ID'}, inplace=True)\n",
    "ViRBase.drop(index=i,inplace=True,axis=0)\n",
    "ViRBase = pd.concat([ViRBase_ncrna,ViRBase])\n",
    "\n",
    "ViRBase_ncrna.head(n=3)"
   ]
  },
  {
   "cell_type": "code",
   "execution_count": null,
   "metadata": {},
   "outputs": [],
   "source": [
    "ViRBase = pd.merge(ViRBase, rnacentral_map_ensembl, left_on=['Interactor1 ID'], right_on=['Ensembl transcript ID'],\n",
    "         how='left').drop(columns=['DB','Ensembl transcript ID','Organism','RNA category','Ensembl Gene ID'])\n",
    "ViRBase['RNAcentral ID'] = ViRBase['RNAcentral ID'].fillna(ViRBase['Interactor1 ID'])\n",
    "ViRBase.drop(columns=['Interactor1 ID'],inplace=True)\n",
    "ViRBase.rename(columns={'RNAcentral ID':'Interactor1 ID'},inplace=True)\n",
    "\n",
    "ViRBase = pd.merge(ViRBase, rnacentral_map_ensembl, left_on=['Interactor2 ID'], right_on=['Ensembl transcript ID'],\n",
    "         how='left').drop(columns=['DB','Ensembl transcript ID','Organism','RNA category','Ensembl Gene ID'])\n",
    "ViRBase['RNAcentral ID'] = ViRBase['RNAcentral ID'].fillna(ViRBase['Interactor1 ID'])\n",
    "ViRBase.drop(columns=['Interactor1 ID'],inplace=True)\n",
    "ViRBase.rename(columns={'RNAcentral ID':'Interactor1 ID'},inplace=True)\n",
    "ViRBase.head(n=3)"
   ]
  },
  {
   "cell_type": "code",
   "execution_count": null,
   "metadata": {},
   "outputs": [],
   "source": [
    "ViRBase = pd.concat([ViRBase, ViRBase.rename(columns={'Interactor1 ID':'Interactor2 ID','Interactor2 ID':'Interactor1 ID'})])\n",
    "ViRBase = ViRBase[(ViRBase['Interactor2 ID'].str.startswith(\"PR_\")) & (~ViRBase['Interactor2 ID'].isna())]\n",
    "\n",
    "ViRBase['PMID'] = pd.to_numeric(ViRBase['PMID'], errors='coerce')\n",
    "ViRBase['PMID'] = ViRBase['PMID'].astype(str)\n",
    "ViRBase['PMID'] = ViRBase['PMID'].str.replace(\".0\", \"\")\n",
    "ViRBase['PMID'] = ViRBase['PMID'].replace(\"nan\", np.nan)\n",
    "\n",
    "ViRBase.rename(columns={'Interactor1 ID':':START_ID', 'Interactor2 ID':':END_ID', 'PMID':'PubMedID','Score':'RNAsister_score'},inplace=True)\n",
    "ViRBase['Source'] = 'ViRBase'\n",
    "ViRBase.head(n=3)"
   ]
  },
  {
   "cell_type": "markdown",
   "metadata": {},
   "source": [
    "* [RNAInter](http://www.rnainter.org/) <br/> RNAInter integrates experimentally validated and computationally predicted RNA interactome data from the literature and databases."
   ]
  },
  {
   "cell_type": "code",
   "execution_count": null,
   "metadata": {},
   "outputs": [],
   "source": [
    "!wget http://www.rnainter.org/raidMedia/download/Download_data_RC.tar.gz -O ../resources/processed_data/unprocessed_data/Download_data_RC.tar.gz"
   ]
  },
  {
   "cell_type": "code",
   "execution_count": null,
   "metadata": {},
   "outputs": [],
   "source": [
    "RNA_chemical = pd.read_csv(unprocessed_data_location+'Download_data_RC.tar.gz',sep='\\t').rename(columns={'Download_data_RC.txt':'RNAInterID'})\n",
    "\n",
    "# We select only strong evidence interactions for hsa\n",
    "RNA_chemical = RNA_chemical[(RNA_chemical['score'] >= 0.2886) &\n",
    "                  (RNA_chemical['Species1'].str.contains('apiens'))]\n",
    "\n",
    "print(set(RNA_chemical.Category2)) # Chemicals are all in the second column\n",
    "print(set(RNA_chemical.Category1))\n",
    "\n",
    "RNA_chemical['Raw_ID1'] = RNA_chemical['Raw_ID1'].str.split(';')\n",
    "RNA_chemical = RNA_chemical.explode('Raw_ID1')\n",
    "RNA_chemical['Interactor1.Symbol'] = RNA_chemical['Interactor1.Symbol'].str.split('.').str[0]\n",
    "RNA_chemical = RNA_chemical.explode('Interactor1.Symbol')\n",
    "RNA_chemical['Raw_ID2'] = RNA_chemical['Raw_ID2'].str.split(';')\n",
    "RNA_chemical = RNA_chemical.explode('Raw_ID2')\n",
    "RNA_chemical['Raw_ID1'] = RNA_chemical['Raw_ID1'].str.strip()\n",
    "RNA_chemical['Raw_ID2'] = RNA_chemical['Raw_ID2'].str.strip()\n",
    "\n",
    "RNA_chemical = RNA_chemical[(RNA_chemical['Interactor2.Symbol'].notna())]\n",
    "RNA_chemical['Interactor2.Symbol'] = RNA_chemical['Interactor2.Symbol'].str.lower()\n",
    "RNA_chemical = pd.merge(RNA_chemical, desc_chebi_map.rename(columns={0: 'Interactor2.Symbol'}), on='Interactor2.Symbol',\n",
    "                        how='left')\n",
    "RNA_chemical[1].fillna(RNA_chemical['Interactor2.Symbol'], inplace=True)\n",
    "RNA_chemical.drop(columns=['Interactor2.Symbol'],inplace=True)\n",
    "RNA_chemical.rename(columns={1:'Interactor2.Symbol'},inplace=True)\n",
    "RNA_chemical = pd.merge(RNA_chemical, desc_drugbank_map.rename(columns={0: 'Interactor2.Symbol'}), left_on=['Interactor2.Symbol'],\n",
    "                        right_on=['Interactor2.Symbol'], how='left')\n",
    "RNA_chemical[1].fillna(RNA_chemical['Interactor2.Symbol'], inplace=True)\n",
    "RNA_chemical.drop(columns=['Interactor2.Symbol'],inplace=True)\n",
    "RNA_chemical.rename(columns={1:'Interactor2.Symbol'},inplace=True)\n",
    "\n",
    "RNA_chemical.Raw_ID1 = RNA_chemical.Raw_ID1.str.replace(\"NCBI:\", '')\n",
    "RNA_chemical.Raw_ID1 = RNA_chemical.Raw_ID1.str.replace(\"miRBase:\", '')\n",
    "RNA_chemical.Raw_ID1 = RNA_chemical.Raw_ID1.str.replace(\"Ensembl:\", '')\n",
    "RNA_chemical.Raw_ID1 = RNA_chemical.Raw_ID1.str.replace(\"circBase:\", '')\n",
    "\n",
    "RNA_chemical.head(n=3)"
   ]
  },
  {
   "cell_type": "code",
   "execution_count": null,
   "metadata": {},
   "outputs": [],
   "source": [
    "RNA_chemical = pd.merge(RNA_chemical, rnacentral_map_human_mirbase[['miRBase ID', 'RNAcentral ID']].drop_duplicates(), left_on=['Raw_ID1'],\n",
    "                   right_on=['miRBase ID'], how=\"left\").drop(columns=[\"miRBase ID\"])\n",
    "\n",
    "RNA_chemical['RNAcentral ID'] = RNA_chemical['RNAcentral ID'].fillna(RNA_chemical['Raw_ID1'])\n",
    "RNA_chemical.drop(columns=['Raw_ID1'],inplace=True)\n",
    "RNA_chemical.rename(columns={'RNAcentral ID':'Raw_ID1'},inplace=True)\n",
    "\n",
    "RNA_chemical.head(n=3)"
   ]
  },
  {
   "cell_type": "code",
   "execution_count": null,
   "metadata": {},
   "outputs": [],
   "source": [
    "i = RNA_chemical[(RNA_chemical['Category1']=='mRNA')].index.values\n",
    "mrna = RNA_chemical[RNA_chemical['Category1']=='mRNA']\n",
    "ensembl_entrezTranscript_map[0] = ensembl_entrezTranscript_map[0].astype(str)\n",
    "ensembl_entrezTranscript_map_mrna = ensembl_entrezTranscript_map[ensembl_entrezTranscript_map[2] == 'protein-coding']\n",
    "mrna = pd.merge(mrna, ensembl_entrezTranscript_map_mrna, left_on=['Raw_ID1'],\n",
    "                right_on=[0]).drop(columns=['Raw_ID1',2,3,4,5]).rename(columns={0:'Raw_ID1'})\n",
    "mrna.drop(columns=['Raw_ID1'],inplace=True)\n",
    "mrna.rename(columns={1:'Raw_ID1'}, inplace=True)\n",
    "RNA_chemical.drop(index=i,inplace=True,axis=0)\n",
    "RNA_chemical = pd.concat([mrna,RNA_chemical])\n",
    "\n",
    "mrna.head(n=3) "
   ]
  },
  {
   "cell_type": "code",
   "execution_count": null,
   "metadata": {},
   "outputs": [],
   "source": [
    "i = RNA_chemical[(RNA_chemical['Category1']=='pseudo')].index.values\n",
    "pseudo = RNA_chemical[RNA_chemical['Category1']=='pseudo']\n",
    "ensembl_entrezTranscript_map[0] = ensembl_entrezTranscript_map[0].astype(str)\n",
    "ensembl_entrezTranscript_map_pseudo = ensembl_entrezTranscript_map[ensembl_entrezTranscript_map[2] == 'pseudogene']\n",
    "pseudo = pd.merge(pseudo, ensembl_entrezTranscript_map_pseudo, left_on=['Raw_ID1'],\n",
    "                right_on=[0]).drop(columns=['Raw_ID1',2,3,4,5]).rename(columns={0:'Raw_ID1'})\n",
    "pseudo.drop(columns=['Raw_ID1'],inplace=True)\n",
    "pseudo.rename(columns={1:'Raw_ID1'}, inplace=True)\n",
    "RNA_chemical.drop(index=i,inplace=True,axis=0)\n",
    "RNA_chemical = pd.concat([pseudo,RNA_chemical])\n",
    "\n",
    "pseudo.head(n=3) "
   ]
  },
  {
   "cell_type": "code",
   "execution_count": null,
   "metadata": {},
   "outputs": [],
   "source": [
    "i = RNA_chemical[(RNA_chemical['Category1']!='mRNA') & (RNA_chemical['Category1']!='pseudo')].index.values\n",
    "ncrna = RNA_chemical[(RNA_chemical['Category1']!='mRNA') & (RNA_chemical['Category1']!='pseudo')]\n",
    "rnacentral_map_human_hgnc_type = rnacentral_map_hgnc[rnacentral_map_hgnc['Organism'] ==9606]\n",
    "ncrna = pd.merge(ncrna, rnacentral_map_human_hgnc_type, left_on=['Interactor1.Symbol','Category1'],\n",
    "                right_on=[\"HGNC symbol\",'RNA category']).drop(columns=[\"Interactor1.Symbol\",'Raw_ID1','RNA category'])\n",
    "ncrna.rename(columns={\"RNAcentral ID\":'Raw_ID1'}, inplace=True)\n",
    "RNA_chemical.drop(index=i,inplace=True,axis=0)\n",
    "RNA_chemical = pd.concat([ncrna,RNA_chemical])\n",
    "\n",
    "ncrna.head(n=3)"
   ]
  },
  {
   "cell_type": "code",
   "execution_count": null,
   "metadata": {},
   "outputs": [],
   "source": [
    "RNA_chemical = RNA_chemical[(RNA_chemical['Raw_ID1'].str.startswith(\"URS\")) | (RNA_chemical['Raw_ID1'].str.startswith(\"ENST\")) | \n",
    "                            (RNA_chemical['Raw_ID1'].str.startswith(\"hsa_circ\")) | (RNA_chemical['Raw_ID1'].str[0].str.isdigit())]\n",
    "RNA_chemical = RNA_chemical[(RNA_chemical['Interactor2.Symbol'].str.startswith(\"DB\")) | \n",
    "                            (RNA_chemical['Interactor2.Symbol'].str.startswith(\"CHEBI\"))]\n",
    "\n",
    "RNA_chemical['Method'] = RNA_chemical['strong'].astype(str) + '//' + RNA_chemical['weak'].astype(str) + '//' + RNA_chemical['predict'].astype(str)\n",
    "RNA_chemical['Method'] = RNA_chemical['Method'].str.lower()\n",
    "RNA_chemical['Method'] = RNA_chemical['Method'].str.replace('nan\\/\\/','',regex=True)\n",
    "RNA_chemical['Method'] = RNA_chemical['Method'].str.replace('\\/\\/nan','',regex=True)\n",
    "RNA_chemical['Method'] = RNA_chemical['Method'].replace('nan',np.nan)\n",
    "RNA_chemical['Method'] = RNA_chemical['Method'].str.split('//')\n",
    "RNA_chemical = RNA_chemical.explode('Method')\n",
    "RNA_chemical = pd.merge(RNA_chemical, method_map, right_on='0_y', left_on='Method', how='left')\n",
    "RNA_chemical['0_x'] = RNA_chemical['0_x'].fillna(RNA_chemical['Method'])\n",
    "RNA_chemical = RNA_chemical.drop(columns=['0_y', 'Method'])\n",
    "RNA_chemical = RNA_chemical.rename(columns={'0_x':'Method'})\n",
    "\n",
    "RNA_chemical['Source'] = 'RNAInter'\n",
    "RNA_chemical.rename(columns={'Raw_ID1':':START_ID', 'Interactor2.Symbol':':END_ID', 'score':'RNAsister_score'},inplace=True)\n",
    "gene_chemical = RNA_chemical[RNA_chemical[':START_ID'].str[0].str.isdigit()]\n",
    "RNA_chemical = RNA_chemical[~RNA_chemical[':START_ID'].str[0].str.isdigit()]\n",
    "RNA_chemical.head(n=3)"
   ]
  },
  {
   "cell_type": "markdown",
   "metadata": {},
   "source": [
    "* [RNAInter](http://www.rnainter.org/) <br/> RNAInter integrates experimentally validated and computationally predicted RNA interactome data from the literature and databases."
   ]
  },
  {
   "cell_type": "code",
   "execution_count": null,
   "metadata": {},
   "outputs": [],
   "source": [
    "!wget http://www.rnainter.org/raidMedia/download/Download_data_RH.tar.gz -O ../resources/processed_data/unprocessed_data/Download_data_RH.tar.gz"
   ]
  },
  {
   "cell_type": "code",
   "execution_count": null,
   "metadata": {},
   "outputs": [],
   "source": [
    "RNA_hisMod = pd.read_csv(unprocessed_data_location+'Download_data_RH.tar.gz',sep='\\t').rename(columns={'Download_data_RH.txt':'RNAInterID'})\n",
    "# Histone modification (SO)\n",
    "\n",
    "# We select only strong evidence interactions for hsa\n",
    "RNA_hisMod = RNA_hisMod[(RNA_hisMod['score'] >= 0.2886) &\n",
    "                  (RNA_hisMod['Species1'].str.contains('apiens'))]\n",
    "\n",
    "print(set(RNA_hisMod.Category2)) # Histone modifications are all in the second column\n",
    "print(set(RNA_hisMod.Category1))\n",
    "\n",
    "RNA_hisMod['Interactor2.Symbol'] = RNA_hisMod['Interactor2.Symbol'].str.lower()\n",
    "print(RNA_hisMod['Interactor2.Symbol'].unique())\n",
    "RNA_hisMod['Interactor2.Symbol'] = RNA_hisMod['Interactor2.Symbol'].str.lower().str.replace('h3k9-14ac','h3k9ac, h3k14ac')\n",
    "RNA_hisMod['Interactor2.Symbol'] = RNA_hisMod['Interactor2.Symbol'].str.lower().str.replace('hist2h3c','histone acetylation site')\n",
    "#RNA_hisMod['Interactor2.Symbol'] = RNA_hisMod['Interactor2.Symbol'].str.lower().str.replace('h2afz','h2azac')\n",
    "RNA_hisMod['Interactor2.Symbol'] = RNA_hisMod['Interactor2.Symbol'].str.lower().str.replace('h3ace','h3ac')\n",
    "RNA_hisMod['Interactor2.Symbol'] = RNA_hisMod['Interactor2.Symbol'].str.lower().str.replace('h3k27me1','h2k27me1')\n",
    "RNA_hisMod['Interactor2.Symbol'] = RNA_hisMod['Interactor2.Symbol'].str.lower().str.replace('h3.3','histone modification')\n",
    "RNA_hisMod['Interactor2.Symbol'] = RNA_hisMod['Interactor2.Symbol'].str.lower().str.replace('h3k4','h3k4 methylation site')\n",
    "\n",
    "RNA_hisMod['Interactor2.Symbol'] = RNA_hisMod['Interactor2.Symbol'].str.split(', ')\n",
    "RNA_hisMod = RNA_hisMod.explode('Interactor2.Symbol')\n",
    "\n",
    "RNA_hisMod = pd.merge(RNA_hisMod, desc_so_map, left_on=['Interactor2.Symbol'], right_on=0)\n",
    "RNA_hisMod = RNA_hisMod.drop(columns=['Interactor2.Symbol', 0])\n",
    "RNA_hisMod = RNA_hisMod.rename(columns={1:'Interactor2.Symbol'})\n",
    "\n",
    "print(set(RNA_hisMod.Category1))\n",
    "\n",
    "RNA_hisMod.Raw_ID1 = RNA_hisMod.Raw_ID1.str.replace(\"NCBI:\", '')\n",
    "RNA_hisMod.Raw_ID1 = RNA_hisMod.Raw_ID1.str.replace(\"miRBase:\", '')\n",
    "\n",
    "RNA_hisMod['Raw_ID1'] = RNA_hisMod['Raw_ID1'].str.split(';')\n",
    "RNA_hisMod = RNA_hisMod.explode('Raw_ID1')\n",
    "RNA_hisMod['Interactor1.Symbol'] = RNA_hisMod['Interactor1.Symbol'].str.split('.').str[0]\n",
    "\n",
    "RNA_hisMod.head(n=3)"
   ]
  },
  {
   "cell_type": "code",
   "execution_count": null,
   "metadata": {},
   "outputs": [],
   "source": [
    "RNA_hisMod = pd.merge(RNA_hisMod, rnacentral_map_human_mirbase[['miRBase ID', 'RNAcentral ID']].drop_duplicates(), left_on=['Raw_ID1'],\n",
    "                   right_on=['miRBase ID'], how=\"left\").drop(columns=[\"miRBase ID\"])\n",
    "\n",
    "RNA_hisMod['RNAcentral ID'] = RNA_hisMod['RNAcentral ID'].fillna(RNA_hisMod['Raw_ID1'])\n",
    "RNA_hisMod.drop(columns=['Raw_ID1'],inplace=True)\n",
    "RNA_hisMod.rename(columns={'RNAcentral ID':'Raw_ID1'},inplace=True)\n",
    "\n",
    "RNA_hisMod.head(n=3)"
   ]
  },
  {
   "cell_type": "code",
   "execution_count": null,
   "metadata": {},
   "outputs": [],
   "source": [
    "i = RNA_hisMod[(RNA_hisMod['Category1']=='mRNA')].index.values\n",
    "mrna = RNA_hisMod[RNA_hisMod['Category1']=='mRNA']\n",
    "ensembl_entrezTranscript_map[0] = ensembl_entrezTranscript_map[0].astype(str)\n",
    "ensembl_entrezTranscript_map_mrna = ensembl_entrezTranscript_map[ensembl_entrezTranscript_map[2] == 'protein-coding']\n",
    "mrna = pd.merge(mrna, ensembl_entrezTranscript_map_mrna, left_on=['Raw_ID1'],\n",
    "                right_on=[0]).drop(columns=['Raw_ID1',2,3,4,5]).rename(columns={0:'Raw_ID1'})\n",
    "mrna.drop(columns=['Raw_ID1'],inplace=True)\n",
    "mrna.rename(columns={1:'Raw_ID1'}, inplace=True)\n",
    "RNA_hisMod.drop(index=i,inplace=True,axis=0)\n",
    "RNA_hisMod = pd.concat([mrna,RNA_hisMod])\n",
    "\n",
    "mrna.head(n=3) "
   ]
  },
  {
   "cell_type": "code",
   "execution_count": null,
   "metadata": {},
   "outputs": [],
   "source": [
    "i = RNA_hisMod[(RNA_hisMod['Category1']!='mRNA') & (RNA_hisMod['Category1']!='pseudo')].index.values\n",
    "ncrna = RNA_hisMod[(RNA_hisMod['Category1']!='mRNA') & (RNA_hisMod['Category1']!='pseudo')]\n",
    "rnacentral_map_human_hgnc_type = rnacentral_map_hgnc[rnacentral_map_hgnc['Organism'] ==9606]\n",
    "ncrna = pd.merge(ncrna, rnacentral_map_human_hgnc_type, left_on=['Interactor1.Symbol','Category1'],\n",
    "                right_on=[\"HGNC symbol\",'RNA category']).drop(columns=[\"Interactor1.Symbol\",'Raw_ID1','RNA category'])\n",
    "ncrna.rename(columns={\"RNAcentral ID\":'Raw_ID1'}, inplace=True)\n",
    "RNA_hisMod.drop(index=i,inplace=True,axis=0)\n",
    "RNA_hisMod = pd.concat([ncrna,RNA_hisMod])\n",
    "\n",
    "ncrna.head(n=3)"
   ]
  },
  {
   "cell_type": "code",
   "execution_count": null,
   "metadata": {},
   "outputs": [],
   "source": [
    "RNA_hisMod = RNA_hisMod[(RNA_hisMod['Raw_ID1'].str.startswith(\"URS\")) | (RNA_hisMod['Raw_ID1'].str.startswith(\"ENST\")) |\n",
    "                            (RNA_hisMod['Raw_ID1'].str.startswith(\"hsa_circ\")) | (RNA_hisMod['Raw_ID1'].str[0].str.isdigit())]\n",
    "\n",
    "RNA_hisMod['Method'] = RNA_hisMod['strong'].astype(str) + '//' + RNA_hisMod['weak'].astype(str) + '//' + RNA_hisMod['predict'].astype(str)\n",
    "RNA_hisMod['Method'] = RNA_hisMod['Method'].str.lower()\n",
    "RNA_hisMod['Method'] = RNA_hisMod['Method'].str.replace('nan\\/\\/','',regex=True)\n",
    "RNA_hisMod['Method'] = RNA_hisMod['Method'].str.replace('\\/\\/nan','',regex=True)\n",
    "RNA_hisMod['Method'] = RNA_hisMod['Method'].replace('nan',np.nan)\n",
    "RNA_hisMod['Method'] = RNA_hisMod['Method'].str.split('//')\n",
    "RNA_hisMod = RNA_hisMod.explode('Method')\n",
    "RNA_hisMod = pd.merge(RNA_hisMod, method_map, right_on='0_y', left_on='Method', how='left')\n",
    "RNA_hisMod['0_x'] = RNA_hisMod['0_x'].fillna(RNA_hisMod['Method'])\n",
    "RNA_hisMod = RNA_hisMod.drop(columns=['0_y', 'Method'])\n",
    "RNA_hisMod = RNA_hisMod.rename(columns={'0_x':'Method'})\n",
    "\n",
    "RNA_hisMod['Source'] = 'RNAInter'\n",
    "RNA_hisMod = RNA_hisMod[~RNA_hisMod['Raw_ID1'].str[0].str.isdigit()]\n",
    "RNA_hisMod.rename(columns={'Raw_ID1':':START_ID', 'Interactor2.Symbol':':END_ID', 'score':'RNAsister_score'},inplace=True)\n",
    "RNA_hisMod.head(n=3)"
   ]
  },
  {
   "cell_type": "markdown",
   "metadata": {},
   "source": [
    "* [RNAInter](http://www.rnainter.org/) <br/> RNAInter integrates experimentally validated and computationally predicted RNA interactome data from the literature and databases."
   ]
  },
  {
   "cell_type": "code",
   "execution_count": null,
   "metadata": {},
   "outputs": [],
   "source": [
    "!wget http://www.rnainter.org/raidMedia/download/Download_data_RP.tar.gz -O ../resources/processed_data/unprocessed_data/Download_data_RP.tar.gz"
   ]
  },
  {
   "cell_type": "code",
   "execution_count": null,
   "metadata": {},
   "outputs": [],
   "source": [
    "RNA_protein = pd.read_csv(unprocessed_data_location+'Download_data_RP.tar.gz',sep='\\t') # PRO\n",
    "\n",
    "# We select only strong evidence interactions for hsa\n",
    "RNA_protein = RNA_protein[(RNA_protein['score'] >= 0.2886) & (RNA_protein['Species1'].str.contains('apiens')) &\n",
    "                          (RNA_protein['Species2'].str.contains('apiens'))]\n",
    "\n",
    "print(set(RNA_protein.Category2)) # proteins are all in the second column\n",
    "print(set(RNA_protein.Category1))\n",
    "\n",
    "RNA_protein.Raw_ID1 = RNA_protein.Raw_ID1.str.replace(\"NCBI:\", '')\n",
    "RNA_protein.Raw_ID1 = RNA_protein.Raw_ID1.str.replace(\"miRBase:\", '')\n",
    "RNA_protein.Raw_ID1 = RNA_protein.Raw_ID1.str.replace(\"circBase:\", '')\n",
    "RNA_protein.Raw_ID1 = RNA_protein.Raw_ID1.str.replace(\"Ensembl:\", '')\n",
    "\n",
    "RNA_protein['Raw_ID1'] = RNA_protein['Raw_ID1'].str.split(';')\n",
    "RNA_protein = RNA_protein.explode('Raw_ID1')\n",
    "RNA_protein['Raw_ID2'] = RNA_protein['Raw_ID2'].str.split(';')\n",
    "RNA_protein = RNA_protein.explode('Raw_ID2')\n",
    "\n",
    "entrez_pro_map[0] = entrez_pro_map[0].astype(str)\n",
    "RNA_protein = pd.merge(RNA_protein, entrez_pro_map.rename(columns={0: 'Raw_ID2'}), on='Raw_ID2', how ='left')\n",
    "RNA_protein[1] = RNA_protein[1].fillna(RNA_protein['Raw_ID2'])\n",
    "RNA_protein.drop(columns=['Raw_ID2'],inplace=True)\n",
    "RNA_protein.rename(columns={1:'Raw_ID2'},inplace=True)\n",
    "RNA_protein = pd.merge(RNA_protein, symbol_to_pro.rename(columns={0: 'Interactor2.Symbol'}), on='Interactor2.Symbol', how ='left')\n",
    "RNA_protein[1] = RNA_protein[1].fillna(RNA_protein['Raw_ID2'])\n",
    "RNA_protein.drop(columns=['Raw_ID2'],inplace=True)\n",
    "RNA_protein.rename(columns={1:'Raw_ID2'},inplace=True)\n",
    "RNA_protein.head(n=3)"
   ]
  },
  {
   "cell_type": "code",
   "execution_count": null,
   "metadata": {},
   "outputs": [],
   "source": [
    "RNA_protein = pd.merge(RNA_protein, rnacentral_map_human_ensembl[['Ensembl Gene ID', 'RNAcentral ID']].drop_duplicates(), left_on=['Raw_ID1'],\n",
    "                   right_on=['Ensembl Gene ID'], how=\"left\").drop(columns=[\"Ensembl Gene ID\"])\n",
    "\n",
    "RNA_protein['RNAcentral ID'] = RNA_protein['RNAcentral ID'].fillna(RNA_protein['Raw_ID1'])\n",
    "RNA_protein.drop(columns=['Raw_ID1'],inplace=True)\n",
    "RNA_protein.rename(columns={'RNAcentral ID':'Raw_ID1'},inplace=True)\n",
    "\n",
    "RNA_protein.head(n=3)"
   ]
  },
  {
   "cell_type": "code",
   "execution_count": null,
   "metadata": {},
   "outputs": [],
   "source": [
    "RNA_protein = pd.merge(RNA_protein, rnacentral_map_human_mirbase[['miRBase ID', 'RNAcentral ID']].drop_duplicates(), left_on=['Raw_ID1'],\n",
    "                   right_on=['miRBase ID'], how=\"left\").drop(columns=[\"miRBase ID\"])\n",
    "\n",
    "RNA_protein['RNAcentral ID'] = RNA_protein['RNAcentral ID'].fillna(RNA_protein['Raw_ID1'])\n",
    "RNA_protein.drop(columns=['Raw_ID1'],inplace=True)\n",
    "RNA_protein.rename(columns={'RNAcentral ID':'Raw_ID1'},inplace=True)\n",
    "\n",
    "RNA_protein.head(n=3)"
   ]
  },
  {
   "cell_type": "code",
   "execution_count": null,
   "metadata": {},
   "outputs": [],
   "source": [
    "print(RNA_protein[RNA_protein['Category1'] == 'tRNA']['Interactor1.Symbol'].unique()[:3]) \n",
    "RNA_protein = pd.merge(RNA_protein, rnacentral_map_human_gtrnadb[['RNAcentral ID','GtRNAdb Gene ID']].drop_duplicates().rename(\n",
    "    columns={'GtRNAdb Gene ID': 'Interactor1.Symbol'}), on='Interactor1.Symbol', how ='left')\n",
    "RNA_protein['RNAcentral ID'] = RNA_protein['RNAcentral ID'].fillna(RNA_protein['Raw_ID1'])\n",
    "RNA_protein.drop(columns=['Raw_ID1'],inplace=True)\n",
    "RNA_protein.rename(columns={'RNAcentral ID':'Raw_ID1'},inplace=True)\n",
    "RNA_protein.head(n=3)"
   ]
  },
  {
   "cell_type": "code",
   "execution_count": null,
   "metadata": {},
   "outputs": [],
   "source": [
    "i = RNA_protein[(RNA_protein['Category1']=='mRNA')].index.values\n",
    "mrna = RNA_protein[RNA_protein['Category1']=='mRNA']\n",
    "ensembl_entrezTranscript_map[0] = ensembl_entrezTranscript_map[0].astype(str)\n",
    "ensembl_entrezTranscript_map_mrna = ensembl_entrezTranscript_map[ensembl_entrezTranscript_map[2] == 'protein-coding']\n",
    "mrna = pd.merge(mrna, ensembl_entrezTranscript_map_mrna, left_on=['Raw_ID1'],\n",
    "                right_on=[0]).drop(columns=['Raw_ID1',2,3,4,5]).rename(columns={0:'Raw_ID1'})\n",
    "mrna.drop(columns=['Raw_ID1'],inplace=True)\n",
    "mrna.rename(columns={1:'Raw_ID1'}, inplace=True)\n",
    "RNA_protein.drop(index=i,inplace=True,axis=0)\n",
    "RNA_protein = pd.concat([mrna,RNA_protein])\n",
    "\n",
    "mrna.head(n=3)"
   ]
  },
  {
   "cell_type": "code",
   "execution_count": null,
   "metadata": {},
   "outputs": [],
   "source": [
    "i = RNA_protein[(RNA_protein['Category1']!='miRNA') &(RNA_protein['Category1']!='pseudo') & (RNA_protein['Category1']!='mRNA')& (RNA_protein['Category1']!='miRNA') & (RNA_protein['Category1']!='tRNA')& (RNA_protein['Category1']!='rRNA')].index.values\n",
    "ncrna = RNA_protein[(RNA_protein['Category1']!='miRNA') &(RNA_protein['Category1']!='pseudo') & (RNA_protein['Category1']!='mRNA')& (RNA_protein['Category1']!='miRNA') & (RNA_protein['Category1']!='tRNA')& (RNA_protein['Category1']!='rRNA')]\n",
    "rnacentral_map_human_hgnc_type = rnacentral_map_hgnc[rnacentral_map_hgnc['Organism'] ==9606]\n",
    "ncrna = pd.merge(ncrna, rnacentral_map_human_hgnc_type, left_on=['Interactor1.Symbol','Category1'],\n",
    "                right_on=[\"HGNC symbol\",'RNA category']).drop(columns=[\"Interactor1.Symbol\",'Raw_ID1','RNA category'])\n",
    "ncrna.rename(columns={\"RNAcentral ID\":'Raw_ID1'}, inplace=True)\n",
    "RNA_protein.drop(index=i,inplace=True,axis=0)\n",
    "RNA_protein = pd.concat([ncrna,RNA_protein])\n",
    "\n",
    "ncrna.head(n=3)"
   ]
  },
  {
   "cell_type": "code",
   "execution_count": null,
   "metadata": {},
   "outputs": [],
   "source": [
    "# Start mislabeled data"
   ]
  },
  {
   "cell_type": "code",
   "execution_count": null,
   "metadata": {},
   "outputs": [],
   "source": [
    "RNA_RNA = pd.read_csv(unprocessed_data_location+'Download_data_RR.tar.gz',sep='\\t').rename(columns={'Download_data_RR.txt':'RNAInterID'})\n",
    "\n",
    "# We select only strong evidence interactions for hsa\n",
    "RNA_RNA = RNA_RNA[(RNA_RNA['score'] >= 0.2886) &\n",
    "                  (RNA_RNA['Species1'].str.contains('apiens')) &\n",
    "                  (RNA_RNA['Species2'].str.contains('apiens'))]\n",
    "\n",
    "RNA_RNA.Category1 = RNA_RNA.Category1.str.replace(\"PCG\", 'mRNA')\n",
    "RNA_RNA.Category2 = RNA_RNA.Category2.str.replace(\"PCG\", 'mRNA')\n",
    "\n",
    "RNA_RNA.Raw_ID1 = RNA_RNA.Raw_ID1.str.replace(\"NCBI:\", '')\n",
    "RNA_RNA.Raw_ID2 = RNA_RNA.Raw_ID2.str.replace(\"NCBI:\", '')\n",
    "\n",
    "RNA_RNA.Raw_ID1 = RNA_RNA.Raw_ID1.str.replace(\"miRBase:\", '')\n",
    "RNA_RNA.Raw_ID2 = RNA_RNA.Raw_ID2.str.replace(\"miRBase:\", '')\n",
    "\n",
    "RNA_RNA.Raw_ID1 = RNA_RNA.Raw_ID1.str.replace(\"circBase:\", '')\n",
    "RNA_RNA.Raw_ID2 = RNA_RNA.Raw_ID2.str.replace(\"circBase:\", '')\n",
    "\n",
    "# tRF\n",
    "RNA_RNA.Raw_ID1 = RNA_RNA.Raw_ID1.str.replace(\"tRFdb:\", 'trfdb?')\n",
    "RNA_RNA.Raw_ID2 = RNA_RNA.Raw_ID2.str.replace(\"tRFdb:\", 'trfdb?')\n",
    "\n",
    "RNA_RNA['Raw_ID1'] = RNA_RNA['Raw_ID1'].str.split(';')\n",
    "RNA_RNA = RNA_RNA.explode('Raw_ID1')\n",
    "RNA_RNA['Raw_ID2'] = RNA_RNA['Raw_ID2'].str.split(';')\n",
    "RNA_RNA = RNA_RNA.explode('Raw_ID2')\n",
    "\n",
    "RNA_RNA['Interactor1.Symbol'] = RNA_RNA['Interactor1.Symbol'].str.split('.').str[0]\n",
    "RNA_RNA['Interactor2.Symbol'] = RNA_RNA['Interactor2.Symbol'].str.split('.').str[0]\n",
    "\n",
    "RNA_RNA.head(n=3)"
   ]
  },
  {
   "cell_type": "code",
   "execution_count": null,
   "metadata": {},
   "outputs": [],
   "source": [
    "a = set(RNA_RNA.Category1)\n",
    "b = set(RNA_RNA.Category2)\n",
    "a.union(b)"
   ]
  },
  {
   "cell_type": "code",
   "execution_count": null,
   "metadata": {},
   "outputs": [],
   "source": [
    "RNA_RNA = pd.merge(RNA_RNA, rnacentral_map_human_mirbase[['miRBase ID', 'RNAcentral ID']].drop_duplicates(), left_on=['Raw_ID1'],\n",
    "                   right_on=['miRBase ID'], how=\"left\").drop(columns=[\"miRBase ID\"])\n",
    "\n",
    "RNA_RNA['RNAcentral ID'] = RNA_RNA['RNAcentral ID'].fillna(RNA_RNA['Raw_ID1'])\n",
    "RNA_RNA.drop(columns=['Raw_ID1'],inplace=True)\n",
    "RNA_RNA.rename(columns={'RNAcentral ID':'Raw_ID1'},inplace=True)\n",
    "\n",
    "RNA_RNA = pd.merge(RNA_RNA, rnacentral_map_human_mirbase[['miRBase ID', 'RNAcentral ID']].drop_duplicates(), left_on=['Raw_ID2'],\n",
    "                   right_on=['miRBase ID'], how=\"left\").drop(columns=[\"miRBase ID\"])\n",
    "\n",
    "RNA_RNA['RNAcentral ID'] = RNA_RNA['RNAcentral ID'].fillna(RNA_RNA['Raw_ID2'])\n",
    "RNA_RNA.drop(columns=['Raw_ID2'],inplace=True)\n",
    "RNA_RNA.rename(columns={'RNAcentral ID':'Raw_ID2'},inplace=True)\n",
    "\n",
    "RNA_RNA.head(n=2)"
   ]
  },
  {
   "cell_type": "code",
   "execution_count": null,
   "metadata": {},
   "outputs": [],
   "source": [
    "print(RNA_RNA[RNA_RNA['Category2'] == 'piRNA'])"
   ]
  },
  {
   "cell_type": "code",
   "execution_count": null,
   "metadata": {},
   "outputs": [],
   "source": [
    "print(RNA_RNA[RNA_RNA['Category2'] == 'piRNA'])\n",
    "RNA_RNA.loc[31571, 'Raw_ID2'] = 'piR-hsa-39980'\n",
    "RNA_RNA.loc[39194, 'Raw_ID2'] = 'piR-hsa-20280'"
   ]
  },
  {
   "cell_type": "code",
   "execution_count": null,
   "metadata": {},
   "outputs": [],
   "source": [
    "print(RNA_RNA[RNA_RNA['Category1'] == 'tRNA'])"
   ]
  },
  {
   "cell_type": "code",
   "execution_count": null,
   "metadata": {},
   "outputs": [],
   "source": [
    "print(RNA_RNA[RNA_RNA['Category1'] == 'tRNA'])\n",
    "RNA_RNA.loc[23191, 'Raw_ID1'] = 'URS0000287398'\n",
    "RNA_RNA.loc[23192, 'Raw_ID1'] = 'URS00003C9A26'"
   ]
  },
  {
   "cell_type": "code",
   "execution_count": null,
   "metadata": {},
   "outputs": [],
   "source": [
    "ensembl_map['ensembl_transcript_type'] = ensembl_map['ensembl_transcript_type'].str.replace(\"transcribed_unitary_pseudogene\",\"pseudo\")\n",
    "ensembl_map['ensembl_transcript_type'] = ensembl_map['ensembl_transcript_type'].str.replace(\"transcribed_unprocessed_pseudogene\",\"pseudo\")\n",
    "ensembl_map['ensembl_transcript_type'] = ensembl_map['ensembl_transcript_type'].str.replace(\"transcribed_processed_pseudogene\",\"pseudo\")\n",
    "ensembl_map['ensembl_transcript_type'] = ensembl_map['ensembl_transcript_type'].str.replace(\"unprocessed_pseudogene\",\"pseudo\")\n",
    "ensembl_map['ensembl_transcript_type'] = ensembl_map['ensembl_transcript_type'].str.replace(\"processed_pseudogene\",\"pseudo\")\n",
    "ensembl_map['ensembl_transcript_type'] = ensembl_map['ensembl_transcript_type'].str.replace(\"IG_V_pseudogene\",\"pseudo\")\n",
    "ensembl_map['ensembl_transcript_type'] = ensembl_map['ensembl_transcript_type'].str.replace(\"unitary_pseudogene\",\"pseudo\")\n",
    "ensembl_map['ensembl_transcript_type'] = ensembl_map['ensembl_transcript_type'].str.replace(\"TR_J_pseudogene\",\"pseudo\")\n",
    "ensembl_map['ensembl_transcript_type'] = ensembl_map['ensembl_transcript_type'].str.replace(\"TR_V_pseudogene\",\"pseudo\")\n",
    "ensembl_map['ensembl_transcript_type'] = ensembl_map['ensembl_transcript_type'].str.replace(\"IG_C_pseudogene\",\"pseudo\")\n",
    "ensembl_map['ensembl_transcript_type'] = ensembl_map['ensembl_transcript_type'].str.replace(\"IG_J_pseudogene\",\"pseudo\")\n",
    "ensembl_map['ensembl_transcript_type'] = ensembl_map['ensembl_transcript_type'].str.replace(\"translated_processed_pseudogene\",\"pseudo\")\n",
    "ensembl_map['ensembl_transcript_type'] = ensembl_map['ensembl_transcript_type'].str.replace(\"pseudogene\",\"pseudo\")\n",
    "ensembl_map['ensembl_transcript_type'] = ensembl_map['ensembl_transcript_type'].str.replace(\"IG_pseudogene\",\"pseudo\")"
   ]
  },
  {
   "cell_type": "code",
   "execution_count": null,
   "metadata": {},
   "outputs": [],
   "source": [
    "i = RNA_RNA[(RNA_RNA['Category1']=='pseudo')].index.values\n",
    "pseudo = RNA_RNA[RNA_RNA['Category1']=='pseudo']\n",
    "ensembl_entrezTranscript_map[0] = ensembl_entrezTranscript_map[0].astype(str)\n",
    "ensembl_entrezTranscript_map_pseudo = ensembl_entrezTranscript_map[ensembl_entrezTranscript_map[2] == 'pseudo']\n",
    "pseudo = pd.merge(pseudo, ensembl_entrezTranscript_map_pseudo, left_on=['Raw_ID1'],\n",
    "                right_on=[0]).drop(columns=['Raw_ID1',2,3,4,5]).rename(columns={0:'Raw_ID1'})\n",
    "pseudo.drop(columns=['Raw_ID1'],inplace=True)\n",
    "pseudo.rename(columns={1:'Raw_ID1'}, inplace=True)\n",
    "RNA_RNA.drop(index=i,inplace=True,axis=0)\n",
    "RNA_RNA = pd.concat([pseudo,RNA_RNA])\n",
    "\n",
    "i = RNA_RNA[RNA_RNA['Category2']=='pseudo'].index.values\n",
    "pseudo = RNA_RNA[RNA_RNA['Category2']=='pseudo']\n",
    "pseudo = pd.merge(pseudo, ensembl_entrezTranscript_map_pseudo, left_on=['Raw_ID2'],\n",
    "                right_on=[0]).drop(columns=['Raw_ID2',2,3,4,5]).rename(columns={0:'Raw_ID2'})\n",
    "pseudo.drop(columns=['Raw_ID2'],inplace=True)\n",
    "pseudo.rename(columns={1:'Raw_ID2'}, inplace=True)\n",
    "RNA_RNA.drop(index=i,inplace=True,axis=0)\n",
    "RNA_RNA = pd.concat([pseudo,RNA_RNA])\n",
    "\n",
    "pseudo.head(n=3)"
   ]
  },
  {
   "cell_type": "code",
   "execution_count": null,
   "metadata": {},
   "outputs": [],
   "source": [
    "i = RNA_RNA[(RNA_RNA['Category1']=='mRNA')].index.values\n",
    "mrna = RNA_RNA[RNA_RNA['Category1']=='mRNA']\n",
    "ensembl_entrezTranscript_map[0] = ensembl_entrezTranscript_map[0].astype(str)\n",
    "ensembl_entrezTranscript_map_mrna = ensembl_entrezTranscript_map[ensembl_entrezTranscript_map[2] == 'protein-coding']\n",
    "mrna = pd.merge(mrna, ensembl_entrezTranscript_map_mrna, left_on=['Raw_ID1'],\n",
    "                right_on=[0]).drop(columns=['Raw_ID1',2,3,4,5]).rename(columns={0:'Raw_ID1'})\n",
    "mrna.drop(columns=['Raw_ID1'],inplace=True)\n",
    "mrna.rename(columns={1:'Raw_ID1'}, inplace=True)\n",
    "RNA_RNA.drop(index=i,inplace=True,axis=0)\n",
    "RNA_RNA = pd.concat([mrna,RNA_RNA])\n",
    "\n",
    "i = RNA_RNA[RNA_RNA['Category2']=='mRNA'].index.values\n",
    "mrna = RNA_RNA[RNA_RNA['Category2']=='mRNA']\n",
    "mrna = pd.merge(mrna, ensembl_entrezTranscript_map_mrna, left_on=['Raw_ID2'],\n",
    "                right_on=[0]).drop(columns=['Raw_ID2',2,3,4,5]).rename(columns={0:'Raw_ID2'})\n",
    "mrna.drop(columns=['Raw_ID2'],inplace=True)\n",
    "mrna.rename(columns={1:'Raw_ID2'}, inplace=True)\n",
    "RNA_RNA.drop(index=i,inplace=True,axis=0)\n",
    "RNA_RNA = pd.concat([mrna,RNA_RNA])\n",
    "\n",
    "mrna.head(n=3)"
   ]
  },
  {
   "cell_type": "code",
   "execution_count": null,
   "metadata": {},
   "outputs": [],
   "source": [
    "i = RNA_RNA[(RNA_RNA['Category1']=='protein') | (RNA_RNA['Category1']=='TF')].index.values\n",
    "protein = RNA_RNA[(RNA_RNA['Category1']=='protein') | (RNA_RNA['Category1']=='TF')]\n",
    "entrez_pro_map[0] = entrez_pro_map[0].astype(str)\n",
    "protein = pd.merge(protein, entrez_pro_map, left_on=['Raw_ID1'],\n",
    "                right_on=[0]).drop(columns=['Raw_ID1']).rename(columns={0:'Raw_ID1'})\n",
    "protein.drop(columns=['Raw_ID1'],inplace=True)\n",
    "protein.rename(columns={1:'Raw_ID1'}, inplace=True)\n",
    "RNA_RNA.drop(index=i,inplace=True,axis=0)\n",
    "RNA_RNA = pd.concat([protein,RNA_RNA])\n",
    "\n",
    "i = RNA_RNA[(RNA_RNA['Category2']=='protein') | (RNA_RNA['Category2']=='TF')].index.values\n",
    "protein = RNA_RNA[(RNA_RNA['Category2']=='protein') | (RNA_RNA['Category2']=='TF')]\n",
    "protein = pd.merge(protein, entrez_pro_map, left_on=['Raw_ID2'],\n",
    "                right_on=[0]).drop(columns=['Raw_ID2']).rename(columns={0:'Raw_ID2'})\n",
    "protein.drop(columns=['Raw_ID2'],inplace=True)\n",
    "protein.rename(columns={1:'Raw_ID2'}, inplace=True)\n",
    "RNA_RNA.drop(index=i,inplace=True,axis=0)\n",
    "RNA_RNA = pd.concat([protein,RNA_RNA])\n",
    "\n",
    "protein.head(n=3)"
   ]
  },
  {
   "cell_type": "code",
   "execution_count": null,
   "metadata": {},
   "outputs": [],
   "source": [
    "i = RNA_RNA[(RNA_RNA['Category1']!='protein') & (RNA_RNA['Category1']!='TF') & (RNA_RNA['Category1']!='mRNA') & \n",
    "            (RNA_RNA['Category1']!='pseudo') & (RNA_RNA['Category1']!='piRNA') & (RNA_RNA['Category1']!='miRNA')\n",
    "            & (RNA_RNA['Category1']!='eRNA') & (RNA_RNA['Category1']!='circRNA') & (RNA_RNA['Category1']!='tRF')].index.values\n",
    "ncrna = RNA_RNA[(RNA_RNA['Category1']!='protein') & (RNA_RNA['Category1']!='TF') & (RNA_RNA['Category1']!='mRNA')\n",
    "            & (RNA_RNA['Category1']!='pseudo') & (RNA_RNA['Category1']!='piRNA') & (RNA_RNA['Category1']!='miRNA')\n",
    "            & (RNA_RNA['Category1']!='eRNA') & (RNA_RNA['Category1']!='circRNA') & (RNA_RNA['Category1']!='tRF')]\n",
    "rnacentral_map_human_hgnc_type = rnacentral_map_hgnc[rnacentral_map_hgnc['Organism'] ==9606]\n",
    "ncrna = pd.merge(ncrna, rnacentral_map_human_hgnc_type, left_on=['Interactor1.Symbol','Category1'],\n",
    "                right_on=[\"HGNC symbol\",'RNA category']).drop(columns=[\"Interactor1.Symbol\",'Raw_ID1','RNA category'])\n",
    "ncrna.rename(columns={\"RNAcentral ID\":'Raw_ID1'}, inplace=True)\n",
    "RNA_RNA.drop(index=i,inplace=True,axis=0)\n",
    "RNA_RNA = pd.concat([ncrna,RNA_RNA])\n",
    "\n",
    "i = RNA_RNA[(RNA_RNA['Category2']!='protein') & (RNA_RNA['Category2']!='TF') & (RNA_RNA['Category2']!='mRNA')\n",
    "            & (RNA_RNA['Category2']!='pseudo') & (RNA_RNA['Category2']!='piRNA') & (RNA_RNA['Category2']!='miRNA')\n",
    "            & (RNA_RNA['Category2']!='eRNA') & (RNA_RNA['Category2']!='circRNA') & (RNA_RNA['Category2']!='tRF')].index.values\n",
    "ncrna = RNA_RNA[(RNA_RNA['Category2']!='protein') & (RNA_RNA['Category2']!='TF') & (RNA_RNA['Category2']!='mRNA')\n",
    "            & (RNA_RNA['Category2']!='pseudo') & (RNA_RNA['Category2']!='piRNA') & (RNA_RNA['Category2']!='miRNA')\n",
    "            & (RNA_RNA['Category2']!='eRNA') & (RNA_RNA['Category2']!='circRNA') & (RNA_RNA['Category2']!='tRF')]\n",
    "ncrna = pd.merge(ncrna, rnacentral_map_human_hgnc_type, left_on=['Interactor2.Symbol','Category2'],\n",
    "                right_on=[\"HGNC symbol\",'RNA category']).drop(columns=[\"Interactor2.Symbol\",'Raw_ID2','RNA category'])\n",
    "ncrna.rename(columns={\"RNAcentral ID\":'Raw_ID2'}, inplace=True)\n",
    "RNA_RNA.drop(index=i,inplace=True,axis=0)\n",
    "RNA_RNA = pd.concat([ncrna,RNA_RNA])\n",
    "RNA_RNA = RNA_RNA[['Raw_ID1','Raw_ID2','Category1','Category2','score','strong','weak','predict']]\n",
    "\n",
    "ncrna.head(n=3)"
   ]
  },
  {
   "cell_type": "code",
   "execution_count": null,
   "metadata": {},
   "outputs": [],
   "source": [
    "a = set(RNA_RNA.Category1)\n",
    "b = set(RNA_RNA.Category2)\n",
    "a.union(b)"
   ]
  },
  {
   "cell_type": "code",
   "execution_count": null,
   "metadata": {},
   "outputs": [],
   "source": [
    "# Mislabeled data\n",
    "RNA_protein_ = RNA_RNA[(RNA_RNA['Raw_ID1'].str.startswith(\"PR\")) | (RNA_RNA['Raw_ID2'].str.startswith(\"PR\"))]"
   ]
  },
  {
   "cell_type": "code",
   "execution_count": null,
   "metadata": {},
   "outputs": [],
   "source": [
    "# End mislabeled data"
   ]
  },
  {
   "cell_type": "code",
   "execution_count": null,
   "metadata": {},
   "outputs": [],
   "source": [
    "RNA_protein = RNA_protein[(RNA_protein['Raw_ID1'].str.startswith(\"URS\")) | (RNA_protein['Raw_ID1'].str.startswith(\"ENST\")) |\n",
    "                          (RNA_protein['Raw_ID1'].str.startswith(\"hsa_circ\")) | RNA_protein['Raw_ID1'].str[0].str.isdigit()]\n",
    "\n",
    "RNA_protein = pd.concat([RNA_protein_, RNA_protein])\n",
    "\n",
    "RNA_protein['Method'] = RNA_protein['strong'].astype(str) + '//' + RNA_protein['weak'].astype(str) + '//' + RNA_protein['predict'].astype(str)\n",
    "RNA_protein['Method'] = RNA_protein['Method'].str.lower()\n",
    "RNA_protein['Method'] = RNA_protein['Method'].str.replace('nan\\/\\/','',regex=True)\n",
    "RNA_protein['Method'] = RNA_protein['Method'].str.replace('\\/\\/nan','',regex=True)\n",
    "RNA_protein['Method'] = RNA_protein['Method'].replace('nan',np.nan)\n",
    "RNA_protein['Method'] = RNA_protein['Method'].str.split('//')\n",
    "RNA_protein = RNA_protein.explode('Method')\n",
    "RNA_protein = pd.merge(RNA_protein, method_map, right_on='0_y', left_on='Method', how='left')\n",
    "RNA_protein['0_x'] = RNA_protein['0_x'].fillna(RNA_protein['Method'])\n",
    "RNA_protein = RNA_protein.drop(columns=['0_y', 'Method'])\n",
    "RNA_protein = RNA_protein.rename(columns={'0_x':'Method'})\n",
    "\n",
    "RNA_protein['Source'] = 'RNAInter'\n",
    "RNA_protein = RNA_protein.rename(columns={'Raw_ID1':':START_ID', 'Raw_ID2':':END_ID', 'score':'RNAsister_score'})\n",
    "gene_protein = RNA_protein[RNA_protein[':START_ID'].str[0].str.isdigit()]\n",
    "RNA_protein = RNA_protein[~RNA_protein[':START_ID'].str[0].str.isdigit()]\n",
    "print(gene_protein.head(n=3))\n",
    "RNA_protein.head(n=3)"
   ]
  },
  {
   "cell_type": "markdown",
   "metadata": {},
   "source": [
    "* [miRNet](https://www.mirnet.ca/miRNet/)"
   ]
  },
  {
   "cell_type": "code",
   "execution_count": null,
   "metadata": {},
   "outputs": [],
   "source": [
    "!wget https://www.dropbox.com/s/abaeonmjpftbspx/miRNet-mir-mol-hsa.csv?dl=0 -O ../resources/processed_data/unprocessed_data/miRNet-mir-mol-hsa.csv?dl=0"
   ]
  },
  {
   "cell_type": "code",
   "execution_count": null,
   "metadata": {},
   "outputs": [],
   "source": [
    "miRNA_chemical2 = pd.read_csv(unprocessed_data_location + 'miRNet-mir-mol-hsa.csv?dl=0') # ChEBI+DrugBank\n",
    "miRNA_chemical2.molecule=miRNA_chemical2.molecule.str.lower()\n",
    "miRNA_chemical2=miRNA_chemical2.drop(columns=['mirnet','mir_id','pubchem_id'])\n",
    "miRNA_chemical2['mir_acc'] = miRNA_chemical2['mir_acc'].str.strip()\n",
    "\n",
    "print(all(miRNA_chemical2['mir_acc'].isin(rnacentral_map_human_mirbase['miRBase ID'])))\n",
    "# These are all entries belonging to miRBase but not directly to RNAcentral --> use rnacentral_map_human\n",
    "print(miRNA_chemical2[~miRNA_chemical2['mir_acc'].isin(rnacentral_map_human_mirbase['miRBase ID'])]['mir_acc'].unique()[:3])\n",
    "miRNA_chemical2 = pd.merge(miRNA_chemical2, rnacentral_map_human.rename(columns={'DB ID':'mir_acc'}), on='mir_acc').drop(\n",
    "    columns=['mir_acc','DB','Organism','RNA category','DB Description']).rename(columns={'RNAcentral ID':'RNA'})\n",
    "\n",
    "miRNA_chemical2 = pd.merge(miRNA_chemical2, desc_chebi_map, left_on=['molecule'], right_on=[0], how='left').drop(\n",
    "    columns=[0,'molecule']).rename(columns={1:'Chemical'})\n",
    "miRNA_chemical2['Chemical'].fillna(miRNA_chemical2['drug_bank'], inplace=True)\n",
    "miRNA_chemical2 = miRNA_chemical2.drop(columns=['drug_bank'])\n",
    "miRNA_chemical2 = miRNA_chemical2[miRNA_chemical2['Chemical'].notna()]\n",
    "\n",
    "miRNA_chemical2 = pd.merge(miRNA_chemical2, method_map, right_on='0_y', left_on='method', how='left')\n",
    "miRNA_chemical2['0_x'] = miRNA_chemical2['0_x'].fillna(miRNA_chemical2['method'])\n",
    "miRNA_chemical2 = miRNA_chemical2.drop(columns=['0_y', 'method'])\n",
    "miRNA_chemical2 = miRNA_chemical2.rename(columns={'0_x':'Method'})\n",
    "\n",
    "miRNA_chemical2 = pd.merge(miRNA_chemical2, disease_map, right_on='0_y', left_on='condition', how='left')\n",
    "miRNA_chemical2['0_x'] = miRNA_chemical2['0_x'].fillna(miRNA_chemical2['condition'])\n",
    "miRNA_chemical2 = miRNA_chemical2.drop(columns=['0_y', 'condition'])\n",
    "miRNA_chemical2 = miRNA_chemical2.rename(columns={'0_x':'Location'})\n",
    "\n",
    "miRNA_chemical2['pmid'] = pd.to_numeric(miRNA_chemical2['pmid'], errors='coerce')\n",
    "miRNA_chemical2['pmid'] = miRNA_chemical2['pmid'].astype(str)\n",
    "miRNA_chemical2['pmid'] = miRNA_chemical2['pmid'].str.replace(\".0\", \"\")\n",
    "miRNA_chemical2['pmid'] = miRNA_chemical2['pmid'].replace(\"nan\", np.nan)\n",
    "\n",
    "print(miRNA_chemical2['expression'].unique())\n",
    "miRNA_chemical2['Source'] = 'miRNet'\n",
    "miRNA_chemical2.rename(columns={'RNA':':START_ID','Chemical':':END_ID','pmid':'PubMedID'},inplace=True)\n",
    "miRNA_chemical2.head(n=3)"
   ]
  },
  {
   "cell_type": "markdown",
   "metadata": {},
   "source": [
    "* [miRandola](http://mirandola.iit.cnr.it/index.php)"
   ]
  },
  {
   "cell_type": "code",
   "execution_count": 7,
   "metadata": {},
   "outputs": [
    {
     "name": "stdout",
     "output_type": "stream",
     "text": [
      "['No']\n"
     ]
    },
    {
     "data": {
      "text/html": [
       "<div>\n",
       "<style scoped>\n",
       "    .dataframe tbody tr th:only-of-type {\n",
       "        vertical-align: middle;\n",
       "    }\n",
       "\n",
       "    .dataframe tbody tr th {\n",
       "        vertical-align: top;\n",
       "    }\n",
       "\n",
       "    .dataframe thead th {\n",
       "        text-align: right;\n",
       "    }\n",
       "</style>\n",
       "<table border=\"1\" class=\"dataframe\">\n",
       "  <thead>\n",
       "    <tr style=\"text-align: right;\">\n",
       "      <th></th>\n",
       "      <th>miRBase Accession</th>\n",
       "      <th>Potential biomarker role defined in the literature</th>\n",
       "      <th>exRNA form</th>\n",
       "      <th>Sample</th>\n",
       "      <th>Sample source</th>\n",
       "      <th>Diseases, Cell Lines or normal status</th>\n",
       "      <th>Expression</th>\n",
       "      <th>Drug</th>\n",
       "      <th>PubMed ID</th>\n",
       "      <th>Methods</th>\n",
       "    </tr>\n",
       "  </thead>\n",
       "  <tbody>\n",
       "    <tr>\n",
       "      <th>Unnamed: 1</th>\n",
       "      <td>MIMAT0000445</td>\n",
       "      <td>yes</td>\n",
       "      <td>circulating</td>\n",
       "      <td>plasma</td>\n",
       "      <td>-</td>\n",
       "      <td>type 2 diabetes</td>\n",
       "      <td>down</td>\n",
       "      <td>aspirin</td>\n",
       "      <td>23386708</td>\n",
       "      <td>In vitro and in vivo platelet activation</td>\n",
       "    </tr>\n",
       "    <tr>\n",
       "      <th>Unnamed: 1</th>\n",
       "      <td>MIMAT0000092</td>\n",
       "      <td>unknown</td>\n",
       "      <td>circulating</td>\n",
       "      <td>plasma</td>\n",
       "      <td>-</td>\n",
       "      <td>aspirin resistance</td>\n",
       "      <td>-</td>\n",
       "      <td>aspirin</td>\n",
       "      <td>27208561</td>\n",
       "      <td>Rt-qpcr</td>\n",
       "    </tr>\n",
       "    <tr>\n",
       "      <th>Unnamed: 1</th>\n",
       "      <td>MIMAT0000445</td>\n",
       "      <td>yes</td>\n",
       "      <td>circulating</td>\n",
       "      <td>plasma</td>\n",
       "      <td>-</td>\n",
       "      <td>metastatic colorectal cancer (mcrc)</td>\n",
       "      <td>up</td>\n",
       "      <td>bevacizumab</td>\n",
       "      <td>25584492</td>\n",
       "      <td>Qrt-pcr</td>\n",
       "    </tr>\n",
       "  </tbody>\n",
       "</table>\n",
       "</div>"
      ],
      "text/plain": [
       "           miRBase Accession  \\\n",
       "Unnamed: 1      MIMAT0000445   \n",
       "Unnamed: 1      MIMAT0000092   \n",
       "Unnamed: 1      MIMAT0000445   \n",
       "\n",
       "           Potential biomarker role defined in the literature   exRNA form  \\\n",
       "Unnamed: 1                                                yes  circulating   \n",
       "Unnamed: 1                                            unknown  circulating   \n",
       "Unnamed: 1                                                yes  circulating   \n",
       "\n",
       "            Sample Sample source Diseases, Cell Lines or normal status  \\\n",
       "Unnamed: 1  plasma             -                       type 2 diabetes   \n",
       "Unnamed: 1  plasma             -                    aspirin resistance   \n",
       "Unnamed: 1  plasma             -   metastatic colorectal cancer (mcrc)   \n",
       "\n",
       "           Expression         Drug PubMed ID  \\\n",
       "Unnamed: 1       down      aspirin  23386708   \n",
       "Unnamed: 1          -      aspirin  27208561   \n",
       "Unnamed: 1         up  bevacizumab  25584492   \n",
       "\n",
       "                                             Methods  \n",
       "Unnamed: 1  In vitro and in vivo platelet activation  \n",
       "Unnamed: 1                                   Rt-qpcr  \n",
       "Unnamed: 1                                   Qrt-pcr  "
      ]
     },
     "execution_count": 7,
     "metadata": {},
     "output_type": "execute_result"
    }
   ],
   "source": [
    "drug_list=['aspirin','bevacizumab','clopidogrel',\n",
    "           'conventional%20synthetic%20disease-modifying%20antirheumatic%20drugs%20(cs-dmards)',\n",
    "           'docetaxel', 'epirubicin%20plus%20paclitaxel','fluorouracil%20(5-fu)','gemcitabine',\n",
    "           'hypomethylating%20agents%20(hmas)','lapatinib','lithium','mercury','n-acetyl%20cysteine%20(nac)',\n",
    "           'paracetamol','platinum','praziquantel%20(pzq)','sorafenib','testosterone',\n",
    "           'transarterial%20chemoembolization%20(tace)','trastuzumab','xuezhikang'\n",
    "          ]\n",
    "miRNA_chemical_mirandola=[] # ChEBI\n",
    "for drug in drug_list:\n",
    "    miRNA_chemical = pd.read_html('http://mirandola.iit.cnr.it/view_drug.php?LV='+drug)\n",
    "    for miRNA in range(len(miRNA_chemical)):\n",
    "        miRNA_chemical = pd.read_html('http://mirandola.iit.cnr.it/view_drug.php?LV='+drug,header=0)[miRNA]\n",
    "        miRNA_chemical = miRNA_chemical.T\n",
    "        miRNA_chemical.columns = miRNA_chemical.iloc[0]\n",
    "        miRNA_chemical = miRNA_chemical.drop(index=miRNA_chemical.iloc[0].name)\n",
    "        miRNA_chemical = miRNA_chemical.drop(index=miRNA_chemical.iloc[1].name)\n",
    "        miRNA_chemical = miRNA_chemical.drop(miRNA_chemical.iloc[:, :16],axis = 1)\n",
    "        miRNA_chemical_mirandola.append(miRNA_chemical) \n",
    "\n",
    "miRNA_chemical_mirandola = pd.concat(miRNA_chemical_mirandola)\n",
    "print(miRNA_chemical_mirandola['Data imported from external databases?'].unique())\n",
    "miRNA_chemical_mirandola = miRNA_chemical_mirandola[miRNA_chemical_mirandola['miRBase Accession'].notna()]\n",
    "miRNA_chemical_mirandola=miRNA_chemical_mirandola.drop(columns=['RNA from literature','RNA class', 'miRBase ID','Experiment Description/Results',\n",
    "                                                                'miRBase family', 'Organism','First Author','Journal',\n",
    "                                                                'Title','Year of publication','Data imported from external databases?'])\n",
    "miRNA_chemical_mirandola.head(n=3)     "
   ]
  },
  {
   "cell_type": "code",
   "execution_count": 8,
   "metadata": {},
   "outputs": [
    {
     "name": "stdout",
     "output_type": "stream",
     "text": [
      "False\n",
      "['MIMAT0005905' 'MIMAT0001818']\n"
     ]
    },
    {
     "data": {
      "text/html": [
       "<div>\n",
       "<style scoped>\n",
       "    .dataframe tbody tr th:only-of-type {\n",
       "        vertical-align: middle;\n",
       "    }\n",
       "\n",
       "    .dataframe tbody tr th {\n",
       "        vertical-align: top;\n",
       "    }\n",
       "\n",
       "    .dataframe thead th {\n",
       "        text-align: right;\n",
       "    }\n",
       "</style>\n",
       "<table border=\"1\" class=\"dataframe\">\n",
       "  <thead>\n",
       "    <tr style=\"text-align: right;\">\n",
       "      <th></th>\n",
       "      <th>Potential biomarker role defined in the literature</th>\n",
       "      <th>exRNA form</th>\n",
       "      <th>Sample</th>\n",
       "      <th>Sample source</th>\n",
       "      <th>Expression</th>\n",
       "      <th>Drug</th>\n",
       "      <th>PubMedID</th>\n",
       "      <th>:START_ID</th>\n",
       "      <th>:END_ID</th>\n",
       "      <th>Method</th>\n",
       "      <th>Location</th>\n",
       "      <th>Source</th>\n",
       "    </tr>\n",
       "  </thead>\n",
       "  <tbody>\n",
       "    <tr>\n",
       "      <th>0</th>\n",
       "      <td>yes</td>\n",
       "      <td>circulating</td>\n",
       "      <td>plasma</td>\n",
       "      <td>-</td>\n",
       "      <td>down</td>\n",
       "      <td>aspirin</td>\n",
       "      <td>23386708</td>\n",
       "      <td>URS00001F1DA8</td>\n",
       "      <td>CHEBI_15365</td>\n",
       "      <td>in vitro and in vivo platelet activation</td>\n",
       "      <td>type 2 diabetes mellitus</td>\n",
       "      <td>miRandola</td>\n",
       "    </tr>\n",
       "    <tr>\n",
       "      <th>1</th>\n",
       "      <td>unknown</td>\n",
       "      <td>circulating</td>\n",
       "      <td>plasma</td>\n",
       "      <td>-</td>\n",
       "      <td>-</td>\n",
       "      <td>aspirin</td>\n",
       "      <td>27208561</td>\n",
       "      <td>URS00003768C5</td>\n",
       "      <td>CHEBI_15365</td>\n",
       "      <td>rt-qpcr</td>\n",
       "      <td>aspirin resistance</td>\n",
       "      <td>miRandola</td>\n",
       "    </tr>\n",
       "    <tr>\n",
       "      <th>2</th>\n",
       "      <td>yes</td>\n",
       "      <td>circulating</td>\n",
       "      <td>plasma</td>\n",
       "      <td>-</td>\n",
       "      <td>up</td>\n",
       "      <td>bevacizumab</td>\n",
       "      <td>25584492</td>\n",
       "      <td>URS00001F1DA8</td>\n",
       "      <td>DB00112</td>\n",
       "      <td>quantitative reverse transcriptase pcr</td>\n",
       "      <td>metastatic colorectal cancer (mcrc)</td>\n",
       "      <td>miRandola</td>\n",
       "    </tr>\n",
       "  </tbody>\n",
       "</table>\n",
       "</div>"
      ],
      "text/plain": [
       "  Potential biomarker role defined in the literature   exRNA form  Sample  \\\n",
       "0                                                yes  circulating  plasma   \n",
       "1                                            unknown  circulating  plasma   \n",
       "2                                                yes  circulating  plasma   \n",
       "\n",
       "  Sample source Expression         Drug  PubMedID      :START_ID      :END_ID  \\\n",
       "0             -       down      aspirin  23386708  URS00001F1DA8  CHEBI_15365   \n",
       "1             -          -      aspirin  27208561  URS00003768C5  CHEBI_15365   \n",
       "2             -         up  bevacizumab  25584492  URS00001F1DA8      DB00112   \n",
       "\n",
       "                                     Method  \\\n",
       "0  in vitro and in vivo platelet activation   \n",
       "1                                   rt-qpcr   \n",
       "2    quantitative reverse transcriptase pcr   \n",
       "\n",
       "                              Location     Source  \n",
       "0             type 2 diabetes mellitus  miRandola  \n",
       "1                   aspirin resistance  miRandola  \n",
       "2  metastatic colorectal cancer (mcrc)  miRandola  "
      ]
     },
     "execution_count": 8,
     "metadata": {},
     "output_type": "execute_result"
    }
   ],
   "source": [
    "print(all(miRNA_chemical_mirandola['miRBase Accession'].isin(rnacentral_map_human_mirbase['miRBase ID'])))\n",
    "print(miRNA_chemical_mirandola[~miRNA_chemical_mirandola['miRBase Accession'].isin(rnacentral_map_human_mirbase[\n",
    "    'miRBase ID'])]['miRBase Accession'].unique()[:3])\n",
    "# MIMAT0001818 is a dre sequence, not a human one\n",
    "miRNA_chemical_mirandola = pd.merge(miRNA_chemical_mirandola, rnacentral_map_human_mirbase.rename(columns={'miRBase ID':'miRBase Accession'}),\n",
    "                                    on='miRBase Accession', how='left').rename(columns={'RNAcentral ID':'RNA'})\n",
    "miRNA_chemical_mirandola['miRBase Accession'] = miRNA_chemical_mirandola['miRBase Accession'].str.replace('MIMAT0005905', 'URS000047047A') \n",
    "miRNA_chemical_mirandola['RNA'] = miRNA_chemical_mirandola['RNA'].fillna(miRNA_chemical_mirandola['miRBase Accession'])\n",
    "miRNA_chemical_mirandola = miRNA_chemical_mirandola.drop(columns=['miRBase Accession'])\n",
    "miRNA_chemical_mirandola = miRNA_chemical_mirandola[miRNA_chemical_mirandola['RNA'] != 'MIMAT0001818']\n",
    "miRNA_chemical_mirandola['Drug'] = miRNA_chemical_mirandola['Drug'].str.strip()\n",
    "miRNA_chemical_mirandola = pd.merge(miRNA_chemical_mirandola, desc_chebi_map, left_on=['Drug'], right_on=[0]).drop(\n",
    "    columns=[0]).rename(columns={1:'Chemical'})\n",
    "\n",
    "miRNA_chemical_mirandola['Methods'] = miRNA_chemical_mirandola['Methods'].str.lower()\n",
    "miRNA_chemical_mirandola = pd.merge(miRNA_chemical_mirandola, method_map, right_on='0_y', left_on='Methods', how='left')\n",
    "miRNA_chemical_mirandola['0_x'] = miRNA_chemical_mirandola['0_x'].fillna(miRNA_chemical_mirandola['Methods'])\n",
    "miRNA_chemical_mirandola = miRNA_chemical_mirandola.drop(columns=['0_y', 'Methods'])\n",
    "miRNA_chemical_mirandola = miRNA_chemical_mirandola.rename(columns={'0_x':'Method'})\n",
    "\n",
    "miRNA_chemical_mirandola['Diseases, Cell Lines or normal status'] = miRNA_chemical_mirandola['Diseases, Cell Lines or normal status'].str.lower()\n",
    "miRNA_chemical_mirandola = pd.merge(miRNA_chemical_mirandola, disease_map, right_on='0_y', left_on='Diseases, Cell Lines or normal status', how='left')\n",
    "miRNA_chemical_mirandola['0_x'] = miRNA_chemical_mirandola['0_x'].fillna(miRNA_chemical_mirandola['Diseases, Cell Lines or normal status'])\n",
    "miRNA_chemical_mirandola = miRNA_chemical_mirandola.drop(columns=['0_y', 'Diseases, Cell Lines or normal status'])\n",
    "miRNA_chemical_mirandola = miRNA_chemical_mirandola.rename(columns={'0_x':'Location'})\n",
    "\n",
    "miRNA_chemical_mirandola['PubMed ID'] = pd.to_numeric(miRNA_chemical_mirandola['PubMed ID'], errors='coerce')\n",
    "miRNA_chemical_mirandola['PubMed ID'] = miRNA_chemical_mirandola['PubMed ID'].astype(str)\n",
    "miRNA_chemical_mirandola['PubMed ID'] = miRNA_chemical_mirandola['PubMed ID'].str.replace(\".0\", \"\")\n",
    "miRNA_chemical_mirandola['PubMed ID'] = miRNA_chemical_mirandola['PubMed ID'].replace(\"nan\", np.nan)\n",
    "\n",
    "miRNA_chemical['Source'] = 'miRNet, SM2miR'\n",
    "miRNA_chemical['Source'] = miRNA_chemical['Source'].str.split(\", \")\n",
    "miRNA_chemical = miRNA_chemical.explode('Source')\n",
    "miRNA_chemical_mirandola['Source'] = 'miRandola'\n",
    "miRNA_chemical_mirandola.rename(columns={'RNA':':START_ID','Chemical':':END_ID','PubMed ID':'PubMedID'},inplace=True)\n",
    "miRNA_chemical_mirandola.head(n=3)"
   ]
  },
  {
   "cell_type": "code",
   "execution_count": 9,
   "metadata": {},
   "outputs": [
    {
     "data": {
      "text/html": [
       "<div>\n",
       "<style scoped>\n",
       "    .dataframe tbody tr th:only-of-type {\n",
       "        vertical-align: middle;\n",
       "    }\n",
       "\n",
       "    .dataframe tbody tr th {\n",
       "        vertical-align: top;\n",
       "    }\n",
       "\n",
       "    .dataframe thead th {\n",
       "        text-align: right;\n",
       "    }\n",
       "</style>\n",
       "<table border=\"1\" class=\"dataframe\">\n",
       "  <thead>\n",
       "    <tr style=\"text-align: right;\">\n",
       "      <th></th>\n",
       "      <th>PubMedID</th>\n",
       "      <th>:START_ID</th>\n",
       "      <th>:END_ID</th>\n",
       "      <th>Method</th>\n",
       "      <th>Location</th>\n",
       "      <th>Source</th>\n",
       "    </tr>\n",
       "  </thead>\n",
       "  <tbody>\n",
       "    <tr>\n",
       "      <th>1</th>\n",
       "      <td>27208561</td>\n",
       "      <td>URS00003768C5</td>\n",
       "      <td>CHEBI_15365</td>\n",
       "      <td>rt-qpcr</td>\n",
       "      <td>aspirin resistance</td>\n",
       "      <td>miRandola</td>\n",
       "    </tr>\n",
       "  </tbody>\n",
       "</table>\n",
       "</div>"
      ],
      "text/plain": [
       "   PubMedID      :START_ID      :END_ID   Method            Location  \\\n",
       "1  27208561  URS00003768C5  CHEBI_15365  rt-qpcr  aspirin resistance   \n",
       "\n",
       "      Source  \n",
       "1  miRandola  "
      ]
     },
     "execution_count": 9,
     "metadata": {},
     "output_type": "execute_result"
    }
   ],
   "source": [
    "miRNA_chemical_mirandola_intwith = miRNA_chemical_mirandola[miRNA_chemical_mirandola['Expression']=='-'].drop(\n",
    "    columns=['Expression','Potential biomarker role defined in the literature','exRNA form','Sample','Sample source', 'Drug'])\n",
    "miRNA_chemical_mirandola_intwith.head(n=3)"
   ]
  },
  {
   "cell_type": "markdown",
   "metadata": {},
   "source": [
    "* [LncRNAWiki](https://ngdc.cncb.ac.cn/lncrnawiki/)"
   ]
  },
  {
   "cell_type": "code",
   "execution_count": null,
   "metadata": {},
   "outputs": [],
   "source": [
    "LncRNAWiki = pd.read_csv(unprocessed_data_location+'LncRNAWiki_BrowseDownload.csv') # TF (PRO) \n",
    "lncRNA_protein2 = LncRNAWiki[LncRNAWiki['target_type'].notna()]\n",
    "# We don't care about miRNA wrongly labeled as TF as they will be discarded when terms will be mapped on PRO\n",
    "lncRNA_protein2 = pd.concat([lncRNA_protein2[lncRNA_protein2.target_type.str.contains('TF')],\n",
    "    lncRNA_protein2[lncRNA_protein2.target_type.str.contains('protein')]])\n",
    "lncRNA_protein2.drop(columns=['symbol','synonyms','gene_locus','gene_id','conservation_ortholog','modification_detail','biological_process',\n",
    "                            'conservation_species','target_interaction','description','conservation',\n",
    "                            'biological_context', 'genome_variation','variation_detail','epigenetic_modification',\n",
    "                            'expression','regulator_type','regulator_interaction','target_type','molecular_function',\n",
    "                            'regulator','regulator_effect','target_effect','functional_mechanism','clinical_detail','expression_detail'\n",
    "                            ],inplace=True)\n",
    "lncRNA_protein2['transcript_id'] = lncRNA_protein2['transcript_id'].str.split(',')\n",
    "lncRNA_protein2 = lncRNA_protein2.explode('transcript_id')\n",
    "lncRNA_protein2 = lncRNA_protein2[lncRNA_protein2['transcript_id'].notna()]\n",
    "lncRNA_protein2 = pd.merge(lncRNA_protein2, rnacentral_map_human_lncbook[['RNAcentral ID', 'LncBook Transcript ID']].drop_duplicates().rename(\n",
    "    columns={'LncBook Transcript ID':'transcript_id'}), on = 'transcript_id').drop(columns=['transcript_id']).rename(\n",
    "        columns={'RNAcentral ID':'RNA'})\n",
    "lncRNA_protein2 = pd.merge(lncRNA_protein2, symbol_to_pro.rename(columns={0:'target'}), on='target').drop(columns=['target']).rename(columns={\n",
    "        1:'TF'})\n",
    "\n",
    "lncRNA_protein2['pmid'] = pd.to_numeric(lncRNA_protein2['pmid'], errors='coerce')\n",
    "lncRNA_protein2['pmid'] = lncRNA_protein2['pmid'].astype(str)\n",
    "lncRNA_protein2['pmid'] = lncRNA_protein2['pmid'].str.replace(\".0\", \"\")\n",
    "lncRNA_protein2['pmid'] = lncRNA_protein2['pmid'].replace(\"<NA>\", np.nan)\n",
    "\n",
    "lncRNA_protein2['drug'] = lncRNA_protein2['drug'].str.lower().str.split(\";\")\n",
    "lncRNA_protein2 = lncRNA_protein2.explode('drug')\n",
    "\n",
    "lncRNA_protein2['experimental_method'] = lncRNA_protein2['experimental_method'].str.lower().str.split(\";\")\n",
    "lncRNA_protein2 = lncRNA_protein2.explode('experimental_method')\n",
    "lncRNA_protein2 = pd.merge(lncRNA_protein2, method_map, right_on='0_y', left_on='experimental_method', how='left')\n",
    "lncRNA_protein2['0_x'] = lncRNA_protein2['0_x'].fillna(lncRNA_protein2['experimental_method'])\n",
    "lncRNA_protein2 = lncRNA_protein2.drop(columns=['0_y', 'experimental_method'])\n",
    "lncRNA_protein2 = lncRNA_protein2.rename(columns={'0_x':'Method','pmid':'PubMedID', 'drug':'Drug', 'regulator':'Regulator', 'target':'Interactor'})\n",
    "\n",
    "lncRNA_protein2['tissue/cell line'] = lncRNA_protein2['tissue/cell line'].str.lower().str.split(\";\")\n",
    "lncRNA_protein2 = lncRNA_protein2.explode('tissue/cell line')\n",
    "lncRNA_protein2 = pd.merge(lncRNA_protein2, location_map, right_on='0_y', left_on='tissue/cell line', how='left')\n",
    "lncRNA_protein2['0_x'] = lncRNA_protein2['0_x'].fillna(lncRNA_protein2['tissue/cell line'])\n",
    "lncRNA_protein2 = lncRNA_protein2.drop(columns=['0_y', 'tissue/cell line'])\n",
    "lncRNA_protein2 = lncRNA_protein2.rename(columns={'0_x':'Location'})\n",
    "\n",
    "lncRNA_protein2['context_detail'] = lncRNA_protein2['context_detail'].str.lower().str.split(\";\")\n",
    "lncRNA_protein2 = lncRNA_protein2.explode('context_detail')\n",
    "lncRNA_protein2 = pd.merge(lncRNA_protein2, disease_map, right_on='0_y', left_on='context_detail', how='left')\n",
    "lncRNA_protein2['0_x'] = lncRNA_protein2['0_x'].fillna(lncRNA_protein2['context_detail'])\n",
    "lncRNA_protein2 = lncRNA_protein2.drop(columns=['0_y', 'context_detail'])\n",
    "lncRNA_protein2 = lncRNA_protein2.rename(columns={'0_x':'Location2'})\n",
    "\n",
    "lncRNA_protein2 = pd.concat([lncRNA_protein2.drop(columns=['Location2']),\n",
    "                             lncRNA_protein2.drop(columns=['Location']).rename(columns={'Location2':'Location'})])\n",
    "\n",
    "lncRNA_protein2['Source'] = 'LncRNAWiki'\n",
    "lncRNA_protein2.rename(columns={'RNA':':START_ID','TF':':END_ID'},inplace=True)\n",
    "lncRNA_protein2.head(n=3)"
   ]
  },
  {
   "cell_type": "markdown",
   "metadata": {},
   "source": [
    "* [LncRNAWiki](https://ngdc.cncb.ac.cn/lncrnawiki/)"
   ]
  },
  {
   "cell_type": "code",
   "execution_count": null,
   "metadata": {},
   "outputs": [],
   "source": [
    "LncRNAWiki = pd.read_csv(unprocessed_data_location+'LncRNAWiki_BrowseDownload.csv') # ChEBI+DrugBank\n",
    "lncRNA_chemical = LncRNAWiki[LncRNAWiki['drug'].notna()]\n",
    "lncRNA_chemical = lncRNA_chemical.drop(columns=['symbol','synonyms','gene_locus','gene_id','conservation_ortholog','clinical_detail',\n",
    "                                        'modification_detail','target_interaction', 'conservation_species','target_effect',\n",
    "                                        'description','conservation','target_type','biological_context','regulator_effect',\n",
    "                                        'regulator_interaction', 'genome_variation', 'variation_detail', 'molecular_function',\n",
    "                                        'expression','regulator_type','functional_mechanism'])\n",
    "lncRNA_chemical = lncRNA_chemical.dropna(axis=1, how='all')\n",
    "\n",
    "lncRNA_chemical['transcript_id'] = lncRNA_chemical['transcript_id'].str.split(',')\n",
    "lncRNA_chemical = lncRNA_chemical.explode('transcript_id')\n",
    "lncRNA_chemical = lncRNA_chemical[lncRNA_chemical['transcript_id'].notna()]\n",
    "\n",
    "lncRNA_chemical['drug'] = lncRNA_chemical['drug'].str.split(',')\n",
    "lncRNA_chemical = lncRNA_chemical.explode('drug')\n",
    "lncRNA_chemical = lncRNA_chemical[lncRNA_chemical['drug'].notna()]\n",
    "\n",
    "lncRNA_chemical['pmid'] = pd.to_numeric(lncRNA_chemical['pmid'], errors='coerce')\n",
    "lncRNA_chemical['pmid'] = lncRNA_chemical['pmid'].astype(str)\n",
    "lncRNA_chemical['pmid'] = lncRNA_chemical['pmid'].str.replace(\".0\", \"\")\n",
    "lncRNA_chemical['pmid'] = lncRNA_chemical['pmid'].replace(\"<NA>\", np.nan)\n",
    "\n",
    "lncRNA_chemical['experimental_method'] = lncRNA_chemical['experimental_method'].str.lower().str.split(\";\")\n",
    "lncRNA_chemical = lncRNA_chemical.explode('experimental_method')\n",
    "lncRNA_chemical = pd.merge(lncRNA_chemical, method_map, right_on='0_y', left_on='experimental_method', how='left')\n",
    "lncRNA_chemical['0_x'] = lncRNA_chemical['0_x'].fillna(lncRNA_chemical['experimental_method'])\n",
    "lncRNA_chemical = lncRNA_chemical.drop(columns=['0_y', 'experimental_method'])\n",
    "lncRNA_chemical = lncRNA_chemical.rename(columns={'0_x':'Method','pmid':'PubMedID', 'regulator':'Regulator', 'target':'Interactor'})\n",
    "\n",
    "lncRNA_chemical['tissue/cell line'] = lncRNA_chemical['tissue/cell line'].str.lower().str.split(\";\")\n",
    "lncRNA_chemical = lncRNA_chemical.explode('tissue/cell line')\n",
    "lncRNA_chemical = pd.merge(lncRNA_chemical, location_map, right_on='0_y', left_on='tissue/cell line', how='left')\n",
    "lncRNA_chemical['0_x'] = lncRNA_chemical['0_x'].fillna(lncRNA_chemical['tissue/cell line'])\n",
    "lncRNA_chemical = lncRNA_chemical.drop(columns=['0_y', 'tissue/cell line'])\n",
    "lncRNA_chemical = lncRNA_chemical.rename(columns={'0_x':'Location'})\n",
    "\n",
    "lncRNA_chemical['context_detail'] = lncRNA_chemical['context_detail'].str.lower().str.split(\";\")\n",
    "lncRNA_chemical = lncRNA_chemical.explode('context_detail')\n",
    "lncRNA_chemical = pd.merge(lncRNA_chemical, disease_map, right_on='0_y', left_on='context_detail', how='left')\n",
    "lncRNA_chemical['0_x'] = lncRNA_chemical['0_x'].fillna(lncRNA_chemical['context_detail'])\n",
    "lncRNA_chemical = lncRNA_chemical.drop(columns=['0_y', 'context_detail'])\n",
    "lncRNA_chemical = lncRNA_chemical.rename(columns={'0_x':'Location2'})\n",
    "\n",
    "lncRNA_chemical = pd.concat([lncRNA_chemical.drop(columns=['Location2']),\n",
    "                             lncRNA_chemical.drop(columns=['Location']).rename(columns={'Location2':'Location'})])\n",
    "\n",
    "lncRNA_chemical = pd.merge(lncRNA_chemical, rnacentral_map_human_lncbook[['LncBook Transcript ID', 'RNAcentral ID']].drop_duplicates().rename(\n",
    "    columns={'LncBook Transcript ID':'transcript_id'}), on = 'transcript_id').drop(columns=['transcript_id']).rename(\n",
    "        columns={'RNAcentral ID':'RNA'})\n",
    "lncRNA_chemical['Source'] = 'LncRNAWiki'\n",
    "lncRNA_chemical_chebi = pd.merge(desc_chebi_map.rename(columns={0:'drug'}), lncRNA_chemical, on=['drug']).drop(\n",
    "    columns=['drug']).rename(columns={1:'Drug'})\n",
    "\n",
    "lncRNA_chemical_chebi = lncRNA_chemical_chebi.rename(columns={'Drug':':END_ID','RNA':':START_ID'})\n",
    "lncRNA_chemical_chebi.head(n=3)"
   ]
  },
  {
   "cell_type": "code",
   "execution_count": null,
   "metadata": {},
   "outputs": [],
   "source": [
    "lncRNA_chemical_chebi_intwith = lncRNA_chemical_chebi[\n",
    "    lncRNA_chemical_chebi['expression_detail'] == 'Differentially expressed'].drop(columns=['expression_detail'])\n",
    "lncRNA_chemical_chebi_intwith.head(n=3)"
   ]
  },
  {
   "cell_type": "code",
   "execution_count": null,
   "metadata": {},
   "outputs": [],
   "source": [
    "RNA_interacts_with_OBO = pd.concat([lncRNA_chemical_chebi_intwith, lncRNA_protein2, miRNA_chemical_mirandola_intwith,\n",
    "                                    miRNA_chemical2, RNA_protein, RNA_hisMod, RNA_chemical, ViRBase])\n",
    "RNA_interacts_with_OBO = RNA_interacts_with_OBO.groupby([':START_ID',':END_ID']).agg({'Regulator':set, 'Interactor':set,\n",
    "                                                                                      'PubMedID':set, 'Method':set, 'Location':set,\n",
    "                                                                                      'Source':set, 'Drug':set,\n",
    "                                                                                      'RNAsister_score':np.mean}).reset_index()\n",
    "RNA_interacts_with_OBO[\":TYPE\"] = \"interacts_with\"\n",
    "RNA_interacts_with_OBO.to_pickle(unprocessed_edge_data_location+'RNA_interacts_with_OBO.pkl')\n",
    "OBO_interacts_with_RNA = RNA_interacts_with_OBO.rename(columns={':START_ID':':END_ID',':END_ID':':START_ID'})\n",
    "OBO_interacts_with_RNA.to_pickle(unprocessed_edge_data_location+'OBO_interacts_with_RNA.pkl')\n",
    "OBO_interacts_with_RNA.head(n=3)"
   ]
  },
  {
   "cell_type": "markdown",
   "metadata": {},
   "source": [
    "***\n",
    "### OBO - http://purl.obolibrary.org/obo/RO_0011024 (indirectly positively regulates quantity of) - RNA"
   ]
  },
  {
   "cell_type": "markdown",
   "metadata": {},
   "source": [
    "* [SM2miR](http://www.jianglab.cn/SM2miR/)"
   ]
  },
  {
   "cell_type": "code",
   "execution_count": null,
   "metadata": {},
   "outputs": [],
   "source": [
    "miRNA_chemical = pd.read_excel(unprocessed_data_location + 'SM2miR3.xls') # ChEBI+DrugBank\n",
    "miRNA_chemical = miRNA_chemical[miRNA_chemical['Species'].str.contains('sapiens')]\n",
    "miRNA_chemical = miRNA_chemical.drop(columns=['miRNA','FDA','CID','Species','Year','Reference','Support'])\n",
    "miRNA_chemical = miRNA_chemical[(~miRNA_chemical['miRBase'].isna())]\n",
    "\n",
    "miRNA_chemical['small melocule'] = miRNA_chemical['small melocule'].str.lower().str.replace(\"\\(.*?\\)| \\(.*?\\)\", '').str.rstrip()\n",
    "miRNA_chemical['small melocule'] = miRNA_chemical['small melocule'].str.split('+')\n",
    "miRNA_chemical = miRNA_chemical.explode('small melocule')\n",
    "miRNA_chemical['small melocule'] = miRNA_chemical['small melocule'].str.rstrip().str.lstrip()\n",
    "\n",
    "print(all(miRNA_chemical['miRBase'].isin(rnacentral_map_human_mirbase['miRBase ID'])))\n",
    "# These are all entries not belonging to miRBase but to external databases\n",
    "print(miRNA_chemical[~miRNA_chemical['miRBase'].isin(rnacentral_map_human_mirbase['miRBase ID'])]['miRBase'].unique()[:3])\n",
    "miRNA_chemical = pd.merge(miRNA_chemical, rnacentral_map_human_mirbase.rename(columns={'miRBase ID':'miRBase'}), on='miRBase').drop(\n",
    "    columns=['miRBase']).rename(columns={'RNAcentral ID':'RNA'})\n",
    "\n",
    "miRNA_chemical = pd.merge(miRNA_chemical, desc_chebi_map, left_on=['small melocule'], right_on=[0], how='left').drop(\n",
    "    columns=[0,'small melocule']).rename(columns={1:'Chemical'})\n",
    "miRNA_chemical['Chemical'].fillna(miRNA_chemical['DB'], inplace=True)\n",
    "miRNA_chemical = miRNA_chemical.drop(columns=['DB'])\n",
    "miRNA_chemical = miRNA_chemical[miRNA_chemical['Chemical'].notna()]\n",
    "\n",
    "print(miRNA_chemical['Expression pattern of miRNA'].unique())\n",
    "miRNA_chemical['Expression pattern of miRNA'] = miRNA_chemical['Expression pattern of miRNA'].str.strip().replace({\n",
    "    'up-regualted': 'up-regulated', 'up-regulated ': 'up-regulated', 'down-regualted': 'down-regulated'})\n",
    "\n",
    "miRNA_chemical['PMID'] = pd.to_numeric(miRNA_chemical['PMID'], errors='coerce')\n",
    "miRNA_chemical['PMID'] = miRNA_chemical['PMID'].astype(str)\n",
    "miRNA_chemical['PMID'] = miRNA_chemical['PMID'].str.replace(\".0\", \"\")\n",
    "miRNA_chemical['PMID'] = miRNA_chemical['PMID'].replace(\"<NA>\", np.nan)\n",
    "\n",
    "miRNA_chemical['Detection method '] = miRNA_chemical['Detection method '].str.lower()\n",
    "miRNA_chemical = pd.merge(miRNA_chemical, method_map, right_on='0_y', left_on='Detection method ', how='left')\n",
    "miRNA_chemical['0_x'] = miRNA_chemical['0_x'].fillna(miRNA_chemical['Detection method '])\n",
    "miRNA_chemical = miRNA_chemical.drop(columns=['0_y', 'Detection method '])\n",
    "miRNA_chemical = miRNA_chemical.rename(columns={'0_x':'Method','PMID':'PubMedID', 'regulator':'Regulator', 'target':'Interactor'})\n",
    "\n",
    "miRNA_chemical['Condition'] = miRNA_chemical['Condition'].str.lower()\n",
    "miRNA_chemical = pd.merge(miRNA_chemical, location_map, right_on='0_y', left_on='Condition', how='left')\n",
    "miRNA_chemical['0_x'] = miRNA_chemical['0_x'].fillna(miRNA_chemical['Condition'])\n",
    "miRNA_chemical = miRNA_chemical.drop(columns=['0_y', 'Condition'])\n",
    "miRNA_chemical = miRNA_chemical.rename(columns={'0_x':'Location'})\n",
    "\n",
    "miRNA_chemical['Source'] = 'miRNet, SM2miR'\n",
    "miRNA_chemical['Source'] =  miRNA_chemical['Source'].str.split(\", \")\n",
    "miRNA_chemical = miRNA_chemical.explode('Source')\n",
    "miRNA_chemical = miRNA_chemical.rename(columns={'RNA':':END_ID','Chemical':':START_ID'})\n",
    "miRNA_chemical.head(n=3)"
   ]
  },
  {
   "cell_type": "code",
   "execution_count": null,
   "metadata": {},
   "outputs": [],
   "source": [
    "miRNA_chemical_up = miRNA_chemical[miRNA_chemical['Expression pattern of miRNA'] == 'down-regulated'].drop(columns=['Expression pattern of miRNA'])\n",
    "miRNA_chemical_up.head(n=3)"
   ]
  },
  {
   "cell_type": "markdown",
   "metadata": {},
   "source": [
    "* [miRandola](http://mirandola.iit.cnr.it/index.php)"
   ]
  },
  {
   "cell_type": "code",
   "execution_count": null,
   "metadata": {},
   "outputs": [],
   "source": [
    "miRNA_chemical_mirandola_up = miRNA_chemical_mirandola[miRNA_chemical_mirandola['Expression']=='up'].rename(\n",
    "    columns={':START_ID':':END_ID',':END_ID':':START_ID'})\n",
    "miRNA_chemical_mirandola_up.head(n=3)"
   ]
  },
  {
   "cell_type": "markdown",
   "metadata": {},
   "source": [
    "* [LncRNAWiki](https://ngdc.cncb.ac.cn/lncrnawiki/)"
   ]
  },
  {
   "cell_type": "code",
   "execution_count": null,
   "metadata": {},
   "outputs": [],
   "source": [
    "lncRNA_chemical_chebi_up = lncRNA_chemical_chebi[\n",
    "    lncRNA_chemical_chebi['expression_detail'] == 'Up-regulated'].drop(columns=['expression_detail'])\n",
    "lncRNA_chemical_chebi_up = lncRNA_chemical_chebi_up.rename(columns={':START_ID':':END_ID',':END_ID':':START_ID'})\n",
    "lncRNA_chemical_chebi_up.head(n=1)"
   ]
  },
  {
   "cell_type": "code",
   "execution_count": null,
   "metadata": {},
   "outputs": [],
   "source": [
    "OBO_indirectly_positively_regulates_quantity_of_RNA = pd.concat([lncRNA_chemical_chebi_up,\n",
    "                                                                 miRNA_chemical_mirandola_up,\n",
    "                                                                 miRNA_chemical_up])\n",
    "OBO_indirectly_positively_regulates_quantity_of_RNA = OBO_indirectly_positively_regulates_quantity_of_RNA.groupby(\n",
    "    [':START_ID',':END_ID']).agg({'Regulator':set, 'Interactor':set, 'PubMedID':set, 'Method':set, 'Location':set,'Source':set}).reset_index()\n",
    "OBO_indirectly_positively_regulates_quantity_of_RNA[\":TYPE\"] = \"indirectly_positively_regulates_quantity_of\"\n",
    "OBO_indirectly_positively_regulates_quantity_of_RNA.to_pickle(unprocessed_edge_data_location+'OBO_indirectly_positively_regulates_quantity_of_RNA.pkl')\n",
    "OBO_indirectly_positively_regulates_quantity_of_RNA.head(n=3)"
   ]
  },
  {
   "cell_type": "markdown",
   "metadata": {},
   "source": [
    "***\n",
    "### OBO - http://purl.obolibrary.org/obo/RO_0011023 (indirectly negatively regulates quantity of) - RNA"
   ]
  },
  {
   "cell_type": "markdown",
   "metadata": {},
   "source": [
    "* [SM2miR](http://www.jianglab.cn/SM2miR/)"
   ]
  },
  {
   "cell_type": "code",
   "execution_count": null,
   "metadata": {},
   "outputs": [],
   "source": [
    "miRNA_chemical_down = miRNA_chemical[miRNA_chemical['Expression pattern of miRNA'] == 'down-regulated'].drop(\n",
    "    columns=['Expression pattern of miRNA'])\n",
    "miRNA_chemical_down.head(n=3)"
   ]
  },
  {
   "cell_type": "markdown",
   "metadata": {},
   "source": [
    "* [miRandola](http://mirandola.iit.cnr.it/index.php)"
   ]
  },
  {
   "cell_type": "code",
   "execution_count": null,
   "metadata": {},
   "outputs": [],
   "source": [
    "miRNA_chemical_mirandola_down = miRNA_chemical_mirandola[miRNA_chemical_mirandola['Expression']=='down'].drop(columns=['Expression'])\n",
    "miRNA_chemical_mirandola_down = miRNA_chemical_mirandola_down.rename(columns={':START_ID':':END_ID',':END_ID':':START_ID'})\n",
    "miRNA_chemical_mirandola_down.head(n=3)"
   ]
  },
  {
   "cell_type": "markdown",
   "metadata": {},
   "source": [
    "* [LncRNAWiki](https://ngdc.cncb.ac.cn/lncrnawiki/)"
   ]
  },
  {
   "cell_type": "code",
   "execution_count": null,
   "metadata": {},
   "outputs": [],
   "source": [
    "lncRNA_chemical_chebi_down = lncRNA_chemical_chebi[\n",
    "    lncRNA_chemical_chebi['expression_detail'] == 'Down-regulated'].drop(columns=['expression_detail'])\n",
    "lncRNA_chemical_chebi_down = lncRNA_chemical_chebi_down.rename(columns={':START_ID':':END_ID',':END_ID':':START_ID'})\n",
    "lncRNA_chemical_chebi_down.head(n=1)"
   ]
  },
  {
   "cell_type": "code",
   "execution_count": null,
   "metadata": {},
   "outputs": [],
   "source": [
    "OBO_indirectly_negatively_regulates_quantity_of_RNA = pd.concat([lncRNA_chemical_chebi_down,miRNA_chemical_mirandola_down, miRNA_chemical_down])\n",
    "OBO_indirectly_negatively_regulates_quantity_of_RNA = OBO_indirectly_negatively_regulates_quantity_of_RNA.groupby(\n",
    "    [':START_ID',':END_ID']).agg({'Regulator':set, 'Interactor':set, 'PubMedID':set, 'Method':set, 'Location':set,'Source':set}).reset_index()\n",
    "OBO_indirectly_negatively_regulates_quantity_of_RNA[\":TYPE\"] = \"indirectly_negatively_regulates_quantity_of\"\n",
    "OBO_indirectly_negatively_regulates_quantity_of_RNA.to_pickle(unprocessed_edge_data_location+'OBO_indirectly_negatively_regulates_quantity_of_RNA.pkl')\n",
    "OBO_indirectly_negatively_regulates_quantity_of_RNA.head(n=3)"
   ]
  },
  {
   "cell_type": "markdown",
   "metadata": {},
   "source": [
    "***\n",
    "### RNA - http://purl.obolibrary.org/obo/RO_0002513 (ribosomally translates to) - Small protein"
   ]
  },
  {
   "cell_type": "markdown",
   "metadata": {},
   "source": [
    "* [LncBook](https://ngdc.cncb.ac.cn/lncbook/) <br /> LncBook accommodates a high-quality collection of human lncRNA genes and transcripts, and incorporates their abundant annotations at different omics levels, thereby enabling users to decipher functional signatures of lncRNAs in human diseases and different biological contexts. "
   ]
  },
  {
   "cell_type": "code",
   "execution_count": null,
   "metadata": {},
   "outputs": [],
   "source": [
    "!wget https://ngdc.cncb.ac.cn/lncbook/files/sprotein_LncBook2.0.csv.gz -O ../resources/processed_data/unprocessed_data/sprotein_LncBook2.0.csv.gz"
   ]
  },
  {
   "cell_type": "code",
   "execution_count": null,
   "metadata": {},
   "outputs": [],
   "source": [
    "lncRNA_protein = pd.read_csv(unprocessed_data_location + 'sprotein_LncBook2.0.csv.gz') #  Small protein --> smProt IDs\n",
    "lncRNA_protein.drop(columns=['Gene ID','Symbol','SmProt Loci','SmProt Protein Sequence'],inplace=True)\n",
    "\n",
    "lncRNA_protein = pd.merge(lncRNA_protein, rnacentral_map_human_lncbook[['LncBook Transcript ID', 'RNAcentral ID']].rename(\n",
    "    columns={'LncBook Transcript ID': 'Transcript ID'}).drop_duplicates(), on='Transcript ID').drop(columns=['Transcript ID']).rename(columns={\n",
    "        'RNAcentral ID':'RNA','SmProt ID':'Small Protein'})\n",
    "\n",
    "lncRNA_protein['Experimental Evidence'] = lncRNA_protein['Experimental Evidence'].str.lower()\n",
    "lncRNA_protein = pd.merge(lncRNA_protein, method_map, right_on='0_y', left_on='Experimental Evidence', how='left')\n",
    "lncRNA_protein['0_x'] = lncRNA_protein['0_x'].fillna(lncRNA_protein['Experimental Evidence'])\n",
    "lncRNA_protein = lncRNA_protein.drop(columns=['0_y', 'Experimental Evidence'])\n",
    "lncRNA_protein = lncRNA_protein.rename(columns={'0_x':'Method','PMID':'PubMedID', 'regulator':'Regulator', 'target':'Interactor'})\n",
    "\n",
    "lncRNA_protein.rename(columns={'Small Protein':':END_ID','RNA':':START_ID'},inplace=True)\n",
    "lncRNA_protein['Source'] = 'LncBook'\n",
    "lncRNA_protein.head(n=3)"
   ]
  },
  {
   "cell_type": "markdown",
   "metadata": {},
   "source": [
    "* [cncRNADB](https://www.rna-society.org/cncrnadb/) <br/> cncRNAdb is a manually curated database of experimentally supported cncRNAs, which aims to provide a resource for efficient manipulation, browsing and analysis of cncRNAs."
   ]
  },
  {
   "cell_type": "code",
   "execution_count": null,
   "metadata": {},
   "outputs": [],
   "source": [
    "!wget https://www.rna-society.org/cncrnadb/download/Translated%20ncRNA.zip -O ../resources/processed_data/unprocessed_data/Translated%20ncRNA.zip\n",
    "\n",
    "with zipfile.ZipFile(unprocessed_data_location+'Translated ncRNA.zip', 'r') as zip_ref:\n",
    "    zip_ref.extractall(unprocessed_data_location)"
   ]
  },
  {
   "cell_type": "code",
   "execution_count": null,
   "metadata": {},
   "outputs": [],
   "source": [
    "# Translated ncRNA: \n",
    "RNA_anatomy = pd.read_excel(unprocessed_data_location + 'Translated ncRNA.xlsx') # Small protein --> cncRNADB\n",
    "\n",
    "RNA_anatomy = RNA_anatomy[RNA_anatomy.Organism.str.contains('apiens')]\n",
    "RNA_anatomy = RNA_anatomy[RNA_anatomy['Gene.ID'].notna()]\n",
    "\n",
    "RNA_anatomy = RNA_anatomy[RNA_anatomy.Notes != 'It has been re-annotated as protein coding gene now']\n",
    "\n",
    "RNA_anatomy['Source'] = 'cncRNADB'\n",
    "\n",
    "RNA_anatomy['Pubmed.ID'] = pd.to_numeric(RNA_anatomy['Pubmed.ID'], errors='coerce')\n",
    "RNA_anatomy['Pubmed.ID'] = RNA_anatomy['Pubmed.ID'].astype(str)\n",
    "RNA_anatomy['Pubmed.ID'] = RNA_anatomy['Pubmed.ID'].str.replace(\".0\", \"\")\n",
    "RNA_anatomy['Pubmed.ID'] = RNA_anatomy['Pubmed.ID'].replace(\"<NA>\", np.nan)\n",
    "\n",
    "RNA_anatomy['Tissue/Cell'] = RNA_anatomy['Tissue/Cell'].str.lower().str.split(';')\n",
    "RNA_anatomy = RNA_anatomy.explode('Tissue/Cell')\n",
    "RNA_anatomy = pd.merge(RNA_anatomy, location_map, right_on='0_y', left_on='Tissue/Cell', how='left')\n",
    "RNA_anatomy['0_x'] = RNA_anatomy['0_x'].fillna(RNA_anatomy['Tissue/Cell'])\n",
    "RNA_anatomy = RNA_anatomy.drop(columns=['0_y', 'Tissue/Cell'])\n",
    "RNA_anatomy = RNA_anatomy.rename(columns={'0_x':'Location','Pubmed.ID':'PubMedID'})\n",
    "\n",
    "RNA_anatomy['Method'] = RNA_anatomy['In vivo/vitro assay'].astype(str) + \";\" +\\\n",
    "    RNA_anatomy['Low-throughput method'].astype(str) + \";\" + RNA_anatomy['High-throuput method'].astype(str)\n",
    "RNA_anatomy['Method'] = RNA_anatomy['Method'].str.lower()\n",
    "RNA_anatomy['Method'] = RNA_anatomy['Method'].str.replace(\"nan;\", \"\").str.replace(\";nan\", \"\")\n",
    "RNA_anatomy['Method'] = RNA_anatomy['Method'].replace(\"nan\", np.nan)\n",
    "RNA_anatomy['Method'] = RNA_anatomy['Method'].str.split(\";\")\n",
    "RNA_anatomy = RNA_anatomy.explode(\"Method\")\n",
    "RNA_anatomy = pd.merge(RNA_anatomy, method_map, right_on='0_y', left_on='Method', how='left')\n",
    "RNA_anatomy['0_x'] = RNA_anatomy['0_x'].fillna(RNA_anatomy['Method'])\n",
    "RNA_anatomy = RNA_anatomy.drop(columns=['0_y', 'Method'])\n",
    "RNA_anatomy = RNA_anatomy.rename(columns={'0_x':'Method'})\n",
    "\n",
    "RNA_anatomy.drop(columns=['Name','Chromosome','Start','End','Strand','Peptide_length','Notes','Description of experimental evidence',\n",
    "                          'Organism','Peptide','Human.gene.stable.ID','Chimpanzee.gene.stable.ID',\n",
    "                          'Mouse.gene.stable.ID','Drosophila.melanogaster.gene.stable.ID','High-throuput method',\n",
    "                          'Zebrafish.gene.stable.ID','In vivo/vitro assay','Low-throughput method'],inplace=True)\n",
    "\n",
    "RNA_anatomy_circbase = RNA_anatomy[RNA_anatomy['Type'] == 'circRNA']\n",
    "RNA_anatomy_circbase = pd.merge(RNA_anatomy_circbase, ensembl_map[['ensembl_gene_id','symbol']].drop_duplicates(),\n",
    "                                left_on='Gene.ID', right_on='ensembl_gene_id')\n",
    "RNA_anatomy_circbase = RNA_anatomy_circbase.merge(symbol_to_circbase.rename(columns={'gene symbol':'symbol'}), on='symbol')\n",
    "ensembl_rna_type = ensembl_map[['ensembl_gene_id','transcript_stable_id','ensembl_transcript_type']].drop_duplicates()\n",
    "RNA_anatomy = pd.merge(ensembl_rna_type, RNA_anatomy, right_on=['Type','Gene.ID'],\n",
    "                       left_on=['ensembl_transcript_type','ensembl_gene_id']).drop(\n",
    "                           columns=[\"Gene.ID\",'ensembl_transcript_type','ensembl_gene_id','Type'])\n",
    "\n",
    "RNA_anatomy_rnacentral = pd.merge(RNA_anatomy,\n",
    "                                  rnacentral_map_human_ensembl[['RNAcentral ID',\n",
    "                                                                'Ensembl transcript ID']].drop_duplicates(),\n",
    "                               left_on='transcript_stable_id', right_on='Ensembl transcript ID').drop(columns=['Ensembl transcript ID'])\n",
    "RNA_anatomy_ensembl = RNA_anatomy[~RNA_anatomy['transcript_stable_id'].isin(RNA_anatomy_rnacentral['transcript_stable_id'])]\n",
    "RNA_anatomy_rnacentral.drop(columns=['transcript_stable_id'],inplace=True)\n",
    "print(RNA_anatomy_circbase.head(n=3))\n",
    "print(RNA_anatomy_ensembl.head(n=3))\n",
    "print(RNA_anatomy_rnacentral.head(n=3))\n",
    "RNA_anatomy = pd.concat([RNA_anatomy_rnacentral.rename(columns={'RNAcentral ID':':START_ID'}),\n",
    "                         RNA_anatomy_ensembl.rename(columns={'transcript_stable_id':':START_ID'}),\n",
    "                         RNA_anatomy_circbase.rename(columns={'circRNA ID':':START_ID'})]).rename(columns={'cncRNAdb.ID':':END_ID'})\n",
    "RNA_anatomy.head(n=3)"
   ]
  },
  {
   "cell_type": "code",
   "execution_count": null,
   "metadata": {},
   "outputs": [],
   "source": [
    "RNA_ribosomally_translates_to_smallProtein = pd.concat([RNA_anatomy,lncRNA_protein])\n",
    "RNA_ribosomally_translates_to_smallProtein = RNA_ribosomally_translates_to_smallProtein.groupby(\n",
    "    [':START_ID',':END_ID']).agg({'PubMedID':set, 'Method':set, 'Location':set,'Source':set}).reset_index()\n",
    "RNA_ribosomally_translates_to_smallProtein[\":TYPE\"] = \"ribosomally_translates_to\"\n",
    "RNA_ribosomally_translates_to_smallProtein.to_pickle(unprocessed_edge_data_location+'RNA_ribosomally_translates_to_smallProtein.pkl')\n",
    "\n",
    "smallProtein_ribosomal_translation_of_RNA = RNA_ribosomally_translates_to_smallProtein.rename(columns={':START_ID':':END_ID',':END_ID':':START_ID'})\n",
    "smallProtein_ribosomal_translation_of_RNA[\":TYPE\"] = \"ribosomal_translation_of\"\n",
    "smallProtein_ribosomal_translation_of_RNA.to_pickle(unprocessed_edge_data_location+'smallProtein_ribosomal_translation_of_RNA.pkl')\n",
    "smallProtein_ribosomal_translation_of_RNA.head(n=3)"
   ]
  },
  {
   "cell_type": "markdown",
   "metadata": {},
   "source": [
    "***\n",
    "### Gene - http://purl.obolibrary.org/obo/RO_0002205 (has gene product) - Small protein"
   ]
  },
  {
   "cell_type": "markdown",
   "metadata": {},
   "source": [
    "* [LncBook](https://ngdc.cncb.ac.cn/lncbook/) <br /> LncBook accommodates a high-quality collection of human lncRNA genes and transcripts, and incorporates their abundant annotations at different omics levels, thereby enabling users to decipher functional signatures of lncRNAs in human diseases and different biological contexts. "
   ]
  },
  {
   "cell_type": "code",
   "execution_count": null,
   "metadata": {},
   "outputs": [],
   "source": [
    "lncRNA_protein = pd.read_csv(unprocessed_data_location + 'sprotein_LncBook2.0.csv.gz') #  Small protein --> smProt IDs\n",
    "lncRNA_protein.drop(columns=['Gene ID','SmProt Loci','SmProt Protein Sequence'],inplace=True)\n",
    "\n",
    "lncRNA_protein = pd.merge(lncRNA_protein, rnacentral_map_human_lncbook[['LncBook Transcript ID', 'RNAcentral ID']].rename(\n",
    "    columns={'LncBook Transcript ID': 'Transcript ID'}).drop_duplicates(), on='Transcript ID').drop(columns=['Transcript ID']).rename(columns={\n",
    "        'RNAcentral ID':'RNA','SmProt ID':'Small Protein'})\n",
    "\n",
    "lncRNA_protein = lncRNA_protein[lncRNA_protein['Symbol'] != \"-\"][['Symbol','Small Protein']]\n",
    "lncRNA_protein = pd.merge(lncRNA_protein, symbol_entrez_map.rename(columns={0:'Symbol'}), on='Symbol').drop(columns=['Symbol']).drop_duplicates()\n",
    "lncRNA_protein.rename(columns={1:':START_ID','Small Protein':':END_ID'},inplace=True)\n",
    "lncRNA_protein['Source'] = 'LncBook'\n",
    "lncRNA_protein.head(n=3)"
   ]
  },
  {
   "cell_type": "markdown",
   "metadata": {},
   "source": [
    "* [cncRNADB](https://www.rna-society.org/cncrnadb/) <br/> cncRNAdb is a manually curated database of experimentally supported cncRNAs, which aims to provide a resource for efficient manipulation, browsing and analysis of cncRNAs."
   ]
  },
  {
   "cell_type": "code",
   "execution_count": null,
   "metadata": {},
   "outputs": [],
   "source": [
    "# Translated ncRNA: \n",
    "RNA_anatomy2 = pd.read_excel(unprocessed_data_location + 'Translated ncRNA.xlsx') # Small protein --> cncRNADB\n",
    "\n",
    "RNA_anatomy2 = RNA_anatomy2[RNA_anatomy2.Organism.str.contains('apiens')]\n",
    "RNA_anatomy2 = RNA_anatomy2[RNA_anatomy2['Gene.ID'].isin(RNA_anatomy['Gene.ID'])]\n",
    "\n",
    "RNA_anatomy2 = RNA_anatomy2[RNA_anatomy2.Notes != 'It has been re-annotated as protein coding gene now'][[\n",
    "    'Gene.ID','cncRNAdb.ID']].drop_duplicates()\n",
    "\n",
    "RNA_anatomy2 = pd.merge(RNA_anatomy2, ensembl_entrezGene_map[[0,1]], left_on='Gene.ID', right_on=0)\n",
    "\n",
    "RNA_anatomy2.rename(columns={1:':START_ID','cncRNAdb.ID':':END_ID'},inplace=True)\n",
    "RNA_anatomy2['Source'] = 'cncRNADB'\n",
    "\n",
    "RNA_anatomy2.head(n=3)"
   ]
  },
  {
   "cell_type": "code",
   "execution_count": null,
   "metadata": {},
   "outputs": [],
   "source": [
    "gene_has_gene_product_smallProtein = pd.concat([RNA_anatomy2,lncRNA_protein])\n",
    "gene_has_gene_product_smallProtein = gene_has_gene_product_smallProtein.groupby([':START_ID',':END_ID']).agg({'Source':set}).reset_index()\n",
    "gene_has_gene_product_smallProtein[\":TYPE\"] = \"has_gene_product\"\n",
    "gene_has_gene_product_smallProtein.to_pickle(unprocessed_edge_data_location+'gene_has_gene_product_smallProtein.pkl')\n",
    "\n",
    "smallProtein_gene_product_of_gene = gene_has_gene_product_smallProtein.rename(columns={':START_ID':':END_ID',':END_ID':':START_ID'})\n",
    "smallProtein_gene_product_of_gene[\":TYPE\"] = \"gene_product_of\"\n",
    "smallProtein_gene_product_of_gene.to_pickle(unprocessed_edge_data_location+'smallProtein_gene_product_of_gene.pkl')\n",
    "smallProtein_gene_product_of_gene.head(n=3)"
   ]
  },
  {
   "cell_type": "markdown",
   "metadata": {},
   "source": [
    "***\n",
    "### RNA - http://purl.obolibrary.org/obo/RO_0002513 (ribosomally translates to) - OBO"
   ]
  },
  {
   "cell_type": "markdown",
   "metadata": {},
   "source": [
    "* Ensembl"
   ]
  },
  {
   "cell_type": "code",
   "execution_count": null,
   "metadata": {},
   "outputs": [],
   "source": [
    "RNA_rib_to_PRO = pd.read_csv(processed_data_location + 'ENSEMBL_TRANSCRIPT_PROTEIN_ONTOLOGY_MAP.txt', sep='\\t', header=None)[[0,1,4]]\n",
    "RNA_rib_to_PRO = RNA_rib_to_PRO[RNA_rib_to_PRO[4] == 'protein-coding'].drop_duplicates()\n",
    "RNA_rib_to_PRO['Source'] = 'Ensembl'\n",
    "RNA_rib_to_PRO.rename(columns={0:':START_ID',1:':END_ID'},inplace=True)\n",
    "RNA_rib_to_PRO.head(n=3)"
   ]
  },
  {
   "cell_type": "code",
   "execution_count": null,
   "metadata": {},
   "outputs": [],
   "source": [
    "RNA_rib_to_PRO = RNA_rib_to_PRO.groupby([':START_ID',':END_ID']).agg({'Source':set}).reset_index()\n",
    "RNA_rib_to_PRO[\":TYPE\"] = \"ribosomally_translates_to\"\n",
    "RNA_rib_to_PRO.to_pickle(unprocessed_edge_data_location+'RNA_ribosomally_translates_to_OBO.pkl')\n",
    "\n",
    "RNA_rib_to_PRO = RNA_rib_to_PRO.rename(columns={':START_ID':':END_ID',':END_ID':':START_ID'})\n",
    "RNA_rib_to_PRO[\":TYPE\"] = \"ribosomal_translation_of\"\n",
    "RNA_rib_to_PRO.to_pickle(unprocessed_edge_data_location+'OBO_ribosomal_translation_of_RNA.pkl')\n",
    "RNA_rib_to_PRO.head(n=3)"
   ]
  },
  {
   "cell_type": "markdown",
   "metadata": {},
   "source": [
    "***\n",
    "### RNA - http://purl.obolibrary.org/obo/RO_0002513?NOT (not ribosomally translates to) - OBO"
   ]
  },
  {
   "cell_type": "markdown",
   "metadata": {},
   "source": [
    "* [cncRNADB](https://www.rna-society.org/cncrnadb/) <br/> cncRNAdb is a manually curated database of experimentally supported cncRNAs, which aims to provide a resource for efficient manipulation, browsing and analysis of cncRNAs."
   ]
  },
  {
   "cell_type": "code",
   "execution_count": null,
   "metadata": {},
   "outputs": [],
   "source": [
    "!wget -O https://www.rna-society.org/cncrnadb/download/Untranslated%20mRNA.zip -P ../resources/processed_data/unprocessed_data/\n",
    "\n",
    "with zipfile.ZipFile(unprocessed_data_location+'Untranslated mRNA.zip', 'r') as zip_ref:\n",
    "    zip_ref.extractall(unprocessed_data_location)"
   ]
  },
  {
   "cell_type": "code",
   "execution_count": null,
   "metadata": {},
   "outputs": [],
   "source": [
    "#Untranslated mRNA\n",
    "RNA_anatomy = pd.concat([pd.read_excel(unprocessed_data_location + 'Regulatory mRNA.xlsx'), # PRO\n",
    "    pd.read_excel(unprocessed_data_location + 'Scaffold mRNA.xlsx'),\n",
    "    pd.read_excel(unprocessed_data_location + 'Sponge mRNA.xlsx')])\n",
    "RNA_anatomy = RNA_anatomy[RNA_anatomy.Organism.str.contains('apiens')]\n",
    "\n",
    "RNA_anatomy['Source'] = 'cncRNADB'\n",
    "\n",
    "RNA_anatomy['Pubmed.ID'] = pd.to_numeric(RNA_anatomy['Pubmed.ID'], errors='coerce')\n",
    "RNA_anatomy['Pubmed.ID'] = RNA_anatomy['Pubmed.ID'].astype(str)\n",
    "RNA_anatomy['Pubmed.ID'] = RNA_anatomy['Pubmed.ID'].str.replace(\".0\", \"\")\n",
    "RNA_anatomy['Pubmed.ID'] = RNA_anatomy['Pubmed.ID'].replace(\"<NA>\", np.nan)\n",
    "\n",
    "RNA_anatomy['Tissue/Cell'] = RNA_anatomy['Tissue/Cell'].str.lower().str.split(';')\n",
    "RNA_anatomy = RNA_anatomy.explode('Tissue/Cell')\n",
    "RNA_anatomy = pd.merge(RNA_anatomy, location_map, right_on='0_y', left_on='Tissue/Cell', how='left')\n",
    "RNA_anatomy['0_x'] = RNA_anatomy['0_x'].fillna(RNA_anatomy['Tissue/Cell'])\n",
    "RNA_anatomy = RNA_anatomy.drop(columns=['0_y', 'Tissue/Cell'])\n",
    "RNA_anatomy = RNA_anatomy.rename(columns={'0_x':'Location','Pubmed.ID':'PubMedID'})\n",
    "\n",
    "RNA_anatomy['Method'] = RNA_anatomy['In vivo/vitro assay'].astype(str) + \";\" +\\\n",
    "    RNA_anatomy['Low-throughput method'].astype(str) + \";\" + RNA_anatomy['High-throuput method'].astype(str)\n",
    "RNA_anatomy['Method'] = RNA_anatomy['Method'].str.lower()\n",
    "RNA_anatomy['Method'] = RNA_anatomy['Method'].str.replace(\"nan;\", \"\").str.replace(\";nan\", \"\")\n",
    "RNA_anatomy['Method'] = RNA_anatomy['Method'].replace(\"nan\", np.nan)\n",
    "RNA_anatomy['Method'] = RNA_anatomy['Method'].str.split(\";\")\n",
    "RNA_anatomy = RNA_anatomy.explode(\"Method\")\n",
    "RNA_anatomy = pd.merge(RNA_anatomy, method_map, right_on='0_y', left_on='Method', how='left')\n",
    "RNA_anatomy['0_x'] = RNA_anatomy['0_x'].fillna(RNA_anatomy['Method'])\n",
    "RNA_anatomy = RNA_anatomy.drop(columns=['0_y', 'Method'])\n",
    "RNA_anatomy = RNA_anatomy.rename(columns={'0_x':'Method'})\n",
    "\n",
    "RNA_anatomy = pd.merge(symbol_to_pro, RNA_anatomy, right_on='Name',left_on=0)\n",
    "\n",
    "ensembl_mrna_type = ensembl_map[['ensembl_gene_id','transcript_stable_id','ensembl_transcript_type']]\n",
    "ensembl_mrna_type = ensembl_mrna_type[ensembl_mrna_type['ensembl_transcript_type'] == 'protein_coding'].drop_duplicates()\n",
    "\n",
    "RNA_anatomy = pd.merge(ensembl_mrna_type, RNA_anatomy, right_on='Ensembl.ID',\n",
    "                       left_on='ensembl_gene_id').drop(\n",
    "                           columns=[\"Ensembl.ID\",'ensembl_transcript_type','ensembl_gene_id'])\n",
    "\n",
    "RNA_anatomy = RNA_anatomy.rename(columns={'transcript_stable_id':':START_ID', 1:':END_ID'})\n",
    "RNA_anatomy.head(n=2)"
   ]
  },
  {
   "cell_type": "code",
   "execution_count": null,
   "metadata": {},
   "outputs": [],
   "source": [
    "RNA_anatomy = RNA_anatomy.groupby([':START_ID',':END_ID']).agg({'Source':set,'Location':set,'Method':set}).reset_index()\n",
    "RNA_anatomy[\":TYPE\"] = \"not_ribosomally_translates_to\"\n",
    "RNA_anatomy.to_pickle(unprocessed_edge_data_location+'RNA_not_ribosomally_translates_to_OBO.pkl')\n",
    "\n",
    "RNA_anatomy = RNA_anatomy.rename(columns={':START_ID':':END_ID',':END_ID':':START_ID'})\n",
    "RNA_anatomy[\":TYPE\"] = \"not_ribosomal_translation_of\"\n",
    "RNA_anatomy.to_pickle(unprocessed_edge_data_location+'OBO_not_ribosomal_translation_of_RNA.pkl')\n",
    "RNA_anatomy.head(n=3)"
   ]
  },
  {
   "cell_type": "markdown",
   "metadata": {},
   "source": [
    "***\n",
    "### Gene - http://purl.obolibrary.org/obo/RO_0002513?NOT (not has gene product) - OBO"
   ]
  },
  {
   "cell_type": "markdown",
   "metadata": {},
   "source": [
    "* [cncRNADB](https://www.rna-society.org/cncrnadb/) <br/> cncRNAdb is a manually curated database of experimentally supported cncRNAs, which aims to provide a resource for efficient manipulation, browsing and analysis of cncRNAs."
   ]
  },
  {
   "cell_type": "code",
   "execution_count": null,
   "metadata": {},
   "outputs": [],
   "source": [
    "RNA_anatomy = pd.concat([pd.read_excel(unprocessed_data_location + 'Regulatory mRNA.xlsx'), # PRO\n",
    "    pd.read_excel(unprocessed_data_location + 'Scaffold mRNA.xlsx'),\n",
    "    pd.read_excel(unprocessed_data_location + 'Sponge mRNA.xlsx')])\n",
    "RNA_anatomy = RNA_anatomy[RNA_anatomy.Organism.str.contains('apiens')]\n",
    "\n",
    "RNA_anatomy['Source'] = 'cncRNADB'\n",
    "\n",
    "RNA_anatomy['Pubmed.ID'] = pd.to_numeric(RNA_anatomy['Pubmed.ID'], errors='coerce')\n",
    "RNA_anatomy['Pubmed.ID'] = RNA_anatomy['Pubmed.ID'].astype(str)\n",
    "RNA_anatomy['Pubmed.ID'] = RNA_anatomy['Pubmed.ID'].str.replace(\".0\", \"\")\n",
    "RNA_anatomy['Pubmed.ID'] = RNA_anatomy['Pubmed.ID'].replace(\"<NA>\", np.nan)\n",
    "\n",
    "RNA_anatomy['Tissue/Cell'] = RNA_anatomy['Tissue/Cell'].str.lower().str.split(';')\n",
    "RNA_anatomy = RNA_anatomy.explode('Tissue/Cell')\n",
    "RNA_anatomy = pd.merge(RNA_anatomy, location_map, right_on='0_y', left_on='Tissue/Cell', how='left')\n",
    "RNA_anatomy['0_x'] = RNA_anatomy['0_x'].fillna(RNA_anatomy['Tissue/Cell'])\n",
    "RNA_anatomy = RNA_anatomy.drop(columns=['0_y', 'Tissue/Cell'])\n",
    "RNA_anatomy = RNA_anatomy.rename(columns={'0_x':'Location','Pubmed.ID':'PubMedID'})\n",
    "\n",
    "RNA_anatomy['Method'] = RNA_anatomy['In vivo/vitro assay'].astype(str) + \";\" +\\\n",
    "    RNA_anatomy['Low-throughput method'].astype(str) + \";\" + RNA_anatomy['High-throuput method'].astype(str)\n",
    "RNA_anatomy['Method'] = RNA_anatomy['Method'].str.lower()\n",
    "RNA_anatomy['Method'] = RNA_anatomy['Method'].str.replace(\"nan;\", \"\").str.replace(\";nan\", \"\")\n",
    "RNA_anatomy['Method'] = RNA_anatomy['Method'].replace(\"nan\", np.nan)\n",
    "RNA_anatomy['Method'] = RNA_anatomy['Method'].str.split(\";\")\n",
    "RNA_anatomy = RNA_anatomy.explode(\"Method\")\n",
    "RNA_anatomy = pd.merge(RNA_anatomy, method_map, right_on='0_y', left_on='Method', how='left')\n",
    "RNA_anatomy['0_x'] = RNA_anatomy['0_x'].fillna(RNA_anatomy['Method'])\n",
    "RNA_anatomy = RNA_anatomy.drop(columns=['0_y', 'Method'])\n",
    "RNA_anatomy = RNA_anatomy.rename(columns={'0_x':'Method'})\n",
    "\n",
    "RNA_anatomy = pd.merge(symbol_to_pro, RNA_anatomy, right_on='Name',left_on=0)\n",
    "\n",
    "ensembl_mrna_type = ensembl_map[['ensembl_gene_id','transcript_stable_id','ensembl_transcript_type']]\n",
    "ensembl_mrna_type = ensembl_mrna_type[ensembl_mrna_type['ensembl_transcript_type'] == 'protein_coding'].drop_duplicates()\n",
    "\n",
    "RNA_anatomy = pd.merge(ensembl_mrna_type, RNA_anatomy, right_on='Ensembl.ID',\n",
    "                       left_on='ensembl_gene_id').drop(\n",
    "                           columns=[\"Ensembl.ID\",'ensembl_transcript_type','ensembl_gene_id'])\n",
    "RNA_anatomy.rename(columns={'Entrez.ID':':START_ID', 1:':END_ID'},inplace=True)\n",
    "RNA_anatomy[':START_ID'] = RNA_anatomy[':START_ID'].astype(str).str.replace(\".0\",\"\").astype(int)\n",
    "RNA_anatomy.head(n=3)"
   ]
  },
  {
   "cell_type": "code",
   "execution_count": null,
   "metadata": {},
   "outputs": [],
   "source": [
    "RNA_anatomy = RNA_anatomy.groupby([':START_ID',':END_ID']).agg({'Source':set,'Location':set,'Method':set}).reset_index()\n",
    "RNA_anatomy[\":TYPE\"] = \"not_has_gene_product\"\n",
    "RNA_anatomy.to_pickle(unprocessed_edge_data_location+'gene_not_has_gene_product_OBO.pkl')\n",
    "\n",
    "RNA_anatomy = RNA_anatomy.rename(columns={':START_ID':':END_ID',':END_ID':':START_ID'})\n",
    "RNA_anatomy[\":TYPE\"] = \"not_gene_product_of\"\n",
    "RNA_anatomy.to_pickle(unprocessed_edge_data_location+'OBO_not_gene_product_of_gene.pkl')\n",
    "RNA_anatomy.head(n=3)"
   ]
  },
  {
   "cell_type": "markdown",
   "metadata": {},
   "source": [
    "***\n",
    "### RNA - http://purl.obolibrary.org/obo/RO_0002206?NOT (not expressed in) - OBO"
   ]
  },
  {
   "cell_type": "markdown",
   "metadata": {},
   "source": [
    "* LncBook"
   ]
  },
  {
   "cell_type": "code",
   "execution_count": null,
   "metadata": {},
   "outputs": [],
   "source": [
    "lncRNA_expression = pd.read_csv(unprocessed_data_location + 'expression_LncBook2.0.csv.gz') # Biological context (Uberon+GO+CLO+Mondo+GO)\n",
    "lncRNA_expression.drop(columns=['Symbol','Featured Expression'],inplace=True)\n",
    "lncRNA_expression.rename(columns={'Normal Tissue/Cell Line': 'UBERON_0000479',\n",
    "                                 'Organ Development':'GO_0048513',\n",
    "                                 'Preimplantation Embryo':'GO_0007566',\n",
    "                                 'Cell Differentiation':'GO_0030154',\n",
    "                                 'Subcellular Localization':'GO_0051179',\n",
    "                                 'Exosome':'GO_0070062',\n",
    "                                 'Cancer Cell Line':'CLO_0009828',\n",
    "                                 'Virus Infection':'MONDO_0005108',\n",
    "                                 'Circadian Rhythm':'GO_0007623'},inplace=True)\n",
    "\n",
    "lncRNA_expression = pd.merge(lncRNA_expression, rnacentral_map_human_lncbook[['RNAcentral ID', 'LncBook Gene ID']].drop_duplicates().rename(\n",
    "    columns={'LncBook Gene ID':'Gene ID'}), on = 'Gene ID').drop(columns=['Gene ID']).rename(columns={'RNAcentral ID':'RNA'})\n",
    "\n",
    "# HC\n",
    "HCfinal=pd.DataFrame()\n",
    "# NE\n",
    "NEfinal=pd.DataFrame()\n",
    "# MC\n",
    "MCfinal=pd.DataFrame()\n",
    "# LC\n",
    "LCfinal=pd.DataFrame()\n",
    "\n",
    "for i in ['UBERON_0000479','GO_0048513','GO_0007566','GO_0030154','GO_0051179',\n",
    "          'GO_0070062','CLO_0009828','MONDO_0005108','GO_0007623']:\n",
    "    HC = lncRNA_expression[['RNA','Expression Capacity',i]][lncRNA_expression[['RNA','Expression Capacity',i]][i]=='HC']\n",
    "    HC[i]=i\n",
    "    HC.rename(columns={i:'HC'},inplace=True)\n",
    "    HCfinal = pd.concat([HCfinal,HC])\n",
    "    \n",
    "    NE = lncRNA_expression[['RNA','Expression Capacity',i]][lncRNA_expression[['RNA','Expression Capacity',i]][i]=='NE']\n",
    "    NE[i]=i\n",
    "    NE.rename(columns={i:'NE'},inplace=True)\n",
    "    NEfinal = pd.concat([NEfinal,NE])\n",
    "    \n",
    "    MC = lncRNA_expression[['RNA','Expression Capacity',i]][lncRNA_expression[['RNA','Expression Capacity',i]][i]=='MC']\n",
    "    MC[i]=i\n",
    "    MC.rename(columns={i:'MC'},inplace=True)\n",
    "    MCfinal = pd.concat([MCfinal,MC])\n",
    "\n",
    "    LC = lncRNA_expression[['RNA','Expression Capacity',i]][lncRNA_expression[['RNA','Expression Capacity',i]][i]=='LC']\n",
    "    LC[i]=i\n",
    "    LC.rename(columns={i:'LC'},inplace=True)\n",
    "    LCfinal = pd.concat([LCfinal,LC])\n",
    " \n",
    "HCfinal = HCfinal.rename(columns={'HC':':END_ID', 'RNA':':START_ID'}).drop(columns='Expression Capacity')\n",
    "LCfinal = LCfinal.rename(columns={'LC':':END_ID', 'RNA':':START_ID'}).drop(columns='Expression Capacity')\n",
    "MCfinal = MCfinal.rename(columns={'MC':':END_ID', 'RNA':':START_ID'}).drop(columns='Expression Capacity')\n",
    "NEfinal = NEfinal.rename(columns={'NE':':END_ID', 'RNA':':START_ID'}).drop(columns='Expression Capacity')\n",
    "\n",
    "'''\n",
    "HCfinal['Number_of_experiments'] = (HCfinal.groupby(HCfinal.columns.tolist()).transform('size'))\n",
    "HCfinal = HCfinal[HCfinal['Number_of_experiments'].notna()].drop_duplicates()\n",
    "LCfinal['Number_of_experiments'] = (LCfinal.groupby(LCfinal.columns.tolist()).transform('size'))\n",
    "LCfinal = LCfinal[LCfinal['Number_of_experiments'].notna()].drop_duplicates()\n",
    "MCfinal['Number_of_experiments'] = (MCfinal.groupby(MCfinal.columns.tolist()).transform('size'))\n",
    "MCfinal = MCfinal[MCfinal['Number_of_experiments'].notna()].drop_duplicates()\n",
    "NEfinal['Number_of_experiments'] = (NEfinal.groupby(NEfinal.columns.tolist()).transform('size'))\n",
    "NEfinal = NEfinal[NEfinal['Number_of_experiments'].notna()].drop_duplicates()\n",
    "'''\n",
    "\n",
    "HCfinal['Source'] = 'LncBook'\n",
    "LCfinal['Source'] = 'LncBook'\n",
    "MCfinal['Source'] = 'LncBook'\n",
    "NEfinal['Source'] = 'LncBook'\n",
    "\n",
    "NEfinal.head(n=3)"
   ]
  },
  {
   "cell_type": "code",
   "execution_count": null,
   "metadata": {},
   "outputs": [],
   "source": [
    "NEfinal = NEfinal.groupby([':START_ID',':END_ID']).agg({'Source':set}).reset_index()\n",
    "NEfinal[\":TYPE\"] = \"not_expressed_in\"\n",
    "NEfinal.to_pickle(unprocessed_edge_data_location+'RNA_not_expressed_in_OBO.pkl')\n",
    "\n",
    "NEfinal = NEfinal.rename(columns={':START_ID':':END_ID',':END_ID':':START_ID'})\n",
    "NEfinal[\":TYPE\"] = \"not_expresses\"\n",
    "NEfinal.to_pickle(unprocessed_edge_data_location+'OBO_not_expresses_RNA.pkl')\n",
    "NEfinal.head(n=3)"
   ]
  },
  {
   "cell_type": "markdown",
   "metadata": {},
   "source": [
    "***\n",
    "### RNA - http://purl.obolibrary.org/obo/RO_0002291(ubiquitously expressed in) - OBO"
   ]
  },
  {
   "cell_type": "markdown",
   "metadata": {},
   "source": [
    "* LncBook"
   ]
  },
  {
   "cell_type": "code",
   "execution_count": null,
   "metadata": {},
   "outputs": [],
   "source": [
    "MCfinal = MCfinal.groupby([':START_ID',':END_ID']).agg({'Source':set}).reset_index()\n",
    "MCfinal[\":TYPE\"] = \"ubiquitously_expressed_in\"\n",
    "MCfinal.to_pickle(unprocessed_edge_data_location+'RNA_ubiquitously_expressed_in_OBO.pkl')\n",
    "MCfinal = MCfinal.rename(columns={':START_ID':':END_ID',':END_ID':':START_ID'})\n",
    "MCfinal[\":TYPE\"] = \"ubiquitously_expresses\"\n",
    "MCfinal.to_pickle(unprocessed_edge_data_location+'OBO_ubiquitously_expresses_RNA.pkl')\n",
    "MCfinal.head(n=3)"
   ]
  },
  {
   "cell_type": "markdown",
   "metadata": {},
   "source": [
    "***\n",
    "### RNA - http://purl.obolibrary.org/obo/RO_0002260 (has biological role) - Biological role"
   ]
  },
  {
   "cell_type": "markdown",
   "metadata": {},
   "source": [
    "* [dbEssLnc](https://esslnc.pufengdu.org/home) <br /> dbEssLnc contains lncRNA annotations; data are constently added by manual screening. "
   ]
  },
  {
   "cell_type": "code",
   "execution_count": null,
   "metadata": {},
   "outputs": [],
   "source": [
    "!wget https://esslnc.pufengdu.org/data/essential%20lncRNA.json --no-check-certificate -O ../resources/processed_data/unprocessed_data/essential%20lncRNA.json"
   ]
  },
  {
   "cell_type": "code",
   "execution_count": null,
   "metadata": {},
   "outputs": [],
   "source": [
    "dbEssLnc = pd.read_json(unprocessed_data_location + 'essential lncRNA.json') # NIH Genetics Glossary\n",
    "lncRNA_role = dbEssLnc[dbEssLnc['Organism']=='Human']\n",
    "lncRNA_role.drop(columns=['ID','Name','Reason','Aliases','fId','Organism','NCBI_gene_Id','Gene_Ontology_Annotations'], inplace=True)\n",
    "print(lncRNA_role.Role.unique())\n",
    "# For grounding purposes\n",
    "lncRNA_role.replace('Tumor suppressor gene', 'Tumor-Suppressor-Gene', inplace=True)\n",
    "lncRNA_role = lncRNA_role.fillna('nan')\n",
    "\n",
    "lncRNA_role = pd.merge(lncRNA_role, rnacentral_map_human_noncode[['RNAcentral ID', 'NONCODE Gene ID']].drop_duplicates().rename(\n",
    "    columns={'NONCODE Gene ID':'NONCODEId'}), on = 'NONCODEId').drop(columns=['NONCODEId']).rename(columns={'RNAcentral ID':'RNA'})\n",
    "\n",
    "lncRNA_role['PMID'] = pd.to_numeric(lncRNA_role['PMID'], errors='coerce')\n",
    "lncRNA_role['PMID'] = lncRNA_role['PMID'].astype(str)\n",
    "lncRNA_role['PMID'] = lncRNA_role['PMID'].str.replace(\".0\", \"\")\n",
    "lncRNA_role['PMID'] = lncRNA_role['PMID'].replace(\"<NA>\", np.nan)\n",
    "\n",
    "lncRNA_role['Source'] = 'dbEssLnc'\n",
    "lncRNA_role.rename(columns={'RNA':':START_ID','Role':':END_ID', 'PMID':'PubMedID'},inplace=True)\n",
    "lncRNA_role.head(n=3)"
   ]
  },
  {
   "cell_type": "code",
   "execution_count": null,
   "metadata": {},
   "outputs": [],
   "source": [
    "lncRNA_role = lncRNA_role.groupby([':START_ID',':END_ID']).agg({'Source':set,'PubMedID':set}).reset_index()\n",
    "lncRNA_role[\":TYPE\"] = \"has_biological_role\"\n",
    "lncRNA_role.to_pickle(unprocessed_edge_data_location+'RNA_has_biological_role_biologicalRole.pkl')\n",
    "lncRNA_role.head(n=3)"
   ]
  },
  {
   "cell_type": "markdown",
   "metadata": {},
   "source": [
    "***\n",
    "### OBO - http://purl.obolibrary.org/obo/RO_0009501 (realized in response to) - Reactome"
   ]
  },
  {
   "cell_type": "markdown",
   "metadata": {},
   "source": [
    "* Reactome"
   ]
  },
  {
   "cell_type": "code",
   "execution_count": null,
   "metadata": {},
   "outputs": [],
   "source": [
    "data_downloader(\"https://reactome.org/download/current/gene_association.reactome.gz\", unprocessed_data_location)"
   ]
  },
  {
   "cell_type": "code",
   "execution_count": null,
   "metadata": {},
   "outputs": [],
   "source": [
    "go_reactome = pd.read_csv(unprocessed_data_location + 'gene_association.reactome', sep='\\t', comment=\"!\", header=None)\n",
    "go_reactome = go_reactome[(go_reactome[8]=='P') & (go_reactome[12] == \"taxon:9606\") & (go_reactome[5].str.startswith('REACTOME'))]\n",
    "go_reactome[5] = go_reactome[5].str.replace('REACTOME:','')\n",
    "go_reactome[4] = go_reactome[4].str.replace(':','_')\n",
    "go_reactome = go_reactome[[4,5]]\n",
    "go_reactome['Source'] = 'Reactome'\n",
    "go_reactome.rename(columns={4:':START_ID',5:':END_ID'},inplace=True)\n",
    "go_reactome.head(n=3)"
   ]
  },
  {
   "cell_type": "code",
   "execution_count": null,
   "metadata": {},
   "outputs": [],
   "source": [
    "go_reactome = go_reactome.groupby([':START_ID',':END_ID']).agg({'Source':set}).reset_index()\n",
    "go_reactome[\":TYPE\"] = \"realized_in_response_to\"\n",
    "go_reactome.to_pickle(unprocessed_edge_data_location+'OBO_realized_in_response_to_reactome.pkl')\n",
    "go_reactome.head(n=3)"
   ]
  },
  {
   "cell_type": "markdown",
   "metadata": {},
   "source": [
    "***\n",
    "### OBO - http://purl.obolibrary.org/obo/RO_0002180 (has component) - Reactome"
   ]
  },
  {
   "cell_type": "markdown",
   "metadata": {},
   "source": [
    "* Reactome"
   ]
  },
  {
   "cell_type": "code",
   "execution_count": null,
   "metadata": {},
   "outputs": [],
   "source": [
    "go_reactome = pd.read_csv(unprocessed_data_location + 'gene_association.reactome', sep='\\t', comment=\"!\", header=None)\n",
    "go_reactome = go_reactome[(go_reactome[8]=='C') & (go_reactome[12] == \"taxon:9606\") & (go_reactome[5].str.startswith('REACTOME'))]\n",
    "go_reactome[5] = go_reactome[5].str.replace('REACTOME:','')\n",
    "go_reactome[4] = go_reactome[4].str.replace(':','_')\n",
    "go_reactome = go_reactome[[4,5]]\n",
    "go_reactome['Source'] = 'Reactome'\n",
    "go_reactome.rename(columns={4:':START_ID',5:':END_ID'},inplace=True)\n",
    "go_reactome.head(n=3)"
   ]
  },
  {
   "cell_type": "code",
   "execution_count": null,
   "metadata": {},
   "outputs": [],
   "source": [
    "go_reactome = go_reactome.groupby([':START_ID',':END_ID']).agg({'Source':set}).reset_index()\n",
    "go_reactome[\":TYPE\"] = \"has_component\"\n",
    "go_reactome.to_pickle(unprocessed_edge_data_location+'OBO_has_component_reactome.pkl')\n",
    "go_reactome.head(n=3)"
   ]
  },
  {
   "cell_type": "markdown",
   "metadata": {},
   "source": [
    "***\n",
    "### OBO - http://purl.obolibrary.org/obo/RO_0000085 (has function) - Reactome"
   ]
  },
  {
   "cell_type": "markdown",
   "metadata": {},
   "source": [
    "* Reactome"
   ]
  },
  {
   "cell_type": "code",
   "execution_count": null,
   "metadata": {},
   "outputs": [],
   "source": [
    "go_reactome = pd.read_csv(unprocessed_data_location + 'gene_association.reactome', sep='\\t', comment=\"!\", header=None)\n",
    "go_reactome = go_reactome[(go_reactome[8]=='F') & (go_reactome[12] == \"taxon:9606\") & (go_reactome[5].str.startswith('REACTOME'))]\n",
    "go_reactome[5] = go_reactome[5].str.replace('REACTOME:','')\n",
    "go_reactome[4] = go_reactome[4].str.replace(':','_')\n",
    "go_reactome = go_reactome[[4,5]]\n",
    "go_reactome['Source'] = 'Reactome'\n",
    "go_reactome.rename(columns={4:':START_ID',5:':END_ID'},inplace=True)\n",
    "go_reactome.head(n=3)"
   ]
  },
  {
   "cell_type": "code",
   "execution_count": null,
   "metadata": {},
   "outputs": [],
   "source": [
    "go_reactome = go_reactome.groupby([':START_ID',':END_ID']).agg({'Source':set}).reset_index()\n",
    "go_reactome[\":TYPE\"] = \"has_function\"\n",
    "go_reactome.to_pickle(unprocessed_edge_data_location+'OBO_has_function_reactome.pkl')\n",
    "\n",
    "go_reactome = go_reactome.rename(columns={':START_ID':':END_ID',':END_ID':':START_ID'})\n",
    "go_reactome[\":TYPE\"] = \"function_of\"\n",
    "go_reactome.to_pickle(unprocessed_edge_data_location+'reactome_function_of_OBO.pkl')\n",
    "go_reactome.head(n=3)"
   ]
  },
  {
   "cell_type": "markdown",
   "metadata": {},
   "source": [
    "***\n",
    "### RNA - http://purl.obolibrary.org/obo/RO_0000056 (participates in) - OBO"
   ]
  },
  {
   "cell_type": "markdown",
   "metadata": {},
   "source": [
    "* [Rfam](http://rfamlive.xfam.org/) <br /> The Rfam database is a collection of RNA families, each represented by multiple sequence alignments, consensus secondary structures and covariance models."
   ]
  },
  {
   "cell_type": "code",
   "execution_count": null,
   "metadata": {},
   "outputs": [],
   "source": [
    "!wget https://ftp.ebi.ac.uk/pub/databases/RNAcentral/current_release/go_annotations/rnacentral_rfam_annotations.tsv.gz -O ../resources/processed_data/unprocessed_data/rnacentral_rfam_annotations.tsv.gz"
   ]
  },
  {
   "cell_type": "code",
   "execution_count": null,
   "metadata": {},
   "outputs": [],
   "source": [
    "rfam_go = pd.read_csv(unprocessed_data_location + 'rnacentral_rfam_annotations.tsv.gz', sep='\\t',\n",
    "                               names=['RNAcentral ID', \"GO\", \"Rfam ID\"]).drop(columns=['Rfam ID'])\n",
    "rfam_go = rfam_go[rfam_go['RNAcentral ID'].str.endswith('_9606')]\n",
    "rfam_go['RNAcentral ID'] = rfam_go['RNAcentral ID'].str.split('_').str[0]\n",
    "rfam_go['GO'] = rfam_go['GO'].str.replace(':','_')\n",
    "rfam_go['Source'] = 'Rfam, RNAcentral'\n",
    "rfam_go['Source'] = rfam_go['Source'].str.split(\", \")\n",
    "rfam_go = rfam_go.explode('Source')\n",
    "rfam_go.head(n=3)"
   ]
  },
  {
   "cell_type": "code",
   "execution_count": null,
   "metadata": {},
   "outputs": [],
   "source": [
    "dict = []\n",
    "goterms_in_rfam = rfam_go['GO'].unique()\n",
    "\n",
    "for term in goterms_in_rfam:\n",
    "    aspect = pd.read_json(\"https://www.ebi.ac.uk/QuickGO/services/ontology/go/terms/\" + term.replace(\"_\",\":\") + \"/complete\")['results'][0]\n",
    "    dict.append(aspect.get(\"aspect\"))\n",
    "goterms_in_rfam_map_relation = pd.DataFrame({'GO':goterms_in_rfam, 'Aspect':dict})\n",
    "\n",
    "rfam_go = pd.merge(rfam_go, goterms_in_rfam_map_relation, on='GO')\n",
    "rfam_go.rename(columns={'RNAcentral ID':':START_ID','GO':':END_ID'},inplace=True)\n",
    "rfam_gobp = rfam_go[rfam_go['Aspect'] =='biological_process'].drop(columns=['Aspect'])\n",
    "rfam_gomf = rfam_go[rfam_go['Aspect'] =='molecular_function'].drop(columns=['Aspect'])\n",
    "rfam_gocc = rfam_go[rfam_go['Aspect'] =='cellular_component'].drop(columns=['Aspect'])\n",
    "\n",
    "rfam_gobp.head(n=3)"
   ]
  },
  {
   "cell_type": "markdown",
   "metadata": {},
   "source": [
    "* [Ribocentre](https://www.ribocentre.org/) <br />\n",
    "Ribocentre is designed to contain comprehensive information of all natural ribozymes."
   ]
  },
  {
   "cell_type": "code",
   "execution_count": null,
   "metadata": {},
   "outputs": [],
   "source": [
    "# https://www.ribocentre.org/application/ --> Gene Expression system --> CSV button\n",
    "ribozyme_go = pd.read_csv(unprocessed_data_location + 'Ribocentre - Application.csv')\n",
    "print(ribozyme_go['ribozyme name'].unique())\n",
    "\n",
    "ribozyme_go['ribozyme name'] = ribozyme_go['ribozyme name'].str.replace('glmS ribozyme','SO_0000374')\n",
    "ribozyme_go['ribozyme name'] = ribozyme_go['ribozyme name'].str.replace('hammerhead ribozyme','SO_0000380')\n",
    "ribozyme_go['ribozyme name'] = ribozyme_go['ribozyme name'].str.replace('LC ribozyme','SO_0000374')\n",
    "ribozyme_go['ribozyme name'] = ribozyme_go['ribozyme name'].str.replace('pistol ribozyme','SO_0000374')\n",
    "ribozyme_go['ribozyme name'] = ribozyme_go['ribozyme name'].str.replace('RNase P','SO_0000386')\n",
    "ribozyme_go['ribozyme name'] = ribozyme_go['ribozyme name'].str.replace('twister ribozyme','SO_0000374')\n",
    "ribozyme_go['ribozyme name'] = ribozyme_go['ribozyme name'].str.replace('VS ribozyme','SO_0000374')\n",
    "\n",
    "ribozyme_go = ribozyme_go[['ribozyme name', 'pubmed ID']]\n",
    "ribozyme_go['GO'] = ['nan','nan','GO_0015867', 'GO_0032363', 'GO_0010468', 'GO_0010468', 'GO_0010468', 'GO_2000232',\n",
    "                         'GO_0010468', 'GO_0010468', 'GO_0003743', 'nan', 'nan', 'nan', 'nan', 'nan', 'nan', 'nan', 'GO_0010468',\n",
    "                         'nan', 'nan', 'nan', 'GO_0050790', 'nan', 'nan', 'nan', 'nan', 'nan', 'GO_0050790', 'nan', 'nan', 'nan', 'nan', 'nan']\n",
    "ribozyme_go = ribozyme_go[ribozyme_go['GO'] != 'nan']\n",
    "dict = []\n",
    "goterms_in_ribocentre = ribozyme_go['GO'].unique()\n",
    "for term in goterms_in_ribocentre:\n",
    "    aspect = pd.read_json(\"https://www.ebi.ac.uk/QuickGO/services/ontology/go/terms/\" + term.replace(\"_\",\":\") + \"/complete\")['results'][0]\n",
    "    dict.append(aspect.get(\"aspect\"))\n",
    "goterms_in_ribocentre_map_relation = pd.DataFrame({'GO':goterms_in_ribocentre, 'Aspect':dict})\n",
    "\n",
    "ribozyme_go = pd.merge(ribozyme_go, goterms_in_ribocentre_map_relation, on='GO')\n",
    "# HDV ribozyme is from delta virus, taxid = 12475\n",
    "\n",
    "ribozyme_go['ribozyme name'] = ribozyme_go['ribozyme name'].str.replace(\"HDV ribozyme\", \"URS00006C745E, URS00006C1D09\")\n",
    "ribozyme_go['ribozyme name'] = ribozyme_go['ribozyme name'].str.split(\", \")\n",
    "ribozyme_go = ribozyme_go.explode('ribozyme name')\n",
    "ribozyme_go = ribozyme_go.rename(columns={'ribozyme name':'RNA'})\n",
    "\n",
    "ribozyme_go['Source'] = 'Ribocentre'\n",
    "\n",
    "ribozyme_go['pubmed ID'] = pd.to_numeric(ribozyme_go['pubmed ID'], errors='coerce')\n",
    "ribozyme_go['pubmed ID'] = ribozyme_go['pubmed ID'].astype(str)\n",
    "ribozyme_go['pubmed ID'] = ribozyme_go['pubmed ID'].str.replace(\".0\", \"\")\n",
    "ribozyme_go['pubmed ID'] = ribozyme_go['pubmed ID'].replace(\"nan\", np.nan)\n",
    "\n",
    "ribozyme_go_so = ribozyme_go[ribozyme_go['RNA'].str.startswith('SO')][['RNA','GO','pubmed ID','Aspect','Source']]\n",
    "ribozyme_go_so_mf = ribozyme_go_so[ribozyme_go_so['Aspect'] == 'molecular_function'].drop(columns=['Aspect'])\n",
    "ribozyme_go_so_bp = ribozyme_go_so[ribozyme_go_so['Aspect'] == 'biological_process'].drop(columns=['Aspect'])\n",
    "ribozyme_go_rnacentral = ribozyme_go[~ribozyme_go['RNA'].str.startswith('SO')][['RNA','GO','pubmed ID','Aspect','Source']]\n",
    "print(ribozyme_go_rnacentral['Aspect'].unique())\n",
    "ribozyme_go_rnacentral.drop(columns=['Aspect'],inplace=True)\n",
    "ribozyme_go_rnacentral.rename(columns={'RNA':':START_ID','GO':':END_ID','pubmed ID':'PubMedID'},inplace=True)\n",
    "ribozyme_go_rnacentral.head()"
   ]
  },
  {
   "cell_type": "markdown",
   "metadata": {},
   "source": [
    "* [TBDB](https://tbdb.io/) <br /> "
   ]
  },
  {
   "cell_type": "code",
   "execution_count": null,
   "metadata": {},
   "outputs": [],
   "source": [
    "# https://tbdb.io/database/ --> CSV button\n",
    "riboswitch_gobp = pd.read_csv(unprocessed_data_location+'tbdb.csv', sep=',') # riboswitch -- GO\n",
    "\n",
    "# Extract only GO terms\n",
    "gobp = riboswitch_gobp.protein_desc.str.rpartition('[')[2].str.rpartition(']')[0].str.replace(\":\", \"_\")\n",
    "riboswitch_gobp = pd.concat([riboswitch_gobp, gobp.rename('gobp')], axis=1)\n",
    "riboswitch_gobp = riboswitch_gobp[riboswitch_gobp.gobp.str.contains(\"GO\", na=False)]\n",
    "riboswitch_gobp = riboswitch_gobp[['accession_url', 'gobp']]\n",
    "riboswitch_gobp = riboswitch_gobp.rename(columns={'accession_url':':START_ID','gobp':':END_ID'})\n",
    "riboswitch_gobp['Source'] = 'TBDB'\n",
    "riboswitch_gobp.head(n=3)"
   ]
  },
  {
   "cell_type": "markdown",
   "metadata": {},
   "source": [
    "* [ncRDeathDB](https://www.rna-society.org/ncrdeathdb/) <br/> ncRDeathDB includes ncRNA types associated with apoptosis, autophagy, and necrosis."
   ]
  },
  {
   "cell_type": "code",
   "execution_count": null,
   "metadata": {},
   "outputs": [],
   "source": [
    "!wget https://www.rna-society.org/ncrdeathdb/data/allNcRNACelldeathData.xlsx -O ../resources/processed_data/unprocessed_data/allNcRNACelldeathData.xlsx"
   ]
  },
  {
   "cell_type": "code",
   "execution_count": null,
   "metadata": {},
   "outputs": [],
   "source": [
    "RNA_pDeath = pd.read_excel(unprocessed_data_location + 'allNcRNACelldeathData.xlsx', dtype={\"geneid\": \"string\"}) # GO\n",
    "print(RNA_pDeath['RNA Category'].unique())\n",
    "print(RNA_pDeath['Action_Mode'].unique())\n",
    "print(RNA_pDeath['Pathway'].unique())\n",
    "RNA_pDeath['Pathway'] = RNA_pDeath['Pathway'].replace({'necrosis': 'GO_0097300', 'autophagy': 'GO_0006914',\n",
    "                                                       'apoptosis': 'GO_0006915'})\n",
    "RNA_pDeath.Action_Mode = RNA_pDeath.Action_Mode.str.replace('updown', 'up,down')\n",
    "RNA_pDeath.Action_Mode = RNA_pDeath.Action_Mode.str.replace('dowm', 'down')\n",
    "RNA_pDeath.Action_Mode = RNA_pDeath.Action_Mode.str.replace('up ed', 'up')\n",
    "RNA_pDeath.Action_Mode = RNA_pDeath.Action_Mode.str.split(\",\")\n",
    "RNA_pDeath = RNA_pDeath.explode('Action_Mode')\n",
    "RNA_pDeath.miRBase_ID = RNA_pDeath.miRBase_ID.str.split(\",\")\n",
    "RNA_pDeath = RNA_pDeath.explode('miRBase_ID')\n",
    "RNA_pDeath['RNA Category'] = RNA_pDeath['RNA Category'].str.strip()\n",
    "RNA_pDeath['miRNA_symbol'] = RNA_pDeath['miRNA_symbol'].str.strip() # This (mislabeled) column is used for identifying lncRNAs and snoRNAs\n",
    "RNA_pDeath['miRNA_symbol'] = RNA_pDeath['miRNA_symbol'].str.upper()\n",
    "RNA_pDeath['miRBase_ID'] = RNA_pDeath['miRBase_ID'].str.strip()\n",
    "RNA_pDeath['Gene_Symbol'] = RNA_pDeath['Gene_Symbol'].str.strip()\n",
    "RNA_pDeath['Tissue'] = RNA_pDeath['Tissue'].str.strip()\n",
    "RNA_pDeath = RNA_pDeath[RNA_pDeath.tax_id == 9606] # aggiungere le altre specie\n",
    "RNA_pDeath.drop(columns=['Description','Description.1','tax_id','Organism','id','miRBase_mature_ID',\n",
    "                         'geneid','Synonyms','Links','chromosome','map_location','type_of_gene','Full_name_from_nomenclature_authority',\n",
    "                         'Other_designations'],inplace=True)\n",
    "\n",
    "RNA_pDeath['PMID'] = pd.to_numeric(RNA_pDeath['PMID'], errors='coerce')\n",
    "RNA_pDeath['PMID'] = RNA_pDeath['PMID'].astype(str)\n",
    "RNA_pDeath['PMID'] = RNA_pDeath['PMID'].str.replace(\".0\", \"\")\n",
    "RNA_pDeath['PMID'] = RNA_pDeath['PMID'].replace(\"nan\", np.nan)\n",
    "\n",
    "RNA_pDeath['Tissue'] = RNA_pDeath['Tissue'].str.lower()\n",
    "RNA_pDeath = pd.merge(RNA_pDeath, location_map, right_on='0_y', left_on='Tissue', how='left')\n",
    "RNA_pDeath['0_x'] = RNA_pDeath['0_x'].fillna(RNA_pDeath['Tissue'])\n",
    "RNA_pDeath['0_x'] = RNA_pDeath['0_x'].replace('',np.nan)\n",
    "RNA_pDeath = RNA_pDeath.drop(columns=['0_y', 'Tissue'])\n",
    "RNA_pDeath = RNA_pDeath.rename(columns={'0_x':'Location', 'PMID':'PubMedID'})\n",
    "\n",
    "RNA_pDeath = RNA_pDeath.rename(columns={'Gene_Symbol':'Interactor'})\n",
    "\n",
    "RNA_pDeath.head(n=3)"
   ]
  },
  {
   "cell_type": "code",
   "execution_count": null,
   "metadata": {},
   "outputs": [],
   "source": [
    "miRNA_pDeath = RNA_pDeath[RNA_pDeath['RNA Category'] == 'miRNA']\n",
    "# These miRBase entries do no exist\n",
    "print(miRNA_pDeath[~miRNA_pDeath['miRBase_ID'].isin(rnacentral_map_human_mirbase['miRBase ID'])]['miRBase_ID'].unique()[:5])\n",
    "miRNA_pDeath = pd.merge(miRNA_pDeath, rnacentral_map_human_mirbase, left_on='miRBase_ID',\n",
    "                        right_on='miRBase ID').drop(columns=['miRBase_ID','miRBase ID','RNA Category','miRNA_symbol'])\n",
    "miRNA_pDeath.head(n=3)"
   ]
  },
  {
   "cell_type": "code",
   "execution_count": null,
   "metadata": {},
   "outputs": [],
   "source": [
    "RNA_pDeath = RNA_pDeath[RNA_pDeath['RNA Category'] != 'miRNA']\n",
    "RNA_pDeath = pd.merge(RNA_pDeath, rnacentral_map_human_hgnc[['RNAcentral ID','HGNC symbol']].drop_duplicates(),\n",
    "                      left_on='miRNA_symbol', right_on='HGNC symbol').drop(columns=['RNA Category','miRBase_ID','HGNC symbol','miRNA_symbol'])\n",
    "RNA_pDeath.head(n=3)"
   ]
  },
  {
   "cell_type": "code",
   "execution_count": null,
   "metadata": {},
   "outputs": [],
   "source": [
    "RNA_pDeath = pd.concat([RNA_pDeath, miRNA_pDeath])\n",
    "RNA_pDeath['Action_Mode'] = RNA_pDeath['Action_Mode'].fillna('nan')\n",
    "RNA_pDeath = RNA_pDeath.rename(columns={'Pathway':':END_ID','RNAcentral ID':':START_ID'})\n",
    "RNA_pDeath['Source'] = 'ncRDeathDB'"
   ]
  },
  {
   "cell_type": "code",
   "execution_count": null,
   "metadata": {},
   "outputs": [],
   "source": [
    "RNA_pDeath_participates = RNA_pDeath[RNA_pDeath['Action_Mode'] == 'nan'].drop(columns='Action_Mode')\n",
    "RNA_pDeath_participates.head(n=3)"
   ]
  },
  {
   "cell_type": "markdown",
   "metadata": {},
   "source": [
    "* [miRPathDB](https://mpd.bioinf.uni-sb.de/overview.html)"
   ]
  },
  {
   "cell_type": "code",
   "execution_count": null,
   "metadata": {},
   "outputs": [],
   "source": [
    "#tar = tarfile.open(unprocessed_data_location+'miRPathDB2_hsa_gmt.tar.gz', 'r:gz')\n",
    "#tar.extractall(unprocessed_data_location)\n",
    "#tar.close()\n",
    "\n",
    "with open(unprocessed_data_location+'hsa/GO_BP_validated_miRTarBase_strong.gmt', 'r') as file: # GO\n",
    "    data = file.read().rstrip()\n",
    "    \n",
    "miRNA_GO = pd.DataFrame([ ln.rstrip().split('\\t') for ln in\n",
    "    io.StringIO(data).readlines() ]).fillna('')\n",
    "\n",
    "miRNA_GO[0] = miRNA_GO[0].str.lower()\n",
    "miRNA_GO = miRNA_GO.dropna(axis=1, how='all')\n",
    "miRNA_GO = miRNA_GO.drop(columns=[1])\n",
    "miRNA_GO = pd.merge(desc_go_map, miRNA_GO, left_on=[0], right_on=[0])\n",
    "miRNA_GO = miRNA_GO.dropna(axis=1, how='all')\n",
    "\n",
    "dflist = list()\n",
    "for i in range(len(miRNA_GO)):\n",
    "    df = pd.DataFrame(columns=[0, 1, 2])\n",
    "    df[0] = miRNA_GO.T[i].drop(index=[0, 1])\n",
    "    df[1] = miRNA_GO.T[i][0]\n",
    "    df[2] = miRNA_GO.T[i][1]\n",
    "    dflist.append(df)\n",
    "\n",
    "miRNA_GO = pd.DataFrame(columns=[0, 1, 2])\n",
    "for dataframe in dflist:\n",
    "    miRNA_GO = pd.concat([miRNA_GO, dataframe])\n",
    "miRNA_GO = miRNA_GO.dropna()\n",
    "miRNA_GO = miRNA_GO[miRNA_GO[0] != '']\n",
    "\n",
    "print(all(miRNA_GO[0].isin(rnacentral_map_human['DB Description'])))\n",
    "miRNA_GO = pd.merge(miRNA_GO, rnacentral_map_human.rename(columns={'DB Description':0}), on=0).drop(\n",
    "    columns=[0,1,'DB','DB ID','Organism','RNA category']).rename(columns={'RNAcentral ID':'RNA'})\n",
    "\n",
    "miRNA_GO['Source'] = 'miRPathDB'\n",
    "miRNA_GO = miRNA_GO.rename(columns={'RNA':':START_ID',2:':END_ID'})\n",
    "miRNA_GO.head(n=3)"
   ]
  },
  {
   "cell_type": "markdown",
   "metadata": {},
   "source": [
    "* [LncRNAWiki](https://ngdc.cncb.ac.cn/lncrnawiki/)"
   ]
  },
  {
   "cell_type": "code",
   "execution_count": null,
   "metadata": {},
   "outputs": [],
   "source": [
    "LncRNAWiki = pd.read_csv(unprocessed_data_location+'LncRNAWiki_BrowseDownload.csv') # PW\n",
    "lncRNA_pw = LncRNAWiki[LncRNAWiki['pathway'].notna()]\n",
    "lncRNA_pw.pathway = lncRNA_pw.pathway.str.lower()\n",
    "lncRNA_pw = lncRNA_pw.drop(columns=['symbol','synonyms','gene_locus','gene_id','conservation_ortholog','clinical_detail',\n",
    "                                        'modification_detail','target_interaction', 'conservation_species','target_effect',\n",
    "                                        'description','conservation','target_type','biological_context','regulator_effect',\n",
    "                                        'regulator_interaction', 'genome_variation', 'variation_detail', 'molecular_function',\n",
    "                                        'expression','regulator_type','functional_mechanism'])\n",
    "\n",
    "lncRNA_pw['transcript_id'] = lncRNA_pw['transcript_id'].str.split(',')\n",
    "lncRNA_pw = lncRNA_pw.explode('transcript_id')\n",
    "lncRNA_pw = lncRNA_pw[lncRNA_pw['transcript_id'].notna()]\n",
    "\n",
    "lncRNA_pw['pathway'] = lncRNA_pw['pathway'].str.split(',')\n",
    "lncRNA_pw = lncRNA_pw.explode('pathway')\n",
    "lncRNA_pw = lncRNA_pw[lncRNA_pw['pathway'].notna()]\n",
    "\n",
    "lncRNA_pw = pd.merge(desc_pw_map.rename(columns={0:'pathway'}), lncRNA_pw, on=['pathway']).drop(\n",
    "    columns=['pathway']).rename(columns={1:'Pathway'})\n",
    "\n",
    "lncRNA_pw = pd.merge(lncRNA_pw, rnacentral_map_human_lncbook[['LncBook Transcript ID', 'RNAcentral ID']].drop_duplicates().rename(\n",
    "    columns={'LncBook Transcript ID':'transcript_id'}), on = 'transcript_id').drop(columns=['transcript_id']).rename(\n",
    "        columns={'RNAcentral ID':'RNA'})  \n",
    "\n",
    "lncRNA_pw['pmid'] = pd.to_numeric(lncRNA_pw['pmid'], errors='coerce')\n",
    "lncRNA_pw['pmid'] = lncRNA_pw['pmid'].astype(str)\n",
    "lncRNA_pw['pmid'] = lncRNA_pw['pmid'].str.replace(\".0\", \"\")\n",
    "lncRNA_pw['pmid'] = lncRNA_pw['pmid'].replace(\"nan\", np.nan)\n",
    "\n",
    "lncRNA_pw['Source'] = 'LncRNAWiki'\n",
    "lncRNA_pw.rename(columns={'RNA':':START_ID','Pathway':':END_ID', 'pmid':'PubMedID'}, inplace=True)\n",
    "lncRNA_pw.head(n=3)"
   ]
  },
  {
   "cell_type": "code",
   "execution_count": null,
   "metadata": {},
   "outputs": [],
   "source": [
    "lncRNA_pw_participates = lncRNA_pw[lncRNA_pw['expression_detail'].isna()].drop(columns=['expression_detail']) # PW\n",
    "lncRNA_pw_participates.head(n=3)"
   ]
  },
  {
   "cell_type": "markdown",
   "metadata": {},
   "source": [
    "* [LncRNAWiki](https://ngdc.cncb.ac.cn/lncrnawiki/)"
   ]
  },
  {
   "cell_type": "code",
   "execution_count": null,
   "metadata": {},
   "outputs": [],
   "source": [
    "LncRNAWiki = pd.read_csv(unprocessed_data_location+'LncRNAWiki_BrowseDownload.csv') # GO\n",
    "lncRNA_gobp2 = LncRNAWiki[LncRNAWiki['biological_context'].notna()]\n",
    "lncRNA_gobp2.biological_context = lncRNA_gobp2.biological_context.str.lower()\n",
    "lncRNA_gobp2 = lncRNA_gobp2.drop(columns=['symbol','synonyms','gene_locus','gene_id','conservation_ortholog','clinical_detail',\n",
    "                                        'modification_detail','target_interaction', 'conservation_species','target_effect',\n",
    "                                        'description','conservation','target_type','regulator_effect',\n",
    "                                        'regulator_interaction', 'genome_variation', 'variation_detail', 'molecular_function',\n",
    "                                        'expression','regulator_type','functional_mechanism'])\n",
    "\n",
    "lncRNA_gobp2['transcript_id'] = lncRNA_gobp2['transcript_id'].str.split(',')\n",
    "lncRNA_gobp2 = lncRNA_gobp2.explode('transcript_id')\n",
    "lncRNA_gobp2 = lncRNA_gobp2[lncRNA_gobp2['transcript_id'].notna()]\n",
    "\n",
    "lncRNA_gobp2['biological_context'] = lncRNA_gobp2['biological_context'].str.split(',')\n",
    "lncRNA_gobp2 = lncRNA_gobp2.explode('biological_context')\n",
    "lncRNA_gobp2 = lncRNA_gobp2[lncRNA_gobp2['biological_context'].notna()]\n",
    "\n",
    "lncRNA_gobp2 = pd.merge(desc_go_map.rename(columns={0:'biological_context'}), lncRNA_gobp2, on=['biological_context']).drop(\n",
    "    columns=['biological_context']).rename(columns={1:'GO'})\n",
    "\n",
    "lncRNA_gobp2 = pd.merge(lncRNA_gobp2, rnacentral_map_human_lncbook[['LncBook Transcript ID', 'RNAcentral ID']].drop_duplicates().rename(\n",
    "    columns={'LncBook Transcript ID':'transcript_id'}), on = 'transcript_id').drop(columns=['transcript_id']).rename(\n",
    "        columns={'RNAcentral ID':'RNA'})  \n",
    "\n",
    "lncRNA_gobp2['pmid'] = pd.to_numeric(lncRNA_gobp2['pmid'], errors='coerce')\n",
    "lncRNA_gobp2['pmid'] = lncRNA_gobp2['pmid'].astype(str)\n",
    "lncRNA_gobp2['pmid'] = lncRNA_gobp2['pmid'].str.replace(\".0\", \"\")\n",
    "lncRNA_gobp2['pmid'] = lncRNA_gobp2['pmid'].replace(\"nan\", np.nan)\n",
    "\n",
    "lncRNA_gobp2['Source'] = 'LncRNAWiki'\n",
    "lncRNA_gobp2 = lncRNA_gobp2.rename(columns={'GO':':END_ID','RNA':':START_ID','pmid':'PubMedID'})\n",
    "lncRNA_gobp2.head(n=3)"
   ]
  },
  {
   "cell_type": "code",
   "execution_count": null,
   "metadata": {},
   "outputs": [],
   "source": [
    "RNA_participates_in_OBO = pd.concat([lncRNA_gobp2, lncRNA_pw_participates, miRNA_GO, RNA_pDeath_participates,\n",
    "                                     riboswitch_gobp, ribozyme_go_rnacentral, rfam_gobp]).groupby([\n",
    "                                        ':START_ID',':END_ID']).agg({'Source':set,'PubMedID':set,\n",
    "                                                                     'Interactor':set,'Location':set}).reset_index()\n",
    "RNA_participates_in_OBO[\":TYPE\"] = \"participates_in\"\n",
    "RNA_participates_in_OBO.to_pickle(unprocessed_edge_data_location+'RNA_participates_in_OBO.pkl')\n",
    "\n",
    "OBO_has_participant_RNA = RNA_participates_in_OBO.rename(columns={':START_ID':':END_ID',':END_ID':':START_ID'})\n",
    "OBO_has_participant_RNA[\":TYPE\"] = \"has_participant\"\n",
    "OBO_has_participant_RNA.to_pickle(unprocessed_edge_data_location+'OBO_has_participant_RNA.pkl')\n",
    "OBO_has_participant_RNA.head(n=3)"
   ]
  },
  {
   "cell_type": "markdown",
   "metadata": {},
   "source": [
    "***\n",
    "### RNA - http://purl.obolibrary.org/obo/RO_0002528 (is upstream of sequence of) - OBO"
   ]
  },
  {
   "cell_type": "markdown",
   "metadata": {},
   "source": [
    "* [PuTmiR 1.1](https://www.isical.ac.in/~bioinfo_miu/TF-miRNA1.php) <br/>\n",
    "PuTmiR is a web server designed for extracting the putative TFs for human miRNAs, as per the requirement of a user, based on genomic locality, i.e., any upstream or downstream region of interest less than 10 kb."
   ]
  },
  {
   "cell_type": "code",
   "execution_count": null,
   "metadata": {},
   "outputs": [],
   "source": [
    "!wget https://www.isical.ac.in/~bioinfo_miu/UpstreamRegionTF-miRNA1.txt --no-check-certificate -O ../resources/processed_data/unprocessed_data/UpstreamRegionTF-miRNA1.txt"
   ]
  },
  {
   "cell_type": "code",
   "execution_count": null,
   "metadata": {},
   "outputs": [],
   "source": [
    "miRNA_TF_up = pd.read_csv(unprocessed_data_location+'UpstreamRegionTF-miRNA1.txt', sep='\\t') # TF (PRO)\n",
    "miRNA_TF_up = miRNA_TF_up[miRNA_TF_up['name'] != \"-\"]\n",
    "miRNA_TF_up = miRNA_TF_up[miRNA_TF_up['TF'] != \"-\"]\n",
    "miRNA_TF_up['Start10kb'] = miRNA_TF_up['Start10kb'].astype(int)\n",
    "miRNA_TF_up['End10kb'] = miRNA_TF_up['End10kb'].astype(int)\n",
    "miRNA_TF_up['Distance'] = abs(miRNA_TF_up['Start10kb'] - miRNA_TF_up['End10kb'])\n",
    "miRNA_TF_up.drop(columns=['chrom','chromStart','chromEnd','strand','Start10kb','End10kb',\n",
    "                          'chromStartTF','chromEndTF','Refseq','score'],inplace=True)\n",
    "miRNA_TF_up = miRNA_TF_up.merge(symbol_to_pro.rename(columns={0:'TF'}), on='TF').rename(columns={1:'Protein'})\n",
    "\n",
    "print(all(miRNA_TF_up['name'].isin(rnacentral_map_human['DB Description'])))\n",
    "print(miRNA_TF_up[~miRNA_TF_up['name'].isin(rnacentral_map_human['DB Description'])]['name'].str[:3].unique())\n",
    "miRNA_RNA_miRNAnotInRNAcentral3p = miRNA_TF_up[~miRNA_TF_up['name'].isin(rnacentral_map_human['DB Description'])]\n",
    "miRNA_RNA_miRNAnotInRNAcentral5p = miRNA_TF_up[~miRNA_TF_up['name'].isin(rnacentral_map_human['DB Description'])]\n",
    "miRNA_RNA_miRNAnotInRNAcentral5p['name'] = miRNA_RNA_miRNAnotInRNAcentral5p['name'].astype(str) + '-3p'\n",
    "miRNA_RNA_miRNAnotInRNAcentral3p['name'] = miRNA_RNA_miRNAnotInRNAcentral3p['name'].astype(str) + '-5p'\n",
    "miRNA_RNA_miRNAnotInRNAcentral = pd.concat([miRNA_RNA_miRNAnotInRNAcentral3p, miRNA_RNA_miRNAnotInRNAcentral5p])\n",
    "miRNA_RNA_miRNAnotInRNAcentral = pd.merge(miRNA_RNA_miRNAnotInRNAcentral, rnacentral_map_human.rename(\n",
    "    columns={'DB Description':'name'}), on='name').drop(columns=['name']).rename(columns={'RNAcentral ID':'RNA'})\n",
    "miRNA_TF_up = pd.merge(miRNA_TF_up, rnacentral_map_human.rename(columns={'DB Description':'name'}), on='name').drop(\n",
    "    columns=['name']).rename(columns={'RNAcentral ID':'RNA'})\n",
    "miRNA_TF_up = pd.concat([miRNA_TF_up, miRNA_RNA_miRNAnotInRNAcentral]).drop(columns=['DB','DB ID','Organism','RNA category'])\n",
    "\n",
    "miRNA_TF_up['zScore'] = miRNA_TF_up['zScore'].astype(float)\n",
    "miRNA_TF_up['Source'] = 'PuTmiR'\n",
    "miRNA_TF_up.rename(columns={'Protein':':END_ID','RNA':':START_ID'},inplace=True)\n",
    "miRNA_TF_up.head(n=3)"
   ]
  },
  {
   "cell_type": "code",
   "execution_count": null,
   "metadata": {},
   "outputs": [],
   "source": [
    "miRNA_TF_up = miRNA_TF_up.groupby([':START_ID',':END_ID']).agg({'Source':set,'zScore':np.mean,'Distance':np.mean}).reset_index()\n",
    "miRNA_TF_up[\":TYPE\"] = \"is_upstream_of_sequence_of\"\n",
    "miRNA_TF_up.to_pickle(unprocessed_edge_data_location+'RNA_is_upstream_of_sequence_of_OBO.pkl')\n",
    "\n",
    "TF_miRNA_down = miRNA_TF_up.rename(columns={':START_ID':':END_ID',':END_ID':':START_ID'})\n",
    "TF_miRNA_down[\":TYPE\"] = \"is_downstream_of_sequence_of\"\n",
    "TF_miRNA_down.to_pickle(unprocessed_edge_data_location+'OBO_is_downstream_of_sequence_of_RNA.pkl')\n",
    "TF_miRNA_down.head(n=3)"
   ]
  },
  {
   "cell_type": "markdown",
   "metadata": {},
   "source": [
    "***\n",
    "### RNA - http://purl.obolibrary.org/obo/RO_0002529 (is downstream of sequence of) - OBO"
   ]
  },
  {
   "cell_type": "markdown",
   "metadata": {},
   "source": [
    "* [PuTmiR 1.1](https://www.isical.ac.in/~bioinfo_miu/TF-miRNA1.php) <br/>\n",
    "PuTmiR is a web server designed for extracting the putative TFs for human miRNAs, as per the requirement of a user, based on genomic locality, i.e., any upstream or downstream region of interest less than 10 kb."
   ]
  },
  {
   "cell_type": "code",
   "execution_count": null,
   "metadata": {},
   "outputs": [],
   "source": [
    "!wget https://www.isical.ac.in/~bioinfo_miu/DownstreamRegionTF-miRNA1.txt --no-check-certificate -O ../resources/processed_data/unprocessed_dataDownstreamRegionTF-miRNA1.txt"
   ]
  },
  {
   "cell_type": "code",
   "execution_count": null,
   "metadata": {},
   "outputs": [],
   "source": [
    "miRNA_TF_down = pd.read_csv(unprocessed_data_location+'DownstreamRegionTF-miRNA1.txt', sep='\\t') # TF (PRO)\n",
    "miRNA_TF_down = miRNA_TF_down[miRNA_TF_down['name'] != \"-\"]\n",
    "miRNA_TF_down = miRNA_TF_down[miRNA_TF_down['TF'] != \"-\"]\n",
    "miRNA_TF_down['Start10kb'] = miRNA_TF_down['Start10kb'].astype(int)\n",
    "miRNA_TF_down['End10kb'] = miRNA_TF_down['End10kb'].astype(int)\n",
    "miRNA_TF_down['Distance'] = abs(miRNA_TF_down['Start10kb'] - miRNA_TF_down['End10kb'])\n",
    "miRNA_TF_down.drop(columns=['chrom','chromStart','chromEnd','strand','Start10kb','End10kb',\n",
    "                          'chromStartTF','chromEndTF','Refseq','score'],inplace=True)\n",
    "miRNA_TF_down = miRNA_TF_down.merge(symbol_to_pro.rename(columns={0:'TF'}), on='TF').rename(columns={1:'Protein'})\n",
    "\n",
    "print(all(miRNA_TF_down['name'].isin(rnacentral_map_human['DB Description'])))\n",
    "print(miRNA_TF_down[~miRNA_TF_down['name'].isin(rnacentral_map_human['DB Description'])]['name'].str[:3].unique())\n",
    "miRNA_RNA_miRNAnotInRNAcentral3p = miRNA_TF_down[~miRNA_TF_down['name'].isin(rnacentral_map_human['DB Description'])]\n",
    "miRNA_RNA_miRNAnotInRNAcentral5p = miRNA_TF_down[~miRNA_TF_down['name'].isin(rnacentral_map_human['DB Description'])]\n",
    "miRNA_RNA_miRNAnotInRNAcentral5p['name'] = miRNA_RNA_miRNAnotInRNAcentral5p['name'].astype(str) + '-3p'\n",
    "miRNA_RNA_miRNAnotInRNAcentral3p['name'] = miRNA_RNA_miRNAnotInRNAcentral3p['name'].astype(str) + '-5p'\n",
    "miRNA_RNA_miRNAnotInRNAcentral = pd.concat([miRNA_RNA_miRNAnotInRNAcentral3p, miRNA_RNA_miRNAnotInRNAcentral5p])\n",
    "miRNA_RNA_miRNAnotInRNAcentral = pd.merge(miRNA_RNA_miRNAnotInRNAcentral, rnacentral_map_human.rename(\n",
    "    columns={'DB Description':'name'}), on='name').drop(columns=['name']).rename(columns={'RNAcentral ID':'RNA'})\n",
    "miRNA_TF_down = pd.merge(miRNA_TF_down, rnacentral_map_human.rename(columns={'DB Description':'name'}), on='name').drop(\n",
    "    columns=['name']).rename(columns={'RNAcentral ID':'RNA'})\n",
    "miRNA_TF_down = pd.concat([miRNA_TF_down, miRNA_RNA_miRNAnotInRNAcentral]).drop(columns=['DB','DB ID','Organism','RNA category'])\n",
    "\n",
    "miRNA_TF_down['zScore'] = miRNA_TF_down['zScore'].astype(float)\n",
    "miRNA_TF_down['Source'] = 'PuTmiR'\n",
    "miRNA_TF_down.rename(columns={'Protein':':END_ID','RNA':':START_ID'},inplace=True)\n",
    "miRNA_TF_down.head(n=3)"
   ]
  },
  {
   "cell_type": "markdown",
   "metadata": {},
   "source": [
    "* [TBDB](https://tbdb.io/) <br /> \n",
    "\n",
    "TBDB contains T-box riboswitch fold prediction, tRNA pairs from host organisms, information regarding T-box riboswitch genetic context, and thermodynamic calculations of putative T-box riboswitch sequences found in nature."
   ]
  },
  {
   "cell_type": "code",
   "execution_count": null,
   "metadata": {},
   "outputs": [],
   "source": [
    "!wget https://tbdb.io/database/tbdb.csv -O ../resources/processed_data/unprocessed_data/tbdb.csv"
   ]
  },
  {
   "cell_type": "code",
   "execution_count": null,
   "metadata": {},
   "outputs": [],
   "source": [
    "riboswitch_protein = pd.read_csv(unprocessed_data_location+'tbdb.csv') # Riboswitch (NCBI nuccore?genomic_location) - PRO\n",
    "riboswitch_protein = riboswitch_protein[riboswitch_protein['downstream_protein'].notna()]\n",
    "riboswitch_protein.downstream_protein = riboswitch_protein.downstream_protein.str.lower()\n",
    "riboswitch_protein['Source'] = 'TBDB' \n",
    "riboswitch_protein.head(n=3)"
   ]
  },
  {
   "cell_type": "code",
   "execution_count": null,
   "metadata": {},
   "outputs": [],
   "source": [
    "mithocondrial_proteins = desc_pro_map_all[desc_pro_map_all[0].astype(str).str.contains(\"mitochondrial\")][1].unique()\n",
    "riboswitch_protein = pd.merge(riboswitch_protein, desc_pro_map_all[~desc_pro_map_all[1].isin(mithocondrial_proteins)],\n",
    "                              left_on=['downstream_protein'], right_on=[0])\n",
    "riboswitch_protein.drop(columns=[0],inplace=True)\n",
    "riboswitch_protein = riboswitch_protein.drop(columns=['downstream_protein'])\n",
    "riboswitch_protein.rename(columns={1:':END_ID', 'accession_url':':START_ID'},inplace=True)\n",
    "riboswitch_protein.head(n=3)"
   ]
  },
  {
   "cell_type": "code",
   "execution_count": null,
   "metadata": {},
   "outputs": [],
   "source": [
    "RNA_is_downstream_of_sequence_of_OBO = pd.concat([riboswitch_protein, miRNA_TF_down])\n",
    "RNA_is_downstream_of_sequence_of_OBO = RNA_is_downstream_of_sequence_of_OBO.groupby([':START_ID',':END_ID']).agg(\n",
    "    {'Source':set,'zScore':np.mean,'Distance':np.mean}).reset_index()\n",
    "RNA_is_downstream_of_sequence_of_OBO[\":TYPE\"] = \"is_downstream_of_sequence_of\"\n",
    "RNA_is_downstream_of_sequence_of_OBO.to_pickle(unprocessed_edge_data_location+'RNA_is_downstream_of_sequence_of_OBO.pkl')\n",
    "\n",
    "OBO_is_upstream_of_sequence_of_RNA = RNA_is_downstream_of_sequence_of_OBO.rename(columns={':START_ID':':END_ID',':END_ID':':START_ID'})\n",
    "OBO_is_upstream_of_sequence_of_RNA[\":TYPE\"] = \"is_upstream_of_sequence_of\"\n",
    "OBO_is_upstream_of_sequence_of_RNA.to_pickle(unprocessed_edge_data_location+'OBO_is_upstream_of_sequence_of_RNA.pkl')\n",
    "OBO_is_upstream_of_sequence_of_RNA.head(n=3)"
   ]
  },
  {
   "cell_type": "markdown",
   "metadata": {},
   "source": [
    "***\n",
    "### OBO - http://purl.obolibrary.org/obo/RO_0011008 (increases by expression quantity of) - RNA"
   ]
  },
  {
   "cell_type": "markdown",
   "metadata": {},
   "source": [
    "* [TransmiR](https://www.cuilab.cn/transmir) <br /> TransmiR is a database for transcription factor (TF)-microRNA (miRNA) regulations, through which one can find regulatory relations between TFs and miRNAs."
   ]
  },
  {
   "cell_type": "code",
   "execution_count": null,
   "metadata": {},
   "outputs": [],
   "source": [
    "!wget http://www.cuilab.cn/files/transmir3/download/H.sapiens.tsv.gz --no-check-certificate -O ../resources/processed_data/unprocessed_data/H.sapiens.tsv.gz"
   ]
  },
  {
   "cell_type": "code",
   "execution_count": null,
   "metadata": {},
   "outputs": [],
   "source": [
    "miRNA_TF2 = pd.read_csv(unprocessed_data_location+\"H.sapiens.tsv.gz\", sep=\"\\t\").drop(columns=['tss','spe','gid']) # TF (PRO)\n",
    "miRNA_TF2 = miRNA_TF2.merge(symbol_to_pro.rename(columns={0:'tf'}), on='tf').rename(columns={1:'Protein'}).drop(columns=['tf'])\n",
    "\n",
    "print(all(miRNA_TF2['mir'].isin(rnacentral_map_human['DB Description'])))\n",
    "print(miRNA_TF2[~miRNA_TF2['mir'].isin(rnacentral_map_human['DB Description'])]['mir'].str[:3].unique())\n",
    "miRNA_TF2 = miRNA_TF2[miRNA_TF2['mir'].str.startswith('hsa')]\n",
    "miRNA_RNA_miRNAnotInRNAcentral3p = miRNA_TF2[~miRNA_TF2['mir'].isin(rnacentral_map_human['DB Description'])]\n",
    "miRNA_RNA_miRNAnotInRNAcentral5p = miRNA_TF2[~miRNA_TF2['mir'].isin(rnacentral_map_human['DB Description'])]\n",
    "miRNA_RNA_miRNAnotInRNAcentral5p['mir'] = miRNA_RNA_miRNAnotInRNAcentral5p['mir'].astype(str) + '-3p'\n",
    "miRNA_RNA_miRNAnotInRNAcentral3p['mir'] = miRNA_RNA_miRNAnotInRNAcentral3p['mir'].astype(str) + '-5p'\n",
    "miRNA_RNA_miRNAnotInRNAcentral = pd.concat([miRNA_RNA_miRNAnotInRNAcentral3p, miRNA_RNA_miRNAnotInRNAcentral5p])\n",
    "miRNA_RNA_miRNAnotInRNAcentral = pd.merge(miRNA_RNA_miRNAnotInRNAcentral, rnacentral_map_human.rename(\n",
    "    columns={'DB Description':'mir'}), on='mir').drop(columns=['mir']).rename(columns={'RNAcentral ID':'RNA'})\n",
    "miRNA_TF2 = pd.merge(miRNA_TF2, rnacentral_map_human.rename(columns={'DB Description':'mir'}), on='mir').drop(\n",
    "    columns=['mir']).rename(columns={'RNAcentral ID':'RNA'})\n",
    "miRNA_TF2 = pd.concat([miRNA_TF2, miRNA_RNA_miRNAnotInRNAcentral]).drop(columns=['DB','DB ID','Organism','RNA category'])\n",
    "\n",
    "miRNA_TF2['active'] = miRNA_TF2['active'].str.lower()\n",
    "print(miRNA_TF2['active'].unique())\n",
    "miRNA_TF2['active'] = miRNA_TF2['active'].map({\n",
    "    'repression': 'Repression',\n",
    "    'activation(feedback)': 'Activation',\n",
    "    'activation': 'Activation',\n",
    "    'regulation': 'Regulation',\n",
    "    'repression(feedback)': 'Repression',\n",
    "    'regulation(feedback)': 'Regulation',\n",
    "    'autoregulatory negative feedback loop(feedback)': 'Regulation',\n",
    "    'auto-regulatory feedback circuit': 'Regulation',\n",
    "    'regulatory network': 'Regulation',\n",
    "    'activation(negative regulatory loop)': 'Activation',\n",
    "    'regulatory loop': 'Regulation',\n",
    "    'activation(a negative feedback loop)': 'Activation',\n",
    "    'regulation(double-negative Feedback Loop)': 'Regulation'\n",
    "})\n",
    "\n",
    "miRNA_TF2_lit = miRNA_TF2[miRNA_TF2['evi'] == 'literature']\n",
    "miRNA_TF2 = miRNA_TF2[miRNA_TF2['evi'] != 'literature']\n",
    "miRNA_TF2.drop(columns=['evi'],inplace=True)\n",
    "miRNA_TF2_lit = miRNA_TF2_lit.rename(columns={'idnum':'PMID'})\n",
    "miRNA_TF2_lit.drop(columns=['site','evi','tis','emethod'],inplace=True)\n",
    "miRNA_TF2_lit['Source'] = 'miRNet, TransmiR'\n",
    "miRNA_TF2['Source'] = 'TransmiR'\n",
    "miRNA_TF2 = pd.merge(miRNA_TF2, miRNA_TF2_lit, on=['active','Protein','RNA'], how='outer')\n",
    "miRNA_TF2['Source'] = miRNA_TF2['Source_x'].astype(str) + ', ' + miRNA_TF2['Source_y'].astype(str)\n",
    "\n",
    "miRNA_TF2.drop(columns=['Source_x','Source_y'],inplace=True)\n",
    "miRNA_TF2['Source'] = miRNA_TF2['Source'].str.split(', ')\n",
    "miRNA_TF2 = miRNA_TF2.explode('Source')\n",
    "miRNA_TF2 = miRNA_TF2[miRNA_TF2['Source']!='nan']\n",
    "miRNA_TF2.rename(columns={'active':'action_type','site':'Site','tis':'Tissue/cell_line','emethod':'Experimental_method'},inplace=True)\n",
    "\n",
    "miRNA_TF2['Experimental_method'] = miRNA_TF2['Experimental_method'].str.lower()\n",
    "miRNA_TF2 = pd.merge(miRNA_TF2, method_map, right_on='0_y', left_on='Experimental_method', how='left')\n",
    "miRNA_TF2['0_x'] = miRNA_TF2['0_x'].fillna(miRNA_TF2['Experimental_method'])\n",
    "miRNA_TF2 = miRNA_TF2.drop(columns=['0_y', 'Experimental_method'])\n",
    "miRNA_TF2 = miRNA_TF2.rename(columns={'0_x':'Method'})\n",
    "\n",
    "miRNA_TF2['Tissue/cell_line'] = miRNA_TF2['Tissue/cell_line'].str.lower()\n",
    "miRNA_TF2 = pd.merge(miRNA_TF2, location_map, right_on='0_y', left_on='Tissue/cell_line', how='left')\n",
    "miRNA_TF2['0_x'] = miRNA_TF2['0_x'].fillna(miRNA_TF2['Tissue/cell_line'])\n",
    "miRNA_TF2 = miRNA_TF2.drop(columns=['0_y', 'Tissue/cell_line'])\n",
    "miRNA_TF2 = miRNA_TF2.rename(columns={'0_x':'Location'})\n",
    "\n",
    "miRNA_TF2.drop(columns=['Site'],inplace=True)\n",
    "miRNA_TF2.rename(columns={'Protein':':START_ID','RNA':':END_ID'},inplace=True)\n",
    "\n",
    "miRNA_TF2.head(n=3)"
   ]
  },
  {
   "cell_type": "code",
   "execution_count": null,
   "metadata": {},
   "outputs": [],
   "source": [
    "miRNA_TF2_up = miRNA_TF2[miRNA_TF2['action_type'] == 'Activation'].drop(columns=['action_type'])\n",
    "miRNA_TF2_up.head(n=3)"
   ]
  },
  {
   "cell_type": "code",
   "execution_count": null,
   "metadata": {},
   "outputs": [],
   "source": [
    "miRNA_TF2_up = miRNA_TF2_up.groupby([':START_ID',':END_ID']).agg({'Source':set,'Location':set,'Method':set}).reset_index()\n",
    "miRNA_TF2_up[\":TYPE\"] = \"increases_by_expression_quantity_of\"\n",
    "miRNA_TF2_up.to_pickle(unprocessed_edge_data_location+'OBO_increases_by_expression_quantity_of_RNA.pkl')\n",
    "miRNA_TF2_up.head(n=3)"
   ]
  },
  {
   "cell_type": "markdown",
   "metadata": {},
   "source": [
    "***\n",
    "### OBO - http://purl.obolibrary.org/obo/RO_0011007 (decreases by repression quantity of) - RNA\n"
   ]
  },
  {
   "cell_type": "code",
   "execution_count": null,
   "metadata": {},
   "outputs": [],
   "source": [
    "miRNA_TF2_down = miRNA_TF2[miRNA_TF2['action_type'] == 'Repression'].drop(columns=['action_type']) # TF (PRO)\n",
    "miRNA_TF2_down.head(n=3)"
   ]
  },
  {
   "cell_type": "code",
   "execution_count": null,
   "metadata": {},
   "outputs": [],
   "source": [
    "miRNA_TF2_down = miRNA_TF2_down.groupby([':START_ID',':END_ID']).agg({'Source':set,'Location':set,'Method':set}).reset_index()\n",
    "miRNA_TF2_down[\":TYPE\"] = \"decreases_by_expression_quantity_of\"\n",
    "miRNA_TF2_down.to_pickle(unprocessed_edge_data_location+'OBO_decreases_by_expression_quantity_of_RNA.pkl')\n",
    "miRNA_TF2_down.head(n=3)"
   ]
  },
  {
   "cell_type": "markdown",
   "metadata": {},
   "source": [
    "***\n",
    "### OBO - http://purl.obolibrary.org/obo/RO_0011003 (regulates quantity of) - RNA"
   ]
  },
  {
   "cell_type": "code",
   "execution_count": null,
   "metadata": {},
   "outputs": [],
   "source": [
    "miRNA_TF2_reg = miRNA_TF2[miRNA_TF2['action_type'] == 'Regulation'].drop(columns=['action_type']) # TF (PRO)\n",
    "miRNA_TF2_reg.head(n=3)"
   ]
  },
  {
   "cell_type": "markdown",
   "metadata": {},
   "source": [
    "* [TAM](http://www.lirmed.com/tam2/)"
   ]
  },
  {
   "cell_type": "code",
   "execution_count": null,
   "metadata": {},
   "outputs": [],
   "source": [
    "with open(unprocessed_data_location+'mirset_v9.txt', 'r') as file:\n",
    "    data = file.read().rstrip()\n",
    "    \n",
    "TAM = pd.DataFrame([ ln.rstrip().split('\\t') for ln in\n",
    "                        io.StringIO(data).readlines() ]).fillna('')\n",
    "TAM = TAM.dropna(axis=1, how='all')\n",
    "\n",
    "miRNA_TF2=TAM[(TAM[0].str.contains(\"TF\"))]\n",
    "miRNA_TF2=miRNA_TF2.dropna(axis=1, how='all')\n",
    "miRNA_TF2=miRNA_TF2.drop(columns=[0])\n",
    "miRNA_TF2['merged'] = miRNA_TF2[miRNA_TF2.columns[1:]].apply(\n",
    "    lambda x: ','.join(x.dropna().astype(str)),\n",
    "    axis=1\n",
    ")\n",
    "miRNA_TF2=miRNA_TF2[[1,'merged']]\n",
    "\n",
    "miRNA_TF2['merged'] = miRNA_TF2.merged.str.split(',')\n",
    "miRNA_TF2 = miRNA_TF2.explode('merged')\n",
    "miRNA_TF2 = miRNA_TF2[miRNA_TF2.merged != '']\n",
    "\n",
    "print(all(miRNA_TF2['merged'].isin(rnacentral_map_human['DB Description'])))\n",
    "miRNA_TF2 = pd.merge(miRNA_TF2, rnacentral_map_human.rename(columns={'DB Description':'merged'}), on='merged').drop(\n",
    "    columns=['merged','DB','DB ID','Organism','RNA category']).rename(columns={'RNAcentral ID':'RNA'})\n",
    "miRNA_TF2 = pd.merge(miRNA_TF2, symbol_to_pro.rename(columns={0:1,1:'Protein'}), on=[1]).drop(columns=[1])\n",
    "\n",
    "miRNA_TF2['Source'] = 'TAM'\n",
    "miRNA_TF2 = miRNA_TF2.rename(columns={'RNA':':END_ID','Protein':':START_ID'})\n",
    "miRNA_TF2.head(n=3)"
   ]
  },
  {
   "cell_type": "code",
   "execution_count": null,
   "metadata": {},
   "outputs": [],
   "source": [
    "OBO_regulates_quantity_of_RNA = pd.concat([miRNA_TF2, miRNA_TF2_reg])\n",
    "OBO_regulates_quantity_of_RNA = OBO_regulates_quantity_of_RNA.groupby([':START_ID',':END_ID']).agg(\n",
    "    {'Source':set,'Location':set,'Method':set}).reset_index()\n",
    "OBO_regulates_quantity_of_RNA[\":TYPE\"] = \"regulates_quantity_of\"\n",
    "OBO_regulates_quantity_of_RNA.to_pickle(unprocessed_edge_data_location+'OBO_regulates_quantity_of_RNA.pkl')\n",
    "OBO_regulates_quantity_of_RNA.head(n=3)"
   ]
  },
  {
   "cell_type": "markdown",
   "metadata": {},
   "source": [
    "***\n",
    "### RNA - http://purl.obolibrary.org/obo/RO_0000085 (has function) - OBO"
   ]
  },
  {
   "cell_type": "markdown",
   "metadata": {},
   "source": [
    "* [Rfam](http://rfamlive.xfam.org/) <br /> The Rfam database is a collection of RNA families, each represented by multiple sequence alignments, consensus secondary structures and covariance models."
   ]
  },
  {
   "cell_type": "code",
   "execution_count": null,
   "metadata": {},
   "outputs": [],
   "source": [
    "rfam_gomf.head(n=3)"
   ]
  },
  {
   "cell_type": "markdown",
   "metadata": {},
   "source": [
    "* [TAM](http://www.lirmed.com/tam2/) <br /> TAM groups miRNAs into six categories of miRNA sets: miRNA-family sets, miRNA cluster sets, miRNA-disease, miRNA-function sets, miRNA-TF sets and tissue specificity sets."
   ]
  },
  {
   "cell_type": "code",
   "execution_count": null,
   "metadata": {},
   "outputs": [],
   "source": [
    "with open(unprocessed_data_location+'mirset_v9.txt', 'r') as file:\n",
    "    data = file.read().rstrip()\n",
    "    \n",
    "TAM = pd.DataFrame([ ln.rstrip().split('\\t') for ln in\n",
    "    io.StringIO(data).readlines() ]).fillna('')\n",
    "TAM=TAM.dropna(axis=1, how='all')\n",
    "\n",
    "miRNA_GO=TAM[TAM[0].str.contains(\"unction\")] # GO\n",
    "miRNA_GO[1] = miRNA_GO[1].str.lower()\n",
    "miRNA_GO=miRNA_GO.dropna(axis=1, how='all')\n",
    "miRNA_GO=miRNA_GO.drop(columns=[0])\n",
    "\n",
    "miRNA_GO['merged'] = miRNA_GO[miRNA_GO.columns[1:]].apply(\n",
    "    lambda x: ','.join(x.dropna().astype(str)),\n",
    "    axis=1\n",
    ")\n",
    "miRNA_GO=miRNA_GO[[1,'merged']]\n",
    "\n",
    "miRNA_GO['merged'] = miRNA_GO.merged.str.split(',')\n",
    "miRNA_GO = miRNA_GO.explode('merged')\n",
    "miRNA_GO = miRNA_GO[miRNA_GO.merged != '']\n",
    "\n",
    "print(all(miRNA_GO['merged'].isin(rnacentral_map_human['DB Description'])))\n",
    "# These are all dead hairpin entries\n",
    "print(miRNA_GO[~miRNA_GO['merged'].isin(rnacentral_map_human['DB Description'])])\n",
    "miRNA_GO = pd.merge(miRNA_GO, rnacentral_map_human.rename(columns={'DB Description':'merged'}), on='merged').drop(\n",
    "    columns=['merged','DB','DB ID','Organism','RNA category']).rename(columns={'RNAcentral ID':'RNA'})\n",
    "miRNA_GO = pd.merge(miRNA_GO, desc_go_map.rename(columns={0:1,1:'GO'}), on=[1]).drop(columns=[1])\n",
    "\n",
    "miRNA_GO['Source'] = 'TAM'\n",
    "miRNA_GO = miRNA_GO.rename(columns={'RNA':':START_ID','GO':':END_ID'})\n",
    "miRNA_GO.head(n=3)"
   ]
  },
  {
   "cell_type": "markdown",
   "metadata": {},
   "source": [
    "* [miRPathDB](https://mpd.bioinf.uni-sb.de/overview.html) <br /> miRPathDB includes miRNA candidates, experimentally validated target genes, extended analysis functionality, and intuitive visualizations of query results. "
   ]
  },
  {
   "cell_type": "code",
   "execution_count": null,
   "metadata": {},
   "outputs": [],
   "source": [
    "!wget https://mpd.bioinf.uni-sb.de/download/version_2/miRPathDB2_hsa_gmt.tar.gz -O ../resources/processed_data/unprocessed_data/miRPathDB2_hsa_gmt.tar.gz\n",
    "\n",
    "tar = tarfile.open(unprocessed_data_location+'miRPathDB2_hsa_gmt.tar.gz', 'r:gz')\n",
    "tar.extractall(unprocessed_data_location)\n",
    "tar.close()"
   ]
  },
  {
   "cell_type": "code",
   "execution_count": null,
   "metadata": {},
   "outputs": [],
   "source": [
    "with open(unprocessed_data_location+'hsa/GO_MF_validated_miRTarBase_strong.gmt', 'r') as file:\n",
    "    data = file.read().rstrip()\n",
    "    \n",
    "miRNA_GO2 = pd.DataFrame([ ln.rstrip().split('\\t') for ln in\n",
    "    io.StringIO(data).readlines() ]).fillna('')\n",
    "    \n",
    "miRNA_GO2[0] = miRNA_GO2[0].str.lower()\n",
    "miRNA_GO2=miRNA_GO2.dropna(axis=1, how='all')\n",
    "miRNA_GO2=miRNA_GO2.drop(columns=[1])\n",
    "miRNA_GO2 = pd.merge(desc_go_map, miRNA_GO2, left_on=[0], right_on=[0])\n",
    "miRNA_GO2 = miRNA_GO2.dropna(axis=1, how='all')\n",
    "\n",
    "dflist = list()\n",
    "for i in range(len(miRNA_GO2)):\n",
    "    df=pd.DataFrame(columns=[0,1,2])\n",
    "    df[0] = miRNA_GO2.T[i].drop(index=[0,1])\n",
    "    df[1] = miRNA_GO2.T[i][0]\n",
    "    df[2] = miRNA_GO2.T[i][1]\n",
    "    dflist.append(df)\n",
    "\n",
    "miRNA_GO2=pd.DataFrame(columns=[0,1,2])\n",
    "for dataframe in dflist:\n",
    "    miRNA_GO2=pd.concat([miRNA_GO2,dataframe])\n",
    "miRNA_GO2 = miRNA_GO2.dropna()\n",
    "miRNA_GO2 = miRNA_GO2[miRNA_GO2[0] != '']\n",
    "\n",
    "print(all(miRNA_GO2[0].isin(rnacentral_map_human['DB Description'])))\n",
    "miRNA_GO2 = pd.merge(miRNA_GO2, rnacentral_map_human.rename(columns={'DB Description':0}), on=0).drop(\n",
    "    columns=[0,1,'DB','DB ID','Organism','RNA category']).rename(columns={'RNAcentral ID':'RNA'})\n",
    "\n",
    "miRNA_GO2['Source'] = 'miRPathDB'\n",
    "miRNA_GO2 = miRNA_GO2.rename(columns={'RNA':':START_ID',2:':END_ID'})\n",
    "miRNA_GO2.head(n=3)"
   ]
  },
  {
   "cell_type": "code",
   "execution_count": null,
   "metadata": {},
   "outputs": [],
   "source": [
    "RNA_has_function_OBO = pd.concat([miRNA_GO2, miRNA_GO, rfam_gomf])\n",
    "RNA_has_function_OBO = RNA_has_function_OBO.groupby([':START_ID',':END_ID']).agg({'Source':set}).reset_index()\n",
    "RNA_has_function_OBO[\":TYPE\"] = \"has_function\"\n",
    "RNA_has_function_OBO.to_pickle(unprocessed_edge_data_location+'RNA_has_function_OBO.pkl')\n",
    "OBO_function_of_RNA = RNA_has_function_OBO.rename(columns={':START_ID':':END_ID',':END_ID':':START_ID'})\n",
    "OBO_function_of_RNA[\":TYPE\"] = \"function_of\"\n",
    "OBO_function_of_RNA.to_pickle(unprocessed_edge_data_location+'OBO_function_of_RNA.pkl')\n",
    "OBO_function_of_RNA.head(n=3)"
   ]
  },
  {
   "cell_type": "markdown",
   "metadata": {},
   "source": [
    "***\n",
    "### OBO - http://purl.obolibrary.org/obo/RO_0000056 (participates in) - Reactome"
   ]
  },
  {
   "cell_type": "markdown",
   "metadata": {},
   "source": [
    "* Reactome"
   ]
  },
  {
   "cell_type": "code",
   "execution_count": null,
   "metadata": {},
   "outputs": [],
   "source": [
    "data_downloader(\"https://reactome.org/download/current/ChEBI2Reactome_All_Levels.txt\", unprocessed_data_location)"
   ]
  },
  {
   "cell_type": "code",
   "execution_count": null,
   "metadata": {},
   "outputs": [],
   "source": [
    "chemical_reactome = pd.read_csv(unprocessed_data_location+'ChEBI2Reactome_All_Levels.txt', sep='\\t', header=None)\n",
    "chemical_reactome = chemical_reactome[chemical_reactome[5] == 'Homo sapiens']\n",
    "chemical_reactome[0] = 'CHEBI_' + chemical_reactome[0].astype(str)\n",
    "chemical_reactome[2] = chemical_reactome[2].str.replace(\"https://reactome.org/PathwayBrowser/#/\",\"\")\n",
    "chemical_reactome = chemical_reactome[[0,2,4]].rename(columns={0:':START_ID', 2:':END_ID', 4:'GO_evidence'})\n",
    "chemical_reactome['Source'] = 'Reactome'\n",
    "chemical_reactome.head(n=3)"
   ]
  },
  {
   "cell_type": "code",
   "execution_count": null,
   "metadata": {},
   "outputs": [],
   "source": [
    "data_downloader(\"https://reactome.org/download/current/UniProt2Reactome_All_Levels.txt\", unprocessed_data_location)"
   ]
  },
  {
   "cell_type": "code",
   "execution_count": null,
   "metadata": {},
   "outputs": [],
   "source": [
    "pro_reactome = pd.read_csv(unprocessed_data_location+'UniProt2Reactome_All_Levels.txt', sep='\\t', header=None)\n",
    "pro_reactome = pro_reactome[pro_reactome[5] == 'Homo sapiens']\n",
    "pro_reactome = pd.merge(pro_reactome, unipro_pro_map, on=0)\n",
    "pro_reactome[2] = pro_reactome[2].str.replace(\"https://reactome.org/PathwayBrowser/#/\",\"\")\n",
    "pro_reactome = pro_reactome[['1_y',2,4]].rename(columns={'1_y':':START_ID', 2:':END_ID', 4:'GO_evidence'})\n",
    "pro_reactome['Source'] = 'Reactome'\n",
    "pro_reactome.head(n=3)"
   ]
  },
  {
   "cell_type": "code",
   "execution_count": null,
   "metadata": {},
   "outputs": [],
   "source": [
    "OBO_participates_in_reactome = pd.concat([chemical_reactome, pro_reactome])\n",
    "OBO_participates_in_reactome = OBO_participates_in_reactome.groupby([':START_ID',':END_ID']).agg({'Source':set,'GO_evidence':set}).reset_index()\n",
    "OBO_participates_in_reactome[\":TYPE\"] = \"participates_in\"\n",
    "OBO_participates_in_reactome.to_pickle(unprocessed_edge_data_location+'OBO_participates_in_reactome.pkl')\n",
    "reactome_has_participant_OBO = OBO_participates_in_reactome.rename(columns={':START_ID':':END_ID',':END_ID':':START_ID'})\n",
    "reactome_has_participant_OBO[\":TYPE\"] = \"has_participant\"\n",
    "reactome_has_participant_OBO.to_pickle(unprocessed_edge_data_location+'reactome_has_participant_OBO.pkl')\n",
    "reactome_has_participant_OBO.head(n=3)"
   ]
  },
  {
   "cell_type": "markdown",
   "metadata": {},
   "source": [
    "***\n",
    "### Gene - http://purl.obolibrary.org/obo/RO_0000056 (participates in) - Reactome"
   ]
  },
  {
   "cell_type": "markdown",
   "metadata": {},
   "source": [
    "* CTD"
   ]
  },
  {
   "cell_type": "code",
   "execution_count": null,
   "metadata": {},
   "outputs": [],
   "source": [
    "data_downloader(\"https://ctdbase.org/reports/CTD_genes_pathways.tsv.gz\", unprocessed_data_location)"
   ]
  },
  {
   "cell_type": "code",
   "execution_count": null,
   "metadata": {},
   "outputs": [],
   "source": [
    "ctd_pathway = pd.read_csv(unprocessed_data_location+'CTD_genes_pathways.tsv', sep='\\t', comment=\"#\",\n",
    "                          names=['GeneSymbol','GeneID','PathwayName','PathwayID'])\n",
    "\n",
    "ctd_pathway = ctd_pathway[['GeneID','PathwayID']]\n",
    "ctd_pathway = ctd_pathway[ctd_pathway['PathwayID'].str.startswith('REACT:R-HSA-')]\n",
    "ctd_pathway['PathwayID'] = ctd_pathway['PathwayID'].str.replace('REACT:','')\n",
    "ctd_pathway.rename(columns={'GeneID':':START_ID','PathwayID':':END_ID'},inplace=True)\n",
    "ctd_pathway['Source'] = \"CTD\"\n",
    "ctd_pathway.head(n=3)"
   ]
  },
  {
   "cell_type": "code",
   "execution_count": null,
   "metadata": {},
   "outputs": [],
   "source": [
    "ctd_pathway = ctd_pathway.groupby([':START_ID',':END_ID']).agg({'Source':set}).reset_index()\n",
    "ctd_pathway[\":TYPE\"] = \"participates_in\"\n",
    "ctd_pathway.to_pickle(unprocessed_edge_data_location+'gene_participates_in_reactome.pkl')\n",
    "\n",
    "ctd_pathway = ctd_pathway.rename(columns={':START_ID':':END_ID',':END_ID':':START_ID'})\n",
    "ctd_pathway[\":TYPE\"] = \"has_participant\"\n",
    "ctd_pathway.to_pickle(unprocessed_edge_data_location+'reactome_has_participant_gene.pkl')\n",
    "ctd_pathway.head(n=3)"
   ]
  },
  {
   "cell_type": "markdown",
   "metadata": {},
   "source": [
    "***\n",
    "### RNA - http://purl.obolibrary.org/obo/RO_0000056 (participates in) - Reactome"
   ]
  },
  {
   "cell_type": "markdown",
   "metadata": {},
   "source": [
    "* [miRPathDB](https://mpd.bioinf.uni-sb.de/overview.html)"
   ]
  },
  {
   "cell_type": "code",
   "execution_count": null,
   "metadata": {},
   "outputs": [],
   "source": [
    "with open(unprocessed_data_location+'hsa/KEGG_validated_miRTarBase_strong.gmt', 'r') as file:\n",
    "    data = file.read().rstrip()\n",
    "    \n",
    "miRNA_pw = pd.DataFrame([ ln.rstrip().split('\\t') for ln in\n",
    "    io.StringIO(data).readlines() ]).fillna('')\n",
    "    \n",
    "miRNA_pw = miRNA_pw.dropna(axis=1, how='all')\n",
    "miRNA_pw[0] = miRNA_pw[0].str.lower()\n",
    "miRNA_pw = miRNA_pw.drop(columns=[1])\n",
    "miRNA_pw = pd.merge(desc_reactome_map, miRNA_pw, on=[0])\n",
    "miRNA_pw = miRNA_pw.dropna(axis=1, how='all')\n",
    "\n",
    "dflist = list()\n",
    "for i in range(len(miRNA_pw)):\n",
    "    df = pd.DataFrame(columns=[0, 1, 2])\n",
    "    df[0] = miRNA_pw.T[i].drop(index=[0, 1])\n",
    "    df[1] = miRNA_pw.T[i][0]\n",
    "    df[2] = miRNA_pw.T[i][1]\n",
    "    dflist.append(df)\n",
    "\n",
    "miRNA_pw = pd.DataFrame(columns=[0, 1, 2])\n",
    "for dataframe in dflist:\n",
    "    miRNA_pw = pd.concat([miRNA_pw, dataframe])\n",
    "miRNA_pw = miRNA_pw.dropna()\n",
    "miRNA_pw = miRNA_pw[miRNA_pw[0] != '']\n",
    "\n",
    "miRNA_pw = pd.merge(miRNA_pw, rnacentral_map_human.rename(columns={'DB Description':0}), on=0).drop(\n",
    "    columns=[0,1,'DB','DB ID','Organism','RNA category']).rename(columns={'RNAcentral ID':':START_ID', 2:':END_ID'})\n",
    "miRNA_pw['Source'] = 'miRPathDB'\n",
    "miRNA_pw.head(n=3)"
   ]
  },
  {
   "cell_type": "code",
   "execution_count": null,
   "metadata": {},
   "outputs": [],
   "source": [
    "#tar = tarfile.open(unprocessed_data_location+'miRPathDB2_hsa_gmt.tar.gz', 'r:gz')\n",
    "#tar.extractall(unprocessed_data_location)\n",
    "#tar.close()\n",
    "\n",
    "with open(unprocessed_data_location+'hsa/REACTOME_validated_miRTarBase_strong.gmt', 'r') as file:\n",
    "    data = file.read().rstrip()\n",
    "    \n",
    "miRNA_pw2 = pd.DataFrame([ ln.rstrip().split('\\t') for ln in\n",
    "    io.StringIO(data).readlines() ]).fillna('')\n",
    "\n",
    "miRNA_pw2 = miRNA_pw2.drop(columns=[1])\n",
    "miRNA_pw2[0] = miRNA_pw2[0].str.lower()\n",
    "miRNA_pw2 = pd.merge(desc_reactome_map, miRNA_pw2, on=[0])\n",
    "miRNA_pw2 = miRNA_pw2.dropna(axis=1, how='all')\n",
    "\n",
    "dflist = list()\n",
    "for i in range(len(miRNA_pw2)):\n",
    "    df = pd.DataFrame(columns=[0, 1, 2])\n",
    "    df[0] = miRNA_pw2.T[i].drop(index=[0, 1])\n",
    "    df[1] = miRNA_pw2.T[i][0]\n",
    "    df[2] = miRNA_pw2.T[i][1]\n",
    "    dflist.append(df)\n",
    "\n",
    "miRNA_pw2 = pd.DataFrame(columns=[0, 1, 2])\n",
    "for dataframe in dflist:\n",
    "    miRNA_pw2 = pd.concat([miRNA_pw2, dataframe])\n",
    "miRNA_pw2 = miRNA_pw2.dropna()\n",
    "miRNA_pw2 = miRNA_pw2[miRNA_pw2[0] != '']\n",
    "\n",
    "print(all(miRNA_pw2[0].isin(rnacentral_map_human['DB Description'])))\n",
    "miRNA_pw2 = pd.merge(miRNA_pw2, rnacentral_map_human.rename(columns={'DB Description':0}), on=0).drop(\n",
    "    columns=[0,1,'DB','DB ID','Organism','RNA category']).rename(columns={'RNAcentral ID':'RNA'})\n",
    "\n",
    "miRNA_pw2['Source'] = 'miRPathDB'\n",
    "miRNA_pw2 = miRNA_pw2.rename(columns={'RNA':':START_ID',2:':END_ID'})\n",
    "miRNA_pw2.head(n=3)"
   ]
  },
  {
   "cell_type": "code",
   "execution_count": null,
   "metadata": {},
   "outputs": [],
   "source": [
    "miRNA_pw = pd.concat([miRNA_pw, miRNA_pw2])\n",
    "miRNA_pw = miRNA_pw.groupby([':START_ID',':END_ID']).agg({'Source':set}).reset_index()\n",
    "miRNA_pw[\":TYPE\"] = \"participates_in\"\n",
    "miRNA_pw.to_pickle(unprocessed_edge_data_location+'RNA_participates_in_reactome.pkl')\n",
    "\n",
    "miRNA_pw = miRNA_pw.rename(columns={':START_ID':':END_ID',':END_ID':':START_ID'})\n",
    "miRNA_pw[\":TYPE\"] = \"has_participant\"\n",
    "miRNA_pw.to_pickle(unprocessed_edge_data_location+'reactome_has_participant_RNA.pkl')\n",
    "miRNA_pw.head(n=3)"
   ]
  },
  {
   "cell_type": "markdown",
   "metadata": {},
   "source": [
    "***\n",
    "### RNA - http://purl.obolibrary.org/obo/RO_0000056 (participates in) - WikiPathways"
   ]
  },
  {
   "cell_type": "markdown",
   "metadata": {},
   "source": [
    "* [miRPathDB](https://mpd.bioinf.uni-sb.de/overview.html)"
   ]
  },
  {
   "cell_type": "code",
   "execution_count": null,
   "metadata": {},
   "outputs": [],
   "source": [
    "with open(unprocessed_data_location+'hsa/WIKIPATHWAYS_validated_miRTarBase_strong.gmt', 'r') as file:\n",
    "    data = file.read().rstrip()\n",
    "    \n",
    "miRNA_pw = pd.DataFrame([ ln.rstrip().split('\\t') for ln in\n",
    "    io.StringIO(data).readlines() ]).fillna('')\n",
    "\n",
    "miRNA_pw[0] = miRNA_pw[0].str.replace('-', ' ').str.lower()\n",
    "miRNA_pw[0] = miRNA_pw[0].str.replace('/', ' ')\n",
    "miRNA_pw[0] = miRNA_pw[0].str.replace(':', ' ')\n",
    "miRNA_pw[0] = miRNA_pw[0].str.replace(r'\\(.*\\)', '', regex=True)\n",
    "miRNA_pw.head(n=1)"
   ]
  },
  {
   "cell_type": "code",
   "execution_count": null,
   "metadata": {},
   "outputs": [],
   "source": [
    "miRNA_pw = miRNA_pw.dropna(axis=1, how='all')\n",
    "miRNA_pw = miRNA_pw.drop(columns=[1])\n",
    "miRNA_pw = pd.merge(desc_wpw_map, miRNA_pw, on=[0])\n",
    "miRNA_pw = miRNA_pw.dropna(axis=1, how='all')\n",
    "\n",
    "dflist = list()\n",
    "for i in range(len(miRNA_pw)):\n",
    "    df = pd.DataFrame(columns=[0, 1, 2])\n",
    "    df[0] = miRNA_pw.T[i].drop(index=[0, 1])\n",
    "    df[1] = miRNA_pw.T[i][0]\n",
    "    df[2] = miRNA_pw.T[i][1]\n",
    "    dflist.append(df)\n",
    "\n",
    "miRNA_pw = pd.DataFrame(columns=[0, 1, 2])\n",
    "for dataframe in dflist:\n",
    "    miRNA_pw = pd.concat([miRNA_pw, dataframe])\n",
    "miRNA_pw = miRNA_pw.dropna()\n",
    "miRNA_pw = miRNA_pw[miRNA_pw[0] != '']\n",
    "\n",
    "print(all(miRNA_pw[0].isin(rnacentral_map_human['DB Description'])))\n",
    "miRNA_pw = pd.merge(miRNA_pw, rnacentral_map_human.rename(columns={'DB Description':0}), on=0).drop(\n",
    "    columns=[0,1,'DB','DB ID','Organism','RNA category']).rename(columns={'RNAcentral ID':'RNA'})\n",
    "\n",
    "miRNA_pw['Source'] = 'miRPathDB'\n",
    "miRNA_pw = miRNA_pw.rename(columns={'RNA':':START_ID',2:':END_ID'})\n",
    "miRNA_pw.head(n=3)"
   ]
  },
  {
   "cell_type": "code",
   "execution_count": null,
   "metadata": {},
   "outputs": [],
   "source": [
    "miRNA_pw = miRNA_pw.groupby([':START_ID',':END_ID']).agg({'Source':set}).reset_index()\n",
    "miRNA_pw[\":TYPE\"] = \"participates_in\"\n",
    "miRNA_pw.to_pickle(unprocessed_edge_data_location+'RNA_participates_in_wikipathways.pkl')\n",
    "miRNA_pw = miRNA_pw.rename(columns={':START_ID':':END_ID',':END_ID':':START_ID'})\n",
    "miRNA_pw[\":TYPE\"] = \"has_participant\"\n",
    "miRNA_pw.to_pickle(unprocessed_edge_data_location+'wikipathways_has_participant_RNA.pkl')\n",
    "miRNA_pw.head(n=3)"
   ]
  },
  {
   "cell_type": "markdown",
   "metadata": {},
   "source": [
    "***\n",
    "### RNA - http://purl.obolibrary.org/obo/RO_0003002 (represses expression of) - Gene"
   ]
  },
  {
   "cell_type": "markdown",
   "metadata": {},
   "source": [
    "* [Addgene](https://www.addgene.org/)"
   ]
  },
  {
   "cell_type": "code",
   "execution_count": null,
   "metadata": {},
   "outputs": [],
   "source": [
    "# copy-paste table from https://www.addgene.org/crispr/reference/grna-sequence/#datatable\n",
    "gRNA_gene = pd.read_csv(unprocessed_data_location + 'grna_sequences_addgene.txt', sep='\\t', dtype = {\"Plasmid ID\":str})  \n",
    "gRNA_gene.columns=gRNA_gene.columns.str.rstrip()\n",
    "gRNA_gene = gRNA_gene[gRNA_gene['Target Species'].notna()]\n",
    "gRNA_gene = gRNA_gene[gRNA_gene['Target Species'].str.contains('apiens')]\n",
    "gRNA_gene = gRNA_gene[~gRNA_gene['Plasmid ID'].isna()]\n",
    "gRNA_gene['Plasmid ID'] = 'www.addgene.org/'+gRNA_gene['Plasmid ID'].astype(str).str.rstrip()\n",
    "gRNA_gene['Target Gene'] = gRNA_gene['Target Gene'].str.upper().astype(str).str.rstrip()\n",
    "gRNA_gene.drop(columns=['Target Species','Cas9 Species','Depositor'],inplace=True)\n",
    "\n",
    "gRNA_gene = gRNA_gene.merge(symbol_entrez_map.rename(columns={0:'Target Gene'}), on='Target Gene').drop(\n",
    "    columns=['Target Gene']).rename(columns={1:'Target Gene'})\n",
    "\n",
    "gRNA_gene['PubMed ID'] = gRNA_gene['PubMed ID'].str.replace(' $', '', regex=True)\n",
    "gRNA_gene['PubMed ID'] = pd.to_numeric(gRNA_gene['PubMed ID'], errors='coerce')\n",
    "gRNA_gene['PubMed ID'] = gRNA_gene['PubMed ID'].astype(str)\n",
    "gRNA_gene['PubMed ID'] = gRNA_gene['PubMed ID'].str.replace(\".0\", \"\")\n",
    "gRNA_gene['PubMed ID'] = gRNA_gene['PubMed ID'].replace(\"nan\", np.nan)\n",
    "\n",
    "gRNA_gene.Application = gRNA_gene.Application.str.replace(' $', '', regex=True)\n",
    "gRNA_gene['Application'] = gRNA_gene['Application'].str.lower().str.split(\"/\")\n",
    "gRNA_gene = gRNA_gene.explode('Application')\n",
    "gRNA_gene = pd.merge(gRNA_gene, method_map, right_on='0_y', left_on='Application', how='left')\n",
    "gRNA_gene['0_x'] = gRNA_gene['0_x'].fillna(gRNA_gene['Application'])\n",
    "gRNA_gene = gRNA_gene.drop(columns=['0_y', 'Application'])\n",
    "gRNA_gene = gRNA_gene.rename(columns={'0_x':'Location'})\n",
    "\n",
    "gRNA_gene['Source'] = 'Addgene'\n",
    "gRNA_gene.rename(columns={'Plasmid ID':':START_ID','Target Gene':':END_ID','PubMed ID':'PubMedID'},inplace=True)\n",
    "gRNA_gene.head(n=3)"
   ]
  },
  {
   "cell_type": "markdown",
   "metadata": {},
   "source": [
    "* [eSkip-Finder](https://eskip-finder.org/cgi-bin/input.cgi) <br /> eSkip-Finder is the first machine learning-based design tool and database of antisense oligonucleotides (ASOs) for exon skipping. A significant challenge, however, is the difficulty in selecting an optimal target sequence for exon skipping."
   ]
  },
  {
   "cell_type": "code",
   "execution_count": null,
   "metadata": {},
   "outputs": [],
   "source": [
    "# We define a function to fetch the PubMed ID from the reference provided by eSkip-Finder \n",
    "Entrez.email = \"emanuele.cavalleri@unimi.it\"\n",
    "\n",
    "def fetch_pubmed_id(reference):\n",
    "    try:\n",
    "        handle = Entrez.esearch(db=\"pubmed\", term=reference, retmax=1)  \n",
    "        record = Entrez.read(handle)\n",
    "        handle.close()\n",
    "        # Return the first PubMed ID if available\n",
    "        if record[\"IdList\"]:\n",
    "            return record[\"IdList\"][0]\n",
    "        else:\n",
    "            return \"Null\"\n",
    "    except Exception as e:\n",
    "        return f\"Error: {e}\""
   ]
  },
  {
   "cell_type": "code",
   "execution_count": null,
   "metadata": {},
   "outputs": [],
   "source": [
    "# https://eskip-finder.org/ --> Search the Database --> Search 'All' on Species=human\n",
    "ASO_mRNA = pd.read_html(unprocessed_data_location + '.htmeSkip-Finderl')[2]\n",
    "ASO_mRNA = ASO_mRNA[ASO_mRNA['Species'] == 'human']\n",
    "ASO_mRNA = ASO_mRNA[ASO_mRNA['Oligo name in literature'] != 'Null']\n",
    "ASO_mRNA = ASO_mRNA[ASO_mRNA['confidence level (1:describe to explicitly / 0:speculated from context)']=='1']\n",
    "ASO_mRNA.drop(columns=['Oligo index in literature',\"Oligo concentration\",\"Unit for oligo concentration\",\n",
    "                       'Oligo sequence /: Cocktail. -: weasel (connected).',\"Electroporation (Yes/No)\",\n",
    "                       'cap of 5 or 3 terminal (Conjugated end is not specified.)',\"Use of transfection reagent (Yes/No)\",\n",
    "                       'cap of 5 terminal','cap of 3 terminal',\"nested pcr?\",\"Standard type\",\"Standard relation\",\n",
    "                       'Species','Literature info (Patent ID) (original)',\"Standard value\",\n",
    "                       'Oligo chemistry','Title','Date','Inventor','Assignee/Applicants',\"Alternative/translated literature\",\n",
    "                       \"confidence level (1:describe to explicitly / 0:speculated from context)\",\n",
    "                       'Figure/Table in literature','Appendix','Unnamed: 31'],inplace=True)\n",
    "ASO_mRNA = pd.merge(ASO_mRNA,symbol_entrez_map.rename(columns={0:'Target gene (RNA)'}), on='Target gene (RNA)').drop(\n",
    "    columns=['Target gene (RNA)']).rename(columns={1:'Gene'})\n",
    "ASO_mRNA['Oligo name in literature'] = ASO_mRNA['Oligo name in literature'].str.strip()\n",
    "ASO_mRNA['Oligo name in literature'] = ASO_mRNA['Oligo name in literature'].str.replace(' ', '')\n",
    "ASO_mRNA['# of oligo'] = ASO_mRNA['# of oligo'].str.replace('Null',\"1\")\n",
    "ASO_mRNA['# of oligo'] = ASO_mRNA['# of oligo'].str.replace('unspecified',\"1\").astype(int)\n",
    "ASO_mRNA[\"Reference\"] = ASO_mRNA[\"Reference\"].str.strip()\n",
    "print(ASO_mRNA[\"Reference\"].unique()[:3])\n",
    "reference_mapping = {ref: fetch_pubmed_id(ref) for ref in ASO_mRNA[\"Reference\"].unique()}\n",
    "list(reference_mapping.items())[:3]"
   ]
  },
  {
   "cell_type": "code",
   "execution_count": null,
   "metadata": {},
   "outputs": [],
   "source": [
    "reference_df = pd.DataFrame.from_dict(reference_mapping, orient=\"index\", columns=[\"PubMed ID\"])\n",
    "reference_df.index.name = \"Reference\"\n",
    "reference_df.reset_index(inplace=True)\n",
    "ASO_mRNA = ASO_mRNA.merge(reference_df, on=\"Reference\", how=\"left\").drop(columns=[\"Reference\"])\n",
    "\n",
    "ASO_mRNA['cells used'] = ASO_mRNA['cells used'].str.lower()\n",
    "ASO_mRNA = pd.merge(ASO_mRNA, location_map, right_on='0_y', left_on='cells used', how='left')\n",
    "ASO_mRNA['0_x'] = ASO_mRNA['0_x'].fillna(ASO_mRNA['cells used'])\n",
    "ASO_mRNA = ASO_mRNA.drop(columns=['0_y', 'cells used'])\n",
    "ASO_mRNA = ASO_mRNA.rename(columns={'0_x':'Location'})\n",
    "ASO_mRNA['Location'] = ASO_mRNA['Location'].replace('null',np.nan)\n",
    "\n",
    "ASO_mRNA['Transfection reagent detail (Name, concentration)'] = ASO_mRNA['Transfection reagent detail (Name, concentration)'].str.lower()\n",
    "ASO_mRNA = pd.merge(ASO_mRNA, method_map, right_on='0_y', left_on='Transfection reagent detail (Name, concentration)', how='left')\n",
    "ASO_mRNA['0_x'] = ASO_mRNA['0_x'].fillna(ASO_mRNA['Transfection reagent detail (Name, concentration)'])\n",
    "ASO_mRNA = ASO_mRNA.drop(columns=['0_y', 'Transfection reagent detail (Name, concentration)'])\n",
    "ASO_mRNA = ASO_mRNA.rename(columns={'0_x':'Method'})\n",
    "ASO_mRNA['Method'] = ASO_mRNA['Method'].replace('null',np.nan)\n",
    "\n",
    "ASO_mRNA['Source'] = 'eSkip-Finder'\n",
    "ASO_mRNA.rename(columns={'Gene':':END_ID', \"Oligo name in literature\":':START_ID','# of oligo':'Number_of_oligos','Target exon':'Exon'},inplace=True)\n",
    "ASO_mRNA.head(n=3)"
   ]
  },
  {
   "cell_type": "code",
   "execution_count": null,
   "metadata": {},
   "outputs": [],
   "source": [
    "RNA_represses_expression_of_Gene = pd.concat([ASO_mRNA, gRNA_gene])\n",
    "RNA_represses_expression_of_Gene = RNA_represses_expression_of_Gene.groupby([':START_ID',':END_ID']).agg(\n",
    "    {'Source':set,'Location':set,'Method':set,'PubMedID':set,'Number_of_oligos':np.mean,'Exon':set}).reset_index()\n",
    "RNA_represses_expression_of_Gene[\":TYPE\"] = \"represses_expression_of\"\n",
    "RNA_represses_expression_of_Gene.to_pickle(unprocessed_edge_data_location+'RNA_represses_expression_of_gene.pkl')\n",
    "RNA_represses_expression_of_Gene.head(n=3)"
   ]
  },
  {
   "cell_type": "markdown",
   "metadata": {},
   "source": [
    "***\n",
    "### RNA - http://purl.obolibrary.org/obo/RO_0003002 (represses expression of) - RNA"
   ]
  },
  {
   "cell_type": "markdown",
   "metadata": {},
   "source": [
    "* [The MIT/ICBP siRNA Database](http://web.mit.edu/sirna/index.html) <br /> The MIT/ICBP siRNA Database has validated siRNA and shRNA sequences against over 100 genes."
   ]
  },
  {
   "cell_type": "code",
   "execution_count": null,
   "metadata": {},
   "outputs": [],
   "source": [
    "ICBP = pd.read_html('http://web.mit.edu/sirna/sirnas-gene.html') # siRNA\n",
    "ICBP = ICBP[1]\n",
    "ICBP.columns = ICBP.iloc[[0]].squeeze()\n",
    "ICBP.drop(0, inplace=True)\n",
    "ICBP[['ID#']] = ICBP[['ID#']] + '.html'\n",
    "ICBP.head(n=3)"
   ]
  },
  {
   "cell_type": "code",
   "execution_count": null,
   "metadata": {},
   "outputs": [],
   "source": [
    "ICBPsiRNA = ICBP.loc[(ICBP['siRNA'] == 'x') & (ICBP['Human'] == 'x')]\n",
    "ICBPsiRNA['Protein knockdown'] = ICBPsiRNA['Protein knockdown'].replace('---',np.nan)\n",
    "ICBPsiRNA['mRNA knockdown'] = ICBPsiRNA['mRNA knockdown'].replace('---',np.nan)\n",
    "ICBPsiRNA.drop(columns=['siRNA','shRNA','Mouse','Human'],inplace=True)\n",
    "ICBPsiRNA.head(n=3)"
   ]
  },
  {
   "cell_type": "code",
   "execution_count": null,
   "metadata": {},
   "outputs": [],
   "source": [
    "def extract_term_to_search_ids(url):\n",
    "    # Fetch the HTML content from the URL\n",
    "    response = requests.get(url)\n",
    "    html_content = response.text\n",
    "\n",
    "    # Parse the HTML with BeautifulSoup\n",
    "    soup = BeautifulSoup(html_content, 'html.parser')\n",
    "\n",
    "    # Find all hyperlinks (assuming the hyperlinks are within <a> tags)\n",
    "    hyperlinks = []\n",
    "    for link in soup.find_all('a', href=True):\n",
    "        hyperlinks.append(link['href'])\n",
    "    #print(hyperlinks[-1:])\n",
    "    # Regular expression to find 'TermToSearch=' followed by digits or letters\n",
    "    pattern = r'(?:[\\?&]term=([a-zA-Z0-9]+))|(?:TermToSearch=([a-zA-Z0-9]+))'\n",
    "\n",
    "    # List to hold extracted IDs\n",
    "    extracted_ids = []\n",
    "\n",
    "    # Iterate through the hyperlinks and search for matches\n",
    "    for link in hyperlinks:\n",
    "        matches = re.findall(pattern, link)  # Find all matches in the link\n",
    "        for match in matches:\n",
    "            # Each match contains two groups; pick the first non-empty one\n",
    "            extracted_ids.append(match[0] or match[1])\n",
    "\n",
    "    return extracted_ids if extracted_ids else ['nan']\n",
    "\n",
    "# Example usage:\n",
    "url = 'http://web.mit.edu/sirna/sequences/results-1000.html'\n",
    "ids = extract_term_to_search_ids(url)\n",
    "print(ids)"
   ]
  },
  {
   "cell_type": "code",
   "execution_count": null,
   "metadata": {},
   "outputs": [],
   "source": [
    "def process_sirna_data(ICBPsiRNA):\n",
    "    \"\"\"\n",
    "    Processes a DataFrame of sirna data, fetches, extracts and processes information for each sirna ID.\n",
    "    \"\"\"\n",
    "    # Initialize an empty DataFrame to hold the results\n",
    "    property_df = pd.DataFrame()\n",
    "\n",
    "    # Iterate over each unique sirna_id\n",
    "    for sirna_id in ICBPsiRNA['ID#'].unique():\n",
    "        \n",
    "        url = 'http://web.mit.edu/sirna/sequences/results-' + sirna_id\n",
    "        \n",
    "        # Read the HTML content and extract the table using pandas\n",
    "        ICBP = pd.read_html(url)\n",
    "        #print(url)\n",
    "        df = ICBP[1]\n",
    "        df = df.T  # Transpose the dataframe\n",
    "        df.reset_index(drop=True, inplace=True)\n",
    "        #print(df)\n",
    "        df.rename(columns={2:'Target Gene Info',13:'Gene Origin Info'}, inplace=True)\n",
    "        df=df[['Target Gene Info','Gene Origin Info']]\n",
    "\n",
    "        # Extract specific information from the columns using regex\n",
    "        df['Target Gene Info'] = df['Target Gene Info'].str.extract(r'Target gene: (.*)')  # Extract NM_* info\n",
    "        df['Condition'] = df['Gene Origin Info'].str.extract(r'Cell type: (.*)')\n",
    "        df['Cell line'] = df['Gene Origin Info'].str.extract(r'Cell line: (.*)')\n",
    "\n",
    "        # Fill NaN values with empty strings\n",
    "        df['Target Gene Info'] = df['Target Gene Info'].fillna('')  \n",
    "        df['Gene Origin Info'] = df['Gene Origin Info'].fillna('')  \n",
    "        df['Condition'] = df['Condition'].fillna('')  \n",
    "        df['Cell line'] = df['Cell line'].fillna('')\n",
    "\n",
    "        # Extract the NM_* gene information\n",
    "        df['Target Gene Info'] = df['Target Gene Info'].str.extract(r'\\((NM_\\d+)\\)')[0]\n",
    "        df['Target Gene Info'] = df['Target Gene Info'].fillna('nan')\n",
    "\n",
    "        # Combine relevant rows into one DataFrame for a clean representation\n",
    "        df_combined = pd.DataFrame({\n",
    "            'Target Gene Info': df.iloc[0]['Target Gene Info'] + \" \" + df.iloc[1]['Target Gene Info'],\n",
    "            'Gene Origin Info': df.iloc[0]['Gene Origin Info'],  # Take from first row\n",
    "            'Condition': df.iloc[0]['Condition'],  # Take from first row\n",
    "            'Cell line': df.iloc[1]['Cell line']  # Take from second row\n",
    "        }, index=[0])\n",
    "\n",
    "        # Clean up the entries (remove redundant labels, if needed)\n",
    "        df_combined['Gene Origin Info'] = df_combined['Gene Origin Info'].replace(r'Cell type: ', '', regex=True)\n",
    "        df_combined['Cell line'] = df_combined['Cell line'].replace(r'Cell line: ', '', regex=True)\n",
    "        df_combined.drop(columns=['Gene Origin Info'], inplace=True)\n",
    "\n",
    "        # Extract the PMID values using the previously defined function\n",
    "        df_combined['PMID'] = extract_term_to_search_ids(url)\n",
    "        df_combined['ID#'] = sirna_id\n",
    "        # Concatenate the result to the main DataFrame\n",
    "        #print(df_combined)\n",
    "        property_df = pd.concat([property_df, df_combined])\n",
    "\n",
    "        # Debug prints (optional)\n",
    "        \n",
    "        #\n",
    "\n",
    "    # Return the final DataFrame containing all the processed data\n",
    "    return property_df\n",
    "\n",
    "# Example usage (assuming ICBPsiRNA is already loaded with the appropriate data):\n",
    "property_df = process_sirna_data(ICBPsiRNA)\n",
    "property_df['Target Gene Info'] = property_df['Target Gene Info'].str.replace(' nan', '')\n",
    "property_df['Target Gene Info'] = property_df['Target Gene Info'].replace('nan', np.nan)\n",
    "property_df['Target Gene Info'] = property_df['Target Gene Info'].str.upper()\n",
    "property_df.head(n=3)"
   ]
  },
  {
   "cell_type": "code",
   "execution_count": null,
   "metadata": {},
   "outputs": [],
   "source": [
    "df = pd.merge(ICBPsiRNA, property_df, on='ID#', how='left')\n",
    "df['Target Gene Info'] = df['Target Gene Info'].fillna(df['Target Gene'])\n",
    "ICBPsiRNA = df.drop(columns=['Target Gene','Protein knockdown'])\n",
    "ICBPsiRNA = ICBPsiRNA[ICBPsiRNA['mRNA knockdown'].notna()]\n",
    "ICBPsiRNA = pd.merge(ICBPsiRNA, ensembl_map[['transcript_stable_id','symbol']].rename(\n",
    "    columns={'symbol':'Target Gene Info'}).drop_duplicates(), on='Target Gene Info', how='left')\n",
    "ICBPsiRNA.transcript_stable_id = ICBPsiRNA.transcript_stable_id.fillna(ICBPsiRNA['Target Gene Info'])\n",
    "ICBPsiRNA['NCBI Probe #'] = \"NCBI/probereport.cgi?uid=\" + ICBPsiRNA['NCBI Probe #'].astype(str)\n",
    "ICBPsiRNA['NCBI Probe #'] = ICBPsiRNA['NCBI Probe #'].replace('NCBI/probereport.cgi?uid=N/A*', np.nan)\n",
    "ICBPsiRNA['NCBI Probe #'] = ICBPsiRNA['NCBI Probe #'].replace('NCBI/probereport.cgi?uid=nan', np.nan)\n",
    "\n",
    "ICBPsiRNA = pd.merge(ICBPsiRNA,\n",
    "                     rnacentral_map_human_refseq[['RNAcentral ID','RefSeq ID']].drop_duplicates().rename(\n",
    "                                             columns={'RNAcentral ID':'transcript_ensembl',\n",
    "                                                      'RefSeq ID':'transcript_stable_id'}), on='transcript_stable_id', how='left')\n",
    "ICBPsiRNA.drop(columns=['transcript_stable_id'],inplace=True)\n",
    "\n",
    "ICBPsiRNA['PMID'] = pd.to_numeric(ICBPsiRNA['PMID'], errors='coerce')\n",
    "ICBPsiRNA['PMID'] = ICBPsiRNA['PMID'].astype(str)\n",
    "ICBPsiRNA['PMID'] = ICBPsiRNA['PMID'].str.replace(\".0\", \"\")\n",
    "ICBPsiRNA['PMID'] = ICBPsiRNA['PMID'].replace(\"nan\", np.nan)\n",
    "\n",
    "ICBPsiRNA['Condition'] = ICBPsiRNA['Condition'].str.lower().str.strip()\n",
    "ICBPsiRNA['Condition'] = ICBPsiRNA['Condition'].str.split(\" / \")\n",
    "ICBPsiRNA = ICBPsiRNA.explode('Condition')\n",
    "ICBPsiRNA = pd.merge(ICBPsiRNA, disease_map, right_on='0_y', left_on='Condition', how='left')\n",
    "ICBPsiRNA['0_x'] = ICBPsiRNA['0_x'].fillna(ICBPsiRNA['Condition'])\n",
    "ICBPsiRNA = ICBPsiRNA.drop(columns=['0_y', 'Condition'])\n",
    "ICBPsiRNA = ICBPsiRNA.rename(columns={'0_x':'Location'})\n",
    "\n",
    "ICBPsiRNA['Cell line'] = ICBPsiRNA['Cell line'].str.lower().str.strip()\n",
    "ICBPsiRNA['Cell line'] = ICBPsiRNA['Cell line'].str.split(\" / \")\n",
    "ICBPsiRNA = ICBPsiRNA.explode('Cell line')\n",
    "ICBPsiRNA = pd.merge(ICBPsiRNA, location_map, right_on='0_y', left_on='Cell line', how='left')\n",
    "ICBPsiRNA['0_x'] = ICBPsiRNA['0_x'].fillna(ICBPsiRNA['Cell line'])\n",
    "ICBPsiRNA = ICBPsiRNA.drop(columns=['0_y', 'Cell line'])\n",
    "ICBPsiRNA = ICBPsiRNA.rename(columns={'0_x':'Location2', 'NCBI Probe #':'Location3', 'PMID':'PubMedID'})\n",
    "\n",
    "ICBPsiRNA = pd.concat([ICBPsiRNA.drop(columns=['Location2', 'Location3']),\n",
    "    ICBPsiRNA.drop(columns=['Location', 'Location3']),\n",
    "    ICBPsiRNA.drop(columns=['Location', 'Location2'])])\n",
    "ICBPsiRNA['Location'] = ICBPsiRNA['Location'].fillna(ICBPsiRNA['Location2'])\n",
    "ICBPsiRNA['Location'] = ICBPsiRNA['Location'].fillna(ICBPsiRNA['Location3'])\n",
    "\n",
    "ICBPsiRNA['Source'] = 'ICBP_MIT_siRNA'\n",
    "ICBPsiRNA.rename(columns={'ID#':':START_ID','transcript_ensembl':':END_ID','mRNA knockdown':'Knockdown_percentage'},inplace=True)\n",
    "ICBPsiRNA.head(n=3)"
   ]
  },
  {
   "cell_type": "code",
   "execution_count": null,
   "metadata": {},
   "outputs": [],
   "source": [
    "ICBPshRNA = ICBP.loc[(ICBP['shRNA'] == 'x') & (ICBP['Human'] == 'x')] # shRNA\n",
    "ICBPshRNA['Protein knockdown'] = ICBPshRNA['Protein knockdown'].replace('---',np.nan)\n",
    "ICBPshRNA['mRNA knockdown'] = ICBPshRNA['mRNA knockdown'].replace('---',np.nan)\n",
    "ICBPshRNA.drop(columns=['siRNA','shRNA','Mouse','Human'],inplace=True)\n",
    "ICBPshRNA.head(n=3)"
   ]
  },
  {
   "cell_type": "code",
   "execution_count": null,
   "metadata": {},
   "outputs": [],
   "source": [
    "def process_shrna_data(ICBPsiRNA):\n",
    "    \"\"\"\n",
    "    Processes a DataFrame of sirna data, fetches, extracts and processes information for each sirna ID.\n",
    "    \"\"\"\n",
    "    # Initialize an empty DataFrame to hold the results\n",
    "    property_df = pd.DataFrame()\n",
    "\n",
    "    # Iterate over each unique sirna_id\n",
    "    for sirna_id in ICBPsiRNA['ID#'].unique():\n",
    "        \n",
    "        url = 'http://web.mit.edu/sirna/sequences/results-' +sirna_id\n",
    "        \n",
    "        # Read the HTML content and extract the table using pandas\n",
    "        ICBP = pd.read_html(url)\n",
    "        #print(url)\n",
    "        df = ICBP[1]\n",
    "        df = df.T  # Transpose the dataframe\n",
    "        df.reset_index(drop=True, inplace=True)\n",
    "        #print(df)\n",
    "        df.rename(columns={2:'Target Gene Info',4:\"Target sequence\",13:'Gene Origin Info'}, inplace=True)\n",
    "        df=df[['Target Gene Info','Gene Origin Info',\"Target sequence\"]]\n",
    "\n",
    "        # Extract specific information from the columns using regex\n",
    "        df['Target Gene Info'] = df['Target Gene Info'].str.extract(r'Target gene: (.*)')  # Extract NM_* info\n",
    "        df['Target sequence'] = df['Target sequence'].str.extract(r'Target sequence: (.*)')  # Extract NM_* info\n",
    "        df['Condition'] = df['Gene Origin Info'].str.extract(r'Cell type: (.*)')\n",
    "        df['Cell line'] = df['Gene Origin Info'].str.extract(r'Cell line: (.*)')\n",
    "\n",
    "        # Fill NaN values with empty strings\n",
    "        df['Target Gene Info'] = df['Target Gene Info'].fillna('')  \n",
    "        df['Gene Origin Info'] = df['Gene Origin Info'].fillna('')  \n",
    "        df['Condition'] = df['Condition'].fillna('')  \n",
    "        df['Cell line'] = df['Cell line'].fillna('')\n",
    "\n",
    "        # Extract the NM_* gene information\n",
    "        df['Target Gene Info'] = df['Target Gene Info'].str.extract(r'\\((NM_\\d+)\\)')[0]\n",
    "        df['Target Gene Info'] = df['Target Gene Info'].fillna('nan')\n",
    "\n",
    "        # Combine relevant rows into one DataFrame for a clean representation\n",
    "        df_combined = pd.DataFrame({\n",
    "            'Target Gene Info': df.iloc[0]['Target Gene Info'] + \" \" + df.iloc[1]['Target Gene Info'],\n",
    "            'Gene Origin Info': df.iloc[0]['Gene Origin Info'],  # Take from first row\n",
    "            'Target sequence': df.iloc[0]['Target sequence'],\n",
    "            'Condition': df.iloc[0]['Condition'],  # Take from first row\n",
    "            'Cell line': df.iloc[1]['Cell line']  # Take from second row\n",
    "        }, index=[0])\n",
    "\n",
    "        # Clean up the entries (remove redundant labels, if needed)\n",
    "        df_combined['Gene Origin Info'] = df_combined['Gene Origin Info'].replace(r'Cell type: ', '', regex=True)\n",
    "        df_combined['Cell line'] = df_combined['Cell line'].replace(r'Cell line: ', '', regex=True)\n",
    "        df_combined.drop(columns=['Gene Origin Info'], inplace=True)\n",
    "\n",
    "        # Extract the PMID values using the previously defined function\n",
    "        df_combined['PMID'] = extract_term_to_search_ids(url)\n",
    "        df_combined['ID#'] = sirna_id\n",
    "        # Concatenate the result to the main DataFrame\n",
    "        #print(df_combined)\n",
    "        property_df = pd.concat([property_df, df_combined])\n",
    "\n",
    "    # Return the final DataFrame containing all the processed data\n",
    "    return property_df\n",
    "\n",
    "# Example usage (assuming ICBPsiRNA is already loaded with the appropriate data):\n",
    "property_df = process_shrna_data(ICBPshRNA)\n",
    "property_df['Target Gene Info'] = property_df['Target Gene Info'].str.replace(' nan', '')\n",
    "property_df['Target Gene Info'] = property_df['Target Gene Info'].replace('nan', np.nan)\n",
    "property_df['Target Gene Info'] = property_df['Target Gene Info'].str.upper()\n",
    "property_df.head(n=3)"
   ]
  },
  {
   "cell_type": "code",
   "execution_count": null,
   "metadata": {},
   "outputs": [],
   "source": [
    "df = pd.merge(ICBPshRNA, property_df, on='ID#', how='left')\n",
    "df['Target Gene Info'] = df['Target Gene Info'].fillna(df['Target Gene'])\n",
    "ICBPshRNA = df.drop(columns=['Target Gene','Protein knockdown'])\n",
    "ICBPshRNA = ICBPshRNA[ICBPshRNA['mRNA knockdown'].notna()]\n",
    "ICBPshRNA = pd.merge(ICBPshRNA, ensembl_map[['transcript_stable_id','symbol']].rename(\n",
    "    columns={'symbol':'Target Gene Info'}).drop_duplicates(), on='Target Gene Info')\n",
    "\n",
    "ICBPshRNA['NCBI Probe #'] = \"NCBI/probereport.cgi?uid=\" + ICBPshRNA['NCBI Probe #'].astype(str)\n",
    "ICBPshRNA['NCBI Probe #'] = ICBPshRNA['NCBI Probe #'].replace('NCBI/probereport.cgi?uid=N/A*', np.nan)\n",
    "ICBPshRNA['NCBI Probe #'] = ICBPshRNA['NCBI Probe #'].replace('NCBI/probereport.cgi?uid=nan', np.nan)\n",
    "\n",
    "ICBPshRNA = pd.merge(ICBPshRNA,\n",
    "                     rnacentral_map_human_refseq[['RNAcentral ID','RefSeq ID']].drop_duplicates().rename(\n",
    "                                             columns={'RNAcentral ID':'transcript_ensembl',\n",
    "                                                      'RefSeq ID':'transcript_stable_id'}), on='transcript_stable_id', how='left')\n",
    "ICBPshRNA.drop(columns=['transcript_stable_id'],inplace=True)\n",
    "\n",
    "ICBPshRNA['PMID'] = pd.to_numeric(ICBPshRNA['PMID'], errors='coerce')\n",
    "ICBPshRNA['PMID'] = ICBPshRNA['PMID'].astype(str)\n",
    "ICBPshRNA['PMID'] = ICBPshRNA['PMID'].str.replace(\".0\", \"\")\n",
    "ICBPshRNA['PMID'] = ICBPshRNA['PMID'].replace(\"nan\", np.nan)\n",
    "\n",
    "ICBPshRNA['Condition'] = ICBPshRNA['Condition'].str.lower().str.strip()\n",
    "ICBPshRNA['Condition'] = ICBPshRNA['Condition'].str.split(\" / \")\n",
    "ICBPshRNA = ICBPshRNA.explode('Condition')\n",
    "ICBPshRNA = pd.merge(ICBPshRNA, disease_map, right_on='0_y', left_on='Condition', how='left')\n",
    "ICBPshRNA['0_x'] = ICBPshRNA['0_x'].fillna(ICBPshRNA['Condition'])\n",
    "ICBPshRNA = ICBPshRNA.drop(columns=['0_y', 'Condition'])\n",
    "ICBPshRNA = ICBPshRNA.rename(columns={'0_x':'Location'})\n",
    "\n",
    "ICBPshRNA['Cell line'] = ICBPshRNA['Cell line'].str.lower().str.strip()\n",
    "ICBPshRNA['Cell line'] = ICBPshRNA['Cell line'].str.split(\" / \")\n",
    "ICBPshRNA = ICBPshRNA.explode('Cell line')\n",
    "ICBPshRNA = pd.merge(ICBPshRNA, location_map, right_on='0_y', left_on='Cell line', how='left')\n",
    "ICBPshRNA['0_x'] = ICBPshRNA['0_x'].fillna(ICBPshRNA['Cell line'])\n",
    "ICBPshRNA = ICBPshRNA.drop(columns=['0_y', 'Cell line'])\n",
    "ICBPshRNA = ICBPshRNA.rename(columns={'0_x':'Location2', 'NCBI Probe #':'Location3'})\n",
    "\n",
    "ICBPshRNA = pd.concat([ICBPshRNA.drop(columns=['Location2', 'Location3']),\n",
    "    ICBPshRNA.drop(columns=['Location', 'Location3']),\n",
    "    ICBPshRNA.drop(columns=['Location', 'Location2'])])\n",
    "ICBPshRNA['Location'] = ICBPshRNA['Location'].fillna(ICBPshRNA['Location2'])\n",
    "ICBPshRNA['Location'] = ICBPshRNA['Location'].fillna(ICBPshRNA['Location3'])\n",
    "\n",
    "ICBPshRNA['Source'] = 'ICBP_MIT_siRNA'\n",
    "ICBPshRNA.rename(columns={'ID#':':START_ID','transcript_ensembl':':END_ID','mRNA knockdown':'Knockdown_percentage',\n",
    "                          'PMID':'PubMedID'},inplace=True)\n",
    "ICBPshRNA.head(n=3)"
   ]
  },
  {
   "cell_type": "code",
   "execution_count": null,
   "metadata": {},
   "outputs": [],
   "source": [
    "RNA_represses_expression_of_RNA = pd.concat([ICBPsiRNA, ICBPshRNA])\n",
    "RNA_represses_expression_of_RNA = RNA_represses_expression_of_RNA.groupby([':START_ID',':END_ID']).agg(\n",
    "    {'Source':set,'Location':set,'PubMedID':set,'Knockdown_percentage':set}).reset_index()\n",
    "RNA_represses_expression_of_RNA[\":TYPE\"] = \"represses_expression_of\"\n",
    "RNA_represses_expression_of_RNA.to_pickle(unprocessed_edge_data_location+'RNA_represses_expression_of_RNA.pkl')\n",
    "RNA_represses_expression_of_RNA.head(n=3)"
   ]
  },
  {
   "cell_type": "markdown",
   "metadata": {},
   "source": [
    "***\n",
    "### RNA - http://purl.obolibrary.org/obo/RO_0011007 (decreases by repression quantity of) - OBO"
   ]
  },
  {
   "cell_type": "markdown",
   "metadata": {},
   "source": [
    "* [The MIT/ICBP siRNA Database](http://web.mit.edu/sirna/index.html)"
   ]
  },
  {
   "cell_type": "code",
   "execution_count": null,
   "metadata": {},
   "outputs": [],
   "source": [
    "ICBPsiRNA_protein = ICBP.loc[(ICBP['siRNA'] == 'x') & (ICBP['Human'] == 'x')] # siRNA -- PRO\n",
    "ICBPsiRNA_protein['Protein knockdown'] = ICBPsiRNA_protein['Protein knockdown'].replace('---',np.nan)\n",
    "ICBPsiRNA_protein['mRNA knockdown'] = ICBPsiRNA_protein['mRNA knockdown'].replace('---',np.nan)\n",
    "ICBPsiRNA_protein.drop(columns=['siRNA','shRNA','Mouse','Human'],inplace=True)\n",
    "ICBPsiRNA_protein = ICBPsiRNA_protein[ICBPsiRNA_protein['Protein knockdown'].notna()]\n",
    "ICBPsiRNA_protein.head(n=3)"
   ]
  },
  {
   "cell_type": "code",
   "execution_count": null,
   "metadata": {},
   "outputs": [],
   "source": [
    "property_df = process_sirna_data(ICBPsiRNA_protein)\n",
    "property_df['Target Gene Info'] = property_df['Target Gene Info'].str.replace(' nan', '')\n",
    "property_df['Target Gene Info'] = property_df['Target Gene Info'].replace('nan', np.nan)\n",
    "property_df['Target Gene Info'] = property_df['Target Gene Info'].str.upper()\n",
    "\n",
    "df = pd.merge(ICBPsiRNA_protein, property_df, on='ID#', how='left')\n",
    "df['Target Gene Info'] = df['Target Gene Info'].fillna(df['Target Gene'])\n",
    "ICBPsiRNA_protein = df.drop(columns=['Target Gene','mRNA knockdown'])\n",
    "ICBPsiRNA_protein = pd.merge(ICBPsiRNA_protein, symbol_to_pro.rename(columns={0:'Target Gene Info'}),\n",
    "    on='Target Gene Info').drop(columns=['Target Gene Info']).rename(columns={1:'Protein'})\n",
    "\n",
    "ICBPsiRNA_protein['NCBI Probe #'] = \"NCBI/probereport.cgi?uid=\" + ICBPsiRNA_protein['NCBI Probe #'].astype(str)\n",
    "ICBPsiRNA_protein['NCBI Probe #'] = ICBPsiRNA_protein['NCBI Probe #'].replace('NCBI/probereport.cgi?uid=N/A*', np.nan)\n",
    "ICBPsiRNA_protein['NCBI Probe #'] = ICBPsiRNA_protein['NCBI Probe #'].replace('NCBI/probereport.cgi?uid=nan', np.nan)\n",
    "\n",
    "ICBPsiRNA_protein['PMID'] = pd.to_numeric(ICBPsiRNA_protein['PMID'], errors='coerce')\n",
    "ICBPsiRNA_protein['PMID'] = ICBPsiRNA_protein['PMID'].astype(str)\n",
    "ICBPsiRNA_protein['PMID'] = ICBPsiRNA_protein['PMID'].str.replace(\".0\", \"\")\n",
    "ICBPsiRNA_protein['PMID'] = ICBPsiRNA_protein['PMID'].replace(\"nan\", np.nan)\n",
    "\n",
    "ICBPsiRNA_protein['Condition'] = ICBPsiRNA_protein['Condition'].str.lower().str.strip()\n",
    "ICBPsiRNA_protein['Condition'] = ICBPsiRNA_protein['Condition'].str.split(\" / \")\n",
    "ICBPsiRNA_protein = ICBPsiRNA_protein.explode('Condition')\n",
    "ICBPsiRNA_protein = pd.merge(ICBPsiRNA_protein, disease_map, right_on='0_y', left_on='Condition', how='left')\n",
    "ICBPsiRNA_protein['0_x'] = ICBPsiRNA_protein['0_x'].fillna(ICBPsiRNA_protein['Condition'])\n",
    "ICBPsiRNA_protein = ICBPsiRNA_protein.drop(columns=['0_y', 'Condition'])\n",
    "ICBPsiRNA_protein = ICBPsiRNA_protein.rename(columns={'0_x':'Location'})\n",
    "\n",
    "ICBPsiRNA_protein['Cell line'] = ICBPsiRNA_protein['Cell line'].str.lower().str.strip()\n",
    "ICBPsiRNA_protein = pd.merge(ICBPsiRNA_protein, location_map, right_on='0_y', left_on='Cell line', how='left')\n",
    "ICBPsiRNA_protein['0_x'] = ICBPsiRNA_protein['0_x'].fillna(ICBPsiRNA_protein['Cell line'])\n",
    "ICBPsiRNA_protein = ICBPsiRNA_protein.drop(columns=['0_y', 'Cell line'])\n",
    "ICBPsiRNA_protein = ICBPsiRNA_protein.rename(columns={'0_x':'Location2', 'NCBI Probe #':'Location3'})\n",
    "\n",
    "ICBPsiRNA_protein = pd.concat([ICBPsiRNA_protein.drop(columns=['Location2', 'Location3']),\n",
    "    ICBPsiRNA_protein.drop(columns=['Location', 'Location3']),\n",
    "    ICBPsiRNA_protein.drop(columns=['Location', 'Location2'])])\n",
    "ICBPsiRNA_protein['Location'] = ICBPsiRNA_protein['Location'].fillna(ICBPsiRNA_protein['Location2'])\n",
    "ICBPsiRNA_protein['Location'] = ICBPsiRNA_protein['Location'].fillna(ICBPsiRNA_protein['Location3'])\n",
    "\n",
    "ICBPsiRNA_protein['Source'] = 'ICBP_MIT_siRNA'\n",
    "ICBPsiRNA_protein.rename(columns={'ID#':':START_ID','Protein':':END_ID',\n",
    "                                  'Protein knockdown':'Knockdown_percentage', 'PMID':'PubMedID'},inplace=True)\n",
    "ICBPsiRNA_protein.head(n=3)"
   ]
  },
  {
   "cell_type": "code",
   "execution_count": null,
   "metadata": {},
   "outputs": [],
   "source": [
    "ICBPshRNA_protein = ICBP.loc[(ICBP['shRNA'] == 'x') & (ICBP['Human'] == 'x')] # shRNA -- PRO\n",
    "ICBPshRNA_protein['Protein knockdown'] = ICBPshRNA_protein['Protein knockdown'].replace('---',np.nan)\n",
    "ICBPshRNA_protein['mRNA knockdown'] = ICBPshRNA_protein['mRNA knockdown'].replace('---',np.nan)\n",
    "ICBPshRNA_protein.drop(columns=['siRNA','shRNA','Mouse','Human'],inplace=True)\n",
    "ICBPshRNA_protein = ICBPshRNA_protein[ICBPshRNA_protein['Protein knockdown'].notna()]\n",
    "# Empty df for shRNA-protein\n",
    "ICBPshRNA_protein.head(n=3)"
   ]
  },
  {
   "cell_type": "code",
   "execution_count": null,
   "metadata": {},
   "outputs": [],
   "source": [
    "ICBPsiRNA_protein = pd.concat([ICBPsiRNA_protein, ICBPshRNA_protein])\n",
    "ICBPsiRNA_protein = ICBPsiRNA_protein.groupby([':START_ID',':END_ID']).agg(\n",
    "    {'Source':set,'Location':set,'PubMedID':set,'Knockdown_percentage':set}).reset_index() \n",
    "ICBPsiRNA_protein[\":TYPE\"] = \"decreases_by_repression_quantity_of\"\n",
    "ICBPsiRNA_protein.to_pickle(unprocessed_edge_data_location+'RNA_decreases_by_repression_quantity_of_OBO.pkl')\n",
    "ICBPsiRNA_protein.head(n=3)"
   ]
  },
  {
   "cell_type": "markdown",
   "metadata": {},
   "source": [
    "***\n",
    "### OBO - http://purl.obolibrary.org/obo/RO_0002430 (involved in negative regulation of) - RNA"
   ]
  },
  {
   "cell_type": "markdown",
   "metadata": {},
   "source": [
    "* [DrugBank](https://go.drugbank.com/categories/DBCAT001709) <br /> DrugBank is a comprehensive, free-to-access, online database containing information on drugs and drug targets. As both a bioinformatics and a cheminformatics resource, it combines detailed drug (i.e. chemical, pharmacological and pharmaceutical) data with comprehensive drug target (i.e. sequence, structure, and pathway) information."
   ]
  },
  {
   "cell_type": "code",
   "execution_count": null,
   "metadata": {},
   "outputs": [],
   "source": [
    "# copy-paste from https://go.drugbank.com/categories/DBCAT001709\n",
    "ASO_mRNA_prot_drugbank = pd.read_csv(processed_data_location + 'DrugBank/ASO-gene_DrugBank.txt', sep='\\t') \n",
    "ASO_mRNA_prot_drugbank['Drug'] = ASO_mRNA_prot_drugbank['Drug'].str.lower()\n",
    "ASO_mRNA_prot_drugbank = pd.merge(ASO_mRNA_prot_drugbank, desc_chebi_map.rename(columns={0:'Drug'}), on='Drug').rename(columns={1:'Chemical'})\n",
    "ASO_mRNA_prot_drugbank['Target'] = ASO_mRNA_prot_drugbank['Target'].str.lower()\n",
    "ASO_mRNA_prot_drugbank['Target'] = ASO_mRNA_prot_drugbank['Target'].str.replace(\"superoxide dismutase 1 (sod1)\",\"hsod1\")\n",
    "ASO_mRNA_prot_drugbank['Target'] = ASO_mRNA_prot_drugbank['Target'].str.replace(\"5-aminolevulinate synthase, non-specific, mitochondrial\",\"halas1\")\n",
    "ASO_mRNA_prot_drugbank = pd.merge(ASO_mRNA_prot_drugbank, desc_pro_map.rename(columns={0:'Target'}), on='Target',how='left').rename(\n",
    "    columns={1:'Protein'})\n",
    "exon_mapping = {\n",
    "    'dmd gene (exon 53 viltolarsen target site)': '53',\n",
    "    'dmd gene (exon 45 casimersen target site)': '45',\n",
    "    'dmd-001 gene (exon 51 target site)': '51'\n",
    "}\n",
    "ASO_mRNA_prot_drugbank['Exon'] = ASO_mRNA_prot_drugbank['Target'].map(exon_mapping)\n",
    "ASO_mRNA_prot_drugbank['Target'] = ASO_mRNA_prot_drugbank['Target'].str.replace(\"dmd gene (exon 53 viltolarsen target site)\",\"DMD\")\n",
    "ASO_mRNA_prot_drugbank['Target'] = ASO_mRNA_prot_drugbank['Target'].str.replace(\"dmd gene (exon 45 casimersen target site)\",\"DMD\")\n",
    "ASO_mRNA_prot_drugbank['Target'] = ASO_mRNA_prot_drugbank['Target'].str.replace(\"dmd-001 gene (exon 51 target site)\",\"DMD\")\n",
    "ASO_mRNA_prot_drugbank['Target'] = ASO_mRNA_prot_drugbank['Target'].str.replace(\"mrna of apob-100\",\"APOB\")\n",
    "ASO_mRNA_prot_drugbank['Target'] = ASO_mRNA_prot_drugbank['Target'].str.replace('transthyretin mrna',\"TTR\")\n",
    "ASO_mRNA_prot_drugbank['Target'] = ASO_mRNA_prot_drugbank['Target'].str.replace('alas1 mrna',\"ALAS1\")\n",
    "\n",
    "aso_ensembl_map = ensembl_map[['transcript_stable_id','symbol','ensembl_transcript_type']].rename(columns={'symbol':'Target'})\n",
    "aso_ensembl_map = aso_ensembl_map[aso_ensembl_map['ensembl_transcript_type'] == 'protein_coding']\n",
    "aso_ensembl_map = aso_ensembl_map.drop(columns=['ensembl_transcript_type']).drop_duplicates()\n",
    "\n",
    "ASO_mRNA_prot_drugbank = pd.merge(ASO_mRNA_prot_drugbank, aso_ensembl_map, on='Target',how='left').rename(\n",
    "    columns={'transcript_stable_id':'RNA'}).drop(columns=['Target']).drop_duplicates()\n",
    "ASO_mRNA_prot_drugbank['Source'] = 'DrugBank'\n",
    "ASO_mRNA_prot_drugbank.head(n=3)"
   ]
  },
  {
   "cell_type": "code",
   "execution_count": null,
   "metadata": {},
   "outputs": [],
   "source": [
    "ASO_mRNA_drugbank = ASO_mRNA_prot_drugbank[ASO_mRNA_prot_drugbank['RNA'].notna()].drop(columns=['Protein'])\n",
    "print(ASO_mRNA_drugbank['Type'].unique())\n",
    "ASO_mRNA_drugbank = ASO_mRNA_drugbank.drop(columns=['Type']).drop_duplicates()\n",
    "ASO_mRNA_drugbank.rename(columns={'RNA':':END_ID', 'Chemical':':START_ID'},inplace=True)\n",
    "ASO_mRNA_drugbank.head(n=3)"
   ]
  },
  {
   "cell_type": "code",
   "execution_count": null,
   "metadata": {},
   "outputs": [],
   "source": [
    "# copy-paste from https://go.drugbank.com/categories/DBCAT005484\n",
    "siRNA_mRNA_prot_drugbank = pd.read_csv(processed_data_location + 'DrugBank/siRNA-gene_DrugBank.txt', sep='\\t') \n",
    "siRNA_mRNA_prot_drugbank['Drug'] = siRNA_mRNA_prot_drugbank['Drug'].str.lower()\n",
    "siRNA_mRNA_prot_drugbank = pd.merge(siRNA_mRNA_prot_drugbank, desc_chebi_map.rename(columns={0:'Drug'}), on='Drug', how='left').rename(\n",
    "    columns={1:'Chemical'})\n",
    "siRNA_mRNA_prot_drugbank['Target'] = siRNA_mRNA_prot_drugbank['Target'].str.lower()\n",
    "siRNA_mRNA_prot_drugbank['Target'] = siRNA_mRNA_prot_drugbank['Target'].str.replace(\"5-aminolevulinate synthase, non-specific, mitochondrial\",\n",
    "                                                                                    \"halas1\")\n",
    "siRNA_mRNA_prot_drugbank['Target'] = siRNA_mRNA_prot_drugbank['Target'].str.replace(\"alpha1-acid glycoprotein\",\n",
    "                                                                                    \"alpha-1-acid glycoprotein 2,alpha-1-acid glycoprotein 1\")\n",
    "siRNA_mRNA_prot_drugbank['Target'] = siRNA_mRNA_prot_drugbank['Target'].str.split(\",\")\n",
    "siRNA_mRNA_prot_drugbank = siRNA_mRNA_prot_drugbank.explode('Target')\n",
    "siRNA_mRNA_prot_drugbank = pd.merge(siRNA_mRNA_prot_drugbank, desc_pro_map.rename(columns={0:'Target'}), on='Target',how='left').rename(\n",
    "    columns={1:'Protein'})\n",
    "\n",
    "siRNA_mRNA_prot_drugbank['Target'] = siRNA_mRNA_prot_drugbank['Target'].str.replace('transthyretin mrna',\"TTR\")\n",
    "siRNA_mRNA_prot_drugbank['Target'] = siRNA_mRNA_prot_drugbank['Target'].str.replace('alas1 mrna',\"ALAS1\")\n",
    "\n",
    "aso_ensembl_map = ensembl_map[['transcript_stable_id','symbol','ensembl_transcript_type']].rename(columns={'symbol':'Target'})\n",
    "aso_ensembl_map = aso_ensembl_map[aso_ensembl_map['ensembl_transcript_type'] == 'protein_coding']\n",
    "aso_ensembl_map = aso_ensembl_map.drop(columns=['ensembl_transcript_type']).drop_duplicates()\n",
    "\n",
    "siRNA_mRNA_prot_drugbank = pd.merge(siRNA_mRNA_prot_drugbank, aso_ensembl_map, on='Target',how='left').rename(\n",
    "    columns={'transcript_stable_id':'RNA'}).drop(columns=['Target']).drop_duplicates()\n",
    "\n",
    "siRNA_mRNA_prot_drugbank['Source'] = 'DrugBank'\n",
    "siRNA_mRNA_prot_drugbank.head(n=3)"
   ]
  },
  {
   "cell_type": "code",
   "execution_count": null,
   "metadata": {},
   "outputs": [],
   "source": [
    "siRNA_mRNA_drugbank = siRNA_mRNA_prot_drugbank[siRNA_mRNA_prot_drugbank['RNA'].notna()].drop(columns=['Protein'])\n",
    "print(siRNA_mRNA_drugbank['Type'].unique())\n",
    "siRNA_mRNA_drugbank = siRNA_mRNA_drugbank.drop(columns=['Type']).drop_duplicates()\n",
    "siRNA_mRNA_drugbank.rename(columns={'RNA':':END_ID', 'Chemical':':START_ID'},inplace=True)\n",
    "siRNA_mRNA_drugbank.head(n=3)"
   ]
  },
  {
   "cell_type": "code",
   "execution_count": null,
   "metadata": {},
   "outputs": [],
   "source": [
    "OBO_involved_in_negative_regulation_of_RNA = pd.concat([ASO_mRNA_drugbank, siRNA_mRNA_drugbank])\n",
    "OBO_involved_in_negative_regulation_of_RNA = OBO_involved_in_negative_regulation_of_RNA.groupby([':START_ID',':END_ID']).agg(\n",
    "    {'Source':set,'Exon':set}).reset_index()\n",
    "OBO_involved_in_negative_regulation_of_RNA[\":TYPE\"] = \"involved_in_negative_regulation_of\"\n",
    "OBO_involved_in_negative_regulation_of_RNA.to_pickle(unprocessed_edge_data_location+'OBO_involved_in_negative_regulation_of_RNA.pkl')\n",
    "OBO_involved_in_negative_regulation_of_RNA.head(n=3)"
   ]
  },
  {
   "cell_type": "markdown",
   "metadata": {},
   "source": [
    "***\n",
    "### OBO - http://purl.obolibrary.org/obo/RO_0011007 (decreases by repression quantity of) - OBO"
   ]
  },
  {
   "cell_type": "markdown",
   "metadata": {},
   "source": [
    "* [DrugBank](https://go.drugbank.com/categories/DBCAT001709)"
   ]
  },
  {
   "cell_type": "code",
   "execution_count": null,
   "metadata": {},
   "outputs": [],
   "source": [
    "ASO_pro_drugbank = ASO_mRNA_prot_drugbank[ASO_mRNA_prot_drugbank['Protein'].notna()].drop(columns=['RNA',\"Exon\"])# DrugBank -- PRO\n",
    "print(ASO_pro_drugbank['Type'].unique())\n",
    "ASO_pro_drugbank_down = ASO_pro_drugbank[(ASO_pro_drugbank['Type'] == 'target') |\n",
    "                                         (ASO_pro_drugbank['Type'] == 'enzyme')].drop(columns=['Type']).drop_duplicates()\n",
    "ASO_pro_drugbank_carrier = ASO_pro_drugbank[ASO_pro_drugbank['Type'] == 'carrier'].drop(columns=['Type']).drop_duplicates()\n",
    "ASO_pro_drugbank_down = ASO_pro_drugbank_down.rename(columns={'Protein':':END_ID', 'Chemical':':START_ID'})\n",
    "ASO_pro_drugbank_down.head(n=3)"
   ]
  },
  {
   "cell_type": "code",
   "execution_count": null,
   "metadata": {},
   "outputs": [],
   "source": [
    "siRNA_pro_drugbank = siRNA_mRNA_prot_drugbank[siRNA_mRNA_prot_drugbank['Protein'].notna()].drop(columns=['RNA'])\n",
    "print(siRNA_pro_drugbank['Type'].unique())\n",
    "siRNA_pro_drugbank_down = siRNA_pro_drugbank[(siRNA_pro_drugbank['Type'] == 'target') |\n",
    "                                         (siRNA_pro_drugbank['Type'] == 'enzyme')].drop(columns=['Type']).drop_duplicates()\n",
    "siRNA_pro_drugbank_carrier = siRNA_pro_drugbank[siRNA_pro_drugbank['Type'] == 'carrier'].drop(columns=['Type']).drop_duplicates()\n",
    "siRNA_pro_drugbank_down = siRNA_pro_drugbank_down.rename(columns={'Protein':':END_ID', 'Chemical':':START_ID'})\n",
    "siRNA_pro_drugbank_down.head(n=3)"
   ]
  },
  {
   "cell_type": "code",
   "execution_count": null,
   "metadata": {},
   "outputs": [],
   "source": [
    "# copy-paste from https://go.drugbank.com/categories/DBCAT001641\n",
    "aptamer_protein = pd.read_csv(processed_data_location + 'DrugBank/aptamer-gene_DrugBank.txt', sep='\\t') \n",
    "print(aptamer_protein['Type'].unique())\n",
    "aptamer_protein.drop(columns=['Type'],inplace=True)\n",
    "aptamer_protein['Drug'] = aptamer_protein['Drug'].str.lower()\n",
    "aptamer_protein = pd.merge(aptamer_protein, desc_chebi_map.rename(columns={0:'Drug'}), on='Drug', how='left').rename(\n",
    "    columns={1:'Chemical'})\n",
    "aptamer_protein['Target'] = aptamer_protein['Target'].str.lower()\n",
    "aptamer_protein = pd.merge(aptamer_protein, desc_pro_map.rename(columns={0:'Target'}), on='Target',how='left').rename(columns={1:'Protein'})\n",
    "aptamer_protein['Source'] = 'DrugBank'\n",
    "aptamer_protein = aptamer_protein.rename(columns={'Protein':':END_ID', 'Chemical':':START_ID'}).drop_duplicates()\n",
    "aptamer_protein.head(n=3)"
   ]
  },
  {
   "cell_type": "code",
   "execution_count": null,
   "metadata": {},
   "outputs": [],
   "source": [
    "OBO_decreases_by_repression_quantity_of_OBO = pd.concat([ASO_pro_drugbank_down, siRNA_pro_drugbank_down, aptamer_protein])\n",
    "OBO_decreases_by_repression_quantity_of_OBO = OBO_decreases_by_repression_quantity_of_OBO.groupby([':START_ID',':END_ID']).agg(\n",
    "    {'Source':set}).reset_index()\n",
    "OBO_decreases_by_repression_quantity_of_OBO[\":TYPE\"] = \"decreases_by_repression_quantity_of\"\n",
    "OBO_decreases_by_repression_quantity_of_OBO.to_pickle(unprocessed_edge_data_location+'OBO_decreases_by_repression_quantity_of_OBO.pkl')\n",
    "OBO_decreases_by_repression_quantity_of_OBO.head(n=3)"
   ]
  },
  {
   "cell_type": "markdown",
   "metadata": {},
   "source": [
    "***\n",
    "### OBO - http://purl.obolibrary.org/obo/RO_0010002 (is carrier of) - OBO"
   ]
  },
  {
   "cell_type": "markdown",
   "metadata": {},
   "source": [
    "* DrugBank"
   ]
  },
  {
   "cell_type": "code",
   "execution_count": null,
   "metadata": {},
   "outputs": [],
   "source": [
    "ASO_pro_drugbank_carrier = ASO_pro_drugbank_carrier.rename(columns={'Protein':':END_ID', 'Chemical':':START_ID'})\n",
    "ASO_pro_drugbank_carrier"
   ]
  },
  {
   "cell_type": "code",
   "execution_count": null,
   "metadata": {},
   "outputs": [],
   "source": [
    "siRNA_pro_drugbank_carrier = siRNA_pro_drugbank_carrier.rename(columns={'Protein':':END_ID', 'Chemical':':START_ID'})\n",
    "siRNA_pro_drugbank_carrier.head(n=3)"
   ]
  },
  {
   "cell_type": "code",
   "execution_count": null,
   "metadata": {},
   "outputs": [],
   "source": [
    "OBO_is_carrier_of_OBO = pd.concat([ASO_pro_drugbank_carrier, siRNA_pro_drugbank_carrier])\n",
    "OBO_is_carrier_of_OBO = OBO_is_carrier_of_OBO.groupby([':START_ID',':END_ID']).agg({'Source':set}).reset_index()\n",
    "OBO_is_carrier_of_OBO[\":TYPE\"] = \"is_carrier_of\"\n",
    "OBO_is_carrier_of_OBO.to_pickle(unprocessed_edge_data_location+'OBO_is_carrier_of_OBO.pkl')\n",
    "\n",
    "OBO_generically_depends_on_OBO = OBO_is_carrier_of_OBO.rename(columns={':START_ID':':END_ID',':END_ID':':START_ID'})\n",
    "OBO_generically_depends_on_OBO[\":TYPE\"] = \"generically_depends_on\"\n",
    "OBO_generically_depends_on_OBO.to_pickle(unprocessed_edge_data_location+'OBO_generically_depends_on_OBO.pkl')\n",
    "OBO_generically_depends_on_OBO.head(n=3)"
   ]
  },
  {
   "cell_type": "markdown",
   "metadata": {},
   "source": [
    "***\n",
    "### OBO - http://purl.obolibrary.org/obo/RO_0002606 (is substance that treats) - OBO"
   ]
  },
  {
   "cell_type": "markdown",
   "metadata": {},
   "source": [
    "* CTD"
   ]
  },
  {
   "cell_type": "code",
   "execution_count": null,
   "metadata": {},
   "outputs": [],
   "source": [
    "data_downloader(\"https://ctdbase.org/reports/CTD_chemicals_diseases.tsv.gz\", unprocessed_data_location)"
   ]
  },
  {
   "cell_type": "code",
   "execution_count": null,
   "metadata": {},
   "outputs": [],
   "source": [
    "ctd_disease = pd.read_csv(unprocessed_data_location+'CTD_chemicals_diseases.tsv', sep='\\t', comment=\"#\",\n",
    "                          names=['ChemicalName','ChemicalID','CasRN','DiseaseName','DiseaseID','DirectEvidence','InferenceGeneSymbol',\n",
    "                                 'InferenceScore','OmimIDs','PubMedIDs'])\n",
    "ctd_disease = ctd_disease[ctd_disease['DirectEvidence'].notna()]\n",
    "print(ctd_disease['InferenceGeneSymbol'].unique())\n",
    "print(ctd_disease['InferenceScore'].unique())\n",
    "ctd_disease = ctd_disease[['ChemicalID','DiseaseID','PubMedIDs']]\n",
    "ctd_disease['ChemicalID'] = \"MESH_\" + ctd_disease['ChemicalID']\n",
    "ctd_disease['DiseaseID'] = ctd_disease['DiseaseID'].str.split(':').str[-1]\n",
    "\n",
    "ctd_disease['PubMedIDs'] = pd.to_numeric(ctd_disease['PubMedIDs'], errors='coerce')\n",
    "ctd_disease['PubMedIDs'] = ctd_disease['PubMedIDs'].astype(str)\n",
    "ctd_disease['PubMedIDs'] = ctd_disease['PubMedIDs'].str.replace(\".0\", \"\")\n",
    "ctd_disease['PubMedIDs'] = ctd_disease['PubMedIDs'].replace(\"nan\", np.nan)\n",
    "ctd_disease['Source'] = 'CTD'\n",
    "\n",
    "ctd_disease.head(n=3)"
   ]
  },
  {
   "cell_type": "code",
   "execution_count": null,
   "metadata": {},
   "outputs": [],
   "source": [
    "ctd_disease = pd.merge(ctd_disease, disgenet_mondo_hpo_map.rename(columns={0:'DiseaseID'}), on='DiseaseID')\n",
    "ctd_disease = pd.merge(ctd_disease, mesh_to_chebi.rename(columns={0:'ChemicalID'}), on='ChemicalID')\n",
    "ctd_disease = ctd_disease.rename(columns={'1_y':':START_ID','1_x':':END_ID','PubMedIDs':'PubMedID'})\n",
    "ctd_disease.head(n=3)"
   ]
  },
  {
   "cell_type": "markdown",
   "metadata": {},
   "source": [
    "* [DrugBank](https://go.drugbank.com/categories/DBCAT001709)"
   ]
  },
  {
   "cell_type": "code",
   "execution_count": null,
   "metadata": {},
   "outputs": [],
   "source": [
    "# copy-paste from https://go.drugbank.com/categories/DBCAT001709\n",
    "ASO_disease = pd.read_csv(processed_data_location + 'DrugBank/ASO-disease_DrugBank.txt', sep='\\t') # DrugBank -- Mondo\n",
    "ASO_disease['Drug'] = ASO_disease['Drug'].str.lower()\n",
    "ASO_disease = pd.merge(ASO_disease, desc_chebi_map.rename(columns={0:'Drug'}), on='Drug', how='left').rename(columns={1:'Chemical'})\n",
    "ASO_disease.at[10,\"Chemical\"] = 'DB05572'\n",
    "ASO_disease.head(n=3)"
   ]
  },
  {
   "cell_type": "code",
   "execution_count": null,
   "metadata": {},
   "outputs": [],
   "source": [
    "ASO_disease['Disease']=[\"MONDO_0018328\",\n",
    "\"MONDO_0001657,MONDO_0007254\",\n",
    "\"MONDO_0000878\",\n",
    "\"Not Annotated\",\n",
    "\"MONDO_0010679\",\n",
    "\"MONDO_0001516\",\n",
    "\"MONDO_0007100\",\n",
    "\"MONDO_0002520\",\n",
    "\"MONDO_0010679\",\n",
    "\"MONDO_0010679\",\n",
    "\"MONDO_0004979\",\n",
    "\"MONDO_0010679\",\n",
    "\"MONDO_0018634\",\n",
    "\"MONDO_0005144\",\n",
    "\"Not Annotated\",\n",
    "\"MONDO_0007100\"]\n",
    "ASO_disease['Disease'] = ASO_disease.Disease.str.split(',')\n",
    "ASO_disease = ASO_disease.explode('Disease')\n",
    "ASO_disease.drop(columns=['Drug Description'],inplace=True)\n",
    "ASO_disease['Source'] = 'DrugBank'\n",
    "ASO_disease = ASO_disease[ASO_disease['Disease'] != 'Not Annotated']\n",
    "ASO_disease.rename(columns={'Disease':':END_ID','Chemical':':START_ID'},inplace=True)\n",
    "ASO_disease.head(n=3)"
   ]
  },
  {
   "cell_type": "code",
   "execution_count": null,
   "metadata": {},
   "outputs": [],
   "source": [
    "# copy-paste from https://go.drugbank.com/categories/DBCAT005484\n",
    "siRNA_disease = pd.read_csv(processed_data_location + 'DrugBank/siRNA-disease_DrugBank.txt', sep='\\t') \n",
    "siRNA_disease['Drug'] = siRNA_disease['Drug'].str.lower()\n",
    "siRNA_disease = pd.merge(siRNA_disease, desc_chebi_map.rename(columns={0:'Drug'}), on='Drug', how='left').rename(columns={1:'Chemical'})\n",
    "siRNA_disease.head(n=3)"
   ]
  },
  {
   "cell_type": "code",
   "execution_count": null,
   "metadata": {},
   "outputs": [],
   "source": [
    "siRNA_disease['Disease']=['MONDO_0017132,MONDO_0001824',\n",
    "                        'MONDO_0002520',\n",
    "                        'MONDO_0009823',\n",
    "                        'MONDO_0017132,MONDO_0001824']\n",
    "\n",
    "siRNA_disease['Disease'] = siRNA_disease.Disease.str.split(',')\n",
    "siRNA_disease = siRNA_disease.explode('Disease')\n",
    "siRNA_disease.drop(columns=['Drug Description'],inplace=True)\n",
    "siRNA_disease['Source'] = 'DrugBank'\n",
    "siRNA_disease.rename(columns={'Disease':':END_ID','Chemical':':START_ID'},inplace=True)\n",
    "siRNA_disease.head(n=3)"
   ]
  },
  {
   "cell_type": "code",
   "execution_count": null,
   "metadata": {},
   "outputs": [],
   "source": [
    "# copy-paste from https://go.drugbank.com/categories/DBCAT001641\n",
    "aptamer_disease = pd.read_csv(processed_data_location + 'DrugBank/aptamer-disease_DrugBank.txt', sep='\\t') \n",
    "aptamer_disease['Drug'] = aptamer_disease['Drug'].str.lower()\n",
    "aptamer_disease = pd.merge(aptamer_disease, desc_chebi_map.rename(columns={0:'Drug'}), on='Drug', how='left').rename(columns={1:'Chemical'})\n",
    "aptamer_disease['Source'] = 'DrugBank'\n",
    "aptamer_disease"
   ]
  },
  {
   "cell_type": "code",
   "execution_count": null,
   "metadata": {},
   "outputs": [],
   "source": [
    "aptamer_disease['Disease']=['MONDO_0019514', 'MONDO_0004992,MONDO_0002367,MONDO_0004643,MONDO_0009831','MONDO_0005150']\n",
    "aptamer_disease['Disease'] = aptamer_disease.Disease.str.split(',')\n",
    "aptamer_disease = aptamer_disease.explode('Disease')\n",
    "aptamer_disease.drop(columns=['Drug Description'],inplace=True)\n",
    "aptamer_disease.rename(columns={'Disease':':END_ID','Chemical':':START_ID'},inplace=True)\n",
    "aptamer_disease.head(n=3)"
   ]
  },
  {
   "cell_type": "code",
   "execution_count": null,
   "metadata": {},
   "outputs": [],
   "source": [
    "OBO_is_substance_that_treats_OBO = pd.concat([ctd_disease, ASO_disease, siRNA_disease, aptamer_disease])\n",
    "OBO_is_substance_that_treats_OBO = OBO_is_substance_that_treats_OBO.groupby([':START_ID',':END_ID']).agg(\n",
    "    {'Source':set,'PubMedID':set}).reset_index()\n",
    "OBO_is_substance_that_treats_OBO[\":TYPE\"] = \"is_substance_that_treats\"\n",
    "OBO_is_substance_that_treats_OBO.to_pickle(unprocessed_edge_data_location+'OBO_is_substance_that_treats_OBO.pkl')\n",
    "\n",
    "OBO_is_treated_by_substance_OBO = OBO_is_substance_that_treats_OBO.rename(columns={':START_ID':':END_ID',':END_ID':':START_ID'})\n",
    "OBO_is_treated_by_substance_OBO[\":TYPE\"] = \"is_treated_by_substance\"\n",
    "OBO_is_treated_by_substance_OBO.to_pickle(unprocessed_edge_data_location+'OBO_is_treated_by_substance_OBO.pkl')\n",
    "OBO_is_treated_by_substance_OBO.head(n=3)"
   ]
  },
  {
   "cell_type": "markdown",
   "metadata": {},
   "source": [
    "***\n",
    "### OBO - http://purl.obolibrary.org/obo/RO_0002599 (capable of inhibiting or preventing pathological process) - OBO"
   ]
  },
  {
   "cell_type": "markdown",
   "metadata": {},
   "source": [
    "* DrugBank"
   ]
  },
  {
   "cell_type": "code",
   "execution_count": null,
   "metadata": {},
   "outputs": [],
   "source": [
    "# copy-paste from https://go.drugbank.com/categories/DBCAT005631\n",
    "mRNAv_disease = pd.read_csv(processed_data_location + 'DrugBank/mRNAv-disease_DrugBank.txt', sep='\\t') \n",
    "mRNAv_disease['Drug'] = mRNAv_disease['Drug'].str.lower()\n",
    "mRNAv_disease = pd.merge(mRNAv_disease, desc_chebi_map.rename(columns={0:'Drug'}), on='Drug', how='left').rename(columns={1:'Chemical'})\n",
    "mRNAv_disease['Disease']='MONDO_0100096'\n",
    "mRNAv_disease.drop(columns=['Drug Description'],inplace=True)\n",
    "mRNAv_disease['Source'] = 'DrugBank'\n",
    "mRNAv_disease.rename(columns={'Disease':':END_ID','Chemical':':START_ID'},inplace=True)\n",
    "mRNAv_disease.head(n=3)"
   ]
  },
  {
   "cell_type": "code",
   "execution_count": null,
   "metadata": {},
   "outputs": [],
   "source": [
    "OBO_capable_of_inhibiting_or_preventing_pathological_process_OBO = mRNAv_disease.copy()\n",
    "OBO_capable_of_inhibiting_or_preventing_pathological_process_OBO = OBO_capable_of_inhibiting_or_preventing_pathological_process_OBO.groupby(\n",
    "    [':START_ID',':END_ID']).agg({'Source':set}).reset_index()\n",
    "OBO_capable_of_inhibiting_or_preventing_pathological_process_OBO[\":TYPE\"] = \"capable_of_inhibiting_or_preventing_pathological_process\"\n",
    "OBO_capable_of_inhibiting_or_preventing_pathological_process_OBO.to_pickle(\n",
    "    unprocessed_edge_data_location+'OBO_capable_of_inhibiting_or_preventing_pathological_process_OBO.pkl')\n",
    "OBO_capable_of_inhibiting_or_preventing_pathological_process_OBO.head(n=3)"
   ]
  },
  {
   "cell_type": "markdown",
   "metadata": {},
   "source": [
    "***\n",
    "### RNA - http://purl.obolibrary.org/obo/RO_0002314 (characteristic of part of) - OBO"
   ]
  },
  {
   "cell_type": "markdown",
   "metadata": {},
   "source": [
    "* [RSwitch database](https://penchovsky.atwebpages.com/applications.php?page=58) <br /> \n",
    "The RSwitch database contains information on using riboswitches as antibacterial drug targets. Each riboswitch represented by the ID, name, aptamer sequences, secondary structures, multiple alignments, consensus motifs, and biochemical pathways."
   ]
  },
  {
   "cell_type": "code",
   "execution_count": null,
   "metadata": {},
   "outputs": [],
   "source": [
    "# Manual collection of data from https://penchovsky.atwebpages.com/applications.php?page=58\n",
    "riboswitch_bactStrain = pd.read_csv(unprocessed_data_location + 'rswitch.csv', header=None) # NCBITaxon\n",
    "riboswitch_bactStrain.head(n=3)"
   ]
  },
  {
   "cell_type": "code",
   "execution_count": null,
   "metadata": {},
   "outputs": [],
   "source": [
    "riboswitch_bactStrain[2].drop_duplicates().to_csv(\n",
    "    unprocessed_data_location + 'bacteria.txt', header=None, sep='\\n', index=None)\n",
    "# --> https://www.ncbi.nlm.nih.gov/Taxonomy/TaxIdentifier/tax_identifier.cgi (Note that some manual work is needed)"
   ]
  },
  {
   "cell_type": "code",
   "execution_count": null,
   "metadata": {},
   "outputs": [],
   "source": [
    "bacteria = pd.read_csv(unprocessed_data_location + 'tax_report.txt', sep='\\t\\|\\t', engine='python') \n",
    "bacteria.taxid = bacteria.taxid.astype('Int64')\n",
    "bacteria.head(n=3)"
   ]
  },
  {
   "cell_type": "code",
   "execution_count": null,
   "metadata": {},
   "outputs": [],
   "source": [
    "riboswitch_bactStrain = pd.merge(riboswitch_bactStrain.rename(columns={2:'name'}),\n",
    "                                 bacteria[['name','taxid']],on=['name'])\n",
    "riboswitch_bactStrain.taxid = 'NCBITaxon_'+riboswitch_bactStrain.taxid.astype(str)\n",
    "riboswitch_bactStrain = riboswitch_bactStrain[riboswitch_bactStrain.taxid != 'NCBITaxon_<NA>']\n",
    "riboswitch_bactStrain = riboswitch_bactStrain.drop(columns=[1,'name'])\n",
    "riboswitch_bactStrain = riboswitch_bactStrain.drop_duplicates()\n",
    "riboswitch_bactStrain['Source'] = 'RSwitch'\n",
    "riboswitch_bactStrain.rename(columns={0:':START_ID','taxid':':END_ID'},inplace=True)\n",
    "riboswitch_bactStrain.head(n=3)"
   ]
  },
  {
   "cell_type": "markdown",
   "metadata": {},
   "source": [
    "* TBDB"
   ]
  },
  {
   "cell_type": "code",
   "execution_count": null,
   "metadata": {},
   "outputs": [],
   "source": [
    "riboswitch_gobp = pd.read_csv(unprocessed_data_location+'tbdb.csv', sep=',') # riboswitch -- GO\n",
    "gobp = riboswitch_gobp.protein_desc.str.rpartition('[')[2].str.rpartition(']')[0].str.replace(\":\", \"_\")\n",
    "riboswitch_gobp = pd.concat([riboswitch_gobp, gobp.rename('gobp')], axis=1)\n",
    "riboswitch_gobp = riboswitch_gobp[riboswitch_gobp.gobp.str.contains(\"GO\", na=False)]\n",
    "riboswitch_gobp = riboswitch_gobp[['accession_url', 'TaxId']].drop_duplicates()\n",
    "riboswitch_gobp['TaxId'] = 'NCBITaxon_' + riboswitch_gobp['TaxId'].astype(str)\n",
    "riboswitch_gobp['Source'] = 'TBDB'\n",
    "riboswitch_gobp = riboswitch_gobp.rename(columns={'accession_url':':START_ID','TaxId':':END_ID'})\n",
    "riboswitch_gobp.head(n=3)"
   ]
  },
  {
   "cell_type": "markdown",
   "metadata": {},
   "source": [
    "* Ribocentre"
   ]
  },
  {
   "cell_type": "code",
   "execution_count": null,
   "metadata": {},
   "outputs": [],
   "source": [
    "ribocentre = ['URS00006C745E', 'URS00006C1D09']\n",
    "ribocentre = pd.DataFrame(ribocentre, columns=['accession_url'])\n",
    "ribocentre['TaxId'] = 'NCBITaxon_12475'\n",
    "ribocentre['Source'] = 'Ribocentre'\n",
    "ribocentre = ribocentre.rename(columns={'accession_url':':START_ID','TaxId':':END_ID'})\n",
    "ribocentre.head(n=3)"
   ]
  },
  {
   "cell_type": "code",
   "execution_count": null,
   "metadata": {},
   "outputs": [],
   "source": [
    "riboswitch_bactStrain = pd.concat([riboswitch_bactStrain, riboswitch_gobp, ribocentre])\n",
    "riboswitch_bactStrain = riboswitch_bactStrain.groupby([':START_ID',':END_ID']).agg({'Source':set}).reset_index()\n",
    "riboswitch_bactStrain[':TYPE'] = 'characteristic_of_part_of'\n",
    "riboswitch_bactStrain.to_pickle(unprocessed_edge_data_location+'RNA_characteristic_of_part_of_OBO.pkl')\n",
    "riboswitch_bactStrain.head(n=3)"
   ]
  },
  {
   "cell_type": "markdown",
   "metadata": {},
   "source": [
    "***\n",
    "### RSwitch - http://purl.obolibrary.org/obo/RO_0002387 (has potential to develop into) - OBO\n"
   ]
  },
  {
   "cell_type": "markdown",
   "metadata": {},
   "source": [
    "* [RSwitch database](https://penchovsky.atwebpages.com/applications.php?page=58) <br /> "
   ]
  },
  {
   "cell_type": "code",
   "execution_count": null,
   "metadata": {},
   "outputs": [],
   "source": [
    "riboswitch = riboswitch_bactStrain.drop(columns=[':END_ID'])\n",
    "riboswitch[':END_ID'] = 'VO_0001281' # VO -- immunization target role of bacterial pathogen\n",
    "riboswitch['Source'] = 'RSwitch'\n",
    "riboswitch.head(n=3)"
   ]
  },
  {
   "cell_type": "code",
   "execution_count": null,
   "metadata": {},
   "outputs": [],
   "source": [
    "riboswitch = riboswitch.groupby([':START_ID',':END_ID']).agg({'Source':set}).reset_index()\n",
    "riboswitch[\":TYPE\"] = \"has_potential_to_develop_into\"\n",
    "riboswitch.to_pickle(unprocessed_edge_data_location+'RNA_has_potential_to_develop_into_OBO.pkl')\n",
    "riboswitch.head(n=3)"
   ]
  },
  {
   "cell_type": "markdown",
   "metadata": {},
   "source": [
    "***\n",
    "### Genome - http://purl.obolibrary.org/obo/RO_0002526 (overlaps sequence of) - RNA"
   ]
  },
  {
   "cell_type": "markdown",
   "metadata": {},
   "source": [
    "* [ViroidDB](https://viroids.org/) <br />\n",
    "ViroidDB is the most comprehensive collection of viroid, satellite RNA, retrozyme, and deltavirus genome sequences available on the internet. "
   ]
  },
  {
   "cell_type": "code",
   "execution_count": null,
   "metadata": {},
   "outputs": [],
   "source": [
    "data_downloader('https://viroids.org/db/latest/all.json', unprocessed_data_location)"
   ]
  },
  {
   "cell_type": "code",
   "execution_count": null,
   "metadata": {
    "scrolled": true
   },
   "outputs": [],
   "source": [
    "vRNA_ribozyme = pd.read_json(unprocessed_data_location + 'all.json').T \n",
    "\n",
    "# Extract ribozymes \n",
    "myre = re.compile(r\"\\n>> .*?\\n\")\n",
    "ribozyme = [myre.findall(i) for i in vRNA_ribozyme.ribozymes]\n",
    "ribozyme = [[j.replace(\"\\n\",'').replace(\">> \",'') for j in i] for i in ribozyme]\n",
    "\n",
    "# List of all possible ribozymes (useful for mapping)\n",
    "a = [i for j in ribozyme for i in j]\n",
    "set(a)"
   ]
  },
  {
   "cell_type": "code",
   "execution_count": null,
   "metadata": {},
   "outputs": [],
   "source": [
    "vRNA_ribozyme = pd.concat([vRNA_ribozyme.reset_index().drop(columns=['index']), # Genome --> NCBI nuccore \n",
    "                           pd.Series(ribozyme)], axis=1)\n",
    "vRNA_ribozyme = vRNA_ribozyme.explode(0)\n",
    "vRNA_ribozyme[0] = vRNA_ribozyme[0].str.split().str[0]\n",
    "vRNA_ribozyme.drop(columns=['isolationSource','collectionDate','gc','bioSample','identicalSeqs','genBankTitle','displayTitle',\n",
    "                            'length','sequenceType','nucCompleteness','genotype','segment','moleculeType','publications',\n",
    "                           'geoLocation','country','usa','submitters','releaseDate','isolate',\n",
    "                            'sequence','structure','type','Cls_ID80','genus','family','ribozymes',\n",
    "                            'Cls_ID70','Cls_ID85','Cls_ID75','Cls_ID95','Cls_ID90','sraAccession','submitters','host'],\n",
    "                   inplace=True)\n",
    "vRNA_ribozyme.insert(0,1,vRNA_ribozyme.pop(0))\n",
    "vRNA_ribozyme['accession'] = vRNA_ribozyme['accession'].str.split(\".\").str[0]\n",
    "vRNA_ribozyme.head(n=3)"
   ]
  },
  {
   "cell_type": "code",
   "execution_count": null,
   "metadata": {},
   "outputs": [],
   "source": [
    "print(vRNA_ribozyme.species.unique()[:3])\n",
    "# Among them, only Hepatitis delta virus (NCBI taxid: 12475) is a human pathogen\n",
    "vRNA_ribozyme = vRNA_ribozyme[vRNA_ribozyme.species == 'Hepatitis delta virus']\n",
    "rnacentral_map_rfam_delta = rnacentral_map_rfam[rnacentral_map_rfam['Organism'] == 12475]"
   ]
  },
  {
   "cell_type": "code",
   "execution_count": null,
   "metadata": {},
   "outputs": [],
   "source": [
    "vRNA_ribozyme = pd.merge(ribozyme_rfam_map,vRNA_ribozyme,left_on=0,right_on=1).drop(columns=['1_y'])\n",
    "vRNA_ribozyme = pd.merge(vRNA_ribozyme.rename(columns={'1_x':'Rfam ID'}),rnacentral_map_rfam_delta[['RNAcentral ID','Rfam ID']].drop_duplicates(),\n",
    "                         on='Rfam ID').drop(columns=['Rfam ID',0,'species'])\n",
    "\n",
    "vRNA_ribozyme.rename(columns={'RNAcentral ID':':START_ID','accession':':END_ID'},inplace=True)\n",
    "vRNA_ribozyme['Source'] = 'ViroidDB'\n",
    "vRNA_ribozyme.head(n=3)"
   ]
  },
  {
   "cell_type": "code",
   "execution_count": null,
   "metadata": {},
   "outputs": [],
   "source": [
    "vRNA_ribozyme = vRNA_ribozyme.groupby([':START_ID',':END_ID']).agg({'Source':set}).reset_index()\n",
    "vRNA_ribozyme[\":TYPE\"] = \"overlaps_sequence_of\"\n",
    "vRNA_ribozyme.to_pickle(unprocessed_edge_data_location+'RNA_overlaps_sequence_of_genome.pkl')\n",
    "\n",
    "vRNA_ribozyme.rename(columns={':START_ID':':END_ID',':END_ID':':START_ID'},inplace=True)\n",
    "vRNA_ribozyme.to_pickle(unprocessed_edge_data_location+'genome_overlaps_sequence_of_RNA.pkl')\n",
    "vRNA_ribozyme.head(n=3)"
   ]
  },
  {
   "cell_type": "markdown",
   "metadata": {},
   "source": [
    "***\n",
    "### Genome - http://purl.obolibrary.org/obo/RO_0000052 (characteristic of) - OBO"
   ]
  },
  {
   "cell_type": "markdown",
   "metadata": {},
   "source": [
    "* [ViroidDB](https://viroids.org/)"
   ]
  },
  {
   "cell_type": "code",
   "execution_count": null,
   "metadata": {},
   "outputs": [],
   "source": [
    "genome_characteristic_of_OBO = pd.DataFrame(vRNA_ribozyme[\":START_ID\"].unique()).rename(columns={0:':START_ID'})\n",
    "genome_characteristic_of_OBO[':END_ID'] = [\"NCBITaxon_12475\"]*len(genome_characteristic_of_OBO)\n",
    "genome_characteristic_of_OBO['Source'] = 'ViroidDB'\n",
    "genome_characteristic_of_OBO = genome_characteristic_of_OBO.groupby([':START_ID',':END_ID']).agg({'Source':set}).reset_index()\n",
    "genome_characteristic_of_OBO[':TYPE'] = 'characteristic_of'\n",
    "genome_characteristic_of_OBO.to_pickle(unprocessed_edge_data_location+'genome_characteristic_of_OBO.pkl')\n",
    "\n",
    "OBO_has_characteristic_genome = genome_characteristic_of_OBO.rename(columns={':START_ID':':END_ID',':END_ID':':START_ID'})\n",
    "OBO_has_characteristic_genome[\":TYPE\"] = \"has_characteristic\"\n",
    "OBO_has_characteristic_genome.to_pickle(unprocessed_edge_data_location+'OBO_has_characteristic_genome.pkl')\n",
    "OBO_has_characteristic_genome.head(n=3)"
   ]
  },
  {
   "cell_type": "markdown",
   "metadata": {},
   "source": [
    "***\n",
    "### OBO - http://purl.obolibrary.org/obo/RO_0002556 (pathogen of) - OBO"
   ]
  },
  {
   "cell_type": "markdown",
   "metadata": {},
   "source": [
    "* Rswitch\n",
    "* TBDB\n",
    "* Ribocentre"
   ]
  },
  {
   "cell_type": "code",
   "execution_count": null,
   "metadata": {},
   "outputs": [],
   "source": [
    "riboswitch_bactStrain = riboswitch_bactStrain.explode('Source')\n",
    "riboswitch_bactStrain = riboswitch_bactStrain[[':END_ID', 'Source']].rename(columns={':END_ID':':START_ID'})\n",
    "riboswitch_bactStrain[':END_ID'] = ['NCBITaxon_9606'] * len(riboswitch_bactStrain) # Homo Sapiens\n",
    "riboswitch_bactStrain.head(n=3)"
   ]
  },
  {
   "cell_type": "markdown",
   "metadata": {},
   "source": [
    "* [ViroidDB](https://viroids.org/)"
   ]
  },
  {
   "cell_type": "code",
   "execution_count": null,
   "metadata": {},
   "outputs": [],
   "source": [
    "OBO_pathogen_of_OBO = pd.DataFrame()\n",
    "OBO_pathogen_of_OBO[':START_ID'] = ['NCBITaxon_12475']\n",
    "OBO_pathogen_of_OBO[':END_ID'] = ['NCBITaxon_9606'] # Homo Sapiens\n",
    "OBO_pathogen_of_OBO['Source'] = 'ViroidDB'\n",
    "OBO_pathogen_of_OBO"
   ]
  },
  {
   "cell_type": "code",
   "execution_count": null,
   "metadata": {},
   "outputs": [],
   "source": [
    "OBO_pathogen_of_OBO = pd.concat([OBO_pathogen_of_OBO, riboswitch_bactStrain])\n",
    "OBO_pathogen_of_OBO = OBO_pathogen_of_OBO.groupby([':START_ID',':END_ID']).agg({'Source':set}).reset_index()\n",
    "OBO_pathogen_of_OBO[\":TYPE\"] = \"pathogen_of\"\n",
    "OBO_pathogen_of_OBO.to_pickle(unprocessed_edge_data_location+'OBO_pathogen_of_OBO.pkl')\n",
    "\n",
    "OBO_has_pathogen_OBO = OBO_pathogen_of_OBO.rename(columns={':START_ID':':END_ID',':END_ID':':START_ID'})\n",
    "OBO_has_pathogen_OBO[\":TYPE\"] = \"has_pathogen\"\n",
    "OBO_has_pathogen_OBO.to_pickle(unprocessed_edge_data_location+'OBO_has_pathogen_OBO.pkl')\n",
    "OBO_has_pathogen_OBO.head(n=3)"
   ]
  },
  {
   "cell_type": "markdown",
   "metadata": {},
   "source": [
    "***\n",
    "### RNA - http://purl.obolibrary.org/obo/RO_0001025 (located in) - OBO"
   ]
  },
  {
   "cell_type": "markdown",
   "metadata": {},
   "source": [
    "* Human Protein Atlas"
   ]
  },
  {
   "cell_type": "code",
   "execution_count": null,
   "metadata": {},
   "outputs": [],
   "source": [
    "hpa = pd.read_csv(unprocessed_data_location + 'proteinatlas_search.tsv', header=0, delimiter='\\t')\n",
    "hpa.fillna('nan', inplace=True)\n",
    "hpa.head(n=1)"
   ]
  },
  {
   "cell_type": "code",
   "execution_count": null,
   "metadata": {},
   "outputs": [],
   "source": [
    "hpa_results = []\n",
    "for idx, row in tqdm(hpa.iterrows(), total=hpa.shape[0]):\n",
    "    ens, gene, uniprot, evid = str(row['Ensembl']), str(row['Gene']), str(row['Uniprot']), str(row['Evidence'])\n",
    "    if row['RNA tissue specific nTPM'] != 'nan':\n",
    "        for x in row['RNA tissue specific nTPM'].split(';'):\n",
    "            hpa_results += [[ens, gene, uniprot, evid, 'anatomy', str(x.split(':')[0]), str(x.split(': ')[1])]]\n",
    "    if row['RNA cell line specific nTPM'] != 'nan':\n",
    "        for x in row['RNA cell line specific nTPM'].split(';'):\n",
    "            hpa_results += [[ens, gene, uniprot, evid, 'cell line', str(x.split(':')[0]), str(x.split(': ')[1])]]\n",
    "    if row['RNA brain regional specific nTPM'] != 'nan':\n",
    "        for x in row['RNA brain regional specific nTPM'].split(';'):\n",
    "            hpa_results += [[ens, gene, uniprot, evid, 'anatomy', str(x.split(':')[0]), str(x.split(': ')[1])]]\n",
    "    if row['RNA blood cell specific nTPM'] != 'nan':\n",
    "        for x in row['RNA blood cell specific nTPM'].split(';'):\n",
    "            hpa_results += [[ens, gene, uniprot, evid, 'anatomy', str(x.split(':')[0]), str(x.split(': ')[1])]]\n",
    "    if row['RNA blood lineage specific nTPM'] != 'nan':\n",
    "        for x in row['RNA blood lineage specific nTPM'].split(';'):\n",
    "            hpa_results += [[ens, gene, uniprot, evid, 'anatomy', str(x.split(':')[0]), str(x.split(': ')[1])]]"
   ]
  },
  {
   "cell_type": "code",
   "execution_count": null,
   "metadata": {},
   "outputs": [],
   "source": [
    "with open(unprocessed_data_location + 'HPA_RNA_GENE_PROTEIN_EDGES.txt', 'w') as out:\n",
    "    for x in tqdm(hpa_results):\n",
    "        out.write(x[0] + '\\t' + x[1] + '\\t' + x[2] + '\\t' + x[3] + '\\t' + x[4] + '\\t' + x[5] + '\\t' + x[6] + '\\n')"
   ]
  },
  {
   "cell_type": "code",
   "execution_count": null,
   "metadata": {},
   "outputs": [],
   "source": [
    "# load data, return edge count, and preview it\n",
    "hpa_edges = pd.read_csv(unprocessed_data_location + 'HPA_RNA_GENE_PROTEIN_EDGES.txt',\n",
    "                           header=None, low_memory=False, sep='\\t',\n",
    "                           names=['Ensembl_IDs', 'Gene_Symbols', 'Uniprot_IDs', 'Evidence',\n",
    "                                   'Anatomy_Type', 'Anatomy', 'TPM'])\n",
    "\n",
    "hpa_edges.head(n=3)"
   ]
  },
  {
   "cell_type": "code",
   "execution_count": null,
   "metadata": {},
   "outputs": [],
   "source": [
    "hpa_rna_edges = hpa_edges[['Gene_Symbols', 'Evidence', 'Anatomy', 'TPM']]\n",
    "hpa_rna_edges = hpa_rna_edges[hpa_rna_edges['Evidence'] == 'Evidence at transcript level'].drop(columns=['Evidence'])\n",
    "hpa_rna_edges.head(n=3)"
   ]
  },
  {
   "cell_type": "code",
   "execution_count": null,
   "metadata": {},
   "outputs": [],
   "source": [
    "hpa_rna_edges = pd.merge(hpa_rna_edges, symbol_ensembl_map.rename(columns={0:'Gene_Symbols'}), on='Gene_Symbols').drop(columns=['Gene_Symbols'])\n",
    "hpa_rna_edges = pd.merge(hpa_rna_edges, hpa_gtex_map.rename(columns={0:'Anatomy'}), on='Anatomy').drop(columns=['Anatomy'])\n",
    "\n",
    "hpa_rna_edges['Source'] = 'The_Human_Protein_Atlas'\n",
    "\n",
    "hpa_rna_edges = pd.merge(hpa_rna_edges, rnacentral_map_human_ensembl\n",
    "                                    [['RNAcentral ID','Ensembl transcript ID']].drop_duplicates().rename(\n",
    "                                        columns={'Ensembl transcript ID':'1_x'}), on='1_x', how='left') \n",
    "hpa_rna_edges['RNAcentral ID'] = hpa_rna_edges['RNAcentral ID'].fillna(hpa_rna_edges['1_x'])\n",
    "hpa_rna_edges.drop(columns=['1_x'],inplace=True)\n",
    "RNA_located_in_OBO1 = hpa_rna_edges.copy()\n",
    "RNA_located_in_OBO1 = RNA_located_in_OBO1.rename(columns={'RNAcentral ID':':START_ID','1_y':':END_ID'})\n",
    "RNA_located_in_OBO1.head(n=3)"
   ]
  },
  {
   "cell_type": "markdown",
   "metadata": {},
   "source": [
    "* GTEx"
   ]
  },
  {
   "cell_type": "code",
   "execution_count": null,
   "metadata": {},
   "outputs": [],
   "source": [
    "gtex = pd.read_csv(unprocessed_data_location + 'GTEx_Analysis_v10_RNASeQCv2.4.2_gene_median_tpm.gct', header=0, skiprows=2, delimiter='\\t')\n",
    "gtex.fillna('nan', inplace=True) \n",
    "gtex['Name'].replace('(\\..*)','', inplace=True, regex=True)\n",
    "gtex.head(n=3)"
   ]
  },
  {
   "cell_type": "code",
   "execution_count": null,
   "metadata": {},
   "outputs": [],
   "source": [
    "# remove rows that contain protein coding genes already in the hpa data\n",
    "hpa_genes = list(hpa['Ensembl'].drop_duplicates(keep='first', inplace=False))\n",
    "gtex = gtex.loc[gtex['Name'].apply(lambda x: x not in hpa_genes)]\n",
    "\n",
    "# loop over data and re-organize - only keep results with tpm >= 1 and if gene symbol is not a protein-coding gene\n",
    "gtex_results = []\n",
    "for idx, row in tqdm(gtex.iterrows(), total=gtex.shape[0]):\n",
    "    for col in list(gtex.columns)[2:]:\n",
    "        typ = 'cell line' if 'Cells' in col else 'anatomy'\n",
    "        if row[col] >= 1.0:\n",
    "            evidence = 'Evidence at transcript level'\n",
    "            gtex_results += [[str(row['Name']), str(row['Description']), 'nan', evidence, typ, str(col), str(row[col])]]"
   ]
  },
  {
   "cell_type": "code",
   "execution_count": null,
   "metadata": {},
   "outputs": [],
   "source": [
    "with open(unprocessed_data_location + 'GTEX_RNA_GENE_PROTEIN_EDGES.txt', 'w') as out:\n",
    "    for x in tqdm(gtex_results):\n",
    "        out.write(x[0] + '\\t' + x[1] + '\\t' + x[2] + '\\t' + x[3] + '\\t' + x[4] + '\\t' + x[5] + '\\t' + x[6] + '\\n')"
   ]
  },
  {
   "cell_type": "code",
   "execution_count": null,
   "metadata": {},
   "outputs": [],
   "source": [
    "# load data, return edge count, and preview it\n",
    "hpa_edges = pd.read_csv(unprocessed_data_location + 'GTEX_RNA_GENE_PROTEIN_EDGES.txt',\n",
    "                           header=None, low_memory=False, sep='\\t',\n",
    "                           names=['Ensembl_IDs', 'Gene_Symbols', 'Uniprot_IDs', 'Evidence',\n",
    "                                   'Anatomy_Type', 'Anatomy', 'TPM'])\n",
    "\n",
    "hpa_edges.head(n=3)"
   ]
  },
  {
   "cell_type": "code",
   "execution_count": null,
   "metadata": {},
   "outputs": [],
   "source": [
    "hpa_rna_edges = hpa_edges[['Gene_Symbols', 'Evidence', 'Anatomy', 'TPM']]\n",
    "hpa_rna_edges = hpa_rna_edges[hpa_rna_edges['Evidence'] == 'Evidence at transcript level'].drop(columns=['Evidence'])\n",
    "hpa_rna_edges = pd.merge(hpa_rna_edges, symbol_ensembl_map.rename(columns={0:'Gene_Symbols'}), on='Gene_Symbols').drop(columns=['Gene_Symbols'])\n",
    "hpa_rna_edges = pd.merge(hpa_rna_edges, hpa_gtex_map.rename(columns={0:'Anatomy'}), on='Anatomy').drop(columns=['Anatomy'])\n",
    "\n",
    "hpa_rna_edges['Source'] = 'GTEx'\n",
    "\n",
    "hpa_rna_edges = pd.merge(hpa_rna_edges, rnacentral_map_human_ensembl\n",
    "                                    [['RNAcentral ID','Ensembl transcript ID']].drop_duplicates().rename(\n",
    "                                        columns={'Ensembl transcript ID':'1_x'}), on='1_x', how='left') \n",
    "hpa_rna_edges['RNAcentral ID'] = hpa_rna_edges['RNAcentral ID'].fillna(hpa_rna_edges['1_x'])\n",
    "hpa_rna_edges.drop(columns=['1_x'],inplace=True)\n",
    "RNA_located_in_OBO2 = hpa_rna_edges.copy()\n",
    "RNA_located_in_OBO2 = RNA_located_in_OBO2.rename(columns={'RNAcentral ID':':START_ID','1_y':':END_ID'})\n",
    "RNA_located_in_OBO2.head(n=3)"
   ]
  },
  {
   "cell_type": "markdown",
   "metadata": {},
   "source": [
    "* [RNALocate](http://www.rnalocate.org/) <br/> RNALocate aims to provide a resource for efficient manipulation, browsing and analysis of RNA subcellular localization."
   ]
  },
  {
   "cell_type": "code",
   "execution_count": null,
   "metadata": {},
   "outputs": [],
   "source": [
    "!wget http://www.rnalocate.org/static/download/All%20RNA%20subcellular%20localization%20information.zip -O ../resources/processed_data/unprocessed_data/All%20RNA%20subcellular%20localization%20information.zip\n",
    "with zipfile.ZipFile('../resources/processed_data/unprocessed_data/All RNA subcellular localization information.zip', 'r') as zip_ref:\n",
    "    zip_ref.extractall('../resources/processed_data/unprocessed_data/')"
   ]
  },
  {
   "cell_type": "code",
   "execution_count": null,
   "metadata": {},
   "outputs": [],
   "source": [
    "RNA_location = pd.read_csv(unprocessed_data_location+'All RNA subcellular localization information.txt',sep='\\t') # Subcellular localization (GO)\n",
    "RNA_location = RNA_location[(RNA_location['Species'].str.contains('apiens')) &\n",
    "                            (RNA_location['GO_Accession'].notna())].drop(columns=['Species','Subcellular_Localization','RNALocate_ID'])\n",
    "RNA_location['GO_Accession'] = RNA_location['GO_Accession'].str.replace(':',\"_\")\n",
    "RNA_location['PubMed_ID'] = RNA_location['PubMed_ID'].astype('Int64').astype(str)\n",
    "# We keep only entries score is >= 0.95 (see http://www.rnalocate.org/help Q9)\n",
    "RNA_location = RNA_location[RNA_location['RNALocate_Score'] >= 0.95]\n",
    "\n",
    "RNA_location['PubMed_ID'] = pd.to_numeric(RNA_location['PubMed_ID'], errors='coerce')\n",
    "RNA_location['PubMed_ID'] = RNA_location['PubMed_ID'].replace(0, np.nan)\n",
    "RNA_location['PubMed_ID'] = pd.to_numeric(RNA_location['PubMed_ID'], errors='coerce')\n",
    "RNA_location['PubMed_ID'] = RNA_location['PubMed_ID'].astype(str).str.replace(\".0\", \"\")\n",
    "RNA_location['PubMed_ID'] = RNA_location['PubMed_ID'].replace(\"<NA>\", np.nan)\n",
    "RNA_location['PubMed_ID'] = RNA_location['PubMed_ID'].replace(\"nan\", np.nan)\n",
    "\n",
    "print(RNA_location.RNA_Type.unique())\n",
    "RNA_location['Source'] = 'RNALocate'\n",
    "RNA_location.head(n=3)"
   ]
  },
  {
   "cell_type": "code",
   "execution_count": null,
   "metadata": {},
   "outputs": [],
   "source": [
    "mRNA_location = RNA_location[RNA_location['RNA_Type'] == 'mRNA']\n",
    "mrna_ensembl_map = ensembl_map[['transcript_stable_id','symbol','ensembl_transcript_type']]\n",
    "mrna_ensembl_map = mrna_ensembl_map[mrna_ensembl_map['ensembl_transcript_type'] == 'protein_coding'].drop(\n",
    "    columns='ensembl_transcript_type').drop_duplicates()\n",
    "mRNA_location = pd.merge(mRNA_location, mrna_ensembl_map, left_on='RNA_Symbol',right_on='symbol')\n",
    "mRNA_location = mRNA_location.rename(columns={'transcript_stable_id':':START_ID','GO_Accession':':END_ID',\n",
    "                                              'RNALocate_Score':'RNAsister_score',\n",
    "                                              'PubMed_ID':'PubMedID'}).drop(columns=['RNA_Type'])\n",
    "mRNA_location.head(n=3)"
   ]
  },
  {
   "cell_type": "code",
   "execution_count": null,
   "metadata": {},
   "outputs": [],
   "source": [
    "ncRNA_location = RNA_location[(RNA_location['RNA_Type'] != 'miRNA') & (RNA_location['RNA_Type'] != 'mRNA')]\n",
    "ncRNA_location = pd.merge(ncRNA_location, rnacentral_map_human_hgnc.rename(\n",
    "    columns={'HGNC symbol':'RNA_Symbol','RNA category':'RNA_Type'}), on=['RNA_Symbol','RNA_Type'])\n",
    "ncRNA_location = ncRNA_location.rename(columns={'RNAcentral ID':':START_ID','GO_Accession':':END_ID',\n",
    "                                              'RNALocate_Score':'RNAsister_score',\n",
    "                                              'PubMed_ID':'PubMedID'}).drop(columns=['RNA_Type'])\n",
    "ncRNA_location.head(n=3)"
   ]
  },
  {
   "cell_type": "code",
   "execution_count": null,
   "metadata": {},
   "outputs": [],
   "source": [
    "miRNA_location = RNA_location[RNA_location['RNA_Type'] == 'miRNA'].drop(columns=['RNA_Type'])\n",
    "print(miRNA_location[~miRNA_location['RNA_Symbol'].isin(rnacentral_map_human['DB Description'])]['RNA_Symbol'].str[:3].unique())\n",
    "miRNA_RNA_miRNAnotInRNAcentral3p = miRNA_location[~miRNA_location['RNA_Symbol'].isin(rnacentral_map_human['DB Description'])]\n",
    "miRNA_RNA_miRNAnotInRNAcentral5p = miRNA_location[~miRNA_location['RNA_Symbol'].isin(rnacentral_map_human['DB Description'])]\n",
    "miRNA_RNA_miRNAnotInRNAcentral5p['RNA_Symbol'] = miRNA_RNA_miRNAnotInRNAcentral5p['RNA_Symbol'].astype(str) + '-3p'\n",
    "miRNA_RNA_miRNAnotInRNAcentral3p['RNA_Symbol'] = miRNA_RNA_miRNAnotInRNAcentral3p['RNA_Symbol'].astype(str) + '-5p'\n",
    "miRNA_RNA_miRNAnotInRNAcentral = pd.concat([miRNA_RNA_miRNAnotInRNAcentral3p, miRNA_RNA_miRNAnotInRNAcentral5p])\n",
    "miRNA_RNA_miRNAnotInRNAcentral = pd.merge(miRNA_RNA_miRNAnotInRNAcentral, rnacentral_map_human.rename(\n",
    "    columns={'DB Description':'RNA_Symbol'}), on='RNA_Symbol').drop(columns=['RNA_Symbol']).rename(columns={'RNAcentral ID':'RNA'})\n",
    "\n",
    "miRNA_location = pd.merge(miRNA_location, rnacentral_map_human.rename(columns={'DB Description':'RNA_Symbol'}), on='RNA_Symbol')\n",
    "miRNA_location = pd.concat([miRNA_location.rename(columns={'RNAcentral ID':'RNA'}),\n",
    "                       miRNA_RNA_miRNAnotInRNAcentral]).drop(columns=['DB', 'Organism', 'RNA category','DB ID','RNA_Symbol'])\n",
    "\n",
    "miRNA_location['Source'] = 'RNALocate'\n",
    "miRNA_location = miRNA_location.rename(columns={'RNA':':START_ID','GO_Accession':':END_ID',\n",
    "                                                'RNALocate_Score':'RNAsister_score',\n",
    "                                                'PubMed_ID':'PubMedID'})\n",
    "miRNA_location.head(n=3)"
   ]
  },
  {
   "cell_type": "code",
   "execution_count": null,
   "metadata": {},
   "outputs": [],
   "source": [
    "RNA_located_in_OBO3 = pd.concat([mRNA_location, ncRNA_location, miRNA_location]).copy()\n",
    "RNA_located_in_OBO3.head(n=3)"
   ]
  },
  {
   "cell_type": "markdown",
   "metadata": {},
   "source": [
    "* [piRBase](http://bigdata.ibp.ac.cn/piRBase/)"
   ]
  },
  {
   "cell_type": "code",
   "execution_count": null,
   "metadata": {},
   "outputs": [],
   "source": [
    "df = pd.DataFrame()\n",
    "for i in rnacentral_map_human_pirbase['piRBase ID'].unique(): # Uberon+CLO\n",
    "    #response = requests.get(url = 'http://bigdata.ibp.ac.cn/piRBase/pirna.php?name=' + i)\n",
    "    #with open(f'../resources/processed_data/unprocessed_data/piRBase/{i}.html', 'wb') as file:\n",
    "    #    file.write(response.content)\n",
    "    temp = pd.read_html(f'../resources/processed_data/unprocessed_data/piRBase/{i}.html')[1]\n",
    "    temp['piRNA'] = i\n",
    "    df = pd.concat([df, temp])\n",
    "\n",
    "df = df.drop(columns=['Reads'])\n",
    "df.head(n=3)"
   ]
  },
  {
   "cell_type": "code",
   "execution_count": null,
   "metadata": {},
   "outputs": [],
   "source": [
    "df['Tissue'] = df['Tissue'].str.lower()\n",
    "df['Tissue'] = df['Tissue'].str.replace(r'\\(.*', '', regex=True)\n",
    "df['Tissue'] = df['Tissue'].str.replace('adult ', '')\n",
    "df['Tissue'] = df['Tissue'].str.replace(' from 2nd trimester embryos', '')\n",
    "df['Tissue'] = df['Tissue'].str.replace(' from 1st trimester embryos', '')\n",
    "df['Tissue'] = df['Tissue'].str.replace('mesenchymal stromal cells from bone marrow', ' stroma of bone marrow')\n",
    "df['Tissue'] = df['Tissue'].str.replace(', neurosurgical fluid, extracellular vesicles', '')\n",
    "df['Tissue'] = df['Tissue'].str.replace('2 cell ', '')\n",
    "df['Tissue'] = df['Tissue'].str.replace(')', '')\n",
    "df['Tissue'] = df['Tissue'].str.replace('morula embryo', 'morula')\n",
    "df['Tissue'] = df['Tissue'].str.strip()\n",
    "df['Tissue'].unique()"
   ]
  },
  {
   "cell_type": "code",
   "execution_count": null,
   "metadata": {},
   "outputs": [],
   "source": [
    "df = df.merge(desc_anatomyCell_map.rename(columns={0:'Tissue'}), on='Tissue').drop(columns=['Tissue']).rename(columns={1:'Tissue'})\n",
    "df = pd.merge(df, rnacentral_map_human_pirbase.rename(columns={'piRBase ID':'piRNA'}), on='piRNA').drop(\n",
    "    columns=['piRNA']).rename(columns={'RNAcentral ID':'RNA'})\n",
    "df.drop(columns=['Dataset'],inplace=True)\n",
    "\n",
    "df['PubMed'] = pd.to_numeric(df['PubMed'], errors='coerce')\n",
    "df['PubMed'] = df['PubMed'].replace(0, np.nan)\n",
    "df['PubMed'] = pd.to_numeric(df['PubMed'], errors='coerce')\n",
    "df['PubMed'] = df['PubMed'].astype(str).str.replace(\".0\", \"\")\n",
    "df['PubMed'] = df['PubMed'].replace(\"<NA>\", np.nan)\n",
    "df['PubMed'] = df['PubMed'].replace(\"nan\", np.nan)\n",
    "\n",
    "df['Accession'] = \"NCBI/geo/query/acc.cgi?acc=\" + df['Accession'].astype(str)\n",
    "\n",
    "df['Method'] = df['Method'].str.lower().str.strip()\n",
    "df = pd.merge(df, method_map, right_on='0_y', left_on='Method', how='left')\n",
    "df['0_x'] = df['0_x'].fillna(df['Method'])\n",
    "df = df.drop(columns=['0_y', 'Method'])\n",
    "df = df.rename(columns={'0_x':'Method'})\n",
    "\n",
    "df = pd.concat([df.drop(columns='Accession'), df.drop(columns='Method').rename(columns={'Accession':'Method'})])\n",
    "\n",
    "df.rename(columns={'RNA':':START_ID','Tissue':':END_ID','PubMed':'PubMedID'},inplace=True)\n",
    "df['Source'] = 'piRBase'\n",
    "RNA_located_in_OBO4 = df.copy()\n",
    "RNA_located_in_OBO4.head(n=3)"
   ]
  },
  {
   "cell_type": "markdown",
   "metadata": {},
   "source": [
    "* [circBase](http://www.circbase.org/) <br /> circBase is a database where merged and unified data sets of circRNAs and the evidence supporting their expression can be accessed, downloaded, and browsed within the genomic context."
   ]
  },
  {
   "cell_type": "code",
   "execution_count": null,
   "metadata": {},
   "outputs": [],
   "source": [
    "!wget http://www.circbase.org/download/hsa_hg19_circRNA.txt -P ../resources/processed_data/unprocessed_data/hsa_hg19_circRNA.txt"
   ]
  },
  {
   "cell_type": "code",
   "execution_count": null,
   "metadata": {},
   "outputs": [],
   "source": [
    "circbase = pd.read_csv(unprocessed_data_location + 'hsa_hg19_circRNA.txt', sep='\\t') # CLO+Uberon\n",
    "circrna_clo_anatomy = circbase[['circRNA ID','samples','best transcript','circRNA study']].drop_duplicates()\n",
    "circrna_clo_anatomy['samples'] = circrna_clo_anatomy['samples'].str.lower()\n",
    "circrna_clo_anatomy['samples'] = circrna_clo_anatomy['samples'].str.split(', ')\n",
    "circrna_clo_anatomy = circrna_clo_anatomy.explode('samples')\n",
    "circrna_clo_anatomy = circrna_clo_anatomy.merge(desc_anatomyCell_map.rename(columns={0:'samples'}),\n",
    "                                     on='samples').drop(columns=['samples']).rename(columns={1:'Tissue'})\n",
    "print(circrna_clo_anatomy['circRNA study'].unique())\n",
    "circrna_clo_anatomy['circRNA study'] = circrna_clo_anatomy['circRNA study'].str.replace(\"Salzman2013\",\"22319583\")\n",
    "circrna_clo_anatomy['circRNA study'] = circrna_clo_anatomy['circRNA study'].str.replace(\"Memczak2013\",\"23446348\")\n",
    "circrna_clo_anatomy['circRNA study'] = circrna_clo_anatomy['circRNA study'].str.replace(\"Zhang2013\",\"25242744\")\n",
    "circrna_clo_anatomy['circRNA study'] = circrna_clo_anatomy['circRNA study'].str.replace(\"Jeck2013\",\"23249747\")\n",
    "circrna_clo_anatomy['circRNA study'] = circrna_clo_anatomy['circRNA study'].str.split(', ')\n",
    "circrna_clo_anatomy = circrna_clo_anatomy.explode('circRNA study')\n",
    "circrna_clo_anatomy['Source'] = 'circBase'\n",
    "circrna_clo_anatomy = circrna_clo_anatomy.rename(columns={'circRNA ID':':START_ID','Tissue':':END_ID','circRNA study':'PubMedID'})\n",
    "RNA_located_in_OBO5 = circrna_clo_anatomy.copy()\n",
    "RNA_located_in_OBO5.head(n=3)"
   ]
  },
  {
   "cell_type": "markdown",
   "metadata": {},
   "source": [
    "* [LncBase](https://diana.e-ce.uth.gr/lncbasev3/home) <br /> DIANA-LncBase v3 is a reference repository with experimentally supported miRNA targets on long non-coding transcripts."
   ]
  },
  {
   "cell_type": "code",
   "execution_count": null,
   "metadata": {},
   "outputs": [],
   "source": [
    "# https://diana.e-ce.uth.gr/lncbasev3/interactions --> check all filters --> \"Download\" button --> CSV -->\n",
    "# --> Give consent --> Download file via link received by e-mail"
   ]
  },
  {
   "cell_type": "code",
   "execution_count": null,
   "metadata": {},
   "outputs": [],
   "source": [
    "lncRNA_anatomy = pd.read_csv(unprocessed_data_location + 'lncbase_lncrna-anatomy.csv', sep=\"\\t\").drop(columns=['Species']) # Uberon+CLO\n",
    "lncRNA_anatomy['Tissue'] = lncRNA_anatomy['Tissue'].str.lower()\n",
    "lncRNA_anatomy['Cell Type'] = lncRNA_anatomy['Cell Type'].str.lower()\n",
    "\n",
    "lncRNA_anatomy = pd.concat([lncRNA_anatomy.drop(columns=['Cell Type']),lncRNA_anatomy.drop(\n",
    "    columns=['Tissue']).rename(columns={'Cell Type':'Tissue'})])\n",
    "\n",
    "lncRNA_anatomy = lncRNA_anatomy.drop(columns=['Gene Id','Gene Name'])\n",
    "lncRNA_anatomy = lncRNA_anatomy[~lncRNA_anatomy['Tissue'].isna()]\n",
    "print(lncRNA_anatomy['Transcript Id'].str[:3].unique())\n",
    "lncRNA_anatomy['Transcript Id'] = lncRNA_anatomy['Transcript Id'].str.split('.').str[0]\n",
    "\n",
    "lncRNA_anatomy = lncRNA_anatomy.groupby([\"Transcript Id\",\"Tissue\",\"Category\"]).agg({'TPM':np.mean}).reset_index()\n",
    "lncRNA_anatomy['Source'] = 'LncBase'\n",
    "\n",
    "print(lncRNA_anatomy.TPM.mean())\n",
    "lncRNA_anatomy = lncRNA_anatomy[lncRNA_anatomy['TPM'] >= lncRNA_anatomy.TPM.mean()]\n",
    "\n",
    "lncRNA_anatomy = pd.merge(lncRNA_anatomy, desc_anatomyCell_map.rename(columns={0:'Tissue'}), on='Tissue').drop(columns=['Tissue']).rename(\n",
    "    columns={1:'Tissue'})\n",
    "\n",
    "lncRNA_anatomy = pd.merge(lncRNA_anatomy, pd.concat([rnacentral_map_human_refseq[['RNAcentral ID','RefSeq ID']],\n",
    "                                                     rnacentral_map_human_refseq[['RNAcentral ID','Label']].rename(\n",
    "                                                         columns={'Label':'RefSeq ID'})]).drop_duplicates().dropna().rename(\n",
    "                                                             columns={'RNAcentral ID':'Transcript Id'}),\n",
    "                                                                on='Transcript Id').drop(columns=['RefSeq ID'])\n",
    "\n",
    "lncRNA_anatomy['Category'] = lncRNA_anatomy['Category'].str.split(\",\")\n",
    "lncRNA_anatomy = lncRNA_anatomy.explode('Category')\n",
    "print(lncRNA_anatomy['Category'].unique())\n",
    "lncRNA_anatomy['Category'] = lncRNA_anatomy['Category'].str.replace('Cancer/Malignant','cancer cell line')\n",
    "lncRNA_anatomy['Category'] = lncRNA_anatomy['Category'].str.replace('Stem/Progenitor','stem cell line cell')\n",
    "lncRNA_anatomy['Category'] = lncRNA_anatomy['Category'].str.replace('Normal/Primary','primary cultured cell')\n",
    "lncRNA_anatomy['Category'] = lncRNA_anatomy['Category'].str.replace('Embryonic/Fetal','embryonic stem cell line cell')\n",
    "\n",
    "RNA_located_in_OBO6 = lncRNA_anatomy.copy()\n",
    "RNA_located_in_OBO6.rename(columns={'Transcript Id':':START_ID','Tissue':':END_ID','Category':'Location'},inplace=True)\n",
    "RNA_located_in_OBO6.head(n=3)"
   ]
  },
  {
   "cell_type": "markdown",
   "metadata": {},
   "source": [
    "* [miRandola](http://mirandola.iit.cnr.it/) <br /> miRandola is a comprehensive manually curated classification of different extracellular circulating non-coding RNA types."
   ]
  },
  {
   "cell_type": "code",
   "execution_count": null,
   "metadata": {},
   "outputs": [],
   "source": [
    "!wget http://mirandola.iit.cnr.it/download/miRandola_version_02_2017.txt -O ../resources/processed_data/unprocessed_data/miRandola_version_02_2017.txt"
   ]
  },
  {
   "cell_type": "code",
   "execution_count": null,
   "metadata": {},
   "outputs": [],
   "source": [
    "RNA_ev = pd.read_csv(unprocessed_data_location+'miRandola_version_02_2017.txt', sep='\\t')# circBase -- Extracellular form - GO\n",
    "print(RNA_ev.RNA_class.unique())\n",
    "RNA_ev.head(n=2)"
   ]
  },
  {
   "cell_type": "code",
   "execution_count": null,
   "metadata": {},
   "outputs": [],
   "source": [
    "circRNA_ev = RNA_ev[(RNA_ev['circRNA_accession'].notna()) & (RNA_ev['organism'].str.contains('apiens'))]\n",
    "circRNA_ev['circRNA_accession'] = circRNA_ev['circRNA_accession'].str.lower()\n",
    "circRNA_ev = circRNA_ev[circRNA_ev['circRNA_accession'].str.match(r'hsa_circ_\\d+')]\n",
    "# circRNA in miRandola only circulates in blood\n",
    "circRNA_ev['GO'] = 'GO_0072562'\n",
    "\n",
    "circRNA_ev['PubMed_ID'] = pd.to_numeric(circRNA_ev['PubMed_ID'], errors='coerce')\n",
    "circRNA_ev['PubMed_ID'] = circRNA_ev['PubMed_ID'].replace(0, np.nan)\n",
    "circRNA_ev['PubMed_ID'] = pd.to_numeric(circRNA_ev['PubMed_ID'], errors='coerce')\n",
    "circRNA_ev['PubMed_ID'] = circRNA_ev['PubMed_ID'].astype(str).str.replace(\".0\", \"\")\n",
    "circRNA_ev['PubMed_ID'] = circRNA_ev['PubMed_ID'].replace(\"<NA>\", np.nan)\n",
    "circRNA_ev['PubMed_ID'] = circRNA_ev['PubMed_ID'].replace(\"nan\", np.nan)\n",
    "\n",
    "circRNA_ev['disease_or_cell_line'] = circRNA_ev['disease_or_cell_line'].str.lower()\n",
    "circRNA_ev = pd.merge(circRNA_ev, disease_map, right_on='0_y', left_on='disease_or_cell_line', how='left')\n",
    "circRNA_ev['0_x'] = circRNA_ev['0_x'].fillna(circRNA_ev['disease_or_cell_line'])\n",
    "circRNA_ev = circRNA_ev.drop(columns=['0_y', 'disease_or_cell_line'])\n",
    "circRNA_ev = circRNA_ev.rename(columns={'0_x':'Location'})\n",
    "circRNA_ev['Location'] = circRNA_ev['Location'].replace(\"normal\", np.nan)\n",
    "\n",
    "circRNA_ev['method'] = circRNA_ev['method'].str.lower()\n",
    "circRNA_ev['method'] = circRNA_ev['method'].str.replace(r\"\\(.*?\\)\", \"\", regex=True)\n",
    "circRNA_ev['method'] = circRNA_ev['method'].str.split(\"|\")\n",
    "circRNA_ev['method'] = circRNA_ev['method'].explode(\"method\")\n",
    "circRNA_ev['method'] = circRNA_ev['method'].str.strip()\n",
    "circRNA_ev = pd.merge(circRNA_ev, method_map, right_on='0_y', left_on='method', how='left')\n",
    "circRNA_ev['0_x'] = circRNA_ev['0_x'].fillna(circRNA_ev['method'])\n",
    "circRNA_ev = circRNA_ev.drop(columns=['0_y', 'method'])\n",
    "circRNA_ev = circRNA_ev.rename(columns={'0_x':'Method'})\n",
    "\n",
    "circRNA_ev = circRNA_ev.drop(columns=['RNA','RNA_class','miRBase_Last_Version','miRBase_accession','miRBase_Last_Version',\n",
    "                                    'miRBase_family','organism','description','sample'])\n",
    "circRNA_ev['Source'] = 'miRandola'\n",
    "circRNA_ev.rename(columns={'circRNA_accession':':START_ID','GO':':END_ID','PubMed_ID':'PubMedID'},inplace=True)\n",
    "RNA_located_in_OBO7 = circRNA_ev.copy()\n",
    "RNA_located_in_OBO7.head(n=3)"
   ]
  },
  {
   "cell_type": "markdown",
   "metadata": {},
   "source": [
    "* [miRandola](http://mirandola.iit.cnr.it/) "
   ]
  },
  {
   "cell_type": "code",
   "execution_count": null,
   "metadata": {},
   "outputs": [],
   "source": [
    "mirnaRNA_ev = RNA_ev[(RNA_ev['miRBase_accession'].notna()) & (RNA_ev['organism'].str.contains('apiens'))] # Extracellular form - GO\n",
    "mirnaRNA_ev['sample'] = mirnaRNA_ev['sample'].str.strip().str.lower()\n",
    "\n",
    "mirnaRNA_ev = mirnaRNA_ev.drop(columns=['RNA','RNA_class','miRBase_Last_Version','circRNA_accession','miRBase_Last_Version',\n",
    "                                    'miRBase_family','organism','description'])\n",
    "print(mirnaRNA_ev[~mirnaRNA_ev['miRBase_accession'].isin(rnacentral_map_human_mirbase['miRBase ID'])]['miRBase_accession'].unique())\n",
    "mirnaRNA_ev['miRBase_accession'] = mirnaRNA_ev['miRBase_accession'].str.replace('MIMAT0005905','URS000047047A')\n",
    "mirnaRNA_ev['miRBase_accession'] = mirnaRNA_ev['miRBase_accession'].str.replace('MIMAT0015090','URS00003CF845')\n",
    "mirnaRNA_ev['miRBase_accession'] = mirnaRNA_ev['miRBase_accession'].replace('MIMAT0005954',np.nan)\n",
    "mirnaRNA_ev = pd.merge(mirnaRNA_ev, rnacentral_map_human_mirbase[['miRBase ID','RNAcentral ID']].rename(\n",
    "    columns={'miRBase ID':'miRBase_accession'}).drop_duplicates(), on='miRBase_accession').rename(\n",
    "        columns={'RNAcentral ID':'RNA'})\n",
    "mirnaRNA_ev['RNA'] = mirnaRNA_ev['RNA'].fillna(mirnaRNA_ev['miRBase_accession'])\n",
    "\n",
    "mirnaRNA_ev['PubMed_ID'] = pd.to_numeric(mirnaRNA_ev['PubMed_ID'], errors='coerce')\n",
    "mirnaRNA_ev['PubMed_ID'] = mirnaRNA_ev['PubMed_ID'].replace(0, np.nan)\n",
    "mirnaRNA_ev['PubMed_ID'] = pd.to_numeric(mirnaRNA_ev['PubMed_ID'], errors='coerce')\n",
    "mirnaRNA_ev['PubMed_ID'] = mirnaRNA_ev['PubMed_ID'].astype(str).str.replace(\".0\", \"\")\n",
    "mirnaRNA_ev['PubMed_ID'] = mirnaRNA_ev['PubMed_ID'].replace(\"<NA>\", np.nan)\n",
    "mirnaRNA_ev['PubMed_ID'] = mirnaRNA_ev['PubMed_ID'].replace(\"nan\", np.nan)\n",
    "\n",
    "mirnaRNA_ev['disease_or_cell_line'] = mirnaRNA_ev['disease_or_cell_line'].str.lower()\n",
    "mirnaRNA_ev['disease_or_cell_line'] = mirnaRNA_ev['disease_or_cell_line'].str.replace(r\"\\(.*?\\)\", \"\", regex=True)\n",
    "mirnaRNA_ev = pd.merge(mirnaRNA_ev, disease_map, right_on='0_y', left_on='disease_or_cell_line', how='left')\n",
    "mirnaRNA_ev['0_x'] = mirnaRNA_ev['0_x'].fillna(mirnaRNA_ev['disease_or_cell_line'])\n",
    "mirnaRNA_ev = mirnaRNA_ev.drop(columns=['0_y', 'disease_or_cell_line'])\n",
    "mirnaRNA_ev = mirnaRNA_ev.rename(columns={'0_x':'Location'})\n",
    "mirnaRNA_ev['Location'] = mirnaRNA_ev['Location'].replace(\"normal\", np.nan)\n",
    "\n",
    "mirnaRNA_ev['method'] = mirnaRNA_ev['method'].str.lower()\n",
    "mirnaRNA_ev['method'] = mirnaRNA_ev['method'].str.replace(r\"\\(.*?\\)\", \"\", regex=True)\n",
    "mirnaRNA_ev['method'] = mirnaRNA_ev['method'].str.split(\"|\")\n",
    "mirnaRNA_ev['method'] = mirnaRNA_ev['method'].explode(\"method\")\n",
    "mirnaRNA_ev['method'] = mirnaRNA_ev['method'].str.strip()\n",
    "mirnaRNA_ev = pd.merge(mirnaRNA_ev, method_map, right_on='0_y', left_on='method', how='left')\n",
    "mirnaRNA_ev['0_x'] = mirnaRNA_ev['0_x'].fillna(mirnaRNA_ev['method'])\n",
    "mirnaRNA_ev = mirnaRNA_ev.drop(columns=['0_y', 'method'])\n",
    "mirnaRNA_ev = mirnaRNA_ev.rename(columns={'0_x':'Method'})\n",
    "\n",
    "mirnaRNA_ev = pd.merge(mirnaRNA_ev, desc_go_map.rename(columns={0:'sample'}), on='sample').drop(columns=['sample']).rename(\n",
    "        columns={1:'GO'})\n",
    "mirnaRNA_ev['Source'] = 'miRandola'\n",
    "RNA_located_in_OBO8 = mirnaRNA_ev.copy()\n",
    "RNA_located_in_OBO8.rename(columns={'RNA':':START_ID','GO':':END_ID','PubMed_ID':'PubMedID'},inplace=True)\n",
    "RNA_located_in_OBO8.head(n=3)"
   ]
  },
  {
   "cell_type": "code",
   "execution_count": null,
   "metadata": {},
   "outputs": [],
   "source": [
    "lncrnaRNA_ev = RNA_ev[(RNA_ev['RNA'].notna()) & (RNA_ev['organism'].str.contains('apiens')) & (RNA_ev['RNA_class'] == 'lncRNA')]\n",
    "lncrnaRNA_ev['sample'] = lncrnaRNA_ev['sample'].str.strip().str.lower()\n",
    "lncrnaRNA_ev['RNA'] = lncrnaRNA_ev['RNA'].str.strip().str.upper()\n",
    "\n",
    "lncrnaRNA_ev = lncrnaRNA_ev.drop(columns=['RNA_class','miRBase_Last_Version','circRNA_accession','miRBase_Last_Version',\n",
    "                                    'miRBase_family','organism','description'])\n",
    "lncrnaRNA_ev = pd.merge(lncrnaRNA_ev, rnacentral_map_human_hgnc[['HGNC symbol','RNAcentral ID']].rename(\n",
    "    columns={'HGNC symbol':'RNA'}).drop_duplicates(), on='RNA').drop(columns=['RNA']).rename(columns={'RNAcentral ID':'RNA'})\n",
    "lncrnaRNA_ev = pd.merge(lncrnaRNA_ev, desc_go_map.rename(columns={0:'sample'}), on='sample').drop(columns=['sample']).rename(\n",
    "        columns={1:'GO'})\n",
    "\n",
    "lncrnaRNA_ev['PubMed_ID'] = pd.to_numeric(lncrnaRNA_ev['PubMed_ID'], errors='coerce')\n",
    "lncrnaRNA_ev['PubMed_ID'] = lncrnaRNA_ev['PubMed_ID'].replace(0, np.nan)\n",
    "lncrnaRNA_ev['PubMed_ID'] = pd.to_numeric(lncrnaRNA_ev['PubMed_ID'], errors='coerce')\n",
    "lncrnaRNA_ev['PubMed_ID'] = lncrnaRNA_ev['PubMed_ID'].astype(str).str.replace(\".0\", \"\")\n",
    "lncrnaRNA_ev['PubMed_ID'] = lncrnaRNA_ev['PubMed_ID'].replace(\"<NA>\", np.nan)\n",
    "lncrnaRNA_ev['PubMed_ID'] = lncrnaRNA_ev['PubMed_ID'].replace(\"nan\", np.nan)\n",
    "\n",
    "lncrnaRNA_ev['disease_or_cell_line'] = lncrnaRNA_ev['disease_or_cell_line'].str.lower()\n",
    "lncrnaRNA_ev = pd.merge(lncrnaRNA_ev, disease_map, right_on='0_y', left_on='disease_or_cell_line', how='left')\n",
    "lncrnaRNA_ev['0_x'] = lncrnaRNA_ev['0_x'].fillna(lncrnaRNA_ev['disease_or_cell_line'])\n",
    "lncrnaRNA_ev = lncrnaRNA_ev.drop(columns=['0_y', 'disease_or_cell_line'])\n",
    "lncrnaRNA_ev = lncrnaRNA_ev.rename(columns={'0_x':'Location'})\n",
    "lncrnaRNA_ev['Location'] = lncrnaRNA_ev['Location'].replace(\"normal\", np.nan)\n",
    "\n",
    "lncrnaRNA_ev['method'] = lncrnaRNA_ev['method'].str.lower()\n",
    "lncrnaRNA_ev['method'] = lncrnaRNA_ev['method'].str.replace(r\"\\(.*?\\)\", \"\", regex=True)\n",
    "lncrnaRNA_ev['method'] = lncrnaRNA_ev['method'].str.split(\"|\")\n",
    "lncrnaRNA_ev['method'] = lncrnaRNA_ev['method'].explode(\"method\")\n",
    "lncrnaRNA_ev['method'] = lncrnaRNA_ev['method'].str.strip()\n",
    "lncrnaRNA_ev = pd.merge(lncrnaRNA_ev, method_map, right_on='0_y', left_on='method', how='left')\n",
    "lncrnaRNA_ev['0_x'] = lncrnaRNA_ev['0_x'].fillna(lncrnaRNA_ev['method'])\n",
    "lncrnaRNA_ev = lncrnaRNA_ev.drop(columns=['0_y', 'method'])\n",
    "lncrnaRNA_ev = lncrnaRNA_ev.rename(columns={'0_x':'Method'})\n",
    "\n",
    "lncrnaRNA_ev['Source'] = 'miRandola'\n",
    "lncrnaRNA_ev.rename(columns={'RNA':':START_ID','GO':':END_ID','PubMed_ID':'PubMedID'},inplace=True)\n",
    "RNA_located_in_OBO9 = lncrnaRNA_ev.copy()\n",
    "RNA_located_in_OBO9.head(n=3)"
   ]
  },
  {
   "cell_type": "markdown",
   "metadata": {},
   "source": [
    "* [TAM](http://www.lirmed.com/tam2/)"
   ]
  },
  {
   "cell_type": "code",
   "execution_count": null,
   "metadata": {},
   "outputs": [],
   "source": [
    "with open(unprocessed_data_location+'mirset_v9.txt', 'r') as file:\n",
    "    data = file.read().rstrip()\n",
    "    \n",
    "TAM = pd.DataFrame([ ln.rstrip().split('\\t') for ln in\n",
    "    io.StringIO(data).readlines() ]).fillna('')\n",
    "\n",
    "miRNA_anatomy = TAM[(TAM[0].str.contains(\"TissueSpecific\"))]# Uberon\n",
    "miRNA_anatomy=miRNA_anatomy.drop(columns=[0])\n",
    "miRNA_anatomy=miRNA_anatomy.dropna(axis=1, how='all')\n",
    "miRNA_anatomy=pd.concat([miRNA_anatomy,miRNA_anatomy.loc[1236].to_frame().T])\n",
    "miRNA_anatomy=miRNA_anatomy.reset_index(drop=True)\n",
    "miRNA_anatomy.iloc[(3)][1] = \"Heart\"\n",
    "miRNA_anatomy.iloc[(6)][1] = \"Muscle\"\n",
    "miRNA_anatomy.head(n=1)"
   ]
  },
  {
   "cell_type": "code",
   "execution_count": null,
   "metadata": {},
   "outputs": [],
   "source": [
    "miRNA_anatomy['merged'] = miRNA_anatomy[miRNA_anatomy.columns[1:]].apply(\n",
    "    lambda x: ','.join(x.dropna().astype(str)),\n",
    "    axis=1\n",
    ")\n",
    "miRNA_anatomy['Uberon'] = ['UBERON_0002369', 'UBERON_0000955', 'UBERON_0001155',\n",
    "                           'UBERON_0002349', 'UBERON_0001150', 'UBERON_0001987', 'UBERON_0001630']\n",
    "miRNA_anatomy=miRNA_anatomy[[1,'Uberon','merged']]\n",
    "miRNA_anatomy['merged'] = miRNA_anatomy.merged.str.split(',')\n",
    "miRNA_anatomy = miRNA_anatomy.explode('merged')\n",
    "miRNA_anatomy['Source'] = 'TAM'\n",
    "miRNA_anatomy.head(n=1)"
   ]
  },
  {
   "cell_type": "code",
   "execution_count": null,
   "metadata": {},
   "outputs": [],
   "source": [
    "miRNA_anatomy = miRNA_anatomy[miRNA_anatomy['merged'] != '']\n",
    "\n",
    "print(all(miRNA_anatomy['merged'].isin(rnacentral_map_human['DB Description'])))\n",
    "print(miRNA_anatomy[~miRNA_anatomy['merged'].isin(rnacentral_map_human['DB Description'])]['merged'].unique())\n",
    "miRNA_anatomy['merged'] = miRNA_anatomy['merged'].str.replace('hsa-mir-194', 'hsa-mir-194-1')\n",
    "miRNA_anatomy = pd.concat([miRNA_anatomy, miRNA_anatomy[miRNA_anatomy['merged'] == 'hsa-mir-194-1'].assign(merged='hsa-mir-194-2')])\n",
    "miRNA_anatomy = pd.merge(miRNA_anatomy, rnacentral_map_human.rename(columns={'DB Description':'merged'}), on='merged').drop(\n",
    "    columns=['merged',1,'DB','DB ID','Organism','RNA category']).rename(columns={'RNAcentral ID':':START_ID', 'Uberon':':END_ID'})\n",
    "\n",
    "miRNA_anatomy['Source'] = 'miRPathDB'\n",
    "RNA_located_in_OBO10 = miRNA_anatomy.copy()\n",
    "RNA_located_in_OBO10.head(n=3)"
   ]
  },
  {
   "cell_type": "markdown",
   "metadata": {},
   "source": [
    "* [miRPathDB](https://mpd.bioinf.uni-sb.de/overview.html)"
   ]
  },
  {
   "cell_type": "code",
   "execution_count": null,
   "metadata": {},
   "outputs": [],
   "source": [
    "#tar = tarfile.open(unprocessed_data_location+'miRPathDB2_hsa_gmt.tar.gz', 'r:gz')\n",
    "#tar.extractall(unprocessed_data_location)\n",
    "#tar.close()\n",
    "\n",
    "with open(unprocessed_data_location+'hsa/GO_CC_validated_miRTarBase_strong.gmt', 'r') as file:# GO\n",
    "    data = file.read().rstrip()\n",
    "    \n",
    "miRNA_GO = pd.DataFrame([ ln.rstrip().split('\\t') for ln in\n",
    "    io.StringIO(data).readlines() ]).fillna('')\n",
    "\n",
    "miRNA_GO[0] = miRNA_GO[0].str.lower()\n",
    "miRNA_GO = miRNA_GO.dropna(axis=1, how='all')\n",
    "miRNA_GO = miRNA_GO.drop(columns=[1])\n",
    "miRNA_GO = pd.merge(desc_go_map, miRNA_GO, on=[0])\n",
    "miRNA_GO = miRNA_GO.dropna(axis=1, how='all')\n",
    "\n",
    "dflist = list()\n",
    "for i in range(len(miRNA_GO)):\n",
    "    df = pd.DataFrame(columns=[0, 1, 2])\n",
    "    df[0] = miRNA_GO.T[i].drop(index=[0, 1])\n",
    "    df[1] = miRNA_GO.T[i][0]\n",
    "    df[2] = miRNA_GO.T[i][1]\n",
    "    dflist.append(df)\n",
    "\n",
    "miRNA_GO = pd.DataFrame(columns=[0, 1, 2])\n",
    "for dataframe in dflist:\n",
    "    miRNA_GO = pd.concat([miRNA_GO, dataframe])\n",
    "miRNA_GO = miRNA_GO.dropna()\n",
    "miRNA_GO = miRNA_GO[miRNA_GO[0] != '']\n",
    "\n",
    "print(all(miRNA_GO[0].isin(rnacentral_map_human['DB Description'])))\n",
    "miRNA_GO = pd.merge(miRNA_GO, rnacentral_map_human.rename(columns={'DB Description':0}), on=0).drop(\n",
    "    columns=[0,1,'DB','DB ID','Organism','RNA category']).rename(columns={'RNAcentral ID':':START_ID', 2:':END_ID'})\n",
    "\n",
    "miRNA_GO['Source'] = 'miRPathDB'\n",
    "RNA_located_in_OBO11 = miRNA_GO.copy()\n",
    "RNA_located_in_OBO11.head(n=3)"
   ]
  },
  {
   "cell_type": "markdown",
   "metadata": {},
   "source": [
    "* [lncATLAS](https://lncatlas.crg.eu/) <br /> LncATLAS displays the subcellular localisation for GENCODE-annotated lncRNAs. This localisation is expressed in units of Relative Concentration Index (RCI) - a comparison of the concentration of a gene, per unit mass of RNA, between two cellular compartments."
   ]
  },
  {
   "cell_type": "code",
   "execution_count": null,
   "metadata": {},
   "outputs": [],
   "source": [
    "# https://lncatlas.crg.eu --> Get Raw Data --> Download All raw data\n",
    "lncRNA_comp = pd.read_csv(unprocessed_data_location + '2024-12-23_lncATLAS_all_data.csv').drop(columns=['Gene Name','Coding Type','Biotype'])# GO\n",
    "\n",
    "# Mapping to GO CC\n",
    "print(lncRNA_comp['Data Type'].unique())\n",
    "lncRNA_comp['GO'] = lncRNA_comp['Data Type'].replace({'nucleus': 'GO_0005634', 'cytosol': 'GO_0005829',\n",
    "                                                        'chromatin': 'GO_0000785', 'membrane': 'GO_0016020',\n",
    "                                                        'nucleolus': 'GO_0005730', 'nucleoplasm': 'GO_0005654'})\n",
    "lncRNA_comp = lncRNA_comp[lncRNA_comp['GO'].astype(str).str.startswith('GO_')]\n",
    "lncRNA_comp.drop(columns=['Data Type'],inplace=True)\n",
    "\n",
    "# Data cleaning rule to estabilish relations: discard FPKM below the mean\n",
    "print(lncRNA_comp.Value.mean())\n",
    "lncRNA_comp = lncRNA_comp[lncRNA_comp.Value >= lncRNA_comp.Value.mean()].rename(columns={'Value':'FPKM'})\n",
    "\n",
    "lncRNA_comp_rnacentral = pd.merge(lncRNA_comp, rnacentral_map_human_ensembl[['RNAcentral ID','Ensembl Gene ID']].drop_duplicates().rename(\n",
    "    columns={'Ensembl Gene ID':'ENSEMBL ID'}), on='ENSEMBL ID').rename(columns={'RNAcentral ID':'RNA'})\n",
    "lncRNA_comp_ensembl = pd.merge(lncRNA_comp, ensembl_map[['ensembl_gene_id','transcript_stable_id']].drop_duplicates().rename(\n",
    "    columns={'ensembl_gene_id':'ENSEMBL ID'}), on='ENSEMBL ID').drop(columns=['ENSEMBL ID']).rename(columns={'transcript_stable_id':'RNA'})\n",
    "lncRNA_comp_ensembl = lncRNA_comp_ensembl[~lncRNA_comp_ensembl['RNA'].isin(lncRNA_comp_rnacentral['ENSEMBL ID'])]\n",
    "lncRNA_comp_rnacentral.drop(columns=['ENSEMBL ID'],inplace=True)\n",
    "\n",
    "lncRNA_comp = pd.concat([lncRNA_comp_ensembl, lncRNA_comp_rnacentral]).rename(columns={'RNA':':START_ID','GO':':END_ID'})\n",
    "\n",
    "lncRNA_comp['Data Source'] = lncRNA_comp['Data Source'].str.lower()\n",
    "lncRNA_comp = pd.merge(lncRNA_comp, disease_map, right_on='0_y', left_on='Data Source', how='left')\n",
    "lncRNA_comp['0_x'] = lncRNA_comp['0_x'].fillna(lncRNA_comp['Data Source'])\n",
    "lncRNA_comp = lncRNA_comp.drop(columns=['0_y', 'Data Source'])\n",
    "lncRNA_comp = lncRNA_comp.rename(columns={'0_x':'Location'})\n",
    "\n",
    "lncRNA_comp['Source'] = 'lncATLAS'\n",
    "RNA_located_in_OBO12 = lncRNA_comp.copy()\n",
    "RNA_located_in_OBO12.head(n=3)"
   ]
  },
  {
   "cell_type": "markdown",
   "metadata": {},
   "source": [
    "* [LncBase](https://diana.e-ce.uth.gr/lncbasev3/home)"
   ]
  },
  {
   "cell_type": "code",
   "execution_count": null,
   "metadata": {},
   "outputs": [],
   "source": [
    "# https://diana.e-ce.uth.gr/lncbasev3/interactions --> check all filters --> \"Download\" button --> CSV -->\n",
    "# --> Give consent --> Download file via link received by e-mail"
   ]
  },
  {
   "cell_type": "code",
   "execution_count": null,
   "metadata": {},
   "outputs": [],
   "source": [
    "lncRNA_comp2 = pd.read_csv(unprocessed_data_location + 'lncbase_lncrna-CC.csv', sep=\"\\t\")# GO\n",
    "lncRNA_comp2['Compartment'] = lncRNA_comp2['Compartment'].replace({'Nucleus': 'GO_0005634', 'Cytoplasm': 'GO_0005737'})\n",
    "#lncRNA_comp2 = pd.merge(lncRNA_comp2, symbol_entrez_map.rename(columns={'0_x':'Gene Name'}), on='Gene Name')\n",
    "lncRNA_comp2.drop(columns=['Gene Name','Gene Id','Nucleus TPM','Cytoplasm TPM','Replicates'],inplace=True)\n",
    "lncRNA_comp2['RCI'] = abs(lncRNA_comp2.RCI)\n",
    "print(lncRNA_comp2.RCI.mean())\n",
    "lncRNA_comp2 = lncRNA_comp2[lncRNA_comp2.RCI >= lncRNA_comp2.RCI.mean()]\n",
    "print(lncRNA_comp2['Transcript Id'].str[:4].unique())\n",
    "lncRNA_comp2['Transcript Id'] = lncRNA_comp2['Transcript Id'].str.split('.').str[0]\n",
    "lncRNA_comp2['Source'] = 'LncBase'\n",
    "\n",
    "lncRNA_comp2_ensembl = pd.merge(lncRNA_comp2, pd.concat([rnacentral_map_human_refseq[['RNAcentral ID','RefSeq ID']],\n",
    "                                                     rnacentral_map_human_refseq[['RNAcentral ID','Label']].rename(\n",
    "                                                         columns={'Label':'RefSeq ID'})]).drop_duplicates().dropna().rename(\n",
    "                                                             columns={'RNAcentral ID':'Transcript Id'}),\n",
    "                                                                on='Transcript Id').drop(columns=['RefSeq ID'])\n",
    "lncRNA_comp2_ensembl.rename(columns={'Transcript Id':'RNA'},inplace=True)\n",
    "\n",
    "lncRNA_comp2_ensembl['Tissue'] = lncRNA_comp2_ensembl['Tissue'].str.lower()\n",
    "lncRNA_comp2_ensembl['Cell Type'] = lncRNA_comp2_ensembl['Cell Type'].str.lower()\n",
    "\n",
    "lncRNA_comp2_ensembl = pd.concat([lncRNA_comp2_ensembl.drop(columns=['Cell Type']),lncRNA_comp2_ensembl.drop(\n",
    "    columns=['Tissue']).rename(columns={'Cell Type':'Tissue'})])\n",
    "\n",
    "lncRNA_comp2_ensembl['Category'] = lncRNA_comp2_ensembl['Category'].str.split(\",\")\n",
    "lncRNA_comp2_ensembl = lncRNA_comp2_ensembl.explode('Category')\n",
    "print(lncRNA_comp2_ensembl['Category'].unique())\n",
    "\n",
    "lncRNA_comp2_ensembl['Tissue'] = lncRNA_comp2_ensembl['Tissue'].str.lower()\n",
    "lncRNA_comp2_ensembl = pd.merge(lncRNA_comp2_ensembl, disease_map, right_on='0_y', left_on='Tissue', how='left')\n",
    "lncRNA_comp2_ensembl['0_x'] = lncRNA_comp2_ensembl['0_x'].fillna(lncRNA_comp2_ensembl['Tissue'])\n",
    "lncRNA_comp2_ensembl = lncRNA_comp2_ensembl.drop(columns=['0_y', 'Tissue'])\n",
    "lncRNA_comp2_ensembl = lncRNA_comp2_ensembl.rename(columns={'0_x':'Location'})\n",
    "\n",
    "lncRNA_comp2_ensembl['Category'] = lncRNA_comp2_ensembl['Category'].str.replace('Cancer/Malignant','cancer cell line')\n",
    "lncRNA_comp2_ensembl['Category'] = lncRNA_comp2_ensembl['Category'].str.replace('Stem/Progenitor','stem cell line cell')\n",
    "lncRNA_comp2_ensembl['Category'] = lncRNA_comp2_ensembl['Category'].str.replace('Normal/Primary','primary cultured cell')\n",
    "lncRNA_comp2_ensembl['Category'] = lncRNA_comp2_ensembl['Category'].str.replace('Embryonic/Fetal','embryonic stem cell line cell')\n",
    "\n",
    "lncRNA_comp2_ensembl = pd.concat([lncRNA_comp2_ensembl.drop(columns=['Location']).rename(columns={'Category':'Location'}),\n",
    "                                  lncRNA_comp2_ensembl.drop(columns=['Category'])])\n",
    "lncRNA_comp2_ensembl.rename(columns={'RNA':':START_ID','Compartment':':END_ID','Category':'Location'},inplace=True)\n",
    "RNA_located_in_OBO13 = lncRNA_comp2_ensembl.copy()\n",
    "RNA_located_in_OBO13.head(n=3)"
   ]
  },
  {
   "cell_type": "markdown",
   "metadata": {},
   "source": [
    "* [tRFdb](http://genome.bioch.virginia.edu/trfdb/index.php)"
   ]
  },
  {
   "cell_type": "code",
   "execution_count": null,
   "metadata": {},
   "outputs": [],
   "source": [
    "#http://genome.bioch.virginia.edu/trfdb/index.php --> download webpage\n",
    "tRF1_tRNA = pd.read_html(unprocessed_data_location+'trf1.html')[2] # tRFdb -- CLO+Uberon\n",
    "tRF1_tRNA.drop(columns=['Organism'],inplace=True)\n",
    "tRF3_tRNA = pd.read_html(unprocessed_data_location+'trf3.html')[2]\n",
    "tRF3_tRNA.drop(columns=['Organism'],inplace=True)\n",
    "tRF5_tRNA = pd.read_html(unprocessed_data_location+'trf5.html')[2]\n",
    "tRF5_tRNA.drop(columns=['Organism'],inplace=True)\n",
    "\n",
    "tRF_tRNA = pd.concat([tRF1_tRNA,tRF3_tRNA,tRF5_tRNA])\n",
    "tRF_tRNA = tRF_tRNA.drop(columns=['Experiment Info', 'Sequence'])\n",
    "tRF_tRNA['tRF ID'] = tRF_tRNA['tRF ID'].astype(str)\n",
    "tRF_tRNA.head(n=3)"
   ]
  },
  {
   "cell_type": "code",
   "execution_count": null,
   "metadata": {},
   "outputs": [],
   "source": [
    "df = pd.DataFrame()\n",
    "\n",
    "for tRF_ID in tRF_tRNA['tRF ID']:\n",
    "    url = f\"http://genome.bioch.virginia.edu/trfdb/experiments_display.php?trf_id={tRF_ID}&organism=human\"\n",
    "    response = requests.get(url)\n",
    "    temp = pd.read_html(response.content)[0].drop(columns=['GEO / SRA Links','View Alignment','Graph Alignment'])\n",
    "    temp['tRF ID'] = tRF_ID\n",
    "    df = pd.concat([df, temp], ignore_index=True)\n",
    "df.Source = df.Source.str.lower().str.replace('-', ' ').str.replace('normal ', '').str.replace('whole', '')\n",
    "df['Source'] = df['Source'].apply(lambda x: x + ' cell' if not x.endswith(' cell') else x)\n",
    "df = df[df['Abundance'] != 0]\n",
    "df.to_csv(unprocessed_data_location+'trf_location.csv', index=False)\n",
    "df.head(n=3)"
   ]
  },
  {
   "cell_type": "code",
   "execution_count": null,
   "metadata": {},
   "outputs": [],
   "source": [
    "df.Source.unique()[:3]"
   ]
  },
  {
   "cell_type": "code",
   "execution_count": null,
   "metadata": {},
   "outputs": [],
   "source": [
    "df_gsm = df[df['Experiment'].str.startswith('GSM')]\n",
    "df_sra = df[df['Experiment'].str.startswith('SR')]\n",
    "df_gsm['Experiment'] = \"NCBI/geo/query/acc.cgi?acc=\" + df_gsm['Experiment']\n",
    "df_sra['Experiment'] = \"NCBI/sra/query/acc.cgi?acc=\" + df_sra['Experiment']\n",
    "df = pd.concat([df_gsm, df_sra])\n",
    "df = pd.merge(df.rename(columns={'Source':0}), desc_anatomyCell_map).drop(columns=[0])\n",
    "\n",
    "df.rename(columns={1:':END_ID', 'tRF ID':':START_ID', 'Experiment':'Location'}, inplace=True)\n",
    "df[':START_ID'] = \"trfdb?\" + df[':START_ID'].astype(str)\n",
    "df['Source'] = 'tRFdb'\n",
    "RNA_located_in_OBO14 = df.copy()\n",
    "RNA_located_in_OBO14.head(n=3)"
   ]
  },
  {
   "cell_type": "markdown",
   "metadata": {},
   "source": [
    "* [Vesiclepedia](http://microvesicles.org/index.html) <br/> Vesiclepedia is a a manually curated compendium of molecular data (lipid, RNA and protein) identified in different classes of extracellular vesicles. "
   ]
  },
  {
   "cell_type": "code",
   "execution_count": null,
   "metadata": {},
   "outputs": [],
   "source": [
    "!wget http://microvesicles.org/Archive/VESICLEPEDIA_EXPERIMENT_DETAILS_5.1.txt -O ../resources/processed_data/unprocessed_data/VESICLEPEDIA_EXPERIMENT_DETAILS_5.1.txt\n",
    "!wget http://microvesicles.org/Archive/VESICLEPEDIA_PROTEIN_MRNA_DETAILS_5.1.txt o ../resources/processed_data/unprocessed_data/VESICLEPEDIA_PROTEIN_MRNA_DETAILS_5.1.txt"
   ]
  },
  {
   "cell_type": "code",
   "execution_count": null,
   "metadata": {},
   "outputs": [],
   "source": [
    "experiments = pd.read_csv(unprocessed_data_location+'VESICLEPEDIA_EXPERIMENT_DETAILS_5.1.txt', sep='\\t')\n",
    "experiments = experiments[experiments['SPECIES'].str.contains('apiens')]\n",
    "\n",
    "protein_ev = pd.read_csv(unprocessed_data_location+'VESICLEPEDIA_PROTEIN_MRNA_DETAILS_5.1.txt', sep='\\t')\n",
    "protein_ev = protein_ev[protein_ev['SPECIES'].str.contains('apiens')]\n",
    "protein_ev = pd.merge(protein_ev, experiments, on=['EXPERIMENT ID'])\n",
    "\n",
    "protein_ev['PUBMED ID'] = pd.to_numeric(protein_ev['PUBMED ID'], errors='coerce')\n",
    "protein_ev['PUBMED ID'] = protein_ev['PUBMED ID'].replace(0, np.nan)\n",
    "protein_ev['PUBMED ID'] = pd.to_numeric(protein_ev['PUBMED ID'], errors='coerce')\n",
    "protein_ev['PUBMED ID'] = protein_ev['PUBMED ID'].astype(str).str.replace(\".0\", \"\")\n",
    "protein_ev['PUBMED ID'] = protein_ev['PUBMED ID'].replace(\"<NA>\", np.nan)\n",
    "protein_ev['PUBMED ID'] = protein_ev['PUBMED ID'].replace(\"nan\", np.nan)\n",
    "\n",
    "protein_ev['ISOLATION METHOD'] = protein_ev['ISOLATION METHOD'].str.lower()\n",
    "protein_ev['ISOLATION METHOD'] = protein_ev['ISOLATION METHOD'].str.split(\"|\")\n",
    "protein_ev = protein_ev.explode('ISOLATION METHOD')\n",
    "protein_ev = pd.merge(protein_ev, method_map, right_on='0_y', left_on='ISOLATION METHOD', how='left')\n",
    "protein_ev['0_x'] = protein_ev['0_x'].fillna(protein_ev['ISOLATION METHOD'])\n",
    "protein_ev = protein_ev.drop(columns=['0_y', 'ISOLATION METHOD'])\n",
    "protein_ev = protein_ev.rename(columns={'0_x':'Method','PUBMED ID':'PubMedID'})\n",
    "\n",
    "protein_ev['SAMPLE'] = protein_ev['SAMPLE'].str.lower()\n",
    "protein_ev = pd.merge(protein_ev, location_map, right_on='0_y', left_on='SAMPLE', how='left')\n",
    "protein_ev['0_x'] = protein_ev['0_x'].fillna(protein_ev['SAMPLE'])\n",
    "protein_ev = protein_ev.drop(columns=['0_y', 'SAMPLE'])\n",
    "protein_ev = protein_ev.rename(columns={'0_x':'Location'})\n",
    "\n",
    "protein_ev = protein_ev[[\"CONTENT TYPE\",\"ENTREZ GENE ID\",\"PubMedID\",\"Location\",\"Method\",\"VESICLE TYPE\"]]\n",
    "print(protein_ev['VESICLE TYPE'].unique())\n",
    "protein_ev.head(n=3)"
   ]
  },
  {
   "cell_type": "code",
   "execution_count": null,
   "metadata": {},
   "outputs": [],
   "source": [
    "protein_ev['VESICLE TYPE'] = protein_ev['VESICLE TYPE'].str.replace(r\".*xosomes.*\", \"GO_0070062\", regex=True)\n",
    "protein_ev['VESICLE TYPE'] = protein_ev['VESICLE TYPE'].str.replace(\"Membrane blebs\", \"GO_0032059\")\n",
    "protein_ev['VESICLE TYPE'] = protein_ev['VESICLE TYPE'].str.replace(\"Apoptotic bodies\", \"GO_0097189\")\n",
    "protein_ev['VESICLE TYPE'] = protein_ev['VESICLE TYPE'].str.replace(r\".*embrane\", \"GO_0016020\", regex=True)\n",
    "protein_ev['VESICLE TYPE'] = protein_ev['VESICLE TYPE'].str.replace(r\".*icrovesicles\", \"GO_1990742\", regex=True)\n",
    "protein_ev['VESICLE TYPE'] = protein_ev['VESICLE TYPE'].str.replace(r\"^(?!GO_.*)\", \"GO_1990742\", regex=True)\n",
    "protein_ev['VESICLE TYPE'] = 'GO_'+protein_ev['VESICLE TYPE'].str.extract('(\\d+)', expand=False)\n",
    "protein_ev.head(n=3)"
   ]
  },
  {
   "cell_type": "code",
   "execution_count": null,
   "metadata": {},
   "outputs": [],
   "source": [
    "protein_ev['CONTENT TYPE'].unique()"
   ]
  },
  {
   "cell_type": "code",
   "execution_count": null,
   "metadata": {},
   "outputs": [],
   "source": [
    "mRNA_ev = protein_ev[(protein_ev['CONTENT TYPE']=='mRNA') | (protein_ev['CONTENT TYPE']=='mrna')]\n",
    "mRNA_ev.drop(columns=['CONTENT TYPE'], inplace=True)\n",
    "mRNA_ev = mRNA_ev[(mRNA_ev['ENTREZ GENE ID'].notna())]\n",
    "mRNA_ev = mRNA_ev[(mRNA_ev['ENTREZ GENE ID'].astype(str).str[0].str.isdigit())]\n",
    "ensembl_mrna = ensembl_entrezTranscript_map[[0,1,2]]\n",
    "ensembl_mrna = ensembl_mrna[ensembl_mrna[2] == \"protein-coding\"].drop_duplicates()\n",
    "mRNA_ev = pd.merge(mRNA_ev, ensembl_mrna, left_on='ENTREZ GENE ID', right_on=0).drop(columns=[\"ENTREZ GENE ID\",0,2])\n",
    "\n",
    "mRNA_ev = mRNA_ev.rename(columns={'VESICLE TYPE':':END_ID', 1:':START_ID'})\n",
    "mRNA_ev['Source'] = 'Vesiclepedia'\n",
    "RNA_located_in_OBO15 = mRNA_ev.copy()\n",
    "RNA_located_in_OBO15.head(n=3)"
   ]
  },
  {
   "cell_type": "code",
   "execution_count": null,
   "metadata": {},
   "outputs": [],
   "source": [
    "snRNA_ev = protein_ev[protein_ev['CONTENT TYPE']=='snrna']\n",
    "snRNA_ev.drop(columns=['CONTENT TYPE'], inplace=True)\n",
    "snRNA_ev = snRNA_ev[(snRNA_ev['ENTREZ GENE ID'].notna())]\n",
    "snRNA_ev = snRNA_ev[(snRNA_ev['ENTREZ GENE ID'].astype(str).str[0].str.isdigit())]\n",
    "\n",
    "ensembl_snrna = ensembl_entrezTranscript_map[[0,1,2]]\n",
    "ensembl_snrna = ensembl_snrna[ensembl_snrna[2] == \"snRNA\"].drop_duplicates()\n",
    "snRNA_ev = pd.merge(snRNA_ev, ensembl_snrna, left_on='ENTREZ GENE ID', right_on=0).drop(columns=[\"ENTREZ GENE ID\",0,2])\n",
    "\n",
    "snRNA_ev['Source'] = 'Vesiclepedia'\n",
    "\n",
    "snRNA_ev_rnacentral = pd.merge(snRNA_ev, rnacentral_map_human_ensembl[['RNAcentral ID','Ensembl transcript ID']].drop_duplicates(),\n",
    "                               left_on=1, right_on='Ensembl transcript ID').drop(columns=['Ensembl transcript ID'])\n",
    "snRNA_ev_ensembl = snRNA_ev[~snRNA_ev[1].isin(snRNA_ev_rnacentral[1])]\n",
    "snRNA_ev_rnacentral.drop(columns=[1],inplace=True)\n",
    "\n",
    "print(snRNA_ev_ensembl.head(n=3)) # Empty\n",
    "snRNA_ev_rnacentral.head(n=3) # Empty\n",
    "RNA_located_in_OBO16 = pd.concat([snRNA_ev_ensembl, snRNA_ev_rnacentral]).copy()\n",
    "RNA_located_in_OBO16 = RNA_located_in_OBO16.rename(columns={'RNAcentral ID':':START_ID','VESICLE TYPE':':END_ID'})\n",
    "RNA_located_in_OBO16.head(n=3)"
   ]
  },
  {
   "cell_type": "code",
   "execution_count": null,
   "metadata": {},
   "outputs": [],
   "source": [
    "!wget http://microvesicles.org/Archive/VESICLEPEDIA_MIRNA_DETAILS_5.1.txt -O ../resources/processed_data/unprocessed_data/VESICLEPEDIA_MIRNA_DETAILS_5.1.txt"
   ]
  },
  {
   "cell_type": "code",
   "execution_count": null,
   "metadata": {},
   "outputs": [],
   "source": [
    "miRNA_ev = pd.read_csv(unprocessed_data_location+'VESICLEPEDIA_MIRNA_DETAILS_5.1.txt', sep='\\t')\n",
    "\n",
    "miRNA_ev = miRNA_ev[(miRNA_ev['SPECIES'].notna()) & (miRNA_ev['SPECIES'].str.contains('apiens'))]\n",
    "miRNA_ev = miRNA_ev[(miRNA_ev['COMMENTS'] == 'Clear hit to Entrez gene ID')]\n",
    "miRNA_ev = pd.merge(miRNA_ev, experiments, on=['EXPERIMENT ID'])\n",
    "\n",
    "miRNA_ev['MIRNA ID'] = 'hsa-' + miRNA_ev['MIRNA ID'].astype(str)\n",
    "miRNA_ev['VESICLE TYPE'] = miRNA_ev['VESICLE TYPE'].str.replace(r\".*xosomes.*\", \"GO_0070062\", regex=True)\n",
    "miRNA_ev['VESICLE TYPE'] = miRNA_ev['VESICLE TYPE'].str.replace(\"Membrane blebs\", \"GO_0032059\")\n",
    "miRNA_ev['VESICLE TYPE'] = miRNA_ev['VESICLE TYPE'].str.replace(\"Apoptotic bodies\", \"GO_0097189\")\n",
    "miRNA_ev['VESICLE TYPE'] = miRNA_ev['VESICLE TYPE'].str.replace(r\".*embrane\", \"GO_0016020\", regex=True)\n",
    "miRNA_ev['VESICLE TYPE'] = miRNA_ev['VESICLE TYPE'].str.replace(r\".*icrovesicles\", \"GO_1990742\", regex=True)\n",
    "miRNA_ev['VESICLE TYPE'] = miRNA_ev['VESICLE TYPE'].str.replace(r\"^(?!GO_.*)\", \"GO_1990742\", regex=True)\n",
    "miRNA_ev['VESICLE TYPE'] = 'GO_'+miRNA_ev['VESICLE TYPE'].str.extract('(\\d+)', expand=False)\n",
    "\n",
    "miRNA_ev['PUBMED ID'] = pd.to_numeric(miRNA_ev['PUBMED ID'], errors='coerce')\n",
    "miRNA_ev['PUBMED ID'] = miRNA_ev['PUBMED ID'].replace(0, np.nan)\n",
    "miRNA_ev['PUBMED ID'] = pd.to_numeric(miRNA_ev['PUBMED ID'], errors='coerce')\n",
    "miRNA_ev['PUBMED ID'] = miRNA_ev['PUBMED ID'].astype(str).str.replace(\".0\", \"\")\n",
    "miRNA_ev['PUBMED ID'] = miRNA_ev['PUBMED ID'].replace(\"<NA>\", np.nan)\n",
    "miRNA_ev['PUBMED ID'] = miRNA_ev['PUBMED ID'].replace(\"nan\", np.nan)\n",
    "\n",
    "miRNA_ev['ISOLATION METHOD'] = miRNA_ev['ISOLATION METHOD'].str.lower()\n",
    "miRNA_ev['ISOLATION METHOD'] = miRNA_ev['ISOLATION METHOD'].str.split(\"|\")\n",
    "miRNA_ev = miRNA_ev.explode('ISOLATION METHOD')\n",
    "miRNA_ev = pd.merge(miRNA_ev, method_map, right_on='0_y', left_on='ISOLATION METHOD', how='left')\n",
    "miRNA_ev['0_x'] = miRNA_ev['0_x'].fillna(miRNA_ev['ISOLATION METHOD'])\n",
    "miRNA_ev = miRNA_ev.drop(columns=['0_y', 'ISOLATION METHOD'])\n",
    "miRNA_ev = miRNA_ev.rename(columns={'0_x':'Method','PUBMED ID':'PubMedID'})\n",
    "\n",
    "miRNA_ev['SAMPLE'] = miRNA_ev['SAMPLE'].str.lower()\n",
    "miRNA_ev = pd.merge(miRNA_ev, location_map, right_on='0_y', left_on='SAMPLE', how='left')\n",
    "miRNA_ev['0_x'] = miRNA_ev['0_x'].fillna(miRNA_ev['SAMPLE'])\n",
    "miRNA_ev = miRNA_ev.drop(columns=['0_y', 'SAMPLE'])\n",
    "miRNA_ev = miRNA_ev.rename(columns={'0_x':'Location'})\n",
    "\n",
    "miRNA_ev = miRNA_ev[[\"CONTENT TYPE\",\"MIRNA ID\", \"PubMedID\", \"Location\",\"Method\",\"VESICLE TYPE\"]]\n",
    "miRNA_ev.head(n=3)"
   ]
  },
  {
   "cell_type": "code",
   "execution_count": null,
   "metadata": {},
   "outputs": [],
   "source": [
    "print(miRNA_ev[~miRNA_ev['MIRNA ID'].isin(rnacentral_map_human['DB Description'])]['MIRNA ID'].str[:3].unique())\n",
    "miRNA_RNA_miRNAnotInRNAcentral3p = miRNA_ev[~miRNA_ev['MIRNA ID'].isin(rnacentral_map_human['DB Description'])]\n",
    "miRNA_RNA_miRNAnotInRNAcentral5p = miRNA_ev[~miRNA_ev['MIRNA ID'].isin(rnacentral_map_human['DB Description'])]\n",
    "miRNA_RNA_miRNAnotInRNAcentral5p['MIRNA ID'] = miRNA_RNA_miRNAnotInRNAcentral5p['MIRNA ID'].astype(str) + '-3p'\n",
    "miRNA_RNA_miRNAnotInRNAcentral3p['MIRNA ID'] = miRNA_RNA_miRNAnotInRNAcentral3p['MIRNA ID'].astype(str) + '-5p'\n",
    "miRNA_RNA_miRNAnotInRNAcentral = pd.concat([miRNA_RNA_miRNAnotInRNAcentral3p, miRNA_RNA_miRNAnotInRNAcentral5p])\n",
    "miRNA_RNA_miRNAnotInRNAcentral = pd.merge(miRNA_RNA_miRNAnotInRNAcentral, rnacentral_map_human.rename(\n",
    "    columns={'DB Description':'MIRNA ID'}), on='MIRNA ID').drop(columns=['MIRNA ID']).rename(columns={'RNAcentral ID':'RNA'})\n",
    "\n",
    "miRNA_ev = pd.merge(miRNA_ev, rnacentral_map_human.rename(columns={'DB Description':'MIRNA ID'}), on='MIRNA ID')\n",
    "miRNA_ev = pd.concat([miRNA_ev.rename(columns={'RNAcentral ID':'RNA'}),\n",
    "                       miRNA_RNA_miRNAnotInRNAcentral]).drop(columns=['DB', 'Organism', 'RNA category','DB ID','MIRNA ID','CONTENT TYPE'])\n",
    "\n",
    "miRNA_ev = miRNA_ev.rename(columns={'VESICLE TYPE':':END_ID', 'RNA':':START_ID'})\n",
    "miRNA_ev['Source'] = 'Vesiclepedia'\n",
    "RNA_located_in_OBO17 = miRNA_ev.copy()\n",
    "RNA_located_in_OBO17.head(n=3)"
   ]
  },
  {
   "cell_type": "markdown",
   "metadata": {},
   "source": [
    "* [Rfam](http://rfamlive.xfam.org/) <br /> The Rfam database is a collection of RNA families, each represented by multiple sequence alignments, consensus secondary structures and covariance models."
   ]
  },
  {
   "cell_type": "code",
   "execution_count": null,
   "metadata": {},
   "outputs": [],
   "source": [
    "rfam_go = pd.read_csv(unprocessed_data_location + 'rnacentral_rfam_annotations.tsv.gz', sep='\\t',\n",
    "                               names=['RNAcentral ID', \"GO\", \"Rfam ID\"]).drop(columns=['Rfam ID'])\n",
    "rfam_go = rfam_go[rfam_go['RNAcentral ID'].str.endswith('_9606')]\n",
    "rfam_go['RNAcentral ID'] = rfam_go['RNAcentral ID'].str.split('_').str[0]\n",
    "rfam_go['GO'] = rfam_go['GO'].str.replace(':','_')\n",
    "rfam_go['Source'] = 'Rfam, RNAcentral'\n",
    "rfam_go['Source'] = rfam_go['Source'].str.split(\", \")\n",
    "rfam_go = rfam_go.explode('Source')\n",
    "rfam_go.head(n=3)\n",
    "dict = []\n",
    "goterms_in_rfam = rfam_go['GO'].unique()\n",
    "for term in goterms_in_rfam:\n",
    "    aspect = pd.read_json(\"https://www.ebi.ac.uk/QuickGO/services/ontology/go/terms/\" + term.replace(\"_\",\":\") + \"/complete\")['results'][0]\n",
    "    dict.append(aspect.get(\"aspect\"))\n",
    "goterms_in_rfam_map_relation = pd.DataFrame({'GO':goterms_in_rfam, 'Aspect':dict})\n",
    "\n",
    "rfam_go = pd.merge(rfam_go, goterms_in_rfam_map_relation, on='GO')\n",
    "rfam_go.rename(columns={'RNAcentral ID':':START_ID','GO':':END_ID'},inplace=True)\n",
    "rfam_gobp = rfam_go[rfam_go['Aspect'] =='biological_process'].drop(columns=['Aspect'])\n",
    "rfam_gomf = rfam_go[rfam_go['Aspect'] =='molecular_function'].drop(columns=['Aspect'])\n",
    "RNA_located_in_OBO18 = rfam_go[rfam_go['Aspect'] =='cellular_component'].drop(columns=['Aspect'])\n",
    "\n",
    "RNA_located_in_OBO18.head(n=3)#1025"
   ]
  },
  {
   "cell_type": "code",
   "execution_count": null,
   "metadata": {},
   "outputs": [],
   "source": [
    "RNA_located_in_OBO = pd.concat([RNA_located_in_OBO1,RNA_located_in_OBO2,RNA_located_in_OBO3,\n",
    "                                RNA_located_in_OBO4,RNA_located_in_OBO5,RNA_located_in_OBO6,\n",
    "                                RNA_located_in_OBO7,RNA_located_in_OBO8,RNA_located_in_OBO9,\n",
    "                                RNA_located_in_OBO10,RNA_located_in_OBO11,RNA_located_in_OBO12,\n",
    "                                RNA_located_in_OBO13,RNA_located_in_OBO14,RNA_located_in_OBO15,\n",
    "                                RNA_located_in_OBO16,RNA_located_in_OBO17,RNA_located_in_OBO18])\n",
    "RNA_located_in_OBO = RNA_located_in_OBO.groupby([':START_ID',':END_ID']).agg({'Source':set,'TPM':np.mean,'PubMedID':set,\n",
    "                                                                              'RNAsister_score':np.mean,'Method':set,\t\n",
    "                                                                              'Location':set,'FPKM':np.mean,\n",
    "                                                                              'RCI':np.mean,'Abundance':np.mean,}).reset_index()\n",
    "RNA_located_in_OBO[\":TYPE\"] = \"located_in\"\n",
    "RNA_located_in_OBO.to_pickle(unprocessed_edge_data_location+'RNA_located_in_OBO.pkl')\n",
    "\n",
    "OBO_location_of_RNA = RNA_located_in_OBO.rename(columns={':START_ID':':END_ID',':END_ID':':START_ID'})\n",
    "OBO_location_of_RNA[\":TYPE\"] = \"location_of\"\n",
    "OBO_location_of_RNA.to_pickle(unprocessed_edge_data_location+'OBO_location_of_RNA.pkl')\n",
    "OBO_location_of_RNA.head(n=3)"
   ]
  },
  {
   "cell_type": "markdown",
   "metadata": {},
   "source": [
    "***\n",
    "### OBO - http://purl.obolibrary.org/obo/RO_0001025 (located in) - OBO"
   ]
  },
  {
   "cell_type": "markdown",
   "metadata": {},
   "source": [
    "* The GO consortium"
   ]
  },
  {
   "cell_type": "code",
   "execution_count": null,
   "metadata": {},
   "outputs": [],
   "source": [
    "data_downloader(\"http://current.geneontology.org/annotations/goa_human.gaf.gz\", unprocessed_data_location)"
   ]
  },
  {
   "cell_type": "code",
   "execution_count": null,
   "metadata": {},
   "outputs": [],
   "source": [
    "pro_go = pd.read_csv(unprocessed_data_location+\"goa_human.gaf\",comment=\"!\",sep=\"\\t\",header=None)\n",
    "pro_go = pro_go[pro_go[12] == 'taxon:9606']\n",
    "pro_go[14] = 'GO_Central, ' + pro_go[14]\n",
    "pro_go = pro_go[[1,3,4,6,14]]\n",
    "pro_go[4] = pro_go[4].str.replace('GO:','GO_')\n",
    "pro_go = pd.merge(pro_go, unipro_pro_map, left_on=1, right_on=0).drop(columns=[1,'1_x',0])\n",
    "pro_go[14] = pro_go[14].str.replace(\", UniProt\",\", UniProtKB\")\n",
    "pro_go[14] = pro_go[14].str.replace(\", IntAct\",\"\")\n",
    "pro_go[14] = pro_go[14].str.replace(\", HPA\",\", The_Human_Protein_Atlas\")\n",
    "pro_go[14] = pro_go[14].str.replace(\", GOC\",\"\")\n",
    "pro_go[14] = pro_go[14].str.replace(\", FlyBase\",\"\")\n",
    "pro_go[14] = pro_go[14].str.replace(\", NTNU_SB\",\"\")\n",
    "pro_go[14] = pro_go[14].str.replace(\", ComplexPortal\",\"\")\n",
    "pro_go[14] = pro_go[14].str.replace(\", ParkinsonsUK-UCL\",\"\")\n",
    "pro_go[14] = pro_go[14].str.replace(\", ARUK-UCL\",\"\")\n",
    "pro_go[14] = pro_go[14].str.replace(\", LIFEdb\",\"\")\n",
    "pro_go[14] = pro_go[14].str.replace(\", BHF-UCL\",\"\")\n",
    "pro_go[14] = pro_go[14].str.replace(\", MGI\",\"\")\n",
    "pro_go[14] = pro_go[14].str.replace(\", RHEA\",\"\")\n",
    "pro_go[14] = pro_go[14].str.replace(\", HGNC-UCL\",\", HGNC\")\n",
    "pro_go[14] = pro_go[14].str.replace(\", SYSCILIA_CCNET\",\"\")\n",
    "pro_go[14] = pro_go[14].str.replace(\", CACAO\",\"\")\n",
    "pro_go[14] = pro_go[14].str.replace(\", AgBase\",\"\")\n",
    "pro_go[14] = pro_go[14].str.replace(\", PINC\",\"\")\n",
    "pro_go[14] = pro_go[14].str.replace(\", CAFA\",\"\")\n",
    "pro_go[14] = pro_go[14].str.replace(\", DisProt\",\"\")\n",
    "pro_go[14] = pro_go[14].str.replace(\", MTBBASE\",\"\")\n",
    "pro_go[14] = pro_go[14].str.replace(\", YuBioLab\",\"\")\n",
    "pro_go[14] = pro_go[14].str.replace(\", SynGO\",\"\")\n",
    "pro_go[14] = pro_go[14].str.replace(\", Alzheimers_University_of_Toronto\",\"\")\n",
    "pro_go[14] = pro_go[14].str.replace(\", GDB\",\"\")\n",
    "pro_go[14] = pro_go[14].str.replace(\", SynGO-UCL\",\"\")\n",
    "pro_go[14] = pro_go[14].str.replace(\", DFLAT\",\"\")\n",
    "pro_go[14] = pro_go[14].str.replace(\", DIBU\",\"\")\n",
    "pro_go[14] = pro_go[14].str.replace(\", PHI-base\",\"\")\n",
    "pro_go[14] = pro_go[14].str.replace(\", WB\",\"\")\n",
    "pro_go[14] = pro_go[14].str.replace(\", Xenbase\",\"\")\n",
    "pro_go[14] = pro_go[14].str.replace(\", ZFIN\",\"\")\n",
    "pro_go[14] = pro_go[14].str.replace(\", dictyBase\",\"\")\n",
    "pro_go[14] = pro_go[14].str.replace(\", InterPro\",\"\")\n",
    "pro_go[14] = pro_go[14].str.replace(\"GO_Central-UCL\",\"GO_Central\")\n",
    "pro_go[14] = pro_go[14].str.split(\", \")\n",
    "pro_go = pro_go.explode(14)\n",
    "pro_go[14] = pro_go[14].str.replace(\"GO_Central\",\"GOC\")\n",
    "pro_go = pro_go.rename(columns={'1_y':':START_ID',4:':END_ID',6:'GO_evidence',14:'Source'})\n",
    "\n",
    "pro_go_dict = {}\n",
    "for i in pro_go[3].unique():\n",
    "    pro_go_dict[f'pro_go_{i}'] = pro_go[pro_go[3] == i].drop(columns=[3])\n",
    "print(pro_go[3].unique())\n",
    "pro_go_dict['pro_go_located_in'].head(n=3)"
   ]
  },
  {
   "cell_type": "code",
   "execution_count": null,
   "metadata": {},
   "outputs": [],
   "source": [
    "pro_go['Source'].unique()"
   ]
  },
  {
   "cell_type": "markdown",
   "metadata": {},
   "source": [
    "* Human Protein Atlas"
   ]
  },
  {
   "cell_type": "code",
   "execution_count": null,
   "metadata": {},
   "outputs": [],
   "source": [
    "hpa = pd.read_csv(unprocessed_data_location + 'proteinatlas_search.tsv', header=0, delimiter='\\t')\n",
    "hpa.fillna('nan', inplace=True)\n",
    "hpa.head(n=1)"
   ]
  },
  {
   "cell_type": "code",
   "execution_count": null,
   "metadata": {},
   "outputs": [],
   "source": [
    "hpa_results = []\n",
    "for idx, row in tqdm(hpa.iterrows(), total=hpa.shape[0]):\n",
    "    ens, gene, uniprot, evid = str(row['Ensembl']), str(row['Gene']), str(row['Uniprot']), str(row['Evidence'])\n",
    "    if row['RNA tissue specific nTPM'] != 'nan':\n",
    "        for x in row['RNA tissue specific nTPM'].split(';'):\n",
    "            hpa_results += [[ens, gene, uniprot, evid, 'anatomy', str(x.split(':')[0]), str(x.split(': ')[1])]]\n",
    "    if row['RNA cell line specific nTPM'] != 'nan':\n",
    "        for x in row['RNA cell line specific nTPM'].split(';'):\n",
    "            hpa_results += [[ens, gene, uniprot, evid, 'cell line', str(x.split(':')[0]), str(x.split(': ')[1])]]\n",
    "    if row['RNA brain regional specific nTPM'] != 'nan':\n",
    "        for x in row['RNA brain regional specific nTPM'].split(';'):\n",
    "            hpa_results += [[ens, gene, uniprot, evid, 'anatomy', str(x.split(':')[0]), str(x.split(': ')[1])]]\n",
    "    if row['RNA blood cell specific nTPM'] != 'nan':\n",
    "        for x in row['RNA blood cell specific nTPM'].split(';'):\n",
    "            hpa_results += [[ens, gene, uniprot, evid, 'anatomy', str(x.split(':')[0]), str(x.split(': ')[1])]]\n",
    "    if row['RNA blood lineage specific nTPM'] != 'nan':\n",
    "        for x in row['RNA blood lineage specific nTPM'].split(';'):\n",
    "            hpa_results += [[ens, gene, uniprot, evid, 'anatomy', str(x.split(':')[0]), str(x.split(': ')[1])]]"
   ]
  },
  {
   "cell_type": "code",
   "execution_count": null,
   "metadata": {},
   "outputs": [],
   "source": [
    "with open(unprocessed_data_location + 'HPA_PROTEIN_EDGES.txt', 'w') as out:\n",
    "    for x in tqdm(hpa_results):\n",
    "        out.write(x[0] + '\\t' + x[1] + '\\t' + x[2] + '\\t' + x[3] + '\\t' + x[4] + '\\t' + x[5] + '\\t' + x[6] + '\\n')"
   ]
  },
  {
   "cell_type": "code",
   "execution_count": null,
   "metadata": {},
   "outputs": [],
   "source": [
    "# load data, return edge count, and preview it\n",
    "hpa_edges = pd.read_csv(unprocessed_data_location + 'HPA_PROTEIN_EDGES.txt',\n",
    "                           header=None, low_memory=False, sep='\\t',\n",
    "                           names=['Ensembl_IDs', 'Gene_Symbols', 'Uniprot_IDs', 'Evidence',\n",
    "                                   'Anatomy_Type', 'Anatomy', 'TPM'])\n",
    "\n",
    "hpa_edges.head(n=3)"
   ]
  },
  {
   "cell_type": "code",
   "execution_count": null,
   "metadata": {},
   "outputs": [],
   "source": [
    "hpa_rna_edges = hpa_edges[['Uniprot_IDs', 'Evidence', 'Anatomy', 'TPM']]\n",
    "hpa_rna_edges = hpa_rna_edges[hpa_rna_edges['Evidence'] == 'Evidence at protein level'].drop(columns=['Evidence'])\n",
    "hpa_rna_edges.head(n=3)"
   ]
  },
  {
   "cell_type": "code",
   "execution_count": null,
   "metadata": {},
   "outputs": [],
   "source": [
    "hpa_rna_edges = pd.merge(hpa_rna_edges, unipro_pro_map.rename(columns={0:'Uniprot_IDs'}), on='Uniprot_IDs').drop(columns=['Uniprot_IDs'])\n",
    "hpa_rna_edges = pd.merge(hpa_rna_edges, hpa_gtex_map.rename(columns={0:'Anatomy'}), on='Anatomy').drop(columns=['Anatomy'])\n",
    "\n",
    "hpa_rna_edges['Source'] = 'The_Human_Protein_Atlas'\n",
    "pro_located_in2 = hpa_rna_edges.copy()\n",
    "pro_located_in2 = pro_located_in2.rename(columns={'1_x':':START_ID','1_y':':END_ID'})\n",
    "pro_located_in2.head(n=3)"
   ]
  },
  {
   "cell_type": "markdown",
   "metadata": {},
   "source": [
    "* GTEx"
   ]
  },
  {
   "cell_type": "code",
   "execution_count": null,
   "metadata": {},
   "outputs": [],
   "source": [
    "gtex = pd.read_csv(unprocessed_data_location + 'GTEx_Analysis_v10_RNASeQCv2.4.2_gene_median_tpm.gct', header=0, skiprows=2, delimiter='\\t')\n",
    "gtex.fillna('nan', inplace=True) \n",
    "gtex['Name'].replace('(\\..*)','', inplace=True, regex=True)\n",
    "gtex.head(n=3)"
   ]
  },
  {
   "cell_type": "code",
   "execution_count": null,
   "metadata": {},
   "outputs": [],
   "source": [
    "# remove rows that contain protein coding genes already in the hpa data\n",
    "hpa_genes = list(hpa['Ensembl'].drop_duplicates(keep='first', inplace=False))\n",
    "gtex = gtex.loc[gtex['Name'].apply(lambda x: x not in hpa_genes)]\n",
    "\n",
    "# loop over data and re-organize - only keep results with tpm >= 1 and if gene symbol is not a protein-coding gene\n",
    "gtex_results = []\n",
    "for idx, row in tqdm(gtex.iterrows(), total=gtex.shape[0]):\n",
    "    for col in list(gtex.columns)[2:]:\n",
    "        typ = 'cell line' if 'Cells' in col else 'anatomy'\n",
    "        if row[col] >= 1.0:\n",
    "            evidence = 'Evidence at transcript level'\n",
    "            gtex_results += [[str(row['Name']), str(row['Description']), 'nan', evidence, typ, str(col), str(row[col])]]"
   ]
  },
  {
   "cell_type": "code",
   "execution_count": null,
   "metadata": {},
   "outputs": [],
   "source": [
    "with open(unprocessed_data_location + 'GTEX_PROTEIN_EDGES.txt', 'w') as out:\n",
    "    for x in tqdm(gtex_results):\n",
    "        out.write(x[0] + '\\t' + x[1] + '\\t' + x[2] + '\\t' + x[3] + '\\t' + x[4] + '\\t' + x[5] + '\\t' + x[6] + '\\n')"
   ]
  },
  {
   "cell_type": "code",
   "execution_count": null,
   "metadata": {},
   "outputs": [],
   "source": [
    "# load data, return edge count, and preview it\n",
    "hpa_edges = pd.read_csv(unprocessed_data_location + 'GTEX_PROTEIN_EDGES.txt',\n",
    "                           header=None, low_memory=False, sep='\\t',\n",
    "                           names=['Ensembl_IDs', 'Gene_Symbols', 'Uniprot_IDs', 'Evidence',\n",
    "                                   'Anatomy_Type', 'Anatomy', 'TPM'])\n",
    "\n",
    "hpa_edges.head(n=3)"
   ]
  },
  {
   "cell_type": "code",
   "execution_count": null,
   "metadata": {},
   "outputs": [],
   "source": [
    "hpa_rna_edges = hpa_edges[['Gene_Symbols', 'Evidence', 'Anatomy', 'TPM']]\n",
    "hpa_rna_edges = hpa_rna_edges[hpa_rna_edges['Evidence'] == 'Evidence at protein level'].drop(columns=['Evidence'])\n",
    "hpa_rna_edges = pd.merge(hpa_rna_edges, symbol_to_pro.rename(columns={0:'Gene_Symbols'}), on='Gene_Symbols').drop(columns=['Gene_Symbols'])\n",
    "hpa_rna_edges = pd.merge(hpa_rna_edges, hpa_gtex_map.rename(columns={0:'Anatomy'}), on='Anatomy').drop(columns=['Anatomy'])\n",
    "\n",
    "hpa_rna_edges['Source'] = 'GTEx'\n",
    "pro_located_in3 = hpa_rna_edges.copy()\n",
    "pro_located_in3.head(n=3) # Empty"
   ]
  },
  {
   "cell_type": "markdown",
   "metadata": {},
   "source": [
    "* [Vesiclepedia](http://microvesicles.org/index.html) <br/> Vesiclepedia is a a manually curated compendium of molecular data (lipid, RNA and protein) identified in different classes of extracellular vesicles. "
   ]
  },
  {
   "cell_type": "code",
   "execution_count": null,
   "metadata": {},
   "outputs": [],
   "source": [
    "!wget http://microvesicles.org/Archive/VESICLEPEDIA_EXPERIMENT_DETAILS_5.1.txt -O ../resources/processed_data/unprocessed_data/VESICLEPEDIA_EXPERIMENT_DETAILS_5.1.txt\n",
    "!wget http://microvesicles.org/Archive/VESICLEPEDIA_PROTEIN_MRNA_DETAILS_5.1.txt -O ../resources/processed_data/unprocessed_data/VESICLEPEDIA_PROTEIN_MRNA_DETAILS_5.1.txt"
   ]
  },
  {
   "cell_type": "code",
   "execution_count": null,
   "metadata": {},
   "outputs": [],
   "source": [
    "experiments = pd.read_csv(unprocessed_data_location+'VESICLEPEDIA_EXPERIMENT_DETAILS_5.1.txt', sep='\\t')\n",
    "experiments = experiments[experiments['SPECIES'].str.contains('apiens')]\n",
    "\n",
    "protein_ev = pd.read_csv(unprocessed_data_location+'VESICLEPEDIA_PROTEIN_MRNA_DETAILS_5.1.txt', sep='\\t')\n",
    "protein_ev = protein_ev[protein_ev['SPECIES'].str.contains('apiens')]\n",
    "protein_ev = pd.merge(protein_ev, experiments, on=['EXPERIMENT ID'])\n",
    "\n",
    "protein_ev['PUBMED ID'] = pd.to_numeric(protein_ev['PUBMED ID'], errors='coerce')\n",
    "protein_ev['PUBMED ID'] = protein_ev['PUBMED ID'].replace(0, np.nan)\n",
    "protein_ev['PUBMED ID'] = pd.to_numeric(protein_ev['PUBMED ID'], errors='coerce')\n",
    "protein_ev['PUBMED ID'] = protein_ev['PUBMED ID'].astype(str).str.replace(\".0\", \"\")\n",
    "protein_ev['PUBMED ID'] = protein_ev['PUBMED ID'].replace(\"<NA>\", np.nan)\n",
    "protein_ev['PUBMED ID'] = protein_ev['PUBMED ID'].replace(\"nan\", np.nan)\n",
    "\n",
    "protein_ev['ISOLATION METHOD'] = protein_ev['ISOLATION METHOD'].str.lower()\n",
    "protein_ev['ISOLATION METHOD'] = protein_ev['ISOLATION METHOD'].str.split(\"|\")\n",
    "protein_ev = protein_ev.explode('ISOLATION METHOD')\n",
    "protein_ev = pd.merge(protein_ev, method_map, right_on='0_y', left_on='ISOLATION METHOD', how='left')\n",
    "protein_ev['0_x'] = protein_ev['0_x'].fillna(protein_ev['ISOLATION METHOD'])\n",
    "protein_ev = protein_ev.drop(columns=['0_y', 'ISOLATION METHOD'])\n",
    "protein_ev = protein_ev.rename(columns={'0_x':'Method','PUBMED ID':'PubMedID'})\n",
    "protein_ev['Method'] = protein_ev['Method'].replace(\"-\",np.nan)\n",
    "\n",
    "protein_ev['SAMPLE'] = protein_ev['SAMPLE'].str.lower()\n",
    "protein_ev = pd.merge(protein_ev, location_map, right_on='0_y', left_on='SAMPLE', how='left')\n",
    "protein_ev['0_x'] = protein_ev['0_x'].fillna(protein_ev['SAMPLE'])\n",
    "protein_ev = protein_ev.drop(columns=['0_y', 'SAMPLE'])\n",
    "protein_ev = protein_ev.rename(columns={'0_x':'Location'})\n",
    "\n",
    "protein_ev = protein_ev[[\"CONTENT TYPE\",\"ENTREZ GENE ID\", \"PubMedID\", \"Location\",\"Method\",\"VESICLE TYPE\"]]\n",
    "protein_ev['VESICLE TYPE'].unique()\n",
    "protein_ev['VESICLE TYPE'] = protein_ev['VESICLE TYPE'].str.replace(r\".*xosomes.*\", \"GO_0070062\", regex=True)\n",
    "protein_ev['VESICLE TYPE'] = protein_ev['VESICLE TYPE'].str.replace(\"Membrane blebs\", \"GO_0032059\")\n",
    "protein_ev['VESICLE TYPE'] = protein_ev['VESICLE TYPE'].str.replace(\"Apoptotic bodies\", \"GO_0097189\")\n",
    "protein_ev['VESICLE TYPE'] = protein_ev['VESICLE TYPE'].str.replace(r\".*embrane\", \"GO_0016020\", regex=True)\n",
    "protein_ev['VESICLE TYPE'] = protein_ev['VESICLE TYPE'].str.replace(r\".*icrovesicles\", \"GO_1990742\", regex=True)\n",
    "protein_ev['VESICLE TYPE'] = protein_ev['VESICLE TYPE'].str.replace(r\"^(?!GO_.*)\", \"GO_1990742\", regex=True)\n",
    "protein_ev['VESICLE TYPE'] = 'GO_'+protein_ev['VESICLE TYPE'].str.extract('(\\d+)', expand=False)\n",
    "print(protein_ev['CONTENT TYPE'].unique())\n",
    "protein_ev.head(n=3)"
   ]
  },
  {
   "cell_type": "code",
   "execution_count": null,
   "metadata": {},
   "outputs": [],
   "source": [
    "protein_ev = protein_ev[(protein_ev['CONTENT TYPE']=='protein') | (protein_ev['CONTENT TYPE']=='protein ')]\n",
    "protein_ev.drop(columns=['CONTENT TYPE'], inplace=True)\n",
    "protein_ev = protein_ev[(protein_ev['ENTREZ GENE ID'].notna())]\n",
    "protein_ev = protein_ev[(protein_ev['ENTREZ GENE ID'].astype(str).str[0].str.isdigit())]\n",
    "\n",
    "entrez_pro_map[0] = entrez_pro_map[0].astype(int)\n",
    "\n",
    "protein_ev = pd.merge(entrez_pro_map.rename(columns={0:'ENTREZ GENE ID'}), protein_ev, on=['ENTREZ GENE ID'])\n",
    "protein_ev.drop(columns=['ENTREZ GENE ID'], inplace=True)\n",
    "\n",
    "protein_ev['Source'] = 'Vesiclepedia'\n",
    "protein_ev.rename(columns={1:':START_ID', 'VESICLE TYPE':':END_ID'},inplace=True)\n",
    "protein_ev.head(n=3)"
   ]
  },
  {
   "cell_type": "code",
   "execution_count": null,
   "metadata": {},
   "outputs": [],
   "source": [
    "!wget http://microvesicles.org/Archive/VESICLEPEDIA_LIPID_DETAILS_5.1.txt -O ../resources/processed_data/unprocessed_data/VESICLEPEDIA_LIPID_DETAILS_5.1.txt"
   ]
  },
  {
   "cell_type": "code",
   "execution_count": null,
   "metadata": {},
   "outputs": [],
   "source": [
    "lipid_ev = pd.read_csv(unprocessed_data_location+'VESICLEPEDIA_LIPID_DETAILS_5.1.txt', sep='\\t')#Lipid (ChEBI) -- GO\n",
    "\n",
    "lipid_ev = lipid_ev[(lipid_ev['SPECIES'].notna()) & (lipid_ev['SPECIES'].str.contains('apiens'))]\n",
    "lipid_ev = pd.merge(lipid_ev, experiments, on=['EXPERIMENT ID'])\n",
    "lipid_ev['LIPID ID'] = lipid_ev['LIPID ID'].str.lower()\n",
    "\n",
    "lipid_ev['PUBMED ID'] = pd.to_numeric(lipid_ev['PUBMED ID'], errors='coerce')\n",
    "lipid_ev['PUBMED ID'] = lipid_ev['PUBMED ID'].replace(0, np.nan)\n",
    "lipid_ev['PUBMED ID'] = pd.to_numeric(lipid_ev['PUBMED ID'], errors='coerce')\n",
    "lipid_ev['PUBMED ID'] = lipid_ev['PUBMED ID'].astype(str).str.replace(\".0\", \"\")\n",
    "lipid_ev['PUBMED ID'] = lipid_ev['PUBMED ID'].replace(\"<NA>\", np.nan)\n",
    "lipid_ev['PUBMED ID'] = lipid_ev['PUBMED ID'].replace(\"nan\", np.nan)\n",
    "\n",
    "lipid_ev['ISOLATION METHOD'] = lipid_ev['ISOLATION METHOD'].str.lower()\n",
    "lipid_ev['ISOLATION METHOD'] = lipid_ev['ISOLATION METHOD'].str.split(\"|\")\n",
    "lipid_ev = lipid_ev.explode('ISOLATION METHOD')\n",
    "lipid_ev = pd.merge(lipid_ev, method_map, right_on='0_y', left_on='ISOLATION METHOD', how='left')\n",
    "lipid_ev['0_x'] = lipid_ev['0_x'].fillna(lipid_ev['ISOLATION METHOD'])\n",
    "lipid_ev = lipid_ev.drop(columns=['0_y', 'ISOLATION METHOD'])\n",
    "lipid_ev = lipid_ev.rename(columns={'0_x':'Method','PUBMED ID':'PubMedID'})\n",
    "lipid_ev['Method'] = lipid_ev['Method'].replace(\"-\",np.nan)\n",
    "\n",
    "lipid_ev['SAMPLE'] = lipid_ev['SAMPLE'].str.lower()\n",
    "lipid_ev = pd.merge(lipid_ev, location_map, right_on='0_y', left_on='SAMPLE', how='left')\n",
    "lipid_ev['0_x'] = lipid_ev['0_x'].fillna(lipid_ev['SAMPLE'])\n",
    "lipid_ev = lipid_ev.drop(columns=['0_y', 'SAMPLE'])\n",
    "lipid_ev = lipid_ev.rename(columns={'0_x':'Location'})\n",
    "\n",
    "lipid_ev['VESICLE TYPE'] = lipid_ev['VESICLE TYPE'].str.replace(r\".*xosomes.*\", \"GO_0070062\", regex=True)\n",
    "lipid_ev['VESICLE TYPE'] = lipid_ev['VESICLE TYPE'].str.replace(\"Membrane blebs\", \"GO_0032059\")\n",
    "lipid_ev['VESICLE TYPE'] = lipid_ev['VESICLE TYPE'].str.replace(\"Apoptotic bodies\", \"GO_0097189\")\n",
    "lipid_ev['VESICLE TYPE'] = lipid_ev['VESICLE TYPE'].str.replace(r\".*embrane\", \"GO_0016020\", regex=True)\n",
    "lipid_ev['VESICLE TYPE'] = lipid_ev['VESICLE TYPE'].str.replace(r\".*icrovesicles\", \"GO_1990742\", regex=True)\n",
    "lipid_ev['VESICLE TYPE'] = lipid_ev['VESICLE TYPE'].str.replace(r\"^(?!GO_.*)\", \"GO_1990742\", regex=True)\n",
    "lipid_ev['VESICLE TYPE'] = 'GO_'+lipid_ev['VESICLE TYPE'].str.extract('(\\d+)', expand=False)\n",
    "\n",
    "lipid_ev = pd.merge(desc_chebi_map.rename(columns={0:'LIPID ID'}), lipid_ev, on=['LIPID ID'])\n",
    "lipid_ev['Source'] = 'Vesiclepedia'\n",
    "lipid_ev.rename(columns={1:':START_ID', 'VESICLE TYPE':':END_ID'},inplace=True)\n",
    "lipid_ev.head(n=2)"
   ]
  },
  {
   "cell_type": "code",
   "execution_count": null,
   "metadata": {},
   "outputs": [],
   "source": [
    "OBO_located_in_OBO = pd.concat([pro_go_dict['pro_go_located_in'], pro_located_in2, protein_ev, lipid_ev])\n",
    "OBO_located_in_OBO = OBO_located_in_OBO.groupby([':START_ID',':END_ID']).agg({'Source':set,'TPM':np.mean, 'PubMedID':set,\n",
    "                                                                              'Location':set, 'Method':set}).reset_index()\n",
    "OBO_located_in_OBO[\":TYPE\"] = \"located_in\"\n",
    "OBO_located_in_OBO.to_pickle(unprocessed_edge_data_location+'OBO_located_in_OBO.pkl')\n",
    "\n",
    "OBO_location_of_OBO = OBO_located_in_OBO.rename(columns={':START_ID':':END_ID',':END_ID':':START_ID'})\n",
    "OBO_location_of_OBO[\":TYPE\"] = \"location_of\"\n",
    "OBO_location_of_OBO.to_pickle(unprocessed_edge_data_location+'OBO_location_of_OBO.pkl')\n",
    "OBO_location_of_OBO.head(n=3)"
   ]
  },
  {
   "cell_type": "markdown",
   "metadata": {},
   "source": [
    "***\n",
    "### OBO - http://purl.obolibrary.org/obo/RO_0000056 (participates in) - OBO"
   ]
  },
  {
   "cell_type": "markdown",
   "metadata": {},
   "source": [
    "* [Ribocentre](https://www.ribocentre.org/) <br />\n",
    "Ribocentre is designed to contain comprehensive information of all natural ribozymes."
   ]
  },
  {
   "cell_type": "code",
   "execution_count": null,
   "metadata": {},
   "outputs": [],
   "source": [
    "# https://www.ribocentre.org/application/ --> Gene Expression system --> CSV button\n",
    "ribozyme_go = pd.read_csv(unprocessed_data_location + 'Ribocentre - Application.csv')\n",
    "print(ribozyme_go['ribozyme name'].unique())\n",
    "\n",
    "ribozyme_go['ribozyme name'] = ribozyme_go['ribozyme name'].str.replace('glmS ribozyme','SO_0000374')\n",
    "ribozyme_go['ribozyme name'] = ribozyme_go['ribozyme name'].str.replace('hammerhead ribozyme','SO_0000380')\n",
    "ribozyme_go['ribozyme name'] = ribozyme_go['ribozyme name'].str.replace('LC ribozyme','SO_0000374')\n",
    "ribozyme_go['ribozyme name'] = ribozyme_go['ribozyme name'].str.replace('pistol ribozyme','SO_0000374')\n",
    "ribozyme_go['ribozyme name'] = ribozyme_go['ribozyme name'].str.replace('RNase P','SO_0000386')\n",
    "ribozyme_go['ribozyme name'] = ribozyme_go['ribozyme name'].str.replace('twister ribozyme','SO_0000374')\n",
    "ribozyme_go['ribozyme name'] = ribozyme_go['ribozyme name'].str.replace('VS ribozyme','SO_0000374')\n",
    "\n",
    "ribozyme_go = ribozyme_go[['ribozyme name', 'pubmed ID']]\n",
    "ribozyme_go['GO'] = ['nan','nan','GO_0015867', 'GO_0032363', 'GO_0010468', 'GO_0010468', 'GO_0010468', 'GO_2000232',\n",
    "                         'GO_0010468', 'GO_0010468', 'GO_0003743', 'nan', 'nan', 'nan', 'nan', 'nan', 'nan', 'nan', 'GO_0010468',\n",
    "                         'nan', 'nan', 'nan', 'GO_0050790', 'nan', 'nan', 'nan', 'nan', 'nan', 'GO_0050790', 'nan', 'nan', 'nan', 'nan', 'nan']\n",
    "ribozyme_go = ribozyme_go[ribozyme_go['GO'] != 'nan']\n",
    "dict = []\n",
    "goterms_in_ribocentre = ribozyme_go['GO'].unique()\n",
    "for term in goterms_in_ribocentre:\n",
    "    aspect = pd.read_json(\"https://www.ebi.ac.uk/QuickGO/services/ontology/go/terms/\" + term.replace(\"_\",\":\") + \"/complete\")['results'][0]\n",
    "    dict.append(aspect.get(\"aspect\"))\n",
    "goterms_in_ribocentre_map_relation = pd.DataFrame({'GO':goterms_in_ribocentre, 'Aspect':dict})\n",
    "\n",
    "ribozyme_go = pd.merge(ribozyme_go, goterms_in_ribocentre_map_relation, on='GO')\n",
    "# HDV ribozyme is from delta virus, taxid = 12475\n",
    "\n",
    "ribozyme_go['ribozyme name'] = ribozyme_go['ribozyme name'].str.replace(\"HDV ribozyme\", \"URS00006C745E, URS00006C1D09\")\n",
    "ribozyme_go['ribozyme name'] = ribozyme_go['ribozyme name'].str.split(\", \")\n",
    "ribozyme_go = ribozyme_go.explode('ribozyme name')\n",
    "ribozyme_go = ribozyme_go.rename(columns={'ribozyme name':'RNA'})\n",
    "\n",
    "ribozyme_go['Source'] = 'Ribocentre'\n",
    "\n",
    "ribozyme_go['pubmed ID'] = pd.to_numeric(ribozyme_go['pubmed ID'], errors='coerce')\n",
    "ribozyme_go['pubmed ID'] = ribozyme_go['pubmed ID'].astype(str)\n",
    "ribozyme_go['pubmed ID'] = ribozyme_go['pubmed ID'].str.replace(\".0\", \"\")\n",
    "ribozyme_go['pubmed ID'] = ribozyme_go['pubmed ID'].replace(\"nan\", np.nan)\n",
    "\n",
    "ribozyme_go_so = ribozyme_go[ribozyme_go['RNA'].str.startswith('SO')][['RNA','GO','pubmed ID','Aspect','Source']]\n",
    "ribozyme_go_so.rename(columns={'RNA':':START_ID','GO':':END_ID','pubmed ID':'PubMedID'},inplace=True)\n",
    "ribozyme_go_so_mf = ribozyme_go_so[ribozyme_go_so['Aspect'] == 'molecular_function'].drop(columns=['Aspect'])\n",
    "ribozyme_go_so_bp = ribozyme_go_so[ribozyme_go_so['Aspect'] == 'biological_process'].drop(columns=['Aspect'])\n",
    "ribozyme_go_rnacentral = ribozyme_go[~ribozyme_go['RNA'].str.startswith('SO')][['RNA','GO','pubmed ID','Aspect','Source']]\n",
    "print(ribozyme_go_rnacentral['Aspect'].unique())\n",
    "ribozyme_go_rnacentral.drop(columns=['Aspect'],inplace=True)\n",
    "\n",
    "ribozyme_go_so_bp.head(n=3)"
   ]
  },
  {
   "cell_type": "code",
   "execution_count": null,
   "metadata": {},
   "outputs": [],
   "source": [
    "OBO_participates_in_OBO = ribozyme_go_so_bp.groupby([':START_ID',':END_ID']).agg({'Source':set,'PubMedID':set}).reset_index()\n",
    "OBO_participates_in_OBO[\":TYPE\"] = \"participates_in\"\n",
    "OBO_participates_in_OBO.to_pickle(unprocessed_edge_data_location+'OBO_participates_in_OBO.pkl')\n",
    "\n",
    "OBO_has_participant_OBO = OBO_participates_in_OBO.rename(columns={':START_ID':':END_ID',':END_ID':':START_ID'})\n",
    "OBO_has_participant_OBO[\":TYPE\"] = \"has_participant\"\n",
    "OBO_has_participant_OBO.to_pickle(unprocessed_edge_data_location+'OBO_has_participant_OBO.pkl')\n",
    "OBO_has_participant_OBO.head(n=3)"
   ]
  },
  {
   "cell_type": "markdown",
   "metadata": {},
   "source": [
    "***\n",
    "### OBO - http://purl.obolibrary.org/obo/RO_0000085 (has function) - OBO"
   ]
  },
  {
   "cell_type": "markdown",
   "metadata": {},
   "source": [
    "* [Ribocentre](https://www.ribocentre.org/) <br />\n",
    "Ribocentre is designed to contain comprehensive information of all natural ribozymes."
   ]
  },
  {
   "cell_type": "code",
   "execution_count": null,
   "metadata": {},
   "outputs": [],
   "source": [
    "ribozyme_go_so_mf.head(n=3)"
   ]
  },
  {
   "cell_type": "code",
   "execution_count": null,
   "metadata": {},
   "outputs": [],
   "source": [
    "OBO_has_function_OBO = ribozyme_go_so_mf.groupby([':START_ID',':END_ID']).agg({'Source':set,'PubMedID':set}).reset_index()\n",
    "OBO_has_function_OBO[\":TYPE\"] = \"has_function\"\n",
    "OBO_has_function_OBO.to_pickle(unprocessed_edge_data_location+'OBO_has_function_OBO.pkl')\n",
    "\n",
    "OBO_function_of_OBO = OBO_has_function_OBO.rename(columns={':START_ID':':END_ID',':END_ID':':START_ID'})\n",
    "OBO_function_of_OBO[\":TYPE\"] = \"function_of\"\n",
    "OBO_function_of_OBO.to_pickle(unprocessed_edge_data_location+'OBO_function_of_OBO.pkl')\n",
    "OBO_function_of_OBO.head(n=3)"
   ]
  },
  {
   "cell_type": "markdown",
   "metadata": {},
   "source": [
    "***\n",
    "### Gene - http://purl.obolibrary.org/obo/RO_0002205 (has gene product) - OBO"
   ]
  },
  {
   "cell_type": "markdown",
   "metadata": {},
   "source": [
    "* Ensembl"
   ]
  },
  {
   "cell_type": "code",
   "execution_count": null,
   "metadata": {},
   "outputs": [],
   "source": [
    "entrez_pro = entrez_pro_map.copy()\n",
    "entrez_pro['Source'] = 'Ensembl'\n",
    "entrez_pro.rename(columns={0:':START_ID',1:':END_ID'},inplace=True)\n",
    "entrez_pro.head(n=3)"
   ]
  },
  {
   "cell_type": "code",
   "execution_count": null,
   "metadata": {},
   "outputs": [],
   "source": [
    "gene_has_gene_product_OBO = entrez_pro.groupby([':START_ID',':END_ID']).agg({'Source':set}).reset_index()\n",
    "gene_has_gene_product_OBO[\":TYPE\"] = \"has_gene_product\"\n",
    "gene_has_gene_product_OBO.to_pickle(unprocessed_edge_data_location+'gene_has_gene_product_OBO.pkl')\n",
    "\n",
    "OBO_gene_product_of_gene = gene_has_gene_product_OBO.rename(columns={':START_ID':':END_ID',':END_ID':':START_ID'})\n",
    "OBO_gene_product_of_gene[\":TYPE\"] = \"gene_product_of\"\n",
    "OBO_gene_product_of_gene.to_pickle(unprocessed_edge_data_location+'OBO_gene_product_of_gene.pkl')\n",
    "OBO_gene_product_of_gene.head(n=3)"
   ]
  },
  {
   "cell_type": "markdown",
   "metadata": {},
   "source": [
    "***\n",
    "### RNA - http://purl.obolibrary.org/obo/RO_0002510 (transcribed from) - Gene"
   ]
  },
  {
   "cell_type": "markdown",
   "metadata": {},
   "source": [
    "* Ensembl"
   ]
  },
  {
   "cell_type": "code",
   "execution_count": null,
   "metadata": {},
   "outputs": [],
   "source": [
    "gene_RNA = pd.read_csv(processed_data_location + 'ENTREZ_GENE_ENSEMBL_TRANSCRIPT_MAP.txt', sep='\\t', header=None)[[0,1]].drop_duplicates()\n",
    "gene_RNA['Source'] = 'Ensembl'\n",
    "\n",
    "gene_RNA = gene_RNA.merge(rnacentral_map_human_ensembl[['RNAcentral ID','Ensembl transcript ID']], left_on=1,\n",
    "               right_on='Ensembl transcript ID', how='left').rename(\n",
    "                   columns={0:':END_ID', 'RNAcentral ID':':START_ID'})\n",
    "gene_RNA[':START_ID'] = gene_RNA[':START_ID'].fillna(gene_RNA[1])\n",
    "gene_RNA.drop(columns=[1,'Ensembl transcript ID'], inplace=True)\n",
    "gene_RNA.head(n=3)"
   ]
  },
  {
   "cell_type": "markdown",
   "metadata": {},
   "source": [
    "* circBase"
   ]
  },
  {
   "cell_type": "code",
   "execution_count": null,
   "metadata": {},
   "outputs": [],
   "source": [
    "circbase = pd.read_csv(unprocessed_data_location + 'hsa_hg19_circRNA.txt', sep='\\t')\n",
    "circbase_transcribed_from = circbase[['circRNA ID','gene symbol']]\n",
    "circbase_transcribed_from = pd.merge(circbase_transcribed_from, symbol_entrez_map.rename(columns={0:'gene symbol'}),\n",
    "                               on='gene symbol').drop(columns=['gene symbol']).rename(columns={1:'Gene','circRNA ID':'RNA'}).drop_duplicates()\n",
    "circbase_transcribed_from['Source'] = 'circBase'\n",
    "circbase_transcribed_from = circbase_transcribed_from.rename(columns={'Gene':':END_ID','RNA':':START_ID'})\n",
    "circbase_transcribed_from.head(n=3)"
   ]
  },
  {
   "cell_type": "markdown",
   "metadata": {},
   "source": [
    "* [piRBase](http://bigdata.ibp.ac.cn/piRBase/)"
   ]
  },
  {
   "cell_type": "code",
   "execution_count": null,
   "metadata": {},
   "outputs": [],
   "source": [
    "df = pd.DataFrame()\n",
    "for i in rnacentral_map_human_pirbase['piRBase ID'].unique():\n",
    "    #response = requests.get(url = 'http://bigdata.ibp.ac.cn/piRBase/pirna.php?name=' + i)\n",
    "    #with open(f'../resources/processed_data/unprocessed_data/piRBase/{i}.html', 'wb') as file:\n",
    "    #    file.write(response.content)\n",
    "    temp = pd.read_html(f'../resources/processed_data/unprocessed_data/piRBase/{i}.html')[2]\n",
    "    temp['piRNA'] = i\n",
    "    df = pd.concat([df, temp])\n",
    "\n",
    "df = df[['piRNA','Gene']].drop_duplicates()\n",
    "df = df[df['Gene'].notna()]\n",
    "df.head(n=3)"
   ]
  },
  {
   "cell_type": "code",
   "execution_count": null,
   "metadata": {},
   "outputs": [],
   "source": [
    "df['Gene'] = df['Gene'].str.replace(\";\", \"\")\n",
    "df['Gene'] = df['Gene'].str.split(\" \")\n",
    "df = df.explode('Gene')\n",
    "df_ensembl = df.merge(ensembl_entrezGene_map[[0,1]].rename(columns={0:'Gene'}), on='Gene').drop(columns=['Gene']).rename(columns={1:'Gene'})\n",
    "df_symbol = df.merge(symbol_entrez_map[[0,1]].rename(columns={0:'Gene'}), on='Gene').drop(columns=['Gene']).rename(columns={1:'Gene'})\n",
    "df = pd.merge(df, rnacentral_map_human_pirbase.rename(columns={'piRBase ID':'piRNA'}), on='piRNA').drop(\n",
    "    columns=['piRNA']).rename(columns={'RNAcentral ID':'RNA'})\n",
    "df = pd.concat([df_ensembl, df_symbol]).drop_duplicates()\n",
    "\n",
    "df = df.merge(rnacentral_map_human_pirbase.rename(columns={'piRBase ID':'piRNA'}), on='piRNA').drop(columns=['piRNA'])\n",
    "df['Source'] = 'piRBase'\n",
    "df.rename(columns={'Gene':':END_ID','RNAcentral ID':':START_ID'},inplace=True)\n",
    "df.head(n=3)"
   ]
  },
  {
   "cell_type": "code",
   "execution_count": null,
   "metadata": {},
   "outputs": [],
   "source": [
    "RNA_transcribed_from_Gene = pd.concat([df, circbase_transcribed_from, gene_RNA])\n",
    "RNA_transcribed_from_Gene = RNA_transcribed_from_Gene.groupby([':START_ID',':END_ID']).agg({'Source':set}).reset_index()\n",
    "RNA_transcribed_from_Gene[\":TYPE\"] = \"transcribed_from\"\n",
    "RNA_transcribed_from_Gene.to_pickle(unprocessed_edge_data_location+'RNA_transcribed_from_gene.pkl')\n",
    "\n",
    "Gene_transcribed_to_RNA = RNA_transcribed_from_Gene.rename(columns={':START_ID':':END_ID',':END_ID':':START_ID'})\n",
    "Gene_transcribed_to_RNA[\":TYPE\"] = \"transcribed_to\"\n",
    "Gene_transcribed_to_RNA.to_pickle(unprocessed_edge_data_location+'gene_transcribed_to_RNA.pkl')\n",
    "Gene_transcribed_to_RNA.head(n=3)"
   ]
  },
  {
   "cell_type": "markdown",
   "metadata": {},
   "source": [
    "***\n",
    "### OBO - http://purl.obolibrary.org/obo/RO_0002566 (causally influences) - RNA"
   ]
  },
  {
   "cell_type": "markdown",
   "metadata": {},
   "source": [
    "* [TarpiD](https://tarpid.nitrkl.ac.in/tarpid_db/)"
   ]
  },
  {
   "cell_type": "code",
   "execution_count": null,
   "metadata": {},
   "outputs": [],
   "source": [
    "piRNA_disease2 = pd.DataFrame() # Mondo+HPO\n",
    "\n",
    "for i in piRNA_gene[\"0\"].unique():\n",
    "    url = \"https://tarpid.nitrkl.ac.in/tarpid_db/specific_search/pirna_detail.php?pirna=\" + i\n",
    "    response = requests.get(url)\n",
    "    html_content = response.text\n",
    "\n",
    "    soup = BeautifulSoup(html_content, 'html.parser')\n",
    "    detail_content = soup.find_all('div', class_='detail_content_right')[9].text\n",
    "\n",
    "    content = detail_content.replace(\"&nbsp\",\"\").lower().split(', ')\n",
    "    df = pd.DataFrame(content)\n",
    "    df[1] = i\n",
    "    piRNA_disease2 = pd.concat([piRNA_disease2, df])\n",
    "\n",
    "#piRNA_disease2.drop_duplicates().to_csv(unprocessed_data_location + 'piRNA-disease.txt', sep='\\t', index=None)\n",
    "#piRNA_disease2 = pd.read_csv(unprocessed_data_location + 'piRNA-disease.txt', sep='\\t')\n",
    "\n",
    "piRNA_disease2 = piRNA_disease2[piRNA_disease2[\"0\"] != '-']    \n",
    "piRNA_disease2.head(n=3)"
   ]
  },
  {
   "cell_type": "code",
   "execution_count": null,
   "metadata": {},
   "outputs": [],
   "source": [
    "piRNA_disease2 = piRNA_disease2[(~piRNA_disease2[\"1\"].str.contains(\"sse\")) &  (~piRNA_disease2[\"1\"].str.contains(\"mmu\")) & (piRNA_disease2[\"1\"].str.contains(r'^piR-\\d')) &\n",
    "                        (~piRNA_disease2[\"1\"].str.contains(\"gga\")) & (~piRNA_disease2[\"1\"].str.contains(\"ur\"))]\n",
    "piRNA_disease2[\"1\"] = piRNA_disease2[\"1\"].str.replace(\"piR-\", \"piR-hsa-\")\n",
    "piRNA_disease2 = pd.merge(piRNA_disease2, rnacentral_map_human_pirbase.rename(columns={'piRBase ID':'1'}), on='1').drop(\n",
    "    columns=['1']).rename(columns={'RNAcentral ID':'RNA'})\n",
    "piRNA_disease2[\"0\"].unique()"
   ]
  },
  {
   "cell_type": "code",
   "execution_count": null,
   "metadata": {},
   "outputs": [],
   "source": [
    "piRNA_disease2 = pd.merge(piRNA_disease2, desc_disPhe_map, left_on=\"0\", right_on=0).drop(columns=[0, \"0\"]).rename(columns={1:'Disease'})[['Disease', \"RNA\"]]\n",
    "piRNA_disease2['Source'] = 'TarpiD'\n",
    "piRNA_disease2 = piRNA_disease2.rename(columns={'Disease':':START_ID','RNA':':END_ID'})\n",
    "piRNA_disease2.head(n=3)"
   ]
  },
  {
   "cell_type": "code",
   "execution_count": null,
   "metadata": {},
   "outputs": [],
   "source": [
    "piRNA_disease2 = piRNA_disease2.groupby([':START_ID',':END_ID']).agg({'Source':set}).reset_index()\n",
    "piRNA_disease2[\":TYPE\"] = \"causally_influences\"\n",
    "piRNA_disease2.to_pickle(unprocessed_edge_data_location+'OBO_causally_influences_RNA.pkl')\n",
    "\n",
    "piRNA_disease2.rename(columns={':START_ID':':END_ID',':END_ID':':START_ID'},inplace=True)\n",
    "piRNA_disease2[\":TYPE\"] = \"causally_influenced_by\"\n",
    "piRNA_disease2.to_pickle(unprocessed_edge_data_location+'RNA_causally_influenced_by_OBO.pkl')\n",
    "piRNA_disease2.head(n=3)"
   ]
  },
  {
   "cell_type": "markdown",
   "metadata": {},
   "source": [
    "***\n",
    "### SNP - http://purl.obolibrary.org/obo/RO_0003302 (causes or contributes to condition) - OBO"
   ]
  },
  {
   "cell_type": "markdown",
   "metadata": {},
   "source": [
    "* ClinVar"
   ]
  },
  {
   "cell_type": "code",
   "execution_count": null,
   "metadata": {},
   "outputs": [],
   "source": [
    "clinvar_data = pd.read_csv(unprocessed_data_location + 'variant_summary.txt', header=0,\n",
    "                           delimiter='\\t', low_memory=False)[['Name', 'GeneID','Assembly','ClinSigSimple',\n",
    "                                                              'RS# (dbSNP)','PhenotypeIDS','ReviewStatus']]\n",
    "clinvar_data = clinvar_data[clinvar_data['ClinSigSimple'] != 1].drop(columns=['ClinSigSimple'])\n",
    "clinvar_data = clinvar_data[clinvar_data['GeneID'] != -1].drop(columns=['GeneID'])\n",
    "clinvar_data = clinvar_data[(clinvar_data['ReviewStatus'] == \"criteria provided, multiple submitters, no conflicts\")\n",
    "                            | (clinvar_data['ReviewStatus'] == \"reviewed by expert panel\")\n",
    "                            | (clinvar_data['ReviewStatus'] == \"practice guideline\")].drop(columns=['ReviewStatus'])\n",
    "clinvar_data = clinvar_data[clinvar_data['RS# (dbSNP)'] != -1]\n",
    "clinvar_data['RS# (dbSNP)'] = 'rs' + clinvar_data['RS# (dbSNP)'].astype(str)\n",
    "clinvar_data['Name'] = clinvar_data['Name'].str.split(\".\").str[0]\n",
    "clinvar_data = clinvar_data[clinvar_data['Assembly'] == 'GRCh38'].drop(columns=['Assembly'])\n",
    "\n",
    "clinvar_data['PhenotypeIDS'] = clinvar_data['PhenotypeIDS'].str.split(\"\\|\")\n",
    "clinvar_data = clinvar_data.explode('PhenotypeIDS')\n",
    "clinvar_data['PhenotypeIDS'] = clinvar_data['PhenotypeIDS'].str.split(\";\")\n",
    "clinvar_data = clinvar_data.explode('PhenotypeIDS')\n",
    "clinvar_data['PhenotypeIDS'] = clinvar_data['PhenotypeIDS'].str.split(\",\")\n",
    "clinvar_data = clinvar_data.explode('PhenotypeIDS')\n",
    "clinvar_data['PhenotypeIDS'] = clinvar_data['PhenotypeIDS'].str.replace(\"MONDO:MONDO:\", \"MONDO_\")\n",
    "clinvar_data['PhenotypeIDS'] = clinvar_data['PhenotypeIDS'].str.replace(\"Human Phenotype Ontology:HP:\", \"HP_\")\n",
    "clinvar_data = clinvar_data[(clinvar_data['PhenotypeIDS'].str.startswith('HP')) | (clinvar_data['PhenotypeIDS'].str.startswith('MONDO'))]\n",
    "clinvar_data['Source'] = 'ClinVar'\n",
    "\n",
    "clinvar_data = pd.merge(clinvar_data, rnacentral_map_human_refseq[['RNAcentral ID','RefSeq ID']].drop_duplicates().rename(\n",
    "    columns={'RefSeq ID':'Name'}), on='Name', how='left')\n",
    "clinvar_data['RNAcentral ID'] = clinvar_data['RNAcentral ID'].fillna(clinvar_data['Name'])\n",
    "\n",
    "clinvar_data.rename(columns={'RS# (dbSNP)':':START_ID','PhenotypeIDS':':END_ID','RNAcentral ID':'Interactor'},inplace=True)\n",
    "clinvar_data.head(n=3)"
   ]
  },
  {
   "cell_type": "markdown",
   "metadata": {},
   "source": [
    "* [PolymiRTS](https://compbio.uthsc.edu/miRSNP/home.php)"
   ]
  },
  {
   "cell_type": "code",
   "execution_count": null,
   "metadata": {},
   "outputs": [],
   "source": [
    "mrna_disease = pd.read_csv(unprocessed_data_location + 'Genes_associated_with_human_diseases_traits.txt',sep='\\t').drop(columns=['Study','Link'])\n",
    "mrna_disease['p-Value'] = pd.to_numeric(mrna_disease['p-Value'], errors='coerce') # Mondo+HPO  \n",
    "mrna_disease = mrna_disease[mrna_disease['p-Value'] < 0.01]\n",
    "mrna_disease['Disease/Trait'] = mrna_disease['Disease/Trait'].str.lower()\n",
    "mrna_disease = pd.merge(mrna_disease, desc_disPhe_map.rename(columns={0:'Disease/Trait'}), on='Disease/Trait').drop(\n",
    "    columns=['Disease/Trait']).rename(columns={1:'Disease'})\n",
    "\n",
    "mrna_disease = pd.merge(mrna_disease, rnacentral_map_human_refseq[['RNAcentral ID','RefSeq ID']].drop_duplicates().rename(\n",
    "    columns={'RefSeq ID':'RefSeQID'}), on='RefSeQID', how='left')\n",
    "mrna_disease['RNAcentral ID'] = mrna_disease['RNAcentral ID'].fillna(mrna_disease['RefSeQID'])\n",
    "\n",
    "mrna_disease['PUBMEDID'] = pd.to_numeric(mrna_disease['PUBMEDID'], errors='coerce')\n",
    "mrna_disease['PUBMEDID'] = mrna_disease['PUBMEDID'].astype(str)\n",
    "mrna_disease['PUBMEDID'] = mrna_disease['PUBMEDID'].str.replace(\".0\", \"\")\n",
    "mrna_disease['PUBMEDID'] = mrna_disease['PUBMEDID'].replace(\"nan\", np.nan)\n",
    "\n",
    "mrna_disease['Source'] = 'PolymiRTS'\n",
    "mrna_disease.rename(columns={'SNPs':':START_ID','Disease':':END_ID','p-Value':'p-value',\n",
    "                             'RNAcentral':'Interactor','PUBMEDID':'PubMedID'},inplace=True)\n",
    "mrna_disease.head(n=3)"
   ]
  },
  {
   "cell_type": "code",
   "execution_count": null,
   "metadata": {},
   "outputs": [],
   "source": [
    "snp_causally_influences_obo = pd.concat([clinvar_data, mrna_disease])\n",
    "snp_causally_influences_obo = snp_causally_influences_obo.groupby([':START_ID',':END_ID']).agg({'Source':set,'Interactor':set,\n",
    "                                                                                                'PubMedID':set,'p-value':np.mean}).reset_index()\n",
    "snp_causally_influences_obo['TYPE'] = \"causes_or_contributes_to_condition\"\n",
    "snp_causally_influences_obo.to_pickle(unprocessed_edge_data_location+'SNP_causes_or_contributes_to_condition_OBO.pkl')\n",
    "snp_causally_influences_obo.head(n=3)"
   ]
  },
  {
   "cell_type": "markdown",
   "metadata": {},
   "source": [
    "***\n",
    "### RNA - http://purl.obolibrary.org/obo/BFO_0000050 (part of) - OBO"
   ]
  },
  {
   "cell_type": "markdown",
   "metadata": {},
   "source": [
    "* [The GO resource](https://geneontology.org/) (GO annotations) <br/> The Gene Ontology (GO) knowledgebase is the world’s largest source of information on the functions of genes. This knowledge is both human-readable and machine-readable, and is a foundation for computational analysis of large-scale molecular biology and genetics experiments in biomedical research. "
   ]
  },
  {
   "cell_type": "code",
   "execution_count": null,
   "metadata": {},
   "outputs": [],
   "source": [
    "import gzip \n",
    "with gzip.open(unprocessed_data_location+'goa_human_rna.gaf.gz') as f: # GO\n",
    "    go_annotations = pd.read_csv(f, comment='!', delimiter='\\t', names=[\n",
    "        'DB', 'DB Object ID', 'DB Object Symbol', 'Qualifier', 'GO ID', 'DB:Reference (|DB:Reference)', 'Evidence Code',\n",
    "        'With (or) From', 'Aspect', 'DB Object Name', 'DB Object Synonym (|Synonym)', 'DB Object Type', 'Taxon(|taxon)',\n",
    "        'Date', 'Assigned By', 'Annotation Extension', 'Gene Product Form ID'])\n",
    "\n",
    "go_annotations = go_annotations[go_annotations['Taxon(|taxon)'] == 'taxon:9606']\n",
    "go_annotations['Qualifier'] = go_annotations['Qualifier'].replace('enables', '2327') # RO_0002327\n",
    "go_annotations['Qualifier'] = go_annotations['Qualifier'].replace('involved_in', '2331')\n",
    "go_annotations['Qualifier'] = go_annotations['Qualifier'].replace('located_in', '1025')\n",
    "go_annotations['Qualifier'] = go_annotations['Qualifier'].replace('part_of', 'BFO50')\n",
    "go_annotations['Qualifier'] = go_annotations['Qualifier'].replace('acts_upstream_of', '2263')\n",
    "go_annotations['Qualifier'] = go_annotations['Qualifier'].replace('acts_upstream_of_or_within', '2264')\n",
    "go_annotations['Qualifier'] = go_annotations['Qualifier'].replace('is_active_in', '2432')\n",
    "go_annotations['Qualifier'] = go_annotations['Qualifier'].replace('acts_upstream_of_or_within_negative_effect', '4033')\n",
    "go_annotations['Qualifier'] = go_annotations['Qualifier'].replace('acts_upstream_of_negative_effect', '4035')\n",
    "go_annotations['Qualifier'] = go_annotations['Qualifier'].replace('colocalizes_with', '2325')\n",
    "go_annotations['Qualifier'] = go_annotations['Qualifier'].replace('contributes_to', '2326')\n",
    "go_annotations['Qualifier'] = go_annotations['Qualifier'].replace('NOT|involved_in', '2331?NOT')\n",
    "go_annotations['Qualifier'] = go_annotations['Qualifier'].replace('NOT|located_in', '1025?NOT')\n",
    "print(\"Are all 'DB Object ID' and 'DB Object Symbol' cells equal?\", all(go_annotations['DB Object ID'] == go_annotations['DB Object Symbol']))\n",
    "go_annotations = go_annotations.drop(columns=['DB Object Symbol'])\n",
    "go_annotations['GO ID'] = go_annotations['GO ID'].str.replace('GO:', 'GO_')\n",
    "go_annotations['DB Object ID'] = go_annotations['DB Object ID'].str.replace('_.*', '', regex=True)\n",
    "go_annotations = go_annotations.drop(columns=['Gene Product Form ID', 'DB Object Synonym (|Synonym)', 'DB','Date','Annotation Extension',\n",
    "                                              'With (or) From','DB Object Name',\n",
    "                                              'DB Object Type','Taxon(|taxon)',\"Aspect\"])\n",
    "\n",
    "print(go_annotations[go_annotations['DB Object ID'].isna()])\n",
    "go_annotations['Assigned By'] = \"GOC|\" + go_annotations['Assigned By'].astype(str)\n",
    "go_annotations['Assigned By'] = go_annotations['Assigned By'].replace(\"GOC|GOC\", \"GOC\")\n",
    "go_annotations['Assigned By'] = go_annotations['Assigned By'].replace(\"GOC|BHF-UCL\", \"GOC\")\n",
    "go_annotations['Assigned By'] = go_annotations['Assigned By'].replace(\"GOC|ARUK-UCL\", \"GOC\")\n",
    "go_annotations['Assigned By'] = go_annotations['Assigned By'].replace(\"GOC|DIBU\", \"GOC\")\n",
    "go_annotations['Assigned By'] = go_annotations['Assigned By'].replace(\"GOC|ParkinsonsUK-UCL\", \"GOC\")\n",
    "go_annotations['Assigned By'] = go_annotations['Assigned By'].replace(\"GOC|FlyBase\", \"GOC\")\n",
    "go_annotations['Assigned By'] = go_annotations['Assigned By'].replace(\"GOC|UniProt\", \"GOC|UniProtKB\")\n",
    "go_annotations.rename(columns={'DB Object ID':':START_ID','GO ID':':END_ID','Evidence Code':'GO_evidence','Assigned By':'Source'},inplace=True)\n",
    "go_annotations['Source'] = go_annotations['Source'].str.split('|')\n",
    "go_annotations = go_annotations.explode('Source')\n",
    "\n",
    "go_annotations['DB:Reference (|DB:Reference)'] = go_annotations['DB:Reference (|DB:Reference)'].str.split('PMID:').str[1]\n",
    "go_annotations['DB:Reference (|DB:Reference)'] = pd.to_numeric(go_annotations['DB:Reference (|DB:Reference)'], errors='coerce')\n",
    "go_annotations['DB:Reference (|DB:Reference)'] = go_annotations['DB:Reference (|DB:Reference)'].replace(0, np.nan)\n",
    "go_annotations['DB:Reference (|DB:Reference)'] = go_annotations['DB:Reference (|DB:Reference)'].replace(\"<NA>\", np.nan)\n",
    "go_annotations['DB:Reference (|DB:Reference)'] = pd.to_numeric(go_annotations['DB:Reference (|DB:Reference)'], errors='coerce')\n",
    "go_annotations['DB:Reference (|DB:Reference)'] = go_annotations['DB:Reference (|DB:Reference)'].astype(str)\n",
    "go_annotations['DB:Reference (|DB:Reference)'] = go_annotations['DB:Reference (|DB:Reference)'].str.replace(\".0\", \"\")\n",
    "go_annotations['DB:Reference (|DB:Reference)'] = go_annotations['DB:Reference (|DB:Reference)'].replace(\"<NA>\",\"nan\")\n",
    "go_annotations['DB:Reference (|DB:Reference)'] = go_annotations['DB:Reference (|DB:Reference)'].replace(\"nan\",np.nan)\n",
    "go_annotations.rename(columns={'DB:Reference (|DB:Reference)':'PubMedID'},inplace=True)\n",
    "\n",
    "go_annotationsBFO50 = go_annotations[go_annotations['Qualifier'] == 'BFO50'].drop(columns=['Qualifier'])\n",
    "go_annotationsBFO50.head(n=3)"
   ]
  },
  {
   "cell_type": "markdown",
   "metadata": {},
   "source": [
    "* [Vesiclepedia](http://microvesicles.org/index.html) <br/> Vesiclepedia is a a manually curated compendium of molecular data (lipid, RNA and protein) identified in different classes of extracellular vesicles. "
   ]
  },
  {
   "cell_type": "code",
   "execution_count": null,
   "metadata": {},
   "outputs": [],
   "source": [
    "!wget http://microvesicles.org/Archive/Vesiclepedia_RNAs_GPAD.txt -O ../resources/processed_data/unprocessed_data/Vesiclepedia_RNAs_GPAD.txt"
   ]
  },
  {
   "cell_type": "code",
   "execution_count": null,
   "metadata": {},
   "outputs": [],
   "source": [
    "go_annotationsV = pd.read_csv(unprocessed_data_location+\"Vesiclepedia_RNAs_GPAD.txt\", comment='!', delimiter='\\t', names=[\n",
    "        'DB','DB Object ID','Qualifier','GO ID','DB:Reference(s)','Evidence Code','With (or) From','Interacting taxon ID','Date',\n",
    "        'Assigned By','Annotation Extension','Annotation Properties'])\n",
    "go_annotationsV['DB'] = go_annotationsV['DB'] + \", \" + go_annotationsV['Assigned By']\n",
    "go_annotationsV.drop(columns=['Assigned By','With (or) From','Interacting taxon ID','Date','Annotation Properties'], inplace=True)\n",
    "go_annotationsV = go_annotationsV[go_annotationsV['DB Object ID'].str.endswith('_9606')] # aggiungere poi le ulteriori specie considerate\n",
    "go_annotationsV['DB Object ID'] = go_annotationsV['DB Object ID'].str.replace(\"_9606\",'')\n",
    "go_annotationsV['GO ID'] = go_annotationsV['GO ID'].str.replace(':','_')\n",
    "go_annotationsV['DB:Reference(s)'] = go_annotationsV['DB:Reference(s)'].str.replace('PMID:','')\n",
    "print(go_annotationsV['Qualifier'].unique())\n",
    "print(go_annotationsV['DB'].unique())\n",
    "go_annotationsV['DB'] = go_annotationsV['DB'].str.split(\", \")\n",
    "go_annotationsV = go_annotationsV.explode('DB')\n",
    "go_annotationsV['Evidence Code'] = go_annotationsV['Evidence Code'].str.split(':').str[0]\n",
    "print(go_annotationsV['Evidence Code'].unique())\n",
    "\n",
    "go_annotationsV['DB:Reference(s)'] = pd.to_numeric(go_annotationsV['DB:Reference(s)'], errors='coerce')\n",
    "go_annotationsV['DB:Reference(s)'] = go_annotationsV['DB:Reference(s)'].astype(str)\n",
    "go_annotationsV['DB:Reference(s)'] = go_annotationsV['DB:Reference(s)'].str.replace(\".0\", \"\")\n",
    "go_annotationsV['DB:Reference(s)'] = go_annotationsV['DB:Reference(s)'].replace(\"nan\", np.nan)\n",
    "\n",
    "go_annotationsV['Annotation Extension'] = go_annotationsV['Annotation Extension'].str.split(\"(\").str[1]\n",
    "go_annotationsV['Annotation Extension'] = go_annotationsV['Annotation Extension'].str.replace(\":\", \"_\").str.replace(\"\\)\", \"\",regex=True)\n",
    "go_annotationsV = pd.merge(go_annotationsV, desc_anatomyCell_map.rename(columns={1:'Annotation Extension'}), on='Annotation Extension', how='left')\n",
    "go_annotationsV[0] = go_annotationsV[0].fillna(go_annotationsV['Annotation Extension'])\n",
    "\n",
    "go_annotationsV = go_annotationsV.rename(columns={'DB':'Source','DB Object ID':':START_ID','GO ID':':END_ID',0:'Location',\n",
    "                                                  'Evidence Code':'GO_evidence','DB:Reference(s)':'PubMedID'})\n",
    "go_annotationsV.head(n=3)"
   ]
  },
  {
   "cell_type": "code",
   "execution_count": null,
   "metadata": {},
   "outputs": [],
   "source": [
    "go_annotationsBFO50 = pd.concat([go_annotationsBFO50, go_annotationsV])\n",
    "go_annotationsBFO50 = go_annotationsBFO50.groupby([':START_ID',':END_ID']).agg({'GO_evidence':set,'Source':set,'PubMedID':set,\n",
    "                                                                                'Location':set}).reset_index()\n",
    "go_annotationsBFO50[':TYPE'] = 'part_of'\n",
    "go_annotationsBFO50.to_pickle(unprocessed_edge_data_location+'RNA_part_of_OBO.pkl')\n",
    "\n",
    "go_annotationsBFO50 = go_annotationsBFO50.rename(columns={':START_ID':':END_ID',':END_ID':':START_ID'})\n",
    "go_annotationsBFO50[':TYPE'] = 'has_part'\n",
    "go_annotationsBFO50.to_pickle(unprocessed_edge_data_location+'OBO_has_part_RNA.pkl')\n",
    "go_annotationsBFO50.head(n=3)"
   ]
  },
  {
   "cell_type": "markdown",
   "metadata": {},
   "source": [
    "***\n",
    "### RNA - http://purl.obolibrary.org/obo/RO_0002331?NOT (not involved in) - OBO"
   ]
  },
  {
   "cell_type": "markdown",
   "metadata": {},
   "source": [
    "* [The GO resource](https://geneontology.org/) (GO annotations)"
   ]
  },
  {
   "cell_type": "code",
   "execution_count": null,
   "metadata": {},
   "outputs": [],
   "source": [
    "go_annotations2331NOT = go_annotations[go_annotations['Qualifier'] == '2331?NOT'].drop(columns=['Qualifier'])\n",
    "\n",
    "go_annotations2331NOT = go_annotations2331NOT.groupby([':START_ID',':END_ID']).agg({'GO_evidence':set,'Source':set,'PubMedID':set}).reset_index()\n",
    "go_annotations2331NOT[':TYPE'] = 'not_involved_in'\n",
    "go_annotations2331NOT.to_pickle(unprocessed_edge_data_location+'RNA_not_involved_in_OBO.pkl')\n",
    "go_annotations2331NOT.head(n=3)"
   ]
  },
  {
   "cell_type": "markdown",
   "metadata": {},
   "source": [
    "***\n",
    "### RNA - http://purl.obolibrary.org/obo/RO_0001025?NOT (not located in) - OBO"
   ]
  },
  {
   "cell_type": "markdown",
   "metadata": {},
   "source": [
    "* [The GO resource](https://geneontology.org/) (GO annotations)"
   ]
  },
  {
   "cell_type": "code",
   "execution_count": null,
   "metadata": {},
   "outputs": [],
   "source": [
    "go_annotations1025NOT = go_annotations[go_annotations['Qualifier'] == '1025?NOT'].drop(columns=['Qualifier'])\n",
    "go_annotations1025NOT = go_annotations1025NOT.groupby([':START_ID',':END_ID']).agg({'GO_evidence':set,'Source':set,'PubMedID':set}).reset_index()\n",
    "go_annotations1025NOT[':TYPE'] = 'not_located_in'\n",
    "go_annotations1025NOT.to_pickle(unprocessed_edge_data_location+'RNA_not_located_in_OBO.pkl')\n",
    "\n",
    "go_annotations1025NOT = go_annotations1025NOT.rename(columns={':START_ID':':END_ID',':END_ID':':START_ID'})\n",
    "go_annotations1025NOT[':TYPE'] = 'not_location_of'\n",
    "go_annotations1025NOT.to_pickle(unprocessed_edge_data_location+'OBO_not_location_of_RNA.pkl')\n",
    "go_annotations1025NOT.head()"
   ]
  },
  {
   "cell_type": "markdown",
   "metadata": {},
   "source": [
    "***\n",
    "### RNA - http://purl.obolibrary.org/obo/RO_0002432 (is active in) - OBO"
   ]
  },
  {
   "cell_type": "markdown",
   "metadata": {},
   "source": [
    "* [The GO resource](https://geneontology.org/) (GO annotations)"
   ]
  },
  {
   "cell_type": "code",
   "execution_count": null,
   "metadata": {},
   "outputs": [],
   "source": [
    "go_annotations2432 = go_annotations[go_annotations['Qualifier'] == '2432'].drop(columns=['Qualifier'])\n",
    "go_annotations2432 = go_annotations2432.groupby([':START_ID',':END_ID']).agg({'GO_evidence':set,'Source':set,'PubMedID':set}).reset_index()\n",
    "go_annotations2432[':TYPE'] = 'is_active_in'\n",
    "go_annotations2432.to_pickle(unprocessed_edge_data_location+'RNA_is_active_in_OBO.pkl')\n",
    "go_annotations2432.head(n=3)"
   ]
  },
  {
   "cell_type": "markdown",
   "metadata": {},
   "source": [
    "***\n",
    "### RNA - http://purl.obolibrary.org/obo/RO_0004033 (acts upstream of or within, negative effect) - OBO"
   ]
  },
  {
   "cell_type": "markdown",
   "metadata": {},
   "source": [
    "* [The GO resource](https://geneontology.org/) (GO annotations)"
   ]
  },
  {
   "cell_type": "code",
   "execution_count": null,
   "metadata": {},
   "outputs": [],
   "source": [
    "go_annotations4033 = go_annotations[go_annotations['Qualifier'] == '4033'].drop(columns=['Qualifier'])\n",
    "go_annotations4033 = go_annotations4033.groupby([':START_ID',':END_ID']).agg({'GO_evidence':set,'Source':set,'PubMedID':set}).reset_index()\n",
    "go_annotations4033[':TYPE'] = 'acts_upstream_of_or_within_negative_effect'\n",
    "go_annotations4033.to_pickle(unprocessed_edge_data_location+'RNA_acts_upstream_of_or_within_negative_effect_OBO.pkl')\n",
    "go_annotations4033.head()"
   ]
  },
  {
   "cell_type": "markdown",
   "metadata": {},
   "source": [
    "***\n",
    "### RNA - http://purl.obolibrary.org/obo/RO_0002325 (colocalizes with) - OBO"
   ]
  },
  {
   "cell_type": "markdown",
   "metadata": {},
   "source": [
    "* [The GO resource](https://geneontology.org/) (GO annotations)"
   ]
  },
  {
   "cell_type": "code",
   "execution_count": null,
   "metadata": {},
   "outputs": [],
   "source": [
    "go_annotations2325 = go_annotations[go_annotations['Qualifier'] == '2325'].drop(columns=['Qualifier'])\n",
    "go_annotations2325 = go_annotations2325.groupby([':START_ID',':END_ID']).agg({'GO_evidence':set,'Source':set,'PubMedID':set}).reset_index()\n",
    "go_annotations2325[':TYPE'] = 'colocalizes_with'\n",
    "go_annotations2325.to_pickle(unprocessed_edge_data_location+'RNA_colocalizes_with_OBO.pkl')\n",
    "\n",
    "go_annotations2325 = go_annotations2325.rename(columns={':START_ID':':END_ID',':END_ID':':START_ID'})\n",
    "go_annotations2325[':TYPE'] = 'colocalizes_with'\n",
    "go_annotations2325.to_pickle(unprocessed_edge_data_location+'OBO_colocalizes_with_RNA.pkl')\n",
    "go_annotations2325.head()"
   ]
  },
  {
   "cell_type": "markdown",
   "metadata": {},
   "source": [
    "***\n",
    "### RNA - http://purl.obolibrary.org/obo/RO_0002264 (acts upstream of or within) - OBO"
   ]
  },
  {
   "cell_type": "markdown",
   "metadata": {},
   "source": [
    "* [The GO resource](https://geneontology.org/) (GO annotations)"
   ]
  },
  {
   "cell_type": "code",
   "execution_count": null,
   "metadata": {},
   "outputs": [],
   "source": [
    "go_annotations2264 = go_annotations[go_annotations['Qualifier'] == '2264'].drop(columns=['Qualifier'])\n",
    "go_annotations2264 = go_annotations2264.groupby([':START_ID',':END_ID']).agg({'GO_evidence':set,'Source':set,'PubMedID':set}).reset_index()\n",
    "go_annotations2264[':TYPE'] = 'acts_upstream_of_or_within'\n",
    "go_annotations2264.to_pickle(unprocessed_edge_data_location+'RNA_acts_upstream_of_or_within_OBO.pkl')\n",
    "go_annotations2264.head(n=3)"
   ]
  },
  {
   "cell_type": "markdown",
   "metadata": {},
   "source": [
    "***\n",
    "### RNA - http://purl.obolibrary.org/obo/RO_0002263 (acts upstream of) - OBO"
   ]
  },
  {
   "cell_type": "markdown",
   "metadata": {},
   "source": [
    "* [The GO resource](https://geneontology.org/) (GO annotations)"
   ]
  },
  {
   "cell_type": "code",
   "execution_count": null,
   "metadata": {},
   "outputs": [],
   "source": [
    "go_annotations2263 = go_annotations[go_annotations['Qualifier'] == '2263'].drop(columns=['Qualifier'])\n",
    "go_annotations2263 = go_annotations2263.groupby([':START_ID',':END_ID']).agg({'GO_evidence':set,'Source':set,'PubMedID':set}).reset_index()\n",
    "go_annotations2263[':TYPE'] = 'acts_upstream_of'\n",
    "go_annotations2263.to_pickle(unprocessed_edge_data_location+'RNA_acts_upstream_of_OBO.pkl')\n",
    "go_annotations2263.head(n=3)"
   ]
  },
  {
   "cell_type": "markdown",
   "metadata": {},
   "source": [
    "***\n",
    "### RNA - http://purl.obolibrary.org/obo/RO_000002327 (enables) - OBO"
   ]
  },
  {
   "cell_type": "markdown",
   "metadata": {},
   "source": [
    "* [The GO resource](https://geneontology.org/) (GO annotations)"
   ]
  },
  {
   "cell_type": "code",
   "execution_count": null,
   "metadata": {},
   "outputs": [],
   "source": [
    "go_annotations2327 = go_annotations[go_annotations['Qualifier'] == '2327'].drop(columns=['Qualifier'])\n",
    "go_annotations2327 = go_annotations2327.groupby([':START_ID',':END_ID']).agg({'GO_evidence':set,'Source':set,'PubMedID':set}).reset_index()\n",
    "go_annotations2327[':TYPE'] = 'enables'\n",
    "go_annotations2327.to_pickle(unprocessed_edge_data_location+'RNA_enables_OBO.pkl')\n",
    "\n",
    "go_annotations2327 = go_annotations2327.rename(columns={':START_ID':':END_ID',':END_ID':':START_ID'})\n",
    "go_annotations2327[':TYPE'] = 'enabled_by'\n",
    "go_annotations2327.to_pickle(unprocessed_edge_data_location+'OBO_enabled_by_RNA.pkl')\n",
    "go_annotations2327.head(n=3)"
   ]
  },
  {
   "cell_type": "markdown",
   "metadata": {},
   "source": [
    "***\n",
    "### RNA - http://purl.obolibrary.org/obo/RO_0002331 (involved in) - OBO"
   ]
  },
  {
   "cell_type": "markdown",
   "metadata": {},
   "source": [
    "* [DirectRMDB](http://www.rnamd.org/directRMDB/index.html) <br/> DirectRMDB is a database of quantitative RNA modification profiles."
   ]
  },
  {
   "cell_type": "code",
   "execution_count": null,
   "metadata": {},
   "outputs": [],
   "source": [
    "# http://www.rnamd.org/directRMDB/download.html --> Homo sapiens --> ZIP button --> Unzip"
   ]
  },
  {
   "cell_type": "code",
   "execution_count": null,
   "metadata": {},
   "outputs": [],
   "source": [
    "genome = pd.read_csv(unprocessed_data_location+'HomoSapiens/HomoSapiens_genome.txt', sep='\\t')[[ # Modification -- SO\n",
    "    'ID','modification','software','cell_line','Ensembl_ID','Gene_Biotype']]\n",
    "mirna = pd.read_csv(unprocessed_data_location+'HomoSapiens/HomoSapiens_miRNA.txt', sep='\\t')[['ID','Source','Name']].rename(\n",
    "    columns={'Name':'miRNA'})\n",
    "rbp = pd.read_csv(unprocessed_data_location+'HomoSapiens/HomoSapiens_RBP.txt', sep='\\t')[['ID','Source','Name']].rename(columns={'Name':'RBP'})\n",
    "snp = pd.read_csv(unprocessed_data_location+'HomoSapiens/HomoSapiens_SNP.txt', sep='\\t')[['ID','rs_ID']]\n",
    "rna_mod = pd.merge(genome, mirna, on='ID').merge(rbp, on='ID').merge(snp, on='ID')\n",
    "\n",
    "rna_mod['Source'] = 'DirectRMDB'\n",
    "rna_mod = rna_mod[~rna_mod['Ensembl_ID'].isna()]\n",
    "rna_mod['Source'] = rna_mod['Source'].astype(str) + \", \" + rna_mod['Source_x'].astype(str) + \", \" + rna_mod['Source_y'].astype(str)\n",
    "rna_mod['Source'] = rna_mod['Source'].str.replace(\", nan\", \"\")\n",
    "rna_mod['Source'] = rna_mod['Source'].str.replace(\"nan, \", \"\")\n",
    "rna_mod['Source'] = rna_mod['Source'].str.split(\", \")\n",
    "rna_mod = rna_mod.explode('Source')\n",
    "rna_mod = rna_mod[['modification','software','cell_line','Ensembl_ID','Gene_Biotype','miRNA','RBP','rs_ID','Source']]\n",
    "\n",
    "rna_mod['Ensembl_ID'] = rna_mod['Ensembl_ID'].str.split('.').str[0]\n",
    "rna_mod = pd.merge(rna_mod, ensembl_map[['ensembl_gene_id','transcript_stable_id','ensembl_transcript_type']].drop_duplicates(),\n",
    "                   left_on=['Ensembl_ID','Gene_Biotype'], right_on=['ensembl_gene_id','ensembl_transcript_type'])\n",
    "\n",
    "rna_mod['cell_line'] = rna_mod['cell_line'].str.lower().str.split(\";\")\n",
    "rna_mod = rna_mod.explode('cell_line')\n",
    "rna_mod = pd.merge(rna_mod, location_map, right_on='0_y', left_on='cell_line', how='left')\n",
    "rna_mod['0_x'] = rna_mod['0_x'].fillna(rna_mod['cell_line'])\n",
    "rna_mod = rna_mod.drop(columns=['0_y', 'cell_line'])\n",
    "rna_mod = rna_mod.rename(columns={'0_x':'Location'})\n",
    "\n",
    "rna_mod['software'] = rna_mod['software'].str.lower().str.split(\";\")\n",
    "rna_mod = rna_mod.explode('software')\n",
    "rna_mod = pd.merge(rna_mod, method_map, right_on='0_y', left_on='software', how='left')\n",
    "rna_mod['0_x'] = rna_mod['0_x'].fillna(rna_mod['software'])\n",
    "rna_mod = rna_mod.drop(columns=['0_y', 'software'])\n",
    "rna_mod = rna_mod.rename(columns={'0_x':'Method'})\n",
    "\n",
    "rna_mod = rna_mod[['transcript_stable_id','modification','Method','Location','miRNA','RBP','rs_ID','Source']].drop_duplicates()\n",
    "rna_mod.head(n=3)"
   ]
  },
  {
   "cell_type": "code",
   "execution_count": null,
   "metadata": {},
   "outputs": [],
   "source": [
    "print(rna_mod.modification.unique())\n",
    "\n",
    "rna_mod.modification.replace({'Psi':'SO_0001373',\n",
    "'m5C': 'SO_0001918',\n",
    "'m6A': 'SO_0001920',\n",
    "'m7G':'SO_0001326',\n",
    "'m1A': 'SO_0001295',\n",
    "'Cm': 'SO_0001283',\n",
    "'Tm': 'SO_0001382',\n",
    "'Am': 'SO_0001298',\n",
    "'Gm': 'SO_0001327',\n",
    "'m5U': 'SO_0001344'},inplace=True)\n",
    "\n",
    "rna_mod_rnacentral = pd.merge(rna_mod, rnacentral_map_human_ensembl[['RNAcentral ID','Ensembl transcript ID']].drop_duplicates().rename(\n",
    "    columns={'Ensembl transcript ID':'transcript_stable_id'}), on = 'transcript_stable_id').drop(columns=['transcript_stable_id']).rename(\n",
    "        columns={'RNAcentral ID':'transcript_stable_id'})\n",
    "rna_mod_ensembl = rna_mod[~rna_mod['transcript_stable_id'].isin(rna_mod_rnacentral['transcript_stable_id'])]\n",
    "rna_mod = pd.concat([rna_mod_ensembl, rna_mod_rnacentral]).rename(columns={'transcript_stable_id':':START_ID','rs_ID':'Mutation','modification':':END_ID'})\n",
    "rna_mod = pd.concat([rna_mod.rename(columns={'miRNA':'Interactor'}),\n",
    "                     rna_mod.rename(columns={'RBP':'Interactor'})]).drop(columns=['miRNA','RBP']).drop_duplicates()\n",
    "rna_mod.head(n=3)"
   ]
  },
  {
   "cell_type": "markdown",
   "metadata": {},
   "source": [
    "* [Modomics](https://genesilico.pl/modomics/) <br/> Modomics is a database of RNA modifications that provides comprehensive information concerning the chemical structures of modified ribonucleosides, their biosynthetic pathways, the location of modified residues in RNA sequences, and RNA modifying enzymes."
   ]
  },
  {
   "cell_type": "code",
   "execution_count": null,
   "metadata": {},
   "outputs": [],
   "source": [
    "# https://genesilico.pl/modomics/snornas --> CSV button\n",
    "modomics = pd.read_csv(unprocessed_data_location+'modomics2.csv') # Epigenetic modification (SO)\n",
    "modomics['ORF/Alternative name'] = modomics['ORF/Alternative name'].str.strip()\n",
    "modomics = modomics[modomics['Organism'].str.contains('apiens')].drop(columns=['Name','Organism'])\n",
    "modomics = pd.merge(modomics, rnacentral_map_human[['RNAcentral ID','DB Description']].drop_duplicates().rename(\n",
    "    columns={'DB Description':'ORF/Alternative name'}),on ='ORF/Alternative name').drop(columns=['ORF/Alternative name'])\n",
    "#modomics['ORF/Alternative name'] = modomics['ORF/Alternative name'].astype(str).str.lower()\n",
    "#modomics['ORF/Alternative name'] = modomics['ORF/Alternative name'].str[0:3] + 'RNA'\n",
    "print(modomics['Modification type'].unique())\n",
    "modomics.head(n=3)"
   ]
  },
  {
   "cell_type": "code",
   "execution_count": null,
   "metadata": {},
   "outputs": [],
   "source": [
    "modomics['Modification type'].replace({'Y':'SO_0001332','Cm': 'SO_0001283','Gm':'SO_0001327',\n",
    "                                       'Am':'SO_0001298','Um':'SO_0001345'},inplace=True)\n",
    "modomics['Modification position'] = modomics['Modification position'].str.strip().str.replace(r'\\s+', '-', regex=True)\n",
    "modomics['Source'] = 'Modomics'\n",
    "modomics.rename(columns={'Modification type':':END_ID', 'RNAcentral ID':':START_ID','Modification position':'Position'},inplace=True)\n",
    "modomics.drop(columns=['Target RNA type','Complex'],inplace=True)\n",
    "modomics.head(n=3)"
   ]
  },
  {
   "cell_type": "markdown",
   "metadata": {},
   "source": [
    "* [EpimiR](http://www.jianglab.cn/EpimiR/index.jsp) <br />\n",
    "The EpimiR database have obtained 1974 regulatory relationships between 19 types of epigenetic modifications (including DNA methylation, histone acetylation, H3K4me3 and H3K27me3, etc.) and 617 miRNAs across 7 species (including Homo sapiens) from nearly 2000 literatures."
   ]
  },
  {
   "cell_type": "code",
   "execution_count": null,
   "metadata": {},
   "outputs": [],
   "source": [
    "!wget https://www.dropbox.com/s/p852ndpck5jasxz/miRNet-mir-epi-hsa.csv?dl=0 -O ../resources/processed_data/unprocessed_data/miRNet-mir-epi-hsa.csv"
   ]
  },
  {
   "cell_type": "code",
   "execution_count": null,
   "metadata": {},
   "outputs": [],
   "source": [
    "miRNA_epiMod = pd.read_csv(unprocessed_data_location + 'miRNet-mir-epi-hsa.csv?dl=0')\n",
    "miRNA_epiMod = miRNA_epiMod[miRNA_epiMod['expression'] == 'high']\n",
    "miRNA_epiMod.drop(columns=['mirnet','mir_id','note','res_type','year','support','detect','expression'], inplace=True)\n",
    "miRNA_epiMod['epi_modification'] = miRNA_epiMod.epi_modification.str.split('/')\n",
    "miRNA_epiMod = miRNA_epiMod.explode('epi_modification')\n",
    "miRNA_epiMod.insert(1, 'epi_modification', miRNA_epiMod.pop(\"epi_modification\"))\n",
    "\n",
    "print(all(miRNA_epiMod['mir_acc'].isin(rnacentral_map_human['DB ID'])))\n",
    "# These are miRBase dead entries\n",
    "print(miRNA_epiMod[~miRNA_epiMod['mir_acc'].isin(rnacentral_map_human['DB ID'])])\n",
    "miRNA_epiMod = pd.merge(miRNA_epiMod, rnacentral_map_human.rename(columns={'DB ID':'mir_acc'}), on='mir_acc').drop(\n",
    "    columns=['DB','Organism','RNA category','DB Description','mir_acc']).rename(columns={'RNAcentral ID':'RNA'})\n",
    "\n",
    "miRNA_epiMod['Source'] = 'EpimiR'\n",
    "miRNA_epiMod2 = miRNA_epiMod.copy()\n",
    "miRNA_epiMod2['Source'] = 'miRNet'\n",
    "miRNA_epiMod = pd.concat([miRNA_epiMod, miRNA_epiMod2])\n",
    "\n",
    "miRNA_epiMod['epi_regulator'] = miRNA_epiMod['epi_regulator'].str.split('/')\n",
    "miRNA_epiMod = miRNA_epiMod.explode('epi_regulator')\n",
    "miRNA_epiMod['experiment'] = miRNA_epiMod['experiment'].str.split('/')\n",
    "miRNA_epiMod = miRNA_epiMod.explode('experiment')\n",
    "miRNA_epiMod['epi_target'] = miRNA_epiMod['epi_target'].str.split('/')\n",
    "miRNA_epiMod = miRNA_epiMod.explode('epi_target')\n",
    "miRNA_epiMod['condition'] = miRNA_epiMod['condition'].str.split('/')\n",
    "miRNA_epiMod = miRNA_epiMod.explode('condition')\n",
    "\n",
    "miRNA_epiMod['pmid'] = pd.to_numeric(miRNA_epiMod['pmid'], errors='coerce')\n",
    "miRNA_epiMod['pmid'] = miRNA_epiMod['pmid'].astype(str)\n",
    "miRNA_epiMod['pmid'] = miRNA_epiMod['pmid'].str.replace(\".0\", \"\")\n",
    "miRNA_epiMod['pmid'] = miRNA_epiMod['pmid'].replace(\"nan\", np.nan)\n",
    "\n",
    "miRNA_epiMod['experiment'] = miRNA_epiMod['experiment'].str.lower()\n",
    "miRNA_epiMod['experiment'] = miRNA_epiMod['experiment'].str.split(\"/\")\n",
    "miRNA_epiMod = miRNA_epiMod.explode('experiment')\n",
    "miRNA_epiMod = pd.merge(miRNA_epiMod, method_map, right_on='0_y', left_on='experiment', how='left')\n",
    "miRNA_epiMod['0_x'] = miRNA_epiMod['0_x'].fillna(miRNA_epiMod['experiment'])\n",
    "miRNA_epiMod = miRNA_epiMod.drop(columns=['0_y', 'experiment'])\n",
    "miRNA_epiMod = miRNA_epiMod.rename(columns={'0_x':'Method','pmid':'PubMedID','epi_regulator':'Regulator','epi_target':'Interactor'})\n",
    "\n",
    "miRNA_epiMod['condition'] = miRNA_epiMod['condition'].str.lower()\n",
    "miRNA_epiMod['condition'] = miRNA_epiMod['condition'].str.split(\"/\")\n",
    "miRNA_epiMod = miRNA_epiMod.explode('condition')\n",
    "miRNA_epiMod = pd.merge(miRNA_epiMod, disease_map, right_on='0_y', left_on='condition', how='left')\n",
    "miRNA_epiMod['0_x'] = miRNA_epiMod['0_x'].fillna(miRNA_epiMod['condition'])\n",
    "miRNA_epiMod = miRNA_epiMod.drop(columns=['0_y', 'condition'])\n",
    "miRNA_epiMod = miRNA_epiMod.rename(columns={'0_x':'Location'})\n",
    "\n",
    "miRNA_epiMod.head(n=3)"
   ]
  },
  {
   "cell_type": "code",
   "execution_count": null,
   "metadata": {},
   "outputs": [],
   "source": [
    "miRNA_epiMod['epi_modification'] = miRNA_epiMod['epi_modification'].str.lower().str.replace('dna methylation','silenced by dna methylation')\n",
    "miRNA_epiMod['epi_modification'] = miRNA_epiMod['epi_modification'].str.lower().str.replace('h3k4me','h3k4 methylation site')\n",
    "miRNA_epiMod['epi_modification'] = miRNA_epiMod['epi_modification'].str.lower().str.replace('h5ac','histone acetylation')\n",
    "miRNA_epiMod['epi_modification'] = miRNA_epiMod['epi_modification'].str.lower().str.replace('h3k9me','h3k9 methylation site')\n",
    "miRNA_epiMod['epi_modification'] = miRNA_epiMod['epi_modification'].str.lower().str.replace('h3k27me','h3k27 methylation site')\n",
    "miRNA_epiMod['epi_modification'] = miRNA_epiMod['epi_modification'].str.lower().str.replace('h3s10p','phosphorylation site')\n",
    "miRNA_epiMod['epi_modification'] = miRNA_epiMod['epi_modification'].str.lower().str.replace('h3r17me2','histone methylation site')\n",
    "\n",
    "miRNA_epiMod = pd.merge(miRNA_epiMod, desc_so_map, left_on='epi_modification', right_on=0)\n",
    "miRNA_epiMod = miRNA_epiMod.drop(columns=['epi_modification', 0])\n",
    "miRNA_epiMod = miRNA_epiMod.rename(columns={1:'epi_modification'})\n",
    "\n",
    "miRNA_epiMod.insert(1, 'epi_modification', miRNA_epiMod.pop(\"epi_modification\"))\n",
    "miRNA_epiMod.rename(columns={'epi_modification':':END_ID', 'RNA':':START_ID'},inplace=True)\n",
    "miRNA_epiMod.head(n=3)"
   ]
  },
  {
   "cell_type": "code",
   "execution_count": null,
   "metadata": {},
   "outputs": [],
   "source": [
    "rna_involved_in_so = pd.concat([rna_mod, modomics, miRNA_epiMod]).drop_duplicates()\n",
    "rna_involved_in_so = rna_involved_in_so.groupby([':START_ID',':END_ID']).agg({'Source':set,'Location':set,'Method':set,'Mutation':set,'Position':set,\n",
    "                                                                              'Regulator':set,'Interactor':set,'PubMedID':set}).reset_index()\n",
    "rna_involved_in_so[\":TYPE\"] = \"involved_in\"\n",
    "rna_involved_in_so.to_pickle(unprocessed_edge_data_location+'RNA_involved_in_OBO.pkl')\n",
    "rna_involved_in_so.head(n=3)"
   ]
  },
  {
   "cell_type": "markdown",
   "metadata": {},
   "source": [
    "***\n",
    "### OBO - http://purl.obolibrary.org/obo/RO_0002479 (has part that occurs in) - OBO"
   ]
  },
  {
   "cell_type": "markdown",
   "metadata": {},
   "source": [
    "* [Modomics](https://genesilico.pl/modomics/) <br/> Modomics is a database of RNA modifications that provides comprehensive information concerning the chemical structures of modified ribonucleosides, their biosynthetic pathways, the location of modified residues in RNA sequences, and RNA modifying enzymes."
   ]
  },
  {
   "cell_type": "code",
   "execution_count": null,
   "metadata": {},
   "outputs": [],
   "source": [
    "# https://genesilico.pl/modomics/diseases --> CSV button\n",
    "modomics = pd.read_csv(unprocessed_data_location+'modomics.csv').drop(columns=['Description']) # PRO -- Epigenetic modification (SO)\n",
    "\n",
    "modomics['Enzymes'] = modomics['Enzymes'].str.split(' ')\n",
    "modomics = modomics.explode('Enzymes')\n",
    "modomics = pd.merge(modomics, symbol_to_pro.rename(columns={0:'Enzymes'}), on='Enzymes')\n",
    "\n",
    "modomics['Disease Name'] = modomics['Disease Name'].str.lower()\n",
    "modomics = pd.merge(modomics, location_map, right_on='0_y', left_on='Disease Name', how='left')\n",
    "modomics['0_x'] = modomics['0_x'].fillna(modomics['Disease Name'])\n",
    "modomics = modomics.drop(columns=['0_y', 'Disease Name'])\n",
    "modomics = modomics.rename(columns={'0_x':'Location'})\n",
    "\n",
    "print(modomics.Reaction.unique())\n",
    "modomics.drop(columns=['Enzymes'],inplace=True)\n",
    "modomics.head(n=3)"
   ]
  },
  {
   "cell_type": "code",
   "execution_count": null,
   "metadata": {},
   "outputs": [],
   "source": [
    "modomics.Reaction.replace({'C:m5C': 'SO_0001918',\n",
    "'xX:Xm':'SO_0001353',\n",
    "'A:m6A': 'SO_0001920',\n",
    "'A:I': 'GO_0006382',\n",
    "'C:U':'GO_0016554',\n",
    "'U:Y':'SO_0001332',\n",
    "'A:m1A': 'SO_0001295'},inplace=True)\n",
    "modomics['Source'] = 'Modomics'\n",
    "\n",
    "pro_so = modomics[modomics['Reaction'].str.contains(\"SO\")]\n",
    "pro_so.head(n=3)"
   ]
  },
  {
   "cell_type": "code",
   "execution_count": null,
   "metadata": {},
   "outputs": [],
   "source": [
    "pro_so.rename(columns={'Reaction':':END_ID', 1:':START_ID'},inplace=True)\n",
    "pro_so = pro_so.groupby([':START_ID',':END_ID']).agg({'Source':set,'Location':set}).reset_index()\n",
    "pro_so[\":TYPE\"] = \"has_part_that_occurs_in\"\n",
    "pro_so.to_pickle(unprocessed_edge_data_location+'OBO_has_part_that_occurs_in_OBO.pkl')\n",
    "pro_so.head(n=3)"
   ]
  },
  {
   "cell_type": "markdown",
   "metadata": {},
   "source": [
    "***\n",
    "### OBO - http://purl.obolibrary.org/obo/RO_0002331 (involved in) - OBO"
   ]
  },
  {
   "cell_type": "code",
   "execution_count": null,
   "metadata": {},
   "outputs": [],
   "source": [
    "pro_go = modomics[modomics['Reaction'].str.contains(\"GO\")]\n",
    "\n",
    "pro_go.rename(columns={'Reaction':':END_ID', 1:':START_ID'},inplace=True)\n",
    "pro_go = pro_go.groupby([':START_ID',':END_ID']).agg({'Source':set,'Location':set}).reset_index()\n",
    "pro_go[\":TYPE\"] = \"involved_in\"\n",
    "pro_go.to_pickle(unprocessed_edge_data_location+'OBO_involved_in_OBO.pkl')\n",
    "pro_go.head(n=3)"
   ]
  },
  {
   "cell_type": "markdown",
   "metadata": {},
   "source": [
    "***\n",
    "### OBO - http://purl.obolibrary.org/obo?mod (modified in) - OBO"
   ]
  },
  {
   "cell_type": "markdown",
   "metadata": {},
   "source": [
    "* [Modomics](https://genesilico.pl/modomics/) <br/> Modomics is a database of RNA modifications that provides comprehensive information concerning the chemical structures of modified ribonucleosides, their biosynthetic pathways, the location of modified residues in RNA sequences, and RNA modifying enzymes."
   ]
  },
  {
   "cell_type": "code",
   "execution_count": null,
   "metadata": {},
   "outputs": [],
   "source": [
    "# https://genesilico.pl/modomics/sequences/ --> Check Unmodifed sequences --> Clck on \"FASTA\" button"
   ]
  },
  {
   "cell_type": "code",
   "execution_count": null,
   "metadata": {},
   "outputs": [],
   "source": [
    "file_path = unprocessed_data_location + 'unmodified_all_all_all_rna_sequences.fasta'\n",
    "metadata_list = []\n",
    "sequence_list = []\n",
    "\n",
    "# Read the file and process each entry\n",
    "with open(file_path, 'r') as file:\n",
    "    metadata = None\n",
    "    sequence = []\n",
    "    \n",
    "    for line in file:\n",
    "        line = line.strip()\n",
    "        if line.startswith('>'):  # Metadata line\n",
    "            if metadata:  # If there's existing metadata, save the previous entry\n",
    "                metadata_list.append(metadata)\n",
    "                sequence_list.append(''.join(sequence))\n",
    "            metadata = line[1:]  # Remove '>' and save the metadata\n",
    "            sequence = []  # Reset sequence\n",
    "        else:  # Sequence line\n",
    "            sequence.append(line)\n",
    "    \n",
    "    # Don't forget the last entry\n",
    "    if metadata:\n",
    "        metadata_list.append(metadata)\n",
    "        sequence_list.append(''.join(sequence))\n",
    "\n",
    "# Parse the metadata into a dictionary\n",
    "metadata_dicts = []\n",
    "for metadata in metadata_list:\n",
    "    metadata_dict = {}\n",
    "    for field in metadata.split('|'):\n",
    "        if ':' in field:\n",
    "            key, value = field.split(':', 1)\n",
    "            metadata_dict[key] = value\n",
    "    metadata_dicts.append(metadata_dict)\n",
    "\n",
    "# Create the DataFrame\n",
    "df = pd.DataFrame(metadata_dicts) # SO -- GO\n",
    "df['Sequence'] = sequence_list\n",
    "df = df[df['Species'] == 'Homo sapiens'] # aggiungere poi le ulteriori specie considerate\n",
    "df = df[['SOterm','Cellular_Localization']]\n",
    "df['SOterm'] = df['SOterm'].str.replace(\":\",\"_\")\n",
    "\n",
    "df = df.merge(desc_go_map.rename(columns={0:\"Cellular_Localization\"}), on='Cellular_Localization').drop(\n",
    "    columns='Cellular_Localization').rename(columns={1:'GO'})\n",
    "\n",
    "df['Source'] = 'Modomics'\n",
    "df.head(n=3)"
   ]
  },
  {
   "cell_type": "code",
   "execution_count": null,
   "metadata": {},
   "outputs": [],
   "source": [
    "df.rename(columns={'GO':':END_ID', 'SOterm':':START_ID'},inplace=True)\n",
    "df = df.groupby([':START_ID',':END_ID']).agg({'Source':set}).reset_index()\n",
    "df[\":TYPE\"] = \"modified_in\"\n",
    "df.to_pickle(unprocessed_edge_data_location+'OBO_modified_in_OBO.pkl')\n",
    "df.head(n=3)"
   ]
  },
  {
   "cell_type": "markdown",
   "metadata": {},
   "source": [
    "***\n",
    "### OBO - http://purl.obolibrary.org/obo/BFO_0000050 (part of) - OBO"
   ]
  },
  {
   "cell_type": "markdown",
   "metadata": {},
   "source": [
    "* [Vesiclepedia](http://microvesicles.org/index.html) <br/> Vesiclepedia is a a manually curated compendium of molecular data (lipid, RNA and protein) identified in different classes of extracellular vesicles. "
   ]
  },
  {
   "cell_type": "code",
   "execution_count": null,
   "metadata": {},
   "outputs": [],
   "source": [
    "!wget http://microvesicles.org/Archive/Vesiclepedia_Proteins_GPAD.txt -O ../resources/processed_data/unprocessed_data/Vesiclepedia_Proteins_GPAD.txt"
   ]
  },
  {
   "cell_type": "code",
   "execution_count": null,
   "metadata": {},
   "outputs": [],
   "source": [
    "go_annotations = pd.read_csv(unprocessed_data_location+\"Vesiclepedia_Proteins_GPAD.txt\", comment='!', delimiter='\\t', names=[ # PRO -- GO\n",
    "        'DB','DB Object ID','Qualifier','GO ID','DB:Reference(s)','Evidence Code','With (or) From','Interacting taxon ID','Date',\n",
    "        'Assigned By','Annotation Extension','Annotation Properties'])\n",
    "go_annotations['DB'] = go_annotations['DB'] + \", \" + go_annotations['Assigned By']\n",
    "go_annotations.drop(columns=['Assigned By','With (or) From','Interacting taxon ID','Date','Annotation Properties'], inplace=True)\n",
    "go_annotations['GO ID'] = go_annotations['GO ID'].str.replace(':','_')\n",
    "go_annotations['DB:Reference(s)'] = go_annotations['DB:Reference(s)'].str.replace('PMID:','')\n",
    "print(go_annotations['Qualifier'].unique())\n",
    "print(go_annotations['DB'].unique())\n",
    "go_annotations['DB'] = go_annotations['DB'].str.split(\", \")\n",
    "go_annotations = go_annotations.explode('DB')\n",
    "go_annotations['Evidence Code'] = go_annotations['Evidence Code'].str.split(':').str[0]\n",
    "print(go_annotations['Evidence Code'].unique())\n",
    "\n",
    "go_annotations['DB:Reference(s)'] = pd.to_numeric(go_annotations['DB:Reference(s)'], errors='coerce')\n",
    "go_annotations['DB:Reference(s)'] = go_annotations['DB:Reference(s)'].astype(str)\n",
    "go_annotations['DB:Reference(s)'] = go_annotations['DB:Reference(s)'].str.replace(\".0\", \"\")\n",
    "go_annotations['DB:Reference(s)'] = go_annotations['DB:Reference(s)'].replace(\"nan\", np.nan)\n",
    "\n",
    "go_annotations['Annotation Extension'] = go_annotations['Annotation Extension'].str.split(\"(\").str[1]\n",
    "go_annotations['Annotation Extension'] = go_annotations['Annotation Extension'].str.replace(\":\", \"_\").str.replace(\"\\)\", \"\",regex=True)\n",
    "go_annotations = pd.merge(go_annotations, desc_anatomyCell_map.rename(columns={1:'Annotation Extension'}), on='Annotation Extension', how='left')\n",
    "go_annotations[0] = go_annotations[0].fillna(go_annotations['Annotation Extension'])\n",
    "\n",
    "go_annotations = go_annotations.merge(unipro_pro_map.rename(columns={0:'DB Object ID'}), on='DB Object ID')\n",
    "\n",
    "go_annotations = go_annotations.rename(columns={'DB':'Source',1:':START_ID','GO ID':':END_ID',0:'Location',\n",
    "                                                  'Evidence Code':'GO_evidence','DB:Reference(s)':'PubMedID'})\n",
    "go_annotations.head(n=3)"
   ]
  },
  {
   "cell_type": "markdown",
   "metadata": {},
   "source": [
    "* The GO Consortium"
   ]
  },
  {
   "cell_type": "code",
   "execution_count": null,
   "metadata": {},
   "outputs": [],
   "source": [
    "pro_go_dict['pro_go_part_of'].head(n=3)"
   ]
  },
  {
   "cell_type": "code",
   "execution_count": null,
   "metadata": {},
   "outputs": [],
   "source": [
    "go_annotations = pd.concat([go_annotations,pro_go_dict['pro_go_part_of']])\n",
    "go_annotations = go_annotations.groupby([':START_ID',':END_ID']).agg({'GO_evidence':set,'Source':set,'PubMedID':set,'Location':set}).reset_index()\n",
    "go_annotations[':TYPE'] = 'part_of'\n",
    "go_annotations.to_pickle(unprocessed_edge_data_location+'OBO_part_of_OBO.pkl')\n",
    "\n",
    "go_annotations = go_annotations.rename(columns={':START_ID':':END_ID',':END_ID':':START_ID'})\n",
    "go_annotations[':TYPE'] = 'has_part'\n",
    "go_annotations.to_pickle(unprocessed_edge_data_location+'OBO_has_part_OBO.pkl')\n",
    "go_annotations.head(n=3)"
   ]
  },
  {
   "cell_type": "markdown",
   "metadata": {},
   "source": [
    "***\n",
    "### Gene - http://purl.obolibrary.org/obo/RO_0002434 (interacts with) - OBO"
   ]
  },
  {
   "cell_type": "markdown",
   "metadata": {},
   "source": [
    "* CTD"
   ]
  },
  {
   "cell_type": "code",
   "execution_count": null,
   "metadata": {},
   "outputs": [],
   "source": [
    "data_downloader(\"https://ctdbase.org/reports/CTD_chem_gene_ixns.tsv.gz\", unprocessed_data_location)"
   ]
  },
  {
   "cell_type": "code",
   "execution_count": null,
   "metadata": {},
   "outputs": [],
   "source": [
    "ctd_gene = pd.read_csv(unprocessed_data_location+'CTD_chem_gene_ixns.tsv', sep='\\t', comment=\"#\",\n",
    "                          names=['ChemicalName','ChemicalID','CasRN','GeneSymbol','GeneID','GeneForms',\n",
    "                                 'Organism','OrganismID','Interaction','InteractionActions','PubMedIDs'])\n",
    "ctd_gene = ctd_gene[ctd_gene['InteractionActions'] != 'affects']\n",
    "ctd_gene = ctd_gene[ctd_gene['Organism'] == 'Homo sapiens']\n",
    "ctd_gene = ctd_gene[(ctd_gene['GeneForms'].notna()) & (ctd_gene['GeneForms'].str.startswith(\"gene\"))]\n",
    "ctd_gene = ctd_gene[['ChemicalID','GeneID','PubMedIDs']]\n",
    "ctd_gene['ChemicalID'] = 'MESH_' + ctd_gene['ChemicalID']\n",
    "ctd_gene = pd.merge(ctd_gene, mesh_to_chebi.rename(columns={0:'ChemicalID'}), on='ChemicalID').drop(columns=['ChemicalID'])\n",
    "\n",
    "ctd_gene['PubMedIDs'] = pd.to_numeric(ctd_gene['PubMedIDs'], errors='coerce')\n",
    "ctd_gene['PubMedIDs'] = ctd_gene['PubMedIDs'].astype(str)\n",
    "ctd_gene['PubMedIDs'] = ctd_gene['PubMedIDs'].str.replace(\".0\", \"\")\n",
    "ctd_gene['PubMedIDs'] = ctd_gene['PubMedIDs'].replace(\"nan\", np.nan)\n",
    "\n",
    "ctd_gene = ctd_gene.rename(columns={'GeneID':':START_ID', 1:':END_ID', 'PubMedIDs':'PubMedID'})\n",
    "ctd_gene['Source'] = 'CTD'\n",
    "ctd_gene.head(n=3)"
   ]
  },
  {
   "cell_type": "markdown",
   "metadata": {},
   "source": [
    "* [RNAInter](http://www.rnainter.org/) <br/> RNAInter integrates experimentally validated and computationally predicted RNA interactome data from the literature and databases."
   ]
  },
  {
   "cell_type": "code",
   "execution_count": null,
   "metadata": {},
   "outputs": [],
   "source": [
    "!wget http://www.rnainter.org/raidMedia/download/Download_data_RP.tar.gz -O ../resources/processed_data/unprocessed_data/Download_data_RP.tar.gz"
   ]
  },
  {
   "cell_type": "code",
   "execution_count": null,
   "metadata": {},
   "outputs": [],
   "source": [
    "RNA_protein = pd.read_csv(unprocessed_data_location+'Download_data_RP.tar.gz',sep='\\t') # PRO\n",
    "\n",
    "# We select only strong evidence interactions for hsa\n",
    "RNA_protein = RNA_protein[(RNA_protein['score'] >= 0.2886) & (RNA_protein['Species1'].str.contains('apiens')) &\n",
    "                          (RNA_protein['Species2'].str.contains('apiens'))]\n",
    "\n",
    "print(set(RNA_protein.Category2)) # proteins are all in the second column\n",
    "print(set(RNA_protein.Category1))\n",
    "\n",
    "RNA_protein.Raw_ID1 = RNA_protein.Raw_ID1.str.replace(\"NCBI:\", '')\n",
    "RNA_protein.Raw_ID1 = RNA_protein.Raw_ID1.str.replace(\"miRBase:\", '')\n",
    "RNA_protein.Raw_ID1 = RNA_protein.Raw_ID1.str.replace(\"circBase:\", '')\n",
    "RNA_protein.Raw_ID1 = RNA_protein.Raw_ID1.str.replace(\"Ensembl:\", '')\n",
    "\n",
    "RNA_protein['Raw_ID1'] = RNA_protein['Raw_ID1'].str.split(';')\n",
    "RNA_protein = RNA_protein.explode('Raw_ID1')\n",
    "RNA_protein['Raw_ID2'] = RNA_protein['Raw_ID2'].str.split(';')\n",
    "RNA_protein = RNA_protein.explode('Raw_ID2')\n",
    "\n",
    "entrez_pro_map[0] = entrez_pro_map[0].astype(str)\n",
    "RNA_protein = pd.merge(RNA_protein, entrez_pro_map.rename(columns={0: 'Raw_ID2'}), on='Raw_ID2', how ='left')\n",
    "RNA_protein[1] = RNA_protein[1].fillna(RNA_protein['Raw_ID2'])\n",
    "RNA_protein.drop(columns=['Raw_ID2'],inplace=True)\n",
    "RNA_protein.rename(columns={1:'Raw_ID2'},inplace=True)\n",
    "RNA_protein = pd.merge(RNA_protein, symbol_to_pro.rename(columns={0: 'Interactor2.Symbol'}), on='Interactor2.Symbol', how ='left')\n",
    "RNA_protein[1] = RNA_protein[1].fillna(RNA_protein['Raw_ID2'])\n",
    "RNA_protein.drop(columns=['Raw_ID2'],inplace=True)\n",
    "RNA_protein.rename(columns={1:'Raw_ID2'},inplace=True)\n",
    "RNA_protein.head(n=3)\n",
    "RNA_protein = pd.merge(RNA_protein, rnacentral_map_human_ensembl[['Ensembl Gene ID', 'RNAcentral ID']].drop_duplicates(), left_on=['Raw_ID1'],\n",
    "                   right_on=['Ensembl Gene ID'], how=\"left\").drop(columns=[\"Ensembl Gene ID\"])\n",
    "\n",
    "RNA_protein['RNAcentral ID'] = RNA_protein['RNAcentral ID'].fillna(RNA_protein['Raw_ID1'])\n",
    "RNA_protein.drop(columns=['Raw_ID1'],inplace=True)\n",
    "RNA_protein.rename(columns={'RNAcentral ID':'Raw_ID1'},inplace=True)\n",
    "\n",
    "RNA_protein.head(n=3)\n",
    "RNA_protein = pd.merge(RNA_protein, rnacentral_map_human_mirbase[['miRBase ID', 'RNAcentral ID']].drop_duplicates(), left_on=['Raw_ID1'],\n",
    "                   right_on=['miRBase ID'], how=\"left\").drop(columns=[\"miRBase ID\"])\n",
    "\n",
    "RNA_protein['RNAcentral ID'] = RNA_protein['RNAcentral ID'].fillna(RNA_protein['Raw_ID1'])\n",
    "RNA_protein.drop(columns=['Raw_ID1'],inplace=True)\n",
    "RNA_protein.rename(columns={'RNAcentral ID':'Raw_ID1'},inplace=True)\n",
    "\n",
    "RNA_protein.head(n=3)\n",
    "print(RNA_protein[RNA_protein['Category1'] == 'tRNA']['Interactor1.Symbol'].unique()[:3]) \n",
    "RNA_protein = pd.merge(RNA_protein, rnacentral_map_human_gtrnadb[['RNAcentral ID','GtRNAdb Gene ID']].drop_duplicates().rename(\n",
    "    columns={'GtRNAdb Gene ID': 'Interactor1.Symbol'}), on='Interactor1.Symbol', how ='left')\n",
    "RNA_protein['RNAcentral ID'] = RNA_protein['RNAcentral ID'].fillna(RNA_protein['Raw_ID1'])\n",
    "RNA_protein.drop(columns=['Raw_ID1'],inplace=True)\n",
    "RNA_protein.rename(columns={'RNAcentral ID':'Raw_ID1'},inplace=True)\n",
    "RNA_protein.head(n=3)\n",
    "i = RNA_protein[(RNA_protein['Category1']=='mRNA')].index.values\n",
    "mrna = RNA_protein[RNA_protein['Category1']=='mRNA']\n",
    "ensembl_entrezTranscript_map[0] = ensembl_entrezTranscript_map[0].astype(str)\n",
    "ensembl_entrezTranscript_map_mrna = ensembl_entrezTranscript_map[ensembl_entrezTranscript_map[2] == 'protein-coding']\n",
    "mrna = pd.merge(mrna, ensembl_entrezTranscript_map_mrna, left_on=['Raw_ID1'],\n",
    "                right_on=[0]).drop(columns=['Raw_ID1',2,3,4,5]).rename(columns={0:'Raw_ID1'})\n",
    "mrna.drop(columns=['Raw_ID1'],inplace=True)\n",
    "mrna.rename(columns={1:'Raw_ID1'}, inplace=True)\n",
    "RNA_protein.drop(index=i,inplace=True,axis=0)\n",
    "RNA_protein = pd.concat([mrna,RNA_protein])\n",
    "\n",
    "mrna.head(n=3)\n",
    "i = RNA_protein[(RNA_protein['Category1']!='miRNA') &(RNA_protein['Category1']!='pseudo') & (RNA_protein['Category1']!='mRNA')& (RNA_protein['Category1']!='miRNA') & (RNA_protein['Category1']!='tRNA')& (RNA_protein['Category1']!='rRNA')].index.values\n",
    "ncrna = RNA_protein[(RNA_protein['Category1']!='miRNA') &(RNA_protein['Category1']!='pseudo') & (RNA_protein['Category1']!='mRNA')& (RNA_protein['Category1']!='miRNA') & (RNA_protein['Category1']!='tRNA')& (RNA_protein['Category1']!='rRNA')]\n",
    "rnacentral_map_human_hgnc_type = rnacentral_map_hgnc[rnacentral_map_hgnc['Organism'] ==9606]\n",
    "ncrna = pd.merge(ncrna, rnacentral_map_human_hgnc_type, left_on=['Interactor1.Symbol','Category1'],\n",
    "                right_on=[\"HGNC symbol\",'RNA category']).drop(columns=[\"Interactor1.Symbol\",'Raw_ID1','RNA category'])\n",
    "ncrna.rename(columns={\"RNAcentral ID\":'Raw_ID1'}, inplace=True)\n",
    "RNA_protein.drop(index=i,inplace=True,axis=0)\n",
    "RNA_protein = pd.concat([ncrna,RNA_protein])\n",
    "\n",
    "ncrna.head(n=3)\n",
    "# Start mislabeled data\n",
    "RNA_RNA = pd.read_csv(unprocessed_data_location+'Download_data_RR.tar.gz',sep='\\t').rename(columns={'Download_data_RR.txt':'RNAInterID'})\n",
    "\n",
    "# We select only strong evidence interactions for hsa\n",
    "RNA_RNA = RNA_RNA[(RNA_RNA['score'] >= 0.2886) &\n",
    "                  (RNA_RNA['Species1'].str.contains('apiens')) &\n",
    "                  (RNA_RNA['Species2'].str.contains('apiens'))]\n",
    "\n",
    "RNA_RNA.Category1 = RNA_RNA.Category1.str.replace(\"PCG\", 'mRNA')\n",
    "RNA_RNA.Category2 = RNA_RNA.Category2.str.replace(\"PCG\", 'mRNA')\n",
    "\n",
    "RNA_RNA.Raw_ID1 = RNA_RNA.Raw_ID1.str.replace(\"NCBI:\", '')\n",
    "RNA_RNA.Raw_ID2 = RNA_RNA.Raw_ID2.str.replace(\"NCBI:\", '')\n",
    "\n",
    "RNA_RNA.Raw_ID1 = RNA_RNA.Raw_ID1.str.replace(\"miRBase:\", '')\n",
    "RNA_RNA.Raw_ID2 = RNA_RNA.Raw_ID2.str.replace(\"miRBase:\", '')\n",
    "\n",
    "RNA_RNA.Raw_ID1 = RNA_RNA.Raw_ID1.str.replace(\"circBase:\", '')\n",
    "RNA_RNA.Raw_ID2 = RNA_RNA.Raw_ID2.str.replace(\"circBase:\", '')\n",
    "\n",
    "# tRF\n",
    "RNA_RNA.Raw_ID1 = RNA_RNA.Raw_ID1.str.replace(\"tRFdb:\", 'trfdb?')\n",
    "RNA_RNA.Raw_ID2 = RNA_RNA.Raw_ID2.str.replace(\"tRFdb:\", 'trfdb?')\n",
    "\n",
    "RNA_RNA['Raw_ID1'] = RNA_RNA['Raw_ID1'].str.split(';')\n",
    "RNA_RNA = RNA_RNA.explode('Raw_ID1')\n",
    "RNA_RNA['Raw_ID2'] = RNA_RNA['Raw_ID2'].str.split(';')\n",
    "RNA_RNA = RNA_RNA.explode('Raw_ID2')\n",
    "\n",
    "RNA_RNA['Interactor1.Symbol'] = RNA_RNA['Interactor1.Symbol'].str.split('.').str[0]\n",
    "RNA_RNA['Interactor2.Symbol'] = RNA_RNA['Interactor2.Symbol'].str.split('.').str[0]\n",
    "\n",
    "RNA_RNA.head(n=3)\n",
    "a = set(RNA_RNA.Category1)\n",
    "b = set(RNA_RNA.Category2)\n",
    "a.union(b)\n",
    "RNA_RNA = pd.merge(RNA_RNA, rnacentral_map_human_mirbase[['miRBase ID', 'RNAcentral ID']].drop_duplicates(), left_on=['Raw_ID1'],\n",
    "                   right_on=['miRBase ID'], how=\"left\").drop(columns=[\"miRBase ID\"])\n",
    "\n",
    "RNA_RNA['RNAcentral ID'] = RNA_RNA['RNAcentral ID'].fillna(RNA_RNA['Raw_ID1'])\n",
    "RNA_RNA.drop(columns=['Raw_ID1'],inplace=True)\n",
    "RNA_RNA.rename(columns={'RNAcentral ID':'Raw_ID1'},inplace=True)\n",
    "\n",
    "RNA_RNA = pd.merge(RNA_RNA, rnacentral_map_human_mirbase[['miRBase ID', 'RNAcentral ID']].drop_duplicates(), left_on=['Raw_ID2'],\n",
    "                   right_on=['miRBase ID'], how=\"left\").drop(columns=[\"miRBase ID\"])\n",
    "\n",
    "RNA_RNA['RNAcentral ID'] = RNA_RNA['RNAcentral ID'].fillna(RNA_RNA['Raw_ID2'])\n",
    "RNA_RNA.drop(columns=['Raw_ID2'],inplace=True)\n",
    "RNA_RNA.rename(columns={'RNAcentral ID':'Raw_ID2'},inplace=True)\n",
    "\n",
    "RNA_RNA.head(n=2)\n",
    "print(RNA_RNA[RNA_RNA['Category2'] == 'piRNA'])\n",
    "print(RNA_RNA[RNA_RNA['Category2'] == 'piRNA'])\n",
    "RNA_RNA.loc[31571, 'Raw_ID2'] = 'piR-hsa-39980'\n",
    "RNA_RNA.loc[39194, 'Raw_ID2'] = 'piR-hsa-20280'\n",
    "print(RNA_RNA[RNA_RNA['Category1'] == 'tRNA'])\n",
    "print(RNA_RNA[RNA_RNA['Category1'] == 'tRNA'])\n",
    "RNA_RNA.loc[23191, 'Raw_ID1'] = 'URS0000287398'\n",
    "RNA_RNA.loc[23192, 'Raw_ID1'] = 'URS00003C9A26'\n",
    "ensembl_map['ensembl_transcript_type'] = ensembl_map['ensembl_transcript_type'].str.replace(\"transcribed_unitary_pseudogene\",\"pseudo\")\n",
    "ensembl_map['ensembl_transcript_type'] = ensembl_map['ensembl_transcript_type'].str.replace(\"transcribed_unprocessed_pseudogene\",\"pseudo\")\n",
    "ensembl_map['ensembl_transcript_type'] = ensembl_map['ensembl_transcript_type'].str.replace(\"transcribed_processed_pseudogene\",\"pseudo\")\n",
    "ensembl_map['ensembl_transcript_type'] = ensembl_map['ensembl_transcript_type'].str.replace(\"unprocessed_pseudogene\",\"pseudo\")\n",
    "ensembl_map['ensembl_transcript_type'] = ensembl_map['ensembl_transcript_type'].str.replace(\"processed_pseudogene\",\"pseudo\")\n",
    "ensembl_map['ensembl_transcript_type'] = ensembl_map['ensembl_transcript_type'].str.replace(\"IG_V_pseudogene\",\"pseudo\")\n",
    "ensembl_map['ensembl_transcript_type'] = ensembl_map['ensembl_transcript_type'].str.replace(\"unitary_pseudogene\",\"pseudo\")\n",
    "ensembl_map['ensembl_transcript_type'] = ensembl_map['ensembl_transcript_type'].str.replace(\"TR_J_pseudogene\",\"pseudo\")\n",
    "ensembl_map['ensembl_transcript_type'] = ensembl_map['ensembl_transcript_type'].str.replace(\"TR_V_pseudogene\",\"pseudo\")\n",
    "ensembl_map['ensembl_transcript_type'] = ensembl_map['ensembl_transcript_type'].str.replace(\"IG_C_pseudogene\",\"pseudo\")\n",
    "ensembl_map['ensembl_transcript_type'] = ensembl_map['ensembl_transcript_type'].str.replace(\"IG_J_pseudogene\",\"pseudo\")\n",
    "ensembl_map['ensembl_transcript_type'] = ensembl_map['ensembl_transcript_type'].str.replace(\"translated_processed_pseudogene\",\"pseudo\")\n",
    "ensembl_map['ensembl_transcript_type'] = ensembl_map['ensembl_transcript_type'].str.replace(\"pseudogene\",\"pseudo\")\n",
    "ensembl_map['ensembl_transcript_type'] = ensembl_map['ensembl_transcript_type'].str.replace(\"IG_pseudogene\",\"pseudo\")\n",
    "i = RNA_RNA[(RNA_RNA['Category1']=='pseudo')].index.values\n",
    "pseudo = RNA_RNA[RNA_RNA['Category1']=='pseudo']\n",
    "ensembl_entrezTranscript_map[0] = ensembl_entrezTranscript_map[0].astype(str)\n",
    "ensembl_entrezTranscript_map_pseudo = ensembl_entrezTranscript_map[ensembl_entrezTranscript_map[2] == 'pseudo']\n",
    "pseudo = pd.merge(pseudo, ensembl_entrezTranscript_map_pseudo, left_on=['Raw_ID1'],\n",
    "                right_on=[0]).drop(columns=['Raw_ID1',2,3,4,5]).rename(columns={0:'Raw_ID1'})\n",
    "pseudo.drop(columns=['Raw_ID1'],inplace=True)\n",
    "pseudo.rename(columns={1:'Raw_ID1'}, inplace=True)\n",
    "RNA_RNA.drop(index=i,inplace=True,axis=0)\n",
    "RNA_RNA = pd.concat([pseudo,RNA_RNA])\n",
    "\n",
    "i = RNA_RNA[RNA_RNA['Category2']=='pseudo'].index.values\n",
    "pseudo = RNA_RNA[RNA_RNA['Category2']=='pseudo']\n",
    "pseudo = pd.merge(pseudo, ensembl_entrezTranscript_map_pseudo, left_on=['Raw_ID2'],\n",
    "                right_on=[0]).drop(columns=['Raw_ID2',2,3,4,5]).rename(columns={0:'Raw_ID2'})\n",
    "pseudo.drop(columns=['Raw_ID2'],inplace=True)\n",
    "pseudo.rename(columns={1:'Raw_ID2'}, inplace=True)\n",
    "RNA_RNA.drop(index=i,inplace=True,axis=0)\n",
    "RNA_RNA = pd.concat([pseudo,RNA_RNA])\n",
    "\n",
    "pseudo.head(n=3)\n",
    "i = RNA_RNA[(RNA_RNA['Category1']=='mRNA')].index.values\n",
    "mrna = RNA_RNA[RNA_RNA['Category1']=='mRNA']\n",
    "ensembl_entrezTranscript_map[0] = ensembl_entrezTranscript_map[0].astype(str)\n",
    "ensembl_entrezTranscript_map_mrna = ensembl_entrezTranscript_map[ensembl_entrezTranscript_map[2] == 'protein-coding']\n",
    "mrna = pd.merge(mrna, ensembl_entrezTranscript_map_mrna, left_on=['Raw_ID1'],\n",
    "                right_on=[0]).drop(columns=['Raw_ID1',2,3,4,5]).rename(columns={0:'Raw_ID1'})\n",
    "mrna.drop(columns=['Raw_ID1'],inplace=True)\n",
    "mrna.rename(columns={1:'Raw_ID1'}, inplace=True)\n",
    "RNA_RNA.drop(index=i,inplace=True,axis=0)\n",
    "RNA_RNA = pd.concat([mrna,RNA_RNA])\n",
    "\n",
    "i = RNA_RNA[RNA_RNA['Category2']=='mRNA'].index.values\n",
    "mrna = RNA_RNA[RNA_RNA['Category2']=='mRNA']\n",
    "mrna = pd.merge(mrna, ensembl_entrezTranscript_map_mrna, left_on=['Raw_ID2'],\n",
    "                right_on=[0]).drop(columns=['Raw_ID2',2,3,4,5]).rename(columns={0:'Raw_ID2'})\n",
    "mrna.drop(columns=['Raw_ID2'],inplace=True)\n",
    "mrna.rename(columns={1:'Raw_ID2'}, inplace=True)\n",
    "RNA_RNA.drop(index=i,inplace=True,axis=0)\n",
    "RNA_RNA = pd.concat([mrna,RNA_RNA])\n",
    "\n",
    "mrna.head(n=3)\n",
    "i = RNA_RNA[(RNA_RNA['Category1']=='protein') | (RNA_RNA['Category1']=='TF')].index.values\n",
    "protein = RNA_RNA[(RNA_RNA['Category1']=='protein') | (RNA_RNA['Category1']=='TF')]\n",
    "entrez_pro_map[0] = entrez_pro_map[0].astype(str)\n",
    "protein = pd.merge(protein, entrez_pro_map, left_on=['Raw_ID1'],\n",
    "                right_on=[0]).drop(columns=['Raw_ID1']).rename(columns={0:'Raw_ID1'})\n",
    "protein.drop(columns=['Raw_ID1'],inplace=True)\n",
    "protein.rename(columns={1:'Raw_ID1'}, inplace=True)\n",
    "RNA_RNA.drop(index=i,inplace=True,axis=0)\n",
    "RNA_RNA = pd.concat([protein,RNA_RNA])\n",
    "\n",
    "i = RNA_RNA[(RNA_RNA['Category2']=='protein') | (RNA_RNA['Category2']=='TF')].index.values\n",
    "protein = RNA_RNA[(RNA_RNA['Category2']=='protein') | (RNA_RNA['Category2']=='TF')]\n",
    "protein = pd.merge(protein, entrez_pro_map, left_on=['Raw_ID2'],\n",
    "                right_on=[0]).drop(columns=['Raw_ID2']).rename(columns={0:'Raw_ID2'})\n",
    "protein.drop(columns=['Raw_ID2'],inplace=True)\n",
    "protein.rename(columns={1:'Raw_ID2'}, inplace=True)\n",
    "RNA_RNA.drop(index=i,inplace=True,axis=0)\n",
    "RNA_RNA = pd.concat([protein,RNA_RNA])\n",
    "\n",
    "protein.head(n=3)\n",
    "i = RNA_RNA[(RNA_RNA['Category1']!='protein') & (RNA_RNA['Category1']!='TF') & (RNA_RNA['Category1']!='mRNA') & \n",
    "            (RNA_RNA['Category1']!='pseudo') & (RNA_RNA['Category1']!='piRNA') & (RNA_RNA['Category1']!='miRNA')\n",
    "            & (RNA_RNA['Category1']!='eRNA') & (RNA_RNA['Category1']!='circRNA') & (RNA_RNA['Category1']!='tRF')].index.values\n",
    "ncrna = RNA_RNA[(RNA_RNA['Category1']!='protein') & (RNA_RNA['Category1']!='TF') & (RNA_RNA['Category1']!='mRNA')\n",
    "            & (RNA_RNA['Category1']!='pseudo') & (RNA_RNA['Category1']!='piRNA') & (RNA_RNA['Category1']!='miRNA')\n",
    "            & (RNA_RNA['Category1']!='eRNA') & (RNA_RNA['Category1']!='circRNA') & (RNA_RNA['Category1']!='tRF')]\n",
    "rnacentral_map_human_hgnc_type = rnacentral_map_hgnc[rnacentral_map_hgnc['Organism'] ==9606]\n",
    "ncrna = pd.merge(ncrna, rnacentral_map_human_hgnc_type, left_on=['Interactor1.Symbol','Category1'],\n",
    "                right_on=[\"HGNC symbol\",'RNA category']).drop(columns=[\"Interactor1.Symbol\",'Raw_ID1','RNA category'])\n",
    "ncrna.rename(columns={\"RNAcentral ID\":'Raw_ID1'}, inplace=True)\n",
    "RNA_RNA.drop(index=i,inplace=True,axis=0)\n",
    "RNA_RNA = pd.concat([ncrna,RNA_RNA])\n",
    "\n",
    "i = RNA_RNA[(RNA_RNA['Category2']!='protein') & (RNA_RNA['Category2']!='TF') & (RNA_RNA['Category2']!='mRNA')\n",
    "            & (RNA_RNA['Category2']!='pseudo') & (RNA_RNA['Category2']!='piRNA') & (RNA_RNA['Category2']!='miRNA')\n",
    "            & (RNA_RNA['Category2']!='eRNA') & (RNA_RNA['Category2']!='circRNA') & (RNA_RNA['Category2']!='tRF')].index.values\n",
    "ncrna = RNA_RNA[(RNA_RNA['Category2']!='protein') & (RNA_RNA['Category2']!='TF') & (RNA_RNA['Category2']!='mRNA')\n",
    "            & (RNA_RNA['Category2']!='pseudo') & (RNA_RNA['Category2']!='piRNA') & (RNA_RNA['Category2']!='miRNA')\n",
    "            & (RNA_RNA['Category2']!='eRNA') & (RNA_RNA['Category2']!='circRNA') & (RNA_RNA['Category2']!='tRF')]\n",
    "ncrna = pd.merge(ncrna, rnacentral_map_human_hgnc_type, left_on=['Interactor2.Symbol','Category2'],\n",
    "                right_on=[\"HGNC symbol\",'RNA category']).drop(columns=[\"Interactor2.Symbol\",'Raw_ID2','RNA category'])\n",
    "ncrna.rename(columns={\"RNAcentral ID\":'Raw_ID2'}, inplace=True)\n",
    "RNA_RNA.drop(index=i,inplace=True,axis=0)\n",
    "RNA_RNA = pd.concat([ncrna,RNA_RNA])\n",
    "RNA_RNA = RNA_RNA[['Raw_ID1','Raw_ID2','Category1','Category2','score','strong','weak','predict']]\n",
    "\n",
    "ncrna.head(n=3)\n",
    "a = set(RNA_RNA.Category1)\n",
    "b = set(RNA_RNA.Category2)\n",
    "a.union(b)\n",
    "# Mislabeled data\n",
    "RNA_protein_ = RNA_RNA[(RNA_RNA['Raw_ID1'].str.startswith(\"PR\")) | (RNA_RNA['Raw_ID2'].str.startswith(\"PR\"))]\n",
    "# End mislabeled data\n",
    "RNA_protein = RNA_protein[(RNA_protein['Raw_ID1'].str.startswith(\"URS\")) | (RNA_protein['Raw_ID1'].str.startswith(\"ENST\")) |\n",
    "                          (RNA_protein['Raw_ID1'].str.startswith(\"hsa_circ\")) | RNA_protein['Raw_ID1'].str[0].str.isdigit()]\n",
    "\n",
    "RNA_protein = pd.concat([RNA_protein_, RNA_protein])\n",
    "\n",
    "RNA_protein['Method'] = RNA_protein['strong'].astype(str) + '//' + RNA_protein['weak'].astype(str) + '//' + RNA_protein['predict'].astype(str)\n",
    "RNA_protein['Method'] = RNA_protein['Method'].str.lower()\n",
    "RNA_protein['Method'] = RNA_protein['Method'].str.replace('nan\\/\\/','',regex=True)\n",
    "RNA_protein['Method'] = RNA_protein['Method'].str.replace('\\/\\/nan','',regex=True)\n",
    "RNA_protein['Method'] = RNA_protein['Method'].replace('nan',np.nan)\n",
    "RNA_protein['Method'] = RNA_protein['Method'].str.split('//')\n",
    "RNA_protein = RNA_protein.explode('Method')\n",
    "RNA_protein = pd.merge(RNA_protein, method_map, right_on='0_y', left_on='Method', how='left')\n",
    "RNA_protein['0_x'] = RNA_protein['0_x'].fillna(RNA_protein['Method'])\n",
    "RNA_protein = RNA_protein.drop(columns=['0_y', 'Method'])\n",
    "RNA_protein = RNA_protein.rename(columns={'0_x':'Method'})\n",
    "\n",
    "RNA_protein['Source'] = 'RNAInter'\n",
    "RNA_protein = RNA_protein.rename(columns={'Raw_ID1':':START_ID', 'Raw_ID2':':END_ID', 'score':'RNAsister_score'})\n",
    "gene_protein = RNA_protein[RNA_protein[':START_ID'].str[0].str.isdigit()]\n",
    "RNA_protein = RNA_protein[~RNA_protein[':START_ID'].str[0].str.isdigit()]\n",
    "gene_protein.head(n=3)"
   ]
  },
  {
   "cell_type": "markdown",
   "metadata": {},
   "source": [
    "* [RNAInter](http://www.rnainter.org/) <br/> RNAInter integrates experimentally validated and computationally predicted RNA interactome data from the literature and databases."
   ]
  },
  {
   "cell_type": "code",
   "execution_count": null,
   "metadata": {},
   "outputs": [],
   "source": [
    "!wget http://www.rnainter.org/raidMedia/download/Download_data_RC.tar.gz -O ../resources/processed_data/unprocessed_data/Download_data_RC.tar.gz"
   ]
  },
  {
   "cell_type": "code",
   "execution_count": null,
   "metadata": {},
   "outputs": [],
   "source": [
    "RNA_chemical = pd.read_csv(unprocessed_data_location+'Download_data_RC.tar.gz',sep='\\t').rename(columns={'Download_data_RC.txt':'RNAInterID'})\n",
    "\n",
    "# We select only strong evidence interactions for hsa\n",
    "RNA_chemical = RNA_chemical[(RNA_chemical['score'] >= 0.2886) &\n",
    "                  (RNA_chemical['Species1'].str.contains('apiens'))]\n",
    "\n",
    "print(set(RNA_chemical.Category2)) # Chemicals are all in the second column\n",
    "print(set(RNA_chemical.Category1))\n",
    "\n",
    "RNA_chemical['Raw_ID1'] = RNA_chemical['Raw_ID1'].str.split(';')\n",
    "RNA_chemical = RNA_chemical.explode('Raw_ID1')\n",
    "RNA_chemical['Interactor1.Symbol'] = RNA_chemical['Interactor1.Symbol'].str.split('.').str[0]\n",
    "RNA_chemical = RNA_chemical.explode('Interactor1.Symbol')\n",
    "RNA_chemical['Raw_ID2'] = RNA_chemical['Raw_ID2'].str.split(';')\n",
    "RNA_chemical = RNA_chemical.explode('Raw_ID2')\n",
    "RNA_chemical['Raw_ID1'] = RNA_chemical['Raw_ID1'].str.strip()\n",
    "RNA_chemical['Raw_ID2'] = RNA_chemical['Raw_ID2'].str.strip()\n",
    "\n",
    "RNA_chemical = RNA_chemical[(RNA_chemical['Interactor2.Symbol'].notna())]\n",
    "RNA_chemical['Interactor2.Symbol'] = RNA_chemical['Interactor2.Symbol'].str.lower()\n",
    "RNA_chemical = pd.merge(RNA_chemical, desc_chebi_map.rename(columns={0: 'Interactor2.Symbol'}), on='Interactor2.Symbol',\n",
    "                        how='left')\n",
    "RNA_chemical[1].fillna(RNA_chemical['Interactor2.Symbol'], inplace=True)\n",
    "RNA_chemical.drop(columns=['Interactor2.Symbol'],inplace=True)\n",
    "RNA_chemical.rename(columns={1:'Interactor2.Symbol'},inplace=True)\n",
    "RNA_chemical = pd.merge(RNA_chemical, desc_drugbank_map.rename(columns={0: 'Interactor2.Symbol'}), left_on=['Interactor2.Symbol'],\n",
    "                        right_on=['Interactor2.Symbol'], how='left')\n",
    "RNA_chemical[1].fillna(RNA_chemical['Interactor2.Symbol'], inplace=True)\n",
    "RNA_chemical.drop(columns=['Interactor2.Symbol'],inplace=True)\n",
    "RNA_chemical.rename(columns={1:'Interactor2.Symbol'},inplace=True)\n",
    "\n",
    "RNA_chemical.Raw_ID1 = RNA_chemical.Raw_ID1.str.replace(\"NCBI:\", '')\n",
    "RNA_chemical.Raw_ID1 = RNA_chemical.Raw_ID1.str.replace(\"miRBase:\", '')\n",
    "RNA_chemical.Raw_ID1 = RNA_chemical.Raw_ID1.str.replace(\"Ensembl:\", '')\n",
    "RNA_chemical.Raw_ID1 = RNA_chemical.Raw_ID1.str.replace(\"circBase:\", '')\n",
    "\n",
    "RNA_chemical.head(n=3)\n",
    "RNA_chemical = pd.merge(RNA_chemical, rnacentral_map_human_mirbase[['miRBase ID', 'RNAcentral ID']].drop_duplicates(), left_on=['Raw_ID1'],\n",
    "                   right_on=['miRBase ID'], how=\"left\").drop(columns=[\"miRBase ID\"])\n",
    "\n",
    "RNA_chemical['RNAcentral ID'] = RNA_chemical['RNAcentral ID'].fillna(RNA_chemical['Raw_ID1'])\n",
    "RNA_chemical.drop(columns=['Raw_ID1'],inplace=True)\n",
    "RNA_chemical.rename(columns={'RNAcentral ID':'Raw_ID1'},inplace=True)\n",
    "\n",
    "RNA_chemical.head(n=3)\n",
    "i = RNA_chemical[(RNA_chemical['Category1']=='mRNA')].index.values\n",
    "mrna = RNA_chemical[RNA_chemical['Category1']=='mRNA']\n",
    "ensembl_entrezTranscript_map[0] = ensembl_entrezTranscript_map[0].astype(str)\n",
    "ensembl_entrezTranscript_map_mrna = ensembl_entrezTranscript_map[ensembl_entrezTranscript_map[2] == 'protein-coding']\n",
    "mrna = pd.merge(mrna, ensembl_entrezTranscript_map_mrna, left_on=['Raw_ID1'],\n",
    "                right_on=[0]).drop(columns=['Raw_ID1',2,3,4,5]).rename(columns={0:'Raw_ID1'})\n",
    "mrna.drop(columns=['Raw_ID1'],inplace=True)\n",
    "mrna.rename(columns={1:'Raw_ID1'}, inplace=True)\n",
    "RNA_chemical.drop(index=i,inplace=True,axis=0)\n",
    "RNA_chemical = pd.concat([mrna,RNA_chemical])\n",
    "\n",
    "mrna.head(n=3) \n",
    "i = RNA_chemical[(RNA_chemical['Category1']=='pseudo')].index.values\n",
    "pseudo = RNA_chemical[RNA_chemical['Category1']=='pseudo']\n",
    "ensembl_entrezTranscript_map[0] = ensembl_entrezTranscript_map[0].astype(str)\n",
    "ensembl_entrezTranscript_map_pseudo = ensembl_entrezTranscript_map[ensembl_entrezTranscript_map[2] == 'pseudogene']\n",
    "pseudo = pd.merge(pseudo, ensembl_entrezTranscript_map_pseudo, left_on=['Raw_ID1'],\n",
    "                right_on=[0]).drop(columns=['Raw_ID1',2,3,4,5]).rename(columns={0:'Raw_ID1'})\n",
    "pseudo.drop(columns=['Raw_ID1'],inplace=True)\n",
    "pseudo.rename(columns={1:'Raw_ID1'}, inplace=True)\n",
    "RNA_chemical.drop(index=i,inplace=True,axis=0)\n",
    "RNA_chemical = pd.concat([pseudo,RNA_chemical])\n",
    "\n",
    "pseudo.head(n=3) \n",
    "i = RNA_chemical[(RNA_chemical['Category1']!='mRNA') & (RNA_chemical['Category1']!='pseudo')].index.values\n",
    "ncrna = RNA_chemical[(RNA_chemical['Category1']!='mRNA') & (RNA_chemical['Category1']!='pseudo')]\n",
    "rnacentral_map_human_hgnc_type = rnacentral_map_hgnc[rnacentral_map_hgnc['Organism'] ==9606]\n",
    "ncrna = pd.merge(ncrna, rnacentral_map_human_hgnc_type, left_on=['Interactor1.Symbol','Category1'],\n",
    "                right_on=[\"HGNC symbol\",'RNA category']).drop(columns=[\"Interactor1.Symbol\",'Raw_ID1','RNA category'])\n",
    "ncrna.rename(columns={\"RNAcentral ID\":'Raw_ID1'}, inplace=True)\n",
    "RNA_chemical.drop(index=i,inplace=True,axis=0)\n",
    "RNA_chemical = pd.concat([ncrna,RNA_chemical])\n",
    "\n",
    "ncrna.head(n=3)\n",
    "RNA_chemical = RNA_chemical[(RNA_chemical['Raw_ID1'].str.startswith(\"URS\")) | (RNA_chemical['Raw_ID1'].str.startswith(\"ENST\")) | \n",
    "                            (RNA_chemical['Raw_ID1'].str.startswith(\"hsa_circ\")) | (RNA_chemical['Raw_ID1'].str[0].str.isdigit())]\n",
    "RNA_chemical = RNA_chemical[(RNA_chemical['Interactor2.Symbol'].str.startswith(\"DB\")) | \n",
    "                            (RNA_chemical['Interactor2.Symbol'].str.startswith(\"CHEBI\"))]\n",
    "\n",
    "RNA_chemical['Method'] = RNA_chemical['strong'].astype(str) + '//' + RNA_chemical['weak'].astype(str) + '//' + RNA_chemical['predict'].astype(str)\n",
    "RNA_chemical['Method'] = RNA_chemical['Method'].str.lower()\n",
    "RNA_chemical['Method'] = RNA_chemical['Method'].str.replace('nan\\/\\/','',regex=True)\n",
    "RNA_chemical['Method'] = RNA_chemical['Method'].str.replace('\\/\\/nan','',regex=True)\n",
    "RNA_chemical['Method'] = RNA_chemical['Method'].replace('nan',np.nan)\n",
    "RNA_chemical['Method'] = RNA_chemical['Method'].str.split('//')\n",
    "RNA_chemical = RNA_chemical.explode('Method')\n",
    "RNA_chemical = pd.merge(RNA_chemical, method_map, right_on='0_y', left_on='Method', how='left')\n",
    "RNA_chemical['0_x'] = RNA_chemical['0_x'].fillna(RNA_chemical['Method'])\n",
    "RNA_chemical = RNA_chemical.drop(columns=['0_y', 'Method'])\n",
    "RNA_chemical = RNA_chemical.rename(columns={'0_x':'Method'})\n",
    "\n",
    "RNA_chemical['Source'] = 'RNAInter'\n",
    "RNA_chemical.rename(columns={'Raw_ID1':':START_ID', 'Interactor2.Symbol':':END_ID', 'score':'RNAsister_score'},inplace=True)\n",
    "gene_chemical = RNA_chemical[RNA_chemical[':START_ID'].str[0].str.isdigit()]\n",
    "RNA_chemical = RNA_chemical[~RNA_chemical[':START_ID'].str[0].str.isdigit()]\n",
    "gene_chemical.head(n=3)"
   ]
  },
  {
   "cell_type": "markdown",
   "metadata": {},
   "source": [
    "* [RNAInter](http://www.rnainter.org/) <br/> RNAInter integrates experimentally validated and computationally predicted RNA interactome data from the literature and databases."
   ]
  },
  {
   "cell_type": "code",
   "execution_count": null,
   "metadata": {},
   "outputs": [],
   "source": [
    "!wget http://www.rnainter.org/raidMedia/download/Download_data_RH.tar.gz -O ../resources/processed_data/unprocessed_data/Download_data_RH.tar.gz"
   ]
  },
  {
   "cell_type": "code",
   "execution_count": null,
   "metadata": {},
   "outputs": [],
   "source": [
    "RNA_hisMod = pd.read_csv(unprocessed_data_location+'Download_data_RH.tar.gz',sep='\\t').rename(columns={'Download_data_RH.txt':'RNAInterID'})\n",
    "# Histone modification (SO)\n",
    "\n",
    "# We select only strong evidence interactions for hsa\n",
    "RNA_hisMod = RNA_hisMod[(RNA_hisMod['score'] >= 0.2886) &\n",
    "                  (RNA_hisMod['Species1'].str.contains('apiens'))]\n",
    "\n",
    "print(set(RNA_hisMod.Category2)) # Histone modifications are all in the second column\n",
    "print(set(RNA_hisMod.Category1))\n",
    "\n",
    "RNA_hisMod['Interactor2.Symbol'] = RNA_hisMod['Interactor2.Symbol'].str.lower()\n",
    "print(RNA_hisMod['Interactor2.Symbol'].unique())\n",
    "RNA_hisMod['Interactor2.Symbol'] = RNA_hisMod['Interactor2.Symbol'].str.lower().str.replace('h3k9-14ac','h3k9ac, h3k14ac')\n",
    "RNA_hisMod['Interactor2.Symbol'] = RNA_hisMod['Interactor2.Symbol'].str.lower().str.replace('hist2h3c','histone acetylation site')\n",
    "#RNA_hisMod['Interactor2.Symbol'] = RNA_hisMod['Interactor2.Symbol'].str.lower().str.replace('h2afz','h2azac')\n",
    "RNA_hisMod['Interactor2.Symbol'] = RNA_hisMod['Interactor2.Symbol'].str.lower().str.replace('h3ace','h3ac')\n",
    "RNA_hisMod['Interactor2.Symbol'] = RNA_hisMod['Interactor2.Symbol'].str.lower().str.replace('h3k27me1','h2k27me1')\n",
    "RNA_hisMod['Interactor2.Symbol'] = RNA_hisMod['Interactor2.Symbol'].str.lower().str.replace('h3.3','histone modification')\n",
    "RNA_hisMod['Interactor2.Symbol'] = RNA_hisMod['Interactor2.Symbol'].str.lower().str.replace('h3k4','h3k4 methylation site')\n",
    "\n",
    "RNA_hisMod['Interactor2.Symbol'] = RNA_hisMod['Interactor2.Symbol'].str.split(', ')\n",
    "RNA_hisMod = RNA_hisMod.explode('Interactor2.Symbol')\n",
    "\n",
    "RNA_hisMod = pd.merge(RNA_hisMod, desc_so_map, left_on=['Interactor2.Symbol'], right_on=0)\n",
    "RNA_hisMod = RNA_hisMod.drop(columns=['Interactor2.Symbol', 0])\n",
    "RNA_hisMod = RNA_hisMod.rename(columns={1:'Interactor2.Symbol'})\n",
    "\n",
    "print(set(RNA_hisMod.Category1))\n",
    "\n",
    "RNA_hisMod.Raw_ID1 = RNA_hisMod.Raw_ID1.str.replace(\"NCBI:\", '')\n",
    "RNA_hisMod.Raw_ID1 = RNA_hisMod.Raw_ID1.str.replace(\"miRBase:\", '')\n",
    "\n",
    "RNA_hisMod['Raw_ID1'] = RNA_hisMod['Raw_ID1'].str.split(';')\n",
    "RNA_hisMod = RNA_hisMod.explode('Raw_ID1')\n",
    "RNA_hisMod['Interactor1.Symbol'] = RNA_hisMod['Interactor1.Symbol'].str.split('.').str[0]\n",
    "\n",
    "RNA_hisMod.head(n=3)\n",
    "RNA_hisMod = pd.merge(RNA_hisMod, rnacentral_map_human_mirbase[['miRBase ID', 'RNAcentral ID']].drop_duplicates(), left_on=['Raw_ID1'],\n",
    "                   right_on=['miRBase ID'], how=\"left\").drop(columns=[\"miRBase ID\"])\n",
    "\n",
    "RNA_hisMod['RNAcentral ID'] = RNA_hisMod['RNAcentral ID'].fillna(RNA_hisMod['Raw_ID1'])\n",
    "RNA_hisMod.drop(columns=['Raw_ID1'],inplace=True)\n",
    "RNA_hisMod.rename(columns={'RNAcentral ID':'Raw_ID1'},inplace=True)\n",
    "\n",
    "RNA_hisMod.head(n=3)\n",
    "i = RNA_hisMod[(RNA_hisMod['Category1']=='mRNA')].index.values\n",
    "mrna = RNA_hisMod[RNA_hisMod['Category1']=='mRNA']\n",
    "ensembl_entrezTranscript_map[0] = ensembl_entrezTranscript_map[0].astype(str)\n",
    "ensembl_entrezTranscript_map_mrna = ensembl_entrezTranscript_map[ensembl_entrezTranscript_map[2] == 'protein-coding']\n",
    "mrna = pd.merge(mrna, ensembl_entrezTranscript_map_mrna, left_on=['Raw_ID1'],\n",
    "                right_on=[0]).drop(columns=['Raw_ID1',2,3,4,5]).rename(columns={0:'Raw_ID1'})\n",
    "mrna.drop(columns=['Raw_ID1'],inplace=True)\n",
    "mrna.rename(columns={1:'Raw_ID1'}, inplace=True)\n",
    "RNA_hisMod.drop(index=i,inplace=True,axis=0)\n",
    "RNA_hisMod = pd.concat([mrna,RNA_hisMod])\n",
    "\n",
    "mrna.head(n=3) \n",
    "i = RNA_hisMod[(RNA_hisMod['Category1']!='mRNA') & (RNA_hisMod['Category1']!='pseudo')].index.values\n",
    "ncrna = RNA_hisMod[(RNA_hisMod['Category1']!='mRNA') & (RNA_hisMod['Category1']!='pseudo')]\n",
    "rnacentral_map_human_hgnc_type = rnacentral_map_hgnc[rnacentral_map_hgnc['Organism'] ==9606]\n",
    "ncrna = pd.merge(ncrna, rnacentral_map_human_hgnc_type, left_on=['Interactor1.Symbol','Category1'],\n",
    "                right_on=[\"HGNC symbol\",'RNA category']).drop(columns=[\"Interactor1.Symbol\",'Raw_ID1','RNA category'])\n",
    "ncrna.rename(columns={\"RNAcentral ID\":'Raw_ID1'}, inplace=True)\n",
    "RNA_hisMod.drop(index=i,inplace=True,axis=0)\n",
    "RNA_hisMod = pd.concat([ncrna,RNA_hisMod])\n",
    "\n",
    "ncrna.head(n=3)\n",
    "RNA_hisMod = RNA_hisMod[(RNA_hisMod['Raw_ID1'].str.startswith(\"URS\")) | (RNA_hisMod['Raw_ID1'].str.startswith(\"ENST\")) |\n",
    "                            (RNA_hisMod['Raw_ID1'].str.startswith(\"hsa_circ\")) | (RNA_hisMod['Raw_ID1'].str[0].str.isdigit())]\n",
    "\n",
    "RNA_hisMod['Method'] = RNA_hisMod['strong'].astype(str) + '//' + RNA_hisMod['weak'].astype(str) + '//' + RNA_hisMod['predict'].astype(str)\n",
    "RNA_hisMod['Method'] = RNA_hisMod['Method'].str.lower()\n",
    "RNA_hisMod['Method'] = RNA_hisMod['Method'].str.replace('nan\\/\\/','',regex=True)\n",
    "RNA_hisMod['Method'] = RNA_hisMod['Method'].str.replace('\\/\\/nan','',regex=True)\n",
    "RNA_hisMod['Method'] = RNA_hisMod['Method'].replace('nan',np.nan)\n",
    "RNA_hisMod['Method'] = RNA_hisMod['Method'].str.split('//')\n",
    "RNA_hisMod = RNA_hisMod.explode('Method')\n",
    "RNA_hisMod = pd.merge(RNA_hisMod, method_map, right_on='0_y', left_on='Method', how='left')\n",
    "RNA_hisMod['0_x'] = RNA_hisMod['0_x'].fillna(RNA_hisMod['Method'])\n",
    "RNA_hisMod = RNA_hisMod.drop(columns=['0_y', 'Method'])\n",
    "RNA_hisMod = RNA_hisMod.rename(columns={'0_x':'Method'})\n",
    "\n",
    "RNA_hisMod['Source'] = 'RNAInter'\n",
    "gene_hisMod = RNA_hisMod[RNA_hisMod['Raw_ID1'].str[0].str.isdigit()]\n",
    "gene_hisMod.rename(columns={'Raw_ID1':':START_ID', 'Interactor2.Symbol':':END_ID', 'score':'RNAsister_score'},inplace=True)\n",
    "gene_hisMod.head(n=3)"
   ]
  },
  {
   "cell_type": "code",
   "execution_count": null,
   "metadata": {},
   "outputs": [],
   "source": [
    "gene_interacts_with_OBO = pd.concat([ctd_gene, gene_protein, gene_chemical, gene_hisMod])\n",
    "gene_interacts_with_OBO = gene_interacts_with_OBO.groupby([':START_ID',':END_ID']).agg({'RNAsister_score':np.mean,'Source':set,\n",
    "                                                                                        'PubMedID':set,'Method':set}).reset_index()\n",
    "gene_interacts_with_OBO[':TYPE'] = 'interacts_with'\n",
    "gene_interacts_with_OBO.to_pickle(unprocessed_edge_data_location+'gene_interacts_with_OBO.pkl')\n",
    "\n",
    "OBO_interacts_with_gene = gene_interacts_with_OBO.rename(columns={':START_ID':':END_ID',':END_ID':':START_ID'})\n",
    "OBO_interacts_with_gene.to_pickle(unprocessed_edge_data_location+'OBO_interacts_with_gene.pkl')\n",
    "OBO_interacts_with_gene.head(n=3)"
   ]
  },
  {
   "cell_type": "markdown",
   "metadata": {},
   "source": [
    "***\n",
    "### OBO - http://purl.obolibrary.org/obo/RO_0002434 (enables) - OBO"
   ]
  },
  {
   "cell_type": "markdown",
   "metadata": {},
   "source": [
    "* The GO consortium"
   ]
  },
  {
   "cell_type": "code",
   "execution_count": null,
   "metadata": {},
   "outputs": [],
   "source": [
    "pro_go = pd.read_csv(unprocessed_data_location+\"goa_human.gaf\",comment=\"!\",sep=\"\\t\",header=None)\n",
    "pro_go = pro_go[pro_go[12] == 'taxon:9606']\n",
    "pro_go[14] = 'GO_Central, ' + pro_go[14]\n",
    "pro_go = pro_go[[1,3,4,6,14]]\n",
    "pro_go[4] = pro_go[4].str.replace('GO:','GO_')\n",
    "pro_go = pd.merge(pro_go, unipro_pro_map, left_on=1, right_on=0).drop(columns=[1,'1_x',0])\n",
    "pro_go[14] = pro_go[14].str.replace(\", UniProt\",\", UniProtKB\")\n",
    "pro_go[14] = pro_go[14].str.replace(\", IntAct\",\"\")\n",
    "pro_go[14] = pro_go[14].str.replace(\", HPA\",\", The_Human_Protein_Atlas\")\n",
    "pro_go[14] = pro_go[14].str.replace(\", GOC\",\"\")\n",
    "pro_go[14] = pro_go[14].str.replace(\", FlyBase\",\"\")\n",
    "pro_go[14] = pro_go[14].str.replace(\", NTNU_SB\",\"\")\n",
    "pro_go[14] = pro_go[14].str.replace(\", ComplexPortal\",\"\")\n",
    "pro_go[14] = pro_go[14].str.replace(\", ParkinsonsUK-UCL\",\"\")\n",
    "pro_go[14] = pro_go[14].str.replace(\", ARUK-UCL\",\"\")\n",
    "pro_go[14] = pro_go[14].str.replace(\", LIFEdb\",\"\")\n",
    "pro_go[14] = pro_go[14].str.replace(\", BHF-UCL\",\"\")\n",
    "pro_go[14] = pro_go[14].str.replace(\", MGI\",\"\")\n",
    "pro_go[14] = pro_go[14].str.replace(\", RHEA\",\"\")\n",
    "pro_go[14] = pro_go[14].str.replace(\", HGNC-UCL\",\", HGNC\")\n",
    "pro_go[14] = pro_go[14].str.replace(\", SYSCILIA_CCNET\",\"\")\n",
    "pro_go[14] = pro_go[14].str.replace(\", CACAO\",\"\")\n",
    "pro_go[14] = pro_go[14].str.replace(\", AgBase\",\"\")\n",
    "pro_go[14] = pro_go[14].str.replace(\", PINC\",\"\")\n",
    "pro_go[14] = pro_go[14].str.replace(\", CAFA\",\"\")\n",
    "pro_go[14] = pro_go[14].str.replace(\", DisProt\",\"\")\n",
    "pro_go[14] = pro_go[14].str.replace(\", MTBBASE\",\"\")\n",
    "pro_go[14] = pro_go[14].str.replace(\", YuBioLab\",\"\")\n",
    "pro_go[14] = pro_go[14].str.replace(\", SynGO\",\"\")\n",
    "pro_go[14] = pro_go[14].str.replace(\", Alzheimers_University_of_Toronto\",\"\")\n",
    "pro_go[14] = pro_go[14].str.replace(\", GDB\",\"\")\n",
    "pro_go[14] = pro_go[14].str.replace(\", SynGO-UCL\",\"\")\n",
    "pro_go[14] = pro_go[14].str.replace(\", DFLAT\",\"\")\n",
    "pro_go[14] = pro_go[14].str.replace(\", DIBU\",\"\")\n",
    "pro_go[14] = pro_go[14].str.replace(\", PHI-base\",\"\")\n",
    "pro_go[14] = pro_go[14].str.replace(\", WB\",\"\")\n",
    "pro_go[14] = pro_go[14].str.replace(\", Xenbase\",\"\")\n",
    "pro_go[14] = pro_go[14].str.replace(\", ZFIN\",\"\")\n",
    "pro_go[14] = pro_go[14].str.replace(\", dictyBase\",\"\")\n",
    "pro_go[14] = pro_go[14].str.replace(\", InterPro\",\"\")\n",
    "pro_go[14] = pro_go[14].str.replace(\"GO_Central-UCL\",\"GO_Central\")\n",
    "pro_go[14] = pro_go[14].str.split(\", \")\n",
    "pro_go = pro_go.explode(14)\n",
    "pro_go[14] = pro_go[14].str.replace(\"GO_Central\",\"GOC\")\n",
    "pro_go = pro_go.rename(columns={'1_y':':START_ID',4:':END_ID',6:'GO_evidence',14:'Source'})\n",
    "\n",
    "pro_go_dict = {}\n",
    "for i in pro_go[3].unique():\n",
    "    pro_go_dict[f'pro_go_{i}'] = pro_go[pro_go[3] == i].drop(columns=[3])\n",
    "print(pro_go[3].unique())\n",
    "pro_go_dict['pro_go_enables'].head(n=3)"
   ]
  },
  {
   "cell_type": "code",
   "execution_count": null,
   "metadata": {},
   "outputs": [],
   "source": [
    "pro_go = pro_go_dict['pro_go_enables'].groupby([':START_ID',':END_ID']).agg({'Source':set,'GO_evidence':set}).reset_index()\n",
    "pro_go[':TYPE'] = 'enables'\n",
    "pro_go.to_pickle(unprocessed_edge_data_location+'OBO_enables_OBO.pkl')\n",
    "\n",
    "pro_go = pro_go.rename(columns={':START_ID':':END_ID',':END_ID':':START_ID'})\n",
    "pro_go[':TYPE'] = 'enabled_by'\n",
    "pro_go.to_pickle(unprocessed_edge_data_location+'OBO_enabled_by_OBO.pkl')\n",
    "pro_go.head(n=3)"
   ]
  },
  {
   "cell_type": "markdown",
   "metadata": {},
   "source": [
    "***\n",
    "### OBO - http://purl.obolibrary.org/obo/RO_0002432 (is active in) - OBO"
   ]
  },
  {
   "cell_type": "markdown",
   "metadata": {},
   "source": [
    "* The GO consortium"
   ]
  },
  {
   "cell_type": "code",
   "execution_count": null,
   "metadata": {},
   "outputs": [],
   "source": [
    "pro_go = pro_go_dict['pro_go_is_active_in'].groupby([':START_ID',':END_ID']).agg({'Source':set,'GO_evidence':set}).reset_index()\n",
    "pro_go[':TYPE'] = 'is_active_in'\n",
    "pro_go.to_pickle(unprocessed_edge_data_location+'OBO_is_active_in_OBO.pkl')\n",
    "pro_go.head(n=3)"
   ]
  },
  {
   "cell_type": "markdown",
   "metadata": {},
   "source": [
    "***\n",
    "### OBO - http://purl.obolibrary.org/obo/RO_0002325 (colocalizes with) - OBO"
   ]
  },
  {
   "cell_type": "markdown",
   "metadata": {},
   "source": [
    "* The GO consortium"
   ]
  },
  {
   "cell_type": "code",
   "execution_count": null,
   "metadata": {},
   "outputs": [],
   "source": [
    "pro_go = pd.concat([pro_go_dict['pro_go_colocalizes_with'],\n",
    "                    pro_go_dict['pro_go_colocalizes_with'].rename(columns={':START_ID':':END_ID',':END_ID':':START_ID'})])\n",
    "\n",
    "pro_go = pro_go.groupby([':START_ID',':END_ID']).agg({'Source':set,'GO_evidence':set}).reset_index()\n",
    "pro_go[':TYPE'] = 'colocalizes_with'\n",
    "pro_go.to_pickle(unprocessed_edge_data_location+'OBO_colocalizes_with_OBO.pkl')\n",
    "pro_go.head(n=3)"
   ]
  },
  {
   "cell_type": "markdown",
   "metadata": {},
   "source": [
    "***\n",
    "### OBO - http://purl.obolibrary.org/obo/RO_0002264 (acts upstream of or within) - OBO"
   ]
  },
  {
   "cell_type": "markdown",
   "metadata": {},
   "source": [
    "* The GO consortium"
   ]
  },
  {
   "cell_type": "code",
   "execution_count": null,
   "metadata": {},
   "outputs": [],
   "source": [
    "pro_go = pro_go_dict['pro_go_acts_upstream_of_or_within']\n",
    "\n",
    "pro_go = pro_go.groupby([':START_ID',':END_ID']).agg({'Source':set,'GO_evidence':set}).reset_index()\n",
    "pro_go[':TYPE'] = 'acts_upstream_of_or_within'\n",
    "pro_go.to_pickle(unprocessed_edge_data_location+'OBO_acts_upstream_of_or_within_OBO.pkl')\n",
    "pro_go.head(n=3)"
   ]
  },
  {
   "cell_type": "markdown",
   "metadata": {},
   "source": [
    "***\n",
    "### OBO - http://purl.obolibrary.org/obo/RO_0002326 (contributes to) - OBO"
   ]
  },
  {
   "cell_type": "markdown",
   "metadata": {},
   "source": [
    "* The GO consortium"
   ]
  },
  {
   "cell_type": "code",
   "execution_count": null,
   "metadata": {},
   "outputs": [],
   "source": [
    "pro_go = pro_go_dict['pro_go_contributes_to']\n",
    "\n",
    "pro_go = pro_go.groupby([':START_ID',':END_ID']).agg({'Source':set,'GO_evidence':set}).reset_index()\n",
    "pro_go[':TYPE'] = 'contributes_to'\n",
    "pro_go.to_pickle(unprocessed_edge_data_location+'OBO_contributes_to_OBO.pkl')\n",
    "pro_go.head(n=3)"
   ]
  },
  {
   "cell_type": "markdown",
   "metadata": {},
   "source": [
    "***\n",
    "### OBO - http://purl.obolibrary.org/obo/RO_0004035 (acts upstream of negative effect) - OBO"
   ]
  },
  {
   "cell_type": "markdown",
   "metadata": {},
   "source": [
    "* The GO consortium"
   ]
  },
  {
   "cell_type": "code",
   "execution_count": null,
   "metadata": {},
   "outputs": [],
   "source": [
    "pro_go = pro_go_dict['pro_go_acts_upstream_of_negative_effect']\n",
    "\n",
    "pro_go = pro_go.groupby([':START_ID',':END_ID']).agg({'Source':set,'GO_evidence':set}).reset_index()\n",
    "pro_go[':TYPE'] = 'acts_upstream_of_negative_effect'\n",
    "pro_go.to_pickle(unprocessed_edge_data_location+'OBO_acts_upstream_of_negative_effect_OBO.pkl')\n",
    "pro_go.head(n=3)"
   ]
  },
  {
   "cell_type": "markdown",
   "metadata": {},
   "source": [
    "***\n",
    "### OBO - http://purl.obolibrary.org/obo/RO_0004032 (acts upstream of or within positive effect) - OBO"
   ]
  },
  {
   "cell_type": "markdown",
   "metadata": {},
   "source": [
    "* The GO consortium"
   ]
  },
  {
   "cell_type": "code",
   "execution_count": null,
   "metadata": {},
   "outputs": [],
   "source": [
    "pro_go = pro_go_dict['pro_go_acts_upstream_of_or_within_positive_effect']\n",
    "\n",
    "pro_go = pro_go.groupby([':START_ID',':END_ID']).agg({'Source':set,'GO_evidence':set}).reset_index()\n",
    "pro_go[':TYPE'] = 'acts_upstream_of_or_within_positive_effect'\n",
    "pro_go.to_pickle(unprocessed_edge_data_location+'OBO_acts_upstream_of_or_within_positive_effect_OBO.pkl')\n",
    "pro_go.head(n=3)"
   ]
  },
  {
   "cell_type": "markdown",
   "metadata": {},
   "source": [
    "***\n",
    "### OBO - http://purl.obolibrary.org/obo/RO_0004033 (acts upstream of or within negative effect) - OBO"
   ]
  },
  {
   "cell_type": "markdown",
   "metadata": {},
   "source": [
    "* The GO consortium"
   ]
  },
  {
   "cell_type": "code",
   "execution_count": null,
   "metadata": {},
   "outputs": [],
   "source": [
    "pro_go = pro_go_dict['pro_go_acts_upstream_of_or_within_negative_effect']\n",
    "\n",
    "pro_go = pro_go.groupby([':START_ID',':END_ID']).agg({'Source':set,'GO_evidence':set}).reset_index()\n",
    "pro_go[':TYPE'] = 'acts_upstream_of_or_within_negative_effect'\n",
    "pro_go.to_pickle(unprocessed_edge_data_location+'OBO_acts_upstream_of_or_within_negative_effect_OBO.pkl')\n",
    "pro_go.head(n=3)"
   ]
  },
  {
   "cell_type": "markdown",
   "metadata": {},
   "source": [
    "***\n",
    "### OBO - http://purl.obolibrary.org/obo/RO_0004034 (acts upstream of positive effect) - OBO"
   ]
  },
  {
   "cell_type": "markdown",
   "metadata": {},
   "source": [
    "* The GO consortium"
   ]
  },
  {
   "cell_type": "code",
   "execution_count": null,
   "metadata": {},
   "outputs": [],
   "source": [
    "pro_go = pro_go_dict['pro_go_acts_upstream_of_positive_effect']\n",
    "\n",
    "pro_go = pro_go.groupby([':START_ID',':END_ID']).agg({'Source':set,'GO_evidence':set}).reset_index()\n",
    "pro_go[':TYPE'] = 'acts_upstream_of_positive_effect'\n",
    "pro_go.to_pickle(unprocessed_edge_data_location+'OBO_acts_upstream_of_positive_effect_OBO.pkl')\n",
    "pro_go.head(n=3)"
   ]
  },
  {
   "cell_type": "markdown",
   "metadata": {},
   "source": [
    "***\n",
    "### OBO - http://purl.obolibrary.org/obo/BFO_0000050?NOT (not part of) - OBO"
   ]
  },
  {
   "cell_type": "markdown",
   "metadata": {},
   "source": [
    "* The GO consortium"
   ]
  },
  {
   "cell_type": "code",
   "execution_count": null,
   "metadata": {},
   "outputs": [],
   "source": [
    "pro_go = pro_go_dict['pro_go_NOT|part_of'].groupby([':START_ID',':END_ID']).agg({'Source':set,'GO_evidence':set}).reset_index()\n",
    "pro_go[':TYPE'] = 'not_part_of'\n",
    "pro_go.to_pickle(unprocessed_edge_data_location+'OBO_not_part_of_OBO.pkl')\n",
    "\n",
    "pro_go = pro_go.rename(columns={':START_ID':':END_ID',':END_ID':':START_ID'})\n",
    "pro_go[':TYPE'] = 'not_has_part'\n",
    "pro_go.to_pickle(unprocessed_edge_data_location+'OBO_not_has_part_OBO.pkl')\n",
    "pro_go.head(n=3)"
   ]
  },
  {
   "cell_type": "markdown",
   "metadata": {},
   "source": [
    "***\n",
    "### OBO - http://purl.obolibrary.org/obo/RO_0002327?NOT (not enables) - OBO"
   ]
  },
  {
   "cell_type": "markdown",
   "metadata": {},
   "source": [
    "* The GO consortium"
   ]
  },
  {
   "cell_type": "code",
   "execution_count": null,
   "metadata": {},
   "outputs": [],
   "source": [
    "pro_go = pro_go_dict['pro_go_NOT|enables'].groupby([':START_ID',':END_ID']).agg({'Source':set,'GO_evidence':set}).reset_index()\n",
    "pro_go[':TYPE'] = 'not_enables'\n",
    "pro_go.to_pickle(unprocessed_edge_data_location+'OBO_not_enables_OBO.pkl')\n",
    "\n",
    "pro_go = pro_go.rename(columns={':START_ID':':END_ID',':END_ID':':START_ID'})\n",
    "pro_go[':TYPE'] = 'not_enabled_by'\n",
    "pro_go.to_pickle(unprocessed_edge_data_location+'OBO_not_enabled_by_OBO.pkl')\n",
    "pro_go.head(n=3)"
   ]
  },
  {
   "cell_type": "markdown",
   "metadata": {},
   "source": [
    "***\n",
    "### OBO - http://purl.obolibrary.org/obo/RO_0001025?NOT (not located in) - OBO"
   ]
  },
  {
   "cell_type": "markdown",
   "metadata": {},
   "source": [
    "* The GO consortium"
   ]
  },
  {
   "cell_type": "code",
   "execution_count": null,
   "metadata": {},
   "outputs": [],
   "source": [
    "pro_go = pro_go_dict['pro_go_NOT|located_in'].groupby([':START_ID',':END_ID']).agg({'Source':set,'GO_evidence':set}).reset_index()\n",
    "pro_go[':TYPE'] = 'not_located_in'\n",
    "pro_go.to_pickle(unprocessed_edge_data_location+'OBO_not_located_in_OBO.pkl')\n",
    "\n",
    "pro_go = pro_go.rename(columns={':START_ID':':END_ID',':END_ID':':START_ID'})\n",
    "pro_go[':TYPE'] = 'not_location_of'\n",
    "pro_go.to_pickle(unprocessed_edge_data_location+'OBO_not_location_of_OBO.pkl')\n",
    "pro_go.head(n=3)"
   ]
  },
  {
   "cell_type": "markdown",
   "metadata": {},
   "source": [
    "***\n",
    "### OBO - http://purl.obolibrary.org/obo/RO_0002331?NOT (not involved in) - OBO"
   ]
  },
  {
   "cell_type": "markdown",
   "metadata": {},
   "source": [
    "* The GO consortium"
   ]
  },
  {
   "cell_type": "code",
   "execution_count": null,
   "metadata": {},
   "outputs": [],
   "source": [
    "pro_go = pro_go_dict['pro_go_NOT|involved_in'].groupby([':START_ID',':END_ID']).agg({'Source':set,'GO_evidence':set}).reset_index()\n",
    "pro_go[':TYPE'] = 'not_involved_in'\n",
    "pro_go.to_pickle(unprocessed_edge_data_location+'OBO_not_involved_in_OBO.pkl')\n",
    "pro_go.head(n=3)"
   ]
  },
  {
   "cell_type": "markdown",
   "metadata": {},
   "source": [
    "***\n",
    "### OBO - http://purl.obolibrary.org/obo/RO_0002432?NOT (not is active in) - OBO"
   ]
  },
  {
   "cell_type": "markdown",
   "metadata": {},
   "source": [
    "* The GO consortium"
   ]
  },
  {
   "cell_type": "code",
   "execution_count": null,
   "metadata": {},
   "outputs": [],
   "source": [
    "pro_go = pro_go_dict['pro_go_NOT|is_active_in'].groupby([':START_ID',':END_ID']).agg({'Source':set,'GO_evidence':set}).reset_index()\n",
    "pro_go[':TYPE'] = 'not_is_active_in'\n",
    "pro_go.to_pickle(unprocessed_edge_data_location+'OBO_not_is_active_in_OBO.pkl')\n",
    "pro_go.head(n=3)"
   ]
  },
  {
   "cell_type": "markdown",
   "metadata": {},
   "source": [
    "***\n",
    "### OBO - http://purl.obolibrary.org/obo/RO_0002325?NOT (not colocalizes with) - OBO"
   ]
  },
  {
   "cell_type": "markdown",
   "metadata": {},
   "source": [
    "* The GO consortium"
   ]
  },
  {
   "cell_type": "code",
   "execution_count": null,
   "metadata": {},
   "outputs": [],
   "source": [
    "pro_go = pd.concat([pro_go_dict['pro_go_NOT|colocalizes_with'],\n",
    "                    pro_go_dict['pro_go_NOT|colocalizes_with'].rename(columns={':START_ID':':END_ID',':END_ID':':START_ID'})])\n",
    "\n",
    "pro_go = pro_go.groupby([':START_ID',':END_ID']).agg({'Source':set,'GO_evidence':set}).reset_index()\n",
    "pro_go[':TYPE'] = 'not_colocalizes_with'\n",
    "pro_go.to_pickle(unprocessed_edge_data_location+'OBO_not_colocalizes_with_OBO.pkl')\n",
    "pro_go.head(n=3)"
   ]
  },
  {
   "cell_type": "markdown",
   "metadata": {},
   "source": [
    "***\n",
    "### OBO - http://purl.obolibrary.org/obo/RO_0002264?NOT (not acts upstream of or within) - OBO"
   ]
  },
  {
   "cell_type": "markdown",
   "metadata": {},
   "source": [
    "* The GO consortium"
   ]
  },
  {
   "cell_type": "code",
   "execution_count": null,
   "metadata": {},
   "outputs": [],
   "source": [
    "pro_go = pro_go_dict['pro_go_NOT|acts_upstream_of_or_within']\n",
    "\n",
    "pro_go = pro_go.groupby([':START_ID',':END_ID']).agg({'Source':set,'GO_evidence':set}).reset_index()\n",
    "pro_go[':TYPE'] = 'not_acts_upstream_of_or_within'\n",
    "pro_go.to_pickle(unprocessed_edge_data_location+'OBO_not_acts_upstream_of_or_within_OBO.pkl')\n",
    "pro_go.head(n=3)"
   ]
  },
  {
   "cell_type": "markdown",
   "metadata": {},
   "source": [
    "***\n",
    "### OBO - http://purl.obolibrary.org/obo/RO_0004033?NOT (not acts upstream of or within negative effect) - OBO"
   ]
  },
  {
   "cell_type": "markdown",
   "metadata": {},
   "source": [
    "* The GO consortium"
   ]
  },
  {
   "cell_type": "code",
   "execution_count": null,
   "metadata": {},
   "outputs": [],
   "source": [
    "pro_go = pro_go_dict['pro_go_NOT|acts_upstream_of_or_within_negative_effect']\n",
    "\n",
    "pro_go = pro_go.groupby([':START_ID',':END_ID']).agg({'Source':set,'GO_evidence':set}).reset_index()\n",
    "pro_go[':TYPE'] = 'not_acts_upstream_of_or_within_negative_effect'\n",
    "pro_go.to_pickle(unprocessed_edge_data_location+'OBO_not_acts_upstream_of_or_within_negative_effect_OBO.pkl')\n",
    "pro_go.head()"
   ]
  },
  {
   "cell_type": "markdown",
   "metadata": {},
   "source": [
    "***\n",
    "### COSMIC - http://purl.obolibrary.org/obo/RO_0002566 (causally influences) - OBO"
   ]
  },
  {
   "cell_type": "markdown",
   "metadata": {},
   "source": [
    "* [LncBook](https://ngdc.cncb.ac.cn/lncbook/)"
   ]
  },
  {
   "cell_type": "code",
   "execution_count": null,
   "metadata": {},
   "outputs": [],
   "source": [
    "!wget https://ngdc.cncb.ac.cn/lncbook/files/variation_LncBook2.0.csv.gz -O ../resources/processed_data/unprocessed_data/variation_LncBook2.0.csv.gz"
   ]
  },
  {
   "cell_type": "code",
   "execution_count": null,
   "metadata": {},
   "outputs": [],
   "source": [
    "lncRNA_disease2 = pd.read_csv(unprocessed_data_location+'variation_LncBook2.0.csv.gz').drop(\n",
    "    columns=['Symbol','ClinVar Allele ID','ClinVar Variation Effect','ClinVar Disease Name','Variant Name','dbSNP ID']) # Mondo+HPO\n",
    "print(lncRNA_disease2['COSMIC Variation Effect'].unique())\n",
    "lncRNA_disease2 = lncRNA_disease2[lncRNA_disease2['COSMIC Variation Effect'] == 'Pathogenic'].drop(columns=['COSMIC Variation Effect'])\n",
    "lncRNA_disease2 = lncRNA_disease2[lncRNA_disease2['COSMIC Tumor Name'] != '-']\n",
    "lncRNA_disease2['COSMIC Tumor Name'] = lncRNA_disease2['COSMIC Tumor Name'].str.split(';')\n",
    "lncRNA_disease2 = lncRNA_disease2.explode('COSMIC Tumor Name')\n",
    "lncRNA_disease2['COSMIC Tumor Name'] = lncRNA_disease2['COSMIC Tumor Name'].str.replace(r\"\\(.*?\\)\", \"\", regex=True)\n",
    "lncRNA_disease2['COSMIC Tumor Name'] = [desc[1:] if desc.startswith(' ') else\n",
    "                                       desc for desc in lncRNA_disease2['COSMIC Tumor Name']]\n",
    "lncRNA_disease2['COSMIC Tumor Name'] = lncRNA_disease2['COSMIC Tumor Name'].str.lower()\n",
    "\n",
    "lncRNA_disease2 = pd.merge(lncRNA_disease2, rnacentral_map_human_lncbook[['RNAcentral ID','LncBook Gene ID']].drop_duplicates().rename(\n",
    "    columns={'LncBook Gene ID':'Gene ID'}), on='Gene ID', how='left')\n",
    "lncRNA_disease2['RNAcentral ID'] = lncRNA_disease2['RNAcentral ID'].fillna(lncRNA_disease2['Gene ID'])\n",
    "\n",
    "lncRNA_disease2 = pd.merge(lncRNA_disease2, desc_disPhe_map, right_on=0, left_on='COSMIC Tumor Name')\n",
    "\n",
    "lncRNA_disease2['Source'] = 'LncBook'\n",
    "lncRNA_disease2.rename(columns={1:':END_ID','Gene ID':'Interactor','COSMIC Mutation ID':':START_ID'}, inplace=True) \n",
    "lncRNA_disease2.head(n=3)"
   ]
  },
  {
   "cell_type": "markdown",
   "metadata": {},
   "source": [
    "* SomamiR"
   ]
  },
  {
   "cell_type": "code",
   "execution_count": null,
   "metadata": {},
   "outputs": [],
   "source": [
    "miRNA_lncRNA2 = pd.read_csv(unprocessed_data_location+'lncRNA_somatic_v2.0.txt.tar.gz',sep='\\t',dtype={'PMID':str})\n",
    "miRNA_lncRNA2.drop(columns=['Unnamed: 18'],inplace=True) # Mondo+HPO\n",
    "miRNA_lncRNA2.rename(columns={'lncRNA_somatic_v2.0.txt':'Gene'},inplace=True)\n",
    "miRNA_lncRNA2['Gene'] = miRNA_lncRNA2['Gene'].str.replace(r'lnc-', '')\n",
    "miRNA_lncRNA2.rename(columns={'Gene': 'symbol', 'miRNA':'mir_id'}, inplace=True)\n",
    "miRNA_lncRNA2 = miRNA_lncRNA2[miRNA_lncRNA2['TargetScan_Site(0=No;1=Yes)'] == 1]\n",
    "\n",
    "lncpedia_map = pd.read_csv(\"https://lncipedia.org/downloads/lncipedia_5_0/lncipedia_5_0_vs_5_2.txt\", sep='\\t')\n",
    "miRNA_lncRNA2 = miRNA_lncRNA2.merge(lncpedia_map.rename(columns={'LNCipedia 5.0 Transcript ID':'Transcript'}),\n",
    "                                    on='Transcript').drop(columns=['Transcript']).rename(\n",
    "                                        columns={'LNCipedia 5.2 Transcript ID':'Transcript'})\n",
    "miRNA_lncRNA2 = pd.merge(rnacentral_map_human_lncipedia.rename(columns={'LNCipedia transcript ID':'Transcript'}),\n",
    "                         miRNA_lncRNA2, on='Transcript', how='left')\n",
    "\n",
    "miRNA_lncRNA2['RNAcentral ID'] = miRNA_lncRNA2['RNAcentral ID'].fillna(miRNA_lncRNA2['Transcript'])\n",
    "\n",
    "miRNA_lncRNA2 = miRNA_lncRNA2.drop(columns=['symbol','Chromosome','Location','Ref_Allele','Sample_Name',\n",
    "                                            'Mut_Allele','FuncClass','Alteration','Target_Site',\n",
    "                                            'Seed','SeedClass', 'TargetScan_Site(0=No;1=Yes)','Mut_ID'])\n",
    "\n",
    "miRNA_lncRNA2 = miRNA_lncRNA2[miRNA_lncRNA2['Cancer_Class'].notna()]\n",
    "miRNA_lncRNA2['Cancer_Class'] = miRNA_lncRNA2['Cancer_Class'].str.lower()\n",
    "miRNA_lncRNA2['Cancer_Class'].str.replace('[ns]','[cancer]')\n",
    "miRNA_lncRNA2['Cancer_Class'] = miRNA_lncRNA2['Cancer_Class'].apply(\n",
    "    lambda x: ' '.join([x.split('[')[1].split(']')[0], x.split('[')[-1].split(']')[0]])).str.replace('_', ' ')\n",
    "\n",
    "miRNA_lncRNA2['PMID'] = pd.to_numeric(miRNA_lncRNA2['PMID'], errors='coerce')\n",
    "miRNA_lncRNA2['PMID'] = miRNA_lncRNA2['PMID'].astype(str)\n",
    "miRNA_lncRNA2['PMID'] = miRNA_lncRNA2['PMID'].str.replace(\".0\", \"\")\n",
    "miRNA_lncRNA2['PMID'] = miRNA_lncRNA2['PMID'].replace(\"<NA>\", np.nan)\n",
    "miRNA_lncRNA2['PMID'] = miRNA_lncRNA2['PMID'].replace(\"nan\", np.nan)\n",
    "\n",
    "miRNA_lncRNA2 = pd.merge(miRNA_lncRNA2, desc_disPhe_map, right_on=0, left_on='Cancer_Class')\n",
    "miRNA_lncRNA2 = pd.concat([miRNA_lncRNA2.rename(columns={'mir_id':'Interactor'}), miRNA_lncRNA2.rename(columns={'RNAcentral ID':'Interactor'})])\n",
    "\n",
    "miRNA_lncRNA2['Source'] = 'SomamiR'\n",
    "miRNA_lncRNA3 = miRNA_lncRNA2.copy()\n",
    "miRNA_lncRNA3['Source'] = 'TargetScan'\n",
    "miRNA_lncRNA2 = pd.concat([miRNA_lncRNA2, miRNA_lncRNA3])\n",
    "miRNA_lncRNA2.rename(columns={'COSMIC_ID':':START_ID',1:':END_ID','PMID':'PubMedID'}, inplace=True)\n",
    "miRNA_lncRNA2.head(n=3)"
   ]
  },
  {
   "cell_type": "code",
   "execution_count": null,
   "metadata": {},
   "outputs": [],
   "source": [
    "data_downloader('https://compbio.uthsc.edu/SomamiR/download/miRNA_somatic_v2.0.txt.tar.gz', unprocessed_data_location)"
   ]
  },
  {
   "cell_type": "code",
   "execution_count": null,
   "metadata": {},
   "outputs": [],
   "source": [
    "somamir = pd.read_csv(unprocessed_data_location +\n",
    "                      'miRNA_somatic_v2.0.txt.tar',sep='\\t').drop(\n",
    "                          columns=['Reference','Derived','SNP','Whole_Genome','Whole_Exome','Study_ID','Source',\n",
    "                          'miRNA_Chromosome','Strand','Maturestart','Matureend','Mutation_Distance','Regioin',\n",
    "                            'miR2GO_Execution_Sequence','Unnamed: 19','Sample_Name']) # Mondo+HPO\n",
    "somamir.Cancer_Type = somamir.Cancer_Type.str.replace(\"[NS]\",\"\")\n",
    "somamir = somamir[somamir.Cancer_Type!=\"\"]\n",
    "somamir['Cancer_Type'] = somamir['Cancer_Type'].apply(\n",
    "    lambda x: ' '.join([x.split('[')[1].split(']')[0], x.split('[')[-1].split(']')[0]])).str.replace('_', ' ')\n",
    "\n",
    "somamir = pd.merge(somamir, desc_disPhe_map, right_on=0, left_on='Cancer_Type')\n",
    "\n",
    "somamir['Source'] = 'SomamiR'\n",
    "somamir = somamir.rename(columns={'miRNA_Name':'Interactor',1:':END_ID','COSMIC_ID':':START_ID'})\n",
    "somamir.head(n=3)"
   ]
  },
  {
   "cell_type": "code",
   "execution_count": null,
   "metadata": {},
   "outputs": [],
   "source": [
    "circRNA_miRNA = pd.read_csv(unprocessed_data_location + 'circRNA_somatic_v2.0.txt.tar.gz', sep=\"\\t\")\n",
    "circRNA_miRNA = circRNA_miRNA[circRNA_miRNA['TargetScan_Site(0=No;1=Yes)'] == 1]\n",
    "circRNA_miRNA = circRNA_miRNA.drop(columns=['Gene','Mut_ID','Chromosome','Location','Mut_Allele','FuncClass','Alteration','Ref_Allele',\n",
    "                                            'Target_Site','Seed','SeedClass','TargetScan_Site(0=No;1=Yes)','Sample_Name','Unnamed: 18'])\n",
    "\n",
    "circRNA_miRNA['PMID'] = pd.to_numeric(circRNA_miRNA['PMID'], errors='coerce')\n",
    "circRNA_miRNA['PMID'] = circRNA_miRNA['PMID'].astype(str)\n",
    "circRNA_miRNA['PMID'] = circRNA_miRNA['PMID'].str.replace(\".0\", \"\")\n",
    "circRNA_miRNA['PMID'] = circRNA_miRNA['PMID'].replace(\"<NA>\", np.nan)\n",
    "circRNA_miRNA['PMID'] = circRNA_miRNA['PMID'].replace(\"nan\", np.nan)\n",
    "\n",
    "circRNA_miRNA['Cancer_Class'] = circRNA_miRNA['Cancer_Class'].str.lower()\n",
    "circRNA_miRNA['Cancer_Class'] = circRNA_miRNA['Cancer_Class'].str.replace('[ns]','')\n",
    "circRNA_miRNA['Cancer_Class'] = circRNA_miRNA['Cancer_Class'].str.replace('_',' ')\n",
    "circRNA_miRNA['Cancer_Class'] = circRNA_miRNA['Cancer_Class'].astype(str).apply(\n",
    "     lambda x: ' '.join(re.findall(r'\\[(.*?)\\]', x)) if '[' in x and ']' in x else x)\n",
    "circRNA_miRNA = circRNA_miRNA.explode('Cancer_Class')\n",
    "\n",
    "circRNA_miRNA = pd.merge(circRNA_miRNA, desc_disPhe_map, right_on=0, left_on='Cancer_Class')\n",
    "circRNA_miRNA = pd.concat([circRNA_miRNA.rename(columns={'Transcript':'Interactor'}), circRNA_miRNA.rename(columns={'miRNA':'Interactor'})])\n",
    "\n",
    "circRNA_miRNA['Source'] = 'SomamiR'\n",
    "circRNA_miRNA2 = circRNA_miRNA.copy()\n",
    "circRNA_miRNA2['Source'] = 'TargetScan'\n",
    "circRNA_miRNA = pd.concat([circRNA_miRNA, circRNA_miRNA2])\n",
    "RNA_RNA8 = circRNA_miRNA.rename(columns={1:':END_ID','COSMIC_ID':':START_ID', 'PMID':'PubMedID'}).drop_duplicates()\n",
    "RNA_RNA8.head(n=3)"
   ]
  },
  {
   "cell_type": "code",
   "execution_count": null,
   "metadata": {},
   "outputs": [],
   "source": [
    "cosmic_causally_influences_OBO = pd.concat([lncRNA_disease2, miRNA_lncRNA2, somamir, RNA_RNA8])\n",
    "cosmic_causally_influences_OBO = cosmic_causally_influences_OBO.groupby([':START_ID',':END_ID']).agg({'Source':set,\n",
    "                                                                                                      'Interactor':set,\n",
    "                                                                                                      'PubMedID':set}).reset_index()\n",
    "cosmic_causally_influences_OBO[':TYPE'] = 'causally_influences'\n",
    "cosmic_causally_influences_OBO.to_pickle(unprocessed_edge_data_location+'COSMIC_causally_influences_OBO.pkl')\n",
    "\n",
    "OBO_causally_influenced_by_COSMIC = cosmic_causally_influences_OBO.rename(columns={':START_ID':':END_ID',':END_ID':':START_ID'})\n",
    "OBO_causally_influenced_by_COSMIC[':TYPE'] = 'causally_influenced_by'\n",
    "OBO_causally_influenced_by_COSMIC.to_pickle(unprocessed_edge_data_location+'OBO_causally_influenced_by_COSMIC.pkl')\n",
    "OBO_causally_influenced_by_COSMIC.head(n=3)"
   ]
  },
  {
   "cell_type": "markdown",
   "metadata": {},
   "source": [
    "\n",
    "<br>\n",
    "\n",
    "***\n",
    "***\n",
    "\n",
    "```\n",
    "@misc{cavalleri_e_2024_rna_kg,\n",
    "  author       = {Cavalleri, E},\n",
    "  title        = {RNA-KG},\n",
    "  year         = 2024,\n",
    "  doi          = {10.5281/zenodo.10078876},\n",
    "  url          = {https://doi.org/10.5281/zenodo.10078876}\n",
    "}\n",
    "```"
   ]
  }
 ],
 "metadata": {
  "kernelspec": {
   "display_name": "Python 3",
   "language": "python",
   "name": "python3"
  },
  "language_info": {
   "codemirror_mode": {
    "name": "ipython",
    "version": 3
   },
   "file_extension": ".py",
   "mimetype": "text/x-python",
   "name": "python",
   "nbconvert_exporter": "python",
   "pygments_lexer": "ipython3",
   "version": "3.10.12"
  },
  "latex_envs": {
   "LaTeX_envs_menu_present": true,
   "autoclose": false,
   "autocomplete": true,
   "bibliofile": "biblio.bib",
   "cite_by": "apalike",
   "current_citInitial": 1,
   "eqLabelWithNumbers": true,
   "eqNumInitial": 1,
   "hotkeys": {
    "equation": "Ctrl-E",
    "itemize": "Ctrl-I"
   },
   "labels_anchors": false,
   "latex_user_defs": false,
   "report_style_numbering": false,
   "user_envs_cfg": false
  },
  "pycharm": {
   "stem_cell": {
    "cell_type": "raw",
    "metadata": {
     "collapsed": false
    },
    "source": []
   }
  }
 },
 "nbformat": 4,
 "nbformat_minor": 4
}
