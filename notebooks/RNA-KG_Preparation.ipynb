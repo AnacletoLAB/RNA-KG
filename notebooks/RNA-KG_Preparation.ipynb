{
 "cells": [
  {
   "cell_type": "markdown",
   "metadata": {
    "collapsed": true
   },
   "source": [
    "# <p style=\"text-align: center;\">RNA Knowledge Graph Build Data Preparation</p>\n",
    "    \n",
    "***\n",
    "***\n",
    "\n",
    "**Authors:** [ECavalleri](https://mail.google.com/mail/u/0/?view=cm&fs=1&tf=1&to=emanuele.cavalleri@unimi.it), [TJCallahan](https://mail.google.com/mail/u/0/?view=cm&fs=1&tf=1&to=callahantiff@gmail.com)\n",
    "\n",
    "**GitHub Repositories:** [RNA-KG](https://github.com/AnacletoLAB/RNA-KG/), [PheKnowLator](https://github.com/callahantiff/PheKnowLator/)  \n",
    "<!--- **Release:** **[v2.0.0](https://github.com/callahantiff/PheKnowLator/wiki/v2.0.0)** --->\n",
    "  \n",
    "<br>  \n",
    "  \n",
    "**Purpose:** This notebook serves as a script to download, process, map, and clean data in order to build edges for the RNA-centered Knowledge Graph.\n",
    "\n",
    "<br>\n",
    "\n",
    "**Assumptions:**   \n",
    "- Edge data downloads ➞ `./resources/edge_data`  \n",
    "- Ontologies ➞ `./resources/ontologies`    \n",
    "- Processed data write location ➞ `./resources/processed_data`  \n",
    "\n",
    "<br>\n",
    "\n",
    "**Dependencies:**   \n",
    "- **Scripts**: This notebook utilizes several helper functions, which are stored in the [`data_utils.py`](https://github.com/callahantiff/PheKnowLator/blob/master/pkt_kg/utils/data_utils.py) and [`kg_utils.py`](https://github.com/callahantiff/PheKnowLator/blob/master/pkt_kg/utils/kg_utils.py) scripts.  \n",
    "- **Data**: All downloaded and generated data sources are provided through [10.5281/zenodo.10078877](https://doi.org/10.5281/zenodo.10078877) dedicated repository. <u>This notebook will download everything that is needed for you</u>.  \n",
    "_____\n",
    "***"
   ]
  },
  {
   "cell_type": "markdown",
   "metadata": {},
   "source": [
    "## Table of Contents\n",
    "***\n",
    "\n",
    "### [Download Ontologies](#create-ontologies)\n",
    "\n",
    "\n",
    "### [Create Identifier Maps](#create-identifier-maps)   \n",
    "\n",
    "\n",
    "### [Download and process Edge Datasets](#create-edges)  \n",
    "\n",
    "____\n",
    "***"
   ]
  },
  {
   "cell_type": "markdown",
   "metadata": {},
   "source": [
    "## Set-Up Environment\n",
    "_____"
   ]
  },
  {
   "cell_type": "code",
   "execution_count": null,
   "metadata": {},
   "outputs": [],
   "source": [
    "%%capture\n",
    "import sys\n",
    "!{sys.executable} -m pip install -r requirements.txt\n",
    "sys.path.append('../')"
   ]
  },
  {
   "cell_type": "code",
   "execution_count": null,
   "metadata": {},
   "outputs": [],
   "source": [
    "# import needed libraries\n",
    "import datetime\n",
    "import glob\n",
    "import itertools\n",
    "import networkx\n",
    "import numpy\n",
    "import os\n",
    "import pickle\n",
    "import re\n",
    "import requests\n",
    "import tarfile\n",
    "import shutil\n",
    "import pandas as pd\n",
    "import gffpandas.gffpandas as gffpd\n",
    "import numpy as np\n",
    "pd.set_option('display.max_columns', None)\n",
    "import re\n",
    "\n",
    "from collections import Counter\n",
    "from functools import reduce\n",
    "from rdflib import Graph, Namespace, URIRef, BNode, Literal\n",
    "from rdflib.namespace import OWL, RDF, RDFS\n",
    "from reactome2py import content\n",
    "from tqdm import tqdm\n",
    "from typing import Dict\n",
    "\n",
    "from pkt_kg.utils import * \n",
    "from builds.ontology_cleaning import *\n",
    "\n",
    "from Bio import SeqIO, Entrez\n",
    "\n",
    "from Bio.SeqIO.FastaIO import SimpleFastaParser\n",
    "\n",
    "from typing import Tuple"
   ]
  },
  {
   "cell_type": "markdown",
   "metadata": {},
   "source": [
    "#### Define Global Variables"
   ]
  },
  {
   "cell_type": "code",
   "execution_count": null,
   "metadata": {},
   "outputs": [],
   "source": [
    "# directory to store resources\n",
    "resource_data_location = '../resources/'    \n",
    "\n",
    "# directory to use for unprocessed data\n",
    "unprocessed_data_location = '../resources/processed_data/unprocessed_data/'\n",
    "\n",
    "# directory to use for processed data\n",
    "processed_data_location = '../resources/processed_data/'\n",
    "\n",
    "# directory to write relations data to\n",
    "relations_data_location = '../resources/relations_data/'\n",
    "\n",
    "# directory to write ontology data to\n",
    "ontology_data_location = '../resources/ontologies/'\n",
    "\n",
    "# directory to write edges data to\n",
    "edge_data_location = '../resources/edge_data/'\n",
    "\n",
    "# processed data url \n",
    "processed_url = 'https://storage.googleapis.com/pheknowlator/current_build/data/processed_data/'\n",
    "\n",
    "# original data url \n",
    "original_url = 'https://storage.googleapis.com/pheknowlator/current_build/data/original_data/'\n",
    "\n",
    "# owltools location\n",
    "owltools_location = '../pkt_kg/libs/owltools'"
   ]
  },
  {
   "cell_type": "markdown",
   "metadata": {},
   "source": [
    "***\n",
    "***\n",
    "## DOWNLOAD AND PROCESS ONTOLOGIES  <a class=\"anchor\" id=\"create-ontologies\"></a>\n",
    "***\n",
    "***"
   ]
  },
  {
   "cell_type": "code",
   "execution_count": null,
   "metadata": {},
   "outputs": [],
   "source": [
    "onto_list = ['ro', 'chebi', 'pr', 'mondo', 'go/extensions/go-plus', 'pw', 'so', 'hp/hp-international', 'uberon', 'vo', 'clo']\n",
    "\n",
    "for ontology in onto_list:\n",
    "    data_downloader('http://purl.obolibrary.org/obo/' + ontology + '.owl', ontology_data_location)\n",
    "\n",
    "# For compatibility with the PheKnowLator ecosystem, we rename the ontology files to match the naming convention\n",
    "for filename in os.listdir(ontology_data_location):\n",
    "    if filename.endswith(\".owl\"):\n",
    "        new_filename = filename.replace(\".owl\", \"_with_imports.owl\")\n",
    "        os.rename(os.path.join(ontology_data_location, filename), os.path.join(ontology_data_location, new_filename))\n",
    "\n",
    "# PRO is already edited by PheKnowLator in order to contain only terms specifying human proteins\n",
    "data_downloader(processed_url + 'pr_with_imports.owl', ontology_data_location)\n",
    "\n",
    "os.rename(os.path.join(ontology_data_location, 'go-plus_with_imports.owl'), os.path.join(ontology_data_location, 'go_with_imports.owl'))\n",
    "os.rename(os.path.join(ontology_data_location, 'hp-international_with_imports.owl'), os.path.join(ontology_data_location, 'hp_with_imports.owl'))\n",
    "os.rename(os.path.join(ontology_data_location, 'uberon_with_imports.owl'), os.path.join(ontology_data_location, 'ext_with_imports.owl'))"
   ]
  },
  {
   "cell_type": "markdown",
   "metadata": {},
   "source": [
    "### Identify Relations and Inverse Relations"
   ]
  },
  {
   "cell_type": "code",
   "execution_count": null,
   "metadata": {},
   "outputs": [],
   "source": [
    "ro_graph = Graph().parse(ontology_data_location + 'ro_with_imports.owl')\n",
    "\n",
    "with open(relations_data_location + 'INVERSE_RELATIONS.txt', 'w') as outfile:\n",
    "    outfile.write('Relation' + '\\t' + 'Inverse_Relation' + '\\n')\n",
    "    for s, p, o in tqdm(ro_graph):\n",
    "        if 'owl#inverseOf' in str(p):\n",
    "            if 'RO' in str(s) and 'RO' in str(o):\n",
    "                outfile.write(str(s.split('/')[-1]) + '\\t' + str(o.split('/')[-1]) + '\\n')\n",
    "                outfile.write(str(o.split('/')[-1]) + '\\t' + str(s.split('/')[-1]) + '\\n')\n",
    "\n",
    "ro_data = pd.read_csv(relations_data_location + 'INVERSE_RELATIONS.txt', header=0, delimiter='\\t')\n",
    "\n",
    "print('There are {edge_count} RO Relations and Inverse Relations'.format(edge_count=len(ro_data)))\n",
    "print(ro_data.head(n=5))\n",
    "\n",
    "results = {str(x[2]).lower(): str(x[0]) for x in ro_graph if '/RO_' in str(x[0]) and 'label' in str(x[1]).lower()}\n",
    "\n",
    "with open(relations_data_location + 'RELATIONS_LABELS.txt', 'w') as outfile:\n",
    "    outfile.write('Label' + '\\t' + 'Relation' + '\\n')\n",
    "    for k, v in results.items():\n",
    "        outfile.write(str(v).split('/')[-1] + '\\t' + str(k) + '\\n')\n",
    "\n",
    "ro_data_label = pd.read_csv(relations_data_location + 'RELATIONS_LABELS.txt', header=0, delimiter='\\t')\n",
    "\n",
    "print('There are {edge_count} RO Relations and Labels'.format(edge_count=len(ro_data_label)))\n",
    "print(ro_data_label.head(n=5))"
   ]
  },
  {
   "cell_type": "markdown",
   "metadata": {},
   "source": [
    "At this point, please run the [<tt>Ontology_Cleaning.ipynb</tt>](https://github.com/callahantiff/PheKnowLator/blob/master/notebooks/Ontology_Cleaning.ipynb) notebook provided by PKT."
   ]
  },
  {
   "cell_type": "markdown",
   "metadata": {},
   "source": [
    "***\n",
    "***\n",
    "## DOWNLOAD AND CREATE MAPPING DATASETS  <a class=\"anchor\" id=\"create-identifier-maps\"></a>\n",
    "***\n",
    "***"
   ]
  },
  {
   "cell_type": "markdown",
   "metadata": {},
   "source": [
    "### Mappings provided by the PheKnowLator ecosystem"
   ]
  },
  {
   "cell_type": "code",
   "execution_count": null,
   "metadata": {},
   "outputs": [],
   "source": [
    "for edge in ['ENTREZ_GENE_PRO_ONTOLOGY_MAP.txt',\n",
    "'ENTREZ_GENE_ENSEMBL_TRANSCRIPT_MAP.txt',\n",
    "'HPA_GTEX_RNA_GENE_PROTEIN_EDGES.txt',\n",
    "'UNIPROT_PROTEIN_CATALYST.txt',\n",
    "'HPA_GTEX_RNA_GENE_PROTEIN_EDGES.txt',\n",
    "'UNIPROT_PROTEIN_COFACTOR.txt',\n",
    "'HPA_GTEX_RNA_GENE_PROTEIN_EDGES.txt',\n",
    "'ENSEMBL_TRANSCRIPT_PROTEIN_ONTOLOGY_MAP.txt',\n",
    "'CLINVAR_VARIANT_GENE_DISEASE_PHENOTYPE_EDGES.txt']:\n",
    "    data_downloader(processed_url+edge, processed_data_location)\n",
    "\n",
    "for map_txt in ['DISEASE_MONDO_MAP.txt', 'ENSEMBL_GENE_ENTREZ_GENE_MAP.txt',\n",
    "            'ENTREZ_GENE_PRO_ONTOLOGY_MAP.txt', 'GENE_SYMBOL_ENSEMBL_TRANSCRIPT_MAP.txt',\n",
    "            'MESH_CHEBI_MAP.txt', 'ENTREZ_GENE_ENSEMBL_TRANSCRIPT_MAP.txt', 'STRING_PRO_ONTOLOGY_MAP.txt',\n",
    "            'UNIPROT_ACCESSION_PRO_ONTOLOGY_MAP.txt','REACTOME_PW_GO_MAPPINGS.txt']:\n",
    "        data_downloader(processed_url+map_txt, processed_data_location)"
   ]
  },
  {
   "cell_type": "markdown",
   "metadata": {},
   "source": [
    "***\n",
    "### New mappings"
   ]
  },
  {
   "cell_type": "raw",
   "metadata": {},
   "source": [
    "CODICE PER MAPPARE CON 90% treshold ANZICHè JOIN con CONDIZIONE == tra STRINGHE: (QUI l'HO fatto per MIRNA-CHEMICAL ma basta cambiare nome colonne)\n",
    "\n",
    "from fuzzywuzzy import fuzz\n",
    "from fuzzywuzzy import process\n",
    "\n",
    "# Function to find all matches above a certain threshold\n",
    "def find_matches(x, choices, threshold=90):\n",
    "    return process.extract(x, choices, scorer=fuzz.token_set_ratio, limit=None)\n",
    "\n",
    "# Apply the function to each value in 'small melocule'\n",
    "matches = miRNA_chemical['small melocule'].apply(lambda x: find_matches(x, desc_chebi_map[0]))\n",
    "\n",
    "# Filter matches to keep only those above the threshold\n",
    "matches_above_threshold = matches.apply(lambda x: [match for match in x if match[1] >= 90])\n",
    "\n",
    "# Extracting relevant information from the matches\n",
    "matched_values = matches_above_threshold.apply(lambda x: [desc_chebi_map[1][match[2]] for match in x] if x else None)\n",
    "\n",
    "# Assigning the matched values to the 'CHEBI' column in the DataFrame\n",
    "miRNA_chemical['CHEBI'] = matched_values"
   ]
  },
  {
   "cell_type": "markdown",
   "metadata": {},
   "source": [
    "***\n",
    "### Chemical labels+synonyms from ChEBI - ChEBI mapping\n",
    "\n",
    "\n",
    "**Purpose:** To map Chemical labels+synonyms from ChEBI to ChEBI identifiers.\n",
    "\n",
    "**Output:** `DESC_CHEBI_MAP.txt` + `SYN_CHEBI_MAP.txt`"
   ]
  },
  {
   "cell_type": "code",
   "execution_count": null,
   "metadata": {},
   "outputs": [],
   "source": [
    "# Get dbxrefs for all ontology classes' label\n",
    "def gets_ontology_class_label(graph: Graph) -> Tuple:\n",
    "    dbx_uris: Dict = dict()\n",
    "    dbx = [x for x in graph if 'label' in str(x[1]).lower() if isinstance(x[0], URIRef)]\n",
    "    for x in dbx:\n",
    "        if str(x[2]).lower() in dbx_uris.keys(): dbx_uris[str(x[2]).lower()].append(str(x[0]))\n",
    "        else: dbx_uris[str(x[2]).lower()] = [str(x[0])]\n",
    "    dbx_type = {str(x[2]).lower(): 'DbXref' for x in dbx}\n",
    "\n",
    "    ex_uris: Dict = dict()\n",
    "    ex = [x for x in graph if 'exactmatch' in str(x[1]).lower() if isinstance([0], URIRef)]\n",
    "    for x in ex:\n",
    "        if str(x[2]).lower() in ex_uris.keys(): ex_uris[str(x[2]).lower()].append(str(x[0]))\n",
    "        else: ex_uris[str(x[2]).lower()] = [str(x[0])]\n",
    "    ex_type = {str(x[2]).lower(): 'ExactMatch' for x in ex}\n",
    "\n",
    "    return {**dbx_uris, **ex_uris}, {**dbx_type, **ex_type}"
   ]
  },
  {
   "cell_type": "code",
   "execution_count": null,
   "metadata": {},
   "outputs": [],
   "source": [
    "# Get dbxrefs for all ontology classes' label\n",
    "def gets_ontology_class_synonym(graph: Graph) -> Tuple:\n",
    "    dbx_uris: Dict = dict()\n",
    "    dbx = [x for x in graph if 'synonym' in str(x[1]).lower() if isinstance(x[0], URIRef)]\n",
    "    for x in dbx:\n",
    "        if str(x[2]).lower() in dbx_uris.keys(): dbx_uris[str(x[2]).lower()].append(str(x[0]))\n",
    "        else: dbx_uris[str(x[2]).lower()] = [str(x[0])]\n",
    "    dbx_type = {str(x[2]).lower(): 'DbXref' for x in dbx}\n",
    "\n",
    "    ex_uris: Dict = dict()\n",
    "    ex = [x for x in graph if 'exactmatch' in str(x[1]).lower() if isinstance([0], URIRef)]\n",
    "    for x in ex:\n",
    "        if str(x[2]).lower() in ex_uris.keys(): ex_uris[str(x[2]).lower()].append(str(x[0]))\n",
    "        else: ex_uris[str(x[2]).lower()] = [str(x[0])]\n",
    "    ex_type = {str(x[2]).lower(): 'ExactMatch' for x in ex}\n",
    "\n",
    "    return {**dbx_uris, **ex_uris}, {**dbx_type, **ex_type}"
   ]
  },
  {
   "cell_type": "code",
   "execution_count": null,
   "metadata": {},
   "outputs": [],
   "source": [
    "# Get label+synonym look-up table for an ontology\n",
    "def gets_ontology_lookup(ontology_name, with_import=True) :\n",
    "    # with_import --> integrated ontologies; without_import --> ontologies used to standardize edge metadata\n",
    "    if with_import :\n",
    "        graph = Graph().parse(ontology_data_location + ontology_name + '_with_imports.owl')\n",
    "    else :\n",
    "        graph = Graph().parse(ontology_data_location + ontology_name + '.owl')\n",
    "\n",
    "    label = gets_ontology_class_label(graph)[0]\n",
    "    graph_dict = {str(k): {str(i).split('/')[-1] for i in v} for k, v in label.items()}\n",
    "\n",
    "    with open(unprocessed_data_location + 'DESC_' + ontology_name.upper() + '_MAP.txt', 'w') as outfile:\n",
    "        for k, v in {**graph_dict}.items():\n",
    "            outfile.write(str(k) + '\\t' + str(v).replace('{','').replace('\\'','').replace('}','') + '\\n')\n",
    "\n",
    "    desc_map = pd.read_csv(unprocessed_data_location+'DESC_' + ontology_name.upper() + '_MAP.txt',\n",
    "                           header=None, delimiter='\\t')\n",
    "    desc_map[1] = desc_map[1].str.split(', ')\n",
    "    desc_map = desc_map.explode(1)\n",
    "\n",
    "    syn = gets_ontology_class_synonym(graph)[0]\n",
    "    graph_dict = {str(k): {str(i).split('/')[-1] for i in v} for k, v in syn.items()}\n",
    "\n",
    "    with open(unprocessed_data_location + 'SYN_' + ontology_name.upper() + '_MAP.txt', 'w') as outfile:\n",
    "        for k, v in {**graph_dict}.items():\n",
    "            outfile.write(str(k) + '\\t' + str(v).replace('{','').replace('\\'','').replace('}','') + '\\n')\n",
    "\n",
    "    syn_map = pd.read_csv(unprocessed_data_location+'SYN_' + ontology_name.upper() + '_MAP.txt',\n",
    "                          header=None, delimiter='\\t')\n",
    "    syn_map[1] = syn_map[1].str.split(', ')\n",
    "    syn_map = syn_map.explode(1)\n",
    "    desc_map = pd.concat([desc_map, syn_map], ignore_index=True).drop_duplicates()\n",
    "    desc_map.to_csv(processed_data_location + 'DESC_' + ontology_name.upper() + '_MAP.txt',\n",
    "                    header=None, sep='\\t', index=None)\n",
    "    return desc_map"
   ]
  },
  {
   "cell_type": "code",
   "execution_count": null,
   "metadata": {},
   "outputs": [],
   "source": [
    "desc_chebi_map = gets_ontology_lookup('chebi')\n",
    "desc_chebi_map"
   ]
  },
  {
   "cell_type": "code",
   "execution_count": null,
   "metadata": {},
   "outputs": [],
   "source": [
    "# If chuncks above have already been run, uncomment and run the following line to speed up construction:\n",
    "desc_chebi_map = pd.read_csv(processed_data_location + 'DESC_CHEBI_MAP.txt', header=None, sep='\\t')"
   ]
  },
  {
   "cell_type": "markdown",
   "metadata": {},
   "source": [
    "***\n",
    "### GO terms' label+synonym from GO - GO mapping\n",
    "\n",
    "\n",
    "**Purpose:** To map GO terms' label+synonym from GO to GO identifiers.\n",
    "\n",
    "**Output:** `DESC_GO_MAP.txt` + `SYN_GO_MAP.txt`"
   ]
  },
  {
   "cell_type": "code",
   "execution_count": null,
   "metadata": {},
   "outputs": [],
   "source": [
    "desc_go_map = gets_ontology_lookup('go')\n",
    "desc_go_map"
   ]
  },
  {
   "cell_type": "code",
   "execution_count": null,
   "metadata": {},
   "outputs": [],
   "source": [
    "# If chunck above has already been run, uncomment and run the following line to speed up construction:\n",
    "desc_go_map = pd.read_csv(processed_data_location + 'DESC_GO_MAP.txt', header=None, sep='\\t')"
   ]
  },
  {
   "cell_type": "markdown",
   "metadata": {},
   "source": [
    "***\n",
    "### Pathways labels from Reactome - Reactome mapping\n",
    "\n",
    "\n",
    "**Purpose:** To map Reactome pathways labels from Reactome to Reactome identifiers.\n",
    "\n",
    "**Output:** `DESC_REACTOME_MAP.txt`"
   ]
  },
  {
   "cell_type": "code",
   "execution_count": null,
   "metadata": {},
   "outputs": [],
   "source": [
    "data_downloader('https://raw.githubusercontent.com/ComPath/resources/master/mappings/kegg_reactome.csv',\n",
    "                unprocessed_data_location, 'kegg_reactome.csv')\n",
    "\n",
    "kegg_reactome_map = pd.read_csv(unprocessed_data_location + 'kegg_reactome.csv', header=0, delimiter=',')[['Source Name','Source ID']]\n",
    "kegg_reactome_map.columns=[0,1]\n",
    "kegg_reactome_map[0] = kegg_reactome_map[0].str.lower()\n",
    "kegg_reactome_map"
   ]
  },
  {
   "cell_type": "code",
   "execution_count": null,
   "metadata": {},
   "outputs": [],
   "source": [
    "data_downloader('https://reactome.org/download/current/ReactomePathways.txt', unprocessed_data_location)\n",
    "\n",
    "reactome_pathways = pd.read_csv(unprocessed_data_location + 'ReactomePathways.txt', header=None, delimiter='\\t')\n",
    "# remove all non-human pathways\n",
    "reactome_pathways = reactome_pathways[reactome_pathways[2] == 'Homo sapiens'][[0,1]]\n",
    "reactome_pathways.columns=[1,0]\n",
    "reactome_pathways[0] = reactome_pathways[0].str.lower()\n",
    "reactome_pathways"
   ]
  },
  {
   "cell_type": "code",
   "execution_count": null,
   "metadata": {},
   "outputs": [],
   "source": [
    "desc_reactome_map = pd.concat([kegg_reactome_map, reactome_pathways])\n",
    "desc_reactome_map.to_csv(processed_data_location + \"DESC_REACTOME_MAP.txt\", header=False, sep=\"\\t\",index=False)\n",
    "desc_reactome_map"
   ]
  },
  {
   "cell_type": "code",
   "execution_count": null,
   "metadata": {},
   "outputs": [],
   "source": [
    "# If chunck above has already been run, uncomment and run the following line to speed up construction:\n",
    "desc_reactome_map = pd.read_csv(processed_data_location + 'DESC_REACTOME_MAP.txt', header=None, sep='\\t')"
   ]
  },
  {
   "cell_type": "markdown",
   "metadata": {},
   "source": [
    "***\n",
    "### Pathways labels from PW - PW mapping\n",
    "\n",
    "\n",
    "**Purpose:** To map pathways labels from PW to PW identifiers.\n",
    "\n",
    "**Output:** `DESC_REACTOME_MAP.txt` + `SYN_REACTOME_MAP.txt`"
   ]
  },
  {
   "cell_type": "code",
   "execution_count": null,
   "metadata": {},
   "outputs": [],
   "source": [
    "desc_pw_map = gets_ontology_lookup('pw')\n",
    "desc_pw_map"
   ]
  },
  {
   "cell_type": "code",
   "execution_count": null,
   "metadata": {},
   "outputs": [],
   "source": [
    "# If chunck above has already been run, uncomment and run the following line to speed up construction:\n",
    "desc_pw_map = pd.read_csv(processed_data_location + 'DESC_PW_MAP.txt', header=None, sep='\\t')"
   ]
  },
  {
   "cell_type": "markdown",
   "metadata": {},
   "source": [
    "***\n",
    "### miRNA - miRBase mapping <a class=\"anchor\" id=\"ensemblgene-entrezgene\"></a>\n",
    "\n",
    "\n",
    "**Purpose:** To map miRNA and stem-loop miRNA to miRBase identifiers.\n",
    "\n",
    "**Output:** `MIRNA_MIRBASE_MAP.txt`\n",
    "\n",
    "Note: Provided by [miRBase](https://www.mirbase.org/)."
   ]
  },
  {
   "cell_type": "code",
   "execution_count": null,
   "metadata": {},
   "outputs": [],
   "source": [
    "data_downloader('https://www.mirbase.org/download/hsa.gff3', unprocessed_data_location)\n",
    "\n",
    "miRBaseMap = gffpd.read_gff3(unprocessed_data_location + 'hsa.gff3')  \n",
    "os.remove(unprocessed_data_location + 'hsa.gff3')\n",
    "print(miRBaseMap.header)\n",
    "print(miRBaseMap.df)"
   ]
  },
  {
   "cell_type": "code",
   "execution_count": null,
   "metadata": {},
   "outputs": [],
   "source": [
    "miRBaseMap = miRBaseMap.attributes_to_columns()\n",
    "miRBaseMap = miRBaseMap[['attributes']]\n",
    "miRBaseMap"
   ]
  },
  {
   "cell_type": "code",
   "execution_count": null,
   "metadata": {},
   "outputs": [],
   "source": [
    "miRBaseMap = miRBaseMap.attributes.str.split(';',expand=True)\n",
    "# Keep only \"ID\" and \"Name\" columns\n",
    "miRBaseMap = miRBaseMap[[2,0]]\n",
    "# Remove substring \"ID=\"\n",
    "miRBaseMap[0] = miRBaseMap[0].str[3:]\n",
    "# Remove substring \"Name=\"\n",
    "miRBaseMap[2] = miRBaseMap[2].str[5:]\n",
    "miRBaseMap.to_csv(processed_data_location + 'MIRNA_MIRBASE_MAP.txt', header=None, sep='\\t', index=None)\n",
    "miRBaseMap"
   ]
  },
  {
   "cell_type": "code",
   "execution_count": null,
   "metadata": {},
   "outputs": [],
   "source": [
    "# If chunck above has already been run, uncomment and run the following line to speed up construction:\n",
    "miRBaseMap = pd.read_csv(processed_data_location + 'MIRNA_MIRBASE_MAP.txt', header=None, names=[2,0], sep='\\t')\n",
    "# For back-compatibility issue\n",
    "mirna_mirbase_map = miRBaseMap.copy()"
   ]
  },
  {
   "cell_type": "markdown",
   "metadata": {},
   "source": [
    "***\n",
    "### Disease labels+synonyms from Mondo - Mondo mapping\n",
    "\n",
    "\n",
    "**Purpose:** To map Diseases labels+synonyms from Mondo to Mondo identifiers.\n",
    "\n",
    "**Output:** `DESC_MONDO_MAP.txt` + `SYN_MONDO_MAP.txt`"
   ]
  },
  {
   "cell_type": "code",
   "execution_count": null,
   "metadata": {},
   "outputs": [],
   "source": [
    "desc_mondo_map = gets_ontology_lookup('mondo')\n",
    "desc_mondo_map"
   ]
  },
  {
   "cell_type": "code",
   "execution_count": null,
   "metadata": {},
   "outputs": [],
   "source": [
    "# If chunck above has already been run, uncomment and run the following line to speed up construction:\n",
    "desc_mondo_map = pd.read_csv(processed_data_location + 'DESC_MONDO_MAP.txt', header=None, sep='\\t')"
   ]
  },
  {
   "cell_type": "markdown",
   "metadata": {},
   "source": [
    "***\n",
    "### Phenotype labels+synonyms from HPO - HPO mapping\n",
    "\n",
    "\n",
    "**Purpose:** To map Phenotype labels+synonyms from HPO to HPO identifiers.\n",
    "\n",
    "**Output:** `DESC_HP_MAP.txt` + `SYN_HP_MAP.txt`"
   ]
  },
  {
   "cell_type": "code",
   "execution_count": null,
   "metadata": {},
   "outputs": [],
   "source": [
    "desc_hpo_map = gets_ontology_lookup('hp')\n",
    "desc_hpo_map"
   ]
  },
  {
   "cell_type": "code",
   "execution_count": null,
   "metadata": {},
   "outputs": [],
   "source": [
    "# If chunck above has already been run, uncomment and run the following line to speed up construction:\n",
    "desc_hpo_map = pd.read_csv(processed_data_location + 'DESC_HP_MAP.txt', header=None, sep='\\t')"
   ]
  },
  {
   "cell_type": "markdown",
   "metadata": {},
   "source": [
    "We merge diseases and phenotypes since they are closely related. Moreover, \"x-disease\" and \"x-phenotype\" interactions share the same RO properties. "
   ]
  },
  {
   "cell_type": "code",
   "execution_count": null,
   "metadata": {},
   "outputs": [],
   "source": [
    "desc_disPhe_map = pd.concat([desc_mondo_map, desc_hpo_map]).drop_duplicates()\n",
    "desc_disPhe_map"
   ]
  },
  {
   "cell_type": "markdown",
   "metadata": {},
   "source": [
    "***\n",
    "### Disease Ontology (DO) - MONDO mapping <a class=\"anchor\" id=\"ensemblgene-entrezgene\"></a>\n",
    "\n",
    "\n",
    "**Purpose:** To map DO identifiers to MONDO identifiers.\n",
    "\n",
    "**Output:** `DISEASE_DOID_MONDO_MAP.txt`"
   ]
  },
  {
   "cell_type": "code",
   "execution_count": null,
   "metadata": {},
   "outputs": [],
   "source": [
    "mondo_graph = Graph().parse(ontology_data_location + 'mondo_with_imports.owl')\n",
    "\n",
    "mondo_dbxref = gets_ontology_class_dbxrefs(mondo_graph)[0]\n",
    "\n",
    "# Fix DOIDs (substitute : with _)\n",
    "mondo_dict = {str(k).replace(':','_').upper(): {str(i).split('/')[-1].replace(':','_') for i in v}\n",
    "              for k, v in mondo_dbxref.items() if 'doid' in str(k)}\n",
    "list({**mondo_dict}.items())[:5]"
   ]
  },
  {
   "cell_type": "code",
   "execution_count": null,
   "metadata": {},
   "outputs": [],
   "source": [
    "with open(processed_data_location + 'DOID_MONDO_MAP.txt', 'w') as outfile:\n",
    "    for k, v in mondo_dict.items():\n",
    "        outfile.write(str(k) + '\\t' + str(v).replace('{','').replace('\\'','').replace('}','') + '\\n')"
   ]
  },
  {
   "cell_type": "code",
   "execution_count": null,
   "metadata": {},
   "outputs": [],
   "source": [
    "doid_mondo_map = pd.read_csv(processed_data_location+'DOID_MONDO_MAP.txt', header=None, delimiter='\\t')\n",
    "doid_mondo_map[1] = doid_mondo_map[1].str.split(', ')\n",
    "doid_mondo_map = doid_mondo_map.explode(1)\n",
    "doid_mondo_map"
   ]
  },
  {
   "cell_type": "markdown",
   "metadata": {},
   "source": [
    "***\n",
    "### Disease description from DO - DO mapping <a class=\"anchor\" id=\"ensemblgene-entrezgene\"></a>\n",
    "\n",
    "\n",
    "**Purpose:** To map Disease descriptions from DO to DO identifiers.\n",
    "\n",
    "**Output:** None, this mapping will be used only internally.\n",
    "\n",
    "Note: Provided by [mir2Disease](http://watson.compbio.iupui.edu:8080/miR2Disease/)."
   ]
  },
  {
   "cell_type": "code",
   "execution_count": null,
   "metadata": {},
   "outputs": [],
   "source": [
    "data_downloader('http://watson.compbio.iupui.edu:8080/miR2Disease/download/diseaseList.txt', unprocessed_data_location)"
   ]
  },
  {
   "cell_type": "code",
   "execution_count": null,
   "metadata": {},
   "outputs": [],
   "source": [
    "desc_do_map = pd.read_csv(unprocessed_data_location + 'diseaseList.txt', sep=\"\\t\")\n",
    "desc_do_map.columns = ['desc', 'doid']\n",
    "desc_do_map['desc'] = desc_do_map['desc'].str.lower()\n",
    "desc_do_map['doid'] = desc_do_map['doid'].str.upper().str.replace(':', '_')\n",
    "desc_do_map"
   ]
  },
  {
   "cell_type": "markdown",
   "metadata": {},
   "source": [
    "***\n",
    "### TCGA - MONDO mapping <a class=\"anchor\" id=\"ensemblgene-entrezgene\"></a>\n",
    "\n",
    "\n",
    "**Purpose:** To manually map the 32 TCGA cancer types to MONDO ontology.\n",
    "\n",
    "**Output:** `TCGA_MONDO_MAP.txt`"
   ]
  },
  {
   "cell_type": "code",
   "execution_count": null,
   "metadata": {},
   "outputs": [],
   "source": [
    "cancer_mondo_map = pd.DataFrame(data=[['ACC','MONDO_0004971'],\n",
    "                                 ['BLCA','MONDO_0004163'],\n",
    "                                 ['BRCA','MONDO_0006256'],\n",
    "                                 ['CESC','MONDO_0005131'],\n",
    "                                 ['CHOL','MONDO_0019087'],\n",
    "                                 ['COAD','MONDO_0002271'],\n",
    "                                 ['DLBC','MONDO_0018905'],\n",
    "                                 ['ESCA','MONDO_0019086'],\n",
    "                                 ['GBM','MONDO_0018177'],\n",
    "                                 ['HNSC','MONDO_0010150'],\n",
    "                                 ['KICH','MONDO_0017885'],\n",
    "                                 ['KIRC','MONDO_0005005'],\n",
    "                                 ['KIRP','MONDO_0017884'],\n",
    "                                 ['LGG','MONDO_0005499'],\n",
    "                                 ['LIHC','MONDO_0007256'],\n",
    "                                 ['LUAD','MONDO_0005061'],\n",
    "                                 ['LUSC','MONDO_0005097'],\n",
    "                                 ['MESO','MONDO_0005065'],\n",
    "                                 ['OV','MONDO_0006046'],\n",
    "                                 ['PAAD','MONDO_0006047'],\n",
    "                                 ['PCPG','MONDO_0035540'],\n",
    "                                 ['PRAD','MONDO_0005082'],\n",
    "                                 ['READ','MONDO_0002169'],\n",
    "                                 ['SARC','MONDO_0005089'],\n",
    "                                 ['SKCM','MONDO_0005012'],\n",
    "                                 ['STAD','MONDO_0005036'],\n",
    "                                 ['TGCT','MONDO_0010108'],\n",
    "                                 ['THCA','MONDO_0015075'],\n",
    "                                 ['THYM','MONDO_0006456'],\n",
    "                                 ['UCEC','MONDO_0000553'],\n",
    "                                 ['UCS','MONDO_0006485'],\n",
    "                                 ['UVM','MONDO_0006486']\n",
    "                                 ])\n",
    "\n",
    "cancer_mondo_map.to_csv(processed_data_location + 'TCGA_MONDO_MAP.txt', header=None, sep='\\t', index=None)"
   ]
  },
  {
   "cell_type": "markdown",
   "metadata": {},
   "source": [
    "***\n",
    "### Amino Acid - ChEBI mapping \n",
    "\n",
    "\n",
    "**Purpose:** To manually map amino acids ChEBI ontology (SO could've been used too).\n",
    "\n",
    "**Output:** `AminoAcid_ChEBI_MAP.txt`"
   ]
  },
  {
   "cell_type": "code",
   "execution_count": null,
   "metadata": {},
   "outputs": [],
   "source": [
    "aa_chebi_map = pd.DataFrame(data=[['Leu','CHEBI_25017'],\n",
    "                                 ['Phe','CHEBI_28044'],\n",
    "                                 ['Ala','CHEBI_16449'],\n",
    "                                 ['Asn','CHEBI_22653'],\n",
    "                                 ['Glu','CHEBI_18237'],\n",
    "                                 ['His','CHEBI_27570'],\n",
    "                                 ['Asp','CHEBI_22660'],\n",
    "                                 ['Cys','CHEBI_22660'],\n",
    "                                 ['Gly','CHEBI_15428'],\n",
    "                                 ['Ile','CHEBI_24898'],\n",
    "                                 ['Lys','CHEBI_25094'],\n",
    "                                 ['Met','CHEBI_16811'],\n",
    "                                 ['Ser','CHEBI_17822'],\n",
    "                                 ['Val','CHEBI_27266'],\n",
    "                                 ['Gln','CHEBI_28300'],\n",
    "                                 ['Arg','CHEBI_29016'],\n",
    "                                 ['Pro','CHEBI_26271'],\n",
    "                                 ['Thr','CHEBI_26986'],\n",
    "                                 ['iMe','PR_000021937'],\n",
    "                                 ['Trp','CHEBI_27897'],\n",
    "                                 ['Tyr','CHEBI_18186']#,\n",
    "                                 #['Sup','tRNA-Suppressor NOT GROUNDED']\n",
    "                                 ])\n",
    "\n",
    "aa_chebi_map.to_csv(processed_data_location + 'AminoAcid_ChEBI_MAP.txt', header=None, sep='\\t', index=None)"
   ]
  },
  {
   "cell_type": "markdown",
   "metadata": {},
   "source": [
    "***\n",
    "### Gene symbol - PRO mapping <a class=\"anchor\" id=\"ensemblgene-entrezgene\"></a>\n",
    "\n",
    "\n",
    "**Purpose:** To map gene symbols to PRO identifiers.\n",
    "\n",
    "**Output:** `GENE_SYMBOL_PRO_ONTOLOGY_MAP.txt`"
   ]
  },
  {
   "cell_type": "code",
   "execution_count": null,
   "metadata": {},
   "outputs": [],
   "source": [
    "symbol_ensembl_map = pd.read_csv(processed_data_location + 'GENE_SYMBOL_ENSEMBL_TRANSCRIPT_MAP.txt', sep=\"\\t\",\n",
    "                                 header=None)\n",
    "symbol_ensembl_map[[0,1]]"
   ]
  },
  {
   "cell_type": "code",
   "execution_count": null,
   "metadata": {},
   "outputs": [],
   "source": [
    "ensembl_pro_map = pd.read_csv(processed_data_location + 'ENSEMBL_TRANSCRIPT_PROTEIN_ONTOLOGY_MAP.txt', sep=\"\\t\",\n",
    "                              header=None)\n",
    "ensembl_pro_map[[1,0]]"
   ]
  },
  {
   "cell_type": "code",
   "execution_count": null,
   "metadata": {},
   "outputs": [],
   "source": [
    "symbol_to_pro = pd.merge(symbol_ensembl_map[[0,1]], ensembl_pro_map[[1,0]], left_on=[1], right_on=[0])\n",
    "symbol_to_pro = symbol_to_pro[['0_x', '1_y']].drop_duplicates()\n",
    "symbol_to_pro"
   ]
  },
  {
   "cell_type": "code",
   "execution_count": null,
   "metadata": {},
   "outputs": [],
   "source": [
    "symbol_to_pro.drop_duplicates().to_csv(processed_data_location+\n",
    "                                       'GENE_SYMBOL_PRO_ONTOLOGY_MAP.txt', header=None,\n",
    "                                       sep='\\t', index=None)"
   ]
  },
  {
   "cell_type": "code",
   "execution_count": null,
   "metadata": {},
   "outputs": [],
   "source": [
    "# If chunck above has already been run, uncomment and run the following line to speed up construction:\n",
    "symbol_to_pro = pd.read_csv(processed_data_location+'GENE_SYMBOL_PRO_ONTOLOGY_MAP.txt',names=['0_x','1_y'],sep='\\t')"
   ]
  },
  {
   "cell_type": "markdown",
   "metadata": {},
   "source": [
    "***\n",
    "### Protein labels+synonyms from PRO - PRO mapping\n",
    "\n",
    "\n",
    "**Purpose:** To map Protein labels+synonyms from PRO to PRO identifiers.\n",
    "\n",
    "**Output:** `DESC_PR_MAP.txt` + `SYN_PR_MAP.txt`\n",
    "\n",
    "Note: The employed PRO ontology is trimmed to contain only human proteins."
   ]
  },
  {
   "cell_type": "code",
   "execution_count": null,
   "metadata": {
    "scrolled": true
   },
   "outputs": [],
   "source": [
    "desc_pro_map = gets_ontology_lookup('pr')\n",
    "desc_pro_map"
   ]
  },
  {
   "cell_type": "code",
   "execution_count": null,
   "metadata": {},
   "outputs": [],
   "source": [
    "# If chunck above has already been run, uncomment and run the following line to speed up construction:\n",
    "desc_pro_map = pd.read_csv(processed_data_location + 'DESC_PR_MAP.txt', header=None, sep='\\t')"
   ]
  },
  {
   "cell_type": "code",
   "execution_count": null,
   "metadata": {},
   "outputs": [],
   "source": [
    "# Remove genes\n",
    "desc_pro_map = desc_pro_map[~desc_pro_map[1].str.startswith('gene_symbol_report?hgnc_id=')]\n",
    "desc_pro_map"
   ]
  },
  {
   "cell_type": "code",
   "execution_count": null,
   "metadata": {},
   "outputs": [],
   "source": [
    "# We decide to preferentially keep proteins such that human ones have been defined\n",
    "desc_pro_map_human = desc_pro_map.dropna()[desc_pro_map.dropna()[0].str.contains('human', case=False)]\n",
    "desc_pro_map_human[0] = desc_pro_map_human[0].str.replace(\"human \", '')\n",
    "desc_pro_map_human[0] = desc_pro_map_human[0].str.replace(\"human\", '')\n",
    "desc_pro_map_human[0] = desc_pro_map_human[0].str.replace(\" (\", '')\n",
    "desc_pro_map_human[0] = desc_pro_map_human[0].str.replace(\")\", '')\n",
    "desc_pro_map_human[0] = desc_pro_map_human[0].str.replace(\",(.*)\", '')\n",
    "desc_pro_map_human[1] = desc_pro_map_human[1].str.split(', ')\n",
    "desc_pro_map_human = desc_pro_map_human.explode(1)\n",
    "desc_pro_map_human"
   ]
  },
  {
   "cell_type": "code",
   "execution_count": null,
   "metadata": {},
   "outputs": [],
   "source": [
    "desc_pro_map[0] = desc_pro_map[0].str.replace(\"human \", '')\n",
    "desc_pro_map[0] = desc_pro_map[0].str.replace(\"human\", '')\n",
    "desc_pro_map[0] = desc_pro_map[0].str.replace(\" (\", '')\n",
    "desc_pro_map[0] = desc_pro_map[0].str.replace(\")\", '')\n",
    "desc_pro_map[0] = desc_pro_map[0].str.replace(\",(.*)\", '')\n",
    "desc_pro_map[1] = desc_pro_map[1].str.split(', ')\n",
    "desc_pro_map = desc_pro_map.explode(1)\n",
    "desc_pro_map = desc_pro_map[~desc_pro_map[0].isin(desc_pro_map_human[0])]\n",
    "desc_pro_map"
   ]
  },
  {
   "cell_type": "markdown",
   "metadata": {},
   "source": [
    "In this way (i.e., using this modified look-up table), an entity x will be linked to \"double-stranded RNA-activated factor 1 complex (human)\" (PR_000027111) instead of \"double-stranded RNA-activated factor 1 complex\" (PR_000027110)."
   ]
  },
  {
   "cell_type": "code",
   "execution_count": null,
   "metadata": {},
   "outputs": [],
   "source": [
    "desc_pro_map = pd.concat([desc_pro_map, desc_pro_map_human]).drop_duplicates()"
   ]
  },
  {
   "cell_type": "markdown",
   "metadata": {},
   "source": [
    "***\n",
    "### NCI Thesaurus labels+synonyms from NCIT - NCIT mapping\n",
    "\n",
    "\n",
    "**Purpose:** To map NCI Thesaurus labels+synonyms from NCIT to NCIT identifiers.\n",
    "\n",
    "**Output:** `DESC_NCIT_MAP.txt` + `SYN_NCIT_MAP.txt`\n",
    "\n",
    "Note: This is **not** an integrated ontology, but we use NCIT to standardize edge metadata as much as possible."
   ]
  },
  {
   "cell_type": "code",
   "execution_count": null,
   "metadata": {},
   "outputs": [],
   "source": [
    "data_downloader('http://purl.obolibrary.org/obo/ncit.owl', ontology_data_location)"
   ]
  },
  {
   "cell_type": "code",
   "execution_count": null,
   "metadata": {},
   "outputs": [],
   "source": [
    "desc_ncit_map = gets_ontology_lookup('ncit', with_import=False)\n",
    "desc_ncit_map"
   ]
  },
  {
   "cell_type": "code",
   "execution_count": null,
   "metadata": {},
   "outputs": [],
   "source": [
    "# If chuncks above have already been run, uncomment and run the following line to speed up construction:\n",
    "desc_ncit_map = pd.read_csv(processed_data_location + 'DESC_NCIT_MAP.txt', header=None, sep='\\t')"
   ]
  },
  {
   "cell_type": "markdown",
   "metadata": {},
   "source": [
    "***\n",
    "### Gene symbol - ENTREZ mapping <a class=\"anchor\" id=\"ensemblgene-entrezgene\"></a>\n",
    "\n",
    "\n",
    "**Purpose:** To map gene symbols to ENTREZ identifiers.\n",
    "\n",
    "**Output:** `GENE_SYMBOL_ENTREZ_ID_MAP.txt`"
   ]
  },
  {
   "cell_type": "code",
   "execution_count": null,
   "metadata": {},
   "outputs": [],
   "source": [
    "entrez_enst_map = pd.read_csv(processed_data_location + 'ENTREZ_GENE_ENSEMBL_TRANSCRIPT_MAP.txt', sep=\"\\t\", header=None)\n",
    "entrez_enst_map"
   ]
  },
  {
   "cell_type": "code",
   "execution_count": null,
   "metadata": {},
   "outputs": [],
   "source": [
    "symbol_entrez_map = pd.merge(symbol_ensembl_map, entrez_enst_map, on=[1])\n",
    "symbol_entrez_map = symbol_entrez_map[['0_x','0_y']].drop_duplicates()\n",
    "symbol_entrez_map"
   ]
  },
  {
   "cell_type": "code",
   "execution_count": null,
   "metadata": {},
   "outputs": [],
   "source": [
    "symbol_entrez_map.to_csv(processed_data_location+'GENE_SYMBOL_ENTREZ_ID_MAP.txt',header=None, sep='\\t', index=None)"
   ]
  },
  {
   "cell_type": "code",
   "execution_count": null,
   "metadata": {},
   "outputs": [],
   "source": [
    "# If chuncks above have already been run, uncomment and run the following line to speed up construction:\n",
    "symbol_entrez_map = pd.read_csv(processed_data_location+'GENE_SYMBOL_ENTREZ_ID_MAP.txt',names=['0_x','0_y'],sep='\\t')"
   ]
  },
  {
   "cell_type": "markdown",
   "metadata": {},
   "source": [
    "***\n",
    "### tsRNA - tRNA mapping \n",
    "\n",
    "**Purpose:** To map tsRNA to tRNA identifiers.\n",
    "\n",
    "**Output:** `tRNA_tsRNA_MAP.txt`\n",
    "\n",
    "Note: Provided by [tsRFun](https://rna.sysu.edu.cn/tsRFun/index.php)."
   ]
  },
  {
   "cell_type": "code",
   "execution_count": null,
   "metadata": {},
   "outputs": [],
   "source": [
    "!wget https://rna.sysu.edu.cn/tsRFun/download/newID_20210202.txt"
   ]
  },
  {
   "cell_type": "code",
   "execution_count": null,
   "metadata": {},
   "outputs": [],
   "source": [
    "tsRNA_tRF_map = pd.read_csv(unprocessed_data_location + 'newID_20210202.txt', sep=\"\\t\")\n",
    "tsRNA_tRF_map = tsRNA_tRF_map[['tRNA','tsRNAid']]\n",
    "tsRNA_tRF_map"
   ]
  },
  {
   "cell_type": "code",
   "execution_count": null,
   "metadata": {},
   "outputs": [],
   "source": [
    "tsRNA_tRF_map.to_csv(processed_data_location + 'tRNA_tsRNA_MAP.txt', header=None, sep='\\t', index=None)"
   ]
  },
  {
   "cell_type": "markdown",
   "metadata": {},
   "source": [
    "***\n",
    "### ribozyme - RFAM mapping \n",
    "\n",
    "**Purpose:** To map ribozyme to RFSM identifiers.\n",
    "\n",
    "**Output:** `ribozyme_RFAM_MAP.txt`"
   ]
  },
  {
   "cell_type": "code",
   "execution_count": null,
   "metadata": {},
   "outputs": [],
   "source": [
    "ribozyme_rfam_map = pd.DataFrame(data=[['LC ribozyme','family/RF00011'],\n",
    "                                 ['hammerhead ribozyme','clan/CL00010'],\n",
    "                                 ['glmS ribozyme','family/RF00234'],\n",
    "                                 ['HDV-F-prausnitzii','family/RF02682'],\n",
    "                                 ['HDV ribozyme','family/RF00094'],\n",
    "                                 ['HDV_ribozyme','family/RF00094'],\n",
    "                                 ['Hairpin','family/RF00173'],\n",
    "                                 ['Hammerhead_1','clan/CL00010'],\n",
    "                                 ['Hammerhead_HH9','clan/CL00010'],\n",
    "                                 ['Hammerhead_3','clan/CL00010'],\n",
    "                                 ['Hammerhead_HH10','clan/CL00010'],\n",
    "                                 ['Hammerhead_II','clan/CL00010'],\n",
    "                                 ['Pistol','family/RF02679'],\n",
    "                                 ['Pistol ribozyme','family/RF02679'],\n",
    "                                 ['twister ribozyme','clan/CL00120'],\n",
    "                                 ['Twister-P5','clan/CL00120'],\n",
    "                                 ['Twister-P3','clan/CL00120'],\n",
    "                                 ['RNAse P','family/RF00009']#,\n",
    "                                 #['VS ribozyme',''] absent in RFAM\n",
    "                                 ])\n",
    "\n",
    "ribozyme_rfam_map.to_csv(processed_data_location + 'ribozyme_RFAM_MAP.txt', header=None, sep='\\t', index=None)"
   ]
  },
  {
   "cell_type": "markdown",
   "metadata": {},
   "source": [
    "***\n",
    "### MINTbase - GtRNAdb tRNA mapping \n",
    "\n",
    "**Purpose:** To map MINTbase to GtRNAdb identifiers.\n",
    "\n",
    "**Output:** `tRNA_MINTbase_GtRNAdb_MAP.txt`\n",
    "\n",
    "Note: Provided by [MINTbase](https://cm.jefferson.edu/MINTbase/)."
   ]
  },
  {
   "cell_type": "code",
   "execution_count": null,
   "metadata": {},
   "outputs": [],
   "source": [
    "tRNA_MINTbase_GtRNAdb_map = pd.read_csv(unprocessed_data_location + 'MINTbase-gtRNAdb_mapping.txt',sep='\\t')\n",
    "tRNA_MINTbase_GtRNAdb_map = tRNA_MINTbase_GtRNAdb_map[['MINTbase tRNA name','gtRNAdb name']]\n",
    "tRNA_MINTbase_GtRNAdb_map = tRNA_MINTbase_GtRNAdb_map[tRNA_MINTbase_GtRNAdb_map['gtRNAdb name'] != '-']\n",
    "tRNA_MINTbase_GtRNAdb_map"
   ]
  },
  {
   "cell_type": "code",
   "execution_count": null,
   "metadata": {},
   "outputs": [],
   "source": [
    "tRNA_MINTbase_GtRNAdb_map.to_csv(\n",
    "    processed_data_location + 'tRNA_MINTbase_GtRNAdb_MAP.txt', header=None, sep='\\t', index=None)"
   ]
  },
  {
   "cell_type": "markdown",
   "metadata": {},
   "source": [
    "***\n",
    "### Tissue labels+synonyms from Uberon - Uberon mapping\n",
    "\n",
    "\n",
    "**Purpose:** To map Tissue labels+synonyms from Uberon to Uberon identifiers.\n",
    "\n",
    "**Output:** `DESC_EXT_MAP.txt` + `SYN_EXT_MAP.txt`"
   ]
  },
  {
   "cell_type": "code",
   "execution_count": null,
   "metadata": {},
   "outputs": [],
   "source": [
    "desc_uberon_map = gets_ontology_lookup('ext')\n",
    "desc_uberon_map"
   ]
  },
  {
   "cell_type": "code",
   "execution_count": null,
   "metadata": {},
   "outputs": [],
   "source": [
    "# If chunck above has already been run, uncomment and run the following line to speed up construction:\n",
    "desc_uberon_map = pd.read_csv(processed_data_location + 'DESC_EXT_MAP.txt', header=None, sep='\\t')"
   ]
  },
  {
   "cell_type": "markdown",
   "metadata": {},
   "source": [
    "***\n",
    "### Cell line labels+synonyms from CLO - CLO mapping\n",
    "\n",
    "\n",
    "**Purpose:** To map Cell line labels+synonyms from CLO to CLO identifiers.\n",
    "\n",
    "**Output:** `DESC_CLO_MAP.txt` + `SYN_CLO_MAP.txt`"
   ]
  },
  {
   "cell_type": "code",
   "execution_count": null,
   "metadata": {},
   "outputs": [],
   "source": [
    "desc_clo_map = gets_ontology_lookup('clo')\n",
    "desc_clo_map"
   ]
  },
  {
   "cell_type": "code",
   "execution_count": null,
   "metadata": {},
   "outputs": [],
   "source": [
    "# If chunck above has already been run, uncomment and run the following line to speed up construction:\n",
    "desc_clo_map = pd.read_csv(processed_data_location + 'DESC_CLO_MAP.txt', header=None, sep='\\t')"
   ]
  },
  {
   "cell_type": "markdown",
   "metadata": {},
   "source": [
    "***\n",
    "***\n",
    "## DOWNLOAD AND PROCESS EDGE DATASETS  <a class=\"anchor\" id=\"create-edges\"></a>\n",
    "***\n",
    "***"
   ]
  },
  {
   "cell_type": "markdown",
   "metadata": {},
   "source": [
    "## Edges provided by Human Disease benchmark KG\n",
    "Here, we adjust edges provided by PheKnowLator ecosystem to make them compliant to RNA-KG identifiers. This is done in order to merge RNA-KG to Human Disease benchmark KG without redundancies or different identifiers referring to the same concept."
   ]
  },
  {
   "cell_type": "code",
   "execution_count": null,
   "metadata": {},
   "outputs": [],
   "source": [
    "for edge in ['CTD_chem_gene_ixns.tsv',\n",
    "'CTD_chem_go_enriched.tsv',\n",
    "'ChEBI2Reactome_All_Levels.txt',\n",
    "'CTD_chemicals_diseases.tsv',\n",
    "'CTD_chem_gene_ixns.tsv',\n",
    "'phenotype.hpoa',\n",
    "'curated_gene_disease_associations.tsv',\n",
    "'COMBINED.DEFAULT_NETWORKS.BP_COMBINING.txt',\n",
    "'CTD_genes_pathways.tsv',\n",
    "'curated_gene_disease_associations.tsv',\n",
    "'gene_association.reactome',\n",
    "'goa_human.gaf',\n",
    "'UniProt2Reactome_All_Levels.txt',\n",
    "'9606.protein.links.v11.0.txt']:\n",
    "    data_downloader(original_url+edge, edge_data_location)"
   ]
  },
  {
   "cell_type": "markdown",
   "metadata": {},
   "source": [
    "### Gene-RNA"
   ]
  },
  {
   "cell_type": "code",
   "execution_count": null,
   "metadata": {},
   "outputs": [],
   "source": [
    "gene_rna = pd.read_csv(processed_data_location+'ENTREZ_GENE_ENSEMBL_TRANSCRIPT_MAP.txt', sep='\\t',header=None)\n",
    "gene_rna[3].unique()"
   ]
  },
  {
   "cell_type": "code",
   "execution_count": null,
   "metadata": {},
   "outputs": [],
   "source": [
    "gene_rna.replace({'processed_transcript':'mRNA',\n",
    "                  'protein_coding':'mRNA',\n",
    "                  'non_stop_decay':'mRNA',\n",
    "                  'nonsense_mediated_decay':'mRNA',\n",
    "                  'transcribed_processed_pseudogene':'pseudo',\n",
    "                  'transcribed_unitary_pseudogene':'pseudo',\n",
    "                  'transcribed_unprocessed_pseudogene':'pseudo',\n",
    "                  'polymorphic_pseudogene':'pseudo',\n",
    "                  'unprocessed_pseudogene':'pseudo',\n",
    "                  'processed_pseudogene':'pseudo',\n",
    "                  'unitary_pseudogene':'pseudo',\n",
    "                   'pseudogene':'pseudo',\n",
    "                  'Mt_tRNA':'mt_tRNA'\n",
    "                 }, inplace=True)"
   ]
  },
  {
   "cell_type": "code",
   "execution_count": null,
   "metadata": {},
   "outputs": [],
   "source": [
    "gene_premiRNA2511 = gene_rna[gene_rna[3] == 'miRNA']\n",
    "symbol_entrez_map['0_y'] = symbol_entrez_map['0_y'].astype('int64')\n",
    "gene_premiRNA2511 = pd.merge(gene_premiRNA2511, symbol_entrez_map.rename(columns={'0_y':0}), on=0)\n",
    "\n",
    "gene_premiRNA2511['0_x'] = 'hsa-' + gene_premiRNA2511['0_x'].str.lower().str.replace(\n",
    "    'mir','mir-').str.replace('let','let-')\n",
    "\n",
    "gene_premiRNA2511 = pd.merge(gene_premiRNA2511.rename(columns={'0_x':'a'}), mirna_mirbase_map.rename(columns={2:'a'}), on=['a'])\n",
    "gene_premiRNA2511"
   ]
  },
  {
   "cell_type": "code",
   "execution_count": null,
   "metadata": {},
   "outputs": [],
   "source": [
    "gene_premiRNA2511[['0_x','0_y']].drop_duplicates().to_csv(\n",
    "    edge_data_location +'Hgene-premiRNA.txt', header=None, sep='\\t', index=None)"
   ]
  },
  {
   "cell_type": "code",
   "execution_count": null,
   "metadata": {},
   "outputs": [],
   "source": [
    "gene_rna[6] = gene_rna[0].astype(str) + '?' + gene_rna[3].astype(str)"
   ]
  },
  {
   "cell_type": "code",
   "execution_count": null,
   "metadata": {},
   "outputs": [],
   "source": [
    "for i in set(gene_rna[3]):\n",
    "    if i != 'miRNA':\n",
    "        gene_rna_ = gene_rna[gene_rna[3]==i]\n",
    "\n",
    "        if not gene_rna_.empty:   \n",
    "            #print(i)\n",
    "            #print(gene_rna_[[0,6]].drop_duplicates())\n",
    "            gene_rna_[[0,6]].drop_duplicates().to_csv(\n",
    "                edge_data_location + 'Hgene-' + i + '.txt', header=None, sep='\\t', index=None)"
   ]
  },
  {
   "cell_type": "markdown",
   "metadata": {},
   "source": [
    "### RNA-protein"
   ]
  },
  {
   "cell_type": "code",
   "execution_count": null,
   "metadata": {},
   "outputs": [],
   "source": [
    "mRNA_protein = pd.read_csv(processed_data_location+'ENSEMBL_TRANSCRIPT_PROTEIN_ONTOLOGY_MAP.txt', sep='\\t',header=None)\n",
    "mRNA_protein = mRNA_protein[mRNA_protein[4] == 'protein-coding']\n",
    "mRNA_protein = pd.merge(mRNA_protein.rename(columns={0:'a'}), entrez_enst_map.rename(columns={1:'a'}), on='a')[[0, 1]]\n",
    "mRNA_protein[0] = mRNA_protein[0].astype(str) + '?mRNA' \n",
    "mRNA_protein"
   ]
  },
  {
   "cell_type": "code",
   "execution_count": null,
   "metadata": {},
   "outputs": [],
   "source": [
    "mRNA_protein.drop_duplicates().to_csv(\n",
    "    edge_data_location + 'HmRNA-protein.txt', header=None, sep='\\t', index=None)"
   ]
  },
  {
   "cell_type": "markdown",
   "metadata": {},
   "source": [
    "### RNA-anatomy"
   ]
  },
  {
   "cell_type": "code",
   "execution_count": null,
   "metadata": {},
   "outputs": [],
   "source": [
    "RNA_anatomy = pd.read_csv(processed_data_location+'HPA_GTEX_RNA_GENE_PROTEIN_EDGES.txt', sep='\\t',header=None)\n",
    "RNA_anatomy = RNA_anatomy[(RNA_anatomy[3]=='Evidence at transcript level') & (RNA_anatomy[4]=='anatomy')]\n",
    "\n",
    "symbol_entrez_map['0_y'] = symbol_entrez_map['0_y'].astype(str)\n",
    "gene_rna[0] = gene_rna[0].astype(str)\n",
    "rna_pro = pd.merge(gene_rna.rename(columns={0:'0_y'}), symbol_entrez_map, on='0_y')\n",
    "RNA_anatomy = pd.merge(rna_pro.rename(columns={'0_x':'a'}), RNA_anatomy.rename(columns={1:'a'}), on='a')\n",
    "\n",
    "RNA_anatomy"
   ]
  },
  {
   "cell_type": "code",
   "execution_count": null,
   "metadata": {},
   "outputs": [],
   "source": [
    "mirna_anatomy1025 = RNA_anatomy[RNA_anatomy['3_x'] == 'miRNA']\n",
    "mirna_anatomy1025['a'] = 'hsa-' + mirna_anatomy1025['a'].str.lower().str.replace(\n",
    "    'mir','mir-').str.replace('let','let-')\n",
    "\n",
    "mirna_anatomy1025 = pd.merge(mirna_anatomy1025.rename(columns={'0_y':'b'}), mirna_mirbase_map.rename(columns={2:'a'}), on='a')\n",
    "mirna_anatomy1025"
   ]
  },
  {
   "cell_type": "code",
   "execution_count": null,
   "metadata": {},
   "outputs": [],
   "source": [
    "mirna_anatomy1025[['0_y','5_y']].drop_duplicates().to_csv(\n",
    "    edge_data_location + 'HpremiRNA-anatomy.txt', header=None, sep='\\t', index=None)"
   ]
  },
  {
   "cell_type": "code",
   "execution_count": null,
   "metadata": {},
   "outputs": [],
   "source": [
    "RNA_anatomy[6] = RNA_anatomy['0_y'].astype(str) + '?' + RNA_anatomy['3_x'].astype(str)"
   ]
  },
  {
   "cell_type": "code",
   "execution_count": null,
   "metadata": {},
   "outputs": [],
   "source": [
    "for i in set(RNA_anatomy['3_x']):\n",
    "    if i != 'miRNA':\n",
    "        RNA_anatomy_ = RNA_anatomy[RNA_anatomy['3_x']==i]\n",
    "\n",
    "        if not RNA_anatomy_.empty:   \n",
    "            #print(i)\n",
    "            #print(RNA_anatomy_[[6,'5_y']].drop_duplicates())\n",
    "            RNA_anatomy_[[6,'5_y']].drop_duplicates().to_csv(\n",
    "                edge_data_location + 'H' + i + '-anatomy.txt', header=None, sep='\\t', index=None)"
   ]
  },
  {
   "cell_type": "markdown",
   "metadata": {},
   "source": [
    "### RNA-cell"
   ]
  },
  {
   "cell_type": "code",
   "execution_count": null,
   "metadata": {},
   "outputs": [],
   "source": [
    "RNA_cell = pd.read_csv(processed_data_location+'HPA_GTEX_RNA_GENE_PROTEIN_EDGES.txt', sep='\\t',header=None)\n",
    "RNA_cell = RNA_cell[(RNA_cell[3]=='Evidence at transcript level') & (RNA_cell[4]=='cell line')]\n",
    "\n",
    "symbol_entrez_map['0_y'] = symbol_entrez_map['0_y'].astype(str)\n",
    "gene_rna[0] = gene_rna[0].astype(str)\n",
    "rna_pro = pd.merge(gene_rna.rename(columns={0:'0_y'}), symbol_entrez_map, on='0_y')\n",
    "RNA_cell = pd.merge(rna_pro.rename(columns={'0_x':'a'}), RNA_cell.rename(columns={1:'a'}), on='a')\n",
    "\n",
    "RNA_cell"
   ]
  },
  {
   "cell_type": "code",
   "execution_count": null,
   "metadata": {},
   "outputs": [],
   "source": [
    "mirna_cell1025 = RNA_cell[RNA_cell['3_x'] == 'miRNA']\n",
    "mirna_cell1025['a'] = 'hsa-' + mirna_cell1025['a'].str.lower().str.replace(\n",
    "    'mir','mir-').str.replace('let','let-')\n",
    "\n",
    "mirna_cell1025 = pd.merge(mirna_cell1025.rename(columns={'0_y':'b'}), mirna_mirbase_map.rename(columns={2:'a'}), on='a')\n",
    "mirna_cell1025.head()"
   ]
  },
  {
   "cell_type": "code",
   "execution_count": null,
   "metadata": {},
   "outputs": [],
   "source": [
    "mirna_cell1025[['0_y','5_y']].drop_duplicates().to_csv(\n",
    "    edge_data_location + 'HpremiRNA-cell.txt', header=None, sep='\\t', index=None)"
   ]
  },
  {
   "cell_type": "code",
   "execution_count": null,
   "metadata": {},
   "outputs": [],
   "source": [
    "RNA_cell[6] = RNA_cell['0_y'].astype(str) + '?' + RNA_cell['3_x'].astype(str)"
   ]
  },
  {
   "cell_type": "code",
   "execution_count": null,
   "metadata": {},
   "outputs": [],
   "source": [
    "for i in set(RNA_cell['3_x']):\n",
    "    if i != 'miRNA':\n",
    "        RNA_cell_ = RNA_cell[RNA_cell['3_x']==i]\n",
    "\n",
    "        if not RNA_cell_.empty:   \n",
    "            #print(i)\n",
    "            #print(RNA_anatomy_[[6,'5_y']].drop_duplicates())\n",
    "            RNA_cell_[[6,'5_y']].drop_duplicates().to_csv(\n",
    "                edge_data_location + 'H' + i + '-cell.txt', header=None, sep='\\t', index=None)"
   ]
  },
  {
   "cell_type": "markdown",
   "metadata": {},
   "source": [
    "***\n",
    "## New edges from RNA sources\n",
    "Edges are classified according to interactors' types. Each RNA source is then processed if a certain relation is present. Same relations from different sources are matched joining their dataframes after fixing identifiers."
   ]
  },
  {
   "cell_type": "markdown",
   "metadata": {},
   "source": [
    "***\n",
    "### precursor miRNA-miRNA - http://purl.obolibrary.org/obo/RO_0002203 (develops into)\n",
    "* [miRBase](https://www.mirbase.org/) <br />  The miRBase database is a searchable database of published miRNA sequences and annotation. Each entry represents a predicted hairpin portion of a miRNA transcript (termed mir in the database), with information on the location and sequence of the mature miRNA sequence (termed miR)."
   ]
  },
  {
   "cell_type": "code",
   "execution_count": null,
   "metadata": {},
   "outputs": [],
   "source": [
    "data_downloader('https://www.mirbase.org/download/miRNA.dat', processed_data_location)\n",
    "\n",
    "# Open the EMBL file\n",
    "embl_file = processed_data_location + 'miRNA.dat'\n",
    "\n",
    "# Create empty lists to store the data\n",
    "data = {\n",
    "    \"ID\": [],\n",
    "    \"Description\": [],\n",
    "    \"Sequence\": [],\n",
    "    \"Comments\": [],\n",
    "    \"References\": [],\n",
    "    \"Feature Table\": []\n",
    "}\n",
    "\n",
    "# Iterate through the records in the EMBL file\n",
    "for record in SeqIO.parse(embl_file, \"embl\"):\n",
    "    data[\"ID\"].append(record.id)\n",
    "    data[\"Description\"].append(record.description)\n",
    "    data[\"Sequence\"].append(str(record.seq))\n",
    "    data[\"Comments\"].append(str(record.annotations.get('comment', '')))\n",
    "    references = []\n",
    "    i = 0\n",
    "    for ref in record.annotations.get('references', []):\n",
    "        i = i + 1\n",
    "        references.append(f\"{[i], 'https://pubmed.ncbi.nlm.nih.gov/' + ref.pubmed_id}\")\n",
    "    data[\"References\"].append(\", \".join(references))\n",
    "    feature_table = \"\\n\".join(str(feature) for feature in record.features)\n",
    "    data[\"Feature Table\"].append(feature_table)\n",
    "\n",
    "df = pd.DataFrame(data)\n",
    "df = df[df['Description'].astype(str).str.contains('Homo sapiens')]\n",
    "\n",
    "df['Feature Table'] = df['Feature Table'].str.split(\"type: miRNA\")\n",
    "df = df.explode('Feature Table')\n",
    "df = df[df['Feature Table'] != '']\n",
    "df"
   ]
  },
  {
   "cell_type": "code",
   "execution_count": null,
   "metadata": {},
   "outputs": [],
   "source": [
    "df['Feature Table'] = df['Feature Table'].str.split(\"\\n\")\n",
    "list(df['Feature Table'].loc[57])"
   ]
  },
  {
   "cell_type": "code",
   "execution_count": null,
   "metadata": {},
   "outputs": [],
   "source": [
    "def extract_values(row):\n",
    "    result = {}\n",
    "    for item in row:\n",
    "        if \"location: \" in item:\n",
    "            key_value = item.split(\"location: \")\n",
    "            value = key_value[1]\n",
    "            result['location'] = value\n",
    "        elif \"Key: \" in item:\n",
    "            key_value = item.split(\"Key: \")\n",
    "            key = key_value[1].split(\", Value:\")[0].strip()\n",
    "            value = key_value[1].split(\", Value:\")[1].strip(\" ['\").strip(\"'']\")\n",
    "            result[key] = value\n",
    "    return pd.Series(result)\n",
    "\n",
    "new_columns = df['Feature Table'].apply(extract_values)\n",
    "\n",
    "df = pd.concat([df, new_columns], axis=1)\n",
    "\n",
    "# 'accession' column contains 'product' with miRBase identifiers\n",
    "df = df.drop(columns = ['product'])\n",
    "\n",
    "df['Source(s)'] = 'miRBase'\n",
    "df"
   ]
  },
  {
   "cell_type": "markdown",
   "metadata": {},
   "source": [
    "Description, Sequence, Comments, References, Feature Table, location, accession, evidence, experiment columns are node properties for premiRNA and miRNA. We can remove them since they are not edge properties."
   ]
  },
  {
   "cell_type": "code",
   "execution_count": null,
   "metadata": {},
   "outputs": [],
   "source": [
    "df = df.drop(columns=['Description', 'Sequence', 'Comments', 'References', 'Feature Table', 'location',\n",
    "                      'evidence', 'experiment'])\n",
    "df"
   ]
  },
  {
   "cell_type": "code",
   "execution_count": null,
   "metadata": {},
   "outputs": [],
   "source": [
    "premiRNAmiRNA = df.copy()\n",
    "premiRNAmiRNA[['ID', 'accession', 'Source(s)']].dropna().drop_duplicates().to_csv(\n",
    "    edge_data_location + 'RpremiRNA-miRNA.txt', header=None, sep='\\t', index=None)"
   ]
  },
  {
   "cell_type": "markdown",
   "metadata": {},
   "source": [
    "***\n",
    "### premiRNA-premiRNA - http://purl.obolibrary.org/obo/RO_HOM0000000 (in similarity relationship with)\n",
    "* [miRBase](https://www.mirbase.org/)"
   ]
  },
  {
   "cell_type": "code",
   "execution_count": null,
   "metadata": {},
   "outputs": [],
   "source": [
    "df[['ID', 'similarity', 'Source(s)']].dropna()"
   ]
  },
  {
   "cell_type": "code",
   "execution_count": null,
   "metadata": {},
   "outputs": [],
   "source": [
    "df[['ID', 'similarity', 'Source(s)']].dropna().drop_duplicates().to_csv(\n",
    "    edge_data_location + 'RpremiRNA-premiRNA.txt', header=None, sep='\\t', index=None)"
   ]
  },
  {
   "cell_type": "markdown",
   "metadata": {},
   "source": [
    "***\n",
    "### premiRNA-modification (A-to-I) - http://purl.obolibrary.org/obo/RO_0002434 (interacts with)\n",
    "* [miRBase](https://www.mirbase.org/)"
   ]
  },
  {
   "cell_type": "code",
   "execution_count": null,
   "metadata": {},
   "outputs": [],
   "source": [
    "df.mod_base.unique()"
   ]
  },
  {
   "cell_type": "code",
   "execution_count": null,
   "metadata": {},
   "outputs": [],
   "source": [
    "df = df[['ID', 'mod_base', 'Source(s)']].dropna()\n",
    "df.mod_base = 'GO_0006382'\n",
    "df"
   ]
  },
  {
   "cell_type": "code",
   "execution_count": null,
   "metadata": {},
   "outputs": [],
   "source": [
    "df[['ID', 'mod_base', 'Source(s)']].dropna().drop_duplicates().to_csv(\n",
    "    edge_data_location + 'RpremiRNA-AtoI.txt', header=None, sep='\\t', index=None)"
   ]
  },
  {
   "cell_type": "markdown",
   "metadata": {},
   "source": [
    "***\n",
    "### miRNA-gene - http://purl.obolibrary.org/obo/RO_0011002 (regulates activity of)\n",
    "* [TarBase](https://dianalab.e-ce.uth.gr/html/diana/web/index.php?r=tarbasev8/index) <br />  DIANA-TarBase v8 is a reference database devoted to the indexing of experimentally supported microRNA (miRNA) targets."
   ]
  },
  {
   "cell_type": "code",
   "execution_count": null,
   "metadata": {},
   "outputs": [],
   "source": [
    "data_downloader('https://dianalab.e-ce.uth.gr/downloads/tarbase_v8_data.tar.gz', unprocessed_data_location)"
   ]
  },
  {
   "cell_type": "code",
   "execution_count": null,
   "metadata": {},
   "outputs": [],
   "source": [
    "with tarfile.TarFile(unprocessed_data_location+'tarbase_v8_data.tar', 'r') as tar_ref:\n",
    "    tar_ref.extractall(unprocessed_data_location)\n",
    "    \n",
    "miRNA_gene = pd.read_csv(unprocessed_data_location +\n",
    "                          'TarBase_v8_download.txt', sep=\"\\t\",\n",
    "                          dtype={\"cell_line\": \"string\"})  \n",
    "miRNA_gene['Source(s)'] = 'TarBase|miRNet'\n",
    "\n",
    "# For the time being, we keep only Homo sapiens rows\n",
    "miRNA_gene = miRNA_gene[miRNA_gene['species'].str.contains(\"Homo sapiens\")]\n",
    "miRNA_gene.drop(columns=['geneId','species'], inplace=True)\n",
    "miRNA_gene['geneName'] = miRNA_gene['geneName'].str.replace(\"\\(hsa\\)\", '')\n",
    "miRNA_gene.rename(columns={'mirna': 'miRNA'}, inplace=True)\n",
    "miRNA_gene = pd.merge(symbol_entrez_map[['0_x','0_y']].rename(columns={'0_x': 'geneName','0_y': 'ENTREZID'}),\n",
    "                       miRNA_gene, on='geneName')\n",
    "miRNA_gene.drop(columns=['geneName'], inplace=True)\n",
    "miRNA_gene"
   ]
  },
  {
   "cell_type": "markdown",
   "metadata": {},
   "source": [
    "***\n",
    "* [miRTarBase](https://mirtarbase.cuhk.edu.cn/~miRTarBase/miRTarBase_2022/php/index.php) <br /> miRTarBase has accumulated more than three hundred and sixty thousand miRNA-target interactions (MTIs), which are collected by manually surveying pertinent literature after NLP of the text systematically to filter research articles related to functional studies of miRNAs."
   ]
  },
  {
   "cell_type": "code",
   "execution_count": null,
   "metadata": {},
   "outputs": [],
   "source": [
    "!wget ~/RNA-KG/resources/processed_data/unprocessed_data/https://mirtarbase.cuhk.edu.cn/~miRTarBase/miRTarBase_2022/cache/download/9.0/miRTarBase_MTI.xlsx"
   ]
  },
  {
   "cell_type": "code",
   "execution_count": null,
   "metadata": {},
   "outputs": [],
   "source": [
    "miRNA_gene2 = pd.read_excel(unprocessed_data_location+\"miRTarBase_MTI.xlsx\")\n",
    "miRNA_gene2 = miRNA_gene2[miRNA_gene2['Species (miRNA)'].str.contains('apiens')]\n",
    "miRNA_gene2 = miRNA_gene2[miRNA_gene2['Species (Target Gene)'].str.contains('apiens')]\n",
    "miRNA_gene2.drop(columns=['miRTarBase ID','Species (miRNA)','Target Gene','Species (Target Gene)'], inplace=True)\n",
    "miRNA_gene2.rename(columns={'Target Gene (Entrez ID)': 'ENTREZID'}, inplace=True)\n",
    "miRNA_gene2['Source(s)'] = 'miRTarBase|miRNet'\n",
    "miRNA_gene2"
   ]
  },
  {
   "cell_type": "code",
   "execution_count": null,
   "metadata": {},
   "outputs": [],
   "source": [
    "miRNA_gene.ENTREZID = miRNA_gene.ENTREZID.astype('int64')\n",
    "\n",
    "miRNA_gene = pd.merge(miRNA_gene, miRNA_gene2, how='outer', on=['miRNA','ENTREZID'])\n",
    "miRNA_gene['Source(s)_x'] = miRNA_gene['Source(s)_x'].astype(str)\n",
    "miRNA_gene['Source(s)_y'] = miRNA_gene['Source(s)_y'].astype(str)\n",
    "miRNA_gene['Source(s)'] = miRNA_gene['Source(s)_x'] + '|' + miRNA_gene['Source(s)_y']\n",
    "miRNA_gene['Source(s)'] = miRNA_gene['Source(s)'].str.replace(r'(\\|miRNet){2}', '|miRNet')\n",
    "\n",
    "miRNA_gene = miRNA_gene.drop(columns=['Source(s)_x', 'Source(s)_y'])\n",
    "miRNA_gene"
   ]
  },
  {
   "cell_type": "code",
   "execution_count": null,
   "metadata": {},
   "outputs": [],
   "source": [
    "miRNA_gene['method'].fillna(miRNA_gene['Experiments'], inplace=True)\n",
    "miRNA_gene.loc[(miRNA_gene[\"method\"].notna()) &\n",
    "               (miRNA_gene[\"Experiments\"].notna()) &\n",
    "               (miRNA_gene[\"method\"] !=\n",
    "                miRNA_gene[\"Experiments\"]),\n",
    "               [\"method\"]] = miRNA_gene[\"method\"] + '|' + miRNA_gene[\"Experiments\"]\n",
    "miRNA_gene.drop(columns=['Experiments'],inplace=True)\n",
    "\n",
    "miRNA_gene"
   ]
  },
  {
   "cell_type": "markdown",
   "metadata": {},
   "source": [
    "***\n",
    "* [TargetScan](https://www.targetscan.org/vert_80/) <br /> TargetScan predicts biological targets of miRNAs by searching for the presence of conserved 8mer, 7mer, and 6mer sites that match the seed region of each miRNA. "
   ]
  },
  {
   "cell_type": "code",
   "execution_count": null,
   "metadata": {},
   "outputs": [],
   "source": [
    "!wget https://www.targetscan.org/vert_80/vert_80_data_download/Predicted_Targets_Context_Scores.default_predictions.txt.zip"
   ]
  },
  {
   "cell_type": "code",
   "execution_count": null,
   "metadata": {},
   "outputs": [],
   "source": [
    "miRNA_gene2 = pd.read_csv(unprocessed_data_location+'Predicted_Targets_Context_Scores.default_predictions.txt.zip',\n",
    "                          sep='\\t')\n",
    "miRNA_gene2 = miRNA_gene2[miRNA_gene2['Gene Tax ID'] == 9606]\n",
    "miRNA_gene2.drop(columns=['Gene ID','Transcript ID','Gene Tax ID'], inplace=True)\n",
    "miRNA_gene2"
   ]
  },
  {
   "cell_type": "code",
   "execution_count": null,
   "metadata": {},
   "outputs": [],
   "source": [
    "miRNA_gene2 = pd.merge(miRNA_gene2, symbol_entrez_map.rename(columns={'0_x': 'Gene Symbol'}), on='Gene Symbol')\n",
    "miRNA_gene2.drop(columns=['Gene Symbol'], inplace=True)\n",
    "miRNA_gene2['Source(s)'] = 'TargetScan'\n",
    "\n",
    "miRNA_gene2['0_y'] = miRNA_gene2['0_y'].astype('int64')\n",
    "\n",
    "miRNA_gene = pd.merge(miRNA_gene, miRNA_gene2.rename(columns={'0_y':'ENTREZID'}), how='outer',\n",
    "                      on=['miRNA','ENTREZID'])\n",
    "miRNA_gene['Source(s)_x'] = miRNA_gene['Source(s)_x'].astype(str)\n",
    "miRNA_gene['Source(s)_y'] = miRNA_gene['Source(s)_y'].astype(str)\n",
    "miRNA_gene['Source(s)'] = miRNA_gene['Source(s)_x'] + '|' + miRNA_gene['Source(s)_y']\n",
    "miRNA_gene = miRNA_gene.drop(columns=['Source(s)_x', 'Source(s)_y'])\n",
    "\n",
    "miRNA_gene['Source(s)'] = miRNA_gene['Source(s)'].str.replace('nan\\||\\|nan', '', regex=True)\n",
    "miRNA_gene"
   ]
  },
  {
   "cell_type": "markdown",
   "metadata": {},
   "source": [
    "In the chunks below, we manually fix some inconsistency."
   ]
  },
  {
   "cell_type": "code",
   "execution_count": null,
   "metadata": {},
   "outputs": [],
   "source": [
    "miRNA_gene['up_down'] = miRNA_gene['up_down'].replace('UNKNOWN', np.nan)\n",
    "miRNA_gene['References (PMID)'] = 'https://pubmed.ncbi.nlm.nih.gov/' + miRNA_gene['References (PMID)'].astype('Int64').astype(str)\n",
    "miRNA_gene['References (PMID)'] = miRNA_gene['References (PMID)'].replace('https://pubmed.ncbi.nlm.nih.gov/<NA>', np.nan)"
   ]
  },
  {
   "cell_type": "markdown",
   "metadata": {},
   "source": [
    "- Cell line."
   ]
  },
  {
   "cell_type": "code",
   "execution_count": null,
   "metadata": {},
   "outputs": [],
   "source": [
    "miRNA_gene['cell_line'].unique()[:5]"
   ]
  },
  {
   "cell_type": "code",
   "execution_count": null,
   "metadata": {},
   "outputs": [],
   "source": [
    "desc_clo_map2 = desc_clo_map.copy()\n",
    "desc_clo_map2[1] = desc_clo_map2[1].str.replace(', ', '|http://purl.obolibrary.org/obo/')\n",
    "desc_clo_map2[1] = 'http://purl.obolibrary.org/obo/' + desc_clo_map2[1] + ' (' + desc_clo_map2[0] + ')'\n",
    "\n",
    "miRNA_gene['cellCleaned'] = miRNA_gene['cell_line'].str.lower().str.replace('cells', 'cell').str.replace(\n",
    "    'lines', 'line').str.replace(r's$', '', regex=True)\n",
    "miRNA_gene = pd.merge(miRNA_gene,\n",
    "                     desc_clo_map2,\n",
    "                     left_on=['cellCleaned'],\n",
    "                     right_on=[0],\n",
    "                     how='left')\n",
    "\n",
    "miRNA_gene[1].fillna(miRNA_gene['cell_line'], inplace=True)\n",
    "miRNA_gene.drop(columns=['cell_line'], inplace=True)\n",
    "miRNA_gene.rename(columns={1: 'cell_line'}, inplace=True)\n",
    "miRNA_gene.drop(columns=['cellCleaned',0], inplace=True)\n",
    "miRNA_gene['cell_line'] = miRNA_gene['cell_line'].astype(str).replace('<NA>', np.nan)\n",
    "miRNA_gene"
   ]
  },
  {
   "cell_type": "markdown",
   "metadata": {},
   "source": [
    "- Method."
   ]
  },
  {
   "cell_type": "code",
   "execution_count": null,
   "metadata": {},
   "outputs": [],
   "source": [
    "miRNA_gene['method'] = miRNA_gene['method'].str.replace('\\\\', '|')\n",
    "\n",
    "miRNA_gene.method = miRNA_gene.method.str.lower()\n",
    "miRNA_gene.method = miRNA_gene.method.str.replace(\"//\", '|')\n",
    "miRNA_gene.method = miRNA_gene.method.str.replace(\"/\", '|')\n",
    "\n",
    "miRNA_gene.method.unique()[:5]\n",
    "ncit_dict = dict(zip(desc_ncit_map[0], 'http://purl.obolibrary.org/obo/' + desc_ncit_map[1] +\n",
    "                      ' (' + desc_ncit_map[0] + ')'))\n",
    "\n",
    "def replace_with_ncit(substring):\n",
    "    if pd.isna(substring):\n",
    "        return np.nan\n",
    "    else:\n",
    "        return '|'.join([ncit_dict.get(part, part) for part in substring.split('|')])\n",
    "\n",
    "miRNA_gene.method = [replace_with_ncit(item) for item in miRNA_gene.method]\n",
    "miRNA_gene.method.unique()[:5]"
   ]
  },
  {
   "cell_type": "markdown",
   "metadata": {},
   "source": [
    "- Tissue."
   ]
  },
  {
   "cell_type": "code",
   "execution_count": null,
   "metadata": {},
   "outputs": [],
   "source": [
    "miRNA_gene.tissue = miRNA_gene.tissue.str.lower()\n",
    "miRNA_gene.tissue = miRNA_gene.tissue.str.replace(\"/\", '|')\n",
    "miRNA_gene.tissue = miRNA_gene.tissue.str.replace(\"larva, whole\", 'larva')\n",
    "\n",
    "miRNA_gene.tissue.unique()[:5]"
   ]
  },
  {
   "cell_type": "code",
   "execution_count": null,
   "metadata": {},
   "outputs": [],
   "source": [
    "uberon_dict = dict(zip(desc_uberon_map[0], 'http://purl.obolibrary.org/obo/' + desc_uberon_map[1] +\n",
    "                      ' (' + desc_uberon_map[0] + ')'))\n",
    "\n",
    "def replace_with_uberon(substring):\n",
    "    if pd.isna(substring):\n",
    "        return np.nan\n",
    "    else:\n",
    "        return '|'.join([uberon_dict.get(part, part) for part in substring.split('|')])\n",
    "\n",
    "miRNA_gene.tissue = [replace_with_uberon(item) for item in miRNA_gene.tissue]\n",
    "miRNA_gene.tissue.unique()[:5]"
   ]
  },
  {
   "cell_type": "markdown",
   "metadata": {},
   "source": [
    "Let's divide miRNA-gene interactions into mature_miRNA-gene interactions and stem-loop_miRNA-gene interactions."
   ]
  },
  {
   "cell_type": "code",
   "execution_count": null,
   "metadata": {},
   "outputs": [],
   "source": [
    "miRNA_gene = pd.merge(mirna_mirbase_map.rename(columns={2: 'miRNA'}), miRNA_gene, on='miRNA')\n",
    "miRNA_gene.drop(columns=['miRNA'], inplace=True)\n",
    "\n",
    "# move 'Source(s)' column to the end of the dataframe\n",
    "miRNA_gene.insert(len(miRNA_gene.columns)-1, 'Source(s)', miRNA_gene.pop('Source(s)'))\n",
    "\n",
    "miRNA_gene"
   ]
  },
  {
   "cell_type": "markdown",
   "metadata": {},
   "source": [
    "Does miRNA_gene contain only mature miRNA sequences?"
   ]
  },
  {
   "cell_type": "code",
   "execution_count": null,
   "metadata": {},
   "outputs": [],
   "source": [
    "all(miRNA_gene[0].str.startswith('MIMAT'))"
   ]
  },
  {
   "cell_type": "code",
   "execution_count": null,
   "metadata": {},
   "outputs": [],
   "source": [
    "#directly regulates - RO:0002578\n",
    "miRNA_gene_direct = miRNA_gene[(miRNA_gene['direct_indirect'] == 'DIRECT') & (miRNA_gene['up_down'].isna()) &\n",
    "                                           (miRNA_gene['positive_negative'].isna())]\n",
    "#indirectly regulates - RO:0012012\n",
    "miRNA_gene_indirect = miRNA_gene[(miRNA_gene['direct_indirect'] == 'INDIRECT') & (miRNA_gene['up_down'].isna()) &\n",
    "                                             (miRNA_gene['positive_negative'].isna())]\n",
    "#positively regulates - RO:0002213\n",
    "miRNA_gene_up = miRNA_gene[((miRNA_gene['up_down'] == 'UP') | (miRNA_gene['positive_negative'] == 'POSITIVE')) &\n",
    "                                 (miRNA_gene['direct_indirect'].isna())]\n",
    "#negatively regulates - RO:0002212\n",
    "miRNA_gene_down = miRNA_gene[((miRNA_gene['up_down'] == 'DOWN') | (miRNA_gene['positive_negative'] == 'NEGATIVE')) &\n",
    "                                         (miRNA_gene['direct_indirect'].isna())]\n",
    "\n",
    "#directly negatively regulates - RO:0002630\n",
    "miRNA_gene_direct_down = miRNA_gene[((miRNA_gene['up_down'] == 'DOWN') | (miRNA_gene['positive_negative'] == 'NEGATIVE')) &\n",
    "                                                (miRNA_gene['direct_indirect'] == 'DIRECT')]\n",
    "#indirectly negatively regulates - RO:0002409\n",
    "miRNA_gene_indirect_down = miRNA_gene[((miRNA_gene['up_down'] == 'DOWN') | (miRNA_gene['positive_negative'] == 'NEGATIVE')) &\n",
    "                                                  (miRNA_gene['direct_indirect'] == 'INDIRECT')]\n",
    "#directly positively regulates - RO:0002629\n",
    "miRNA_gene_direct_up = miRNA_gene[((miRNA_gene['up_down'] == 'UP') | (miRNA_gene['positive_negative'] == 'POSITIVE')) &\n",
    "                                              (miRNA_gene['direct_indirect'] == 'DIRECT')]\n",
    "#indirectly positively regulates - RO:0002407\n",
    "miRNA_gene_indirect_up = miRNA_gene[((miRNA_gene['up_down'] == 'UP') | (miRNA_gene['positive_negative'] == 'POSITIVE')) &\n",
    "                                                (miRNA_gene['direct_indirect'] == 'INDIRECT')]\n",
    "#regulates activity of - RO:0011002\n",
    "miRNA_gene = miRNA_gene[(miRNA_gene['direct_indirect'].isna()) & (miRNA_gene['up_down'].isna()) &\n",
    "                                    (miRNA_gene['positive_negative'].isna())]"
   ]
  },
  {
   "cell_type": "code",
   "execution_count": null,
   "metadata": {},
   "outputs": [],
   "source": [
    "# Check dataframes' emptiness\n",
    "miRNA_gene_direct_empty = miRNA_gene_direct.empty\n",
    "miRNA_gene_indirect_empty = miRNA_gene_indirect.empty\n",
    "miRNA_gene_up_empty = miRNA_gene_up.empty\n",
    "miRNA_gene_down_empty = miRNA_gene_down.empty\n",
    "miRNA_gene_direct_down_empty = miRNA_gene_direct_down.empty\n",
    "miRNA_gene_indirect_down_empty = miRNA_gene_indirect_down.empty\n",
    "miRNA_gene_direct_up_empty = miRNA_gene_direct_up.empty\n",
    "miRNA_gene_indirect_up_empty = miRNA_gene_indirect_up.empty\n",
    "miRNA_gene_empty = miRNA_gene.empty\n",
    "\n",
    "print(miRNA_gene_direct_empty, miRNA_gene_indirect_empty, miRNA_gene_up_empty, miRNA_gene_down_empty,\n",
    "      miRNA_gene_direct_down_empty, miRNA_gene_indirect_down_empty, miRNA_gene_direct_up_empty,\n",
    "      miRNA_gene_indirect_up_empty, miRNA_gene_empty)"
   ]
  },
  {
   "cell_type": "code",
   "execution_count": null,
   "metadata": {},
   "outputs": [],
   "source": [
    "# Method to santize rows before writing to file (we do that so each line contains a unique relationships)\n",
    "def merge_rows(df, column1, column2):\n",
    "    df = df.drop_duplicates()\n",
    "    df_merged = df.groupby([column1, column2]).agg(lambda x: '|'.join(set(str(i) for i in x if pd.notnull(i)))).reset_index()\n",
    "    return df_merged.drop_duplicates()"
   ]
  },
  {
   "cell_type": "code",
   "execution_count": null,
   "metadata": {},
   "outputs": [],
   "source": [
    "# We can drop 'up_down', 'positive_negative', and 'direct_indirect' columns since we already used them to distinguish relationships\n",
    "miRNA_gene.drop(columns=['up_down', 'positive_negative', 'direct_indirect'], inplace=True)\n",
    "miRNA_gene_direct_down.drop(columns=['up_down', 'positive_negative', 'direct_indirect'], inplace=True)\n",
    "miRNA_gene_indirect_down.drop(columns=['up_down', 'positive_negative', 'direct_indirect'], inplace=True)\n",
    "miRNA_gene_direct_up.drop(columns=['up_down', 'positive_negative', 'direct_indirect'], inplace=True)\n",
    "miRNA_gene_indirect_up.drop(columns=['up_down', 'positive_negative', 'direct_indirect'], inplace=True)"
   ]
  },
  {
   "cell_type": "markdown",
   "metadata": {},
   "source": [
    "We properly rename columns before saving files."
   ]
  },
  {
   "cell_type": "code",
   "execution_count": null,
   "metadata": {},
   "outputs": [],
   "source": [
    "miRNA_gene.columns"
   ]
  },
  {
   "cell_type": "code",
   "execution_count": null,
   "metadata": {},
   "outputs": [],
   "source": [
    "miRNA_gene.rename(columns={0:'miRNA', 'ENTREZID':'Gene', 'cell_line': 'Cell line', 'tissue': 'Tissue', 'category':'Category',\n",
    "                           'method':'Method', 'condition':'Condition', 'Site Type': 'Site type', 'UTR_start': 'UTR start',\n",
    "                           'context++ score': 'Context++ score', 'context++ score percentile': 'Context++ score percentile',\n",
    "                           'weighted context++ score': 'Weighted context++ score', 'weighted context++ score percentile':\n",
    "                           'Weighted context++ score percentile'}, inplace=True)\n",
    "miRNA_gene_direct_down.rename(columns={0:'miRNA', 'ENTREZID':'Gene', 'cell_line': 'Cell line', 'tissue': 'Tissue', 'category':'Category',\n",
    "                           'method':'Method', 'condition':'Condition', 'Site Type': 'Site type', 'UTR_start': 'UTR start',\n",
    "                           'context++ score': 'Context++ score', 'context++ score percentile': 'Context++ score percentile',\n",
    "                           'weighted context++ score': 'Weighted context++ score', 'weighted context++ score percentile':\n",
    "                           'Weighted context++ score percentile'}, inplace=True)\n",
    "miRNA_gene_indirect_down.rename(columns={0:'miRNA', 'ENTREZID':'Gene', 'cell_line': 'Cell line', 'tissue': 'Tissue', 'category':'Category',\n",
    "                           'method':'Method', 'condition':'Condition', 'Site Type': 'Site type', 'UTR_start': 'UTR start',\n",
    "                           'context++ score': 'Context++ score', 'context++ score percentile': 'Context++ score percentile',\n",
    "                           'weighted context++ score': 'Weighted context++ score', 'weighted context++ score percentile':\n",
    "                           'Weighted context++ score percentile'}, inplace=True)\n",
    "miRNA_gene_direct_up.rename(columns={0:'miRNA', 'ENTREZID':'Gene', 'cell_line': 'Cell line', 'tissue': 'Tissue', 'category':'Category',\n",
    "                           'method':'Method', 'condition':'Condition', 'Site Type': 'Site type', 'UTR_start': 'UTR start',\n",
    "                           'context++ score': 'Context++ score', 'context++ score percentile': 'Context++ score percentile',\n",
    "                           'weighted context++ score': 'Weighted context++ score', 'weighted context++ score percentile':\n",
    "                           'Weighted context++ score percentile'}, inplace=True)\n",
    "miRNA_gene_indirect_up.rename(columns={0:'miRNA', 'ENTREZID':'Gene', 'cell_line': 'Cell line', 'tissue': 'Tissue', 'category':'Category',\n",
    "                           'method':'Method', 'condition':'Condition', 'Site Type': 'Site type', 'UTR_start': 'UTR start',\n",
    "                           'context++ score': 'Context++ score', 'context++ score percentile': 'Context++ score percentile',\n",
    "                           'weighted context++ score': 'Weighted context++ score', 'weighted context++ score percentile':\n",
    "                           'Weighted context++ score percentile'}, inplace=True)"
   ]
  },
  {
   "cell_type": "code",
   "execution_count": null,
   "metadata": {},
   "outputs": [],
   "source": [
    "merge_rows(miRNA_gene, 'miRNA', 'Gene').to_csv(\n",
    "    edge_data_location + 'RmiRNA-gene11002.txt', sep='\\t', index=None)\n",
    "merge_rows(miRNA_gene_direct_down, 'miRNA', 'Gene').to_csv(\n",
    "    edge_data_location + 'RmiRNA-gene2449.txt', sep='\\t', index=None)\n",
    "merge_rows(miRNA_gene_indirect_down, 'miRNA', 'Gene').to_csv(\n",
    "    edge_data_location + 'RmiRNA-gene11016.txt', sep='\\t', index=None)\n",
    "merge_rows(miRNA_gene_direct_up, 'miRNA', 'Gene').to_csv(\n",
    "    edge_data_location + 'RmiRNA-gene2450.txt', sep='\\t', index=None)\n",
    "merge_rows(miRNA_gene_indirect_up, 'miRNA', 'Gene').to_csv(\n",
    "    edge_data_location + 'RmiRNA-gene11013.txt', sep='\\t', index=None)"
   ]
  },
  {
   "cell_type": "markdown",
   "metadata": {},
   "source": [
    "***\n",
    "### miRNA-mRNA - http://purl.obolibrary.org/obo/RO_0011002 (regulates activity of)\n",
    "* [miRDB](https://mirdb.org/index.html) <br />  miRDB is an online database for miRNA target prediction and functional annotations. All the targets in miRDB were predicted by a bioinformatics tool, MirTarget, which was developed by analyzing thousands of miRNA-target interactions from high-throughput sequencing experiments."
   ]
  },
  {
   "cell_type": "code",
   "execution_count": null,
   "metadata": {},
   "outputs": [],
   "source": [
    "data_downloader('https://mirdb.org/download/miRDB_v6.0_prediction_result.txt.gz', unprocessed_data_location)"
   ]
  },
  {
   "cell_type": "code",
   "execution_count": null,
   "metadata": {},
   "outputs": [],
   "source": [
    "miRNA_mRNA = pd.read_csv(unprocessed_data_location+'miRDB_v6.0_prediction_result.txt', sep='\\t', names=['miRNA', 'mRNA', 'score'])\n",
    "miRNA_mRNA['Source(s)'] = 'miRDB'\n",
    "# For the time being, we keep only Homo sapiens rows\n",
    "miRNA_mRNA = miRNA_mRNA[miRNA_mRNA['miRNA'].str.startswith(\"hsa\")]\n",
    "\n",
    "# From miRDB:\n",
    "# All the predicted targets have target prediction scores between 50 - 100.\n",
    "# These scores are assigned by the new computational target prediction algorithm.\n",
    "# The higher the score, the more confidence we have in this prediction.\n",
    "# That is why the search result is ordered by prediction score.\n",
    "# In our experience, a predicted target with prediction score > 80 is most likely to be real.\n",
    "# If the score is below 60, you need to be cautious and it is recommended to have other supporting evidence as well.  \n",
    "miRNA_mRNA = miRNA_mRNA[miRNA_mRNA['score']>80]\n",
    "miRNA_mRNA"
   ]
  },
  {
   "cell_type": "markdown",
   "metadata": {},
   "source": [
    "***\n",
    "* [miRecords](http://c1.accurascience.com/miRecords/download_data.php?v=4) <br />  miRecords is a resource for animal miRNA-target interactions."
   ]
  },
  {
   "cell_type": "code",
   "execution_count": null,
   "metadata": {},
   "outputs": [],
   "source": [
    "!wget http://c1.accurascience.com/miRecords/download_data.php?v=4"
   ]
  },
  {
   "cell_type": "code",
   "execution_count": null,
   "metadata": {},
   "outputs": [],
   "source": [
    "miRNA_mRNA2 = pd.read_excel(unprocessed_data_location+\"miRecords_version4.xls\") \n",
    "miRNA_mRNA2['Source(s)'] = 'miRecords|miRNet'\n",
    "\n",
    "# For the time being, we keep only Homo sapiens rows\n",
    "miRNA_mRNA2 = miRNA_mRNA2[miRNA_mRNA2['Target gene_species_scientific'].str.contains(\"apiens\")]\n",
    "miRNA_mRNA2 = miRNA_mRNA2[miRNA_mRNA2['miRNA_species'].str.contains(\"apiens\")]\n",
    "miRNA_mRNA2['Target gene_Refseq_acc']= miRNA_mRNA2['Target gene_Refseq_acc'].str.split(\".\").str[0]\n",
    "miRNA_mRNA2.rename(columns={'Target gene_Refseq_acc': 'mRNA', 'miRNA_mature_ID': 'miRNA'}, inplace=True)\n",
    "miRNA_mRNA2.drop(columns=['Target gene_species_scientific','Target gene_name','miRNA_species'], inplace=True)\n",
    "\n",
    "miRNA_mRNA2"
   ]
  },
  {
   "cell_type": "code",
   "execution_count": null,
   "metadata": {},
   "outputs": [],
   "source": [
    "mRNA_miRNA = pd.merge(miRNA_mRNA, miRNA_mRNA2, how='outer', on=['mRNA', 'miRNA'])\n",
    "mRNA_miRNA"
   ]
  },
  {
   "cell_type": "code",
   "execution_count": null,
   "metadata": {},
   "outputs": [],
   "source": [
    "mRNA_miRNA['Source(s)_x'] = mRNA_miRNA['Source(s)_x'].astype(str)\n",
    "mRNA_miRNA['Source(s)_y'] = mRNA_miRNA['Source(s)_y'].astype(str)\n",
    "mRNA_miRNA['Source(s)'] = mRNA_miRNA['Source(s)_x'] + '|' + mRNA_miRNA['Source(s)_y']\n",
    "mRNA_miRNA = mRNA_miRNA.drop(columns=['Source(s)_x', 'Source(s)_y'])\n",
    "mRNA_miRNA"
   ]
  },
  {
   "cell_type": "code",
   "execution_count": null,
   "metadata": {},
   "outputs": [],
   "source": [
    "mRNA_miRNA[['mRNA']].to_csv(unprocessed_data_location + 'mRNA.txt', header=None, index=None)"
   ]
  },
  {
   "cell_type": "raw",
   "metadata": {},
   "source": [
    "%%R\n",
    "acc=read.table(\"/Users/emanuelecavalleri/Desktop/mRNA.txt\", header=F, stringsAsFactors=F) \n",
    "clusterProfiler::bitr(acc$V1,fromType = \"ACCNUM\",toType = \"ENTREZID\",OrgDb = org.Hs.eg.db)"
   ]
  },
  {
   "cell_type": "code",
   "execution_count": null,
   "metadata": {},
   "outputs": [],
   "source": [
    "mRNA = pd.read_csv(unprocessed_data_location+'mRNA.csv')\n",
    "mRNA.rename(columns={'ACCNUM': 'mRNA'}, inplace=True)\n",
    "mRNA"
   ]
  },
  {
   "cell_type": "code",
   "execution_count": null,
   "metadata": {},
   "outputs": [],
   "source": [
    "mRNA_miRNA = pd.merge(mRNA_miRNA, mRNA, on=['mRNA'])\n",
    "mRNA_miRNA.insert(1, 'ENTREZID', mRNA_miRNA.pop(\"ENTREZID\"))\n",
    "mRNA_miRNA"
   ]
  },
  {
   "cell_type": "markdown",
   "metadata": {},
   "source": [
    "***\n",
    "* [SomamiR](https://compbio.uthsc.edu/SomamiR/) <br /> SomamiR is a database of cancer somatic mutations in microRNAs (miRNA) and their target sites that potentially alter the interactions between miRNAs and competing endogenous RNAs (ceRNA) including mRNAs, circular RNAs (circRNA) and long noncoding RNAs (lncRNA)."
   ]
  },
  {
   "cell_type": "code",
   "execution_count": null,
   "metadata": {},
   "outputs": [],
   "source": [
    "!wget https://compbio.uthsc.edu/SomamiR/download/predicted_mRNA_targets_somamir_v2.0.txt.tar.gz"
   ]
  },
  {
   "cell_type": "code",
   "execution_count": null,
   "metadata": {},
   "outputs": [],
   "source": [
    "mRNA_miRNA2 = pd.read_csv(unprocessed_data_location+'predicted_mRNA_targets_somamir_v2.0.txt.tar.gz',sep='\\t')\n",
    "mRNA_miRNA2.drop(columns=['Chromosome','strand','Organisms'],inplace=True)\n",
    "# We select only relationships validated by TargetScan\n",
    "mRNA_miRNA2 = mRNA_miRNA2[mRNA_miRNA2['Targetscan']==1] \n",
    "mRNA_miRNA2.drop(columns=['Targetscan'],inplace=True)\n",
    "mRNA_miRNA2 = pd.merge(mRNA_miRNA2, symbol_entrez_map.rename(columns={'0_x':'Genesymbol'}), on='Genesymbol')\n",
    "mRNA_miRNA2.drop(columns=['Genesymbol'],inplace=True)\n",
    "mRNA_miRNA2.rename(columns={'0_y':'ENTREZID'},inplace=True)\n",
    "mRNA_miRNA2['Source(s)'] = 'SomamiR'\n",
    "mRNA_miRNA2"
   ]
  },
  {
   "cell_type": "code",
   "execution_count": null,
   "metadata": {},
   "outputs": [],
   "source": [
    "mRNA_miRNA= pd.merge(mRNA_miRNA, mRNA_miRNA2, how='outer', on=['miRNA','ENTREZID'])\n",
    "\n",
    "mRNA_miRNA['Pubmed_id'].fillna(mRNA_miRNA['Pubmedid'], inplace=True)\n",
    "mRNA_miRNA['Pubmed_id'] = mRNA_miRNA['Pubmed_id'].astype(str)\n",
    "mRNA_miRNA['Pubmedid'] = mRNA_miRNA['Pubmedid'].astype(str)\n",
    "mRNA_miRNA.loc[(mRNA_miRNA[\"Pubmed_id\"]!=\"<NA>\") &\n",
    "               (mRNA_miRNA[\"Pubmedid\"].notna()) &\n",
    "               (mRNA_miRNA[\"Pubmed_id\"] !=\n",
    "                mRNA_miRNA[\"Pubmedid\"]),\n",
    "               [\"Pubmed_id\"]] = mRNA_miRNA[\"Pubmed_id\"] + '|' + mRNA_miRNA[\"Pubmedid\"]\n",
    "mRNA_miRNA.drop(columns=['Pubmedid'],inplace=True)\n",
    "\n",
    "mRNA_miRNA['Source(s)_x'] = mRNA_miRNA['Source(s)_x'].astype(str)\n",
    "mRNA_miRNA['Source(s)_y'] = mRNA_miRNA['Source(s)_y'].astype(str)\n",
    "mRNA_miRNA['Source(s)'] = mRNA_miRNA['Source(s)_x'] + '|' + mRNA_miRNA['Source(s)_y']\n",
    "mRNA_miRNA = mRNA_miRNA.drop(columns=['Source(s)_x', 'Source(s)_y'])\n",
    "\n",
    "mRNA_miRNA"
   ]
  },
  {
   "cell_type": "markdown",
   "metadata": {},
   "source": [
    "***\n",
    "* [miRdSNP](http://mirdsnp.ccr.buffalo.edu/index.php) <br /> miRdSNP is a database of disease-associated SNPs and microRNA target sites on 3'UTRs of human genes."
   ]
  },
  {
   "cell_type": "code",
   "execution_count": null,
   "metadata": {},
   "outputs": [],
   "source": [
    "!wget http://mirdsnp.ccr.buffalo.edu/downloads/mirdsnp-dsnp-generated-mir-targets-v11.03.csv"
   ]
  },
  {
   "cell_type": "code",
   "execution_count": null,
   "metadata": {},
   "outputs": [],
   "source": [
    "mRNA_miRNA2 = pd.read_csv(unprocessed_data_location+'mirdsnp-dsnp-generated-mir-targets-v11.03.csv')\n",
    "#mRNA_miRNA2 = mRNA_miRNA2[mRNA_miRNA2['experimentally_confirmed']=='Yes']\n",
    "mRNA_miRNA2.drop(columns=['experimentally_confirmed'],inplace=True)\n",
    "mRNA_miRNA2 = pd.merge(mRNA_miRNA2, symbol_entrez_map.rename(columns={'0_x':'gene_name'}), on='gene_name')\n",
    "mRNA_miRNA2.drop(columns=['gene_name'],inplace=True)\n",
    "mRNA_miRNA2.rename(columns={'0_y':'ENTREZID','miR':'miRNA'},inplace=True)\n",
    "mRNA_miRNA2['Source(s)'] = 'miRdSNP'\n",
    "mRNA_miRNA2"
   ]
  },
  {
   "cell_type": "code",
   "execution_count": null,
   "metadata": {},
   "outputs": [],
   "source": [
    "mRNA_miRNA= pd.merge(mRNA_miRNA, mRNA_miRNA2, how='outer', on=['miRNA','ENTREZID'])\n",
    "\n",
    "mRNA_miRNA['diseases'].fillna(mRNA_miRNA['Cancertype'], inplace=True)\n",
    "mRNA_miRNA.loc[(mRNA_miRNA[\"diseases\"].notna()) &\n",
    "               (mRNA_miRNA[\"Cancertype\"].notna()) &\n",
    "               (mRNA_miRNA[\"diseases\"] !=\n",
    "                mRNA_miRNA[\"Cancertype\"]),\n",
    "               [\"diseases\"]] = mRNA_miRNA[\"diseases\"] + '|' + mRNA_miRNA[\"Cancertype\"]\n",
    "mRNA_miRNA.drop(columns=['Cancertype'],inplace=True)\n",
    "\n",
    "mRNA_miRNA['Refseq'].fillna(mRNA_miRNA['refseq_id'], inplace=True)\n",
    "mRNA_miRNA.drop(columns=['refseq_id'],inplace=True)\n",
    "\n",
    "mRNA_miRNA['Source(s)_x'] = mRNA_miRNA['Source(s)_x'].astype(str)\n",
    "mRNA_miRNA['Source(s)_y'] = mRNA_miRNA['Source(s)_y'].astype(str)\n",
    "mRNA_miRNA['Source(s)'] = mRNA_miRNA['Source(s)_x'] + '|' + mRNA_miRNA['Source(s)_y']\n",
    "mRNA_miRNA = mRNA_miRNA.drop(columns=['Source(s)_x', 'Source(s)_y'])\n",
    "\n",
    "mRNA_miRNA"
   ]
  },
  {
   "cell_type": "markdown",
   "metadata": {},
   "source": [
    "In the chunks below, we manually fix some inconsistency."
   ]
  },
  {
   "cell_type": "code",
   "execution_count": null,
   "metadata": {},
   "outputs": [],
   "source": [
    "for column in ['miRNA_regulation', 'Reporter_target gene/region',\n",
    "       'Reporter link element', 'Test_method_inter', 'Target gene mRNA_level',\n",
    "       'Original description', 'Mutation_target region',\n",
    "       'Post mutation_method', 'Original description_mutation_region',\n",
    "       'miRNA_regulation_site', 'Reporter_target site',\n",
    "       'Reporter link element.1', 'Test_method_inter_site',\n",
    "       'Original description_inter_site', 'Mutation_target site',\n",
    "       'Post mutation_method_site', 'Original description_mutation_site',\n",
    "       'Additional note']:\n",
    "    mRNA_miRNA[column] = mRNA_miRNA[column].str.replace('}{', '|', regex=True)\n",
    "    mRNA_miRNA[column] = mRNA_miRNA[column].str.replace('||', '|', regex=True)\n",
    "    mRNA_miRNA[column] = mRNA_miRNA[column].replace('|', np.nan)\n",
    "\n",
    "mRNA_miRNA['Target site_position'] = mRNA_miRNA['Target site_position'].replace('unknown', np.nan)\n",
    "mRNA_miRNA['miRNA_regulation'] = mRNA_miRNA['miRNA_regulation'].str.replace(\n",
    "    'overexpression by siRNA transfection}{mutation', 'mutation}{overexpression by siRNA transfection', regex=True)\n",
    "mRNA_miRNA['miRNA_regulation'] = mRNA_miRNA['miRNA_regulation'].str.replace(\n",
    "    '|mutation|overexpression by siRNA transfection', '', regex=True)\n",
    "\n",
    "mRNA_miRNA['Reporter link element'] = mRNA_miRNA['Reporter link element'].str.replace('}{', '|', regex=True)\n",
    "mRNA_miRNA['Reporter link element'] = mRNA_miRNA['Reporter link element'].str.replace('{', '', regex=True)\n",
    "mRNA_miRNA['Reporter link element'] = mRNA_miRNA['Reporter link element'].str.replace('}', '', regex=True)\n",
    "\n",
    "mRNA_miRNA['Test_method_inter_site'] = mRNA_miRNA['Test_method_inter_site'].str.replace(\n",
    "    '{activity assay}{activity assay}', '{activity assay}', regex=True)\n",
    "mRNA_miRNA['Test_method_inter_site'] = mRNA_miRNA['Test_method_inter_site'].replace('{N/A}', np.nan)\n",
    "mRNA_miRNA['Post mutation_method_site'] = mRNA_miRNA['Post mutation_method_site'].str.replace(\n",
    "    '{Luciferase activity assay}{Luciferase activity assay}', '{Luciferase activity assay}', regex=True)\n",
    "\n",
    "mRNA_miRNA.loc[(mRNA_miRNA[\"mRNA\"].notna()) &\n",
    "                     (mRNA_miRNA[\"Refseq\"].notna()) &\n",
    "                     (mRNA_miRNA[\"mRNA\"] != mRNA_miRNA[\"Refseq\"]),\n",
    "                     [\"mRNA\"]] = mRNA_miRNA[\"mRNA\"] + '|' + mRNA_miRNA[\"Refseq\"]\n",
    "mRNA_miRNA = mRNA_miRNA.drop(columns=['Refseq'])\n",
    "\n",
    "mRNA_miRNA['U_mut_id'] = \"https://cancer.sanger.ac.uk/cosmic/search?q=\" + mRNA_miRNA['U_mut_id'].astype(str)\n",
    "mRNA_miRNA['U_mut_id'] = mRNA_miRNA['U_mut_id'].replace(\"https://cancer.sanger.ac.uk/cosmic/search?q=nan\", np.nan)\n",
    "\n",
    "mRNA_miRNA['SNP'] = \"https://www.ncbi.nlm.nih.gov/snp/\" + mRNA_miRNA['SNP'].astype(str)\n",
    "mRNA_miRNA['SNP'] = mRNA_miRNA['SNP'].replace(\"https://www.ncbi.nlm.nih.gov/snp/nan\", np.nan)\n",
    "\n",
    "mRNA_miRNA['Pubmed_id'] = mRNA_miRNA['Pubmed_id'].astype(str).str.replace('nan\\||\\|nan', '', regex=True)\n",
    "mRNA_miRNA['Pubmed_id'] = mRNA_miRNA['Pubmed_id'].astype(str).str.replace('.0', '', regex=True)\n",
    "mRNA_miRNA['Pubmed_id'] = 'https://pubmed.ncbi.nlm.nih.gov/' + mRNA_miRNA['Pubmed_id']\n",
    "mRNA_miRNA['Pubmed_id'] = mRNA_miRNA['Pubmed_id'].replace('|', '|https://pubmed.ncbi.nlm.nih.gov/')\n",
    "mRNA_miRNA['Pubmed_id'] = mRNA_miRNA['Pubmed_id'].replace('https://pubmed.ncbi.nlm.nih.gov/ICGC', 'ICGC')\n",
    "mRNA_miRNA['Pubmed_id'] = mRNA_miRNA['Pubmed_id'].replace('https://pubmed.ncbi.nlm.nih.gov/PCGP', 'PCGP')\n",
    "mRNA_miRNA['Pubmed_id'] = mRNA_miRNA['Pubmed_id'].replace('https://pubmed.ncbi.nlm.nih.gov/nan', np.nan)\n",
    "\n",
    "mRNA_miRNA['Source(s)'] = mRNA_miRNA['Source(s)'].str.replace('nan\\||\\|nan', '', regex=True)"
   ]
  },
  {
   "cell_type": "markdown",
   "metadata": {},
   "source": [
    "- Disease."
   ]
  },
  {
   "cell_type": "code",
   "execution_count": null,
   "metadata": {},
   "outputs": [],
   "source": [
    "mRNA_miRNA.diseases = mRNA_miRNA.diseases.str.lower()\n",
    "mRNA_miRNA.diseases = mRNA_miRNA.diseases.str.replace(\"[ns]\", ']')\n",
    "mRNA_miRNA.diseases = mRNA_miRNA.diseases.str.replace(\"]\", '|')\n",
    "mRNA_miRNA.diseases = mRNA_miRNA.diseases.str.replace(\"[\", '')\n",
    "mRNA_miRNA.diseases = mRNA_miRNA.diseases.str.replace(\", \", '|')\n",
    "mRNA_miRNA.diseases = mRNA_miRNA.diseases.str.replace(\"||\", '|')\n",
    "mRNA_miRNA.diseases = mRNA_miRNA.diseases.replace(\"|||\", np.nan)\n",
    "mRNA_miRNA.diseases = mRNA_miRNA.diseases.str.replace('_', ' ')\n",
    "mRNA_miRNA.diseases = mRNA_miRNA.diseases.str.replace('lung/sclc', 'small cell lung carcinoma')\n",
    "mRNA_miRNA.diseases = mRNA_miRNA.diseases.replace(r'\\(.*?\\)', '', regex=True)\n",
    "mRNA_miRNA.diseases = mRNA_miRNA.diseases.replace(r'\\|$', '', regex=True)\n",
    "mRNA_miRNA.diseases.unique()[:5]"
   ]
  },
  {
   "cell_type": "code",
   "execution_count": null,
   "metadata": {},
   "outputs": [],
   "source": [
    "mondo_dict = dict(zip(desc_disPhe_map[0], 'http://purl.obolibrary.org/obo/' + desc_disPhe_map[1] +\n",
    "                      ' (' + desc_disPhe_map[0] + ')'))\n",
    "\n",
    "def replace_with_mondo(substring):\n",
    "    if pd.isna(substring):\n",
    "        return np.nan\n",
    "    else:\n",
    "        return '|'.join([mondo_dict.get(part, part) for part in substring.split('|')])\n",
    "\n",
    "mRNA_miRNA.diseases = [replace_with_mondo(item) for item in mRNA_miRNA.diseases]\n",
    "mRNA_miRNA.diseases.unique()"
   ]
  },
  {
   "cell_type": "code",
   "execution_count": null,
   "metadata": {},
   "outputs": [],
   "source": [
    "mRNA_miRNA.columns = mRNA_miRNA.columns.str.replace('_', ' ')\n",
    "mRNA_miRNA = mRNA_miRNA.rename(columns={'mRNA': 'Transcript', 'ENTREZID': 'mRNA', 'score': 'Score', 'Pubmed id': 'References (PMID)',\n",
    "                                        'Mutationid':'Mutation ID', 'Mutationlocation': 'Mutation location', 'Mutantallele': 'Mutant allele',\n",
    "                                        'Targetsiteclass':'Target site class', 'mRNAseq': 'mRNA sequence (binding in capital letters)',\n",
    "                                        'wildtype csp':'Wildtype csp', 'mutant csp':'Mutant csp', 'display first':'Display first',\n",
    "                                        'pita ref':'Pita ref', 'pita mut':'Pita mut', 'pita diff':'Pita diff', 'diseases':'Disease(s)',\n",
    "                                        'distance': 'Distance'})\n",
    "mRNA_miRNA.columns"
   ]
  },
  {
   "cell_type": "markdown",
   "metadata": {},
   "source": [
    "Let's divide miRNA-mRNA interactions into mature_miRNA-mRNA interactions and stem-loop_miRNA-mRNA interactions."
   ]
  },
  {
   "cell_type": "code",
   "execution_count": null,
   "metadata": {},
   "outputs": [],
   "source": [
    "mRNA_miRNA = pd.merge(mirna_mirbase_map.rename(columns={2: 'miRNA'}), mRNA_miRNA, on='miRNA')\n",
    "mRNA_miRNA.drop(columns=['miRNA'], inplace=True)\n",
    "\n",
    "mRNA_miRNA = mRNA_miRNA.rename(columns={0:'miRNA'})\n",
    "\n",
    "# move 'Source(s)' column to the end of the dataframe\n",
    "mRNA_miRNA.insert(len(mRNA_miRNA.columns)-1, 'Source(s)', mRNA_miRNA.pop('Source(s)'))\n",
    "\n",
    "mRNA_miRNA"
   ]
  },
  {
   "cell_type": "code",
   "execution_count": null,
   "metadata": {},
   "outputs": [],
   "source": [
    "mRNA_miRNA['mRNA'] = mRNA_miRNA['mRNA'].astype('str') + '?mRNA'\n",
    "maturemRNA_miRNA = mRNA_miRNA[mRNA_miRNA['miRNA'].str.startswith('MIMAT')]\n",
    "premRNA_miRNA = mRNA_miRNA[~mRNA_miRNA['miRNA'].str.startswith('MIMAT')]"
   ]
  },
  {
   "cell_type": "code",
   "execution_count": null,
   "metadata": {},
   "outputs": [],
   "source": [
    "merge_rows(premRNA_miRNA, 'miRNA', 'mRNA').to_csv(\n",
    "    edge_data_location + 'RpremiRNA-mRNA11002.txt', sep='\\t', index=None)\n",
    "\n",
    "merge_rows(maturemRNA_miRNA, 'miRNA', 'mRNA').to_csv(\n",
    "    edge_data_location + 'RmiRNA-mRNA11002.txt', sep='\\t', index=None)"
   ]
  },
  {
   "cell_type": "markdown",
   "metadata": {},
   "source": [
    "***\n",
    "### miRNA-pseudogene - http://purl.obolibrary.org/obo/RO_0011002 (regulates activity of)"
   ]
  },
  {
   "cell_type": "markdown",
   "metadata": {},
   "source": [
    "* [miRNet](https://www.mirnet.ca/miRNet/)"
   ]
  },
  {
   "cell_type": "code",
   "execution_count": null,
   "metadata": {},
   "outputs": [],
   "source": [
    "! wget https://www.dropbox.com/s/r01ppq5x42v4lyh/miRNet-mir-pseudogene.csv?dl=0"
   ]
  },
  {
   "cell_type": "code",
   "execution_count": null,
   "metadata": {},
   "outputs": [],
   "source": [
    "miRNA_pseudogene = pd.read_csv(unprocessed_data_location+'miRNet-mir-pseudogene.csv?dl=0')\n",
    "miRNA_pseudogene.drop(columns=['mirnet','mir_id','symbol','embl','gene_name','mbv'], inplace=True)\n",
    "miRNA_pseudogene.rename(columns={'mir_acc':'miRNA','entrez':'Pseudogene'}, inplace=True)\n",
    "miRNA_pseudogene['Source(s)'] = 'miRNet'\n",
    "miRNA_pseudogene"
   ]
  },
  {
   "cell_type": "code",
   "execution_count": null,
   "metadata": {},
   "outputs": [],
   "source": [
    "# Does miRNet contain premiRNA-pseudogene interactions?\n",
    "miRNA_pseudogene[~miRNA_pseudogene['miRNA'].str.startswith('MIMAT')].any()"
   ]
  },
  {
   "cell_type": "code",
   "execution_count": null,
   "metadata": {},
   "outputs": [],
   "source": [
    "miRNA_pseudogene.drop_duplicates().to_csv(\n",
    "    edge_data_location+'RmiRNA-pseudogene.txt', sep='\\t', index=None)"
   ]
  },
  {
   "cell_type": "markdown",
   "metadata": {},
   "source": [
    "***\n",
    "### miRNA-epigenetic modification - http://purl.obolibrary.org/obo/RO_0002434 (interacts with)"
   ]
  },
  {
   "cell_type": "markdown",
   "metadata": {},
   "source": [
    "* [EpimiR](http://www.jianglab.cn/EpimiR/index.jsp) <br />\n",
    "The EpimiR database have obtained 1974 regulatory relationships between 19 types of epigenetic modifications (including DNA methylation, histone acetylation, H3K4me3 and H3K27me3, etc.) and 617 miRNAs across 7 species (including Homo sapiens) from nearly 2000 literatures."
   ]
  },
  {
   "cell_type": "code",
   "execution_count": null,
   "metadata": {},
   "outputs": [],
   "source": [
    "#via miRNet --> https://www.dropbox.com/s/p852ndpck5jasxz/miRNet-mir-epi-hsa.csv?dl=0\n",
    "miRNA_epiMod = pd.read_csv(unprocessed_data_location + 'miRNet-mir-epi-hsa.csv')\n",
    "miRNA_epiMod.drop(columns=['mirnet','mir_id','note','res_type','year'], inplace=True)\n",
    "miRNA_epiMod['epi_modification'] = miRNA_epiMod.epi_modification.str.split('/')\n",
    "miRNA_epiMod = miRNA_epiMod.explode('epi_modification')\n",
    "miRNA_epiMod.insert(1, 'epi_modification', miRNA_epiMod.pop(\"epi_modification\"))\n",
    "miRNA_epiMod['Source(s)'] = 'EpimiR|miRNet'\n",
    "miRNA_epiMod"
   ]
  },
  {
   "cell_type": "code",
   "execution_count": null,
   "metadata": {},
   "outputs": [],
   "source": [
    "miRNA_epiMod['epi_modification'] = miRNA_epiMod['epi_modification'].str.replace('DNA Methylation','GO_0006306')\n",
    "miRNA_epiMod['epi_modification'] = miRNA_epiMod['epi_modification'].str.replace('Histone Acetylation','GO_0016573')\n",
    "miRNA_epiMod['epi_modification'] = miRNA_epiMod['epi_modification'].str.replace('Histone Modification','GO_0016570')\n",
    "miRNA_epiMod['epi_modification'].unique()"
   ]
  },
  {
   "cell_type": "markdown",
   "metadata": {},
   "source": [
    "Manually fix inconsistencies."
   ]
  },
  {
   "cell_type": "markdown",
   "metadata": {},
   "source": [
    "- Experiment."
   ]
  },
  {
   "cell_type": "code",
   "execution_count": null,
   "metadata": {},
   "outputs": [],
   "source": [
    "miRNA_epiMod.experiment.unique()"
   ]
  },
  {
   "cell_type": "code",
   "execution_count": null,
   "metadata": {},
   "outputs": [],
   "source": [
    "miRNA_epiMod.experiment = miRNA_epiMod.experiment.str.replace(\"in vivo \", 'in vivo')\n",
    "miRNA_epiMod.experiment = miRNA_epiMod.experiment.str.replace(\"/vivo\", '|in vivo')\n",
    "miRNA_epiMod.experiment = miRNA_epiMod.experiment.str.replace(\"/\", '|')\n",
    "miRNA_epiMod.experiment = miRNA_epiMod.experiment.str.replace(\".\", '|')\n",
    "miRNA_epiMod.experiment = miRNA_epiMod.experiment.str.replace(\"in vitro|in vivo\", 'in vivo|in vitro')\n",
    "miRNA_epiMod.experiment = miRNA_epiMod.experiment.str.replace(\n",
    "    \"in vitro\",'http://purl.obolibrary.org/obo/NCIT_C15263 (in vitro)')\n",
    "miRNA_epiMod.experiment = miRNA_epiMod.experiment.str.replace(\n",
    "    \"in vivo\", 'http://purl.obolibrary.org/obo/NCIT_C15744 (in vivo)')\n",
    "miRNA_epiMod.experiment.unique()"
   ]
  },
  {
   "cell_type": "markdown",
   "metadata": {},
   "source": [
    "- Epigenetic regulator."
   ]
  },
  {
   "cell_type": "code",
   "execution_count": null,
   "metadata": {},
   "outputs": [],
   "source": [
    "miRNA_epiMod.epi_regulator.unique()"
   ]
  },
  {
   "cell_type": "code",
   "execution_count": null,
   "metadata": {},
   "outputs": [],
   "source": [
    "miRNA_epiMod.epi_regulator = miRNA_epiMod.epi_regulator.str.replace(\"/\", '|')\n",
    "miRNA_epiMod.epi_regulator.unique()"
   ]
  },
  {
   "cell_type": "markdown",
   "metadata": {},
   "source": [
    "- Expression"
   ]
  },
  {
   "cell_type": "code",
   "execution_count": null,
   "metadata": {},
   "outputs": [],
   "source": [
    "miRNA_epiMod.expression.unique()"
   ]
  },
  {
   "cell_type": "code",
   "execution_count": null,
   "metadata": {},
   "outputs": [],
   "source": [
    "miRNA_epiMod.expression = miRNA_epiMod.expression.str.replace(\n",
    "    \"low\",'http://purl.obolibrary.org/obo/NCIT_C177694 (decreased expression)')\n",
    "miRNA_epiMod.expression = miRNA_epiMod.expression.str.replace(\n",
    "    \"high\",'http://purl.obolibrary.org/obo/NCIT_C177693 (elevated expression)')\n",
    "miRNA_epiMod.expression.unique()"
   ]
  },
  {
   "cell_type": "markdown",
   "metadata": {},
   "source": [
    "- Epi target."
   ]
  },
  {
   "cell_type": "code",
   "execution_count": null,
   "metadata": {},
   "outputs": [],
   "source": [
    "miRNA_epiMod.epi_target.unique()[:5]"
   ]
  },
  {
   "cell_type": "code",
   "execution_count": null,
   "metadata": {},
   "outputs": [],
   "source": [
    "miRNA_epiMod.epi_target = miRNA_epiMod.epi_target.str.lower()\n",
    "miRNA_epiMod.epi_target = miRNA_epiMod.epi_target.str.replace(\"/\", '|')\n",
    "miRNA_epiMod.epi_target = miRNA_epiMod.epi_target.str.replace(\" cluster\", '')\n",
    "miRNA_epiMod.epi_target = miRNA_epiMod.epi_target.replace(\"\\\\\\\\\\\\\\\\N\", np.nan)\n",
    "miRNA_epiMod.epi_target = miRNA_epiMod.epi_target.replace(r'\\(.*?\\)', '', regex=True)\n",
    "miRNA_epiMod.epi_target = miRNA_epiMod.epi_target.replace(r' \\(.*?\\)', '', regex=True)\n",
    "\n",
    "pro_dict = dict(zip(desc_pro_map[0], 'http://purl.obolibrary.org/obo/' + desc_pro_map[1] +\n",
    "                   ' (' + desc_pro_map[0] + ')'))\n",
    "\n",
    "def replace_with_pro(substring):\n",
    "    if pd.isna(substring):\n",
    "        return np.nan\n",
    "    else:\n",
    "        return '|'.join([pro_dict.get(part, part) for part in substring.split('|')])\n",
    "\n",
    "miRNA_epiMod.epi_target = [replace_with_pro(item) for item in miRNA_epiMod.epi_target]\n",
    "miRNA_epiMod.epi_target.unique()[:5]"
   ]
  },
  {
   "cell_type": "markdown",
   "metadata": {},
   "source": [
    "- Detection method."
   ]
  },
  {
   "cell_type": "code",
   "execution_count": null,
   "metadata": {},
   "outputs": [],
   "source": [
    "miRNA_epiMod.detect.unique()"
   ]
  },
  {
   "cell_type": "code",
   "execution_count": null,
   "metadata": {},
   "outputs": [],
   "source": [
    "miRNA_epiMod.detect = miRNA_epiMod.detect.str.replace('(promoter+inhibitor)microarray',\n",
    "                                                      'promoter+inhibitor+microarray')\n",
    "miRNA_epiMod.detect = miRNA_epiMod.detect.str.replace('microarray',\n",
    "                                                      'http://purl.obolibrary.org/obo/NCIT_C44282 (microarray)')\n",
    "miRNA_epiMod.detect = miRNA_epiMod.detect.str.replace('promoter',\n",
    "                                                      'http://purl.obolibrary.org/obo/NCIT_C13297 (promoter)')\n",
    "miRNA_epiMod.detect = miRNA_epiMod.detect.str.replace('inhibitor',\n",
    "                                                      'http://purl.obolibrary.org/obo/NCIT_C154898 (inhibitor)')\n",
    "miRNA_epiMod.detect = miRNA_epiMod.detect.str.replace('expression',\n",
    "                                                      'http://purl.obolibrary.org/obo/NCIT_C80488 (expression)')\n",
    "miRNA_epiMod.detect = miRNA_epiMod.detect.str.replace('target',\n",
    "                                                      'http://purl.obolibrary.org/obo/NCIT_C25702 (target)')\n",
    "miRNA_epiMod.detect = miRNA_epiMod.detect.str.replace('transfection',\n",
    "                                                      'http://purl.obolibrary.org/obo/NCIT_C17209 (transfection)')\n",
    "miRNA_epiMod.detect = miRNA_epiMod.detect.str.replace('methylation',\n",
    "                                                      'http://purl.obolibrary.org/obo/NCIT_C16848 (methylation)')\n",
    "miRNA_epiMod.detect.unique()[:5]"
   ]
  },
  {
   "cell_type": "markdown",
   "metadata": {},
   "source": [
    "- Condition."
   ]
  },
  {
   "cell_type": "code",
   "execution_count": null,
   "metadata": {},
   "outputs": [],
   "source": [
    "miRNA_epiMod.condition.unique()[:5]"
   ]
  },
  {
   "cell_type": "code",
   "execution_count": null,
   "metadata": {},
   "outputs": [],
   "source": [
    "miRNA_epiMod.condition = miRNA_epiMod.condition.str.replace('non-small-cell lung cancer', 'non-small cell lung carcinoma')\n",
    "miRNA_epiMod.condition = [replace_with_mondo(item) for item in miRNA_epiMod.condition]\n",
    "miRNA_epiMod.condition.unique()[:5]"
   ]
  },
  {
   "cell_type": "markdown",
   "metadata": {},
   "source": [
    "- References"
   ]
  },
  {
   "cell_type": "code",
   "execution_count": null,
   "metadata": {},
   "outputs": [],
   "source": [
    "\n",
    "miRNA_epiMod['pmid'] = 'https://pubmed.ncbi.nlm.nih.gov/' + miRNA_epiMod['pmid'].astype(str)\n",
    "miRNA_epiMod['pmid'] = miRNA_epiMod['pmid'].replace('https://pubmed.ncbi.nlm.nih.gov/nan', np.nan)"
   ]
  },
  {
   "cell_type": "code",
   "execution_count": null,
   "metadata": {},
   "outputs": [],
   "source": [
    "miRNA_epiMod.rename(columns={'mir_acc':'miRNA', 'epi_modification':'Epigenetic modification', 'epi_regulator':'Epigenetic regulator',\n",
    "                             'experiment':'Experiment', 'expression':'Expression', 'pmid':'References (PMID)', 'epi_target':'Epigenetic target',\n",
    "                             'condition':'Condition', 'detect':'Detect', 'support':'Support'}, inplace=True)"
   ]
  },
  {
   "cell_type": "markdown",
   "metadata": {},
   "source": [
    "Let's divide miRNA-epiMod interactions into mature_miRNA-epiMod interactions and stem-loop_miRNA-epiMod interactions. Furthermore, let's divide GO classes from entities."
   ]
  },
  {
   "cell_type": "code",
   "execution_count": null,
   "metadata": {},
   "outputs": [],
   "source": [
    "maturemiRNA_epiMod = miRNA_epiMod[miRNA_epiMod['miRNA'].str.startswith('MIMAT')]\n",
    "premiRNA_epiMod = miRNA_epiMod[miRNA_epiMod['miRNA'].str.startswith('MI') &\n",
    "                               (~miRNA_epiMod['miRNA'].str.startswith('MIMAT'))]"
   ]
  },
  {
   "cell_type": "code",
   "execution_count": null,
   "metadata": {},
   "outputs": [],
   "source": [
    "maturemiRNA_epiMod_class = maturemiRNA_epiMod[maturemiRNA_epiMod['Epigenetic modification'].str.startswith('GO')]\n",
    "premiRNA_epiMod_class = premiRNA_epiMod[premiRNA_epiMod['Epigenetic modification'].str.startswith('GO')]\n",
    "\n",
    "maturemiRNA_epiMod_class.drop_duplicates().to_csv(\n",
    "    edge_data_location + 'RmiRNA-epiModclass.txt', header=None, sep='\\t', index=None)\n",
    "premiRNA_epiMod_class.drop_duplicates().to_csv(\n",
    "    edge_data_location + 'RpremiRNA-epiModclass.txt', header=None, sep='\\t', index=None)"
   ]
  },
  {
   "cell_type": "code",
   "execution_count": null,
   "metadata": {},
   "outputs": [],
   "source": [
    "maturemiRNA_epiMod = maturemiRNA_epiMod[~maturemiRNA_epiMod['Epigenetic modification'].str.startswith('GO')]\n",
    "premiRNA_epiMod = premiRNA_epiMod[~premiRNA_epiMod['Epigenetic modification'].str.startswith('GO')]\n",
    "\n",
    "maturemiRNA_epiMod.drop_duplicates().to_csv(\n",
    "    edge_data_location + 'RmiRNA-epiMod.txt', sep='\\t', index=None)\n",
    "premiRNA_epiMod.drop_duplicates().to_csv(\n",
    "    edge_data_location + 'RpremiRNA-epiMod.txt', sep='\\t', index=None)"
   ]
  },
  {
   "cell_type": "markdown",
   "metadata": {},
   "source": [
    "***\n",
    "### miRNA-disease - http://purl.obolibrary.org/obo/RO_0003302 (causes or contributes to condition)"
   ]
  },
  {
   "cell_type": "markdown",
   "metadata": {},
   "source": [
    "* [miR2Disease](http://watson.compbio.iupui.edu:8080/miR2Disease/) <br />miR2Disease is a manually curated database that aims at providing a comprehensive resource of miRNA deregulation in various human diseases."
   ]
  },
  {
   "cell_type": "code",
   "execution_count": null,
   "metadata": {},
   "outputs": [],
   "source": [
    "data_downloader('http://watson.compbio.iupui.edu:8080/miR2Disease/download/AllEntries.txt', unprocessed_data_location)"
   ]
  },
  {
   "cell_type": "code",
   "execution_count": null,
   "metadata": {},
   "outputs": [],
   "source": [
    "miRNA_disease = pd.read_csv(unprocessed_data_location + 'AllEntries.txt', sep=\"\\t\", header=None) \n",
    "miRNA_disease[1] = miRNA_disease[1].str.lower()\n",
    "miRNA_disease.rename(columns={0: 'mir_id', 1: 'disease'}, inplace=True)\n",
    "miRNA_disease['Source(s)'] = 'miR2Disease'\n",
    "miRNA_disease"
   ]
  },
  {
   "cell_type": "markdown",
   "metadata": {},
   "source": [
    "***\n",
    "* [HMDD](https://www.cuilab.cn/hmdd) <br /> HMDD (the Human microRNA Disease Database) is a database that curated experiment-supported evidence for human microRNA (miRNA) and disease associations. miRNAs are one class of important regulatory RNAs, which mainly repress gene express at the post-transcriptional level."
   ]
  },
  {
   "cell_type": "code",
   "execution_count": null,
   "metadata": {},
   "outputs": [],
   "source": [
    "!wget https://www.cuilab.cn/static/hmdd3/data/alldata.xlsx"
   ]
  },
  {
   "cell_type": "code",
   "execution_count": null,
   "metadata": {},
   "outputs": [],
   "source": [
    "miRNA_disease2 = pd.read_excel(unprocessed_data_location+'alldata.xlsx')\n",
    "miRNA_disease2.rename(columns={'mir': 'mir_id'}, inplace=True)\n",
    "miRNA_disease2.disease = miRNA_disease.disease.str.lower()\n",
    "miRNA_disease2['Source(s)'] = 'HMDD' \n",
    "miRNA_disease2"
   ]
  },
  {
   "cell_type": "code",
   "execution_count": null,
   "metadata": {},
   "outputs": [],
   "source": [
    "miRNA_disease = pd.merge(miRNA_disease,miRNA_disease2,how='outer',on=['mir_id','disease'])\n",
    "\n",
    "miRNA_disease['description'].fillna(miRNA_disease[5], inplace=True)\n",
    "miRNA_disease.loc[(miRNA_disease['description'].notna()) & (miRNA_disease[5].notna()) &\n",
    "                  (miRNA_disease['description'] != miRNA_disease[5]),\n",
    "          [\"description\"]] = miRNA_disease[\"description\"] + '|' + miRNA_disease[5]\n",
    "\n",
    "miRNA_disease['category'].fillna(miRNA_disease[2], inplace=True)\n",
    "miRNA_disease.loc[(miRNA_disease['category'].notna()) & (miRNA_disease[2].notna()) &\n",
    "                  (miRNA_disease['category'] != miRNA_disease[2]),\n",
    "          [\"category\"]] = miRNA_disease[\"category\"] + '|' + miRNA_disease[2]\n",
    "\n",
    "miRNA_disease['Source(s)_x'] = miRNA_disease['Source(s)_x'].astype(str)\n",
    "miRNA_disease['Source(s)_y'] = miRNA_disease['Source(s)_y'].astype(str)\n",
    "miRNA_disease['Source(s)'] = miRNA_disease['Source(s)_x'] + '|' + miRNA_disease['Source(s)_y']\n",
    "miRNA_disease = miRNA_disease.drop(columns=['Source(s)_x', 'Source(s)_y'])\n",
    "\n",
    "miRNA_disease.drop(columns=['category','description'],inplace=True)\n",
    "miRNA_disease"
   ]
  },
  {
   "cell_type": "markdown",
   "metadata": {},
   "source": [
    "***\n",
    "* [miRNet](https://www.mirnet.ca/miRNet/)"
   ]
  },
  {
   "cell_type": "code",
   "execution_count": null,
   "metadata": {},
   "outputs": [],
   "source": [
    "!wget https://www.dropbox.com/s/o27wz2kg9co76mo/miRNet-mir-disease.csv?dl=0"
   ]
  },
  {
   "cell_type": "code",
   "execution_count": null,
   "metadata": {},
   "outputs": [],
   "source": [
    "miRNA_disease2 = pd.read_csv(unprocessed_data_location + \"miRNet-mir-disease.csv?dl=0\")\n",
    "miRNA_disease2.disease = miRNA_disease2.disease.str.lower()\n",
    "miRNA_disease2 = miRNA_disease2[~miRNA_disease2['database'].str.contains(\"miR2Disease\")]\n",
    "miRNA_disease2 = miRNA_disease2.drop(columns=['database','mir_acc','mirnet'])\n",
    "miRNA_disease2['Source(s)'] = 'miRNet'\n",
    "miRNA_disease2"
   ]
  },
  {
   "cell_type": "code",
   "execution_count": null,
   "metadata": {},
   "outputs": [],
   "source": [
    "miRNA_disease = pd.merge(miRNA_disease,miRNA_disease2,how='outer',on=['mir_id','disease'])\n",
    "\n",
    "miRNA_disease['evidence'].fillna(miRNA_disease[2], inplace=True)\n",
    "miRNA_disease.loc[(miRNA_disease['evidence'].notna()) & (miRNA_disease[2].notna()) &\n",
    "                  (miRNA_disease['evidence'] != miRNA_disease[2]),\n",
    "          [\"evidence\"]] = miRNA_disease[\"evidence\"] + '|' + miRNA_disease[2]\n",
    "\n",
    "miRNA_disease['method'].fillna(miRNA_disease[3], inplace=True)\n",
    "miRNA_disease.loc[(miRNA_disease['method'].notna()) & (miRNA_disease[3].notna()) &\n",
    "                  (miRNA_disease['method'] != miRNA_disease[3]),\n",
    "          [\"method\"]] = miRNA_disease[\"method\"] + '|' + miRNA_disease[3]\n",
    "\n",
    "miRNA_disease['Source(s)_x'] = miRNA_disease['Source(s)_x'].astype(str)\n",
    "miRNA_disease['Source(s)_y'] = miRNA_disease['Source(s)_y'].astype(str)\n",
    "miRNA_disease['Source(s)'] = miRNA_disease['Source(s)_x'] + '|' + miRNA_disease['Source(s)_y']\n",
    "miRNA_disease = miRNA_disease.drop(columns=['Source(s)_x', 'Source(s)_y'])\n",
    "\n",
    "miRNA_disease['pmid_x'].fillna(miRNA_disease['pmid_y'], inplace=True)\n",
    "miRNA_disease['pmid_x'] = miRNA_disease['pmid_x'].astype(str)\n",
    "miRNA_disease['pmid_y'] = miRNA_disease['pmid_y'].astype(str)\n",
    "miRNA_disease.loc[(miRNA_disease['pmid_x']!=\"<NA>\") & (miRNA_disease['pmid_y']!=\"<NA>\") &\n",
    "                  (miRNA_disease['pmid_x'] != miRNA_disease['pmid_y']),\n",
    "                  [\"pmid_x\"]] = miRNA_disease[\"pmid_x\"] + '|' + miRNA_disease['pmid_y']                \n",
    "\n",
    "miRNA_disease.drop(columns=[2,3],inplace=True)\n",
    "miRNA_disease"
   ]
  },
  {
   "cell_type": "markdown",
   "metadata": {},
   "source": [
    "***\n",
    "* [dbDEMC](https://www.biosino.org/dbDEMC/index) <br /> dbDEMC (database of Differentially Expressed MiRNAs in human Cancers) is an integrated database that designed to store and display differentially expressed microRNAs (miRNAs) in cancers."
   ]
  },
  {
   "cell_type": "code",
   "execution_count": null,
   "metadata": {},
   "outputs": [],
   "source": [
    "! wget https://www.biosino.org/dbDEMC/download/MiRExpAll"
   ]
  },
  {
   "cell_type": "code",
   "execution_count": null,
   "metadata": {},
   "outputs": [],
   "source": [
    "miRNA_disease2 = pd.read_csv(unprocessed_data_location+\"MiRExpAll\", sep=\"\\t\")\n",
    "miRNA_disease2 = miRNA_disease2[miRNA_disease2.Species.str.contains(\"apiens\")]\n",
    "miRNA_disease2 = miRNA_disease2.drop(columns=['miRNA_ID','ExperimentID','logFC','SourceDataID',\n",
    "                                              'AveExpr','Tvalue','Pvalue','Bvalue','Species'])\n",
    "miRNA_disease2 = miRNA_disease2[miRNA_disease2['adjPvalue']<.01]\n",
    "miRNA_disease2.rename(columns={'miRBaseID': 'mir_id', 'CancerType': 'disease'}, inplace=True)\n",
    "miRNA_disease2['Source(s)'] = 'dbDEMC'\n",
    "miRNA_disease2"
   ]
  },
  {
   "cell_type": "code",
   "execution_count": null,
   "metadata": {},
   "outputs": [],
   "source": [
    "miRNA_disease = pd.merge(miRNA_disease,miRNA_disease2,how='outer',on=['mir_id','disease'])\n",
    "\n",
    "miRNA_disease['evidence'].fillna(miRNA_disease['Status'], inplace=True)\n",
    "miRNA_disease.loc[(miRNA_disease['evidence'].notna()) & (miRNA_disease['Status'].notna()) &\n",
    "                  (miRNA_disease['evidence'] != miRNA_disease['Status']),\n",
    "          [\"evidence\"]] = miRNA_disease[\"evidence\"] + '|' + miRNA_disease['Status']\n",
    "\n",
    "miRNA_disease.drop(columns=['Status'],inplace=True)\n",
    "\n",
    "miRNA_disease['Source(s)_x'] = miRNA_disease['Source(s)_x'].astype(str)\n",
    "miRNA_disease['Source(s)_y'] = miRNA_disease['Source(s)_y'].astype(str)\n",
    "miRNA_disease['Source(s)'] = miRNA_disease['Source(s)_x'] + '|' + miRNA_disease['Source(s)_y']\n",
    "miRNA_disease = miRNA_disease.drop(columns=['Source(s)_x', 'Source(s)_y'])\n",
    "\n",
    "miRNA_disease"
   ]
  },
  {
   "cell_type": "markdown",
   "metadata": {},
   "source": [
    "***\n",
    "* [miRdSNP](http://mirdsnp.ccr.buffalo.edu/index.php) <br /> miRdSNP is a database of disease-associated SNPs and microRNA target sites on 3'UTRs of human genes."
   ]
  },
  {
   "cell_type": "code",
   "execution_count": null,
   "metadata": {},
   "outputs": [],
   "source": [
    "! wget http://mirdsnp.ccr.buffalo.edu/downloads/mirdsnp-dsnp-generated-mir-targets-v11.03.csv"
   ]
  },
  {
   "cell_type": "code",
   "execution_count": null,
   "metadata": {},
   "outputs": [],
   "source": [
    "miRdSNP = pd.read_csv(unprocessed_data_location+'mirdsnp-dsnp-generated-mir-targets-v11.03.csv')\n",
    "miRdSNP.diseases = miRdSNP.diseases.str.lower()\n",
    "miRdSNP.rename(columns={'miR': 'mir_id', 'diseases': 'disease'}, inplace=True)\n",
    "miRdSNP['Source(s)'] = 'miRdSNP'\n",
    "miRdSNP"
   ]
  },
  {
   "cell_type": "code",
   "execution_count": null,
   "metadata": {},
   "outputs": [],
   "source": [
    "miRNA_disease = pd.merge(miRNA_disease,miRdSNP,how='outer',on=['mir_id','disease'])\n",
    "\n",
    "miRNA_disease['method'].fillna(miRNA_disease['experimentally_confirmed'], inplace=True)\n",
    "miRNA_disease.loc[(miRNA_disease['method'].notna()) & (miRNA_disease['experimentally_confirmed'].notna()) &\n",
    "                  (miRNA_disease['method'] != miRNA_disease['experimentally_confirmed']),\n",
    "          [\"method\"]] = miRNA_disease[\"method\"] + '|' + miRNA_disease['experimentally_confirmed']\n",
    "\n",
    "miRNA_disease['Source(s)_x'] = miRNA_disease['Source(s)_x'].astype(str)\n",
    "miRNA_disease['Source(s)_y'] = miRNA_disease['Source(s)_y'].astype(str)\n",
    "miRNA_disease['Source(s)'] = miRNA_disease['Source(s)_x'] + '|' + miRNA_disease['Source(s)_y']\n",
    "miRNA_disease = miRNA_disease.drop(columns=['Source(s)_x', 'Source(s)_y'])\n",
    "\n",
    "miRNA_disease.drop(columns=['experimentally_confirmed'],inplace=True)\n",
    "miRNA_disease"
   ]
  },
  {
   "cell_type": "markdown",
   "metadata": {},
   "source": [
    "***\n",
    "* [TAM](http://www.lirmed.com/tam2/) <br /> TAM groups miRNAs into six categories of miRNA sets: miRNA-family sets, miRNA cluster sets, miRNA-disease, miRNA-function sets, miRNA-TF sets and tissue specificity sets."
   ]
  },
  {
   "cell_type": "code",
   "execution_count": null,
   "metadata": {},
   "outputs": [],
   "source": [
    "! wget http://www.lirmed.com/tam2/Public/static/data/mirset_v9.txt"
   ]
  },
  {
   "cell_type": "code",
   "execution_count": null,
   "metadata": {},
   "outputs": [],
   "source": [
    "TAM = pd.read_csv(unprocessed_data_location+'mirset_v9.txt', sep='\\t',names=range(500))\n",
    "TAM = TAM.dropna(axis=1, how='all')\n",
    "miRNA_disease2 = TAM[TAM[0]==(\"HMDD\")]\n",
    "miRNA_disease2[1] = miRNA_disease2[1].str.lower()\n",
    "miRNA_disease2 = miRNA_disease2.dropna(axis=1, how='all')\n",
    "miRNA_disease2 = miRNA_disease2.drop(columns=[0])\n",
    "miRNA_disease2"
   ]
  },
  {
   "cell_type": "code",
   "execution_count": null,
   "metadata": {},
   "outputs": [],
   "source": [
    "miRNA_disease2['merged'] = miRNA_disease2[miRNA_disease2.columns[1:]].apply(\n",
    "    lambda x: ','.join(x.dropna().astype(str)),\n",
    "    axis=1\n",
    ")\n",
    "miRNA_disease2 = miRNA_disease2[[1,'merged']]\n",
    "\n",
    "miRNA_disease2['merged'] = miRNA_disease2.merged.str.split(',')\n",
    "miRNA_disease2 = miRNA_disease2.explode('merged')\n",
    "miRNA_disease2.rename(columns={1: 'disease', 'merged': 'mir_id'}, inplace=True)\n",
    "\n",
    "miRNA_disease2['Source(s)'] = 'TAM' \n",
    "\n",
    "miRNA_disease2"
   ]
  },
  {
   "cell_type": "code",
   "execution_count": null,
   "metadata": {},
   "outputs": [],
   "source": [
    "miRNA_disease = pd.merge(miRNA_disease,miRNA_disease2,how='outer',on=['mir_id','disease'])\n",
    "\n",
    "miRNA_disease['Source(s)_x'] = miRNA_disease['Source(s)_x'].astype(str)\n",
    "miRNA_disease['Source(s)_y'] = miRNA_disease['Source(s)_y'].astype(str)\n",
    "miRNA_disease['Source(s)'] = miRNA_disease['Source(s)_x'] + '|' + miRNA_disease['Source(s)_y']\n",
    "miRNA_disease = miRNA_disease.drop(columns=['Source(s)_x', 'Source(s)_y'])\n",
    "\n",
    "miRNA_disease"
   ]
  },
  {
   "cell_type": "markdown",
   "metadata": {},
   "source": [
    "***\n",
    "* [miRcancer](http://mircancer.ecu.edu/) <br /> miRCancer provides comprehensive collection of miRNA expression profiles in various human cancers which are automatically extracted from published literatures in PubMed."
   ]
  },
  {
   "cell_type": "code",
   "execution_count": null,
   "metadata": {},
   "outputs": [],
   "source": [
    "! wget http://mircancer.ecu.edu/downloads/miRCancerJune2020.txt"
   ]
  },
  {
   "cell_type": "code",
   "execution_count": null,
   "metadata": {},
   "outputs": [],
   "source": [
    "miRNA_disease2 = pd.read_csv(unprocessed_data_location + 'miRCancerJune2020.txt',sep='\\t', encoding='latin1')\n",
    "miRNA_disease2['Source(s)'] = 'miRCancer'\n",
    "miRNA_disease2_ref = pd.DataFrame(miRNA_disease2['PubMed Article'].unique(), columns=[\"PubMed Article\"])\n",
    "\n",
    "Entrez.email = 'emanuelecavalleri@email.com'\n",
    "def convert_to_pmid(article_title):\n",
    "    handle = Entrez.esearch(db=\"pubmed\", term=article_title)\n",
    "    record = Entrez.read(handle)\n",
    "    handle.close()\n",
    "    if record[\"IdList\"]:\n",
    "        return record[\"IdList\"][0]\n",
    "    else:\n",
    "        return None\n",
    "\n",
    "# NCBI works with some limits\n",
    "miRNA_disease2_ref = np.array_split(miRNA_disease2_ref, 7)\n",
    "miRNA_disease2_ref[0][\"PMID\"] = miRNA_disease2_ref[0][\"PubMed Article\"].apply(convert_to_pmid)\n",
    "miRNA_disease2_ref[1][\"PMID\"] = miRNA_disease2_ref[1][\"PubMed Article\"].apply(convert_to_pmid)\n",
    "miRNA_disease2_ref[2][\"PMID\"] = miRNA_disease2_ref[2][\"PubMed Article\"].apply(convert_to_pmid)\n",
    "miRNA_disease2_ref[3][\"PMID\"] = miRNA_disease2_ref[3][\"PubMed Article\"].apply(convert_to_pmid)\n",
    "miRNA_disease2_ref[4][\"PMID\"] = miRNA_disease2_ref[4][\"PubMed Article\"].apply(convert_to_pmid)\n",
    "miRNA_disease2_ref[4][\"PMID\"] = miRNA_disease2_ref[5][\"PubMed Article\"].apply(convert_to_pmid)\n",
    "miRNA_disease2_ref[4][\"PMID\"] = miRNA_disease2_ref[6][\"PubMed Article\"].apply(convert_to_pmid)\n",
    "miRNA_disease2_ref = pd.concat(miRNA_disease2_ref)\n",
    "miRNA_disease2_ref.to_csv(unprocessed_data_location + 'miRCancerJune2020_ref.txt', sep='\\t', index=None)\n",
    "\n",
    "miRNA_disease2 = pd.merge(miRNA_disease2, miRNA_disease2_ref, on='PubMed Article', how='left')\n",
    "\n",
    "miRNA_disease2.drop(columns=['PubMed Article'],inplace=True)\n",
    "miRNA_disease2"
   ]
  },
  {
   "cell_type": "code",
   "execution_count": null,
   "metadata": {},
   "outputs": [],
   "source": [
    "miRNA_disease2.rename(columns={'mirId':'mir_id', 'Cancer':'disease'}, inplace=True)\n",
    "miRNA_disease = pd.merge(miRNA_disease,miRNA_disease2,how='outer',on=['mir_id','disease'])\n",
    "\n",
    "miRNA_disease['pmid_x'].fillna(miRNA_disease['PMID'], inplace=True)\n",
    "miRNA_disease['pmid_x'] = miRNA_disease['pmid_x'].astype(str)\n",
    "miRNA_disease['PMID'] = miRNA_disease['PMID'].astype(str)\n",
    "miRNA_disease['PMID'] = miRNA_disease['PMID'].replace('None', np.nan)\n",
    "miRNA_disease.loc[(miRNA_disease['pmid_y']!=\"<NA>\") & (miRNA_disease['pmid_x']!=\"<NA>\") & (~miRNA_disease['PMID'].isna()) &\n",
    "                  (miRNA_disease['pmid_x'] != miRNA_disease['PMID']) &\n",
    "                  (miRNA_disease['pmid_y'] != miRNA_disease['PMID']),\n",
    "                  [\"pmid_x\"]] = miRNA_disease[\"pmid_x\"] + '|' + miRNA_disease['PMID']\n",
    "miRNA_disease.drop(columns=['PMID'],inplace=True)\n",
    "miRNA_disease.drop(columns=['pmid_y'],inplace=True)\n",
    "\n",
    "miRNA_disease"
   ]
  },
  {
   "cell_type": "code",
   "execution_count": null,
   "metadata": {},
   "outputs": [],
   "source": [
    "miRNA_disease1 = pd.merge(miRNA_disease,desc_do_map.rename(columns={'desc': 'disease'}),\n",
    "                        on=['disease'])\n",
    "miRNA_disease1.insert(1, 'doid', miRNA_disease1.pop(\"doid\"))\n",
    "\n",
    "miRNA_disease1=pd.merge(miRNA_disease1, doid_mondo_map.rename(columns={0:'doid'}), on='doid')\n",
    "miRNA_disease1.drop(columns=['doid'],inplace=True)\n",
    "miRNA_disease1.insert(1, 1, miRNA_disease1.pop(1))\n",
    "\n",
    "miRNA_disease2 = pd.merge(miRNA_disease,desc_disPhe_map.rename(columns={0: 'disease'}),\n",
    "                         on=['disease'])\n",
    "miRNA_disease = pd.concat([miRNA_disease1,miRNA_disease2]).drop_duplicates()\n",
    "miRNA_disease = pd.merge(mirna_mirbase_map.rename(columns={2: 'mir_id'}), miRNA_disease, on='mir_id')\n",
    "miRNA_disease.drop(columns=['mir_id','disease'], inplace=True)\n",
    "\n",
    "miRNA_disease['Source(s)_x'] = miRNA_disease['Source(s)_x'].astype(str)\n",
    "miRNA_disease['Source(s)_y'] = miRNA_disease['Source(s)_y'].astype(str)\n",
    "miRNA_disease['Source(s)'] = miRNA_disease['Source(s)_x'] + '|' + miRNA_disease['Source(s)_y']\n",
    "miRNA_disease = miRNA_disease.drop(columns=['Source(s)_x', 'Source(s)_y'])\n",
    "\n",
    "miRNA_disease"
   ]
  },
  {
   "cell_type": "markdown",
   "metadata": {},
   "source": [
    "Manual fix of some inconsistency."
   ]
  },
  {
   "cell_type": "code",
   "execution_count": null,
   "metadata": {},
   "outputs": [],
   "source": [
    "miRNA_disease['SNP'] = \"https://www.ncbi.nlm.nih.gov/snp/\" + miRNA_disease['SNP']\n",
    "miRNA_disease['SNP'] = miRNA_disease['SNP'].replace('https://www.ncbi.nlm.nih.gov/snp/', np.nan)\n",
    "\n",
    "miRNA_disease['pmid_x'] = miRNA_disease['pmid_x'].str.replace('nan\\||\\|nan', '', regex=True)\n",
    "miRNA_disease['pmid_x'] = miRNA_disease['pmid_x'].str.replace('.0', '', regex=True)\n",
    "miRNA_disease['pmid_x'] = miRNA_disease['pmid_x'].str.replace('|', '|https://pubmed.ncbi.nlm.nih.gov/')\n",
    "miRNA_disease['pmid_x'] = 'https://pubmed.ncbi.nlm.nih.gov/' + miRNA_disease['pmid_x']\n",
    "miRNA_disease['pmid_x'] = miRNA_disease['pmid_x'].replace('https://pubmed.ncbi.nlm.nih.gov/nan', np.nan)\n",
    "miRNA_disease['pmid_x'] = miRNA_disease['pmid_x'].replace('https://pubmed.ncbi.nlm.nih.gov/<NA>', np.nan)\n",
    "\n",
    "miRNA_disease['Source(s)'] = miRNA_disease['Source(s)'].str.replace('nan\\||\\|nan', '', regex=True)"
   ]
  },
  {
   "cell_type": "markdown",
   "metadata": {},
   "source": [
    "- Evidence."
   ]
  },
  {
   "cell_type": "code",
   "execution_count": null,
   "metadata": {},
   "outputs": [],
   "source": [
    "miRNA_disease.drop(columns=[4],inplace=True)\n",
    "miRNA_disease.evidence = miRNA_disease.evidence.str.lower()\n",
    "miRNA_disease.evidence = miRNA_disease.evidence.str.replace(', ', '|')\n",
    "miRNA_disease.evidence = miRNA_disease.evidence.str.replace('_', ' ')\n",
    "miRNA_disease.evidence.unique()[:5]"
   ]
  },
  {
   "cell_type": "markdown",
   "metadata": {},
   "source": [
    "- Experimental design."
   ]
  },
  {
   "cell_type": "code",
   "execution_count": null,
   "metadata": {},
   "outputs": [],
   "source": [
    "miRNA_disease.ExperimentalDesign.unique()"
   ]
  },
  {
   "cell_type": "code",
   "execution_count": null,
   "metadata": {},
   "outputs": [],
   "source": [
    "miRNA_disease.ExperimentalDesign = miRNA_disease.ExperimentalDesign.str.replace(\n",
    "    'blood','http://purl.obolibrary.org/obo/UBERON_0000178 (blood)')\n",
    "miRNA_disease.ExperimentalDesign = miRNA_disease.ExperimentalDesign.str.replace(\n",
    "    'body fluid','http://purl.obolibrary.org/obo/UBERON_0006314 (body fluid)')\n",
    "miRNA_disease.ExperimentalDesign = miRNA_disease.ExperimentalDesign.str.replace(\n",
    "    'metastasis','http://purl.obolibrary.org/obo/NCIT_C19151 (metastasis)')\n",
    "miRNA_disease.ExperimentalDesign = miRNA_disease.ExperimentalDesign.str.replace(\n",
    "    'exosomes','http://purl.obolibrary.org/obo/NCIT_C104457 (exosome)')\n",
    "miRNA_disease.ExperimentalDesign.unique()"
   ]
  },
  {
   "cell_type": "markdown",
   "metadata": {},
   "source": [
    "- Gene."
   ]
  },
  {
   "cell_type": "code",
   "execution_count": null,
   "metadata": {},
   "outputs": [],
   "source": [
    "miRNA_disease.gene_name.unique()"
   ]
  },
  {
   "cell_type": "code",
   "execution_count": null,
   "metadata": {},
   "outputs": [],
   "source": [
    "miRNA_disease = pd.merge(miRNA_disease, symbol_entrez_map.rename(columns={'0_x':'gene_name'}), on='gene_name', how='left')\n",
    "miRNA_disease['0_y'] = miRNA_disease['0_y'].astype('Int64').astype('str')\n",
    "miRNA_disease['0_y'] = \"https://pubmed.ncbi.nlm.nih.gov/\" + miRNA_disease['0_y']\n",
    "miRNA_disease['0_y'].replace('https://pubmed.ncbi.nlm.nih.gov/<NA>', np.nan, inplace=True)\n",
    "miRNA_disease.drop(columns=['gene_name'],inplace=True)\n",
    "miRNA_disease"
   ]
  },
  {
   "cell_type": "markdown",
   "metadata": {},
   "source": [
    "- Method."
   ]
  },
  {
   "cell_type": "code",
   "execution_count": null,
   "metadata": {},
   "outputs": [],
   "source": [
    "miRNA_disease['method'].unique()[:5]"
   ]
  },
  {
   "cell_type": "code",
   "execution_count": null,
   "metadata": {},
   "outputs": [],
   "source": [
    "miRNA_disease.method = miRNA_disease.method.str.lower()\n",
    "miRNA_disease.method = miRNA_disease.method.str.replace(' etc', '')\n",
    "miRNA_disease.method = miRNA_disease.method.str.replace(', ', '|')\n",
    "miRNA_disease.method = miRNA_disease.method.str.replace(' + ', '|')\n",
    "miRNA_disease.method = [replace_with_ncit(item) for item in miRNA_disease.method]\n",
    "miRNA_disease.method.unique()[:5]"
   ]
  },
  {
   "cell_type": "markdown",
   "metadata": {},
   "source": [
    "- Cancer subtype."
   ]
  },
  {
   "cell_type": "code",
   "execution_count": null,
   "metadata": {},
   "outputs": [],
   "source": [
    "miRNA_disease.CancerSubtype = miRNA_disease.CancerSubtype.str.lower()\n",
    "miRNA_disease.CancerSubtype = [replace_with_mondo(item) for item in miRNA_disease.CancerSubtype]\n",
    "miRNA_disease.CancerSubtype.unique()"
   ]
  },
  {
   "cell_type": "markdown",
   "metadata": {},
   "source": [
    "- Cell line."
   ]
  },
  {
   "cell_type": "code",
   "execution_count": null,
   "metadata": {},
   "outputs": [],
   "source": [
    "clo_dict = dict(zip(desc_clo_map[0], 'http://purl.obolibrary.org/obo/' + desc_clo_map[1] +\n",
    "                    ' (' + desc_clo_map[0] + ')'))\n",
    "\n",
    "def replace_with_clo(substring):\n",
    "    if pd.isna(substring):\n",
    "        return np.nan\n",
    "    else:\n",
    "        return '|'.join([clo_dict.get(part, part) for part in substring.split('|')])\n",
    "\n",
    "miRNA_disease.Cellline = miRNA_disease.Cellline.str.lower()\n",
    "miRNA_disease.Cellline = miRNA_disease.Cellline.str.replace(',', ' cell|')\n",
    "miRNA_disease.Cellline = miRNA_disease.Cellline + ' cell'\n",
    "miRNA_disease.Cellline = [replace_with_clo(item) for item in miRNA_disease.Cellline]\n",
    "miRNA_disease.Cellline.unique()"
   ]
  },
  {
   "cell_type": "code",
   "execution_count": null,
   "metadata": {},
   "outputs": [],
   "source": [
    "miRNA_disease[5].unique()"
   ]
  },
  {
   "cell_type": "code",
   "execution_count": null,
   "metadata": {},
   "outputs": [],
   "source": [
    "miRNA_disease.rename(columns={0:'miRNA', 1:'Disease', 5:'Description', 'pmid_x':'References (PMID)','method':'Method',\n",
    "'evidence':'Evidence','CancerSubtype':'Cancer subtype','Cellline':'Cell line','ExperimentalDesign':'Experimental design',\n",
    "'adjPvalue':'FDR','refseq_id':'RefSeq ID','distance':'Distance','0_y':'Gene'}, inplace=True)"
   ]
  },
  {
   "cell_type": "markdown",
   "metadata": {},
   "source": [
    "Let's divide miRNA-disease interactions into mature_miRNA-disease interactions and stem-loop_miRNA-disease interactions."
   ]
  },
  {
   "cell_type": "code",
   "execution_count": null,
   "metadata": {},
   "outputs": [],
   "source": [
    "maturemiRNA_disease = miRNA_disease[miRNA_disease['miRNA'].str.startswith('MIMAT')]\n",
    "premiRNA_disease = miRNA_disease[~miRNA_disease['miRNA'].str.startswith('MIMAT')]\n",
    "merge_rows(maturemiRNA_disease,'miRNA','Disease').to_csv(\n",
    "    edge_data_location + 'RmiRNA-disease.txt', sep='\\t', index=None)\n",
    "merge_rows(premiRNA_disease,'miRNA','Disease').to_csv(\n",
    "    edge_data_location + 'RpremiRNA-disease.txt', sep='\\t', index=None)"
   ]
  },
  {
   "cell_type": "markdown",
   "metadata": {},
   "source": [
    "***\n",
    "### miRNA-lncRNA - http://purl.obolibrary.org/obo/RO_0002434 (interacts with)"
   ]
  },
  {
   "cell_type": "markdown",
   "metadata": {},
   "source": [
    "* [miRNet](https://www.mirnet.ca/)"
   ]
  },
  {
   "cell_type": "code",
   "execution_count": null,
   "metadata": {},
   "outputs": [],
   "source": [
    "miRNA_lncRNA = pd.read_csv(unprocessed_data_location + \"miRNet-mir-lncRNA.csv\")\n",
    "miRNA_lncRNA.drop(columns=['mirnet','mir_acc','entrez','embl','gene_name','mbv'],inplace=True)\n",
    "miRNA_lncRNA['Source(s)'] = 'miRNet'\n",
    "miRNA_lncRNA"
   ]
  },
  {
   "cell_type": "code",
   "execution_count": null,
   "metadata": {},
   "outputs": [],
   "source": [
    "# Are all miRNA molecules human ones?\n",
    "any(miRNA_lncRNA['mir_id'].str.contains(\"hsa\"))"
   ]
  },
  {
   "cell_type": "markdown",
   "metadata": {},
   "source": [
    "***\n",
    "* [LncRNAWiki](https://ngdc.cncb.ac.cn/lncrnawiki/) <br />  LncRNAWiki is devoted to community curation of human long non-coding RNAs (lncRNAs) to provide a comprehensive and up-to-date resource of functionally annotated lncRNAs. It incorporates a comprehensive collection of experimentally studied lncRNAs and integrates a wealth of their annotations based on a standardized curation model, and improves curation quality through expert curator review and community error report. "
   ]
  },
  {
   "cell_type": "code",
   "execution_count": null,
   "metadata": {},
   "outputs": [],
   "source": [
    "LncRNAWiki = pd.read_csv(unprocessed_data_location+'LncRNAWiki_BrowseDownload.csv')\n",
    "miRNA_lncRNA2 = LncRNAWiki[LncRNAWiki['target_type'].notna()]\n",
    "miRNA_lncRNA2 = miRNA_lncRNA2[miRNA_lncRNA2.target_type.str.contains('miRNA')]\n",
    "miRNA_lncRNA2.target = 'hsa-'+miRNA_lncRNA2.target\n",
    "miRNA_lncRNA2.drop(columns=['gene_locus','synonyms','gene_id','transcript_id','target_interaction'],inplace=True)\n",
    "\n",
    "miRNA_lncRNA2['Source(s)'] = 'LncRNAWiki'\n",
    "miRNA_lncRNA2"
   ]
  },
  {
   "cell_type": "code",
   "execution_count": null,
   "metadata": {},
   "outputs": [],
   "source": [
    "miRNA_lncRNA2.rename(columns={'target': 'mir_id'}, inplace=True)\n",
    "miRNA_lncRNA = pd.merge(miRNA_lncRNA, miRNA_lncRNA2, how='outer', on=['mir_id','symbol'])\n",
    "\n",
    "miRNA_lncRNA['Source(s)_x'] = miRNA_lncRNA['Source(s)_x'].astype(str)\n",
    "miRNA_lncRNA['Source(s)_y'] = miRNA_lncRNA['Source(s)_y'].astype(str)\n",
    "miRNA_lncRNA['Source(s)'] = miRNA_lncRNA['Source(s)_x'] + '|' + miRNA_lncRNA['Source(s)_y']\n",
    "miRNA_lncRNA = miRNA_lncRNA.drop(columns=['Source(s)_x', 'Source(s)_y'])\n",
    "\n",
    "miRNA_lncRNA"
   ]
  },
  {
   "cell_type": "markdown",
   "metadata": {},
   "source": [
    "***\n",
    "* [SomamiR](https://compbio.uthsc.edu/SomamiR/)"
   ]
  },
  {
   "cell_type": "code",
   "execution_count": null,
   "metadata": {},
   "outputs": [],
   "source": [
    "! wget https://compbio.uthsc.edu/SomamiR/download/lncRNA_somatic_v2.0.txt.tar.gz"
   ]
  },
  {
   "cell_type": "code",
   "execution_count": null,
   "metadata": {},
   "outputs": [],
   "source": [
    "miRNA_lncRNA2 = pd.read_csv(unprocessed_data_location+'lncRNA_somatic_v2.0.txt.tar.gz',sep='\\t')\n",
    "miRNA_lncRNA2.drop(columns=['Unnamed: 18'],inplace=True)\n",
    "miRNA_lncRNA2['Gene'] = miRNA_lncRNA2['Gene'].str.replace(r'lnc-', '')\n",
    "miRNA_lncRNA2.rename(columns={'Gene': 'symbol', 'miRNA':'mir_id'}, inplace=True)\n",
    "miRNA_lncRNA2['Source(s)'] = 'SomamiR'\n",
    "miRNA_lncRNA2"
   ]
  },
  {
   "cell_type": "code",
   "execution_count": null,
   "metadata": {},
   "outputs": [],
   "source": [
    "miRNA_lncRNA = pd.merge(miRNA_lncRNA, miRNA_lncRNA2, how='outer', on=['mir_id','symbol'])\n",
    "\n",
    "miRNA_lncRNA['pmid'].fillna(miRNA_lncRNA['PMID'], inplace=True)\n",
    "miRNA_lncRNA['pmid'] = miRNA_lncRNA['pmid'].astype(str)\n",
    "miRNA_lncRNA['PMID'] = miRNA_lncRNA['PMID'].astype(str)\n",
    "miRNA_lncRNA.loc[(miRNA_lncRNA['pmid']!=\"<NA>\") & (miRNA_lncRNA['PMID']!=\"<NA>\") &\n",
    "                 (miRNA_lncRNA['pmid'] != miRNA_lncRNA['PMID']),\n",
    "                 [\"pmid\"]] = miRNA_lncRNA[\"pmid\"] + '|' + miRNA_lncRNA['PMID']\n",
    "\n",
    "miRNA_lncRNA.drop(columns=['PMID'],inplace=True)\n",
    "\n",
    "miRNA_lncRNA = pd.merge(miRNA_lncRNA, mirna_mirbase_map.rename(columns={2:'mir_id'}), on='mir_id')\n",
    "miRNA_lncRNA = pd.merge(miRNA_lncRNA, symbol_entrez_map[['0_x','0_y']].rename(columns={'0_x':'symbol'}), on='symbol')\n",
    "miRNA_lncRNA.insert(1, '0_y', miRNA_lncRNA.pop(\"0_y\"))\n",
    "\n",
    "miRNA_lncRNA['Source(s)_x'] = miRNA_lncRNA['Source(s)_x'].astype(str)\n",
    "miRNA_lncRNA['Source(s)_y'] = miRNA_lncRNA['Source(s)_y'].astype(str)\n",
    "miRNA_lncRNA['Source(s)'] = miRNA_lncRNA['Source(s)_x'] + '|' + miRNA_lncRNA['Source(s)_y']\n",
    "miRNA_lncRNA = miRNA_lncRNA.drop(columns=['Source(s)_x', 'Source(s)_y', 'symbol', 'genome_variation',\n",
    "                                          'variation_detail', 'epigenetic_modification', 'modification_detail',\n",
    "                                          'molecular_function'])\n",
    "\n",
    "miRNA_lncRNA"
   ]
  },
  {
   "cell_type": "markdown",
   "metadata": {},
   "source": [
    "***\n",
    "* [LncBook](https://ngdc.cncb.ac.cn/lncbook/) <br />  LncBook accommodates a high-quality collection of 95,243 human lncRNA genes and 323,950 lncRNA transcripts, and incorporates their abundant annotations at different omics levels, thereby enabling users to decipher functional signatures of lncRNAs in human diseases and different biological contexts."
   ]
  },
  {
   "cell_type": "code",
   "execution_count": null,
   "metadata": {},
   "outputs": [],
   "source": [
    "! wget https://ngdc.cncb.ac.cn/lncbook/files/lncrna_mirna_miRandaAndTargetScanAndRNAhybrid_LncBook2.0.csv.gz"
   ]
  },
  {
   "cell_type": "code",
   "execution_count": null,
   "metadata": {},
   "outputs": [],
   "source": [
    "# issue: 3h for complete download of data. BTW, miRanda and TargetScan have already been integrated in RNA-KG."
   ]
  },
  {
   "cell_type": "markdown",
   "metadata": {},
   "source": [
    "Manual fix of some inconsistency"
   ]
  },
  {
   "cell_type": "code",
   "execution_count": null,
   "metadata": {},
   "outputs": [],
   "source": [
    "#miRNA_lncRNA2 = miRNA_lncRNA.copy()\n",
    "miRNA_lncRNA = miRNA_lncRNA2.copy()"
   ]
  },
  {
   "cell_type": "code",
   "execution_count": null,
   "metadata": {},
   "outputs": [],
   "source": [
    "miRNA_lncRNA['Source(s)'] = miRNA_lncRNA['Source(s)'].str.replace('nan\\||\\|nan', '', regex=True)\n",
    "miRNA_lncRNA['pmid'] = miRNA_lncRNA['pmid'].str.replace('nan\\||\\|nan', '', regex=True)\n",
    "miRNA_lncRNA['pmid'] = miRNA_lncRNA['pmid'].str.replace('.0', '', regex=True)\n",
    "miRNA_lncRNA['pmid'] = miRNA_lncRNA['pmid'].str.replace('|', '|https://pubmed.ncbi.nlm.nih.gov/')\n",
    "miRNA_lncRNA['pmid'] = 'https://pubmed.ncbi.nlm.nih.gov/' + miRNA_lncRNA['pmid']\n",
    "miRNA_lncRNA['pmid'] = miRNA_lncRNA['pmid'].replace('https://pubmed.ncbi.nlm.nih.gov/nan', np.nan)"
   ]
  },
  {
   "cell_type": "markdown",
   "metadata": {},
   "source": [
    "- Conservation ortholog."
   ]
  },
  {
   "cell_type": "code",
   "execution_count": null,
   "metadata": {},
   "outputs": [],
   "source": [
    "print(miRNA_lncRNA.conservation_ortholog.unique())\n",
    "miRNA_lncRNA.conservation_ortholog = miRNA_lncRNA.conservation_ortholog.str.replace('Human;7SL', 'https://www.ncbi.nlm.nih.gov/gene/6029')\n",
    "miRNA_lncRNA.conservation_ortholog = miRNA_lncRNA.conservation_ortholog.str.replace('Mouse', 'http://purl.obolibrary.org/obo/NCBITaxon_10090 (mus musculus)')"
   ]
  },
  {
   "cell_type": "markdown",
   "metadata": {},
   "source": [
    "- Biological context."
   ]
  },
  {
   "cell_type": "code",
   "execution_count": null,
   "metadata": {},
   "outputs": [],
   "source": [
    "print(miRNA_lncRNA.biological_context.unique())\n",
    "miRNA_lncRNA.biological_context = miRNA_lncRNA.biological_context.str.replace('Disease', 'http://purl.obolibrary.org/obo/MONDO_0000001 (disease)')"
   ]
  },
  {
   "cell_type": "markdown",
   "metadata": {},
   "source": [
    "- Context detail."
   ]
  },
  {
   "cell_type": "code",
   "execution_count": null,
   "metadata": {},
   "outputs": [],
   "source": [
    "miRNA_lncRNA.context_detail = [replace_with_mondo(item) for item in miRNA_lncRNA.context_detail]\n",
    "miRNA_lncRNA.context_detail.unique()[:5]"
   ]
  },
  {
   "cell_type": "markdown",
   "metadata": {},
   "source": [
    "- Expression."
   ]
  },
  {
   "cell_type": "code",
   "execution_count": null,
   "metadata": {},
   "outputs": [],
   "source": [
    "print(miRNA_lncRNA['expression'].unique())\n",
    "miRNA_lncRNA['expression'] = miRNA_lncRNA['expression'].str.replace(\n",
    "    'RNA', 'http://purl.obolibrary.org/obo/SO_0000356 (rna)')"
   ]
  },
  {
   "cell_type": "markdown",
   "metadata": {},
   "source": [
    "- Regulator type."
   ]
  },
  {
   "cell_type": "code",
   "execution_count": null,
   "metadata": {},
   "outputs": [],
   "source": [
    "print(miRNA_lncRNA['regulator_type'].unique())\n",
    "miRNA_lncRNA['regulator_type'] = miRNA_lncRNA['regulator_type'].str.replace('Protein',\n",
    "                                                                            'http://purl.obolibrary.org/obo/PR_000000001 (protein)')\n",
    "miRNA_lncRNA['regulator_type'] = miRNA_lncRNA['regulator_type'].str.replace('TF',\n",
    "                                                                            'http://purl.obolibrary.org/obo/NCIT_C17207 (transcription factor)')"
   ]
  },
  {
   "cell_type": "markdown",
   "metadata": {},
   "source": [
    "- Regulator."
   ]
  },
  {
   "cell_type": "code",
   "execution_count": null,
   "metadata": {},
   "outputs": [],
   "source": [
    "print(miRNA_lncRNA['regulator'].unique())\n",
    "miRNA_lncRNA = pd.merge(miRNA_lncRNA, symbol_to_pro[['0_x','1_y']].rename(columns={'0_x':'regulator'}), on='regulator', how='left')\n",
    "miRNA_lncRNA['1_y'] = \"http://purl.obolibrary.org/obo/\" + miRNA_lncRNA['1_y'].astype(str)\n",
    "miRNA_lncRNA['1_y'] = miRNA_lncRNA['1_y'].replace('http://purl.obolibrary.org/obo/nan', np.nan)\n",
    "miRNA_lncRNA = miRNA_lncRNA.drop(columns=['regulator'])\n",
    "miRNA_lncRNA = miRNA_lncRNA.rename(columns={'1_y' : 'Regulator'})\n",
    "miRNA_lncRNA.insert(2, 'Regulator', miRNA_lncRNA.pop('Regulator'))"
   ]
  },
  {
   "cell_type": "markdown",
   "metadata": {},
   "source": [
    "- Regulator interaction."
   ]
  },
  {
   "cell_type": "code",
   "execution_count": null,
   "metadata": {},
   "outputs": [],
   "source": [
    "print(miRNA_lncRNA['regulator_interaction'].unique())\n",
    "miRNA_lncRNA['regulator_interaction'] = miRNA_lncRNA[\n",
    "    'regulator_interaction'].str.replace('Protein-DNA',\n",
    "                                         'http://purl.obolibrary.org/obo/NCIT_C18755 (dna-protein interaction)')\n",
    "miRNA_lncRNA['regulator_interaction'] = miRNA_lncRNA[\n",
    "    'regulator_interaction'].str.replace('Protein-RNA',\n",
    "                                         'http://purl.obolibrary.org/obo/NCIT_C19019 (rna-protein interaction)')"
   ]
  },
  {
   "cell_type": "markdown",
   "metadata": {},
   "source": [
    "- Regulator effect."
   ]
  },
  {
   "cell_type": "code",
   "execution_count": null,
   "metadata": {},
   "outputs": [],
   "source": [
    "print(miRNA_lncRNA['regulator_effect'].unique())\n",
    "miRNA_lncRNA['regulator_effect'] = miRNA_lncRNA[\n",
    "    'regulator_effect'].str.replace('promote', 'http://purl.obolibrary.org/obo/NCIT_C61391 (promotion)')\n",
    "miRNA_lncRNA['regulator_effect'] = miRNA_lncRNA[\n",
    "    'regulator_effect'].str.replace('inhibit', 'http://purl.obolibrary.org/obo/NCIT_C42791 (inhibition)')"
   ]
  },
  {
   "cell_type": "markdown",
   "metadata": {},
   "source": [
    "- Target type."
   ]
  },
  {
   "cell_type": "code",
   "execution_count": null,
   "metadata": {},
   "outputs": [],
   "source": [
    "print(miRNA_lncRNA['target_type'].unique())\n",
    "miRNA_lncRNA['target_type'] = miRNA_lncRNA[\n",
    "    'target_type'].str.replace('miRNA', 'http://purl.obolibrary.org/obo/SO_0000276 (mirna)')"
   ]
  },
  {
   "cell_type": "markdown",
   "metadata": {},
   "source": [
    "- Target effect."
   ]
  },
  {
   "cell_type": "code",
   "execution_count": null,
   "metadata": {},
   "outputs": [],
   "source": [
    "print(miRNA_lncRNA['target_effect'].unique())\n",
    "miRNA_lncRNA['target_effect'] = miRNA_lncRNA['target_effect'].str.replace('promote', 'http://purl.obolibrary.org/obo/NCIT_C61391 (promotion)')\n",
    "miRNA_lncRNA['target_effect'] = miRNA_lncRNA['target_effect'].str.replace('inhibit', 'http://purl.obolibrary.org/obo/NCIT_C42791 (inhibition)')\n",
    "miRNA_lncRNA['target_effect'] = miRNA_lncRNA['target_effect'].str.replace('Inhibit', 'http://purl.obolibrary.org/obo/NCIT_C42791 (inhibition)')"
   ]
  },
  {
   "cell_type": "markdown",
   "metadata": {},
   "source": [
    "- Functional mechanism."
   ]
  },
  {
   "cell_type": "code",
   "execution_count": null,
   "metadata": {},
   "outputs": [],
   "source": [
    "print(miRNA_lncRNA['functional_mechanism'].unique())\n",
    "miRNA_lncRNA['target_effect'] = miRNA_lncRNA[\n",
    "    'target_effect'].str.replace('promote', 'http://purl.obolibrary.org/obo/NCIT_C61391 (promotion)')\n",
    "\n",
    "print(miRNA_lncRNA['clinical_detail'].unique())\n",
    "miRNA_lncRNA['clinical_detail'] = miRNA_lncRNA[\n",
    "    'clinical_detail'].str.replace('metastasis', 'http://purl.obolibrary.org/obo/NCIT_C19151 (metastasis)')\n",
    "miRNA_lncRNA['clinical_detail'] = miRNA_lncRNA[\n",
    "    'clinical_detail'].str.replace('drug', 'http://purl.obolibrary.org/obo/CHEBI_23888 (drug)')"
   ]
  },
  {
   "cell_type": "markdown",
   "metadata": {},
   "source": [
    "- Disease."
   ]
  },
  {
   "cell_type": "code",
   "execution_count": null,
   "metadata": {},
   "outputs": [],
   "source": [
    "miRNA_lncRNA.context_detail = [replace_with_mondo(item) for item in miRNA_lncRNA.context_detail]\n",
    "miRNA_lncRNA.context_detail.unique()[:5]"
   ]
  },
  {
   "cell_type": "markdown",
   "metadata": {},
   "source": [
    "- Tissue/cell line."
   ]
  },
  {
   "cell_type": "code",
   "execution_count": null,
   "metadata": {},
   "outputs": [],
   "source": [
    "clo_dict2 = dict(zip(desc_clo_map[0].str.replace(' cell',''), 'http://purl.obolibrary.org/obo/' +\n",
    "                     desc_clo_map[1] + ' (' + desc_clo_map[0] + ')'))\n",
    "\n",
    "def replace_with_clo2(substring):\n",
    "    if pd.isna(substring):\n",
    "        return np.nan\n",
    "    else:\n",
    "        return '|'.join([clo_dict2.get(part, part) for part in substring.split('|')])\n",
    "\n",
    "miRNA_lncRNA['tissue/cell line'] = miRNA_lncRNA['tissue/cell line'].str.lower()\n",
    "miRNA_lncRNA['tissue/cell line'] = miRNA_lncRNA['tissue/cell line'].str.replace(';', '|')\n",
    "miRNA_lncRNA['tissue/cell line'] = [replace_with_clo(item) for item in miRNA_lncRNA['tissue/cell line']]\n",
    "miRNA_lncRNA['tissue/cell line'] = [replace_with_clo2(item) for item in miRNA_lncRNA['tissue/cell line']]\n",
    "miRNA_lncRNA['tissue/cell line'] = [replace_with_uberon(item) for item in miRNA_lncRNA['tissue/cell line']]\n",
    "miRNA_lncRNA['tissue/cell line'].unique()[:5]"
   ]
  },
  {
   "cell_type": "markdown",
   "metadata": {},
   "source": [
    "- Experimental method."
   ]
  },
  {
   "cell_type": "code",
   "execution_count": null,
   "metadata": {},
   "outputs": [],
   "source": [
    "print(miRNA_lncRNA['experimental_method'].unique()[:5])\n",
    "miRNA_lncRNA['experimental_method'] = miRNA_lncRNA['experimental_method'].str.replace('wetern', 'western')\n",
    "miRNA_lncRNA['experimental_method'] = miRNA_lncRNA['experimental_method'].str.replace('assay assay', 'assay')\n",
    "miRNA_lncRNA['experimental_method'] = miRNA_lncRNA['experimental_method'].str.lower()\n",
    "miRNA_lncRNA['experimental_method'] = miRNA_lncRNA['experimental_method'].str.replace(';', '|')\n",
    "miRNA_lncRNA['experimental_method'] = [replace_with_ncit(item) for item in miRNA_lncRNA['experimental_method']]"
   ]
  },
  {
   "cell_type": "markdown",
   "metadata": {},
   "source": [
    "- Biological process."
   ]
  },
  {
   "cell_type": "code",
   "execution_count": null,
   "metadata": {},
   "outputs": [],
   "source": [
    "go_dict = dict(zip(desc_go_map[0], 'http://purl.obolibrary.org/obo/' +\n",
    "                   desc_go_map[1] + ' (' + desc_go_map[0] + ')'))\n",
    "\n",
    "def replace_with_go(substring):\n",
    "    if pd.isna(substring):\n",
    "        return np.nan\n",
    "    else:\n",
    "        return '|'.join([go_dict.get(part, part) for part in substring.split('|')])"
   ]
  },
  {
   "cell_type": "code",
   "execution_count": null,
   "metadata": {},
   "outputs": [],
   "source": [
    "print(miRNA_lncRNA['biological_process'].unique()[:5])\n",
    "miRNA_lncRNA['biological_process'] = miRNA_lncRNA['biological_process'].str.lower()\n",
    "miRNA_lncRNA['biological_process'] = miRNA_lncRNA['biological_process'].str.replace(';', '|')\n",
    "miRNA_lncRNA['biological_process'] = [replace_with_go(item) for item in miRNA_lncRNA['biological_process']]"
   ]
  },
  {
   "cell_type": "markdown",
   "metadata": {},
   "source": [
    "- Pathway."
   ]
  },
  {
   "cell_type": "code",
   "execution_count": null,
   "metadata": {},
   "outputs": [],
   "source": [
    "pw_dict = dict(zip(desc_reactome_map[0], 'http://purl.obolibrary.org/obo/' + desc_reactome_map[1] +\n",
    "                  ' (' + desc_reactome_map[0] + ')'))\n",
    "\n",
    "def replace_with_pw(substring):\n",
    "    if pd.isna(substring):\n",
    "        return np.nan\n",
    "    else:\n",
    "        return '|'.join([pw_dict.get(part, part) for part in substring.split('|')])\n",
    "    \n",
    "print(miRNA_lncRNA['pathway'].unique()[:5])\n",
    "miRNA_lncRNA['pathway'] = miRNA_lncRNA['pathway'].str.lower()\n",
    "miRNA_lncRNA['pathway'] = miRNA_lncRNA['pathway'].str.replace(';', '|')\n",
    "miRNA_lncRNA['pathway'] = miRNA_lncRNA['pathway'].str.replace('nf-??b', 'nuclear factor kappa B')\n",
    "miRNA_lncRNA['pathway'] = miRNA_lncRNA['pathway'].str.replace('/??-catenin', '')\n",
    "miRNA_lncRNA['pathway'] = miRNA_lncRNA['pathway'].str.replace('pi3k/akt ', '')\n",
    "miRNA_lncRNA['pathway'] = [replace_with_pw(item) for item in miRNA_lncRNA['pathway']]"
   ]
  },
  {
   "cell_type": "markdown",
   "metadata": {},
   "source": [
    "- Drug."
   ]
  },
  {
   "cell_type": "code",
   "execution_count": null,
   "metadata": {},
   "outputs": [],
   "source": [
    "# special thank to DrugBank for making me access this supplementary data!\n",
    "DrugBank = pd.read_csv(unprocessed_data_location + 'drugbank vocabulary.csv') \n",
    "DrugBank['Common name'] = DrugBank['Common name'].str.lower()\n",
    "DrugBank"
   ]
  },
  {
   "cell_type": "code",
   "execution_count": null,
   "metadata": {},
   "outputs": [],
   "source": [
    "drugbank_dict = dict(zip(DrugBank['Common name'], 'https://go.drugbank.com/drugs/' + DrugBank['DrugBank ID'] +\n",
    "                        ' (' + DrugBank['Common name'] + ')'))\n",
    "def replace_with_drugbank(substring):\n",
    "    if pd.isna(substring):\n",
    "        return np.nan\n",
    "    else:\n",
    "        return '|'.join([drugbank_dict.get(part, part) for part in substring.split('|')])\n",
    "\n",
    "print(miRNA_lncRNA['drug'].unique())\n",
    "miRNA_lncRNA['drug'] = miRNA_lncRNA['drug'].str.lower()\n",
    "miRNA_lncRNA['drug'] = miRNA_lncRNA['drug'].str.replace(';', '|')\n",
    "\n",
    "miRNA_lncRNA['drug'] = [replace_with_drugbank(item) for item in miRNA_lncRNA['drug']]"
   ]
  },
  {
   "cell_type": "markdown",
   "metadata": {},
   "source": [
    "- Chromosome."
   ]
  },
  {
   "cell_type": "code",
   "execution_count": null,
   "metadata": {},
   "outputs": [],
   "source": [
    "print(miRNA_lncRNA['Chromosome'].unique()[:5])\n",
    "miRNA_lncRNA['Chromosome'] = miRNA_lncRNA['Chromosome'].str.lower()\n",
    "miRNA_lncRNA['Chromosome'] = [replace_with_ncit(item) for item in miRNA_lncRNA['Chromosome']]"
   ]
  },
  {
   "cell_type": "markdown",
   "metadata": {},
   "source": [
    "- Cancer class."
   ]
  },
  {
   "cell_type": "code",
   "execution_count": null,
   "metadata": {},
   "outputs": [],
   "source": [
    "print(miRNA_lncRNA['Cancer_Class'].unique()[:5])\n",
    "miRNA_lncRNA['Cancer_Class'] = miRNA_lncRNA['Cancer_Class'].str.lower()\n",
    "miRNA_lncRNA['Cancer_Class'] = miRNA_lncRNA['Cancer_Class'].str.replace(\"[ns]\", ']')\n",
    "miRNA_lncRNA['Cancer_Class'] = miRNA_lncRNA['Cancer_Class'].str.replace(\"]\", '|')\n",
    "miRNA_lncRNA['Cancer_Class'] = miRNA_lncRNA['Cancer_Class'].str.replace(\"[\", '')\n",
    "miRNA_lncRNA['Cancer_Class'] = miRNA_lncRNA['Cancer_Class'].str.replace(\", \", '|')\n",
    "miRNA_lncRNA['Cancer_Class'] = miRNA_lncRNA['Cancer_Class'].str.replace(\"||\", '|')\n",
    "miRNA_lncRNA['Cancer_Class'] = miRNA_lncRNA['Cancer_Class'].str.replace('_', ' ')\n",
    "miRNA_lncRNA['Cancer_Class'] = miRNA_lncRNA['Cancer_Class'].str.replace('lung/sclc', 'small cell lung carcinoma')\n",
    "miRNA_lncRNA['Cancer_Class'] = miRNA_lncRNA['Cancer_Class'].replace(r'\\(.*?\\)', '', regex=True)\n",
    "miRNA_lncRNA['Cancer_Class'] = miRNA_lncRNA['Cancer_Class'].replace(r'\\|$', '', regex=True)\n",
    "miRNA_lncRNA['Cancer_Class'] = [replace_with_mondo(item) for item in miRNA_lncRNA['Cancer_Class']]"
   ]
  },
  {
   "cell_type": "code",
   "execution_count": null,
   "metadata": {},
   "outputs": [],
   "source": [
    "miRNA_lncRNA.insert(0, 0, miRNA_lncRNA.pop(0))\n",
    "miRNA_lncRNA = miRNA_lncRNA.drop(columns=['mir_id'])"
   ]
  },
  {
   "cell_type": "code",
   "execution_count": null,
   "metadata": {},
   "outputs": [],
   "source": [
    "miRNA_lncRNA.rename(columns={0:'miRNA'}, inplace=True)\n",
    "miRNA_lncRNA.columns = [col.capitalize().replace('_', ' ') for col in miRNA_lncRNA.columns]\n",
    "miRNA_lncRNA.rename(columns={'Mirna':'miRNA', '0 y':'lncRNA', 'Pmid': 'References (PMID)', 'Cosmic id':'Cosmic ID', 'Targetscan site(0=no;1=yes)':\n",
    "                             'Targetscan site'}, inplace=True)"
   ]
  },
  {
   "cell_type": "code",
   "execution_count": null,
   "metadata": {},
   "outputs": [],
   "source": [
    "miRNA_lncRNA['lncRNA'] = miRNA_lncRNA['lncRNA'].astype(str)+'?lncRNA'\n",
    "maturemiRNA_lncRNA = miRNA_lncRNA[miRNA_lncRNA['miRNA'].str.startswith('MIMAT')]\n",
    "premiRNA_lncRNA = miRNA_lncRNA[~miRNA_lncRNA['miRNA'].str.startswith('MIMAT')]\n",
    "merge_rows(maturemiRNA_lncRNA, 'miRNA', 'lncRNA').to_csv(\n",
    "    edge_data_location + 'RmiRNA-lncRNA.txt', sep='\\t', index=None)\n",
    "merge_rows(premiRNA_lncRNA, 'miRNA', 'lncRNA').drop_duplicates().to_csv(\n",
    "    edge_data_location + 'RpremiRNA-lncRNA.txt', sep='\\t', index=None)"
   ]
  },
  {
   "cell_type": "markdown",
   "metadata": {},
   "source": [
    "***\n",
    "### SNP-miRNA - http://purl.obolibrary.org/obo/RO_0002566 (causally influences)"
   ]
  },
  {
   "cell_type": "markdown",
   "metadata": {},
   "source": [
    "* [miRNet](https://www.mirnet.ca/miRNet/)"
   ]
  },
  {
   "cell_type": "code",
   "execution_count": null,
   "metadata": {},
   "outputs": [],
   "source": [
    "! wget https://www.dropbox.com/s/cu4hv35ulu3a8d6/miRNet-snp-mir-hsa.csv?dl=0"
   ]
  },
  {
   "cell_type": "code",
   "execution_count": null,
   "metadata": {},
   "outputs": [],
   "source": [
    "miRNA_variant = pd.read_csv(unprocessed_data_location + \"miRNet-snp-mir-hsa.csv?dl=0\")\n",
    "miRNA_variant = miRNA_variant[miRNA_variant['High_Confidence']=='YES']\n",
    "miRNA_variant.drop(columns=['mirnet','chr_pos','Mature_Name','Mature_Acc','Mature_Pos',\n",
    "                            'Robust_FANTOM5','Conserved_ADmiRE', 'Family_Name',\n",
    "                            'AF_Percentile_gnomAD','Phylop_100way','Phastcons_100way','High_Confidence'],\n",
    "                   inplace=True)\n",
    "miRNA_variant['Source(s)'] = 'miRNet'\n",
    "miRNA_variant"
   ]
  },
  {
   "cell_type": "markdown",
   "metadata": {},
   "source": [
    "***\n",
    "* [miRdSNP](http://mirdsnp.ccr.buffalo.edu/)"
   ]
  },
  {
   "cell_type": "code",
   "execution_count": null,
   "metadata": {},
   "outputs": [],
   "source": [
    "! wget http://mirdsnp.ccr.buffalo.edu/downloads/mirdsnp-dsnp-generated-mir-targets-v11.03.csv"
   ]
  },
  {
   "cell_type": "code",
   "execution_count": null,
   "metadata": {},
   "outputs": [],
   "source": [
    "miRNA_variant2 = pd.read_csv(unprocessed_data_location+'mirdsnp-dsnp-generated-mir-targets-v11.03.csv')\n",
    "miRNA_variant2.rename(columns={'SNP':'rsid','miR':'MIRNA_Name'},inplace=True)\n",
    "miRNA_variant2['Source(s)'] = 'miRdSNP'\n",
    "miRNA_variant2"
   ]
  },
  {
   "cell_type": "code",
   "execution_count": null,
   "metadata": {},
   "outputs": [],
   "source": [
    "miRNA_variant = pd.merge(miRNA_variant, miRNA_variant2, how='outer', on=['rsid','MIRNA_Name'])\n",
    "miRNA_variant['Source(s)_x'] = miRNA_variant['Source(s)_x'].astype(str)\n",
    "miRNA_variant['Source(s)_y'] = miRNA_variant['Source(s)_y'].astype(str)\n",
    "miRNA_variant['Source(s)'] = miRNA_variant['Source(s)_x'] + '|' + miRNA_variant['Source(s)_y']\n",
    "miRNA_variant = miRNA_variant.drop(columns=['Source(s)_x', 'Source(s)_y', 'MIRNA_Acc'])\n",
    "miRNA_variant"
   ]
  },
  {
   "cell_type": "code",
   "execution_count": null,
   "metadata": {},
   "outputs": [],
   "source": [
    "miRNA_variant['Source(s)'] = miRNA_variant['Source(s)'].str.replace('nan\\||\\|nan', '', regex=True)\n",
    "\n",
    "miRNA_variant = pd.merge(miRNA_variant, symbol_entrez_map[['0_x','0_y']].rename(columns={'0_x':'gene_name'}), on='gene_name', how='left')\n",
    "miRNA_variant['0_y'] = \"https://www.ncbi.nlm.nih.gov/gene/\" + miRNA_variant['0_y'].astype('Int64').astype('str')\n",
    "miRNA_variant['0_y'] = miRNA_variant['0_y'].replace('https://www.ncbi.nlm.nih.gov/gene/nan', np.nan)\n",
    "miRNA_variant = miRNA_variant.drop(columns=['gene_name'])\n",
    "\n",
    "miRNA_variant.insert(len(miRNA_variant.columns)-1, 'Source(s)', miRNA_variant.pop('Source(s)'))"
   ]
  },
  {
   "cell_type": "markdown",
   "metadata": {},
   "source": [
    "Manual fix of inconsistencies."
   ]
  },
  {
   "cell_type": "markdown",
   "metadata": {},
   "source": [
    "- Disease."
   ]
  },
  {
   "cell_type": "code",
   "execution_count": null,
   "metadata": {},
   "outputs": [],
   "source": [
    "miRNA_variant['diseases'] = miRNA_variant['diseases'].str.lower()\n",
    "miRNA_variant['diseases'] = miRNA_variant['diseases'].str.replace(\", \", '|')\n",
    "miRNA_variant['diseases'] = [replace_with_mondo(item) for item in miRNA_variant['diseases']]\n",
    "miRNA_variant['diseases'].unique()[:5]"
   ]
  },
  {
   "cell_type": "code",
   "execution_count": null,
   "metadata": {},
   "outputs": [],
   "source": [
    "miRNA_variant.rename(columns={'rsid':'SNP', 'gnomAD_MAF': 'gnomAD MAF', 'MIRNA_Domain': 'miRNA domain',\n",
    "                              'Precursor_Pos': 'Precursor position', 'Predicted_Motif':'Predicted motif',\n",
    "                              'refseq_id': 'Refseq ID', 'diseases': 'Disease(s)', 'distance':'Distance',\n",
    "                              'experimentally_confirmed':'Experimentally confirmed', '0_y':'Gene'}, inplace=True)"
   ]
  },
  {
   "cell_type": "code",
   "execution_count": null,
   "metadata": {},
   "outputs": [],
   "source": [
    "miRNA_variant = pd.merge(miRNA_variant, mirna_mirbase_map.rename(columns={2:'MIRNA_Name'}), on='MIRNA_Name')\n",
    "miRNA_variant.insert(0, 0, miRNA_variant.pop(0))\n",
    "miRNA_variant.rename(columns={0:'miRNA'}, inplace=True)\n",
    "miRNA_variant = miRNA_variant.drop(columns=['MIRNA_Name'])\n",
    "\n",
    "maturemiRNA_variant = miRNA_variant[miRNA_variant['miRNA'].str.startswith('MIMAT')]\n",
    "premiRNA_variant = miRNA_variant[~miRNA_variant['miRNA'].str.startswith('MIMAT')]\n",
    "merge_rows(maturemiRNA_variant, 'miRNA', 'SNP').to_csv(\n",
    "    edge_data_location + 'RmiRNA-variant.txt', sep='\\t', index=None)\n",
    "merge_rows(premiRNA_variant, 'miRNA', 'SNP').to_csv(\n",
    "    edge_data_location + 'RpremiRNA-variant.txt', sep='\\t', index=None)"
   ]
  },
  {
   "cell_type": "markdown",
   "metadata": {},
   "source": [
    "***\n",
    "### SNP-gene - http://purl.obolibrary.org/obo/RO_0002566 (causally influences)"
   ]
  },
  {
   "cell_type": "markdown",
   "metadata": {},
   "source": [
    "* [miRNet](https://www.mirnet.ca/miRNet/)"
   ]
  },
  {
   "cell_type": "code",
   "execution_count": null,
   "metadata": {},
   "outputs": [],
   "source": [
    "! wget https://www.dropbox.com/s/8aq8k0yoy5ak0d6/miRNet-snpmirbs-hsa.csv?dl=0"
   ]
  },
  {
   "cell_type": "code",
   "execution_count": null,
   "metadata": {},
   "outputs": [],
   "source": [
    "gene_variant = pd.read_csv(unprocessed_data_location + \"miRNet-snpmirbs-hsa.csv?dl=0\").drop(\n",
    "    columns=['mirnet', 'chr_pos', 'symbol'])\n",
    "gene_variant['Source(s)'] = 'miRNet'\n",
    "gene_variant = gene_variant[['rsid', 'entrez', 'transcript_id', 'Source(s)']]\n",
    "gene_variant = gene_variant.rename(columns={'rsid':'SNP', 'entrez':'Gene', 'transcript_id':'Refseq ID'})\n",
    "gene_variant"
   ]
  },
  {
   "cell_type": "code",
   "execution_count": null,
   "metadata": {},
   "outputs": [],
   "source": [
    "gene_variant.drop_duplicates().to_csv(edge_data_location + 'Rvariant-gene.txt', sep='\\t', index=None)"
   ]
  },
  {
   "cell_type": "markdown",
   "metadata": {},
   "source": [
    "***\n",
    "### SNP-disease - http://purl.obolibrary.org/obo/RO_0002566 (causally influences)"
   ]
  },
  {
   "cell_type": "markdown",
   "metadata": {},
   "source": [
    "* [miRdSNP](http://mirdsnp.ccr.buffalo.edu/index.php)"
   ]
  },
  {
   "cell_type": "code",
   "execution_count": null,
   "metadata": {},
   "outputs": [],
   "source": [
    "disease_variant = pd.read_csv(unprocessed_data_location+'mirdsnp-dsnps-v11.03.csv')\n",
    "disease_variant.drop(columns=['pub_year','pub_month','link','journal','article_date','title'],inplace=True)\n",
    "disease_variant.disease = disease_variant.disease.str.lower()\n",
    "disease_variant['snps'] = disease_variant.snps.str.split(',')\n",
    "disease_variant = disease_variant.explode('snps')\n",
    "\n",
    "disease_variant = pd.merge(disease_variant, desc_disPhe_map.rename(columns={0:'disease'}),on='disease')\n",
    "disease_variant.drop(columns=['disease'],inplace=True)\n",
    "\n",
    "disease_variant['Source(s)'] = 'miRdSNP' \n",
    "disease_variant = disease_variant.rename(columns={'pubmed_id':'References (PMID)','snps':'SNP', 1:'Disease'})\n",
    "disease_variant = disease_variant[['SNP', 'Disease', 'References (PMID)', 'Source(s)']]\n",
    "\n",
    "disease_variant['References (PMID)'] = 'https://pubmed.ncbi.nlm.nih.gov/' + disease_variant['References (PMID)'].astype('Int64').astype('str')\n",
    "disease_variant['References (PMID)'] = disease_variant['References (PMID)'].replace('https://pubmed.ncbi.nlm.nih.gov/nan', np.nan)\n",
    "\n",
    "disease_variant"
   ]
  },
  {
   "cell_type": "code",
   "execution_count": null,
   "metadata": {},
   "outputs": [],
   "source": [
    "merge_rows(disease_variant, 'SNP', 'Disease').to_csv(edge_data_location + 'Rvariant-disease.txt', sep='\\t', index=None)"
   ]
  },
  {
   "cell_type": "markdown",
   "metadata": {},
   "source": [
    "***\n",
    "### SNP-TF - http://purl.obolibrary.org/obo/RO_0002566 (causally influences)"
   ]
  },
  {
   "cell_type": "markdown",
   "metadata": {},
   "source": [
    "* [miRNet](https://www.mirnet.ca/miRNet/)"
   ]
  },
  {
   "cell_type": "code",
   "execution_count": null,
   "metadata": {},
   "outputs": [],
   "source": [
    "! wget https://www.dropbox.com/s/f87f2q9ryjs3il9/miRNet-snptfbs-hsa.csv?dl=0"
   ]
  },
  {
   "cell_type": "code",
   "execution_count": null,
   "metadata": {},
   "outputs": [],
   "source": [
    "TF_variant = pd.read_csv(unprocessed_data_location + \"miRNet-snptfbs-hsa.csv?dl=0\")\n",
    "TF_variant.drop(columns=['chr_pos','mirnet','entrez','name'],inplace=True)\n",
    "\n",
    "TF_variant = pd.merge(TF_variant,symbol_to_pro.rename(columns={'0_x':'symbol'}),on=['symbol'])\n",
    "TF_variant.drop(columns=['symbol'],inplace=True)\n",
    "TF_variant.rename(columns={'rsid':'SNP', '1_y':'TF'},inplace=True)\n",
    "TF_variant['Source(s)'] = 'miRNet'\n",
    "\n",
    "TF_variant"
   ]
  },
  {
   "cell_type": "code",
   "execution_count": null,
   "metadata": {},
   "outputs": [],
   "source": [
    "TF_variant.drop_duplicates().to_csv(\n",
    "    edge_data_location + 'Rvariant-TF.txt', sep='\\t', index=None)"
   ]
  },
  {
   "cell_type": "markdown",
   "metadata": {},
   "source": [
    "***\n",
    "### tsRNA-miRNA - http://purl.obolibrary.org/obo/RO_0002434 (interacts with)"
   ]
  },
  {
   "cell_type": "markdown",
   "metadata": {},
   "source": [
    "* [tsRFun](https://rna.sysu.edu.cn/tsRFun/index.php) <br /> tsRFun is a platform for tsRNA functions by High-throughput Small RNA-Seq and CLIP-Seq Data."
   ]
  },
  {
   "cell_type": "code",
   "execution_count": null,
   "metadata": {},
   "outputs": [],
   "source": [
    "! wget https://rna.sysu.edu.cn/tsRFun/download/tsRNetwork/all_hypgm_df.txt"
   ]
  },
  {
   "cell_type": "code",
   "execution_count": null,
   "metadata": {},
   "outputs": [],
   "source": [
    "tsRNA_miRNA = pd.read_csv(unprocessed_data_location + 'all_hypgm_df.txt', sep=\"\\t\")  \n",
    "tsRNA_miRNA"
   ]
  },
  {
   "cell_type": "code",
   "execution_count": null,
   "metadata": {},
   "outputs": [],
   "source": [
    "# We consider pairs with FDR < 0.01\n",
    "tsRNA_miRNA = tsRNA_miRNA[tsRNA_miRNA['adj.p'] < 0.01]\n",
    "# We also remove unadjusted p-val column since we have FDR\n",
    "tsRNA_miRNA.drop('p', axis=1, inplace=True)\n",
    "# We rename columns\n",
    "tsRNA_miRNA.rename(columns={'adj.p':'FDR'}, inplace=True)\n",
    "tsRNA_miRNA"
   ]
  },
  {
   "cell_type": "code",
   "execution_count": null,
   "metadata": {},
   "outputs": [],
   "source": [
    "tsRNA_miRNA = pd.merge(tsRNA_miRNA,mirna_mirbase_map.rename(columns={2:'miRNA'}), on=['miRNA'])\n",
    "tsRNA_miRNA.drop(columns='miRNA',inplace=True)\n",
    "tsRNA_miRNA = pd.merge(tsRNA_miRNA,tsRNA_tRF_map.rename(columns={'tRNA':'tsRNA'}), on=['tsRNA'])\n",
    "tsRNA_miRNA.drop(columns='tsRNA',inplace=True)\n",
    "tsRNA_miRNA.rename(columns={0:'miRNA','tsRNAid':'tsRNA'}, inplace=True)\n",
    "tsRNA_miRNA['Source(s)'] = 'tsRFun'\n",
    "tsRNA_miRNA = tsRNA_miRNA[['miRNA','tsRNA','FDR','Source(s)']]\n",
    "tsRNA_miRNA"
   ]
  },
  {
   "cell_type": "code",
   "execution_count": null,
   "metadata": {},
   "outputs": [],
   "source": [
    "tsRNA_miRNA.drop_duplicates().to_csv(\n",
    "    edge_data_location + 'RtsRNA-miRNA.txt', sep='\\t', index=None)"
   ]
  },
  {
   "cell_type": "markdown",
   "metadata": {},
   "source": [
    "***\n",
    "### tsRNA-disease - http://purl.obolibrary.org/obo/RO_0003302 (causes or contributes to condition)"
   ]
  },
  {
   "cell_type": "markdown",
   "metadata": {},
   "source": [
    "* [tsRFun](https://rna.sysu.edu.cn/tsRFun/index.php)"
   ]
  },
  {
   "cell_type": "code",
   "execution_count": null,
   "metadata": {},
   "outputs": [],
   "source": [
    "! wget https://rna.sysu.edu.cn/tsRFun/download/tsRinCancer/allCancer_0.txt"
   ]
  },
  {
   "cell_type": "code",
   "execution_count": null,
   "metadata": {},
   "outputs": [],
   "source": [
    "tsRNA_disease = pd.read_csv(unprocessed_data_location + 'allCancer_0.txt', sep=\"\\t\", index_col=0)  \n",
    "tsRNA_disease"
   ]
  },
  {
   "cell_type": "code",
   "execution_count": null,
   "metadata": {},
   "outputs": [],
   "source": [
    "# We keep only log2FC columns\n",
    "tsRNA_disease = tsRNA_disease.loc[:, tsRNA_disease.columns.str.endswith('_log2FC')]\n",
    "tsRNA_disease.columns = tsRNA_disease.columns.str.replace(r'_log2FC', '')\n",
    "\n",
    "# tsRNA has a relationship with cancer iff |log2FC| >= 1\n",
    "tsRNA_disease[abs(tsRNA_disease) < 1] = 0\n",
    "tsRNA_disease"
   ]
  },
  {
   "cell_type": "code",
   "execution_count": null,
   "metadata": {},
   "outputs": [],
   "source": [
    "# We want a dataframe with 2 columns, tRF and associated cancer;\n",
    "# this is an example with ACC \n",
    "tRF=[]\n",
    "log2FC=[]\n",
    "for index, row in tsRNA_disease.iterrows():\n",
    "     if row['ACC'] != 0:\n",
    "            tRF.append(index)\n",
    "            log2FC.append(row['ACC'])\n",
    "            \n",
    "df_acc = pd.DataFrame (tRF, columns = ['tRF'])\n",
    "df_acc['dis'] = 'ACC'\n",
    "df_acc['log2FC'] = log2FC\n",
    "df_acc"
   ]
  },
  {
   "cell_type": "code",
   "execution_count": null,
   "metadata": {},
   "outputs": [],
   "source": [
    "# Empty dataframe to store processed rows\n",
    "trRF_disease = pd.DataFrame(columns = [\"tRF\", \"dis\"])\n",
    "\n",
    "log2FC=[]\n",
    "for cancer in tsRNA_disease.columns:    \n",
    "    tRF=[]\n",
    "    for index, row in tsRNA_disease.iterrows():\n",
    "         if row[cancer] != 0:\n",
    "            tRF.append(index)\n",
    "            log2FC.append(row[cancer])\n",
    "    \n",
    "    df = pd.DataFrame(tRF, columns = ['tRF'])\n",
    "    df['dis'] = cancer\n",
    "    \n",
    "    trRF_disease = pd.concat([trRF_disease, df], ignore_index=True)\n",
    "    \n",
    "trRF_disease['log2FC'] = log2FC\n",
    "trRF_disease"
   ]
  },
  {
   "cell_type": "code",
   "execution_count": null,
   "metadata": {},
   "outputs": [],
   "source": [
    "trRF_disease = pd.merge(trRF_disease, cancer_mondo_map.rename(columns={0:'dis'}), on='dis')\n",
    "trRF_disease.drop(columns=['dis'],inplace=True)\n",
    "trRF_disease.rename(columns={1:'Disease'}, inplace=True)\n",
    "trRF_disease['Source(s)'] = 'tsRFun'\n",
    "trRF_disease = trRF_disease[['tRF','Disease','log2FC','Source(s)']]\n",
    "trRF_disease"
   ]
  },
  {
   "cell_type": "code",
   "execution_count": null,
   "metadata": {},
   "outputs": [],
   "source": [
    "merge_rows(trRF_disease, \"tRF\", 'Disease').to_csv(edge_data_location + 'RtsRNA-disease.txt', sep='\\t', index=None)"
   ]
  },
  {
   "cell_type": "markdown",
   "metadata": {},
   "source": [
    "***\n",
    "### tRF-tRNA - http://purl.obolibrary.org/obo/RO_0002202 (develops from)"
   ]
  },
  {
   "cell_type": "markdown",
   "metadata": {},
   "source": [
    "* [tRFdb](http://genome.bioch.virginia.edu/trfdb/index.php) <br /> tRFdb is a comprehensive database of tRFs prepared from publicly available high-throughput sequencing data of >50 short RNA libraries. tRFs originate precisely from the extreme 5' (tRF-5) or 3' ends (tRF-3) of mature tRNAs or from the 3' trailer sequence of precursor tRNA transcripts (tRF-1) and are present in humans, mice, flies, worms and yeasts."
   ]
  },
  {
   "cell_type": "code",
   "execution_count": null,
   "metadata": {},
   "outputs": [],
   "source": [
    "#http://genome.bioch.virginia.edu/trfdb/index.php\n",
    "tRF1_tRNA = pd.read_html(unprocessed_data_location+'trf1.html')[2]\n",
    "tRF1_tRNA.drop(columns=['Organism','Experiment Info','Sequence','tRNA Gene Co-ordinates'],inplace=True)\n",
    "tRF1_tRNA.head()"
   ]
  },
  {
   "cell_type": "code",
   "execution_count": null,
   "metadata": {},
   "outputs": [],
   "source": [
    "tRF3_tRNA = pd.read_html(unprocessed_data_location+'trf3.html')[2]\n",
    "tRF3_tRNA.drop(columns=['Organism','Experiment Info','Sequence','tRNA Gene Co-ordinates'],inplace=True)\n",
    "tRF3_tRNA.head()"
   ]
  },
  {
   "cell_type": "code",
   "execution_count": null,
   "metadata": {},
   "outputs": [],
   "source": [
    "tRF5_tRNA = pd.read_html(unprocessed_data_location+'trf5.html')[2]\n",
    "tRF5_tRNA.drop(columns=['Organism','Experiment Info','Sequence','tRNA Gene Co-ordinates'],inplace=True)\n",
    "tRF5_tRNA.head()"
   ]
  },
  {
   "cell_type": "code",
   "execution_count": null,
   "metadata": {},
   "outputs": [],
   "source": [
    "tRF_tRNA = pd.concat([tRF1_tRNA,tRF3_tRNA,tRF5_tRNA])\n",
    "tRF_tRNA['Source(s)'] = 'tRFdb'\n",
    "tRF_tRNA = tRF_tRNA.drop(columns=['Type'])\n",
    "tRF_tRNA.head()"
   ]
  },
  {
   "cell_type": "code",
   "execution_count": null,
   "metadata": {},
   "outputs": [],
   "source": [
    "tRF_tRNA.rename(columns={'tRF ID':'tRF','tRNA Name':'tRNA'},inplace=True)"
   ]
  },
  {
   "cell_type": "code",
   "execution_count": null,
   "metadata": {},
   "outputs": [],
   "source": [
    "tRF_tRNA.drop_duplicates().to_csv(edge_data_location + 'RtRF-tRNA_tRFdb.txt', sep='\\t', index=None)"
   ]
  },
  {
   "cell_type": "markdown",
   "metadata": {},
   "source": [
    "***\n",
    "* [MINTbase](https://cm.jefferson.edu/MINTbase/) <br /> The Mitochondrial and Nuclear tRNA fragment database (MINTbase) is a repository of tRNA fragments (tRFs)."
   ]
  },
  {
   "cell_type": "code",
   "execution_count": null,
   "metadata": {},
   "outputs": [],
   "source": [
    "# https://cm.jefferson.edu/MINTbase/InputController?g=GRCh37&d=y&v=g&e=1.0&cl=,4,5,11,12,16,18,19,21,22,26,27,#ttop\n",
    "tRF_tRNA2 = pd.read_csv(unprocessed_data_location+'MINTbasetRF-tRNA.txt',sep='\\t')\n",
    "tRF_tRNA2['MINTbase Alternative IDs (GRCh37 assembly-derived)'] = tRF_tRNA2['MINTbase Alternative IDs (GRCh37 assembly-derived)'].str.split('@').str[0]\n",
    "tRF_tRNA2.rename(columns={'MINTbase Alternative IDs (GRCh37 assembly-derived)':'MINTbase tRNA name'},inplace=True)\n",
    "tRF_tRNA2 = pd.merge(tRF_tRNA2, tRNA_MINTbase_GtRNAdb_map, on='MINTbase tRNA name')\n",
    "tRF_tRNA2.drop(columns=['MINTbase tRNA name'],inplace=True)\n",
    "# For post-processing issues\n",
    "tRF_tRNA2['gtRNAdb name'] = tRF_tRNA2['gtRNAdb name'].astype(str)+'.html'\n",
    "tRF_tRNA2 = tRF_tRNA2[['License Plate (sequence derived)','Expressed (# of datasets)?','Maximum RPM','gtRNAdb name']]\n",
    "tRF_tRNA2['Source(s)'] = 'MINTbase'\n",
    "tRF_tRNA2.rename(columns={'License Plate (sequence derived)':'tRF','Expressed (# of datasets)?':'Expressed (# of datasets)',\n",
    "                          'gtRNAdb name':'tRNA'},inplace=True)\n",
    "tRF_tRNA2 = tRF_tRNA2[['tRF','tRNA','Expressed (# of datasets)','Maximum RPM','Source(s)']]\n",
    "\n",
    "tRF_tRNA2['Expressed (# of datasets)'] = tRF_tRNA2['Expressed (# of datasets)'].str.replace(\"yes (\", \"\")\n",
    "tRF_tRNA2['Expressed (# of datasets)'] = tRF_tRNA2['Expressed (# of datasets)'].str.replace(\")\", \"\")\n",
    "tRF_tRNA2['Expressed (# of datasets)'] = tRF_tRNA2['Expressed (# of datasets)'].astype('Int64')\n",
    "\n",
    "tRF_tRNA2"
   ]
  },
  {
   "cell_type": "code",
   "execution_count": null,
   "metadata": {},
   "outputs": [],
   "source": [
    "tRF_tRNA2.drop_duplicates().to_csv(edge_data_location + 'RtRF-tRNA_MINTbase.txt', sep='\\t', index=None)"
   ]
  },
  {
   "cell_type": "markdown",
   "metadata": {},
   "source": [
    "***\n",
    "### tRF-cell line - http://purl.obolibrary.org/obo/RO_0001025 (located in)"
   ]
  },
  {
   "cell_type": "markdown",
   "metadata": {},
   "source": [
    "* [tRFdb](http://genome.bioch.virginia.edu/trfdb/index.php)"
   ]
  },
  {
   "cell_type": "code",
   "execution_count": null,
   "metadata": {},
   "outputs": [],
   "source": [
    "#http://genome.bioch.virginia.edu/trfdb/index.php\n",
    "tRF1_tRNA = pd.read_html(unprocessed_data_location+'trf1.html')[2]\n",
    "tRF1_tRNA.drop(columns=['Organism'],inplace=True)\n",
    "tRF3_tRNA = pd.read_html(unprocessed_data_location+'trf3.html')[2]\n",
    "tRF3_tRNA.drop(columns=['Organism'],inplace=True)\n",
    "tRF5_tRNA = pd.read_html(unprocessed_data_location+'trf5.html')[2]\n",
    "tRF5_tRNA.drop(columns=['Organism'],inplace=True)\n",
    "\n",
    "tRF_tRNA = pd.concat([tRF1_tRNA,tRF3_tRNA,tRF5_tRNA])\n",
    "tRF_tRNA = tRF_tRNA.drop(columns=['Experiment Info', 'Sequence'])\n",
    "tRF_tRNA['tRF ID'] = tRF_tRNA['tRF ID'].astype(str)\n",
    "tRF_tRNA"
   ]
  },
  {
   "cell_type": "code",
   "execution_count": null,
   "metadata": {},
   "outputs": [],
   "source": [
    "df = pd.DataFrame()\n",
    "\n",
    "for tRF_ID in tRF_tRNA['tRF ID']:\n",
    "    url = f\"http://genome.bioch.virginia.edu/trfdb/experiments_display.php?trf_id={tRF_ID}&organism=human\"\n",
    "    response = requests.get(url)\n",
    "    temp = pd.read_html(response.content)[0].drop(columns=['GEO / SRA Links','View Alignment','Graph Alignment'])\n",
    "    temp['tRF ID'] = tRF_ID\n",
    "    df = pd.concat([df, temp], ignore_index=True)\n",
    "df.Source = df.Source.str.lower().str.replace('-', ' ').str.replace('normal ', '').str.replace('whole', '')\n",
    "df['Source'] = df['Source'].apply(lambda x: x + ' cell' if not x.endswith(' cell') else x)\n",
    "df = df[df['Abundance'] != 0]\n",
    "df"
   ]
  },
  {
   "cell_type": "code",
   "execution_count": null,
   "metadata": {},
   "outputs": [],
   "source": [
    "df.Source.unique()"
   ]
  },
  {
   "cell_type": "code",
   "execution_count": null,
   "metadata": {},
   "outputs": [],
   "source": [
    "df_gsm = df[df['Experiment'].str.startswith('GSM')]\n",
    "df_sra = df[df['Experiment'].str.startswith('SR')]\n",
    "df_gsm['Experiment'] = \"https://www.ncbi.nlm.nih.gov/geo/query/acc.cgi?acc=\" + df_gsm['Experiment']\n",
    "df_sra['Experiment'] = \"https://www.ncbi.nlm.nih.gov/sra/query/acc.cgi?acc=\" + df_sra['Experiment']\n",
    "df = pd.concat([df_gsm, df_sra])"
   ]
  },
  {
   "cell_type": "code",
   "execution_count": null,
   "metadata": {},
   "outputs": [],
   "source": [
    "df = pd.merge(df.rename(columns={'Source':0}), desc_clo_map).drop(columns=[0])\n",
    "df.rename(columns={1:'Cell line', 'tRF ID':'tRF'}, inplace=True)\n",
    "df = df[['tRF', 'Cell line', 'Experiment','Abundance']]\n",
    "df"
   ]
  },
  {
   "cell_type": "code",
   "execution_count": null,
   "metadata": {},
   "outputs": [],
   "source": [
    "merge_rows(df, \"tRF\", 'Cell line').to_csv(edge_data_location + 'RtRF-cellLine.txt', sep='\\t', index=None)"
   ]
  },
  {
   "cell_type": "markdown",
   "metadata": {},
   "source": [
    "***\n",
    "### tRNA-modification - http://purl.obolibrary.org/obo/RO_0002434 (interacts with)"
   ]
  },
  {
   "cell_type": "markdown",
   "metadata": {},
   "source": [
    "* [GtRNAdb](http://gtrnadb.ucsc.edu/GtRNAdb2/index.html) <br /> \n",
    "The genomic tRNA database contains tRNA gene predictions made by tRNAscan-SE on complete or nearly complete genomes. Unless otherwise noted, all annotation is automated, and has not been inspected for agreement with published literature."
   ]
  },
  {
   "cell_type": "code",
   "execution_count": null,
   "metadata": {},
   "outputs": [],
   "source": [
    "identifiers = []\n",
    "seq = []\n",
    "\n",
    "fasta_file_path = unprocessed_data_location + 'hg38-tRNAs.fa'\n",
    "\n",
    "with open(fasta_file_path) as fasta_file:\n",
    "    for title, sequence in SimpleFastaParser(fasta_file):\n",
    "        identifiers.append(title.split(None, 1)[0])  # First word is ID\n",
    "        seq.append(sequence)\n",
    "        \n",
    "data = {\"Identifier\": identifiers, \"Sequence\": seq}\n",
    "df = pd.DataFrame(data)\n",
    "df['Identifier'] = df['Identifier'].str[len('Homo_sapiens_'):]\n",
    "df"
   ]
  },
  {
   "cell_type": "code",
   "execution_count": null,
   "metadata": {},
   "outputs": [],
   "source": [
    "tRNA = pd.DataFrame()\n",
    "for identifier in df['Identifier'] [1:] :\n",
    "\n",
    "    temp = pd.read_html('http://gtrnadb.ucsc.edu/genomes/eukaryota/Hsapi38/genes/' + identifier + '.html')[0].T\n",
    "    temp2 = pd.read_html('http://gtrnadb.ucsc.edu/genomes/eukaryota/Hsapi38/genes/' + identifier + '.html')[1].T\n",
    "    temp = pd.concat([temp,temp2],axis=1)\n",
    "    temp.columns = temp.iloc[0]\n",
    "    temp = temp[1:]\n",
    "    tRNA = pd.concat([tRNA, temp])\n",
    "\n",
    "tRNA.Locus = tRNA.Locus.str.replace(' View in Genome Browser', '')\n",
    "tRNA = tRNA[['GtRNAdb Gene Symbol', 'Known Modifications (Modomics)']]\n",
    "tRNA"
   ]
  },
  {
   "cell_type": "code",
   "execution_count": null,
   "metadata": {},
   "outputs": [],
   "source": [
    "tRNA['Known Modifications (Modomics)'] = tRNA['Known Modifications (Modomics)'].str.split(' ')\n",
    "tRNA_mod = tRNA[['GtRNAdb Gene Symbol', 'Known Modifications (Modomics)']].explode('Known Modifications (Modomics)').dropna()\n",
    "tRNA_mod = tRNA_mod.rename(columns={'GtRNAdb Gene Symbol':'tRNA', 'Known Modifications (Modomics)':'Modification'})\n",
    "tRNA_mod['tRNA'] = tRNA_mod['tRNA'] + '.html'\n",
    "tRNA_mod\n"
   ]
  },
  {
   "cell_type": "code",
   "execution_count": null,
   "metadata": {},
   "outputs": [],
   "source": [
    "tRNA_mod.drop_duplicates().to_csv(edge_data_location + 'RtRNA-mod.txt', sep='\\t', index=None)"
   ]
  },
  {
   "cell_type": "markdown",
   "metadata": {},
   "source": [
    "***\n",
    "### tRNA-amino acid - http://purl.obolibrary.org/obo/RO_0002436 (molecularly interacts with)"
   ]
  },
  {
   "cell_type": "markdown",
   "metadata": {},
   "source": [
    "* [tRNAdb](http://trna.bioinf.uni-leipzig.de/DataOutput/) <br /> tRNAdb contains more than 12 000 tRNA genes, classified into families according to amino acid specificity. The database provides various services including graphical representations of tRNA secondary structures, a customizable output of aligned or un-aligned sequences with a variety of individual and combinable search criteria, as well as the construction of consensus sequences for any selected set of tRNAs."
   ]
  },
  {
   "cell_type": "code",
   "execution_count": null,
   "metadata": {},
   "outputs": [],
   "source": [
    "#http://trna.bioinf.uni-leipzig.de/DataOutput/Result\n",
    "tRNA_aa = pd.read_html(unprocessed_data_location+'tRNAdb - Transfer RNA database.html')[3]\n",
    "tRNA_aa.drop(columns=[0,1,2,4,19,20],inplace=True)\n",
    "tRNA_aa.rename(columns=tRNA_aa.iloc[0], inplace=True)\n",
    "tRNA_aa = tRNA_aa.iloc[2:]\n",
    "tRNA_aa.head()"
   ]
  },
  {
   "cell_type": "code",
   "execution_count": null,
   "metadata": {},
   "outputs": [],
   "source": [
    "tRNA_aa = tRNA_MINTbase_GtRNAdb_map[['gtRNAdb name']]\n",
    "tRNA_aa['gtRNAdb name'] = tRNA_aa['gtRNAdb name'] + '.html'\n",
    "tRNA_aa['new'] = tRNA_MINTbase_GtRNAdb_map['gtRNAdb name'].str.split(\"-\").str[1]\n",
    "tRNA_aa['Amino Acid'] = tRNA_aa[tRNA_aa['new']=='tRNA']['gtRNAdb name'].str.split(\"-\").str[2]\n",
    "tRNA_aa['Amino Acid'].fillna(tRNA_aa['new'],inplace=True)\n",
    "tRNA_aa.drop(columns=['new'],inplace=True)\n",
    "tRNA_aa"
   ]
  },
  {
   "cell_type": "code",
   "execution_count": null,
   "metadata": {},
   "outputs": [],
   "source": [
    "tRNA_aa = pd.merge(tRNA_aa, aa_chebi_map.rename(columns={0:'Amino Acid'}), on='Amino Acid')\n",
    "tRNA_aa.drop(columns=['Amino Acid'],inplace=True)\n",
    "tRNA_aa.rename(columns={'gtRNAdb name': 'tRNA', 1:'Amino acid'},inplace=True)\n",
    "tRNA_aa['Source(s)'] = 'tRNAdb'\n",
    "tRNA_aa"
   ]
  },
  {
   "cell_type": "code",
   "execution_count": null,
   "metadata": {},
   "outputs": [],
   "source": [
    "tRNA_aa.drop_duplicates().to_csv(edge_data_location + 'RtRNA-aminoacid.txt', sep='\\t', index=None)"
   ]
  },
  {
   "cell_type": "markdown",
   "metadata": {},
   "source": [
    "***\n",
    "### snoRNA-gene - http://purl.obolibrary.org/obo/RO_0002434 (interacts with)"
   ]
  },
  {
   "cell_type": "markdown",
   "metadata": {},
   "source": [
    "* [snoDB](https://bioinfo-scottgroup.med.usherbrooke.ca/snoDB/) <br /> snoDB is an interactive database of human small nucleolar RNAs (snoRNAs) that includes up-to-date information on snoRNA features, genomic location, conservation, host gene, snoRNA-RNA targets and snoRNA abundance and provides links to other resources."
   ]
  },
  {
   "cell_type": "code",
   "execution_count": null,
   "metadata": {},
   "outputs": [],
   "source": [
    "data_downloader('https://bioinfo-scottgroup.med.usherbrooke.ca/snoDB/download_all', unprocessed_data_location)"
   ]
  },
  {
   "cell_type": "code",
   "execution_count": null,
   "metadata": {
    "scrolled": true
   },
   "outputs": [],
   "source": [
    "snoDB = pd.read_csv(unprocessed_data_location + 'download_all', sep=\"\\t\")\n",
    "snoDB = snoDB[['ncbi_id','host_gene_name','target_count','rrna_targets','snrna_targets','lncrna_targets',\n",
    "               'protein_coding_targets','snorna_targets','mirna_targets','trna_targets','ncrna_targets',\n",
    "               'pseudogene_targets','other_targets','is_expressed']]\n",
    "snoDB = snoDB[snoDB['ncbi_id'].notna()]\n",
    "snoDB['ncbi_id'] = snoDB['ncbi_id'].astype('Int64')\n",
    "snoDB"
   ]
  },
  {
   "cell_type": "code",
   "execution_count": null,
   "metadata": {},
   "outputs": [],
   "source": [
    "snoRNA_gene = snoDB[['ncbi_id', 'host_gene_name', 'target_count', 'is_expressed']]\n",
    "snoRNA_gene = pd.merge(symbol_entrez_map.rename(columns={'0_x':'host_gene_name'}), snoRNA_gene, on='host_gene_name')\n",
    "snoRNA_gene.ncbi_id = snoRNA_gene.ncbi_id.astype(str)+'?snoRNA'\n",
    "snoRNA_gene.drop(columns=['host_gene_name'],inplace=True)\n",
    "snoRNA_gene['Source(s)'] = 'snoDB'\n",
    "snoRNA_gene.rename(columns={'ncbi_id':'snoRNA', 'target_count':'Target count','0_y':'Gene',\n",
    "                            'is_expressed':'Expressed (True/False)'}, inplace=True)\n",
    "snoRNA_gene = snoRNA_gene[['snoRNA', 'Gene', 'Target count', 'Expressed (True/False)', 'Source(s)']]\n",
    "snoRNA_gene['Target count'] = snoRNA_gene['Target count'].astype('Int64').astype(str)\n",
    "snoRNA_gene['Target count'] = snoRNA_gene['Target count'].replace(\"<NA>\", np.nan)\n",
    "snoRNA_gene"
   ]
  },
  {
   "cell_type": "code",
   "execution_count": null,
   "metadata": {},
   "outputs": [],
   "source": [
    "snoRNA_gene.drop_duplicates().to_csv(edge_data_location + 'RsnoRNA-gene.txt', sep='\\t', index=None)"
   ]
  },
  {
   "cell_type": "markdown",
   "metadata": {},
   "source": [
    "***\n",
    "### snoRNA-miRNA - http://purl.obolibrary.org/obo/RO_0002434 (interacts with)"
   ]
  },
  {
   "cell_type": "markdown",
   "metadata": {},
   "source": [
    "* [snoDB](https://bioinfo-scottgroup.med.usherbrooke.ca/snoDB/)"
   ]
  },
  {
   "cell_type": "code",
   "execution_count": null,
   "metadata": {},
   "outputs": [],
   "source": [
    "snoRNA_miRNA = snoDB[['ncbi_id', 'mirna_targets', 'target_count', 'is_expressed']]\n",
    "snoRNA_miRNA = snoRNA_miRNA[snoRNA_miRNA['mirna_targets'].notna()]\n",
    "snoRNA_miRNA = snoRNA_miRNA[snoRNA_miRNA['ncbi_id'].notna()]\n",
    "snoRNA_miRNA['ncbi_id'] = pd.to_numeric(snoRNA_miRNA['ncbi_id'], downcast='integer')\n",
    "snoRNA_miRNA.ncbi_id = snoRNA_miRNA.ncbi_id.astype(str)+'?snoRNA'\n",
    "snoRNA_miRNA"
   ]
  },
  {
   "cell_type": "code",
   "execution_count": null,
   "metadata": {},
   "outputs": [],
   "source": [
    "snoRNA_miRNA['miRBase_id'] = [np.nan, 'MI0000075']\n",
    "snoRNA_miRNA.drop(columns='mirna_targets',inplace=True)\n",
    "snoRNA_miRNA['Source(s)'] = 'snoDB'\n",
    "snoRNA_miRNA['target_count'] = snoRNA_miRNA['target_count'].astype('Int64').astype(str)\n",
    "snoRNA_miRNA['target_count'] = snoRNA_miRNA['target_count'].replace(\"<NA>\", np.nan)\n",
    "\n",
    "# Up to now, no miRBase ID is associated with AC008521\n",
    "snoRNA_miRNA = pd.DataFrame(snoRNA_miRNA.loc[891]).T\n",
    "snoRNA_miRNA"
   ]
  },
  {
   "cell_type": "markdown",
   "metadata": {},
   "source": [
    "* [miRNet](https://www.mirnet.ca/miRNet/)"
   ]
  },
  {
   "cell_type": "code",
   "execution_count": null,
   "metadata": {},
   "outputs": [],
   "source": [
    "# https://www.dropbox.com/s/gpt1yrwoe1h2gx7/miRNet-mir-sncRNA.csv?dl=0\n",
    "snoRNA_miRNA2 = pd.read_csv(unprocessed_data_location + 'miRNet-mir-sncRNA.csv')\n",
    "snoRNA_miRNA2 = snoRNA_miRNA2[snoRNA_miRNA2.gene_name.str.contains('small nucleolar')]\n",
    "snoRNA_miRNA2.drop(columns=['mirnet','mir_id','symbol','embl','gene_name','mbv'],inplace=True)\n",
    "snoRNA_miRNA2.entrez = snoRNA_miRNA2.entrez.astype(str)+'?snoRNA'\n",
    "snoRNA_miRNA2.rename(columns={'mir_acc':'miRBase_id', 'entrez':'ncbi_id'},inplace=True)\n",
    "snoRNA_miRNA2['Source(s)'] = 'miRNet'\n",
    "snoRNA_miRNA2"
   ]
  },
  {
   "cell_type": "code",
   "execution_count": null,
   "metadata": {},
   "outputs": [],
   "source": [
    "snoRNA_miRNA = pd.concat([snoRNA_miRNA,snoRNA_miRNA2])\n",
    "snoRNA_miRNA.rename(columns={'ncbi_id':'snoRNA', 'target_count':'Target count', 'is_expressed':'Expressed (True/False)',\n",
    "                             'miRBase_id':'miRNA'}, inplace=True)\n",
    "snoRNA_miRNA = snoRNA_miRNA[['snoRNA', 'miRNA', 'Target count', 'Expressed (True/False)', 'Source(s)']]\n",
    "snoRNA_miRNA"
   ]
  },
  {
   "cell_type": "code",
   "execution_count": null,
   "metadata": {},
   "outputs": [],
   "source": [
    "maturesnoRNA_miRNA = snoRNA_miRNA[snoRNA_miRNA['miRNA'].str.startswith('MIMAT')]\n",
    "presnoRNA_miRNA = snoRNA_miRNA[~snoRNA_miRNA['miRNA'].str.startswith('MIMAT')]\n",
    "\n",
    "maturesnoRNA_miRNA.drop_duplicates().to_csv(edge_data_location + 'RsnoRNA-miRNA.txt', sep='\\t', index=None)\n",
    "presnoRNA_miRNA.drop_duplicates().to_csv(edge_data_location + 'RsnoRNA-premiRNA.txt', sep='\\t', index=None)"
   ]
  },
  {
   "cell_type": "markdown",
   "metadata": {},
   "source": [
    "***\n",
    "### snoRNA-snoRNA - http://purl.obolibrary.org/obo/RO_0002434 (interacts with)"
   ]
  },
  {
   "cell_type": "markdown",
   "metadata": {},
   "source": [
    "* [snoDB](https://bioinfo-scottgroup.med.usherbrooke.ca/snoDB/)"
   ]
  },
  {
   "cell_type": "code",
   "execution_count": null,
   "metadata": {},
   "outputs": [],
   "source": [
    "snoRNA_snoRNA = snoDB[['ncbi_id', 'snorna_targets', 'target_count', 'is_expressed']]\n",
    "snoRNA_snoRNA = snoRNA_snoRNA[snoRNA_snoRNA['snorna_targets'].notna()]\n",
    "snoRNA_snoRNA"
   ]
  },
  {
   "cell_type": "code",
   "execution_count": null,
   "metadata": {},
   "outputs": [],
   "source": [
    "snoRNA_snoRNA['processed_targets'] = snoRNA_snoRNA.snorna_targets.str.split(';')\n",
    "snoRNA_snoRNA = snoRNA_snoRNA.explode('processed_targets')\n",
    "snoRNA_snoRNA.drop('snorna_targets', axis=1, inplace=True)\n",
    "snoRNA_snoRNA = pd.merge(symbol_entrez_map.rename(columns={'0_x':'processed_targets'}), snoRNA_snoRNA, on='processed_targets')\n",
    "snoRNA_snoRNA.ncbi_id = snoRNA_snoRNA.ncbi_id.astype('Int64').astype(str)+'?snoRNA'\n",
    "snoRNA_snoRNA.drop(columns=['processed_targets'],inplace=True)\n",
    "snoRNA_snoRNA = snoRNA_snoRNA[~snoRNA_snoRNA['ncbi_id'].str.startswith('<NA>')]\n",
    "snoRNA_snoRNA['0_y'] = snoRNA_snoRNA['0_y'].astype(str)+'?snoRNA'\n",
    "snoRNA_snoRNA['Source(s)'] = 'snoDB'\n",
    "snoRNA_snoRNA['target_count'] = snoRNA_snoRNA['target_count'].astype('Int64').astype(str)\n",
    "snoRNA_snoRNA['target_count'] = snoRNA_snoRNA['target_count'].replace(\"<NA>\", np.nan)\n",
    "snoRNA_snoRNA.rename(columns={'ncbi_id':'snoRNA1', 'target_count':'Target count', '0_y':'snoRNA2',\n",
    "                              'is_expressed':'Expressed (True/False)'}, inplace=True)\n",
    "snoRNA_snoRNA = snoRNA_snoRNA[['snoRNA1', 'snoRNA2', 'Target count', 'Expressed (True/False)', 'Source(s)']]\n",
    "snoRNA_snoRNA"
   ]
  },
  {
   "cell_type": "code",
   "execution_count": null,
   "metadata": {},
   "outputs": [],
   "source": [
    "snoRNA_snoRNA.drop_duplicates().to_csv(edge_data_location + 'RsnoRNA-snoRNA.txt', sep='\\t', index=None)"
   ]
  },
  {
   "cell_type": "markdown",
   "metadata": {},
   "source": [
    "***\n",
    "### snoRNA-lncRNA - http://purl.obolibrary.org/obo/RO_0002434 (interacts with)"
   ]
  },
  {
   "cell_type": "markdown",
   "metadata": {},
   "source": [
    "* [snoDB](https://bioinfo-scottgroup.med.usherbrooke.ca/snoDB/)"
   ]
  },
  {
   "cell_type": "code",
   "execution_count": null,
   "metadata": {},
   "outputs": [],
   "source": [
    "snoRNA_lncRNA = snoDB[['ncbi_id', 'lncrna_targets', 'target_count', 'is_expressed']]\n",
    "snoRNA_lncRNA = snoRNA_lncRNA[snoRNA_lncRNA['lncrna_targets'].notna()]\n",
    "\n",
    "# Same reasoning of snoRNA-miRNA\n",
    "snoRNA_lncRNA['lncrna_targets'] = snoRNA_lncRNA.lncrna_targets.str.split(';')\n",
    "snoRNA_lncRNA = snoRNA_lncRNA.explode('lncrna_targets')\n",
    "\n",
    "snoRNA_lncRNA.head()"
   ]
  },
  {
   "cell_type": "code",
   "execution_count": null,
   "metadata": {},
   "outputs": [],
   "source": [
    "snoRNA_lncRNA = pd.merge(symbol_entrez_map.rename(columns={'0_x':'lncrna_targets'}), snoRNA_lncRNA, on='lncrna_targets')\n",
    "snoRNA_lncRNA.ncbi_id = snoRNA_lncRNA.ncbi_id.astype('Int64').astype(str)+'?snoRNA'\n",
    "snoRNA_lncRNA['0_y'] = snoRNA_lncRNA['0_y'].astype('Int64').astype(str)+'?lncRNA'\n",
    "snoRNA_lncRNA.drop(columns=['lncrna_targets'],inplace=True)\n",
    "snoRNA_lncRNA = snoRNA_lncRNA[~snoRNA_lncRNA['ncbi_id'].str.startswith('<NA>')]\n",
    "snoRNA_lncRNA['Source(s)'] = 'snoDB'\n",
    "snoRNA_lncRNA['target_count'] = snoRNA_lncRNA['target_count'].astype('Int64').astype(str)\n",
    "snoRNA_lncRNA['target_count'] = snoRNA_lncRNA['target_count'].replace(\"<NA>\", np.nan)\n",
    "snoRNA_lncRNA.rename(columns={'ncbi_id':'snoRNA', 'target_count':'Target count', '0_y':'lncRNA',\n",
    "                              'is_expressed':'Expressed (True/False)'}, inplace=True)\n",
    "snoRNA_lncRNA = snoRNA_lncRNA[['snoRNA', 'lncRNA', 'Target count', 'Expressed (True/False)', 'Source(s)']]\n",
    "snoRNA_lncRNA"
   ]
  },
  {
   "cell_type": "markdown",
   "metadata": {},
   "source": [
    "***\n",
    "### snoRNA-snRNA - http://purl.obolibrary.org/obo/RO_0002434 (interacts with)"
   ]
  },
  {
   "cell_type": "markdown",
   "metadata": {},
   "source": [
    "* [snoDB](https://bioinfo-scottgroup.med.usherbrooke.ca/snoDB/)"
   ]
  },
  {
   "cell_type": "code",
   "execution_count": null,
   "metadata": {},
   "outputs": [],
   "source": [
    "snoRNA_snRNA = snoDB[['ncbi_id','snrna_targets', 'target_count', 'is_expressed']]\n",
    "snoRNA_snRNA = snoRNA_snRNA[snoRNA_snRNA['snrna_targets'].notna()]\n",
    "\n",
    "# Same reasoning of snoRNA-miRNA and snoRNA-lncRNA\n",
    "snoRNA_snRNA['snrna_targets'] = snoRNA_snRNA.snrna_targets.str.split(';')\n",
    "snoRNA_snRNA = snoRNA_snRNA.explode('snrna_targets')\n",
    "\n",
    "snoRNA_snRNA"
   ]
  },
  {
   "cell_type": "code",
   "execution_count": null,
   "metadata": {},
   "outputs": [],
   "source": [
    "snoRNA_snRNA = pd.merge(symbol_entrez_map.rename(columns={'0_x':'snrna_targets'}), snoRNA_snRNA, on='snrna_targets')\n",
    "snoRNA_snRNA.ncbi_id = snoRNA_snRNA.ncbi_id.astype('Int64').astype(str)+'?snoRNA'\n",
    "snoRNA_snRNA['0_y'] = snoRNA_snRNA['0_y'].astype('Int64').astype(str)+'?snRNA'\n",
    "snoRNA_snRNA.drop(columns=['snrna_targets'],inplace=True)\n",
    "snoRNA_snRNA = snoRNA_snRNA[~snoRNA_snRNA['ncbi_id'].str.startswith('<NA>')]\n",
    "snoRNA_snRNA['Source(s)'] = 'snoDB'\n",
    "snoRNA_snRNA['target_count'] = snoRNA_snRNA['target_count'].astype('Int64').astype(str)\n",
    "snoRNA_snRNA['target_count'] = snoRNA_snRNA['target_count'].replace(\"<NA>\", np.nan)\n",
    "snoRNA_snRNA.rename(columns={'ncbi_id':'snoRNA', 'target_count':'Target count', '0_y':'snRNA',\n",
    "                              'is_expressed':'Expressed (True/False)'}, inplace=True)\n",
    "snoRNA_snRNA = snoRNA_snRNA[['snoRNA', 'snRNA', 'Target count', 'Expressed (True/False)', 'Source(s)']]\n",
    "snoRNA_snRNA.head()"
   ]
  },
  {
   "cell_type": "code",
   "execution_count": null,
   "metadata": {},
   "outputs": [],
   "source": [
    "snoRNA_snRNA.to_csv(edge_data_location + 'RsnoRNA-snRNA.txt', sep='\\t', index=None)"
   ]
  },
  {
   "cell_type": "markdown",
   "metadata": {},
   "source": [
    "***\n",
    "### snoRNA-rRNA - http://purl.obolibrary.org/obo/RO_0002434 (interacts with)"
   ]
  },
  {
   "cell_type": "markdown",
   "metadata": {},
   "source": [
    "* [snoDB](https://bioinfo-scottgroup.med.usherbrooke.ca/snoDB/)"
   ]
  },
  {
   "cell_type": "code",
   "execution_count": null,
   "metadata": {},
   "outputs": [],
   "source": [
    "snoRNA_rRNA = snoDB[['ncbi_id','rrna_targets', 'target_count', 'is_expressed']]\n",
    "snoRNA_rRNA = snoRNA_rRNA[snoRNA_rRNA['rrna_targets'].notna()]\n",
    "\n",
    "# Same reasoning of snoRNA-miRNA and snoRNA-lncRNA\n",
    "snoRNA_rRNA['rrna_targets'] = snoRNA_rRNA.rrna_targets.str.split(';')\n",
    "snoRNA_rRNA = snoRNA_rRNA.explode('rrna_targets')\n",
    "\n",
    "snoRNA_rRNA"
   ]
  },
  {
   "cell_type": "code",
   "execution_count": null,
   "metadata": {},
   "outputs": [],
   "source": [
    "snoRNA_rRNA.ncbi_id = snoRNA_rRNA.ncbi_id.astype('Int64').astype(str)+'?snoRNA'\n",
    "snoRNA_rRNA['rrna_targets'] = snoRNA_rRNA['rrna_targets'].astype(str)+'?snoDBrRNA'\n",
    "snoRNA_rRNA = snoRNA_rRNA[~snoRNA_rRNA['ncbi_id'].str.startswith('<NA>')]\n",
    "snoRNA_rRNA['Source(s)'] = 'snoDB'\n",
    "snoRNA_rRNA['target_count'] = snoRNA_rRNA['target_count'].astype('Int64').astype(str)\n",
    "snoRNA_rRNA['target_count'] = snoRNA_rRNA['target_count'].replace(\"<NA>\", np.nan)\n",
    "snoRNA_rRNA.rename(columns={'ncbi_id':'snoRNA', 'target_count':'Target count', 'rrna_targets':'rRNA',\n",
    "                              'is_expressed':'Expressed (True/False)'}, inplace=True)\n",
    "snoRNA_rRNA = snoRNA_rRNA[['snoRNA', 'rRNA', 'Target count', 'Expressed (True/False)', 'Source(s)']]\n",
    "snoRNA_rRNA"
   ]
  },
  {
   "cell_type": "code",
   "execution_count": null,
   "metadata": {},
   "outputs": [],
   "source": [
    "snoRNA_rRNA.drop_duplicates().to_csv(edge_data_location + 'RsnoRNA-rRNA.txt', sep='\\t', index=None)"
   ]
  },
  {
   "cell_type": "markdown",
   "metadata": {},
   "source": [
    "***\n",
    "### snoRNA-mRNA - http://purl.obolibrary.org/obo/RO_0002434 (interacts with)"
   ]
  },
  {
   "cell_type": "markdown",
   "metadata": {},
   "source": [
    "* [snoDB](https://bioinfo-scottgroup.med.usherbrooke.ca/snoDB/)"
   ]
  },
  {
   "cell_type": "code",
   "execution_count": null,
   "metadata": {},
   "outputs": [],
   "source": [
    "snoRNA_mRNA = snoDB[['ncbi_id','protein_coding_targets', 'target_count', 'is_expressed']]\n",
    "snoRNA_mRNA = snoRNA_mRNA[snoRNA_mRNA['protein_coding_targets'].notna()]\n",
    "\n",
    "# Same reasoning of snoRNA-miRNA and snoRNA-lncRNA\n",
    "snoRNA_mRNA['protein_coding_targets'] = snoRNA_mRNA.protein_coding_targets.str.split(';')\n",
    "snoRNA_mRNA = snoRNA_mRNA.explode('protein_coding_targets')\n",
    "\n",
    "snoRNA_mRNA"
   ]
  },
  {
   "cell_type": "code",
   "execution_count": null,
   "metadata": {},
   "outputs": [],
   "source": [
    "snoRNA_mRNA = pd.merge(symbol_entrez_map.rename(columns={'0_x':'protein_coding_targets'}),\n",
    "                       snoRNA_mRNA, on='protein_coding_targets')\n",
    "snoRNA_mRNA.ncbi_id = snoRNA_mRNA.ncbi_id.astype('Int64').astype(str)+'?snoRNA'\n",
    "snoRNA_mRNA['0_y'] = snoRNA_mRNA['0_y'].astype('Int64').astype(str)+'?mRNA'\n",
    "snoRNA_mRNA.drop(columns=['protein_coding_targets'],inplace=True)\n",
    "snoRNA_mRNA = snoRNA_mRNA[~snoRNA_mRNA['ncbi_id'].str.startswith('<NA>')]\n",
    "snoRNA_mRNA['Source(s)'] = 'snoDB'\n",
    "snoRNA_mRNA['target_count'] = snoRNA_mRNA['target_count'].astype('Int64').astype(str)\n",
    "snoRNA_mRNA['target_count'] = snoRNA_mRNA['target_count'].replace(\"<NA>\", np.nan)\n",
    "snoRNA_mRNA.rename(columns={'ncbi_id':'snoRNA', 'target_count':'Target count', '0_y':'mRNA',\n",
    "                              'is_expressed':'Expressed (True/False)'}, inplace=True)\n",
    "snoRNA_mRNA = snoRNA_mRNA[['snoRNA', 'mRNA', 'Target count', 'Expressed (True/False)', 'Source(s)']]\n",
    "snoRNA_mRNA"
   ]
  },
  {
   "cell_type": "code",
   "execution_count": null,
   "metadata": {},
   "outputs": [],
   "source": [
    "snoRNA_mRNA.drop_duplicates().to_csv(edge_data_location + 'RsnoRNA-mRNA.txt', sep='\\t', index=None)"
   ]
  },
  {
   "cell_type": "markdown",
   "metadata": {},
   "source": [
    "***\n",
    "### snoRNA-tRNA - http://purl.obolibrary.org/obo/RO_0002434 (interacts with)"
   ]
  },
  {
   "cell_type": "markdown",
   "metadata": {},
   "source": [
    "* [snoDB](https://bioinfo-scottgroup.med.usherbrooke.ca/snoDB/)"
   ]
  },
  {
   "cell_type": "code",
   "execution_count": null,
   "metadata": {},
   "outputs": [],
   "source": [
    "snoRNA_tRNA = snoDB[['ncbi_id','trna_targets', 'target_count', 'is_expressed']]\n",
    "snoRNA_tRNA = snoRNA_tRNA[snoRNA_tRNA['trna_targets'].notna()]\n",
    "\n",
    "# Same reasoning of snoRNA-miRNA and snoRNA-lncRNA\n",
    "snoRNA_tRNA['trna_targets'] = snoRNA_tRNA.trna_targets.str.split(';')\n",
    "snoRNA_tRNA = snoRNA_tRNA.explode('trna_targets')\n",
    "snoRNA_tRNA['trna_targets'] = snoRNA_tRNA['trna_targets'].astype(str)\n",
    "snoRNA_tRNA['trna_targets'] = snoRNA_tRNA['trna_targets'].str.replace('_TRNA','')\n",
    "snoRNA_tRNA['trna_targets'] = snoRNA_tRNA['trna_targets'].str.replace('_','')\n",
    "\n",
    "snoRNA_tRNA['Source(s)'] = 'snoDB'\n",
    "snoRNA_tRNA.ncbi_id = snoRNA_tRNA.ncbi_id.astype('Int64').astype(str)+'?snoRNA'\n",
    "snoRNA_tRNA['target_count'] = snoRNA_tRNA['target_count'].astype('Int64').astype(str)\n",
    "snoRNA_tRNA['target_count'] = snoRNA_tRNA['target_count'].replace(\"<NA>\", np.nan)\n",
    "snoRNA_tRNA.rename(columns={'ncbi_id':'snoRNA', 'target_count':'Target count', 'trna_targets':'tRNA',\n",
    "                              'is_expressed':'Expressed (True/False)'}, inplace=True)\n",
    "snoRNA_tRNA = snoRNA_tRNA[['snoRNA', 'tRNA', 'Target count', 'Expressed (True/False)', 'Source(s)']]\n",
    "\n",
    "snoRNA_tRNA"
   ]
  },
  {
   "cell_type": "code",
   "execution_count": null,
   "metadata": {},
   "outputs": [],
   "source": [
    "snoRNA_tRNA.drop_duplicates().to_csv(edge_data_location + 'RsnoRNA-tRNA.txt', sep='\\t', index=None)"
   ]
  },
  {
   "cell_type": "markdown",
   "metadata": {},
   "source": [
    "***\n",
    "### snoRNA-(non-specifically-classified) ncRNA"
   ]
  },
  {
   "cell_type": "markdown",
   "metadata": {},
   "source": [
    "* [snoDB](https://bioinfo-scottgroup.med.usherbrooke.ca/snoDB/)"
   ]
  },
  {
   "cell_type": "code",
   "execution_count": null,
   "metadata": {},
   "outputs": [],
   "source": [
    "snoRNA_ncRNA = snoDB[['ncbi_id','ncrna_targets', 'target_count', 'is_expressed']]\n",
    "snoRNA_ncRNA = snoRNA_ncRNA[snoRNA_ncRNA['ncrna_targets'].notna()]\n",
    "\n",
    "# Same reasoning of snoRNA-miRNA and snoRNA-lncRNA\n",
    "snoRNA_ncRNA['ncrna_targets'] = snoRNA_ncRNA.ncrna_targets.str.split(';')\n",
    "snoRNA_ncRNA = snoRNA_ncRNA.explode('ncrna_targets')\n",
    "snoRNA_ncRNA['Source(s)'] = 'snoDB'\n",
    "snoRNA_ncRNA"
   ]
  },
  {
   "cell_type": "code",
   "execution_count": null,
   "metadata": {},
   "outputs": [],
   "source": [
    "entrez_enst_map = pd.read_csv(processed_data_location + 'ENTREZ_GENE_ENSEMBL_TRANSCRIPT_MAP.txt', sep=\"\\t\", header=None)\n",
    "symbol_entrez_map = pd.merge(symbol_ensembl_map, entrez_enst_map, on=[1])\n",
    "symbol_entrez_map = symbol_entrez_map[['0_x','0_y','3_x']]\n",
    "symbol_entrez_map"
   ]
  },
  {
   "cell_type": "code",
   "execution_count": null,
   "metadata": {},
   "outputs": [],
   "source": [
    "snoRNA_ncRNA = pd.merge(symbol_entrez_map.rename(columns={'0_x':'ncrna_targets'}), snoRNA_ncRNA, on='ncrna_targets')\n",
    "snoRNA_ncRNA.ncbi_id = snoRNA_ncRNA.ncbi_id.astype('Int64').astype(str)+'?snoRNA'\n",
    "snoRNA_ncRNA.drop(columns=['ncrna_targets'],inplace=True)\n",
    "snoRNA_ncRNA = snoRNA_ncRNA[~snoRNA_ncRNA['ncbi_id'].str.startswith('<NA>')]\n",
    "snoRNA_ncRNA"
   ]
  },
  {
   "cell_type": "code",
   "execution_count": null,
   "metadata": {},
   "outputs": [],
   "source": [
    "snoRNA_ncRNA['0_y'] = snoRNA_ncRNA['0_y'].astype(str)+'?'+snoRNA_ncRNA['3_x'].astype(str)\n",
    "snoRNA_ncRNA"
   ]
  },
  {
   "cell_type": "code",
   "execution_count": null,
   "metadata": {},
   "outputs": [],
   "source": [
    "snoRNA_ncRNA['3_x'].unique()"
   ]
  },
  {
   "cell_type": "code",
   "execution_count": null,
   "metadata": {},
   "outputs": [],
   "source": [
    "snoRNA_ncRNA['target_count'] = snoRNA_ncRNA['target_count'].astype('Int64').astype(str)\n",
    "snoRNA_ncRNA['target_count'] = snoRNA_ncRNA['target_count'].replace(\"<NA>\", np.nan)\n",
    "snoRNA_ncRNA.rename(columns={'ncbi_id':'snoRNA', 'target_count':'Target count', '0_y':'ncRNA',\n",
    "                              'is_expressed':'Expressed (True/False)'}, inplace=True)\n",
    "snoRNA_ncRNA = snoRNA_ncRNA[['snoRNA', '3_x', 'ncRNA', 'Target count', 'Expressed (True/False)', 'Source(s)']]"
   ]
  },
  {
   "cell_type": "code",
   "execution_count": null,
   "metadata": {},
   "outputs": [],
   "source": [
    "snoRNA_lncRNA2 = snoRNA_ncRNA[snoRNA_ncRNA['3_x']=='lncRNA']\n",
    "snoRNA_lncRNA2.rename(columns={'ncRNA':'lncRNA'}, inplace=True)\n",
    "snoRNA_lncRNA2.drop(columns=['3_x'], inplace=True)\n",
    "snoRNA_lncRNA2"
   ]
  },
  {
   "cell_type": "code",
   "execution_count": null,
   "metadata": {},
   "outputs": [],
   "source": [
    "snoRNA_lncRNA = pd.concat([snoRNA_lncRNA,snoRNA_lncRNA2])\n",
    "snoRNA_lncRNA"
   ]
  },
  {
   "cell_type": "code",
   "execution_count": null,
   "metadata": {},
   "outputs": [],
   "source": [
    "snoRNA_ri = snoRNA_ncRNA[snoRNA_ncRNA['3_x']=='retained_intron']\n",
    "snoRNA_ri.rename(columns={'ncRNA':'Retained intron'}, inplace=True)\n",
    "snoRNA_ri.drop(columns=['3_x'], inplace=True)\n",
    "snoRNA_ri"
   ]
  },
  {
   "cell_type": "code",
   "execution_count": null,
   "metadata": {},
   "outputs": [],
   "source": [
    "snoRNA_ri.drop_duplicates().to_csv(edge_data_location + 'RsnoRNA-retainedIntron.txt', sep='\\t', index=None)"
   ]
  },
  {
   "cell_type": "code",
   "execution_count": null,
   "metadata": {},
   "outputs": [],
   "source": [
    "snoRNA_miscRNA = snoRNA_ncRNA[snoRNA_ncRNA['3_x']=='misc_RNA']\n",
    "snoRNA_miscRNA = snoRNA_miscRNA.drop(columns=['3_x'])\n",
    "snoRNA_miscRNA.rename(columns={'ncRNA':'Retained intron'}, inplace=True)\n",
    "snoRNA_miscRNA"
   ]
  },
  {
   "cell_type": "code",
   "execution_count": null,
   "metadata": {},
   "outputs": [],
   "source": [
    "snoRNA_miscRNA.drop_duplicates().to_csv(edge_data_location + 'RsnoRNA-miscRNA.txt', sep='\\t', index=None)"
   ]
  },
  {
   "cell_type": "code",
   "execution_count": null,
   "metadata": {},
   "outputs": [],
   "source": [
    "snoRNA_scaRNA = snoRNA_ncRNA[snoRNA_ncRNA['3_x']=='scaRNA']\n",
    "snoRNA_scaRNA = snoRNA_scaRNA.drop(columns=['3_x'])\n",
    "snoRNA_scaRNA.rename(columns={'ncRNA':'scaRNA'}, inplace=True)\n",
    "snoRNA_scaRNA.head()"
   ]
  },
  {
   "cell_type": "code",
   "execution_count": null,
   "metadata": {},
   "outputs": [],
   "source": [
    "symbol_entrez_map.drop(columns=['3_x'],inplace=True)"
   ]
  },
  {
   "cell_type": "markdown",
   "metadata": {},
   "source": [
    "***\n",
    "### snoRNA-pseudogene - http://purl.obolibrary.org/obo/RO_0002434 (interacts with)"
   ]
  },
  {
   "cell_type": "markdown",
   "metadata": {},
   "source": [
    "* [snoDB](https://bioinfo-scottgroup.med.usherbrooke.ca/snoDB/)"
   ]
  },
  {
   "cell_type": "code",
   "execution_count": null,
   "metadata": {},
   "outputs": [],
   "source": [
    "snoRNA_pseudogene = snoDB[['ncbi_id','pseudogene_targets', 'target_count', 'is_expressed']]\n",
    "snoRNA_pseudogene = snoRNA_pseudogene[snoRNA_pseudogene['pseudogene_targets'].notna()]\n",
    "snoRNA_pseudogene.ncbi_id = snoRNA_pseudogene.ncbi_id.astype('Int64').astype(str)+'?snoRNA'\n",
    "\n",
    "# Same reasoning of snoRNA-miRNA and snoRNA-lncRNA\n",
    "snoRNA_pseudogene['pseudogene_targets'] = snoRNA_pseudogene.pseudogene_targets.str.split(';')\n",
    "snoRNA_pseudogene = snoRNA_pseudogene.explode('pseudogene_targets')\n",
    "\n",
    "snoRNA_pseudogene"
   ]
  },
  {
   "cell_type": "code",
   "execution_count": null,
   "metadata": {},
   "outputs": [],
   "source": [
    "snoRNA_pseudogene['pseudogene_targets'] = ['107075265','100287215','106481730','26121',\n",
    "                                           '100420364','401914','100420656','26121',\n",
    "                                           '26121','100873211']\n",
    "snoRNA_pseudogene['pseudogene_targets'] = snoRNA_pseudogene['pseudogene_targets']+'?pseudo'\n",
    "snoRNA_pseudogene['Source(s)'] = 'snoDB'\n",
    "\n",
    "snoRNA_pseudogene['target_count'] = snoRNA_pseudogene['target_count'].astype('Int64').astype(str)\n",
    "snoRNA_pseudogene['target_count'] = snoRNA_pseudogene['target_count'].replace(\"<NA>\", np.nan)\n",
    "snoRNA_pseudogene.rename(columns={'ncbi_id':'snoRNA', 'target_count':'Target count', 'pseudogene_targets':'Pseudogene',\n",
    "                              'is_expressed':'Expressed (True/False)'}, inplace=True)\n",
    "snoRNA_pseudogene = snoRNA_pseudogene[['snoRNA', 'Pseudogene', 'Target count', 'Expressed (True/False)', 'Source(s)']]\n",
    "\n",
    "snoRNA_pseudogene"
   ]
  },
  {
   "cell_type": "code",
   "execution_count": null,
   "metadata": {},
   "outputs": [],
   "source": [
    "snoRNA_pseudogene.drop_duplicates().to_csv(edge_data_location + 'RsnoRNA-pseudogene.txt', sep='\\t', index=None)"
   ]
  },
  {
   "cell_type": "markdown",
   "metadata": {},
   "source": [
    "***\n",
    "### snoRNA-(miscellaneous of) other targets - http://purl.obolibrary.org/obo/RO_0002434 (interacts with)"
   ]
  },
  {
   "cell_type": "markdown",
   "metadata": {},
   "source": [
    "* [snoDB](https://bioinfo-scottgroup.med.usherbrooke.ca/snoDB/)"
   ]
  },
  {
   "cell_type": "code",
   "execution_count": null,
   "metadata": {},
   "outputs": [],
   "source": [
    "snoRNA_other = snoDB[['ncbi_id','other_targets', 'target_count', 'is_expressed']]\n",
    "snoRNA_other = snoRNA_other[snoRNA_other['other_targets'].notna()]\n",
    "snoRNA_other.ncbi_id = snoRNA_other.ncbi_id.astype('Int64').astype(str)+'?snoRNA'\n",
    "\n",
    "# Same reasoning of snoRNA-miRNA and snoRNA-lncRNA\n",
    "snoRNA_other['other_targets'] = snoRNA_other.other_targets.str.split(';')\n",
    "snoRNA_other = snoRNA_other.explode('other_targets')\n",
    "\n",
    "snoRNA_other"
   ]
  },
  {
   "cell_type": "code",
   "execution_count": null,
   "metadata": {},
   "outputs": [],
   "source": [
    "snoRNA_other['other_targets'] = ['tRNA-SeC-TCA-1-1','3653?lncRNA','tRNA-SeC-TCA-1-1','3653?lncRNA',\n",
    "                                 '3653?lncRNA','3653?lncRNA','3653?lncRNA','106633801?scaRNA','106633801?scaRNA']\n",
    "\n",
    "snoRNA_other['type'] = ['tRNA','lncRNA','tRNA','lncRNA','lncRNA','lncRNA','lncRNA','scaRNA','scaRNA']\n",
    "snoRNA_other['Source(s)'] = 'snoDB' \n",
    "snoRNA_other"
   ]
  },
  {
   "cell_type": "code",
   "execution_count": null,
   "metadata": {},
   "outputs": [],
   "source": [
    "snoRNA_tRNA2 = snoRNA_other[snoRNA_other['type']=='tRNA']\n",
    "snoRNA_tRNA2 = snoRNA_tRNA2.drop(columns=['type'])\n",
    "snoRNA_tRNA2['target_count'] = snoRNA_tRNA2['target_count'].astype('Int64').astype(str)\n",
    "snoRNA_tRNA2['target_count'] = snoRNA_tRNA2['target_count'].replace(\"<NA>\", np.nan)\n",
    "snoRNA_tRNA2.rename(columns={'ncbi_id':'snoRNA', 'target_count':'Target count', 'other_targets':'tRNA',\n",
    "                              'is_expressed':'Expressed (True/False)'}, inplace=True)\n",
    "snoRNA_tRNA2 = snoRNA_tRNA2[['snoRNA', 'tRNA', 'Target count', 'Expressed (True/False)', 'Source(s)']]\n",
    "\n",
    "pd.concat([snoRNA_tRNA, snoRNA_tRNA2]).drop_duplicates().to_csv(edge_data_location + 'RsnoRNA-tRNA.txt', sep='\\t', index=None)"
   ]
  },
  {
   "cell_type": "code",
   "execution_count": null,
   "metadata": {},
   "outputs": [],
   "source": [
    "snoRNA_scaRNA2 = snoRNA_other[snoRNA_other['type']=='scaRNA']\n",
    "snoRNA_scaRNA2 = snoRNA_scaRNA2.drop(columns=['type'])\n",
    "snoRNA_scaRNA2['target_count'] = snoRNA_scaRNA2['target_count'].astype('Int64').astype(str)\n",
    "snoRNA_scaRNA2['target_count'] = snoRNA_scaRNA2['target_count'].replace(\"<NA>\", np.nan)\n",
    "snoRNA_scaRNA2.rename(columns={'ncbi_id':'snoRNA', 'target_count':'Target count', 'other_targets':'scaRNA',\n",
    "                              'is_expressed':'Expressed (True/False)'}, inplace=True)\n",
    "snoRNA_scaRNA2 = snoRNA_scaRNA2[['snoRNA', 'scaRNA', 'Target count', 'Expressed (True/False)', 'Source(s)']]\n",
    "\n",
    "pd.concat([snoRNA_scaRNA, snoRNA_scaRNA2]).drop_duplicates().to_csv(edge_data_location + 'RsnoRNA-scaRNA.txt', sep='\\t', index=None)"
   ]
  },
  {
   "cell_type": "code",
   "execution_count": null,
   "metadata": {},
   "outputs": [],
   "source": [
    "snoRNA_lncRNA2 = snoRNA_other[snoRNA_other['type']=='lncRNA']\n",
    "snoRNA_lncRNA2 = snoRNA_lncRNA2.drop(columns=['type'])\n",
    "snoRNA_lncRNA2['target_count'] = snoRNA_lncRNA2['target_count'].astype('Int64').astype(str)\n",
    "snoRNA_lncRNA2['target_count'] = snoRNA_lncRNA2['target_count'].replace(\"<NA>\", np.nan)\n",
    "snoRNA_lncRNA2.rename(columns={'ncbi_id':'snoRNA', 'target_count':'Target count', 'other_targets':'lncRNA',\n",
    "                              'is_expressed':'Expressed (True/False)'}, inplace=True)\n",
    "snoRNA_lncRNA2 = snoRNA_lncRNA2[['snoRNA', 'lncRNA', 'Target count', 'Expressed (True/False)', 'Source(s)']]\n",
    "\n",
    "pd.concat([snoRNA_lncRNA, snoRNA_lncRNA2]).drop_duplicates().to_csv(edge_data_location + 'RsnoRNA-lncRNA.txt', sep='\\t', index=None)"
   ]
  },
  {
   "cell_type": "markdown",
   "metadata": {},
   "source": [
    "***\n",
    "### lncRNA-gene - http://purl.obolibrary.org/obo/RO_0002434 (interacts with)"
   ]
  },
  {
   "cell_type": "markdown",
   "metadata": {},
   "source": [
    "* [LncRNAWiki](https://ngdc.cncb.ac.cn/lncrnawiki/)"
   ]
  },
  {
   "cell_type": "code",
   "execution_count": null,
   "metadata": {},
   "outputs": [],
   "source": [
    "LncRNAWiki = pd.read_csv(unprocessed_data_location+'LncRNAWiki_BrowseDownload.csv')\n",
    "lncRNA_gene = LncRNAWiki[LncRNAWiki['target_type'].notna()]\n",
    "lncRNA_gene = lncRNA_gene[lncRNA_gene.target_type.str.contains('PCG')]\n",
    "lncRNA_gene = lncRNA_gene.drop(columns=['synonyms','gene_locus','target_type', 'gene_id', 'target_effect',\n",
    "                                        'genome_variation', 'variation_detail', 'molecular_function'])\n",
    "lncRNA_gene['target'] = lncRNA_gene['target'].str.split(';')\n",
    "lncRNA_gene = lncRNA_gene.explode('target')\n",
    "lncRNA_gene = pd.merge(lncRNA_gene,symbol_entrez_map.rename(columns={'0_x':'target'}), on='target')\n",
    "lncRNA_gene.drop(columns=['target'],inplace=True)\n",
    "lncRNA_gene = pd.merge(lncRNA_gene,symbol_entrez_map.rename(columns={'0_x':'symbol'}), on='symbol')\n",
    "lncRNA_gene.drop(columns=['symbol'],inplace=True)\n",
    "lncRNA_gene['0_y_y'] = lncRNA_gene['0_y_y'].astype(str)+'?lncRNA'\n",
    "lncRNA_gene['Source(s)'] = 'LncRNAWiki'\n",
    "lncRNA_gene"
   ]
  },
  {
   "cell_type": "markdown",
   "metadata": {},
   "source": [
    "Manual fix of some inconsistency"
   ]
  },
  {
   "cell_type": "code",
   "execution_count": null,
   "metadata": {},
   "outputs": [],
   "source": [
    "lncRNA_gene.insert(0,'0_y_y',lncRNA_gene.pop('0_y_y'))\n",
    "lncRNA_gene.insert(1,'0_y_x',lncRNA_gene.pop('0_y_x'))"
   ]
  },
  {
   "cell_type": "code",
   "execution_count": null,
   "metadata": {},
   "outputs": [],
   "source": [
    "lncRNA_gene['pmid'] = 'https://pubmed.ncbi.nlm.nih.gov/' + lncRNA_gene['pmid'].astype('Int64', errors='ignore').astype('str')\n",
    "lncRNA_gene['pmid'] = lncRNA_gene['pmid'].replace('https://pubmed.ncbi.nlm.nih.gov/nan', np.nan)\n",
    "\n",
    "# transcript\n",
    "lncRNA_gene.transcript_id = lncRNA_gene.transcript_id.str.replace(',', '|')\n",
    "\n",
    "# conservation ortholog\n",
    "lncRNA_gene.conservation_ortholog = lncRNA_gene.conservation_ortholog.str.replace('Human;7SL', 'https://www.ncbi.nlm.nih.gov/gene/6029')\n",
    "lncRNA_gene.conservation_ortholog = lncRNA_gene.conservation_ortholog.str.replace('Mouse', 'http://purl.obolibrary.org/obo/NCBITaxon_10090 (mus musculus)')\n",
    "\n",
    "# biological context\n",
    "lncRNA_gene.biological_context = lncRNA_gene.biological_context.str.replace('Disease', 'http://purl.obolibrary.org/obo/MONDO_0000001 (disease)')\n",
    "\n",
    "# expression\n",
    "lncRNA_gene['expression'] = lncRNA_gene['expression'].str.replace(\n",
    "    'RNA', 'http://purl.obolibrary.org/obo/SO_0000356 (rna)')\n",
    "\n",
    "# regulator\n",
    "lncRNA_gene['regulator'] = lncRNA_gene['regulator'].str.replace(\n",
    "    'HBX;TP53','PR_000008466 (hbx)|PR_Q12888 (tp53)')\n",
    "lncRNA_gene = pd.merge(lncRNA_gene, symbol_to_pro[['0_x','1_y']].rename(columns={'0_x':'regulator'}), on='regulator', how='left')\n",
    "lncRNA_gene['1_y'] = \"http://purl.obolibrary.org/obo/\" + lncRNA_gene['regulator'].astype(str)\n",
    "lncRNA_gene['1_y'] = lncRNA_gene['1_y'].replace('http://purl.obolibrary.org/obo/nan', np.nan)\n",
    "lncRNA_gene.drop(columns=['regulator'],inplace=True)\n",
    "lncRNA_gene\n",
    "\n",
    "# regulator type\n",
    "lncRNA_gene['regulator_type'] = lncRNA_gene['regulator_type'].str.replace(';', '|')\n",
    "lncRNA_gene['regulator_type'] = lncRNA_gene['regulator_type'].str.replace('Protein', 'http://purl.obolibrary.org/obo/PR_000000001 (protein)')\n",
    "lncRNA_gene['regulator_type'] = lncRNA_gene['regulator_type'].str.replace('TF', 'http://purl.obolibrary.org/obo/NCIT_C17207 (transcription factor)')\n",
    "\n",
    "# regulator interaction\n",
    "lncRNA_gene['regulator_interaction'] = lncRNA_gene['regulator_interaction'].replace('NA;NA', np.nan)\n",
    "lncRNA_gene['regulator_interaction'] = lncRNA_gene['regulator_interaction'].str.replace('Protein-DNA', 'http://purl.obolibrary.org/obo/NCIT_C18755 (dna-protein interaction)')\n",
    "lncRNA_gene['regulator_interaction'] = lncRNA_gene['regulator_interaction'].str.replace('Protein-RNA', 'http://purl.obolibrary.org/obo/NCIT_C19019 (rna-protein interaction)')\n",
    "\n",
    "# functional mechanism\n",
    "lncRNA_gene['functional_mechanism'] = lncRNA_gene['functional_mechanism'].str.replace(';', '|')\n",
    "lncRNA_gene['functional_mechanism'] = lncRNA_gene['functional_mechanism'].str.replace('Transcriptional regulation', 'http://purl.obolibrary.org/obo/NCIT_C19077 (transcriptional regulation)')\n",
    "lncRNA_gene['functional_mechanism'] = lncRNA_gene['functional_mechanism'].str.replace('Epigenetic regulation', 'http://purl.obolibrary.org/obo/GO_0040029 (epigenetic regulation of gene expression)')\n",
    "\n",
    "# epigenetic modification\n",
    "lncRNA_gene['epigenetic_modification'] = lncRNA_gene['epigenetic_modification'].str.replace('DNA methylation','http://purl.obolibrary.org/obo/GO_0006306 (dna methylation)')\n",
    "lncRNA_gene['epigenetic_modification'] = lncRNA_gene['epigenetic_modification'].str.replace('Histone modification','http://purl.obolibrary.org/obo/GO_0016570 (histone modification)')\n",
    "lncRNA_gene['epigenetic_modification'] = lncRNA_gene['epigenetic_modification'].str.replace('Epigenetic change','http://purl.obolibrary.org/obo/NCIT_C21051 (epigenetic process)')\n",
    "\n",
    "# regulator effect\n",
    "lncRNA_gene['regulator_effect'] = lncRNA_gene['regulator_effect'].str.replace('promote;promote', 'http://purl.obolibrary.org/obo/NCIT_C61391 (promotion)')\n",
    "lncRNA_gene['regulator_effect'] = lncRNA_gene['regulator_effect'].str.replace('promote', 'http://purl.obolibrary.org/obo/NCIT_C61391 (promotion)')\n",
    "lncRNA_gene['regulator_effect'] = lncRNA_gene['regulator_effect'].str.replace('inhibit', 'http://purl.obolibrary.org/obo/NCIT_C42791 (inhibition)')\n",
    "\n",
    "# modification detail\n",
    "lncRNA_gene['modification_detail'] = lncRNA_gene['modification_detail'].str.replace('methylation','http://purl.obolibrary.org/obo/NCIT_C16848 (methylation)')\n",
    "lncRNA_gene['modification_detail'] = lncRNA_gene['modification_detail'].str.replace('hypomethylation','http://purl.obolibrary.org/obo/NCIT_C121521 (hypomethylation)')\n",
    "lncRNA_gene['modification_detail'] = lncRNA_gene['modification_detail'].str.replace('promoter hypermethylation','http://purl.obolibrary.org/obo/NCIT_C20102 (hypermethylation)')\n",
    "\n",
    "# expression detail\n",
    "lncRNA_gene['expression_detail'] = lncRNA_gene['expression_detail'].str.replace('Down-regulated','http://purl.obolibrary.org/obo/OMIT_0016265 (down-regulation)')\n",
    "lncRNA_gene['expression_detail'] = lncRNA_gene['expression_detail'].str.replace('Up-regulated','http://purl.obolibrary.org/obo/OMIT_0016489 (up-regulation)')\n",
    "lncRNA_gene['expression_detail'] = lncRNA_gene['expression_detail'].str.replace('Differentially expressed','http://purl.obolibrary.org/obo/OBI_0002584 (differential expression analysis data)')\n",
    "\n",
    "# target interaction\n",
    "lncRNA_gene['target_interaction'] = lncRNA_gene['target_interaction'].str.replace(';', '|')\n",
    "lncRNA_gene['target_interaction'] = lncRNA_gene['target_interaction'].str.replace('Protein-DNA', 'http://purl.obolibrary.org/obo/NCIT_C18755 (dna-protein interaction)')\n",
    "lncRNA_gene['target_interaction'] = lncRNA_gene['target_interaction'].str.replace('Protein-RNA', 'http://purl.obolibrary.org/obo/NCIT_C19019 (rna-protein interaction)')\n",
    "lncRNA_gene['target_interaction'] = lncRNA_gene['target_interaction'].str.replace('RNA-Protein', 'http://purl.obolibrary.org/obo/NCIT_C19019 (rna-protein interaction)')\n",
    "lncRNA_gene['target_interaction'] = lncRNA_gene['target_interaction'].str.replace('RNA-RNA', 'http://purl.obolibrary.org/obo/FBcv_0003103 (rna-rna interaction)')\n",
    "\n",
    "# clinical detail\n",
    "lncRNA_gene['clinical_detail'] = lncRNA_gene['clinical_detail'].str.replace(';', '|')\n",
    "lncRNA_gene['clinical_detail'] = lncRNA_gene['clinical_detail'].str.replace('recurrence', 'http://purl.obolibrary.org/obo/NCIT_C3352 (recurrence)')\n",
    "lncRNA_gene['clinical_detail'] = lncRNA_gene['clinical_detail'].str.replace('prognosis', 'http://purl.obolibrary.org/obo/OGMS_0000093 (prognosis)')\n",
    "lncRNA_gene['clinical_detail'] = lncRNA_gene['clinical_detail'].str.replace('survival', 'http://purl.obolibrary.org/obo/NCIT_C17177 (survival)')\n",
    "lncRNA_gene['clinical_detail'] = lncRNA_gene['clinical_detail'].str.replace('metastasis', 'http://purl.obolibrary.org/obo/NCIT_C19151 (metastasis)')\n",
    "lncRNA_gene['clinical_detail'] = lncRNA_gene['clinical_detail'].str.replace('drug', 'http://purl.obolibrary.org/obo/CHEBI_23888 (drug)')\n",
    "\n",
    "# disease\n",
    "lncRNA_gene.context_detail = [replace_with_mondo(item) for item in lncRNA_gene.context_detail]\n",
    "\n",
    "# tissue/cell line\n",
    "lncRNA_gene['tissue/cell line'] = lncRNA_gene['tissue/cell line'].str.lower()\n",
    "lncRNA_gene['tissue/cell line'] = lncRNA_gene['tissue/cell line'].str.replace(';', '|')\n",
    "lncRNA_gene['tissue/cell line'] = [replace_with_clo(item) for item in lncRNA_gene['tissue/cell line']]\n",
    "lncRNA_gene['tissue/cell line'] = [replace_with_clo2(item) for item in lncRNA_gene['tissue/cell line']]\n",
    "lncRNA_gene['tissue/cell line'] = [replace_with_uberon(item) for item in lncRNA_gene['tissue/cell line']]\n",
    "\n",
    "# experimental method\n",
    "lncRNA_gene['experimental_method'] = lncRNA_gene['experimental_method'].str.replace('wetern', 'western')\n",
    "lncRNA_gene['experimental_method'] = lncRNA_gene['experimental_method'].str.replace('assay assay', 'assay')\n",
    "lncRNA_gene['experimental_method'] = lncRNA_gene['experimental_method'].str.lower()\n",
    "lncRNA_gene['experimental_method'] = lncRNA_gene['experimental_method'].str.replace(';', '|')\n",
    "lncRNA_gene['experimental_method'] = [replace_with_ncit(item) for item in lncRNA_gene['experimental_method']]\n",
    "\n",
    "# biological process\n",
    "lncRNA_gene['biological_process'] = lncRNA_gene['biological_process'].str.lower()\n",
    "lncRNA_gene['biological_process'] = lncRNA_gene['biological_process'].str.replace(';', '|')\n",
    "lncRNA_gene['biological_process'] = [replace_with_go(item) for item in lncRNA_gene['biological_process']]\n",
    "\n",
    "# pathway\n",
    "lncRNA_gene['pathway'] = lncRNA_gene['pathway'].str.lower()\n",
    "lncRNA_gene['pathway'] = lncRNA_gene['pathway'].str.replace(';', '|')\n",
    "lncRNA_gene['pathway'] = lncRNA_gene['pathway'].str.replace('nf-??b', 'nuclear factor kappa B')\n",
    "lncRNA_gene['pathway'] = lncRNA_gene['pathway'].str.replace('/??-catenin', '')\n",
    "lncRNA_gene['pathway'] = lncRNA_gene['pathway'].str.replace('pi3k/akt ', '')\n",
    "lncRNA_gene['pathway'] = [replace_with_pw(item) for item in lncRNA_gene['pathway']]\n",
    "\n",
    "# drug\n",
    "lncRNA_gene['drug'] = lncRNA_gene['drug'].str.lower()\n",
    "lncRNA_gene['drug'] = lncRNA_gene['drug'].str.replace(';', '|')\n",
    "lncRNA_gene['drug'] = [replace_with_drugbank(item) for item in lncRNA_gene['drug']]"
   ]
  },
  {
   "cell_type": "code",
   "execution_count": null,
   "metadata": {},
   "outputs": [],
   "source": [
    "lncRNA_gene.columns = lncRNA_gene.columns.str.replace('_', ' ').str.capitalize()\n",
    "lncRNA_gene = lncRNA_gene.rename(columns={'0 y y':'lncRNA', '0 y x':'Gene', 'Transcript id': 'Transcript ID',\n",
    "                                          'Pmid':'References (PMID)', '1 y': 'Regulator'})\n",
    "\n",
    "lncRNA_gene.insert(len(lncRNA_gene.columns)-1,'Source(s)',lncRNA_gene.pop('Source(s)'))\n"
   ]
  },
  {
   "cell_type": "code",
   "execution_count": null,
   "metadata": {},
   "outputs": [],
   "source": [
    "merge_rows(lncRNA_gene,'lncRNA','Gene').to_csv(edge_data_location + 'RlncRNA-gene.txt', sep='\\t', index=None)"
   ]
  },
  {
   "cell_type": "markdown",
   "metadata": {},
   "source": [
    "***\n",
    "### lncRNA-disease - http://purl.obolibrary.org/obo/RO_0003302 (causes or contributes to condition)"
   ]
  },
  {
   "cell_type": "markdown",
   "metadata": {},
   "source": [
    "* [LncRNADisease](http://www.rnanut.net/lncrnadisease/) <br /> LncRNADisease integrates comprehensive experimentally supported and predicted ncRNA-disease associations curated from manual literatures and other resources."
   ]
  },
  {
   "cell_type": "code",
   "execution_count": null,
   "metadata": {},
   "outputs": [],
   "source": [
    "data_downloader('http://www.rnanut.net/lncrnadisease/static/download/experimental%20lncRNA-disease%20information.xlsx', unprocessed_data_location)"
   ]
  },
  {
   "cell_type": "code",
   "execution_count": null,
   "metadata": {},
   "outputs": [],
   "source": [
    "lncRNA_disease = pd.read_excel(unprocessed_data_location + 'experimental%20lncRNA-disease%20information.xlsx')  \n",
    "# We keep only rows dealing with HS\n",
    "lncRNA_disease = lncRNA_disease[lncRNA_disease['Species'].str.contains(\"sapiens\")]\n",
    "lncRNA_disease.drop(columns=['ncRNA Category','Species'],inplace=True)\n",
    "lncRNA_disease['Source(s)'] = 'LncRNADisease'\n",
    "lncRNA_disease"
   ]
  },
  {
   "cell_type": "code",
   "execution_count": null,
   "metadata": {},
   "outputs": [],
   "source": [
    "lncRNA_disease = lncRNA_disease.rename(columns={\"Disease Name\": \"desc\"})\n",
    "lncRNA_disease['desc'] = lncRNA_disease['desc'].str.lower()\n",
    "lncRNA_disease = pd.merge(desc_disPhe_map.rename(columns={0:'desc'}), lncRNA_disease, on=['desc'])\n",
    "lncRNA_disease.drop(columns=['desc'],inplace=True)\n",
    "lncRNA_disease"
   ]
  },
  {
   "cell_type": "markdown",
   "metadata": {},
   "source": [
    "***\n",
    "* [Lnc2Cancer](http://bio-bigdata.hrbmu.edu.cn/lnc2cancer/index.html) <br /> Lnc2Cancer is a manually curated database that provides comprehensive experimentally supported associations between lncRNA or circRNA and human cancer."
   ]
  },
  {
   "cell_type": "code",
   "execution_count": null,
   "metadata": {},
   "outputs": [],
   "source": [
    "! wget http://bio-bigdata.hrbmu.edu.cn/lnc2cancer/download/lncRNA.xlsx"
   ]
  },
  {
   "cell_type": "code",
   "execution_count": null,
   "metadata": {},
   "outputs": [],
   "source": [
    "lncRNA_disease2 = pd.read_excel(unprocessed_data_location+'lncRNA.xlsx')  \n",
    "lncRNA_disease2 = pd.merge(desc_disPhe_map.rename(columns={0:'desc'}), lncRNA_disease2, left_on=['desc'], right_on=['cancer type'])\n",
    "lncRNA_disease2.drop(columns=['desc','cancer type'],inplace=True)\n",
    "lncRNA_disease2.rename(columns={'name':'ncRNA Symbol'},inplace=True)\n",
    "lncRNA_disease2['Source(s)'] = 'Lnc2Cancer'\n",
    "lncRNA_disease2"
   ]
  },
  {
   "cell_type": "code",
   "execution_count": null,
   "metadata": {},
   "outputs": [],
   "source": [
    "lncRNA_disease = pd.merge(lncRNA_disease, lncRNA_disease2, how='outer', on=[1,'ncRNA Symbol'])\n",
    "\n",
    "lncRNA_disease['Sample'].fillna(lncRNA_disease['sample'], inplace=True)\n",
    "lncRNA_disease['Sample'] = lncRNA_disease['Sample'].str.lower()\n",
    "lncRNA_disease['sample'] = lncRNA_disease['sample'].str.lower()\n",
    "lncRNA_disease.loc[(lncRNA_disease['Sample'].notna()) & (lncRNA_disease['sample'].notna()) &\n",
    "                 (lncRNA_disease['Sample'] != lncRNA_disease['sample']),\n",
    "                 [\"Sample\"]] = lncRNA_disease[\"Sample\"] + '|' + lncRNA_disease['sample']\n",
    "\n",
    "lncRNA_disease['Dysfunction Pattern'].fillna(lncRNA_disease['regulated'], inplace=True)\n",
    "lncRNA_disease.loc[(lncRNA_disease['Dysfunction Pattern'].notna()) & (lncRNA_disease['regulated'].notna()) &\n",
    "                 (lncRNA_disease['Dysfunction Pattern'] != lncRNA_disease['regulated']),\n",
    "                 [\"Dysfunction Pattern\"]] = lncRNA_disease[\"Dysfunction Pattern\"] + '|' + lncRNA_disease['regulated']\n",
    "\n",
    "lncRNA_disease['PubMed ID'] = lncRNA_disease['PubMed ID'].astype(str)\n",
    "lncRNA_disease['pubmed id'] = lncRNA_disease['pubmed id'].astype(str)\n",
    "lncRNA_disease['PubMed ID'].fillna(lncRNA_disease['pubmed id'], inplace=True)\n",
    "lncRNA_disease.loc[(~lncRNA_disease['PubMed ID'].isna()) & (~lncRNA_disease['pubmed id'].isna()) &\n",
    "                 (lncRNA_disease['PubMed ID'] != lncRNA_disease['pubmed id']),\n",
    "                 [\"PubMed ID\"]] = lncRNA_disease[\"PubMed ID\"] + '|' + lncRNA_disease['pubmed id']\n",
    "\n",
    "lncRNA_disease['Validated Method'].fillna(lncRNA_disease['methods'], inplace=True)\n",
    "lncRNA_disease.loc[(lncRNA_disease['Validated Method'].notna()) & (lncRNA_disease['methods'].notna()) &\n",
    "                 (lncRNA_disease['Validated Method'] != lncRNA_disease['methods']),\n",
    "                 [\"Validated Method\"]] = lncRNA_disease[\"Validated Method\"] + ' + ' + lncRNA_disease['methods']\n",
    "\n",
    "lncRNA_disease['Source(s)_x'] = lncRNA_disease['Source(s)_x'].astype(str)\n",
    "lncRNA_disease['Source(s)_y'] = lncRNA_disease['Source(s)_y'].astype(str)\n",
    "lncRNA_disease['Source(s)'] = lncRNA_disease['Source(s)_x'] + '|' + lncRNA_disease['Source(s)_y']\n",
    "lncRNA_disease = lncRNA_disease.drop(columns=['Source(s)_x', 'Source(s)_y'])\n",
    "\n",
    "lncRNA_disease.drop(columns=['sample', 'regulated','methods', 'year', 'title', 'pubmed id'],inplace=True)\n",
    "\n",
    "lncRNA_disease"
   ]
  },
  {
   "cell_type": "markdown",
   "metadata": {},
   "source": [
    "***\n",
    "* [LncRNAWiki](https://ngdc.cncb.ac.cn/lncrnawiki/)"
   ]
  },
  {
   "cell_type": "code",
   "execution_count": null,
   "metadata": {
    "scrolled": true
   },
   "outputs": [],
   "source": [
    "LncRNAWiki = pd.read_csv(unprocessed_data_location+'LncRNAWiki_BrowseDownload.csv')\n",
    "lncRNA_disease2 = LncRNAWiki[LncRNAWiki['biological_context'].notna()]\n",
    "lncRNA_disease2 = lncRNA_disease2[lncRNA_disease2.biological_context.str.contains('isease')]\n",
    "lncRNA_disease2 = lncRNA_disease2.drop(columns=['synonyms', 'gene_locus'])\n",
    "lncRNA_disease2.rename(columns={'context_detail':'desc','symbol':'ncRNA Symbol'},inplace=True)\n",
    "lncRNA_disease2['Source(s)'] = 'LncRNAWiki' \n",
    "lncRNA_disease2"
   ]
  },
  {
   "cell_type": "code",
   "execution_count": null,
   "metadata": {},
   "outputs": [],
   "source": [
    "lncRNA_disease2 = pd.merge(lncRNA_disease2, desc_disPhe_map.rename(columns={0:'desc'}), on='desc')\n",
    "lncRNA_disease2.drop(columns='desc',inplace=True)\n",
    "lncRNA_disease = pd.merge(lncRNA_disease, lncRNA_disease2, how='outer', on=[1,'ncRNA Symbol'])\n",
    "\n",
    "lncRNA_disease['Sample'].fillna(lncRNA_disease['tissue/cell line'], inplace=True)\n",
    "lncRNA_disease.loc[(lncRNA_disease['Sample'].notna()) & (lncRNA_disease['tissue/cell line'].notna()) &\n",
    "                 (lncRNA_disease['Sample'] != lncRNA_disease['tissue/cell line']),\n",
    "                 [\"Sample\"]] = lncRNA_disease[\"Sample\"] + '|' + lncRNA_disease['tissue/cell line']\n",
    "\n",
    "lncRNA_disease.drop(columns=['tissue/cell line'],inplace=True)\n",
    "\n",
    "lncRNA_disease['PubMed ID'] = lncRNA_disease['PubMed ID'].astype(str)\n",
    "lncRNA_disease['PubMed ID'].fillna(lncRNA_disease['pmid'], inplace=True)\n",
    "lncRNA_disease.loc[(lncRNA_disease['PubMed ID'].notna()) & (lncRNA_disease['pmid'].notna()) &\n",
    "                 (lncRNA_disease['PubMed ID'] != lncRNA_disease['pmid']),\n",
    "                 [\"PubMed ID\"]] = lncRNA_disease[\"PubMed ID\"] + '|' + lncRNA_disease['pmid']\n",
    "\n",
    "lncRNA_disease['Source(s)_x'] = lncRNA_disease['Source(s)_x'].astype(str)\n",
    "lncRNA_disease['Source(s)_y'] = lncRNA_disease['Source(s)_y'].astype(str)\n",
    "lncRNA_disease['Source(s)'] = lncRNA_disease['Source(s)_x'] + '|' + lncRNA_disease['Source(s)_y']\n",
    "lncRNA_disease = lncRNA_disease.drop(columns=['Source(s)_x', 'Source(s)_y'])\n",
    "\n",
    "lncRNA_disease.drop(columns=['pmid'],inplace=True)\n",
    "\n",
    "lncRNA_disease"
   ]
  },
  {
   "cell_type": "markdown",
   "metadata": {},
   "source": [
    "***\n",
    "* [LncBook](https://ngdc.cncb.ac.cn/lncbook/)"
   ]
  },
  {
   "cell_type": "code",
   "execution_count": null,
   "metadata": {},
   "outputs": [],
   "source": [
    "! wget https://ngdc.cncb.ac.cn/lncbook/files/variation_LncBook2.0.csv.gz"
   ]
  },
  {
   "cell_type": "code",
   "execution_count": null,
   "metadata": {},
   "outputs": [],
   "source": [
    "lncRNA_disease2 = pd.read_csv(unprocessed_data_location+'variation_LncBook2.0.csv.gz')\n",
    "lncRNA_disease2 = lncRNA_disease2[lncRNA_disease2['COSMIC Tumor Name'] != '-']\n",
    "lncRNA_disease2 = lncRNA_disease2[lncRNA_disease2['Symbol'] != '-']\n",
    "lncRNA_disease2['COSMIC Tumor Name'] = lncRNA_disease2['COSMIC Tumor Name'].str.split(';')\n",
    "lncRNA_disease2 = lncRNA_disease2.explode('COSMIC Tumor Name')\n",
    "lncRNA_disease2['COSMIC Tumor Name'] = lncRNA_disease2['COSMIC Tumor Name'].str.replace(r\"\\(.*?\\)\", \"\", regex=True)\n",
    "lncRNA_disease2['COSMIC Tumor Name'] = [desc[1:] if desc.startswith(' ') else\n",
    "                                       desc for desc in lncRNA_disease2['COSMIC Tumor Name']]\n",
    "lncRNA_disease2['COSMIC Tumor Name'] = lncRNA_disease2['COSMIC Tumor Name'].str.lower()\n",
    "lncRNA_disease2.rename(columns={'COSMIC Tumor Name':'desc','Symbol':'ncRNA Symbol'},inplace=True)\n",
    "lncRNA_disease2['ClinVar Allele ID'] = lncRNA_disease2['ClinVar Allele ID'].replace('-', np.nan)\n",
    "lncRNA_disease2['ClinVar Variation Effect'] = lncRNA_disease2['ClinVar Variation Effect'].replace('-', np.nan)\n",
    "lncRNA_disease2['ClinVar Disease Name'] = lncRNA_disease2['ClinVar Disease Name'].replace('-', np.nan)\n",
    "lncRNA_disease2['Source(s)'] = 'LncBook' \n",
    "lncRNA_disease2"
   ]
  },
  {
   "cell_type": "code",
   "execution_count": null,
   "metadata": {},
   "outputs": [],
   "source": [
    "lncRNA_disease2['desc'].unique()"
   ]
  },
  {
   "cell_type": "code",
   "execution_count": null,
   "metadata": {},
   "outputs": [],
   "source": [
    "term_mapping = {\n",
    "    'liver carcinoma': 'MONDO_0007256',\n",
    "    'oesophagus carcinoma': 'MONDO_0019086',\n",
    "    'breast carcinoma': 'MONDO_0004989',\n",
    "    'lung carcinoma': 'MONDO_0005138',\n",
    "    'haematopoietic and lymphoid tissue carcinoma': 'MONDO_0017348',\n",
    "    'prostate carcinoma': 'MONDO_0005159',\n",
    "    'large intestine carcinoma': 'MONDO_0024331',\n",
    "    'skin carcinoma': 'MONDO_0002656',\n",
    "    'pancreas carcinoma': 'MONDO_0006047',\n",
    "    'central nervous system carcinoma': 'MONDO:0006130',\n",
    "    'biliary tract carcinoma': 'MONDO_0003707',\n",
    "    'endometrium carcinoma': 'MONDO_0005461',\n",
    "    'ovary carcinoma': 'MONDO_0005140',\n",
    "    'kidney carcinoma': 'MONDO_0005206',\n",
    "    'urinary tract carcinoma': 'MONDO_0040679',\n",
    "    'cervix carcinoma': 'MONDO_0005131',\n",
    "    'soft tissue carcinoma': 'MONDO_0006424',\n",
    "    'stomach carcinoma': 'MONDO_0004950',\n",
    "    'bone carcinoma': 'MONDO_0002415',\n",
    "    'small intestine carcinoma': 'MONDO_0005522',\n",
    "    'thyroid carcinoma': 'MONDO_0015075',\n",
    "    'upper aerodigestive tract carcinoma': 'MONDO_0005398',\n",
    "    'placenta carcinoma': 'MONDO_0002178',\n",
    "    'salivary gland carcinoma': 'MONDO_0000521',\n",
    "    'adrenal gland carcinoma': 'MONDO_0002814',\n",
    "    'autonomic ganglia carcinoma': 'MONDO_0003996',\n",
    "    'meninges carcinoma': 'MONDO_0021322',\n",
    "    'eye carcinoma': 'MONDO_0002466',\n",
    "    'genital tract carcinoma': 'MONDO_0005140',\n",
    "    'pleura carcinoma': 'MONDO_0006294',\n",
    "    'parathyroid carcinoma': 'MONDO_0012004',\n",
    "    'thymus carcinoma': 'MONDO_0006451',\n",
    "    'pituitary carcinoma': 'MONDO_0017582',\n",
    "    'testis carcinoma': 'MONDO_0005447',\n",
    "    'peritoneum carcinoma': 'MONDO_0002113',\n",
    "    'uterine adnexa carcinoma': 'MONDO_0001351',\n",
    "    'gastrointestinal tract carcinoma': 'MONDO_0006181',\n",
    "    'fallopian tube carcinoma': 'MONDO_0006206',\n",
    "    'penis carcinoma': 'MONDO_0006360',\n",
    "    'vulva carcinoma': 'MONDO_0005215',\n",
    "    'ns': np.nan\n",
    "}\n",
    "\n",
    "lncRNA_disease2['desc'] = lncRNA_disease2['desc'].map(term_mapping)"
   ]
  },
  {
   "cell_type": "code",
   "execution_count": null,
   "metadata": {},
   "outputs": [],
   "source": [
    "lncRNA_disease = lncRNA_disease.rename(columns={1:'desc'})\n",
    "\n",
    "lncRNA_disease = pd.merge(lncRNA_disease, lncRNA_disease2, how='outer', on=['desc','ncRNA Symbol'])\n",
    "lncRNA_disease = pd.merge(lncRNA_disease, symbol_entrez_map.rename(columns={'0_x':'ncRNA Symbol'}), on='ncRNA Symbol')\n",
    "lncRNA_disease.insert(0,'0_y',lncRNA_disease.pop('0_y'))\n",
    "lncRNA_disease['0_y'] = lncRNA_disease['0_y'].astype(str)+'?lncRNA'\n",
    "\n",
    "lncRNA_disease['Source(s)_x'] = lncRNA_disease['Source(s)_x'].astype(str)\n",
    "lncRNA_disease['Source(s)_y'] = lncRNA_disease['Source(s)_y'].astype(str)\n",
    "lncRNA_disease['Source(s)'] = lncRNA_disease['Source(s)_x'] + '|' + lncRNA_disease['Source(s)_y']\n",
    "lncRNA_disease = lncRNA_disease.drop(columns=['Source(s)_x', 'Source(s)_y', 'ncRNA Symbol', 'gene_id',\n",
    "                                              'Gene ID', 'molecular_function', 'target_interaction'])\n",
    "\n",
    "lncRNA_disease"
   ]
  },
  {
   "cell_type": "code",
   "execution_count": null,
   "metadata": {},
   "outputs": [],
   "source": [
    "#lncRNA_disease2 = lncRNA_disease.copy()\n",
    "lncRNA_disease = lncRNA_disease2.copy()"
   ]
  },
  {
   "cell_type": "markdown",
   "metadata": {},
   "source": [
    "Manual fix of inconsistencies."
   ]
  },
  {
   "cell_type": "code",
   "execution_count": null,
   "metadata": {},
   "outputs": [],
   "source": [
    "lncRNA_disease['PubMed ID'] = lncRNA_disease['PubMed ID'].str.replace('nan\\||\\|nan', '', regex=True)\n",
    "lncRNA_disease['PubMed ID'] = lncRNA_disease['PubMed ID'].str.replace('.0', '', regex=True)\n",
    "lncRNA_disease['PubMed ID'] = lncRNA_disease['PubMed ID'].str.replace('|', '|https://pubmed.ncbi.nlm.nih.gov/')\n",
    "lncRNA_disease['PubMed ID'] = 'https://pubmed.ncbi.nlm.nih.gov/' + lncRNA_disease['PubMed ID'].astype('Int64', errors='ignore').astype('str')\n",
    "lncRNA_disease['PubMed ID'] = lncRNA_disease['PubMed ID'].replace('https://pubmed.ncbi.nlm.nih.gov/nan', np.nan)\n",
    "\n",
    "lncRNA_disease['Dbsnp id'] = 'https://www.ncbi.nlm.nih.gov/snp/' + lncRNA_disease['Dbsnp id'].astype('str')\n",
    "lncRNA_disease['Dbsnp id'] = lncRNA_disease['Dbsnp id'].replace('https://www.ncbi.nlm.nih.gov/snp/nan', np.nan)\n",
    "\n",
    "lncRNA_disease['Source(s)'] = lncRNA_disease['Source(s)'].str.replace('nan\\||\\|nan', '', regex=True)\n",
    "\n",
    "lncRNA_disease['transcript_id'] = lncRNA_disease['transcript_id'].str.replace(', ', '|')\n",
    "\n",
    "lncRNA_disease.loc[(lncRNA_disease[\"Description\"].notna()) &\n",
    "                   (lncRNA_disease[\"function description\"].notna()),\n",
    "                   [\"Description\"]] = lncRNA_disease['Description'] + '|' + lncRNA_disease['function description']\n",
    "lncRNA_disease = lncRNA_disease.drop(columns=['function description'])\n",
    "\n",
    "lncRNA_disease.conservation_ortholog = lncRNA_disease.conservation_ortholog.str.replace('Human;7SL', 'https://www.ncbi.nlm.nih.gov/gene/6029')\n",
    "lncRNA_disease.conservation_ortholog = lncRNA_disease.conservation_ortholog.str.replace('Mouse', 'http://purl.obolibrary.org/obo/NCBITaxon_10090 (mus musculus)')\n",
    "\n",
    "lncRNA_disease.biological_context = lncRNA_disease.biological_context.str.replace('Disease', 'http://purl.obolibrary.org/obo/MONDO_0000001 (disease)')\n",
    "\n",
    "lncRNA_disease['epigenetic_modification'] = lncRNA_disease['epigenetic_modification'].str.replace('DNA methylation','http://purl.obolibrary.org/obo/GO_0006306 (dna methylation)')\n",
    "lncRNA_disease['epigenetic_modification'] = lncRNA_disease['epigenetic_modification'].str.replace('Histone modification','http://purl.obolibrary.org/obo/GO_0016570 (histone modification)')\n",
    "lncRNA_disease['epigenetic_modification'] = lncRNA_disease['epigenetic_modification'].str.replace('Epigenetic change','http://purl.obolibrary.org/obo/NCIT_C21051 (epigenetic process)')\n",
    "\n",
    "lncRNA_disease['variation_detail'] = lncRNA_disease['variation_detail'].str.replace('SNP(', '')\n",
    "lncRNA_disease['variation_detail'] = lncRNA_disease['variation_detail'].str.replace(')', '')\n",
    "lncRNA_disease['variation_detail'] = lncRNA_disease['variation_detail'].str.replace(';', '|')\n",
    "\n",
    "lncRNA_disease['modification_detail'] = lncRNA_disease['modification_detail'].str.replace(';', '|')\n",
    "\n",
    "lncRNA_disease['expression'] = lncRNA_disease['expression'].str.replace(\n",
    "    'RNA', 'http://purl.obolibrary.org/obo/SO_0000356 (RNA)')\n",
    "\n",
    "lncRNA_disease['regulator_type'] = lncRNA_disease['regulator_type'].str.replace(';', '|')\n",
    "lncRNA_disease['regulator_type'] = lncRNA_disease['regulator_type'].str.replace('Protein', 'http://purl.obolibrary.org/obo/PR_000000001 (protein)')\n",
    "lncRNA_disease['regulator_type'] = lncRNA_disease['regulator_type'].str.replace('TF', 'http://purl.obolibrary.org/obo/NCIT_C17207 (transcription factor)')\n",
    "lncRNA_disease['regulator_type'] = lncRNA_disease['regulator_type'].str.replace('PCG', 'http://purl.obolibrary.org/obo/SO_0001217 (protein_coding_gene)')\n",
    "\n",
    "lncRNA_disease['regulator_interaction'] = lncRNA_disease['regulator_interaction'].replace('NA;NA', np.nan)\n",
    "lncRNA_disease['regulator_interaction'] = lncRNA_disease['regulator_interaction'].str.replace('Protein-DNA', 'http://purl.obolibrary.org/obo/NCIT_C18755 (dna-protein interaction)')\n",
    "lncRNA_disease['regulator_interaction'] = lncRNA_disease['regulator_interaction'].str.replace('Protein-RNA', 'http://purl.obolibrary.org/obo/NCIT_C19019 (rna-protein interaction)')\n",
    "\n",
    "lncRNA_disease['regulator_effect'] = lncRNA_disease['regulator_effect'].str.replace(';', '|')\n",
    "lncRNA_disease['regulator_effect'] = lncRNA_disease['regulator_effect'].str.replace('promote', 'http://purl.obolibrary.org/obo/NCIT_C61391 (promotion)')\n",
    "lncRNA_disease['regulator_effect'] = lncRNA_disease['regulator_effect'].str.replace('inhibit', 'http://purl.obolibrary.org/obo/NCIT_C42791 (inhibition)')\n",
    "\n",
    "lncRNA_disease['target_effect'] = lncRNA_disease['target_effect'].str.replace(';', '|')\n",
    "lncRNA_disease['target_effect'] = lncRNA_disease['target_effect'].str.replace('promote', 'http://purl.obolibrary.org/obo/NCIT_C61391 (promotion)')\n",
    "lncRNA_disease['target_effect'] = lncRNA_disease['target_effect'].str.replace('inhibit', 'http://purl.obolibrary.org/obo/NCIT_C42791 (inhibition)')\n",
    "\n",
    "lncRNA_disease['target_type'] = lncRNA_disease['target_type'].str.replace(';', '|')\n",
    "lncRNA_disease['target_type'] = lncRNA_disease['target_type'].str.replace('miRNA', 'http://purl.obolibrary.org/obo/SO_0000276 (mirna)')\n",
    "lncRNA_disease['target_type'] = lncRNA_disease['target_type'].str.replace('TF', 'http://purl.obolibrary.org/obo/NCIT_C17207 (transcription factor)')\n",
    "lncRNA_disease['target_type'] = lncRNA_disease['target_type'].str.replace('PCG', 'http://purl.obolibrary.org/obo/SO_0001217 (protein_coding_gene)')\n",
    "lncRNA_disease['target_type'] = lncRNA_disease['target_type'].str.replace('lncRNA', 'http://purl.obolibrary.org/obo/SO_0001877 (lncrna)')\n",
    "\n",
    "lncRNA_disease['functional_mechanism'] = lncRNA_disease['functional_mechanism'].str.replace(';', '|')\n",
    "lncRNA_disease['functional_mechanism'] = lncRNA_disease['functional_mechanism'].str.replace('Post-transcriptional regulation', 'http://purl.obolibrary.org/obo/NCIT_C18952 (post-transcriptional regulation)')\n",
    "lncRNA_disease['functional_mechanism'] = lncRNA_disease['functional_mechanism'].str.replace('Transcriptional regulation', 'http://purl.obolibrary.org/obo/NCIT_C19077 (transcriptional regulation)')\n",
    "lncRNA_disease['functional_mechanism'] = lncRNA_disease['functional_mechanism'].str.replace('Epigenetic regulation', 'http://purl.obolibrary.org/obo/GO_0040029 (epigenetic regulation of gene expression)')\n",
    "\n",
    "lncRNA_disease['clinical_detail'] = lncRNA_disease['clinical_detail'].str.replace(';', '|')\n",
    "lncRNA_disease['clinical_detail'] = lncRNA_disease['clinical_detail'].str.replace('recurrence', 'http://purl.obolibrary.org/obo/NCIT_C3352 (recurrence)')\n",
    "lncRNA_disease['clinical_detail'] = lncRNA_disease['clinical_detail'].str.replace('prognosis', 'http://purl.obolibrary.org/obo/OGMS_0000093 (prognosis)')\n",
    "lncRNA_disease['clinical_detail'] = lncRNA_disease['clinical_detail'].str.replace('survival', 'http://purl.obolibrary.org/obo/NCIT_C17177 (survival)')\n",
    "lncRNA_disease['clinical_detail'] = lncRNA_disease['clinical_detail'].str.replace('metastasis', 'http://purl.obolibrary.org/obo/NCIT_C19151 (metastasis)')\n",
    "lncRNA_disease['clinical_detail'] = lncRNA_disease['clinical_detail'].str.replace('drug', 'http://purl.obolibrary.org/obo/CHEBI_23888 (drug)')\n",
    "\n",
    "lncRNA_disease['biological_process'] = lncRNA_disease['biological_process'].str.lower()\n",
    "lncRNA_disease['biological_process'] = lncRNA_disease['biological_process'].str.replace(';', '|')\n",
    "lncRNA_disease['biological_process'] = [replace_with_go(item) for item in lncRNA_disease['biological_process']]\n",
    "\n",
    "lncRNA_disease['pathway'] = lncRNA_disease['pathway'].str.lower()\n",
    "lncRNA_disease['pathway'] = lncRNA_disease['pathway'].str.replace(';', '|')\n",
    "lncRNA_disease['pathway'] = lncRNA_disease['pathway'].str.replace('nf-??b', 'nuclear factor kappa B')\n",
    "lncRNA_disease['pathway'] = lncRNA_disease['pathway'].str.replace('/??-catenin', '')\n",
    "lncRNA_disease['pathway'] = lncRNA_disease['pathway'].str.replace('pi3k/akt ', '')\n",
    "lncRNA_disease['pathway'] = [replace_with_pw(item) for item in lncRNA_disease['pathway']]\n",
    "\n",
    "lncRNA_disease['drug'] = lncRNA_disease['drug'].str.lower()\n",
    "lncRNA_disease['drug'] = lncRNA_disease['drug'].str.replace(';', '|')\n",
    "lncRNA_disease['drug'] = [replace_with_drugbank(item) for item in lncRNA_disease['drug']]\n",
    "\n",
    "lncRNA_disease['regulator'] = lncRNA_disease['regulator'].str.replace(';', '|').str.lower()\n",
    "lncRNA_disease['regulator'] = [replace_with_pro(item) for item in lncRNA_disease['regulator']]\n",
    "\n",
    "lncRNA_disease['ClinVar Disease Name'] = lncRNA_disease['ClinVar Disease Name'].replace('-', np.nan)\n",
    "\n",
    "lncRNA_disease['genome_variation'] = lncRNA_disease['genome_variation'].str.replace('Mutation', 'http://purl.obolibrary.org/obo/OMIT_0010192 (mutation)')\n",
    "\n",
    "lncRNA_disease['dbSNP ID'] = lncRNA_disease['dbSNP ID'].replace('-', np.nan)\n",
    "\n",
    "lncRNA_disease['COSMIC Variation Effect'] = lncRNA_disease['COSMIC Variation Effect'].str.replace('Pathogenic', 'http://purl.obolibrary.org/obo/NCIT_C168799 (pathogenic variant)')"
   ]
  },
  {
   "cell_type": "markdown",
   "metadata": {},
   "source": [
    "- Dysfunction pattern"
   ]
  },
  {
   "cell_type": "code",
   "execution_count": null,
   "metadata": {},
   "outputs": [],
   "source": [
    "lncRNA_disease.loc[(lncRNA_disease[\"Dysfunction Pattern\"].notna()) &\n",
    "                   (lncRNA_disease[\"expression_detail\"].notna()),\n",
    "                   [\"Dysfunction Pattern\"]] = lncRNA_disease['Dysfunction Pattern'] + '|' + lncRNA_disease['expression_detail']\n",
    "lncRNA_disease = lncRNA_disease.drop(columns=['expression_detail'])\n",
    "\n",
    "mirna_dict = dict(zip(miRBaseMap[2], miRBaseMap[0]))\n",
    "\n",
    "def replace_with_mirbase(substring):\n",
    "    if pd.isna(substring):\n",
    "        return np.nan\n",
    "    else:\n",
    "        return '|'.join([mirna_dict.get(part, part) for part in substring.split('|')])\n",
    "\n",
    "def extract_pattern(value):\n",
    "    if pd.notna(value) and '[' in value and ']' in value:\n",
    "        return pd.Series([value.split('[')[1]])\n",
    "    else:\n",
    "        return pd.Series([value])\n",
    "\n",
    "lncRNA_disease['Dysfunction Pattern'] = lncRNA_disease['Dysfunction Pattern'].str.replace('/', '+')\n",
    "lncRNA_disease['Dysfunction Pattern'] = lncRNA_disease['Dysfunction Pattern'].apply(extract_pattern)\n",
    "lncRNA_disease['Dysfunction Pattern'] = lncRNA_disease['Dysfunction Pattern'].squeeze()\n",
    "\n",
    "lncRNA_disease['Dysfunction Pattern'] = [replace_with_mirbase(item) for item in lncRNA_disease['Dysfunction Pattern']]\n",
    "lncRNA_disease['Dysfunction Pattern'] = lncRNA_disease['Dysfunction Pattern'].str.replace('miR', 'hsa-miR')\n",
    "lncRNA_disease['Dysfunction Pattern'] = [replace_with_mirbase(item) for item in lncRNA_disease['Dysfunction Pattern']]\n",
    "\n",
    "lncRNA_disease['Dysfunction Pattern'] = lncRNA_disease['Dysfunction Pattern'].str.replace('Down-regulated','http://purl.obolibrary.org/obo/OMIT_0016265 (down-regulation)')\n",
    "lncRNA_disease['Dysfunction Pattern'] = lncRNA_disease['Dysfunction Pattern'].str.replace('Up-regulated','http://purl.obolibrary.org/obo/OMIT_0016489 (up-regulation)')\n",
    "lncRNA_disease['Dysfunction Pattern'] = lncRNA_disease['Dysfunction Pattern'].str.replace('Differentially expressed','http://purl.obolibrary.org/obo/OBI_0002584 (differental expression)')\n",
    "lncRNA_disease['Dysfunction Pattern'] = lncRNA_disease['Dysfunction Pattern'].str.replace('Mutation','http://purl.obolibrary.org/obo/OMIT_0010192 (mutation)')\n",
    "\n",
    "lncRNA_disease['Dysfunction Pattern'] = lncRNA_disease['Dysfunction Pattern'].str.replace(']', '')\n",
    "lncRNA_disease['Dysfunction Pattern'] = lncRNA_disease['Dysfunction Pattern'].str.replace('regulation', 'http://purl.obolibrary.org/obo/GO_0010468 (regulation of gene expression)')"
   ]
  },
  {
   "cell_type": "markdown",
   "metadata": {},
   "source": [
    "- Validated method."
   ]
  },
  {
   "cell_type": "code",
   "execution_count": null,
   "metadata": {},
   "outputs": [],
   "source": [
    "lncRNA_disease.loc[(lncRNA_disease[\"Validated Method\"].notna()) &\n",
    "                   (lncRNA_disease[\"experimental_method\"].notna()),\n",
    "                   [\"Validated Method\"]] = lncRNA_disease['Validated Method'] + '|' + lncRNA_disease['experimental_method']\n",
    "lncRNA_disease = lncRNA_disease.drop(columns=['experimental_method'])\n",
    "\n",
    "lncRNA_disease['Validated Method'] = lncRNA_disease['Validated Method'].str.replace('wetern', 'western')\n",
    "lncRNA_disease['Validated Method'] = lncRNA_disease['Validated Method'].str.replace('assay assay', 'assay')\n",
    "lncRNA_disease['Validated Method'] = lncRNA_disease['Validated Method'].str.lower()\n",
    "lncRNA_disease['Validated Method'] = lncRNA_disease['Validated Method'].str.replace('//', '|')\n",
    "lncRNA_disease['Validated Method'] = lncRNA_disease['Validated Method'].str.replace(', ', '|')\n",
    "lncRNA_disease['Validated Method'] = [replace_with_ncit(item) for item in lncRNA_disease['Validated Method']]"
   ]
  },
  {
   "cell_type": "markdown",
   "metadata": {},
   "source": [
    "- Sample."
   ]
  },
  {
   "cell_type": "code",
   "execution_count": null,
   "metadata": {},
   "outputs": [],
   "source": [
    "uberon_dict2 = dict(zip(desc_uberon_map[0].str.replace(' tissue',''), 'http://purl.obolibrary.org/obo/' +\n",
    "                        ' (' + desc_uberon_map[1] + ')'))\n",
    "\n",
    "def replace_with_uberon2(substring):\n",
    "    if pd.isna(substring):\n",
    "        return np.nan\n",
    "    else:\n",
    "        return '|'.join([uberon_dict2.get(part, part) for part in substring.split('|')])\n",
    "    \n",
    "lncRNA_disease.Sample = lncRNA_disease.Sample.str.replace(';', '|')\n",
    "lncRNA_disease.Sample = lncRNA_disease.Sample.str.replace(',', '|')\n",
    "lncRNA_disease.Sample = lncRNA_disease.Sample.str.replace('(', '')\n",
    "lncRNA_disease.Sample = lncRNA_disease.Sample.str.replace(')', '')\n",
    "lncRNA_disease.Sample = lncRNA_disease.Sample.str.replace(' as well as ', '|')\n",
    "lncRNA_disease.Sample = lncRNA_disease.Sample.str.replace(' and ', '|')\n",
    "lncRNA_disease.Sample = lncRNA_disease.Sample.str.replace(' |', '|')\n",
    "lncRNA_disease.Sample = lncRNA_disease.Sample.str.replace('| ', '|')\n",
    "lncRNA_disease.Sample = lncRNA_disease.Sample.str.replace(' | ', '|')\n",
    "lncRNA_disease.Sample = lncRNA_disease.Sample.str.replace(', ', '|')\n",
    "lncRNA_disease.Sample = [replace_with_clo(item) for item in lncRNA_disease.Sample]\n",
    "lncRNA_disease.Sample = [replace_with_clo2(item) for item in lncRNA_disease.Sample]\n",
    "lncRNA_disease.Sample = [replace_with_uberon(item) for item in lncRNA_disease.Sample]\n",
    "lncRNA_disease.Sample = [replace_with_uberon2(item) for item in lncRNA_disease.Sample]\n",
    "lncRNA_disease.Sample.unique()[:5]"
   ]
  },
  {
   "cell_type": "markdown",
   "metadata": {},
   "source": [
    "- Target."
   ]
  },
  {
   "cell_type": "code",
   "execution_count": null,
   "metadata": {},
   "outputs": [],
   "source": [
    "lncRNA_disease['target'] = lncRNA_disease['target'].str.replace('miR', 'hsa-miR')\n",
    "lncRNA_disease['target'] = [replace_with_mirbase(item) for item in lncRNA_disease['target']]\n",
    "lncRNA_disease['target'] = lncRNA_disease['target'].str.replace(';', '|').str.lower()\n",
    "lncRNA_disease['target'] = [replace_with_pro(item) for item in lncRNA_disease['target']]\n",
    "lncRNA_disease['target'].unique()[:5]"
   ]
  },
  {
   "cell_type": "markdown",
   "metadata": {},
   "source": [
    "- ClinVar variation effect."
   ]
  },
  {
   "cell_type": "code",
   "execution_count": null,
   "metadata": {},
   "outputs": [],
   "source": [
    "lncRNA_disease['ClinVar Variation Effect'] = lncRNA_disease['ClinVar Variation Effect'].str.replace('; ', '|').str.lower()\n",
    "lncRNA_disease['ClinVar Variation Effect'] = [replace_with_mondo(item) for item in lncRNA_disease['ClinVar Variation Effect']]\n",
    "lncRNA_disease['ClinVar Variation Effect'] = lncRNA_disease['ClinVar Variation Effect'].str.replace(r's$', '', regex=True)\n",
    "lncRNA_disease['ClinVar Variation Effect'] = [replace_with_mondo(item) for item in lncRNA_disease['ClinVar Variation Effect']]\n",
    "lncRNA_disease['ClinVar Variation Effect'].unique()[:5]"
   ]
  },
  {
   "cell_type": "markdown",
   "metadata": {},
   "source": [
    "- GWAS trait."
   ]
  },
  {
   "cell_type": "code",
   "execution_count": null,
   "metadata": {},
   "outputs": [],
   "source": [
    "lncRNA_disease['GWAS Trait'] = lncRNA_disease['GWAS Trait'].str.replace('; ', '|')\n",
    "lncRNA_disease['GWAS Trait'] = lncRNA_disease['GWAS Trait'].str.replace('; ', '|').str.lower()\n",
    "lncRNA_disease['GWAS Trait'] = [replace_with_mondo(item) for item in lncRNA_disease['GWAS Trait']]\n",
    "lncRNA_disease['GWAS Trait'] = lncRNA_disease['GWAS Trait'].str.replace(r's$', '', regex=True)\n",
    "lncRNA_disease['GWAS Trait'] = [replace_with_mondo(item) for item in lncRNA_disease['GWAS Trait']]\n",
    "\n",
    "lncRNA_disease['GWAS Trait'] = [replace_with_ncit(item) for item in lncRNA_disease['GWAS Trait']]\n",
    "lncRNA_disease['GWAS Trait'].unique()[:5]"
   ]
  },
  {
   "cell_type": "code",
   "execution_count": null,
   "metadata": {},
   "outputs": [],
   "source": [
    "lncRNA_disease.columns = lncRNA_disease.columns.str.replace('_', ' ').str.capitalize()\n",
    "lncRNA_disease = lncRNA_disease.rename(columns={'0 y':'lncRNA', 'Pubmed id':'References (PMID)', 'Transcript id': 'Transcript ID',\n",
    "                                        '1 y': 'Regulator', 'Desc':'Disease', 'Dbsnp id':'SNP'})"
   ]
  },
  {
   "cell_type": "code",
   "execution_count": null,
   "metadata": {},
   "outputs": [],
   "source": [
    "merge_rows(lncRNA_disease, \"lncRNA\", \"Disease\").to_csv(edge_data_location + 'RlncRNA-disease.txt', sep='\\t', index=None)"
   ]
  },
  {
   "cell_type": "markdown",
   "metadata": {},
   "source": [
    "***\n",
    "### circRNA-disease - http://purl.obolibrary.org/obo/RO_0003302 (causes or contributes to condition)"
   ]
  },
  {
   "cell_type": "markdown",
   "metadata": {},
   "source": [
    "* [LncRNADisease](http://www.rnanut.net/lncrnadisease/)"
   ]
  },
  {
   "cell_type": "code",
   "execution_count": null,
   "metadata": {},
   "outputs": [],
   "source": [
    "! wget http://www.rnanut.net/lncrnadisease/static/download/experimental%20circRNA-disease%20information.xlsx"
   ]
  },
  {
   "cell_type": "code",
   "execution_count": null,
   "metadata": {},
   "outputs": [],
   "source": [
    "circRNA_disease = pd.read_excel(unprocessed_data_location + 'experimental circRNA-disease information.xlsx')  \n",
    "# Same reasoning of lncRNA-disease\n",
    "circRNA_disease = circRNA_disease[circRNA_disease['Species'].str.contains(\"sapiens\")]\n",
    "circRNA_disease = circRNA_disease[circRNA_disease['ncRNA Category'] == 'circRNA']\n",
    "circRNA_disease.drop(columns=['ncRNA Category','Species'],inplace=True)\n",
    "circRNA_disease['Source(s)'] = 'LncRNADisease'\n",
    "circRNA_disease"
   ]
  },
  {
   "cell_type": "code",
   "execution_count": null,
   "metadata": {},
   "outputs": [],
   "source": [
    "circRNA_disease = circRNA_disease.rename(columns={\"Disease Name\": \"desc\"})\n",
    "circRNA_disease['desc'] = circRNA_disease['desc'].str.lower()\n",
    "circRNA_disease = pd.merge(desc_disPhe_map.rename(columns={0:'desc'}), circRNA_disease, on=['desc'])\n",
    "circRNA_disease.drop(columns=['desc'],inplace=True)\n",
    "circRNA_disease"
   ]
  },
  {
   "cell_type": "markdown",
   "metadata": {},
   "source": [
    "***\n",
    "* [Lnc2Cancer](http://bio-bigdata.hrbmu.edu.cn/lnc2cancer/index.html)"
   ]
  },
  {
   "cell_type": "code",
   "execution_count": null,
   "metadata": {},
   "outputs": [],
   "source": [
    "! wget http://bio-bigdata.hrbmu.edu.cn/lnc2cancer/download/circRNA.xlsx"
   ]
  },
  {
   "cell_type": "code",
   "execution_count": null,
   "metadata": {},
   "outputs": [],
   "source": [
    "circRNA_disease2 = pd.read_excel(unprocessed_data_location+'circRNA.xlsx')  \n",
    "circRNA_disease2 = pd.merge(desc_disPhe_map.rename(columns={0:'desc'}),\n",
    "                            circRNA_disease2, left_on=['desc'], right_on=['cancer type'])\n",
    "circRNA_disease2.drop(columns=['desc','cancer type'],inplace=True)\n",
    "circRNA_disease2.rename(columns={'name':'ncRNA Symbol'},inplace=True)\n",
    "circRNA_disease2['Source(s)'] = 'Lnc2Cancer'\n",
    "circRNA_disease2"
   ]
  },
  {
   "cell_type": "code",
   "execution_count": null,
   "metadata": {},
   "outputs": [],
   "source": [
    "circRNA_disease = pd.merge(circRNA_disease, circRNA_disease2, how='outer', on=[1,'ncRNA Symbol'])\n",
    "\n",
    "circRNA_disease['Sample'].fillna(circRNA_disease['sample'], inplace=True)\n",
    "circRNA_disease.loc[(circRNA_disease['Sample'].notna()) & (circRNA_disease['sample'].notna()) &\n",
    "                 (circRNA_disease['Sample'] != circRNA_disease['sample']),\n",
    "                 [\"Sample\"]] = circRNA_disease[\"Sample\"] + '|' + circRNA_disease['sample']\n",
    "\n",
    "circRNA_disease.drop(columns=['sample'],inplace=True)\n",
    "\n",
    "circRNA_disease['Dysfunction Pattern'].fillna(circRNA_disease['regulated'], inplace=True)\n",
    "circRNA_disease.loc[(circRNA_disease['Dysfunction Pattern'].notna()) & (circRNA_disease['regulated'].notna()) &\n",
    "                 (circRNA_disease['Dysfunction Pattern'] != circRNA_disease['regulated']),\n",
    "                 [\"Dysfunction Pattern\"]] = circRNA_disease[\"Dysfunction Pattern\"] + '|' + circRNA_disease['regulated']\n",
    "\n",
    "circRNA_disease.drop(columns=['regulated'],inplace=True)\n",
    "\n",
    "circRNA_disease['Validated Method'].fillna(circRNA_disease['methods'], inplace=True)\n",
    "circRNA_disease.loc[(circRNA_disease['Validated Method'].notna()) & (circRNA_disease['methods'].notna()) &\n",
    "                 (circRNA_disease['Validated Method'] != circRNA_disease['methods']),\n",
    "                 [\"Validated Method\"]] = circRNA_disease[\"Validated Method\"] + '|' + circRNA_disease['methods']\n",
    "\n",
    "circRNA_disease['Source(s)_x'] = circRNA_disease['Source(s)_x'].astype(str)\n",
    "circRNA_disease['Source(s)_y'] = circRNA_disease['Source(s)_y'].astype(str)\n",
    "circRNA_disease['Source(s)'] = circRNA_disease['Source(s)_x'] + '|' + circRNA_disease['Source(s)_y']\n",
    "circRNA_disease = circRNA_disease.drop(columns=['Source(s)_x', 'Source(s)_y'])\n",
    "\n",
    "circRNA_disease.drop(columns=['methods'],inplace=True)\n",
    "\n",
    "circRNA_disease['PubMed ID'] = circRNA_disease['PubMed ID'].astype(str)\n",
    "circRNA_disease['PubMed ID'].fillna(circRNA_disease['pubmed id'], inplace=True)\n",
    "circRNA_disease.loc[(circRNA_disease['PubMed ID'].notna()) & (circRNA_disease['pubmed id'].notna()) &\n",
    "                 (circRNA_disease['PubMed ID'] != circRNA_disease['pubmed id']),\n",
    "                 [\"PubMed ID\"]] = circRNA_disease[\"PubMed ID\"].astype(str) + '|' + circRNA_disease['pubmed id'].astype(str)\n",
    "\n",
    "circRNA_disease.drop(columns=['pubmed id', 'function description',\n",
    "                             'year', 'title'],inplace=True)\n",
    "\n",
    "circRNA_disease['ncRNA Symbol'] = circRNA_disease['ncRNA Symbol'].str.replace('circ-', '')\n",
    "circRNA_disease['ncRNA Symbol'] = circRNA_disease['ncRNA Symbol'].str.replace('circ', '')\n",
    "circRNA_disease['ncRNA Symbol'] = circRNA_disease['ncRNA Symbol'].str.replace('circ_', '')\n",
    "circRNA_disease"
   ]
  },
  {
   "cell_type": "code",
   "execution_count": null,
   "metadata": {},
   "outputs": [],
   "source": [
    "circRNA_disease = pd.merge(circRNA_disease, symbol_entrez_map.rename(columns={'0_x':'ncRNA Symbol'}), on='ncRNA Symbol')\n",
    "circRNA_disease.insert(0,'0_y',circRNA_disease.pop('0_y'))\n",
    "circRNA_disease['0_y'] = circRNA_disease['0_y'].astype(str)+'?circRNA'\n",
    "circRNA_disease"
   ]
  },
  {
   "cell_type": "markdown",
   "metadata": {},
   "source": [
    "Manual fix of inconsistencies."
   ]
  },
  {
   "cell_type": "code",
   "execution_count": null,
   "metadata": {},
   "outputs": [],
   "source": [
    "circRNA_disease['PubMed ID'] = circRNA_disease['PubMed ID'].str.replace('nan\\||\\|nan', '', regex=True)\n",
    "circRNA_disease['PubMed ID'] = circRNA_disease['PubMed ID'].str.replace('.0', '', regex=True)\n",
    "circRNA_disease['PubMed ID'] = circRNA_disease['PubMed ID'].str.replace('|', '|https://pubmed.ncbi.nlm.nih.gov/')\n",
    "circRNA_disease['PubMed ID'] = 'https://pubmed.ncbi.nlm.nih.gov/' + circRNA_disease['PubMed ID'].astype('Int64', errors='ignore').astype('str')\n",
    "circRNA_disease['PubMed ID'] = circRNA_disease['PubMed ID'].replace('https://pubmed.ncbi.nlm.nih.gov/nan', np.nan)\n",
    "\n",
    "circRNA_disease.drop(columns=['ncRNA Symbol'],inplace=True)\n",
    "circRNA_disease['Source(s)'] = circRNA_disease['Source(s)'].str.replace('nan\\||\\|nan', '', regex=True)\n",
    "circRNA_disease['PubMed ID'] = circRNA_disease['PubMed ID'].str.replace('nan\\||\\|nan', '', regex=True)"
   ]
  },
  {
   "cell_type": "markdown",
   "metadata": {},
   "source": [
    "- Dysfunction pattern."
   ]
  },
  {
   "cell_type": "code",
   "execution_count": null,
   "metadata": {},
   "outputs": [],
   "source": [
    "circRNA_disease['Dysfunction Pattern'] = circRNA_disease['Dysfunction Pattern'].apply(extract_pattern)\n",
    "circRNA_disease['Dysfunction Pattern'] = circRNA_disease['Dysfunction Pattern'].squeeze()\n",
    "\n",
    "circRNA_disease['Dysfunction Pattern'] = circRNA_disease['Dysfunction Pattern'].str.replace('down-regulated','http://purl.obolibrary.org/obo/OMIT_0016265 (down-regulation)')\n",
    "circRNA_disease['Dysfunction Pattern'] = circRNA_disease['Dysfunction Pattern'].str.replace('up-regulated','http://purl.obolibrary.org/obo/OMIT_0016489 (up-regulation)')\n",
    "circRNA_disease['Dysfunction Pattern'] = circRNA_disease['Dysfunction Pattern'].str.replace('differentially expressed','http://purl.obolibrary.org/obo/OBI_0002584 (differential expression analysis data)')\n",
    "\n",
    "circRNA_disease['Dysfunction Pattern'] = circRNA_disease['Dysfunction Pattern'].str.replace(']', '')\n",
    "circRNA_disease['Dysfunction Pattern'] = circRNA_disease['Dysfunction Pattern'].str.replace('regulation', 'http://purl.obolibrary.org/obo/GO_0010468 (regulation of gene expression)')\n",
    "circRNA_disease['Dysfunction Pattern'].unique()[:5]"
   ]
  },
  {
   "cell_type": "markdown",
   "metadata": {},
   "source": [
    "- Validated method."
   ]
  },
  {
   "cell_type": "code",
   "execution_count": null,
   "metadata": {},
   "outputs": [],
   "source": [
    "circRNA_disease['Validated Method'] = circRNA_disease['Validated Method'].str.replace('wetern', 'western')\n",
    "circRNA_disease['Validated Method'] = circRNA_disease['Validated Method'].str.replace('assay assay', 'assay')\n",
    "circRNA_disease['Validated Method'] = circRNA_disease['Validated Method'].str.lower()\n",
    "circRNA_disease['Validated Method'] = circRNA_disease['Validated Method'].str.replace('//', '|')\n",
    "circRNA_disease['Validated Method'] = circRNA_disease['Validated Method'].str.replace(', ', '|')\n",
    "circRNA_disease['Validated Method'] = [replace_with_ncit(item) for item in circRNA_disease['Validated Method']]\n",
    "circRNA_disease['Validated Method'].unique()[:5]"
   ]
  },
  {
   "cell_type": "markdown",
   "metadata": {},
   "source": [
    "- Sample."
   ]
  },
  {
   "cell_type": "code",
   "execution_count": null,
   "metadata": {},
   "outputs": [],
   "source": [
    "circRNA_disease.Sample = circRNA_disease.Sample.str.replace(';', '|')\n",
    "circRNA_disease.Sample = circRNA_disease.Sample.str.replace(',', '|')\n",
    "circRNA_disease.Sample = circRNA_disease.Sample.str.replace('(', '')\n",
    "circRNA_disease.Sample = circRNA_disease.Sample.str.replace(')', '')\n",
    "circRNA_disease.Sample = circRNA_disease.Sample.str.replace(' as well as ', '|')\n",
    "circRNA_disease.Sample = circRNA_disease.Sample.str.replace(' and ', '|')\n",
    "circRNA_disease.Sample = circRNA_disease.Sample.str.replace(' |', '|')\n",
    "circRNA_disease.Sample = circRNA_disease.Sample.str.replace('| ', '|')\n",
    "circRNA_disease.Sample = circRNA_disease.Sample.str.replace(' | ', '|')\n",
    "circRNA_disease.Sample = circRNA_disease.Sample.str.replace(', ', '|')\n",
    "circRNA_disease.Sample = [replace_with_clo(item) for item in circRNA_disease.Sample]\n",
    "circRNA_disease.Sample = [replace_with_clo2(item) for item in circRNA_disease.Sample]\n",
    "circRNA_disease.Sample = [replace_with_uberon(item) for item in circRNA_disease.Sample]\n",
    "circRNA_disease.Sample = [replace_with_uberon2(item) for item in circRNA_disease.Sample]\n",
    "circRNA_disease.Sample.unique()[:5]"
   ]
  },
  {
   "cell_type": "code",
   "execution_count": null,
   "metadata": {},
   "outputs": [],
   "source": [
    "circRNA_disease"
   ]
  },
  {
   "cell_type": "code",
   "execution_count": null,
   "metadata": {},
   "outputs": [],
   "source": [
    "circRNA_disease.rename(columns={'0_y':'circRNA', 1:'Disease', 'PubMed ID':'References (PMID)'},inplace=True)"
   ]
  },
  {
   "cell_type": "code",
   "execution_count": null,
   "metadata": {},
   "outputs": [],
   "source": [
    "merge_rows(circRNA_disease, 'circRNA', 'Disease').to_csv(edge_data_location + 'RcircRNA-disease.txt', sep='\\t', index=None)"
   ]
  },
  {
   "cell_type": "markdown",
   "metadata": {},
   "source": [
    "***\n",
    "### lncRNA-chemical - http://purl.obolibrary.org/obo/RO_0002434 (interacts with)"
   ]
  },
  {
   "cell_type": "markdown",
   "metadata": {},
   "source": [
    "* [LncRNAWiki](https://ngdc.cncb.ac.cn/lncrnawiki/)"
   ]
  },
  {
   "cell_type": "code",
   "execution_count": null,
   "metadata": {},
   "outputs": [],
   "source": [
    "#LncRNAWiki = pd.read_csv(unprocessed_data_location+'LncRNAWiki_BrowseDownload.csv')\n",
    "lncRNA_chemical = LncRNAWiki[LncRNAWiki['drug'].notna()]\n",
    "lncRNA_chemical = lncRNA_chemical.drop(columns=['synonyms','gene_locus','gene_id'])\n",
    "\n",
    "lncRNA_chemical['drug'] = lncRNA_chemical.drug.str.split(';')\n",
    "lncRNA_chemical = lncRNA_chemical.explode('drug')\n",
    "lncRNA_chemical = pd.merge(desc_chebi_map.rename(columns={0:'drug'}), lncRNA_chemical, on=['drug'])\n",
    "lncRNA_chemical = pd.merge(lncRNA_chemical,symbol_entrez_map.rename(columns={'0_x':'symbol'}),on='symbol')\n",
    "lncRNA_chemical = lncRNA_chemical.drop(columns=['drug','symbol','genome_variation','variation_detail',\n",
    "                                               'target_interaction','molecular_function'])\n",
    "lncRNA_chemical['0_y'] = lncRNA_chemical['0_y'].astype(str)+'?lncRNA'\n",
    "lncRNA_chemical['Source(s)'] = 'LncRNAWiki'\n",
    "lncRNA_chemical"
   ]
  },
  {
   "cell_type": "markdown",
   "metadata": {},
   "source": [
    "Manual fix of inconsistencies."
   ]
  },
  {
   "cell_type": "code",
   "execution_count": null,
   "metadata": {},
   "outputs": [],
   "source": [
    "lncRNA_chemical['pmid'] = 'https://pubmed.ncbi.nlm.nih.gov/' + lncRNA_chemical['pmid'].astype('Int64', errors='ignore').astype('str')\n",
    "lncRNA_chemical['pmid'] = lncRNA_chemical['pmid'].replace('https://pubmed.ncbi.nlm.nih.gov/nan', np.nan)\n",
    "\n",
    "lncRNA_chemical.transcript_id = lncRNA_chemical.transcript_id.str.replace(',','|')\n",
    "\n",
    "lncRNA_chemical.conservation_ortholog = lncRNA_chemical.conservation_ortholog.str.replace('Human;7SL', 'https://www.ncbi.nlm.nih.gov/gene/6029')\n",
    "lncRNA_chemical.conservation_ortholog = lncRNA_chemical.conservation_ortholog.str.replace('Mouse', 'http://purl.obolibrary.org/obo/NCBITaxon_10090 (mus musculus)')\n",
    "\n",
    "lncRNA_chemical.biological_context = lncRNA_chemical.biological_context.str.replace('Disease', 'http://purl.obolibrary.org/obo/MONDO_0000001 (disease)')\n",
    "\n",
    "lncRNA_chemical['epigenetic_modification'] = lncRNA_chemical['epigenetic_modification'].str.replace('DNA methylation','http://purl.obolibrary.org/obo/GO_0006306 (dna methylation)')\n",
    "\n",
    "lncRNA_chemical['expression'] = lncRNA_chemical['expression'].str.replace(\n",
    "    'RNA', 'http://purl.obolibrary.org/obo/SO_0000356')\n",
    "\n",
    "lncRNA_chemical['expression_detail'] = lncRNA_chemical['expression_detail'].str.replace('Down-regulated','http://purl.obolibrary.org/obo/OMIT_0016265 (down-regulation)')\n",
    "lncRNA_chemical['expression_detail'] = lncRNA_chemical['expression_detail'].str.replace('Up-regulated','http://purl.obolibrary.org/obo/OMIT_0016489 (up-regulation)')\n",
    "lncRNA_chemical['expression_detail'] = lncRNA_chemical['expression_detail'].str.replace('Differentially expressed','http://purl.obolibrary.org/obo/OBI_0002584 (differential expression)')\n",
    "\n",
    "lncRNA_chemical['regulator_type'] = lncRNA_chemical['regulator_type'].str.replace(';', '|')\n",
    "lncRNA_chemical['regulator_type'] = lncRNA_chemical['regulator_type'].str.replace('Protein', 'http://purl.obolibrary.org/obo/PR_000000001 (protein)')\n",
    "lncRNA_chemical['regulator_type'] = lncRNA_chemical['regulator_type'].str.replace('TF', 'http://purl.obolibrary.org/obo/NCIT_C17207 (transcription factor)')\n",
    "lncRNA_chemical['regulator_type'] = lncRNA_chemical['regulator_type'].str.replace('PCG', 'http://purl.obolibrary.org/obo/SO_0001217 (protein_coding_gene)')\n",
    "\n",
    "lncRNA_chemical['regulator_interaction'] = lncRNA_chemical['regulator_interaction'].str.replace(';', '|')\n",
    "lncRNA_chemical['regulator_interaction'] = lncRNA_chemical['regulator_interaction'].str.replace('Protein-DNA', 'http://purl.obolibrary.org/obo/NCIT_C18755 (dna-protein interaction)')\n",
    "lncRNA_chemical['regulator_interaction'] = lncRNA_chemical['regulator_interaction'].str.replace('Protein-RNA', 'http://purl.obolibrary.org/obo/NCIT_C19019 (rna-protein interaction)')\n",
    "\n",
    "lncRNA_chemical['regulator_effect'] = lncRNA_chemical['regulator_effect'].str.replace(';', '|')\n",
    "lncRNA_chemical['regulator_effect'] = lncRNA_chemical['regulator_effect'].str.replace('promote', 'http://purl.obolibrary.org/obo/NCIT_C61391 (promotion)')\n",
    "lncRNA_chemical['regulator_effect'] = lncRNA_chemical['regulator_effect'].str.replace('inhibit', 'http://purl.obolibrary.org/obo/NCIT_C42791 (inhibition)')\n",
    "\n",
    "lncRNA_chemical['target_type'] = lncRNA_chemical['target_type'].str.replace(';', '|')\n",
    "lncRNA_chemical['target_type'] = lncRNA_chemical['target_type'].str.replace('miRNA', 'http://purl.obolibrary.org/obo/SO_0000276 (mirna)')\n",
    "lncRNA_chemical['target_type'] = lncRNA_chemical['target_type'].str.replace('TF', 'http://purl.obolibrary.org/obo/NCIT_C17207 (transcription factor)')\n",
    "lncRNA_chemical['target_type'] = lncRNA_chemical['target_type'].str.replace('PCG', 'http://purl.obolibrary.org/obo/SO_0001217 (protein_coding_gene)')\n",
    "lncRNA_chemical['target_type'] = lncRNA_chemical['target_type'].str.replace('lncRNA', 'http://purl.obolibrary.org/obo/SO_0001877 (lncrna)')\n",
    "\n",
    "lncRNA_chemical['target_effect'] = lncRNA_chemical['target_effect'].str.replace(';', '|').str.lower()\n",
    "lncRNA_chemical['target_effect'] = lncRNA_chemical['target_effect'].str.replace('promote', 'http://purl.obolibrary.org/obo/NCIT_C61391 (promotion)')\n",
    "lncRNA_chemical['target_effect'] = lncRNA_chemical['target_effect'].str.replace('inhibit', 'http://purl.obolibrary.org/obo/NCIT_C42791 (inhibition)')\n",
    "\n",
    "lncRNA_chemical['clinical_detail'] = lncRNA_chemical['clinical_detail'].str.replace(';', '|')\n",
    "lncRNA_chemical['clinical_detail'] = lncRNA_chemical['clinical_detail'].str.replace('recurrence', 'http://purl.obolibrary.org/obo/NCIT_C3352 (recurrence)')\n",
    "lncRNA_chemical['clinical_detail'] = lncRNA_chemical['clinical_detail'].str.replace('prognosis', 'http://purl.obolibrary.org/obo/OGMS_0000093 (prognosis)')\n",
    "lncRNA_chemical['clinical_detail'] = lncRNA_chemical['clinical_detail'].str.replace('survival', 'http://purl.obolibrary.org/obo/NCIT_C17177 (survival)')\n",
    "lncRNA_chemical['clinical_detail'] = lncRNA_chemical['clinical_detail'].str.replace('metastasis', 'http://purl.obolibrary.org/obo/NCIT_C19151 (metastasis)')\n",
    "lncRNA_chemical['clinical_detail'] = lncRNA_chemical['clinical_detail'].str.replace('drug', 'http://purl.obolibrary.org/obo/CHEBI_23888 (drug)')\n",
    "\n",
    "lncRNA_chemical['functional_mechanism'] = lncRNA_chemical['functional_mechanism'].str.replace(';', '|')\n",
    "lncRNA_chemical['functional_mechanism'] = lncRNA_chemical['functional_mechanism'].str.replace('Post-transcriptional regulation', 'http://purl.obolibrary.org/obo/NCIT_C18952 (post-transcriptional regulation)')\n",
    "lncRNA_chemical['functional_mechanism'] = lncRNA_chemical['functional_mechanism'].str.replace('Transcriptional regulation', 'http://purl.obolibrary.org/obo/NCIT_C19077 (transcriptional regulation)')\n",
    "lncRNA_chemical['functional_mechanism'] = lncRNA_chemical['functional_mechanism'].str.replace('Epigenetic regulation', 'http://purl.obolibrary.org/obo/GO_0040029 (epigenetic regulation of gene expression)')\n",
    "\n",
    "lncRNA_chemical['regulator'] = lncRNA_chemical['regulator'].str.replace(';', '|').str.lower()\n",
    "lncRNA_chemical['regulator'] = [replace_with_pro(item) for item in lncRNA_chemical['regulator']]\n",
    "\n",
    "lncRNA_chemical['target'] = lncRNA_chemical['target'].str.replace('miR', 'hsa-miR')\n",
    "lncRNA_chemical['target'] = [replace_with_mirbase(item) for item in lncRNA_chemical['target']]\n",
    "lncRNA_chemical['target'] = lncRNA_chemical['target'].str.replace(';', '|').str.lower()\n",
    "lncRNA_chemical['target'] = [replace_with_pro(item) for item in lncRNA_chemical['target']]\n",
    "\n",
    "lncRNA_chemical.context_detail = [replace_with_mondo(item) for item in lncRNA_chemical.context_detail]\n",
    "\n",
    "\n",
    "lncRNA_chemical['tissue/cell line'] = lncRNA_chemical['tissue/cell line'].str.lower()\n",
    "lncRNA_chemical['tissue/cell line'] = lncRNA_chemical['tissue/cell line'].str.replace(';', '|')\n",
    "lncRNA_chemical['tissue/cell line'] = [replace_with_clo(item) for item in lncRNA_chemical['tissue/cell line']]\n",
    "lncRNA_chemical['tissue/cell line'] = [replace_with_clo2(item) for item in lncRNA_chemical['tissue/cell line']]\n",
    "lncRNA_chemical['tissue/cell line'] = [replace_with_uberon(item) for item in lncRNA_chemical['tissue/cell line']]\n",
    "\n",
    "\n",
    "lncRNA_chemical['experimental_method'] = lncRNA_chemical['experimental_method'].str.replace('wetern', 'western')\n",
    "lncRNA_chemical['experimental_method'] = lncRNA_chemical['experimental_method'].str.replace('assay assay', 'assay')\n",
    "lncRNA_chemical['experimental_method'] = lncRNA_chemical['experimental_method'].str.lower()\n",
    "lncRNA_chemical['experimental_method'] = lncRNA_chemical['experimental_method'].str.replace(';', '|')\n",
    "lncRNA_chemical['experimental_method'] = [replace_with_ncit(item) for item in lncRNA_chemical['experimental_method']]\n",
    "\n",
    "lncRNA_chemical['biological_process'] = lncRNA_chemical['biological_process'].str.lower()\n",
    "lncRNA_chemical['biological_process'] = lncRNA_chemical['biological_process'].str.replace(';', '|')\n",
    "lncRNA_chemical['biological_process'] = [replace_with_go(item) for item in lncRNA_chemical['biological_process']]\n",
    "\n",
    "lncRNA_chemical['pathway'] = lncRNA_chemical['pathway'].str.lower()\n",
    "lncRNA_chemical['pathway'] = lncRNA_chemical['pathway'].str.replace(';', '|')\n",
    "lncRNA_chemical['pathway'] = lncRNA_chemical['pathway'].str.replace('nf-??b', 'nuclear factor kappa B')\n",
    "lncRNA_chemical['pathway'] = lncRNA_chemical['pathway'].str.replace('/??-catenin', '')\n",
    "lncRNA_chemical['pathway'] = lncRNA_chemical['pathway'].str.replace('pi3k/akt ', '')\n",
    "lncRNA_chemical['pathway'] = [replace_with_pw(item) for item in lncRNA_chemical['pathway']]"
   ]
  },
  {
   "cell_type": "code",
   "execution_count": null,
   "metadata": {},
   "outputs": [],
   "source": [
    "lncRNA_chemical.rename(columns={1:'chemical'},inplace=True)\n",
    "lncRNA_chemical.columns = lncRNA_chemical.columns.str.replace('_', ' ').str.capitalize()\n",
    "lncRNA_chemical.rename(columns={'0 y':'lncRNA', 'Pmid':'References (PMID)', 'Transcript id': 'Transcript ID'},inplace=True)\n",
    "lncRNA_chemical.insert(0,'lncRNA',lncRNA_chemical.pop('lncRNA'))\n",
    "lncRNA_chemical.insert(1,'Chemical',lncRNA_chemical.pop('Chemical'))"
   ]
  },
  {
   "cell_type": "code",
   "execution_count": null,
   "metadata": {},
   "outputs": [],
   "source": [
    "merge_rows(lncRNA_chemical, 'lncRNA', 'Chemical').to_csv(edge_data_location + 'RlncRNA-chemical.txt', sep='\\t', index=None)"
   ]
  },
  {
   "cell_type": "markdown",
   "metadata": {},
   "source": [
    "***\n",
    "### lncRNA-protein"
   ]
  },
  {
   "cell_type": "markdown",
   "metadata": {},
   "source": [
    "* [LncBook](https://ngdc.cncb.ac.cn/lncbook/) <br /> LncBook accommodates a high-quality collection of human lncRNA genes and transcripts, and incorporates their abundant annotations at different omics levels, thereby enabling users to decipher functional signatures of lncRNAs in human diseases and different biological contexts. "
   ]
  },
  {
   "cell_type": "markdown",
   "metadata": {},
   "source": [
    "#### gene product of "
   ]
  },
  {
   "cell_type": "code",
   "execution_count": null,
   "metadata": {},
   "outputs": [],
   "source": [
    "! wget https://ngdc.cncb.ac.cn/lncbook/files/sprotein_LncBook2.0.csv.gz"
   ]
  },
  {
   "cell_type": "code",
   "execution_count": null,
   "metadata": {},
   "outputs": [],
   "source": [
    "lncRNA_protein = pd.read_csv(unprocessed_data_location + 'sprotein_LncBook2.0.csv.gz') \n",
    "lncRNA_protein = lncRNA_protein[lncRNA_protein['Symbol']!='-']\n",
    "lncRNA_protein.drop(columns=['Gene ID','Transcript ID','SmProt Loci','SmProt Protein Sequence'],inplace=True)\n",
    "lncRNA_protein"
   ]
  },
  {
   "cell_type": "code",
   "execution_count": null,
   "metadata": {},
   "outputs": [],
   "source": [
    "lncRNA_protein = pd.merge(lncRNA_protein, symbol_entrez_map.rename(columns={'0_x':'Symbol'}), on='Symbol')\n",
    "lncRNA_protein['0_y'] = lncRNA_protein['0_y'].astype(str) + '?lncRNA'\n",
    "lncRNA_protein.drop(columns='Symbol',inplace=True)\n",
    "lncRNA_protein['Source(s)'] = 'LncBook'\n",
    "lncRNA_protein"
   ]
  },
  {
   "cell_type": "code",
   "execution_count": null,
   "metadata": {},
   "outputs": [],
   "source": [
    "print(lncRNA_protein['Experimental Evidence'].unique())\n",
    "lncRNA_protein['Experimental Evidence'] = lncRNA_protein['Experimental Evidence'].str.replace('Ribo-seq','http://www.ebi.ac.uk/efo/EFO_0008891 (ribo-seq)')\n",
    "lncRNA_protein['Experimental Evidence'] = lncRNA_protein['Experimental Evidence'].str.replace('Mass spectrometry','http://purl.obolibrary.org/obo/PRIDE_0000027 (mass spectrometry)')"
   ]
  },
  {
   "cell_type": "code",
   "execution_count": null,
   "metadata": {},
   "outputs": [],
   "source": [
    "lncRNA_protein.rename(columns={'0_y':'lncRNA', 'SmProt ID':'Small protein'},inplace=True)\n",
    "lncRNA_protein.insert(1,'lncRNA',lncRNA_protein.pop('lncRNA'))"
   ]
  },
  {
   "cell_type": "code",
   "execution_count": null,
   "metadata": {},
   "outputs": [],
   "source": [
    "merge_rows(lncRNA_protein, 'Small protein', 'lncRNA').to_csv(edge_data_location + 'RsmallProtein-lncRNA.txt', sep='\\t', index=None)"
   ]
  },
  {
   "cell_type": "markdown",
   "metadata": {},
   "source": [
    "#### interacts with"
   ]
  },
  {
   "cell_type": "code",
   "execution_count": null,
   "metadata": {},
   "outputs": [],
   "source": [
    "! wget https://ngdc.cncb.ac.cn/lncbook/files/lncrna_rbp_LncBook2.0.csv.gz"
   ]
  },
  {
   "cell_type": "code",
   "execution_count": null,
   "metadata": {},
   "outputs": [],
   "source": [
    "lncRNA_protein = pd.read_csv(unprocessed_data_location + 'lncrna_rbp_LncBook2.0.csv.gz')  \n",
    "lncRNA_protein = lncRNA_protein[lncRNA_protein['Symbol']!='-']\n",
    "lncRNA_protein.drop(columns=['Gene ID','Length'],inplace=True)\n",
    "lncRNA_protein['Source(s)'] = 'LncBook'\n",
    "lncRNA_protein"
   ]
  },
  {
   "cell_type": "markdown",
   "metadata": {},
   "source": [
    "***\n",
    "* [LncRNAWiki](https://ngdc.cncb.ac.cn/lncrnawiki/)"
   ]
  },
  {
   "cell_type": "code",
   "execution_count": null,
   "metadata": {},
   "outputs": [],
   "source": [
    "#LncRNAWiki = pd.read_csv(unprocessed_data_location+'LncRNAWiki_BrowseDownload.csv')\n",
    "lncRNA_protein2 = LncRNAWiki[LncRNAWiki['target_type'].notna()]\n",
    "lncRNA_protein2 = pd.concat([lncRNA_protein2[lncRNA_protein2.target_type.str.contains('TF')],\n",
    "    lncRNA_protein2[lncRNA_protein2.target_type.str.contains('protein')]])\n",
    "lncRNA_protein2 = lncRNA_protein2.drop(columns=['synonyms','gene_locus','gene_id'])\n",
    "lncRNA_protein2['target'] = lncRNA_protein2.target.str.split(';')\n",
    "lncRNA_protein2 = lncRNA_protein2.explode('target')\n",
    "lncRNA_protein2.rename(columns={'symbol':'Symbol', 'target':'Protein'},inplace=True)\n",
    "lncRNA_protein2['Source(s)'] = 'LncRNAWiki'\n",
    "lncRNA_protein2\n",
    "# We don't care about miRNA wrongly labeled as TF as they will be discarded when terms will be mapped on PRO"
   ]
  },
  {
   "cell_type": "code",
   "execution_count": null,
   "metadata": {},
   "outputs": [],
   "source": [
    "lncRNA_protein = pd.merge(lncRNA_protein, lncRNA_protein2, how='outer', on=['Symbol','Protein'])\n",
    "lncRNA_protein = pd.merge(lncRNA_protein, symbol_entrez_map.rename(columns={'0_x':'Symbol'}), on='Symbol')\n",
    "lncRNA_protein['0_y'] = lncRNA_protein['0_y'].astype(str) + '?lncRNA'\n",
    "lncRNA_protein = pd.merge(lncRNA_protein, symbol_to_pro.rename(columns={'0_x':'Protein'}), on='Protein')\n",
    "lncRNA_protein.drop(columns=['Symbol','Protein'],inplace=True)\n",
    "\n",
    "lncRNA_protein['Source(s)_x'] = lncRNA_protein['Source(s)_x'].astype(str)\n",
    "lncRNA_protein['Source(s)_y'] = lncRNA_protein['Source(s)_y'].astype(str)\n",
    "lncRNA_protein['Source(s)'] = lncRNA_protein['Source(s)_x'] + '|' + lncRNA_protein['Source(s)_y']\n",
    "lncRNA_protein = lncRNA_protein.drop(columns=['Source(s)_x', 'Source(s)_y'])\n",
    "lncRNA_protein['Source(s)'] = lncRNA_protein['Source(s)'].str.replace('nan\\||\\|nan', '', regex=True)\n",
    "\n",
    "lncRNA_protein['Transcript ID'] = lncRNA_protein['Transcript ID'].astype(str)\n",
    "lncRNA_protein['transcript_id'] = lncRNA_protein['transcript_id'].astype(str)\n",
    "lncRNA_protein['Transcript ID'].fillna(lncRNA_protein['transcript_id'], inplace=True)\n",
    "lncRNA_protein.loc[(~lncRNA_protein['Transcript ID'].isna()) & (~lncRNA_protein['transcript_id'].isna()) &\n",
    "                   (lncRNA_protein['Transcript ID'] != lncRNA_protein['transcript_id']),\n",
    "                   [\"Transcript ID\"]] = lncRNA_protein[\"Transcript ID\"\n",
    "                                                  ].astype(str) + '|' + lncRNA_protein['transcript_id'].astype(str)\n",
    "lncRNA_protein['Transcript ID'] = lncRNA_protein['Transcript ID'].str.replace('nan\\||\\|nan', '', regex=True)\n",
    "lncRNA_protein['Transcript ID'] = lncRNA_protein['Transcript ID'].str.replace(',', '|')\n",
    "\n",
    "lncRNA_protein.drop(columns=['transcript_id', 'genome_variation', 'variation_detail', 'molecular_function',\n",
    "                             'target_interaction'],inplace=True)\n",
    "\n",
    "lncRNA_protein"
   ]
  },
  {
   "cell_type": "markdown",
   "metadata": {},
   "source": [
    "Manual fix."
   ]
  },
  {
   "cell_type": "code",
   "execution_count": null,
   "metadata": {},
   "outputs": [],
   "source": [
    "lncRNA_protein['pmid'] = 'https://pubmed.ncbi.nlm.nih.gov/' + lncRNA_protein['pmid'].astype('Int64', errors='ignore').astype('str')\n",
    "lncRNA_protein['pmid'] = lncRNA_protein['pmid'].replace('https://pubmed.ncbi.nlm.nih.gov/<NA>', np.nan)\n",
    "\n",
    "lncRNA_protein['Transcript ID'] = lncRNA_protein['Transcript ID'] .str.replace(',','|')\n",
    "\n",
    "lncRNA_protein['Cell Line'] = lncRNA_protein['Cell Line'] .str.replace('HepG2','http://www.ebi.ac.uk/efo/EFO_0001187 (hepg2)')\n",
    "lncRNA_protein['Cell Line'] = lncRNA_protein['Cell Line'] .str.replace('K562','http://purl.obolibrary.org/obo/CLO_0007060 (k562 cl.6 cell)')\n",
    "\n",
    "lncRNA_protein.conservation_ortholog = lncRNA_protein.conservation_ortholog.str.replace('Mouse', 'http://purl.obolibrary.org/obo/NCBITaxon_10090 (mus musculus)')\n",
    "\n",
    "lncRNA_protein.biological_context = lncRNA_protein.biological_context.str.replace('Disease', 'http://purl.obolibrary.org/obo/MONDO_0000001 (disease)')\n",
    "\n",
    "lncRNA_protein['epigenetic_modification'] = lncRNA_protein['epigenetic_modification'].str.replace('DNA methylation','http://purl.obolibrary.org/obo/GO_0006306 (dna methylation)')\n",
    "lncRNA_protein['epigenetic_modification'] = lncRNA_protein['epigenetic_modification'].str.replace('Epigenetic change','http://purl.obolibrary.org/obo/NCIT_C21051 (epigenetic process)')\n",
    "\n",
    "lncRNA_protein['modification_detail'] = lncRNA_protein['modification_detail'].str.replace('methylation','http://purl.obolibrary.org/obo/GO_0032259 (methylation)')\n",
    "lncRNA_protein['modification_detail'] = lncRNA_protein['modification_detail'].str.replace('hypomethylation','http://purl.obolibrary.org/obo/NCIT_C121521 (hypomethylation)')\n",
    "\n",
    "lncRNA_protein['expression'] = lncRNA_protein['expression'].str.replace(\n",
    "    'RNA', 'http://purl.obolibrary.org/obo/SO_0000356 (rna)')\n",
    "\n",
    "lncRNA_protein['expression_detail'] = lncRNA_protein['expression_detail'].str.replace('Down-regulated','http://purl.obolibrary.org/obo/OMIT_0016265 (down-regulation)')\n",
    "lncRNA_protein['expression_detail'] = lncRNA_protein['expression_detail'].str.replace('Up-regulated','http://purl.obolibrary.org/obo/OMIT_0016489 (up-regulation)')\n",
    "lncRNA_protein['expression_detail'] = lncRNA_protein['expression_detail'].str.replace('Differentially expressed','http://purl.obolibrary.org/obo/OBI_0002584 (differential expression)')\n",
    "\n",
    "lncRNA_protein['regulator_type'] = lncRNA_protein['regulator_type'].str.replace('Protein', 'http://purl.obolibrary.org/obo/PR_000000001 (protein)')\n",
    "lncRNA_protein['regulator_type'] = lncRNA_protein['regulator_type'].str.replace('TF', 'http://purl.obolibrary.org/obo/NCIT_C17207 (transcription factor)')\n",
    "\n",
    "lncRNA_protein = pd.merge(lncRNA_protein, symbol_to_pro[['0_x','1_y']].rename(columns={'0_x':'regulator'}), on='regulator', how='left')\n",
    "lncRNA_protein['1_y_y'] = 'http://purl.obolibrary.org/obo/' + lncRNA_protein['1_y_y'].astype('str')\n",
    "lncRNA_protein['1_y_y'] = lncRNA_protein['1_y_y'].replace('http://purl.obolibrary.org/obo/nan', np.nan)\n",
    "\n",
    "lncRNA_protein['regulator_interaction'] = lncRNA_protein['regulator_interaction'].str.replace('Protein-DNA', 'http://purl.obolibrary.org/obo/NCIT_C18755 (dna-protein interaction)')\n",
    "\n",
    "lncRNA_protein['regulator_effect'] = lncRNA_protein['regulator_effect'].str.replace('promote', 'http://purl.obolibrary.org/obo/NCIT_C61391 (promotion)')\n",
    "lncRNA_protein['regulator_effect'] = lncRNA_protein['regulator_effect'].str.replace('inhibit', 'http://purl.obolibrary.org/obo/NCIT_C42791 (inhibition)')\n",
    "\n",
    "lncRNA_protein['clinical_detail'] = lncRNA_protein['clinical_detail'].str.replace(';', '|')\n",
    "lncRNA_protein['clinical_detail'] = lncRNA_protein['clinical_detail'].str.replace('recurrence', 'http://purl.obolibrary.org/obo/NCIT_C3352 (recurrence)')\n",
    "lncRNA_protein['clinical_detail'] = lncRNA_protein['clinical_detail'].str.replace('prognosis', 'http://purl.obolibrary.org/obo/OGMS_0000093 (prognosis)')\n",
    "lncRNA_protein['clinical_detail'] = lncRNA_protein['clinical_detail'].str.replace('survival', 'http://purl.obolibrary.org/obo/NCIT_C17177 (survival)')\n",
    "lncRNA_protein['clinical_detail'] = lncRNA_protein['clinical_detail'].str.replace('metastasis', 'http://purl.obolibrary.org/obo/NCIT_C19151 (metastasis)')\n",
    "lncRNA_protein['clinical_detail'] = lncRNA_protein['clinical_detail'].str.replace('drug', 'http://purl.obolibrary.org/obo/CHEBI_23888 (drug)')\n",
    "\n",
    "lncRNA_protein['functional_mechanism'] = lncRNA_protein['functional_mechanism'].str.replace(';', '|')\n",
    "lncRNA_protein['functional_mechanism'] = lncRNA_protein['functional_mechanism'].str.replace('Post-transcriptional regulation', 'http://purl.obolibrary.org/obo/NCIT_C18952 (post-transcriptional regulation)')\n",
    "lncRNA_protein['functional_mechanism'] = lncRNA_protein['functional_mechanism'].str.replace('Transcriptional regulation', 'http://purl.obolibrary.org/obo/NCIT_C19077 (transcriptional regulation)')\n",
    "lncRNA_protein['functional_mechanism'] = lncRNA_protein['functional_mechanism'].str.replace('Epigenetic regulation', 'http://purl.obolibrary.org/obo/GO_0040029 (epigenetic regulation of gene expression)')\n",
    "\n",
    "lncRNA_protein['target_type'] = lncRNA_protein['target_type'].str.replace('miRNA', 'http://purl.obolibrary.org/obo/SO_0000276 (mirna)')\n",
    "lncRNA_protein['target_type'] = lncRNA_protein['target_type'].str.replace('TF', 'http://purl.obolibrary.org/obo/NCIT_C17207 (transcription factor)')\n",
    "lncRNA_protein['target_type'] = lncRNA_protein['target_type'].str.replace('PCG', 'http://purl.obolibrary.org/obo/SO_0001217 (protein_coding_gene)')\n",
    "lncRNA_protein['target_type'] = lncRNA_protein['target_type'].str.replace('lncRNA', 'http://purl.obolibrary.org/obo/SO_0001877 (lncrna)')\n",
    "\n",
    "lncRNA_protein['target_effect'] = lncRNA_protein['target_effect'].str.replace(';', '|')\n",
    "lncRNA_protein['target_effect'] = lncRNA_protein['target_effect'].str.replace('promote', 'http://purl.obolibrary.org/obo/NCIT_C61391 (promotion)')\n",
    "lncRNA_protein['target_effect'] = lncRNA_protein['target_effect'].str.replace('inhibit', 'http://purl.obolibrary.org/obo/NCIT_C42791 (inhibition)')\n",
    "\n",
    "lncRNA_protein.context_detail = [replace_with_mondo(item) for item in lncRNA_protein.context_detail]\n",
    "\n",
    "lncRNA_protein['tissue/cell line'] = lncRNA_protein['tissue/cell line'].str.lower()\n",
    "lncRNA_protein['tissue/cell line'] = lncRNA_protein['tissue/cell line'].str.replace(';', '|')\n",
    "lncRNA_protein['tissue/cell line'] = [replace_with_clo(item) for item in lncRNA_protein['tissue/cell line']]\n",
    "lncRNA_protein['tissue/cell line'] = [replace_with_clo2(item) for item in lncRNA_protein['tissue/cell line']]\n",
    "lncRNA_protein['tissue/cell line'] = [replace_with_uberon(item) for item in lncRNA_protein['tissue/cell line']]\n",
    "\n",
    "lncRNA_protein['experimental_method'] = lncRNA_protein['experimental_method'].str.replace('wetern', 'western')\n",
    "lncRNA_protein['experimental_method'] = lncRNA_protein['experimental_method'].str.replace('assay assay', 'assay')\n",
    "lncRNA_protein['experimental_method'] = lncRNA_protein['experimental_method'].str.lower()\n",
    "lncRNA_protein['experimental_method'] = lncRNA_protein['experimental_method'].str.replace(';', '|')\n",
    "lncRNA_protein['experimental_method'] = [replace_with_ncit(item) for item in lncRNA_protein['experimental_method']]\n",
    "\n",
    "lncRNA_protein['biological_process'] = lncRNA_protein['biological_process'].str.lower()\n",
    "lncRNA_protein['biological_process'] = lncRNA_protein['biological_process'].str.replace(';', '|')\n",
    "lncRNA_protein['biological_process'] = [replace_with_go(item) for item in lncRNA_protein['biological_process']]\n",
    "\n",
    "lncRNA_protein['pathway'] = lncRNA_protein['pathway'].str.lower()\n",
    "lncRNA_protein['pathway'] = lncRNA_protein['pathway'].str.replace(';', '|')\n",
    "lncRNA_protein['pathway'] = lncRNA_protein['pathway'].str.replace('nf-??b', 'nuclear factor kappa B')\n",
    "lncRNA_protein['pathway'] = lncRNA_protein['pathway'].str.replace('/??-catenin', '')\n",
    "lncRNA_protein['pathway'] = lncRNA_protein['pathway'].str.replace('pi3k/akt ', '')\n",
    "lncRNA_protein['pathway'] = [replace_with_pw(item) for item in lncRNA_protein['pathway']]\n",
    "\n",
    "lncRNA_protein['drug'] = lncRNA_protein['drug'].str.lower()\n",
    "lncRNA_protein['drug'] = lncRNA_protein['drug'].str.replace(';', '|')\n",
    "\n",
    "lncRNA_protein['drug'] = [replace_with_drugbank(item) for item in lncRNA_protein['drug']]"
   ]
  },
  {
   "cell_type": "code",
   "execution_count": null,
   "metadata": {},
   "outputs": [],
   "source": [
    "lncRNA_protein.columns = lncRNA_protein.columns.str.replace('_', ' ').str.capitalize()\n",
    "lncRNA_protein.rename(columns={'0 y':'lncRNA','1 y x':'Protein', 'Pmid':'References (PMID)', 'Transcript id': 'Transcript ID',\n",
    "                               '1 y y': 'Regulator'},inplace=True)\n",
    "lncRNA_protein.insert(0,'lncRNA',lncRNA_protein.pop('lncRNA'))\n",
    "lncRNA_protein.insert(1,'Protein',lncRNA_protein.pop('Protein'))\n",
    "lncRNA_protein.insert(len(lncRNA_protein.columns)-1,'Source(s)',lncRNA_protein.pop('Source(s)'))"
   ]
  },
  {
   "cell_type": "code",
   "execution_count": null,
   "metadata": {},
   "outputs": [],
   "source": [
    "merge_rows(lncRNA_protein,'lncRNA','Protein').to_csv(edge_data_location + 'RlncRNA-protein.txt', sep='\\t', index=None)"
   ]
  },
  {
   "cell_type": "markdown",
   "metadata": {},
   "source": [
    "***\n",
    "### lncRNA-biological context - http://purl.obolibrary.org/obo/RO_0002245 + 2246 + 2291 (over-expressed in + under-expressed in + ubiquitously expressed in)"
   ]
  },
  {
   "cell_type": "markdown",
   "metadata": {},
   "source": [
    "* [LncBook](https://ngdc.cncb.ac.cn/lncbook/)"
   ]
  },
  {
   "cell_type": "code",
   "execution_count": null,
   "metadata": {},
   "outputs": [],
   "source": [
    "! wget https://ngdc.cncb.ac.cn/lncbook/files/expression_LncBook2.0.csv.gz"
   ]
  },
  {
   "cell_type": "code",
   "execution_count": null,
   "metadata": {},
   "outputs": [],
   "source": [
    "lncRNA_expression = pd.read_csv(unprocessed_data_location + 'expression_LncBook2.0.csv.gz') \n",
    "lncRNA_expression = lncRNA_expression[lncRNA_expression['Symbol']!='-']\n",
    "lncRNA_expression.drop(columns=['Gene ID','Featured Expression'],inplace=True)\n",
    "lncRNA_expression['Symbol'] = lncRNA_expression.Symbol.str.split(',')\n",
    "lncRNA_expression = lncRNA_expression.explode('Symbol')\n",
    "lncRNA_expression.rename(columns={'Normal Tissue/Cell Line': 'UBERON_0000479',\n",
    "                                 'Organ Development':'GO_0048513',\n",
    "                                 'Preimplantation Embryo':'GO_0007566',\n",
    "                                 'Cell Differentiation':'GO_0030154',\n",
    "                                 'Subcellular Localization':'GO_0051179',\n",
    "                                 'Exosome':'GO_0070062',\n",
    "                                 'Cancer Cell Line':'CLO_0009828',\n",
    "                                 'Virus Infection':'MONDO_0005108',\n",
    "                                 'Circadian Rhythm':'GO_0007623'},inplace=True)\n",
    "lncRNA_expression"
   ]
  },
  {
   "cell_type": "code",
   "execution_count": null,
   "metadata": {},
   "outputs": [],
   "source": [
    "# HC\n",
    "HCfinal=pd.DataFrame()\n",
    "# NE\n",
    "NEfinal=pd.DataFrame()\n",
    "# MC\n",
    "MCfinal=pd.DataFrame()\n",
    "# LC\n",
    "LCfinal=pd.DataFrame()\n",
    "\n",
    "for i in ['UBERON_0000479','GO_0048513','GO_0007566','GO_0030154','GO_0051179',\n",
    "          'GO_0070062','CLO_0009828','MONDO_0005108','GO_0007623']:\n",
    "    HC = lncRNA_expression[['Symbol','Expression Capacity',i]][lncRNA_expression[['Symbol','Expression Capacity',i]][i]=='HC']\n",
    "    HC[i]=i\n",
    "    HC.rename(columns={i:'HC'},inplace=True)\n",
    "    HCfinal = pd.concat([HCfinal,HC])\n",
    "    \n",
    "    NE = lncRNA_expression[['Symbol','Expression Capacity',i]][lncRNA_expression[['Symbol','Expression Capacity',i]][i]=='NE']\n",
    "    NE[i]=i\n",
    "    NE.rename(columns={i:'NE'},inplace=True)\n",
    "    NEfinal = pd.concat([NEfinal,NE])\n",
    "    \n",
    "    MC = lncRNA_expression[['Symbol','Expression Capacity',i]][lncRNA_expression[['Symbol','Expression Capacity',i]][i]=='MC']\n",
    "    MC[i]=i\n",
    "    MC.rename(columns={i:'MC'},inplace=True)\n",
    "    MCfinal = pd.concat([MCfinal,MC])\n",
    "\n",
    "    LC = lncRNA_expression[['Symbol','Expression Capacity',i]][lncRNA_expression[['Symbol','Expression Capacity',i]][i]=='LC']\n",
    "    LC[i]=i\n",
    "    LC.rename(columns={i:'LC'},inplace=True)\n",
    "    LCfinal = pd.concat([LCfinal,LC])\n",
    " \n",
    "HCfinal=pd.merge(HCfinal,symbol_entrez_map.rename(columns={'0_x':'Symbol'}),on='Symbol')\n",
    "HCfinal.drop(columns='Symbol',inplace=True)\n",
    "HCfinal.insert(0,'0_y',HCfinal.pop('0_y'))\n",
    "HCfinal['0_y'] = HCfinal['0_y'].astype(str)+'?lncRNA'\n",
    "HCfinal['Source(s)'] = 'LncBook'\n",
    "NEfinal=pd.merge(NEfinal,symbol_entrez_map.rename(columns={'0_x':'Symbol'}),on='Symbol')\n",
    "NEfinal.drop(columns='Symbol',inplace=True)\n",
    "NEfinal.insert(0,'0_y',NEfinal.pop('0_y'))\n",
    "NEfinal['0_y'] = NEfinal['0_y'].astype(str)+'?lncRNA'\n",
    "NEfinal['Source(s)'] = 'LncBook'\n",
    "MCfinal=pd.merge(MCfinal,symbol_entrez_map.rename(columns={'0_x':'Symbol'}),on='Symbol')\n",
    "MCfinal.drop(columns='Symbol',inplace=True)\n",
    "MCfinal.insert(0,'0_y',MCfinal.pop('0_y'))\n",
    "MCfinal['0_y'] = MCfinal['0_y'].astype(str)+'?lncRNA'\n",
    "MCfinal['Source(s)'] = 'LncBook'\n",
    "LCfinal=pd.merge(LCfinal,symbol_entrez_map.rename(columns={'0_x':'Symbol'}),on='Symbol')\n",
    "LCfinal.drop(columns='Symbol',inplace=True)\n",
    "LCfinal.insert(0,'0_y',LCfinal.pop('0_y'))\n",
    "LCfinal['0_y'] = LCfinal['0_y'].astype(str)+'?lncRNA'\n",
    "LCfinal['Source(s)'] = 'LncBook'\n",
    "HCfinal"
   ]
  },
  {
   "cell_type": "code",
   "execution_count": null,
   "metadata": {},
   "outputs": [],
   "source": [
    "HCfinal.rename(columns={'0_y':'lncRNA','HC':'Biological context'},inplace=True)\n",
    "LCfinal.rename(columns={'0_y':'lncRNA','LC':'Biological context'},inplace=True)\n",
    "MCfinal.rename(columns={'0_y':'lncRNA','MC':'Biological context'},inplace=True)\n",
    "NEfinal.rename(columns={'0_y':'lncRNA','NE':'Biological context'},inplace=True)\n",
    "\n",
    "HCfinal.drop(columns=['Expression Capacity']).drop_duplicates().to_csv(\n",
    "    edge_data_location + 'RlncRNA-biologicalContext2245.txt', sep='\\t', index=None)\n",
    "LCfinal.drop(columns=['Expression Capacity']).drop_duplicates().to_csv(\n",
    "    edge_data_location + 'RlncRNA-biologicalContext2246.txt', sep='\\t', index=None)\n",
    "MCfinal.drop(columns=['Expression Capacity']).drop_duplicates().to_csv(\n",
    "    edge_data_location + 'RlncRNA-biologicalContext2291.txt', sep='\\t', index=None)\n",
    "# Absent in RO properties: NOT EXPRESSED IN\n",
    "#NEfinal.drop(columns=['Expression Capacity']).drop_duplicates().to_csv(\n",
    "    #edge_data_location + 'lncRNA-biologicalContextNE.txt', sep='\\t', index=None)"
   ]
  },
  {
   "cell_type": "markdown",
   "metadata": {},
   "source": [
    "***\n",
    "### lncRNA-biological role - http://purl.obolibrary.org/obo/RO_0002260 (has biological role)"
   ]
  },
  {
   "cell_type": "markdown",
   "metadata": {},
   "source": [
    "* [dbEssLnc](https://esslnc.pufengdu.org/home) <br /> dbEssLnc contains lncRNA annotations; data are constently added by manual screening. "
   ]
  },
  {
   "cell_type": "code",
   "execution_count": null,
   "metadata": {},
   "outputs": [],
   "source": [
    "! wget https://esslnc.pufengdu.org/data/essential%20lncRNA.json --no-check-certificate"
   ]
  },
  {
   "cell_type": "code",
   "execution_count": null,
   "metadata": {},
   "outputs": [],
   "source": [
    "dbEssLnc = pd.read_json(unprocessed_data_location + 'essential lncRNA.json')\n",
    "lncRNA_role = dbEssLnc[dbEssLnc['Organism']=='Human']\n",
    "lncRNA_role.drop(columns=['ID','Name','Aliases','fId','NONCODEId','Organism'], inplace=True)\n",
    "lncRNA_role['Source(s)'] = 'dbEssLnc'\n",
    "lncRNA_role.Gene_Ontology_Annotations = lncRNA_role.Gene_Ontology_Annotations.replace('N.A.', np.nan)\n",
    "lncRNA_role"
   ]
  },
  {
   "cell_type": "code",
   "execution_count": null,
   "metadata": {},
   "outputs": [],
   "source": [
    "print(lncRNA_role.Role.unique())\n",
    "# For grounding purposes\n",
    "lncRNA_role.replace('Tumor suppressor gene', 'Tumor-Suppressor-Gene', inplace=True)"
   ]
  },
  {
   "cell_type": "code",
   "execution_count": null,
   "metadata": {},
   "outputs": [],
   "source": [
    "lncRNA_role['PMID'] = 'https://pubmed.ncbi.nlm.nih.gov/' + lncRNA_role['PMID'].astype('Int64', errors='ignore').astype('str')\n",
    "lncRNA_role['PMID'] = lncRNA_role['PMID'].replace('https://pubmed.ncbi.nlm.nih.gov/<NA>', np.nan)\n",
    "lncRNA_role.NCBI_gene_Id = lncRNA_role.NCBI_gene_Id.astype(str) + '?lncRNA'\n",
    "lncRNA_role.insert(1,'Role',lncRNA_role.pop('Role'))\n",
    "\n",
    "lncRNA_role.rename(columns={'NCBI_gene_Id':'lncRNA', 'Role':'Biological role', 'PMID':'References (PMID)',\n",
    "                            'Gene_Ontology_Annotations':'Gene Ontology annotations'},inplace=True)\n",
    "\n",
    "lncRNA_role.drop_duplicates().to_csv(edge_data_location + 'RlncRNA-role.txt', sep='\\t', index=None)"
   ]
  },
  {
   "cell_type": "markdown",
   "metadata": {},
   "source": [
    "***\n",
    "### lncRNA-cellular compartment - http://purl.obolibrary.org/obo/RO_0001018 (contained in)"
   ]
  },
  {
   "cell_type": "markdown",
   "metadata": {},
   "source": [
    "* [lncATLAS](https://lncatlas.crg.eu/) <br /> LncATLAS displays the subcellular localisation for GENCODE-annotated lncRNAs. This localisation is expressed in units of Relative Concentration Index (RCI) - a comparison of the concentration of a gene, per unit mass of RNA, between two cellular compartments."
   ]
  },
  {
   "cell_type": "code",
   "execution_count": null,
   "metadata": {},
   "outputs": [],
   "source": [
    "! wget https://lncatlas.crg.eu/session/014e12df4b0975891edb6d8ba3a33b0e/download/retrieveall?w="
   ]
  },
  {
   "cell_type": "code",
   "execution_count": null,
   "metadata": {},
   "outputs": [],
   "source": [
    "lncRNA_comp = pd.read_csv(unprocessed_data_location + '2023-05-09_lncATLAS_all_data.csv')\n",
    "lncRNA_comp = lncRNA_comp[['Data Source','Data Type','Value','Gene Name']]\n",
    "lncRNA_comp = pd.merge(lncRNA_comp, symbol_entrez_map.rename(columns={'0_x':'Gene Name'}), on='Gene Name')\n",
    "lncRNA_comp.drop(columns=['Gene Name'],inplace=True)\n",
    "lncRNA_comp['0_y'] = lncRNA_comp['0_y'].astype(str)+'?lncRNA'\n",
    "lncRNA_comp"
   ]
  },
  {
   "cell_type": "code",
   "execution_count": null,
   "metadata": {},
   "outputs": [],
   "source": [
    "# Data cleaning rule to estabilish relations: discard RCI below the mean\n",
    "print(lncRNA_comp.Value.mean())\n",
    "\n",
    "lncRNA_comp = lncRNA_comp[lncRNA_comp.Value >= lncRNA_comp.Value.mean()]"
   ]
  },
  {
   "cell_type": "code",
   "execution_count": null,
   "metadata": {},
   "outputs": [],
   "source": [
    "# Mapping to GO CC\n",
    "lncRNA_comp['Data Type'].unique()"
   ]
  },
  {
   "cell_type": "code",
   "execution_count": null,
   "metadata": {},
   "outputs": [],
   "source": [
    "lncRNA_comp['gocc'] = lncRNA_comp['Data Type'].replace({'nucleus': 'GO_0005634', 'cytosol': 'GO_0005829',\n",
    "                                                        'chromatin': 'GO_0000785', 'membrane': 'GO_0016020',\n",
    "                                                        'nucleolus': 'GO_0005730', 'nucleoplasm': 'GO_0005654'})\n",
    "\n",
    "lncRNA_comp = lncRNA_comp[lncRNA_comp['gocc'].astype(str).str.startswith('GO_')]\n",
    "lncRNA_comp.drop(columns=['Data Type'],inplace=True)\n",
    "lncRNA_comp['Source(s)'] = 'lncATLAS'\n",
    "lncRNA_comp"
   ]
  },
  {
   "cell_type": "markdown",
   "metadata": {},
   "source": [
    "Manual fix of inconsistencies."
   ]
  },
  {
   "cell_type": "code",
   "execution_count": null,
   "metadata": {},
   "outputs": [],
   "source": [
    "lncRNA_comp['Data Source'] = lncRNA_comp['Data Source'].str.replace('.', ' ').str.lower()\n",
    "lncRNA_comp['Data Source'] = [replace_with_clo(item) for item in lncRNA_comp['Data Source']]\n",
    "lncRNA_comp['Data Source'] = [replace_with_clo2(item) for item in lncRNA_comp['Data Source']]\n",
    "\n",
    "lncRNA_comp['Data Source'].unique()"
   ]
  },
  {
   "cell_type": "code",
   "execution_count": null,
   "metadata": {},
   "outputs": [],
   "source": [
    "lncRNA_comp.rename(columns={'0_y':'lncRNA', 'gocc':'Cellular component', 'Data Source':'Cell line'},inplace=True)\n",
    "lncRNA_comp.insert(0,'lncRNA',lncRNA_comp.pop('lncRNA'))\n",
    "lncRNA_comp.insert(1,'Cellular component',lncRNA_comp.pop('Cellular component'))"
   ]
  },
  {
   "cell_type": "code",
   "execution_count": null,
   "metadata": {},
   "outputs": [],
   "source": [
    "lncRNA_comp.drop_duplicates().to_csv(edge_data_location + 'RlncRNA-gocc.txt', sep='\\t', index=None)"
   ]
  },
  {
   "cell_type": "markdown",
   "metadata": {},
   "source": [
    "***\n",
    "### lncRNA-pathway - http://purl.obolibrary.org/obo/RO_0000056 (participates in)"
   ]
  },
  {
   "cell_type": "markdown",
   "metadata": {},
   "source": [
    "* [LncRNAWiki](https://ngdc.cncb.ac.cn/lncrnawiki/)"
   ]
  },
  {
   "cell_type": "code",
   "execution_count": null,
   "metadata": {},
   "outputs": [],
   "source": [
    "#LncRNAWiki = pd.read_csv(unprocessed_data_location+'LncRNAWiki_BrowseDownload.csv')\n",
    "lncRNA_pw = LncRNAWiki[LncRNAWiki['pathway'].notna()]\n",
    "lncRNA_pw = lncRNA_pw.drop(columns=['synonyms','gene_locus','gene_id'])\n",
    "lncRNA_pw.pathway = lncRNA_pw.pathway.str.lower()\n",
    "lncRNA_pw"
   ]
  },
  {
   "cell_type": "code",
   "execution_count": null,
   "metadata": {},
   "outputs": [],
   "source": [
    "lncRNA_pw = pd.merge(lncRNA_pw, symbol_entrez_map.rename(columns={'0_x':'symbol'}), on='symbol')\n",
    "lncRNA_pw = pd.merge(lncRNA_pw, desc_pw_map.rename(columns={0:'pathway'}), on='pathway').drop(columns=[\n",
    "    'symbol','genome_variation','variation_detail','modification_detail','target_interaction',\n",
    "    'molecular_function','pathway'])\n",
    "lncRNA_pw['0_y'] = lncRNA_pw['0_y'].astype(str)+'?lncRNA'\n",
    "lncRNA_pw['Source(s)'] = 'LncRNAWiki'\n",
    "lncRNA_pw.head()"
   ]
  },
  {
   "cell_type": "markdown",
   "metadata": {},
   "source": [
    "Manual fix of inconsistencies."
   ]
  },
  {
   "cell_type": "code",
   "execution_count": null,
   "metadata": {},
   "outputs": [],
   "source": [
    "lncRNA_pw['pmid'] = 'https://pubmed.ncbi.nlm.nih.gov/' + lncRNA_pw['pmid'].astype('Int64', errors='ignore').astype('str')\n",
    "lncRNA_pw['pmid'] = lncRNA_pw['pmid'].replace('https://pubmed.ncbi.nlm.nih.gov/<NA>', np.nan)\n",
    "\n",
    "lncRNA_pw['transcript_id'] = lncRNA_pw['transcript_id'] .str.replace(',','|')\n",
    "\n",
    "lncRNA_pw.conservation_ortholog = lncRNA_pw.conservation_ortholog.str.replace('Mouse', 'http://purl.obolibrary.org/obo/NCBITaxon_10090 (mus musculus)')\n",
    "\n",
    "lncRNA_pw.biological_context = lncRNA_pw.biological_context.str.replace('Disease', 'http://purl.obolibrary.org/obo/MONDO_0000001 (disease)')\n",
    "lncRNA_pw.biological_context = lncRNA_pw.biological_context.str.replace('Circadian', 'http://purl.obolibrary.org/obo/GO_0007623 (circadian rhythm)')\n",
    "lncRNA_pw.biological_context = lncRNA_pw.biological_context.str.replace('Cell Differentiation', 'http://purl.obolibrary.org/obo/GO_0030154 (cell differentiation)')\n",
    "lncRNA_pw.biological_context = lncRNA_pw.biological_context.str.replace('Preimplantation Embryo', 'http://purl.obolibrary.org/obo/GO_0007566 (embryo implantation)')\n",
    "\n",
    "lncRNA_pw['epigenetic_modification'] = lncRNA_pw['epigenetic_modification'].str.replace('Histone modification','http://purl.obolibrary.org/obo/GO_0016570 (histone modification)')\n",
    "\n",
    "lncRNA_pw['expression'] = lncRNA_pw['expression'].str.replace(\n",
    "    'RNA', 'http://purl.obolibrary.org/obo/SO_0000356 (rna)')\n",
    "\n",
    "lncRNA_pw['expression_detail'] = lncRNA_pw['expression_detail'].str.replace('Down-regulated','http://purl.obolibrary.org/obo/OMIT_0016265 (down-regulation)')\n",
    "lncRNA_pw['expression_detail'] = lncRNA_pw['expression_detail'].str.replace('Up-regulated','http://purl.obolibrary.org/obo/OMIT_0016489 (up-regulation)')\n",
    "lncRNA_pw['expression_detail'] = lncRNA_pw['expression_detail'].str.replace('Differentially expressed','http://purl.obolibrary.org/obo/OBI_0002584 (differential expression)')\n",
    "\n",
    "lncRNA_pw['regulator_type'] = lncRNA_pw['regulator_type'].str.replace('PCG', 'http://purl.obolibrary.org/obo/SO_0001217 (protein_coding_gene)')\n",
    "lncRNA_pw['regulator_type'] = lncRNA_pw['regulator_type'].str.replace('TF', 'http://purl.obolibrary.org/obo/NCIT_C1720 (transcription factor)')\n",
    "lncRNA_pw['regulator_type'] = lncRNA_pw['regulator_type'].str.replace('PCG;TF', 'http://purl.obolibrary.org/obo/SO_0001217 (protein_coding_gene)|http://purl.obolibrary.org/obo/NCIT_C17207 (transcription factor)')\n",
    "\n",
    "lncRNA_pw['regulator_interaction'] = lncRNA_pw['regulator_interaction'].str.replace('Protein-DNA', 'http://purl.obolibrary.org/obo/NCIT_C18755 (dna-protein interaction)')\n",
    "\n",
    "lncRNA_pw['regulator_effect'] = lncRNA_pw['regulator_effect'].str.replace('promote;promote', 'http://purl.obolibrary.org/obo/NCIT_C61391 (promotion)|http://purl.obolibrary.org/obo/NCIT_C61391 (promotion)')\n",
    "lncRNA_pw['regulator_effect'] = lncRNA_pw['regulator_effect'].str.replace('promote', 'http://purl.obolibrary.org/obo/NCIT_C61391 (promotion)')\n",
    "lncRNA_pw['regulator_effect'] = lncRNA_pw['regulator_effect'].str.replace('inhibit', 'http://purl.obolibrary.org/obo/NCIT_C42791 (inhibition)')\n",
    "\n",
    "lncRNA_pw['target_type'] = lncRNA_pw['target_type'].str.replace(';', '|')\n",
    "lncRNA_pw['target_type'] = lncRNA_pw['target_type'].str.replace('miRNA', 'http://purl.obolibrary.org/obo/SO_0000276 (mirna)')\n",
    "lncRNA_pw['target_type'] = lncRNA_pw['target_type'].str.replace('TF', 'http://purl.obolibrary.org/obo/NCIT_C17207 (transcription factor)')\n",
    "lncRNA_pw['target_type'] = lncRNA_pw['target_type'].str.replace('Protein', 'http://purl.obolibrary.org/obo/PR_000000001 (protein)')\n",
    "\n",
    "lncRNA_pw['target_effect'] = lncRNA_pw['target_effect'].str.replace(';', '|')\n",
    "lncRNA_pw['target_effect'] = lncRNA_pw['target_effect'].str.replace('inhibit', 'http://purl.obolibrary.org/obo/NCIT_C42791 (inhibition)')\n",
    "lncRNA_pw['target_effect'] = lncRNA_pw['target_effect'].str.replace('promote', 'http://purl.obolibrary.org/obo/NCIT_C61391 (promotion)')\n",
    "\n",
    "lncRNA_pw['functional_mechanism'] = lncRNA_pw['functional_mechanism'].str.replace('Post-transcriptional regulation', 'http://purl.obolibrary.org/obo/NCIT_C18952 (post-transcriptional regulation)')\n",
    "lncRNA_pw['functional_mechanism'] = lncRNA_pw['functional_mechanism'].str.replace('Transcriptional regulation', 'http://purl.obolibrary.org/obo/NCIT_C19077 (transcriptional regulation)')\n",
    "lncRNA_pw['functional_mechanism'] = lncRNA_pw['functional_mechanism'].str.replace('Epigenetic regulation', 'http://purl.obolibrary.org/obo/GO_0040029 (epigenetic regulation of gene expression)')\n",
    "\n",
    "lncRNA_pw['clinical_detail'] = lncRNA_pw['clinical_detail'].str.replace('recurrence', 'http://purl.obolibrary.org/obo/NCIT_C3352 (recurrence)')\n",
    "lncRNA_pw['clinical_detail'] = lncRNA_pw['clinical_detail'].str.replace('metastasis', 'http://purl.obolibrary.org/obo/NCIT_C19151 (metastasis)')\n",
    "lncRNA_pw['clinical_detail'] = lncRNA_pw['clinical_detail'].str.replace('drug', 'http://purl.obolibrary.org/obo/CHEBI_23888 (drug)')\n",
    "\n",
    "lncRNA_pw.context_detail = [replace_with_mondo(item) for item in lncRNA_pw.context_detail]\n",
    "\n",
    "lncRNA_pw['tissue/cell line'] = lncRNA_pw['tissue/cell line'].str.lower()\n",
    "lncRNA_pw['tissue/cell line'] = lncRNA_pw['tissue/cell line'].str.replace(';', '|')\n",
    "lncRNA_pw['tissue/cell line'] = [replace_with_clo(item) for item in lncRNA_pw['tissue/cell line']]\n",
    "lncRNA_pw['tissue/cell line'] = [replace_with_clo2(item) for item in lncRNA_pw['tissue/cell line']]\n",
    "lncRNA_pw['tissue/cell line'] = [replace_with_uberon(item) for item in lncRNA_pw['tissue/cell line']]\n",
    "\n",
    "lncRNA_pw['regulator'] = lncRNA_pw['regulator'].str.replace(';', '|').str.lower()\n",
    "lncRNA_pw['regulator'] = [replace_with_pro(item) for item in lncRNA_pw['regulator']]\n",
    "\n",
    "lncRNA_pw['target'] = lncRNA_pw['target'].str.replace('miR', 'hsa-miR')\n",
    "lncRNA_pw['target'] = [replace_with_mirbase(item) for item in lncRNA_pw['target']]\n",
    "lncRNA_pw['target'] = lncRNA_pw['target'].str.replace(';', '|').str.lower()\n",
    "lncRNA_pw['target'] = [replace_with_pro(item) for item in lncRNA_pw['target']]\n",
    "\n",
    "lncRNA_pw['experimental_method'] = lncRNA_pw['experimental_method'].str.replace('wetern', 'western')\n",
    "lncRNA_pw['experimental_method'] = lncRNA_pw['experimental_method'].str.replace('assay assay', 'assay')\n",
    "lncRNA_pw['experimental_method'] = lncRNA_pw['experimental_method'].str.lower()\n",
    "lncRNA_pw['experimental_method'] = lncRNA_pw['experimental_method'].str.replace(';', '|')\n",
    "lncRNA_pw['experimental_method'] = [replace_with_ncit(item) for item in lncRNA_pw['experimental_method']]\n",
    "\n",
    "lncRNA_pw['biological_process'] = lncRNA_pw['biological_process'].str.lower()\n",
    "lncRNA_pw['biological_process'] = lncRNA_pw['biological_process'].str.replace(';', '|')\n",
    "lncRNA_pw['biological_process'] = [replace_with_go(item) for item in lncRNA_pw['biological_process']]\n",
    "\n",
    "lncRNA_pw['drug'] = lncRNA_pw['drug'].str.lower()\n",
    "lncRNA_pw['drug'] = [replace_with_drugbank(item) for item in lncRNA_pw['drug']]"
   ]
  },
  {
   "cell_type": "code",
   "execution_count": null,
   "metadata": {},
   "outputs": [],
   "source": [
    "lncRNA_pw.rename(columns={1:'pathway'},inplace=True)\n",
    "lncRNA_pw.columns = lncRNA_pw.columns.str.replace('_', ' ').str.capitalize()\n",
    "lncRNA_pw.rename(columns={'0 y':'lncRNA','1 y x':'Protein', 'Pmid':'References (PMID)', 'Transcript id': 'Transcript ID',\n",
    "                               '1 y y': 'Regulator'},inplace=True)\n",
    "lncRNA_pw.insert(0,'lncRNA',lncRNA_pw.pop('lncRNA'))\n",
    "lncRNA_pw.insert(1,'Pathway',lncRNA_pw.pop('Pathway'))"
   ]
  },
  {
   "cell_type": "code",
   "execution_count": null,
   "metadata": {},
   "outputs": [],
   "source": [
    "merge_rows(lncRNA_pw,'lncRNA','Pathway').to_csv(edge_data_location + 'RlncRNA-pw.txt', sep='\\t', index=None)"
   ]
  },
  {
   "cell_type": "markdown",
   "metadata": {},
   "source": [
    "***\n",
    "### lncRNA-biological process - http://purl.obolibrary.org/obo/RO_0000056 (participates in)"
   ]
  },
  {
   "cell_type": "markdown",
   "metadata": {},
   "source": [
    "***\n",
    "* [LncRNAWiki](https://ngdc.cncb.ac.cn/lncrnawiki/)"
   ]
  },
  {
   "cell_type": "code",
   "execution_count": null,
   "metadata": {},
   "outputs": [],
   "source": [
    "LncRNAWiki = pd.read_csv(unprocessed_data_location+'LncRNAWiki_BrowseDownload.csv')\n",
    "lncRNA_gobp2 = LncRNAWiki[LncRNAWiki['biological_context'].notna()]\n",
    "lncRNA_gobp2 = lncRNA_gobp2.drop(columns=['synonyms','gene_locus','gene_id','genome_variation','tissue/cell line',\n",
    "                                         'variation_detail','expression','expression_detail','regulator_type',\n",
    "                                          'regulator','regulator_interaction','regulator_effect',\n",
    "                                          'experimental_method','molecular_function','clinical_detail',\n",
    "                                          'drug', 'target_interaction'])\n",
    "lncRNA_gobp2.biological_context = lncRNA_gobp2.biological_context.str.lower()\n",
    "lncRNA_gobp2.biological_context = lncRNA_gobp2.biological_context[lncRNA_gobp2.biological_context!='disease']\n",
    "lncRNA_gobp2 = pd.merge(lncRNA_gobp2, desc_go_map.rename(columns={0:'biological_context'}), on=['biological_context'])\n",
    "lncRNA_gobp2.drop(columns='biological_context',inplace=True)\n",
    "lncRNA_gobp2 = pd.merge(lncRNA_gobp2, symbol_entrez_map.rename(columns={'0_x':'symbol'}), on=['symbol'])\n",
    "lncRNA_gobp2.drop(columns='symbol',inplace=True)\n",
    "lncRNA_gobp2['0_y'] = lncRNA_gobp2['0_y'].astype(str)+'?lncRNA'\n",
    "lncRNA_gobp2.rename(columns={'0_y':'geneid',1:'gobp','pmid':'PMID'},inplace=True)\n",
    "lncRNA_gobp2['Source(s)'] = 'LncRNAWiki'\n",
    "lncRNA_gobp2.head()"
   ]
  },
  {
   "cell_type": "markdown",
   "metadata": {},
   "source": [
    "Manual fix."
   ]
  },
  {
   "cell_type": "code",
   "execution_count": null,
   "metadata": {},
   "outputs": [],
   "source": [
    "lncRNA_gobp2['transcript_id'] = lncRNA_gobp2['transcript_id'] .str.replace(',','|')\n",
    "\n",
    "lncRNA_gobp2.conservation_ortholog = lncRNA_gobp2.conservation_ortholog.str.replace('Mouse', 'http://purl.obolibrary.org/obo/NCBITaxon_10090 (mus musculus)')\n",
    "\n",
    "lncRNA_gobp2['epigenetic_modification'] = lncRNA_gobp2['epigenetic_modification'].str.replace('DNA methylation','http://purl.obolibrary.org/obo/GO_0006306 (dna methylation)')\n",
    "\n",
    "lncRNA_gobp2['target_effect'] = lncRNA_gobp2['target_effect'].str.replace('inhibit', 'http://purl.obolibrary.org/obo/NCIT_C42791 (inhibition)')\n",
    "\n",
    "lncRNA_gobp2['biological_process'] = lncRNA_gobp2['biological_process'].str.replace(\n",
    "    'Proliferation;Apoptosis', 'http://purl.obolibrary.org/obo/NCIT_C28378 (proliferation)|http://purl.obolibrary.org/obo/NCIT_C17557 (apoptosis)')\n",
    "\n",
    "lncRNA_gobp2['target_type'] = lncRNA_gobp2['target_type'].str.replace('miRNA', 'http://purl.obolibrary.org/obo/SO_0000276 (mirna)')\n",
    "lncRNA_gobp2['target_type'] = lncRNA_gobp2['target_type'].str.replace('TF', 'http://purl.obolibrary.org/obo/NCIT_C17207 (transcription factor)')\n",
    "lncRNA_gobp2['target_type'] = lncRNA_gobp2['target_type'].str.replace('Protein', 'http://purl.obolibrary.org/obo/PR_000000001 (protein)')\n",
    "\n",
    "lncRNA_gobp2['target'] = lncRNA_gobp2['target'].str.replace('miR-675', 'https://www.mirbase.org/hairpin/MI0005416')\n",
    "lncRNA_gobp2['target'] = lncRNA_gobp2['target'].str.replace('STAT3', 'http://purl.obolibrary.org/obo/PR_000002089 (stat3)')\n",
    "lncRNA_gobp2['target'] = lncRNA_gobp2['target'].str.replace('Runx2', 'http://purl.obolibrary.org/obo/PR_000014364 (runx2)')\n",
    "lncRNA_gobp2['target'] = lncRNA_gobp2['target'].str.replace('miR-320a;miR-383', 'https://www.mirbase.org/hairpin/MI0000542|https://www.mirbase.org/hairpin/MI0000791')\n",
    "\n",
    "lncRNA_gobp2.context_detail = [replace_with_mondo(item) for item in lncRNA_gobp2.context_detail]\n",
    "\n",
    "lncRNA_gobp2['pathway'] = lncRNA_gobp2['pathway'].str.lower()\n",
    "lncRNA_gobp2['pathway'] = lncRNA_gobp2['pathway'].str.replace(';', '|')\n",
    "lncRNA_gobp2['pathway'] = lncRNA_gobp2['pathway'].str.replace('nf-??b', 'nuclear factor kappa B')\n",
    "lncRNA_gobp2['pathway'] = lncRNA_gobp2['pathway'].str.replace('/??-catenin', '')\n",
    "lncRNA_gobp2['pathway'] = lncRNA_gobp2['pathway'].str.replace('pi3k/akt ', '')\n",
    "lncRNA_gobp2['pathway'] = [replace_with_pw(item) for item in lncRNA_gobp2['pathway']]"
   ]
  },
  {
   "cell_type": "code",
   "execution_count": null,
   "metadata": {},
   "outputs": [],
   "source": [
    "lncRNA_gobp2.insert(0,'gobp',lncRNA_gobp2.pop('gobp'))\n",
    "lncRNA_gobp2.insert(0,'geneid',lncRNA_gobp2.pop('geneid'))\n",
    "lncRNA_gobp2.rename(columns={'biological_process':'biological_process2'},inplace=True)\n",
    "lncRNA_gobp2.columns = lncRNA_gobp2.columns.str.replace('_', ' ').str.capitalize()\n",
    "lncRNA_gobp2.rename(columns={'Geneid':'lncRNA','Pmid':'References (PMID)', 'Transcript id': 'Transcript ID',\n",
    "                               'Gobp': 'Biological process'},inplace=True)"
   ]
  },
  {
   "cell_type": "code",
   "execution_count": null,
   "metadata": {},
   "outputs": [],
   "source": [
    "merge_rows(lncRNA_gobp2,'lncRNA','Biological process').to_csv(edge_data_location + 'RlncRNA-gobp.txt', sep='\\t', index=None)"
   ]
  },
  {
   "cell_type": "code",
   "execution_count": null,
   "metadata": {},
   "outputs": [],
   "source": []
  },
  {
   "cell_type": "code",
   "execution_count": null,
   "metadata": {},
   "outputs": [],
   "source": []
  },
  {
   "cell_type": "code",
   "execution_count": null,
   "metadata": {},
   "outputs": [],
   "source": [
    "uberon_dict = dict(zip(desc_uberon_map[0], 'http://purl.obolibrary.org/obo/' + desc_uberon_map[1] +\n",
    "                      ' (' + desc_uberon_map[0] + ')'))\n",
    "\n",
    "def replace_with_uberon(substring):\n",
    "    if pd.isna(substring):\n",
    "        return np.nan\n",
    "    else:\n",
    "        return '|'.join([uberon_dict.get(part, part) for part in substring.split('|')])\n",
    "    \n",
    "ncit_dict = dict(zip(desc_ncit_map[0], 'http://purl.obolibrary.org/obo/' + desc_ncit_map[1] +\n",
    "                      ' (' + desc_ncit_map[0] + ')'))\n",
    "\n",
    "clo_dict = dict(zip(desc_clo_map[0], 'http://purl.obolibrary.org/obo/' + desc_clo_map[1] +\n",
    "                    ' (' + desc_clo_map[0] + ')'))\n",
    "\n",
    "def replace_with_clo(substring):\n",
    "    if pd.isna(substring):\n",
    "        return np.nan\n",
    "    else:\n",
    "        return '|'.join([clo_dict.get(part, part) for part in substring.split('|')])\n",
    "    \n",
    "clo_dict2 = dict(zip(desc_clo_map[0].str.replace(' cell',''), 'http://purl.obolibrary.org/obo/' +\n",
    "                     desc_clo_map[1] + ' (' + desc_clo_map[0] + ')'))\n",
    "\n",
    "def replace_with_clo2(substring):\n",
    "    if pd.isna(substring):\n",
    "        return np.nan\n",
    "    else:\n",
    "        return '|'.join([clo_dict2.get(part, part) for part in substring.split('|')])\n",
    "\n",
    "def replace_with_ncit(substring):\n",
    "    if pd.isna(substring):\n",
    "        return np.nan\n",
    "    else:\n",
    "        return '|'.join([ncit_dict.get(part, part) for part in substring.split('|')])\n",
    "\n",
    "mondo_dict = dict(zip(desc_disPhe_map[0], 'http://purl.obolibrary.org/obo/' + desc_disPhe_map[1] +\n",
    "                      ' (' + desc_disPhe_map[0] + ')'))\n",
    "\n",
    "def replace_with_mondo(substring):\n",
    "    if pd.isna(substring):\n",
    "        return np.nan\n",
    "    else:\n",
    "        return '|'.join([mondo_dict.get(part, part) for part in substring.split('|')])\n",
    "\n",
    "pro_dict = dict(zip(desc_pro_map[0], 'http://purl.obolibrary.org/obo/' + desc_pro_map[1] +\n",
    "                   ' (' + desc_pro_map[0] + ')'))\n",
    "\n",
    "def replace_with_pro(substring):\n",
    "    if pd.isna(substring):\n",
    "        return np.nan\n",
    "    else:\n",
    "        return '|'.join([pro_dict.get(part, part) for part in substring.split('|')])\n",
    "    \n",
    "def merge_rows(df, column1, column2):\n",
    "    df = df.drop_duplicates()\n",
    "    df_merged = df.groupby([column1, column2]).agg(lambda x: '|'.join(set(str(i) for i in x if pd.notnull(i)))).reset_index()\n",
    "    return df_merged.drop_duplicates()\n",
    "\n",
    "go_dict = dict(zip(desc_go_map[0], 'http://purl.obolibrary.org/obo/' +\n",
    "                   desc_go_map[1] + ' (' + desc_go_map[0] + ')'))\n",
    "\n",
    "def replace_with_go(substring):\n",
    "    if pd.isna(substring):\n",
    "        return np.nan\n",
    "    else:\n",
    "        return '|'.join([go_dict.get(part, part) for part in substring.split('|')])\n",
    "\n",
    "pw_dict = dict(zip(desc_reactome_map[0], 'http://purl.obolibrary.org/obo/' + desc_reactome_map[1] +\n",
    "                  ' (' + desc_reactome_map[0] + ')'))\n",
    "\n",
    "def replace_with_pw(substring):\n",
    "    if pd.isna(substring):\n",
    "        return np.nan\n",
    "    else:\n",
    "        return '|'.join([pw_dict.get(part, part) for part in substring.split('|')])\n",
    "\n",
    "DrugBank = pd.read_csv(unprocessed_data_location + 'drugbank vocabulary.csv') \n",
    "DrugBank['Common name'] = DrugBank['Common name'].str.lower()\n",
    "drugbank_dict = dict(zip(DrugBank['Common name'], 'https://go.drugbank.com/drugs/' + DrugBank['DrugBank ID'] +\n",
    "                        ' (' + DrugBank['Common name'] + ')'))\n",
    "def replace_with_drugbank(substring):\n",
    "    if pd.isna(substring):\n",
    "        return np.nan\n",
    "    else:\n",
    "        return '|'.join([drugbank_dict.get(part, part) for part in substring.split('|')])"
   ]
  },
  {
   "cell_type": "markdown",
   "metadata": {},
   "source": [
    "***\n",
    "### miRNA-TF(protein)"
   ]
  },
  {
   "cell_type": "markdown",
   "metadata": {},
   "source": [
    "* [PuTmiR 1.1](https://www.isical.ac.in/~bioinfo_miu/TF-miRNA1.php) <br/>\n",
    "PuTmiR is a web server designed for extracting the putative TFs for human miRNAs, as per the requirement of a user, based on genomic locality, i.e., any upstream or downstream region of interest less than 10 kb."
   ]
  },
  {
   "cell_type": "markdown",
   "metadata": {},
   "source": [
    "#### http://purl.obolibrary.org/obo/RO_0002528 (is upstream of sequence of)"
   ]
  },
  {
   "cell_type": "code",
   "execution_count": null,
   "metadata": {},
   "outputs": [],
   "source": [
    "! wget https://www.isical.ac.in/~bioinfo_miu/UpstreamRegionTF-miRNA1.txt"
   ]
  },
  {
   "cell_type": "code",
   "execution_count": null,
   "metadata": {},
   "outputs": [],
   "source": [
    "miRNA_TF_up = pd.read_csv(unprocessed_data_location+'UpstreamRegionTF-miRNA1.txt', sep='\\t')\n",
    "miRNA_TF_up = pd.merge(miRNA_TF_up,symbol_to_pro.rename(columns={'0_x':'TF'}),on='TF')\n",
    "miRNA_TF_up = pd.merge(miRNA_TF_up,mirna_mirbase_map.rename(columns={2:'name'}),on='name')\n",
    "miRNA_TF_up.drop(columns=['chromStart','chromEnd','TF','name'],inplace=True)\n",
    "miRNA_TF_up['Source(s)'] = 'PuTmiR'\n",
    "miRNA_TF_up"
   ]
  },
  {
   "cell_type": "markdown",
   "metadata": {},
   "source": [
    "Manual fix of inconsistencies."
   ]
  },
  {
   "cell_type": "code",
   "execution_count": null,
   "metadata": {},
   "outputs": [],
   "source": [
    "miRNA_TF_up['chrom'] = miRNA_TF_up['chrom'].str.lower()\n",
    "miRNA_TF_up['chrom'] = [replace_with_ncit(item) for item in miRNA_TF_up['chrom']]"
   ]
  },
  {
   "cell_type": "code",
   "execution_count": null,
   "metadata": {},
   "outputs": [],
   "source": [
    "miRNA_TF_up.rename(columns={'chrom':'Chromosome','strand':'Strand','chromStartTF':'ChromStartTF',\n",
    "                            'chromEndTF':'ChromEndTF','Refseq':'Refseq ID','score':'Score','1_y':'TF',0:'miRNA'},inplace=True)\n",
    "miRNA_TF_up.insert(0,'miRNA',miRNA_TF_up.pop('miRNA'))\n",
    "miRNA_TF_up.insert(1,'TF',miRNA_TF_up.pop('TF'))"
   ]
  },
  {
   "cell_type": "code",
   "execution_count": null,
   "metadata": {},
   "outputs": [],
   "source": [
    "maturemiRNA_TF_up = miRNA_TF_up[(miRNA_TF_up['miRNA'].str.startswith('MIMAT'))]\n",
    "premiRNA_TF_up = miRNA_TF_up[(miRNA_TF_up['miRNA'].str.startswith('MI')) &\n",
    "                             (~miRNA_TF_up['miRNA'].str.startswith('MIMAT'))]\n",
    "\n",
    "maturemiRNA_TF_up.drop_duplicates().to_csv(edge_data_location + 'RmiRNA-TFup.txt', sep='\\t', index=None)\n",
    "premiRNA_TF_up.drop_duplicates().to_csv(edge_data_location + 'RpremiRNA-TFup.txt', sep='\\t', index=None)"
   ]
  },
  {
   "cell_type": "markdown",
   "metadata": {},
   "source": [
    "#### http://purl.obolibrary.org/obo/RO_0002529 (is downstream of sequence of)"
   ]
  },
  {
   "cell_type": "code",
   "execution_count": null,
   "metadata": {},
   "outputs": [],
   "source": [
    "! wget https://www.isical.ac.in/~bioinfo_miu/DownstreamRegionTF-miRNA1.txt"
   ]
  },
  {
   "cell_type": "code",
   "execution_count": null,
   "metadata": {},
   "outputs": [],
   "source": [
    "miRNA_TF_down = pd.read_csv(unprocessed_data_location+'DownstreamRegionTF-miRNA1.txt', sep='\\t')\n",
    "miRNA_TF_down = pd.merge(miRNA_TF_down,symbol_to_pro.rename(columns={'0_x':'TF'}),on='TF')\n",
    "miRNA_TF_down = pd.merge(miRNA_TF_down,mirna_mirbase_map.rename(columns={2:'name'}),on='name')\n",
    "miRNA_TF_down.drop(columns=['chromStart','chromEnd','TF','name'],inplace=True)\n",
    "miRNA_TF_down['Source(s)'] = 'PuTmiR'\n",
    "miRNA_TF_down"
   ]
  },
  {
   "cell_type": "markdown",
   "metadata": {},
   "source": [
    "Manual fix of inconsistencies."
   ]
  },
  {
   "cell_type": "code",
   "execution_count": null,
   "metadata": {},
   "outputs": [],
   "source": [
    "miRNA_TF_down['chrom'] = miRNA_TF_down['chrom'].str.lower()\n",
    "miRNA_TF_down['chrom'] = [replace_with_ncit(item) for item in miRNA_TF_down['chrom']]"
   ]
  },
  {
   "cell_type": "code",
   "execution_count": null,
   "metadata": {},
   "outputs": [],
   "source": [
    "miRNA_TF_down.rename(columns={'chrom':'Chromosome','strand':'Strand','chromStartTF':'ChromStartTF',\n",
    "                            'chromEndTF':'ChromEndTF','Refseq':'Refseq ID','score':'Score','1_y':'TF',0:'miRNA'},inplace=True)\n",
    "miRNA_TF_down.insert(0,'miRNA',miRNA_TF_down.pop('miRNA'))\n",
    "miRNA_TF_down.insert(1,'TF',miRNA_TF_down.pop('TF'))"
   ]
  },
  {
   "cell_type": "code",
   "execution_count": null,
   "metadata": {},
   "outputs": [],
   "source": [
    "maturemiRNA_TF_down = miRNA_TF_down[(miRNA_TF_down['miRNA'].str.startswith('MIMAT'))]\n",
    "premiRNA_TF_down = miRNA_TF_down[(miRNA_TF_down['miRNA'].str.startswith('MI')) &\n",
    "                                 (~miRNA_TF_down['miRNA'].str.startswith('MIMAT'))]\n",
    "\n",
    "maturemiRNA_TF_down.drop_duplicates().to_csv(edge_data_location + 'RmiRNA-TFdown.txt', sep='\\t', index=None)\n",
    "premiRNA_TF_down.drop_duplicates().to_csv(edge_data_location + 'RpremiRNA-TFdown.txt', sep='\\t', index=None)"
   ]
  },
  {
   "cell_type": "markdown",
   "metadata": {},
   "source": [
    "***\n",
    "### premiRNA-TF(protein) - http://purl.obolibrary.org/obo/RO_0002428 (involved in regulation of)"
   ]
  },
  {
   "cell_type": "markdown",
   "metadata": {},
   "source": [
    "* [miRNet](https://www.mirnet.ca/)"
   ]
  },
  {
   "cell_type": "code",
   "execution_count": null,
   "metadata": {},
   "outputs": [],
   "source": [
    "! wget https://www.dropbox.com/s/78r0tazedtkhi5g/miRNet-mir-tf-hsa.csv"
   ]
  },
  {
   "cell_type": "code",
   "execution_count": null,
   "metadata": {},
   "outputs": [],
   "source": [
    "miRNA_TF = pd.read_csv(unprocessed_data_location + 'miRNet-mir-tf-hsa.csv').drop(columns=[\n",
    "    'mirnet','mir_acc','entrez','embl','gene_name','mbv'])\n",
    "miRNA_TF['Source(s)'] = 'miRNet'\n",
    "miRNA_TF"
   ]
  },
  {
   "cell_type": "markdown",
   "metadata": {},
   "source": [
    "***\n",
    "* [TransmiR](https://www.cuilab.cn/transmir) <br /> TransmiR is a database for transcription factor (TF)-microRNA (miRNA) regulations, through which one can find regulatory relations between TFs and miRNAs."
   ]
  },
  {
   "cell_type": "code",
   "execution_count": null,
   "metadata": {},
   "outputs": [],
   "source": [
    "! wget https://www.cuilab.cn/files/images/transmir2/download/literature/hsa.xlsx"
   ]
  },
  {
   "cell_type": "code",
   "execution_count": null,
   "metadata": {},
   "outputs": [],
   "source": [
    "miRNA_TF2 = pd.read_excel(unprocessed_data_location+\"hsa.xlsx\", header=None)\n",
    "miRNA_TF2['Source(s)'] = 'TransmiR'\n",
    "miRNA_TF2"
   ]
  },
  {
   "cell_type": "code",
   "execution_count": null,
   "metadata": {},
   "outputs": [],
   "source": [
    "miRNA_TF = pd.merge(miRNA_TF, miRNA_TF2, how='outer', left_on=['mir_id','symbol'], right_on = [1,0])\n",
    "miRNA_TF[0].fillna(miRNA_TF['symbol'], inplace=True)\n",
    "miRNA_TF['symbol'].fillna(miRNA_TF[0], inplace=True)\n",
    "miRNA_TF['mir_id'].fillna(miRNA_TF[1], inplace=True)\n",
    "miRNA_TF[1].fillna(miRNA_TF['mir_id'], inplace=True)\n",
    "\n",
    "miRNA_TF['Source(s)_x'] = miRNA_TF['Source(s)_x'].astype(str)\n",
    "miRNA_TF['Source(s)_y'] = miRNA_TF['Source(s)_y'].astype(str)\n",
    "miRNA_TF['Source(s)'] = miRNA_TF['Source(s)_x'] + '|' + miRNA_TF['Source(s)_y']\n",
    "miRNA_TF = miRNA_TF.drop(columns=['Source(s)_x', 'Source(s)_y', 1, 0, 8])\n",
    "\n",
    "miRNA_TF['pmid'] = miRNA_TF['pmid'].astype('Int64').astype(str)\n",
    "miRNA_TF[5] = miRNA_TF[5].astype('Int64').astype(str)\n",
    "miRNA_TF['pmid'].fillna(miRNA_TF[5], inplace=True)\n",
    "miRNA_TF.loc[(miRNA_TF['pmid'] != '<NA>') & (miRNA_TF[5] != '<NA>') &\n",
    "                 (miRNA_TF['pmid'] != miRNA_TF[5]),\n",
    "                 [\"pmid\"]] = miRNA_TF[\"pmid\"].astype(str) + '|' + miRNA_TF[5].astype(str)\n",
    "miRNA_TF = miRNA_TF.drop(columns=[5,7])\n",
    "\n",
    "miRNA_TF['action_type'].fillna(miRNA_TF[4], inplace=True)\n",
    "miRNA_TF = miRNA_TF.drop(columns=[2,3,4,6])\n",
    "\n",
    "miRNA_TF"
   ]
  },
  {
   "cell_type": "markdown",
   "metadata": {},
   "source": [
    "***\n",
    "* [TAM](http://www.lirmed.com/tam2/)"
   ]
  },
  {
   "cell_type": "code",
   "execution_count": null,
   "metadata": {},
   "outputs": [],
   "source": [
    "TAM = pd.read_csv(unprocessed_data_location+'mirset_v9.txt', sep='\\t',names=range(500))\n",
    "TAM = TAM.dropna(axis=1, how='all')\n",
    "\n",
    "miRNA_TF2=TAM[(TAM[0].str.contains(\"TF\"))]\n",
    "miRNA_TF2=miRNA_TF2.dropna(axis=1, how='all')\n",
    "miRNA_TF2=miRNA_TF2.drop(columns=[0])\n",
    "miRNA_TF2['merged'] = miRNA_TF2[miRNA_TF2.columns[1:]].apply(\n",
    "    lambda x: ','.join(x.dropna().astype(str)),\n",
    "    axis=1\n",
    ")\n",
    "miRNA_TF2=miRNA_TF2[[1,'merged']]\n",
    "\n",
    "miRNA_TF2['merged'] = miRNA_TF2.merged.str.split(',')\n",
    "miRNA_TF2 = miRNA_TF2.explode('merged')\n",
    "miRNA_TF2['Source(s)'] = 'TAM'\n",
    "miRNA_TF2"
   ]
  },
  {
   "cell_type": "code",
   "execution_count": null,
   "metadata": {},
   "outputs": [],
   "source": [
    "miRNA_TF = pd.merge(miRNA_TF, miRNA_TF2, how='outer', left_on=['mir_id','symbol'], right_on = ['merged',1])\n",
    "\n",
    "miRNA_TF = pd.merge(miRNA_TF, symbol_to_pro.rename(columns={'0_x':'symbol'}), on=['symbol'])\n",
    "miRNA_TF = pd.merge(miRNA_TF,miRBaseMap,left_on='mir_id',right_on=[2])\n",
    "\n",
    "miRNA_TF['Source(s)_x'] = miRNA_TF['Source(s)_x'].astype(str)\n",
    "miRNA_TF['Source(s)_y'] = miRNA_TF['Source(s)_y'].astype(str)\n",
    "miRNA_TF['Source(s)'] = miRNA_TF['Source(s)_x'] + '|' + miRNA_TF['Source(s)_y']\n",
    "miRNA_TF = miRNA_TF.drop(columns=['Source(s)_x', 'Source(s)_y','symbol','mir_id',2,'merged',1])\n",
    "\n",
    "miRNA_TF['Source(s)'] = miRNA_TF['Source(s)'].str.replace('nan\\||\\|nan', '', regex=True)\n",
    "\n",
    "miRNA_TF"
   ]
  },
  {
   "cell_type": "markdown",
   "metadata": {},
   "source": [
    "Manual fix of inconsistencies."
   ]
  },
  {
   "cell_type": "markdown",
   "metadata": {},
   "source": [
    "- Action type"
   ]
  },
  {
   "cell_type": "code",
   "execution_count": null,
   "metadata": {},
   "outputs": [],
   "source": [
    "print(miRNA_TF['action_type'].unique()[:5])\n",
    "miRNA_TF['action_type'] = miRNA_TF['action_type'].str.lower()\n",
    "miRNA_TF['action_type'] = [replace_with_ncit(item) for item in miRNA_TF['action_type']]\n",
    "miRNA_TF['action_type'].unique()[:5]"
   ]
  },
  {
   "cell_type": "code",
   "execution_count": null,
   "metadata": {},
   "outputs": [],
   "source": [
    "miRNA_TF['pmid'] = 'https://pubmed.ncbi.nlm.nih.gov/' + miRNA_TF['pmid'].astype('Int64', errors='ignore').astype('str')\n",
    "miRNA_TF['pmid'] = miRNA_TF['pmid'].replace('https://pubmed.ncbi.nlm.nih.gov/<NA>', np.nan)\n",
    "miRNA_TF.rename(columns={0:'miRNA','1_y':'TF','action_type':'Action type','pmid':'References (PMID)'},inplace=True)\n",
    "miRNA_TF.insert(0,'miRNA',miRNA_TF.pop('miRNA'))\n",
    "miRNA_TF.insert(1,'TF',miRNA_TF.pop('TF'))"
   ]
  },
  {
   "cell_type": "code",
   "execution_count": null,
   "metadata": {},
   "outputs": [],
   "source": [
    "miRNA_TF.drop_duplicates().to_csv(edge_data_location + 'RpremiRNA-TF.txt', sep='\\t', index=None)"
   ]
  },
  {
   "cell_type": "markdown",
   "metadata": {},
   "source": [
    "***\n",
    "### miRNA-molecular function - http://purl.obolibrary.org/obo/RO_0000085 (has function)"
   ]
  },
  {
   "cell_type": "markdown",
   "metadata": {},
   "source": [
    "* [TAM](http://www.lirmed.com/tam2/) <br /> TAM groups miRNAs into six categories of miRNA sets: miRNA-family sets, miRNA cluster sets, miRNA-disease, miRNA-function sets, miRNA-TF sets and tissue specificity sets."
   ]
  },
  {
   "cell_type": "code",
   "execution_count": null,
   "metadata": {},
   "outputs": [],
   "source": [
    "#TAM = pd.read_csv('http://www.lirmed.com/tam2/Public/static/data/mirset_v9.txt', sep='\\t',names=range(500))\n",
    "#TAM=TAM.dropna(axis=1, how='all')\n",
    "\n",
    "miRNA_GO=TAM[TAM[0].str.contains(\"unction\")]\n",
    "miRNA_GO[1] = miRNA_GO[1].str.lower()\n",
    "miRNA_GO=miRNA_GO.dropna(axis=1, how='all')\n",
    "miRNA_GO=miRNA_GO.drop(columns=[0])\n",
    "miRNA_GO"
   ]
  },
  {
   "cell_type": "code",
   "execution_count": null,
   "metadata": {},
   "outputs": [],
   "source": [
    "miRNA_GO = pd.merge(desc_go_map, miRNA_GO, left_on=[0], right_on=[1]).drop(columns=['1_y'])\n",
    "miRNA_GO = miRNA_GO.dropna(axis=1, how='all')\n",
    "miRNA_GO"
   ]
  },
  {
   "cell_type": "code",
   "execution_count": null,
   "metadata": {},
   "outputs": [],
   "source": [
    "dflist = list()\n",
    "for i in range(len(miRNA_GO)):\n",
    "    df=pd.DataFrame(columns=[0,1,2])\n",
    "    df[0] = miRNA_GO.T[i].drop(index=[0,'1_x'])\n",
    "    df[1] = miRNA_GO.T[i][0]\n",
    "    df[2] = miRNA_GO.T[i]['1_x']\n",
    "    dflist.append(df)\n",
    "\n",
    "miRNA_GO=pd.DataFrame(columns=[0,1,2])\n",
    "for dataframe in dflist:\n",
    "    miRNA_GO=pd.concat([miRNA_GO,dataframe])\n",
    "miRNA_GO=miRNA_GO.dropna()\n",
    "\n",
    "miRNA_GO = pd.merge(miRNA_GO.rename(columns={0:'a'}), mirna_mirbase_map.rename(columns={2:'a'}), on='a')\n",
    "miRNA_GO.drop(columns=['a',1], inplace=True)\n",
    "miRNA_GO['Source(s)'] = 'TAM'\n",
    "miRNA_GO"
   ]
  },
  {
   "cell_type": "markdown",
   "metadata": {},
   "source": [
    "***\n",
    "* [miRPathDB](https://mpd.bioinf.uni-sb.de/overview.html) <br /> miRPathDB includes miRNA candidates, experimentally validated target genes, extended analysis functionality, and intuitive visualizations of query results. "
   ]
  },
  {
   "cell_type": "code",
   "execution_count": null,
   "metadata": {},
   "outputs": [],
   "source": [
    "! wget https://mpd.bioinf.uni-sb.de/download/version_2/miRPathDB2_hsa_genetrail2_results.tar.gz\n",
    "! wget https://mpd.bioinf.uni-sb.de/download/version_2/miRPathDB2_hsa_gmt.tar.gz"
   ]
  },
  {
   "cell_type": "code",
   "execution_count": null,
   "metadata": {},
   "outputs": [],
   "source": [
    "tar = tarfile.open(unprocessed_data_location+'miRPathDB2_hsa_gmt.tar.gz', 'r:gz')\n",
    "tar.extractall(unprocessed_data_location)\n",
    "tar.close()\n",
    "\n",
    "miRNA_GO2 = pd.read_csv(unprocessed_data_location + 'hsa/GO_MF_validated_miRTarBase_strong.gmt', sep='\\t', header=None,names=range(50))\n",
    "miRNA_GO2[0] = miRNA_GO2[0].str.lower()\n",
    "miRNA_GO2=miRNA_GO2.dropna(axis=1, how='all')\n",
    "miRNA_GO2=miRNA_GO2.drop(columns=[1])\n",
    "miRNA_GO2 = pd.merge(desc_go_map, miRNA_GO2, left_on=[0], right_on=[0])\n",
    "miRNA_GO2 = miRNA_GO2.dropna(axis=1, how='all')\n",
    "\n",
    "dflist = list()\n",
    "for i in range(len(miRNA_GO2)):\n",
    "    df=pd.DataFrame(columns=[0,1,2])\n",
    "    df[0] = miRNA_GO2.T[i].drop(index=[0,1])\n",
    "    df[1] = miRNA_GO2.T[i][0]\n",
    "    df[2] = miRNA_GO2.T[i][1]\n",
    "    dflist.append(df)\n",
    "\n",
    "miRNA_GO2=pd.DataFrame(columns=[0,1,2])\n",
    "for dataframe in dflist:\n",
    "    miRNA_GO2=pd.concat([miRNA_GO2,dataframe])\n",
    "miRNA_GO2=miRNA_GO2.dropna()\n",
    "\n",
    "miRNA_GO2 = pd.merge(miRNA_GO2.rename(columns={0:'a'}), mirna_mirbase_map.rename(columns={2:'a'}), on='a')\n",
    "miRNA_GO2.drop(columns=['a',1], inplace=True)\n",
    "miRNA_GO2['Source(s)'] = 'miRPathDB'\n",
    "miRNA_GO2"
   ]
  },
  {
   "cell_type": "code",
   "execution_count": null,
   "metadata": {},
   "outputs": [],
   "source": [
    "miRNA_GO = pd.merge(miRNA_GO, miRNA_GO2, how='outer', on=[0,2])\n",
    "\n",
    "miRNA_GO['Source(s)_x'] = miRNA_GO['Source(s)_x'].astype(str)\n",
    "miRNA_GO['Source(s)_y'] = miRNA_GO['Source(s)_y'].astype(str)\n",
    "miRNA_GO['Source(s)'] = miRNA_GO['Source(s)_x'] + '|' + miRNA_GO['Source(s)_y']\n",
    "miRNA_GO = miRNA_GO.drop(columns=['Source(s)_x', 'Source(s)_y'])\n",
    "\n",
    "miRNA_GO['Source(s)'] = miRNA_GO['Source(s)'].str.replace('nan\\||\\|nan', '', regex=True)\n",
    "\n",
    "miRNA_GO"
   ]
  },
  {
   "cell_type": "code",
   "execution_count": null,
   "metadata": {},
   "outputs": [],
   "source": [
    "miRNA_GO.rename(columns={2:'Molecular function',0:'miRNA'},inplace=True)\n",
    "miRNA_GO = miRNA_GO[['miRNA','Molecular function','Source(s)']]"
   ]
  },
  {
   "cell_type": "code",
   "execution_count": null,
   "metadata": {},
   "outputs": [],
   "source": [
    "maturemiRNA_GO = miRNA_GO[miRNA_GO['miRNA'].str.startswith('MIMAT')]\n",
    "premiRNA_GO = miRNA_GO[~miRNA_GO['miRNA'].str.startswith('MIMAT')]\n",
    "maturemiRNA_GO.drop_duplicates().to_csv(edge_data_location + 'RmiRNA-GOCC.txt', sep='\\t', index=None)\n",
    "premiRNA_GO.drop_duplicates().to_csv(edge_data_location + 'RpremiRNA-GOCC.txt', sep='\\t', index=None)"
   ]
  },
  {
   "cell_type": "markdown",
   "metadata": {},
   "source": [
    "***\n",
    "### miRNA-biological process - http://purl.obolibrary.org/obo/RO_0000056 (participates in)"
   ]
  },
  {
   "cell_type": "markdown",
   "metadata": {},
   "source": [
    "***\n",
    "* [miRPathDB](https://mpd.bioinf.uni-sb.de/overview.html)"
   ]
  },
  {
   "cell_type": "code",
   "execution_count": null,
   "metadata": {},
   "outputs": [],
   "source": [
    "#tar = tarfile.open(unprocessed_data_location+'miRPathDB2_hsa_gmt.tar.gz', 'r:gz')\n",
    "#tar.extractall(unprocessed_data_location)\n",
    "#tar.close()\n",
    "\n",
    "miRNA_GO = pd.read_csv(unprocessed_data_location + 'hsa/GO_BP_validated_miRTarBase_strong.gmt', sep='\\t', header=None, names=range(94))\n",
    "miRNA_GO[0] = miRNA_GO[0].str.lower()\n",
    "miRNA_GO = miRNA_GO.dropna(axis=1, how='all')\n",
    "miRNA_GO = miRNA_GO.drop(columns=[1])\n",
    "miRNA_GO = pd.merge(desc_go_map, miRNA_GO, left_on=[0], right_on=[0])\n",
    "miRNA_GO = miRNA_GO.dropna(axis=1, how='all')\n",
    "\n",
    "dflist = list()\n",
    "for i in range(len(miRNA_GO)):\n",
    "    df = pd.DataFrame(columns=[0, 1, 2])\n",
    "    df[0] = miRNA_GO.T[i].drop(index=[0, 1])\n",
    "    df[1] = miRNA_GO.T[i][0]\n",
    "    df[2] = miRNA_GO.T[i][1]\n",
    "    dflist.append(df)\n",
    "\n",
    "miRNA_GO = pd.DataFrame(columns=[0, 1, 2])\n",
    "for dataframe in dflist:\n",
    "    miRNA_GO = pd.concat([miRNA_GO, dataframe])\n",
    "miRNA_GO = miRNA_GO.dropna()\n",
    "\n",
    "miRNA_GO = pd.merge(miRNA_GO.rename(columns={0: 'a'}), mirna_mirbase_map.rename(columns={2: 'a'}), on='a')\n",
    "miRNA_GO.drop(columns=['a', 1], inplace=True)\n",
    "miRNA_GO['Source(s)'] = 'miRPathDB'\n",
    "miRNA_GO"
   ]
  },
  {
   "cell_type": "code",
   "execution_count": null,
   "metadata": {},
   "outputs": [],
   "source": [
    "miRNA_GO.rename(columns={2:'Biological process',0:'miRNA'},inplace=True)\n",
    "miRNA_GO = miRNA_GO[['miRNA','Biological process','Source(s)']]"
   ]
  },
  {
   "cell_type": "code",
   "execution_count": null,
   "metadata": {},
   "outputs": [],
   "source": [
    "maturemiRNA_GO = miRNA_GO[miRNA_GO['miRNA'].str.startswith('MIMAT')]\n",
    "premiRNA_GO = miRNA_GO[~miRNA_GO['miRNA'].str.startswith('MIMAT')]\n",
    "maturemiRNA_GO.drop_duplicates().to_csv(edge_data_location + 'RmiRNA-GOBP.txt', sep='\\t', index=None)\n",
    "premiRNA_GO.drop_duplicates().to_csv(edge_data_location + 'RpremiRNA-GOBP.txt', sep='\\t', index=None)"
   ]
  },
  {
   "cell_type": "markdown",
   "metadata": {},
   "source": [
    "***\n",
    "### miRNA-cellular component - http://purl.obolibrary.org/obo/RO_0001025 (located in)\n"
   ]
  },
  {
   "cell_type": "markdown",
   "metadata": {},
   "source": [
    "***\n",
    "* [miRPathDB](https://mpd.bioinf.uni-sb.de/overview.html)"
   ]
  },
  {
   "cell_type": "code",
   "execution_count": null,
   "metadata": {},
   "outputs": [],
   "source": [
    "#tar = tarfile.open(unprocessed_data_location+'miRPathDB2_hsa_gmt.tar.gz', 'r:gz')\n",
    "#tar.extractall(unprocessed_data_location)\n",
    "#tar.close()\n",
    "\n",
    "miRNA_GO = pd.read_csv(unprocessed_data_location + 'hsa/GO_CC_validated_miRTarBase_strong.gmt', sep='\\t', header=None, names=range(94))\n",
    "miRNA_GO[0] = miRNA_GO[0].str.lower()\n",
    "miRNA_GO = miRNA_GO.dropna(axis=1, how='all')\n",
    "miRNA_GO = miRNA_GO.drop(columns=[1])\n",
    "miRNA_GO = pd.merge(desc_go_map, miRNA_GO, on=[0])\n",
    "miRNA_GO = miRNA_GO.dropna(axis=1, how='all')\n",
    "\n",
    "dflist = list()\n",
    "for i in range(len(miRNA_GO)):\n",
    "    df = pd.DataFrame(columns=[0, 1, 2])\n",
    "    df[0] = miRNA_GO.T[i].drop(index=[0, 1])\n",
    "    df[1] = miRNA_GO.T[i][0]\n",
    "    df[2] = miRNA_GO.T[i][1]\n",
    "    dflist.append(df)\n",
    "\n",
    "miRNA_GO = pd.DataFrame(columns=[0, 1, 2])\n",
    "for dataframe in dflist:\n",
    "    miRNA_GO = pd.concat([miRNA_GO, dataframe])\n",
    "miRNA_GO = miRNA_GO.dropna()\n",
    "\n",
    "miRNA_GO = pd.merge(miRNA_GO.rename(columns={0: 'a'}), mirna_mirbase_map.rename(columns={2: 'a'}), on='a')\n",
    "miRNA_GO.drop(columns=['a', 1], inplace=True)\n",
    "miRNA_GO['Source(s)'] = 'miRPathDB'\n",
    "miRNA_GO"
   ]
  },
  {
   "cell_type": "code",
   "execution_count": null,
   "metadata": {},
   "outputs": [],
   "source": [
    "miRNA_GO.rename(columns={2:'Cellular component',0:'miRNA'},inplace=True)\n",
    "miRNA_GO = miRNA_GO[['miRNA','Cellular component','Source(s)']]"
   ]
  },
  {
   "cell_type": "code",
   "execution_count": null,
   "metadata": {},
   "outputs": [],
   "source": [
    "maturemiRNA_GO = miRNA_GO[miRNA_GO['miRNA'].str.startswith('MIMAT')]\n",
    "premiRNA_GO = miRNA_GO[~miRNA_GO['miRNA'].str.startswith('MIMAT')]\n",
    "\n",
    "maturemiRNA_GO.drop_duplicates().to_csv(edge_data_location + 'RmiRNA-GOCC.txt', sep='\\t', index=None)\n",
    "premiRNA_GO.drop_duplicates().to_csv(edge_data_location + 'RpremiRNA-GOCC.txt', sep='\\t', index=None)"
   ]
  },
  {
   "cell_type": "markdown",
   "metadata": {},
   "source": [
    "***\n",
    "### miRNA-pathway - http://purl.obolibrary.org/obo/RO_0000056 (participates in)"
   ]
  },
  {
   "cell_type": "markdown",
   "metadata": {},
   "source": [
    "***\n",
    "* [miRPathDB](https://mpd.bioinf.uni-sb.de/overview.html)"
   ]
  },
  {
   "cell_type": "code",
   "execution_count": null,
   "metadata": {},
   "outputs": [],
   "source": [
    "url2 = 'https://raw.githubusercontent.com/ComPath/resources/master/mappings/kegg_reactome.csv'\n",
    "if not os.path.exists(unprocessed_data_location + 'kegg_reactome.csv'):\n",
    "    data_downloader(url2, unprocessed_data_location, 'kegg_reactome.csv')\n",
    "\n",
    "kegg_reactome_map = pd.read_csv(unprocessed_data_location + 'kegg_reactome.csv', header=0, delimiter=',')[['Source Name','Source ID']]\n",
    "kegg_reactome_map.columns=[0,1]\n",
    "kegg_reactome_map"
   ]
  },
  {
   "cell_type": "code",
   "execution_count": null,
   "metadata": {},
   "outputs": [],
   "source": [
    "miRNA_pw = pd.read_csv(unprocessed_data_location + 'hsa/KEGG_validated_miRTarBase_strong.gmt', sep='\\t', header=None, names=range(182))\n",
    "miRNA_pw = miRNA_pw.dropna(axis=1, how='all')\n",
    "miRNA_pw = miRNA_pw.drop(columns=[1])\n",
    "miRNA_pw = pd.merge(kegg_reactome_map, miRNA_pw, on=[0])\n",
    "miRNA_pw = miRNA_pw.dropna(axis=1, how='all')\n",
    "\n",
    "dflist = list()\n",
    "for i in range(len(miRNA_pw)):\n",
    "    df = pd.DataFrame(columns=[0, 1, 2])\n",
    "    df[0] = miRNA_pw.T[i].drop(index=[0, 1])\n",
    "    df[1] = miRNA_pw.T[i][0]\n",
    "    df[2] = miRNA_pw.T[i][1]\n",
    "    dflist.append(df)\n",
    "\n",
    "miRNA_pw = pd.DataFrame(columns=[0, 1, 2])\n",
    "for dataframe in dflist:\n",
    "    miRNA_pw = pd.concat([miRNA_pw, dataframe])\n",
    "miRNA_pw = miRNA_pw.dropna()\n",
    "\n",
    "miRNA_pw = pd.merge(miRNA_pw.rename(columns={0: 'a'}), mirna_mirbase_map.rename(columns={2: 'a'}), on='a')\n",
    "miRNA_pw.drop(columns=['a', 1], inplace=True)\n",
    "miRNA_pw['Source(s)'] = 'miRPathDB'\n",
    "miRNA_pw.head()"
   ]
  },
  {
   "cell_type": "code",
   "execution_count": null,
   "metadata": {},
   "outputs": [],
   "source": [
    "url = 'https://reactome.org/download/current/ReactomePathways.txt'\n",
    "if not os.path.exists(unprocessed_data_location + 'ReactomePathways.txt'):\n",
    "    data_downloader(url, unprocessed_data_location)\n",
    "\n",
    "reactome_pathways = pd.read_csv(unprocessed_data_location + 'ReactomePathways.txt', header=None, delimiter='\\t')\n",
    "# remove all non-human pathways\n",
    "reactome_pathways = reactome_pathways[reactome_pathways[2] == 'Homo sapiens'][[0,1]]\n",
    "reactome_pathways.columns=[1,0]\n",
    "reactome_pathways"
   ]
  },
  {
   "cell_type": "code",
   "execution_count": null,
   "metadata": {},
   "outputs": [],
   "source": [
    "#tar = tarfile.open(unprocessed_data_location+'miRPathDB2_hsa_gmt.tar.gz', 'r:gz')\n",
    "#tar.extractall(unprocessed_data_location)\n",
    "#tar.close()\n",
    "miRNA_pw2 = pd.read_csv(unprocessed_data_location + 'hsa/REACTOME_validated_miRTarBase_strong.gmt', sep='\\t', header=None, names=range(123))\n",
    "miRNA_pw2 = miRNA_pw2.drop(columns=[1])\n",
    "miRNA_pw2 = pd.merge(reactome_pathways, miRNA_pw2, on=[0])\n",
    "miRNA_pw2 = miRNA_pw2.dropna(axis=1, how='all')\n",
    "\n",
    "dflist = list()\n",
    "for i in range(len(miRNA_pw2)):\n",
    "    df = pd.DataFrame(columns=[0, 1, 2])\n",
    "    df[0] = miRNA_pw2.T[i].drop(index=[0, 1])\n",
    "    df[1] = miRNA_pw2.T[i][0]\n",
    "    df[2] = miRNA_pw2.T[i][1]\n",
    "    dflist.append(df)\n",
    "\n",
    "miRNA_pw2 = pd.DataFrame(columns=[0, 1, 2])\n",
    "for dataframe in dflist:\n",
    "    miRNA_pw2 = pd.concat([miRNA_pw2, dataframe])\n",
    "miRNA_pw2 = miRNA_pw2.dropna()\n",
    "\n",
    "miRNA_pw2 = pd.merge(miRNA_pw2.rename(columns={0: 'a'}), mirna_mirbase_map.rename(columns={2: 'a'}), on='a')\n",
    "miRNA_pw2.drop(columns=['a', 1], inplace=True)\n",
    "miRNA_pw2['Source(s)'] = 'miRPathDB'\n",
    "miRNA_pw2"
   ]
  },
  {
   "cell_type": "code",
   "execution_count": null,
   "metadata": {},
   "outputs": [],
   "source": [
    "miRNA_pw = pd.concat([miRNA_pw,miRNA_pw2]).drop_duplicates()\n",
    "\n",
    "maturemiRNA_pw = miRNA_pw[miRNA_pw[0].str.startswith('MIMAT')]\n",
    "premiRNA_pw = miRNA_pw[~miRNA_pw[0].str.startswith('MIMAT')]\n",
    "\n",
    "maturemiRNA_GO.drop_duplicates().to_csv(\n",
    "    edge_data_location + 'RmiRNA-reactome.txt', header=None, sep='\\t', index=None)\n",
    "premiRNA_GO.drop_duplicates().to_csv(\n",
    "    edge_data_location + 'RpremiRNA-reactome.txt', header=None, sep='\\t', index=None)"
   ]
  },
  {
   "cell_type": "code",
   "execution_count": null,
   "metadata": {},
   "outputs": [],
   "source": [
    "url2 = 'https://data.wikipathways.org/current/gmt/wikipathways-20231110-gmt-Homo_sapiens.gmt'\n",
    "if not os.path.exists(unprocessed_data_location + 'wpw_reactome.csv'):\n",
    "    data_downloader(url2, unprocessed_data_location, 'wpw_reactome.csv')\n",
    "\n",
    "desc_wpw_map = pd.read_csv(unprocessed_data_location + 'wpw_reactome.csv', delimiter='\\t', names=range(587))[[0,1]]\n",
    "desc_wpw_map.columns=[0,1]\n",
    "desc_wpw_map[0] = desc_wpw_map[0].str.replace(r'%WikiPathways_.*$', '', regex=True).str.lower()\n",
    "\n",
    "desc_wpw_map"
   ]
  },
  {
   "cell_type": "code",
   "execution_count": null,
   "metadata": {},
   "outputs": [],
   "source": [
    "miRNA_pw = pd.read_csv(unprocessed_data_location + 'hsa/WIKIPATHWAYS_validated_miRTarBase_strong.gmt', sep='\\t', header=None, names=range(148))\n",
    "miRNA_pw[0] = miRNA_pw[0].str.replace('-', ' ').str.lower()\n",
    "miRNA_pw[0] = miRNA_pw[0].str.replace('/', ' ')\n",
    "miRNA_pw[0] = miRNA_pw[0].str.replace(':', ' ')\n",
    "miRNA_pw[0] = miRNA_pw[0].str.replace(r'\\(.*\\)', '', regex=True)\n",
    "miRNA_pw"
   ]
  },
  {
   "cell_type": "code",
   "execution_count": null,
   "metadata": {},
   "outputs": [],
   "source": [
    "miRNA_pw = miRNA_pw.dropna(axis=1, how='all')\n",
    "miRNA_pw = miRNA_pw.drop(columns=[1])\n",
    "miRNA_pw = pd.merge(desc_wpw_map, miRNA_pw, on=[0])\n",
    "miRNA_pw = miRNA_pw.dropna(axis=1, how='all')\n",
    "\n",
    "dflist = list()\n",
    "for i in range(len(miRNA_pw)):\n",
    "    df = pd.DataFrame(columns=[0, 1, 2])\n",
    "    df[0] = miRNA_pw.T[i].drop(index=[0, 1])\n",
    "    df[1] = miRNA_pw.T[i][0]\n",
    "    df[2] = miRNA_pw.T[i][1]\n",
    "    dflist.append(df)\n",
    "\n",
    "miRNA_pw = pd.DataFrame(columns=[0, 1, 2])\n",
    "for dataframe in dflist:\n",
    "    miRNA_pw = pd.concat([miRNA_pw, dataframe])\n",
    "miRNA_pw = miRNA_pw.dropna()\n",
    "\n",
    "miRNA_pw = pd.merge(miRNA_pw.rename(columns={0: 'a'}), mirna_mirbase_map.rename(columns={2: 'a'}), on='a')\n",
    "miRNA_pw.drop(columns=['a', 1], inplace=True)\n",
    "miRNA_pw['Source(s)'] = 'miRPathDB'\n",
    "miRNA_pw.head()"
   ]
  },
  {
   "cell_type": "code",
   "execution_count": null,
   "metadata": {},
   "outputs": [],
   "source": [
    "miRNA_pw.rename(columns={2:'Pathway',0:'miRNA'},inplace=True)\n",
    "miRNA_pw = miRNA_pw[['miRNA','Pathway','Source(s)']]"
   ]
  },
  {
   "cell_type": "code",
   "execution_count": null,
   "metadata": {},
   "outputs": [],
   "source": [
    "maturemiRNA_pw = miRNA_pw[miRNA_pw['miRNA'].str.startswith('MIMAT')]\n",
    "premiRNA_pw = miRNA_pw[~miRNA_pw['miRNA'].str.startswith('MIMAT')]\n",
    "\n",
    "maturemiRNA_pw.drop_duplicates().to_csv(edge_data_location + 'RmiRNA-pw.txt', sep='\\t', index=None)\n",
    "premiRNA_pw.drop_duplicates().to_csv(edge_data_location + 'RpremiRNA-pw.txt', sep='\\t', index=None)"
   ]
  },
  {
   "cell_type": "markdown",
   "metadata": {},
   "source": [
    "***\n",
    "### premiRNA-premiRNA - http://purl.obolibrary.org/obo/RO_0002434 (interacts with)"
   ]
  },
  {
   "cell_type": "markdown",
   "metadata": {},
   "source": [
    "* [TAM](http://www.lirmed.com/tam2/)"
   ]
  },
  {
   "cell_type": "code",
   "execution_count": null,
   "metadata": {},
   "outputs": [],
   "source": [
    "#TAM = pd.read_csv('http://www.lirmed.com/tam2/Public/static/data/mirset_v9.txt', sep='\\t',names=range(500))\n",
    "#TAM=TAM.dropna(axis=1, how='all')\n",
    "miRNA_miRNA=pd.concat([TAM[(TAM[0].str.contains(\"luster\"))],TAM[TAM[0].str.contains(\"amily\")]])\n",
    "miRNA_miRNA[1] = miRNA_miRNA[1].str.lower()\n",
    "miRNA_miRNA=miRNA_miRNA.dropna(axis=1, how='all')\n",
    "miRNA_miRNA=miRNA_miRNA.drop(columns=[0,1])\n",
    "miRNA_miRNA['merged'] = miRNA_miRNA[miRNA_miRNA.columns[1:]].apply(\n",
    "    lambda x: ','.join(x.dropna().astype(str)),\n",
    "    axis=1\n",
    ")\n",
    "miRNA_miRNA=miRNA_miRNA[[2,'merged']]\n",
    "\n",
    "miRNA_miRNA['merged'] = miRNA_miRNA.merged.str.split(',')\n",
    "miRNA_miRNA = miRNA_miRNA.explode('merged')\n",
    "miRNA_miRNA"
   ]
  },
  {
   "cell_type": "code",
   "execution_count": null,
   "metadata": {},
   "outputs": [],
   "source": [
    "miRNA_miRNA['merged'] = miRNA_miRNA.merged.str.split(',')\n",
    "miRNA_miRNA = miRNA_miRNA.explode('merged')\n",
    "miRNA_miRNA['Source(s)'] = 'TAM'\n",
    "miRNA_miRNA"
   ]
  },
  {
   "cell_type": "code",
   "execution_count": null,
   "metadata": {},
   "outputs": [],
   "source": [
    "miRNA_miRNA = pd.merge(mirna_mirbase_map.rename(columns={2: 'merged'}), miRNA_miRNA, on='merged')\n",
    "miRNA_miRNA = pd.merge(mirna_mirbase_map, miRNA_miRNA, on=2)\n",
    "miRNA_miRNA.drop(columns=[2,'merged'], inplace=True)\n",
    "miRNA_miRNA = miRNA_miRNA[~miRNA_miRNA['0_y'].str.startswith('MIMAT')]\n",
    "miRNA_miRNA"
   ]
  },
  {
   "cell_type": "code",
   "execution_count": null,
   "metadata": {},
   "outputs": [],
   "source": [
    "miRNA_miRNA.rename(columns={'0_x':'miRNA1','0_y':'miRNA2'},inplace=True)"
   ]
  },
  {
   "cell_type": "code",
   "execution_count": null,
   "metadata": {},
   "outputs": [],
   "source": [
    "miRNA_miRNA.drop_duplicates().to_csv(edge_data_location + 'RpremiRNA-premiRNA.txt', sep='\\t', index=None)"
   ]
  },
  {
   "cell_type": "markdown",
   "metadata": {},
   "source": [
    "***\n",
    "### miRNA-anatomy - http://purl.obolibrary.org/obo/RO_0001025 (located in)"
   ]
  },
  {
   "cell_type": "markdown",
   "metadata": {},
   "source": [
    "* [TAM](http://www.lirmed.com/tam2/)"
   ]
  },
  {
   "cell_type": "code",
   "execution_count": null,
   "metadata": {},
   "outputs": [],
   "source": [
    "miRNA_anatomy = TAM[(TAM[0].str.contains(\"TissueSpecific\"))]\n",
    "miRNA_anatomy=miRNA_anatomy.drop(columns=[0])\n",
    "miRNA_anatomy=miRNA_anatomy.dropna(axis=1, how='all')\n",
    "miRNA_anatomy=pd.concat([miRNA_anatomy,miRNA_anatomy.loc[1236].to_frame().T])\n",
    "miRNA_anatomy=miRNA_anatomy.reset_index(drop=True)\n",
    "miRNA_anatomy.iloc[(3)][1] = \"Heart\"\n",
    "miRNA_anatomy.iloc[(6)][1] = \"Muscle\"\n",
    "miRNA_anatomy"
   ]
  },
  {
   "cell_type": "code",
   "execution_count": null,
   "metadata": {},
   "outputs": [],
   "source": [
    "miRNA_anatomy['merged'] = miRNA_anatomy[miRNA_anatomy.columns[1:]].apply(\n",
    "    lambda x: ','.join(x.dropna().astype(str)),\n",
    "    axis=1\n",
    ")\n",
    "miRNA_anatomy['Uberon'] = ['UBERON_0002369', 'UBERON_0000955', 'UBERON_0001155',\n",
    "                           'UBERON_0002349', 'UBERON_0001150', 'UBERON_0001987', 'UBERON_0001630']\n",
    "miRNA_anatomy=miRNA_anatomy[[1,'Uberon','merged']]\n",
    "miRNA_anatomy['merged'] = miRNA_anatomy.merged.str.split(',')\n",
    "miRNA_anatomy = miRNA_anatomy.explode('merged')\n",
    "miRNA_anatomy['Source(s)'] = 'TAM'\n",
    "miRNA_anatomy"
   ]
  },
  {
   "cell_type": "code",
   "execution_count": null,
   "metadata": {},
   "outputs": [],
   "source": [
    "miRNA_anatomy = pd.merge(mirna_mirbase_map.rename(columns={2: 'merged'}), miRNA_anatomy, on='merged')\n",
    "miRNA_anatomy.drop(columns=[1,'merged'], inplace=True)\n",
    "miRNA_anatomy"
   ]
  },
  {
   "cell_type": "code",
   "execution_count": null,
   "metadata": {},
   "outputs": [],
   "source": [
    "miRNA_anatomy.rename(columns={0:'miRNA','Uberon':'Anatomy'},inplace=True)"
   ]
  },
  {
   "cell_type": "code",
   "execution_count": null,
   "metadata": {},
   "outputs": [],
   "source": [
    "miRNA_anatomy.drop_duplicates().to_csv(edge_data_location + 'RpremiRNA-anatomy.txt', sep='\\t', index=None)"
   ]
  },
  {
   "cell_type": "markdown",
   "metadata": {},
   "source": [
    "***\n",
    "### miRNA-chemical - http://purl.obolibrary.org/obo/RO_0002434 (interacts with)"
   ]
  },
  {
   "cell_type": "markdown",
   "metadata": {},
   "source": [
    "* [SM2miR](http://www.jianglab.cn/SM2miR/) <br /> SM2miR is a manual curated database which collects and incorporates the experimentally validated small molecules' effects on miRNA expression from the published papers. Each entry contains the detailed information about small molecules, miRNAs and their relationships."
   ]
  },
  {
   "cell_type": "code",
   "execution_count": null,
   "metadata": {},
   "outputs": [],
   "source": [
    "data_downloader('http://www.jianglab.cn/SM2miR/files/SM2miR3.xls', unprocessed_data_location)"
   ]
  },
  {
   "cell_type": "code",
   "execution_count": null,
   "metadata": {
    "scrolled": true
   },
   "outputs": [],
   "source": [
    "miRNA_chemical = pd.read_excel(unprocessed_data_location + 'SM2miR3.xls')  \n",
    "miRNA_chemical = miRNA_chemical[miRNA_chemical['Species'].str.contains('sapiens')]\n",
    "miRNA_chemical"
   ]
  },
  {
   "cell_type": "code",
   "execution_count": null,
   "metadata": {},
   "outputs": [],
   "source": [
    "miRNA_chemical['small melocule'] = miRNA_chemical['small melocule'].str.lower().str.replace(\"\\(.*?\\)| \\(.*?\\)\", '').str.rstrip()\n",
    "\n",
    "miRNA_chemical['small melocule'] = miRNA_chemical['small melocule'].str.split('+')\n",
    "miRNA_chemical = miRNA_chemical.explode('small melocule')\n",
    "miRNA_chemical['small melocule'] = miRNA_chemical['small melocule'].str.rstrip().str.lstrip()\n",
    "\n",
    "miRNA_chemical = pd.merge(miRNA_chemical, desc_chebi_map, left_on=['small melocule'], right_on=[0])\n",
    "\n",
    "miRNA_chemical=miRNA_chemical.drop(columns=['miRNA','small melocule','FDA','DB','CID','Species','Year','Reference',0])\n",
    "miRNA_chemical['Source(s)'] = 'SM2miR'\n",
    "miRNA_chemical"
   ]
  },
  {
   "cell_type": "markdown",
   "metadata": {},
   "source": [
    "***\n",
    "* [miRNet](https://www.mirnet.ca/miRNet/)"
   ]
  },
  {
   "cell_type": "code",
   "execution_count": null,
   "metadata": {},
   "outputs": [],
   "source": [
    "! wget https://www.dropbox.com/s/abaeonmjpftbspx/miRNet-mir-mol-hsa.csv?dl=0"
   ]
  },
  {
   "cell_type": "code",
   "execution_count": null,
   "metadata": {},
   "outputs": [],
   "source": [
    "miRNA_chemical2 = pd.read_csv(unprocessed_data_location + 'miRNet-mir-mol-hsa.csv?dl=0')\n",
    "miRNA_chemical2.molecule=miRNA_chemical2.molecule.str.lower()\n",
    "miRNA_chemical2=miRNA_chemical2.drop(columns=['mirnet','mir_id','drug_bank','pubchem_id'])\n",
    "miRNA_chemical2"
   ]
  },
  {
   "cell_type": "code",
   "execution_count": null,
   "metadata": {},
   "outputs": [],
   "source": [
    "miRNA_chemical2 = pd.merge(miRNA_chemical2, desc_chebi_map, left_on=['molecule'], right_on=[0]).drop(columns=[0,'molecule'])\n",
    "miRNA_chemical2['Source(s)'] = 'miRNet'\n",
    "miRNA_chemical2"
   ]
  },
  {
   "cell_type": "code",
   "execution_count": null,
   "metadata": {},
   "outputs": [],
   "source": [
    "miRNA_chemical=pd.merge(miRNA_chemical, miRNA_chemical2, how='outer', left_on=['miRBase',1], right_on = ['mir_acc',1])\n",
    "\n",
    "miRNA_chemical['Source(s)_x'] = miRNA_chemical['Source(s)_x'].astype(str)\n",
    "miRNA_chemical['Source(s)_y'] = miRNA_chemical['Source(s)_y'].astype(str)\n",
    "miRNA_chemical['Source(s)'] = miRNA_chemical['Source(s)_x'] + '|' + miRNA_chemical['Source(s)_y']\n",
    "miRNA_chemical = miRNA_chemical.drop(columns=['Source(s)_x', 'Source(s)_y'])\n",
    "\n",
    "miRNA_chemical"
   ]
  },
  {
   "cell_type": "code",
   "execution_count": null,
   "metadata": {},
   "outputs": [],
   "source": [
    "miRNA_chemical['miRBase'].fillna(miRNA_chemical['mir_acc'], inplace=True)\n",
    "miRNA_chemical['mir_acc'].fillna(miRNA_chemical['miRBase'], inplace=True)\n",
    "\n",
    "miRNA_chemical_old=miRNA_chemical.copy()"
   ]
  },
  {
   "cell_type": "markdown",
   "metadata": {},
   "source": [
    "***\n",
    "* [miRandola](http://mirandola.iit.cnr.it/index.php)"
   ]
  },
  {
   "cell_type": "code",
   "execution_count": null,
   "metadata": {},
   "outputs": [],
   "source": [
    "drug_list=['aspirin','bevacizumab','clopidogrel',\n",
    "           'conventional%20synthetic%20disease-modifying%20antirheumatic%20drugs%20(cs-dmards)',\n",
    "           'docetaxel', 'epirubicin%20plus%20paclitaxel','fluorouracil%20(5-fu)','gemcitabine',\n",
    "           'hypomethylating%20agents%20(hmas)','lapatinib','lithium','mercury','n-acetyl%20cysteine%20(nac)',\n",
    "           'paracetamol','platinum','praziquantel%20(pzq)','sorafenib','testosterone',\n",
    "           'transarterial%20chemoembolization%20(tace)','trastuzumab','xuezhikang'\n",
    "          ]\n",
    "miRNA_chemical_mirandola=[]\n",
    "for drug in drug_list:\n",
    "    miRNA_chemical = pd.read_html('http://mirandola.iit.cnr.it/view_drug.php?LV='+drug)\n",
    "    for miRNA in range(len(miRNA_chemical)):\n",
    "        miRNA_chemical = pd.read_html('http://mirandola.iit.cnr.it/view_drug.php?LV='+drug,header=0)[miRNA]\n",
    "        miRNA_chemical = miRNA_chemical.T\n",
    "        miRNA_chemical.columns = miRNA_chemical.iloc[0]\n",
    "        miRNA_chemical = miRNA_chemical.drop(index=miRNA_chemical.iloc[0].name)\n",
    "        miRNA_chemical = miRNA_chemical.drop(index=miRNA_chemical.iloc[1].name)\n",
    "        miRNA_chemical = miRNA_chemical.drop(miRNA_chemical.iloc[:, :16],axis = 1)\n",
    "        miRNA_chemical_mirandola.append(miRNA_chemical) \n",
    "\n",
    "miRNA_chemical_mirandola = pd.concat(miRNA_chemical_mirandola)\n",
    "miRNA_chemical_mirandola=miRNA_chemical_mirandola.drop(columns=['RNA from literature','RNA class', 'miRBase ID',\n",
    "                                                                'miRBase family', 'Organism','First Author','Journal',\n",
    "                                                                'Title','Year of publication','Data imported from external databases?'])\n",
    "miRNA_chemical_mirandola        "
   ]
  },
  {
   "cell_type": "code",
   "execution_count": null,
   "metadata": {},
   "outputs": [],
   "source": [
    "miRNA_chemical_mirandola = miRNA_chemical_mirandola.reset_index(drop=True)\n",
    "miRNA_chemical_mirandola = pd.merge(miRNA_chemical_mirandola, desc_chebi_map, left_on=['Drug'], right_on=[0]).drop(columns=[0])\n",
    "miRNA_chemical_mirandola['Source(s)'] = 'miRandola'\n",
    "miRNA_chemical_mirandola"
   ]
  },
  {
   "cell_type": "code",
   "execution_count": null,
   "metadata": {},
   "outputs": [],
   "source": [
    "miRNA_chemical=pd.merge(miRNA_chemical_old, miRNA_chemical_mirandola, how='outer', left_on=['mir_acc',1], right_on = ['miRBase Accession',1])\n",
    "miRNA_chemical['mir_acc'].fillna(miRNA_chemical['miRBase Accession'], inplace=True)\n",
    "miRNA_chemical['miRBase Accession'].fillna(miRNA_chemical['mir_acc'], inplace=True)\n",
    "\n",
    "miRNA_chemical['Source(s)_x'] = miRNA_chemical['Source(s)_x'].astype(str)\n",
    "miRNA_chemical['Source(s)_y'] = miRNA_chemical['Source(s)_y'].astype(str)\n",
    "miRNA_chemical['Source(s)'] = miRNA_chemical['Source(s)_x'] + '|' + miRNA_chemical['Source(s)_y']\n",
    "miRNA_chemical = miRNA_chemical.drop(columns=['Source(s)_x', 'Source(s)_y', 'mir_acc', 'miRBase', 'Drug'])\n",
    "\n",
    "miRNA_chemical['Source(s)'] = miRNA_chemical['Source(s)'].str.replace('nan\\||\\|nan', '', regex=True)\n",
    "miRNA_chemical"
   ]
  },
  {
   "cell_type": "markdown",
   "metadata": {},
   "source": [
    "Manual fix."
   ]
  },
  {
   "cell_type": "code",
   "execution_count": null,
   "metadata": {},
   "outputs": [],
   "source": [
    "miRNA_chemical['Condition'] = miRNA_chemical['Condition'].astype(str)\n",
    "miRNA_chemical['condition'] = miRNA_chemical['condition'].astype(str)\n",
    "miRNA_chemical['Condition'].fillna(miRNA_chemical['condition'], inplace=True)\n",
    "miRNA_chemical.loc[(~miRNA_chemical['Condition'].isna()) & (~miRNA_chemical['condition'].isna()) &\n",
    "                   (miRNA_chemical['Condition'] != miRNA_chemical['condition']),\n",
    "                   [\"Condition\"]] = miRNA_chemical[\"Condition\"\n",
    "                                                  ].astype(str) + '|' + miRNA_chemical['condition'].astype(str)\n",
    "\n",
    "miRNA_chemical['expression'] = miRNA_chemical['expression'].str.replace('up-regulated', 'http://purl.obolibrary.org/obo/OMIT_0016489 (up-regulation)')\n",
    "miRNA_chemical['expression'] = miRNA_chemical['expression'].str.replace('down-regulated', 'http://purl.obolibrary.org/obo/OMIT_0016265 (down-regulation)')\n",
    "miRNA_chemical['expression'] = miRNA_chemical['expression'].str.replace('up-regualted', 'http://purl.obolibrary.org/obo/OMIT_0016489 (up-regulation)')\n",
    "miRNA_chemical['expression'] = miRNA_chemical['expression'].str.replace('down-regualted', 'http://purl.obolibrary.org/obo/OMIT_0016265 (down-regulation)')\n",
    "miRNA_chemical['Expression'] = miRNA_chemical['Expression'].str.replace('up', 'http://purl.obolibrary.org/obo/OMIT_0016489 (up-regulation)')\n",
    "miRNA_chemical['Expression'] = miRNA_chemical['Expression'].str.replace('down', 'http://purl.obolibrary.org/obo/OMIT_0016265 (down-regulation)')\n",
    "miRNA_chemical['expression'] = miRNA_chemical['expression'].astype(str)\n",
    "miRNA_chemical['Expression pattern of miRNA'] = miRNA_chemical['Expression pattern of miRNA'].astype(str)\n",
    "miRNA_chemical['expression'].fillna(miRNA_chemical['Expression pattern of miRNA'], inplace=True)\n",
    "miRNA_chemical.loc[(~miRNA_chemical['expression'].isna()) & (~miRNA_chemical['Expression pattern of miRNA'].isna()) &\n",
    "                   (miRNA_chemical['expression'] != miRNA_chemical['Expression pattern of miRNA']),\n",
    "                   [\"expression\"]] = miRNA_chemical[\"expression\"\n",
    "                                                   ].astype(str) + '|' + miRNA_chemical['Expression pattern of miRNA'].astype(str)\n",
    "\n",
    "miRNA_chemical['Expression'] = miRNA_chemical['Expression'].astype(str)\n",
    "miRNA_chemical['expression'].fillna(miRNA_chemical['Expression'], inplace=True)\n",
    "miRNA_chemical.loc[(~miRNA_chemical['expression'].isna()) & (~miRNA_chemical['Expression'].isna()) &\n",
    "                   (miRNA_chemical['expression'] != miRNA_chemical['Expression']),\n",
    "                   [\"expression\"]] = miRNA_chemical[\"expression\"\n",
    "                                                   ].astype(str) + '|' + miRNA_chemical['Expression'].astype(str)\n",
    "\n",
    "miRNA_chemical['PMID'] = miRNA_chemical['PMID'].astype('Int64').astype(str)\n",
    "miRNA_chemical['PubMed ID'] = miRNA_chemical['PubMed ID'].astype('Int64').astype(str)\n",
    "miRNA_chemical['PMID'].fillna(miRNA_chemical['PubMed ID'], inplace=True)\n",
    "miRNA_chemical.loc[(miRNA_chemical['PMID'] != '<NA>') & (miRNA_chemical['PubMed ID'] != '<NA>') &\n",
    "                   (miRNA_chemical['PMID'] != miRNA_chemical['PubMed ID']),\n",
    "                   [\"PMID\"]] = miRNA_chemical[\"PMID\"].astype(str) + '|' + miRNA_chemical['PubMed ID'].astype(str)\n",
    "\n",
    "miRNA_chemical['pmid'] = miRNA_chemical['pmid'].astype('Int64').astype(str)\n",
    "miRNA_chemical['PMID'].fillna(miRNA_chemical['pmid'], inplace=True)\n",
    "miRNA_chemical.loc[(miRNA_chemical['PMID'] != '<NA>') & (miRNA_chemical['pmid'] != '<NA>') &\n",
    "                   (miRNA_chemical['PMID'] != miRNA_chemical['pmid']),\n",
    "                   [\"PMID\"]] = miRNA_chemical[\"PMID\"].astype(str) + '|' + miRNA_chemical['pmid'].astype(str)\n",
    "\n",
    "miRNA_chemical['PMID'] = 'https://pubmed.ncbi.nlm.nih.gov/' + miRNA_chemical['PMID'].astype('Int64', errors='ignore').astype('str')\n",
    "miRNA_chemical['PMID'] = miRNA_chemical['PMID'].str.replace(\".0\", '', regex=True)\n",
    "miRNA_chemical['PMID'] = miRNA_chemical['PMID'].replace('https://pubmed.ncbi.nlm.nih.gov/<NA>', np.nan)\n",
    "\n",
    "miRNA_chemical = miRNA_chemical.drop(columns=['condition', 'Expression pattern of miRNA',\n",
    "                                              'pmid', 'PubMed ID', 'Expression'])\n",
    "\n",
    "miRNA_chemical['Detection method '] = miRNA_chemical['Detection method '].str.replace('nan\\||\\|nan', '', regex=True)\n",
    "miRNA_chemical['PMID'] = miRNA_chemical['PMID'].replace('<NA>', np.nan)\n",
    "\n",
    "miRNA_chemical['Sample'] = miRNA_chemical['Sample'].str.replace('serum',\n",
    "                                                                'http://purl.obolibrary.org/obo/BTO_0001239 (serum)')\n",
    "miRNA_chemical['Sample'] = miRNA_chemical['Sample'].str.replace('plasma',\n",
    "                                                                'http://purl.obolibrary.org/obo/ENVO_01000798 (plasma)')\n",
    "miRNA_chemical['Sample'] = miRNA_chemical['Sample'].str.replace('culture medium',\n",
    "                                                                'http://purl.obolibrary.org/obo/OBI_0000079 (culture medium)')\n",
    "\n",
    "miRNA_chemical['exRNA form'] = miRNA_chemical['exRNA form'].str.replace('microvesicle',\n",
    "                                                                        'http://purl.obolibrary.org/obo/GO_1990742 (microvescicle)')\n",
    "\n",
    "miRNA_chemical['Sample source'] = miRNA_chemical['Sample source'].replace('-',np.nan)\n",
    "miRNA_chemical['Sample source'] = miRNA_chemical['Sample source'].str.replace('hepg2|plc-prf5',\n",
    "                                                                              'http://www.ebi.ac.uk/efo/EFO_0001187 (hepg2)|plc-prf5')\n",
    "\n",
    "miRNA_chemical['Diseases, Cell Lines or normal status'] = miRNA_chemical['Diseases, Cell Lines or normal status'\n",
    "                                                                        ].str.replace('pancreatic ductal adenocarcinoma (pdac)',\n",
    "                                                                                      'http://purl.obolibrary.org/obo/MONDO_0005184 (pancreatic ductal adenocarcinoma)')\n",
    "miRNA_chemical['Diseases, Cell Lines or normal status'] = miRNA_chemical['Diseases, Cell Lines or normal status'\n",
    "                                                                        ].str.replace('troponin-negative non-st elevation acute coronary syndrome (nste-acs)',\n",
    "                                                                                      'http://purl.obolibrary.org/obo/MONDO_0005542 (acute coronary syndrome)')\n",
    "miRNA_chemical['Diseases, Cell Lines or normal status'] = miRNA_chemical['Diseases, Cell Lines or normal status'\n",
    "                                                                        ].str.replace('Breast cancer',\n",
    "                                                                                      'http://purl.obolibrary.org/obo/MONDO_0007254 (breast cancer)')\n",
    "miRNA_chemical['Diseases, Cell Lines or normal status'] = miRNA_chemical['Diseases, Cell Lines or normal status'\n",
    "                                                                        ].str.replace('Acute liver failure',\n",
    "                                                                                      'http://purl.obolibrary.org/obo/MONDO_0019542 (acute liver failure)')\n",
    "miRNA_chemical['Diseases, Cell Lines or normal status'] = miRNA_chemical['Diseases, Cell Lines or normal status'\n",
    "                                                                        ].str.replace('non small cell lung cancer (nsclc)',\n",
    "                                                                                      'http://purl.obolibrary.org/obo/MONDO_0005233 (non-small cell lung carcinoma)')\n",
    "miRNA_chemical['Diseases, Cell Lines or normal status'] = miRNA_chemical['Diseases, Cell Lines or normal status'\n",
    "                                                                        ].str.replace('hepatocellular carcinoma (hcc)',\n",
    "                                                                                      'http://purl.obolibrary.org/obo/MONDO_0007256 (hepatocellular carcinoma)')\n",
    "\n",
    "miRNA_chemical['Condition'] = miRNA_chemical['Condition'].str.replace('nan\\||\\|nan', '', regex=True)\n",
    "\n",
    "miRNA_chemical"
   ]
  },
  {
   "cell_type": "markdown",
   "metadata": {},
   "source": [
    "- Detection method."
   ]
  },
  {
   "cell_type": "code",
   "execution_count": null,
   "metadata": {},
   "outputs": [],
   "source": [
    "miRNA_chemical['Detection method '] = miRNA_chemical['Detection method '].str.lower()\n",
    "miRNA_chemical['method'] = miRNA_chemical['method'].str.lower()\n",
    "miRNA_chemical['Methods'] = miRNA_chemical['Methods'].str.lower()\n",
    "miRNA_chemical['Detection method '] = miRNA_chemical['Detection method '].str.replace('quantitative real-time pcr', 'http://purl.obolibrary.org/obo/NCIT_C28408 (quantitative reverse transcriptase pcr)')\n",
    "miRNA_chemical['Detection method '] = miRNA_chemical['Detection method '].str.replace('qrt-pcr', 'http://purl.obolibrary.org/obo/NCIT_C28408 (quantitative reverse transcriptase pcr)')\n",
    "miRNA_chemical['method'] = miRNA_chemical['method'].str.replace('quantitative real-time pcr', 'http://purl.obolibrary.org/obo/NCIT_C28408 (quantitative reverse transcriptase pcr)')\n",
    "miRNA_chemical['method'] = miRNA_chemical['method'].str.replace('qrt-pcr', 'http://purl.obolibrary.org/obo/NCIT_C28408 (quantitative reverse transcriptase pcr)')\n",
    "miRNA_chemical['Methods'] = miRNA_chemical['Methods'].str.replace('real-time rt-pcr', 'http://purl.obolibrary.org/obo/NCIT_C28408 (quantitative reverse transcriptase pcr)')\n",
    "miRNA_chemical['Methods'] = miRNA_chemical['Methods'].str.replace('qrt-pcr', 'http://purl.obolibrary.org/obo/NCIT_C28408 (quantitative reverse transcriptase pcr)')\n",
    "\n",
    "miRNA_chemical['Detection method '] = miRNA_chemical['Detection method '].astype(str)\n",
    "miRNA_chemical['method'] = miRNA_chemical['method'].astype(str)\n",
    "miRNA_chemical['Detection method '].fillna(miRNA_chemical['method'], inplace=True)\n",
    "miRNA_chemical.loc[(~miRNA_chemical['Detection method '].isna()) & (~miRNA_chemical['method'].isna()) &\n",
    "                   (miRNA_chemical['Detection method '] != miRNA_chemical['method']),\n",
    "                   [\"Detection method \"]] = miRNA_chemical[\"Detection method \"\n",
    "                                                         ].astype(str) + '|' + miRNA_chemical['method'].astype(str)\n",
    "\n",
    "miRNA_chemical['Detection method '] = miRNA_chemical['Detection method '].astype(str)\n",
    "miRNA_chemical['Methods'] = miRNA_chemical['Methods'].astype(str)\n",
    "miRNA_chemical['Detection method '].fillna(miRNA_chemical['Methods'], inplace=True)\n",
    "miRNA_chemical.loc[(~miRNA_chemical['Detection method '].isna()) & (~miRNA_chemical['Methods'].isna()) &\n",
    "                   (miRNA_chemical['Detection method '] != miRNA_chemical['Methods']),\n",
    "                   [\"Detection method \"]] = miRNA_chemical[\"Detection method \"\n",
    "                                                         ].astype(str) + '|' + miRNA_chemical['Methods'].astype(str)\n",
    "\n",
    "miRNA_chemical['Detection method '] = [replace_with_ncit(item) for item in miRNA_chemical['Detection method ']]\n",
    "miRNA_chemical['Detection method '].unique()[:5]"
   ]
  },
  {
   "cell_type": "markdown",
   "metadata": {},
   "source": [
    "- Condition"
   ]
  },
  {
   "cell_type": "code",
   "execution_count": null,
   "metadata": {},
   "outputs": [],
   "source": [
    "miRNA_chemical['Condition'] = miRNA_chemical['Condition'].str.replace(r's$', '', regex=True)\n",
    "miRNA_chemical['Condition'] = miRNA_chemical['Condition'].str.replace(r's|', '', regex=True)\n",
    "miRNA_chemical['Condition'] = miRNA_chemical['Condition'].str.replace(', ', '|')\n",
    "miRNA_chemical['Condition'] = miRNA_chemical['Condition'].str.replace('- ', '-')\n",
    "miRNA_chemical['Condition'] = miRNA_chemical['Condition'].str.lower()\n",
    "miRNA_chemical['Condition'] = [replace_with_clo(item) for item in miRNA_chemical['Condition']]\n",
    "miRNA_chemical['Condition'] = [replace_with_clo2(item) for item in miRNA_chemical['Condition']]\n",
    "miRNA_chemical['Condition'] = [replace_with_ncit(item) for item in miRNA_chemical['Condition']]\n",
    "miRNA_chemical['Condition'].unique()[:5]"
   ]
  },
  {
   "cell_type": "code",
   "execution_count": null,
   "metadata": {},
   "outputs": [],
   "source": [
    "miRNA_chemical.rename(columns={'Detection method ':'Detection method','PMID':'References (PMID)', 1:'Chemical',\n",
    "                               'method':'Method','expression':'Expression','miRBase Accession':'miRNA'},inplace=True) \n",
    "miRNA_chemical.insert(1,'miRNA',miRNA_chemical.pop('miRNA'))\n",
    "miRNA_chemical.insert(0,'Chemical',miRNA_chemical.pop('Chemical'))"
   ]
  },
  {
   "cell_type": "code",
   "execution_count": null,
   "metadata": {},
   "outputs": [],
   "source": [
    "merge_rows(miRNA_chemical,'Chemical','miRNA').to_csv(edge_data_location + 'Rchemical-miRNA.txt', sep='\\t', index=None)"
   ]
  },
  {
   "cell_type": "markdown",
   "metadata": {},
   "source": [
    "***\n",
    "### gRNA-gene - http://purl.obolibrary.org/obo/RO_0011007 (decreases by repression quantity of)"
   ]
  },
  {
   "cell_type": "markdown",
   "metadata": {},
   "source": [
    "* [Addgene](https://www.addgene.org/)"
   ]
  },
  {
   "cell_type": "code",
   "execution_count": null,
   "metadata": {},
   "outputs": [],
   "source": [
    "# copy-paste from https://www.addgene.org/crispr/reference/grna-sequence/#datatable\n",
    "gRNA_gene = pd.read_csv(unprocessed_data_location + 'grna_sequences_addgene.txt', sep='\\t', dtype = {\"Plasmid ID\":str})  \n",
    "gRNA_gene.columns=gRNA_gene.columns.str.rstrip()\n",
    "gRNA_gene = gRNA_gene[gRNA_gene['Target Species'].notna()]\n",
    "gRNA_gene = gRNA_gene[gRNA_gene['Target Species'].str.contains('apiens')]\n",
    "gRNA_gene = gRNA_gene[~gRNA_gene['Plasmid ID'].isna()]\n",
    "gRNA_gene['Plasmid ID'] = 'www.addgene.org/'+gRNA_gene['Plasmid ID'].astype('Int64').astype(str).str.rstrip()\n",
    "gRNA_gene['Target Gene'] = gRNA_gene['Target Gene'].str.upper().astype(str).str.rstrip()\n",
    "\n",
    "gRNA_gene.drop(columns=['Target Species','Cas9 Species','Depositor'],inplace=True)\n",
    "gRNA_gene"
   ]
  },
  {
   "cell_type": "code",
   "execution_count": null,
   "metadata": {},
   "outputs": [],
   "source": [
    "gRNA_gene = pd.merge(gRNA_gene, symbol_entrez_map[['0_x','0_y']].rename(columns={\"0_x\": \"Target Gene\"}), on='Target Gene').drop(columns=['Target Gene'])\n",
    "gRNA_gene.insert(0,'0_y',gRNA_gene.pop('0_y'))\n",
    "gRNA_gene.insert(0,'Plasmid ID',gRNA_gene.pop('Plasmid ID'))\n",
    "\n",
    "gRNA_gene['Source(s)'] = 'Addgene'\n",
    "\n",
    "gRNA_gene"
   ]
  },
  {
   "cell_type": "code",
   "execution_count": null,
   "metadata": {},
   "outputs": [],
   "source": [
    "gRNA_gene.Application = gRNA_gene.Application.str.replace(' $', '', regex=True)\n",
    "gRNA_gene.Application.unique()"
   ]
  },
  {
   "cell_type": "code",
   "execution_count": null,
   "metadata": {},
   "outputs": [],
   "source": [
    "gRNA_gene['Target Sequence'] = gRNA_gene['Target Sequence'].str.replace(' $', '', regex=True)\n",
    "gRNA_gene['Target Sequence'] = gRNA_gene['Target Sequence'].str.replace('gRNA1: ', '')\n",
    "gRNA_gene['Target Sequence'] = gRNA_gene['Target Sequence'].str.replace('gRNA1:', '')\n",
    "gRNA_gene['Target Sequence'] = gRNA_gene['Target Sequence'].str.replace(', gRNA2', '|')\n",
    "gRNA_gene['Target Sequence'] = gRNA_gene['Target Sequence'].str.replace(r'; gRNA2:\\s*', '|', regex=True)\n",
    "gRNA_gene['Target Sequence'].unique()"
   ]
  },
  {
   "cell_type": "code",
   "execution_count": null,
   "metadata": {},
   "outputs": [],
   "source": [
    "gRNA_gene['PubMed ID'] = 'https://pubmed.ncbi.nlm.nih.gov/' + gRNA_gene['PubMed ID'].astype('Int64', errors='ignore').astype('str')\n",
    "gRNA_gene['PubMed ID'] = gRNA_gene['PubMed ID'].replace('https://pubmed.ncbi.nlm.nih.gov/<NA>', np.nan)"
   ]
  },
  {
   "cell_type": "code",
   "execution_count": null,
   "metadata": {},
   "outputs": [],
   "source": [
    "gRNA_gene.rename(columns={'0_y':'Gene','PubMed ID':'References (PMID)'},inplace=True)"
   ]
  },
  {
   "cell_type": "code",
   "execution_count": null,
   "metadata": {},
   "outputs": [],
   "source": [
    "gRNA_gene.drop_duplicates().to_csv(edge_data_location + 'RgRNA-gene.txt', sep='\\t', index=None)"
   ]
  },
  {
   "cell_type": "markdown",
   "metadata": {},
   "source": [
    "***\n",
    "### ASO-mRNA - http://purl.obolibrary.org/obo/RO_0003002 (represses expression of)"
   ]
  },
  {
   "cell_type": "markdown",
   "metadata": {},
   "source": [
    "* [eSkip-Finder](https://eskip-finder.org/cgi-bin/input.cgi) <br /> eSkip-Finder is the first machine learning-based design tool and database of antisense oligonucleotides (ASOs) for exon skipping. A significant challenge, however, is the difficulty in selecting an optimal target sequence for exon skipping."
   ]
  },
  {
   "cell_type": "code",
   "execution_count": null,
   "metadata": {},
   "outputs": [],
   "source": [
    "# https://eskip-finder.org/cgi-bin/search.cgi\n",
    "ASO_mRNA = pd.read_html(unprocessed_data_location + 'eSkip-Finder.html')[2]\n",
    "ASO_mRNA = ASO_mRNA[ASO_mRNA['Species'] == 'human']\n",
    "ASO_mRNA = ASO_mRNA[ASO_mRNA['Oligo name in literature'] != 'Null']\n",
    "ASO_mRNA = ASO_mRNA[ASO_mRNA['confidence level (1:describe to explicitly / 0:speculated from context)']=='1']\n",
    "ASO_mRNA.drop(columns=['Oligo index in literature',\n",
    "                       'Oligo sequence /: Cocktail. -: weasel (connected).',\n",
    "                       'cap of 5 or 3 terminal (Conjugated end is not specified.)',\n",
    "                       'cap of 5 terminal','cap of 3 terminal',\n",
    "                       'Species','Oligo chemistry','Literature info (Patent ID) (original)',\n",
    "                       'Oligo chemistry','Title','Date','Inventor','Assignee/Applicants',\n",
    "                       'Figure/Table in literature','Appendix','Unnamed: 31'],inplace=True)\n",
    "ASO_mRNA = pd.merge(ASO_mRNA,symbol_entrez_map.rename(columns={'0_x':'Target gene (RNA)'}), on='Target gene (RNA)')\n",
    "ASO_mRNA.drop(columns=['Target gene (RNA)'],inplace=True)\n",
    "ASO_mRNA['0_y'] = ASO_mRNA['0_y'].astype(str) + '?mRNA'\n",
    "ASO_mRNA['Oligo name in literature'] = ASO_mRNA['Oligo name in literature'].str.strip()\n",
    "ASO_mRNA['Oligo name in literature'] = ASO_mRNA['Oligo name in literature'].str.replace(' ', '')\n",
    "ASO_mRNA['Source(s)'] = 'eSkip-Finder'\n",
    "ASO_mRNA"
   ]
  },
  {
   "cell_type": "code",
   "execution_count": null,
   "metadata": {},
   "outputs": [],
   "source": [
    "ASO_mRNA.rename(columns={'0_y':'mRNA','cells used':'Cell line',\t'nested pcr?':'Nested PCR (Yes/No)'},inplace=True)\n",
    "ASO_mRNA.insert(1,'mRNA',ASO_mRNA.pop('mRNA'))\n",
    "ASO_mRNA.insert(0,'Oligo name in literature',ASO_mRNA.pop('Oligo name in literature'))"
   ]
  },
  {
   "cell_type": "code",
   "execution_count": null,
   "metadata": {},
   "outputs": [],
   "source": [
    "merge_rows(ASO_mRNA, 'Oligo name in literature', 'mRNA').to_csv(edge_data_location + 'RASO-mRNA.txt', sep='\\t', index=None)"
   ]
  },
  {
   "cell_type": "markdown",
   "metadata": {},
   "source": [
    "***\n",
    "### ASO drug-mRNA - http://purl.obolibrary.org/obo/RO_0002430 (involved in negative regulation of)"
   ]
  },
  {
   "cell_type": "markdown",
   "metadata": {},
   "source": [
    "* [DrugBank](https://go.drugbank.com/categories/DBCAT001709) <br /> DrugBank is a comprehensive, free-to-access, online database containing information on drugs and drug targets. As both a bioinformatics and a cheminformatics resource, it combines detailed drug (i.e. chemical, pharmacological and pharmaceutical) data with comprehensive drug target (i.e. sequence, structure, and pathway) information."
   ]
  },
  {
   "cell_type": "code",
   "execution_count": null,
   "metadata": {},
   "outputs": [],
   "source": [
    "# copy-paste from https://go.drugbank.com/categories/DBCAT001709\n",
    "ASO_mRNA = pd.read_csv(unprocessed_data_location + 'ASO-gene_DrugBank.txt', sep='\\t', header=None) \n",
    "ASO_mRNA"
   ]
  },
  {
   "cell_type": "code",
   "execution_count": null,
   "metadata": {},
   "outputs": [],
   "source": [
    "ASO_mRNA['NCBI']=[338, np.nan, np.nan, np.nan, np.nan, np.nan, 1756, np.nan,\n",
    "                  338, 211, np.nan, 1756, 1756, np.nan, np.nan, np.nan, np.nan, 7276, np.nan]\n",
    "ASO_mRNA['NCBI'] = ASO_mRNA['NCBI'].astype('Int64').astype(str) + '?mRNA'\n",
    "ASO_mRNA['NCBI'] = ASO_mRNA['NCBI'].replace('<NA>?mRNA',np.nan)\n",
    "ASO_mRNA['DB ID']=['DB05528',\n",
    "                   'DB05487', 'DB05487', 'DB05487',\n",
    "                   'DB06759', 'DB06759',\n",
    "                   'DB06014',\n",
    "                   'DB13161',\n",
    "                   'DB14713',\n",
    "                   'DB15066',\n",
    "                   'DB15593',\n",
    "                   'DB15005',\n",
    "                   'DB14984', 'DB14984', 'DB14984', 'DB14984', 'DB14984',\n",
    "                   'DB16699', 'DB16699']\n",
    "ASO_mRNA.drop(columns=[0,3,4], inplace=True)\n",
    "#ASO_mRNA.insert(2,'Type',ASO_mRNA.pop('Type'))\n",
    "ASO_mRNA['Source(s)'] = 'DrugBank'\n",
    "ASO_mRNA"
   ]
  },
  {
   "cell_type": "code",
   "execution_count": null,
   "metadata": {},
   "outputs": [],
   "source": [
    "ASO_mRNA.rename(columns={'DB ID':'DrugBank ID','NCBI':'mRNA',2:'Action',1:'Target description'},inplace=True)\n",
    "ASO_mRNA.insert(0,'DrugBank ID',ASO_mRNA.pop('DrugBank ID'))\n",
    "ASO_mRNA.insert(1,'mRNA',ASO_mRNA.pop('mRNA'))"
   ]
  },
  {
   "cell_type": "code",
   "execution_count": null,
   "metadata": {},
   "outputs": [],
   "source": [
    "ASO_mRNA.dropna().drop_duplicates().to_csv(edge_data_location + 'RASOd-mRNA.txt', sep='\\t', index=None)"
   ]
  },
  {
   "cell_type": "markdown",
   "metadata": {},
   "source": [
    "***\n",
    "### ASO drug-disease - http://purl.obolibrary.org/obo/RO_0002606 (is substance that treats)"
   ]
  },
  {
   "cell_type": "markdown",
   "metadata": {},
   "source": [
    "* [DrugBank](https://go.drugbank.com/categories/DBCAT001709)"
   ]
  },
  {
   "cell_type": "code",
   "execution_count": null,
   "metadata": {},
   "outputs": [],
   "source": [
    "# copy-paste from https://go.drugbank.com/categories/DBCAT001709\n",
    "ASO_disease = pd.read_csv(unprocessed_data_location + 'ASO-disease_DrugBank.txt', sep='\\t') \n",
    "pd.set_option('display.max_colwidth', None)\n",
    "ASO_disease"
   ]
  },
  {
   "cell_type": "code",
   "execution_count": null,
   "metadata": {},
   "outputs": [],
   "source": [
    "ASO_disease['DB ID']=['DB05528',\n",
    "                   'DB05487',\n",
    "                   'DB06759',\n",
    "                    'DB13811',\n",
    "                   'DB06014',\n",
    "                   'DB13161',\n",
    "                   'DB14713',\n",
    "                   'DB15066',\n",
    "                   'DB15593',\n",
    "                   'DB15005',\n",
    "                   'DB14984',\n",
    "                   'DB16699',\n",
    "                   'DB14782',\n",
    "                   'DB18159']\n",
    "ASO_disease['MONDO']=['MONDO_0018328',\n",
    "                      'MONDO_0001657,MONDO_0007254',\n",
    "                      'MONDO_0000878',\n",
    "                      '<NA>',\n",
    "                      'MONDO_0010679',\n",
    "                      'MONDO_0001516',\n",
    "                      'MONDO_0017132,MONDO_0001824',\n",
    "                      'MONDO_0002520',\n",
    "                      'MONDO_0010679',\n",
    "                      'MONDO_0010679',\n",
    "                      'MONDO_0010679',\n",
    "                      'MONDO_0017132',\n",
    "                      'MONDO_0004976',\n",
    "                      '<NA>'\n",
    "                     ]\n",
    "ASO_disease['MONDO'] = ASO_disease.MONDO.str.split(',')\n",
    "ASO_disease = ASO_disease.explode('MONDO')\n",
    "ASO_disease.drop(columns=['Drug','Drug Description'],inplace=True)\n",
    "ASO_disease['Source(s)'] = 'DrugBank'\n",
    "ASO_disease = ASO_disease[ASO_disease['MONDO'] != '<NA>']\n",
    "ASO_disease"
   ]
  },
  {
   "cell_type": "code",
   "execution_count": null,
   "metadata": {},
   "outputs": [],
   "source": [
    "ASO_disease.drop_duplicates().to_csv(edge_data_location + 'RASOd-disease.txt', sep='\\t', index=None)"
   ]
  },
  {
   "cell_type": "markdown",
   "metadata": {},
   "source": [
    "***\n",
    "### ASO drug-protein - http://purl.obolibrary.org/obo/RO_0011007 10002 (decreases by repression quantity of + is carrier of)"
   ]
  },
  {
   "cell_type": "markdown",
   "metadata": {},
   "source": [
    "* [DrugBank](https://go.drugbank.com/categories/DBCAT001709)"
   ]
  },
  {
   "cell_type": "code",
   "execution_count": null,
   "metadata": {},
   "outputs": [],
   "source": [
    "# copy-paste from https://go.drugbank.com/categories/DBCAT001709\n",
    "ASO_protein = pd.read_csv(unprocessed_data_location + 'ASO-gene_DrugBank.txt', sep='\\t',header=None) \n",
    "\n",
    "ASO_protein['DB ID']=['DB05528',\n",
    "                   'DB05487', 'DB05487', 'DB05487',\n",
    "                   'DB06759', 'DB06759',\n",
    "                   'DB06014',\n",
    "                   'DB13161',\n",
    "                   'DB14713',\n",
    "                   'DB15066',\n",
    "                   'DB15593',\n",
    "                   'DB15005',\n",
    "                   'DB14984', 'DB14984', 'DB14984', 'DB14984', 'DB14984',\n",
    "                   'DB16699', 'DB16699']\n",
    "ASO_protein['PRO']=[np.nan, 'PR_000007204', 'PR_000011178', 'PR_000001754', 'PR_Q9BTL4', 'PR_Q16621',\n",
    "                    np.nan, 'PR_Q16637', np.nan, np.nan, 'PR_P11532', np.nan, np.nan, 'PR_P08684',\n",
    "                    'PR_P20815', 'PR_P11712', 'PR_P33261', np.nan, 'PR_P02768']\n",
    "ASO_protein\n",
    "ASO_protein.drop(columns=[0,'DB ID',3], inplace=True)\n",
    "ASO_protein['Source(s)'] = 'DrugBank'\n",
    "ASO_protein"
   ]
  },
  {
   "cell_type": "code",
   "execution_count": null,
   "metadata": {},
   "outputs": [],
   "source": [
    "ASO_protein.rename(columns={4:'DrugBank ID','PRO':'Protein',2:'Action',1:'Target description'},inplace=True)\n",
    "ASO_protein.insert(0,'DrugBank ID',ASO_protein.pop('DrugBank ID'))\n",
    "ASO_protein.insert(1,'Protein',ASO_protein.pop('Protein'))"
   ]
  },
  {
   "cell_type": "code",
   "execution_count": null,
   "metadata": {},
   "outputs": [],
   "source": [
    "ASO_protein.iloc[0:18][['DrugBank ID','Protein']].dropna().to_csv(\n",
    "    edge_data_location + 'RASOd-protein11007.txt', sep='\\t', index=None)"
   ]
  },
  {
   "cell_type": "code",
   "execution_count": null,
   "metadata": {},
   "outputs": [],
   "source": [
    "pd.concat([ASO_protein.iloc[(18)],ASO_protein.iloc[(18)]]).to_csv(\n",
    "    edge_data_location + 'RASOd-protein10002.txt', sep='\\t', index=None)"
   ]
  },
  {
   "cell_type": "markdown",
   "metadata": {},
   "source": [
    "***\n",
    "### siRNA drug-mRNA - http://purl.obolibrary.org/obo/RO_0002430 (involved in negative regulation of)"
   ]
  },
  {
   "cell_type": "markdown",
   "metadata": {},
   "source": [
    "* [DrugBank](https://go.drugbank.com/categories/DBCAT005484) "
   ]
  },
  {
   "cell_type": "code",
   "execution_count": null,
   "metadata": {},
   "outputs": [],
   "source": [
    "# copy-paste from https://go.drugbank.com/categories/DBCAT005484\n",
    "siRNA_mRNA = pd.read_csv(unprocessed_data_location + 'siRNA-gene_DrugBank.txt', sep='\\t') \n",
    "siRNA_mRNA"
   ]
  },
  {
   "cell_type": "code",
   "execution_count": null,
   "metadata": {},
   "outputs": [],
   "source": [
    "siRNA_mRNA['NCBI']=[7276, np.nan, np.nan, 338, 54363, np.nan, np.nan, 7276, np.nan]\n",
    "siRNA_mRNA['NCBI'] = siRNA_mRNA['NCBI'].astype('Int64').astype(str) + '?mRNA'\n",
    "siRNA_mRNA['NCBI'] = siRNA_mRNA['NCBI'].replace('<NA>#mRNA','<NA>')\n",
    "siRNA_mRNA['DB ID']=['DB14582', 'DB14582', 'DB14582',\n",
    "                     'DB15066',\n",
    "                     'DB15935', 'DB15935', 'DB15935',\n",
    "                     'DB16699', 'DB16699']\n",
    "siRNA_mRNA.drop(columns=['Drug','Target'], inplace=True)\n",
    "siRNA_mRNA.insert(2,'Type',siRNA_mRNA.pop('Type'))\n",
    "siRNA_mRNA['Source(s)'] = 'DrugBank'\n",
    "siRNA_mRNA = siRNA_mRNA[siRNA_mRNA['NCBI'] != '<NA>']\n",
    "siRNA_mRNA['NCBI'] = siRNA_mRNA['NCBI'].replace('<NA>?mRNA', np.nan)\n",
    "siRNA_mRNA"
   ]
  },
  {
   "cell_type": "code",
   "execution_count": null,
   "metadata": {},
   "outputs": [],
   "source": [
    "siRNA_mRNA.rename(columns={'DB ID':'DrugBank ID','NCBI':'mRNA'},inplace=True)\n",
    "siRNA_mRNA.insert(0,'DrugBank ID',siRNA_mRNA.pop('DrugBank ID'))\n",
    "siRNA_mRNA.insert(1,'mRNA',siRNA_mRNA.pop('mRNA'))"
   ]
  },
  {
   "cell_type": "code",
   "execution_count": null,
   "metadata": {},
   "outputs": [],
   "source": [
    "siRNA_mRNA.dropna().drop_duplicates().to_csv(edge_data_location + 'RsiRNAd-mRNA.txt', sep='\\t', index=None)"
   ]
  },
  {
   "cell_type": "markdown",
   "metadata": {},
   "source": [
    "***\n",
    "### siRNA-mRNA - http://purl.obolibrary.org/obo/RO_0002430 (involved in negative regulation of)"
   ]
  },
  {
   "cell_type": "markdown",
   "metadata": {},
   "source": [
    "* [The MIT/ICBP siRNA Database](http://web.mit.edu/sirna/index.html) <br /> The MIT/ICBP siRNA Database has validated siRNA and shRNA sequences against over 100 genes."
   ]
  },
  {
   "cell_type": "code",
   "execution_count": null,
   "metadata": {},
   "outputs": [],
   "source": [
    "ICBP = pd.read_html('http://web.mit.edu/sirna/sirnas-gene.html')\n",
    "ICBP = ICBP[1]\n",
    "ICBP.columns = ICBP.iloc[[0]].squeeze()\n",
    "ICBP.drop(0, inplace=True)\n",
    "ICBP"
   ]
  },
  {
   "cell_type": "code",
   "execution_count": null,
   "metadata": {},
   "outputs": [],
   "source": [
    "# For post-processing purposes\n",
    "ICBP[['ID#']] = ICBP[['ID#']] + '.html'\n",
    "\n",
    "ICBPsiRNA = ICBP.loc[(ICBP['siRNA'] == 'x') & (ICBP['Human'] == 'x')]\n",
    "ICBPsiRNA['Protein knockdown'] = ICBPsiRNA['Protein knockdown'].replace('---',np.nan)\n",
    "ICBPsiRNA.drop(columns=['siRNA','shRNA','Mouse','Human'],inplace=True)\n",
    "ICBPsiRNA['Source(s)'] = 'ICBP siRNA'\n",
    "ICBPsiRNA"
   ]
  },
  {
   "cell_type": "code",
   "execution_count": null,
   "metadata": {},
   "outputs": [],
   "source": [
    "ICBPsiRNA = pd.merge(symbol_entrez_map[['0_x','0_y']].rename(columns={\"0_x\": \"Target Gene\"}),\n",
    "                     ICBPsiRNA, on=\"Target Gene\").drop(columns='Target Gene')\n",
    "ICBPsiRNA['0_y'] = ICBPsiRNA['0_y'].astype('Int64').astype(str) + '?mRNA'\n",
    "ICBPsiRNA['0_y'] = ICBPsiRNA['0_y'].replace('<NA>?mRNA', np.nan)\n",
    "ICBPsiRNA.rename(columns={'0_y':'mRNA', 'ID#':'siRNA','NCBI Probe #':'NCBI Probe'},inplace=True)\n",
    "ICBPsiRNA['NCBI Probe'] = \"https://www.ncbi.nlm.nih.gov/genome/probe/reports/probereport.cgi?uid=\" + ICBPsiRNA['NCBI Probe'].astype(str)\n",
    "ICBPsiRNA['NCBI Probe'] = ICBPsiRNA['NCBI Probe'].replace('https://www.ncbi.nlm.nih.gov/genome/probe/reports/probereport.cgi?uid=nan', np.nan)"
   ]
  },
  {
   "cell_type": "code",
   "execution_count": null,
   "metadata": {},
   "outputs": [],
   "source": [
    "ICBPsiRNA.drop_duplicates().to_csv(edge_data_location + 'RsiRNA-mRNA.txt', sep='\\t', index=None)"
   ]
  },
  {
   "cell_type": "markdown",
   "metadata": {},
   "source": [
    "***\n",
    "### shRNA-mRNA - http://purl.obolibrary.org/obo/RO_0002430 (involved in negative regulation of)"
   ]
  },
  {
   "cell_type": "markdown",
   "metadata": {},
   "source": [
    "* [The MIT/ICBP siRNA Database](http://web.mit.edu/sirna/index.html)"
   ]
  },
  {
   "cell_type": "code",
   "execution_count": null,
   "metadata": {},
   "outputs": [],
   "source": [
    "ICBPshRNA = ICBP.loc[(ICBP['shRNA'] == 'x') & (ICBP['Human'] == 'x')]\n",
    "ICBPshRNA.drop(columns=['siRNA','shRNA','Mouse','Human','Protein knockdown'],inplace=True)\n",
    "ICBPshRNA['Source(s)'] = 'ICBP siRNA'\n",
    "ICBPshRNA['NCBI Probe #'] = ICBPshRNA['NCBI Probe #'].replace('N/A*',np.nan)\n",
    "# 'NCBI Probe #' contains only nan values\n",
    "ICBPshRNA = ICBPshRNA.drop(columns=['NCBI Probe #'])\n",
    "ICBPshRNA.head()"
   ]
  },
  {
   "cell_type": "code",
   "execution_count": null,
   "metadata": {},
   "outputs": [],
   "source": [
    "ICBPshRNA = pd.merge(symbol_entrez_map[['0_x','0_y']].rename(columns={\"0_x\": \"Target Gene\"}),\n",
    "                     ICBPshRNA, on=\"Target Gene\").drop(columns='Target Gene')\n",
    "ICBPshRNA['0_y'] = ICBPshRNA['0_y'].astype('Int64').astype(str) + '?mRNA'\n",
    "ICBPshRNA['0_y'] = ICBPshRNA['0_y'].replace('<NA>?mRNA', np.nan)\n",
    "\n",
    "ICBPshRNA.rename(columns={'0_y':'mRNA', 'ID#':'shRNA'},inplace=True)"
   ]
  },
  {
   "cell_type": "code",
   "execution_count": null,
   "metadata": {},
   "outputs": [],
   "source": [
    "ICBPshRNA.drop_duplicates().to_csv(edge_data_location + 'RshRNA-mRNA.txt', sep='\\t', index=None)"
   ]
  },
  {
   "cell_type": "markdown",
   "metadata": {},
   "source": [
    "***\n",
    "### siRNA drug-disease - http://purl.obolibrary.org/obo/RO_0002606 (is substance that treats)"
   ]
  },
  {
   "cell_type": "markdown",
   "metadata": {},
   "source": [
    "* [DrugBank](https://go.drugbank.com/categories/DBCAT005484) "
   ]
  },
  {
   "cell_type": "code",
   "execution_count": null,
   "metadata": {},
   "outputs": [],
   "source": [
    "# copy-paste from https://go.drugbank.com/categories/DBCAT005484\n",
    "siRNA_disease = pd.read_csv(unprocessed_data_location + 'siRNA-disease_DrugBank.txt', sep='\\t') \n",
    "siRNA_disease"
   ]
  },
  {
   "cell_type": "code",
   "execution_count": null,
   "metadata": {},
   "outputs": [],
   "source": [
    "siRNA_disease['DB ID']=['DB14582','DB15066','DB15935','DB16699']\n",
    "siRNA_disease['MONDO']=['MONDO_0017132,MONDO_0001824',\n",
    "                        'MONDO_0002520',\n",
    "                        'MONDO_0009823',\n",
    "                        'MONDO_0017132,MONDO_0001824']\n",
    "\n",
    "siRNA_disease['MONDO'] = siRNA_disease.MONDO.str.split(',')\n",
    "siRNA_disease = siRNA_disease.explode('MONDO')\n",
    "siRNA_disease.drop(columns=['Drug','Drug Description'],inplace=True)\n",
    "siRNA_disease['Source(s)'] = 'DrugBank'\n",
    "siRNA_disease"
   ]
  },
  {
   "cell_type": "code",
   "execution_count": null,
   "metadata": {},
   "outputs": [],
   "source": [
    "siRNA_disease.rename(columns={'DB ID':'DrugBank ID','MONDO':'Disease'},inplace=True)"
   ]
  },
  {
   "cell_type": "code",
   "execution_count": null,
   "metadata": {},
   "outputs": [],
   "source": [
    "siRNA_disease.drop_duplicates().to_csv(edge_data_location + 'RsiRNAd-disease.txt', sep='\\t', index=None)"
   ]
  },
  {
   "cell_type": "markdown",
   "metadata": {},
   "source": [
    "***\n",
    "### aptamer-protein - http://purl.obolibrary.org/obo/RO_0002436 (molecularly interacts with)"
   ]
  },
  {
   "cell_type": "markdown",
   "metadata": {},
   "source": [
    "* [Apta-Index](https://www.aptagen.com/apta-index/) <br/>\n",
    "Apta-index is the most advanced user-friendly database on aptamers. Aptagen does not list this information contained herein as products but as a database of information obtained from the published literature. "
   ]
  },
  {
   "cell_type": "code",
   "execution_count": null,
   "metadata": {},
   "outputs": [],
   "source": [
    "aptamer_protein = pd.read_csv(unprocessed_data_location + 'aptaindex.csv',names=['Name', 'ID', 'Target', 'Sequence']) \n",
    "aptamer_protein.Target = aptamer_protein.Target.str.lower()\n",
    "aptamer_protein = pd.merge(aptamer_protein, desc_pro_map.rename(columns={0:'Target'}),on='Target')\n",
    "aptamer_protein['ID'] = 'aptamer-details/?id=' + aptamer_protein['ID'].astype(str)\n",
    "aptamer_protein = aptamer_protein.drop(columns=['Name','Target', 'Sequence'])\n",
    "aptamer_protein['Source(s)'] = 'Apta-Index'\n",
    "aptamer_protein"
   ]
  },
  {
   "cell_type": "code",
   "execution_count": null,
   "metadata": {},
   "outputs": [],
   "source": [
    "aptamer_protein.rename(columns={'ID':'Aptamer',1:'Protein'},inplace=True)"
   ]
  },
  {
   "cell_type": "code",
   "execution_count": null,
   "metadata": {},
   "outputs": [],
   "source": [
    "aptamer_protein.drop_duplicates().to_csv(edge_data_location + 'Raptamer-protein.txt', sep='\\t', index=None)"
   ]
  },
  {
   "cell_type": "markdown",
   "metadata": {},
   "source": [
    "***\n",
    "### aptamer-chemical - http://purl.obolibrary.org/obo/RO_0002436 (molecularly interacts with)"
   ]
  },
  {
   "cell_type": "markdown",
   "metadata": {},
   "source": [
    "* [Apta-Index](https://www.aptagen.com/apta-index/)"
   ]
  },
  {
   "cell_type": "code",
   "execution_count": null,
   "metadata": {},
   "outputs": [],
   "source": [
    "aptamer_chemical = pd.read_csv(unprocessed_data_location + 'aptaindex.csv',\n",
    "                               names=['Name', 'ID', 'Target', 'Sequence']) \n",
    "aptamer_chemical.Target = aptamer_chemical.Target.str.lower()\n",
    "aptamer_chemical = pd.merge(aptamer_chemical,\n",
    "                            desc_chebi_map.rename(columns={0:'Target'}),on='Target')\n",
    "aptamer_chemical['ID'] = 'aptamer-details/?id=' + aptamer_chemical['ID'].astype(str)\n",
    "aptamer_chemical = aptamer_chemical.drop(columns=['Name','Target','Sequence'])\n",
    "aptamer_chemical['Source(s)'] = 'Apta-Index'\n",
    "aptamer_chemical"
   ]
  },
  {
   "cell_type": "code",
   "execution_count": null,
   "metadata": {},
   "outputs": [],
   "source": [
    "aptamer_chemical.rename(columns={'ID':'Aptamer',1:'Chemical'},inplace=True)"
   ]
  },
  {
   "cell_type": "code",
   "execution_count": null,
   "metadata": {},
   "outputs": [],
   "source": [
    "aptamer_chemical.drop_duplicates().to_csv(edge_data_location + 'Raptamer-chemical.txt', sep='\\t', index=None)"
   ]
  },
  {
   "cell_type": "markdown",
   "metadata": {},
   "source": [
    "***\n",
    "### aptamer drug-protein - http://purl.obolibrary.org/obo/RO_0002436 (molecularly interacts with)"
   ]
  },
  {
   "cell_type": "markdown",
   "metadata": {},
   "source": [
    "* [DrugBank](https://go.drugbank.com/categories/DBCAT001641) "
   ]
  },
  {
   "cell_type": "code",
   "execution_count": null,
   "metadata": {},
   "outputs": [],
   "source": [
    "# copy-paste from https://go.drugbank.com/categories/DBCAT001641\n",
    "aptamer_protein = pd.read_csv(unprocessed_data_location + 'aptamer-protein_DrugBank.txt', sep='\\t') \n",
    "aptamer_protein['Source(s)'] = 'DrugBank'\n",
    "aptamer_protein"
   ]
  },
  {
   "cell_type": "code",
   "execution_count": null,
   "metadata": {},
   "outputs": [],
   "source": [
    "aptamer_protein['DB ID']=['DB04932', 'DB04932', 'DB04932', 'DB04998', 'DB15165']\n",
    "aptamer_protein['PRO']=['PR_000001575', 'PR_000001576', 'PR_000001577', 'PR_000001752', 'PR_P01031']\n",
    "aptamer_protein.drop(columns=['Drug','Target'],inplace=True)\n",
    "aptamer_protein.insert(2,'Type',aptamer_protein.pop('Type'))\n",
    "aptamer_protein"
   ]
  },
  {
   "cell_type": "code",
   "execution_count": null,
   "metadata": {},
   "outputs": [],
   "source": [
    "aptamer_protein.rename(columns={'DB ID':'DrugBank ID','PRO':'Protein'},inplace=True)\n",
    "aptamer_protein.insert(0,'DrugBank ID',aptamer_protein.pop('DrugBank ID'))\n",
    "aptamer_protein.insert(1,'Protein',aptamer_protein.pop('Protein'))"
   ]
  },
  {
   "cell_type": "code",
   "execution_count": null,
   "metadata": {},
   "outputs": [],
   "source": [
    "aptamer_protein.drop_duplicates().to_csv(edge_data_location + 'Raptamerd-protein.txt', sep='\\t', index=None)"
   ]
  },
  {
   "cell_type": "markdown",
   "metadata": {},
   "source": [
    "***\n",
    "### aptamer drug-disease - http://purl.obolibrary.org/obo/RO_0002606 (is substance that treats)"
   ]
  },
  {
   "cell_type": "markdown",
   "metadata": {},
   "source": [
    "* [DrugBank](https://go.drugbank.com/categories/DBCAT001641) "
   ]
  },
  {
   "cell_type": "code",
   "execution_count": null,
   "metadata": {},
   "outputs": [],
   "source": [
    "# copy-paste from https://go.drugbank.com/categories/DBCAT001641\n",
    "aptamer_disease = pd.read_csv(unprocessed_data_location + 'aptamer-disease_DrugBank.txt', sep='\\t') \n",
    "aptamer_disease['Source(s)'] = 'DrugBank'\n",
    "aptamer_disease"
   ]
  },
  {
   "cell_type": "code",
   "execution_count": null,
   "metadata": {},
   "outputs": [],
   "source": [
    "aptamer_disease['DB ID']=['DB04932', 'DB04998', 'DB15165']\n",
    "aptamer_disease['MONDO']=['MONDO_0019514', 'MONDO_0004992,MONDO_0002367,MONDO_0004643,MONDO_0009831','MONDO_0005150']\n",
    "aptamer_disease['MONDO'] = aptamer_disease.MONDO.str.split(',')\n",
    "aptamer_disease = aptamer_disease.explode('MONDO')\n",
    "aptamer_disease.drop(columns=['Drug','Drug Description'],inplace=True)\n",
    "aptamer_disease"
   ]
  },
  {
   "cell_type": "code",
   "execution_count": null,
   "metadata": {},
   "outputs": [],
   "source": [
    "aptamer_disease.rename(columns={'DB ID':'DrugBank ID','MONDO':'Disease'},inplace=True)\n",
    "aptamer_disease.insert(0,'DrugBank ID',aptamer_disease.pop('DrugBank ID'))\n",
    "aptamer_disease.insert(1,'Disease',aptamer_disease.pop('Disease'))"
   ]
  },
  {
   "cell_type": "code",
   "execution_count": null,
   "metadata": {},
   "outputs": [],
   "source": [
    "aptamer_disease.drop_duplicates().to_csv(edge_data_location + 'Raptamerd-disease.txt', sep='\\t', index=None)"
   ]
  },
  {
   "cell_type": "markdown",
   "metadata": {},
   "source": [
    "***\n",
    "### mRNA vaccines-disease - http://purl.obolibrary.org/obo/RO_0002606 (is substance that treats)"
   ]
  },
  {
   "cell_type": "markdown",
   "metadata": {},
   "source": [
    "* [DrugBank](https://go.drugbank.com/categories/DBCAT005631) "
   ]
  },
  {
   "cell_type": "code",
   "execution_count": null,
   "metadata": {},
   "outputs": [],
   "source": [
    "# copy-paste from https://go.drugbank.com/categories/DBCAT005631\n",
    "mRNAv_disease = pd.read_csv(unprocessed_data_location + 'mRNAv-disease_DrugBank.txt', sep='\\t') \n",
    "mRNAv_disease['Source(s)'] = 'DrugBank'\n",
    "mRNAv_disease"
   ]
  },
  {
   "cell_type": "code",
   "execution_count": null,
   "metadata": {},
   "outputs": [],
   "source": [
    "mRNAv_disease['DB ID']=['DB15654', 'DB15695', 'DB15696' , 'DB16401', 'DB16402', 'DB17088', 'DB17090', 'DB17095']\n",
    "mRNAv_disease['MONDO']='MONDO_0100096'\n",
    "mRNAv_disease.drop(columns=['Drug Description','Drug'],inplace=True)\n",
    "mRNAv_disease"
   ]
  },
  {
   "cell_type": "code",
   "execution_count": null,
   "metadata": {},
   "outputs": [],
   "source": [
    "mRNAv_disease.rename(columns={'DB ID':'DrugBank ID','MONDO':'Disease'},inplace=True)\n",
    "mRNAv_disease.insert(0,'DrugBank ID',mRNAv_disease.pop('DrugBank ID'))\n",
    "mRNAv_disease.insert(1,'Disease',mRNAv_disease.pop('Disease'))"
   ]
  },
  {
   "cell_type": "code",
   "execution_count": null,
   "metadata": {},
   "outputs": [],
   "source": [
    "mRNAv_disease.drop_duplicates().to_csv(edge_data_location + 'RmRNAv-disease.txt', sep='\\t', index=None)"
   ]
  },
  {
   "cell_type": "markdown",
   "metadata": {},
   "source": [
    "***\n",
    "### lncRNA-mRNA - http://purl.obolibrary.org/obo/RO_0002434 (interacts with)"
   ]
  },
  {
   "cell_type": "markdown",
   "metadata": {},
   "source": [
    "* [LncExpDB](https://ngdc.cncb.ac.cn/lncexpdb/) <br /> LncExpDB is a comprehensive database for lncRNA expression. It covers expression profiles of lncRNA genes across various biological contexts, predicts potential functional lncRNAs and their interacting partners, and thus provides essential guidance on experimental design."
   ]
  },
  {
   "cell_type": "code",
   "execution_count": null,
   "metadata": {},
   "outputs": [],
   "source": [
    "# Download from https://ngdc.cncb.ac.cn/lncexpdb/interactions --> Download button\n",
    "lncRNA_mRNA = pd.read_csv(unprocessed_data_location + 'interaction.txt', sep='\\t') \n",
    "lncRNA_mRNA = lncRNA_mRNA[lncRNA_mRNA['lncname'].notna()]\n",
    "lncRNA_mRNA['lncname'] = lncRNA_mRNA.lncname.str.split(',')\n",
    "lncRNA_mRNA = lncRNA_mRNA.explode('lncname')\n",
    "lncRNA_mRNA = lncRNA_mRNA.drop(columns=['geneid','pcg','lnclocation','pcglocation','ID'])\n",
    "lncRNA_mRNA"
   ]
  },
  {
   "cell_type": "code",
   "execution_count": null,
   "metadata": {},
   "outputs": [],
   "source": [
    "lncRNA_mRNA = pd.merge(symbol_entrez_map.rename(columns={'0_x':'lncname'}),lncRNA_mRNA,on='lncname')\n",
    "lncRNA_mRNA = pd.merge(symbol_entrez_map.rename(columns={'0_x':'pcgname'}),lncRNA_mRNA,on='pcgname')\n",
    "lncRNA_mRNA.drop(columns=['lncname','pcgname'],inplace=True)\n",
    "lncRNA_mRNA['0_y_y'] = lncRNA_mRNA['0_y_y'].astype(str)+'?lncRNA'\n",
    "lncRNA_mRNA['0_y_x'] = lncRNA_mRNA['0_y_x'].astype(str)+'?mRNA'\n",
    "lncRNA_mRNA['Source(s)'] = 'LncExpDB'\n",
    "lncRNA_mRNA"
   ]
  },
  {
   "cell_type": "markdown",
   "metadata": {},
   "source": [
    "Manual fix."
   ]
  },
  {
   "cell_type": "code",
   "execution_count": null,
   "metadata": {},
   "outputs": [],
   "source": [
    "lncRNA_mRNA.context = lncRNA_mRNA.context.str.replace(',','|')\n",
    "lncRNA_mRNA.context = lncRNA_mRNA.context.str.replace('Normal Tissue/Cell Line', 'http://purl.obolibrary.org/obo/UBERON_0000479')\n",
    "lncRNA_mRNA.context = lncRNA_mRNA.context.str.replace('OrganDevelopment','http://purl.obolibrary.org/obo/GO_0048513')\n",
    "lncRNA_mRNA.context = lncRNA_mRNA.context.str.replace('PreimplantationEmbryo','http://purl.obolibrary.org/obo/GO_0007566')\n",
    "lncRNA_mRNA.context = lncRNA_mRNA.context.str.replace('CellDifferentiation','http://purl.obolibrary.org/obo/GO_0030154')\n",
    "lncRNA_mRNA.context = lncRNA_mRNA.context.str.replace('SubcellularLocation','http://purl.obolibrary.org/obo/GO_0051179')\n",
    "lncRNA_mRNA.context = lncRNA_mRNA.context.str.replace('Exosome','http://purl.obolibrary.org/obo/GO_0070062')\n",
    "lncRNA_mRNA.context = lncRNA_mRNA.context.str.replace('CancerCellLine','http://purl.obolibrary.org/obo/CLO_0009828')\n",
    "lncRNA_mRNA.context = lncRNA_mRNA.context.str.replace('VirusInfection','http://purl.obolibrary.org/obo/MONDO_0005108')\n",
    "lncRNA_mRNA.context = lncRNA_mRNA.context.str.replace('Circadian','http://purl.obolibrary.org/obo/GO_0007623')"
   ]
  },
  {
   "cell_type": "code",
   "execution_count": null,
   "metadata": {},
   "outputs": [],
   "source": [
    "lncRNA_mRNA"
   ]
  },
  {
   "cell_type": "code",
   "execution_count": null,
   "metadata": {},
   "outputs": [],
   "source": [
    "lncRNA_mRNA.rename(columns={'0_y_y':'lncRNA','0_y_x':'mRNA','context':'Context',\n",
    "                            'breadth':'Breadth','distance':'Distance'},inplace=True)\n",
    "lncRNA_mRNA.insert(0,'lncRNA',lncRNA_mRNA.pop('lncRNA'))"
   ]
  },
  {
   "cell_type": "code",
   "execution_count": null,
   "metadata": {},
   "outputs": [],
   "source": [
    "merge_rows(lncRNA_mRNA, 'lncRNA', 'mRNA').to_csv(edge_data_location + 'RlncRNA-mRNA.txt', sep='\\t', index=None)"
   ]
  },
  {
   "cell_type": "markdown",
   "metadata": {},
   "source": [
    "***\n",
    "### riboswitch-protein - http://purl.obolibrary.org/obo/RO_0002529 (is downstream of sequence of)"
   ]
  },
  {
   "cell_type": "markdown",
   "metadata": {},
   "source": [
    "* [TBDB](https://tbdb.io/) <br /> \n",
    "\n",
    "TBDB contains T-box riboswitch fold prediction, tRNA pairs from host organisms, information regarding T-box riboswitch genetic context, and thermodynamic calculations of putative T-box riboswitch sequences found in nature."
   ]
  },
  {
   "cell_type": "code",
   "execution_count": null,
   "metadata": {},
   "outputs": [],
   "source": [
    "! wget https://tbdb.io/database/tbdb.csv"
   ]
  },
  {
   "cell_type": "code",
   "execution_count": null,
   "metadata": {},
   "outputs": [],
   "source": [
    "riboswitch_protein = pd.read_csv(unprocessed_data_location+'tbdb.csv', sep=',') \n",
    "riboswitch_protein['Source(s)'] = 'TBDB' \n",
    "riboswitch_protein"
   ]
  },
  {
   "cell_type": "code",
   "execution_count": null,
   "metadata": {},
   "outputs": [],
   "source": [
    "# For post-processing purposes\n",
    "riboswitch_protein.unique_name = riboswitch_protein.unique_name+'.html'\n",
    "\n",
    "riboswitch_protein.downstream_protein = riboswitch_protein.downstream_protein.str.lower()\n",
    "riboswitch_protein = riboswitch_protein[['Rank','E_value','Score','Bias','CM_accuracy','unique_name',\n",
    "                   'deltadelta_g','downstream_protein']]"
   ]
  },
  {
   "cell_type": "code",
   "execution_count": null,
   "metadata": {},
   "outputs": [],
   "source": [
    "# Fix join columns\n",
    "riboswitch_protein = pd.merge(riboswitch_protein, desc_pro_map, left_on=['downstream_protein'], right_on=[0])\n",
    "riboswitch_protein.drop(columns=[0],inplace=True)\n",
    "riboswitch_protein = riboswitch_protein.drop(columns=['downstream_protein'])\n",
    "riboswitch_protein"
   ]
  },
  {
   "cell_type": "code",
   "execution_count": null,
   "metadata": {},
   "outputs": [],
   "source": [
    "riboswitch_protein.rename(columns={'E_value':'E value','CM_accuracy':'CM accuracy','unique_name':'Riboswitch',\n",
    "                            'deltadelta_g':'deltadeltaG',1:'Protein'},inplace=True)\n",
    "riboswitch_protein.insert(0,'Riboswitch',riboswitch_protein.pop('Riboswitch'))\n",
    "riboswitch_protein.insert(1,'Protein',riboswitch_protein.pop('Protein'))"
   ]
  },
  {
   "cell_type": "code",
   "execution_count": null,
   "metadata": {},
   "outputs": [],
   "source": [
    "merge_rows(riboswitch_protein, 'Riboswitch', 'Protein').to_csv(edge_data_location + 'Rriboswitch-protein.txt', sep='\\t', index=None)"
   ]
  },
  {
   "cell_type": "markdown",
   "metadata": {},
   "source": [
    "***\n",
    "### riboswitch-bacterial strain - http://purl.obolibrary.org/obo/RO_0002434 (interacts with)"
   ]
  },
  {
   "cell_type": "markdown",
   "metadata": {},
   "source": [
    "* [RSwitch database](https://penchovsky.atwebpages.com/applications.php?page=58) <br /> \n",
    "The RSwitch database contains information on using riboswitches as antibacterial drug targets. Each riboswitch represented by the ID, name, aptamer sequences, secondary structures, multiple alignments, consensus motifs, and biochemical pathways."
   ]
  },
  {
   "cell_type": "code",
   "execution_count": null,
   "metadata": {},
   "outputs": [],
   "source": [
    "riboswitch_bactStrain = pd.read_csv(unprocessed_data_location + 'rswitch.csv', header=None) \n",
    "riboswitch_bactStrain['Source(s)'] = 'RSwitch'\n",
    "riboswitch_bactStrain"
   ]
  },
  {
   "cell_type": "code",
   "execution_count": null,
   "metadata": {},
   "outputs": [],
   "source": [
    "riboswitch_bactStrain[2].drop_duplicates().to_csv(\n",
    "    unprocessed_data_location + 'bacteria.txt', header=None, sep='\\n', index=None)\n",
    "# --> https://www.ncbi.nlm.nih.gov/Taxonomy/TaxIdentifier/tax_identifier.cgi (Note that some manual work is needed)"
   ]
  },
  {
   "cell_type": "code",
   "execution_count": null,
   "metadata": {},
   "outputs": [],
   "source": [
    "bacteria = pd.read_csv(unprocessed_data_location + 'tax_report.txt', sep='\\t\\|\\t', engine='python') \n",
    "bacteria.taxid = bacteria.taxid.astype('Int64')\n",
    "bacteria"
   ]
  },
  {
   "cell_type": "code",
   "execution_count": null,
   "metadata": {},
   "outputs": [],
   "source": [
    "riboswitch_bactStrain = pd.merge(riboswitch_bactStrain.rename(columns={2:'name'}),\n",
    "                                 bacteria[['name','taxid']],on=['name'])\n",
    "riboswitch_bactStrain.taxid = 'http://purl.obolibrary.org/obo/NCBITaxon_'+riboswitch_bactStrain.taxid.astype(str)\n",
    "riboswitch_bactStrain = riboswitch_bactStrain[riboswitch_bactStrain.taxid != 'http://purl.obolibrary.org/obo/NCBITaxon_<NA>']\n",
    "riboswitch_bactStrain = riboswitch_bactStrain.drop(columns=[1,'name'])\n",
    "riboswitch_bactStrain"
   ]
  },
  {
   "cell_type": "code",
   "execution_count": null,
   "metadata": {},
   "outputs": [],
   "source": [
    "riboswitch_bactStrain.rename(columns={0:'Riboswitch','taxid':'Bacterial strain'},inplace=True)\n",
    "riboswitch_bactStrain = riboswitch_bactStrain[['Riboswitch', 'Bacterial strain', 'Source(s)']]"
   ]
  },
  {
   "cell_type": "code",
   "execution_count": null,
   "metadata": {},
   "outputs": [],
   "source": [
    "riboswitch_bactStrain.drop_duplicates().to_csv(edge_data_location + 'Rriboswitch-bactStrain.txt', sep='\\t', index=None)"
   ]
  },
  {
   "cell_type": "markdown",
   "metadata": {},
   "source": [
    "***\n",
    "### riboswitch-biological process - http://purl.obolibrary.org/obo/RO_0000056 (participates in)"
   ]
  },
  {
   "cell_type": "markdown",
   "metadata": {},
   "source": [
    "* [TBDB](https://tbdb.io/) <br /> "
   ]
  },
  {
   "cell_type": "code",
   "execution_count": null,
   "metadata": {},
   "outputs": [],
   "source": [
    "#https://tbdb.io/database/\n",
    "riboswitch_gobp = pd.read_csv(unprocessed_data_location+'tbdb.csv', sep=',') \n",
    "riboswitch_gobp.unique_name = riboswitch_gobp.unique_name+'.html'\n",
    "riboswitch_gobp['Source(s)'] = 'TBDB'\n",
    "\n",
    "# Extract only GO terms\n",
    "gobp = riboswitch_gobp.protein_desc.str.rpartition('[')[2].str.rpartition(']')[0].str.replace(\":\", \"_\")\n",
    "riboswitch_gobp = pd.concat([riboswitch_gobp, gobp.rename('gobp')], axis=1)\n",
    "riboswitch_gobp = riboswitch_gobp[riboswitch_gobp.gobp.str.contains(\"GO\", na=False)]\n",
    "riboswitch_gobp[['unique_name', 'gobp']]"
   ]
  },
  {
   "cell_type": "code",
   "execution_count": null,
   "metadata": {},
   "outputs": [],
   "source": [
    "riboswitch_gobp.rename(columns={'unique_name':'Riboswitch','gobp':'Biological process'},inplace=True)"
   ]
  },
  {
   "cell_type": "code",
   "execution_count": null,
   "metadata": {},
   "outputs": [],
   "source": [
    "riboswitch_gobp[['Riboswitch', 'Biological process']].drop_duplicates().to_csv(\n",
    "    edge_data_location + 'Rriboswitch-gobp.txt', sep='\\t', index=None)"
   ]
  },
  {
   "cell_type": "markdown",
   "metadata": {},
   "source": [
    "***\n",
    "### ribozyme-GO - http://purl.obolibrary.org/obo/RO_0000056 (participates in)"
   ]
  },
  {
   "cell_type": "markdown",
   "metadata": {},
   "source": [
    "* [Ribocentre](https://www.ribocentre.org/) <br />\n",
    "Ribocentre is designed to contain comprehensive information of all natural ribozymes."
   ]
  },
  {
   "cell_type": "code",
   "execution_count": null,
   "metadata": {},
   "outputs": [],
   "source": [
    "data_downloader('https://www.ribocentre.org/38dffd70-0f9f-499b-b442-be2f6e91a156', unprocessed_data_location)"
   ]
  },
  {
   "cell_type": "code",
   "execution_count": null,
   "metadata": {},
   "outputs": [],
   "source": [
    "ribozyme_go = pd.read_csv(unprocessed_data_location + 'Ribocentre - Application.csv') \n",
    "ribozyme_go = ribozyme_go[['ribozyme name', 'Description', 'pubmed ID']]\n",
    "ribozyme_go['Source(s)'] = 'Ribocentre'\n",
    "ribozyme_go"
   ]
  },
  {
   "cell_type": "code",
   "execution_count": null,
   "metadata": {},
   "outputs": [],
   "source": [
    "ribozyme_go['go'] = ['','','GO_0015867', 'GO_0032363', 'GO_0010468', 'GO_0010468', 'GO_0010468', 'GO_2000232',\n",
    "                         'GO_0010468', 'GO_0010468', 'GO_0003743', '', '', '', '', '', '', '', 'GO_0010468',\n",
    "                         '', '', '', 'GO_0050790', '', '', '', '', '', 'GO_0050790', '', '', '', '', '']\n",
    "ribozyme_go.insert(1,'go',ribozyme_go.pop('go'))\n",
    "ribozyme_go = pd.merge(ribozyme_rfam_map.rename(columns={0:'ribozyme name'}),\n",
    "                       ribozyme_go, on='ribozyme name').drop(columns='ribozyme name')\n",
    "ribozyme_go = ribozyme_go[ribozyme_go['go']!='']\n",
    "ribozyme_go"
   ]
  },
  {
   "cell_type": "code",
   "execution_count": null,
   "metadata": {},
   "outputs": [],
   "source": [
    "ribozyme_go['pubmed ID'] = 'https://pubmed.ncbi.nlm.nih.gov/' + ribozyme_go['pubmed ID'].astype('Int64').astype('str')\n",
    "ribozyme_go.rename(columns={'go':'Biological process',1:'Ribozyme','pubmed ID':'References (PMID)'},inplace=True)"
   ]
  },
  {
   "cell_type": "code",
   "execution_count": null,
   "metadata": {},
   "outputs": [],
   "source": [
    "ribozyme_go.to_csv(edge_data_location + 'Rribozyme-GO.txt', sep='\\t', index=None)"
   ]
  },
  {
   "cell_type": "markdown",
   "metadata": {},
   "source": [
    "***\n",
    "### viral RNA-ribozyme - http://purl.obolibrary.org/obo/RO_0002526 (overlaps sequence of)"
   ]
  },
  {
   "cell_type": "markdown",
   "metadata": {},
   "source": [
    "* [ViroidDB](https://viroids.org/) <br />\n",
    "ViroidDB is the most comprehensive collection of viroid, satellite RNA, retrozyme, and deltavirus genome sequences available on the internet. "
   ]
  },
  {
   "cell_type": "code",
   "execution_count": null,
   "metadata": {},
   "outputs": [],
   "source": [
    "data_downloader('https://viroids.org/db/latest/all.json', unprocessed_data_location)"
   ]
  },
  {
   "cell_type": "code",
   "execution_count": null,
   "metadata": {
    "scrolled": true
   },
   "outputs": [],
   "source": [
    "vRNA_ribozyme = pd.read_json(unprocessed_data_location + 'all.json').T \n",
    "\n",
    "# Extract ribozymes \n",
    "myre = re.compile(r\"\\n>> .*?\\n\")\n",
    "ribozyme = [myre.findall(i) for i in vRNA_ribozyme.ribozymes]\n",
    "ribozyme = [[j.replace(\"\\n\",'').replace(\">> \",'') for j in i] for i in ribozyme]\n",
    "\n",
    "# List of all possible ribozymes (useful for mapping)\n",
    "a = [i for j in ribozyme for i in j]\n",
    "set(a)"
   ]
  },
  {
   "cell_type": "code",
   "execution_count": null,
   "metadata": {},
   "outputs": [],
   "source": [
    "vRNA_ribozyme = pd.concat([vRNA_ribozyme.reset_index().drop(columns=['index']),\n",
    "                           pd.Series(ribozyme)], axis=1)\n",
    "vRNA_ribozyme = vRNA_ribozyme.explode(0)\n",
    "vRNA_ribozyme[0] = vRNA_ribozyme[0].str.split().str[0]\n",
    "vRNA_ribozyme.drop(columns=['isolationSource','collectionDate','gc','bioSample','genus','family','identicalSeqs','genBankTitle','displayTitle','length',\n",
    "                           'sequenceType','nucCompleteness','genotype','segment','publications',\n",
    "                           'geoLocation','country','usa','submitters','releaseDate','isolate',\n",
    "                            'genus','family','sequence','structure','type','ribozymes','Cls_ID80',\n",
    "                            'Cls_ID70','Cls_ID85','Cls_ID75','Cls_ID95','Cls_ID90','sraAccession','submitters','species','host'],\n",
    "                   inplace=True)\n",
    "vRNA_ribozyme.insert(0,1,vRNA_ribozyme.pop(0))\n",
    "vRNA_ribozyme"
   ]
  },
  {
   "cell_type": "code",
   "execution_count": null,
   "metadata": {},
   "outputs": [],
   "source": [
    "vRNA_ribozyme = pd.merge(ribozyme_rfam_map,vRNA_ribozyme,left_on=0,right_on=1)\n",
    "vRNA_ribozyme.drop(columns=[0],inplace=True)\n",
    "vRNA_ribozyme.insert(1,'accession',vRNA_ribozyme.pop('accession'))\n",
    "vRNA_ribozyme['Source(s)'] = 'ViroidDB'\n",
    "vRNA_ribozyme = vRNA_ribozyme.drop(columns=['1_y','moleculeType'])\n",
    "vRNA_ribozyme"
   ]
  },
  {
   "cell_type": "code",
   "execution_count": null,
   "metadata": {},
   "outputs": [],
   "source": [
    "vRNA_ribozyme.rename(columns={'1_x':'Ribozyme','accession':'Viral RNA'},inplace=True)\n",
    "vRNA_ribozyme = vRNA_ribozyme[['Viral RNA', 'Ribozyme', 'Source(s)']]"
   ]
  },
  {
   "cell_type": "code",
   "execution_count": null,
   "metadata": {},
   "outputs": [],
   "source": [
    "vRNA_ribozyme.drop_duplicates().to_csv(edge_data_location + 'RviralRNA-ribozyme.txt', sep='\\t', index=None)"
   ]
  },
  {
   "cell_type": "markdown",
   "metadata": {},
   "source": [
    "***\n",
    "### circRNA-extracellular form - http://purl.obolibrary.org/obo/RO_0001018 (contained in)"
   ]
  },
  {
   "cell_type": "markdown",
   "metadata": {},
   "source": [
    "* [miRandola](http://mirandola.iit.cnr.it/) <br /> miRandola is a comprehensive manually curated classification of different extracellular circulating non-coding RNA types."
   ]
  },
  {
   "cell_type": "code",
   "execution_count": null,
   "metadata": {},
   "outputs": [],
   "source": [
    "! wget http://mirandola.iit.cnr.it/download/miRandola_version_02_2017.txt"
   ]
  },
  {
   "cell_type": "code",
   "execution_count": null,
   "metadata": {},
   "outputs": [],
   "source": [
    "circRNA_ev = pd.read_csv(unprocessed_data_location+'miRandola_version_02_2017.txt', sep='\\t')\n",
    "circRNA_ev = circRNA_ev[(circRNA_ev['RNA_class'] == 'circRNA') & (circRNA_ev['organism'].str.contains('apiens'))]\n",
    "\n",
    "# circRNA in miRandola only circulates in blood\n",
    "circRNA_ev['gocc'] = 'GO_0072562'\n",
    "circRNA_ev = pd.merge(circRNA_ev, symbol_entrez_map.rename(columns={'0_x':'RNA'}), on='RNA')\n",
    "\n",
    "circRNA_ev['0_y'] = circRNA_ev['0_y'].astype(str) + '?' + circRNA_ev['RNA_class'].astype(str)\n",
    "circRNA_ev = circRNA_ev.drop(columns=['RNA','RNA_class','miRBase_accession','miRBase_Last_Version','miRBase_family','circRNA_accession','organism'])\n",
    "circRNA_ev['Source(s)'] = 'miRandola'\n",
    "circRNA_ev"
   ]
  },
  {
   "cell_type": "markdown",
   "metadata": {},
   "source": [
    "Manual fix."
   ]
  },
  {
   "cell_type": "code",
   "execution_count": null,
   "metadata": {},
   "outputs": [],
   "source": [
    "circRNA_ev['sample'] = circRNA_ev['sample'].str.replace('blood','http://purl.obolibrary.org/obo/UBERON_0000178 (blood)')\n",
    "\n",
    "print(circRNA_ev['method'].unique())\n",
    "circRNA_ev['method'] = circRNA_ev['method'].str.replace('qPCR','http://purl.obolibrary.org/obo/NCIT_C51962 (qpcr)')"
   ]
  },
  {
   "cell_type": "code",
   "execution_count": null,
   "metadata": {},
   "outputs": [],
   "source": [
    "circRNA_ev['PubMed_ID'] = 'https://pubmed.ncbi.nlm.nih.gov/' + circRNA_ev['PubMed_ID'].astype('Int64', errors='ignore').astype('str')\n",
    "circRNA_ev['PubMed_ID'] = circRNA_ev['PubMed_ID'].replace('https://pubmed.ncbi.nlm.nih.gov/<NA>', np.nan)\n",
    "circRNA_ev.rename(columns={'0_y':'circRNA','gocc':'Extracellular form','description':'Description',\n",
    "                           'sample':'Sample', 'disease_or_cell_line': 'Disease/Cell line',\n",
    "                           'PubMed_ID' : 'References (PMID)', 'method':'Method','exRNA_type':'exRNA type'},inplace=True)\n",
    "circRNA_ev = circRNA_ev[['circRNA', 'Extracellular form', 'Description', 'Sample', 'Disease/Cell line',\n",
    "                         'Method', 'exRNA type', 'References (PMID)', 'Source(s)']]"
   ]
  },
  {
   "cell_type": "code",
   "execution_count": null,
   "metadata": {},
   "outputs": [],
   "source": [
    "circRNA_ev.to_csv(edge_data_location + 'RcircRNA-gocc.txt', sep='\\t', index=None)"
   ]
  },
  {
   "cell_type": "markdown",
   "metadata": {},
   "source": [
    "***\n",
    "### Ribozyme-GO - http://purl.obolibrary.org/obo/RO_0000056 | 1025 | 85"
   ]
  },
  {
   "cell_type": "markdown",
   "metadata": {},
   "source": [
    "* [Rfam](http://rfamlive.xfam.org/) <br /> The Rfam database is a collection of RNA families, each represented by multiple sequence alignments, consensus secondary structures and covariance models."
   ]
  },
  {
   "cell_type": "code",
   "execution_count": null,
   "metadata": {},
   "outputs": [],
   "source": [
    "rfam_GO = pd.DataFrame(data=[['LC ribozyme','family/RF00011'],\n",
    "                                 ['glmS ribozyme','family/RF00234'],\n",
    "                                 ['HDV-F-prausnitzii','family/RF02682'],\n",
    "                                 ['Pistol ribozyme','family/RF02679'],\n",
    "                                 ['RNAse P','family/RF00009']#,\n",
    "                                 #['VS ribozyme',''] absent in RFAM\n",
    "                                 ])\n",
    "\n",
    "urls = ['http://rfamlive.xfam.org/' + i + '#tabview=tab8' for i in rfam_GO[1]]\n",
    "df = pd.DataFrame()\n",
    "for url in urls:\n",
    "    temp = pd.read_html(url)[4].loc[0]\n",
    "    df = pd.concat([df, temp])\n",
    "df.reset_index(inplace=True, drop=True)\n",
    "df = df[df.index % 2 != 0]\n",
    "df['ID'] = ['family/RF00011', 'family/RF00234', 'family/RF02682', 'family/RF02679', 'family/RF00009']\n",
    "df[0] = df[0].str.split('; ')\n",
    "df = df.explode(0)\n",
    "df[0] = df[0].str.replace(r'\\(.*?\\)', '', regex=True)\n",
    "df[0] = df[0].str.replace(';', '')\n",
    "df[0] = df[0].str.replace(' ', '')\n",
    "df[0] = df[0].str.replace(':', '_')\n",
    "df['Source(s)'] = 'RFAM'\n",
    "df = df[['ID', 0, 'Source(s)']]\n",
    "df.rename(columns={'ID': 'Ribozyme', 0:'GO'},inplace=True)\n",
    "df\n"
   ]
  },
  {
   "cell_type": "code",
   "execution_count": null,
   "metadata": {},
   "outputs": [],
   "source": [
    "df['GO'].unique()"
   ]
  },
  {
   "cell_type": "code",
   "execution_count": null,
   "metadata": {},
   "outputs": [],
   "source": [
    "df[(df[['Ribozyme', 'GO']]['GO'] == 'GO_0008033') | (df[['Ribozyme', 'GO']]['GO'] == 'GO_0010468')].rename(\n",
    "    columns={'GO':'Biological process'}).to_csv(edge_data_location +'Rribozyme-GObp.txt', sep='\\t', index=None)"
   ]
  },
  {
   "cell_type": "code",
   "execution_count": null,
   "metadata": {},
   "outputs": [],
   "source": [
    "df[(df[['Ribozyme', 'GO']]['GO'] == 'GO_0004526') | (df[['Ribozyme', 'GO']]['GO'] == 'GO_0003824')].rename(\n",
    "    columns={'GO':'Molecular function'}).to_csv(edge_data_location + 'Rribozyme-GOmf.txt', sep='\\t', index=None)"
   ]
  },
  {
   "cell_type": "code",
   "execution_count": null,
   "metadata": {},
   "outputs": [],
   "source": [
    "df[(df[['Ribozyme', 'GO']]['GO'] == 'GO_0030677') | (df[['Ribozyme', 'GO']]['GO'] == 'GO_0030680')].rename(\n",
    "    columns={'GO':'Cellular component'}).to_csv(edge_data_location + 'Rribozyme-GOcc.txt', sep='\\t', index=None)"
   ]
  },
  {
   "cell_type": "markdown",
   "metadata": {},
   "source": [
    "***\n",
    "### circRNA-miRNA - http://purl.obolibrary.org/obo/RO_0002434 (interacts with)"
   ]
  },
  {
   "cell_type": "markdown",
   "metadata": {},
   "source": [
    "* [SomamiR DB](https://compbio.uthsc.edu/SomamiR/)"
   ]
  },
  {
   "cell_type": "code",
   "execution_count": null,
   "metadata": {},
   "outputs": [],
   "source": [
    "! wget https://compbio.uthsc.edu/SomamiR/download/circRNA_somatic_v2.0.txt.tar.gz"
   ]
  },
  {
   "cell_type": "code",
   "execution_count": null,
   "metadata": {},
   "outputs": [],
   "source": [
    "circRNA_miRNA = pd.read_csv(unprocessed_data_location + 'circRNA_somatic_v2.0.txt.tar.gz', sep=\"\\t\", header=None, skiprows=[0])\n",
    "circRNA_miRNA = circRNA_miRNA.drop(columns=[1,5])\n",
    "circRNA_miRNA['Source(s)'] = 'SomamiR DB'\n",
    "circRNA_miRNA"
   ]
  },
  {
   "cell_type": "markdown",
   "metadata": {},
   "source": [
    "***\n",
    "* [miRNet](https://www.mirnet.ca/)"
   ]
  },
  {
   "cell_type": "code",
   "execution_count": null,
   "metadata": {},
   "outputs": [],
   "source": [
    "! wget https://www.dropbox.com/s/oxraur4z5921sg4/miRNet-mir-circRNA.csv?dl=0"
   ]
  },
  {
   "cell_type": "code",
   "execution_count": null,
   "metadata": {},
   "outputs": [],
   "source": [
    "circRNA_miRNA2 = pd.read_csv(unprocessed_data_location + 'miRNet-mir-circRNA.csv?dl=0')\n",
    "circRNA_miRNA2 = circRNA_miRNA2.drop(columns=['mirnet','mbv','embl'])\n",
    "circRNA_miRNA2['Source(s)'] = 'miRNet'\n",
    "circRNA_miRNA2 = circRNA_miRNA2.drop(columns=['gene_name'])\n",
    "circRNA_miRNA2"
   ]
  },
  {
   "cell_type": "code",
   "execution_count": null,
   "metadata": {},
   "outputs": [],
   "source": [
    "circRNA_miRNA = pd.merge(circRNA_miRNA, circRNA_miRNA2, how='outer', left_on=[0, 4], right_on=['symbol', 'mir_id'])\n",
    "\n",
    "circRNA_miRNA[0].fillna(circRNA_miRNA['symbol'], inplace=True)\n",
    "circRNA_miRNA[4].fillna(circRNA_miRNA['mir_id'], inplace=True)\n",
    "circRNA_miRNA['mir_id'].fillna(circRNA_miRNA[4], inplace=True)\n",
    "circRNA_miRNA['symbol'].fillna(circRNA_miRNA[0], inplace=True)\n",
    "\n",
    "circRNA_miRNA = pd.merge(circRNA_miRNA, symbol_entrez_map.rename(columns={'0_x':0}), on=0)\n",
    "circRNA_miRNA = pd.merge(circRNA_miRNA, mirna_mirbase_map.rename(columns={2:4, 0:'a'}), on=4)\n",
    "circRNA_miRNA['0_y'] = circRNA_miRNA['0_y'].astype(str) + '?circRNA'\n",
    "\n",
    "circRNA_miRNA['Source(s)_x'] = circRNA_miRNA['Source(s)_x'].astype(str)\n",
    "circRNA_miRNA['Source(s)_y'] = circRNA_miRNA['Source(s)_y'].astype(str)\n",
    "circRNA_miRNA['Source(s)'] = circRNA_miRNA['Source(s)_x'] + '|' + circRNA_miRNA['Source(s)_y']\n",
    "circRNA_miRNA = circRNA_miRNA.drop(columns=['Source(s)_x', 'Source(s)_y'])\n",
    "\n",
    "circRNA_miRNA['Source(s)'] = circRNA_miRNA['Source(s)'].str.replace('nan\\||\\|nan', '', regex=True)\n",
    "\n",
    "circRNA_miRNA = circRNA_miRNA.drop(columns=[0,4,3,7,8,'mir_acc','mir_id','symbol','entrez'])\n",
    "circRNA_miRNA"
   ]
  },
  {
   "cell_type": "markdown",
   "metadata": {},
   "source": [
    "Manual fix of inconsistencies."
   ]
  },
  {
   "cell_type": "markdown",
   "metadata": {},
   "source": [
    "- Disease."
   ]
  },
  {
   "cell_type": "code",
   "execution_count": null,
   "metadata": {},
   "outputs": [],
   "source": [
    "circRNA_miRNA[16] = circRNA_miRNA[16].str.lower()\n",
    "circRNA_miRNA[16] = circRNA_miRNA[16].str.replace(\"[ns]\", ']')\n",
    "circRNA_miRNA[16] = circRNA_miRNA[16].str.replace(\"]\", '|')\n",
    "circRNA_miRNA[16] = circRNA_miRNA[16].str.replace(\"[\", '')\n",
    "circRNA_miRNA[16] = circRNA_miRNA[16].str.replace(\", \", '|')\n",
    "circRNA_miRNA[16] = circRNA_miRNA[16].str.replace(\"||\", '|')\n",
    "circRNA_miRNA[16] = circRNA_miRNA[16].replace(\"|||\", np.nan)\n",
    "circRNA_miRNA[16] = circRNA_miRNA[16].str.replace('_', ' ')\n",
    "circRNA_miRNA[16] = circRNA_miRNA[16].str.replace('lung/sclc', 'small cell lung carcinoma')\n",
    "circRNA_miRNA[16] = circRNA_miRNA[16].replace(r'\\(.*?\\)', '', regex=True)\n",
    "circRNA_miRNA[16] = circRNA_miRNA[16].replace(r'\\|$', '', regex=True)\n",
    "circRNA_miRNA[16] = [replace_with_mondo(item) for item in circRNA_miRNA[16]]\n",
    "circRNA_miRNA[16].unique()[:5]"
   ]
  },
  {
   "cell_type": "code",
   "execution_count": null,
   "metadata": {},
   "outputs": [],
   "source": [
    "circRNA_miRNA[6] = 'https://pubmed.ncbi.nlm.nih.gov/' + circRNA_miRNA[6].astype('Int64', errors='ignore').astype('str')\n",
    "circRNA_miRNA[6] = circRNA_miRNA[6].str.replace('.0', '', regex=True)\n",
    "circRNA_miRNA[6] = circRNA_miRNA[6].str.replace('|', '|https://pubmed.ncbi.nlm.nih.gov/')\n",
    "circRNA_miRNA[6] = circRNA_miRNA[6].replace('https://pubmed.ncbi.nlm.nih.gov/<NA>', np.nan)\n",
    "\n",
    "circRNA_miRNA.rename(columns={0:'Disease/Cell line', 6:'References (PMID)', 9:'Type', 10:'Modification',\n",
    "                              11:'circRNA binding sequence (binding in upper case)', 12:'miRNA binding sequence',\n",
    "                              13:'Modification2', 15:'Source', 5:'miRNA', 'genbank_id':'GenBank ID',\n",
    "                              '0_y':'circRNA', 'a':'miRNA', 2:'Mutation', 16:'Disease(s)'},inplace=True)\n",
    "circRNA_miRNA.insert(0,'circRNA',circRNA_miRNA.pop('circRNA'))\n",
    "circRNA_miRNA.insert(1,'miRNA',circRNA_miRNA.pop('miRNA'))"
   ]
  },
  {
   "cell_type": "code",
   "execution_count": null,
   "metadata": {},
   "outputs": [],
   "source": [
    "circRNA_maturemiRNA = circRNA_miRNA[(circRNA_miRNA['miRNA'].str.startswith('MIMAT'))]\n",
    "circRNA_premiRNA = circRNA_miRNA[(circRNA_miRNA['miRNA'].str.startswith('MI')) &\n",
    "                                 (~circRNA_miRNA['miRNA'].str.startswith('MIMAT'))]\n",
    "\n",
    "merge_rows(circRNA_maturemiRNA, 'circRNA', 'miRNA').to_csv(edge_data_location + 'RcircRNA-miRNA.txt', sep='\\t', index=None)\n",
    "merge_rows(circRNA_premiRNA, 'circRNA', 'miRNA').to_csv(edge_data_location + 'RcircRNA-premiRNA.txt', sep='\\t', index=None)"
   ]
  },
  {
   "cell_type": "markdown",
   "metadata": {},
   "source": [
    "***\n",
    "### Remove unprocessed raw data"
   ]
  },
  {
   "cell_type": "code",
   "execution_count": null,
   "metadata": {},
   "outputs": [],
   "source": [
    "#shutil.rmtree(unprocessed_data_location)"
   ]
  },
  {
   "cell_type": "markdown",
   "metadata": {},
   "source": [
    "***\n",
    "#### PheKnowLator works with at least 2 rows (we removed headers) per dataframe.\n",
    "Here, we make sure every processed TSV has at least 2 rows."
   ]
  },
  {
   "cell_type": "code",
   "execution_count": null,
   "metadata": {},
   "outputs": [],
   "source": [
    "nodes = pd.read_csv('../resources/edge_source_list.txt',sep=', ',header=None, engine='python')\n",
    "nodes[1] = '../'+nodes[1].astype(str)\n",
    "nodes\n",
    "\n",
    "for i in set(nodes[1]):\n",
    "    #Read every df\n",
    "    #print(i)\n",
    "    df = pd.read_csv(i,sep='\\t',header=None)\n",
    "    #If df has one single row, then double it\n",
    "    if len(df) == 1:\n",
    "        df.append(df).to_csv(i, header=None, sep='\\t', index=None)"
   ]
  },
  {
   "cell_type": "markdown",
   "metadata": {},
   "source": [
    "## Non-ontological entities\n",
    "Non-ontological entities' identifiers **must** be added to `subclass_construction_map.pkl`. A proper class has to be chosen and linked as their subClass."
   ]
  },
  {
   "cell_type": "code",
   "execution_count": null,
   "metadata": {},
   "outputs": [],
   "source": [
    "nodes = pd.read_csv('../resources/edge_source_list.txt',sep=', ',header=None, engine='python')[:115]\n",
    "nodes[['A', 'B']] = nodes[0].str.split('-', 1, expand=True)\n",
    "a = set(nodes['A'])\n",
    "b = set(nodes['B'])\n",
    "print(a.union(b))"
   ]
  },
  {
   "cell_type": "code",
   "execution_count": null,
   "metadata": {},
   "outputs": [],
   "source": [
    "# Provided by PKL ecosystem\n",
    "data_downloader(processed_url+'subclass_construction_map.pkl', '../resources/construction_approach/')\n",
    "\n",
    "# Load data, print row count, and preview it\n",
    "nonO_data = pd.read_pickle(r'../resources/construction_approach/'+'subclass_construction_map.pkl')\n",
    "\n",
    "# For instance, ncbi IDs are mapped to appropriate SO Ontology entries\n",
    "list(nonO_data.items())[:5]"
   ]
  },
  {
   "cell_type": "markdown",
   "metadata": {},
   "source": [
    "***\n",
    "### miRNA sequences"
   ]
  },
  {
   "cell_type": "code",
   "execution_count": null,
   "metadata": {},
   "outputs": [],
   "source": [
    "mature_mirna = mirna_mirbase_map[mirna_mirbase_map[0].str.startswith('MIMAT')]\n",
    "mature_mirna['SO'] = [['SO_0000276']] * len(mature_mirna)\n",
    "\n",
    "pre_mirna = mirna_mirbase_map[~mirna_mirbase_map[0].str.startswith('MIMAT')]\n",
    "pre_mirna['SO'] = [['SO_0000647']] * len(pre_mirna)\n",
    "\n",
    "mirna_mirbase_map = pd.concat([mature_mirna, pre_mirna])\n",
    "\n",
    "mirna_nonO = mirna_mirbase_map.drop(1, axis=1).set_index(0).to_dict()\n",
    "nonO_data = {**nonO_data, **mirna_nonO['SO']}"
   ]
  },
  {
   "cell_type": "code",
   "execution_count": null,
   "metadata": {},
   "outputs": [],
   "source": [
    "# replace every wrongly inserted # with ? within input TSV\n",
    "#for i in os.listdir(\"../resources/edge_dataOLD/\"):\n",
    " #   if \"txt\" in i:\n",
    "  #      with open(\"../resources/edge_dataOLD/\"+i, \"rt\") as fin:\n",
    "   #         with open(\"../resources/edge_data/\"+i, \"wt\") as fout:\n",
    "    #            for line in fin:\n",
    "     #               fout.write(line.replace('#', '?'))\n",
    "    #else:\n",
    "     #   shutil.copyfile(\"../resources/edge_dataOLD/\"+i, \"../resources/edge_data/\"+i)"
   ]
  },
  {
   "cell_type": "markdown",
   "metadata": {},
   "source": [
    "***\n",
    "### ASO sequences"
   ]
  },
  {
   "cell_type": "code",
   "execution_count": null,
   "metadata": {},
   "outputs": [],
   "source": [
    "ASOnonO_data = pd.read_csv('../resources/edge_data/RASO-mRNA.txt',sep='\\t',header=None)[0].drop_duplicates()\n",
    "\n",
    "ASOnonO_data = pd.DataFrame(ASOnonO_data)\n",
    "ASOnonO_data['SO'] = [['SO_0000644']] * len(ASOnonO_data)\n",
    "ASOnonO_data = ASOnonO_data.set_index(0).to_dict()\n",
    "nonO_data = {**nonO_data, **ASOnonO_data['SO']}"
   ]
  },
  {
   "cell_type": "markdown",
   "metadata": {},
   "source": [
    "***\n",
    "### ASO drugs"
   ]
  },
  {
   "cell_type": "code",
   "execution_count": null,
   "metadata": {},
   "outputs": [],
   "source": [
    "ASOdnonO_data = pd.read_csv('../resources/edge_data/RASOd-mRNA.txt',sep='\\t',header=None)[1].append(\n",
    "    pd.read_csv('../resources/edge_data/RASOd-disease.txt',sep='\\t',header=None)[0]).append(\n",
    "    pd.read_csv('../resources/edge_data/RASOd-protein11007.txt',sep='\\t',header=None)[0]).append(\n",
    "    pd.read_csv('../resources/edge_data/RASOd-protein10002.txt',sep='\\t',header=None)[0]).drop_duplicates()\n",
    "\n",
    "ASOdnonO_data = pd.DataFrame(ASOdnonO_data)\n",
    "ASOdnonO_data['SO'] = [['CHEBI_76720']] * len(ASOdnonO_data)\n",
    "ASOdnonO_data = ASOdnonO_data.set_index(0).to_dict()\n",
    "nonO_data = {**nonO_data, **ASOdnonO_data['SO']}"
   ]
  },
  {
   "cell_type": "markdown",
   "metadata": {},
   "source": [
    "***\n",
    "### Aptamer drugs"
   ]
  },
  {
   "cell_type": "code",
   "execution_count": null,
   "metadata": {},
   "outputs": [],
   "source": [
    "aptamerdnonO_data = pd.read_csv('../resources/edge_data/Raptamerd-protein.txt',sep='\\t',header=None)[0].append(\n",
    "    pd.read_csv('../resources/edge_data/Raptamerd-disease.txt',sep='\\t',header=None)[0]).drop_duplicates()\n",
    "\n",
    "aptamerdnonO_data = pd.DataFrame(aptamerdnonO_data)\n",
    "aptamerdnonO_data['SO'] = [['CHEBI_140490']] * len(aptamerdnonO_data)\n",
    "aptamerdnonO_data = aptamerdnonO_data.set_index(0).to_dict()\n",
    "nonO_data = {**nonO_data, **aptamerdnonO_data['SO']}"
   ]
  },
  {
   "cell_type": "markdown",
   "metadata": {},
   "source": [
    "***\n",
    "### Aptamer sequences"
   ]
  },
  {
   "cell_type": "code",
   "execution_count": null,
   "metadata": {},
   "outputs": [],
   "source": [
    "aptamernonO_data = pd.read_csv('../resources/edge_data/Raptamer-protein.txt',sep='\\t',header=None)[0].append(\n",
    "    pd.read_csv('../resources/edge_data/Raptamer-chemical.txt',sep='\\t',header=None)[0]).drop_duplicates()\n",
    "\n",
    "aptamernonO_data = pd.DataFrame(aptamernonO_data)\n",
    "aptamernonO_data['SO'] = [['CHEBI_140490']] * len(aptamernonO_data)\n",
    "aptamernonO_data = aptamernonO_data.set_index(0).to_dict()\n",
    "nonO_data = {**nonO_data, **aptamernonO_data['SO']}"
   ]
  },
  {
   "cell_type": "markdown",
   "metadata": {},
   "source": [
    "***\n",
    "### circRNA sequences"
   ]
  },
  {
   "cell_type": "code",
   "execution_count": null,
   "metadata": {},
   "outputs": [],
   "source": [
    "circRNAnonO_data = pd.read_csv('../resources/edge_data/RcircRNA-disease.txt',sep='\\t',header=None)[0].append(\n",
    "    pd.read_csv('../resources/edge_data/RcircRNA-gocc.txt',sep='\\t',header=None)[0]).append(\n",
    "    pd.read_csv('../resources/edge_data/RcircRNA-miRNA.txt',sep='\\t',header=None)[0]).append(\n",
    "    pd.read_csv('../resources/edge_data/RcircRNA-premiRNA.txt',sep='\\t',header=None)[0]).drop_duplicates()\n",
    "\n",
    "circRNAnonO_data = pd.DataFrame(circRNAnonO_data)\n",
    "circRNAnonO_data['SO'] = [['SO_0002291']] * len(circRNAnonO_data)\n",
    "circRNAnonO_data = circRNAnonO_data.set_index(0).to_dict()\n",
    "nonO_data = {**nonO_data, **circRNAnonO_data['SO']}"
   ]
  },
  {
   "cell_type": "markdown",
   "metadata": {},
   "source": [
    "***\n",
    "### gRNA sequences"
   ]
  },
  {
   "cell_type": "code",
   "execution_count": null,
   "metadata": {},
   "outputs": [],
   "source": [
    "gRNAnonO_data = pd.read_csv('../resources/edge_data/RgRNA-gene.txt',sep='\\t',header=None)[0].drop_duplicates().dropna()\n",
    "\n",
    "gRNAnonO_data = pd.DataFrame(gRNAnonO_data)\n",
    "gRNAnonO_data['SO'] = [['SO_0000602']] * len(gRNAnonO_data)\n",
    "gRNAnonO_data = gRNAnonO_data.set_index(0).to_dict()\n",
    "nonO_data = {**nonO_data, **gRNAnonO_data['SO']}"
   ]
  },
  {
   "cell_type": "markdown",
   "metadata": {},
   "source": [
    "***\n",
    "### lncRNA sequences"
   ]
  },
  {
   "cell_type": "code",
   "execution_count": null,
   "metadata": {},
   "outputs": [],
   "source": [
    "lncRNAnonO_data = pd.read_csv('../resources/edge_data/RmiRNA-lncRNA.txt',sep='\\t',header=None)[1].append(\n",
    "    pd.read_csv('../resources/edge_data/RpremiRNA-lncRNA.txt',sep='\\t',header=None)[1]).append(\n",
    "    pd.read_csv('../resources/edge_data/RsnoRNA-lncRNA.txt',sep='\\t',header=None)[1]).append(\n",
    "    pd.read_csv('../resources/edge_data/RlncRNA-gene.txt',sep='\\t',header=None)[0]).append(\n",
    "    pd.read_csv('../resources/edge_data/RlncRNA-disease.txt',sep='\\t',header=None)[0]).append(\n",
    "    pd.read_csv('../resources/edge_data/RlncRNA-chemical.txt',sep='\\t',header=None)[0]).append(\n",
    "    pd.read_csv('../resources/edge_data/RsmallProtein-lncRNA.txt',sep='\\t',header=None)[1]).append(\n",
    "    pd.read_csv('../resources/edge_data/RlncRNA-protein.txt',sep='\\t',header=None)[0]).append(\n",
    "    pd.read_csv('../resources/edge_data/RlncRNA-expression2245.txt',sep='\\t',header=None)[0]).append(\n",
    "    pd.read_csv('../resources/edge_data/RlncRNA-expression2246.txt',sep='\\t',header=None)[0]).append(\n",
    "    pd.read_csv('../resources/edge_data/RlncRNA-expression2291.txt',sep='\\t',header=None)[0]).append(\n",
    "    pd.read_csv('../resources/edge_data/RlncRNA-role.txt',sep='\\t',header=None)[1]).append(\n",
    "    pd.read_csv('../resources/edge_data/RlncRNA-gocc.txt',sep='\\t',header=None)[0]).append(\n",
    "    pd.read_csv('../resources/edge_data/RlncRNA-pw.txt',sep='\\t',header=None)[0]).append(\n",
    "    pd.read_csv('../resources/edge_data/RlncRNA-gobp.txt',sep='\\t',header=None)[0]).append(\n",
    "    pd.read_csv('../resources/edge_data/RlncRNA-mRNA.txt',sep='\\t',header=None)[0]).append(\n",
    "    pd.read_csv('../resources/edge_data/Hgene-lncRNA.txt',sep='\\t',header=None)[1]).append(\n",
    "    pd.read_csv('../resources/edge_data/HlncRNA-anatomy.txt',sep='\\t',header=None)[0]).append(\n",
    "    pd.read_csv('../resources/edge_data/HlncRNA-cell.txt',sep='\\t',header=None)[0]).drop_duplicates()\n",
    "\n",
    "lncRNAnonO_data = pd.DataFrame(lncRNAnonO_data)\n",
    "lncRNAnonO_data['SO'] = [['SO_0001877']] * len(lncRNAnonO_data)\n",
    "lncRNAnonO_data = lncRNAnonO_data.set_index(0).to_dict()\n",
    "nonO_data = {**nonO_data, **lncRNAnonO_data['SO']}"
   ]
  },
  {
   "cell_type": "markdown",
   "metadata": {},
   "source": [
    "***\n",
    "### mRNA vaccines sequences"
   ]
  },
  {
   "cell_type": "code",
   "execution_count": null,
   "metadata": {
    "scrolled": true
   },
   "outputs": [],
   "source": [
    "mRNAvnonO_data = pd.read_csv('../resources/edge_data/RmRNAv-disease.txt',sep='\\t',header=None)[0].drop_duplicates()\n",
    "\n",
    "mRNAvnonO_data = pd.DataFrame(mRNAvnonO_data)\n",
    "mRNAvnonO_data['SO'] = [['VO_0000186']] * len(mRNAvnonO_data)\n",
    "mRNAvnonO_data = mRNAvnonO_data.set_index(0).to_dict()\n",
    "nonO_data = {**nonO_data, **mRNAvnonO_data['SO']}"
   ]
  },
  {
   "cell_type": "markdown",
   "metadata": {},
   "source": [
    "***\n",
    "### scaRNA sequences"
   ]
  },
  {
   "cell_type": "code",
   "execution_count": null,
   "metadata": {
    "scrolled": true
   },
   "outputs": [],
   "source": [
    "scaRNAnonO_data = pd.read_csv('../resources/edge_data/RsnoRNA-scaRNA.txt',sep='\\t',header=None)[1].append(\n",
    "    pd.read_csv('../resources/edge_data/Hgene-scaRNA.txt',sep='\\t',header=None)[1]).append(\n",
    "    pd.read_csv('../resources/edge_data/HscaRNA-anatomy.txt',sep='\\t',header=None)[0]).append(\n",
    "    pd.read_csv('../resources/edge_data/HscaRNA-cell.txt',sep='\\t',header=None)[0]).drop_duplicates().dropna()\n",
    "\n",
    "scaRNAnonO_data = pd.DataFrame(scaRNAnonO_data)\n",
    "scaRNAnonO_data['SO'] = [['SO_0002095']] * len(scaRNAnonO_data)\n",
    "scaRNAnonO_data = scaRNAnonO_data.set_index(0).to_dict()\n",
    "nonO_data = {**nonO_data, **scaRNAnonO_data['SO']}"
   ]
  },
  {
   "cell_type": "markdown",
   "metadata": {},
   "source": [
    "***\n",
    "### scRNA sequences"
   ]
  },
  {
   "cell_type": "code",
   "execution_count": null,
   "metadata": {},
   "outputs": [],
   "source": [
    "scRNAnonO_data = pd.read_csv('../resources/edge_data/Hgene-scRNA.txt',sep='\\t',header=None)[1].append(\n",
    "    pd.read_csv('../resources/edge_data/HscRNA-anatomy.txt',sep='\\t',header=None)[0]).append(\n",
    "    pd.read_csv('../resources/edge_data/HscRNA-cell.txt',sep='\\t',header=None)[0]).drop_duplicates()\n",
    "\n",
    "scRNAnonO_data = pd.DataFrame(scRNAnonO_data)\n",
    "scRNAnonO_data['SO'] = [['SO_0000013']] * len(scRNAnonO_data)\n",
    "scRNAnonO_data = scRNAnonO_data.set_index(0).to_dict()\n",
    "nonO_data = {**nonO_data, **scRNAnonO_data['SO']}"
   ]
  },
  {
   "cell_type": "markdown",
   "metadata": {},
   "source": [
    "***\n",
    "### snRNA sequences"
   ]
  },
  {
   "cell_type": "code",
   "execution_count": null,
   "metadata": {},
   "outputs": [],
   "source": [
    "snRNAnonO_data = pd.read_csv('../resources/edge_data/RsnoRNA-snRNA.txt',sep='\\t',header=None)[1].append(\n",
    "    pd.read_csv('../resources/edge_data/Hgene-snRNA.txt',sep='\\t',header=None)[1]).append(\n",
    "    pd.read_csv('../resources/edge_data/HsnRNA-anatomy.txt',sep='\\t',header=None)[0]).append(\n",
    "    pd.read_csv('../resources/edge_data/HsnRNA-cell.txt',sep='\\t',header=None)[0]).drop_duplicates()\n",
    "\n",
    "snRNAnonO_data = pd.DataFrame(snRNAnonO_data)\n",
    "snRNAnonO_data['SO'] = [['SO_0000274']] * len(snRNAnonO_data)\n",
    "snRNAnonO_data = snRNAnonO_data.set_index(0).to_dict()\n",
    "nonO_data = {**nonO_data, **snRNAnonO_data['SO']}"
   ]
  },
  {
   "cell_type": "markdown",
   "metadata": {},
   "source": [
    "***\n",
    "### tRNA sequences"
   ]
  },
  {
   "cell_type": "code",
   "execution_count": null,
   "metadata": {},
   "outputs": [],
   "source": [
    "tRNAnonO_data = pd.read_csv('../resources/edge_data/RtsRNA-tRNA_tRFdb.txt',sep='\\t',header=None)[1].append(\n",
    "    pd.read_csv('../resources/edge_data/RtsRNA-tRNA_MINTbase.txt',sep='\\t',header=None)[1]).append(\n",
    "    pd.read_csv('../resources/edge_data/RtRNA-aminoacid.txt',sep='\\t',header=None)[0]).append(\n",
    "    pd.read_csv('../resources/edge_data/RsnoRNA-tRNA.txt',sep='\\t',header=None)[1]).drop_duplicates().dropna()\n",
    "\n",
    "tRNAnonO_data = pd.DataFrame(tRNAnonO_data)\n",
    "tRNAnonO_data['SO'] = [['SO_0000253']] * len(tRNAnonO_data)\n",
    "tRNAnonO_data = tRNAnonO_data.set_index(0).to_dict()\n",
    "nonO_data = {**nonO_data, **tRNAnonO_data['SO']}"
   ]
  },
  {
   "cell_type": "markdown",
   "metadata": {},
   "source": [
    "***\n",
    "### Retained intron sequences"
   ]
  },
  {
   "cell_type": "code",
   "execution_count": null,
   "metadata": {},
   "outputs": [],
   "source": [
    "rinonO_data = pd.read_csv('../resources/edge_data/RsnoRNA-retainedIntron.txt',sep='\\t',header=None)[1].append(\n",
    "    pd.read_csv('../resources/edge_data/Hgene-retained_intron.txt',sep='\\t',header=None)[1]).append(\n",
    "    pd.read_csv('../resources/edge_data/Hretained_intron-anatomy.txt',sep='\\t',header=None)[0]).append(\n",
    "    pd.read_csv('../resources/edge_data/Hretained_intron-cell.txt',sep='\\t',header=None)[0]).drop_duplicates()\n",
    "\n",
    "rinonO_data = pd.DataFrame(rinonO_data)\n",
    "rinonO_data['SO'] = [['SO_0000188']] * len(rinonO_data)\n",
    "rinonO_data = rinonO_data.set_index(0).to_dict()\n",
    "nonO_data = {**nonO_data, **rinonO_data['SO']}"
   ]
  },
  {
   "cell_type": "markdown",
   "metadata": {},
   "source": [
    "***\n",
    "### rRNA sequences"
   ]
  },
  {
   "cell_type": "code",
   "execution_count": null,
   "metadata": {},
   "outputs": [],
   "source": [
    "rRNAnonO_data = pd.read_csv('../resources/edge_data/RsnoRNA-rRNA.txt',sep='\\t',header=None)[1].append(\n",
    "    pd.read_csv('../resources/edge_data/Hgene-rRNA.txt',sep='\\t',header=None)[1]).drop_duplicates()\n",
    "\n",
    "rRNAnonO_data = pd.DataFrame(rRNAnonO_data)\n",
    "rRNAnonO_data['SO'] = [['SO_0000252']] * len(rRNAnonO_data)\n",
    "rRNAnonO_data = rRNAnonO_data.set_index(1).to_dict()\n",
    "nonO_data = {**nonO_data, **rRNAnonO_data['SO']}"
   ]
  },
  {
   "cell_type": "markdown",
   "metadata": {},
   "source": [
    "***\n",
    "### Pseudogene sequences"
   ]
  },
  {
   "cell_type": "code",
   "execution_count": null,
   "metadata": {},
   "outputs": [],
   "source": [
    "pseudononO_data = pd.read_csv('../resources/edge_data/RmiRNA-pseudogene.txt',sep='\\t',header=None)[1].append(\n",
    "    pd.read_csv('../resources/edge_data/RsnoRNA-pseudogene.txt',sep='\\t',header=None)[1]).append(\n",
    "    pd.read_csv('../resources/edge_data/Hgene-pseudo.txt',sep='\\t',header=None)[1]).append(\n",
    "    pd.read_csv('../resources/edge_data/Hpseudo-anatomy.txt',sep='\\t',header=None)[0]).append(\n",
    "    pd.read_csv('../resources/edge_data/Hpseudo-cell.txt',sep='\\t',header=None)[0]).drop_duplicates()\n",
    "\n",
    "pseudononO_data = pd.DataFrame(pseudononO_data)\n",
    "pseudononO_data['SO'] = [['SO_0000336']] * len(pseudononO_data)\n",
    "pseudononO_data = pseudononO_data.set_index(0).to_dict()\n",
    "nonO_data = {**nonO_data, **pseudononO_data['SO']}"
   ]
  },
  {
   "cell_type": "markdown",
   "metadata": {},
   "source": [
    "***\n",
    "### Mitochondrial tRNA sequences"
   ]
  },
  {
   "cell_type": "code",
   "execution_count": null,
   "metadata": {},
   "outputs": [],
   "source": [
    "mttRNAnonO_data = pd.read_csv('../resources/edge_data/Hgene-mt_tRNA.txt',sep='\\t',header=None)[1].drop_duplicates()\n",
    "\n",
    "mttRNAnonO_data = pd.DataFrame(mttRNAnonO_data)\n",
    "mttRNAnonO_data['SO'] = [['SO_0000253','SO_0001272']] * len(mttRNAnonO_data)\n",
    "mttRNAnonO_data = mttRNAnonO_data.set_index(1).to_dict()\n",
    "nonO_data = {**nonO_data, **mttRNAnonO_data['SO']}"
   ]
  },
  {
   "cell_type": "markdown",
   "metadata": {},
   "source": [
    "***\n",
    "### miscRNA sequences"
   ]
  },
  {
   "cell_type": "code",
   "execution_count": null,
   "metadata": {},
   "outputs": [],
   "source": [
    "unknownRNAnonO_data = pd.read_csv('../resources/edge_data/RsnoRNA-miscRNA.txt',sep='\\t',header=None)[1].append(\n",
    "    pd.read_csv('../resources/edge_data/Hgene-misc_RNA.txt',sep='\\t',header=None)[1]).append(\n",
    "    pd.read_csv('../resources/edge_data/Hmisc_RNA-anatomy.txt',sep='\\t',header=None)[0]).append(\n",
    "    pd.read_csv('../resources/edge_data/Hmisc_RNA-cell.txt',sep='\\t',header=None)[0]).drop_duplicates()\n",
    "\n",
    "unknownRNAnonO_data = pd.DataFrame(unknownRNAnonO_data)\n",
    "unknownRNAnonO_data['SO'] = [['SO_0000356']] * len(unknownRNAnonO_data)\n",
    "unknownRNAnonO_data = unknownRNAnonO_data.set_index(0).to_dict()\n",
    "nonO_data = {**nonO_data, **unknownRNAnonO_data['SO']}"
   ]
  },
  {
   "cell_type": "markdown",
   "metadata": {},
   "source": [
    "***\n",
    "### mRNA sequences"
   ]
  },
  {
   "cell_type": "code",
   "execution_count": null,
   "metadata": {},
   "outputs": [],
   "source": [
    "mRNAnonO_data = pd.read_csv('../resources/edge_data/RpremiRNA-mRNA.txt',sep='\\t',header=None)[1].append(\n",
    "    pd.read_csv('../resources/edge_data/RmiRNA-mRNA.txt',sep='\\t',header=None)[1]).append(\n",
    "    pd.read_csv('../resources/edge_data/RsnoRNA-mRNA.txt',sep='\\t',header=None)[1]).append(\n",
    "    pd.read_csv('../resources/edge_data/RASO-mRNA.txt',sep='\\t',header=None)[1]).append(\n",
    "    pd.read_csv('../resources/edge_data/RASOd-mRNA.txt',sep='\\t',header=None)[0]).append(\n",
    "    pd.read_csv('../resources/edge_data/RsiRNAd-mRNA.txt',sep='\\t',header=None)[1]).append(\n",
    "    pd.read_csv('../resources/edge_data/RsiRNA-mRNA.txt',sep='\\t',header=None)[1]).append(\n",
    "    pd.read_csv('../resources/edge_data/RshRNA-mRNA.txt',sep='\\t',header=None)[1]).append(\n",
    "    pd.read_csv('../resources/edge_data/RlncRNA-mRNA.txt',sep='\\t',header=None)[1]).append(\n",
    "    pd.read_csv('../resources/edge_data/Hgene-mRNA.txt',sep='\\t',header=None)[1]).append(\n",
    "    pd.read_csv('../resources/edge_data/HmRNA-protein.txt',sep='\\t',header=None)[0]).append(\n",
    "    pd.read_csv('../resources/edge_data/HmRNA-anatomy.txt',sep='\\t',header=None)[0]).append(\n",
    "    pd.read_csv('../resources/edge_data/HmRNA-cell.txt',sep='\\t',header=None)[0]).drop_duplicates()\n",
    "\n",
    "mRNAnonO_data = pd.DataFrame(mRNAnonO_data)\n",
    "mRNAnonO_data['SO'] = [['SO_0000234']] * len(mRNAnonO_data)\n",
    "mRNAnonO_data = mRNAnonO_data.set_index(0).to_dict()\n",
    "nonO_data = {**nonO_data, **mRNAnonO_data['SO']}"
   ]
  },
  {
   "cell_type": "markdown",
   "metadata": {},
   "source": [
    "***\n",
    "### TEC sequences"
   ]
  },
  {
   "cell_type": "code",
   "execution_count": null,
   "metadata": {},
   "outputs": [],
   "source": [
    "TECnonO_data = pd.read_csv('../resources/edge_data/Hgene-TEC.txt',sep='\\t',header=None)[1].append(\n",
    "    pd.read_csv('../resources/edge_data/HTEC-anatomy.txt',sep='\\t',header=None)[0]).append(\n",
    "    pd.read_csv('../resources/edge_data/HTEC-cell.txt',sep='\\t',header=None)[0]).drop_duplicates()\n",
    "\n",
    "TECnonO_data = pd.DataFrame(TECnonO_data)\n",
    "TECnonO_data['SO'] = [['SO_0002139']] * len(TECnonO_data)\n",
    "TECnonO_data = TECnonO_data.set_index(0).to_dict()\n",
    "nonO_data = {**nonO_data, **TECnonO_data['SO']}"
   ]
  },
  {
   "cell_type": "markdown",
   "metadata": {},
   "source": [
    "***\n",
    "### tsRNA sequences"
   ]
  },
  {
   "cell_type": "code",
   "execution_count": null,
   "metadata": {},
   "outputs": [],
   "source": [
    "tsRNAnonO_data = pd.read_csv('../resources/edge_data/RtsRNA-miRNA.txt',sep='\\t',header=None)[0].append(\n",
    "    pd.read_csv('../resources/edge_data/RtsRNA-disease.txt',sep='\\t',header=None)[0]).append(\n",
    "    pd.read_csv('../resources/edge_data/RtsRNA-tRNA_tRFdb.txt',sep='\\t',header=None)[0]).append(\n",
    "    pd.read_csv('../resources/edge_data/RtsRNA-tRNA_MINTbase.txt',sep='\\t',header=None)[0]).drop_duplicates()\n",
    "\n",
    "tsRNAnonO_data = pd.DataFrame(tsRNAnonO_data)\n",
    "tsRNAnonO_data['SO'] = [['SO_0000253']] * len(tsRNAnonO_data)\n",
    "tsRNAnonO_data = tsRNAnonO_data.set_index(0).to_dict()\n",
    "nonO_data = {**nonO_data, **tsRNAnonO_data['SO']}"
   ]
  },
  {
   "cell_type": "markdown",
   "metadata": {},
   "source": [
    "***\n",
    "### Riboswitch sequences"
   ]
  },
  {
   "cell_type": "code",
   "execution_count": null,
   "metadata": {},
   "outputs": [],
   "source": [
    "riboswitchnonO_data = pd.read_csv('../resources/edge_data/Rriboswitch-protein.txt',sep='\\t',header=None)[0].append(\n",
    "    pd.read_csv('../resources/edge_data/Rriboswitch-bactStrain.txt',sep='\\t',header=None)[0]).append(\n",
    "    pd.read_csv('../resources/edge_data/Rriboswitch-gobp.txt',sep='\\t',header=None)[0]).drop_duplicates()\n",
    "\n",
    "riboswitchnonO_data = pd.DataFrame(riboswitchnonO_data)\n",
    "riboswitchnonO_data['SO'] = [['SO_0000035']] * len(riboswitchnonO_data)\n",
    "riboswitchnonO_data = riboswitchnonO_data.set_index(0).to_dict()\n",
    "nonO_data = {**nonO_data, **riboswitchnonO_data['SO']}"
   ]
  },
  {
   "cell_type": "markdown",
   "metadata": {},
   "source": [
    "***\n",
    "### Ribozyme sequences"
   ]
  },
  {
   "cell_type": "code",
   "execution_count": null,
   "metadata": {},
   "outputs": [],
   "source": [
    "ribozymenonO_data = pd.read_csv('../resources/edge_data/Rribozyme-GO.txt',sep='\\t',header=None)[0].append(\n",
    "    pd.read_csv('../resources/edge_data/RviralRNA-ribozyme.txt',sep='\\t',header=None)[1]).drop_duplicates()\n",
    "\n",
    "ribozymenonO_data = pd.DataFrame(ribozymenonO_data)\n",
    "ribozymenonO_data['SO'] = [['SO_0000374']] * len(ribozymenonO_data)\n",
    "ribozymenonO_data = ribozymenonO_data.set_index(0).to_dict()\n",
    "nonO_data = {**nonO_data, **ribozymenonO_data['SO']}"
   ]
  },
  {
   "cell_type": "markdown",
   "metadata": {},
   "source": [
    "***\n",
    "### Viral RNA sequences"
   ]
  },
  {
   "cell_type": "code",
   "execution_count": null,
   "metadata": {},
   "outputs": [],
   "source": [
    "vRNA_ribozyme.moleculeType.unique()"
   ]
  },
  {
   "cell_type": "code",
   "execution_count": null,
   "metadata": {},
   "outputs": [],
   "source": [
    "ssRNA = vRNA_ribozyme[['accession', 'moleculeType']].loc[vRNA_ribozyme['moleculeType'] == 'ssRNA']\n",
    "ssRNA['SO'] = [['SO_0001199']] * len(ssRNA)\n",
    "ssRNA"
   ]
  },
  {
   "cell_type": "code",
   "execution_count": null,
   "metadata": {},
   "outputs": [],
   "source": [
    "ssRNAnonO_data = ssRNA.set_index('accession').to_dict()\n",
    "nonO_data = {**nonO_data, **ssRNAnonO_data['SO']}"
   ]
  },
  {
   "cell_type": "code",
   "execution_count": null,
   "metadata": {},
   "outputs": [],
   "source": [
    "ssRNAm = vRNA_ribozyme[['accession', 'moleculeType']].loc[vRNA_ribozyme['moleculeType'] == 'ssRNA(-)']\n",
    "ssRNAm['SO'] = [['SO_0001200']] * len(ssRNAm)\n",
    "ssRNAmnonO_data = ssRNAm.set_index('accession').to_dict()\n",
    "nonO_data = {**nonO_data, **ssRNAmnonO_data['SO']}\n",
    "    \n",
    "dsRNA = vRNA_ribozyme[['accession', 'moleculeType']].loc[vRNA_ribozyme['moleculeType'] == 'RNA']\n",
    "dsRNA['SO'] = [['SO_0001169']] * len(dsRNA)\n",
    "dsRNAnonO_data = dsRNA.set_index('accession').to_dict()\n",
    "nonO_data = {**nonO_data, **dsRNAnonO_data['SO']}\n",
    "    \n",
    "viralRNA = vRNA_ribozyme[['accession', 'moleculeType']].loc[vRNA_ribozyme['moleculeType'].isna()]\n",
    "viralRNA['SO'] = [['SO_0001041']] * len(viralRNA)\n",
    "viralRNAnonO_data = viralRNA.set_index('accession').to_dict()\n",
    "nonO_data = {**nonO_data, **viralRNAnonO_data['SO']}"
   ]
  },
  {
   "cell_type": "markdown",
   "metadata": {},
   "source": [
    "***\n",
    "### siRNA sequences"
   ]
  },
  {
   "cell_type": "code",
   "execution_count": null,
   "metadata": {},
   "outputs": [],
   "source": [
    "siRNAnonO_data = pd.read_csv('../resources/edge_data/RsiRNA-mRNA.txt',sep='\\t',header=None)[0].drop_duplicates()\n",
    "\n",
    "siRNAnonO_data = pd.DataFrame(siRNAnonO_data)\n",
    "siRNAnonO_data['SO'] = [['SO_0000646']] * len(siRNAnonO_data)\n",
    "siRNAnonO_data = siRNAnonO_data.set_index(0).to_dict()\n",
    "nonO_data = {**nonO_data, **siRNAnonO_data['SO']}"
   ]
  },
  {
   "cell_type": "markdown",
   "metadata": {},
   "source": [
    "***\n",
    "### shRNA sequences"
   ]
  },
  {
   "cell_type": "code",
   "execution_count": null,
   "metadata": {},
   "outputs": [],
   "source": [
    "shRNAnonO_data = pd.read_csv('../resources/edge_data/RshRNA-mRNA.txt',sep='\\t',header=None)[0].drop_duplicates()\n",
    "\n",
    "shRNAnonO_data = pd.DataFrame(shRNAnonO_data)\n",
    "shRNAnonO_data['SO'] = [['SO_0002031']] * len(shRNAnonO_data)\n",
    "shRNAnonO_data = shRNAnonO_data.set_index(0).to_dict()\n",
    "nonO_data = {**nonO_data, **shRNAnonO_data['SO']}"
   ]
  },
  {
   "cell_type": "markdown",
   "metadata": {},
   "source": [
    "***\n",
    "### snoRNA sequences"
   ]
  },
  {
   "cell_type": "code",
   "execution_count": null,
   "metadata": {},
   "outputs": [],
   "source": [
    "snoRNAnonO_data = pd.read_csv('../resources/edge_data/RsnoRNA-gene.txt',sep='\\t',header=None)[0].append(\n",
    "    pd.read_csv('../resources/edge_data/RsnoRNA-premiRNA.txt',sep='\\t',header=None)[0]).append(\n",
    "    pd.read_csv('../resources/edge_data/RsnoRNA-miRNA.txt',sep='\\t',header=None)[0]).append(\n",
    "    pd.read_csv('../resources/edge_data/RsnoRNA-snoRNA.txt',sep='\\t',header=None)[0]).append(\n",
    "    pd.read_csv('../resources/edge_data/RsnoRNA-snoRNA.txt',sep='\\t',header=None)[1]).append(\n",
    "    pd.read_csv('../resources/edge_data/RsnoRNA-lncRNA.txt',sep='\\t',header=None)[0]).append(\n",
    "    pd.read_csv('../resources/edge_data/RsnoRNA-snRNA.txt',sep='\\t',header=None)[0]).append(\n",
    "    pd.read_csv('../resources/edge_data/RsnoRNA-rRNA.txt',sep='\\t',header=None)[0]).append(\n",
    "    pd.read_csv('../resources/edge_data/RsnoRNA-mRNA.txt',sep='\\t',header=None)[0]).append(\n",
    "    pd.read_csv('../resources/edge_data/RsnoRNA-tRNA.txt',sep='\\t',header=None)[0]).append(\n",
    "    pd.read_csv('../resources/edge_data/RsnoRNA-retainedIntron.txt',sep='\\t',header=None)[0]).append(\n",
    "    pd.read_csv('../resources/edge_data/RsnoRNA-miscRNA.txt',sep='\\t',header=None)[0]).append(\n",
    "    pd.read_csv('../resources/edge_data/RsnoRNA-scaRNA.txt',sep='\\t',header=None)[0]).append(\n",
    "    pd.read_csv('../resources/edge_data/RsnoRNA-pseudogene.txt',sep='\\t',header=None)[0]).append(\n",
    "    pd.read_csv('../resources/edge_data/Hgene-snoRNA.txt',sep='\\t',header=None)[1]).append(\n",
    "    pd.read_csv('../resources/edge_data/HsnoRNA-anatomy.txt',sep='\\t',header=None)[0]).append(\n",
    "    pd.read_csv('../resources/edge_data/HsnoRNA-cell.txt',sep='\\t',header=None)[0]).drop_duplicates()\n",
    "\n",
    "snoRNAnonO_data = pd.DataFrame(snoRNAnonO_data)\n",
    "snoRNAnonO_data['SO'] = [['SO_0000275']] * len(snoRNAnonO_data)\n",
    "snoRNAnonO_data = snoRNAnonO_data.set_index(0).to_dict()\n",
    "nonO_data = {**nonO_data, **snoRNAnonO_data['SO']}"
   ]
  },
  {
   "cell_type": "markdown",
   "metadata": {},
   "source": [
    "***\n",
    "### Small proteins"
   ]
  },
  {
   "cell_type": "code",
   "execution_count": null,
   "metadata": {},
   "outputs": [],
   "source": [
    "spnonO_data = pd.read_csv('../resources/edge_data/RsmallProtein-lncRNA.txt',sep='\\t',header=None)[0].drop_duplicates()\n",
    "\n",
    "spnonO_data = pd.DataFrame(spnonO_data)\n",
    "spnonO_data['SO'] = [['SO_0000104']] * len(spnonO_data)\n",
    "spnonO_data = spnonO_data.set_index(0).to_dict()\n",
    "nonO_data = {**nonO_data, **spnonO_data['SO']}"
   ]
  },
  {
   "cell_type": "markdown",
   "metadata": {},
   "source": [
    "***\n",
    "### siRNA drugs"
   ]
  },
  {
   "cell_type": "code",
   "execution_count": null,
   "metadata": {},
   "outputs": [],
   "source": [
    "siRNAdnonO_data = pd.read_csv('../resources/edge_data/RsiRNAd-mRNA.txt',sep='\\t',header=None)[0].append(\n",
    "    pd.read_csv('../resources/edge_data/RsiRNAd-disease.txt',sep='\\t',header=None)[0]).drop_duplicates()\n",
    "\n",
    "siRNAdnonO_data = pd.DataFrame(siRNAdnonO_data)\n",
    "siRNAdnonO_data['SO'] = [['SO_0002031', 'CHEBI_23888']] * len(siRNAdnonO_data)\n",
    "siRNAdnonO_data = siRNAdnonO_data.set_index(0).to_dict()\n",
    "nonO_data = {**nonO_data, **siRNAdnonO_data['SO']}"
   ]
  },
  {
   "cell_type": "markdown",
   "metadata": {},
   "source": [
    "***\n",
    "### Biological roles in ChEBI"
   ]
  },
  {
   "cell_type": "code",
   "execution_count": null,
   "metadata": {},
   "outputs": [],
   "source": [
    "bio_role = pd.DataFrame(columns = [\"role\", \"ChEBI\"])\n",
    "bio_role['role'] = ['General', 'Tumor-Suppressor-Gene', 'Oncogene']\n",
    "bio_role['ChEBI'] = [['CHEBI_24432']] * 3\n",
    "bio_role"
   ]
  },
  {
   "cell_type": "code",
   "execution_count": null,
   "metadata": {},
   "outputs": [],
   "source": [
    "role_nonO_data = bio_role.set_index('role').to_dict()\n",
    "nonO_data = {**nonO_data, **role_nonO_data['ChEBI']}"
   ]
  },
  {
   "cell_type": "markdown",
   "metadata": {},
   "source": [
    "***\n",
    "### Epigenetic modifications in GO"
   ]
  },
  {
   "cell_type": "code",
   "execution_count": null,
   "metadata": {},
   "outputs": [],
   "source": [
    "#miRNA_epiMod.epi_modification.unique()"
   ]
  },
  {
   "cell_type": "code",
   "execution_count": null,
   "metadata": {},
   "outputs": [],
   "source": [
    "epiMod = pd.DataFrame(columns = [\"mod\", \"GO\"])\n",
    "epiMod['mod'] = ['H3K4me3', 'H3K9me2', 'H3K9me3', 'H3K27me3', 'H3K4me', 'H3K79me2', 'H3K4me2',\n",
    "                 'H3K9me', 'H3K27me', 'H3K36me2', 'H3R17me2']\n",
    "epiMod['GO'] = [['GO_0016571']] * len(epiMod['mod'])\n",
    "epiMod"
   ]
  },
  {
   "cell_type": "code",
   "execution_count": null,
   "metadata": {},
   "outputs": [],
   "source": [
    "go_nonO_data = epiMod.set_index('mod').to_dict()\n",
    "nonO_data = {**nonO_data, **go_nonO_data['GO']}"
   ]
  },
  {
   "cell_type": "code",
   "execution_count": null,
   "metadata": {},
   "outputs": [],
   "source": [
    "epiMod = pd.DataFrame(columns = [\"mod\", \"GO\"])\n",
    "epiMod['mod'] = ['H3S10P']\n",
    "epiMod['GO'] = [['GO_0006468']]\n",
    "epiMod"
   ]
  },
  {
   "cell_type": "code",
   "execution_count": null,
   "metadata": {},
   "outputs": [],
   "source": [
    "go_nonO_data = epiMod.set_index('mod').to_dict()\n",
    "nonO_data = {**nonO_data, **go_nonO_data['GO']}"
   ]
  },
  {
   "cell_type": "code",
   "execution_count": null,
   "metadata": {},
   "outputs": [],
   "source": [
    "epiMod = pd.DataFrame(columns = [\"mod\", \"GO\"])\n",
    "epiMod['mod'] = ['H3ac', 'H4ac', 'H3K9ac', 'H5ac', 'H3K4ac', 'H3K14ac']\n",
    "epiMod['GO'] = [['GO_0016573']] * len(epiMod['mod'])\n",
    "epiMod"
   ]
  },
  {
   "cell_type": "code",
   "execution_count": null,
   "metadata": {},
   "outputs": [],
   "source": [
    "go_nonO_data = epiMod.set_index('mod').to_dict()\n",
    "nonO_data = {**nonO_data, **go_nonO_data['GO']}"
   ]
  },
  {
   "cell_type": "code",
   "execution_count": null,
   "metadata": {},
   "outputs": [],
   "source": [
    "with open('../resources/construction_approach/'+'subclass_construction_map.pkl', 'wb') as handle:\n",
    "    pickle.dump(nonO_data, handle, protocol=pickle.HIGHEST_PROTOCOL)"
   ]
  },
  {
   "cell_type": "code",
   "execution_count": null,
   "metadata": {},
   "outputs": [],
   "source": [
    "# DO NOT RUN, this cell is only intended to CHECK everything's OK\n",
    "nonO_data = pd.read_pickle(r'../resources/construction_approach/'+'subclass_construction_map.pkl')\n",
    "\n",
    "nonO_data.items()"
   ]
  }
 ],
 "metadata": {
  "kernelspec": {
   "display_name": "Python 3 (ipykernel)",
   "language": "python",
   "name": "python3"
  },
  "language_info": {
   "codemirror_mode": {
    "name": "ipython",
    "version": 3
   },
   "file_extension": ".py",
   "mimetype": "text/x-python",
   "name": "python",
   "nbconvert_exporter": "python",
   "pygments_lexer": "ipython3",
   "version": "3.10.12"
  },
  "latex_envs": {
   "LaTeX_envs_menu_present": true,
   "autoclose": false,
   "autocomplete": true,
   "bibliofile": "biblio.bib",
   "cite_by": "apalike",
   "current_citInitial": 1,
   "eqLabelWithNumbers": true,
   "eqNumInitial": 1,
   "hotkeys": {
    "equation": "Ctrl-E",
    "itemize": "Ctrl-I"
   },
   "labels_anchors": false,
   "latex_user_defs": false,
   "report_style_numbering": false,
   "user_envs_cfg": false
  },
  "pycharm": {
   "stem_cell": {
    "cell_type": "raw",
    "metadata": {
     "collapsed": false
    },
    "source": []
   }
  }
 },
 "nbformat": 4,
 "nbformat_minor": 1
}
