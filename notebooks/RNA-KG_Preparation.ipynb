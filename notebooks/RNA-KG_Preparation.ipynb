{
 "cells": [
  {
   "cell_type": "markdown",
   "metadata": {
    "collapsed": true
   },
   "source": [
    "# <p style=\"text-align: center;\">RNA Knowledge Graph Build Data Preparation</p>\n",
    "    \n",
    "***\n",
    "***\n",
    "\n",
    "**Authors:** [ECavalleri](https://mail.google.com/mail/u/0/?view=cm&fs=1&tf=1&to=emanuele.cavalleri@studenti.unimi.it), [TJCallahan](https://mail.google.com/mail/u/0/?view=cm&fs=1&tf=1&to=callahantiff@gmail.com), [MMesiti](https://mail.google.com/mail/u/0/?view=cm&fs=1&tf=1&to=marco.mesiti@unimi.it), [GValentini](https://mail.google.com/mail/u/0/?view=cm&fs=1&tf=1&to=giorgio.valentini@unimi.it)\n",
    "\n",
    "**GitHub Repositories:** [RNA-KG](https://github.com/AnacletoLAB/RNA-KG/), [PheKnowLator](https://github.com/callahantiff/PheKnowLator/)  \n",
    "<!--- **Release:** **[v2.0.0](https://github.com/callahantiff/PheKnowLator/wiki/v2.0.0)** --->\n",
    "  \n",
    "<br>  \n",
    "  \n",
    "**Purpose:** This notebook serves as a script to download, process, map, and clean data in order to build edges for RNA-KG. For more information on the data sources utilize within this script, please see the [PheKnowLator Data Sources](https://github.com/callahantiff/PheKnowLator/wiki/v2-Data-Sources) Wiki page.\n",
    "\n",
    "<br>\n",
    "\n",
    "**Assumptions:**   \n",
    "- Edge data downloads ➞ `./resources/edge_data`  \n",
    "- Ontologies ➞ `./resources/ontologies`    \n",
    "- Processed data write location ➞ `./resources/processed_data`  \n",
    "\n",
    "<br>\n",
    "\n",
    "**Dependencies:**   \n",
    "- **Scripts**: This notebook utilizes several helper functions, which are stored in the [`data_utils.py`](https://github.com/callahantiff/PheKnowLator/blob/master/pkt_kg/utils/data_utils.py) and [`kg_utils.py`](https://github.com/callahantiff/PheKnowLator/blob/master/pkt_kg/utils/kg_utils.py) scripts. \n",
    "_____\n",
    "***"
   ]
  },
  {
   "cell_type": "markdown",
   "metadata": {},
   "source": [
    "## Table of Contents\n",
    "***\n",
    "\n",
    "### [Download and process Ontologies](#create-ontologies)\n",
    "\n",
    "### [Download and create Identifier Maps ](#create-identifier-maps)   \n",
    "\n",
    "### [Download and process Edge Datasets](#create-edges)  \n",
    "\n",
    "____"
   ]
  },
  {
   "cell_type": "markdown",
   "metadata": {},
   "source": [
    "## Set-Up Environment\n",
    "_____"
   ]
  },
  {
   "cell_type": "code",
   "execution_count": null,
   "metadata": {},
   "outputs": [],
   "source": [
    "%%capture\n",
    "import sys\n",
    "!{sys.executable} -m pip install -r requirements.txt\n",
    "sys.path.append('../')"
   ]
  },
  {
   "cell_type": "code",
   "execution_count": null,
   "metadata": {},
   "outputs": [],
   "source": [
    "# import needed libraries\n",
    "import datetime\n",
    "import glob\n",
    "import itertools\n",
    "import networkx\n",
    "import numpy\n",
    "import os\n",
    "import pickle\n",
    "import re\n",
    "import requests\n",
    "import tarfile\n",
    "import shutil\n",
    "import pandas as pd\n",
    "import numpy as np\n",
    "pd.set_option('display.max_columns', None)\n",
    "import re\n",
    "\n",
    "from collections import Counter\n",
    "from functools import reduce\n",
    "from rdflib import Graph, Namespace, URIRef, BNode, Literal\n",
    "from rdflib.namespace import OWL, RDF, RDFS\n",
    "from reactome2py import content\n",
    "from tqdm import tqdm\n",
    "from typing import Dict\n",
    "\n",
    "from pkt_kg.utils import * \n",
    "from builds.ontology_cleaning import *\n",
    "\n",
    "from typing import Tuple"
   ]
  },
  {
   "cell_type": "markdown",
   "metadata": {},
   "source": [
    "#### Define Global Variables"
   ]
  },
  {
   "cell_type": "code",
   "execution_count": null,
   "metadata": {},
   "outputs": [],
   "source": [
    "# directory to store resources\n",
    "resource_data_location = '../resources/'\n",
    "\n",
    "# directory to use for unprocessed data\n",
    "unprocessed_data_location = '../resources/processed_data/unprocessed_data/'\n",
    "\n",
    "# directory to use for processed data\n",
    "processed_data_location = '../resources/processed_data/'\n",
    "\n",
    "# directory to write ontology data to\n",
    "ontology_data_location = '../resources/ontologies/'\n",
    "\n",
    "# directory to write edges data to\n",
    "edge_data_location = '../resources/edge_data/'\n",
    "\n",
    "# processed data url \n",
    "processed_url = 'https://storage.googleapis.com/pheknowlator/current_build/data/processed_data/'\n",
    "\n",
    "# original data url \n",
    "original_url = 'https://storage.googleapis.com/pheknowlator/current_build/data/original_data/'\n",
    "\n",
    "# owltools location\n",
    "owltools_location = '../pkt_kg/libs/owltools'"
   ]
  },
  {
   "cell_type": "code",
   "execution_count": null,
   "metadata": {},
   "outputs": [],
   "source": [
    "for rel_txt in ['INVERSE_RELATIONS.txt', 'RELATIONS_LABELS.txt']:\n",
    "    data_downloader(processed_url+rel_txt, '../resources/relations_data/')\n",
    "    \n",
    "# Load data, print row count, and preview it\n",
    "ro_data_label = pd.read_csv('../resources/relations_data/'+'RELATIONS_LABELS.txt', header=0, delimiter='\\t')\n",
    "\n",
    "print('There are {edge_count} RO Relations and Labels'.format(edge_count=len(ro_data_label)))\n",
    "ro_data_label.head(n=5)"
   ]
  },
  {
   "cell_type": "markdown",
   "metadata": {},
   "source": [
    "***\n",
    "***\n",
    "## DOWNLOAD AND PROCESS ONTOLOGIES  <a class=\"anchor\" id=\"create-ontologies\"></a>\n",
    "***\n",
    "***"
   ]
  },
  {
   "cell_type": "code",
   "execution_count": null,
   "metadata": {},
   "outputs": [],
   "source": [
    "def download_ontology(ontology):\n",
    "    if not os.path.exists(ontology_data_location + ontology+'_with_imports.owl'):\n",
    "        command = '{} {} --merge-import-closure -o {}'\n",
    "        os.system(command.format(owltools_location, 'http://purl.obolibrary.org/obo/'+ontology+'.owl',\n",
    "                                 ontology_data_location + ontology + '_with_imports.owl'))\n",
    "\n",
    "onto_list = ['ro', 'chebi', 'pr', 'mondo', 'go', 'pw', 'bto', 'so',\n",
    "             'hp', 'uberon', 'cob', 'obi', 'ero', 'vo', 'clo']\n",
    "\n",
    "for ontology in onto_list:\n",
    "    download_ontology(ontology) "
   ]
  },
  {
   "cell_type": "markdown",
   "metadata": {},
   "source": [
    "***\n",
    "***\n",
    "## DOWNLOAD AND CREATE MAPPING DATASETS  <a class=\"anchor\" id=\"create-identifier-maps\"></a>\n",
    "***\n",
    "***"
   ]
  },
  {
   "cell_type": "markdown",
   "metadata": {},
   "source": [
    "### Mappings provided by PheKnowLator ecosystem"
   ]
  },
  {
   "cell_type": "code",
   "execution_count": null,
   "metadata": {},
   "outputs": [],
   "source": [
    "map_list = ['DISEASE_MONDO_MAP.txt', 'ENSEMBL_GENE_ENTREZ_GENE_MAP.txt',\n",
    "            'ENTREZ_GENE_PRO_ONTOLOGY_MAP.txt', 'GENE_SYMBOL_ENSEMBL_TRANSCRIPT_MAP.txt',\n",
    "            'MESH_CHEBI_MAP.txt', 'ENTREZ_GENE_ENSEMBL_TRANSCRIPT_MAP.txt', 'STRING_PRO_ONTOLOGY_MAP.txt',\n",
    "            'UNIPROT_ACCESSION_PRO_ONTOLOGY_MAP.txt']\n",
    "\n",
    "for edge in ['ENTREZ_GENE_PRO_ONTOLOGY_MAP.txt',\n",
    "'ENTREZ_GENE_ENSEMBL_TRANSCRIPT_MAP.txt',\n",
    "'HPA_GTEX_RNA_GENE_PROTEIN_EDGES.txt',\n",
    "'UNIPROT_PROTEIN_CATALYST.txt',\n",
    "'HPA_GTEX_RNA_GENE_PROTEIN_EDGES.txt',\n",
    "'UNIPROT_PROTEIN_COFACTOR.txt',\n",
    "'HPA_GTEX_RNA_GENE_PROTEIN_EDGES.txt',\n",
    "'ENSEMBL_TRANSCRIPT_PROTEIN_ONTOLOGY_MAP.txt',\n",
    "'CLINVAR_VARIANT_GENE_DISEASE_PHENOTYPE_EDGES.txt']:\n",
    "    data_downloader(processed_url+edge, processed_data_location)\n",
    "\n",
    "for map_txt in map_list:\n",
    "    data_downloader(processed_url+map_txt, processed_data_location)"
   ]
  },
  {
   "cell_type": "markdown",
   "metadata": {},
   "source": [
    "***\n",
    "### New mappings"
   ]
  },
  {
   "cell_type": "markdown",
   "metadata": {},
   "source": [
    "***\n",
    "### Chemical description from ChEBI - ChEBI mapping\n",
    "\n",
    "\n",
    "**Purpose:** To map Chemical description from ChEBI to ChEBI identifiers.\n",
    "\n",
    "**Output:** None, this mapping will be used only internally."
   ]
  },
  {
   "cell_type": "code",
   "execution_count": null,
   "metadata": {},
   "outputs": [],
   "source": [
    "# Get dbxrefs for all ontology classes' label\n",
    "def gets_ontology_class_label(graph: Graph) -> Tuple:\n",
    "    dbx_uris: Dict = dict()\n",
    "    dbx = [x for x in graph if 'label' in str(x[1]).lower() if isinstance(x[0], URIRef)]\n",
    "    for x in dbx:\n",
    "        if str(x[2]).lower() in dbx_uris.keys(): dbx_uris[str(x[2]).lower()].append(str(x[0]))\n",
    "        else: dbx_uris[str(x[2]).lower()] = [str(x[0])]\n",
    "    dbx_type = {str(x[2]).lower(): 'DbXref' for x in dbx}\n",
    "\n",
    "    ex_uris: Dict = dict()\n",
    "    ex = [x for x in graph if 'exactmatch' in str(x[1]).lower() if isinstance([0], URIRef)]\n",
    "    for x in ex:\n",
    "        if str(x[2]).lower() in ex_uris.keys(): ex_uris[str(x[2]).lower()].append(str(x[0]))\n",
    "        else: ex_uris[str(x[2]).lower()] = [str(x[0])]\n",
    "    ex_type = {str(x[2]).lower(): 'ExactMatch' for x in ex}\n",
    "\n",
    "    return {**dbx_uris, **ex_uris}, {**dbx_type, **ex_type}"
   ]
  },
  {
   "cell_type": "code",
   "execution_count": null,
   "metadata": {},
   "outputs": [],
   "source": [
    "chebi_graph = Graph().parse(ontology_data_location + 'chebi_with_imports.owl')\n",
    "\n",
    "chebi_label = gets_ontology_class_label(chebi_graph)[0]\n",
    "chebi_dict = {str(k): {str(i).split('/')[-1] for i in v} for k, v in chebi_label.items()}\n",
    "list({**chebi_dict}.items())[:5]\n",
    "\n",
    "with open(unprocessed_data_location + 'DESC_CHEBI_MAP.txt', 'w') as outfile:\n",
    "    for k, v in {**chebi_dict}.items():\n",
    "        outfile.write(str(k) + '\\t' + str(v).replace('{','').replace('\\'','').replace('}','') + '\\n')"
   ]
  },
  {
   "cell_type": "code",
   "execution_count": null,
   "metadata": {},
   "outputs": [],
   "source": [
    "desc_chebi_map = pd.read_csv(unprocessed_data_location+'DESC_CHEBI_MAP.txt', header=None, delimiter='\\t')\n",
    "desc_chebi_map"
   ]
  },
  {
   "cell_type": "markdown",
   "metadata": {},
   "source": [
    "***\n",
    "### GO description from GO - GO mapping\n",
    "\n",
    "\n",
    "**Purpose:** To map GO description from GO to GO identifiers.\n",
    "\n",
    "**Output:** None, this mapping will be used only internally."
   ]
  },
  {
   "cell_type": "code",
   "execution_count": null,
   "metadata": {},
   "outputs": [],
   "source": [
    "go_graph = Graph().parse(ontology_data_location + 'go_with_imports.owl')\n",
    "\n",
    "go_label = gets_ontology_class_label(go_graph)[0]\n",
    "go_dict = {str(k): {str(i).split('/')[-1] for i in v} for k, v in go_label.items()}\n",
    "list({**go_dict}.items())[:5]\n",
    "\n",
    "with open(unprocessed_data_location + 'DESC_GO_MAP.txt', 'w') as outfile:\n",
    "    for k, v in {**go_dict}.items():\n",
    "        outfile.write(str(k) + '\\t' + str(v).replace('{','').replace('\\'','').replace('}','') + '\\n')"
   ]
  },
  {
   "cell_type": "code",
   "execution_count": null,
   "metadata": {},
   "outputs": [],
   "source": [
    "desc_go_map = pd.read_csv(unprocessed_data_location+'DESC_GO_MAP.txt', header=None, delimiter='\\t')\n",
    "desc_go_map"
   ]
  },
  {
   "cell_type": "markdown",
   "metadata": {},
   "source": [
    "***\n",
    "### PW description from PW - PW mapping\n",
    "\n",
    "\n",
    "**Purpose:** To map PW description from PW to PW identifiers.\n",
    "\n",
    "**Output:** None, this mapping will be used only internally."
   ]
  },
  {
   "cell_type": "code",
   "execution_count": null,
   "metadata": {},
   "outputs": [],
   "source": [
    "pw_graph = Graph().parse(ontology_data_location + 'pw_with_imports.owl')\n",
    "\n",
    "pw_label = gets_ontology_class_label(pw_graph)[0]\n",
    "pw_dict = {str(k): {str(i).split('/')[-1] for i in v} for k, v in pw_label.items()}\n",
    "list({**pw_dict}.items())[:5]\n",
    "\n",
    "with open(unprocessed_data_location + 'DESC_PW_MAP.txt', 'w') as outfile:\n",
    "    for k, v in {**pw_dict}.items():\n",
    "        outfile.write(str(k) + '\\t' + str(v).replace('{','').replace('\\'','').replace('}','') + '\\n')"
   ]
  },
  {
   "cell_type": "code",
   "execution_count": null,
   "metadata": {},
   "outputs": [],
   "source": [
    "desc_pw_map = pd.read_csv(unprocessed_data_location+'DESC_PW_MAP.txt', header=None, delimiter='\\t')\n",
    "desc_pw_map"
   ]
  },
  {
   "cell_type": "code",
   "execution_count": null,
   "metadata": {},
   "outputs": [],
   "source": [
    "# Get dbxrefs for all ontology classes' label\n",
    "def gets_ontology_class_synonym(graph: Graph) -> Tuple:\n",
    "    dbx_uris: Dict = dict()\n",
    "    dbx = [x for x in graph if 'synonym' in str(x[1]).lower() if isinstance(x[0], URIRef)]\n",
    "    for x in dbx:\n",
    "        if str(x[2]).lower() in dbx_uris.keys(): dbx_uris[str(x[2]).lower()].append(str(x[0]))\n",
    "        else: dbx_uris[str(x[2]).lower()] = [str(x[0])]\n",
    "    dbx_type = {str(x[2]).lower(): 'DbXref' for x in dbx}\n",
    "\n",
    "    ex_uris: Dict = dict()\n",
    "    ex = [x for x in graph if 'exactmatch' in str(x[1]).lower() if isinstance([0], URIRef)]\n",
    "    for x in ex:\n",
    "        if str(x[2]).lower() in ex_uris.keys(): ex_uris[str(x[2]).lower()].append(str(x[0]))\n",
    "        else: ex_uris[str(x[2]).lower()] = [str(x[0])]\n",
    "    ex_type = {str(x[2]).lower(): 'ExactMatch' for x in ex}\n",
    "\n",
    "    return {**dbx_uris, **ex_uris}, {**dbx_type, **ex_type}\n",
    "\n",
    "pw_syn = gets_ontology_class_synonym(pw_graph)[0]\n",
    "pw_dict = {str(k): {str(i).split('/')[-1] for i in v} for k, v in pw_syn.items()}\n",
    "list({**pw_dict}.items())[:5]\n",
    "\n",
    "with open(unprocessed_data_location + 'SYN_PW_MAP.txt', 'w') as outfile:\n",
    "    for k, v in {**pw_dict}.items():\n",
    "        outfile.write(str(k) + '\\t' + str(v).replace('{','').replace('\\'','').replace('}','') + '\\n')"
   ]
  },
  {
   "cell_type": "code",
   "execution_count": null,
   "metadata": {},
   "outputs": [],
   "source": [
    "syn_pw_map = pd.read_csv(unprocessed_data_location+'SYN_PW_MAP.txt', header=None, delimiter='\\t')\n",
    "desc_pw_map = syn_pw_map.append(desc_pw_map)\n",
    "desc_pw_map"
   ]
  },
  {
   "cell_type": "markdown",
   "metadata": {},
   "source": [
    "***\n",
    "### miRNA - miRBase mapping <a class=\"anchor\" id=\"ensemblgene-entrezgene\"></a>\n",
    "\n",
    "\n",
    "**Purpose:** To map miRNA and stem-loop miRNA to miRBase identifiers.\n",
    "\n",
    "**Output:** `MIRNA_MIRBASE_MAP.txt`\n",
    "\n",
    "Provided by [miRBase](https://www.mirbase.org/)."
   ]
  },
  {
   "cell_type": "code",
   "execution_count": null,
   "metadata": {},
   "outputs": [],
   "source": [
    "data_downloader('https://www.mirbase.org/ftp/CURRENT/aliases.txt.zip', unprocessed_data_location)"
   ]
  },
  {
   "cell_type": "code",
   "execution_count": null,
   "metadata": {},
   "outputs": [],
   "source": [
    "mirna_mirbase_map = pd.read_csv(unprocessed_data_location + 'aliases.txt', sep=\"\\t\", header=None)\n",
    "mirna_mirbase_map[1] = mirna_mirbase_map[1].str[:-1]\n",
    "mirna_mirbase_map"
   ]
  },
  {
   "cell_type": "code",
   "execution_count": null,
   "metadata": {},
   "outputs": [],
   "source": [
    "mirna_mirbase_map[1] = mirna_mirbase_map[1].str.split(';')\n",
    "mirna_mirbase_map = mirna_mirbase_map.explode(1)\n",
    "mirna_mirbase_map[[1,0]]"
   ]
  },
  {
   "cell_type": "code",
   "execution_count": null,
   "metadata": {},
   "outputs": [],
   "source": [
    "mirna_mirbase_map[[1,0]].to_csv(processed_data_location + 'MIRNA_MIRBASE_MAP.txt', header=None, sep='\\t', index=None)"
   ]
  },
  {
   "cell_type": "markdown",
   "metadata": {},
   "source": [
    "***\n",
    "### Disease Ontology (DO) - MONDO mapping <a class=\"anchor\" id=\"ensemblgene-entrezgene\"></a>\n",
    "\n",
    "\n",
    "**Purpose:** To map DO identifiers to MONDO identifiers.\n",
    "\n",
    "**Output:** `DISEASE_DOID_MONDO_MAP.txt`"
   ]
  },
  {
   "cell_type": "code",
   "execution_count": null,
   "metadata": {},
   "outputs": [],
   "source": [
    "mondo_graph = Graph().parse(ontology_data_location + 'mondo_with_imports.owl')\n",
    "\n",
    "mondo_dbxref = gets_ontology_class_dbxrefs(mondo_graph)[0]\n",
    "\n",
    "# Fix DOIDs (substitute : with _)\n",
    "mondo_dict = {str(k).replace(':','_').upper(): {str(i).split('/')[-1].replace(':','_') for i in v} for k, v in mondo_dbxref.items() if 'doid' in str(k)}\n",
    "list({**mondo_dict}.items())[:5]"
   ]
  },
  {
   "cell_type": "code",
   "execution_count": null,
   "metadata": {},
   "outputs": [],
   "source": [
    "with open(processed_data_location + 'DOID_MONDO_MAP.txt', 'w') as outfile:\n",
    "    for k, v in mondo_dict.items():\n",
    "        outfile.write(str(k) + '\\t' + str(v).replace('{','').replace('\\'','').replace('}','') + '\\n')"
   ]
  },
  {
   "cell_type": "code",
   "execution_count": null,
   "metadata": {},
   "outputs": [],
   "source": [
    "doid_mondo_map = pd.read_csv(processed_data_location+'DOID_MONDO_MAP.txt', header=None, delimiter='\\t')\n",
    "doid_mondo_map"
   ]
  },
  {
   "cell_type": "markdown",
   "metadata": {},
   "source": [
    "***\n",
    "### Disease description from DO - DO mapping <a class=\"anchor\" id=\"ensemblgene-entrezgene\"></a>\n",
    "\n",
    "\n",
    "**Purpose:** To map Disease descriptions from DO to DO identifiers.\n",
    "\n",
    "**Output:** None, this mapping will be used only internally.\n",
    "\n",
    "Provided by [mir2Disease](http://watson.compbio.iupui.edu:8080/miR2Disease/)."
   ]
  },
  {
   "cell_type": "code",
   "execution_count": null,
   "metadata": {},
   "outputs": [],
   "source": [
    "data_downloader('http://watson.compbio.iupui.edu:8080/miR2Disease/download/diseaseList.txt', unprocessed_data_location)"
   ]
  },
  {
   "cell_type": "code",
   "execution_count": null,
   "metadata": {},
   "outputs": [],
   "source": [
    "desc_do_map = pd.read_csv(unprocessed_data_location + 'diseaseList.txt', sep=\"\\t\")\n",
    "desc_do_map.columns = ['desc', 'doid']\n",
    "desc_do_map['desc'] = desc_do_map['desc'].str.lower()\n",
    "desc_do_map['doid'] = desc_do_map['doid'].str.upper().str.replace(':', '_')\n",
    "desc_do_map"
   ]
  },
  {
   "cell_type": "markdown",
   "metadata": {},
   "source": [
    "***\n",
    "### TCGA - MONDO mapping <a class=\"anchor\" id=\"ensemblgene-entrezgene\"></a>\n",
    "\n",
    "\n",
    "**Purpose:** To manually map the 32 TCGA cancer types to MONDO ontology.\n",
    "\n",
    "**Output:** `TCGA_MONDO_MAP.txt`"
   ]
  },
  {
   "cell_type": "code",
   "execution_count": null,
   "metadata": {},
   "outputs": [],
   "source": [
    "cancer_mondo_map = pd.DataFrame(data=[['ACC','MONDO_0004971'],\n",
    "                                 ['BLCA','MONDO_0004163'],\n",
    "                                 ['BRCA','MONDO_0006256'],\n",
    "                                 ['CESC','MONDO_0005131'],\n",
    "                                 ['CHOL','MONDO_0019087'],\n",
    "                                 ['COAD','MONDO_0002271'],\n",
    "                                 ['DLBC','MONDO_0018905'],\n",
    "                                 ['ESCA','MONDO_0019086'],\n",
    "                                 ['GBM','MONDO_0018177'],\n",
    "                                 ['HNSC','MONDO_0010150'],\n",
    "                                 ['KICH','MONDO_0017885'],\n",
    "                                 ['KIRC','MONDO_0005005'],\n",
    "                                 ['KIRP','MONDO_0017884'],\n",
    "                                 ['LGG','MONDO_0005499'],\n",
    "                                 ['LIHC','MONDO_0007256'],\n",
    "                                 ['LUAD','MONDO_0005061'],\n",
    "                                 ['LUSC','MONDO_0005097'],\n",
    "                                 ['MESO','MONDO_0005065'],\n",
    "                                 ['OV','MONDO_0006046'],\n",
    "                                 ['PAAD','MONDO_0006047'],\n",
    "                                 ['PCPG','MONDO_0035540'],\n",
    "                                 ['PRAD','MONDO_0005082'],\n",
    "                                 ['READ','MONDO_0002169'],\n",
    "                                 ['SARC','MONDO_0005089'],\n",
    "                                 ['SKCM','MONDO_0005012'],\n",
    "                                 ['STAD','MONDO_0005036'],\n",
    "                                 ['TGCT','MONDO_0010108'],\n",
    "                                 ['THCA','MONDO_0015075'],\n",
    "                                 ['THYM','MONDO_0006456'],\n",
    "                                 ['UCEC','MONDO_0000553'],\n",
    "                                 ['UCS','MONDO_0006485'],\n",
    "                                 ['UVM','MONDO_0006486']\n",
    "                                 ])\n",
    "\n",
    "cancer_mondo_map.to_csv(processed_data_location + 'TCGA_MONDO_MAP.txt', header=None, sep='\\t', index=None)"
   ]
  },
  {
   "cell_type": "markdown",
   "metadata": {},
   "source": [
    "***\n",
    "### Amino Acid - ChEBI mapping \n",
    "\n",
    "\n",
    "**Purpose:** To manually map amino acids ChEBI ontology (SO could've been used too).\n",
    "\n",
    "**Output:** `AminoAcid_ChEBI_MAP.txt`"
   ]
  },
  {
   "cell_type": "code",
   "execution_count": null,
   "metadata": {},
   "outputs": [],
   "source": [
    "tRNA_aa['Amino Acid'].unique()"
   ]
  },
  {
   "cell_type": "code",
   "execution_count": null,
   "metadata": {},
   "outputs": [],
   "source": [
    "aa_chebi_map = pd.DataFrame(data=[['Leu','CHEBI_25017'],\n",
    "                                 ['Phe','CHEBI_28044'],\n",
    "                                 ['Ala','CHEBI_16449'],\n",
    "                                 ['Asn','CHEBI_22653'],\n",
    "                                 ['Glu','CHEBI_18237'],\n",
    "                                 ['His','CHEBI_27570'],\n",
    "                                 ['Asp','CHEBI_22660'],\n",
    "                                 ['Cys','CHEBI_22660'],\n",
    "                                 ['Gly','CHEBI_15428'],\n",
    "                                 ['Ile','CHEBI_24898'],\n",
    "                                 ['Lys','CHEBI_25094'],\n",
    "                                 ['Met','CHEBI_16811'],\n",
    "                                 ['Ser','CHEBI_17822'],\n",
    "                                 ['Val','CHEBI_27266'],\n",
    "                                 ['Gln','CHEBI_28300'],\n",
    "                                 ['Arg','CHEBI_29016'],\n",
    "                                 ['Pro','CHEBI_26271'],\n",
    "                                 ['Thr','CHEBI_26986'],\n",
    "                                 ['iMe','PR_000021937'],\n",
    "                                 ['Trp','CHEBI_27897'],\n",
    "                                 ['Tyr','CHEBI_18186']#,\n",
    "                                 #['Sup','tRNA-Suppressor NOT GROUNDED']\n",
    "                                 ])\n",
    "\n",
    "aa_chebi_map.to_csv(processed_data_location + 'AminoAcid_ChEBI_MAP.txt', header=None, sep='\\t', index=None)"
   ]
  },
  {
   "cell_type": "markdown",
   "metadata": {},
   "source": [
    "***\n",
    "### Gene symbol - PRO mapping <a class=\"anchor\" id=\"ensemblgene-entrezgene\"></a>\n",
    "\n",
    "\n",
    "**Purpose:** To map gene symbols to PRO identifiers.\n",
    "\n",
    "**Output:** `GENE_SYMBOL_PRO_ONTOLOGY_MAP.txt`"
   ]
  },
  {
   "cell_type": "code",
   "execution_count": null,
   "metadata": {},
   "outputs": [],
   "source": [
    "symbol_ensembl_map = pd.read_csv(processed_data_location + 'GENE_SYMBOL_ENSEMBL_TRANSCRIPT_MAP.txt', sep=\"\\t\", header=None)\n",
    "symbol_ensembl_map[[0,1]]"
   ]
  },
  {
   "cell_type": "code",
   "execution_count": null,
   "metadata": {},
   "outputs": [],
   "source": [
    "ensembl_pro_map = pd.read_csv(processed_data_location + 'ENSEMBL_TRANSCRIPT_PROTEIN_ONTOLOGY_MAP.txt', sep=\"\\t\", header=None)\n",
    "ensembl_pro_map[[1,0]]"
   ]
  },
  {
   "cell_type": "code",
   "execution_count": null,
   "metadata": {},
   "outputs": [],
   "source": [
    "symbol_to_pro = pd.merge(symbol_ensembl_map[[0,1]], ensembl_pro_map[[1,0]], left_on=[1], right_on=[0])\n",
    "symbol_to_pro = symbol_to_pro[['0_x', '1_y']].drop_duplicates()\n",
    "symbol_to_pro"
   ]
  },
  {
   "cell_type": "code",
   "execution_count": null,
   "metadata": {},
   "outputs": [],
   "source": [
    "symbol_to_pro.drop_duplicates().to_csv(processed_data_location+\n",
    "                                                       'GENE_SYMBOL_PRO_ONTOLOGY_MAP.txt', header=None,\n",
    "                                                       sep='\\t', index=None)"
   ]
  },
  {
   "cell_type": "markdown",
   "metadata": {},
   "source": [
    "***\n",
    "### PRO label - PRO mapping\n",
    "\n",
    "\n",
    "**Purpose:** To map PRO labels to PRO identifiers.\n",
    "\n",
    "**Output:** None, this mapping will be used only internally."
   ]
  },
  {
   "cell_type": "code",
   "execution_count": null,
   "metadata": {},
   "outputs": [],
   "source": [
    "pro_graph = Graph().parse(ontology_data_location + 'pr_with_imports.owl')\n",
    "\n",
    "pro_label = gets_ontology_class_label(pro_graph)[0]\n",
    "pro_dict = {str(k): {str(i).split('/')[-1] for i in v} for k, v in pro_label.items()}\n",
    "list({**pro_dict}.items())[:5]\n",
    "\n",
    "with open(unprocessed_data_location + 'DESC_PRO_MAP.txt', 'w') as outfile:\n",
    "    for k, v in {**pro_dict}.items():\n",
    "        outfile.write(str(k) + '\\t' + str(v).replace('{','').replace('\\'','').replace('}','') + '\\n')"
   ]
  },
  {
   "cell_type": "code",
   "execution_count": null,
   "metadata": {},
   "outputs": [],
   "source": [
    "desc_pro_map = pd.read_csv(unprocessed_data_location+'DESC_PRO_MAP.txt', header=None, delimiter='\\t', dtype=object)\n",
    "desc_pro_map[0] = desc_pro_map[0].str.replace(\"human\", '')\n",
    "desc_pro_map[0] = desc_pro_map[0].str.replace(\"(\", '')\n",
    "desc_pro_map[0] = desc_pro_map[0].str.replace(\")\", '')\n",
    "desc_pro_map[0] = desc_pro_map[0].str.replace(\",(.*)\", '')\n",
    "desc_pro_map"
   ]
  },
  {
   "cell_type": "markdown",
   "metadata": {},
   "source": [
    "***\n",
    "### Gene symbol - ENTREZ mapping <a class=\"anchor\" id=\"ensemblgene-entrezgene\"></a>\n",
    "\n",
    "\n",
    "**Purpose:** To map gene symbols to ENTREZ identifiers.\n",
    "\n",
    "**Output:** `GENE_SYMBOL_ENTREZ_ID_MAP.txt`"
   ]
  },
  {
   "cell_type": "code",
   "execution_count": null,
   "metadata": {},
   "outputs": [],
   "source": [
    "entrez_enst_map = pd.read_csv(processed_data_location + 'ENTREZ_GENE_ENSEMBL_TRANSCRIPT_MAP.txt', sep=\"\\t\", header=None)\n",
    "entrez_enst_map"
   ]
  },
  {
   "cell_type": "code",
   "execution_count": null,
   "metadata": {},
   "outputs": [],
   "source": [
    "symbol_entrez_map = pd.merge(symbol_ensembl_map, entrez_enst_map, on=[1])\n",
    "symbol_entrez_map = symbol_entrez_map[['0_x','0_y']].drop_duplicates()\n",
    "symbol_entrez_map"
   ]
  },
  {
   "cell_type": "code",
   "execution_count": null,
   "metadata": {},
   "outputs": [],
   "source": [
    "symbol_entrez_map.to_csv(processed_data_location+'GENE_SYMBOL_ENTREZ_ID_MAP.txt',header=None, sep='\\t', index=None)"
   ]
  },
  {
   "cell_type": "markdown",
   "metadata": {},
   "source": [
    "***\n",
    "### tsRNA - tRNA mapping \n",
    "\n",
    "**Purpose:** To map tsRNA to tRNA identifiers.\n",
    "\n",
    "**Output:** `tRNA_tsRNA_MAP.txt`\n",
    "\n",
    "Provided by [tsRFun](https://rna.sysu.edu.cn/tsRFun/index.php)."
   ]
  },
  {
   "cell_type": "code",
   "execution_count": null,
   "metadata": {},
   "outputs": [],
   "source": [
    "# Currently offline\n",
    "data_downloader('https://rna.sysu.edu.cn/tsRFun/download/newID_20210202.txt', unprocessed_data_location)\n",
    "\n",
    "tsRNA_tRF_map = pd.read_csv(unprocessed_data_location + 'newID_20210202.txt', sep=\"\\t\")\n",
    "tsRNA_tRF_map = tsRNA_tRF_map[['tRNA','tsRNAid']]\n",
    "tsRNA_tRF_map \n",
    "\n",
    "tsRNA_tRF_map.to_csv(processed_data_location + 'tRNA_tsRNA_MAP.txt', header=None, sep='\\t', index=None)"
   ]
  },
  {
   "cell_type": "code",
   "execution_count": null,
   "metadata": {},
   "outputs": [],
   "source": [
    "tsRNA_tRF_map = pd.read_csv(processed_data_location + 'tRNA_tsRNA_MAP.txt', sep=\"\\t\", header=None)\n",
    "tsRNA_tRF_map"
   ]
  },
  {
   "cell_type": "markdown",
   "metadata": {},
   "source": [
    "***\n",
    "### ribozyme - RFAM mapping \n",
    "\n",
    "**Purpose:** To map ribozyme to RFSM identifiers.\n",
    "\n",
    "**Output:** `ribozyme_RFAM_MAP.txt`"
   ]
  },
  {
   "cell_type": "code",
   "execution_count": null,
   "metadata": {},
   "outputs": [],
   "source": [
    "ribozyme_rfam_map = pd.DataFrame(data=[['LC ribozyme','family/RF00011'],\n",
    "                                 ['hammerhead ribozyme','clan/CL00010'],\n",
    "                                 ['glmS ribozyme','family/RF00234'],\n",
    "                                 ['HDV-F-prausnitzii','family/RF02682'],\n",
    "                                 ['HDV ribozyme','family/RF00094'],\n",
    "                                 ['HDV_ribozyme','family/RF00094'],\n",
    "                                 ['Hairpin','family/RF00173'],\n",
    "                                 ['Hammerhead_1','clan/CL00010'],\n",
    "                                 ['Hammerhead_HH9','clan/CL00010'],\n",
    "                                 ['Hammerhead_3','clan/CL00010'],\n",
    "                                 ['Hammerhead_HH10','clan/CL00010'],\n",
    "                                 ['Hammerhead_II','clan/CL00010'],\n",
    "                                 ['Pistol','family/RF02679'],\n",
    "                                 ['Pistol ribozyme','family/RF02679'],\n",
    "                                 ['twister ribozyme','clan/CL00120'],\n",
    "                                 ['Twister-P5','clan/CL00120'],\n",
    "                                 ['Twister-P3','clan/CL00120'],\n",
    "                                 ['RNAse P','family/RF00009']#,\n",
    "                                 #['VS ribozyme',''] absent in RFAM\n",
    "                                 ])\n",
    "\n",
    "ribozyme_rfam_map.to_csv(processed_data_location + 'ribozyme_RFAM_MAP.txt', header=None, sep='\\t', index=None)"
   ]
  },
  {
   "cell_type": "markdown",
   "metadata": {},
   "source": [
    "***\n",
    "### MINTbase - GtRNAdb tRNA mapping \n",
    "\n",
    "**Purpose:** To map MINTbase to GtRNAdb identifiers.\n",
    "\n",
    "**Output:** `tRNA_MINTbase_GtRNAdb_MAP.txt`\n",
    "\n",
    "Provided by [MINTbase](https://cm.jefferson.edu/MINTbase/)."
   ]
  },
  {
   "cell_type": "code",
   "execution_count": null,
   "metadata": {},
   "outputs": [],
   "source": [
    "tRNA_MINTbase_GtRNAdb_map = pd.read_csv(unprocessed_data_location + 'MINTbase-gtRNAdb_mapping.txt',sep='\\t')\n",
    "tRNA_MINTbase_GtRNAdb_map = tRNA_MINTbase_GtRNAdb_map[['MINTbase tRNA name','gtRNAdb name']]\n",
    "tRNA_MINTbase_GtRNAdb_map = tRNA_MINTbase_GtRNAdb_map[tRNA_MINTbase_GtRNAdb_map['gtRNAdb name'] != '-']\n",
    "tRNA_MINTbase_GtRNAdb_map"
   ]
  },
  {
   "cell_type": "code",
   "execution_count": null,
   "metadata": {},
   "outputs": [],
   "source": [
    "tRNA_MINTbase_GtRNAdb_map.to_csv(\n",
    "    processed_data_location + 'tRNA_MINTbase_GtRNAdb_MAP.txt', header=None, sep='\\t', index=None)"
   ]
  },
  {
   "cell_type": "markdown",
   "metadata": {},
   "source": [
    "***\n",
    "### BTO label - BTO mapping\n",
    "\n",
    "\n",
    "**Purpose:** To map BTO labels to BTO identifiers.\n",
    "\n",
    "**Output:** `DESC_BTO_MAP.txt`"
   ]
  },
  {
   "cell_type": "code",
   "execution_count": null,
   "metadata": {},
   "outputs": [],
   "source": [
    "bto_graph = Graph().parse(ontology_data_location + 'bto_with_imports.owl')\n",
    "\n",
    "bto_label = gets_ontology_class_label(bto_graph)[0]\n",
    "bto_dict = {str(k): {str(i).split('/')[-1] for i in v} for k, v in bto_label.items()}\n",
    "list({**bto_dict}.items())[:5]\n",
    "\n",
    "with open(unprocessed_data_location + 'DESC_BTO_MAP.txt', 'w') as outfile:\n",
    "    for k, v in {**bto_dict}.items():\n",
    "        outfile.write(str(k) + '\\t' + str(v).replace('{','').replace('\\'','').replace('}','') + '\\n')"
   ]
  },
  {
   "cell_type": "code",
   "execution_count": null,
   "metadata": {},
   "outputs": [],
   "source": [
    "desc_bto_map = pd.read_csv(unprocessed_data_location+'DESC_BTO_MAP.txt', header=None, delimiter='\\t', dtype=object)\n",
    "desc_bto_map[0] = desc_bto_map[0].str.replace(\"human\", '')\n",
    "desc_bto_map[0] = desc_bto_map[0].str.replace(\"(\", '')\n",
    "desc_bto_map[0] = desc_bto_map[0].str.replace(\")\", '')\n",
    "desc_bto_map[0] = desc_bto_map[0].str.replace(\",(.*)\", '')\n",
    "desc_bto_map"
   ]
  },
  {
   "cell_type": "markdown",
   "metadata": {},
   "source": [
    "***\n",
    "***\n",
    "## DOWNLOAD AND PROCESS EDGE DATASETS  <a class=\"anchor\" id=\"create-edges\"></a>\n",
    "***\n",
    "***"
   ]
  },
  {
   "cell_type": "markdown",
   "metadata": {},
   "source": [
    "## Edges already provided by PheKnowLator ecosystem"
   ]
  },
  {
   "cell_type": "code",
   "execution_count": null,
   "metadata": {},
   "outputs": [],
   "source": [
    "for edge in ['CTD_chem_gene_ixns.tsv',\n",
    "'CTD_chem_go_enriched.tsv',\n",
    "'ChEBI2Reactome_All_Levels.txt',\n",
    "'CTD_chemicals_diseases.tsv',\n",
    "'CTD_chem_gene_ixns.tsv',\n",
    "'phenotype.hpoa',\n",
    "'curated_gene_disease_associations.tsv',\n",
    "'COMBINED.DEFAULT_NETWORKS.BP_COMBINING.txt',\n",
    "'CTD_genes_pathways.tsv',\n",
    "'curated_gene_disease_associations.tsv',\n",
    "'gene_association.reactome',\n",
    "'goa_human.gaf',\n",
    "'UniProt2Reactome_All_Levels.txt',\n",
    "'9606.protein.links.v11.0.txt']:\n",
    "    data_downloader(original_url+edge, edge_data_location)"
   ]
  },
  {
   "cell_type": "markdown",
   "metadata": {},
   "source": [
    "### Gene-RNA"
   ]
  },
  {
   "cell_type": "code",
   "execution_count": null,
   "metadata": {},
   "outputs": [],
   "source": [
    "gene_rna = pd.read_csv(processed_data_location+'ENTREZ_GENE_ENSEMBL_TRANSCRIPT_MAP.txt', sep='\\t',header=None)\n",
    "gene_rna[3].unique()"
   ]
  },
  {
   "cell_type": "code",
   "execution_count": null,
   "metadata": {},
   "outputs": [],
   "source": [
    "gene_rna.replace({'processed_transcript':'mRNA',\n",
    "                  'protein_coding':'mRNA',\n",
    "                  'non_stop_decay':'mRNA',\n",
    "                  'nonsense_mediated_decay':'mRNA',\n",
    "                  'transcribed_processed_pseudogene':'pseudo',\n",
    "                  'transcribed_unitary_pseudogene':'pseudo',\n",
    "                  'transcribed_unprocessed_pseudogene':'pseudo',\n",
    "                  'polymorphic_pseudogene':'pseudo',\n",
    "                  'unprocessed_pseudogene':'pseudo',\n",
    "                  'processed_pseudogene':'pseudo',\n",
    "                  'unitary_pseudogene':'pseudo',\n",
    "                   'pseudogene':'pseudo',\n",
    "                  'Mt_tRNA':'mt_tRNA'\n",
    "                 }, inplace=True)"
   ]
  },
  {
   "cell_type": "code",
   "execution_count": null,
   "metadata": {},
   "outputs": [],
   "source": [
    "gene_premiRNA2511 = gene_rna[gene_rna[3] == 'miRNA']\n",
    "gene_premiRNA2511 = pd.merge(gene_premiRNA2511, symbol_entrez_map.rename(columns={'0_y':0}), on=0)\n",
    "\n",
    "gene_premiRNA2511['0_x'] = 'hsa-' + gene_premiRNA2511['0_x'].str.lower().str.replace(\n",
    "    'mir','mir-').str.replace('let','let-')\n",
    "\n",
    "gene_premiRNA2511 = pd.merge(gene_premiRNA2511.rename(columns={'0_x':'a'}), mirna_mirbase_map.rename(columns={1:'a'}), on='a')\n",
    "gene_premiRNA2511"
   ]
  },
  {
   "cell_type": "code",
   "execution_count": null,
   "metadata": {},
   "outputs": [],
   "source": [
    "gene_premiRNA2511[['0_x','0_y']].drop_duplicates().to_csv(\n",
    "    edge_data_location +'Hgene-premiRNA.txt', header=None, sep='\\t', index=None)"
   ]
  },
  {
   "cell_type": "code",
   "execution_count": null,
   "metadata": {},
   "outputs": [],
   "source": [
    "gene_rna[6] = gene_rna[0].astype(str) + '#' + gene_rna[3].astype(str)"
   ]
  },
  {
   "cell_type": "code",
   "execution_count": null,
   "metadata": {},
   "outputs": [],
   "source": [
    "for i in set(gene_rna[3]):\n",
    "    if i != 'miRNA':\n",
    "        gene_rna_ = gene_rna[gene_rna[3]==i]\n",
    "\n",
    "        if not gene_rna_.empty:   \n",
    "            #print(i)\n",
    "            #print(gene_rna_[[0,6]].drop_duplicates())\n",
    "            gene_rna_[[0,6]].drop_duplicates().to_csv(\n",
    "                edge_data_location + 'Hgene-' + i + '.txt', header=None, sep='\\t', index=None)"
   ]
  },
  {
   "cell_type": "markdown",
   "metadata": {},
   "source": [
    "### RNA-protein"
   ]
  },
  {
   "cell_type": "code",
   "execution_count": null,
   "metadata": {},
   "outputs": [],
   "source": [
    "mRNA_protein = pd.read_csv(processed_data_location+'ENSEMBL_TRANSCRIPT_PROTEIN_ONTOLOGY_MAP.txt', sep='\\t',header=None)\n",
    "mRNA_protein = mRNA_protein[mRNA_protein[4] == 'protein-coding']\n",
    "mRNA_protein = pd.merge(mRNA_protein.rename(columns={0:'a'}), entrez_enst_map.rename(columns={1:'a'}), on='a')[[0, 1]]\n",
    "mRNA_protein[0] = mRNA_protein[0].astype(str) + '#mRNA' \n",
    "mRNA_protein"
   ]
  },
  {
   "cell_type": "code",
   "execution_count": null,
   "metadata": {},
   "outputs": [],
   "source": [
    "mRNA_protein.drop_duplicates().to_csv(\n",
    "    edge_data_location + 'HmRNA-protein.txt', header=None, sep='\\t', index=None)"
   ]
  },
  {
   "cell_type": "markdown",
   "metadata": {},
   "source": [
    "### RNA-anatomy"
   ]
  },
  {
   "cell_type": "code",
   "execution_count": null,
   "metadata": {},
   "outputs": [],
   "source": [
    "RNA_anatomy = pd.read_csv(processed_data_location+'HPA_GTEX_RNA_GENE_PROTEIN_EDGES.txt', sep='\\t',header=None)\n",
    "RNA_anatomy = RNA_anatomy[(RNA_anatomy[3]=='Evidence at transcript level') & (RNA_anatomy[4]=='anatomy')]\n",
    "\n",
    "symbol_entrez_map['0_y'] = symbol_entrez_map['0_y'].astype(str)\n",
    "gene_rna[0] = gene_rna[0].astype(str)\n",
    "rna_pro = pd.merge(gene_rna.rename(columns={0:'0_y'}), symbol_entrez_map, on='0_y')\n",
    "RNA_anatomy = pd.merge(rna_pro.rename(columns={'0_x':'a'}), RNA_anatomy.rename(columns={1:'a'}), on='a')\n",
    "\n",
    "RNA_anatomy"
   ]
  },
  {
   "cell_type": "code",
   "execution_count": null,
   "metadata": {},
   "outputs": [],
   "source": [
    "mirna_anatomy1025 = RNA_anatomy[RNA_anatomy['3_x'] == 'miRNA']\n",
    "mirna_anatomy1025['a'] = 'hsa-' + mirna_anatomy1025['a'].str.lower().str.replace(\n",
    "    'mir','mir-').str.replace('let','let-')\n",
    "\n",
    "mirna_anatomy1025 = pd.merge(mirna_anatomy1025.rename(columns={'0_y':'b'}), mirna_mirbase_map.rename(columns={1:'a'}), on='a')\n",
    "mirna_anatomy1025"
   ]
  },
  {
   "cell_type": "code",
   "execution_count": null,
   "metadata": {},
   "outputs": [],
   "source": [
    "mirna_anatomy1025[['0_y','5_y']].drop_duplicates().to_csv(\n",
    "    edge_data_location + 'HpremiRNA-anatomy.txt', header=None, sep='\\t', index=None)"
   ]
  },
  {
   "cell_type": "code",
   "execution_count": null,
   "metadata": {},
   "outputs": [],
   "source": [
    "RNA_anatomy[6] = RNA_anatomy['0_y'].astype(str) + '#' + RNA_anatomy['3_x'].astype(str)"
   ]
  },
  {
   "cell_type": "code",
   "execution_count": null,
   "metadata": {},
   "outputs": [],
   "source": [
    "for i in set(RNA_anatomy['3_x']):\n",
    "    if i != 'miRNA':\n",
    "        RNA_anatomy_ = RNA_anatomy[RNA_anatomy['3_x']==i]\n",
    "\n",
    "        if not RNA_anatomy_.empty:   \n",
    "            #print(i)\n",
    "            #print(RNA_anatomy_[[6,'5_y']].drop_duplicates())\n",
    "            RNA_anatomy_[[6,'5_y']].drop_duplicates().to_csv(\n",
    "                edge_data_location + 'H' + i + '-anatomy.txt', header=None, sep='\\t', index=None)"
   ]
  },
  {
   "cell_type": "markdown",
   "metadata": {},
   "source": [
    "### RNA-cell"
   ]
  },
  {
   "cell_type": "code",
   "execution_count": null,
   "metadata": {},
   "outputs": [],
   "source": [
    "RNA_cell = pd.read_csv(processed_data_location+'HPA_GTEX_RNA_GENE_PROTEIN_EDGES.txt', sep='\\t',header=None)\n",
    "RNA_cell = RNA_cell[(RNA_cell[3]=='Evidence at transcript level') & (RNA_cell[4]=='cell line')]\n",
    "\n",
    "symbol_entrez_map['0_y'] = symbol_entrez_map['0_y'].astype(str)\n",
    "gene_rna[0] = gene_rna[0].astype(str)\n",
    "rna_pro = pd.merge(gene_rna.rename(columns={0:'0_y'}), symbol_entrez_map, on='0_y')\n",
    "RNA_cell = pd.merge(rna_pro.rename(columns={'0_x':'a'}), RNA_cell.rename(columns={1:'a'}), on='a')\n",
    "\n",
    "RNA_cell"
   ]
  },
  {
   "cell_type": "code",
   "execution_count": null,
   "metadata": {},
   "outputs": [],
   "source": [
    "mirna_cell1025 = RNA_cell[RNA_cell['3_x'] == 'miRNA']\n",
    "mirna_cell1025['a'] = 'hsa-' + mirna_cell1025['a'].str.lower().str.replace(\n",
    "    'mir','mir-').str.replace('let','let-')\n",
    "\n",
    "mirna_cell1025 = pd.merge(mirna_cell1025.rename(columns={'0_y':'b'}), mirna_mirbase_map.rename(columns={1:'a'}), on='a')\n",
    "mirna_cell1025.head()"
   ]
  },
  {
   "cell_type": "code",
   "execution_count": null,
   "metadata": {},
   "outputs": [],
   "source": [
    "mirna_cell1025[['0_y','5_y']].drop_duplicates().to_csv(\n",
    "    edge_data_location + 'HpremiRNA-cell.txt', header=None, sep='\\t', index=None)"
   ]
  },
  {
   "cell_type": "code",
   "execution_count": null,
   "metadata": {},
   "outputs": [],
   "source": [
    "RNA_cell[6] = RNA_cell['0_y'].astype(str) + '#' + RNA_cell['3_x'].astype(str)"
   ]
  },
  {
   "cell_type": "code",
   "execution_count": null,
   "metadata": {},
   "outputs": [],
   "source": [
    "for i in set(RNA_cell['3_x']):\n",
    "    if i != 'miRNA':\n",
    "        RNA_cell_ = RNA_cell[RNA_cell['3_x']==i]\n",
    "\n",
    "        if not RNA_cell_.empty:   \n",
    "            #print(i)\n",
    "            #print(RNA_anatomy_[[6,'5_y']].drop_duplicates())\n",
    "            RNA_cell_[[6,'5_y']].drop_duplicates().to_csv(\n",
    "                edge_data_location + 'H' + i + '-cell.txt', header=None, sep='\\t', index=None)"
   ]
  },
  {
   "cell_type": "markdown",
   "metadata": {},
   "source": [
    "***\n",
    "## New edges"
   ]
  },
  {
   "cell_type": "markdown",
   "metadata": {},
   "source": [
    "***\n",
    "### precursor miRNA-miRNA\n",
    "* [miRBase](https://www.mirbase.org/) <br />  The miRBase database is a searchable database of published miRNA sequences and annotation. Each entry represents a predicted hairpin portion of a miRNA transcript (termed mir in the database), with information on the location and sequence of the mature miRNA sequence (termed miR)."
   ]
  },
  {
   "cell_type": "code",
   "execution_count": null,
   "metadata": {},
   "outputs": [],
   "source": [
    "data_downloader('https://www.mirbase.org/ftp/CURRENT/miRNA.xls.gz', unprocessed_data_location)"
   ]
  },
  {
   "cell_type": "code",
   "execution_count": null,
   "metadata": {},
   "outputs": [],
   "source": [
    "premiRNA_miRNA = pd.read_excel(unprocessed_data_location+'miRNA.xls')\n",
    "premiRNA_miRNA = premiRNA_miRNA.iloc[: , :10]\n",
    "\n",
    "# For the time being, we keep only Homo sapiens rows\n",
    "premiRNA_miRNA = premiRNA_miRNA[premiRNA_miRNA['ID'].str.startswith(\"hsa\")]\n",
    "premiRNA_miRNA"
   ]
  },
  {
   "cell_type": "code",
   "execution_count": null,
   "metadata": {},
   "outputs": [],
   "source": [
    "# mature miRNAs can be -3p or -5p --> Select only premiRNA <--> miRNA-3p relations (-3p = mature sequence 1)\n",
    "premiRNA_miRNAmature1 = premiRNA_miRNA.iloc[: , :7]\n",
    "premiRNA_miRNAmature1 = premiRNA_miRNAmature1[premiRNA_miRNAmature1['Mature1_ID'].notna()]\n",
    "premiRNA_miRNAmature1.rename(columns={'Mature1_Acc': 'Mature_Acc', 'Mature1_ID': 'Mature_ID',\n",
    "                                      'Mature1_Seq': 'Mature_Seq'}, inplace=True)\n",
    "premiRNA_miRNAmature1"
   ]
  },
  {
   "cell_type": "code",
   "execution_count": null,
   "metadata": {},
   "outputs": [],
   "source": [
    "premiRNA_miRNAmature2 = premiRNA_miRNA.drop(premiRNA_miRNA.iloc[:, 4:7],axis = 1)\n",
    "premiRNA_miRNAmature2 = premiRNA_miRNAmature2[premiRNA_miRNAmature2['Mature2_ID'].notna()]\n",
    "premiRNA_miRNAmature2.rename(columns={'Mature2_Acc': 'Mature_Acc', 'Mature2_ID': 'Mature_ID',\n",
    "                                      'Mature2_Seq': 'Mature_Seq'}, inplace=True)\n",
    "premiRNA_miRNAmature2"
   ]
  },
  {
   "cell_type": "code",
   "execution_count": null,
   "metadata": {},
   "outputs": [],
   "source": [
    "premiRNA_miRNAmature = premiRNA_miRNAmature1.append(premiRNA_miRNAmature2)\n",
    "premiRNA_miRNAmature.insert(1, 'Mature_Acc', premiRNA_miRNAmature.pop(\"Mature_Acc\"))\n",
    "premiRNA_miRNAmature"
   ]
  },
  {
   "cell_type": "code",
   "execution_count": null,
   "metadata": {},
   "outputs": [],
   "source": [
    "premiRNA_miRNAmature[['Accession', 'Mature_Acc']].drop_duplicates().to_csv(\n",
    "    edge_data_location + 'RpremiRNA-miRNA.txt', header=None, sep='\\t', index=None)"
   ]
  },
  {
   "cell_type": "markdown",
   "metadata": {},
   "source": [
    "***\n",
    "### miRNA-mRNA\n",
    "* [miRDB](https://mirdb.org/index.html) <br />  miRDB is an online database for miRNA target prediction and functional annotations. All the targets in miRDB were predicted by a bioinformatics tool, MirTarget, which was developed by analyzing thousands of miRNA-target interactions from high-throughput sequencing experiments."
   ]
  },
  {
   "cell_type": "code",
   "execution_count": null,
   "metadata": {},
   "outputs": [],
   "source": [
    "data_downloader('https://mirdb.org/download/miRDB_v6.0_prediction_result.txt.gz', unprocessed_data_location)"
   ]
  },
  {
   "cell_type": "code",
   "execution_count": null,
   "metadata": {},
   "outputs": [],
   "source": [
    "miRNA_mRNA = pd.read_csv(unprocessed_data_location+'miRDB_v6.0_prediction_result.txt', sep='\\t', names=['miRNA', 'mRNA', 'score'])\n",
    "\n",
    "# For the time being, we keep only Homo sapiens rows\n",
    "miRNA_mRNA = miRNA_mRNA[miRNA_mRNA['miRNA'].str.startswith(\"hsa\")]\n",
    "\n",
    "# All the predicted targets have target prediction scores between 50 - 100.\n",
    "# These scores are assigned by the new computational target prediction algorithm.\n",
    "# The higher the score, the more confidence we have in this prediction.\n",
    "# That is why the search result is ordered by prediction score.\n",
    "# In our experience, a predicted target with prediction score > 80 is most likely to be real.\n",
    "# If the score is below 60, you need to be cautious and it is recommended to have other supporting evidence as well.  \n",
    "miRNA_mRNA = miRNA_mRNA[miRNA_mRNA['score']>80]\n",
    "miRNA_mRNA"
   ]
  },
  {
   "cell_type": "markdown",
   "metadata": {},
   "source": [
    "***\n",
    "* [miRecords](http://c1.accurascience.com/miRecords/download_data.php?v=4) <br />  miRecords is a resource for animal miRNA-target interactions."
   ]
  },
  {
   "cell_type": "code",
   "execution_count": null,
   "metadata": {},
   "outputs": [],
   "source": [
    "#http://c1.accurascience.com/miRecords/download_data.php?v=4\n",
    "miRNA_mRNA2 = pd.read_excel(unprocessed_data_location+\"miRecords_version4.xls\")  \n",
    "\n",
    "# For the time being, we keep only Homo sapiens rows\n",
    "miRNA_mRNA2 = miRNA_mRNA2[miRNA_mRNA2['Target gene_species_scientific'].str.contains(\"apiens\")]\n",
    "miRNA_mRNA2 = miRNA_mRNA2[miRNA_mRNA2['miRNA_species'].str.contains(\"apiens\")]\n",
    "miRNA_mRNA2['Target gene_Refseq_acc']= miRNA_mRNA2['Target gene_Refseq_acc'].str.split(\".\").str[0]\n",
    "miRNA_mRNA2.rename(columns={'Target gene_Refseq_acc': 'mRNA', 'miRNA_mature_ID': 'miRNA'}, inplace=True)\n",
    "miRNA_mRNA2.drop(columns=['Target gene_species_scientific','Target gene_name','miRNA_species'], inplace=True)\n",
    "\n",
    "miRNA_mRNA2"
   ]
  },
  {
   "cell_type": "code",
   "execution_count": null,
   "metadata": {},
   "outputs": [],
   "source": [
    "mRNA_miRNA = pd.merge(miRNA_mRNA, miRNA_mRNA2, how='outer', on=['mRNA', 'miRNA'])\n",
    "mRNA_miRNA"
   ]
  },
  {
   "cell_type": "code",
   "execution_count": null,
   "metadata": {},
   "outputs": [],
   "source": [
    "mRNA_miRNA[['mRNA']].to_csv(unprocessed_data_location + 'mRNA.txt', header=None, index=None)"
   ]
  },
  {
   "cell_type": "raw",
   "metadata": {},
   "source": [
    "%%R\n",
    "acc=read.table(\"/Users/emanuelecavalleri/Desktop/mRNA.txt\", header=F, stringsAsFactors=F) \n",
    "clusterProfiler::bitr(acc$V1,fromType = \"ACCNUM\",toType = \"ENTREZID\",OrgDb = org.Hs.eg.db)"
   ]
  },
  {
   "cell_type": "code",
   "execution_count": null,
   "metadata": {},
   "outputs": [],
   "source": [
    "mRNA = pd.read_csv(unprocessed_data_location+'mRNA.csv')\n",
    "mRNA.rename(columns={'ACCNUM': 'mRNA'}, inplace=True)\n",
    "mRNA"
   ]
  },
  {
   "cell_type": "code",
   "execution_count": null,
   "metadata": {},
   "outputs": [],
   "source": [
    "mRNA_miRNA = pd.merge(mRNA_miRNA, mRNA, on=['mRNA'])\n",
    "mRNA_miRNA.insert(1, 'ENTREZID', mRNA_miRNA.pop(\"ENTREZID\"))\n",
    "mRNA_miRNA.drop(columns=['mRNA'], inplace=True)\n",
    "mRNA_miRNA"
   ]
  },
  {
   "cell_type": "markdown",
   "metadata": {},
   "source": [
    "***\n",
    "* [TarBase](https://dianalab.e-ce.uth.gr/html/diana/web/index.php?r=tarbasev8/index) <br />  DIANA-TarBase v8 is a reference database devoted to the indexing of experimentally supported microRNA (miRNA) targets."
   ]
  },
  {
   "cell_type": "code",
   "execution_count": null,
   "metadata": {},
   "outputs": [],
   "source": [
    "data_downloader('https://dianalab.e-ce.uth.gr/downloads/tarbase_v8_data.tar.gz', unprocessed_data_location)"
   ]
  },
  {
   "cell_type": "code",
   "execution_count": null,
   "metadata": {},
   "outputs": [],
   "source": [
    "with tarfile.TarFile(unprocessed_data_location+'tarbase_v8_data.tar', 'r') as tar_ref:\n",
    "    tar_ref.extractall(unprocessed_data_location)\n",
    "    \n",
    "mRNA_miRNA2 = pd.read_csv(unprocessed_data_location +\n",
    "                          'TarBase_v8_download.txt', sep=\"\\t\",\n",
    "                          dtype={\"cell_line\": \"string\"})  \n",
    "\n",
    "# For the time being, we keep only Homo sapiens rows\n",
    "mRNA_miRNA2 = mRNA_miRNA2[mRNA_miRNA2['species'].str.contains(\"Homo sapiens\")]\n",
    "mRNA_miRNA2.drop(columns=['geneId','species'], inplace=True)\n",
    "mRNA_miRNA2['geneName'] = mRNA_miRNA2['geneName'].str.replace(\"\\(hsa\\)\", '')\n",
    "mRNA_miRNA2.rename(columns={'mirna': 'miRNA'}, inplace=True)\n",
    "mRNA_miRNA2 = pd.merge(symbol_entrez_map[['0_x','0_y']].rename(columns={'0_x': 'geneName','0_y': 'ENTREZID'}),\n",
    "                       mRNA_miRNA2, on='geneName')\n",
    "mRNA_miRNA2.drop(columns=['geneName'], inplace=True)\n",
    "mRNA_miRNA2"
   ]
  },
  {
   "cell_type": "code",
   "execution_count": null,
   "metadata": {},
   "outputs": [],
   "source": [
    "mRNA_miRNA = pd.merge(mRNA_miRNA, mRNA_miRNA2, how='outer', on = ['miRNA','ENTREZID'])\n",
    "mRNA_miRNA"
   ]
  },
  {
   "cell_type": "markdown",
   "metadata": {},
   "source": [
    "***\n",
    "* [miRTarBase](https://mirtarbase.cuhk.edu.cn/~miRTarBase/miRTarBase_2022/php/index.php) <br /> miRTarBase has accumulated more than three hundred and sixty thousand miRNA-target interactions (MTIs), which are collected by manually surveying pertinent literature after NLP of the text systematically to filter research articles related to functional studies of miRNAs."
   ]
  },
  {
   "cell_type": "code",
   "execution_count": null,
   "metadata": {},
   "outputs": [],
   "source": [
    "# https://mirtarbase.cuhk.edu.cn/~miRTarBase/miRTarBase_2022/cache/download/9.0/miRTarBase_MTI.xlsx\n",
    "mRNA_miRNA2 = pd.read_excel(unprocessed_data_location+\"miRTarBase_MTI.xlsx\")\n",
    "mRNA_miRNA2 = mRNA_miRNA2[mRNA_miRNA2['Species (miRNA)'].str.contains('apiens')]\n",
    "mRNA_miRNA2 = mRNA_miRNA2[mRNA_miRNA2['Species (Target Gene)'].str.contains('apiens')]\n",
    "mRNA_miRNA2.drop(columns=['miRTarBase ID','Species (miRNA)','Target Gene','Species (Target Gene)'], inplace=True)\n",
    "mRNA_miRNA2.rename(columns={'Target Gene (Entrez ID)': 'ENTREZID'}, inplace=True)\n",
    "mRNA_miRNA2"
   ]
  },
  {
   "cell_type": "code",
   "execution_count": null,
   "metadata": {},
   "outputs": [],
   "source": [
    "mRNA_miRNA= pd.merge(mRNA_miRNA, mRNA_miRNA2, how='outer', on=['miRNA','ENTREZID'])\n",
    "mRNA_miRNA"
   ]
  },
  {
   "cell_type": "code",
   "execution_count": null,
   "metadata": {},
   "outputs": [],
   "source": [
    "mRNA_miRNA['Pubmed_id'].fillna(mRNA_miRNA['References (PMID)'], inplace=True)\n",
    "mRNA_miRNA['Pubmed_id'] = mRNA_miRNA['Pubmed_id'].astype('Int64').astype(str)\n",
    "mRNA_miRNA['References (PMID)'] = mRNA_miRNA['References (PMID)'].astype('Int64').astype(str)\n",
    "mRNA_miRNA.loc[(mRNA_miRNA[\"Pubmed_id\"]!=\"<NA>\") &\n",
    "               (mRNA_miRNA[\"References (PMID)\"]!=\"<NA>\") &\n",
    "               (mRNA_miRNA[\"Pubmed_id\"] !=\n",
    "                mRNA_miRNA[\"References (PMID)\"]),\n",
    "               [\"Pubmed_id\"]] = mRNA_miRNA[\"Pubmed_id\"] + ' + ' + mRNA_miRNA[\"References (PMID)\"]\n",
    "\n",
    "mRNA_miRNA.drop(columns=['References (PMID)'],inplace=True)\n",
    "\n",
    "mRNA_miRNA['method'].fillna(mRNA_miRNA['Experiments'], inplace=True)\n",
    "mRNA_miRNA.loc[(mRNA_miRNA[\"method\"].notna()) &\n",
    "               (mRNA_miRNA[\"Experiments\"].notna()) &\n",
    "               (mRNA_miRNA[\"method\"] !=\n",
    "                mRNA_miRNA[\"Experiments\"]),\n",
    "               [\"method\"]] = mRNA_miRNA[\"method\"] + ' + ' + mRNA_miRNA[\"Experiments\"]\n",
    "mRNA_miRNA.drop(columns=['Experiments'],inplace=True)\n",
    "\n",
    "mRNA_miRNA"
   ]
  },
  {
   "cell_type": "markdown",
   "metadata": {},
   "source": [
    "***\n",
    "* [TargetScan](https://www.targetscan.org/vert_80/) <br /> TargetScan predicts biological targets of miRNAs by searching for the presence of conserved 8mer, 7mer, and 6mer sites that match the seed region of each miRNA. "
   ]
  },
  {
   "cell_type": "code",
   "execution_count": null,
   "metadata": {},
   "outputs": [],
   "source": [
    "#https://www.targetscan.org/vert_80/vert_80_data_download/Predicted_Targets_Context_Scores.default_predictions.txt.zip\n",
    "mRNA_miRNA2 = pd.read_csv(unprocessed_data_location+'Predicted_Targets_Context_Scores.default_predictions.txt',sep='\\t')\n",
    "mRNA_miRNA2 = mRNA_miRNA2[mRNA_miRNA2['Gene Tax ID'] == 9606]\n",
    "mRNA_miRNA2.drop(columns=['Gene ID','Transcript ID','Gene Tax ID'], inplace=True)\n",
    "mRNA_miRNA2"
   ]
  },
  {
   "cell_type": "code",
   "execution_count": null,
   "metadata": {},
   "outputs": [],
   "source": [
    "mRNA_miRNA2 = pd.merge(mRNA_miRNA2, symbol_entrez_map.rename(columns={'0_x': 'Gene Symbol'}), on='Gene Symbol')\n",
    "mRNA_miRNA2.drop(columns=['Gene Symbol'], inplace=True)\n",
    "mRNA_miRNA = pd.merge(mRNA_miRNA, mRNA_miRNA2.rename(columns={'0_y':'ENTREZID'}), how='outer', on=['miRNA','ENTREZID'])"
   ]
  },
  {
   "cell_type": "markdown",
   "metadata": {},
   "source": [
    "***\n",
    "* [SomamiR](https://compbio.uthsc.edu/SomamiR/) <br /> SomamiR is a database of cancer somatic mutations in microRNAs (miRNA) and their target sites that potentially alter the interactions between miRNAs and competing endogenous RNAs (ceRNA) including mRNAs, circular RNAs (circRNA) and long noncoding RNAs (lncRNA)."
   ]
  },
  {
   "cell_type": "code",
   "execution_count": null,
   "metadata": {},
   "outputs": [],
   "source": [
    "#https://compbio.uthsc.edu/SomamiR/download/predicted_mRNA_targets_somamir_v2.0.txt.tar.gz\n",
    "mRNA_miRNA2 = pd.read_csv(unprocessed_data_location+'predicted_mRNA_targets_somamir_v2.0.txt',sep='\\t')\n",
    "mRNA_miRNA2.drop(columns=['Refseq','Chromosome','strand','Mutationlocation','WTallele','Mutantallele',\n",
    "                           'Targetsiteclass','Seed_mod','mRNAseq','miRseedseq','Seedclass',\n",
    "                           'WTconservation','Organisms','Sample_id','wildtype_csp',\n",
    "                           'mutant_csp','display_first','pita_ref','pita_mut','pita_diff'],inplace=True)\n",
    "# We select only relationships validated by TargetScan\n",
    "mRNA_miRNA2 = mRNA_miRNA2[mRNA_miRNA2['Targetscan']==1] \n",
    "mRNA_miRNA2.drop(columns=['Targetscan'],inplace=True)\n",
    "mRNA_miRNA2 = pd.merge(mRNA_miRNA2, symbol_entrez_map.rename(columns={'0_x':'Genesymbol'}), on='Genesymbol')\n",
    "mRNA_miRNA2.drop(columns=['Genesymbol'],inplace=True)\n",
    "mRNA_miRNA2.rename(columns={'0_y':'ENTREZID'},inplace=True)\n",
    "mRNA_miRNA2"
   ]
  },
  {
   "cell_type": "code",
   "execution_count": null,
   "metadata": {},
   "outputs": [],
   "source": [
    "mRNA_miRNA= pd.merge(mRNA_miRNA, mRNA_miRNA2, how='outer', on=['miRNA','ENTREZID'])\n",
    "\n",
    "mRNA_miRNA['Pubmed_id'].fillna(mRNA_miRNA['Pubmedid'], inplace=True)\n",
    "mRNA_miRNA['Pubmed_id'] = mRNA_miRNA['Pubmed_id'].astype(str)\n",
    "mRNA_miRNA['Pubmedid'] = mRNA_miRNA['Pubmedid'].astype(str)\n",
    "mRNA_miRNA.loc[(mRNA_miRNA[\"Pubmed_id\"]!=\"<NA>\") &\n",
    "               (mRNA_miRNA[\"Pubmedid\"].notna()) &\n",
    "               (mRNA_miRNA[\"Pubmed_id\"] !=\n",
    "                mRNA_miRNA[\"Pubmedid\"]),\n",
    "               [\"Pubmed_id\"]] = mRNA_miRNA[\"Pubmed_id\"] + ' + ' + mRNA_miRNA[\"Pubmedid\"]\n",
    "mRNA_miRNA.drop(columns=['Pubmedid'],inplace=True)"
   ]
  },
  {
   "cell_type": "markdown",
   "metadata": {},
   "source": [
    "***\n",
    "* [miRdSNP](http://mirdsnp.ccr.buffalo.edu/index.php) <br /> miRdSNP is a database of disease-associated SNPs and microRNA target sites on 3'UTRs of human genes."
   ]
  },
  {
   "cell_type": "code",
   "execution_count": null,
   "metadata": {},
   "outputs": [],
   "source": [
    "#http://mirdsnp.ccr.buffalo.edu/downloads/mirdsnp-dsnp-generated-mir-targets-v11.03.csv\n",
    "mRNA_miRNA2 = pd.read_csv(unprocessed_data_location+'mirdsnp-dsnp-generated-mir-targets-v11.03.csv')\n",
    "#mRNA_miRNA2 = mRNA_miRNA2[mRNA_miRNA2['experimentally_confirmed']=='Yes']\n",
    "mRNA_miRNA2.drop(columns=['refseq_id','distance','experimentally_confirmed'],inplace=True)\n",
    "mRNA_miRNA2 = pd.merge(mRNA_miRNA2, symbol_entrez_map.rename(columns={'0_x':'gene_name'}), on='gene_name')\n",
    "mRNA_miRNA2.drop(columns=['gene_name'],inplace=True)\n",
    "mRNA_miRNA2.rename(columns={'0_y':'ENTREZID','miR':'miRNA'},inplace=True)\n",
    "mRNA_miRNA2"
   ]
  },
  {
   "cell_type": "code",
   "execution_count": null,
   "metadata": {},
   "outputs": [],
   "source": [
    "mRNA_miRNA= pd.merge(mRNA_miRNA, mRNA_miRNA2, how='outer', on=['miRNA','ENTREZID'])\n",
    "\n",
    "mRNA_miRNA['diseases'].fillna(mRNA_miRNA['Cancertype'], inplace=True)\n",
    "mRNA_miRNA.loc[(mRNA_miRNA[\"diseases\"].notna()) &\n",
    "               (mRNA_miRNA[\"Cancertype\"].notna()) &\n",
    "               (mRNA_miRNA[\"diseases\"] !=\n",
    "                mRNA_miRNA[\"Cancertype\"]),\n",
    "               [\"diseases\"]] = mRNA_miRNA[\"diseases\"] + ' + ' + mRNA_miRNA[\"Cancertype\"]\n",
    "mRNA_miRNA.drop(columns=['Cancertype'],inplace=True)"
   ]
  },
  {
   "cell_type": "markdown",
   "metadata": {},
   "source": [
    "Let's divide miRNA-mRNA interactions into mature_miRNA-mRNA interactions and stem-loop_miRNA-mRNA interactions."
   ]
  },
  {
   "cell_type": "code",
   "execution_count": null,
   "metadata": {},
   "outputs": [],
   "source": [
    "mRNA_miRNA = pd.merge(mirna_mirbase_map.rename(columns={1: 'miRNA'}), mRNA_miRNA, on='miRNA')\n",
    "mRNA_miRNA.drop(columns=['miRNA'], inplace=True)\n",
    "\n",
    "mRNA_miRNA['ENTREZID'] = mRNA_miRNA['ENTREZID'].astype('str') + '#mRNA'\n",
    "maturemRNA_miRNA = mRNA_miRNA[mRNA_miRNA[0].str.startswith('MIMAT')]\n",
    "premRNA_miRNA = mRNA_miRNA[~mRNA_miRNA[0].str.startswith('MIMAT')]\n",
    "maturemRNA_miRNA[[0, 'ENTREZID']].drop_duplicates().to_csv(\n",
    "    edge_data_location + 'RmiRNA-mRNA.txt', header=None, sep='\\t', index=None)\n",
    "premRNA_miRNA[[0, 'ENTREZID']].drop_duplicates().to_csv(\n",
    "    edge_data_location + 'RpremiRNA-mRNA.txt', header=None, sep='\\t', index=None)"
   ]
  },
  {
   "cell_type": "markdown",
   "metadata": {},
   "source": [
    "***\n",
    "### miRNA-pseudogene"
   ]
  },
  {
   "cell_type": "markdown",
   "metadata": {},
   "source": [
    "* [miRNet](https://www.mirnet.ca/miRNet/)"
   ]
  },
  {
   "cell_type": "code",
   "execution_count": null,
   "metadata": {},
   "outputs": [],
   "source": [
    "# https://www.dropbox.com/s/r01ppq5x42v4lyh/miRNet-mir-pseudogene.csv?dl=0\n",
    "miRNA_pseudogene = pd.read_csv(unprocessed_data_location+'miRNet-mir-pseudogene.csv')\n",
    "miRNA_pseudogene.drop(columns=['mirnet','mir_id','symbol','embl','gene_name','mbv'], inplace=True)\n",
    "miRNA_pseudogene"
   ]
  },
  {
   "cell_type": "code",
   "execution_count": null,
   "metadata": {},
   "outputs": [],
   "source": [
    "# Does miRNet contain premiRNA-pseudogene interactions?\n",
    "miRNA_pseudogene[~miRNA_pseudogene['mir_acc'].str.startswith('MIMAT')].any()"
   ]
  },
  {
   "cell_type": "code",
   "execution_count": null,
   "metadata": {},
   "outputs": [],
   "source": [
    "miRNA_pseudogene.entrez = miRNA_pseudogene.entrez.astype(str)+'#pseudo'"
   ]
  },
  {
   "cell_type": "code",
   "execution_count": null,
   "metadata": {},
   "outputs": [],
   "source": [
    "miRNA_pseudogene[['mir_acc', 'entrez']].drop_duplicates().to_csv(\n",
    "    edge_data_location+'RmiRNA-pseudogene.txt', header=None, sep='\\t', index=None)"
   ]
  },
  {
   "cell_type": "markdown",
   "metadata": {},
   "source": [
    "***\n",
    "### miRNA-epigenetic modification"
   ]
  },
  {
   "cell_type": "markdown",
   "metadata": {},
   "source": [
    "* [EpimiR](http://www.jianglab.cn/EpimiR/index.jsp) <br />\n",
    "The EpimiR database have obtained 1974 regulatory relationships between 19 types of epigenetic modifications (including DNA methylation, histone acetylation, H3K4me3 and H3K27me3, etc.) and 617 miRNAs across 7 species (including Homo sapiens) from nearly 2000 literatures."
   ]
  },
  {
   "cell_type": "code",
   "execution_count": null,
   "metadata": {},
   "outputs": [],
   "source": [
    "#via miRNet --> https://www.dropbox.com/s/p852ndpck5jasxz/miRNet-mir-epi-hsa.csv?dl=0\n",
    "miRNA_epiMod = pd.read_csv(unprocessed_data_location + 'miRNet-mir-epi-hsa.csv')\n",
    "miRNA_epiMod.drop(columns=['mirnet','mir_id','note','res_type'], inplace=True)\n",
    "miRNA_epiMod['epi_modification'] = miRNA_epiMod.epi_modification.str.split('/')\n",
    "miRNA_epiMod = miRNA_epiMod.explode('epi_modification')\n",
    "miRNA_epiMod.insert(1, 'epi_modification', miRNA_epiMod.pop(\"epi_modification\"))\n",
    "miRNA_epiMod"
   ]
  },
  {
   "cell_type": "code",
   "execution_count": null,
   "metadata": {},
   "outputs": [],
   "source": [
    "miRNA_epiMod['epi_modification'] = miRNA_epiMod['epi_modification'].str.replace('DNA Methylation','GO_0006306')\n",
    "miRNA_epiMod['epi_modification'] = miRNA_epiMod['epi_modification'].str.replace('Histone Acetylation','GO_0016573')\n",
    "miRNA_epiMod['epi_modification'] = miRNA_epiMod['epi_modification'].str.replace('Histone Modification','GO_0016570')\n",
    "miRNA_epiMod['epi_modification'].unique()"
   ]
  },
  {
   "cell_type": "markdown",
   "metadata": {},
   "source": [
    "Let's divide miRNA-epiMod interactions into mature_miRNA-epiMod interactions and stem-loop_miRNA-epiMod interactions. Furthermore, let's divide GO classes from entities."
   ]
  },
  {
   "cell_type": "code",
   "execution_count": null,
   "metadata": {},
   "outputs": [],
   "source": [
    "maturemiRNA_epiMod = miRNA_epiMod[miRNA_epiMod['mir_acc'].str.startswith('MIMAT')]\n",
    "premiRNA_epiMod = miRNA_epiMod[~miRNA_epiMod['mir_acc'].str.startswith('MIMAT')]"
   ]
  },
  {
   "cell_type": "code",
   "execution_count": null,
   "metadata": {},
   "outputs": [],
   "source": [
    "maturemiRNA_epiMod_class = miRNA_epiMod[miRNA_epiMod['epi_modification'].str.startswith('GO')]\n",
    "premiRNA_epiMod_class = miRNA_epiMod[miRNA_epiMod['epi_modification'].str.startswith('GO')]\n",
    "\n",
    "maturemiRNA_epiMod_class[['mir_acc', 'epi_modification']].drop_duplicates().to_csv(\n",
    "    edge_data_location + 'RmiRNA-epiModclass.txt', header=None, sep='\\t', index=None)\n",
    "premiRNA_epiMod_class[['mir_acc', 'epi_modification']].drop_duplicates().to_csv(\n",
    "    edge_data_location + 'RpremiRNA-epiModclass.txt', header=None, sep='\\t', index=None)"
   ]
  },
  {
   "cell_type": "code",
   "execution_count": null,
   "metadata": {},
   "outputs": [],
   "source": [
    "maturemiRNA_epiMod = miRNA_epiMod[~miRNA_epiMod['epi_modification'].str.startswith('GO')]\n",
    "premiRNA_epiMod = miRNA_epiMod[~miRNA_epiMod['epi_modification'].str.startswith('GO')]\n",
    "\n",
    "maturemiRNA_epiMod[['mir_acc', 'epi_modification']].drop_duplicates().to_csv(\n",
    "    edge_data_location + 'RmiRNA-epiMod.txt', header=None, sep='\\t', index=None)\n",
    "premiRNA_epiMod[['mir_acc', 'epi_modification']].drop_duplicates().to_csv(\n",
    "    edge_data_location + 'RpremiRNA-epiMod.txt', header=None, sep='\\t', index=None)"
   ]
  },
  {
   "cell_type": "markdown",
   "metadata": {},
   "source": [
    "***\n",
    "### miRNA-disease"
   ]
  },
  {
   "cell_type": "markdown",
   "metadata": {},
   "source": [
    "* [miR2Disease](http://watson.compbio.iupui.edu:8080/miR2Disease/) <br />miR2Disease is a manually curated database that aims at providing a comprehensive resource of miRNA deregulation in various human diseases."
   ]
  },
  {
   "cell_type": "code",
   "execution_count": null,
   "metadata": {},
   "outputs": [],
   "source": [
    "data_downloader('http://watson.compbio.iupui.edu:8080/miR2Disease/download/AllEntries.txt', unprocessed_data_location)"
   ]
  },
  {
   "cell_type": "code",
   "execution_count": null,
   "metadata": {},
   "outputs": [],
   "source": [
    "miRNA_disease = pd.read_csv(unprocessed_data_location + 'AllEntries.txt', sep=\"\\t\", header=None) \n",
    "miRNA_disease[1] = miRNA_disease[1].str.lower()\n",
    "miRNA_disease.rename(columns={0: 'mir_id', 1: 'disease'}, inplace=True)\n",
    "miRNA_disease"
   ]
  },
  {
   "cell_type": "markdown",
   "metadata": {},
   "source": [
    "* [HMDD](https://www.cuilab.cn/hmdd) <br /> HMDD (the Human microRNA Disease Database) is a database that curated experiment-supported evidence for human microRNA (miRNA) and disease associations. miRNAs are one class of important regulatory RNAs, which mainly repress gene express at the post-transcriptional level."
   ]
  },
  {
   "cell_type": "code",
   "execution_count": null,
   "metadata": {},
   "outputs": [],
   "source": [
    "#https://www.cuilab.cn/static/hmdd3/data/alldata.xlsx\n",
    "miRNA_disease2 = pd.read_excel(unprocessed_data_location+'alldata.xlsx')\n",
    "miRNA_disease2.rename(columns={'mir': 'mir_id'}, inplace=True)\n",
    "miRNA_disease2.disease = miRNA_disease.disease.str.lower()\n",
    "miRNA_disease2"
   ]
  },
  {
   "cell_type": "code",
   "execution_count": null,
   "metadata": {},
   "outputs": [],
   "source": [
    "miRNA_disease = pd.merge(miRNA_disease,miRNA_disease2,how='outer',on=['mir_id','disease'])\n",
    "\n",
    "miRNA_disease['description'].fillna(miRNA_disease[5], inplace=True)\n",
    "miRNA_disease.loc[(miRNA_disease['description'].notna()) & (miRNA_disease[5].notna()) &\n",
    "                  (miRNA_disease['description'] != miRNA_disease[5]),\n",
    "          [\"description\"]] = miRNA_disease[\"description\"] + ' + ' + miRNA_disease[5]\n",
    "\n",
    "miRNA_disease['category'].fillna(miRNA_disease[2], inplace=True)\n",
    "miRNA_disease.loc[(miRNA_disease['category'].notna()) & (miRNA_disease[2].notna()) &\n",
    "                  (miRNA_disease['category'] != miRNA_disease[2]),\n",
    "          [\"category\"]] = miRNA_disease[\"category\"] + ' + ' + miRNA_disease[2]\n",
    "\n",
    "miRNA_disease.drop(columns=['category','description'],inplace=True)\n",
    "miRNA_disease"
   ]
  },
  {
   "cell_type": "markdown",
   "metadata": {},
   "source": [
    "***\n",
    "* [miRNet](https://www.mirnet.ca/miRNet/)"
   ]
  },
  {
   "cell_type": "code",
   "execution_count": null,
   "metadata": {},
   "outputs": [],
   "source": [
    "#https://www.dropbox.com/s/o27wz2kg9co76mo/miRNet-mir-disease.csv?dl=0\n",
    "miRNA_disease2 = pd.read_csv(unprocessed_data_location + \"miRNet-mir-disease.csv\")\n",
    "miRNA_disease2.disease = miRNA_disease2.disease.str.lower()\n",
    "miRNA_disease2 = miRNA_disease2[~miRNA_disease2['database'].str.contains(\"miR2Disease\")]\n",
    "miRNA_disease2 = miRNA_disease2.drop(columns=['database','mir_acc','mirnet'])\n",
    "miRNA_disease2"
   ]
  },
  {
   "cell_type": "code",
   "execution_count": null,
   "metadata": {},
   "outputs": [],
   "source": [
    "miRNA_disease = pd.merge(miRNA_disease,miRNA_disease2,how='outer',on=['mir_id','disease'])\n",
    "\n",
    "miRNA_disease['evidence'].fillna(miRNA_disease[2], inplace=True)\n",
    "miRNA_disease.loc[(miRNA_disease['evidence'].notna()) & (miRNA_disease[2].notna()) &\n",
    "                  (miRNA_disease['evidence'] != miRNA_disease[2]),\n",
    "          [\"evidence\"]] = miRNA_disease[\"evidence\"] + ' + ' + miRNA_disease[2]\n",
    "\n",
    "miRNA_disease['method'].fillna(miRNA_disease[3], inplace=True)\n",
    "miRNA_disease.loc[(miRNA_disease['method'].notna()) & (miRNA_disease[3].notna()) &\n",
    "                  (miRNA_disease['method'] != miRNA_disease[3]),\n",
    "          [\"method\"]] = miRNA_disease[\"method\"] + ' + ' + miRNA_disease[3]\n",
    "\n",
    "miRNA_disease.drop(columns=[2,3],inplace=True)\n",
    "miRNA_disease"
   ]
  },
  {
   "cell_type": "markdown",
   "metadata": {},
   "source": [
    "***\n",
    "* [dbDEMC](https://www.biosino.org/dbDEMC/index) <br /> dbDEMC (database of Differentially Expressed MiRNAs in human Cancers) is an integrated database that designed to store and display differentially expressed microRNAs (miRNAs) in cancers."
   ]
  },
  {
   "cell_type": "code",
   "execution_count": null,
   "metadata": {},
   "outputs": [],
   "source": [
    "# https://www.biosino.org/dbDEMC/download/MiRExpAll\n",
    "miRNA_disease2 = pd.read_csv(unprocessed_data_location+\"miRExpAll.txt\", sep=\"\\t\")\n",
    "miRNA_disease2 = miRNA_disease2[miRNA_disease2.Species.str.contains(\"apiens\")]\n",
    "miRNA_disease2 = miRNA_disease2.drop(columns=['miRNA_ID','ExperimentID','logFC','SourceDataID',\n",
    "                                              'AveExpr','Tvalue','Pvalue','Bvalue','Species'])\n",
    "miRNA_disease2 = miRNA_disease2[miRNA_disease2['adjPvalue']<.01]\n",
    "miRNA_disease2.rename(columns={'miRBaseID': 'mir_id', 'CancerType': 'disease'}, inplace=True)\n",
    "miRNA_disease2"
   ]
  },
  {
   "cell_type": "code",
   "execution_count": null,
   "metadata": {},
   "outputs": [],
   "source": [
    "miRNA_disease = pd.merge(miRNA_disease,miRNA_disease2,how='outer',on=['mir_id','disease'])\n",
    "\n",
    "miRNA_disease['evidence'].fillna(miRNA_disease['Status'], inplace=True)\n",
    "miRNA_disease.loc[(miRNA_disease['evidence'].notna()) & (miRNA_disease['Status'].notna()) &\n",
    "                  (miRNA_disease['evidence'] != miRNA_disease['Status']),\n",
    "          [\"evidence\"]] = miRNA_disease[\"evidence\"] + ' + ' + miRNA_disease['Status']\n",
    "\n",
    "miRNA_disease.drop(columns=['Status'],inplace=True)\n",
    "miRNA_disease"
   ]
  },
  {
   "cell_type": "markdown",
   "metadata": {},
   "source": [
    "***\n",
    "* [miRdSNP](http://mirdsnp.ccr.buffalo.edu/index.php) <br /> miRdSNP is a database of disease-associated SNPs and microRNA target sites on 3'UTRs of human genes."
   ]
  },
  {
   "cell_type": "code",
   "execution_count": null,
   "metadata": {},
   "outputs": [],
   "source": [
    "#http://mirdsnp.ccr.buffalo.edu/downloads/mirdsnp-dsnp-generated-mir-targets-v11.03.csv\n",
    "miRdSNP = pd.read_csv(unprocessed_data_location+'mirdsnp-dsnp-generated-mir-targets-v11.03.csv')\n",
    "miRdSNP.diseases = miRdSNP.diseases.str.lower()\n",
    "miRdSNP.experimentally_confirmed = miRdSNP.experimentally_confirmed.str.replace('Yes', 'experimentally confirmed')\n",
    "miRdSNP.drop(columns='refseq_id', inplace=True)\n",
    "miRdSNP.rename(columns={'miR': 'mir_id', 'diseases': 'disease'}, inplace=True)\n",
    "miRdSNP"
   ]
  },
  {
   "cell_type": "code",
   "execution_count": null,
   "metadata": {},
   "outputs": [],
   "source": [
    "miRNA_disease = pd.merge(miRNA_disease,miRdSNP,how='outer',on=['mir_id','disease'])\n",
    "\n",
    "miRNA_disease['method'].fillna(miRNA_disease['experimentally_confirmed'], inplace=True)\n",
    "miRNA_disease.loc[(miRNA_disease['method'].notna()) & (miRNA_disease['experimentally_confirmed'].notna()) &\n",
    "                  (miRNA_disease['method'] != miRNA_disease['experimentally_confirmed']),\n",
    "          [\"method\"]] = miRNA_disease[\"method\"] + ' + ' + miRNA_disease['experimentally_confirmed']\n",
    "\n",
    "miRNA_disease.drop(columns=['experimentally_confirmed'],inplace=True)\n",
    "miRNA_disease"
   ]
  },
  {
   "cell_type": "markdown",
   "metadata": {},
   "source": [
    "***\n",
    "* [TAM](http://www.lirmed.com/tam2/) <br /> TAM groups miRNAs into six categories of miRNA sets: miRNA-family sets, miRNA cluster sets, miRNA-disease, miRNA-function sets, miRNA-TF sets and tissue specificity sets."
   ]
  },
  {
   "cell_type": "code",
   "execution_count": null,
   "metadata": {},
   "outputs": [],
   "source": [
    "#http://www.lirmed.com/tam2/Public/static/data/mirset_v9.txt\n",
    "TAM = pd.read_csv(unprocessed_data_location+'mirset_v9.txt', sep='\\t',names=range(500))\n",
    "TAM=TAM.dropna(axis=1, how='all')\n",
    "miRNA_disease2=TAM[TAM[0]==(\"HMDD\")]\n",
    "miRNA_disease2[1] = miRNA_disease2[1].str.lower()\n",
    "miRNA_disease2=miRNA_disease2.dropna(axis=1, how='all')\n",
    "miRNA_disease2=miRNA_disease2.drop(columns=[0])\n",
    "miRNA_disease2"
   ]
  },
  {
   "cell_type": "code",
   "execution_count": null,
   "metadata": {},
   "outputs": [],
   "source": [
    "miRNA_disease2['merged'] = miRNA_disease2[miRNA_disease2.columns[1:]].apply(\n",
    "    lambda x: ','.join(x.dropna().astype(str)),\n",
    "    axis=1\n",
    ")\n",
    "miRNA_disease2=miRNA_disease2[[1,'merged']]\n",
    "\n",
    "miRNA_disease2['merged'] = miRNA_disease2.merged.str.split(',')\n",
    "miRNA_disease2 = miRNA_disease2.explode('merged')\n",
    "miRNA_disease2.rename(columns={1: 'disease', 'merged': 'mir_id'}, inplace=True)\n",
    "miRNA_disease2"
   ]
  },
  {
   "cell_type": "code",
   "execution_count": null,
   "metadata": {},
   "outputs": [],
   "source": [
    "miRNA_disease = pd.merge(miRNA_disease,miRNA_disease2,how='outer',on=['mir_id','disease'])\n",
    "miRNA_disease"
   ]
  },
  {
   "cell_type": "code",
   "execution_count": null,
   "metadata": {},
   "outputs": [],
   "source": [
    "miRNA_disease = pd.merge(miRNA_disease,desc_do_map.rename(columns={'desc': 'disease'}),\n",
    "                         how='outer',on=['disease'])\n",
    "miRNA_disease.insert(1, 'doid', miRNA_disease.pop(\"doid\"))\n",
    "miRNA_disease = pd.merge(mirna_mirbase_map.rename(columns={1: 'mir_id'}), miRNA_disease, on='mir_id')\n",
    "miRNA_disease.drop(columns=['mir_id','disease'], inplace=True)\n",
    "\n",
    "miRNA_disease=pd.merge(miRNA_disease, doid_mondo_map.rename(columns={0:'doid'}), on='doid')\n",
    "miRNA_disease.drop(columns=['doid'],inplace=True)\n",
    "miRNA_disease"
   ]
  },
  {
   "cell_type": "markdown",
   "metadata": {},
   "source": [
    "Let's divide miRNA-disease interactions into mature_miRNA-disease interactions and stem-loop_miRNA-disease interactions."
   ]
  },
  {
   "cell_type": "code",
   "execution_count": null,
   "metadata": {},
   "outputs": [],
   "source": [
    "maturemiRNA_disease = miRNA_disease[miRNA_disease[0].str.startswith('MIMAT')]\n",
    "premiRNA_disease = miRNA_disease[~miRNA_disease[0].str.startswith('MIMAT')]\n",
    "maturemiRNA_disease[[0, 1]].drop_duplicates().to_csv(\n",
    "    edge_data_location + 'RmiRNA-disease.txt', header=None, sep='\\t', index=None)\n",
    "premiRNA_disease[[0, 1]].drop_duplicates().to_csv(\n",
    "    edge_data_location + 'RpremiRNA-disease.txt', header=None, sep='\\t', index=None)"
   ]
  },
  {
   "cell_type": "markdown",
   "metadata": {},
   "source": [
    "## TODO: add miRCancer (down)"
   ]
  },
  {
   "cell_type": "markdown",
   "metadata": {},
   "source": [
    "***\n",
    "### miRNA-lncRNA"
   ]
  },
  {
   "cell_type": "markdown",
   "metadata": {},
   "source": [
    "* [miRNet](https://www.mirnet.ca/)"
   ]
  },
  {
   "cell_type": "code",
   "execution_count": null,
   "metadata": {},
   "outputs": [],
   "source": [
    "miRNA_lncRNA = pd.read_csv(unprocessed_data_location + \"miRNet-mir-lncRNA.csv\")\n",
    "miRNA_lncRNA.drop(columns=['mirnet','mir_acc','entrez','embl','gene_name','mbv'],inplace=True)\n",
    "miRNA_lncRNA"
   ]
  },
  {
   "cell_type": "code",
   "execution_count": null,
   "metadata": {},
   "outputs": [],
   "source": [
    "# Are all miRNA molecules human ones?\n",
    "any(miRNA_lncRNA['mir_id'].str.contains(\"hsa\"))"
   ]
  },
  {
   "cell_type": "markdown",
   "metadata": {},
   "source": [
    "***\n",
    "* [LncRNAWiki](https://ngdc.cncb.ac.cn/lncrnawiki/) <br />  LncRNAWiki is devoted to community curation of human long non-coding RNAs (lncRNAs) to provide a comprehensive and up-to-date resource of functionally annotated lncRNAs. It incorporates a comprehensive collection of experimentally studied lncRNAs and integrates a wealth of their annotations based on a standardized curation model, and improves curation quality through expert curator review and community error report. "
   ]
  },
  {
   "cell_type": "code",
   "execution_count": null,
   "metadata": {},
   "outputs": [],
   "source": [
    "LncRNAWiki = pd.read_csv(unprocessed_data_location+'LncRNAWiki_BrowseDownload.csv')\n",
    "miRNA_lncRNA2 = LncRNAWiki[LncRNAWiki['target_type'].notna()]\n",
    "miRNA_lncRNA2 = miRNA_lncRNA2[miRNA_lncRNA2.target_type.str.contains('miRNA')]\n",
    "miRNA_lncRNA2.target = 'hsa-'+miRNA_lncRNA2.target\n",
    "miRNA_lncRNA2.drop(columns=['gene_locus','synonyms','gene_id','transcript_id','target_interaction'],inplace=True)\n",
    "miRNA_lncRNA2"
   ]
  },
  {
   "cell_type": "code",
   "execution_count": null,
   "metadata": {},
   "outputs": [],
   "source": [
    "miRNA_lncRNA2.rename(columns={'target': 'mir_id'}, inplace=True)\n",
    "\n",
    "miRNA_lncRNA = pd.merge(miRNA_lncRNA, miRNA_lncRNA2, how='outer', on=['mir_id','symbol'])\n",
    "miRNA_lncRNA"
   ]
  },
  {
   "cell_type": "markdown",
   "metadata": {},
   "source": [
    "***\n",
    "* [SomamiR](https://compbio.uthsc.edu/SomamiR/)"
   ]
  },
  {
   "cell_type": "code",
   "execution_count": null,
   "metadata": {},
   "outputs": [],
   "source": [
    "#https://compbio.uthsc.edu/SomamiR/download/lncRNA_somatic_v2.0.txt.tar.gz\n",
    "miRNA_lncRNA2 = pd.read_csv(unprocessed_data_location+'lncRNA_somatic_v2.0.txt',sep='\\t')\n",
    "miRNA_lncRNA2.drop(columns=['Transcript','Unnamed: 18'],inplace=True)\n",
    "miRNA_lncRNA2['Gene'] = miRNA_lncRNA2['Gene'].str.replace(r'lnc-', '')\n",
    "miRNA_lncRNA2.rename(columns={'Gene': 'symbol', 'miRNA':'mir_id'}, inplace=True)\n",
    "miRNA_lncRNA2"
   ]
  },
  {
   "cell_type": "code",
   "execution_count": null,
   "metadata": {},
   "outputs": [],
   "source": [
    "miRNA_lncRNA = pd.merge(miRNA_lncRNA, miRNA_lncRNA2, how='outer', on=['mir_id','symbol'])\n",
    "\n",
    "miRNA_lncRNA['pmid'].fillna(miRNA_lncRNA['PMID'], inplace=True)\n",
    "miRNA_lncRNA['pmid'] = miRNA_lncRNA['pmid'].astype(str)\n",
    "miRNA_lncRNA['PMID'] = miRNA_lncRNA['PMID'].astype(str)\n",
    "miRNA_lncRNA.loc[(miRNA_lncRNA['pmid']!=\"<NA>\") & (miRNA_lncRNA['PMID']!=\"<NA>\") &\n",
    "                 (miRNA_lncRNA['pmid'] != miRNA_lncRNA['PMID']),\n",
    "                 [\"pmid\"]] = miRNA_lncRNA[\"pmid\"] + ' + ' + miRNA_lncRNA['PMID']\n",
    "\n",
    "miRNA_lncRNA.drop(columns=['PMID'],inplace=True)\n",
    "\n",
    "miRNA_lncRNA = pd.merge(miRNA_lncRNA, mirna_mirbase_map.rename(columns={1:'mir_id'}), on='mir_id')\n",
    "miRNA_lncRNA = pd.merge(miRNA_lncRNA, symbol_entrez_map[['0_x','0_y']].rename(columns={'0_x':'symbol'}), on='symbol')\n",
    "miRNA_lncRNA.insert(1, '0_y', miRNA_lncRNA.pop(\"0_y\"))\n",
    "\n",
    "miRNA_lncRNA"
   ]
  },
  {
   "cell_type": "code",
   "execution_count": null,
   "metadata": {},
   "outputs": [],
   "source": [
    "miRNA_lncRNA['0_y'] = miRNA_lncRNA['0_y'].astype(str)+'#lncRNA'\n",
    "maturemiRNA_lncRNA = miRNA_lncRNA[miRNA_lncRNA[0].str.startswith('MIMAT')]\n",
    "premiRNA_lncRNA = miRNA_lncRNA[~miRNA_lncRNA[0].str.startswith('MIMAT')]\n",
    "maturemiRNA_lncRNA[[0, '0_y']].drop_duplicates().to_csv(\n",
    "    edge_data_location + 'RmiRNA-lncRNA.txt', header=None, sep='\\t', index=None)\n",
    "premiRNA_lncRNA[[0, '0_y']].drop_duplicates().to_csv(\n",
    "    edge_data_location + 'RpremiRNA-lncRNA.txt', header=None, sep='\\t', index=None)"
   ]
  },
  {
   "cell_type": "markdown",
   "metadata": {},
   "source": [
    "## TODO: add [LncBook](https://ngdc.cncb.ac.cn/lncbook/); issue: 3h download"
   ]
  },
  {
   "cell_type": "markdown",
   "metadata": {},
   "source": [
    "***\n",
    "### miRNA-SNP"
   ]
  },
  {
   "cell_type": "markdown",
   "metadata": {},
   "source": [
    "* [miRNet](https://www.mirnet.ca/miRNet/)"
   ]
  },
  {
   "cell_type": "code",
   "execution_count": null,
   "metadata": {},
   "outputs": [],
   "source": [
    "#https://www.dropbox.com/s/cu4hv35ulu3a8d6/miRNet-snp-mir-hsa.csv?dl=0\n",
    "miRNA_variant=pd.read_csv(unprocessed_data_location + \"miRNet-snp-mir-hsa.csv\")\n",
    "miRNA_variant = miRNA_variant[miRNA_variant['High_Confidence']=='YES']\n",
    "miRNA_variant.drop(columns=['mirnet','chr_pos','gnomAD_MAF','Mature_Name','Mature_Acc','Mature_Pos',\n",
    "                            'Family_Name','Robust_FANTOM5','Conserved_ADmiRE','MIRNA_Acc',\n",
    "                            'AF_Percentile_gnomAD','Phylop_100way','Phastcons_100way','High_Confidence'],\n",
    "                   inplace=True)\n",
    "\n",
    "miRNA_variant"
   ]
  },
  {
   "cell_type": "markdown",
   "metadata": {},
   "source": [
    "***\n",
    "* [miRdSNP](http://mirdsnp.ccr.buffalo.edu/)"
   ]
  },
  {
   "cell_type": "code",
   "execution_count": null,
   "metadata": {},
   "outputs": [],
   "source": [
    "#http://mirdsnp.ccr.buffalo.edu/downloads/mirdsnp-dsnp-generated-mir-targets-v11.03.csv\n",
    "miRdSNP = pd.read_csv(unprocessed_data_location+'mirdsnp-dsnp-generated-mir-targets-v11.03.csv')\n",
    "miRNA_variant2 = miRdSNP.drop(columns=['refseq_id'])\n",
    "miRNA_variant2.rename(columns={'SNP':'rsid','miR':'MIRNA_Name'},inplace=True)\n",
    "miRNA_variant2"
   ]
  },
  {
   "cell_type": "code",
   "execution_count": null,
   "metadata": {},
   "outputs": [],
   "source": [
    "miRNA_variant = pd.merge(miRNA_variant, miRNA_variant2, how='outer', on=['rsid','MIRNA_Name'])\n",
    "miRNA_variant"
   ]
  },
  {
   "cell_type": "code",
   "execution_count": null,
   "metadata": {},
   "outputs": [],
   "source": [
    "miRNA_variant = pd.merge(miRNA_variant, mirna_mirbase_map.rename(columns={1:'MIRNA_Name'}), on='MIRNA_Name')\n",
    "miRNA_variant.insert(0, 0, miRNA_variant.pop(0))\n",
    "\n",
    "maturemiRNA_variant = miRNA_variant[miRNA_variant[0].str.startswith('MIMAT')]\n",
    "premiRNA_variant = miRNA_variant[~miRNA_variant[0].str.startswith('MIMAT')]\n",
    "maturemiRNA_variant[[0, 'rsid']].drop_duplicates().to_csv(\n",
    "    edge_data_location + 'RmiRNA-variant.txt', header=None, sep='\\t', index=None)\n",
    "premiRNA_variant[[0, 'rsid']].drop_duplicates().to_csv(\n",
    "    edge_data_location + 'RpremiRNA-variant.txt', header=None, sep='\\t', index=None)"
   ]
  },
  {
   "cell_type": "code",
   "execution_count": null,
   "metadata": {},
   "outputs": [],
   "source": [
    "premiRNA_variant[[0, 'rsid']].drop_duplicates()"
   ]
  },
  {
   "cell_type": "markdown",
   "metadata": {},
   "source": [
    "***\n",
    "### gene-SNP"
   ]
  },
  {
   "cell_type": "markdown",
   "metadata": {},
   "source": [
    "* [miRNet](https://www.mirnet.ca/miRNet/)"
   ]
  },
  {
   "cell_type": "code",
   "execution_count": null,
   "metadata": {},
   "outputs": [],
   "source": [
    "#https://www.dropbox.com/s/8aq8k0yoy5ak0d6/miRNet-snpmirbs-hsa.csv?dl=0\n",
    "gene_variant=pd.read_csv(unprocessed_data_location + \"miRNet-snpmirbs-hsa.csv\")\n",
    "gene_variant"
   ]
  },
  {
   "cell_type": "code",
   "execution_count": null,
   "metadata": {},
   "outputs": [],
   "source": [
    "gene_variant[['rsid','entrez']].drop_duplicates().to_csv(\n",
    "    edge_data_location + 'Rvariant-gene.txt', header=None, sep='\\t', index=None)"
   ]
  },
  {
   "cell_type": "markdown",
   "metadata": {},
   "source": [
    "***\n",
    "### SNP-disease"
   ]
  },
  {
   "cell_type": "markdown",
   "metadata": {},
   "source": [
    "* [miRdSNP](http://mirdsnp.ccr.buffalo.edu/index.php)"
   ]
  },
  {
   "cell_type": "code",
   "execution_count": null,
   "metadata": {},
   "outputs": [],
   "source": [
    "#http://mirdsnp.ccr.buffalo.edu/downloads/mirdsnp-dsnps-v11.03.csv\n",
    "disease_variant = pd.read_csv(unprocessed_data_location+'mirdsnp-dsnps-v11.03.csv')\n",
    "disease_variant.drop(columns=['pub_year','pub_month','link','journal'],inplace=True)\n",
    "disease_variant.disease = disease_variant.disease.str.lower()\n",
    "disease_variant = pd.merge(disease_variant, desc_do_map.rename(columns={'desc':'disease'}), on='disease') \n",
    "disease_variant.drop(columns=['disease'],inplace=True)\n",
    "disease_variant['snps'] = disease_variant.snps.str.split(',')\n",
    "disease_variant = disease_variant.explode('snps')\n",
    "\n",
    "disease_variant = pd.merge(disease_variant, doid_mondo_map.rename(columns={0:'doid'}),on='doid')\n",
    "disease_variant.drop(columns=['doid'],inplace=True)\n",
    "\n",
    "disease_variant"
   ]
  },
  {
   "cell_type": "code",
   "execution_count": null,
   "metadata": {},
   "outputs": [],
   "source": [
    "disease_variant[['snps',1]].drop_duplicates().to_csv(\n",
    "    edge_data_location + 'Rvariant-disease.txt', header=None, sep='\\t', index=None)"
   ]
  },
  {
   "cell_type": "markdown",
   "metadata": {},
   "source": [
    "***\n",
    "### TF-SNP"
   ]
  },
  {
   "cell_type": "markdown",
   "metadata": {},
   "source": [
    "* [miRNet](https://www.mirnet.ca/miRNet/)"
   ]
  },
  {
   "cell_type": "code",
   "execution_count": null,
   "metadata": {},
   "outputs": [],
   "source": [
    "#https://www.dropbox.com/s/8aq8k0yoy5ak0d6/miRNet-snpmirbs-hsa.csv?dl=0\n",
    "TF_variant=pd.read_csv(unprocessed_data_location + \"miRNet-snptfbs-hsa.csv\")\n",
    "TF_variant.drop(columns=['mirnet','chr_pos','entrez','name'],inplace=True)\n",
    "\n",
    "TF_variant = pd.merge(TF_variant,symbol_to_pro.rename(columns={'0_x':'symbol'}),on=['symbol'])\n",
    "TF_variant.drop(columns=['symbol'],inplace=True)\n",
    "\n",
    "TF_variant"
   ]
  },
  {
   "cell_type": "code",
   "execution_count": null,
   "metadata": {},
   "outputs": [],
   "source": [
    "TF_variant[['rsid','1_y']].drop_duplicates().to_csv(\n",
    "    edge_data_location + 'Rvariant-TF.txt', header=None, sep='\\t', index=None)"
   ]
  },
  {
   "cell_type": "markdown",
   "metadata": {},
   "source": [
    "***\n",
    "### tsRNA-miRNA"
   ]
  },
  {
   "cell_type": "markdown",
   "metadata": {},
   "source": [
    "* [tsRFun](https://rna.sysu.edu.cn/tsRFun/index.php) <br /> tsRFun is a platform for tsRNA functions by High-throughput Small RNA-Seq and CLIP-Seq Data."
   ]
  },
  {
   "cell_type": "code",
   "execution_count": null,
   "metadata": {},
   "outputs": [],
   "source": [
    "#https://rna.sysu.edu.cn/tsRFun/download/tsRNetwork/all_hypgm_df.txt\n",
    "tsRNA_miRNA = pd.read_csv(unprocessed_data_location + 'all_hypgm_df.txt', sep=\"\\t\")  \n",
    "tsRNA_miRNA"
   ]
  },
  {
   "cell_type": "code",
   "execution_count": null,
   "metadata": {},
   "outputs": [],
   "source": [
    "# We consider pairs with FDR < 0.01\n",
    "tsRNA_miRNA = tsRNA_miRNA[tsRNA_miRNA['adj.p'] < 0.01]\n",
    "# We also remove unadjusted p-val column since we have FDR\n",
    "tsRNA_miRNA.drop('p', axis=1, inplace=True)\n",
    "tsRNA_miRNA"
   ]
  },
  {
   "cell_type": "code",
   "execution_count": null,
   "metadata": {},
   "outputs": [],
   "source": [
    "tsRNA_miRNA = pd.merge(tsRNA_miRNA,mirna_mirbase_map.rename(columns={1:'miRNA'}), on=['miRNA'])\n",
    "tsRNA_miRNA.drop(columns='miRNA',inplace=True)\n",
    "tsRNA_miRNA = pd.merge(tsRNA_miRNA,tsRNA_tRF_map.rename(columns={0:'tsRNA'}), on=['tsRNA'])\n",
    "tsRNA_miRNA.drop(columns='tsRNA',inplace=True)\n",
    "tsRNA_miRNA"
   ]
  },
  {
   "cell_type": "code",
   "execution_count": null,
   "metadata": {},
   "outputs": [],
   "source": [
    "tsRNA_miRNA[[1,0]].drop_duplicates().to_csv(\n",
    "    edge_data_location + 'RtsRNA-miRNA.txt', header=None, sep='\\t', index=None)"
   ]
  },
  {
   "cell_type": "markdown",
   "metadata": {},
   "source": [
    "***\n",
    "### tsRNA-disease"
   ]
  },
  {
   "cell_type": "markdown",
   "metadata": {},
   "source": [
    "* [tsRFun](https://rna.sysu.edu.cn/tsRFun/index.php)"
   ]
  },
  {
   "cell_type": "code",
   "execution_count": null,
   "metadata": {},
   "outputs": [],
   "source": [
    "#https://rna.sysu.edu.cn/tsRFun/download/tsRinCancer/allCancer_0.txt\n",
    "tsRNA_disease = pd.read_csv(unprocessed_data_location + 'allCancer_0.txt', sep=\"\\t\", index_col=0)  \n",
    "tsRNA_disease"
   ]
  },
  {
   "cell_type": "code",
   "execution_count": null,
   "metadata": {},
   "outputs": [],
   "source": [
    "# We keep only log2FC columns\n",
    "tsRNA_disease = tsRNA_disease.loc[:, tsRNA_disease.columns.str.endswith('_log2FC')]\n",
    "tsRNA_disease.columns = tsRNA_disease.columns.str.replace(r'_log2FC$', '')\n",
    "\n",
    "# tsRNA has a relationship with cancer iff |log2FC| >= 1\n",
    "tsRNA_disease[abs(tsRNA_disease) < 1] = 0\n",
    "tsRNA_disease"
   ]
  },
  {
   "cell_type": "code",
   "execution_count": null,
   "metadata": {},
   "outputs": [],
   "source": [
    "# We want a dataframe with 2 columns, tRF and associated cancer;\n",
    "# this is an example with ACC \n",
    "tRF=[]\n",
    "log2FC=[]\n",
    "for index, row in tsRNA_disease.iterrows():\n",
    "     if row['ACC'] != 0:\n",
    "            tRF.append(index)\n",
    "            log2FC.append(row['ACC'])\n",
    "            \n",
    "df_acc = pd.DataFrame (tRF, columns = ['tRF'])\n",
    "df_acc['dis'] = 'ACC'\n",
    "df_acc['log2FC'] = log2FC\n",
    "df_acc"
   ]
  },
  {
   "cell_type": "code",
   "execution_count": null,
   "metadata": {},
   "outputs": [],
   "source": [
    "# Empty dataframe to store processed rows\n",
    "trRF_disease = pd.DataFrame(columns = [\"tRF\", \"dis\"])\n",
    "\n",
    "log2FC=[]\n",
    "for cancer in tsRNA_disease.columns:    \n",
    "    tRF=[]\n",
    "    for index, row in tsRNA_disease.iterrows():\n",
    "         if row[cancer] != 0:\n",
    "            tRF.append(index)\n",
    "            log2FC.append(row[cancer])\n",
    "    \n",
    "    df = pd.DataFrame (tRF, columns = ['tRF'])\n",
    "    df['dis'] = cancer\n",
    "    \n",
    "    trRF_disease = trRF_disease.append(df)\n",
    "    \n",
    "trRF_disease['log2FC'] = log2FC\n",
    "trRF_disease"
   ]
  },
  {
   "cell_type": "code",
   "execution_count": null,
   "metadata": {},
   "outputs": [],
   "source": [
    "trRF_disease = pd.merge(trRF_disease, cancer_mondo_map.rename(columns={0:'dis'}), on='dis')\n",
    "trRF_disease.drop(columns=['dis'],inplace=True)\n",
    "trRF_disease"
   ]
  },
  {
   "cell_type": "code",
   "execution_count": null,
   "metadata": {},
   "outputs": [],
   "source": [
    "trRF_disease[['tRF',1]].drop_duplicates().to_csv(\n",
    "    edge_data_location + 'RtsRNA-disease.txt', header=None, sep='\\t', index=None)"
   ]
  },
  {
   "cell_type": "markdown",
   "metadata": {},
   "source": [
    "***\n",
    "### tRF-tRNA"
   ]
  },
  {
   "cell_type": "markdown",
   "metadata": {},
   "source": [
    "* [tRFdb](http://genome.bioch.virginia.edu/trfdb/index.php) <br /> tRFdb is a comprehensive database of tRFs prepared from publicly available high-throughput sequencing data of >50 short RNA libraries. tRFs originate precisely from the extreme 5' (tRF-5) or 3' ends (tRF-3) of mature tRNAs or from the 3' trailer sequence of precursor tRNA transcripts (tRF-1) and are present in humans, mice, flies, worms and yeasts."
   ]
  },
  {
   "cell_type": "code",
   "execution_count": null,
   "metadata": {},
   "outputs": [],
   "source": [
    "#http://genome.bioch.virginia.edu/trfdb/index.php\n",
    "tRF1_tRNA = pd.read_html(unprocessed_data_location+'trf1.html')[2]\n",
    "tRF1_tRNA.drop(columns=['Organism','Type','tRNA Gene Co-ordinates','Experiment Info','Sequence'],inplace=True)\n",
    "tRF1_tRNA.head()"
   ]
  },
  {
   "cell_type": "code",
   "execution_count": null,
   "metadata": {},
   "outputs": [],
   "source": [
    "tRF3_tRNA = pd.read_html(unprocessed_data_location+'trf3.html')[2]\n",
    "tRF3_tRNA.drop(columns=['Organism','Type','tRNA Gene Co-ordinates','Experiment Info','Sequence'],inplace=True)\n",
    "tRF3_tRNA.head()"
   ]
  },
  {
   "cell_type": "code",
   "execution_count": null,
   "metadata": {},
   "outputs": [],
   "source": [
    "tRF5_tRNA = pd.read_html(unprocessed_data_location+'trf5.html')[2]\n",
    "tRF5_tRNA.drop(columns=['Organism','Type','tRNA Gene Co-ordinates','Experiment Info','Sequence'],inplace=True)\n",
    "tRF5_tRNA.head()"
   ]
  },
  {
   "cell_type": "code",
   "execution_count": null,
   "metadata": {},
   "outputs": [],
   "source": [
    "tRF1_tRNA.append(tRF3_tRNA).append(tRF5_tRNA).drop_duplicates().to_csv(\n",
    "    edge_data_location + 'RtsRNA-tRNA_tRFdb.txt', header=None, sep='\\t', index=None)"
   ]
  },
  {
   "cell_type": "markdown",
   "metadata": {},
   "source": [
    "***\n",
    "* [MINTbase](https://cm.jefferson.edu/MINTbase/) <br /> The Mitochondrial and Nuclear tRNA fragment database (MINTbase) is a repository of tRNA fragments (tRFs)."
   ]
  },
  {
   "cell_type": "code",
   "execution_count": null,
   "metadata": {},
   "outputs": [],
   "source": [
    "# https://cm.jefferson.edu/MINTbase/InputController?g=GRCh37&d=y&v=g&e=1.0&cl=,4,5,11,12,16,18,19,21,22,26,27,#ttop\n",
    "tRF_tRNA2 = pd.read_csv(unprocessed_data_location+'MINTbasetRF-tRNA.txt',sep='\\t')\n",
    "tRF_tRNA2 = tRF_tRNA2[['License Plate (sequence derived)','MINTbase Alternative IDs (GRCh37 assembly-derived)',\n",
    "                       'D-loop overlap?','Anticodon-loop overlap?','Anticodon-triplet overlap?','T-loop overlap?',\n",
    "                       'Maximum RPM']]\n",
    "tRF_tRNA2['MINTbase Alternative IDs (GRCh37 assembly-derived)'] = tRF_tRNA2[\n",
    "    'MINTbase Alternative IDs (GRCh37 assembly-derived)'].str.split('@', 1).str[0]\n",
    "tRF_tRNA2.rename(columns={'MINTbase Alternative IDs (GRCh37 assembly-derived)':'MINTbase tRNA name'},inplace=True)\n",
    "tRF_tRNA2 = pd.merge(tRF_tRNA2, tRNA_MINTbase_GtRNAdb_map, on='MINTbase tRNA name')\n",
    "tRF_tRNA2.drop(columns=['MINTbase tRNA name'],inplace=True)\n",
    "# For post-processing issues\n",
    "tRF_tRNA2['gtRNAdb name'] = tRF_tRNA2['gtRNAdb name'].astype(str)+'.html'\n",
    "tRF_tRNA2"
   ]
  },
  {
   "cell_type": "code",
   "execution_count": null,
   "metadata": {},
   "outputs": [],
   "source": [
    "tRF_tRNA2[['License Plate (sequence derived)','gtRNAdb name']].drop_duplicates().to_csv(\n",
    "    edge_data_location + 'RtsRNA-tRNA_MINTbase.txt', header=None, sep='\\t', index=None)"
   ]
  },
  {
   "cell_type": "markdown",
   "metadata": {},
   "source": [
    "***\n",
    "### tRNA-amino acid"
   ]
  },
  {
   "cell_type": "markdown",
   "metadata": {},
   "source": [
    "* [tRNAdb](http://trna.bioinf.uni-leipzig.de/DataOutput/) <br /> tRNAdb contains more than 12 000 tRNA genes, classified into families according to amino acid specificity. The database provides various services including graphical representations of tRNA secondary structures, a customizable output of aligned or un-aligned sequences with a variety of individual and combinable search criteria, as well as the construction of consensus sequences for any selected set of tRNAs."
   ]
  },
  {
   "cell_type": "code",
   "execution_count": null,
   "metadata": {},
   "outputs": [],
   "source": [
    "#http://trna.bioinf.uni-leipzig.de/DataOutput/Result\n",
    "tRNA_aa = pd.read_html(unprocessed_data_location+'tRNAdb - Transfer RNA database.html')[3]\n",
    "tRNA_aa.drop(columns=[0,1,2,4,19,20],inplace=True)\n",
    "tRNA_aa.rename(columns=tRNA_aa.iloc[0], inplace=True)\n",
    "tRNA_aa = tRNA_aa.iloc[2:]\n",
    "tRNA_aa.head()"
   ]
  },
  {
   "cell_type": "code",
   "execution_count": null,
   "metadata": {},
   "outputs": [],
   "source": [
    "#For the time being (we have no metatdata in RNA-KG), it is better to preoceed this way:\n",
    "tRNA_aa = tRNA_MINTbase_GtRNAdb_map[['gtRNAdb name']]\n",
    "tRNA_aa['gtRNAdb name'] = tRNA_aa['gtRNAdb name'] + '.html'\n",
    "tRNA_aa['new'] = tRNA_MINTbase_GtRNAdb_map['gtRNAdb name'].str.split(\"-\").str[1]\n",
    "tRNA_aa['Amino Acid'] = tRNA_aa[tRNA_aa['new']=='tRNA']['gtRNAdb name'].str.split(\"-\").str[2]\n",
    "tRNA_aa['Amino Acid'].fillna(tRNA_aa['new'],inplace=True)\n",
    "tRNA_aa.drop(columns=['new'],inplace=True)\n",
    "tRNA_aa"
   ]
  },
  {
   "cell_type": "code",
   "execution_count": null,
   "metadata": {},
   "outputs": [],
   "source": [
    "tRNA_aa = pd.merge(tRNA_aa, aa_chebi_map.rename(columns={0:'Amino Acid'}), on='Amino Acid')\n",
    "tRNA_aa.drop(columns=['Amino Acid'],inplace=True)\n",
    "tRNA_aa"
   ]
  },
  {
   "cell_type": "code",
   "execution_count": null,
   "metadata": {},
   "outputs": [],
   "source": [
    "tRNA_aa.drop_duplicates().to_csv(\n",
    "    edge_data_location + 'RtRNA-aminoacid.txt', header=None, sep='\\t', index=None)"
   ]
  },
  {
   "cell_type": "markdown",
   "metadata": {},
   "source": [
    "***\n",
    "### snoRNA-gene"
   ]
  },
  {
   "cell_type": "markdown",
   "metadata": {},
   "source": [
    "* [snoDB](https://bioinfo-scottgroup.med.usherbrooke.ca/snoDB/) <br /> snoDB is an interactive database of human small nucleolar RNAs (snoRNAs) that includes up-to-date information on snoRNA features, genomic location, conservation, host gene, snoRNA-RNA targets and snoRNA abundance and provides links to other resources."
   ]
  },
  {
   "cell_type": "code",
   "execution_count": null,
   "metadata": {},
   "outputs": [],
   "source": [
    "data_downloader('https://bioinfo-scottgroup.med.usherbrooke.ca/snoDB/download_all', unprocessed_data_location)"
   ]
  },
  {
   "cell_type": "code",
   "execution_count": null,
   "metadata": {
    "scrolled": true
   },
   "outputs": [],
   "source": [
    "snoDB = pd.read_csv(unprocessed_data_location + 'download_all', sep=\"\\t\")\n",
    "snoDB = snoDB[['ncbi_id','host_gene_name','target_count','rrna_targets','snrna_targets','lncrna_targets',\n",
    "               'protein_coding_targets','snorna_targets','mirna_targets','trna_targets','ncrna_targets',\n",
    "               'pseudogene_targets','other_targets','is_expressed']]\n",
    "snoDB = snoDB[snoDB['ncbi_id'].notna()]\n",
    "snoDB['ncbi_id'] = snoDB['ncbi_id'].astype('Int64')\n",
    "snoDB"
   ]
  },
  {
   "cell_type": "code",
   "execution_count": null,
   "metadata": {},
   "outputs": [],
   "source": [
    "snoRNA_gene = snoDB[['ncbi_id', 'host_gene_name', 'target_count', 'is_expressed']]\n",
    "snoRNA_gene = pd.merge(symbol_entrez_map.rename(columns={'0_x':'host_gene_name'}), snoRNA_gene, on='host_gene_name')\n",
    "snoRNA_gene.ncbi_id = snoRNA_gene.ncbi_id.astype(str)+'#snoRNA'\n",
    "snoRNA_gene.drop(columns=['host_gene_name'],inplace=True)\n",
    "snoRNA_gene"
   ]
  },
  {
   "cell_type": "code",
   "execution_count": null,
   "metadata": {},
   "outputs": [],
   "source": [
    "snoRNA_gene[['ncbi_id','0_y']].drop_duplicates().to_csv(\n",
    "    edge_data_location + 'RsnoRNA-gene.txt', header=None, sep='\\t', index=None)"
   ]
  },
  {
   "cell_type": "markdown",
   "metadata": {},
   "source": [
    "***\n",
    "### snoRNA-miRNA"
   ]
  },
  {
   "cell_type": "markdown",
   "metadata": {},
   "source": [
    "* [snoDB](https://bioinfo-scottgroup.med.usherbrooke.ca/snoDB/)"
   ]
  },
  {
   "cell_type": "code",
   "execution_count": null,
   "metadata": {},
   "outputs": [],
   "source": [
    "snoRNA_miRNA = snoDB[['ncbi_id', 'mirna_targets']]\n",
    "snoRNA_miRNA = snoRNA_miRNA[snoRNA_miRNA['mirna_targets'].notna()]\n",
    "snoRNA_miRNA = snoRNA_miRNA[snoRNA_miRNA['ncbi_id'].notna()]\n",
    "snoRNA_miRNA['ncbi_id'] = pd.to_numeric(snoRNA_miRNA['ncbi_id'], downcast='integer')\n",
    "snoRNA_miRNA.ncbi_id = snoRNA_miRNA.ncbi_id.astype(str)+'#snoRNA'\n",
    "snoRNA_miRNA"
   ]
  },
  {
   "cell_type": "code",
   "execution_count": null,
   "metadata": {},
   "outputs": [],
   "source": [
    "snoRNA_miRNA['miRBase_id'] = ['', 'MI0000075']\n",
    "snoRNA_miRNA.drop(columns='mirna_targets',inplace=True)\n",
    "# Up to now, no miRBase ID is associated with AC008521"
   ]
  },
  {
   "cell_type": "markdown",
   "metadata": {},
   "source": [
    "* [miRNet](https://www.mirnet.ca/miRNet/)"
   ]
  },
  {
   "cell_type": "code",
   "execution_count": null,
   "metadata": {},
   "outputs": [],
   "source": [
    "# https://www.dropbox.com/s/gpt1yrwoe1h2gx7/miRNet-mir-sncRNA.csv?dl=0\n",
    "snoRNA_miRNA2 = pd.read_csv(unprocessed_data_location + 'miRNet-mir-sncRNA.csv')\n",
    "snoRNA_miRNA2 = snoRNA_miRNA2[snoRNA_miRNA2.gene_name.str.contains('small nucleolar')]\n",
    "snoRNA_miRNA2.drop(columns=['mirnet','mir_id','symbol','embl','gene_name','mbv'],inplace=True)\n",
    "snoRNA_miRNA2.entrez = snoRNA_miRNA2.entrez.astype(str)+'#snoRNA'\n",
    "snoRNA_miRNA2.rename(columns={'mir_acc':'miRBase_id', 'entrez':'ncbi_id'},inplace=True)\n",
    "snoRNA_miRNA2"
   ]
  },
  {
   "cell_type": "code",
   "execution_count": null,
   "metadata": {},
   "outputs": [],
   "source": [
    "snoRNA_miRNA = snoRNA_miRNA.append(snoRNA_miRNA2)\n",
    "maturesnoRNA_miRNA = snoRNA_miRNA[snoRNA_miRNA['miRBase_id'].str.startswith('MIMAT')]\n",
    "presnoRNA_miRNA = snoRNA_miRNA[~snoRNA_miRNA['miRBase_id'].str.startswith('MIMAT')]\n",
    "maturesnoRNA_miRNA[['ncbi_id','miRBase_id']].drop_duplicates().to_csv(\n",
    "    edge_data_location + 'RsnoRNA-miRNA.txt', header=None, sep='\\t', index=None)\n",
    "presnoRNA_miRNA[['ncbi_id','miRBase_id']].drop_duplicates().to_csv(\n",
    "    edge_data_location + 'RsnoRNA-premiRNA.txt', header=None, sep='\\t', index=None)"
   ]
  },
  {
   "cell_type": "markdown",
   "metadata": {},
   "source": [
    "***\n",
    "### snoRNA-snoRNA"
   ]
  },
  {
   "cell_type": "markdown",
   "metadata": {},
   "source": [
    "* [snoDB](https://bioinfo-scottgroup.med.usherbrooke.ca/snoDB/)"
   ]
  },
  {
   "cell_type": "code",
   "execution_count": null,
   "metadata": {},
   "outputs": [],
   "source": [
    "snoRNA_snoRNA = snoDB[['ncbi_id', 'snorna_targets']]\n",
    "snoRNA_snoRNA = snoRNA_snoRNA[snoRNA_snoRNA['snorna_targets'].notna()]\n",
    "snoRNA_snoRNA"
   ]
  },
  {
   "cell_type": "code",
   "execution_count": null,
   "metadata": {},
   "outputs": [],
   "source": [
    "snoRNA_snoRNA['processed_targets'] = snoRNA_snoRNA.snorna_targets.str.split(';')\n",
    "snoRNA_snoRNA = snoRNA_snoRNA.explode('processed_targets')\n",
    "snoRNA_snoRNA.drop('snorna_targets', axis=1, inplace=True)\n",
    "snoRNA_snoRNA = pd.merge(symbol_entrez_map.rename(columns={'0_x':'processed_targets'}), snoRNA_snoRNA, on='processed_targets')\n",
    "snoRNA_snoRNA.ncbi_id = snoRNA_snoRNA.ncbi_id.astype('Int64').astype(str)+'#snoRNA'\n",
    "snoRNA_snoRNA.drop(columns=['processed_targets'],inplace=True)\n",
    "snoRNA_snoRNA = snoRNA_snoRNA[~snoRNA_snoRNA['ncbi_id'].str.startswith('<NA>')]\n",
    "snoRNA_snoRNA['0_y'] = snoRNA_snoRNA['0_y'].astype(str)+'#snoRNA'\n",
    "snoRNA_snoRNA"
   ]
  },
  {
   "cell_type": "code",
   "execution_count": null,
   "metadata": {},
   "outputs": [],
   "source": [
    "snoRNA_snoRNA[['0_y','ncbi_id']].drop_duplicates().to_csv(\n",
    "    edge_data_location + 'RsnoRNA-snoRNA.txt', header=None, sep='\\t', index=None)"
   ]
  },
  {
   "cell_type": "markdown",
   "metadata": {},
   "source": [
    "***\n",
    "### snoRNA-lncRNA"
   ]
  },
  {
   "cell_type": "markdown",
   "metadata": {},
   "source": [
    "* [snoDB](https://bioinfo-scottgroup.med.usherbrooke.ca/snoDB/)"
   ]
  },
  {
   "cell_type": "code",
   "execution_count": null,
   "metadata": {},
   "outputs": [],
   "source": [
    "snoRNA_lncRNA = snoDB[['ncbi_id', 'lncrna_targets']]\n",
    "snoRNA_lncRNA = snoRNA_lncRNA[snoRNA_lncRNA['lncrna_targets'].notna()]\n",
    "\n",
    "# Same reasoning of snoRNA-miRNA\n",
    "snoRNA_lncRNA['lncrna_targets'] = snoRNA_lncRNA.lncrna_targets.str.split(';')\n",
    "snoRNA_lncRNA = snoRNA_lncRNA.explode('lncrna_targets')\n",
    "\n",
    "snoRNA_lncRNA.head()"
   ]
  },
  {
   "cell_type": "code",
   "execution_count": null,
   "metadata": {},
   "outputs": [],
   "source": [
    "snoRNA_lncRNA = pd.merge(symbol_entrez_map.rename(columns={'0_x':'lncrna_targets'}), snoRNA_lncRNA, on='lncrna_targets')\n",
    "snoRNA_lncRNA.ncbi_id = snoRNA_lncRNA.ncbi_id.astype('Int64').astype(str)+'#snoRNA'\n",
    "snoRNA_lncRNA['0_y'] = snoRNA_lncRNA['0_y'].astype('Int64').astype(str)+'#lncRNA'\n",
    "snoRNA_lncRNA.drop(columns=['lncrna_targets'],inplace=True)\n",
    "snoRNA_lncRNA = snoRNA_lncRNA[~snoRNA_lncRNA['ncbi_id'].str.startswith('<NA>')]\n",
    "snoRNA_lncRNA"
   ]
  },
  {
   "cell_type": "code",
   "execution_count": null,
   "metadata": {},
   "outputs": [],
   "source": [
    "snoRNA_lncRNA[['ncbi_id','0_y']].drop_duplicates().to_csv(\n",
    "    edge_data_location + 'RsnoRNA-lncRNA.txt', header=None, sep='\\t', index=None)"
   ]
  },
  {
   "cell_type": "markdown",
   "metadata": {},
   "source": [
    "***\n",
    "### snoRNA-snRNA"
   ]
  },
  {
   "cell_type": "markdown",
   "metadata": {},
   "source": [
    "* [snoDB](https://bioinfo-scottgroup.med.usherbrooke.ca/snoDB/)"
   ]
  },
  {
   "cell_type": "code",
   "execution_count": null,
   "metadata": {},
   "outputs": [],
   "source": [
    "snoRNA_snRNA = snoDB[['ncbi_id','snrna_targets']]\n",
    "snoRNA_snRNA = snoRNA_snRNA[snoRNA_snRNA['snrna_targets'].notna()]\n",
    "\n",
    "# Same reasoning of snoRNA-miRNA and snoRNA-lncRNA\n",
    "snoRNA_snRNA['snrna_targets'] = snoRNA_snRNA.snrna_targets.str.split(';')\n",
    "snoRNA_snRNA = snoRNA_snRNA.explode('snrna_targets')\n",
    "\n",
    "snoRNA_snRNA"
   ]
  },
  {
   "cell_type": "code",
   "execution_count": null,
   "metadata": {},
   "outputs": [],
   "source": [
    "snoRNA_snRNA = pd.merge(symbol_entrez_map.rename(columns={'0_x':'snrna_targets'}), snoRNA_snRNA, on='snrna_targets')\n",
    "snoRNA_snRNA.ncbi_id = snoRNA_snRNA.ncbi_id.astype('Int64').astype(str)+'#snoRNA'\n",
    "snoRNA_snRNA['0_y'] = snoRNA_snRNA['0_y'].astype('Int64').astype(str)+'#snRNA'\n",
    "snoRNA_snRNA.drop(columns=['snrna_targets'],inplace=True)\n",
    "snoRNA_snRNA = snoRNA_snRNA[~snoRNA_snRNA['ncbi_id'].str.startswith('<NA>')]\n",
    "snoRNA_snRNA.head()"
   ]
  },
  {
   "cell_type": "code",
   "execution_count": null,
   "metadata": {},
   "outputs": [],
   "source": [
    "snoRNA_snRNA[['ncbi_id','0_y']].drop_duplicates().to_csv(\n",
    "    edge_data_location + 'RsnoRNA-snRNA.txt', header=None, sep='\\t', index=None)"
   ]
  },
  {
   "cell_type": "markdown",
   "metadata": {},
   "source": [
    "***\n",
    "### snoRNA-rRNA"
   ]
  },
  {
   "cell_type": "markdown",
   "metadata": {},
   "source": [
    "* [snoDB](https://bioinfo-scottgroup.med.usherbrooke.ca/snoDB/)"
   ]
  },
  {
   "cell_type": "code",
   "execution_count": null,
   "metadata": {},
   "outputs": [],
   "source": [
    "snoRNA_rRNA = snoDB[['ncbi_id','rrna_targets']]\n",
    "snoRNA_rRNA = snoRNA_rRNA[snoRNA_rRNA['rrna_targets'].notna()]\n",
    "\n",
    "# Same reasoning of snoRNA-miRNA and snoRNA-lncRNA\n",
    "snoRNA_rRNA['rrna_targets'] = snoRNA_rRNA.rrna_targets.str.split(';')\n",
    "snoRNA_rRNA = snoRNA_rRNA.explode('rrna_targets')\n",
    "\n",
    "snoRNA_rRNA"
   ]
  },
  {
   "cell_type": "code",
   "execution_count": null,
   "metadata": {},
   "outputs": [],
   "source": [
    "snoRNA_rRNA.ncbi_id = snoRNA_rRNA.ncbi_id.astype('Int64').astype(str)+'#snoRNA'\n",
    "snoRNA_rRNA['rrna_targets'] = snoRNA_rRNA['rrna_targets'].astype(str)+'#snoDBrRNA'\n",
    "snoRNA_rRNA = snoRNA_rRNA[~snoRNA_rRNA['ncbi_id'].str.startswith('<NA>')]\n",
    "snoRNA_rRNA"
   ]
  },
  {
   "cell_type": "code",
   "execution_count": null,
   "metadata": {},
   "outputs": [],
   "source": [
    "snoRNA_rRNA[['ncbi_id','rrna_targets']].drop_duplicates().to_csv(\n",
    "    edge_data_location + 'RsnoRNA-rRNA.txt', header=None, sep='\\t', index=None)"
   ]
  },
  {
   "cell_type": "markdown",
   "metadata": {},
   "source": [
    "***\n",
    "### snoRNA-mRNA"
   ]
  },
  {
   "cell_type": "markdown",
   "metadata": {},
   "source": [
    "* [snoDB](https://bioinfo-scottgroup.med.usherbrooke.ca/snoDB/)"
   ]
  },
  {
   "cell_type": "code",
   "execution_count": null,
   "metadata": {},
   "outputs": [],
   "source": [
    "snoRNA_mRNA = snoDB[['ncbi_id','protein_coding_targets']]\n",
    "snoRNA_mRNA = snoRNA_mRNA[snoRNA_mRNA['protein_coding_targets'].notna()]\n",
    "\n",
    "# Same reasoning of snoRNA-miRNA and snoRNA-lncRNA\n",
    "snoRNA_mRNA['protein_coding_targets'] = snoRNA_mRNA.protein_coding_targets.str.split(';')\n",
    "snoRNA_mRNA = snoRNA_mRNA.explode('protein_coding_targets')\n",
    "\n",
    "snoRNA_mRNA"
   ]
  },
  {
   "cell_type": "code",
   "execution_count": null,
   "metadata": {},
   "outputs": [],
   "source": [
    "snoRNA_mRNA = pd.merge(symbol_entrez_map.rename(columns={'0_x':'protein_coding_targets'}),\n",
    "                       snoRNA_mRNA, on='protein_coding_targets')\n",
    "snoRNA_mRNA.ncbi_id = snoRNA_mRNA.ncbi_id.astype('Int64').astype(str)+'#snoRNA'\n",
    "snoRNA_mRNA['0_y'] = snoRNA_mRNA['0_y'].astype('Int64').astype(str)+'#mRNA'\n",
    "snoRNA_mRNA.drop(columns=['protein_coding_targets'],inplace=True)\n",
    "snoRNA_mRNA = snoRNA_mRNA[~snoRNA_mRNA['ncbi_id'].str.startswith('<NA>')]\n",
    "snoRNA_mRNA"
   ]
  },
  {
   "cell_type": "code",
   "execution_count": null,
   "metadata": {},
   "outputs": [],
   "source": [
    "snoRNA_mRNA[['ncbi_id','0_y']].drop_duplicates().to_csv(\n",
    "    edge_data_location + 'RsnoRNA-mRNA.txt', header=None, sep='\\t', index=None)"
   ]
  },
  {
   "cell_type": "markdown",
   "metadata": {},
   "source": [
    "***\n",
    "### snoRNA-tRNA"
   ]
  },
  {
   "cell_type": "markdown",
   "metadata": {},
   "source": [
    "* [snoDB](https://bioinfo-scottgroup.med.usherbrooke.ca/snoDB/)"
   ]
  },
  {
   "cell_type": "code",
   "execution_count": null,
   "metadata": {},
   "outputs": [],
   "source": [
    "snoRNA_tRNA = snoDB[['ncbi_id','trna_targets']]\n",
    "snoRNA_tRNA = snoRNA_tRNA[snoRNA_tRNA['trna_targets'].notna()]\n",
    "\n",
    "# Same reasoning of snoRNA-miRNA and snoRNA-lncRNA\n",
    "snoRNA_tRNA['trna_targets'] = snoRNA_tRNA.trna_targets.str.split(';')\n",
    "snoRNA_tRNA = snoRNA_tRNA.explode('trna_targets')\n",
    "snoRNA_tRNA['trna_targets'] = snoRNA_tRNA['trna_targets'].astype(str)\n",
    "snoRNA_tRNA['trna_targets'] = snoRNA_tRNA['trna_targets'].str.replace('_TRNA','')\n",
    "snoRNA_tRNA['trna_targets'] = snoRNA_tRNA['trna_targets'].str.replace('_','')\n",
    "\n",
    "snoRNA_tRNA.ncbi_id = snoRNA_tRNA.ncbi_id.astype('Int64').astype(str)+'#snoRNA'\n",
    "\n",
    "snoRNA_tRNA"
   ]
  },
  {
   "cell_type": "code",
   "execution_count": null,
   "metadata": {},
   "outputs": [],
   "source": [
    "snoRNA_tRNA[['ncbi_id','trna_targets']].drop_duplicates().to_csv(\n",
    "    edge_data_location + 'RsnoRNA-tRNA.txt', header=None, sep='\\t', index=None)"
   ]
  },
  {
   "cell_type": "markdown",
   "metadata": {},
   "source": [
    "***\n",
    "### snoRNA-(non-specifically-classified) ncRNA"
   ]
  },
  {
   "cell_type": "markdown",
   "metadata": {},
   "source": [
    "* [snoDB](https://bioinfo-scottgroup.med.usherbrooke.ca/snoDB/)"
   ]
  },
  {
   "cell_type": "code",
   "execution_count": null,
   "metadata": {},
   "outputs": [],
   "source": [
    "snoRNA_ncRNA = snoDB[['ncbi_id','ncrna_targets']]\n",
    "snoRNA_ncRNA = snoRNA_ncRNA[snoRNA_ncRNA['ncrna_targets'].notna()]\n",
    "\n",
    "# Same reasoning of snoRNA-miRNA and snoRNA-lncRNA\n",
    "snoRNA_ncRNA['ncrna_targets'] = snoRNA_ncRNA.ncrna_targets.str.split(';')\n",
    "snoRNA_ncRNA = snoRNA_ncRNA.explode('ncrna_targets')\n",
    "\n",
    "snoRNA_ncRNA"
   ]
  },
  {
   "cell_type": "code",
   "execution_count": null,
   "metadata": {},
   "outputs": [],
   "source": [
    "entrez_enst_map = pd.read_csv(processed_data_location + 'ENTREZ_GENE_ENSEMBL_TRANSCRIPT_MAP.txt', sep=\"\\t\", header=None)\n",
    "symbol_entrez_map = pd.merge(symbol_ensembl_map, entrez_enst_map, on=[1])\n",
    "symbol_entrez_map = symbol_entrez_map[['0_x','0_y','3_x']]\n",
    "symbol_entrez_map"
   ]
  },
  {
   "cell_type": "code",
   "execution_count": null,
   "metadata": {},
   "outputs": [],
   "source": [
    "snoRNA_ncRNA = pd.merge(symbol_entrez_map.rename(columns={'0_x':'ncrna_targets'}), snoRNA_ncRNA, on='ncrna_targets')\n",
    "snoRNA_ncRNA.ncbi_id = snoRNA_ncRNA.ncbi_id.astype('Int64').astype(str)+'#snoRNA'\n",
    "snoRNA_ncRNA.drop(columns=['ncrna_targets'],inplace=True)\n",
    "snoRNA_ncRNA = snoRNA_ncRNA[~snoRNA_ncRNA['ncbi_id'].str.startswith('<NA>')]\n",
    "snoRNA_ncRNA"
   ]
  },
  {
   "cell_type": "code",
   "execution_count": null,
   "metadata": {},
   "outputs": [],
   "source": [
    "snoRNA_ncRNA['0_y'] = snoRNA_ncRNA['0_y'].astype(str)+'#'+snoRNA_ncRNA['3_x'].astype(str)\n",
    "snoRNA_ncRNA"
   ]
  },
  {
   "cell_type": "code",
   "execution_count": null,
   "metadata": {},
   "outputs": [],
   "source": [
    "snoRNA_ncRNA['3_x'].unique()"
   ]
  },
  {
   "cell_type": "code",
   "execution_count": null,
   "metadata": {},
   "outputs": [],
   "source": [
    "snoRNA_lncRNA2 = snoRNA_ncRNA[snoRNA_ncRNA['3_x']=='lncRNA'][['ncbi_id','0_y']]\n",
    "snoRNA_lncRNA2"
   ]
  },
  {
   "cell_type": "code",
   "execution_count": null,
   "metadata": {},
   "outputs": [],
   "source": [
    "snoRNA_lncRNA = snoRNA_lncRNA[['ncbi_id','0_y']].append(snoRNA_lncRNA2)"
   ]
  },
  {
   "cell_type": "code",
   "execution_count": null,
   "metadata": {},
   "outputs": [],
   "source": [
    "snoRNA_ri = snoRNA_ncRNA[snoRNA_ncRNA['3_x']=='retained_intron'][['ncbi_id','0_y']]\n",
    "snoRNA_ri"
   ]
  },
  {
   "cell_type": "code",
   "execution_count": null,
   "metadata": {},
   "outputs": [],
   "source": [
    "snoRNA_ri[['ncbi_id','0_y']].drop_duplicates().to_csv(\n",
    "    edge_data_location + 'RsnoRNA-retainedIntron.txt', header=None, sep='\\t', index=None)"
   ]
  },
  {
   "cell_type": "code",
   "execution_count": null,
   "metadata": {},
   "outputs": [],
   "source": [
    "snoRNA_miscRNA = snoRNA_ncRNA[snoRNA_ncRNA['3_x']=='misc_RNA'][['ncbi_id','0_y']]\n",
    "snoRNA_miscRNA"
   ]
  },
  {
   "cell_type": "code",
   "execution_count": null,
   "metadata": {},
   "outputs": [],
   "source": [
    "snoRNA_miscRNA[['ncbi_id','0_y']].drop_duplicates().to_csv(\n",
    "    edge_data_location + 'RsnoRNA-miscRNA.txt', header=None, sep='\\t', index=None)"
   ]
  },
  {
   "cell_type": "code",
   "execution_count": null,
   "metadata": {},
   "outputs": [],
   "source": [
    "snoRNA_scaRNA = snoRNA_ncRNA[snoRNA_ncRNA['3_x']=='scaRNA'][['ncbi_id','0_y']]\n",
    "snoRNA_scaRNA.head()"
   ]
  },
  {
   "cell_type": "code",
   "execution_count": null,
   "metadata": {},
   "outputs": [],
   "source": [
    "snoRNA_scaRNA[['ncbi_id','0_y']].drop_duplicates().to_csv(\n",
    "    edge_data_location + 'RsnoRNA-scaRNA.txt', header=None, sep='\\t', index=None)"
   ]
  },
  {
   "cell_type": "code",
   "execution_count": null,
   "metadata": {},
   "outputs": [],
   "source": [
    "symbol_entrez_map.drop(columns=['3_x'],inplace=True)"
   ]
  },
  {
   "cell_type": "markdown",
   "metadata": {},
   "source": [
    "***\n",
    "### snoRNA-pseudogene"
   ]
  },
  {
   "cell_type": "markdown",
   "metadata": {},
   "source": [
    "* [snoDB](https://bioinfo-scottgroup.med.usherbrooke.ca/snoDB/)"
   ]
  },
  {
   "cell_type": "code",
   "execution_count": null,
   "metadata": {},
   "outputs": [],
   "source": [
    "snoRNA_pseudogene = snoDB[['ncbi_id','pseudogene_targets']]\n",
    "snoRNA_pseudogene = snoRNA_pseudogene[snoRNA_pseudogene['pseudogene_targets'].notna()]\n",
    "snoRNA_pseudogene.ncbi_id = snoRNA_pseudogene.ncbi_id.astype('Int64').astype(str)+'#snoRNA'\n",
    "\n",
    "# Same reasoning of snoRNA-miRNA and snoRNA-lncRNA\n",
    "snoRNA_pseudogene['pseudogene_targets'] = snoRNA_pseudogene.pseudogene_targets.str.split(';')\n",
    "snoRNA_pseudogene = snoRNA_pseudogene.explode('pseudogene_targets')\n",
    "\n",
    "snoRNA_pseudogene"
   ]
  },
  {
   "cell_type": "code",
   "execution_count": null,
   "metadata": {},
   "outputs": [],
   "source": [
    "snoRNA_pseudogene['pseudogene_targets'] = ['107075265','100287215','106481730','26121',\n",
    "                                           '100420364','401914','100420656','26121',\n",
    "                                           '26121','100873211']\n",
    "snoRNA_pseudogene['pseudogene_targets'] = snoRNA_pseudogene['pseudogene_targets']+'#pseudo'\n",
    "snoRNA_pseudogene"
   ]
  },
  {
   "cell_type": "code",
   "execution_count": null,
   "metadata": {},
   "outputs": [],
   "source": [
    "snoRNA_pseudogene[['ncbi_id','pseudogene_targets']].drop_duplicates().to_csv(\n",
    "    edge_data_location + 'RsnoRNA-pseudogene.txt', header=None, sep='\\t', index=None)"
   ]
  },
  {
   "cell_type": "markdown",
   "metadata": {},
   "source": [
    "***\n",
    "### snoRNA-(miscellaneous of) other targets"
   ]
  },
  {
   "cell_type": "markdown",
   "metadata": {},
   "source": [
    "* [snoDB](https://bioinfo-scottgroup.med.usherbrooke.ca/snoDB/)"
   ]
  },
  {
   "cell_type": "code",
   "execution_count": null,
   "metadata": {},
   "outputs": [],
   "source": [
    "snoRNA_other = snoDB[['ncbi_id','other_targets']]\n",
    "snoRNA_other = snoRNA_other[snoRNA_other['other_targets'].notna()]\n",
    "snoRNA_other.ncbi_id = snoRNA_other.ncbi_id.astype('Int64').astype(str)+'#snoRNA'\n",
    "\n",
    "# Same reasoning of snoRNA-miRNA and snoRNA-lncRNA\n",
    "snoRNA_other['other_targets'] = snoRNA_other.other_targets.str.split(';')\n",
    "snoRNA_other = snoRNA_other.explode('other_targets')\n",
    "\n",
    "snoRNA_other"
   ]
  },
  {
   "cell_type": "code",
   "execution_count": null,
   "metadata": {},
   "outputs": [],
   "source": [
    "snoRNA_other['other_targets'] = ['tRNA-SeC-TCA-1-1','3653#lncRNA','tRNA-SeC-TCA-1-1','3653#lncRNA',\n",
    "                                 '3653#lncRNA','3653#lncRNA','3653#lncRNA','106633801#scaRNA','106633801#scaRNA']\n",
    "\n",
    "snoRNA_other['type'] = ['tRNA','lncRNA','tRNA','lncRNA','lncRNA','lncRNA','lncRNA','scaRNA','scaRNA']\n",
    "snoRNA_other"
   ]
  },
  {
   "cell_type": "code",
   "execution_count": null,
   "metadata": {},
   "outputs": [],
   "source": [
    "snoRNA_tRNA.append(snoRNA_other[snoRNA_other['type']=='tRNA'][[\n",
    "    'ncbi_id','other_targets']]).drop_duplicates().to_csv(\n",
    "    edge_data_location + 'RsnoRNA-tRNA.txt', header=None, sep='\\t', index=None)"
   ]
  },
  {
   "cell_type": "code",
   "execution_count": null,
   "metadata": {},
   "outputs": [],
   "source": [
    "snoRNA_scaRNA.append(snoRNA_other[snoRNA_other['type']=='scaRNA'][[\n",
    "    'ncbi_id','other_targets']]).drop_duplicates().to_csv(\n",
    "    edge_data_location + 'RsnoRNA-scaRNA.txt', header=None, sep='\\t', index=None)"
   ]
  },
  {
   "cell_type": "code",
   "execution_count": null,
   "metadata": {},
   "outputs": [],
   "source": [
    "snoRNA_lncRNA.append(snoRNA_other[snoRNA_other['type']=='lncRNA'][[\n",
    "    'ncbi_id','other_targets']]).drop_duplicates().to_csv(\n",
    "    edge_data_location + 'RsnoRNA-lncRNA.txt', header=None, sep='\\t', index=None)"
   ]
  },
  {
   "cell_type": "markdown",
   "metadata": {},
   "source": [
    "***\n",
    "### lncRNA-gene"
   ]
  },
  {
   "cell_type": "markdown",
   "metadata": {},
   "source": [
    "* [LncRNAWiki](https://ngdc.cncb.ac.cn/lncrnawiki/)"
   ]
  },
  {
   "cell_type": "code",
   "execution_count": null,
   "metadata": {},
   "outputs": [],
   "source": [
    "LncRNAWiki = pd.read_csv(unprocessed_data_location+'LncRNAWiki_BrowseDownload.csv')\n",
    "lncRNA_gene = LncRNAWiki[LncRNAWiki['target_type'].notna()]\n",
    "lncRNA_gene = lncRNA_gene[lncRNA_gene.target_type.str.contains('PCG')]\n",
    "lncRNA_gene = lncRNA_gene[['symbol','target','target_effect','pmid']]\n",
    "lncRNA_gene['target'] = lncRNA_gene['target'].str.split(';')\n",
    "lncRNA_gene = lncRNA_gene.explode('target')\n",
    "lncRNA_gene = pd.merge(lncRNA_gene,symbol_entrez_map.rename(columns={'0_x':'target'}), on='target')\n",
    "lncRNA_gene.drop(columns=['target'],inplace=True)\n",
    "lncRNA_gene = pd.merge(lncRNA_gene,symbol_entrez_map.rename(columns={'0_x':'symbol'}), on='symbol')\n",
    "lncRNA_gene.drop(columns=['symbol'],inplace=True)\n",
    "lncRNA_gene['0_y_y'] = lncRNA_gene['0_y_y'].astype(str)+'#lncRNA'\n",
    "lncRNA_gene"
   ]
  },
  {
   "cell_type": "code",
   "execution_count": null,
   "metadata": {},
   "outputs": [],
   "source": [
    "lncRNA_gene[['0_y_y','0_y_x']].drop_duplicates().to_csv(\n",
    "    edge_data_location + 'RlncRNA-gene.txt', header=None, sep='\\t', index=None)"
   ]
  },
  {
   "cell_type": "markdown",
   "metadata": {},
   "source": [
    "***\n",
    "### lncRNA-disease"
   ]
  },
  {
   "cell_type": "markdown",
   "metadata": {},
   "source": [
    "* [LncRNADisease](http://www.rnanut.net/lncrnadisease/) <br /> LncRNADisease integrates comprehensive experimentally supported and predicted ncRNA-disease associations curated from manual literatures and other resources."
   ]
  },
  {
   "cell_type": "code",
   "execution_count": null,
   "metadata": {},
   "outputs": [],
   "source": [
    "#data_downloader('http://www.rnanut.net/lncrnadisease/static/download/experimental%20lncRNA-disease%20information.xlsx', unprocessed_data_location)"
   ]
  },
  {
   "cell_type": "code",
   "execution_count": null,
   "metadata": {},
   "outputs": [],
   "source": [
    "lncRNA_disease = pd.read_excel(unprocessed_data_location + 'experimental%20lncRNA-disease%20information.xlsx')  \n",
    "# We keep only rows dealing with HS\n",
    "lncRNA_disease = lncRNA_disease[lncRNA_disease['Species'].str.contains(\"sapiens\")]\n",
    "lncRNA_disease.drop(columns=['ncRNA Category','Species'],inplace=True)\n",
    "lncRNA_disease"
   ]
  },
  {
   "cell_type": "code",
   "execution_count": null,
   "metadata": {},
   "outputs": [],
   "source": [
    "lncRNA_disease = lncRNA_disease.rename(columns={\"Disease Name\": \"desc\"})\n",
    "lncRNA_disease['desc'] = lncRNA_disease['desc'].str.lower()\n",
    "lncRNA_disease = pd.merge(desc_do_map, lncRNA_disease, on=['desc'])\n",
    "lncRNA_disease.drop(columns=['desc'],inplace=True)\n",
    "lncRNA_disease"
   ]
  },
  {
   "cell_type": "markdown",
   "metadata": {},
   "source": [
    "***\n",
    "* [Lnc2Cancer](http://bio-bigdata.hrbmu.edu.cn/lnc2cancer/index.html) <br /> Lnc2Cancer is a manually curated database that provides comprehensive experimentally supported associations between lncRNA or circRNA and human cancer."
   ]
  },
  {
   "cell_type": "code",
   "execution_count": null,
   "metadata": {},
   "outputs": [],
   "source": [
    "#http://bio-bigdata.hrbmu.edu.cn/lnc2cancer/download/lncRNA.xlsx\n",
    "lncRNA_disease2 = pd.read_excel(unprocessed_data_location+'lncRNA.xlsx')  \n",
    "lncRNA_disease2 = pd.merge(desc_do_map, lncRNA_disease2, left_on=['desc'], right_on=['cancer type'])\n",
    "lncRNA_disease2.drop(columns=['desc','cancer type'],inplace=True)\n",
    "lncRNA_disease2.rename(columns={'name':'ncRNA Symbol'},inplace=True)\n",
    "lncRNA_disease2"
   ]
  },
  {
   "cell_type": "code",
   "execution_count": null,
   "metadata": {},
   "outputs": [],
   "source": [
    "lncRNA_disease = pd.merge(lncRNA_disease, lncRNA_disease2, how='outer', on=['doid','ncRNA Symbol'])\n",
    "\n",
    "lncRNA_disease['Sample'].fillna(lncRNA_disease['sample'], inplace=True)\n",
    "lncRNA_disease.loc[(lncRNA_disease['Sample'].notna()) & (lncRNA_disease['sample'].notna()) &\n",
    "                 (lncRNA_disease['Sample'] != lncRNA_disease['sample']),\n",
    "                 [\"Sample\"]] = lncRNA_disease[\"Sample\"] + ' + ' + lncRNA_disease['sample']\n",
    "\n",
    "lncRNA_disease.drop(columns=['sample'],inplace=True)\n",
    "\n",
    "lncRNA_disease['Dysfunction Pattern'].fillna(lncRNA_disease['regulated'], inplace=True)\n",
    "lncRNA_disease.loc[(lncRNA_disease['Dysfunction Pattern'].notna()) & (lncRNA_disease['regulated'].notna()) &\n",
    "                 (lncRNA_disease['Dysfunction Pattern'] != lncRNA_disease['regulated']),\n",
    "                 [\"Dysfunction Pattern\"]] = lncRNA_disease[\"Dysfunction Pattern\"] + ' + ' + lncRNA_disease['regulated']\n",
    "\n",
    "lncRNA_disease.drop(columns=['regulated'],inplace=True)\n",
    "\n",
    "lncRNA_disease['Validated Method'].fillna(lncRNA_disease['methods'], inplace=True)\n",
    "lncRNA_disease.loc[(lncRNA_disease['Validated Method'].notna()) & (lncRNA_disease['methods'].notna()) &\n",
    "                 (lncRNA_disease['Validated Method'] != lncRNA_disease['methods']),\n",
    "                 [\"Validated Method\"]] = lncRNA_disease[\"Validated Method\"] + ' + ' + lncRNA_disease['methods']\n",
    "\n",
    "lncRNA_disease.drop(columns=['methods'],inplace=True)\n",
    "\n",
    "lncRNA_disease"
   ]
  },
  {
   "cell_type": "markdown",
   "metadata": {},
   "source": [
    "***\n",
    "* [LncRNAWiki](https://ngdc.cncb.ac.cn/lncrnawiki/)"
   ]
  },
  {
   "cell_type": "code",
   "execution_count": null,
   "metadata": {
    "scrolled": true
   },
   "outputs": [],
   "source": [
    "#LncRNAWiki = pd.read_csv(unprocessed_data_location+'LncRNAWiki_BrowseDownload.csv')\n",
    "lncRNA_disease2 = LncRNAWiki[LncRNAWiki['biological_context'].notna()]\n",
    "lncRNA_disease2 = lncRNA_disease2[lncRNA_disease2.biological_context.str.contains('isease')]\n",
    "lncRNA_disease2 = lncRNA_disease2[['symbol', 'context_detail','clinical_detail','tissue/cell line','description','pmid']]\n",
    "lncRNA_disease2.rename(columns={'context_detail':'desc','symbol':'ncRNA Symbol'},inplace=True)\n",
    "lncRNA_disease2"
   ]
  },
  {
   "cell_type": "code",
   "execution_count": null,
   "metadata": {},
   "outputs": [],
   "source": [
    "lncRNA_disease2 = pd.merge(lncRNA_disease2, desc_do_map, on='desc')\n",
    "lncRNA_disease2.drop(columns='desc',inplace=True)\n",
    "lncRNA_disease = pd.merge(lncRNA_disease, lncRNA_disease2, how='outer', on=['doid','ncRNA Symbol'])\n",
    "\n",
    "lncRNA_disease['Sample'].fillna(lncRNA_disease['tissue/cell line'], inplace=True)\n",
    "lncRNA_disease.loc[(lncRNA_disease['Sample'].notna()) & (lncRNA_disease['tissue/cell line'].notna()) &\n",
    "                 (lncRNA_disease['Sample'] != lncRNA_disease['tissue/cell line']),\n",
    "                 [\"Sample\"]] = lncRNA_disease[\"Sample\"] + ' + ' + lncRNA_disease['tissue/cell line']\n",
    "\n",
    "lncRNA_disease.drop(columns=['tissue/cell line'],inplace=True)\n",
    "\n",
    "lncRNA_disease['PubMed ID'] = lncRNA_disease['PubMed ID'].astype(str)\n",
    "lncRNA_disease['PubMed ID'].fillna(lncRNA_disease['pmid'], inplace=True)\n",
    "lncRNA_disease.loc[(lncRNA_disease['PubMed ID'].notna()) & (lncRNA_disease['pmid'].notna()) &\n",
    "                 (lncRNA_disease['PubMed ID'] != lncRNA_disease['pmid']),\n",
    "                 [\"PubMed ID\"]] = lncRNA_disease[\"PubMed ID\"] + ' + ' + lncRNA_disease['pmid']\n",
    "\n",
    "lncRNA_disease.drop(columns=['pmid'],inplace=True)\n",
    "\n",
    "lncRNA_disease"
   ]
  },
  {
   "cell_type": "markdown",
   "metadata": {},
   "source": [
    "***\n",
    "* [LncBook](https://ngdc.cncb.ac.cn/lncbook/)"
   ]
  },
  {
   "cell_type": "code",
   "execution_count": null,
   "metadata": {},
   "outputs": [],
   "source": [
    "# https://ngdc.cncb.ac.cn/lncbook/files/variation_LncBook2.0.csv.gz\n",
    "lncRNA_disease2 = pd.read_csv(unprocessed_data_location+'variation_LncBook2.0.csv')\n",
    "lncRNA_disease2 = lncRNA_disease2[lncRNA_disease2['COSMIC Tumor Name'] != '-']\n",
    "lncRNA_disease2 = lncRNA_disease2[lncRNA_disease2['Symbol'] != '-']\n",
    "lncRNA_disease2 = lncRNA_disease2[['Symbol','dbSNP ID','COSMIC Tumor Name']]\n",
    "lncRNA_disease2['COSMIC Tumor Name'] = lncRNA_disease2['COSMIC Tumor Name'].str.split(';')\n",
    "lncRNA_disease2 = lncRNA_disease2.explode('COSMIC Tumor Name')\n",
    "lncRNA_disease2['COSMIC Tumor Name'] = lncRNA_disease2['COSMIC Tumor Name'].str.replace(r\"\\(.*?\\)\", \"\", regex=True)\n",
    "lncRNA_disease2['COSMIC Tumor Name'] = lncRNA_disease2['COSMIC Tumor Name'].str.lower()\n",
    "lncRNA_disease2.rename(columns={'COSMIC Tumor Name':'desc','Symbol':'ncRNA Symbol'},inplace=True)\n",
    "lncRNA_disease2 = pd.merge(lncRNA_disease2, desc_do_map, on='desc')\n",
    "lncRNA_disease2.drop(columns='desc',inplace=True)\n",
    "lncRNA_disease2"
   ]
  },
  {
   "cell_type": "code",
   "execution_count": null,
   "metadata": {},
   "outputs": [],
   "source": [
    "lncRNA_disease = pd.merge(lncRNA_disease, lncRNA_disease2, how='outer', on=['doid','ncRNA Symbol'])\n",
    "lncRNA_disease = pd.merge(lncRNA_disease, symbol_entrez_map.rename(columns={'0_x':'ncRNA Symbol'}), on='ncRNA Symbol')\n",
    "lncRNA_disease.insert(0,'0_y',lncRNA_disease.pop('0_y'))\n",
    "lncRNA_disease['0_y'] = lncRNA_disease['0_y'].astype(str)+'#lncRNA'\n",
    "\n",
    "lncRNA_disease = pd.merge(lncRNA_disease,doid_mondo_map.rename(columns={0:'doid'}),on=['doid'])\n",
    "lncRNA_disease.drop(columns=['doid'],inplace=True)\n",
    "\n",
    "lncRNA_disease"
   ]
  },
  {
   "cell_type": "code",
   "execution_count": null,
   "metadata": {},
   "outputs": [],
   "source": [
    "lncRNA_disease[['0_y',1]].drop_duplicates().to_csv(\n",
    "    edge_data_location + 'RlncRNA-disease.txt', header=None, sep='\\t', index=None)"
   ]
  },
  {
   "cell_type": "markdown",
   "metadata": {},
   "source": [
    "***\n",
    "### circRNA-disease"
   ]
  },
  {
   "cell_type": "markdown",
   "metadata": {},
   "source": [
    "* [LncRNADisease](http://www.rnanut.net/lncrnadisease/)"
   ]
  },
  {
   "cell_type": "code",
   "execution_count": null,
   "metadata": {},
   "outputs": [],
   "source": [
    "#http://www.rnanut.net/lncrnadisease/static/download/experimental%20circRNA-disease%20information.xlsx\n",
    "\n",
    "circRNA_disease = pd.read_excel(unprocessed_data_location + 'experimental circRNA-disease information.xlsx')  \n",
    "# Same reasoning of lncRNA-disease\n",
    "circRNA_disease = circRNA_disease[circRNA_disease['Species'].str.contains(\"sapiens\")]\n",
    "circRNA_disease = circRNA_disease[circRNA_disease['ncRNA Category'] == 'circRNA']\n",
    "circRNA_disease.drop(columns=['ncRNA Category','Species'],inplace=True)\n",
    "circRNA_disease"
   ]
  },
  {
   "cell_type": "code",
   "execution_count": null,
   "metadata": {},
   "outputs": [],
   "source": [
    "circRNA_disease = circRNA_disease.rename(columns={\"Disease Name\": \"desc\"})\n",
    "circRNA_disease['desc'] = circRNA_disease['desc'].str.lower()\n",
    "circRNA_disease = pd.merge(desc_do_map, circRNA_disease, on=['desc'])\n",
    "circRNA_disease.drop(columns=['desc'],inplace=True)\n",
    "circRNA_disease"
   ]
  },
  {
   "cell_type": "markdown",
   "metadata": {},
   "source": [
    "***\n",
    "* [Lnc2Cancer](http://bio-bigdata.hrbmu.edu.cn/lnc2cancer/index.html)"
   ]
  },
  {
   "cell_type": "code",
   "execution_count": null,
   "metadata": {},
   "outputs": [],
   "source": [
    "circRNA_disease2 = pd.read_excel('http://bio-bigdata.hrbmu.edu.cn/lnc2cancer/download/circRNA.xlsx')  \n",
    "circRNA_disease2 = pd.merge(desc_do_map, circRNA_disease2, left_on=['desc'], right_on=['cancer type'])\n",
    "circRNA_disease2.drop(columns=['desc','cancer type'],inplace=True)\n",
    "circRNA_disease2.rename(columns={'name':'ncRNA Symbol'},inplace=True)\n",
    "circRNA_disease2"
   ]
  },
  {
   "cell_type": "code",
   "execution_count": null,
   "metadata": {},
   "outputs": [],
   "source": [
    "circRNA_disease = pd.merge(circRNA_disease, circRNA_disease2, how='outer', on=['doid','ncRNA Symbol'])\n",
    "\n",
    "circRNA_disease['Sample'].fillna(circRNA_disease['sample'], inplace=True)\n",
    "circRNA_disease.loc[(circRNA_disease['Sample'].notna()) & (circRNA_disease['sample'].notna()) &\n",
    "                 (circRNA_disease['Sample'] != circRNA_disease['sample']),\n",
    "                 [\"Sample\"]] = circRNA_disease[\"Sample\"] + ' + ' + circRNA_disease['sample']\n",
    "\n",
    "circRNA_disease.drop(columns=['sample'],inplace=True)\n",
    "\n",
    "circRNA_disease['Dysfunction Pattern'].fillna(circRNA_disease['regulated'], inplace=True)\n",
    "circRNA_disease.loc[(circRNA_disease['Dysfunction Pattern'].notna()) & (circRNA_disease['regulated'].notna()) &\n",
    "                 (circRNA_disease['Dysfunction Pattern'] != circRNA_disease['regulated']),\n",
    "                 [\"Dysfunction Pattern\"]] = circRNA_disease[\"Dysfunction Pattern\"] + ' + ' + circRNA_disease['regulated']\n",
    "\n",
    "circRNA_disease.drop(columns=['regulated'],inplace=True)\n",
    "\n",
    "circRNA_disease['Validated Method'].fillna(circRNA_disease['methods'], inplace=True)\n",
    "circRNA_disease.loc[(circRNA_disease['Validated Method'].notna()) & (circRNA_disease['methods'].notna()) &\n",
    "                 (circRNA_disease['Validated Method'] != circRNA_disease['methods']),\n",
    "                 [\"Validated Method\"]] = circRNA_disease[\"Validated Method\"] + ' + ' + circRNA_disease['methods']\n",
    "\n",
    "circRNA_disease.drop(columns=['methods'],inplace=True)\n",
    "\n",
    "circRNA_disease"
   ]
  },
  {
   "cell_type": "code",
   "execution_count": null,
   "metadata": {},
   "outputs": [],
   "source": [
    "circRNA_disease = pd.merge(circRNA_disease, circRNA_disease2, how='outer', on=['doid','ncRNA Symbol'])\n",
    "circRNA_disease = pd.merge(circRNA_disease, symbol_entrez_map.rename(columns={'0_x':'ncRNA Symbol'}), on='ncRNA Symbol')\n",
    "circRNA_disease.insert(0,'0_y',circRNA_disease.pop('0_y'))\n",
    "circRNA_disease['0_y'] = circRNA_disease['0_y'].astype(str)+'#circRNA'\n",
    "circRNA_disease"
   ]
  },
  {
   "cell_type": "code",
   "execution_count": null,
   "metadata": {},
   "outputs": [],
   "source": [
    "circRNA_disease = pd.merge(circRNA_disease,doid_mondo_map.rename(columns={0:'doid'}),on=['doid'])\n",
    "circRNA_disease.drop(columns=['doid'],inplace=True)\n",
    "\n",
    "circRNA_disease[['0_y',1]].drop_duplicates().to_csv(\n",
    "    edge_data_location + 'RcircRNA-disease.txt', header=None, sep='\\t', index=None)"
   ]
  },
  {
   "cell_type": "markdown",
   "metadata": {},
   "source": [
    "***\n",
    "### lncRNA-chemical"
   ]
  },
  {
   "cell_type": "markdown",
   "metadata": {},
   "source": [
    "* [LncRNAWiki](https://ngdc.cncb.ac.cn/lncrnawiki/)"
   ]
  },
  {
   "cell_type": "code",
   "execution_count": null,
   "metadata": {},
   "outputs": [],
   "source": [
    "#LncRNAWiki = pd.read_csv(unprocessed_data_location+'LncRNAWiki_BrowseDownload.csv')\n",
    "lncRNA_chemical = LncRNAWiki[LncRNAWiki['drug'].notna()]\n",
    "lncRNA_chemical = lncRNA_chemical[['symbol','drug','pmid']]\n",
    "\n",
    "lncRNA_chemical['drug'] = lncRNA_chemical.drug.str.split(';')\n",
    "lncRNA_chemical = lncRNA_chemical.explode('drug')\n",
    "lncRNA_chemical = pd.merge(desc_chebi_map.rename(columns={0:'drug'}), lncRNA_chemical, on=['drug'])\n",
    "lncRNA_chemical = pd.merge(lncRNA_chemical,symbol_entrez_map.rename(columns={'0_x':'symbol'}),on='symbol')\n",
    "lncRNA_chemical = lncRNA_chemical.drop(columns=['drug','symbol'])\n",
    "lncRNA_chemical['0_y'] = lncRNA_chemical['0_y'].astype(str)+'#lncRNA'\n",
    "lncRNA_chemical"
   ]
  },
  {
   "cell_type": "code",
   "execution_count": null,
   "metadata": {},
   "outputs": [],
   "source": [
    "lncRNA_chemical[['0_y',1]].drop_duplicates().to_csv(\n",
    "    edge_data_location + 'RlncRNA-chemical.txt', header=None, sep='\\t', index=None)"
   ]
  },
  {
   "cell_type": "markdown",
   "metadata": {},
   "source": [
    "***\n",
    "### lncRNA-protein"
   ]
  },
  {
   "cell_type": "markdown",
   "metadata": {},
   "source": [
    "* [LncBook](https://ngdc.cncb.ac.cn/lncbook/) <br /> LncBook accommodates a high-quality collection of human lncRNA genes and transcripts, and incorporates their abundant annotations at different omics levels, thereby enabling users to decipher functional signatures of lncRNAs in human diseases and different biological contexts. "
   ]
  },
  {
   "cell_type": "markdown",
   "metadata": {},
   "source": [
    "#### gene product of "
   ]
  },
  {
   "cell_type": "code",
   "execution_count": null,
   "metadata": {},
   "outputs": [],
   "source": [
    "data_downloader('https://ngdc.cncb.ac.cn/lncbook/files/sprotein_LncBook2.0.csv.gz', unprocessed_data_location)"
   ]
  },
  {
   "cell_type": "code",
   "execution_count": null,
   "metadata": {},
   "outputs": [],
   "source": [
    "lncRNA_protein = pd.read_csv(unprocessed_data_location + 'sprotein_LncBook2.0.csv') \n",
    "lncRNA_protein = lncRNA_protein[lncRNA_protein['Symbol']!='-']\n",
    "lncRNA_protein.drop(columns=['Gene ID','Transcript ID','SmProt Loci','SmProt Protein Sequence'],inplace=True)\n",
    "lncRNA_protein"
   ]
  },
  {
   "cell_type": "code",
   "execution_count": null,
   "metadata": {},
   "outputs": [],
   "source": [
    "lncRNA_protein = pd.merge(lncRNA_protein, symbol_entrez_map.rename(columns={'0_x':'Symbol'}), on='Symbol')\n",
    "lncRNA_protein['0_y'] = lncRNA_protein['0_y'].astype(str) + '#lncRNA'\n",
    "lncRNA_protein.drop(columns='Symbol',inplace=True)\n",
    "lncRNA_protein"
   ]
  },
  {
   "cell_type": "code",
   "execution_count": null,
   "metadata": {},
   "outputs": [],
   "source": [
    "lncRNA_protein[['SmProt ID','0_y']].drop_duplicates().to_csv(\n",
    "    edge_data_location + 'RsmallProtein-lncRNA.txt', header=None, sep='\\t', index=None)"
   ]
  },
  {
   "cell_type": "markdown",
   "metadata": {},
   "source": [
    "#### interacts with"
   ]
  },
  {
   "cell_type": "code",
   "execution_count": null,
   "metadata": {},
   "outputs": [],
   "source": [
    "data_downloader('https://ngdc.cncb.ac.cn/lncbook/files/lncrna_rbp_LncBook2.0.csv.gz', unprocessed_data_location)"
   ]
  },
  {
   "cell_type": "code",
   "execution_count": null,
   "metadata": {},
   "outputs": [],
   "source": [
    "lncRNA_protein = pd.read_csv(unprocessed_data_location + 'lncrna_rbp_LncBook2.0.csv')  \n",
    "lncRNA_protein = lncRNA_protein[lncRNA_protein['Symbol']!='-']\n",
    "lncRNA_protein.drop(columns=['Gene ID','Transcript ID'],inplace=True)\n",
    "lncRNA_protein"
   ]
  },
  {
   "cell_type": "markdown",
   "metadata": {},
   "source": [
    "***\n",
    "* [LncRNAWiki](https://ngdc.cncb.ac.cn/lncrnawiki/)"
   ]
  },
  {
   "cell_type": "code",
   "execution_count": null,
   "metadata": {},
   "outputs": [],
   "source": [
    "#LncRNAWiki = pd.read_csv(unprocessed_data_location+'LncRNAWiki_BrowseDownload.csv')\n",
    "lncRNA_protein2 = LncRNAWiki[LncRNAWiki['target_type'].notna()]\n",
    "lncRNA_protein2 = lncRNA_protein2[lncRNA_protein2.target_type.str.contains('TF')].append(\n",
    "    lncRNA_protein2[lncRNA_protein2.target_type.str.contains('protein')])\n",
    "lncRNA_protein2=lncRNA_protein2[['symbol','target','experimental_method','clinical_detail','description','pmid']]\n",
    "lncRNA_protein2['target'] = lncRNA_protein2.target.str.split(';')\n",
    "lncRNA_protein2 = lncRNA_protein2.explode('target')\n",
    "lncRNA_protein2.rename(columns={'symbol':'Symbol', 'target':'Protein'},inplace=True)\n",
    "lncRNA_protein2\n",
    "# We don't care about miRNA wrongly labeled as TF as they will be discarded when terms will be mapped on PRO"
   ]
  },
  {
   "cell_type": "code",
   "execution_count": null,
   "metadata": {},
   "outputs": [],
   "source": [
    "lncRNA_protein = pd.merge(lncRNA_protein, lncRNA_protein2, how='outer', on=['Symbol','Protein'])\n",
    "lncRNA_protein = pd.merge(lncRNA_protein, symbol_entrez_map.rename(columns={'0_x':'Symbol'}), on='Symbol')\n",
    "lncRNA_protein['0_y'] = lncRNA_protein['0_y'].astype(str) + '#lncRNA'\n",
    "lncRNA_protein = pd.merge(lncRNA_protein, symbol_to_pro.rename(columns={'0_x':'Protein'}), on='Protein')\n",
    "lncRNA_protein.drop(columns=['Symbol','Protein'],inplace=True)\n",
    "lncRNA_protein"
   ]
  },
  {
   "cell_type": "code",
   "execution_count": null,
   "metadata": {},
   "outputs": [],
   "source": [
    "lncRNA_protein[['0_y','1_y']].drop_duplicates().to_csv(\n",
    "    edge_data_location + 'RlncRNA-protein.txt', header=None, sep='\\t', index=None)"
   ]
  },
  {
   "cell_type": "markdown",
   "metadata": {},
   "source": [
    "***\n",
    "### lncRNA-expression"
   ]
  },
  {
   "cell_type": "markdown",
   "metadata": {},
   "source": [
    "* [LncBook](https://ngdc.cncb.ac.cn/lncbook/)"
   ]
  },
  {
   "cell_type": "code",
   "execution_count": null,
   "metadata": {},
   "outputs": [],
   "source": [
    "data_downloader('https://ngdc.cncb.ac.cn/lncbook/files/expression_LncBook2.0.csv.gz', unprocessed_data_location)"
   ]
  },
  {
   "cell_type": "code",
   "execution_count": null,
   "metadata": {},
   "outputs": [],
   "source": [
    "lncRNA_expression = pd.read_csv(unprocessed_data_location + 'expression_LncBook2.0.csv') \n",
    "lncRNA_expression = lncRNA_expression[lncRNA_expression['Symbol']!='-']\n",
    "lncRNA_expression.drop(columns=['Gene ID','Featured Expression','Expression Capacity'],inplace=True)\n",
    "lncRNA_expression['Symbol'] = lncRNA_expression.Symbol.str.split(',')\n",
    "lncRNA_expression = lncRNA_expression.explode('Symbol')\n",
    "lncRNA_expression.rename(columns={'Normal Tissue/Cell Line': 'UBERON_0000479',\n",
    "                                 'Organ Development':'GO_0048513',\n",
    "                                 'Preimplantation Embryo':'BTO_0000379',\n",
    "                                 'Cell Differentiation':'GO_0030154',\n",
    "                                 'Subcellular Localization':'COB_0000020',\n",
    "                                 'Exosome':'GO_0070062',\n",
    "                                 'Cancer Cell Line':'OBI_0001906',\n",
    "                                 'Virus Infection':'ERO_0000729',\n",
    "                                 'Circadian Rhythm':'GO_0007623'},inplace=True)\n",
    "lncRNA_expression"
   ]
  },
  {
   "cell_type": "code",
   "execution_count": null,
   "metadata": {},
   "outputs": [],
   "source": [
    "# HC\n",
    "HCfinal=pd.DataFrame()\n",
    "# NE\n",
    "NEfinal=pd.DataFrame()\n",
    "# MC\n",
    "MCfinal=pd.DataFrame()\n",
    "# LC\n",
    "LCfinal=pd.DataFrame()\n",
    "\n",
    "for i in ['UBERON_0000479','GO_0048513','BTO_0000379','GO_0030154','COB_0000020',\n",
    "          'GO_0070062','OBI_0001906','ERO_0000729','GO_0007623']:\n",
    "    HC = lncRNA_expression[['Symbol',i]][lncRNA_expression[['Symbol',i]][i]=='HC']\n",
    "    HC[i]=i\n",
    "    HC.rename(columns={i:'HC'},inplace=True)\n",
    "    HCfinal = HCfinal.append(HC)\n",
    "    \n",
    "    NE = lncRNA_expression[['Symbol',i]][lncRNA_expression[['Symbol',i]][i]=='NE']\n",
    "    NE[i]=i\n",
    "    NE.rename(columns={i:'NE'},inplace=True)\n",
    "    NEfinal = NEfinal.append(NE)\n",
    "    \n",
    "    MC = lncRNA_expression[['Symbol',i]][lncRNA_expression[['Symbol',i]][i]=='MC']\n",
    "    MC[i]=i\n",
    "    MC.rename(columns={i:'MC'},inplace=True)\n",
    "    MCfinal = MCfinal.append(MC)\n",
    "\n",
    "    LC = lncRNA_expression[['Symbol',i]][lncRNA_expression[['Symbol',i]][i]=='LC']\n",
    "    LC[i]=i\n",
    "    LC.rename(columns={i:'LC'},inplace=True)\n",
    "    LCfinal = LCfinal.append(LC)\n",
    " \n",
    "HCfinal=pd.merge(HCfinal,symbol_entrez_map.rename(columns={'0_x':'Symbol'}),on='Symbol')\n",
    "HCfinal.drop(columns='Symbol',inplace=True)\n",
    "HCfinal.insert(0,'0_y',HCfinal.pop('0_y'))\n",
    "HCfinal['0_y'] = HCfinal['0_y'].astype(str)+'#lncRNA'\n",
    "NEfinal=pd.merge(NEfinal,symbol_entrez_map.rename(columns={'0_x':'Symbol'}),on='Symbol')\n",
    "NEfinal.drop(columns='Symbol',inplace=True)\n",
    "NEfinal.insert(0,'0_y',NEfinal.pop('0_y'))\n",
    "NEfinal['0_y'] = NEfinal['0_y'].astype(str)+'#lncRNA'\n",
    "MCfinal=pd.merge(MCfinal,symbol_entrez_map.rename(columns={'0_x':'Symbol'}),on='Symbol')\n",
    "MCfinal.drop(columns='Symbol',inplace=True)\n",
    "MCfinal.insert(0,'0_y',MCfinal.pop('0_y'))\n",
    "MCfinal['0_y'] = MCfinal['0_y'].astype(str)+'#lncRNA'\n",
    "LCfinal=pd.merge(LCfinal,symbol_entrez_map.rename(columns={'0_x':'Symbol'}),on='Symbol')\n",
    "LCfinal.drop(columns='Symbol',inplace=True)\n",
    "LCfinal.insert(0,'0_y',LCfinal.pop('0_y'))\n",
    "LCfinal['0_y'] = LCfinal['0_y'].astype(str)+'#lncRNA'\n",
    "HCfinal"
   ]
  },
  {
   "cell_type": "code",
   "execution_count": null,
   "metadata": {},
   "outputs": [],
   "source": [
    "HCfinal.drop_duplicates().to_csv(\n",
    "    edge_data_location + 'RlncRNA-expression2245.txt', header=None, sep='\\t', index=None)\n",
    "LCfinal.drop_duplicates().to_csv(\n",
    "    edge_data_location + 'RlncRNA-expression2246.txt', header=None, sep='\\t', index=None)\n",
    "MCfinal.drop_duplicates().to_csv(\n",
    "    edge_data_location + 'RlncRNA-expression2291.txt', header=None, sep='\\t', index=None)\n",
    "# RO extension: NOT EXPRESSED IN\n",
    "#NEfinal.drop_duplicates().to_csv(\n",
    "    #edge_data_location + 'lncRNA-expressionNE.txt', header=None, sep='\\t', index=None)"
   ]
  },
  {
   "cell_type": "markdown",
   "metadata": {},
   "source": [
    "***\n",
    "### lncRNA-biological role"
   ]
  },
  {
   "cell_type": "markdown",
   "metadata": {},
   "source": [
    "* [dbEssLnc](https://esslnc.pufengdu.org/home) <br /> dbEssLnc contains lncRNA annotations; data are constently added by manual screening. "
   ]
  },
  {
   "cell_type": "code",
   "execution_count": null,
   "metadata": {},
   "outputs": [],
   "source": [
    "#https://esslnc.pufengdu.org/data/essential%20lncRNA.json\n",
    "dbEssLnc = pd.read_json(unprocessed_data_location + 'essential%20lncRNA.json')\n",
    "lncRNA_role = dbEssLnc[dbEssLnc['Organism']=='Human']\n",
    "lncRNA_role.drop(columns=['ID','Name','Aliases','fId','NONCODEId','Organism'], inplace=True)\n",
    "lncRNA_role"
   ]
  },
  {
   "cell_type": "code",
   "execution_count": null,
   "metadata": {},
   "outputs": [],
   "source": [
    "lncRNA_role.Role.unique()"
   ]
  },
  {
   "cell_type": "code",
   "execution_count": null,
   "metadata": {},
   "outputs": [],
   "source": [
    "# For grounding purposes\n",
    "lncRNA_role.replace('Tumor suppressor gene', 'Tumor-Suppressor-Gene', inplace=True)\n",
    "lncRNA_role.NCBI_gene_Id = lncRNA_role.NCBI_gene_Id.astype(str) + '#lncRNA'\n",
    "\n",
    "lncRNA_role[['NCBI_gene_Id','Role']].drop_duplicates().to_csv(\n",
    "    edge_data_location + 'RlncRNA-role.txt', header=None, sep='\\t', index=None)"
   ]
  },
  {
   "cell_type": "markdown",
   "metadata": {},
   "source": [
    "***\n",
    "### lncRNA-cellular compartment"
   ]
  },
  {
   "cell_type": "markdown",
   "metadata": {},
   "source": [
    "* [lncATLAS](https://lncatlas.crg.eu/) <br /> LncATLAS displays the subcellular localisation for GENCODE-annotated lncRNAs. This localisation is expressed in units of Relative Concentration Index (RCI) - a comparison of the concentration of a gene, per unit mass of RNA, between two cellular compartments."
   ]
  },
  {
   "cell_type": "code",
   "execution_count": null,
   "metadata": {},
   "outputs": [],
   "source": [
    "#https://lncatlas.crg.eu/session/014e12df4b0975891edb6d8ba3a33b0e/download/retrieveall?w=\n",
    "lncRNA_comp = pd.read_csv(unprocessed_data_location + '2023-05-09_lncATLAS_all_data.csv')\n",
    "lncRNA_comp = lncRNA_comp[['Data Source','Data Type','Value','Gene Name']]\n",
    "lncRNA_comp = pd.merge(lncRNA_comp, symbol_entrez_map.rename(columns={'0_x':'Gene Name'}), on='Gene Name')\n",
    "lncRNA_comp.drop(columns=['Gene Name'],inplace=True)\n",
    "lncRNA_comp['0_y'] = lncRNA_comp['0_y'].astype(str)+'#lncRNA'\n",
    "lncRNA_comp"
   ]
  },
  {
   "cell_type": "code",
   "execution_count": null,
   "metadata": {},
   "outputs": [],
   "source": [
    "# Data cleaning rule to estabilish relations: discard RCI below the mean\n",
    "lncRNA_comp.Value.mean()"
   ]
  },
  {
   "cell_type": "code",
   "execution_count": null,
   "metadata": {},
   "outputs": [],
   "source": [
    "lncRNA_comp = lncRNA_comp[lncRNA_comp.Value >= lncRNA_comp.Value.mean()]"
   ]
  },
  {
   "cell_type": "code",
   "execution_count": null,
   "metadata": {},
   "outputs": [],
   "source": [
    "# Mapping to GO CC\n",
    "lncRNA_comp['Data Type'].unique()"
   ]
  },
  {
   "cell_type": "code",
   "execution_count": null,
   "metadata": {},
   "outputs": [],
   "source": [
    "lncRNA_comp['gocc'] = lncRNA_comp['Data Type'].replace({'nucleus': 'GO_0005634', 'cytosol': 'GO_0005829',\n",
    "                                                        'chromatin': 'GO_0000785', 'membrane': 'GO_0016020',\n",
    "                                                        'nucleolus': 'GO_0005730', 'nucleoplasm': 'GO_0005654'})\n",
    "\n",
    "lncRNA_comp = lncRNA_comp[lncRNA_comp['gocc'].astype(str).str.startswith('GO_')]\n",
    "lncRNA_comp.drop(columns=['Data Type'],inplace=True)\n",
    "lncRNA_comp"
   ]
  },
  {
   "cell_type": "code",
   "execution_count": null,
   "metadata": {},
   "outputs": [],
   "source": [
    "lncRNA_comp[['0_y','gocc']].drop_duplicates().to_csv(\n",
    "    edge_data_location + 'RlncRNA-gocc.txt', header=None, sep='\\t', index=None)"
   ]
  },
  {
   "cell_type": "markdown",
   "metadata": {},
   "source": [
    "***\n",
    "### lncRNA-pathway"
   ]
  },
  {
   "cell_type": "markdown",
   "metadata": {},
   "source": [
    "* [LncRNAWiki](https://ngdc.cncb.ac.cn/lncrnawiki/)"
   ]
  },
  {
   "cell_type": "code",
   "execution_count": null,
   "metadata": {},
   "outputs": [],
   "source": [
    "#LncRNAWiki = pd.read_csv(unprocessed_data_location+'LncRNAWiki_BrowseDownload.csv')\n",
    "lncRNA_pw = LncRNAWiki[LncRNAWiki['pathway'].notna()]\n",
    "lncRNA_pw = lncRNA_pw[['symbol','pathway','pmid']]\n",
    "lncRNA_pw.pathway = lncRNA_pw.pathway.str.lower()\n",
    "lncRNA_pw"
   ]
  },
  {
   "cell_type": "code",
   "execution_count": null,
   "metadata": {},
   "outputs": [],
   "source": [
    "lncRNA_pw = pd.merge(lncRNA_pw, symbol_entrez_map.rename(columns={'0_x':'symbol'}), on='symbol')\n",
    "lncRNA_pw = pd.merge(lncRNA_pw, desc_pw_map.rename(columns={0:'pathway'}), on='pathway')\n",
    "lncRNA_pw = lncRNA_pw[['0_y',1,'pmid']]\n",
    "lncRNA_pw['0_y'] = lncRNA_pw['0_y'].astype(str)+'#lncRNA'\n",
    "lncRNA_pw.head()"
   ]
  },
  {
   "cell_type": "code",
   "execution_count": null,
   "metadata": {},
   "outputs": [],
   "source": [
    "lncRNA_pw[['0_y',1]].drop_duplicates().to_csv(\n",
    "    edge_data_location + 'RlncRNA-pw.txt', header=None, sep='\\t', index=None)"
   ]
  },
  {
   "cell_type": "markdown",
   "metadata": {},
   "source": [
    "***\n",
    "### lncRNA-biological process"
   ]
  },
  {
   "cell_type": "markdown",
   "metadata": {},
   "source": [
    "***\n",
    "* [LncRNAWiki](https://ngdc.cncb.ac.cn/lncrnawiki/)"
   ]
  },
  {
   "cell_type": "code",
   "execution_count": null,
   "metadata": {},
   "outputs": [],
   "source": [
    "#LncRNAWiki = pd.read_csv(unprocessed_data_location+'LncRNAWiki_BrowseDownload.csv')\n",
    "lncRNA_gobp2 = LncRNAWiki[LncRNAWiki['biological_context'].notna()]\n",
    "lncRNA_gobp2 = lncRNA_gobp2[['symbol','biological_context','pmid']]\n",
    "lncRNA_gobp2.biological_context = lncRNA_gobp2.biological_context.str.lower()\n",
    "lncRNA_gobp2.biological_context = lncRNA_gobp2.biological_context[lncRNA_gobp2.biological_context!='disease']\n",
    "lncRNA_gobp2.dropna(inplace=True)\n",
    "lncRNA_gobp2 = pd.merge(lncRNA_gobp2, desc_go_map.rename(columns={0:'biological_context'}), on=['biological_context'])\n",
    "lncRNA_gobp2.drop(columns='biological_context',inplace=True)\n",
    "lncRNA_gobp2 = pd.merge(lncRNA_gobp2, symbol_entrez_map.rename(columns={'0_x':'symbol'}), on=['symbol'])\n",
    "lncRNA_gobp2.drop(columns='symbol',inplace=True)\n",
    "lncRNA_gobp2['0_y'] = lncRNA_gobp2['0_y'].astype(str)+'#lncRNA'\n",
    "lncRNA_gobp2.rename(columns={'0_y':'geneid',1:'gobp','pmid':'PMID'},inplace=True)\n",
    "lncRNA_gobp2.head()"
   ]
  },
  {
   "cell_type": "code",
   "execution_count": null,
   "metadata": {},
   "outputs": [],
   "source": [
    "lncRNA_gobp2[['geneid', 'gobp']].drop_duplicates().to_csv(\n",
    "    edge_data_location + 'RlncRNA-gobp.txt', header=None, sep='\\t', index=None)"
   ]
  },
  {
   "cell_type": "markdown",
   "metadata": {},
   "source": [
    "***\n",
    "### miRNA-TF(protein)"
   ]
  },
  {
   "cell_type": "markdown",
   "metadata": {},
   "source": [
    "* [PuTmiR 1.1](https://www.isical.ac.in/~bioinfo_miu/TF-miRNA1.php) <br/>\n",
    "PuTmiR is a web server designed for extracting the putative TFs for human miRNAs, as per the requirement of a user, based on genomic locality, i.e., any upstream or downstream region of interest less than 10 kb."
   ]
  },
  {
   "cell_type": "markdown",
   "metadata": {},
   "source": [
    "#### is upstream of sequence of"
   ]
  },
  {
   "cell_type": "code",
   "execution_count": null,
   "metadata": {},
   "outputs": [],
   "source": [
    "#https://www.isical.ac.in/~bioinfo_miu/UpstreamRegionTF-miRNA1.txt\n",
    "miRNA_TF_up = pd.read_csv(unprocessed_data_location+'UpstreamRegionTF-miRNA1.txt', sep='\\t')\n",
    "miRNA_TF_up = pd.merge(miRNA_TF_up,symbol_to_pro.rename(columns={'0_x':'TF'}),on='TF')\n",
    "miRNA_TF_up = pd.merge(miRNA_TF_up,mirna_mirbase_map.rename(columns={1:'name'}),on='name')\n",
    "miRNA_TF_up.drop(columns=['chrom','chromStart','chromEnd','Refseq','TF','name'],inplace=True)\n",
    "miRNA_TF_up"
   ]
  },
  {
   "cell_type": "code",
   "execution_count": null,
   "metadata": {},
   "outputs": [],
   "source": [
    "maturemiRNA_TF_up = miRNA_TF_up[(miRNA_TF_up[0].str.startswith('MIMAT'))]\n",
    "premiRNA_TF_up = miRNA_TF_up[(miRNA_TF_up[0].str.startswith('MI')) &\n",
    "                             (~miRNA_TF_up[0].str.startswith('MIMAT'))]\n",
    "\n",
    "maturemiRNA_TF_up[[0,'1_y']].drop_duplicates().to_csv(\n",
    "    edge_data_location + 'RmiRNA-TFup.txt', header=None, sep='\\t', index=None)\n",
    "premiRNA_TF_up[[0,'1_y']].drop_duplicates().to_csv(\n",
    "    edge_data_location + 'RpremiRNA-TFup.txt', header=None, sep='\\t', index=None)"
   ]
  },
  {
   "cell_type": "markdown",
   "metadata": {},
   "source": [
    "#### is downstream of sequence of"
   ]
  },
  {
   "cell_type": "code",
   "execution_count": null,
   "metadata": {},
   "outputs": [],
   "source": [
    "#https://www.isical.ac.in/~bioinfo_miu/DownstreamRegionTF-miRNA1.txt\n",
    "miRNA_TF_down = pd.read_csv(unprocessed_data_location+'DownstreamRegionTF-miRNA1.txt', sep='\\t')\n",
    "miRNA_TF_down = pd.merge(miRNA_TF_down,symbol_to_pro.rename(columns={'0_x':'TF'}),on='TF')\n",
    "miRNA_TF_down = pd.merge(miRNA_TF_down,mirna_mirbase_map.rename(columns={1:'name'}),on='name')\n",
    "miRNA_TF_down.drop(columns=['chrom','chromStart','chromEnd','Refseq','TF','name'],inplace=True)\n",
    "miRNA_TF_down"
   ]
  },
  {
   "cell_type": "code",
   "execution_count": null,
   "metadata": {},
   "outputs": [],
   "source": [
    "maturemiRNA_TF_down = miRNA_TF_down[(miRNA_TF_down[0].str.startswith('MIMAT'))]\n",
    "premiRNA_TF_down = miRNA_TF_down[(miRNA_TF_down[0].str.startswith('MI')) &\n",
    "                                 (~miRNA_TF_down[0].str.startswith('MIMAT'))]\n",
    "\n",
    "maturemiRNA_TF_down[[0,'1_y']].drop_duplicates().to_csv(\n",
    "    edge_data_location + 'RmiRNA-TFdown.txt', header=None, sep='\\t', index=None)\n",
    "premiRNA_TF_down[[0,'1_y']].drop_duplicates().to_csv(\n",
    "    edge_data_location + 'RpremiRNA-TFdown.txt', header=None, sep='\\t', index=None)"
   ]
  },
  {
   "cell_type": "markdown",
   "metadata": {},
   "source": [
    "***\n",
    "### Stem-loop miRNA-TF(protein)"
   ]
  },
  {
   "cell_type": "markdown",
   "metadata": {},
   "source": [
    "* [miRNet](https://www.mirnet.ca/)\n",
    "miRNet is an easy-to-use web-based tool that offers statistical, visual and network-based approaches to help researchers understand miRNAs functions and regulatory mechanisms. miRNet offers a comprehensive tool suite to enable statistical analysis and functional interpretation of various data generated from current miRNA studies."
   ]
  },
  {
   "cell_type": "code",
   "execution_count": null,
   "metadata": {},
   "outputs": [],
   "source": [
    "#data_downloader('https://www.dropbox.com/s/78r0tazedtkhi5g/miRNet-mir-tf-hsa.csv', unprocessed_data_location)\n",
    "\n",
    "miRNA_TF = pd.read_csv(unprocessed_data_location + 'miRNet-mir-tf-hsa.csv')  \n",
    "miRNA_TF"
   ]
  },
  {
   "cell_type": "markdown",
   "metadata": {},
   "source": [
    "***\n",
    "* [TransmiR](https://www.cuilab.cn/transmir) <br /> TransmiR is a database for transcription factor (TF)-microRNA (miRNA) regulations, through which one can find regulatory relations between TFs and miRNAs."
   ]
  },
  {
   "cell_type": "code",
   "execution_count": null,
   "metadata": {},
   "outputs": [],
   "source": [
    "#https://www.cuilab.cn/files/images/transmir2/download/literature/hsa.xlsx\n",
    "miRNA_TF2 = pd.read_excel(unprocessed_data_location+\"hsa.xlsx\", header=None)\n",
    "miRNA_TF2"
   ]
  },
  {
   "cell_type": "code",
   "execution_count": null,
   "metadata": {},
   "outputs": [],
   "source": [
    "miRNA_TF = pd.merge(miRNA_TF, miRNA_TF2, how='outer', left_on=['mir_id','symbol'], right_on = [1,0])\n",
    "miRNA_TF[0].fillna(miRNA_TF['symbol'], inplace=True)\n",
    "miRNA_TF['symbol'].fillna(miRNA_TF[0], inplace=True)\n",
    "miRNA_TF['mir_id'].fillna(miRNA_TF[1], inplace=True)\n",
    "miRNA_TF[1].fillna(miRNA_TF['mir_id'], inplace=True)\n",
    "miRNA_TF"
   ]
  },
  {
   "cell_type": "markdown",
   "metadata": {},
   "source": [
    "***\n",
    "* [TAM](http://www.lirmed.com/tam2/)"
   ]
  },
  {
   "cell_type": "code",
   "execution_count": null,
   "metadata": {},
   "outputs": [],
   "source": [
    "#TAM = pd.read_csv(unprocessed_data_location+'mirset_v9.txt', sep='\\t',names=range(500))\n",
    "#TAM=TAM.dropna(axis=1, how='all')\n",
    "\n",
    "miRNA_TF2=TAM[(TAM[0].str.contains(\"TF\"))]\n",
    "miRNA_TF2=miRNA_TF2.dropna(axis=1, how='all')\n",
    "miRNA_TF2=miRNA_TF2.drop(columns=[0])\n",
    "miRNA_TF2['merged'] = miRNA_TF2[miRNA_TF2.columns[1:]].apply(\n",
    "    lambda x: ','.join(x.dropna().astype(str)),\n",
    "    axis=1\n",
    ")\n",
    "miRNA_TF2=miRNA_TF2[[1,'merged']]\n",
    "\n",
    "miRNA_TF2['merged'] = miRNA_TF2.merged.str.split(',')\n",
    "miRNA_TF2 = miRNA_TF2.explode('merged')\n",
    "miRNA_TF2"
   ]
  },
  {
   "cell_type": "code",
   "execution_count": null,
   "metadata": {},
   "outputs": [],
   "source": [
    "miRNA_TF = pd.merge(miRNA_TF, miRNA_TF2, how='outer', left_on=['mir_id','symbol'], right_on = ['merged',1])\n",
    "miRNA_TF['1_x'].fillna(miRNA_TF['symbol'], inplace=True)\n",
    "miRNA_TF['symbol'].fillna(miRNA_TF['1_x'], inplace=True)\n",
    "\n",
    "miRNA_TF = pd.merge(miRNA_TF, symbol_to_pro.rename(columns={'0_x':'symbol'}), on=['symbol'])\n"
   ]
  },
  {
   "cell_type": "code",
   "execution_count": null,
   "metadata": {},
   "outputs": [],
   "source": [
    "miRNA_TF[['mir_acc','1_y_y']].drop_duplicates().to_csv(\n",
    "    edge_data_location + 'RpremiRNA-TF.txt', header=None, sep='\\t', index=None)"
   ]
  },
  {
   "cell_type": "markdown",
   "metadata": {},
   "source": [
    "***\n",
    "### premiRNA-GO"
   ]
  },
  {
   "cell_type": "markdown",
   "metadata": {},
   "source": [
    "* [TAM](http://www.lirmed.com/tam2/) <br /> TAM groups miRNAs into six categories of miRNA sets: miRNA-family sets, miRNA cluster sets, miRNA-disease, miRNA-function sets, miRNA-TF sets and tissue specificity sets."
   ]
  },
  {
   "cell_type": "code",
   "execution_count": null,
   "metadata": {},
   "outputs": [],
   "source": [
    "#TAM = pd.read_csv('http://www.lirmed.com/tam2/Public/static/data/mirset_v9.txt', sep='\\t',names=range(500))\n",
    "#TAM=TAM.dropna(axis=1, how='all')\n",
    "\n",
    "miRNA_GO=TAM[TAM[0].str.contains(\"unction\")]\n",
    "miRNA_GO[1] = miRNA_GO[1].str.lower()\n",
    "miRNA_GO=miRNA_GO.dropna(axis=1, how='all')\n",
    "miRNA_GO=miRNA_GO.drop(columns=[0])\n",
    "miRNA_GO"
   ]
  },
  {
   "cell_type": "code",
   "execution_count": null,
   "metadata": {},
   "outputs": [],
   "source": [
    "miRNA_GO = pd.merge(desc_go_map, miRNA_GO, left_on=[0], right_on=[1]).drop(columns=['1_y'])\n",
    "miRNA_GO=miRNA_GO.dropna(axis=1, how='all')\n",
    "miRNA_GO"
   ]
  },
  {
   "cell_type": "code",
   "execution_count": null,
   "metadata": {},
   "outputs": [],
   "source": [
    "dflist = list()\n",
    "for i in range(len(miRNA_GO)):\n",
    "    df=pd.DataFrame(columns=[0,1,2])\n",
    "    df[0] = miRNA_GO.T[i].drop(index=[0,'1_x'])\n",
    "    df[1] = miRNA_GO.T[i][0]\n",
    "    df[2] = miRNA_GO.T[i]['1_x']\n",
    "    dflist.append(df)\n",
    "\n",
    "miRNA_GO=pd.DataFrame(columns=[0,1,2])\n",
    "for dataframe in dflist:\n",
    "    miRNA_GO=miRNA_GO.append(dataframe)\n",
    "miRNA_GO=miRNA_GO.dropna()\n",
    "\n",
    "miRNA_GO = pd.merge(miRNA_GO.rename(columns={0:'a'}), mirna_mirbase_map.rename(columns={1:'a'}), on='a')\n",
    "miRNA_GO.drop(columns=['a',1], inplace=True)\n",
    "miRNA_GO"
   ]
  },
  {
   "cell_type": "code",
   "execution_count": null,
   "metadata": {},
   "outputs": [],
   "source": [
    "miRNA_GO[[0,2]].drop_duplicates().to_csv(edge_data_location + 'RpremiRNA-go.txt', header=None, sep='\\t', index=None)"
   ]
  },
  {
   "cell_type": "markdown",
   "metadata": {},
   "source": [
    "***\n",
    "### premiRNA-premiRNA"
   ]
  },
  {
   "cell_type": "markdown",
   "metadata": {},
   "source": [
    "* [TAM](http://www.lirmed.com/tam2/)"
   ]
  },
  {
   "cell_type": "code",
   "execution_count": null,
   "metadata": {},
   "outputs": [],
   "source": [
    "#TAM = pd.read_csv('http://www.lirmed.com/tam2/Public/static/data/mirset_v9.txt', sep='\\t',names=range(500))\n",
    "#TAM=TAM.dropna(axis=1, how='all')\n",
    "miRNA_miRNA=TAM[(TAM[0].str.contains(\"luster\"))].append(TAM[TAM[0].str.contains(\"amily\")])\n",
    "miRNA_miRNA[1] = miRNA_miRNA[1].str.lower()\n",
    "miRNA_miRNA=miRNA_miRNA.dropna(axis=1, how='all')\n",
    "miRNA_miRNA=miRNA_miRNA.drop(columns=[0,1])\n",
    "miRNA_miRNA['merged'] = miRNA_miRNA[miRNA_miRNA.columns[1:]].apply(\n",
    "    lambda x: ','.join(x.dropna().astype(str)),\n",
    "    axis=1\n",
    ")\n",
    "miRNA_miRNA=miRNA_miRNA[[2,'merged']]\n",
    "\n",
    "miRNA_miRNA['merged'] = miRNA_miRNA.merged.str.split(',')\n",
    "miRNA_miRNA = miRNA_miRNA.explode('merged')\n",
    "miRNA_miRNA"
   ]
  },
  {
   "cell_type": "code",
   "execution_count": null,
   "metadata": {},
   "outputs": [],
   "source": [
    "miRNA_miRNA['merged'] = miRNA_miRNA.merged.str.split(',')\n",
    "miRNA_miRNA = miRNA_miRNA.explode('merged')\n",
    "miRNA_miRNA"
   ]
  },
  {
   "cell_type": "markdown",
   "metadata": {},
   "source": [
    "***\n",
    "è in DOWN\n",
    "* [miRPathDB](https://mpd.bioinf.uni-sb.de/overview.html) <br /> miRPathDB includes miRNA candidates, experimentally validated target genes, extended analysis functionality, and intuitive visualizations of query results. "
   ]
  },
  {
   "cell_type": "code",
   "execution_count": null,
   "metadata": {},
   "outputs": [],
   "source": []
  },
  {
   "cell_type": "code",
   "execution_count": null,
   "metadata": {},
   "outputs": [],
   "source": [
    "miRNA_miRNA = pd.merge(mirna_mirbase_map.rename(columns={1: 'merged'}), miRNA_miRNA, on='merged')\n",
    "miRNA_miRNA = pd.merge(mirna_mirbase_map.rename(columns={1: 2}), miRNA_miRNA, on=2)\n",
    "miRNA_miRNA.drop(columns=[2,'merged'], inplace=True)\n",
    "miRNA_miRNA = miRNA_miRNA[~miRNA_miRNA['0_y'].str.startswith('MIMAT')]\n",
    "miRNA_miRNA"
   ]
  },
  {
   "cell_type": "code",
   "execution_count": null,
   "metadata": {},
   "outputs": [],
   "source": [
    "miRNA_miRNA[['0_x','0_y']].drop_duplicates().to_csv(\n",
    "    edge_data_location + 'RpremiRNA-premiRNA.txt', header=None, sep='\\t', index=None)"
   ]
  },
  {
   "cell_type": "markdown",
   "metadata": {},
   "source": [
    "***\n",
    "### miRNA-anatomy"
   ]
  },
  {
   "cell_type": "markdown",
   "metadata": {},
   "source": [
    "* [TAM](http://www.lirmed.com/tam2/)"
   ]
  },
  {
   "cell_type": "code",
   "execution_count": null,
   "metadata": {},
   "outputs": [],
   "source": [
    "miRNA_anatomy = TAM[(TAM[0].str.contains(\"TissueSpecific\"))]\n",
    "miRNA_anatomy=miRNA_anatomy.drop(columns=[0])\n",
    "miRNA_anatomy=miRNA_anatomy.dropna(axis=1, how='all')\n",
    "miRNA_anatomy=miRNA_anatomy.append(miRNA_anatomy.loc[(1236)])\n",
    "miRNA_anatomy=miRNA_anatomy.reset_index(drop=True)\n",
    "miRNA_anatomy.iloc[(3)][1] = \"Heart\"\n",
    "miRNA_anatomy.iloc[(6)][1] = \"Muscle\"\n",
    "miRNA_anatomy"
   ]
  },
  {
   "cell_type": "code",
   "execution_count": null,
   "metadata": {},
   "outputs": [],
   "source": [
    "miRNA_anatomy['merged'] = miRNA_anatomy[miRNA_anatomy.columns[1:]].apply(\n",
    "    lambda x: ','.join(x.dropna().astype(str)),\n",
    "    axis=1\n",
    ")\n",
    "miRNA_anatomy['Uberon'] = ['UBERON_0002369', 'UBERON_0000955', 'UBERON_0001155',\n",
    "                           'UBERON_0002349', 'UBERON_0001150', 'UBERON_0001987', 'UBERON_0001630']\n",
    "miRNA_anatomy=miRNA_anatomy[[1,'Uberon','merged']]\n",
    "miRNA_anatomy['merged'] = miRNA_anatomy.merged.str.split(',')\n",
    "miRNA_anatomy = miRNA_anatomy.explode('merged')\n",
    "miRNA_anatomy"
   ]
  },
  {
   "cell_type": "code",
   "execution_count": null,
   "metadata": {},
   "outputs": [],
   "source": [
    "miRNA_anatomy = pd.merge(mirna_mirbase_map.rename(columns={1: 'merged'}), miRNA_anatomy, on='merged')\n",
    "miRNA_anatomy.drop(columns=[1,'merged'], inplace=True)\n",
    "miRNA_anatomy"
   ]
  },
  {
   "cell_type": "code",
   "execution_count": null,
   "metadata": {},
   "outputs": [],
   "source": [
    "miRNA_anatomy.drop_duplicates().to_csv(\n",
    "    edge_data_location + 'RpremiRNA-anatomy.txt', header=None, sep='\\t', index=None)"
   ]
  },
  {
   "cell_type": "markdown",
   "metadata": {},
   "source": [
    "***\n",
    "### miRNA-chemical"
   ]
  },
  {
   "cell_type": "markdown",
   "metadata": {},
   "source": [
    "* [SM2miR](http://www.jianglab.cn/SM2miR/) <br /> SM2miR is a manual curated database which collects and incorporates the experimentally validated small molecules' effects on miRNA expression from the published papers. Each entry contains the detailed information about small molecules, miRNAs and their relationships."
   ]
  },
  {
   "cell_type": "code",
   "execution_count": null,
   "metadata": {},
   "outputs": [],
   "source": [
    "data_downloader('http://www.jianglab.cn/SM2miR/files/SM2miR3.xls', unprocessed_data_location)"
   ]
  },
  {
   "cell_type": "code",
   "execution_count": null,
   "metadata": {
    "scrolled": true
   },
   "outputs": [],
   "source": [
    "miRNA_chemical = pd.read_excel(unprocessed_data_location + 'SM2miR3.xls')  \n",
    "miRNA_chemical = miRNA_chemical[miRNA_chemical['Species'].str.contains('sapiens')]\n",
    "miRNA_chemical"
   ]
  },
  {
   "cell_type": "code",
   "execution_count": null,
   "metadata": {},
   "outputs": [],
   "source": [
    "miRNA_chemical['small melocule'] = miRNA_chemical['small melocule'].str.lower().str.replace(\"\\(.*?\\)| \\(.*?\\)\", '').str.rstrip()\n",
    "\n",
    "miRNA_chemical['small melocule'] = miRNA_chemical['small melocule'].str.split('+')\n",
    "miRNA_chemical = miRNA_chemical.explode('small melocule')\n",
    "miRNA_chemical['small melocule'] = miRNA_chemical['small melocule'].str.rstrip().str.lstrip()\n",
    "\n",
    "# Fix join columns\n",
    "miRNA_chemical = pd.merge(miRNA_chemical, desc_chebi_map, left_on=['small melocule'], right_on=[0])\n",
    "\n",
    "miRNA_chemical"
   ]
  },
  {
   "cell_type": "markdown",
   "metadata": {},
   "source": [
    "***\n",
    "* [miRNet](https://www.mirnet.ca/miRNet/)"
   ]
  },
  {
   "cell_type": "code",
   "execution_count": null,
   "metadata": {},
   "outputs": [],
   "source": [
    "# https://www.dropbox.com/s/abaeonmjpftbspx/miRNet-mir-mol-hsa.csv?dl=0\n",
    "\n",
    "miRNA_chemical2 = pd.read_csv(unprocessed_data_location + 'miRNet-mir-mol-hsa.csv')\n",
    "miRNA_chemical2.molecule=miRNA_chemical2.molecule.str.lower()"
   ]
  },
  {
   "cell_type": "code",
   "execution_count": null,
   "metadata": {},
   "outputs": [],
   "source": [
    "miRNA_chemical2"
   ]
  },
  {
   "cell_type": "code",
   "execution_count": null,
   "metadata": {},
   "outputs": [],
   "source": [
    "miRNA_chemical2 = pd.merge(miRNA_chemical2, desc_chebi_map, left_on=['molecule'], right_on=[0])\n",
    "\n",
    "miRNA_chemical2"
   ]
  },
  {
   "cell_type": "code",
   "execution_count": null,
   "metadata": {},
   "outputs": [],
   "source": [
    "miRNA_chemical=pd.merge(miRNA_chemical, miRNA_chemical2, how='outer', left_on=['miRBase',1], right_on = ['mir_acc',1])"
   ]
  },
  {
   "cell_type": "code",
   "execution_count": null,
   "metadata": {},
   "outputs": [],
   "source": [
    "miRNA_chemical"
   ]
  },
  {
   "cell_type": "code",
   "execution_count": null,
   "metadata": {},
   "outputs": [],
   "source": [
    "miRNA_chemical['miRBase'].fillna(miRNA_chemical['mir_acc'], inplace=True)\n",
    "miRNA_chemical['mir_acc'].fillna(miRNA_chemical['miRBase'], inplace=True)\n",
    "\n",
    "miRNA_chemical_old=miRNA_chemical.copy()"
   ]
  },
  {
   "cell_type": "markdown",
   "metadata": {},
   "source": [
    "***\n",
    "* [miRandola](http://mirandola.iit.cnr.it/index.php)"
   ]
  },
  {
   "cell_type": "code",
   "execution_count": null,
   "metadata": {},
   "outputs": [],
   "source": [
    "drug_list=['aspirin','bevacizumab','clopidogrel',\n",
    "           'conventional%20synthetic%20disease-modifying%20antirheumatic%20drugs%20(cs-dmards)',\n",
    "           'docetaxel', 'epirubicin%20plus%20paclitaxel','fluorouracil%20(5-fu)','gemcitabine',\n",
    "           'hypomethylating%20agents%20(hmas)','lapatinib','lithium','mercury','n-acetyl%20cysteine%20(nac)',\n",
    "           'paracetamol','platinum','praziquantel%20(pzq)','sorafenib','testosterone',\n",
    "           'transarterial%20chemoembolization%20(tace)','trastuzumab','xuezhikang'\n",
    "          ]\n",
    "miRNA_chemical_mirandola=[]\n",
    "for drug in drug_list:\n",
    "    miRNA_chemical = pd.read_html('http://mirandola.iit.cnr.it/view_drug.php?LV='+drug)\n",
    "    for miRNA in range(len(miRNA_chemical)):\n",
    "        miRNA_chemical = pd.read_html('http://mirandola.iit.cnr.it/view_drug.php?LV='+drug,header=0)[miRNA]\n",
    "        miRNA_chemical = miRNA_chemical.T\n",
    "        miRNA_chemical.columns = miRNA_chemical.iloc[0]\n",
    "        miRNA_chemical = miRNA_chemical.drop(index=miRNA_chemical.iloc[0].name)\n",
    "        miRNA_chemical = miRNA_chemical.drop(index=miRNA_chemical.iloc[1].name)\n",
    "        miRNA_chemical = miRNA_chemical.drop(miRNA_chemical.iloc[:, :16],axis = 1)\n",
    "        miRNA_chemical_mirandola.append(miRNA_chemical) \n",
    "\n",
    "miRNA_chemical_mirandola = pd.concat(miRNA_chemical_mirandola)\n",
    "miRNA_chemical_mirandola        "
   ]
  },
  {
   "cell_type": "code",
   "execution_count": null,
   "metadata": {},
   "outputs": [],
   "source": [
    "miRNA_chemical_mirandola = pd.merge(miRNA_chemical_mirandola, desc_chebi_map, left_on=['Drug'], right_on=[0])\n",
    "miRNA_chemical_mirandola"
   ]
  },
  {
   "cell_type": "code",
   "execution_count": null,
   "metadata": {},
   "outputs": [],
   "source": [
    "miRNA_chemical=pd.merge(miRNA_chemical_old, miRNA_chemical_mirandola, how='outer', left_on=['mir_acc',1], right_on = ['miRBase Accession',1])\n",
    "miRNA_chemical['mir_acc'].fillna(miRNA_chemical['miRBase Accession'], inplace=True)\n",
    "miRNA_chemical['miRBase Accession'].fillna(miRNA_chemical['mir_acc'], inplace=True)\n",
    "miRNA_chemical[[1,'miRBase']].drop_duplicates().to_csv(\n",
    "    edge_data_location + 'Rchemical-miRNA.txt', header=None, sep='\\t', index=None)"
   ]
  },
  {
   "cell_type": "markdown",
   "metadata": {},
   "source": [
    "***\n",
    "### gRNA-gene"
   ]
  },
  {
   "cell_type": "markdown",
   "metadata": {},
   "source": [
    "* [Addgene](https://www.addgene.org/)"
   ]
  },
  {
   "cell_type": "code",
   "execution_count": null,
   "metadata": {},
   "outputs": [],
   "source": [
    "# copy-paste from https://www.addgene.org/crispr/reference/grna-sequence/#datatable\n",
    "gRNA_gene = pd.read_csv(unprocessed_data_location + 'grna_addgene.txt', sep='\\t', dtype = {\"Plasmid ID\":str})  \n",
    "gRNA_gene.columns=gRNA_gene.columns.str.rstrip()\n",
    "gRNA_gene = gRNA_gene[gRNA_gene['Target Species'].notna()]\n",
    "gRNA_gene = gRNA_gene[gRNA_gene['Target Species'].str.contains('apiens')]\n",
    "gRNA_gene['Plasmid ID'] = 'www.addgene.org/'+gRNA_gene['Plasmid ID'].str.rstrip()\n",
    "gRNA_gene['Target Gene'] = gRNA_gene['Target Gene'].str.upper().str.rstrip()\n",
    "\n",
    "gRNA_gene.drop(columns=['Target Species','Cas9 Species','Depositor'],inplace=True)\n",
    "gRNA_gene"
   ]
  },
  {
   "cell_type": "code",
   "execution_count": null,
   "metadata": {},
   "outputs": [],
   "source": [
    "gRNA_gene = pd.merge(gRNA_gene, symbol_entrez_map[['0_x','0_y']].rename(columns={\"0_x\": \"Target Gene\"}), on='Target Gene').drop(columns=['Target Gene'])\n",
    "gRNA_gene.insert(0,'0_y',gRNA_gene.pop('0_y'))\n",
    "gRNA_gene.insert(0,'Plasmid ID',gRNA_gene.pop('Plasmid ID'))\n",
    "gRNA_gene"
   ]
  },
  {
   "cell_type": "code",
   "execution_count": null,
   "metadata": {},
   "outputs": [],
   "source": [
    "gRNA_gene[['Plasmid ID', '0_y']].drop_duplicates().to_csv(\n",
    "    edge_data_location + 'RgRNA-gene.txt', header=None, sep='\\t', index=None)"
   ]
  },
  {
   "cell_type": "markdown",
   "metadata": {},
   "source": [
    "***\n",
    "### ASO-mRNA"
   ]
  },
  {
   "cell_type": "markdown",
   "metadata": {},
   "source": [
    "* [eSkip-Finder](https://eskip-finder.org/cgi-bin/input.cgi) <br /> eSkip-Finder is the first machine learning-based design tool and database of antisense oligonucleotides (ASOs) for exon skipping. A significant challenge, however, is the difficulty in selecting an optimal target sequence for exon skipping."
   ]
  },
  {
   "cell_type": "code",
   "execution_count": null,
   "metadata": {},
   "outputs": [],
   "source": [
    "# https://eskip-finder.org/cgi-bin/search.cgi\n",
    "ASO_mRNA = pd.read_html(unprocessed_data_location + 'eSkip-Finder.html')[2]\n",
    "ASO_mRNA = ASO_mRNA[ASO_mRNA['Species'] == 'human']\n",
    "ASO_mRNA = ASO_mRNA[ASO_mRNA['Oligo name in literature'] != 'Null']\n",
    "ASO_mRNA = ASO_mRNA[ASO_mRNA['confidence level (1:describe to explicitly / 0:speculated from context)']=='1']\n",
    "ASO_mRNA.drop(columns=['Oligo index in literature',\n",
    "                       'Oligo sequence /: Cocktail. -: weasel (connected).',\n",
    "                       'Species','Oligo chemistry','Literature info (Patent ID) (original)',\n",
    "                       'Alternative/translated literature','Title','Date','Inventor','Assignee/Applicants',\n",
    "                       'Figure/Table in literature','Unnamed: 31'],inplace=True)\n",
    "ASO_mRNA = pd.merge(ASO_mRNA,symbol_entrez_map.rename(columns={'0_x':'Target gene (RNA)'}), on='Target gene (RNA)')\n",
    "ASO_mRNA.drop(columns=['Target gene (RNA)'],inplace=True)\n",
    "ASO_mRNA['0_y'] = ASO_mRNA['0_y'].astype(str) + '#mRNA'\n",
    "ASO_mRNA"
   ]
  },
  {
   "cell_type": "code",
   "execution_count": null,
   "metadata": {},
   "outputs": [],
   "source": [
    "ASO_mRNA[['Oligo name in literature','0_y']].drop_duplicates().to_csv(\n",
    "    edge_data_location + 'RASO-mRNA.txt', header=None, sep='\\t', index=None)"
   ]
  },
  {
   "cell_type": "markdown",
   "metadata": {},
   "source": [
    "***\n",
    "### ASO drug-mRNA"
   ]
  },
  {
   "cell_type": "markdown",
   "metadata": {},
   "source": [
    "* [DrugBank](https://go.drugbank.com/categories/DBCAT001709) <br /> DrugBank is a comprehensive, free-to-access, online database containing information on drugs and drug targets. As both a bioinformatics and a cheminformatics resource, it combines detailed drug (i.e. chemical, pharmacological and pharmaceutical) data with comprehensive drug target (i.e. sequence, structure, and pathway) information."
   ]
  },
  {
   "cell_type": "code",
   "execution_count": null,
   "metadata": {},
   "outputs": [],
   "source": [
    "# copy-paste from https://go.drugbank.com/categories/DBCAT001709\n",
    "ASO_mRNA = pd.read_csv(unprocessed_data_location + 'ASO-gene_DrugBank.txt', sep='\\t') \n",
    "ASO_mRNA"
   ]
  },
  {
   "cell_type": "code",
   "execution_count": null,
   "metadata": {},
   "outputs": [],
   "source": [
    "ASO_mRNA['NCBI']=[338, np.nan, np.nan, np.nan, np.nan, np.nan, 1756, np.nan,\n",
    "                  338, 211, np.nan, 1756, 1756, np.nan, np.nan, np.nan, np.nan, 7276, np.nan]\n",
    "ASO_mRNA['NCBI'] = ASO_mRNA['NCBI'].astype('Int64').astype(str) + '#mRNA'\n",
    "ASO_mRNA['NCBI'] = ASO_mRNA['NCBI'].replace('<NA>#mRNA','<NA>')\n",
    "ASO_mRNA['DB ID']=['DB05528',\n",
    "                   'DB05487', 'DB05487', 'DB05487',\n",
    "                   'DB06759', 'DB06759',\n",
    "                   'DB06014',\n",
    "                   'DB13161',\n",
    "                   'DB14713',\n",
    "                   'DB15066',\n",
    "                   'DB15593',\n",
    "                   'DB15005',\n",
    "                   'DB14984', 'DB14984', 'DB14984', 'DB14984', 'DB14984',\n",
    "                   'DB16699', 'DB16699']\n",
    "ASO_mRNA.drop(columns=['Drug','Target'], inplace=True)\n",
    "ASO_mRNA.insert(2,'Type',ASO_mRNA.pop('Type'))\n",
    "ASO_mRNA"
   ]
  },
  {
   "cell_type": "code",
   "execution_count": null,
   "metadata": {},
   "outputs": [],
   "source": [
    "ASO_mRNA[['NCBI','DB ID']].drop_duplicates().to_csv(\n",
    "    edge_data_location + 'RASOd-mRNA.txt', header=None, sep='\\t', index=None)"
   ]
  },
  {
   "cell_type": "markdown",
   "metadata": {},
   "source": [
    "***\n",
    "### ASO drug-disease"
   ]
  },
  {
   "cell_type": "markdown",
   "metadata": {},
   "source": [
    "* [DrugBank](https://go.drugbank.com/categories/DBCAT001709)"
   ]
  },
  {
   "cell_type": "code",
   "execution_count": null,
   "metadata": {},
   "outputs": [],
   "source": [
    "# copy-paste from https://go.drugbank.com/categories/DBCAT001709\n",
    "ASO_disease = pd.read_csv(unprocessed_data_location + 'ASO-disease_DrugBank.txt', sep='\\t') \n",
    "pd.set_option('display.max_colwidth', None)\n",
    "ASO_disease"
   ]
  },
  {
   "cell_type": "code",
   "execution_count": null,
   "metadata": {},
   "outputs": [],
   "source": [
    "ASO_disease['DB ID']=['DB05528',\n",
    "                   'DB05487',\n",
    "                   'DB06759',\n",
    "                    'DB13811',\n",
    "                   'DB06014',\n",
    "                   'DB13161',\n",
    "                   'DB14713',\n",
    "                   'DB15066',\n",
    "                   'DB15593',\n",
    "                   'DB15005',\n",
    "                   'DB14984',\n",
    "                   'DB16699']\n",
    "ASO_disease['MONDO']=['MONDO_0018328',\n",
    "                      'MONDO_0001657,MONDO_0007254',\n",
    "                      'MONDO_0000878',\n",
    "                      '<NA>',\n",
    "                      'MONDO_0010679',\n",
    "                      'MONDO_0001516',\n",
    "                      'MONDO_0017132,MONDO_0001824',\n",
    "                      'MONDO_0002520',\n",
    "                      'MONDO_0010679',\n",
    "                      'MONDO_0010679',\n",
    "                      'MONDO_0010679',\n",
    "                      'MONDO_0017132'\n",
    "                     ]\n",
    "ASO_disease['MONDO'] = ASO_disease.MONDO.str.split(',')\n",
    "ASO_disease = ASO_disease.explode('MONDO')\n",
    "ASO_disease.drop(columns=['Drug','Drug Description'],inplace=True)\n",
    "ASO_disease"
   ]
  },
  {
   "cell_type": "code",
   "execution_count": null,
   "metadata": {},
   "outputs": [],
   "source": [
    "ASO_disease.drop_duplicates().to_csv(edge_data_location + 'RASOd-disease.txt', header=None, sep='\\t', index=None)"
   ]
  },
  {
   "cell_type": "markdown",
   "metadata": {},
   "source": [
    "***\n",
    "### ASO drug-protein"
   ]
  },
  {
   "cell_type": "markdown",
   "metadata": {},
   "source": [
    "* [DrugBank](https://go.drugbank.com/categories/DBCAT001709)"
   ]
  },
  {
   "cell_type": "code",
   "execution_count": null,
   "metadata": {},
   "outputs": [],
   "source": [
    "# copy-paste from https://go.drugbank.com/categories/DBCAT001709\n",
    "ASO_protein = pd.read_csv(unprocessed_data_location + 'ASO-gene_DrugBank.txt', sep='\\t') \n",
    "\n",
    "ASO_protein['DB ID']=['DB05528',\n",
    "                   'DB05487', 'DB05487', 'DB05487',\n",
    "                   'DB06759', 'DB06759',\n",
    "                   'DB06014',\n",
    "                   'DB13161',\n",
    "                   'DB14713',\n",
    "                   'DB15066',\n",
    "                   'DB15593',\n",
    "                   'DB15005',\n",
    "                   'DB14984', 'DB14984', 'DB14984', 'DB14984', 'DB14984',\n",
    "                   'DB16699', 'DB16699']\n",
    "ASO_protein['PRO']=[np.nan, 'PR_000007204', 'PR_000011178', 'PR_000001754', 'PR_Q9BTL4', 'PR_Q16621',\n",
    "                    np.nan, 'PR_Q16637', np.nan, np.nan, 'PR_P11532', np.nan, np.nan, 'PR_P08684',\n",
    "                    'PR_P20815', 'PR_P11712', 'PR_P33261', np.nan, 'PR_P02768']\n",
    "ASO_protein\n",
    "ASO_protein.drop(columns=['Drug','Target'], inplace=True)\n",
    "ASO_protein.insert(2,'Type',ASO_protein.pop('Type'))\n",
    "ASO_protein"
   ]
  },
  {
   "cell_type": "code",
   "execution_count": null,
   "metadata": {},
   "outputs": [],
   "source": [
    "ASO_protein.iloc[0:18].dropna().to_csv(\n",
    "    edge_data_location + 'RASOd-protein11007.txt', header=None, sep='\\t', index=None)"
   ]
  },
  {
   "cell_type": "code",
   "execution_count": null,
   "metadata": {},
   "outputs": [],
   "source": [
    "ASO_protein.iloc[[18]].to_csv(edge_data_location + 'RASOd-protein10002.txt', header=None, sep='\\t', index=None)"
   ]
  },
  {
   "cell_type": "markdown",
   "metadata": {},
   "source": [
    "***\n",
    "### siRNA drug-mRNA"
   ]
  },
  {
   "cell_type": "markdown",
   "metadata": {},
   "source": [
    "* [DrugBank](https://go.drugbank.com/categories/DBCAT005484) "
   ]
  },
  {
   "cell_type": "code",
   "execution_count": null,
   "metadata": {},
   "outputs": [],
   "source": [
    "# copy-paste from https://go.drugbank.com/categories/DBCAT005484\n",
    "siRNA_mRNA = pd.read_csv(unprocessed_data_location + 'siRNA-gene_DrugBank.txt', sep='\\t') \n",
    "siRNA_mRNA"
   ]
  },
  {
   "cell_type": "code",
   "execution_count": null,
   "metadata": {},
   "outputs": [],
   "source": [
    "siRNA_mRNA['NCBI']=[7276, np.nan, np.nan, 338, 54363, np.nan, np.nan, 7276, np.nan]\n",
    "siRNA_mRNA['NCBI'] = siRNA_mRNA['NCBI'].astype('Int64').astype(str) + '#mRNA'\n",
    "siRNA_mRNA['NCBI'] = siRNA_mRNA['NCBI'].replace('<NA>#mRNA','<NA>')\n",
    "siRNA_mRNA['DB ID']=['DB14582', 'DB14582', 'DB14582',\n",
    "                     'DB15066',\n",
    "                     'DB15935', 'DB15935', 'DB15935',\n",
    "                     'DB16699', 'DB16699']\n",
    "siRNA_mRNA.drop(columns=['Drug','Target'], inplace=True)\n",
    "siRNA_mRNA.insert(2,'Type',siRNA_mRNA.pop('Type'))\n",
    "siRNA_mRNA"
   ]
  },
  {
   "cell_type": "code",
   "execution_count": null,
   "metadata": {},
   "outputs": [],
   "source": [
    "siRNA_mRNA[['DB ID', 'NCBI']].drop_duplicates().to_csv(\n",
    "    edge_data_location + 'RsiRNAd-mRNA.txt', header=None, sep='\\t', index=None)"
   ]
  },
  {
   "cell_type": "markdown",
   "metadata": {},
   "source": [
    "***\n",
    "### siRNA-mRNA"
   ]
  },
  {
   "cell_type": "markdown",
   "metadata": {},
   "source": [
    "* [The MIT/ICBP siRNA Database](http://web.mit.edu/sirna/index.html) <br /> The MIT/ICBP siRNA Database has validated siRNA and shRNA sequences against over 100 genes."
   ]
  },
  {
   "cell_type": "code",
   "execution_count": null,
   "metadata": {},
   "outputs": [],
   "source": [
    "ICBP = pd.read_html('http://web.mit.edu/sirna/sirnas-gene.html')\n",
    "ICBP = ICBP[1]\n",
    "ICBP.columns = ICBP.iloc[[0]].squeeze()\n",
    "ICBP.drop(0, inplace=True)\n",
    "ICBP"
   ]
  },
  {
   "cell_type": "code",
   "execution_count": null,
   "metadata": {},
   "outputs": [],
   "source": [
    "# For post-processing purposes\n",
    "ICBP[['ID#']] = ICBP[['ID#']] + '.html'\n",
    "\n",
    "ICBPsiRNA = ICBP.loc[(ICBP['siRNA'] == 'x') & (ICBP['Human'] == 'x')]\n",
    "ICBPsiRNA.drop(columns=['siRNA','shRNA','Mouse','Human','Protein knockdown'],inplace=True)\n",
    "ICBPsiRNA"
   ]
  },
  {
   "cell_type": "code",
   "execution_count": null,
   "metadata": {},
   "outputs": [],
   "source": [
    "ICBPsiRNA = pd.merge(symbol_entrez_map[['0_x','0_y']].rename(columns={\"0_x\": \"Target Gene\"}),\n",
    "                     ICBPsiRNA, on=\"Target Gene\").drop(columns='Target Gene')\n",
    "ICBPsiRNA['0_y'] = ICBPsiRNA['0_y'].astype('Int64').astype(str) + '#mRNA'\n",
    "\n",
    "ICBPsiRNA[['ID#','0_y']].drop_duplicates().to_csv(\n",
    "    edge_data_location + 'RsiRNA-mRNA.txt', header=None, sep='\\t', index=None)"
   ]
  },
  {
   "cell_type": "markdown",
   "metadata": {},
   "source": [
    "***\n",
    "### shRNA-mRNA"
   ]
  },
  {
   "cell_type": "markdown",
   "metadata": {},
   "source": [
    "* [The MIT/ICBP siRNA Database](http://web.mit.edu/sirna/index.html)"
   ]
  },
  {
   "cell_type": "code",
   "execution_count": null,
   "metadata": {},
   "outputs": [],
   "source": [
    "ICBPshRNA = ICBP.loc[(ICBP['shRNA'] == 'x') & (ICBP['Human'] == 'x')]\n",
    "ICBPshRNA.drop(columns=['siRNA','shRNA','Mouse','Human','Protein knockdown'],inplace=True)\n",
    "ICBPshRNA"
   ]
  },
  {
   "cell_type": "code",
   "execution_count": null,
   "metadata": {},
   "outputs": [],
   "source": [
    "ICBPshRNA = pd.merge(symbol_entrez_map[['0_x','0_y']].rename(columns={\"0_x\": \"Target Gene\"}),\n",
    "                     ICBPshRNA, on=\"Target Gene\").drop(columns='Target Gene')\n",
    "ICBPshRNA['0_y'] = ICBPshRNA['0_y'].astype('Int64').astype(str) + '#mRNA'\n",
    "\n",
    "ICBPshRNA[['ID#','0_y']].drop_duplicates().to_csv(\n",
    "    edge_data_location + 'RshRNA-mRNA.txt', header=None, sep='\\t', index=None)"
   ]
  },
  {
   "cell_type": "markdown",
   "metadata": {},
   "source": [
    "***\n",
    "### siRNA drug-disease"
   ]
  },
  {
   "cell_type": "markdown",
   "metadata": {},
   "source": [
    "* [DrugBank](https://go.drugbank.com/categories/DBCAT005484) "
   ]
  },
  {
   "cell_type": "code",
   "execution_count": null,
   "metadata": {},
   "outputs": [],
   "source": [
    "# copy-paste from https://go.drugbank.com/categories/DBCAT005484\n",
    "siRNA_disease = pd.read_csv(unprocessed_data_location + 'siRNA-disease_DrugBank.txt', sep='\\t') \n",
    "siRNA_disease"
   ]
  },
  {
   "cell_type": "code",
   "execution_count": null,
   "metadata": {},
   "outputs": [],
   "source": [
    "siRNA_disease['DB ID']=['DB14582','DB15066','DB15935','DB16699']\n",
    "siRNA_disease['MONDO']=['MONDO_0017132,MONDO_0001824',\n",
    "                        'MONDO_0002520',\n",
    "                        'MONDO_0009823',\n",
    "                        'MONDO_0017132,MONDO_0001824']\n",
    "\n",
    "siRNA_disease['MONDO'] = siRNA_disease.MONDO.str.split(',')\n",
    "siRNA_disease = siRNA_disease.explode('MONDO')\n",
    "siRNA_disease.drop(columns=['Drug','Drug Description'],inplace=True)\n",
    "siRNA_disease"
   ]
  },
  {
   "cell_type": "code",
   "execution_count": null,
   "metadata": {},
   "outputs": [],
   "source": [
    "siRNA_disease.drop_duplicates().to_csv(\n",
    "    edge_data_location + 'RsiRNAd-disease.txt', header=None, sep='\\t', index=None)"
   ]
  },
  {
   "cell_type": "markdown",
   "metadata": {},
   "source": [
    "***\n",
    "### aptamer-protein"
   ]
  },
  {
   "cell_type": "markdown",
   "metadata": {},
   "source": [
    "* [Apta-Index](https://www.aptagen.com/apta-index/) <br/>\n",
    "Apta-index is the most advanced user-friendly database on aptamers. Aptagen does not list this information contained herein as products but as a database of information obtained from the published literature. "
   ]
  },
  {
   "cell_type": "code",
   "execution_count": null,
   "metadata": {},
   "outputs": [],
   "source": [
    "aptamer_protein = pd.read_csv(unprocessed_data_location + 'aptaindex.csv',\n",
    "                              names=['Name', 'ID', 'Target', 'Sequence']) \n",
    "aptamer_protein.Target = aptamer_protein.Target.str.lower()\n",
    "aptamer_protein = pd.merge(aptamer_protein[['ID','Target']], desc_pro_map.rename(columns={0:'Target'}),on='Target')\n",
    "aptamer_protein['ID'] = 'aptamer-details/?id=' + aptamer_protein['ID'].astype(str)"
   ]
  },
  {
   "cell_type": "code",
   "execution_count": null,
   "metadata": {},
   "outputs": [],
   "source": [
    "aptamer_protein[['ID',1]].drop_duplicates().to_csv(\n",
    "    edge_data_location + 'Raptamer-protein.txt', header=None, sep='\\t', index=None)"
   ]
  },
  {
   "cell_type": "markdown",
   "metadata": {},
   "source": [
    "***\n",
    "### aptamer-chemical"
   ]
  },
  {
   "cell_type": "markdown",
   "metadata": {},
   "source": [
    "* [Apta-Index](https://www.aptagen.com/apta-index/)"
   ]
  },
  {
   "cell_type": "code",
   "execution_count": null,
   "metadata": {},
   "outputs": [],
   "source": [
    "aptamer_chemical = pd.read_csv(unprocessed_data_location + 'aptaindex.csv',\n",
    "                               names=['Name', 'ID', 'Target', 'Sequence']) \n",
    "aptamer_chemical.Target = aptamer_chemical.Target.str.lower()\n",
    "aptamer_chemical = pd.merge(aptamer_chemical[['ID','Target']],\n",
    "                            desc_chebi_map.rename(columns={0:'Target'}),on='Target')\n",
    "aptamer_chemical['ID'] = 'aptamer-details/?id=' + aptamer_chemical['ID'].astype(str)\n",
    "aptamer_chemical"
   ]
  },
  {
   "cell_type": "code",
   "execution_count": null,
   "metadata": {},
   "outputs": [],
   "source": [
    "aptamer_chemical[['ID',1]].drop_duplicates().to_csv(\n",
    "    edge_data_location + 'Raptamer-chemical.txt', header=None, sep='\\t', index=None)"
   ]
  },
  {
   "cell_type": "markdown",
   "metadata": {},
   "source": [
    "***\n",
    "### aptamer drug-protein"
   ]
  },
  {
   "cell_type": "markdown",
   "metadata": {},
   "source": [
    "* [DrugBank](https://go.drugbank.com/categories/DBCAT001641) "
   ]
  },
  {
   "cell_type": "code",
   "execution_count": null,
   "metadata": {},
   "outputs": [],
   "source": [
    "# copy-paste from https://go.drugbank.com/categories/DBCAT001641\n",
    "aptamer_protein = pd.read_csv(unprocessed_data_location + 'aptamer-protein_DrugBank.txt', sep='\\t') \n",
    "aptamer_protein"
   ]
  },
  {
   "cell_type": "code",
   "execution_count": null,
   "metadata": {},
   "outputs": [],
   "source": [
    "aptamer_protein['DB ID']=['DB04932', 'DB04932', 'DB04932', 'DB04998']\n",
    "aptamer_protein['PRO']=['PR_000001575', 'PR_000001576', 'PR_000001577', 'PR_000001752']\n",
    "aptamer_protein.drop(columns=['Drug','Target'],inplace=True)\n",
    "aptamer_protein.insert(2,'Type',aptamer_protein.pop('Type'))\n",
    "aptamer_protein"
   ]
  },
  {
   "cell_type": "code",
   "execution_count": null,
   "metadata": {},
   "outputs": [],
   "source": [
    "aptamer_protein.drop_duplicates().to_csv(\n",
    "    edge_data_location + 'Raptamerd-protein.txt', header=None, sep='\\t', index=None)"
   ]
  },
  {
   "cell_type": "markdown",
   "metadata": {},
   "source": [
    "***\n",
    "### aptamer drug-disease"
   ]
  },
  {
   "cell_type": "markdown",
   "metadata": {},
   "source": [
    "* [DrugBank](https://go.drugbank.com/categories/DBCAT001641) "
   ]
  },
  {
   "cell_type": "code",
   "execution_count": null,
   "metadata": {},
   "outputs": [],
   "source": [
    "# copy-paste from https://go.drugbank.com/categories/DBCAT001641\n",
    "aptamer_disease = pd.read_csv(unprocessed_data_location + 'aptamer-disease_DrugBank.txt', sep='\\t') \n",
    "aptamer_disease"
   ]
  },
  {
   "cell_type": "code",
   "execution_count": null,
   "metadata": {},
   "outputs": [],
   "source": [
    "aptamer_disease['DB ID']=['DB04932', 'DB04998']\n",
    "aptamer_disease['MONDO']=['MONDO_0019514', 'MONDO_0004992,MONDO_0002367,MONDO_0004643,MONDO_0009831']\n",
    "aptamer_disease['MONDO'] = aptamer_disease.MONDO.str.split(',')\n",
    "aptamer_disease = aptamer_disease.explode('MONDO')\n",
    "aptamer_disease.drop(columns=['Drug','Drug Description'],inplace=True)\n",
    "aptamer_disease"
   ]
  },
  {
   "cell_type": "code",
   "execution_count": null,
   "metadata": {},
   "outputs": [],
   "source": [
    "aptamer_disease.drop_duplicates().to_csv(\n",
    "    edge_data_location + 'Raptamerd-disease.txt', header=None, sep='\\t', index=None)"
   ]
  },
  {
   "cell_type": "markdown",
   "metadata": {},
   "source": [
    "***\n",
    "### mRNA vaccines-disease"
   ]
  },
  {
   "cell_type": "markdown",
   "metadata": {},
   "source": [
    "* [DrugBank](https://go.drugbank.com/categories/DBCAT005631) "
   ]
  },
  {
   "cell_type": "code",
   "execution_count": null,
   "metadata": {},
   "outputs": [],
   "source": [
    "# copy-paste from https://go.drugbank.com/categories/DBCAT005631\n",
    "mRNAv_disease = pd.read_csv(unprocessed_data_location + 'mRNAv-disease_DrugBank.txt', sep='\\t') \n",
    "mRNAv_disease"
   ]
  },
  {
   "cell_type": "code",
   "execution_count": null,
   "metadata": {},
   "outputs": [],
   "source": [
    "mRNAv_disease['DB ID']=['DB15654', 'DB15695', 'DB15696' , 'DB16401', 'DB16402', 'DB17088', 'DB17090', 'DB17095']\n",
    "mRNAv_disease['MONDO']='MONDO_0100096'\n",
    "mRNAv_disease.drop(columns=['Drug Description','Drug'],inplace=True)\n",
    "mRNAv_disease"
   ]
  },
  {
   "cell_type": "code",
   "execution_count": null,
   "metadata": {},
   "outputs": [],
   "source": [
    "mRNAv_disease.drop_duplicates().to_csv(\n",
    "    edge_data_location + 'RmRNAv-disease.txt', header=None, sep='\\t', index=None)"
   ]
  },
  {
   "cell_type": "markdown",
   "metadata": {},
   "source": [
    "***\n",
    "### lncRNA-mRNA"
   ]
  },
  {
   "cell_type": "markdown",
   "metadata": {},
   "source": [
    "* [LncExpDB](https://ngdc.cncb.ac.cn/lncexpdb/) <br /> LncExpDB is a comprehensive database for lncRNA expression. It covers expression profiles of lncRNA genes across various biological contexts, predicts potential functional lncRNAs and their interacting partners, and thus provides essential guidance on experimental design."
   ]
  },
  {
   "cell_type": "code",
   "execution_count": null,
   "metadata": {},
   "outputs": [],
   "source": [
    "# Download from https://ngdc.cncb.ac.cn/lncexpdb/interactions --> Download button\n",
    "lncRNA_mRNA = pd.read_csv(unprocessed_data_location + 'interaction.txt', sep='\\t') \n",
    "lncRNA_mRNA = lncRNA_mRNA[lncRNA_mRNA['lncname'].notna()]\n",
    "lncRNA_mRNA['lncname'] = lncRNA_mRNA.lncname.str.split(',')\n",
    "lncRNA_mRNA = lncRNA_mRNA.explode('lncname')\n",
    "lncRNA_mRNA = lncRNA_mRNA.drop(columns=['geneid','pcg','lnclocation','pcglocation','ID'])\n",
    "lncRNA_mRNA"
   ]
  },
  {
   "cell_type": "code",
   "execution_count": null,
   "metadata": {},
   "outputs": [],
   "source": [
    "lncRNA_mRNA = pd.merge(symbol_entrez_map.rename(columns={'0_x':'lncname'}),lncRNA_mRNA,on='lncname')\n",
    "lncRNA_mRNA = pd.merge(symbol_entrez_map.rename(columns={'0_x':'pcgname'}),lncRNA_mRNA,on='pcgname')\n",
    "lncRNA_mRNA.drop(columns=['lncname','pcgname'],inplace=True)\n",
    "lncRNA_mRNA['0_y_y'] = lncRNA_mRNA['0_y_y'].astype(str)+'#lncRNA'\n",
    "lncRNA_mRNA['0_y_x'] = lncRNA_mRNA['0_y_x'].astype(str)+'#mRNA'\n",
    "lncRNA_mRNA"
   ]
  },
  {
   "cell_type": "code",
   "execution_count": null,
   "metadata": {},
   "outputs": [],
   "source": [
    "lncRNA_mRNA[['0_y_y','0_y_x']].drop_duplicates().to_csv(\n",
    "    edge_data_location + 'RlncRNA-mRNA.txt', header=None, sep='\\t', index=None)"
   ]
  },
  {
   "cell_type": "markdown",
   "metadata": {},
   "source": [
    "***\n",
    "### riboswitch-protein"
   ]
  },
  {
   "cell_type": "markdown",
   "metadata": {},
   "source": [
    "* [TBDB](https://tbdb.io/) <br /> \n",
    "\n",
    "TBDB contains T-box riboswitch fold prediction, tRNA pairs from host organisms, information regarding T-box riboswitch genetic context, and thermodynamic calculations of putative T-box riboswitch sequences found in nature."
   ]
  },
  {
   "cell_type": "code",
   "execution_count": null,
   "metadata": {},
   "outputs": [],
   "source": [
    "#https://tbdb.io/database/tbdb.csv\n",
    "riboswitch_protein = pd.read_csv(unprocessed_data_location+'tbdb.csv', sep=',') \n",
    "riboswitch_protein"
   ]
  },
  {
   "cell_type": "code",
   "execution_count": null,
   "metadata": {},
   "outputs": [],
   "source": [
    "# For post-processing purposes\n",
    "riboswitch_protein.unique_name = riboswitch_protein.unique_name+'.html'\n",
    "\n",
    "riboswitch_protein.downstream_protein = riboswitch_protein.downstream_protein.str.lower()\n",
    "riboswitch_protein = riboswitch_protein[['Rank','E_value','Score','Bias','Tbox_start','Tbox_end','CM_accuracy','GC','unique_name',\n",
    "                   'locus_start','tbox_length','locus_end','locus_view_start','locus_view_end','deltadelta_g','downstream_protein',\n",
    "                   'downstream_protein_id','downstream_protein_EC','protein_desc','protein_url','protein_id_short']]"
   ]
  },
  {
   "cell_type": "code",
   "execution_count": null,
   "metadata": {},
   "outputs": [],
   "source": [
    "# Fix join columns\n",
    "riboswitch_protein = pd.merge(riboswitch_protein, desc_pro_map, left_on=['downstream_protein'], right_on=[0])\n",
    "riboswitch_protein.drop(columns=[0],inplace=True)\n",
    "\n",
    "riboswitch_protein"
   ]
  },
  {
   "cell_type": "code",
   "execution_count": null,
   "metadata": {},
   "outputs": [],
   "source": [
    "riboswitch_protein[['unique_name',1]].drop_duplicates().to_csv(\n",
    "    edge_data_location + 'Rriboswitch-protein.txt', header=None, sep='\\t', index=None)"
   ]
  },
  {
   "cell_type": "markdown",
   "metadata": {},
   "source": [
    "***\n",
    "### riboswitch-bacterial strain"
   ]
  },
  {
   "cell_type": "markdown",
   "metadata": {},
   "source": [
    "* [RSwitch database](https://penchovsky.atwebpages.com/applications.php?page=58) <br /> \n",
    "The RSwitch database contains information on using riboswitches as antibacterial drug targets. Each riboswitch represented by the ID, name, aptamer sequences, secondary structures, multiple alignments, consensus motifs, and biochemical pathways."
   ]
  },
  {
   "cell_type": "code",
   "execution_count": null,
   "metadata": {},
   "outputs": [],
   "source": [
    "riboswitch_bactStrain = pd.read_csv(unprocessed_data_location + 'rswitch.csv', header=None) \n",
    "riboswitch_bactStrain"
   ]
  },
  {
   "cell_type": "code",
   "execution_count": null,
   "metadata": {},
   "outputs": [],
   "source": [
    "riboswitch_bactStrain[2].drop_duplicates().to_csv(\n",
    "    unprocessed_data_location + 'bacteria.txt', header=None, sep='\\n', index=None)\n",
    "# --> https://www.ncbi.nlm.nih.gov/Taxonomy/TaxIdentifier/tax_identifier.cgi (Note that some manual work is needed)"
   ]
  },
  {
   "cell_type": "code",
   "execution_count": null,
   "metadata": {},
   "outputs": [],
   "source": [
    "bacteria = pd.read_csv(unprocessed_data_location + 'tax_report.txt', sep='\\t\\|\\t', engine='python') \n",
    "bacteria.taxid = bacteria.taxid.astype('Int64')\n",
    "bacteria"
   ]
  },
  {
   "cell_type": "code",
   "execution_count": null,
   "metadata": {},
   "outputs": [],
   "source": [
    "riboswitch_bactStrain = pd.merge(riboswitch_bactStrain.rename(columns={2:'name'}),\n",
    "                                 bacteria[['name','taxid']],on=['name'])\n",
    "riboswitch_bactStrain.taxid = 'wwwtax.cgi?id='+riboswitch_bactStrain.taxid.astype(str)\n",
    "riboswitch_bactStrain"
   ]
  },
  {
   "cell_type": "code",
   "execution_count": null,
   "metadata": {},
   "outputs": [],
   "source": [
    "riboswitch_bactStrain[[0, 'taxid']].to_csv(edge_data_location + 'Rriboswitch-bactStrain.txt',\n",
    "                                           header=None, sep='\\t', index=None)"
   ]
  },
  {
   "cell_type": "markdown",
   "metadata": {},
   "source": [
    "***\n",
    "### riboswitch-gobp"
   ]
  },
  {
   "cell_type": "markdown",
   "metadata": {},
   "source": [
    "* [TBDB](https://tbdb.io/) <br /> "
   ]
  },
  {
   "cell_type": "code",
   "execution_count": null,
   "metadata": {},
   "outputs": [],
   "source": [
    "#https://tbdb.io/database/\n",
    "riboswitch_gobp = pd.read_csv(unprocessed_data_location+'tbdb.csv', sep=',') \n",
    "riboswitch_gobp.unique_name = riboswitch_gobp.unique_name+'.html'\n",
    "\n",
    "# Extract only GO terms\n",
    "gobp = riboswitch_gobp.protein_desc.str.rpartition('[')[2].str.rpartition(']')[0].str.replace(\":\", \"_\")\n",
    "riboswitch_gobp = pd.concat([riboswitch_gobp, gobp.rename('gobp')], axis=1)\n",
    "riboswitch_gobp = riboswitch_gobp[riboswitch_gobp.gobp.str.contains(\"GO\", na=False)]\n",
    "riboswitch_gobp[['unique_name', 'gobp']]"
   ]
  },
  {
   "cell_type": "code",
   "execution_count": null,
   "metadata": {},
   "outputs": [],
   "source": [
    "riboswitch_gobp[['unique_name', 'gobp']].drop_duplicates().to_csv(\n",
    "    edge_data_location + 'Rriboswitch-gobp.txt', header=None, sep='\\t', index=None)"
   ]
  },
  {
   "cell_type": "markdown",
   "metadata": {},
   "source": [
    "***\n",
    "### ribozyme-GO"
   ]
  },
  {
   "cell_type": "markdown",
   "metadata": {},
   "source": [
    "* [Ribocentre](https://www.ribocentre.org/) <br />\n",
    "Ribocentre is designed to contain comprehensive information of all natural ribozymes."
   ]
  },
  {
   "cell_type": "code",
   "execution_count": null,
   "metadata": {},
   "outputs": [],
   "source": [
    "data_downloader('https://www.ribocentre.org/38dffd70-0f9f-499b-b442-be2f6e91a156', unprocessed_data_location)"
   ]
  },
  {
   "cell_type": "code",
   "execution_count": null,
   "metadata": {},
   "outputs": [],
   "source": [
    "ribozyme_go = pd.read_excel(unprocessed_data_location + 'Ribocentre - Application.xlsx', header=1) \n",
    "ribozyme_go"
   ]
  },
  {
   "cell_type": "code",
   "execution_count": null,
   "metadata": {},
   "outputs": [],
   "source": [
    "ribozyme_go['go'] = ['','','GO_0015867', 'GO_0032363', 'GO_0010468', 'GO_0010468', 'GO_0010468', 'GO_2000232',\n",
    "                         'GO_0010468', 'GO_0010468', 'GO_0003743', '', '', '', '', '', '', '', 'GO_0010468',\n",
    "                         '', '', '', 'GO_0050790', '', '', '', '', '', 'GO_0050790', '', '', '', '', '']\n",
    "ribozyme_go.insert(1,'go',ribozyme_go.pop('go'))\n",
    "ribozyme_go = pd.merge(ribozyme_rfam_map.rename(columns={0:'ribozyme name'}),\n",
    "                       ribozyme_go, on='ribozyme name').drop(columns='ribozyme name')\n",
    "ribozyme_go"
   ]
  },
  {
   "cell_type": "code",
   "execution_count": null,
   "metadata": {},
   "outputs": [],
   "source": [
    "ribozyme_go[[1, 'go']].to_csv(edge_data_location + 'Rribozyme-GO.txt', header=None, sep='\\t', index=None)"
   ]
  },
  {
   "cell_type": "markdown",
   "metadata": {},
   "source": [
    "***\n",
    "### viral RNA-ribozyme"
   ]
  },
  {
   "cell_type": "markdown",
   "metadata": {},
   "source": [
    "* [ViroidDB](https://viroids.org/) <br />\n",
    "ViroidDB is the most comprehensive collection of viroid, satellite RNA, retrozyme, and deltavirus genome sequences available on the internet. "
   ]
  },
  {
   "cell_type": "code",
   "execution_count": null,
   "metadata": {},
   "outputs": [],
   "source": [
    "data_downloader('https://viroids.org/db/latest/all.json', unprocessed_data_location)"
   ]
  },
  {
   "cell_type": "code",
   "execution_count": null,
   "metadata": {},
   "outputs": [],
   "source": [
    "vRNA_ribozyme = pd.read_json(unprocessed_data_location + 'all.json').T \n",
    "\n",
    "# Extract ribozymes \n",
    "myre = re.compile(r\"\\n>> .*?\\n\")\n",
    "ribozyme = [myre.findall(i) for i in vRNA_ribozyme.ribozymes]\n",
    "ribozyme = [[j.replace(\"\\n\",'').replace(\">> \",'') for j in i] for i in ribozyme]\n",
    "\n",
    "# List of all possible ribozymes (useful for mapping)\n",
    "a = [i for j in ribozyme for i in j]\n",
    "set(a)"
   ]
  },
  {
   "cell_type": "code",
   "execution_count": null,
   "metadata": {},
   "outputs": [],
   "source": [
    "vRNA_ribozyme = pd.concat([vRNA_ribozyme.reset_index().drop(columns=['index']),\n",
    "                           pd.Series(ribozyme)], axis=1)\n",
    "vRNA_ribozyme = vRNA_ribozyme.explode(0)\n",
    "vRNA_ribozyme[0] = vRNA_ribozyme[0].str.split().str[0]\n",
    "vRNA_ribozyme.drop(columns=['bioSample','genus','family','identicalSeqs','genBankTitle','displayTitle','length',\n",
    "                            'sequenceType','nucCompleteness','genotype','segment','publications',\n",
    "                            'geoLocation','country','usa','submitters','releaseDate','isolate',\n",
    "                            'genus','family','sequence','structure','type','ribozymes','Cls_ID80',\n",
    "                            'Cls_ID70','Cls_ID85','Cls_ID75','Cls_ID95','Cls_ID90','sraAccession','submitters','species','host'],\n",
    "                   inplace=True)\n",
    "vRNA_ribozyme.insert(0,1,vRNA_ribozyme.pop(0))\n",
    "vRNA_ribozyme"
   ]
  },
  {
   "cell_type": "code",
   "execution_count": null,
   "metadata": {},
   "outputs": [],
   "source": [
    "vRNA_ribozyme = pd.merge(ribozyme_rfam_map,vRNA_ribozyme,left_on=0,right_on=1)\n",
    "vRNA_ribozyme.drop(columns=[0],inplace=True)\n",
    "vRNA_ribozyme.insert(1,'accession',vRNA_ribozyme.pop('accession'))\n",
    "vRNA_ribozyme"
   ]
  },
  {
   "cell_type": "code",
   "execution_count": null,
   "metadata": {},
   "outputs": [],
   "source": [
    "vRNA_ribozyme[['accession', '1_x']].drop_duplicates().to_csv(\n",
    "    edge_data_location + 'RviralRNA-ribozyme.txt', header=None, sep='\\t', index=None)"
   ]
  },
  {
   "cell_type": "markdown",
   "metadata": {},
   "source": [
    "***\n",
    "### circRNA-extracellular form"
   ]
  },
  {
   "cell_type": "markdown",
   "metadata": {},
   "source": [
    "* [miRandola](http://mirandola.iit.cnr.it/) <br /> miRandola is a comprehensive manually curated classification of different extracellular circulating non-coding RNA types."
   ]
  },
  {
   "cell_type": "code",
   "execution_count": null,
   "metadata": {},
   "outputs": [],
   "source": [
    "#http://mirandola.iit.cnr.it/download/miRandola_version_02_2017.txt"
   ]
  },
  {
   "cell_type": "code",
   "execution_count": null,
   "metadata": {},
   "outputs": [],
   "source": [
    "circRNA_ev = pd.read_csv(unprocessed_data_location+'miRandola_version_02_2017.txt', sep='\\t')\n",
    "circRNA_ev = circRNA_ev[(circRNA_ev['RNA_class'] == 'circRNA') & (circRNA_ev['organism'].str.contains('apiens'))]\n",
    "\n",
    "# circRNA in miRandola only circulates in blood\n",
    "circRNA_ev['gocc'] = 'GO_0072562'\n",
    "circRNA_ev = pd.merge(circRNA_ev, symbol_entrez_map.rename(columns={'0_x':'RNA'}), on='RNA')\n",
    "\n",
    "circRNA_ev['0_y'] = circRNA_ev['0_y'].astype(str) + '#' + circRNA_ev['RNA_class'].astype(str)\n",
    "circRNA_ev"
   ]
  },
  {
   "cell_type": "code",
   "execution_count": null,
   "metadata": {},
   "outputs": [],
   "source": [
    "circRNA_ev[['0_y','gocc']].to_csv(edge_data_location + 'RcircRNA-gocc.txt', header=None, sep='\\t', index=None)"
   ]
  },
  {
   "cell_type": "markdown",
   "metadata": {},
   "source": [
    "***\n",
    "### circRNA-miRNA"
   ]
  },
  {
   "cell_type": "markdown",
   "metadata": {},
   "source": [
    "* [SomamiR DB](https://compbio.uthsc.edu/SomamiR/) <br /> SomamiR is a database of cancer somatic mutations in microRNAs (miRNA) and their target sites that potentially alter the interactions between miRNAs and competing endogenous RNAs (ceRNA) including mRNAs, circular RNAs (circRNA) and long noncoding RNAs (lncRNA). It also provides an integrated platform for the functional analysis of these somatic mutations."
   ]
  },
  {
   "cell_type": "code",
   "execution_count": null,
   "metadata": {},
   "outputs": [],
   "source": [
    "data_downloader('https://compbio.uthsc.edu/SomamiR/download/circRNA_somatic_v2.0.txt.tar.gz',\n",
    "                unprocessed_data_location)"
   ]
  },
  {
   "cell_type": "code",
   "execution_count": null,
   "metadata": {},
   "outputs": [],
   "source": [
    "circRNA_miRNA = pd.read_csv(unprocessed_data_location + 'circRNA_somatic_v2.0.txt', sep=\"\\t\", header=None, skiprows=[0])\n",
    "circRNA_miRNA"
   ]
  },
  {
   "cell_type": "markdown",
   "metadata": {},
   "source": [
    "***\n",
    "* [miRNet](https://www.mirnet.ca/)"
   ]
  },
  {
   "cell_type": "code",
   "execution_count": null,
   "metadata": {},
   "outputs": [],
   "source": [
    "circRNA_miRNA2 = pd.read_csv(unprocessed_data_location + 'miRNet-mir-circRNA.csv')\n",
    "circRNA_miRNA2"
   ]
  },
  {
   "cell_type": "code",
   "execution_count": null,
   "metadata": {},
   "outputs": [],
   "source": [
    "circRNA_miRNA = pd.merge(circRNA_miRNA, circRNA_miRNA2, how='outer', left_on=[0, 4], right_on=['symbol', 'mir_id'])\n",
    "\n",
    "circRNA_miRNA[0].fillna(circRNA_miRNA['symbol'], inplace=True)\n",
    "circRNA_miRNA[4].fillna(circRNA_miRNA['mir_id'], inplace=True)\n",
    "circRNA_miRNA['mir_id'].fillna(circRNA_miRNA[4], inplace=True)\n",
    "circRNA_miRNA['symbol'].fillna(circRNA_miRNA[0], inplace=True)\n",
    "\n",
    "circRNA_miRNA = pd.merge(circRNA_miRNA, symbol_entrez_map.rename(columns={'0_x':0}), on=0)\n",
    "circRNA_miRNA = pd.merge(circRNA_miRNA, mirna_mirbase_map.rename(columns={1:4, 0:'a'}), on=4)\n",
    "circRNA_miRNA['0_y'] = circRNA_miRNA['0_y'].astype(str) + '#circRNA'\n",
    "\n",
    "circRNA_miRNA"
   ]
  },
  {
   "cell_type": "code",
   "execution_count": null,
   "metadata": {},
   "outputs": [],
   "source": [
    "circRNA_maturemiRNA = circRNA_miRNA[(circRNA_miRNA['a'].str.startswith('MIMAT'))]\n",
    "circRNA_premiRNA = circRNA_miRNA[(circRNA_miRNA['a'].str.startswith('MI')) &\n",
    "                                 (~circRNA_miRNA['a'].str.startswith('MIMAT'))]\n",
    "\n",
    "circRNA_maturemiRNA[['0_y','a']].drop_duplicates().to_csv(\n",
    "    edge_data_location + 'RcircRNA-miRNA.txt', header=None, sep='\\t', index=None)\n",
    "circRNA_premiRNA[['0_y','a']].drop_duplicates().to_csv(\n",
    "    edge_data_location + 'RcircRNA-premiRNA.txt', header=None, sep='\\t', index=None)"
   ]
  },
  {
   "cell_type": "markdown",
   "metadata": {},
   "source": [
    "***\n",
    "### Remove unprocessed raw data"
   ]
  },
  {
   "cell_type": "code",
   "execution_count": null,
   "metadata": {},
   "outputs": [],
   "source": [
    "#shutil.rmtree(unprocessed_data_location)"
   ]
  },
  {
   "cell_type": "markdown",
   "metadata": {},
   "source": [
    "***\n",
    "#### PheKnowLator works with at least 2 rows (we removed headers) per dataframe"
   ]
  },
  {
   "cell_type": "code",
   "execution_count": null,
   "metadata": {},
   "outputs": [],
   "source": [
    "nodes = pd.read_csv('../resources/edge_source_list.txt',sep=', ',header=None, engine='python')\n",
    "nodes[1] = '../'+nodes[1].astype(str)\n",
    "nodes\n",
    "\n",
    "for i in set(nodes[1]):\n",
    "    #Read every df\n",
    "    #print(i)\n",
    "    df = pd.read_csv(i,sep='\\t',header=None)\n",
    "    #If df has one single row, then double it\n",
    "    if len(df) == 1:\n",
    "        df.append(df).to_csv(i, header=None, sep='\\t', index=None)"
   ]
  },
  {
   "cell_type": "markdown",
   "metadata": {},
   "source": [
    "## Non-ontology data"
   ]
  },
  {
   "cell_type": "code",
   "execution_count": null,
   "metadata": {},
   "outputs": [],
   "source": [
    "nodes = pd.read_csv('../resources/edge_source_list.txt',sep=', ',header=None, engine='python')[:115]\n",
    "nodes[['A', 'B']] = nodes[0].str.split('-', 1, expand=True)\n",
    "a = set(nodes['A'])\n",
    "b = set(nodes['B'])\n",
    "print(a.union(b))"
   ]
  },
  {
   "cell_type": "code",
   "execution_count": null,
   "metadata": {},
   "outputs": [],
   "source": [
    "# Provided by PKL ecosystem\n",
    "data_downloader(processed_url+'subclass_construction_map.pkl', '../resources/construction_approach/')\n",
    "\n",
    "# Load data, print row count, and preview it\n",
    "nonO_data = pd.read_pickle(r'../resources/construction_approach/'+'subclass_construction_map.pkl')\n",
    "\n",
    "# For instance, ncbi IDs are mapped to appropriate SO Ontology entries\n",
    "list(nonO_data.items())[:5]"
   ]
  },
  {
   "cell_type": "markdown",
   "metadata": {},
   "source": [
    "***\n",
    "### miRNA sequences"
   ]
  },
  {
   "cell_type": "code",
   "execution_count": null,
   "metadata": {},
   "outputs": [],
   "source": [
    "mature_mirna = mirna_mirbase_map[mirna_mirbase_map[0].str.startswith('MIMAT')]\n",
    "mature_mirna['SO'] = [['SO_0000276']] * len(mature_mirna)\n",
    "\n",
    "pre_mirna = mirna_mirbase_map[~mirna_mirbase_map[0].str.startswith('MIMAT')]\n",
    "pre_mirna['SO'] = [['SO_0000647']] * len(pre_mirna)\n",
    "\n",
    "mirna_mirbase_map = pd.concat([mature_mirna, pre_mirna])\n",
    "\n",
    "mirna_nonO = mirna_mirbase_map.drop(1, axis=1).set_index(0).to_dict()\n",
    "nonO_data = {**nonO_data, **mirna_nonO['SO']}"
   ]
  },
  {
   "cell_type": "markdown",
   "metadata": {},
   "source": [
    "***\n",
    "### ASO sequences"
   ]
  },
  {
   "cell_type": "code",
   "execution_count": null,
   "metadata": {},
   "outputs": [],
   "source": [
    "ASOnonO_data = pd.read_csv('../resources/edge_data/RASO-mRNA.txt',sep='\\t',header=None)[0].drop_duplicates()\n",
    "\n",
    "ASOnonO_data = pd.DataFrame(ASOnonO_data)\n",
    "ASOnonO_data['SO'] = [['SO_0000644']] * len(ASOnonO_data)\n",
    "ASOnonO_data = ASOnonO_data.set_index(0).to_dict()\n",
    "nonO_data = {**nonO_data, **ASOnonO_data['SO']}"
   ]
  },
  {
   "cell_type": "markdown",
   "metadata": {},
   "source": [
    "***\n",
    "### ASO drugs"
   ]
  },
  {
   "cell_type": "code",
   "execution_count": null,
   "metadata": {},
   "outputs": [],
   "source": [
    "ASOdnonO_data = pd.read_csv('../resources/edge_data/RASOd-mRNA.txt',sep='\\t',header=None)[1].append(\n",
    "    pd.read_csv('../resources/edge_data/RASOd-disease.txt',sep='\\t',header=None)[0]).append(\n",
    "    pd.read_csv('../resources/edge_data/RASOd-protein11007.txt',sep='\\t',header=None)[0]).append(\n",
    "    pd.read_csv('../resources/edge_data/RASOd-protein10002.txt',sep='\\t',header=None)[0]).drop_duplicates()\n",
    "\n",
    "ASOdnonO_data = pd.DataFrame(ASOdnonO_data)\n",
    "ASOdnonO_data['SO'] = [['CHEBI_76720']] * len(ASOdnonO_data)\n",
    "ASOdnonO_data = ASOdnonO_data.set_index(0).to_dict()\n",
    "nonO_data = {**nonO_data, **ASOdnonO_data['SO']}"
   ]
  },
  {
   "cell_type": "markdown",
   "metadata": {},
   "source": [
    "***\n",
    "### Aptamer drugs"
   ]
  },
  {
   "cell_type": "code",
   "execution_count": null,
   "metadata": {},
   "outputs": [],
   "source": [
    "aptamerdnonO_data = pd.read_csv('../resources/edge_data/Raptamerd-protein.txt',sep='\\t',header=None)[0].append(\n",
    "    pd.read_csv('../resources/edge_data/Raptamerd-disease.txt',sep='\\t',header=None)[0]).drop_duplicates()\n",
    "\n",
    "aptamerdnonO_data = pd.DataFrame(aptamerdnonO_data)\n",
    "aptamerdnonO_data['SO'] = [['CHEBI_140490']] * len(aptamerdnonO_data)\n",
    "aptamerdnonO_data = aptamerdnonO_data.set_index(0).to_dict()\n",
    "nonO_data = {**nonO_data, **aptamerdnonO_data['SO']}"
   ]
  },
  {
   "cell_type": "markdown",
   "metadata": {},
   "source": [
    "***\n",
    "### Aptamer sequences"
   ]
  },
  {
   "cell_type": "code",
   "execution_count": null,
   "metadata": {},
   "outputs": [],
   "source": [
    "aptamernonO_data = pd.read_csv('../resources/edge_data/Raptamer-protein.txt',sep='\\t',header=None)[0].append(\n",
    "    pd.read_csv('../resources/edge_data/Raptamer-chemical.txt',sep='\\t',header=None)[0]).drop_duplicates()\n",
    "\n",
    "aptamernonO_data = pd.DataFrame(aptamernonO_data)\n",
    "aptamernonO_data['SO'] = [['CHEBI_140490']] * len(aptamernonO_data)\n",
    "aptamernonO_data = aptamernonO_data.set_index(0).to_dict()\n",
    "nonO_data = {**nonO_data, **aptamernonO_data['SO']}"
   ]
  },
  {
   "cell_type": "markdown",
   "metadata": {},
   "source": [
    "***\n",
    "### circRNA sequences"
   ]
  },
  {
   "cell_type": "code",
   "execution_count": null,
   "metadata": {},
   "outputs": [],
   "source": [
    "circRNAnonO_data = pd.read_csv('../resources/edge_data/RcircRNA-disease.txt',sep='\\t',header=None)[0].append(\n",
    "    pd.read_csv('../resources/edge_data/RcircRNA-gocc.txt',sep='\\t',header=None)[0]).append(\n",
    "    pd.read_csv('../resources/edge_data/RcircRNA-miRNA.txt',sep='\\t',header=None)[0]).append(\n",
    "    pd.read_csv('../resources/edge_data/RcircRNA-premiRNA.txt',sep='\\t',header=None)[0]).drop_duplicates()\n",
    "\n",
    "circRNAnonO_data = pd.DataFrame(circRNAnonO_data)\n",
    "circRNAnonO_data['SO'] = [['SO_0002291']] * len(circRNAnonO_data)\n",
    "circRNAnonO_data = circRNAnonO_data.set_index(0).to_dict()\n",
    "nonO_data = {**nonO_data, **circRNAnonO_data['SO']}"
   ]
  },
  {
   "cell_type": "markdown",
   "metadata": {},
   "source": [
    "***\n",
    "### gRNA sequences"
   ]
  },
  {
   "cell_type": "code",
   "execution_count": null,
   "metadata": {},
   "outputs": [],
   "source": [
    "gRNAnonO_data = pd.read_csv('../resources/edge_data/RgRNA-gene.txt',sep='\\t',header=None)[0].drop_duplicates().dropna()\n",
    "\n",
    "gRNAnonO_data = pd.DataFrame(gRNAnonO_data)\n",
    "gRNAnonO_data['SO'] = [['SO_0000602']] * len(gRNAnonO_data)\n",
    "gRNAnonO_data = gRNAnonO_data.set_index(0).to_dict()\n",
    "nonO_data = {**nonO_data, **gRNAnonO_data['SO']}"
   ]
  },
  {
   "cell_type": "markdown",
   "metadata": {},
   "source": [
    "***\n",
    "### lncRNA sequences"
   ]
  },
  {
   "cell_type": "code",
   "execution_count": null,
   "metadata": {},
   "outputs": [],
   "source": [
    "lncRNAnonO_data = pd.read_csv('../resources/edge_data/RmiRNA-lncRNA.txt',sep='\\t',header=None)[1].append(\n",
    "    pd.read_csv('../resources/edge_data/RpremiRNA-lncRNA.txt',sep='\\t',header=None)[1]).append(\n",
    "    pd.read_csv('../resources/edge_data/RsnoRNA-lncRNA.txt',sep='\\t',header=None)[1]).append(\n",
    "    pd.read_csv('../resources/edge_data/RlncRNA-gene.txt',sep='\\t',header=None)[0]).append(\n",
    "    pd.read_csv('../resources/edge_data/RlncRNA-disease.txt',sep='\\t',header=None)[0]).append(\n",
    "    pd.read_csv('../resources/edge_data/RlncRNA-chemical.txt',sep='\\t',header=None)[0]).append(\n",
    "    pd.read_csv('../resources/edge_data/RsmallProtein-lncRNA.txt',sep='\\t',header=None)[1]).append(\n",
    "    pd.read_csv('../resources/edge_data/RlncRNA-protein.txt',sep='\\t',header=None)[0]).append(\n",
    "    pd.read_csv('../resources/edge_data/RlncRNA-expression2245.txt',sep='\\t',header=None)[0]).append(\n",
    "    pd.read_csv('../resources/edge_data/RlncRNA-expression2246.txt',sep='\\t',header=None)[0]).append(\n",
    "    pd.read_csv('../resources/edge_data/RlncRNA-expression2291.txt',sep='\\t',header=None)[0]).append(\n",
    "    pd.read_csv('../resources/edge_data/RlncRNA-role.txt',sep='\\t',header=None)[1]).append(\n",
    "    pd.read_csv('../resources/edge_data/RlncRNA-gocc.txt',sep='\\t',header=None)[0]).append(\n",
    "    pd.read_csv('../resources/edge_data/RlncRNA-pw.txt',sep='\\t',header=None)[0]).append(\n",
    "    pd.read_csv('../resources/edge_data/RlncRNA-gobp.txt',sep='\\t',header=None)[0]).append(\n",
    "    pd.read_csv('../resources/edge_data/RlncRNA-mRNA.txt',sep='\\t',header=None)[0]).append(\n",
    "    pd.read_csv('../resources/edge_data/Hgene-lncRNA.txt',sep='\\t',header=None)[1]).append(\n",
    "    pd.read_csv('../resources/edge_data/HlncRNA-anatomy.txt',sep='\\t',header=None)[0]).append(\n",
    "    pd.read_csv('../resources/edge_data/HlncRNA-cell.txt',sep='\\t',header=None)[0]).drop_duplicates()\n",
    "\n",
    "lncRNAnonO_data = pd.DataFrame(lncRNAnonO_data)\n",
    "lncRNAnonO_data['SO'] = [['SO_0001877']] * len(lncRNAnonO_data)\n",
    "lncRNAnonO_data = lncRNAnonO_data.set_index(0).to_dict()\n",
    "nonO_data = {**nonO_data, **lncRNAnonO_data['SO']}"
   ]
  },
  {
   "cell_type": "markdown",
   "metadata": {},
   "source": [
    "***\n",
    "### mRNA vaccines sequences"
   ]
  },
  {
   "cell_type": "code",
   "execution_count": null,
   "metadata": {
    "scrolled": true
   },
   "outputs": [],
   "source": [
    "mRNAvnonO_data = pd.read_csv('../resources/edge_data/RmRNAv-disease.txt',sep='\\t',header=None)[0].drop_duplicates()\n",
    "\n",
    "mRNAvnonO_data = pd.DataFrame(mRNAvnonO_data)\n",
    "mRNAvnonO_data['SO'] = [['VO_0000186']] * len(mRNAvnonO_data)\n",
    "mRNAvnonO_data = mRNAvnonO_data.set_index(0).to_dict()\n",
    "nonO_data = {**nonO_data, **mRNAvnonO_data['SO']}"
   ]
  },
  {
   "cell_type": "markdown",
   "metadata": {},
   "source": [
    "***\n",
    "### scaRNA sequences"
   ]
  },
  {
   "cell_type": "code",
   "execution_count": null,
   "metadata": {
    "scrolled": true
   },
   "outputs": [],
   "source": [
    "scaRNAnonO_data = pd.read_csv('../resources/edge_data/RsnoRNA-scaRNA.txt',sep='\\t',header=None)[1].append(\n",
    "    pd.read_csv('../resources/edge_data/Hgene-scaRNA.txt',sep='\\t',header=None)[1]).append(\n",
    "    pd.read_csv('../resources/edge_data/HscaRNA-anatomy.txt',sep='\\t',header=None)[0]).append(\n",
    "    pd.read_csv('../resources/edge_data/HscaRNA-cell.txt',sep='\\t',header=None)[0]).drop_duplicates().dropna()\n",
    "\n",
    "scaRNAnonO_data = pd.DataFrame(scaRNAnonO_data)\n",
    "scaRNAnonO_data['SO'] = [['SO_0002095']] * len(scaRNAnonO_data)\n",
    "scaRNAnonO_data = scaRNAnonO_data.set_index(0).to_dict()\n",
    "nonO_data = {**nonO_data, **scaRNAnonO_data['SO']}"
   ]
  },
  {
   "cell_type": "markdown",
   "metadata": {},
   "source": [
    "***\n",
    "### scRNA sequences"
   ]
  },
  {
   "cell_type": "code",
   "execution_count": null,
   "metadata": {},
   "outputs": [],
   "source": [
    "scRNAnonO_data = pd.read_csv('../resources/edge_data/Hgene-scRNA.txt',sep='\\t',header=None)[1].append(\n",
    "    pd.read_csv('../resources/edge_data/HscRNA-anatomy.txt',sep='\\t',header=None)[0]).append(\n",
    "    pd.read_csv('../resources/edge_data/HscRNA-cell.txt',sep='\\t',header=None)[0]).drop_duplicates()\n",
    "\n",
    "scRNAnonO_data = pd.DataFrame(scRNAnonO_data)\n",
    "scRNAnonO_data['SO'] = [['SO_0000013']] * len(scRNAnonO_data)\n",
    "scRNAnonO_data = scRNAnonO_data.set_index(0).to_dict()\n",
    "nonO_data = {**nonO_data, **scRNAnonO_data['SO']}"
   ]
  },
  {
   "cell_type": "markdown",
   "metadata": {},
   "source": [
    "***\n",
    "### snRNA sequences"
   ]
  },
  {
   "cell_type": "code",
   "execution_count": null,
   "metadata": {},
   "outputs": [],
   "source": [
    "snRNAnonO_data = pd.read_csv('../resources/edge_data/RsnoRNA-snRNA.txt',sep='\\t',header=None)[1].append(\n",
    "    pd.read_csv('../resources/edge_data/Hgene-snRNA.txt',sep='\\t',header=None)[1]).append(\n",
    "    pd.read_csv('../resources/edge_data/HsnRNA-anatomy.txt',sep='\\t',header=None)[0]).append(\n",
    "    pd.read_csv('../resources/edge_data/HsnRNA-cell.txt',sep='\\t',header=None)[0]).drop_duplicates()\n",
    "\n",
    "snRNAnonO_data = pd.DataFrame(snRNAnonO_data)\n",
    "snRNAnonO_data['SO'] = [['SO_0000274']] * len(snRNAnonO_data)\n",
    "snRNAnonO_data = snRNAnonO_data.set_index(0).to_dict()\n",
    "nonO_data = {**nonO_data, **snRNAnonO_data['SO']}"
   ]
  },
  {
   "cell_type": "markdown",
   "metadata": {},
   "source": [
    "***\n",
    "### tRNA sequences"
   ]
  },
  {
   "cell_type": "code",
   "execution_count": null,
   "metadata": {},
   "outputs": [],
   "source": [
    "tRNAnonO_data = pd.read_csv('../resources/edge_data/RtsRNA-tRNA_tRFdb.txt',sep='\\t',header=None)[1].append(\n",
    "    pd.read_csv('../resources/edge_data/RtsRNA-tRNA_MINTbase.txt',sep='\\t',header=None)[1]).append(\n",
    "    pd.read_csv('../resources/edge_data/RtRNA-aminoacid.txt',sep='\\t',header=None)[0]).append(\n",
    "    pd.read_csv('../resources/edge_data/RsnoRNA-tRNA.txt',sep='\\t',header=None)[1]).drop_duplicates().dropna()\n",
    "\n",
    "tRNAnonO_data = pd.DataFrame(tRNAnonO_data)\n",
    "tRNAnonO_data['SO'] = [['SO_0000253']] * len(tRNAnonO_data)\n",
    "tRNAnonO_data = tRNAnonO_data.set_index(0).to_dict()\n",
    "nonO_data = {**nonO_data, **tRNAnonO_data['SO']}"
   ]
  },
  {
   "cell_type": "markdown",
   "metadata": {},
   "source": [
    "***\n",
    "### Retained intron sequences"
   ]
  },
  {
   "cell_type": "code",
   "execution_count": null,
   "metadata": {},
   "outputs": [],
   "source": [
    "rinonO_data = pd.read_csv('../resources/edge_data/RsnoRNA-retainedIntron.txt',sep='\\t',header=None)[1].append(\n",
    "    pd.read_csv('../resources/edge_data/Hgene-retained_intron.txt',sep='\\t',header=None)[1]).append(\n",
    "    pd.read_csv('../resources/edge_data/Hretained_intron-anatomy.txt',sep='\\t',header=None)[0]).append(\n",
    "    pd.read_csv('../resources/edge_data/Hretained_intron-cell.txt',sep='\\t',header=None)[0]).drop_duplicates()\n",
    "\n",
    "rinonO_data = pd.DataFrame(rinonO_data)\n",
    "rinonO_data['SO'] = [['SO_0000188']] * len(rinonO_data)\n",
    "rinonO_data = rinonO_data.set_index(0).to_dict()\n",
    "nonO_data = {**nonO_data, **rinonO_data['SO']}"
   ]
  },
  {
   "cell_type": "markdown",
   "metadata": {},
   "source": [
    "***\n",
    "### rRNA sequences"
   ]
  },
  {
   "cell_type": "code",
   "execution_count": null,
   "metadata": {},
   "outputs": [],
   "source": [
    "rRNAnonO_data = pd.read_csv('../resources/edge_data/RsnoRNA-rRNA.txt',sep='\\t',header=None)[1].append(\n",
    "    pd.read_csv('../resources/edge_data/Hgene-rRNA.txt',sep='\\t',header=None)[1]).drop_duplicates()\n",
    "\n",
    "rRNAnonO_data = pd.DataFrame(rRNAnonO_data)\n",
    "rRNAnonO_data['SO'] = [['SO_0000252']] * len(rRNAnonO_data)\n",
    "rRNAnonO_data = rRNAnonO_data.set_index(1).to_dict()\n",
    "nonO_data = {**nonO_data, **rRNAnonO_data['SO']}"
   ]
  },
  {
   "cell_type": "markdown",
   "metadata": {},
   "source": [
    "***\n",
    "### Pseudogene sequences"
   ]
  },
  {
   "cell_type": "code",
   "execution_count": null,
   "metadata": {},
   "outputs": [],
   "source": [
    "pseudononO_data = pd.read_csv('../resources/edge_data/RmiRNA-pseudogene.txt',sep='\\t',header=None)[1].append(\n",
    "    pd.read_csv('../resources/edge_data/RsnoRNA-pseudogene.txt',sep='\\t',header=None)[1]).append(\n",
    "    pd.read_csv('../resources/edge_data/Hgene-pseudo.txt',sep='\\t',header=None)[1]).append(\n",
    "    pd.read_csv('../resources/edge_data/Hpseudo-anatomy.txt',sep='\\t',header=None)[0]).append(\n",
    "    pd.read_csv('../resources/edge_data/Hpseudo-cell.txt',sep='\\t',header=None)[0]).drop_duplicates()\n",
    "\n",
    "pseudononO_data = pd.DataFrame(pseudononO_data)\n",
    "pseudononO_data['SO'] = [['SO_0000336']] * len(pseudononO_data)\n",
    "pseudononO_data = pseudononO_data.set_index(0).to_dict()\n",
    "nonO_data = {**nonO_data, **pseudononO_data['SO']}"
   ]
  },
  {
   "cell_type": "markdown",
   "metadata": {},
   "source": [
    "***\n",
    "### Mitochondrial tRNA sequences"
   ]
  },
  {
   "cell_type": "code",
   "execution_count": null,
   "metadata": {},
   "outputs": [],
   "source": [
    "mttRNAnonO_data = pd.read_csv('../resources/edge_data/Hgene-mt_tRNA.txt',sep='\\t',header=None)[1].drop_duplicates()\n",
    "\n",
    "mttRNAnonO_data = pd.DataFrame(mttRNAnonO_data)\n",
    "mttRNAnonO_data['SO'] = [['SO_0000253','SO_0001272']] * len(mttRNAnonO_data)\n",
    "mttRNAnonO_data = mttRNAnonO_data.set_index(1).to_dict()\n",
    "nonO_data = {**nonO_data, **mttRNAnonO_data['SO']}"
   ]
  },
  {
   "cell_type": "markdown",
   "metadata": {},
   "source": [
    "***\n",
    "### miscRNA sequences"
   ]
  },
  {
   "cell_type": "code",
   "execution_count": null,
   "metadata": {},
   "outputs": [],
   "source": [
    "unknownRNAnonO_data = pd.read_csv('../resources/edge_data/RsnoRNA-miscRNA.txt',sep='\\t',header=None)[1].append(\n",
    "    pd.read_csv('../resources/edge_data/Hgene-misc_RNA.txt',sep='\\t',header=None)[1]).append(\n",
    "    pd.read_csv('../resources/edge_data/Hmisc_RNA-anatomy.txt',sep='\\t',header=None)[0]).append(\n",
    "    pd.read_csv('../resources/edge_data/Hmisc_RNA-cell.txt',sep='\\t',header=None)[0]).drop_duplicates()\n",
    "\n",
    "unknownRNAnonO_data = pd.DataFrame(unknownRNAnonO_data)\n",
    "unknownRNAnonO_data['SO'] = [['SO_0000356']] * len(unknownRNAnonO_data)\n",
    "unknownRNAnonO_data = unknownRNAnonO_data.set_index(0).to_dict()\n",
    "nonO_data = {**nonO_data, **unknownRNAnonO_data['SO']}"
   ]
  },
  {
   "cell_type": "markdown",
   "metadata": {},
   "source": [
    "***\n",
    "### mRNA sequences"
   ]
  },
  {
   "cell_type": "code",
   "execution_count": null,
   "metadata": {},
   "outputs": [],
   "source": [
    "mRNAnonO_data = pd.read_csv('../resources/edge_data/RpremiRNA-mRNA.txt',sep='\\t',header=None)[1].append(\n",
    "    pd.read_csv('../resources/edge_data/RmiRNA-mRNA.txt',sep='\\t',header=None)[1]).append(\n",
    "    pd.read_csv('../resources/edge_data/RsnoRNA-mRNA.txt',sep='\\t',header=None)[1]).append(\n",
    "    pd.read_csv('../resources/edge_data/RASO-mRNA.txt',sep='\\t',header=None)[1]).append(\n",
    "    pd.read_csv('../resources/edge_data/RASOd-mRNA.txt',sep='\\t',header=None)[0]).append(\n",
    "    pd.read_csv('../resources/edge_data/RsiRNAd-mRNA.txt',sep='\\t',header=None)[1]).append(\n",
    "    pd.read_csv('../resources/edge_data/RsiRNA-mRNA.txt',sep='\\t',header=None)[1]).append(\n",
    "    pd.read_csv('../resources/edge_data/RshRNA-mRNA.txt',sep='\\t',header=None)[1]).append(\n",
    "    pd.read_csv('../resources/edge_data/RlncRNA-mRNA.txt',sep='\\t',header=None)[1]).append(\n",
    "    pd.read_csv('../resources/edge_data/Hgene-mRNA.txt',sep='\\t',header=None)[1]).append(\n",
    "    pd.read_csv('../resources/edge_data/HmRNA-protein.txt',sep='\\t',header=None)[0]).append(\n",
    "    pd.read_csv('../resources/edge_data/HmRNA-anatomy.txt',sep='\\t',header=None)[0]).append(\n",
    "    pd.read_csv('../resources/edge_data/HmRNA-cell.txt',sep='\\t',header=None)[0]).drop_duplicates()\n",
    "\n",
    "mRNAnonO_data = pd.DataFrame(mRNAnonO_data)\n",
    "mRNAnonO_data['SO'] = [['SO_0000234']] * len(mRNAnonO_data)\n",
    "mRNAnonO_data = mRNAnonO_data.set_index(0).to_dict()\n",
    "nonO_data = {**nonO_data, **mRNAnonO_data['SO']}"
   ]
  },
  {
   "cell_type": "markdown",
   "metadata": {},
   "source": [
    "***\n",
    "### Bacterial strain taxids"
   ]
  },
  {
   "cell_type": "code",
   "execution_count": null,
   "metadata": {},
   "outputs": [],
   "source": [
    "bactSnonO_data = pd.read_csv('../resources/edge_data/Rriboswitch-bactStrain.txt',sep='\\t',header=None)[1].drop_duplicates()\n",
    "\n",
    "bactSnonO_data = pd.DataFrame(bactSnonO_data)\n",
    "bactSnonO_data['SO'] = [['NCBITaxon_2']] * len(bactSnonO_data) # NCBITaxon_2 ∈ VO\n",
    "bactSnonO_data = bactSnonO_data.set_index(1).to_dict()\n",
    "nonO_data = {**nonO_data, **bactSnonO_data['SO']}"
   ]
  },
  {
   "cell_type": "markdown",
   "metadata": {},
   "source": [
    "***\n",
    "### TEC sequences"
   ]
  },
  {
   "cell_type": "code",
   "execution_count": null,
   "metadata": {},
   "outputs": [],
   "source": [
    "TECnonO_data = pd.read_csv('../resources/edge_data/Hgene-TEC.txt',sep='\\t',header=None)[1].append(\n",
    "    pd.read_csv('../resources/edge_data/HTEC-anatomy.txt',sep='\\t',header=None)[0]).append(\n",
    "    pd.read_csv('../resources/edge_data/HTEC-cell.txt',sep='\\t',header=None)[0]).drop_duplicates()\n",
    "\n",
    "TECnonO_data = pd.DataFrame(TECnonO_data)\n",
    "TECnonO_data['SO'] = [['SO_0002139']] * len(TECnonO_data)\n",
    "TECnonO_data = TECnonO_data.set_index(0).to_dict()\n",
    "nonO_data = {**nonO_data, **TECnonO_data['SO']}"
   ]
  },
  {
   "cell_type": "markdown",
   "metadata": {},
   "source": [
    "***\n",
    "### tsRNA sequences"
   ]
  },
  {
   "cell_type": "code",
   "execution_count": null,
   "metadata": {},
   "outputs": [],
   "source": [
    "tsRNAnonO_data = pd.read_csv('../resources/edge_data/RtsRNA-miRNA.txt',sep='\\t',header=None)[0].append(\n",
    "    pd.read_csv('../resources/edge_data/RtsRNA-disease.txt',sep='\\t',header=None)[0]).append(\n",
    "    pd.read_csv('../resources/edge_data/RtsRNA-tRNA_tRFdb.txt',sep='\\t',header=None)[0]).append(\n",
    "    pd.read_csv('../resources/edge_data/RtsRNA-tRNA_MINTbase.txt',sep='\\t',header=None)[0]).drop_duplicates()\n",
    "\n",
    "tsRNAnonO_data = pd.DataFrame(tsRNAnonO_data)\n",
    "tsRNAnonO_data['SO'] = [['SO_0000253']] * len(tsRNAnonO_data)\n",
    "tsRNAnonO_data = tsRNAnonO_data.set_index(0).to_dict()\n",
    "nonO_data = {**nonO_data, **tsRNAnonO_data['SO']}"
   ]
  },
  {
   "cell_type": "markdown",
   "metadata": {},
   "source": [
    "***\n",
    "### Riboswitch sequences"
   ]
  },
  {
   "cell_type": "code",
   "execution_count": null,
   "metadata": {},
   "outputs": [],
   "source": [
    "riboswitchnonO_data = pd.read_csv('../resources/edge_data/Rriboswitch-protein.txt',sep='\\t',header=None)[0].append(\n",
    "    pd.read_csv('../resources/edge_data/Rriboswitch-bactStrain.txt',sep='\\t',header=None)[0]).append(\n",
    "    pd.read_csv('../resources/edge_data/Rriboswitch-gobp.txt',sep='\\t',header=None)[0]).drop_duplicates()\n",
    "\n",
    "riboswitchnonO_data = pd.DataFrame(riboswitchnonO_data)\n",
    "riboswitchnonO_data['SO'] = [['SO_0000035']] * len(riboswitchnonO_data)\n",
    "riboswitchnonO_data = riboswitchnonO_data.set_index(0).to_dict()\n",
    "nonO_data = {**nonO_data, **riboswitchnonO_data['SO']}"
   ]
  },
  {
   "cell_type": "markdown",
   "metadata": {},
   "source": [
    "***\n",
    "### Ribozyme sequences"
   ]
  },
  {
   "cell_type": "code",
   "execution_count": null,
   "metadata": {},
   "outputs": [],
   "source": [
    "ribozymenonO_data = pd.read_csv('../resources/edge_data/Rribozyme-GO.txt',sep='\\t',header=None)[0].append(\n",
    "    pd.read_csv('../resources/edge_data/RviralRNA-ribozyme.txt',sep='\\t',header=None)[1]).drop_duplicates()\n",
    "\n",
    "ribozymenonO_data = pd.DataFrame(ribozymenonO_data)\n",
    "ribozymenonO_data['SO'] = [['SO_0000374']] * len(ribozymenonO_data)\n",
    "ribozymenonO_data = ribozymenonO_data.set_index(0).to_dict()\n",
    "nonO_data = {**nonO_data, **ribozymenonO_data['SO']}"
   ]
  },
  {
   "cell_type": "markdown",
   "metadata": {},
   "source": [
    "***\n",
    "### Viral RNA sequences"
   ]
  },
  {
   "cell_type": "code",
   "execution_count": null,
   "metadata": {},
   "outputs": [],
   "source": [
    "vRNA_ribozyme.moleculeType.unique()"
   ]
  },
  {
   "cell_type": "code",
   "execution_count": null,
   "metadata": {},
   "outputs": [],
   "source": [
    "ssRNA = vRNA_ribozyme[['accession', 'moleculeType']].loc[vRNA_ribozyme['moleculeType'] == 'ssRNA']\n",
    "ssRNA['SO'] = [['SO_0001199']] * len(ssRNA)\n",
    "ssRNA"
   ]
  },
  {
   "cell_type": "code",
   "execution_count": null,
   "metadata": {},
   "outputs": [],
   "source": [
    "ssRNAnonO_data = ssRNA.set_index('accession').to_dict()\n",
    "nonO_data = {**nonO_data, **ssRNAnonO_data['SO']}"
   ]
  },
  {
   "cell_type": "code",
   "execution_count": null,
   "metadata": {},
   "outputs": [],
   "source": [
    "ssRNAm = vRNA_ribozyme[['accession', 'moleculeType']].loc[vRNA_ribozyme['moleculeType'] == 'ssRNA(-)']\n",
    "ssRNAm['SO'] = [['SO_0001200']] * len(ssRNAm)\n",
    "ssRNAmnonO_data = ssRNAm.set_index('accession').to_dict()\n",
    "nonO_data = {**nonO_data, **ssRNAmnonO_data['SO']}\n",
    "    \n",
    "dsRNA = vRNA_ribozyme[['accession', 'moleculeType']].loc[vRNA_ribozyme['moleculeType'] == 'RNA']\n",
    "dsRNA['SO'] = [['SO_0001169']] * len(dsRNA)\n",
    "dsRNAnonO_data = dsRNA.set_index('accession').to_dict()\n",
    "nonO_data = {**nonO_data, **dsRNAnonO_data['SO']}\n",
    "    \n",
    "viralRNA = vRNA_ribozyme[['accession', 'moleculeType']].loc[vRNA_ribozyme['moleculeType'].isna()]\n",
    "viralRNA['SO'] = [['SO_0001041']] * len(viralRNA)\n",
    "viralRNAnonO_data = viralRNA.set_index('accession').to_dict()\n",
    "nonO_data = {**nonO_data, **viralRNAnonO_data['SO']}"
   ]
  },
  {
   "cell_type": "markdown",
   "metadata": {},
   "source": [
    "***\n",
    "### siRNA sequences"
   ]
  },
  {
   "cell_type": "code",
   "execution_count": null,
   "metadata": {},
   "outputs": [],
   "source": [
    "siRNAnonO_data = pd.read_csv('../resources/edge_data/RsiRNA-mRNA.txt',sep='\\t',header=None)[0].drop_duplicates()\n",
    "\n",
    "siRNAnonO_data = pd.DataFrame(siRNAnonO_data)\n",
    "siRNAnonO_data['SO'] = [['SO_0000646']] * len(siRNAnonO_data)\n",
    "siRNAnonO_data = siRNAnonO_data.set_index(0).to_dict()\n",
    "nonO_data = {**nonO_data, **siRNAnonO_data['SO']}"
   ]
  },
  {
   "cell_type": "markdown",
   "metadata": {},
   "source": [
    "***\n",
    "### shRNA sequences"
   ]
  },
  {
   "cell_type": "code",
   "execution_count": null,
   "metadata": {},
   "outputs": [],
   "source": [
    "shRNAnonO_data = pd.read_csv('../resources/edge_data/RshRNA-mRNA.txt',sep='\\t',header=None)[0].drop_duplicates()\n",
    "\n",
    "shRNAnonO_data = pd.DataFrame(shRNAnonO_data)\n",
    "shRNAnonO_data['SO'] = [['SO_0002031']] * len(shRNAnonO_data)\n",
    "shRNAnonO_data = shRNAnonO_data.set_index(0).to_dict()\n",
    "nonO_data = {**nonO_data, **shRNAnonO_data['SO']}"
   ]
  },
  {
   "cell_type": "markdown",
   "metadata": {},
   "source": [
    "***\n",
    "### snoRNA sequences"
   ]
  },
  {
   "cell_type": "code",
   "execution_count": null,
   "metadata": {},
   "outputs": [],
   "source": [
    "snoRNAnonO_data = pd.read_csv('../resources/edge_data/RsnoRNA-gene.txt',sep='\\t',header=None)[0].append(\n",
    "    pd.read_csv('../resources/edge_data/RsnoRNA-premiRNA.txt',sep='\\t',header=None)[0]).append(\n",
    "    pd.read_csv('../resources/edge_data/RsnoRNA-miRNA.txt',sep='\\t',header=None)[0]).append(\n",
    "    pd.read_csv('../resources/edge_data/RsnoRNA-snoRNA.txt',sep='\\t',header=None)[0]).append(\n",
    "    pd.read_csv('../resources/edge_data/RsnoRNA-snoRNA.txt',sep='\\t',header=None)[1]).append(\n",
    "    pd.read_csv('../resources/edge_data/RsnoRNA-lncRNA.txt',sep='\\t',header=None)[0]).append(\n",
    "    pd.read_csv('../resources/edge_data/RsnoRNA-snRNA.txt',sep='\\t',header=None)[0]).append(\n",
    "    pd.read_csv('../resources/edge_data/RsnoRNA-rRNA.txt',sep='\\t',header=None)[0]).append(\n",
    "    pd.read_csv('../resources/edge_data/RsnoRNA-mRNA.txt',sep='\\t',header=None)[0]).append(\n",
    "    pd.read_csv('../resources/edge_data/RsnoRNA-tRNA.txt',sep='\\t',header=None)[0]).append(\n",
    "    pd.read_csv('../resources/edge_data/RsnoRNA-retainedIntron.txt',sep='\\t',header=None)[0]).append(\n",
    "    pd.read_csv('../resources/edge_data/RsnoRNA-miscRNA.txt',sep='\\t',header=None)[0]).append(\n",
    "    pd.read_csv('../resources/edge_data/RsnoRNA-scaRNA.txt',sep='\\t',header=None)[0]).append(\n",
    "    pd.read_csv('../resources/edge_data/RsnoRNA-pseudogene.txt',sep='\\t',header=None)[0]).append(\n",
    "    pd.read_csv('../resources/edge_data/Hgene-snoRNA.txt',sep='\\t',header=None)[1]).append(\n",
    "    pd.read_csv('../resources/edge_data/HsnoRNA-anatomy.txt',sep='\\t',header=None)[0]).append(\n",
    "    pd.read_csv('../resources/edge_data/HsnoRNA-cell.txt',sep='\\t',header=None)[0]).drop_duplicates()\n",
    "\n",
    "snoRNAnonO_data = pd.DataFrame(snoRNAnonO_data)\n",
    "snoRNAnonO_data['SO'] = [['SO_0000275']] * len(snoRNAnonO_data)\n",
    "snoRNAnonO_data = snoRNAnonO_data.set_index(0).to_dict()\n",
    "nonO_data = {**nonO_data, **snoRNAnonO_data['SO']}"
   ]
  },
  {
   "cell_type": "markdown",
   "metadata": {},
   "source": [
    "***\n",
    "### Small proteins"
   ]
  },
  {
   "cell_type": "code",
   "execution_count": null,
   "metadata": {},
   "outputs": [],
   "source": [
    "spnonO_data = pd.read_csv('../resources/edge_data/RsmallProtein-lncRNA.txt',sep='\\t',header=None)[0].drop_duplicates()\n",
    "\n",
    "spnonO_data = pd.DataFrame(spnonO_data)\n",
    "spnonO_data['SO'] = [['SO_0000104']] * len(spnonO_data)\n",
    "spnonO_data = spnonO_data.set_index(0).to_dict()\n",
    "nonO_data = {**nonO_data, **spnonO_data['SO']}"
   ]
  },
  {
   "cell_type": "markdown",
   "metadata": {},
   "source": [
    "***\n",
    "### siRNA drugs"
   ]
  },
  {
   "cell_type": "code",
   "execution_count": null,
   "metadata": {},
   "outputs": [],
   "source": [
    "siRNAdnonO_data = pd.read_csv('../resources/edge_data/RsiRNAd-mRNA.txt',sep='\\t',header=None)[0].append(\n",
    "    pd.read_csv('../resources/edge_data/RsiRNAd-disease.txt',sep='\\t',header=None)[0]).drop_duplicates()\n",
    "\n",
    "siRNAdnonO_data = pd.DataFrame(siRNAdnonO_data)\n",
    "siRNAdnonO_data['SO'] = [['SO_0002031', 'CHEBI_23888']] * len(siRNAdnonO_data)\n",
    "siRNAdnonO_data = siRNAdnonO_data.set_index(0).to_dict()\n",
    "nonO_data = {**nonO_data, **siRNAdnonO_data['SO']}"
   ]
  },
  {
   "cell_type": "markdown",
   "metadata": {},
   "source": [
    "***\n",
    "### Biological roles in ChEBI"
   ]
  },
  {
   "cell_type": "code",
   "execution_count": null,
   "metadata": {},
   "outputs": [],
   "source": [
    "bio_role = pd.DataFrame(columns = [\"role\", \"ChEBI\"])\n",
    "bio_role['role'] = ['General', 'Tumor-Suppressor-Gene', 'Oncogene']\n",
    "bio_role['ChEBI'] = [['CHEBI_24432']] * 3\n",
    "bio_role"
   ]
  },
  {
   "cell_type": "code",
   "execution_count": null,
   "metadata": {},
   "outputs": [],
   "source": [
    "role_nonO_data = bio_role.set_index('role').to_dict()\n",
    "nonO_data = {**nonO_data, **role_nonO_data['ChEBI']}"
   ]
  },
  {
   "cell_type": "markdown",
   "metadata": {},
   "source": [
    "***\n",
    "### Epigenetic modifications in GO"
   ]
  },
  {
   "cell_type": "code",
   "execution_count": null,
   "metadata": {},
   "outputs": [],
   "source": [
    "#miRNA_epiMod.epi_modification.unique()"
   ]
  },
  {
   "cell_type": "code",
   "execution_count": null,
   "metadata": {},
   "outputs": [],
   "source": [
    "epiMod = pd.DataFrame(columns = [\"mod\", \"GO\"])\n",
    "epiMod['mod'] = ['H3K4me3', 'H3K9me2', 'H3K9me3', 'H3K27me3', 'H3K4me', 'H3K79me2', 'H3K4me2',\n",
    "                 'H3K9me', 'H3K27me', 'H3K36me2', 'H3R17me2']\n",
    "epiMod['GO'] = [['GO_0016571']] * len(epiMod['mod'])\n",
    "epiMod"
   ]
  },
  {
   "cell_type": "code",
   "execution_count": null,
   "metadata": {},
   "outputs": [],
   "source": [
    "go_nonO_data = epiMod.set_index('mod').to_dict()\n",
    "nonO_data = {**nonO_data, **go_nonO_data['GO']}"
   ]
  },
  {
   "cell_type": "code",
   "execution_count": null,
   "metadata": {},
   "outputs": [],
   "source": [
    "epiMod = pd.DataFrame(columns = [\"mod\", \"GO\"])\n",
    "epiMod['mod'] = ['H3S10P']\n",
    "epiMod['GO'] = [['GO_0006468']]\n",
    "epiMod"
   ]
  },
  {
   "cell_type": "code",
   "execution_count": null,
   "metadata": {},
   "outputs": [],
   "source": [
    "go_nonO_data = epiMod.set_index('mod').to_dict()\n",
    "nonO_data = {**nonO_data, **go_nonO_data['GO']}"
   ]
  },
  {
   "cell_type": "code",
   "execution_count": null,
   "metadata": {},
   "outputs": [],
   "source": [
    "epiMod = pd.DataFrame(columns = [\"mod\", \"GO\"])\n",
    "epiMod['mod'] = ['H3ac', 'H4ac', 'H3K9ac', 'H5ac', 'H3K4ac', 'H3K14ac']\n",
    "epiMod['GO'] = [['GO_0016573']] * len(epiMod['mod'])\n",
    "epiMod"
   ]
  },
  {
   "cell_type": "code",
   "execution_count": null,
   "metadata": {},
   "outputs": [],
   "source": [
    "go_nonO_data = epiMod.set_index('mod').to_dict()\n",
    "nonO_data = {**nonO_data, **go_nonO_data['GO']}"
   ]
  },
  {
   "cell_type": "code",
   "execution_count": null,
   "metadata": {},
   "outputs": [],
   "source": [
    "with open('../resources/construction_approach/'+'subclass_construction_map.pkl', 'wb') as handle:\n",
    "    pickle.dump(nonO_data, handle, protocol=pickle.HIGHEST_PROTOCOL)"
   ]
  },
  {
   "cell_type": "code",
   "execution_count": null,
   "metadata": {},
   "outputs": [],
   "source": [
    "# DO NOT RUN, this cell is only intended to CHECK everything's OK\n",
    "nonO_data = pd.read_pickle(r'../resources/construction_approach/'+'subclass_construction_map.pkl')\n",
    "\n",
    "nonO_data.items()"
   ]
  }
 ],
 "metadata": {
  "kernelspec": {
   "display_name": "Python 3",
   "language": "python",
   "name": "python3"
  },
  "language_info": {
   "codemirror_mode": {
    "name": "ipython",
    "version": 3
   },
   "file_extension": ".py",
   "mimetype": "text/x-python",
   "name": "python",
   "nbconvert_exporter": "python",
   "pygments_lexer": "ipython3",
   "version": "3.10.6"
  },
  "latex_envs": {
   "LaTeX_envs_menu_present": true,
   "autoclose": false,
   "autocomplete": true,
   "bibliofile": "biblio.bib",
   "cite_by": "apalike",
   "current_citInitial": 1,
   "eqLabelWithNumbers": true,
   "eqNumInitial": 1,
   "hotkeys": {
    "equation": "Ctrl-E",
    "itemize": "Ctrl-I"
   },
   "labels_anchors": false,
   "latex_user_defs": false,
   "report_style_numbering": false,
   "user_envs_cfg": false
  },
  "pycharm": {
   "stem_cell": {
    "cell_type": "raw",
    "metadata": {
     "collapsed": false
    },
    "source": []
   }
  }
 },
 "nbformat": 4,
 "nbformat_minor": 1
}
