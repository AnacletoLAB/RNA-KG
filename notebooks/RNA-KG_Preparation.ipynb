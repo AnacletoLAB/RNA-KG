{
 "cells": [
  {
   "cell_type": "markdown",
   "metadata": {
    "collapsed": true
   },
   "source": [
    "# <p style=\"text-align: center;\">RNA Knowledge Graph Build Data Preparation</p>\n",
    "    \n",
    "***\n",
    "***\n",
    "\n",
    "**Authors:** [ECavalleri](https://mail.google.com/mail/u/0/?view=cm&fs=1&tf=1&to=emanuele.cavalleri@studenti.unimi.it), [TJCallahan](https://mail.google.com/mail/u/0/?view=cm&fs=1&tf=1&to=callahantiff@gmail.com), [MMesiti](https://mail.google.com/mail/u/0/?view=cm&fs=1&tf=1&to=marco.mesiti@unimi.it), [GValentini](https://mail.google.com/mail/u/0/?view=cm&fs=1&tf=1&to=giorgio.valentini@unimi.it)\n",
    "\n",
    "**GitHub Repositories:** [RNA-KG](https://github.com/AnacletoLAB/RNA-KG/), [PheKnowLator](https://github.com/callahantiff/PheKnowLator/)  \n",
    "<!--- **Release:** **[v2.0.0](https://github.com/callahantiff/PheKnowLator/wiki/v2.0.0)** --->\n",
    "  \n",
    "<br>  \n",
    "  \n",
    "**Purpose:** This notebook serves as a script to download, process, map, and clean data in order to build edges for RNA-KG. For more information on the data sources utilize within this script, please see the [PheKnowLator Data Sources](https://github.com/callahantiff/PheKnowLator/wiki/v2-Data-Sources) Wiki page.\n",
    "\n",
    "<br>\n",
    "\n",
    "**Assumptions:**   \n",
    "- Edge data downloads ➞ `./resources/edge_data`  \n",
    "- Ontologies ➞ `./resources/ontologies`    \n",
    "- Processed data write location ➞ `./resources/processed_data`  \n",
    "\n",
    "<br>\n",
    "\n",
    "**Dependencies:**   \n",
    "- **Scripts**: This notebook utilizes several helper functions, which are stored in the [`data_utils.py`](https://github.com/callahantiff/PheKnowLator/blob/master/pkt_kg/utils/data_utils.py) and [`kg_utils.py`](https://github.com/callahantiff/PheKnowLator/blob/master/pkt_kg/utils/kg_utils.py) scripts. \n",
    "_____\n",
    "***"
   ]
  },
  {
   "cell_type": "markdown",
   "metadata": {},
   "source": [
    "## Table of Contents\n",
    "***\n",
    "\n",
    "### [Download and process Ontologies](#create-ontologies)\n",
    "\n",
    "### [Download and create Identifier Maps ](#create-identifier-maps)   \n",
    "\n",
    "### [Download and process Edge Datasets](#create-edges)  \n",
    "\n",
    "____"
   ]
  },
  {
   "cell_type": "markdown",
   "metadata": {},
   "source": [
    "## Set-Up Environment\n",
    "_____"
   ]
  },
  {
   "cell_type": "code",
   "execution_count": null,
   "metadata": {},
   "outputs": [],
   "source": [
    "%%capture\n",
    "import sys\n",
    "!{sys.executable} -m pip install -r requirements.txt\n",
    "sys.path.append('../')"
   ]
  },
  {
   "cell_type": "code",
   "execution_count": null,
   "metadata": {},
   "outputs": [],
   "source": [
    "# import needed libraries\n",
    "import datetime\n",
    "import glob\n",
    "import itertools\n",
    "import networkx\n",
    "import numpy\n",
    "import os\n",
    "import pickle\n",
    "import re\n",
    "import requests\n",
    "import tarfile\n",
    "import shutil\n",
    "import pandas as pd\n",
    "import re\n",
    "\n",
    "from collections import Counter\n",
    "from functools import reduce\n",
    "from rdflib import Graph, Namespace, URIRef, BNode, Literal\n",
    "from rdflib.namespace import OWL, RDF, RDFS\n",
    "from reactome2py import content\n",
    "from tqdm import tqdm\n",
    "from typing import Dict\n",
    "\n",
    "from pkt_kg.utils import * \n",
    "from builds.ontology_cleaning import *\n",
    "\n",
    "from typing import Tuple"
   ]
  },
  {
   "cell_type": "markdown",
   "metadata": {},
   "source": [
    "#### Define Global Variables"
   ]
  },
  {
   "cell_type": "code",
   "execution_count": null,
   "metadata": {},
   "outputs": [],
   "source": [
    "# directory to store resources\n",
    "resource_data_location = '../resources/'\n",
    "\n",
    "# directory to use for unprocessed data\n",
    "unprocessed_data_location = '../resources/processed_data/unprocessed_data/'\n",
    "\n",
    "# directory to use for processed data\n",
    "processed_data_location = '../resources/processed_data/'\n",
    "\n",
    "# directory to write ontology data to\n",
    "ontology_data_location = '../resources/ontologies/'\n",
    "\n",
    "# directory to write edges data to\n",
    "edge_data_location = '../resources/edge_data/'\n",
    "\n",
    "# processed data url \n",
    "processed_url = 'https://storage.googleapis.com/pheknowlator/current_build/data/processed_data/'\n",
    "\n",
    "# original data url \n",
    "original_url = 'https://storage.googleapis.com/pheknowlator/current_build/data/original_data/'\n",
    "\n",
    "# owltools location\n",
    "owltools_location = '../pkt_kg/libs/owltools'"
   ]
  },
  {
   "cell_type": "code",
   "execution_count": null,
   "metadata": {},
   "outputs": [],
   "source": [
    "for rel_txt in ['INVERSE_RELATIONS.txt', 'RELATIONS_LABELS.txt']:\n",
    "    data_downloader(processed_url+rel_txt, '../resources/relations_data/')\n",
    "    \n",
    "# Load data, print row count, and preview it\n",
    "ro_data_label = pd.read_csv('../resources/relations_data/'+'RELATIONS_LABELS.txt', header=0, delimiter='\\t')\n",
    "\n",
    "print('There are {edge_count} RO Relations and Labels'.format(edge_count=len(ro_data_label)))\n",
    "ro_data_label.head(n=5)"
   ]
  },
  {
   "cell_type": "markdown",
   "metadata": {},
   "source": [
    "***\n",
    "***\n",
    "## DOWNLOAD AND PROCESS ONTOLOGIES  <a class=\"anchor\" id=\"create-ontologies\"></a>\n",
    "***\n",
    "***"
   ]
  },
  {
   "cell_type": "code",
   "execution_count": null,
   "metadata": {},
   "outputs": [],
   "source": [
    "def download_ontology(ontology):\n",
    "    if not os.path.exists(ontology_data_location + ontology+'_with_imports.owl'):\n",
    "        command = '{} {} --merge-import-closure -o {}'\n",
    "        os.system(command.format(owltools_location, 'http://purl.obolibrary.org/obo/'+ontology+'.owl',\n",
    "                                 ontology_data_location + ontology + '_with_imports.owl'))\n",
    "\n",
    "onto_list = ['ro', 'chebi', 'pr', 'mondo', 'go', 'pw']\n",
    "\n",
    "for ontology in onto_list:\n",
    "    download_ontology(ontology)"
   ]
  },
  {
   "cell_type": "markdown",
   "metadata": {},
   "source": [
    "***\n",
    "***\n",
    "## DOWNLOAD AND CREATE MAPPING DATASETS  <a class=\"anchor\" id=\"create-identifier-maps\"></a>\n",
    "***\n",
    "***"
   ]
  },
  {
   "cell_type": "markdown",
   "metadata": {},
   "source": [
    "### Mappings provided by PheKnowLator ecosystem"
   ]
  },
  {
   "cell_type": "code",
   "execution_count": null,
   "metadata": {},
   "outputs": [],
   "source": [
    "map_list = ['DISEASE_MONDO_MAP.txt', 'ENSEMBL_GENE_ENTREZ_GENE_MAP.txt',\n",
    "            'ENSEMBL_TRANSCRIPT_PROTEIN_ONTOLOGY_MAP.txt',\n",
    "            'ENTREZ_GENE_PRO_ONTOLOGY_MAP.txt', 'GENE_SYMBOL_ENSEMBL_TRANSCRIPT_MAP.txt',\n",
    "            'MESH_CHEBI_MAP.txt', 'ENTREZ_GENE_ENSEMBL_TRANSCRIPT_MAP.txt', 'STRING_PRO_ONTOLOGY_MAP.txt',\n",
    "            'UNIPROT_ACCESSION_PRO_ONTOLOGY_MAP.txt']\n",
    "\n",
    "for map_txt in map_list:\n",
    "    data_downloader(processed_url+map_txt, processed_data_location)"
   ]
  },
  {
   "cell_type": "markdown",
   "metadata": {},
   "source": [
    "***\n",
    "### New mappings"
   ]
  },
  {
   "cell_type": "markdown",
   "metadata": {},
   "source": [
    "***\n",
    "### Chemical description from ChEBI - ChEBI mapping\n",
    "\n",
    "\n",
    "**Purpose:** To map Chemical description from ChEBI to ChEBI identifiers.\n",
    "\n",
    "**Output:** None, this mapping will be used only internally."
   ]
  },
  {
   "cell_type": "code",
   "execution_count": null,
   "metadata": {},
   "outputs": [],
   "source": [
    "# Get dbxrefs for all ontology classes' label\n",
    "def gets_ontology_class_label(graph: Graph) -> Tuple:\n",
    "    dbx_uris: Dict = dict()\n",
    "    dbx = [x for x in graph if 'label' in str(x[1]).lower() if isinstance(x[0], URIRef)]\n",
    "    for x in dbx:\n",
    "        if str(x[2]).lower() in dbx_uris.keys(): dbx_uris[str(x[2]).lower()].append(str(x[0]))\n",
    "        else: dbx_uris[str(x[2]).lower()] = [str(x[0])]\n",
    "    dbx_type = {str(x[2]).lower(): 'DbXref' for x in dbx}\n",
    "\n",
    "    ex_uris: Dict = dict()\n",
    "    ex = [x for x in graph if 'exactmatch' in str(x[1]).lower() if isinstance([0], URIRef)]\n",
    "    for x in ex:\n",
    "        if str(x[2]).lower() in ex_uris.keys(): ex_uris[str(x[2]).lower()].append(str(x[0]))\n",
    "        else: ex_uris[str(x[2]).lower()] = [str(x[0])]\n",
    "    ex_type = {str(x[2]).lower(): 'ExactMatch' for x in ex}\n",
    "\n",
    "    return {**dbx_uris, **ex_uris}, {**dbx_type, **ex_type}"
   ]
  },
  {
   "cell_type": "code",
   "execution_count": null,
   "metadata": {},
   "outputs": [],
   "source": [
    "chebi_graph = Graph().parse(ontology_data_location + 'chebi_with_imports.owl')\n",
    "\n",
    "chebi_label = gets_ontology_class_label(chebi_graph)[0]\n",
    "chebi_dict = {str(k): {str(i).split('/')[-1] for i in v} for k, v in chebi_label.items()}\n",
    "list({**chebi_dict}.items())[:5]\n",
    "\n",
    "with open(unprocessed_data_location + 'DESC_CHEBI_MAP.txt', 'w') as outfile:\n",
    "    for k, v in {**chebi_dict}.items():\n",
    "        outfile.write(str(k) + '\\t' + str(v).replace('{','').replace('\\'','').replace('}','') + '\\n')\n",
    "        \n",
    "desc_chebi_map = pd.read_csv(unprocessed_data_location+'DESC_CHEBI_MAP.txt', header=None, delimiter='\\t')\n",
    "desc_chebi_map"
   ]
  },
  {
   "cell_type": "markdown",
   "metadata": {},
   "source": [
    "***\n",
    "### miRNA - miRBase mapping <a class=\"anchor\" id=\"ensemblgene-entrezgene\"></a>\n",
    "\n",
    "\n",
    "**Purpose:** To map miRNA and stem-loop miRNA to miRBase identifiers.\n",
    "\n",
    "**Output:** `MIRNA_MIRBASE_MAP.txt`\n",
    "\n",
    "Provided by [miRBase](https://www.mirbase.org/)."
   ]
  },
  {
   "cell_type": "code",
   "execution_count": null,
   "metadata": {},
   "outputs": [],
   "source": [
    "data_downloader('https://www.mirbase.org/ftp/CURRENT/aliases.txt.zip', unprocessed_data_location)\n",
    " \n",
    "mirna_mirbase_map = pd.read_csv(unprocessed_data_location + 'aliases.txt', sep=\"\\t\", header=None)\n",
    "mirna_mirbase_map[1] = mirna_mirbase_map[1].str[:-1]\n",
    "mirna_mirbase_map"
   ]
  },
  {
   "cell_type": "code",
   "execution_count": null,
   "metadata": {},
   "outputs": [],
   "source": [
    "mirna_mirbase_map[1] = mirna_mirbase_map[1].str.split(';')\n",
    "mirna_mirbase_map = mirna_mirbase_map.explode(1)\n",
    "mirna_mirbase_map[[1,0]]"
   ]
  },
  {
   "cell_type": "code",
   "execution_count": null,
   "metadata": {},
   "outputs": [],
   "source": [
    "mirna_mirbase_map[[1,0]].to_csv(processed_data_location + 'MIRNA_MIRBASE_MAP.txt', header=None, sep='\\t', index=None)"
   ]
  },
  {
   "cell_type": "markdown",
   "metadata": {},
   "source": [
    "***\n",
    "### Disease Ontology (DO) - MONDO mapping <a class=\"anchor\" id=\"ensemblgene-entrezgene\"></a>\n",
    "\n",
    "\n",
    "**Purpose:** To map DO identifiers to MONDO identifiers.\n",
    "\n",
    "**Output:** `DISEASE_DOID_MONDO_MAP.txt`"
   ]
  },
  {
   "cell_type": "code",
   "execution_count": null,
   "metadata": {},
   "outputs": [],
   "source": [
    "mondo_graph = Graph().parse(ontology_data_location + 'mondo_with_imports.owl')\n",
    "\n",
    "mondo_dbxref = gets_ontology_class_dbxrefs(mondo_graph)[0]\n",
    "\n",
    "# Fix DOIDs (substitute : with _)\n",
    "mondo_dict = {str(k).replace(':','_').upper(): {str(i).split('/')[-1].replace(':','_') for i in v} for k, v in mondo_dbxref.items() if 'doid' in str(k)}\n",
    "list({**mondo_dict}.items())[:5]"
   ]
  },
  {
   "cell_type": "code",
   "execution_count": null,
   "metadata": {},
   "outputs": [],
   "source": [
    "with open(processed_data_location + 'DOID_MONDO_MAP.txt', 'w') as outfile:\n",
    "    for k, v in mondo_dict.items():\n",
    "        outfile.write(str(k) + '\\t' + str(v).replace('{','').replace('\\'','').replace('}','') + '\\n')"
   ]
  },
  {
   "cell_type": "markdown",
   "metadata": {},
   "source": [
    "***\n",
    "### Disease description from DO - DO mapping <a class=\"anchor\" id=\"ensemblgene-entrezgene\"></a>\n",
    "\n",
    "\n",
    "**Purpose:** To map Disease descriptions from DO to DO identifiers.\n",
    "\n",
    "**Output:** None, this mapping will be used only internally.\n",
    "\n",
    "Provided by [mir2Disease](http://watson.compbio.iupui.edu:8080/miR2Disease/)."
   ]
  },
  {
   "cell_type": "code",
   "execution_count": null,
   "metadata": {},
   "outputs": [],
   "source": [
    "data_downloader('http://watson.compbio.iupui.edu:8080/miR2Disease/download/diseaseList.txt', unprocessed_data_location)\n",
    " \n",
    "desc_do_map = pd.read_csv(unprocessed_data_location + 'diseaseList.txt', sep=\"\\t\")\n",
    "desc_do_map.columns = ['desc', 'doid']\n",
    "desc_do_map['desc'] = desc_do_map['desc'].str.lower()\n",
    "desc_do_map['doid'] = desc_do_map['doid'].str.upper().str.replace(':', '_')\n",
    "desc_do_map"
   ]
  },
  {
   "cell_type": "markdown",
   "metadata": {},
   "source": [
    "***\n",
    "### TCGA - MONDO mapping <a class=\"anchor\" id=\"ensemblgene-entrezgene\"></a>\n",
    "\n",
    "\n",
    "**Purpose:** To manually map the 32 TCGA cancer types to MONDO ontology.\n",
    "\n",
    "**Output:** `TCGA_MONDO_MAP.txt`"
   ]
  },
  {
   "cell_type": "code",
   "execution_count": null,
   "metadata": {},
   "outputs": [],
   "source": [
    "cancer_mondo_map = pd.DataFrame(data=[['ACC','MONDO_0004971'],\n",
    "                                 ['BLCA','MONDO_0004163'],\n",
    "                                 ['BRCA','MONDO_0006256'],\n",
    "                                 ['CESC','MONDO_0005131'],\n",
    "                                 ['CHOL','MONDO_0019087'],\n",
    "                                 ['COAD','MONDO_0002271'],\n",
    "                                 ['DLBC','MONDO_0018905'],\n",
    "                                 ['ESCA','MONDO_0019086'],\n",
    "                                 ['GBM','MONDO_0018177'],\n",
    "                                 ['HNSC','MONDO_0010150'],\n",
    "                                 ['KICH','MONDO_0017885'],\n",
    "                                 ['KIRC','MONDO_0005005'],\n",
    "                                 ['KIRP','MONDO_0017884'],\n",
    "                                 ['LGG','MONDO_0005499'],\n",
    "                                 ['LIHC','MONDO_0007256'],\n",
    "                                 ['LUAD','MONDO_0005061'],\n",
    "                                 ['LUSC','MONDO_0005097'],\n",
    "                                 ['MESO','MONDO_0005065'],\n",
    "                                 ['OV','MONDO_0006046'],\n",
    "                                 ['PAAD','MONDO_0006047'],\n",
    "                                 ['PCPG','MONDO_0035540'],\n",
    "                                 ['PRAD','MONDO_0005082'],\n",
    "                                 ['READ','MONDO_0002169'],\n",
    "                                 ['SARC','MONDO_0005089'],\n",
    "                                 ['SKCM','MONDO_0005012'],\n",
    "                                 ['STAD','MONDO_0005036'],\n",
    "                                 ['TGCT','MONDO_0010108'],\n",
    "                                 ['THCA','MONDO_0015075'],\n",
    "                                 ['THYM','MONDO_0006456'],\n",
    "                                 ['UCEC','MONDO_0000553'],\n",
    "                                 ['UCS','MONDO_0006485'],\n",
    "                                 ['UVM','MONDO_0006486']\n",
    "                                 ])\n",
    "\n",
    "cancer_mondo_map.to_csv(processed_data_location + 'TCGA_MONDO_MAP.txt', header=None, sep='\\t', index=None)"
   ]
  },
  {
   "cell_type": "markdown",
   "metadata": {},
   "source": [
    "***\n",
    "### Gene symbol - PRO mapping <a class=\"anchor\" id=\"ensemblgene-entrezgene\"></a>\n",
    "\n",
    "\n",
    "**Purpose:** To map gene symbols to PRO identifiers.\n",
    "\n",
    "**Output:** `GENE_SYMBOL_PRO_ONTOLOGY_MAP.txt`"
   ]
  },
  {
   "cell_type": "code",
   "execution_count": null,
   "metadata": {},
   "outputs": [],
   "source": [
    "symbol_ensembl_map = pd.read_csv(processed_data_location + 'GENE_SYMBOL_ENSEMBL_TRANSCRIPT_MAP.txt', sep=\"\\t\", header=None)\n",
    "symbol_ensembl_map[[0,1]]"
   ]
  },
  {
   "cell_type": "code",
   "execution_count": null,
   "metadata": {},
   "outputs": [],
   "source": [
    "ensembl_pro_map = pd.read_csv(processed_data_location + 'ENSEMBL_TRANSCRIPT_PROTEIN_ONTOLOGY_MAP.txt', sep=\"\\t\", header=None)\n",
    "ensembl_pro_map[[1,0]]"
   ]
  },
  {
   "cell_type": "code",
   "execution_count": null,
   "metadata": {},
   "outputs": [],
   "source": [
    "symbol_to_pro = pd.merge(symbol_ensembl_map[[0,1]], ensembl_pro_map[[1,0]], left_on=[1], right_on=[0])\n",
    "symbol_to_pro[['0_x', '1_y']].drop_duplicates()"
   ]
  },
  {
   "cell_type": "code",
   "execution_count": null,
   "metadata": {},
   "outputs": [],
   "source": [
    "symbol_to_pro[['0_x', '1_y']].drop_duplicates().to_csv(processed_data_location+\n",
    "                                                       'GENE_SYMBOL_PRO_ONTOLOGY_MAP.txt', header=None,\n",
    "                                                       sep='\\t', index=None)"
   ]
  },
  {
   "cell_type": "markdown",
   "metadata": {},
   "source": [
    "***\n",
    "### PRO label - PRO mapping\n",
    "\n",
    "\n",
    "**Purpose:** To map PRO labels to PRO identifiers.\n",
    "\n",
    "**Output:** None, this mapping will be used only internally."
   ]
  },
  {
   "cell_type": "code",
   "execution_count": null,
   "metadata": {},
   "outputs": [],
   "source": [
    "pro_graph = Graph().parse(ontology_data_location + 'pr_with_imports.owl')\n",
    "\n",
    "pro_label = gets_ontology_class_label(pro_graph)[0]\n",
    "pro_dict = {str(k): {str(i).split('/')[-1] for i in v} for k, v in pro_label.items()}\n",
    "list({**pro_dict}.items())[:5]\n",
    "\n",
    "with open(unprocessed_data_location + 'DESC_PRO_MAP.txt', 'w') as outfile:\n",
    "    for k, v in {**pro_dict}.items():\n",
    "        outfile.write(str(k) + '\\t' + str(v).replace('{','').replace('\\'','').replace('}','') + '\\n')\n",
    "        \n",
    "desc_pro_map = pd.read_csv(unprocessed_data_location+'DESC_PRO_MAP.txt', header=None, delimiter='\\t', dtype=object)\n",
    "desc_pro_map[0] = desc_pro_map[0].str.replace(\"human\", '')\n",
    "desc_pro_map[0] = desc_pro_map[0].str.replace(\"(\", '')\n",
    "desc_pro_map[0] = desc_pro_map[0].str.replace(\")\", '')\n",
    "desc_pro_map[0] = desc_pro_map[0].str.replace(\",(.*)\", '')\n",
    "desc_pro_map"
   ]
  },
  {
   "cell_type": "markdown",
   "metadata": {},
   "source": [
    "***\n",
    "### Gene symbol - ENTREZ mapping <a class=\"anchor\" id=\"ensemblgene-entrezgene\"></a>\n",
    "\n",
    "\n",
    "**Purpose:** To map gene symbols to ENTREZ identifiers.\n",
    "\n",
    "**Output:** `GENE_SYMBOL_ENTREZ_ID_MAP.txt`"
   ]
  },
  {
   "cell_type": "code",
   "execution_count": null,
   "metadata": {},
   "outputs": [],
   "source": [
    "entrez_enst_map = pd.read_csv(processed_data_location + 'ENTREZ_GENE_ENSEMBL_TRANSCRIPT_MAP.txt', sep=\"\\t\", header=None)\n",
    "entrez_enst_map"
   ]
  },
  {
   "cell_type": "code",
   "execution_count": null,
   "metadata": {},
   "outputs": [],
   "source": [
    "symbol_entrez_map = pd.merge(symbol_ensembl_map, entrez_enst_map, on=[1])\n",
    "symbol_entrez_map[['0_x','0_y']].drop_duplicates()"
   ]
  },
  {
   "cell_type": "code",
   "execution_count": null,
   "metadata": {},
   "outputs": [],
   "source": [
    "symbol_entrez_map[['0_x','0_y']].drop_duplicates().to_csv(processed_data_location+\n",
    "                                                      'GENE_SYMBOL_ENTREZ_ID_MAP.txt',\n",
    "                                                      header=None, sep='\\t', index=None)"
   ]
  },
  {
   "cell_type": "markdown",
   "metadata": {},
   "source": [
    "***\n",
    "### Stem-loop miRNA - ENTREZ mapping <a class=\"anchor\" id=\"ensemblgene-entrezgene\"></a>\n",
    "\n",
    "\n",
    "**Purpose:** To map miRNA to ENTREZ identifiers.\n",
    "\n",
    "**Output:** `MIRNA_SYMBOL_ENTREZ_MAP.txt`"
   ]
  },
  {
   "cell_type": "code",
   "execution_count": null,
   "metadata": {},
   "outputs": [],
   "source": [
    "miRNA_symbol_ensembl_map = symbol_ensembl_map[symbol_ensembl_map[3]=='miRNA'][[0,1]]\n",
    "miRNA_symbol_ensembl_map[2] = 'hsa-mir'+miRNA_symbol_ensembl_map[0].str.replace(r'MIR', '-').str.lower()\n",
    "miRNA_symbol_entrez_map = pd.merge(miRNA_symbol_ensembl_map[[2,0]], symbol_entrez_map, left_on=[0],\n",
    "                                   right_on=['0_x'])[[2,'0_y']]\n",
    "miRNA_symbol_entrez_map"
   ]
  },
  {
   "cell_type": "code",
   "execution_count": null,
   "metadata": {},
   "outputs": [],
   "source": [
    "miRNA_symbol_entrez_map.to_csv(processed_data_location+'MIRNA_SYMBOL_ENTREZ_MAP.txt',\n",
    "                               header=None, sep='\\t', index=None)"
   ]
  },
  {
   "cell_type": "markdown",
   "metadata": {},
   "source": [
    "***\n",
    "### tsRNA - tRNA mapping \n",
    "\n",
    "**Purpose:** To map tsRNA to tRNA identifiers.\n",
    "\n",
    "**Output:** `tRNA_tsRNA_MAP.txt`\n",
    "\n",
    "Provided by [tsRFun](https://rna.sysu.edu.cn/tsRFun/index.php)."
   ]
  },
  {
   "cell_type": "code",
   "execution_count": null,
   "metadata": {},
   "outputs": [],
   "source": [
    "data_downloader('https://rna.sysu.edu.cn/tsRFun/download/newID_20210202.txt', unprocessed_data_location)\n",
    "\n",
    "tsRNA_tRF_map = pd.read_csv(unprocessed_data_location + 'newID_20210202.txt', sep=\"\\t\")\n",
    "tsRNA_tRF_map "
   ]
  },
  {
   "cell_type": "code",
   "execution_count": null,
   "metadata": {},
   "outputs": [],
   "source": [
    "tsRNA_tRF_map = tsRNA_tRF_map[['tRNA','tsRNAid']]\n",
    "tsRNA_tRF_map"
   ]
  },
  {
   "cell_type": "code",
   "execution_count": null,
   "metadata": {},
   "outputs": [],
   "source": [
    "tsRNA_tRF_map.to_csv(processed_data_location + 'tRNA_tsRNA_MAP.txt', header=None, sep='\\t', index=None)"
   ]
  },
  {
   "cell_type": "markdown",
   "metadata": {},
   "source": [
    "***\n",
    "### ribozyme - RFAM mapping \n",
    "\n",
    "**Purpose:** To map ribozyme to RFSM identifiers.\n",
    "\n",
    "**Output:** `ribozyme_RFAM_MAP.txt`"
   ]
  },
  {
   "cell_type": "code",
   "execution_count": null,
   "metadata": {},
   "outputs": [],
   "source": [
    "ribozyme_rfam_map = pd.DataFrame(data=[['LC ribozyme','family/RF00011'],\n",
    "                                 ['hammerhead ribozyme','clan/CL00010'],\n",
    "                                 ['glmS ribozyme','family/RF00234'],\n",
    "                                 ['HDV-F-prausnitzii','family/RF02682'],\n",
    "                                 ['HDV ribozyme','family/RF00094'],\n",
    "                                 ['HDV_ribozyme','family/RF00094'],\n",
    "                                 ['Hairpin','family/RF00173'],\n",
    "                                 ['Hammerhead_1','clan/CL00010'],\n",
    "                                 ['Hammerhead_HH9','clan/CL00010'],\n",
    "                                 ['Hammerhead_3','clan/CL00010'],\n",
    "                                 ['Hammerhead_HH10','clan/CL00010'],\n",
    "                                 ['Hammerhead_II','clan/CL00010'],\n",
    "                                 ['Pistol','family/RF02679'],\n",
    "                                 ['Pistol ribozyme','family/RF02679'],\n",
    "                                 ['twister ribozyme','clan/CL00120'],\n",
    "                                 ['Twister-P5','clan/CL00120'],\n",
    "                                 ['Twister-P3','clan/CL00120'],\n",
    "                                 ['RNAse P','family/RF00009']#,\n",
    "                                 #['VS ribozyme',''] absent in RFAM\n",
    "                                 ])\n",
    "\n",
    "ribozyme_rfam_map.to_csv(processed_data_location + 'ribozyme_RFAM_MAP.txt', header=None, sep='\\t', index=None)"
   ]
  },
  {
   "cell_type": "markdown",
   "metadata": {},
   "source": [
    "***\n",
    "***\n",
    "## DOWNLOAD AND PROCESS EDGE DATASETS  <a class=\"anchor\" id=\"create-edges\"></a>\n",
    "***\n",
    "***"
   ]
  },
  {
   "cell_type": "markdown",
   "metadata": {},
   "source": [
    "## Edges already provided by PheKnowLator ecosystem"
   ]
  },
  {
   "cell_type": "code",
   "execution_count": null,
   "metadata": {},
   "outputs": [],
   "source": [
    "for edge in ['curated_gene_disease_associations.tsv', 'CTD_chemicals_diseases.tsv', 'CTD_chem_gene_ixns.tsv',\n",
    "             'COMBINED.DEFAULT_NETWORKS.BP_COMBINING.txt', '9606.protein.links.v11.0.txt',\n",
    "             'CTD_chem_gene_ixns.tsv', 'ChEBI2Reactome_All_Levels.txt', 'CTD_chem_go_enriched.tsv',\n",
    "             'CTD_genes_pathways.tsv', 'UniProt2Reactome_All_Levels.txt', 'goa_human.gaf',\n",
    "             'gene_association.reactome', 'CTD_chem_go_enriched.tsv', 'goa_human.gaf']:\n",
    "    data_downloader(original_url+edge, edge_data_location)"
   ]
  },
  {
   "cell_type": "code",
   "execution_count": null,
   "metadata": {},
   "outputs": [],
   "source": [
    "# Rename file adding relationship's identifier\n",
    "os.rename(edge_data_location+'curated_gene_disease_associations.tsv',\n",
    "          edge_data_location+'gene-disease.tsv')\n",
    "\n",
    "os.rename(edge_data_location+'CTD_chemicals_diseases.tsv',\n",
    "          edge_data_location+'chemical-disease.tsv')\n",
    "\n",
    "os.rename(edge_data_location+'CTD_chem_gene_ixns.tsv',\n",
    "          edge_data_location+'chemical-gene.tsv')\n",
    "\n",
    "os.rename(edge_data_location+'COMBINED.DEFAULT_NETWORKS.BP_COMBINING.txt',\n",
    "          edge_data_location+'gene-gene.txt')\n",
    "\n",
    "os.rename(edge_data_location+'9606.protein.links.v11.0.txt',\n",
    "          edge_data_location+'protein-protein.txt')\n",
    "\n",
    "os.rename(edge_data_location+'ChEBI2Reactome_All_Levels.txt',\n",
    "          edge_data_location+'chemical-pathway.txt')\n",
    "\n",
    "os.rename(edge_data_location+'CTD_chem_go_enriched.tsv',\n",
    "          edge_data_location+'chemical-gobp.tsv')\n",
    "\n",
    "os.rename(edge_data_location+'CTD_genes_pathways.tsv',\n",
    "          edge_data_location+'gene-pathway.tsv')\n",
    "\n",
    "os.rename(edge_data_location+'UniProt2Reactome_All_Levels.txt',\n",
    "          edge_data_location+'protein-pathway.tsv')\n",
    "\n",
    "os.rename(edge_data_location+'goa_human.gaf',\n",
    "          edge_data_location+'protein-gobp.gaf')\n",
    "\n",
    "os.rename(edge_data_location+'gene_association.reactome',\n",
    "          edge_data_location+'pathway-gocc.reactome')\n",
    "\n",
    "os.rename(edge_data_location+'CTD_chem_go_enriched.tsv',\n",
    "          edge_data_location+'chemical-gocc.tsv')\n",
    "\n",
    "os.rename(edge_data_location+'goa_human.gaf',\n",
    "          edge_data_location+'protein-gocc.gaf')"
   ]
  },
  {
   "cell_type": "markdown",
   "metadata": {},
   "source": [
    "***\n",
    "## New edges"
   ]
  },
  {
   "cell_type": "markdown",
   "metadata": {},
   "source": [
    "***\n",
    "### gene-miRNA"
   ]
  },
  {
   "cell_type": "markdown",
   "metadata": {},
   "source": [
    "* [TarBase](https://dianalab.e-ce.uth.gr/html/diana/web/index.php?r=tarbasev8/index) <br />  DIANA-TarBase v8 is a reference database devoted to the indexing of experimentally supported microRNA (miRNA) targets."
   ]
  },
  {
   "cell_type": "code",
   "execution_count": null,
   "metadata": {},
   "outputs": [],
   "source": [
    "data_downloader('https://dianalab.e-ce.uth.gr/downloads/tarbase_v8_data.tar.gz', unprocessed_data_location)\n",
    "\n",
    "with tarfile.TarFile(unprocessed_data_location+'tarbase_v8_data.tar', 'r') as tar_ref:\n",
    "    tar_ref.extractall(unprocessed_data_location)\n",
    "    \n",
    "gene_miRNA = pd.read_csv(unprocessed_data_location + 'TarBase_v8_download.txt', sep=\"\\t\",\n",
    "                         dtype={\"cell_line\": \"string\"})  \n",
    "\n",
    "# For the time being, we keep only Homo sapiens rows\n",
    "gene_miRNA = gene_miRNA[gene_miRNA['species'].str.contains(\"Homo sapiens\")]\n",
    "\n",
    "gene_miRNA"
   ]
  },
  {
   "cell_type": "code",
   "execution_count": null,
   "metadata": {},
   "outputs": [],
   "source": [
    "gene_miRNA['geneId'] = gene_miRNA['geneId'].str.replace(\"\\(hsa\\)\", '')\n",
    "gene_miRNA['geneName'] = gene_miRNA['geneName'].str.replace(\"\\(hsa\\)\", '')\n",
    "\n",
    "gene_miRNA.to_csv(edge_data_location + 'gene-miRNA.txt', header=None, sep='\\t', index=None)"
   ]
  },
  {
   "cell_type": "markdown",
   "metadata": {},
   "source": [
    "***\n",
    "### miRNA-disease"
   ]
  },
  {
   "cell_type": "markdown",
   "metadata": {},
   "source": [
    "* [miR2Disease](http://watson.compbio.iupui.edu:8080/miR2Disease/) <br />miR2Disease is a manually curated database that aims at providing a comprehensive resource of miRNA deregulation in various human diseases."
   ]
  },
  {
   "cell_type": "code",
   "execution_count": null,
   "metadata": {},
   "outputs": [],
   "source": [
    "data_downloader('http://watson.compbio.iupui.edu:8080/miR2Disease/download/AllEntries.txt', unprocessed_data_location)\n",
    "\n",
    "miRNA_disease = pd.read_csv(unprocessed_data_location + 'AllEntries.txt', sep=\"\\t\", header=None)  \n",
    "miRNA_disease"
   ]
  },
  {
   "cell_type": "code",
   "execution_count": null,
   "metadata": {},
   "outputs": [],
   "source": [
    "miRNA_disease[1] = miRNA_disease[1].str.lower()\n",
    "\n",
    "miRNA_disease.columns = ['mirna', 'desc', 2,3,4,5]\n",
    "\n",
    "miRNA_disease = pd.merge(desc_do_map, miRNA_disease, on=['desc'])\n",
    "miRNA_disease.to_csv(edge_data_location + 'miRNA-disease.txt', header=None, sep='\\t', index=None)"
   ]
  },
  {
   "cell_type": "markdown",
   "metadata": {},
   "source": [
    "***\n",
    "### tsRNA-miRNA"
   ]
  },
  {
   "cell_type": "markdown",
   "metadata": {},
   "source": [
    "* [tsRFun](https://rna.sysu.edu.cn/tsRFun/index.php) <br /> tsRFun is a platform for tsRNA functions by High-throughput Small RNA-Seq and CLIP-Seq Data."
   ]
  },
  {
   "cell_type": "code",
   "execution_count": null,
   "metadata": {},
   "outputs": [],
   "source": [
    "data_downloader('https://rna.sysu.edu.cn/tsRFun/download/tsRNetwork/all_hypgm_df.txt', unprocessed_data_location)\n",
    "\n",
    "tsRNA_miRNA = pd.read_csv(unprocessed_data_location + 'all_hypgm_df.txt', sep=\"\\t\")  \n",
    "tsRNA_miRNA"
   ]
  },
  {
   "cell_type": "code",
   "execution_count": null,
   "metadata": {},
   "outputs": [],
   "source": [
    "# We consider pairs with FDR < 0.01\n",
    "tsRNA_miRNA = tsRNA_miRNA[tsRNA_miRNA['adj.p'] < 0.01]\n",
    "# We also remove unadjusted p-val column since we have FDR\n",
    "tsRNA_miRNA.drop('p', axis=1, inplace=True)\n",
    "\n",
    "tsRNA_miRNA.to_csv(edge_data_location + 'tsRNA-miRNA.txt', header=None, sep='\\t', index=None)"
   ]
  },
  {
   "cell_type": "markdown",
   "metadata": {},
   "source": [
    "***\n",
    "### tsRNA-disease"
   ]
  },
  {
   "cell_type": "markdown",
   "metadata": {},
   "source": [
    "* [tsRFun](https://rna.sysu.edu.cn/tsRFun/index.php)"
   ]
  },
  {
   "cell_type": "code",
   "execution_count": null,
   "metadata": {},
   "outputs": [],
   "source": [
    "data_downloader('https://rna.sysu.edu.cn/tsRFun/download/tsRinCancer/allCancer_0.txt', unprocessed_data_location)\n",
    "\n",
    "tsRNA_disease = pd.read_csv(unprocessed_data_location + 'allCancer_0.txt', sep=\"\\t\", index_col=0)  \n",
    "tsRNA_disease"
   ]
  },
  {
   "cell_type": "code",
   "execution_count": null,
   "metadata": {},
   "outputs": [],
   "source": [
    "# We keep only log2FC columns\n",
    "tsRNA_disease = tsRNA_disease.loc[:, tsRNA_disease.columns.str.endswith('_log2FC')]\n",
    "tsRNA_disease.columns = tsRNA_disease.columns.str.replace(r'_log2FC$', '')\n",
    "\n",
    "# tsRNA has a relationship with cancer iff |log2FC| >= 1\n",
    "tsRNA_disease[abs(tsRNA_disease) < 1] = 0\n",
    "tsRNA_disease"
   ]
  },
  {
   "cell_type": "code",
   "execution_count": null,
   "metadata": {},
   "outputs": [],
   "source": [
    "# We want a dataframe with 2 columns, tRF and associated cancer;\n",
    "# this is an example with ACC \n",
    "tRF=[]\n",
    "log2FC=[]\n",
    "for index, row in tsRNA_disease.iterrows():\n",
    "     if row['ACC'] != 0:\n",
    "            tRF.append(index)\n",
    "            log2FC.append(row['ACC'])\n",
    "            \n",
    "df_acc = pd.DataFrame (tRF, columns = ['tRF'])\n",
    "df_acc['dis'] = 'ACC'\n",
    "df_acc['log2FC'] = log2FC\n",
    "df_acc"
   ]
  },
  {
   "cell_type": "code",
   "execution_count": null,
   "metadata": {},
   "outputs": [],
   "source": [
    "# Empty dataframe to store processed rows\n",
    "trRF_disease = pd.DataFrame(columns = [\"tRF\", \"dis\"])\n",
    "\n",
    "log2FC=[]\n",
    "for cancer in tsRNA_disease.columns:    \n",
    "    tRF=[]\n",
    "    for index, row in tsRNA_disease.iterrows():\n",
    "         if row[cancer] != 0:\n",
    "            tRF.append(index)\n",
    "            log2FC.append(row[cancer])\n",
    "    \n",
    "    df = pd.DataFrame (tRF, columns = ['tRF'])\n",
    "    df['dis'] = cancer\n",
    "    \n",
    "    trRF_disease = trRF_disease.append(df)\n",
    "    \n",
    "trRF_disease['log2FC'] = log2FC\n",
    "trRF_disease"
   ]
  },
  {
   "cell_type": "code",
   "execution_count": null,
   "metadata": {},
   "outputs": [],
   "source": [
    "trRF_disease.to_csv(edge_data_location + 'tsRNA-disease.txt', header=None, sep='\\t', index=None)"
   ]
  },
  {
   "cell_type": "markdown",
   "metadata": {},
   "source": [
    "***\n",
    "### snoRNA-gene"
   ]
  },
  {
   "cell_type": "markdown",
   "metadata": {},
   "source": [
    "* [snoDB](https://bioinfo-scottgroup.med.usherbrooke.ca/snoDB/) <br /> snoDB is an interactive database of human small nucleolar RNAs (snoRNAs) that includes up-to-date information on snoRNA features, genomic location, conservation, host gene, snoRNA-RNA targets and snoRNA abundance and provides links to other resources."
   ]
  },
  {
   "cell_type": "code",
   "execution_count": null,
   "metadata": {
    "scrolled": true
   },
   "outputs": [],
   "source": [
    "data_downloader('https://bioinfo-scottgroup.med.usherbrooke.ca/snoDB/download_all', unprocessed_data_location)\n",
    "\n",
    "snoDB = pd.read_csv(unprocessed_data_location + 'download_all', sep=\"\\t\")\n",
    "snoDB"
   ]
  },
  {
   "cell_type": "code",
   "execution_count": null,
   "metadata": {},
   "outputs": [],
   "source": [
    "snoDB = snoDB[snoDB['ncbi_id'].notna()]\n",
    "snoDB['ncbi_id'] = pd.to_numeric(snoDB['ncbi_id'], downcast='integer') \n",
    "\n",
    "snoRNA_host = snoDB[['snodb_id', 'ensembl_id', 'refseq_id', 'hgnc_id', 'ncbi_id', 'host_gene_id', 'gene_name', 'host_gene_name']]\n",
    "snoRNA_host = snoRNA_host[snoRNA_host['host_gene_id'].notna()]\n",
    "snoRNA_host"
   ]
  },
  {
   "cell_type": "code",
   "execution_count": null,
   "metadata": {},
   "outputs": [],
   "source": [
    "snoRNA_host.to_csv(edge_data_location + 'snoRNA-gene.txt', header=None, sep='\\t', index=None)"
   ]
  },
  {
   "cell_type": "markdown",
   "metadata": {},
   "source": [
    "***\n",
    "### snoRNA-miRNA"
   ]
  },
  {
   "cell_type": "markdown",
   "metadata": {},
   "source": [
    "* [snoDB](https://bioinfo-scottgroup.med.usherbrooke.ca/snoDB/)"
   ]
  },
  {
   "cell_type": "code",
   "execution_count": null,
   "metadata": {},
   "outputs": [],
   "source": [
    "snoRNA_miRNA = snoDB[['snodb_id', 'ensembl_id', 'refseq_id', 'hgnc_id', 'ncbi_id', 'host_gene_id', 'gene_name', 'mirna_targets']]\n",
    "snoRNA_miRNA = snoRNA_miRNA[snoRNA_miRNA['mirna_targets'].notna()]\n",
    "snoRNA_miRNA"
   ]
  },
  {
   "cell_type": "code",
   "execution_count": null,
   "metadata": {},
   "outputs": [],
   "source": [
    "snoRNA_miRNA['miRBase_id'] = ['', 'hsa-mir-19b-2']\n",
    "# Up to now, no miRBase ID is associated with AC008521\n",
    "\n",
    "snoRNA_miRNA.to_csv(edge_data_location + 'snoRNA-miRNA.txt', header=None, sep='\\t', index=None)"
   ]
  },
  {
   "cell_type": "markdown",
   "metadata": {},
   "source": [
    "***\n",
    "### snoRNA-snoRNA"
   ]
  },
  {
   "cell_type": "markdown",
   "metadata": {},
   "source": [
    "* [snoDB](https://bioinfo-scottgroup.med.usherbrooke.ca/snoDB/)"
   ]
  },
  {
   "cell_type": "code",
   "execution_count": null,
   "metadata": {},
   "outputs": [],
   "source": [
    "snoRNA_snoRNA = snoDB[['snodb_id', 'ensembl_id', 'refseq_id', 'hgnc_id', 'ncbi_id', 'host_gene_id', 'gene_name', 'snorna_targets']]\n",
    "snoRNA_snoRNA = snoRNA_snoRNA[snoRNA_snoRNA['snorna_targets'].notna()]\n",
    "snoRNA_snoRNA"
   ]
  },
  {
   "cell_type": "code",
   "execution_count": null,
   "metadata": {},
   "outputs": [],
   "source": [
    "snoRNA_snoRNA['processed_targets'] = snoRNA_snoRNA.snorna_targets.str.split(';')\n",
    "snoRNA_snoRNA = snoRNA_snoRNA.explode('processed_targets')\n",
    "snoRNA_snoRNA.drop('snorna_targets', axis=1, inplace=True)\n",
    "snoRNA_snoRNA"
   ]
  },
  {
   "cell_type": "code",
   "execution_count": null,
   "metadata": {},
   "outputs": [],
   "source": [
    "snoRNA_snoRNA.to_csv(edge_data_location + 'snoRNA-snoRNA.txt', header=None, sep='\\t', index=None)"
   ]
  },
  {
   "cell_type": "markdown",
   "metadata": {},
   "source": [
    "***\n",
    "### snoRNA-lncRNA"
   ]
  },
  {
   "cell_type": "markdown",
   "metadata": {},
   "source": [
    "* [snoDB](https://bioinfo-scottgroup.med.usherbrooke.ca/snoDB/)"
   ]
  },
  {
   "cell_type": "code",
   "execution_count": null,
   "metadata": {},
   "outputs": [],
   "source": [
    "snoRNA_lncRNA = snoDB[['snodb_id', 'ensembl_id', 'refseq_id', 'hgnc_id', 'ncbi_id', 'host_gene_id', 'gene_name', 'lncrna_targets']]\n",
    "snoRNA_lncRNA = snoRNA_lncRNA[snoRNA_lncRNA['lncrna_targets'].notna()]\n",
    "\n",
    "# Same reasoning of snoRNA-miRNA\n",
    "snoRNA_lncRNA['processed_targets'] = snoRNA_lncRNA.lncrna_targets.str.split(';')\n",
    "snoRNA_lncRNA = snoRNA_lncRNA.explode('processed_targets')\n",
    "snoRNA_lncRNA.drop('lncrna_targets', axis=1, inplace=True)\n",
    "\n",
    "snoRNA_lncRNA.to_csv(edge_data_location + 'snoRNA-lncRNA.txt', header=None, sep='\\t', index=None)\n",
    "snoRNA_lncRNA.head()"
   ]
  },
  {
   "cell_type": "markdown",
   "metadata": {},
   "source": [
    "***\n",
    "### snoRNA-snRNA"
   ]
  },
  {
   "cell_type": "markdown",
   "metadata": {},
   "source": [
    "* [snoDB](https://bioinfo-scottgroup.med.usherbrooke.ca/snoDB/)"
   ]
  },
  {
   "cell_type": "code",
   "execution_count": null,
   "metadata": {},
   "outputs": [],
   "source": [
    "snoRNA_snRNA = snoDB[['snodb_id', 'ensembl_id', 'refseq_id', 'hgnc_id', 'ncbi_id', 'host_gene_id', 'gene_name', 'snrna_targets']]\n",
    "snoRNA_snRNA = snoRNA_snRNA[snoRNA_snRNA['snrna_targets'].notna()]\n",
    "\n",
    "# Same reasoning of snoRNA-miRNA and snoRNA-lncRNA\n",
    "snoRNA_snRNA['processed_targets'] = snoRNA_snRNA.snrna_targets.str.split(';')\n",
    "snoRNA_snRNA = snoRNA_snRNA.explode('processed_targets')\n",
    "snoRNA_snRNA.drop('snrna_targets', axis=1, inplace=True)\n",
    "\n",
    "snoRNA_snRNA.to_csv(edge_data_location + 'snoRNA-snRNA.txt', header=None, sep='\\t', index=None)"
   ]
  },
  {
   "cell_type": "markdown",
   "metadata": {},
   "source": [
    "***\n",
    "### lncRNA-disease"
   ]
  },
  {
   "cell_type": "markdown",
   "metadata": {},
   "source": [
    "* [LncRNADisease](http://www.rnanut.net/lncrnadisease/) <br /> LncRNADisease integrates comprehensive experimentally supported and predicted ncRNA-disease associations curated from manual literatures and other resources."
   ]
  },
  {
   "cell_type": "code",
   "execution_count": null,
   "metadata": {},
   "outputs": [],
   "source": [
    "data_downloader('http://www.rnanut.net/lncrnadisease/static/download/experimental%20lncRNA-disease%20information.xlsx', unprocessed_data_location)\n",
    "\n",
    "lncRNA_disease = pd.read_excel(unprocessed_data_location + 'experimental%20lncRNA-disease%20information.xlsx')  \n",
    "# We keep only rows dealing with HS\n",
    "lncRNA_disease = lncRNA_disease[lncRNA_disease['Species'].str.contains(\"sapiens\")]\n",
    "lncRNA_disease"
   ]
  },
  {
   "cell_type": "code",
   "execution_count": null,
   "metadata": {},
   "outputs": [],
   "source": [
    "lncRNA_disease = lncRNA_disease.rename(columns={\"Disease Name\": \"desc\"})\n",
    "lncRNA_disease['desc'] = lncRNA_disease['desc'].str.lower()\n",
    "lncRNA_disease = pd.merge(desc_do_map, lncRNA_disease, on=['desc'])\n",
    "\n",
    "lncRNA_disease.to_csv(edge_data_location + 'lncRNA-disease.txt', header=None, sep='\\t', index=None)"
   ]
  },
  {
   "cell_type": "markdown",
   "metadata": {},
   "source": [
    "***\n",
    "### circRNA-disease"
   ]
  },
  {
   "cell_type": "markdown",
   "metadata": {},
   "source": [
    "* [LncRNADisease](http://www.rnanut.net/lncrnadisease/)"
   ]
  },
  {
   "cell_type": "code",
   "execution_count": null,
   "metadata": {},
   "outputs": [],
   "source": [
    "data_downloader('http://www.rnanut.net/lncrnadisease/static/download/experimental%20circRNA-disease%20information.xlsx', edge_data_location)\n",
    "\n",
    "# Same reasoning of lncRNA-disease\n",
    "circRNA_disease = pd.read_excel(edge_data_location + 'experimental%20circRNA-disease%20information.xlsx')  \n",
    "circRNA_disease = circRNA_disease[circRNA_disease['Species'].str.contains(\"sapiens\")]\n",
    "\n",
    "circRNA_disease = circRNA_disease.rename(columns={\"Disease Name\": \"desc\"})\n",
    "circRNA_disease['desc'] = circRNA_disease['desc'].str.lower()\n",
    "circRNA_disease = pd.merge(desc_do_map, circRNA_disease, on=['desc'])\n",
    "circRNA_disease['ncRNA Symbol'] = circRNA_disease['ncRNA Symbol'].str.replace(r'^.*?circ-|circ', '')\n",
    "\n",
    "circRNA_disease.to_csv(edge_data_location + 'circRNA-disease.txt', header=None, sep='\\t', index=None)"
   ]
  },
  {
   "cell_type": "markdown",
   "metadata": {},
   "source": [
    "***\n",
    "### lncRNA-protein"
   ]
  },
  {
   "cell_type": "markdown",
   "metadata": {},
   "source": [
    "* [LncBook](https://ngdc.cncb.ac.cn/lncbook/) <br /> LncBook accommodates a high-quality collection of human lncRNA genes and transcripts, and incorporates their abundant annotations at different omics levels, thereby enabling users to decipher functional signatures of lncRNAs in human diseases and different biological contexts. "
   ]
  },
  {
   "cell_type": "code",
   "execution_count": null,
   "metadata": {},
   "outputs": [],
   "source": [
    "data_downloader('https://ngdc.cncb.ac.cn/lncbook/files/lncrna_rbp_LncBook2.0.csv.gz', unprocessed_data_location)\n",
    "\n",
    "lncRNA_protein = pd.read_csv(unprocessed_data_location + 'lncrna_rbp_LncBook2.0.csv')  \n",
    "lncRNA_protein[lncRNA_protein['Symbol']!='-']"
   ]
  },
  {
   "cell_type": "code",
   "execution_count": null,
   "metadata": {},
   "outputs": [],
   "source": [
    "lncRNA_protein.to_csv(edge_data_location + 'lncRNA-protein.txt', header=None, sep='\\t', index=None)"
   ]
  },
  {
   "cell_type": "markdown",
   "metadata": {},
   "source": [
    "***\n",
    "### lncRNA-biological role"
   ]
  },
  {
   "cell_type": "markdown",
   "metadata": {},
   "source": [
    "* [dbEssLnc](https://esslnc.pufengdu.org/home) <br /> dbEssLnc contains lncRNA annotations; data are constently added by manual screening. "
   ]
  },
  {
   "cell_type": "code",
   "execution_count": null,
   "metadata": {},
   "outputs": [],
   "source": [
    "data_downloader('https://esslnc.pufengdu.org/data/essential%20lncRNA.json', unprocessed_data_location)\n",
    "lncRNA_role = pd.read_json(unprocessed_data_location + 'essential%20lncRNA.json')\n",
    "lncRNA_role"
   ]
  },
  {
   "cell_type": "code",
   "execution_count": null,
   "metadata": {},
   "outputs": [],
   "source": [
    "lncRNA_role.Role.unique()"
   ]
  },
  {
   "cell_type": "code",
   "execution_count": null,
   "metadata": {},
   "outputs": [],
   "source": [
    "# For grounding purposes\n",
    "lncRNA_role.replace('Tumor suppressor gene', 'Tumor-Suppressor-Gene', inplace=True)\n",
    "lncRNA_role.Name = lncRNA_role.Name.str.upper()\n",
    "\n",
    "lncRNA_role.to_csv(edge_data_location + 'lncRNA-role.txt', header=None, sep='\\t', index=None)"
   ]
  },
  {
   "cell_type": "markdown",
   "metadata": {},
   "source": [
    "***\n",
    "### lncRNA-cellular compartment"
   ]
  },
  {
   "cell_type": "markdown",
   "metadata": {},
   "source": [
    "* [lncATLAS](https://lncatlas.crg.eu/) <br /> LncATLAS displays the subcellular localisation for GENCODE-annotated lncRNAs. This localisation is expressed in units of Relative Concentration Index (RCI) - a comparison of the concentration of a gene, per unit mass of RNA, between two cellular compartments."
   ]
  },
  {
   "cell_type": "code",
   "execution_count": null,
   "metadata": {},
   "outputs": [],
   "source": [
    "data_downloader('https://lncatlas.crg.eu/session/014e12df4b0975891edb6d8ba3a33b0e/download/retrieveall?w=', unprocessed_data_location)\n",
    "lncRNA_comp = pd.read_csv(unprocessed_data_location + '2023-05-09_lncATLAS_all_data.csv')\n",
    "lncRNA_comp"
   ]
  },
  {
   "cell_type": "code",
   "execution_count": null,
   "metadata": {},
   "outputs": [],
   "source": [
    "# Data cleaning rule to estabilish relations: discard RCI below the mean\n",
    "lncRNA_comp.Value.mean()"
   ]
  },
  {
   "cell_type": "code",
   "execution_count": null,
   "metadata": {},
   "outputs": [],
   "source": [
    "lncRNA_comp = lncRNA_comp[lncRNA_comp.Value >= lncRNA_comp.Value.mean()]"
   ]
  },
  {
   "cell_type": "code",
   "execution_count": null,
   "metadata": {},
   "outputs": [],
   "source": [
    "# Mapping to GO CC\n",
    "lncRNA_comp['Data Type'].unique()"
   ]
  },
  {
   "cell_type": "code",
   "execution_count": null,
   "metadata": {},
   "outputs": [],
   "source": [
    "lncRNA_comp['gocc'] = lncRNA_comp['Data Type'].replace({'nucleus': 'GO_0005634', 'cytosol': 'GO_0005829',\n",
    "                                                        'chromatin': 'GO_0000785', 'membrane': 'GO_0016020',\n",
    "                                                        'nucleolus': 'GO_0005730', 'nucleoplasm': 'GO_0005654'})\n",
    "\n",
    "lncRNA_comp = lncRNA_comp[lncRNA_comp['gocc'].astype(str).str.startswith('GO_')]"
   ]
  },
  {
   "cell_type": "code",
   "execution_count": null,
   "metadata": {},
   "outputs": [],
   "source": [
    "lncRNA_comp.to_csv(edge_data_location + 'lncRNA-gocc.txt', header=None, sep='\\t', index=None)"
   ]
  },
  {
   "cell_type": "markdown",
   "metadata": {},
   "source": [
    "***\n",
    "### lncRNA-biological process"
   ]
  },
  {
   "cell_type": "markdown",
   "metadata": {},
   "source": [
    "* [ncRDeathDB](https://www.rna-society.org/ncrdeathdb/) <br /> ncRDeathDB includes ncRNA types associated with apoptosis, autophagy, and necrosis."
   ]
  },
  {
   "cell_type": "code",
   "execution_count": null,
   "metadata": {},
   "outputs": [],
   "source": [
    "data_downloader('https://www.rna-society.org/ncrdeathdb/data/allNcRNACelldeathData.xlsx', unprocessed_data_location)\n",
    "lncRNA_gobp = pd.read_excel(unprocessed_data_location + 'allNcRNACelldeathData.xlsx', dtype={\"geneid\": \"string\"})\n",
    "lncRNA_gobp = lncRNA_gobp[(lncRNA_gobp['RNA Category'] == 'lncRNA') & (lncRNA_gobp.Organism.str.contains('apiens'))]\n",
    "lncRNA_gobp"
   ]
  },
  {
   "cell_type": "code",
   "execution_count": null,
   "metadata": {},
   "outputs": [],
   "source": [
    "lncRNA_gobp['gobp'] = lncRNA_gobp['Pathway'].replace({'necrosis': 'GO_0097300', 'autophagy': 'GO_0006914',\n",
    "                                                      'apoptosis': 'GO_0006915'})"
   ]
  },
  {
   "cell_type": "code",
   "execution_count": null,
   "metadata": {},
   "outputs": [],
   "source": [
    "lncRNA_gobp[['geneid', 'gobp']].dropna().to_csv(edge_data_location + 'lncRNA-gobp.txt', header=None, sep='\\t', index=None)"
   ]
  },
  {
   "cell_type": "markdown",
   "metadata": {},
   "source": [
    "***\n",
    "### miRNA-biological process"
   ]
  },
  {
   "cell_type": "markdown",
   "metadata": {},
   "source": [
    "* [ncRDeathDB](https://www.rna-society.org/ncrdeathdb/)"
   ]
  },
  {
   "cell_type": "code",
   "execution_count": null,
   "metadata": {},
   "outputs": [],
   "source": [
    "miRNA_gobp = pd.read_excel(unprocessed_data_location + 'allNcRNACelldeathData.xlsx', dtype={\"geneid\": \"string\"})\n",
    "miRNA_gobp = miRNA_gobp[(miRNA_gobp['RNA Category'] == 'miRNA') & (miRNA_gobp.Organism.str.contains('apiens'))]\n",
    "miRNA_gobp['miRBase_ID'] = miRNA_gobp.miRBase_ID.str.split(',')\n",
    "miRNA_gobp = miRNA_gobp.explode('miRBase_ID')\n",
    "miRNA_gobp"
   ]
  },
  {
   "cell_type": "code",
   "execution_count": null,
   "metadata": {},
   "outputs": [],
   "source": [
    "miRNA_gobp['gobp'] = miRNA_gobp['Pathway'].replace({'necrosis': 'GO_0097300', 'autophagy': 'GO_0006914',\n",
    "                                                    'apoptosis': 'GO_0006915'})"
   ]
  },
  {
   "cell_type": "code",
   "execution_count": null,
   "metadata": {},
   "outputs": [],
   "source": [
    "miRNA_gobp[['miRBase_ID', 'gobp']].dropna().to_csv(edge_data_location + 'miRNA-gobp.txt', header=None, sep='\\t', index=None)"
   ]
  },
  {
   "cell_type": "markdown",
   "metadata": {},
   "source": [
    "***\n",
    "### snoRNA-biological process"
   ]
  },
  {
   "cell_type": "markdown",
   "metadata": {},
   "source": [
    "* [ncRDeathDB](https://www.rna-society.org/ncrdeathdb/)"
   ]
  },
  {
   "cell_type": "code",
   "execution_count": null,
   "metadata": {},
   "outputs": [],
   "source": [
    "snoRNA_gobp = pd.read_excel(unprocessed_data_location + 'allNcRNACelldeathData.xlsx', dtype={\"geneid\": \"string\"})\n",
    "snoRNA_gobp = snoRNA_gobp[(snoRNA_gobp['RNA Category'] == 'snoRNA') & (snoRNA_gobp.Organism.str.contains('apiens'))]\n",
    "snoRNA_gobp"
   ]
  },
  {
   "cell_type": "code",
   "execution_count": null,
   "metadata": {},
   "outputs": [],
   "source": [
    "# CEBPA is gene ID 1050\n",
    "snoRNA_gobp[['Gene_Symbol']] = '1050'"
   ]
  },
  {
   "cell_type": "code",
   "execution_count": null,
   "metadata": {},
   "outputs": [],
   "source": [
    "snoRNA_gobp.iloc[[0]]"
   ]
  },
  {
   "cell_type": "code",
   "execution_count": null,
   "metadata": {},
   "outputs": [],
   "source": [
    "snoRNA_gobp['gobp'] = snoRNA_gobp['Pathway'].replace({'necrosis': 'GO_0097300', 'autophagy': 'GO_0006914',\n",
    "                                                      'apoptosis': 'GO_0006915'})"
   ]
  },
  {
   "cell_type": "code",
   "execution_count": null,
   "metadata": {},
   "outputs": [],
   "source": [
    "snoRNA_gobp[['Gene_Symbol', 'gobp']].dropna().to_csv(edge_data_location + 'snoRNA-gobp.txt', header=None, sep='\\t', index=None)"
   ]
  },
  {
   "cell_type": "markdown",
   "metadata": {},
   "source": [
    "***\n",
    "### Stem-loop miRNA-TF(protein)"
   ]
  },
  {
   "cell_type": "markdown",
   "metadata": {},
   "source": [
    "* [miRNet](https://www.mirnet.ca/)\n",
    "miRNet is an easy-to-use web-based tool that offers statistical, visual and network-based approaches to help researchers understand miRNAs functions and regulatory mechanisms. miRNet offers a comprehensive tool suite to enable statistical analysis and functional interpretation of various data generated from current miRNA studies."
   ]
  },
  {
   "cell_type": "code",
   "execution_count": null,
   "metadata": {},
   "outputs": [],
   "source": [
    "data_downloader('https://www.dropbox.com/s/78r0tazedtkhi5g/miRNet-mir-tf-hsa.csv', unprocessed_data_location)\n",
    "\n",
    "miRNA_TF = pd.read_csv(unprocessed_data_location + 'miRNet-mir-tf-hsa.csv')  \n",
    "miRNA_TF"
   ]
  },
  {
   "cell_type": "code",
   "execution_count": null,
   "metadata": {},
   "outputs": [],
   "source": [
    "miRNA_TF.to_csv(edge_data_location + 'miRNA-TF.txt', header=None, sep='\\t', index=None)"
   ]
  },
  {
   "cell_type": "markdown",
   "metadata": {},
   "source": [
    "***\n",
    "### miRNA-chemical"
   ]
  },
  {
   "cell_type": "markdown",
   "metadata": {},
   "source": [
    "* [SM2miR](http://www.jianglab.cn/SM2miR/) <br /> SM2miR is a manual curated database which collects and incorporates the experimentally validated small molecules' effects on miRNA expression from the published papers. Each entry contains the detailed information about small molecules, miRNAs and their relationships."
   ]
  },
  {
   "cell_type": "code",
   "execution_count": null,
   "metadata": {
    "scrolled": true
   },
   "outputs": [],
   "source": [
    "data_downloader('http://www.jianglab.cn/SM2miR/files/SM2miR3.xls', unprocessed_data_location)\n",
    "\n",
    "miRNA_chemical = pd.read_excel(unprocessed_data_location + 'SM2miR3.xls')  \n",
    "miRNA_chemical = miRNA_chemical[miRNA_chemical['Species'].str.contains('sapiens')]\n",
    "miRNA_chemical"
   ]
  },
  {
   "cell_type": "code",
   "execution_count": null,
   "metadata": {},
   "outputs": [],
   "source": [
    "miRNA_chemical['miRNA'] = 'hsa-'+miRNA_chemical['miRNA']\n",
    "miRNA_chemical['small melocule'] = miRNA_chemical['small melocule'].str.lower().str.replace(\"\\(.*?\\)| \\(.*?\\)\", '').str.rstrip()\n",
    "\n",
    "miRNA_chemical['small melocule'] = miRNA_chemical['small melocule'].str.split('+')\n",
    "miRNA_chemical = miRNA_chemical.explode('small melocule')\n",
    "miRNA_chemical['small melocule'] = miRNA_chemical['small melocule'].str.rstrip().str.lstrip()\n",
    "\n",
    "# Fix join columns\n",
    "miRNA_chemical = pd.merge(miRNA_chemical, desc_chebi_map, left_on=['small melocule'], right_on=[0])\n",
    "\n",
    "miRNA_chemical"
   ]
  },
  {
   "cell_type": "code",
   "execution_count": null,
   "metadata": {},
   "outputs": [],
   "source": [
    "miRNA_chemical.to_csv(edge_data_location + 'miRNA-chemical.txt', header=None, sep='\\t', index=None)"
   ]
  },
  {
   "cell_type": "markdown",
   "metadata": {},
   "source": [
    "***\n",
    "### gRNA-gene"
   ]
  },
  {
   "cell_type": "markdown",
   "metadata": {},
   "source": [
    "* [Addgene](https://www.addgene.org/)"
   ]
  },
  {
   "cell_type": "code",
   "execution_count": null,
   "metadata": {},
   "outputs": [],
   "source": [
    "# copy-paste from https://www.addgene.org/crispr/reference/grna-sequence/#datatable\n",
    "gRNA_gene = pd.read_csv(unprocessed_data_location + 'grna_addgene.txt', sep='\\t', dtype = {\"Plasmid ID\":str})  \n",
    "gRNA_gene.columns=gRNA_gene.columns.str.rstrip()\n",
    "gRNA_gene = gRNA_gene[gRNA_gene['Target Species'].notna()]\n",
    "gRNA_gene = gRNA_gene[gRNA_gene['Target Species'].str.contains('sapiens')]\n",
    "gRNA_gene['Plasmid ID'] = 'www.addgene.org/'+gRNA_gene['Plasmid ID'].str.rstrip()\n",
    "gRNA_gene['Target Gene'] = gRNA_gene['Target Gene'].str.upper().str.rstrip()\n",
    "gRNA_gene"
   ]
  },
  {
   "cell_type": "code",
   "execution_count": null,
   "metadata": {},
   "outputs": [],
   "source": [
    "gRNA_gene.to_csv(edge_data_location + 'gRNA-gene.txt', header=None, sep='\\t', index=None)"
   ]
  },
  {
   "cell_type": "code",
   "execution_count": null,
   "metadata": {},
   "outputs": [],
   "source": [
    "#TODO: add manually entrez ids not present in PKL's mapping\n",
    "list(set(gRNA_gene['Target Gene']) - set(symbol_ensembl_map[0].unique()))"
   ]
  },
  {
   "cell_type": "markdown",
   "metadata": {},
   "source": [
    "***\n",
    "### ASO-gene"
   ]
  },
  {
   "cell_type": "markdown",
   "metadata": {},
   "source": [
    "* [DrugBank](https://go.drugbank.com/categories/DBCAT001709) <br /> DrugBank is a comprehensive, free-to-access, online database containing information on drugs and drug targets. As both a bioinformatics and a cheminformatics resource, it combines detailed drug (i.e. chemical, pharmacological and pharmaceutical) data with comprehensive drug target (i.e. sequence, structure, and pathway) information."
   ]
  },
  {
   "cell_type": "code",
   "execution_count": null,
   "metadata": {},
   "outputs": [],
   "source": [
    "# copy-paste from https://go.drugbank.com/categories/DBCAT001709\n",
    "ASO_gene = pd.read_csv(unprocessed_data_location + 'ASO-gene_DrugBank.txt', sep='\\t') \n",
    "ASO_gene"
   ]
  },
  {
   "cell_type": "code",
   "execution_count": null,
   "metadata": {},
   "outputs": [],
   "source": [
    "ASO_gene['NCBI']=['338', 'a', '', '', '', '', '1756', '', '338', '211', '', '1756', '1756', '', '', '', '', '7276', '']\n",
    "ASO_gene['DB ID']=['DB05528',\n",
    "                   'DB05487', 'DB05487', 'DB05487',\n",
    "                   'DB06759', 'DB06759',\n",
    "                   'DB06014',\n",
    "                   'DB13161',\n",
    "                   'DB14713',\n",
    "                   'DB15066',\n",
    "                   'DB15593',\n",
    "                   'DB15005',\n",
    "                   'DB14984', 'DB14984', 'DB14984', 'DB14984', 'DB14984',\n",
    "                   'DB16699', 'DB16699']\n",
    "ASO_gene"
   ]
  },
  {
   "cell_type": "code",
   "execution_count": null,
   "metadata": {},
   "outputs": [],
   "source": [
    "ASO_gene.to_csv(edge_data_location + 'ASO-gene.txt', header=None, sep='\\t', index=None)"
   ]
  },
  {
   "cell_type": "markdown",
   "metadata": {},
   "source": [
    "***\n",
    "### ASO-disease"
   ]
  },
  {
   "cell_type": "markdown",
   "metadata": {},
   "source": [
    "* [DrugBank](https://go.drugbank.com/categories/DBCAT001709)"
   ]
  },
  {
   "cell_type": "code",
   "execution_count": null,
   "metadata": {},
   "outputs": [],
   "source": [
    "# copy-paste from https://go.drugbank.com/categories/DBCAT001709\n",
    "ASO_disease = pd.read_csv(unprocessed_data_location + 'ASO-disease_DrugBank.txt', sep='\\t') \n",
    "pd.set_option('display.max_colwidth', None)\n",
    "ASO_disease"
   ]
  },
  {
   "cell_type": "code",
   "execution_count": null,
   "metadata": {},
   "outputs": [],
   "source": [
    "ASO_disease=pd.DataFrame(columns=['DB ID', 'MONDO'])\n",
    "ASO_disease['DB ID']=['DB05528',\n",
    "                   'DB05487', 'DB05487',\n",
    "                   'DB06759',\n",
    "                    'DB13811',\n",
    "                   'DB06014',\n",
    "                   'DB13161',\n",
    "                   'DB14713', 'DB14713',\n",
    "                   'DB15066',\n",
    "                   'DB15593',\n",
    "                   'DB15005',\n",
    "                   'DB14984',\n",
    "                   'DB16699']\n",
    "ASO_disease['MONDO']=['MONDO_0018328',\n",
    "                      'MONDO_0001657', 'MONDO_0007254',\n",
    "                      'MONDO_0000878',\n",
    "                      '',\n",
    "                      'MONDO_0010679',\n",
    "                      'MONDO_0001516',\n",
    "                      'MONDO_0017132', 'MONDO_0001824',\n",
    "                      'MONDO_0002520',\n",
    "                      'MONDO_0010679',\n",
    "                      'MONDO_0010679',\n",
    "                      'MONDO_0010679',\n",
    "                      'MONDO_0017132'\n",
    "                     ]\n",
    "ASO_disease"
   ]
  },
  {
   "cell_type": "code",
   "execution_count": null,
   "metadata": {},
   "outputs": [],
   "source": [
    "ASO_disease.to_csv(edge_data_location + 'ASO-disease.txt', header=None, sep='\\t', index=None)"
   ]
  },
  {
   "cell_type": "markdown",
   "metadata": {},
   "source": [
    "***\n",
    "### ASO-protein"
   ]
  },
  {
   "cell_type": "markdown",
   "metadata": {},
   "source": [
    "* [DrugBank](https://go.drugbank.com/categories/DBCAT001709)"
   ]
  },
  {
   "cell_type": "code",
   "execution_count": null,
   "metadata": {},
   "outputs": [],
   "source": [
    "ASO_gene['PRO']=['', 'PR_000007204', 'PR_000011178', 'PR_000001754', 'PR_Q9BTL4', 'PR_Q16621',\n",
    "                 '', 'PR_Q16637', '', '', 'PR_P11532', '', '', 'PR_P08684', 'PR_P20815', 'PR_P11712', 'PR_P33261', '', 'PR_P02768']\n",
    "ASO_gene"
   ]
  },
  {
   "cell_type": "code",
   "execution_count": null,
   "metadata": {},
   "outputs": [],
   "source": [
    "ASO_protein = ASO_gene[['Drug', 'Target', 'Type', 'PRO', 'DB ID']]\n",
    "ASO_protein"
   ]
  },
  {
   "cell_type": "code",
   "execution_count": null,
   "metadata": {},
   "outputs": [],
   "source": [
    "ASO_protein.to_csv(edge_data_location + 'ASO-protein.txt', header=None, sep='\\t', index=None)"
   ]
  },
  {
   "cell_type": "markdown",
   "metadata": {},
   "source": [
    "***\n",
    "### siRNA-gene"
   ]
  },
  {
   "cell_type": "markdown",
   "metadata": {},
   "source": [
    "* [DrugBank](https://go.drugbank.com/categories/DBCAT005484) "
   ]
  },
  {
   "cell_type": "code",
   "execution_count": null,
   "metadata": {},
   "outputs": [],
   "source": [
    "# copy-paste from https://go.drugbank.com/categories/DBCAT005484\n",
    "siRNA_gene = pd.read_csv(unprocessed_data_location + 'siRNA-gene_DrugBank.txt', sep='\\t') \n",
    "siRNA_gene"
   ]
  },
  {
   "cell_type": "code",
   "execution_count": null,
   "metadata": {},
   "outputs": [],
   "source": [
    "siRNA_gene['NCBI']=['7276', 'a', '', '338', '54363', '', '', '7276', '']\n",
    "siRNA_gene['DB ID']=['DB14582', 'DB14582', 'DB14582',\n",
    "                     'DB15066',\n",
    "                     'DB15935', 'DB15935', 'DB15935',\n",
    "                     'DB16699', 'DB16699']\n",
    "siRNA_gene"
   ]
  },
  {
   "cell_type": "code",
   "execution_count": null,
   "metadata": {},
   "outputs": [],
   "source": [
    "siRNA_gene.to_csv(edge_data_location + 'siRNA-gene.txt', header=None, sep='\\t', index=None)"
   ]
  },
  {
   "cell_type": "markdown",
   "metadata": {},
   "source": [
    "* [The MIT/ICBP siRNA Database](http://web.mit.edu/sirna/index.html) <br /> The MIT/ICBP siRNA Database has validated siRNA and shRNA sequences against over 100 genes."
   ]
  },
  {
   "cell_type": "code",
   "execution_count": null,
   "metadata": {},
   "outputs": [],
   "source": [
    "ICBP = pd.read_html('http://web.mit.edu/sirna/sirnas-gene.html')\n",
    "ICBP = ICBP[1]\n",
    "ICBP.columns = ICBP.iloc[[0]].squeeze()\n",
    "ICBP.drop(0, inplace=True)\n",
    "ICBP"
   ]
  },
  {
   "cell_type": "code",
   "execution_count": null,
   "metadata": {},
   "outputs": [],
   "source": [
    "# For post-processing purposes\n",
    "ICBP[['ID#']] = ICBP[['ID#']] + '.html'\n",
    "\n",
    "ICBPsiRNA = ICBP.loc[(ICBP['siRNA'] == 'x') & (ICBP['Human'] == 'x')]\n",
    "ICBPsiRNA"
   ]
  },
  {
   "cell_type": "code",
   "execution_count": null,
   "metadata": {},
   "outputs": [],
   "source": [
    "ICBPsiRNA.to_csv(edge_data_location + 'siRNA-geneICBP.txt', header=None, sep='\\t', index=None)"
   ]
  },
  {
   "cell_type": "markdown",
   "metadata": {},
   "source": [
    "***\n",
    "### shRNA-gene"
   ]
  },
  {
   "cell_type": "markdown",
   "metadata": {},
   "source": [
    "* [The MIT/ICBP siRNA Database](http://web.mit.edu/sirna/index.html)"
   ]
  },
  {
   "cell_type": "code",
   "execution_count": null,
   "metadata": {},
   "outputs": [],
   "source": [
    "ICBPshRNA = ICBP.loc[(ICBP['shRNA'] == 'x') & (ICBP['Human'] == 'x')]\n",
    "ICBPshRNA"
   ]
  },
  {
   "cell_type": "code",
   "execution_count": null,
   "metadata": {},
   "outputs": [],
   "source": [
    "ICBPshRNA.to_csv(edge_data_location + 'shRNA-gene.txt', header=None, sep='\\t', index=None)"
   ]
  },
  {
   "cell_type": "markdown",
   "metadata": {},
   "source": [
    "***\n",
    "### siRNA-disease"
   ]
  },
  {
   "cell_type": "markdown",
   "metadata": {},
   "source": [
    "* [DrugBank](https://go.drugbank.com/categories/DBCAT005484) "
   ]
  },
  {
   "cell_type": "code",
   "execution_count": null,
   "metadata": {},
   "outputs": [],
   "source": [
    "# copy-paste from https://go.drugbank.com/categories/DBCAT005484\n",
    "siRNA_disease = pd.read_csv(unprocessed_data_location + 'siRNA-disease_DrugBank.txt', sep='\\t') \n",
    "siRNA_disease"
   ]
  },
  {
   "cell_type": "code",
   "execution_count": null,
   "metadata": {},
   "outputs": [],
   "source": [
    "siRNA_disease=pd.DataFrame(columns=['DB ID', 'MONDO'])\n",
    "siRNA_disease['DB ID']=['DB14582', 'DB14582',\n",
    "                     'DB15066',\n",
    "                     'DB15935',\n",
    "                     'DB16699', 'DB16699']\n",
    "siRNA_disease['MONDO']=['MONDO_0017132', 'MONDO_0001824',\n",
    "                     'MONDO_0002520',\n",
    "                     'MONDO_0009823',\n",
    "                     'MONDO_0017132', 'MONDO_0001824']\n",
    "siRNA_disease"
   ]
  },
  {
   "cell_type": "code",
   "execution_count": null,
   "metadata": {},
   "outputs": [],
   "source": [
    "siRNA_disease.to_csv(edge_data_location + 'siRNA-disease.txt', header=None, sep='\\t', index=None)"
   ]
  },
  {
   "cell_type": "markdown",
   "metadata": {},
   "source": [
    "***\n",
    "### aptamer-protein"
   ]
  },
  {
   "cell_type": "markdown",
   "metadata": {},
   "source": [
    "* [DrugBank](https://go.drugbank.com/categories/DBCAT001641) "
   ]
  },
  {
   "cell_type": "code",
   "execution_count": null,
   "metadata": {},
   "outputs": [],
   "source": [
    "# copy-paste from https://go.drugbank.com/categories/DBCAT001641\n",
    "aptamer_protein = pd.read_csv(unprocessed_data_location + 'aptamer-protein_DrugBank.txt', sep='\\t') \n",
    "aptamer_protein"
   ]
  },
  {
   "cell_type": "code",
   "execution_count": null,
   "metadata": {},
   "outputs": [],
   "source": [
    "aptamer_protein['PRO']=['PR_000001575', 'PR_000001576', 'PR_000001577', 'PR_000001752']\n",
    "aptamer_protein['DB ID']=['DB04932', 'DB04932', 'DB04932', 'DB04998']\n",
    "aptamer_protein"
   ]
  },
  {
   "cell_type": "code",
   "execution_count": null,
   "metadata": {},
   "outputs": [],
   "source": [
    "aptamer_protein.to_csv(edge_data_location + 'aptamer-protein.txt', header=None, sep='\\t', index=None)"
   ]
  },
  {
   "cell_type": "markdown",
   "metadata": {},
   "source": [
    "***\n",
    "### aptamer-disease"
   ]
  },
  {
   "cell_type": "markdown",
   "metadata": {},
   "source": [
    "* [DrugBank](https://go.drugbank.com/categories/DBCAT001641) "
   ]
  },
  {
   "cell_type": "code",
   "execution_count": null,
   "metadata": {},
   "outputs": [],
   "source": [
    "# copy-paste from https://go.drugbank.com/categories/DBCAT001641\n",
    "aptamer_disease = pd.read_csv(unprocessed_data_location + 'aptamer-disease_DrugBank.txt', sep='\\t') \n",
    "aptamer_disease"
   ]
  },
  {
   "cell_type": "code",
   "execution_count": null,
   "metadata": {},
   "outputs": [],
   "source": [
    "aptamer_disease=pd.DataFrame(columns=['DB ID', 'MONDO'])\n",
    "aptamer_disease['DB ID']=['DB04932', 'DB04998', 'DB04998', 'DB04998', 'DB04998']\n",
    "aptamer_disease['MONDO']=['MONDO_0019514', 'MONDO_0004992', 'MONDO_0002367', 'MONDO_0004643', 'MONDO_0009831']\n",
    "aptamer_disease"
   ]
  },
  {
   "cell_type": "code",
   "execution_count": null,
   "metadata": {},
   "outputs": [],
   "source": [
    "aptamer_disease.to_csv(edge_data_location + 'aptamer-disease.txt', header=None, sep='\\t', index=None)"
   ]
  },
  {
   "cell_type": "markdown",
   "metadata": {},
   "source": [
    "***\n",
    "### mRNA (vaccines)-disease"
   ]
  },
  {
   "cell_type": "markdown",
   "metadata": {},
   "source": [
    "* [DrugBank](https://go.drugbank.com/categories/DBCAT005631) "
   ]
  },
  {
   "cell_type": "code",
   "execution_count": null,
   "metadata": {},
   "outputs": [],
   "source": [
    "# copy-paste from https://go.drugbank.com/categories/DBCAT005631\n",
    "mRNAv_disease = pd.read_csv(unprocessed_data_location + 'mRNAv-disease_DrugBank.txt', sep='\\t') \n",
    "mRNAv_disease"
   ]
  },
  {
   "cell_type": "code",
   "execution_count": null,
   "metadata": {},
   "outputs": [],
   "source": [
    "mRNAv_disease['DB ID']=['DB15654', 'DB15695', 'DB15696' , 'DB16401', 'DB16402', 'DB17088', 'DB17090', 'DB17095']\n",
    "mRNAv_disease['MONDO']='MONDO_0100096'\n",
    "mRNAv_disease"
   ]
  },
  {
   "cell_type": "code",
   "execution_count": null,
   "metadata": {},
   "outputs": [],
   "source": [
    "mRNAv_disease.to_csv(edge_data_location + 'mRNAv-disease.txt', header=None, sep='\\t', index=None)"
   ]
  },
  {
   "cell_type": "markdown",
   "metadata": {},
   "source": [
    "***\n",
    "### lncRNA-gene"
   ]
  },
  {
   "cell_type": "markdown",
   "metadata": {},
   "source": [
    "* [LncExpDB](https://ngdc.cncb.ac.cn/lncexpdb/) <br /> LncExpDB is a comprehensive database for lncRNA expression. It covers expression profiles of lncRNA genes across various biological contexts, predicts potential functional lncRNAs and their interacting partners, and thus provides essential guidance on experimental design."
   ]
  },
  {
   "cell_type": "code",
   "execution_count": null,
   "metadata": {},
   "outputs": [],
   "source": [
    "# Download from https://ngdc.cncb.ac.cn/lncexpdb/interactions --> Download button\n",
    "lncRNA_gene = pd.read_csv(unprocessed_data_location + 'interaction.txt', sep='\\t') \n",
    "lncRNA_gene"
   ]
  },
  {
   "cell_type": "code",
   "execution_count": null,
   "metadata": {},
   "outputs": [],
   "source": [
    "lncRNA_gene.distance.unique()"
   ]
  },
  {
   "cell_type": "code",
   "execution_count": null,
   "metadata": {},
   "outputs": [],
   "source": [
    "lncRNA_gene = lncRNA_gene[lncRNA_gene['lncname'].notna()]\n",
    "lncRNA_gene['lncname'] = lncRNA_gene.lncname.str.split(',')\n",
    "lncRNA_gene = lncRNA_gene.explode('lncname')\n",
    "lncRNA_gene.drop_duplicates(inplace=True)"
   ]
  },
  {
   "cell_type": "code",
   "execution_count": null,
   "metadata": {},
   "outputs": [],
   "source": [
    "lncRNA_gene[(lncRNA_gene['distance']!=-1) & (lncRNA_gene['breadth']==1)][['lncname', 'pcgname']].to_csv(edge_data_location + 'lncRNA-gene.txt', header=None, sep='\\t', index=None)"
   ]
  },
  {
   "cell_type": "markdown",
   "metadata": {},
   "source": [
    "***\n",
    "### riboswitch-protein"
   ]
  },
  {
   "cell_type": "markdown",
   "metadata": {},
   "source": [
    "* [TBDB](https://tbdb.io/) <br /> \n",
    "\n",
    "TBDB contains T-box riboswitch fold prediction, tRNA pairs from host organisms, information regarding T-box riboswitch genetic context, and thermodynamic calculations of putative T-box riboswitch sequences found in nature."
   ]
  },
  {
   "cell_type": "code",
   "execution_count": null,
   "metadata": {},
   "outputs": [],
   "source": [
    "riboswitch_protein = pd.read_csv('https://tbdb.io/database/tbdb.csv', sep=',') \n",
    "riboswitch_protein"
   ]
  },
  {
   "cell_type": "code",
   "execution_count": null,
   "metadata": {},
   "outputs": [],
   "source": [
    "# For post-processing purposes\n",
    "riboswitch_protein.unique_name = riboswitch_protein.unique_name+'.html'\n",
    "\n",
    "riboswitch_protein.downstream_protein = riboswitch_protein.downstream_protein.str.lower()\n",
    "riboswitch_protein[['unique_name','downstream_protein']].to_csv(edge_data_location +\n",
    "                                                                'riboswitch-protein.txt', header=None, sep='\\t',\n",
    "                                                                index=None)"
   ]
  },
  {
   "cell_type": "code",
   "execution_count": null,
   "metadata": {},
   "outputs": [],
   "source": [
    "# Fix join columns\n",
    "riboswitch_protein = pd.merge(riboswitch_protein[['unique_name','downstream_protein']], desc_pro_map, left_on=['downstream_protein'], right_on=[0])[['unique_name', 1]]\n",
    "riboswitch_protein"
   ]
  },
  {
   "cell_type": "code",
   "execution_count": null,
   "metadata": {},
   "outputs": [],
   "source": [
    "riboswitch_protein.to_csv(edge_data_location + 'riboswitch-protein.txt', header=None, sep='\\t', index=None)"
   ]
  },
  {
   "cell_type": "markdown",
   "metadata": {},
   "source": [
    "***\n",
    "### riboswitch-gobp"
   ]
  },
  {
   "cell_type": "markdown",
   "metadata": {},
   "source": [
    "* [TBDB](https://tbdb.io/) <br /> "
   ]
  },
  {
   "cell_type": "code",
   "execution_count": null,
   "metadata": {},
   "outputs": [],
   "source": [
    "riboswitch_gobp = pd.read_csv('https://tbdb.io/database/tbdb.csv', sep=',') \n",
    "riboswitch_gobp.unique_name = riboswitch_gobp.unique_name+'.html'\n",
    "riboswitch_gobp.protein_desc"
   ]
  },
  {
   "cell_type": "code",
   "execution_count": null,
   "metadata": {},
   "outputs": [],
   "source": [
    "# Extract only GO terms\n",
    "gobp = riboswitch_gobp.protein_desc.str.rpartition('[')[2].str.rpartition(']')[0].str.replace(\":\", \"_\")\n",
    "riboswitch_gobp = pd.concat([riboswitch_gobp, gobp.rename('gobp')], axis=1)\n",
    "riboswitch_gobp = riboswitch_gobp[riboswitch_gobp.gobp.str.contains(\"GO\", na=False)]\n",
    "riboswitch_gobp[['unique_name', 'gobp']]"
   ]
  },
  {
   "cell_type": "code",
   "execution_count": null,
   "metadata": {},
   "outputs": [],
   "source": [
    "riboswitch_gobp[['unique_name', 'gobp']].to_csv(edge_data_location + 'riboswitch-gobp.txt', header=None, sep='\\t', index=None)"
   ]
  },
  {
   "cell_type": "markdown",
   "metadata": {},
   "source": [
    "***\n",
    "### ribozyme-gobp"
   ]
  },
  {
   "cell_type": "markdown",
   "metadata": {},
   "source": [
    "* [Ribocentre](https://www.ribocentre.org/) <br />\n",
    "Ribocentre is designed to contain comprehensive information of all natural ribozymes."
   ]
  },
  {
   "cell_type": "code",
   "execution_count": null,
   "metadata": {},
   "outputs": [],
   "source": [
    "data_downloader('https://www.ribocentre.org/38dffd70-0f9f-499b-b442-be2f6e91a156', unprocessed_data_location)\n",
    "ribozyme_gobp = pd.read_excel(unprocessed_data_location + 'Ribocentre - Application.xlsx', header=1) \n",
    "ribozyme_gobp"
   ]
  },
  {
   "cell_type": "code",
   "execution_count": null,
   "metadata": {},
   "outputs": [],
   "source": [
    "ribozyme_gobp['gobp'] = ['','','GO_0015867', 'GO_0032363', 'GO_0010468', 'GO_0010468', 'GO_0010468', 'GO_2000232',\n",
    "                         'GO_0010468', 'GO_0010468', 'GO_0003743', '', '', '', '', '', '', '', 'GO_0010468',\n",
    "                         '', '', '', 'GO_0050790', '', '', '', '', '', 'GO_0050790', '', '', '', '', '']\n",
    "ribozyme_gobp"
   ]
  },
  {
   "cell_type": "code",
   "execution_count": null,
   "metadata": {},
   "outputs": [],
   "source": [
    "ribozyme_gobp[['ribozyme name', 'gobp']].to_csv(edge_data_location + 'ribozyme-gobp.txt', header=None, sep='\\t', index=None)"
   ]
  },
  {
   "cell_type": "markdown",
   "metadata": {},
   "source": [
    "***\n",
    "### viral RNA-ribozyme"
   ]
  },
  {
   "cell_type": "markdown",
   "metadata": {},
   "source": [
    "* [ViroidDB](https://viroids.org/) <br />\n",
    "ViroidDB is the most comprehensive collection of viroid, satellite RNA, retrozyme, and deltavirus genome sequences available on the internet. "
   ]
  },
  {
   "cell_type": "code",
   "execution_count": null,
   "metadata": {},
   "outputs": [],
   "source": [
    "data_downloader('https://viroids.org/db/latest/all.json', unprocessed_data_location)\n",
    "vRNA_ribozyme = pd.read_json(unprocessed_data_location + 'all.json').T \n",
    "vRNA_ribozyme"
   ]
  },
  {
   "cell_type": "code",
   "execution_count": null,
   "metadata": {},
   "outputs": [],
   "source": [
    "# Extract ribozymes \n",
    "myre = re.compile(r\"\\n>> .*?\\n\")\n",
    "ribozyme = [myre.findall(i) for i in vRNA_ribozyme.ribozymes]\n",
    "ribozyme = [[j.replace(\"\\n\",'').replace(\">> \",'') for j in i] for i in ribozyme]\n",
    "\n",
    "# List of all possible ribozymes (useful for mapping)\n",
    "a = [i for j in ribozyme for i in j]\n",
    "set(a)"
   ]
  },
  {
   "cell_type": "code",
   "execution_count": null,
   "metadata": {},
   "outputs": [],
   "source": [
    "vRNA_ribozyme = pd.concat([vRNA_ribozyme.reset_index().drop(columns=['index']),\n",
    "                           pd.Series(ribozyme)], axis=1)\n",
    "vRNA_ribozyme = vRNA_ribozyme.explode(0)\n",
    "vRNA_ribozyme[0] = vRNA_ribozyme[0].str.split().str[0]\n",
    "vRNA_ribozyme[['accession', 0]]"
   ]
  },
  {
   "cell_type": "code",
   "execution_count": null,
   "metadata": {},
   "outputs": [],
   "source": [
    "vRNA_ribozyme[['accession', 0]].to_csv(edge_data_location + 'viralRNA-ribozyme.txt', header=None, sep='\\t', index=None)"
   ]
  },
  {
   "cell_type": "markdown",
   "metadata": {},
   "source": [
    "***\n",
    "### protein-extracellular form"
   ]
  },
  {
   "cell_type": "markdown",
   "metadata": {},
   "source": [
    "* [Vesciclepedia](http://microvesicles.org/index.html)  <br /> Vesiclepedia is a a manually curated compendium of molecular data (lipid, RNA and protein) identified in different classes of extracellular vesicles. "
   ]
  },
  {
   "cell_type": "code",
   "execution_count": null,
   "metadata": {},
   "outputs": [],
   "source": [
    "data_downloader('http://microvesicles.org/Archive/VESICLEPEDIA_PROTEIN_MRNA_DETAILS_4.1.txt', unprocessed_data_location)\n",
    "protein_ev = pd.read_csv(unprocessed_data_location+'VESICLEPEDIA_PROTEIN_MRNA_DETAILS_4.1.txt', sep='\\t')\n",
    "protein_ev = protein_ev[(protein_ev['CONTENT TYPE'] == 'protein') & (protein_ev['SPECIES'].str.contains('apiens'))]\n",
    "protein_ev"
   ]
  },
  {
   "cell_type": "code",
   "execution_count": null,
   "metadata": {},
   "outputs": [],
   "source": [
    "data_downloader('http://microvesicles.org/Archive/VESICLEPEDIA_EXPERIMENT_DETAILS_4.1.txt', unprocessed_data_location)\n",
    "protein_ev_exp = pd.read_csv(unprocessed_data_location+'VESICLEPEDIA_EXPERIMENT_DETAILS_4.1.txt', sep='\\t')\n",
    "protein_ev_exp"
   ]
  },
  {
   "cell_type": "code",
   "execution_count": null,
   "metadata": {},
   "outputs": [],
   "source": [
    "protein_ev = pd.merge(protein_ev[['GENE SYMBOL','EXPERIMENT ID']], protein_ev_exp[['EXPERIMENT ID','VESICLE TYPE']],\n",
    "                 left_on=['EXPERIMENT ID'], right_on=['EXPERIMENT ID'])[['GENE SYMBOL', 'VESICLE TYPE']]\n",
    "protein_ev['VESICLE TYPE'].unique()"
   ]
  },
  {
   "cell_type": "code",
   "execution_count": null,
   "metadata": {},
   "outputs": [],
   "source": [
    "protein_ev['gocc'] = protein_ev['VESICLE TYPE'].str.replace(r\".*xosomes.*\", \"GO_0070062\", regex=True)\n",
    "protein_ev['gocc'] = protein_ev['gocc'].str.replace(\"Membrane blebs\", \"GO_0032059\")\n",
    "protein_ev['gocc'] = protein_ev['gocc'].str.replace(\"Apoptotic bodies\", \"GO_0097189\")\n",
    "protein_ev['gocc'] = protein_ev['gocc'].str.replace(r\".*embrane\", \"GO_0016020\", regex=True)\n",
    "protein_ev['gocc'] = protein_ev['gocc'].str.replace(r\".*icrovesicles\", \"GO_1990742\", regex=True)\n",
    "protein_ev['gocc'] = protein_ev['gocc'].str.replace(r\"^(?!GO_.*)\", \"GO_1990742\", regex=True)\n",
    "protein_ev['gocc'] = 'GO_'+protein_ev['gocc'].str.extract('(\\d+)', expand=False)\n",
    "protein_ev"
   ]
  },
  {
   "cell_type": "code",
   "execution_count": null,
   "metadata": {},
   "outputs": [],
   "source": [
    "protein_ev.to_csv(edge_data_location + 'protein-gocc.txt', header=None, sep='\\t', index=None)"
   ]
  },
  {
   "cell_type": "markdown",
   "metadata": {},
   "source": [
    "***\n",
    "### miRNA-extracellular form"
   ]
  },
  {
   "cell_type": "markdown",
   "metadata": {},
   "source": [
    "* [Vesciclepedia](http://microvesicles.org/index.html)"
   ]
  },
  {
   "cell_type": "code",
   "execution_count": null,
   "metadata": {},
   "outputs": [],
   "source": [
    "data_downloader('http://microvesicles.org/Archive/VESICLEPEDIA_MIRNA_DETAILS_4.1.txt', unprocessed_data_location)\n",
    "miRNA_ev = pd.read_csv(unprocessed_data_location+'VESICLEPEDIA_MIRNA_DETAILS_4.1.txt', sep='\\t')\n",
    "miRNA_ev = miRNA_ev[miRNA_ev['SPECIES'].str.contains('apiens')]\n",
    "miRNA_ev"
   ]
  },
  {
   "cell_type": "code",
   "execution_count": null,
   "metadata": {},
   "outputs": [],
   "source": [
    "miRNA_ev = pd.merge(miRNA_ev[['MIRNA ID','EXPERIMENT ID']], protein_ev_exp[['EXPERIMENT ID','VESICLE TYPE']],\n",
    "                 left_on=['EXPERIMENT ID'], right_on=['EXPERIMENT ID'])[['MIRNA ID', 'VESICLE TYPE']]\n",
    "miRNA_ev['VESICLE TYPE'].unique()"
   ]
  },
  {
   "cell_type": "code",
   "execution_count": null,
   "metadata": {},
   "outputs": [],
   "source": [
    "miRNA_ev['gocc'] = miRNA_ev['VESICLE TYPE'].str.replace(\"Exosomes\", \"GO_0070062\")\n",
    "miRNA_ev['gocc'] = miRNA_ev['gocc'].str.replace(\"Microvesicles\", \"GO_1990742\")\n",
    "miRNA_ev['gocc'] = miRNA_ev['gocc'].str.replace(\"Extracellular vesicles\", \"GO_1990742\")\n",
    "miRNA_ev['gocc'] = 'GO_'+miRNA_ev['gocc'].str.extract('(\\d+)', expand=False)\n",
    "miRNA_ev"
   ]
  },
  {
   "cell_type": "code",
   "execution_count": null,
   "metadata": {},
   "outputs": [],
   "source": [
    "miRNA_ev.to_csv(edge_data_location + 'miRNA-gocc.txt', header=None, sep='\\t', index=None)"
   ]
  },
  {
   "cell_type": "markdown",
   "metadata": {},
   "source": [
    "***\n",
    "### mRNA-extracellular form"
   ]
  },
  {
   "cell_type": "markdown",
   "metadata": {},
   "source": [
    "* [Vesciclepedia](http://microvesicles.org/index.html)"
   ]
  },
  {
   "cell_type": "code",
   "execution_count": null,
   "metadata": {},
   "outputs": [],
   "source": [
    "mRNA_ev = pd.read_csv(unprocessed_data_location+'VESICLEPEDIA_PROTEIN_MRNA_DETAILS_4.1.txt', sep='\\t')\n",
    "mRNA_ev = mRNA_ev[(mRNA_ev['CONTENT TYPE'] == 'mRNA') & (mRNA_ev['SPECIES'].str.contains('apiens'))]\n",
    "mRNA_ev"
   ]
  },
  {
   "cell_type": "code",
   "execution_count": null,
   "metadata": {},
   "outputs": [],
   "source": [
    "mRNA_ev = pd.merge(mRNA_ev[['ENTREZ GENE ID','EXPERIMENT ID']], protein_ev_exp[['EXPERIMENT ID','VESICLE TYPE']],\n",
    "                 left_on=['EXPERIMENT ID'], right_on=['EXPERIMENT ID'])[['ENTREZ GENE ID', 'VESICLE TYPE']]\n",
    "mRNA_ev['VESICLE TYPE'].unique()"
   ]
  },
  {
   "cell_type": "code",
   "execution_count": null,
   "metadata": {},
   "outputs": [],
   "source": [
    "mRNA_ev"
   ]
  },
  {
   "cell_type": "code",
   "execution_count": null,
   "metadata": {},
   "outputs": [],
   "source": [
    "mRNA_ev['gocc'] = mRNA_ev['VESICLE TYPE'].str.replace(r\".*xosomes.*\", \"GO_0070062\", regex=True)\n",
    "mRNA_ev['gocc'] = mRNA_ev['gocc'].str.replace(\"Microvesicles\", \"GO_1990742\")\n",
    "mRNA_ev"
   ]
  },
  {
   "cell_type": "code",
   "execution_count": null,
   "metadata": {},
   "outputs": [],
   "source": [
    "mRNA_ev.to_csv(edge_data_location + 'mRNA-gocc.txt', header=None, sep='\\t', index=None)"
   ]
  },
  {
   "cell_type": "markdown",
   "metadata": {},
   "source": [
    "***\n",
    "### circRNA-extracellular form"
   ]
  },
  {
   "cell_type": "markdown",
   "metadata": {},
   "source": [
    "* [miRandola](http://mirandola.iit.cnr.it/) <br /> miRandola is a comprehensive manually curated classification of different extracellular circulating non-coding RNA types."
   ]
  },
  {
   "cell_type": "code",
   "execution_count": null,
   "metadata": {},
   "outputs": [],
   "source": [
    "circRNA_ev = pd.read_csv('http://mirandola.iit.cnr.it/download/miRandola_version_02_2017.txt', sep='\\t')\n",
    "circRNA_ev = circRNA_ev[(circRNA_ev['RNA_class'] == 'circRNA') & (circRNA_ev['organism'].str.contains('apiens'))]\n",
    "circRNA_ev"
   ]
  },
  {
   "cell_type": "code",
   "execution_count": null,
   "metadata": {},
   "outputs": [],
   "source": [
    "# circRNA in miRandola only circulates in blood\n",
    "circRNA_ev['gocc'] = 'GO_0072562'"
   ]
  },
  {
   "cell_type": "code",
   "execution_count": null,
   "metadata": {},
   "outputs": [],
   "source": [
    "circRNA_ev.to_csv(edge_data_location + 'circRNA-gocc.txt', header=None, sep='\\t', index=None)"
   ]
  },
  {
   "cell_type": "markdown",
   "metadata": {},
   "source": [
    "***\n",
    "### circRNA-miRNA"
   ]
  },
  {
   "cell_type": "markdown",
   "metadata": {},
   "source": [
    "* [SomamiR DB](https://compbio.uthsc.edu/SomamiR/) <br /> SomamiR is a database of cancer somatic mutations in microRNAs (miRNA) and their target sites that potentially alter the interactions between miRNAs and competing endogenous RNAs (ceRNA) including mRNAs, circular RNAs (circRNA) and long noncoding RNAs (lncRNA). It also provides an integrated platform for the functional analysis of these somatic mutations."
   ]
  },
  {
   "cell_type": "code",
   "execution_count": null,
   "metadata": {},
   "outputs": [],
   "source": [
    "data_downloader('https://compbio.uthsc.edu/SomamiR/download/circRNA_somatic_v2.0.txt.tar.gz',\n",
    "                unprocessed_data_location)\n",
    " \n",
    "circRNA_miRNA = pd.read_csv(unprocessed_data_location + 'circRNA_somatic_v2.0.txt', sep=\"\\t\", header=None, skiprows=[0])\n",
    "circRNA_miRNA"
   ]
  },
  {
   "cell_type": "code",
   "execution_count": null,
   "metadata": {},
   "outputs": [],
   "source": [
    "circRNA_miRNA.to_csv(edge_data_location + 'circRNA-miRNA.txt', header=None, sep='\\t', index=None)"
   ]
  },
  {
   "cell_type": "markdown",
   "metadata": {},
   "source": [
    "***\n",
    "### Remove unprocessed raw data"
   ]
  },
  {
   "cell_type": "code",
   "execution_count": null,
   "metadata": {},
   "outputs": [],
   "source": [
    "shutil.rmtree(unprocessed_data_location)"
   ]
  },
  {
   "cell_type": "markdown",
   "metadata": {},
   "source": [
    "## Non-ontology data"
   ]
  },
  {
   "cell_type": "code",
   "execution_count": null,
   "metadata": {},
   "outputs": [],
   "source": [
    "# Provided by PKL ecosystem\n",
    "data_downloader(processed_url+'subclass_construction_map.pkl', '../resources/construction_approach/')\n",
    "\n",
    "# Load data, print row count, and preview it\n",
    "nonO_data = pd.read_pickle(r'../resources/construction_approach/'+'subclass_construction_map.pkl')\n",
    "\n",
    "# For instance, ncbi IDs are mapped to appropriate SO Ontology entries\n",
    "list(nonO_data.items())[:5]"
   ]
  },
  {
   "cell_type": "markdown",
   "metadata": {},
   "source": [
    "***\n",
    "### miRNA sequences"
   ]
  },
  {
   "cell_type": "code",
   "execution_count": null,
   "metadata": {},
   "outputs": [],
   "source": [
    "mature_mirna = mirna_mirbase_map[mirna_mirbase_map[0].str.startswith('MIMAT')]\n",
    "mature_mirna['SO'] = [['SO_0000276']] * len(mature_mirna)\n",
    "\n",
    "pre_mirna = mirna_mirbase_map[~mirna_mirbase_map[0].str.startswith('MIMAT')]\n",
    "pre_mirna['SO'] = [['SO_0000647']] * len(pre_mirna)\n",
    "\n",
    "mirna_mirbase_map = pd.concat([mature_mirna, pre_mirna])\n",
    "\n",
    "mirna_nonO = mirna_mirbase_map.drop(1, axis=1).set_index(0).to_dict()\n",
    "nonO_data = {**nonO_data, **mirna_nonO['SO']}"
   ]
  },
  {
   "cell_type": "markdown",
   "metadata": {},
   "source": [
    "***\n",
    "### miRNA sequences"
   ]
  },
  {
   "cell_type": "code",
   "execution_count": null,
   "metadata": {},
   "outputs": [],
   "source": [
    "tsRNAnonO_data = tsRNA_tRF_map[[1]]\n",
    "tsRNAnonO_data['SO']=[['SO_0000253']]*len(tsRNA_tRF_map)\n",
    "\n",
    "tsRNAnonO_data = tsRNAnonO_data.set_index(1).to_dict()\n",
    "nonO_data = {**nonO_data, **tsRNAnonO_data['SO']}"
   ]
  },
  {
   "cell_type": "markdown",
   "metadata": {},
   "source": [
    "***\n",
    "### ASO sequences"
   ]
  },
  {
   "cell_type": "code",
   "execution_count": null,
   "metadata": {},
   "outputs": [],
   "source": [
    "ASO_gene = ASO_gene[['DB ID']]\n",
    "ASO_gene['SO'] = [['SO_0000644']] * len(ASO_gene)\n",
    "ASO_gene"
   ]
  },
  {
   "cell_type": "code",
   "execution_count": null,
   "metadata": {},
   "outputs": [],
   "source": [
    "ASOnonO_data = ASO_gene.set_index('DB ID').to_dict()\n",
    "nonO_data = {**nonO_data, **ASOnonO_data['SO']}"
   ]
  },
  {
   "cell_type": "markdown",
   "metadata": {},
   "source": [
    "***\n",
    "### gRNA sequences"
   ]
  },
  {
   "cell_type": "code",
   "execution_count": null,
   "metadata": {},
   "outputs": [],
   "source": [
    "gRNA_gene = gRNA_gene[[3]]\n",
    "gRNA_gene['SO']=[['SO_0000602']]*len(gRNA_gene)\n",
    "\n",
    "gRNA_nonO = gRNA_gene.set_index(3).to_dict()\n",
    "nonO_data = {**nonO_data, **gRNA_nonO['SO']}"
   ]
  },
  {
   "cell_type": "code",
   "execution_count": null,
   "metadata": {},
   "outputs": [],
   "source": [
    "with open('../resources/construction_approach/'+'subclass_construction_map.pkl', 'wb') as handle:\n",
    "    pickle.dump(nonO_data, handle, protocol=pickle.HIGHEST_PROTOCOL)"
   ]
  },
  {
   "cell_type": "markdown",
   "metadata": {},
   "source": [
    "***\n",
    "### siRNA sequences"
   ]
  },
  {
   "cell_type": "code",
   "execution_count": null,
   "metadata": {},
   "outputs": [],
   "source": [
    "siRNA_gene = siRNA_gene[['DB ID']]\n",
    "siRNA_gene['SO'] = [['SO_0000646']] * len(siRNA_gene)\n",
    "siRNA_gene\n",
    "\n",
    "siRNAnonO_data = siRNA_gene.set_index('DB ID').to_dict()\n",
    "nonO_data = {**nonO_data, **siRNAnonO_data['SO']}"
   ]
  },
  {
   "cell_type": "code",
   "execution_count": null,
   "metadata": {},
   "outputs": [],
   "source": [
    "with open('../resources/construction_approach/'+'subclass_construction_map.pkl', 'wb') as handle:\n",
    "    pickle.dump(nonO_data, handle, protocol=pickle.HIGHEST_PROTOCOL)"
   ]
  },
  {
   "cell_type": "markdown",
   "metadata": {},
   "source": [
    "***\n",
    "### Aptamer sequences"
   ]
  },
  {
   "cell_type": "code",
   "execution_count": null,
   "metadata": {},
   "outputs": [],
   "source": [
    "aptamer_protein = aptamer_protein[['DB ID']]\n",
    "aptamer_protein['SO'] = [['SO_0000033']] * len(aptamer_protein)\n",
    "aptamer_protein\n",
    "\n",
    "aptamernonO_data = aptamer_protein.set_index('DB ID').to_dict()\n",
    "nonO_data = {**nonO_data, **aptamernonO_data['SO']}"
   ]
  },
  {
   "cell_type": "code",
   "execution_count": null,
   "metadata": {},
   "outputs": [],
   "source": [
    "with open('../resources/construction_approach/'+'subclass_construction_map.pkl', 'wb') as handle:\n",
    "    pickle.dump(nonO_data, handle, protocol=pickle.HIGHEST_PROTOCOL)"
   ]
  },
  {
   "cell_type": "markdown",
   "metadata": {},
   "source": [
    "***\n",
    "### mRNA vaccines sequences"
   ]
  },
  {
   "cell_type": "code",
   "execution_count": null,
   "metadata": {},
   "outputs": [],
   "source": [
    "mRNAv_disease = mRNAv_disease[['DB ID']]\n",
    "mRNAv_disease['VO'] = [['VO_0000186']] * len(mRNAv_disease)\n",
    "mRNAv_disease\n",
    "\n",
    "mRNAvnonO_data = mRNAv_disease.set_index('DB ID').to_dict()\n",
    "nonO_data = {**nonO_data, **mRNAvnonO_data['VO']}"
   ]
  },
  {
   "cell_type": "code",
   "execution_count": null,
   "metadata": {},
   "outputs": [],
   "source": [
    "with open('../resources/construction_approach/'+'subclass_construction_map.pkl', 'wb') as handle:\n",
    "    pickle.dump(nonO_data, handle, protocol=pickle.HIGHEST_PROTOCOL)"
   ]
  },
  {
   "cell_type": "markdown",
   "metadata": {},
   "source": [
    "***\n",
    "### Riboswitch sequences"
   ]
  },
  {
   "cell_type": "code",
   "execution_count": null,
   "metadata": {},
   "outputs": [],
   "source": [
    "riboswitch_protein = riboswitch_protein[['unique_name']]\n",
    "riboswitch_protein['SO'] = [['SO_0000035']] * len(riboswitch_protein)\n",
    "riboswitch_protein\n",
    "\n",
    "riboswitchnonO_data = riboswitch_protein.set_index('unique_name').to_dict()\n",
    "nonO_data = {**nonO_data, **riboswitchnonO_data['SO']}"
   ]
  },
  {
   "cell_type": "code",
   "execution_count": null,
   "metadata": {},
   "outputs": [],
   "source": [
    "with open('../resources/construction_approach/'+'subclass_construction_map.pkl', 'wb') as handle:\n",
    "    pickle.dump(nonO_data, handle, protocol=pickle.HIGHEST_PROTOCOL)"
   ]
  },
  {
   "cell_type": "markdown",
   "metadata": {},
   "source": [
    "***\n",
    "### Ribozyme sequences"
   ]
  },
  {
   "cell_type": "code",
   "execution_count": null,
   "metadata": {},
   "outputs": [],
   "source": [
    "ribozyme_rfam_map['SO'] = [['SO_0000374']] * len(ribozyme_rfam_map[[1]])\n",
    "ribozyme_rfam_map\n",
    "\n",
    "ribozymenonO_data = ribozyme_rfam_map.set_index(1).to_dict()\n",
    "nonO_data = {**nonO_data, **ribozymenonO_data['SO']}"
   ]
  },
  {
   "cell_type": "code",
   "execution_count": null,
   "metadata": {},
   "outputs": [],
   "source": [
    "with open('../resources/construction_approach/'+'subclass_construction_map.pkl', 'wb') as handle:\n",
    "    pickle.dump(nonO_data, handle, protocol=pickle.HIGHEST_PROTOCOL)"
   ]
  },
  {
   "cell_type": "markdown",
   "metadata": {},
   "source": [
    "***\n",
    "### Viral RNA sequences"
   ]
  },
  {
   "cell_type": "code",
   "execution_count": null,
   "metadata": {},
   "outputs": [],
   "source": [
    "vRNA_ribozyme.moleculeType.unique()"
   ]
  },
  {
   "cell_type": "code",
   "execution_count": null,
   "metadata": {},
   "outputs": [],
   "source": [
    "ssRNA = vRNA_ribozyme[['accession', 'moleculeType']].loc[vRNA_ribozyme['moleculeType'] == 'ssRNA']\n",
    "ssRNA['SO'] = [['SO_0001199']] * len(ssRNA)\n",
    "ssRNA"
   ]
  },
  {
   "cell_type": "code",
   "execution_count": null,
   "metadata": {},
   "outputs": [],
   "source": [
    "ssRNAnonO_data = ssRNA.set_index('accession').to_dict()\n",
    "nonO_data = {**nonO_data, **ssRNAnonO_data['SO']}"
   ]
  },
  {
   "cell_type": "code",
   "execution_count": null,
   "metadata": {},
   "outputs": [],
   "source": [
    "with open('../resources/construction_approach/'+'subclass_construction_map.pkl', 'wb') as handle:\n",
    "    pickle.dump(nonO_data, handle, protocol=pickle.HIGHEST_PROTOCOL)"
   ]
  },
  {
   "cell_type": "code",
   "execution_count": null,
   "metadata": {},
   "outputs": [],
   "source": [
    "ssRNAm = vRNA_ribozyme[['accession', 'moleculeType']].loc[vRNA_ribozyme['moleculeType'] == 'ssRNA(-)']\n",
    "ssRNAm['SO'] = [['SO_0001200']] * len(ssRNAm)\n",
    "ssRNAmnonO_data = ssRNAm.set_index('accession').to_dict()\n",
    "nonO_data = {**nonO_data, **ssRNAmnonO_data['SO']}\n",
    "with open('../resources/construction_approach/'+'subclass_construction_map.pkl', 'wb') as handle:\n",
    "    pickle.dump(nonO_data, handle, protocol=pickle.HIGHEST_PROTOCOL)\n",
    "    \n",
    "    \n",
    "    \n",
    "dsRNA = vRNA_ribozyme[['accession', 'moleculeType']].loc[vRNA_ribozyme['moleculeType'] == 'RNA']\n",
    "dsRNA['SO'] = [['SO_0001169']] * len(dsRNA)\n",
    "dsRNAnonO_data = dsRNA.set_index('accession').to_dict()\n",
    "nonO_data = {**nonO_data, **dsRNAnonO_data['SO']}\n",
    "with open('../resources/construction_approach/'+'subclass_construction_map.pkl', 'wb') as handle:\n",
    "    pickle.dump(nonO_data, handle, protocol=pickle.HIGHEST_PROTOCOL)\n",
    "    \n",
    "    \n",
    "    \n",
    "viralRNA = vRNA_ribozyme[['accession', 'moleculeType']].loc[vRNA_ribozyme['moleculeType'].isna()]\n",
    "viralRNA['SO'] = [['SO_0001041']] * len(viralRNA)\n",
    "viralRNAnonO_data = viralRNA.set_index('accession').to_dict()\n",
    "nonO_data = {**nonO_data, **viralRNAnonO_data['SO']}\n",
    "with open('../resources/construction_approach/'+'subclass_construction_map.pkl', 'wb') as handle:\n",
    "    pickle.dump(nonO_data, handle, protocol=pickle.HIGHEST_PROTOCOL)"
   ]
  },
  {
   "cell_type": "markdown",
   "metadata": {},
   "source": [
    "***\n",
    "### siRNA sequences"
   ]
  },
  {
   "cell_type": "code",
   "execution_count": null,
   "metadata": {},
   "outputs": [],
   "source": [
    "ICBPsiRNA['SO'] = [['SO_0000646']] * len(ICBPsiRNA)\n",
    "ICBPsiRNA"
   ]
  },
  {
   "cell_type": "code",
   "execution_count": null,
   "metadata": {},
   "outputs": [],
   "source": [
    "siRNAnonO_data = ICBPsiRNA.set_index('ID#').to_dict()\n",
    "nonO_data = {**nonO_data, **siRNAnonO_data['SO']}"
   ]
  },
  {
   "cell_type": "code",
   "execution_count": null,
   "metadata": {},
   "outputs": [],
   "source": [
    "with open('../resources/construction_approach/'+'subclass_construction_map.pkl', 'wb') as handle:\n",
    "    pickle.dump(nonO_data, handle, protocol=pickle.HIGHEST_PROTOCOL)"
   ]
  },
  {
   "cell_type": "markdown",
   "metadata": {},
   "source": [
    "***\n",
    "### shRNA sequences"
   ]
  },
  {
   "cell_type": "code",
   "execution_count": null,
   "metadata": {},
   "outputs": [],
   "source": [
    "ICBPshRNA['SO'] = [['SO_0002031']] * len(ICBPshRNA)\n",
    "ICBPshRNA"
   ]
  },
  {
   "cell_type": "code",
   "execution_count": null,
   "metadata": {},
   "outputs": [],
   "source": [
    "shRNAnonO_data = ICBPshRNA.set_index('ID#').to_dict()\n",
    "nonO_data = {**nonO_data, **shRNAnonO_data['SO']}"
   ]
  },
  {
   "cell_type": "code",
   "execution_count": null,
   "metadata": {},
   "outputs": [],
   "source": [
    "with open('../resources/construction_approach/'+'subclass_construction_map.pkl', 'wb') as handle:\n",
    "    pickle.dump(nonO_data, handle, protocol=pickle.HIGHEST_PROTOCOL)"
   ]
  },
  {
   "cell_type": "markdown",
   "metadata": {},
   "source": [
    "***\n",
    "### Biological roles in ChEBI"
   ]
  },
  {
   "cell_type": "code",
   "execution_count": null,
   "metadata": {},
   "outputs": [],
   "source": [
    "bio_role = pd.DataFrame(columns = [\"role\", \"ChEBI\"])\n",
    "bio_role['role'] = ['General', 'Tumor-Suppressor-Gene', 'Oncogene']\n",
    "bio_role['ChEBI'] = [['CHEBI_24432']] * 3\n",
    "bio_role"
   ]
  },
  {
   "cell_type": "code",
   "execution_count": null,
   "metadata": {},
   "outputs": [],
   "source": [
    "role_nonO_data = bio_role.set_index('role').to_dict()\n",
    "nonO_data = {**nonO_data, **role_nonO_data['ChEBI']}"
   ]
  },
  {
   "cell_type": "code",
   "execution_count": null,
   "metadata": {},
   "outputs": [],
   "source": [
    "with open('../resources/construction_approach/'+'subclass_construction_map.pkl', 'wb') as handle:\n",
    "    pickle.dump(nonO_data, handle, protocol=pickle.HIGHEST_PROTOCOL)"
   ]
  },
  {
   "cell_type": "code",
   "execution_count": null,
   "metadata": {},
   "outputs": [],
   "source": []
  },
  {
   "cell_type": "code",
   "execution_count": null,
   "metadata": {},
   "outputs": [],
   "source": []
  },
  {
   "cell_type": "code",
   "execution_count": null,
   "metadata": {},
   "outputs": [],
   "source": []
  },
  {
   "cell_type": "code",
   "execution_count": null,
   "metadata": {},
   "outputs": [],
   "source": []
  },
  {
   "cell_type": "code",
   "execution_count": null,
   "metadata": {},
   "outputs": [],
   "source": [
    "# DO NOT RUN, thi cell is only intended to CHECK everything's OK\n",
    "nonO_data = pd.read_pickle(r'../resources/construction_approach/'+'subclass_construction_map.pkl')\n",
    "\n",
    "nonO_data.items()"
   ]
  }
 ],
 "metadata": {
  "kernelspec": {
   "display_name": "Python 3",
   "language": "python",
   "name": "python3"
  },
  "language_info": {
   "codemirror_mode": {
    "name": "ipython",
    "version": 3
   },
   "file_extension": ".py",
   "mimetype": "text/x-python",
   "name": "python",
   "nbconvert_exporter": "python",
   "pygments_lexer": "ipython3",
   "version": "3.10.6"
  },
  "latex_envs": {
   "LaTeX_envs_menu_present": true,
   "autoclose": false,
   "autocomplete": true,
   "bibliofile": "biblio.bib",
   "cite_by": "apalike",
   "current_citInitial": 1,
   "eqLabelWithNumbers": true,
   "eqNumInitial": 1,
   "hotkeys": {
    "equation": "Ctrl-E",
    "itemize": "Ctrl-I"
   },
   "labels_anchors": false,
   "latex_user_defs": false,
   "report_style_numbering": false,
   "user_envs_cfg": false
  },
  "pycharm": {
   "stem_cell": {
    "cell_type": "raw",
    "metadata": {
     "collapsed": false
    },
    "source": []
   }
  }
 },
 "nbformat": 4,
 "nbformat_minor": 1
}
