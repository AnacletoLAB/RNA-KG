{
 "cells": [
  {
   "cell_type": "markdown",
   "metadata": {
    "collapsed": true
   },
   "source": [
    "# <p style=\"text-align: center;\">Inter-RNA Knowledge Graph Build Data Preparation</p>\n",
    "    \n",
    "***\n",
    "***\n",
    "\n",
    "**Authors:** [ECavalleri](https://mail.google.com/mail/u/0/?view=cm&fs=1&tf=1&to=emanuele.cavalleri@unimi.it), [TJCallahan](https://mail.google.com/mail/u/0/?view=cm&fs=1&tf=1&to=callahantiff@gmail.com)\n",
    "\n",
    "**GitHub Repositories:** [RNA-KG](https://github.com/AnacletoLAB/RNA-KG/), [PheKnowLator](https://github.com/callahantiff/PheKnowLator/)  \n",
    "<!--- **Release:** **[v2.0.0](https://github.com/callahantiff/PheKnowLator/wiki/v2.0.0)** --->\n",
    "  \n",
    "<br>  \n",
    "  \n",
    "**Purpose:** This notebook serves as a script to download, process, map, and clean data in order to build edges for the inteЯNA-centered Knowledge Graph (i.e., the RNA-KG subgraph including only inter-RNA sources).\n",
    "<br>\n",
    "\n",
    "**Assumptions:**   \n",
    "- Edge data downloads ➞ `./resources/edge_data`  \n",
    "- Ontologies ➞ `./resources/ontologies`    \n",
    "- Processed data write location ➞ `./resources/processed_data`\n",
    "- [RNA-KG_preparation.ipynb](https://github.com/AnacletoLAB/RNA-KG/blob/main/notebooks/RNA-KG_Preparation.ipynb) notebook has already been run.\n",
    "\n",
    "<br>\n",
    "\n",
    "**Dependencies:**   \n",
    "- **Scripts**: This notebook utilizes several helper functions, which are stored in the [`data_utils.py`](https://github.com/callahantiff/PheKnowLator/blob/master/pkt_kg/utils/data_utils.py) and [`kg_utils.py`](https://github.com/callahantiff/PheKnowLator/blob/master/pkt_kg/utils/kg_utils.py) scripts.  \n",
    "- **Data**: All downloaded and generated data sources are provided through [10.5281/zenodo.10078876](https://zenodo.org/doi/10.5281/zenodo.10078876) dedicated repository. <u>This notebook will download everything that is needed for you</u>.  \n",
    "_____\n",
    "***"
   ]
  },
  {
   "cell_type": "markdown",
   "metadata": {},
   "source": [
    "## Set-Up Environment\n",
    "_____"
   ]
  },
  {
   "cell_type": "code",
   "execution_count": null,
   "metadata": {},
   "outputs": [],
   "source": [
    "%%capture\n",
    "import sys\n",
    "!{sys.executable} -m pip install -r requirements.txt\n",
    "sys.path.append('../')"
   ]
  },
  {
   "cell_type": "code",
   "execution_count": null,
   "metadata": {},
   "outputs": [],
   "source": [
    "# import needed libraries\n",
    "import datetime\n",
    "import glob\n",
    "import itertools\n",
    "import networkx\n",
    "import numpy\n",
    "import os\n",
    "import pickle\n",
    "import re\n",
    "import requests\n",
    "import tarfile\n",
    "import shutil\n",
    "import pandas as pd\n",
    "import numpy as np\n",
    "pd.set_option('display.max_columns', None)\n",
    "import re\n",
    "\n",
    "from collections import Counter\n",
    "from functools import reduce\n",
    "from rdflib import Graph, Namespace, URIRef, BNode, Literal\n",
    "from rdflib.namespace import OWL, RDF, RDFS\n",
    "from reactome2py import content\n",
    "from tqdm import tqdm\n",
    "from typing import Dict\n",
    "\n",
    "from pkt_kg.utils import * \n",
    "from builds.ontology_cleaning import *\n",
    "\n",
    "import gzip\n",
    "\n",
    "from typing import Tuple"
   ]
  },
  {
   "cell_type": "markdown",
   "metadata": {},
   "source": [
    "#### Define Global Variables"
   ]
  },
  {
   "cell_type": "code",
   "execution_count": null,
   "metadata": {},
   "outputs": [],
   "source": [
    "# directory to store resources\n",
    "resource_data_location = '../resources/'\n",
    "\n",
    "# directory to use for unprocessed data\n",
    "unprocessed_data_location = '../resources/processed_data/unprocessed_data/'\n",
    "\n",
    "# directory to use for processed data\n",
    "processed_data_location = '../resources/processed_data/'\n",
    "\n",
    "# directory to write ontology data to\n",
    "ontology_data_location = '../resources/ontologies/'\n",
    "\n",
    "# directory to write edge data to\n",
    "KG_edge_data_location = '../resources/edge_data/'\n",
    "\n",
    "# directory to write inter-RNA-KG edges data to\n",
    "edge_data_location = KG_edge_data_location + 'inteRNA-KG_edges/'\n",
    "\n",
    "# processed data url \n",
    "processed_url = 'https://storage.googleapis.com/pheknowlator/current_build/data/processed_data/'\n",
    "\n",
    "# original data url \n",
    "original_url = 'https://storage.googleapis.com/pheknowlator/current_build/data/original_data/'\n",
    "\n",
    "# owltools location\n",
    "owltools_location = '../pkt_kg/libs/owltools'"
   ]
  },
  {
   "cell_type": "markdown",
   "metadata": {},
   "source": [
    "***\n",
    "***\n",
    "## IMPORT MAPPING DATASETS  <a class=\"anchor\" id=\"create-identifier-maps\"></a>\n",
    "***\n",
    "***"
   ]
  },
  {
   "cell_type": "code",
   "execution_count": null,
   "metadata": {},
   "outputs": [],
   "source": [
    "entrez_pro_map = pd.read_csv(processed_data_location+'ENTREZ_GENE_PRO_ONTOLOGY_MAP.txt', header=None, delimiter='\\t')[[0,1]]\n",
    "desc_chebi_map = pd.read_csv(unprocessed_data_location+'DESC_CHEBI_MAP.txt', header=None, delimiter='\\t')\n",
    "desc_mondo_map = pd.read_csv(processed_data_location + 'DESC_MONDO_MAP.txt', header=None, sep='\\t')\n",
    "desc_hpo_map = pd.read_csv(processed_data_location + 'DESC_HP_MAP.txt', header=None, sep='\\t')\n",
    "desc_disPhe_map = pd.concat([desc_mondo_map, desc_hpo_map]).drop_duplicates()\n",
    "desc_go_map = pd.read_csv(unprocessed_data_location+'DESC_GO_MAP.txt', header=None, delimiter='\\t')\n",
    "desc_reactome_map = pd.read_csv(processed_data_location + 'DESC_REACTOME_MAP.txt', header=None, sep='\\t')\n",
    "desc_pw_map = pd.read_csv(unprocessed_data_location+'DESC_PW_MAP.txt', header=None, delimiter='\\t')\n",
    "mirna_mirbase_map = pd.read_csv(processed_data_location + 'MIRNA_MIRBASE_MAP.txt', header=None, sep='\\t')\n",
    "symbol_to_pro = pd.read_csv(processed_data_location + 'GENE_SYMBOL_PRO_ONTOLOGY_MAP.txt', header=None, sep='\\t')\n",
    "symbol_entrez_map = pd.read_csv(processed_data_location+'GENE_SYMBOL_ENTREZ_ID_MAP.txt',header=None, sep='\\t')\n",
    "ensembl_entrezTranscript_map = pd.read_csv(processed_data_location+'ENTREZ_GENE_ENSEMBL_TRANSCRIPT_MAP.txt',header=None, sep='\\t')\n",
    "ensembl_entrezGene_map = pd.read_csv(processed_data_location+'ENSEMBL_GENE_ENTREZ_GENE_MAP.txt',header=None, sep='\\t')\n",
    "desc_uberon_map = pd.read_csv(unprocessed_data_location+'DESC_EXT_MAP.txt', header=None, delimiter='\\t')\n",
    "desc_clo_map = pd.read_csv(unprocessed_data_location+'DESC_CLO_MAP.txt', header=None, delimiter='\\t')\n",
    "\n",
    "doid_mondo_map = pd.read_csv(processed_data_location+'DOID_MONDO_MAP.txt', header=None, delimiter='\\t')\n",
    "doid_mondo_map[1] = doid_mondo_map[1].str.split(', ')\n",
    "doid_mondo_map = doid_mondo_map.explode(1)\n",
    "\n",
    "desc_pro_map = pd.read_csv(processed_data_location + 'DESC_PR_MAP.txt', header=None, sep='\\t')\n",
    "desc_pro_map = desc_pro_map[~desc_pro_map[1].str.startswith('gene_symbol_report?hgnc_id=')]\n",
    "desc_pro_map_human = desc_pro_map.dropna()[desc_pro_map.dropna()[0].str.contains('human', case=False)]\n",
    "desc_pro_map_human[0] = desc_pro_map_human[0].str.replace(\"human \", '')\n",
    "desc_pro_map_human[0] = desc_pro_map_human[0].str.replace(\"human\", '')\n",
    "desc_pro_map_human[0] = desc_pro_map_human[0].str.replace(\" \\(\", '')\n",
    "desc_pro_map_human[0] = desc_pro_map_human[0].str.replace(\"\\)\", '')\n",
    "desc_pro_map_human[0] = desc_pro_map_human[0].str.replace(\",(.*)\", '')\n",
    "desc_pro_map_human[1] = desc_pro_map_human[1].str.split(', ')\n",
    "desc_pro_map_human = desc_pro_map_human.explode(1)\n",
    "desc_pro_map[0] = desc_pro_map[0].str.replace(\"human \", '')\n",
    "desc_pro_map[0] = desc_pro_map[0].str.replace(\"human\", '')\n",
    "desc_pro_map[0] = desc_pro_map[0].str.replace(\" \\(\", '')\n",
    "desc_pro_map[0] = desc_pro_map[0].str.replace(\"\\)\", '')\n",
    "desc_pro_map[0] = desc_pro_map[0].str.replace(\",(.*)\", '')\n",
    "desc_pro_map[1] = desc_pro_map[1].str.split(', ')\n",
    "desc_pro_map = desc_pro_map.explode(1)\n",
    "desc_pro_map = desc_pro_map[~desc_pro_map[0].isin(desc_pro_map_human[0])]"
   ]
  },
  {
   "cell_type": "code",
   "execution_count": null,
   "metadata": {},
   "outputs": [],
   "source": [
    "def merge_rows(df, column1, column2):\n",
    "    df = df.drop_duplicates()\n",
    "    df_merged = df.groupby([column1, column2]).agg(lambda x: '|'.join(set(str(i) for i in x if pd.notnull(i)))).reset_index()\n",
    "    return df_merged.drop_duplicates()\n",
    "\n",
    "desc_ncit_map = pd.read_csv(processed_data_location + 'DESC_NCIT_MAP.txt', header=None, sep='\\t')\n",
    "ncit_dict = dict(zip(desc_ncit_map[0], 'http://purl.obolibrary.org/obo/' + desc_ncit_map[1] +\n",
    "                     ' (' + desc_ncit_map[0] + ')'))\n",
    "\n",
    "def replace_with_ncit(substring):\n",
    "    if pd.isna(substring):\n",
    "        return np.nan\n",
    "    else:\n",
    "        return '|'.join([ncit_dict.get(part, part) for part in substring.split('|')])\n",
    "    \n",
    "uberon_dict = dict(zip(desc_uberon_map[0], 'http://purl.obolibrary.org/obo/' + desc_uberon_map[1] +\n",
    "                       ' (' + desc_uberon_map[0] + ')'))\n",
    "\n",
    "def replace_with_uberon(substring):\n",
    "    if pd.isna(substring):\n",
    "        return np.nan\n",
    "    else:\n",
    "        return '|'.join([uberon_dict.get(part, part) for part in substring.split('|')])\n",
    "    \n",
    "clo_dict = dict(zip(desc_clo_map[0], 'http://purl.obolibrary.org/obo/' + desc_clo_map[1] +\n",
    "                    ' (' + desc_clo_map[0] + ')'))\n",
    "\n",
    "def replace_with_clo(substring):\n",
    "    if pd.isna(substring):\n",
    "        return np.nan\n",
    "    else:\n",
    "        return '|'.join([clo_dict.get(part, part) for part in substring.split('|')])\n",
    "    \n",
    "clo_dict2 = dict(zip(desc_clo_map[0].str.replace(' cell',''), 'http://purl.obolibrary.org/obo/' +\n",
    "                     desc_clo_map[1] + ' (' + desc_clo_map[0] + ')'))\n",
    "\n",
    "def replace_with_clo2(substring):\n",
    "    if pd.isna(substring):\n",
    "        return np.nan\n",
    "    else:\n",
    "        return '|'.join([clo_dict2.get(part, part) for part in substring.split('|')])\n",
    "    \n",
    "mondo_dict = dict(zip(desc_disPhe_map[0], 'http://purl.obolibrary.org/obo/' + desc_disPhe_map[1] +\n",
    "                      ' (' + desc_disPhe_map[0] + ')'))\n",
    "\n",
    "def replace_with_mondo(substring):\n",
    "    if pd.isna(substring):\n",
    "        return np.nan\n",
    "    else:\n",
    "        return '|'.join([mondo_dict.get(part, part) for part in substring.split('|')])"
   ]
  },
  {
   "cell_type": "markdown",
   "metadata": {},
   "source": [
    "***\n",
    "New mapping for `CHemical Methods Ontology` (CHMO).\n",
    "\n",
    "### Chemical methods' label+synonym from CHMO - CHMO mapping\n",
    "\n",
    "\n",
    "**Purpose:** To map Chemical methods' label+synonym from CHMO to CHMO identifiers.\n",
    "\n",
    "**Output:** `DESC_CHMO_MAP.txt`"
   ]
  },
  {
   "cell_type": "code",
   "execution_count": null,
   "metadata": {},
   "outputs": [],
   "source": [
    "data_downloader('http://purl.obolibrary.org/obo/chmo.owl', ontology_data_location)\n",
    "\n",
    "def gets_ontology_class_label(graph: Graph) -> Tuple:\n",
    "    dbx_uris: Dict = dict()\n",
    "    dbx = [x for x in graph if 'label' in str(x[1]).lower() if isinstance(x[0], URIRef)]\n",
    "    for x in dbx:\n",
    "        if str(x[2]).lower() in dbx_uris.keys(): dbx_uris[str(x[2]).lower()].append(str(x[0]))\n",
    "        else: dbx_uris[str(x[2]).lower()] = [str(x[0])]\n",
    "    dbx_type = {str(x[2]).lower(): 'DbXref' for x in dbx}\n",
    "\n",
    "    ex_uris: Dict = dict()\n",
    "    ex = [x for x in graph if 'exactmatch' in str(x[1]).lower() if isinstance([0], URIRef)]\n",
    "    for x in ex:\n",
    "        if str(x[2]).lower() in ex_uris.keys(): ex_uris[str(x[2]).lower()].append(str(x[0]))\n",
    "        else: ex_uris[str(x[2]).lower()] = [str(x[0])]\n",
    "    ex_type = {str(x[2]).lower(): 'ExactMatch' for x in ex}\n",
    "\n",
    "    return {**dbx_uris, **ex_uris}, {**dbx_type, **ex_type}\n",
    "\n",
    "def gets_ontology_class_synonym(graph: Graph) -> Tuple:\n",
    "    dbx_uris: Dict = dict()\n",
    "    dbx = [x for x in graph if 'synonym' in str(x[1]).lower() if isinstance(x[0], URIRef)]\n",
    "    for x in dbx:\n",
    "        if str(x[2]).lower() in dbx_uris.keys(): dbx_uris[str(x[2]).lower()].append(str(x[0]))\n",
    "        else: dbx_uris[str(x[2]).lower()] = [str(x[0])]\n",
    "    dbx_type = {str(x[2]).lower(): 'DbXref' for x in dbx}\n",
    "\n",
    "    ex_uris: Dict = dict()\n",
    "    ex = [x for x in graph if 'exactmatch' in str(x[1]).lower() if isinstance([0], URIRef)]\n",
    "    for x in ex:\n",
    "        if str(x[2]).lower() in ex_uris.keys(): ex_uris[str(x[2]).lower()].append(str(x[0]))\n",
    "        else: ex_uris[str(x[2]).lower()] = [str(x[0])]\n",
    "    ex_type = {str(x[2]).lower(): 'ExactMatch' for x in ex}\n",
    "\n",
    "    return {**dbx_uris, **ex_uris}, {**dbx_type, **ex_type}\n",
    "\n",
    "def gets_ontology_lookup(ontology_name, with_import=True) :\n",
    "    # with_import --> integrated ontologies; without_import --> ontologies used to standardize edge metadata\n",
    "    if with_import :\n",
    "        graph = Graph().parse(ontology_data_location + ontology_name + '_with_imports.owl')\n",
    "    else :\n",
    "        graph = Graph().parse(ontology_data_location + ontology_name + '.owl')\n",
    "\n",
    "    label = gets_ontology_class_label(graph)[0]\n",
    "    graph_dict = {str(k): {str(i).split('/')[-1] for i in v} for k, v in label.items()}\n",
    "\n",
    "    with open(unprocessed_data_location + 'DESC_' + ontology_name.upper() + '_MAP.txt', 'w') as outfile:\n",
    "        for k, v in {**graph_dict}.items():\n",
    "            outfile.write(str(k) + '\\t' + str(v).replace('{','').replace('\\'','').replace('}','') + '\\n')\n",
    "\n",
    "    desc_map = pd.read_csv(unprocessed_data_location+'DESC_' + ontology_name.upper() + '_MAP.txt',\n",
    "                           header=None, delimiter='\\t')\n",
    "    desc_map[1] = desc_map[1].str.split(', ')\n",
    "    desc_map = desc_map.explode(1)\n",
    "\n",
    "    syn = gets_ontology_class_synonym(graph)[0]\n",
    "    graph_dict = {str(k): {str(i).split('/')[-1] for i in v} for k, v in syn.items()}\n",
    "\n",
    "    with open(unprocessed_data_location + 'SYN_' + ontology_name.upper() + '_MAP.txt', 'w') as outfile:\n",
    "        for k, v in {**graph_dict}.items():\n",
    "            outfile.write(str(k) + '\\t' + str(v).replace('{','').replace('\\'','').replace('}','') + '\\n')\n",
    "\n",
    "    syn_map = pd.read_csv(unprocessed_data_location+'SYN_' + ontology_name.upper() + '_MAP.txt',\n",
    "                          header=None, delimiter='\\t')\n",
    "    syn_map[1] = syn_map[1].str.split(', ')\n",
    "    syn_map = syn_map.explode(1)\n",
    "    desc_map = pd.concat([desc_map, syn_map], ignore_index=True).drop_duplicates()\n",
    "    desc_map.to_csv(processed_data_location + 'DESC_' + ontology_name.upper() + '_MAP.txt',\n",
    "                    header=None, sep='\\t', index=None)\n",
    "    return desc_map\n",
    "\n",
    "desc_chmo_map = gets_ontology_lookup('chmo',with_import=False)\n",
    "os.remove(ontology_data_location + \"chmo.owl\")\n",
    "desc_chmo_map"
   ]
  },
  {
   "cell_type": "code",
   "execution_count": null,
   "metadata": {},
   "outputs": [],
   "source": [
    "# If chunck above has already been run, uncomment and run the following line to speed up construction:\n",
    "desc_chmo_map = pd.read_csv(processed_data_location + 'DESC_CHMO_MAP.txt', header=None, sep='\\t')"
   ]
  },
  {
   "cell_type": "markdown",
   "metadata": {},
   "source": [
    "***\n",
    "***\n",
    "## DOWNLOAD AND PROCESS EDGE DATASETS  <a class=\"anchor\" id=\"create-edges\"></a>\n",
    "***\n",
    "***"
   ]
  },
  {
   "cell_type": "markdown",
   "metadata": {},
   "source": [
    "### [RNAInter](http://www.rnainter.org/)\n",
    "RNAInter integrates experimentally validated and computationally predicted RNA interactome data from the literature and databases."
   ]
  },
  {
   "cell_type": "markdown",
   "metadata": {},
   "source": [
    "* #### RNA-RNA"
   ]
  },
  {
   "cell_type": "code",
   "execution_count": null,
   "metadata": {},
   "outputs": [],
   "source": [
    "! wget http://www.rnainter.org/raidMedia/download/Download_data_RR.tar.gz -P ../resources/processed_data/unprocessed_data/"
   ]
  },
  {
   "cell_type": "code",
   "execution_count": null,
   "metadata": {},
   "outputs": [],
   "source": [
    "RNA_RNA = pd.read_csv(unprocessed_data_location+'Download_data_RR.tar.gz',sep='\\t').rename(columns={'Download_data_RR.txt':'RNAInterID'})\n",
    "RNA_RNA['Source(s)'] = 'RNAInter'\n",
    "\n",
    "# We select only strong evidence interactions for hsa\n",
    "RNA_RNA = RNA_RNA[(RNA_RNA['score'] >= 0.2886) &\n",
    "                  (RNA_RNA['Species1'].str.contains('apiens')) &\n",
    "                  (RNA_RNA['Species2'].str.contains('apiens'))]\n",
    "\n",
    "# We keep only entries starting with NCBI, miRBase, tRFdb, HG19_TRNAS_\n",
    "RNA_RNA = RNA_RNA[(RNA_RNA['Raw_ID1'].str.startswith('NCBI')) |\n",
    "                  (RNA_RNA['Raw_ID1'].str.startswith('miRBase')) |\n",
    "                  (RNA_RNA['Raw_ID1'].str.startswith('tRFdb')) |\n",
    "                  (RNA_RNA['Raw_ID1'].str.startswith('HG19_TRNAS_')) |\n",
    "                  (RNA_RNA['Raw_ID2'].str.startswith('NCBI')) |\n",
    "                  (RNA_RNA['Raw_ID2'].str.startswith('miRBase')) |\n",
    "                  (RNA_RNA['Raw_ID2'].str.startswith('tRFdb')) |\n",
    "                  (RNA_RNA['Raw_ID2'].str.startswith('HG19_TRNAS_'))\n",
    "                 ]\n",
    "\n",
    "# PCG, circRNA, lncRNA, mRNA, ncRNA, others (RNA gene), pseudo, rRNA,\n",
    "# ribozyme, scRNA, scaRNA, snRNA, snoRNA, unknown (RNA), tRNA\n",
    "RNA_RNA.Raw_ID1 = RNA_RNA.Raw_ID1.str.replace(\"NCBI:\", '')\n",
    "RNA_RNA.Raw_ID2 = RNA_RNA.Raw_ID2.str.replace(\"NCBI:\", '')\n",
    "\n",
    "# miRNA\n",
    "RNA_RNA.Raw_ID1 = RNA_RNA.Raw_ID1.str.replace(\"miRBase:\", '')\n",
    "RNA_RNA.Raw_ID2 = RNA_RNA.Raw_ID2.str.replace(\"miRBase:\", '')\n",
    "\n",
    "# tRF\n",
    "RNA_RNA.Raw_ID1 = RNA_RNA.Raw_ID1.str.replace(\"tRFdb:\", '')\n",
    "RNA_RNA.Raw_ID2 = RNA_RNA.Raw_ID2.str.replace(\"tRFdb:\", '')\n",
    "\n",
    "# tRNA\n",
    "RNA_RNA['Interactor1.Symbol'] = RNA_RNA['Interactor1.Symbol'].str.replace(\"HG19_TRNAS_\", '')\n",
    "\n",
    "RNA_RNA['Raw_ID1'] = RNA_RNA['Raw_ID1'].str.split(';')\n",
    "RNA_RNA = RNA_RNA.explode('Raw_ID1')\n",
    "RNA_RNA['Raw_ID2'] = RNA_RNA['Raw_ID2'].str.split(';')\n",
    "RNA_RNA = RNA_RNA.explode('Raw_ID2')\n",
    "\n",
    "# Edge properties\n",
    "RNA_RNA.strong = RNA_RNA.strong.str.replace('//','|')\n",
    "RNA_RNA.strong = RNA_RNA.strong.str.lower()\n",
    "RNA_RNA.strong = [replace_with_ncit(item) for item in RNA_RNA.strong]\n",
    "\n",
    "RNA_RNA.weak = RNA_RNA.weak.str.replace('//','|')\n",
    "RNA_RNA.weak = RNA_RNA.weak.str.lower()\n",
    "RNA_RNA.weak = [replace_with_ncit(item) for item in RNA_RNA.weak]\n",
    "\n",
    "RNA_RNA.predict = RNA_RNA.predict.str.replace('//','|')\n",
    "RNA_RNA.predict = RNA_RNA.predict.str.lower()\n",
    "RNA_RNA.predict = [replace_with_ncit(item) for item in RNA_RNA.predict]\n",
    "\n",
    "RNA_RNA"
   ]
  },
  {
   "cell_type": "code",
   "execution_count": null,
   "metadata": {},
   "outputs": [],
   "source": [
    "i = RNA_RNA[(RNA_RNA['Category1']=='circRNA') |\n",
    "            (RNA_RNA['Category1']=='lncRNA') |\n",
    "            (RNA_RNA['Category1']=='mRNA') |\n",
    "            (RNA_RNA['Category1']=='ncRNA') |\n",
    "            (RNA_RNA['Category1']=='others') |\n",
    "            (RNA_RNA['Category1']=='rRNA') |\n",
    "            (RNA_RNA['Category1']=='ribozyme') |\n",
    "            (RNA_RNA['Category1']=='pseudo') |\n",
    "            (RNA_RNA['Category1']=='scRNA') |\n",
    "            (RNA_RNA['Category1']=='scaRNA') |\n",
    "            (RNA_RNA['Category1']=='snRNA') |\n",
    "            (RNA_RNA['Category1']=='snoRNA') |\n",
    "            (RNA_RNA['Category1']=='unknown') |\n",
    "            (RNA_RNA['Category1']=='tRNA')].index.values\n",
    "RNA_RNA.loc[i,\"Raw_ID1\"]=RNA_RNA.loc[i,\"Raw_ID1\"] + '?' + RNA_RNA.loc[i,\"Category1\"]\n",
    "\n",
    "i = RNA_RNA[(RNA_RNA['Category2']=='circRNA') |\n",
    "            (RNA_RNA['Category2']=='lncRNA') |\n",
    "            (RNA_RNA['Category2']=='mRNA') |\n",
    "            (RNA_RNA['Category2']=='pseudo') |\n",
    "            (RNA_RNA['Category2']=='ncRNA') |\n",
    "            (RNA_RNA['Category2']=='others') |\n",
    "            (RNA_RNA['Category2']=='rRNA') |\n",
    "            (RNA_RNA['Category2']=='ribozyme') |\n",
    "            (RNA_RNA['Category2']=='scRNA') |\n",
    "            (RNA_RNA['Category2']=='scaRNA') |\n",
    "            (RNA_RNA['Category2']=='snRNA') |\n",
    "            (RNA_RNA['Category2']=='snoRNA') |\n",
    "            (RNA_RNA['Category2']=='unknown') |\n",
    "            (RNA_RNA['Category2']=='tRNA')].index.values\n",
    "RNA_RNA.loc[i,\"Raw_ID2\"]=RNA_RNA.loc[i,\"Raw_ID2\"] + '?' + RNA_RNA.loc[i,\"Category2\"]\n",
    "\n",
    "RNA_RNA_s = RNA_RNA.copy().drop(columns=['RNAInterID','Species1','Species2'])\n",
    "RNA_RNA.drop(columns=['RNAInterID','Interactor1.Symbol','Species1','Interactor2.Symbol','Species2'],inplace=True)\n",
    "RNA_RNA_s.rename(columns={'score':'RNAInter Score','strong':'Strong validation method','weak':'Weak validation method',\n",
    "                        'predict':'Predict validation method'},inplace=True)\n",
    "RNA_RNA.rename(columns={'score':'RNAInter Score','strong':'Strong validation method','weak':'Weak validation method',\n",
    "                        'predict':'Predict validation method'},inplace=True)\n",
    "RNA_RNA"
   ]
  },
  {
   "cell_type": "code",
   "execution_count": null,
   "metadata": {},
   "outputs": [],
   "source": [
    "a = set(RNA_RNA.Category1)\n",
    "b = set(RNA_RNA.Category2)\n",
    "print(a.union(b))"
   ]
  },
  {
   "cell_type": "markdown",
   "metadata": {},
   "source": [
    "* ##### miRNA-RNA"
   ]
  },
  {
   "cell_type": "code",
   "execution_count": null,
   "metadata": {},
   "outputs": [],
   "source": [
    "miRNA_RNA = RNA_RNA[(RNA_RNA['Category1']=='miRNA')]\n",
    "RNA_miRNA = RNA_RNA[(RNA_RNA['Category2']=='miRNA')]\n",
    "RNA_miRNA.rename(columns={'Interactor1.Symbol':'Interactor2.Symbol','Category1':'Category2','Raw_ID1':'Raw_ID2',\n",
    "                          'Interactor2.Symbol':'Interactor1.Symbol','Category2':'Category1','Raw_ID2':'Raw_ID1'},\n",
    "                 inplace=True)\n",
    "miRNA_RNA = pd.concat([miRNA_RNA,RNA_miRNA])"
   ]
  },
  {
   "cell_type": "code",
   "execution_count": null,
   "metadata": {},
   "outputs": [],
   "source": [
    "miRNA_RNA['Category2'].unique()"
   ]
  },
  {
   "cell_type": "code",
   "execution_count": null,
   "metadata": {},
   "outputs": [],
   "source": [
    "miRNA_mRNA = miRNA_RNA[(miRNA_RNA['Category1']=='miRNA') & (miRNA_RNA['Category2']=='mRNA')]\n",
    "miRNA_mRNA = miRNA_mRNA[(miRNA_mRNA['Raw_ID1'].notna())]\n",
    "miRNA_mRNA = miRNA_mRNA[(miRNA_mRNA['Raw_ID2'].notna())]\n",
    "\n",
    "maturemiRNA_mRNA = miRNA_mRNA[(miRNA_mRNA['Raw_ID1'].str.startswith('MIMAT')) &\n",
    "                              (miRNA_mRNA['Raw_ID2'].str[0].str.isdigit())]\n",
    "premiRNA_mRNA = miRNA_mRNA[(miRNA_mRNA['Raw_ID1'].str.startswith('MI')) &\n",
    "                           (~miRNA_mRNA['Raw_ID1'].str.startswith('MIMAT')) &\n",
    "                           (miRNA_mRNA['Raw_ID2'].str[0].str.isdigit())]\n",
    "\n",
    "maturemiRNA_mRNA = maturemiRNA_mRNA.drop(columns=['Category1', 'Category2'])\n",
    "premiRNA_mRNA = premiRNA_mRNA.drop(columns=['Category1', 'Category2'])\n",
    "\n",
    "maturemiRNA_mRNA['Raw_ID1'] = maturemiRNA_mRNA['Raw_ID1'].str.replace('MIMAT0000446 ', 'MIMAT0000446') \n",
    "maturemiRNA_mRNA['Raw_ID1'] = maturemiRNA_mRNA['Raw_ID1'].str.replace('MIMAT0000462 ', 'MIMAT0000462') \n",
    "\n",
    "merge_rows(maturemiRNA_mRNA, 'Raw_ID1','Raw_ID2').rename(columns={'Raw_ID1':'miRNA','Raw_ID2':'mRNA'}).to_csv(\n",
    "    edge_data_location + 'miRNA-mRNA2434.txt', sep='\\t', index=None)\n",
    "merge_rows(premiRNA_mRNA, 'Raw_ID1','Raw_ID2').rename(columns={'Raw_ID1':'miRNA','Raw_ID2':'mRNA'}).to_csv(\n",
    "    edge_data_location + 'premiRNA-mRNA2434.txt', sep='\\t', index=None)"
   ]
  },
  {
   "cell_type": "code",
   "execution_count": null,
   "metadata": {},
   "outputs": [],
   "source": [
    "miRNA_lncRNA = miRNA_RNA[(miRNA_RNA['Category1']=='miRNA') & (miRNA_RNA['Category2']=='lncRNA')]\n",
    "miRNA_lncRNA = miRNA_lncRNA[(miRNA_lncRNA['Raw_ID1'].notna())]\n",
    "miRNA_lncRNA = miRNA_lncRNA[(miRNA_lncRNA['Raw_ID2'].notna())]\n",
    "\n",
    "maturemiRNA_lncRNA = miRNA_lncRNA[(miRNA_lncRNA['Raw_ID1'].str.startswith('MIMAT')) &\n",
    "                                  (miRNA_lncRNA['Raw_ID2'].str[0].str.isdigit())]\n",
    "premiRNA_lncRNA = miRNA_lncRNA[(miRNA_lncRNA['Raw_ID1'].str.startswith('MI')) &\n",
    "                               (~miRNA_lncRNA['Raw_ID1'].str.startswith('MIMAT')) &\n",
    "                               (miRNA_lncRNA['Raw_ID2'].str[0].str.isdigit())]\n",
    "\n",
    "maturemiRNA_lncRNA = maturemiRNA_lncRNA.drop(columns=['Category1', 'Category2'])\n",
    "premiRNA_lncRNA = premiRNA_lncRNA.drop(columns=['Category1', 'Category2'])\n",
    "\n",
    "merge_rows(maturemiRNA_lncRNA, 'Raw_ID1','Raw_ID2').rename(columns={'Raw_ID1':'miRNA','Raw_ID2':'lncRNA'}).to_csv(\n",
    "    edge_data_location + 'miRNA-lncRNA2434.txt', sep='\\t', index=None)\n",
    "merge_rows(premiRNA_lncRNA, 'Raw_ID1','Raw_ID2').rename(columns={'Raw_ID1':'miRNA','Raw_ID2':'lncRNA'}).to_csv(\n",
    "    edge_data_location + 'premiRNA-lncRNA2434.txt', sep='\\t', index=None)"
   ]
  },
  {
   "cell_type": "code",
   "execution_count": null,
   "metadata": {},
   "outputs": [],
   "source": [
    "miRNA_circRNA = miRNA_RNA[(miRNA_RNA['Category1']=='miRNA') & (miRNA_RNA['Category2']=='circRNA')]\n",
    "miRNA_circRNA = miRNA_circRNA[(miRNA_circRNA['Raw_ID1'].notna())]\n",
    "miRNA_circRNA = miRNA_circRNA[(miRNA_circRNA['Raw_ID2'].notna())]\n",
    "\n",
    "maturemiRNA_circRNA = miRNA_circRNA[(miRNA_circRNA['Raw_ID1'].str.startswith('MIMAT')) &\n",
    "                                  (miRNA_circRNA['Raw_ID2'].str[0].str.isdigit())]\n",
    "\n",
    "maturemiRNA_circRNA = maturemiRNA_circRNA.drop(columns=['Category1', 'Category2'])\n",
    "\n",
    "merge_rows(maturemiRNA_circRNA, 'Raw_ID1','Raw_ID2').rename(columns={'Raw_ID1':'miRNA','Raw_ID2':'circRNA'}).to_csv(\n",
    "    edge_data_location + 'miRNA-circRNA2434.txt', sep='\\t', index=None)"
   ]
  },
  {
   "cell_type": "code",
   "execution_count": null,
   "metadata": {},
   "outputs": [],
   "source": [
    "miRNA_othersRNA = miRNA_RNA[(miRNA_RNA['Category1']=='miRNA') & (miRNA_RNA['Category2']=='others')]\n",
    "miRNA_othersRNA = miRNA_othersRNA[(miRNA_othersRNA['Raw_ID1'].notna())]\n",
    "miRNA_othersRNA = miRNA_othersRNA[(miRNA_othersRNA['Raw_ID2'].notna())]\n",
    "\n",
    "maturemiRNA_othersRNA = miRNA_othersRNA[(miRNA_othersRNA['Raw_ID1'].str.startswith('MIMAT')) &\n",
    "                                  (miRNA_othersRNA['Raw_ID2'].str[0].str.isdigit())]\n",
    "\n",
    "maturemiRNA_othersRNA = maturemiRNA_othersRNA.drop(columns=['Category1', 'Category2'])\n",
    "\n",
    "merge_rows(maturemiRNA_othersRNA, 'Raw_ID1', 'Raw_ID2').rename(columns={'Raw_ID1':'miRNA','Raw_ID2':'others RNA'}).to_csv(\n",
    "    edge_data_location + 'miRNA-othersRNA2434.txt', sep='\\t', index=None)"
   ]
  },
  {
   "cell_type": "code",
   "execution_count": null,
   "metadata": {},
   "outputs": [],
   "source": [
    "miRNA_pseudo = miRNA_RNA[(miRNA_RNA['Category1']=='miRNA') & (miRNA_RNA['Category2']=='pseudo')]\n",
    "miRNA_pseudo = miRNA_pseudo[(miRNA_pseudo['Raw_ID1'].notna())]\n",
    "miRNA_pseudo = miRNA_pseudo[(miRNA_pseudo['Raw_ID2'].notna())]\n",
    "\n",
    "maturemiRNA_pseudo = miRNA_pseudo[(miRNA_pseudo['Raw_ID1'].str.startswith('MIMAT')) &\n",
    "                                  (miRNA_pseudo['Raw_ID2'].str[0].str.isdigit())]\n",
    "premiRNA_pseudo = miRNA_pseudo[(miRNA_pseudo['Raw_ID1'].str.startswith('MI')) &\n",
    "                               (~miRNA_pseudo['Raw_ID1'].str.startswith('MIMAT')) &\n",
    "                               (miRNA_pseudo['Raw_ID2'].str[0].str.isdigit())]\n",
    "\n",
    "maturemiRNA_pseudo = maturemiRNA_pseudo.drop(columns=['Category1', 'Category2'])\n",
    "premiRNA_pseudo = premiRNA_pseudo.drop(columns=['Category1', 'Category2'])\n",
    "\n",
    "merge_rows(maturemiRNA_pseudo, 'Raw_ID1','Raw_ID2').rename(columns={'Raw_ID1':'miRNA','Raw_ID2':'Pseudogene'}).to_csv(\n",
    "    edge_data_location + 'miRNA-pseudogene2434.txt', sep='\\t', index=None)\n",
    "merge_rows(premiRNA_pseudo, 'Raw_ID1','Raw_ID2').rename(columns={'Raw_ID1':'miRNA','Raw_ID2':'Pseudogene'}).to_csv(\n",
    "    edge_data_location + 'premiRNA-pseudogene2434.txt', sep='\\t', index=None)"
   ]
  },
  {
   "cell_type": "code",
   "execution_count": null,
   "metadata": {},
   "outputs": [],
   "source": [
    "miRNA_protein = miRNA_RNA[(miRNA_RNA['Category1']=='miRNA') & ((miRNA_RNA['Category2']=='protein') |\n",
    "                                                              (miRNA_RNA['Category2']=='Protein'))]\n",
    "miRNA_protein = miRNA_protein[(miRNA_protein['Raw_ID1'].notna())]\n",
    "miRNA_protein = miRNA_protein[(miRNA_protein['Raw_ID2'].notna())]\n",
    "miRNA_protein['Raw_ID2'] = miRNA_protein['Raw_ID2'].astype(str).astype(int)\n",
    "\n",
    "miRNA_protein = pd.merge(miRNA_protein, entrez_pro_map.rename(columns={0: 'Raw_ID2'}), on='Raw_ID2')\n",
    "miRNA_protein.drop(columns=['Raw_ID2'], inplace=True)\n",
    "\n",
    "maturemiRNA_protein = miRNA_protein[(miRNA_protein['Raw_ID1'].str.startswith('MIMAT'))]\n",
    "premiRNA_protein = miRNA_protein[(miRNA_protein['Raw_ID1'].str.startswith('MI')) &\n",
    "                               (~miRNA_protein['Raw_ID1'].str.startswith('MIMAT'))]\n",
    "\n",
    "maturemiRNA_protein = maturemiRNA_protein.drop(columns=['Category1', 'Category2'])\n",
    "premiRNA_protein = premiRNA_protein.drop(columns=['Category1', 'Category2'])\n",
    "maturemiRNA_protein.insert(1, 1, maturemiRNA_protein.pop(1))\n",
    "premiRNA_protein.insert(1, 1, premiRNA_protein.pop(1))\n",
    "\n",
    "merge_rows(maturemiRNA_protein, 'Raw_ID1',1).rename(columns={'Raw_ID1':'miRNA',1:'Protein'}).to_csv(\n",
    "    edge_data_location + 'miRNA-protein2434.txt', sep='\\t', index=None)\n",
    "merge_rows(premiRNA_protein, 'Raw_ID1',1).rename(columns={'Raw_ID1':'miRNA',1:'Protein'}).to_csv(\n",
    "    edge_data_location + 'premiRNA-protein2434.txt', sep='\\t', index=None)"
   ]
  },
  {
   "cell_type": "code",
   "execution_count": null,
   "metadata": {},
   "outputs": [],
   "source": [
    "miRNA_miRNA = miRNA_RNA[(miRNA_RNA['Category1']=='miRNA') & (miRNA_RNA['Category2']=='miRNA')]\n",
    "miRNA_miRNA = miRNA_miRNA[(miRNA_miRNA['Raw_ID1'].notna())]\n",
    "miRNA_miRNA = miRNA_miRNA[(miRNA_miRNA['Raw_ID2'].notna())]\n",
    "\n",
    "maturemiRNA_maturemiRNA = miRNA_miRNA[(miRNA_miRNA['Raw_ID1'].str.startswith('MIMAT')) &\n",
    "                                      (miRNA_miRNA['Raw_ID2'].str.startswith('MIMAT'))]\n",
    "maturemiRNA_maturemiRNA = maturemiRNA_maturemiRNA.drop(columns=['Category1', 'Category2'])\n",
    "# Other combinations are empty\n",
    "\n",
    "merge_rows(maturemiRNA_maturemiRNA, 'Raw_ID1','Raw_ID2').rename(columns={'Raw_ID1':'miRNA1','Raw_ID2':'miRNA2'}).to_csv(\n",
    "    edge_data_location + 'miRNA-miRNA2434.txt', sep='\\t', index=None)"
   ]
  },
  {
   "cell_type": "code",
   "execution_count": null,
   "metadata": {},
   "outputs": [],
   "source": [
    "miRNA_snoRNA = miRNA_RNA[(miRNA_RNA['Category1']=='miRNA') & (miRNA_RNA['Category2']=='snoRNA')]\n",
    "miRNA_snoRNA = miRNA_snoRNA[(miRNA_snoRNA['Raw_ID1'].notna())]\n",
    "miRNA_snoRNA = miRNA_snoRNA[(miRNA_snoRNA['Raw_ID2'].notna())]\n",
    "\n",
    "maturemiRNA_snoRNA = miRNA_snoRNA[(miRNA_snoRNA['Raw_ID1'].str.startswith('MIMAT')) &\n",
    "                                  (miRNA_snoRNA['Raw_ID2'].str[0].str.isdigit())]\n",
    "maturemiRNA_snoRNA = maturemiRNA_snoRNA.drop(columns=['Category1', 'Category2'])\n",
    "\n",
    "merge_rows(maturemiRNA_snoRNA,'Raw_ID1','Raw_ID2').rename(columns={'Raw_ID1':'miRNA','Raw_ID2':'snoRNA'}).to_csv(\n",
    "    edge_data_location + 'miRNA-snoRNA2434.txt', sep='\\t', index=None)"
   ]
  },
  {
   "cell_type": "code",
   "execution_count": null,
   "metadata": {},
   "outputs": [],
   "source": [
    "miRNA_snRNA = miRNA_RNA[(miRNA_RNA['Category1']=='miRNA') & (miRNA_RNA['Category2']=='snRNA')]\n",
    "miRNA_snRNA = miRNA_snRNA[(miRNA_snRNA['Raw_ID1'].notna())]\n",
    "miRNA_snRNA = miRNA_snRNA[(miRNA_snRNA['Raw_ID2'].notna())]\n",
    "\n",
    "maturemiRNA_snRNA = miRNA_snRNA[(miRNA_snRNA['Raw_ID1'].str.startswith('MIMAT')) &\n",
    "                                  (miRNA_snRNA['Raw_ID2'].str[0].str.isdigit())]\n",
    "maturemiRNA_snRNA = maturemiRNA_snRNA.drop(columns=['Category1', 'Category2'])\n",
    "\n",
    "merge_rows(maturemiRNA_snRNA,'Raw_ID1','Raw_ID2').rename(columns={'Raw_ID1':'miRNA','Raw_ID2':'snRNA'}).to_csv(\n",
    "    edge_data_location + 'miRNA-snRNA2434.txt', sep='\\t', index=None)"
   ]
  },
  {
   "cell_type": "code",
   "execution_count": null,
   "metadata": {},
   "outputs": [],
   "source": [
    "miRNA_scaRNA = miRNA_RNA[(miRNA_RNA['Category1']=='miRNA') & (miRNA_RNA['Category2']=='scaRNA')]\n",
    "miRNA_scaRNA = miRNA_scaRNA[(miRNA_scaRNA['Raw_ID1'].notna())]\n",
    "miRNA_scaRNA = miRNA_scaRNA[(miRNA_scaRNA['Raw_ID2'].notna())]\n",
    "\n",
    "maturemiRNA_scaRNA = miRNA_scaRNA[(miRNA_scaRNA['Raw_ID1'].str.startswith('MIMAT')) &\n",
    "                                  (miRNA_scaRNA['Raw_ID2'].str[0].str.isdigit())]\n",
    "maturemiRNA_scaRNA = maturemiRNA_scaRNA.drop(columns=['Category1', 'Category2'])\n",
    "\n",
    "merge_rows(maturemiRNA_scaRNA,'Raw_ID1','Raw_ID2').rename(columns={'Raw_ID1':'miRNA','Raw_ID2':'scaRNA'}).to_csv(\n",
    "    edge_data_location + 'miRNA-scaRNA2434.txt', sep='\\t', index=None)"
   ]
  },
  {
   "cell_type": "code",
   "execution_count": null,
   "metadata": {},
   "outputs": [],
   "source": [
    "miRNA_ncRNA = miRNA_RNA[(miRNA_RNA['Category1']=='miRNA') & (miRNA_RNA['Category2']=='ncRNA')]\n",
    "miRNA_ncRNA = miRNA_ncRNA[(miRNA_ncRNA['Raw_ID1'].notna())]\n",
    "miRNA_ncRNA = miRNA_ncRNA[(miRNA_ncRNA['Raw_ID2'].notna())]\n",
    "\n",
    "maturemiRNA_ncRNA = miRNA_ncRNA[(miRNA_ncRNA['Raw_ID1'].str.startswith('MIMAT')) &\n",
    "                                  (miRNA_ncRNA['Raw_ID2'].str[0].str.isdigit())]\n",
    "maturemiRNA_ncRNA = maturemiRNA_ncRNA.drop(columns=['Category1', 'Category2'])\n",
    "\n",
    "merge_rows(maturemiRNA_ncRNA,'Raw_ID1','Raw_ID2').rename(columns={'Raw_ID1':'miRNA','Raw_ID2':'ncRNA'}).to_csv(\n",
    "    edge_data_location + 'miRNA-ncRNA2434.txt', sep='\\t', index=None)"
   ]
  },
  {
   "cell_type": "code",
   "execution_count": null,
   "metadata": {},
   "outputs": [],
   "source": [
    "miRNA_ribozyme = miRNA_RNA[(miRNA_RNA['Category1']=='miRNA') & (miRNA_RNA['Category2']=='ribozyme')]\n",
    "miRNA_ribozyme = miRNA_ribozyme[(miRNA_ribozyme['Raw_ID1'].notna())]\n",
    "miRNA_ribozyme = miRNA_ribozyme[(miRNA_ribozyme['Raw_ID2'].notna())]\n",
    "\n",
    "maturemiRNA_ribozyme = miRNA_ribozyme[(miRNA_ribozyme['Raw_ID1'].str.startswith('MIMAT')) &\n",
    "                                  (miRNA_ribozyme['Raw_ID2'].str[0].str.isdigit())]\n",
    "maturemiRNA_ribozyme = maturemiRNA_ribozyme.drop(columns=['Category1', 'Category2'])\n",
    "\n",
    "merge_rows(maturemiRNA_ribozyme,'Raw_ID1','Raw_ID2').rename(columns={'Raw_ID1':'miRNA','Raw_ID2':'Ribozyme'}).to_csv(\n",
    "    edge_data_location + 'miRNA-ribozyme2434.txt', sep='\\t', index=None)"
   ]
  },
  {
   "cell_type": "code",
   "execution_count": null,
   "metadata": {},
   "outputs": [],
   "source": [
    "miRNA_unknownRNA = miRNA_RNA[(miRNA_RNA['Category1']=='miRNA') & (miRNA_RNA['Category2']=='unknown')]\n",
    "miRNA_unknownRNA = miRNA_unknownRNA[(miRNA_unknownRNA['Raw_ID1'].notna())]\n",
    "miRNA_unknownRNA = miRNA_unknownRNA[(miRNA_unknownRNA['Raw_ID2'].notna())]\n",
    "\n",
    "maturemiRNA_unknownRNA = miRNA_unknownRNA[(miRNA_unknownRNA['Raw_ID1'].str.startswith('MIMAT')) &\n",
    "                                  (miRNA_unknownRNA['Raw_ID2'].str[0].str.isdigit())]\n",
    "maturemiRNA_unknownRNA = maturemiRNA_unknownRNA.drop(columns=['Category1', 'Category2'])\n",
    "\n",
    "merge_rows(maturemiRNA_unknownRNA,'Raw_ID1','Raw_ID2').rename(columns={'Raw_ID1':'miRNA','Raw_ID2':'Unknown RNA'}).to_csv(\n",
    "    edge_data_location + 'miRNA-unknownRNA2434.txt', sep='\\t', index=None)"
   ]
  },
  {
   "cell_type": "code",
   "execution_count": null,
   "metadata": {},
   "outputs": [],
   "source": [
    "miRNA_scRNA = miRNA_RNA[(miRNA_RNA['Category1']=='miRNA') & (miRNA_RNA['Category2']=='scRNA')]\n",
    "miRNA_scRNA = miRNA_scRNA[(miRNA_scRNA['Raw_ID1'].notna())]\n",
    "miRNA_scRNA = miRNA_scRNA[(miRNA_scRNA['Raw_ID2'].notna())]\n",
    "\n",
    "maturemiRNA_scRNA = miRNA_scRNA[(miRNA_scRNA['Raw_ID1'].str.startswith('MIMAT')) &\n",
    "                                  (miRNA_scRNA['Raw_ID2'].str[0].str.isdigit())]\n",
    "maturemiRNA_scRNA = maturemiRNA_scRNA.drop(columns=['Category1', 'Category2'])\n",
    "\n",
    "merge_rows(maturemiRNA_scRNA, 'Raw_ID1', 'Raw_ID2').rename(columns={'Raw_ID1':'miRNA','Raw_ID2':'scRNA'}).to_csv(\n",
    "    edge_data_location + 'miRNA-scRNA2434.txt', sep='\\t', index=None)"
   ]
  },
  {
   "cell_type": "markdown",
   "metadata": {},
   "source": [
    "* ##### othersRNA-RNA"
   ]
  },
  {
   "cell_type": "code",
   "execution_count": null,
   "metadata": {},
   "outputs": [],
   "source": [
    "othersRNA_RNA = RNA_RNA[(RNA_RNA['Category1']=='others')]\n",
    "RNA_othersRNA = RNA_RNA[(RNA_RNA['Category2']=='others')]\n",
    "RNA_othersRNA.rename(columns={'Interactor1.Symbol':'Interactor2.Symbol','Category1':'Category2','Raw_ID1':'Raw_ID2',\n",
    "                          'Interactor2.Symbol':'Interactor1.Symbol','Category2':'Category1','Raw_ID2':'Raw_ID1'},\n",
    "                 inplace=True)\n",
    "othersRNA_RNA = pd.concat([othersRNA_RNA,RNA_othersRNA])"
   ]
  },
  {
   "cell_type": "code",
   "execution_count": null,
   "metadata": {},
   "outputs": [],
   "source": [
    "othersRNA_RNA.Category2.unique()"
   ]
  },
  {
   "cell_type": "code",
   "execution_count": null,
   "metadata": {},
   "outputs": [],
   "source": [
    "othersRNA_mRNA = othersRNA_RNA[othersRNA_RNA['Category2']=='mRNA']\n",
    "othersRNA_mRNA = othersRNA_mRNA[(othersRNA_mRNA['Raw_ID1'].notna())]\n",
    "othersRNA_mRNA = othersRNA_mRNA[(othersRNA_mRNA['Raw_ID2'].notna())]\n",
    "\n",
    "othersRNA_mRNA = othersRNA_mRNA[(othersRNA_mRNA['Raw_ID1'].str[0].str.isdigit()) &\n",
    "                                (othersRNA_mRNA['Raw_ID2'].str[0].str.isdigit())]\n",
    "othersRNA_mRNA = othersRNA_mRNA.drop(columns=['Category1', 'Category2'])\n",
    "\n",
    "merge_rows(othersRNA_mRNA, 'Raw_ID1','Raw_ID2').rename(columns={'Raw_ID1':'Others RNA','Raw_ID2':'mRNA'}).to_csv(\n",
    "    edge_data_location + 'othersRNA-mRNA2434.txt', sep='\\t', index=None)"
   ]
  },
  {
   "cell_type": "code",
   "execution_count": null,
   "metadata": {},
   "outputs": [],
   "source": [
    "othersRNA_lncRNA = othersRNA_RNA[othersRNA_RNA['Category2']=='lncRNA']\n",
    "othersRNA_lncRNA = othersRNA_lncRNA[(othersRNA_lncRNA['Raw_ID1'].notna())]\n",
    "othersRNA_lncRNA = othersRNA_lncRNA[(othersRNA_lncRNA['Raw_ID2'].notna())]\n",
    "\n",
    "othersRNA_lncRNA = othersRNA_lncRNA[(othersRNA_lncRNA['Raw_ID1'].str[0].str.isdigit()) &\n",
    "                                    (othersRNA_lncRNA['Raw_ID2'].str[0].str.isdigit())]\n",
    "othersRNA_lncRNA = othersRNA_lncRNA.drop(columns=['Category1', 'Category2'])\n",
    "\n",
    "merge_rows(othersRNA_lncRNA,'Raw_ID1','Raw_ID2').rename(columns={'Raw_ID1':'Others RNA','Raw_ID2':'lncRNA'}).to_csv(\n",
    "    edge_data_location + 'othersRNA-lncRNA2434.txt', sep='\\t', index=None)"
   ]
  },
  {
   "cell_type": "code",
   "execution_count": null,
   "metadata": {},
   "outputs": [],
   "source": [
    "othersRNA_pseudo = othersRNA_RNA[othersRNA_RNA['Category2']=='pseudo']\n",
    "othersRNA_pseudo = othersRNA_pseudo[(othersRNA_pseudo['Raw_ID1'].notna())]\n",
    "othersRNA_pseudo = othersRNA_pseudo[(othersRNA_pseudo['Raw_ID2'].notna())]\n",
    "\n",
    "othersRNA_pseudo = othersRNA_pseudo[(othersRNA_pseudo['Raw_ID1'].str[0].str.isdigit()) &\n",
    "                                    (othersRNA_pseudo['Raw_ID2'].str[0].str.isdigit())]\n",
    "othersRNA_pseudo = othersRNA_pseudo.drop(columns=['Category1', 'Category2'])\n",
    "\n",
    "merge_rows(othersRNA_pseudo,'Raw_ID1','Raw_ID2').rename(columns={'Raw_ID1':'Others RNA','Raw_ID2':'Pseudogene'}).to_csv(\n",
    "    edge_data_location + 'othersRNA-pseudogene2434.txt', sep='\\t', index=None)"
   ]
  },
  {
   "cell_type": "code",
   "execution_count": null,
   "metadata": {},
   "outputs": [],
   "source": [
    "othersRNA_rRNA = othersRNA_RNA[othersRNA_RNA['Category2']=='rRNA']\n",
    "othersRNA_rRNA = othersRNA_rRNA[(othersRNA_rRNA['Raw_ID1'].notna())]\n",
    "othersRNA_rRNA = othersRNA_rRNA[(othersRNA_rRNA['Raw_ID2'].notna())]\n",
    "\n",
    "othersRNA_rRNA = othersRNA_rRNA[(othersRNA_rRNA['Raw_ID1'].str[0].str.isdigit()) &\n",
    "                                (othersRNA_rRNA['Raw_ID2'].str[0].str.isdigit())]\n",
    "othersRNA_rRNA = othersRNA_rRNA.drop(columns=['Category1', 'Category2'])\n",
    "\n",
    "merge_rows(othersRNA_rRNA,'Raw_ID1','Raw_ID2').rename(columns={'Raw_ID1':'Others RNA','Raw_ID2':'rRNA'}).to_csv(\n",
    "    edge_data_location + 'othersRNA-rRNA2434.txt', sep='\\t', index=None)"
   ]
  },
  {
   "cell_type": "markdown",
   "metadata": {},
   "source": [
    "* ##### snRNA-RNA"
   ]
  },
  {
   "cell_type": "code",
   "execution_count": null,
   "metadata": {},
   "outputs": [],
   "source": [
    "snRNA_RNA = RNA_RNA[(RNA_RNA['Category1']=='snRNA')]\n",
    "RNA_snRNA = RNA_RNA[(RNA_RNA['Category2']=='snRNA')]\n",
    "RNA_snRNA.rename(columns={'Interactor1.Symbol':'Interactor2.Symbol','Category1':'Category2','Raw_ID1':'Raw_ID2',\n",
    "                          'Interactor2.Symbol':'Interactor1.Symbol','Category2':'Category1','Raw_ID2':'Raw_ID1'},\n",
    "                 inplace=True)\n",
    "snRNA_RNA = pd.concat([snRNA_RNA,RNA_snRNA])\n",
    "snRNA_RNA.Category2.unique()"
   ]
  },
  {
   "cell_type": "code",
   "execution_count": null,
   "metadata": {},
   "outputs": [],
   "source": [
    "snRNA_snRNA = snRNA_RNA[snRNA_RNA['Category2']=='snRNA']\n",
    "snRNA_snRNA = snRNA_snRNA[(snRNA_snRNA['Raw_ID1'].notna())]\n",
    "snRNA_snRNA = snRNA_snRNA[(snRNA_snRNA['Raw_ID2'].notna())]\n",
    "\n",
    "snRNA_snRNA = snRNA_snRNA[(snRNA_snRNA['Raw_ID1'].str[0].str.isdigit()) &\n",
    "                          (snRNA_snRNA['Raw_ID2'].str[0].str.isdigit())]\n",
    "snRNA_snRNA = snRNA_snRNA.drop(columns=['Category1', 'Category2'])\n",
    "\n",
    "merge_rows(snRNA_snRNA,'Raw_ID1','Raw_ID2').rename(columns={'Raw_ID1':'snRNA1','Raw_ID2':'snRNA2'}).to_csv(\n",
    "    edge_data_location + 'snRNA-snRNA2434.txt', sep='\\t', index=None)"
   ]
  },
  {
   "cell_type": "code",
   "execution_count": null,
   "metadata": {},
   "outputs": [],
   "source": [
    "snRNA_lncRNA = snRNA_RNA[snRNA_RNA['Category2']=='lncRNA']\n",
    "snRNA_lncRNA = snRNA_lncRNA[(snRNA_lncRNA['Raw_ID1'].notna())]\n",
    "snRNA_lncRNA = snRNA_lncRNA[(snRNA_lncRNA['Raw_ID2'].notna())]\n",
    "\n",
    "snRNA_lncRNA = snRNA_lncRNA[(snRNA_lncRNA['Raw_ID1'].str[0].str.isdigit()) &\n",
    "                          (snRNA_lncRNA['Raw_ID2'].str[0].str.isdigit())]\n",
    "snRNA_lncRNA = snRNA_lncRNA.drop(columns=['Category1', 'Category2'])\n",
    "\n",
    "merge_rows(snRNA_lncRNA,'Raw_ID1','Raw_ID2').rename(columns={'Raw_ID1':'snRNA','Raw_ID2':'lncRNA'}).to_csv(\n",
    "    edge_data_location + 'snRNA-lncRNA2434.txt', sep='\\t', index=None)"
   ]
  },
  {
   "cell_type": "code",
   "execution_count": null,
   "metadata": {},
   "outputs": [],
   "source": [
    "snRNA_mRNA = snRNA_RNA[snRNA_RNA['Category2']=='mRNA']\n",
    "snRNA_mRNA = snRNA_mRNA[(snRNA_mRNA['Raw_ID1'].notna())]\n",
    "snRNA_mRNA = snRNA_mRNA[(snRNA_mRNA['Raw_ID2'].notna())]\n",
    "\n",
    "snRNA_mRNA = snRNA_mRNA[(snRNA_mRNA['Raw_ID1'].str[0].str.isdigit()) &\n",
    "                        (snRNA_mRNA['Raw_ID2'].str[0].str.isdigit())]\n",
    "snRNA_mRNA = snRNA_mRNA.drop(columns=['Category1', 'Category2'])\n",
    "\n",
    "merge_rows(snRNA_mRNA,'Raw_ID1','Raw_ID2').rename(columns={'Raw_ID1':'snRNA','Raw_ID2':'mRNA'}).to_csv(\n",
    "    edge_data_location + 'snRNA-mRNA2434.txt', sep='\\t', index=None)"
   ]
  },
  {
   "cell_type": "code",
   "execution_count": null,
   "metadata": {},
   "outputs": [],
   "source": [
    "snRNA_pseudo = snRNA_RNA[snRNA_RNA['Category2']=='pseudo']\n",
    "snRNA_pseudo = snRNA_pseudo[(snRNA_pseudo['Raw_ID1'].notna())]\n",
    "snRNA_pseudo = snRNA_pseudo[(snRNA_pseudo['Raw_ID2'].notna())]\n",
    "\n",
    "snRNA_pseudo = snRNA_pseudo[(snRNA_pseudo['Raw_ID1'].str[0].str.isdigit()) &\n",
    "                            (snRNA_pseudo['Raw_ID2'].str[0].str.isdigit())]\n",
    "snRNA_pseudo = snRNA_pseudo.drop(columns=['Category1', 'Category2'])\n",
    "\n",
    "merge_rows(snRNA_pseudo,'Raw_ID1','Raw_ID2').rename(columns={'Raw_ID1':'snRNA','Raw_ID2':'Pseudogene'}).to_csv(\n",
    "    edge_data_location + 'snRNA-pseudogene2434.txt', sep='\\t', index=None)"
   ]
  },
  {
   "cell_type": "code",
   "execution_count": null,
   "metadata": {},
   "outputs": [],
   "source": [
    "snRNA_snoRNA = snRNA_RNA[snRNA_RNA['Category2']=='snoRNA']\n",
    "snRNA_snoRNA = snRNA_snoRNA[(snRNA_snoRNA['Raw_ID1'].notna())]\n",
    "snRNA_snoRNA = snRNA_snoRNA[(snRNA_snoRNA['Raw_ID2'].notna())]\n",
    "\n",
    "snRNA_snoRNA = snRNA_snoRNA[(snRNA_snoRNA['Raw_ID1'].str[0].str.isdigit()) &\n",
    "                            (snRNA_snoRNA['Raw_ID2'].str[0].str.isdigit())]\n",
    "snRNA_snoRNA = snRNA_snoRNA.drop(columns=['Category1', 'Category2'])\n",
    "\n",
    "merge_rows(snRNA_snoRNA,'Raw_ID1','Raw_ID2').rename(columns={'Raw_ID1':'snRNA','Raw_ID2':'snoRNA'}).to_csv(\n",
    "    edge_data_location + 'snRNA-snoRNA2434.txt', sep='\\t', index=None)"
   ]
  },
  {
   "cell_type": "markdown",
   "metadata": {},
   "source": [
    "* ##### PCG-RNA"
   ]
  },
  {
   "cell_type": "code",
   "execution_count": null,
   "metadata": {},
   "outputs": [],
   "source": [
    "PCG_RNA = RNA_RNA[(RNA_RNA['Category1']=='PCG')]\n",
    "RNA_PCG = RNA_RNA[(RNA_RNA['Category2']=='PCG')]\n",
    "RNA_PCG.rename(columns={'Interactor1.Symbol':'Interactor2.Symbol','Category1':'Category2','Raw_ID1':'Raw_ID2',\n",
    "                        'Interactor2.Symbol':'Interactor1.Symbol','Category2':'Category1','Raw_ID2':'Raw_ID1'},\n",
    "                 inplace=True)\n",
    "PCG_RNA = pd.concat([PCG_RNA,RNA_PCG])\n",
    "PCG_RNA.Category2.unique()"
   ]
  },
  {
   "cell_type": "code",
   "execution_count": null,
   "metadata": {},
   "outputs": [],
   "source": [
    "PCG_lncRNA = PCG_RNA[(PCG_RNA['Raw_ID1'].notna())]\n",
    "PCG_lncRNA = PCG_RNA[(PCG_RNA['Raw_ID2'].notna())]\n",
    "\n",
    "PCG_lncRNA = PCG_lncRNA[(PCG_lncRNA['Raw_ID1'].str[0].str.isdigit()) &\n",
    "                        (PCG_lncRNA['Raw_ID2'].str[0].str.isdigit())]\n",
    "PCG_lncRNA = PCG_lncRNA.drop(columns=['Category1', 'Category2'])\n",
    "\n",
    "merge_rows(PCG_lncRNA,'Raw_ID1','Raw_ID2').rename(columns={'Raw_ID1':'PCG','Raw_ID2':'lncRNA'}).to_csv(\n",
    "    edge_data_location + 'PCG-lncRNA2434.txt', sep='\\t', index=None)"
   ]
  },
  {
   "cell_type": "markdown",
   "metadata": {},
   "source": [
    "* ##### tRNA-RNA"
   ]
  },
  {
   "cell_type": "code",
   "execution_count": null,
   "metadata": {},
   "outputs": [],
   "source": [
    "tRNA_RNA = RNA_RNA_s[(RNA_RNA_s['Category1']=='tRNA')]\n",
    "RNA_tRNA = RNA_RNA_s[(RNA_RNA_s['Category2']=='tRNA')]\n",
    "RNA_tRNA.rename(columns={'Interactor1.Symbol':'Interactor2.Symbol','Category1':'Category2','Raw_ID1':'Raw_ID2',\n",
    "                        'Interactor2.Symbol':'Interactor1.Symbol','Category2':'Category1','Raw_ID2':'Raw_ID1'},\n",
    "                 inplace=True)\n",
    "tRNA_RNA = pd.concat([tRNA_RNA,RNA_tRNA])\n",
    "tRNA_RNA.Raw_ID1.fillna(tRNA_RNA['Interactor1.Symbol'], inplace=True)\n",
    "tRNA_RNA.Category2.unique()"
   ]
  },
  {
   "cell_type": "code",
   "execution_count": null,
   "metadata": {},
   "outputs": [],
   "source": [
    "tRNA_mRNA = tRNA_RNA[tRNA_RNA['Category2']=='mRNA']\n",
    "tRNA_mRNA_NCBI = tRNA_mRNA[(tRNA_mRNA['Raw_ID1'].str[0].str.isdigit())]\n",
    "tRNA_mRNA_gtRNA = tRNA_mRNA[~(tRNA_mRNA['Raw_ID1'].str[0].str.isdigit())]\n",
    "\n",
    "tRNA_mRNA_gtRNA['Raw_ID1'] = tRNA_mRNA_gtRNA['Raw_ID1'] + '.html'\n",
    "tRNA_mRNA_NCBI = tRNA_mRNA_NCBI.drop(columns=['Category1', 'Category2','Interactor1.Symbol','Interactor2.Symbol'])\n",
    "tRNA_mRNA_gtRNA = tRNA_mRNA_gtRNA.drop(columns=['Category1', 'Category2','Interactor1.Symbol','Interactor2.Symbol'])\n",
    "\n",
    "merge_rows(tRNA_mRNA_NCBI,'Raw_ID1','Raw_ID2').rename(columns={'Raw_ID1':'tRNA','Raw_ID2':'mRNA'}).to_csv(\n",
    "    edge_data_location + 'tRNA-mRNA_NCBI2434.txt', sep='\\t', index=None)\n",
    "merge_rows(tRNA_mRNA_gtRNA,'Raw_ID1','Raw_ID2').rename(columns={'Raw_ID1':'tRNA','Raw_ID2':'mRNA'}).to_csv(\n",
    "    edge_data_location + 'tRNA-mRNA_gtRNA2434.txt', sep='\\t', index=None)"
   ]
  },
  {
   "cell_type": "code",
   "execution_count": null,
   "metadata": {},
   "outputs": [],
   "source": [
    "tRNA_lncRNA = tRNA_RNA[tRNA_RNA['Category2']=='lncRNA']\n",
    "tRNA_lncRNA = tRNA_lncRNA.drop(columns=['Category1', 'Category2','Interactor1.Symbol','Interactor2.Symbol'])\n",
    "\n",
    "merge_rows(tRNA_lncRNA,'Raw_ID1','Raw_ID2').rename(columns={'Raw_ID1':'tRNA','Raw_ID2':'lncRNA'}).to_csv(\n",
    "    edge_data_location + 'tRNA-lncRNA2434.txt', sep='\\t', index=None)"
   ]
  },
  {
   "cell_type": "markdown",
   "metadata": {},
   "source": [
    "* ##### piRNA-RNA"
   ]
  },
  {
   "cell_type": "code",
   "execution_count": null,
   "metadata": {},
   "outputs": [],
   "source": [
    "piRNA_RNA = RNA_RNA_s[(RNA_RNA_s['Category1']=='piRNA')]\n",
    "RNA_piRNA = RNA_RNA_s[(RNA_RNA_s['Category2']=='piRNA')]\n",
    "RNA_piRNA.rename(columns={'Interactor1.Symbol':'Interactor2.Symbol','Category1':'Category2','Raw_ID1':'Raw_ID2',\n",
    "                          'Interactor2.Symbol':'Interactor1.Symbol','Category2':'Category1','Raw_ID2':'Raw_ID1'},\n",
    "                 inplace=True)\n",
    "piRNA_RNA = pd.concat([piRNA_RNA,RNA_piRNA])\n",
    "piRNA_RNA.Raw_ID1.fillna(piRNA_RNA['Interactor1.Symbol'], inplace=True)\n",
    "piRNA_RNA.Category2.unique()"
   ]
  },
  {
   "cell_type": "code",
   "execution_count": null,
   "metadata": {},
   "outputs": [],
   "source": [
    "piRNA_mRNA = piRNA_RNA[piRNA_RNA['Category2']=='mRNA']\n",
    "piRNA_mRNA = piRNA_mRNA.drop(columns=['Category1', 'Category2','Interactor1.Symbol','Interactor2.Symbol'])\n",
    "\n",
    "piRNA_mRNA['Raw_ID1'] = 'piR-hsa-39980'\n",
    "\n",
    "piRNA_mRNA"
   ]
  },
  {
   "cell_type": "code",
   "execution_count": null,
   "metadata": {},
   "outputs": [],
   "source": [
    "merge_rows(piRNA_mRNA,'Raw_ID1','Raw_ID2').rename(columns={'Raw_ID1':'piRNA','Raw_ID2':'mRNA'}).to_csv(\n",
    "    edge_data_location + 'piRNA-mRNA2434.txt', sep='\\t', index=None)"
   ]
  },
  {
   "cell_type": "code",
   "execution_count": null,
   "metadata": {},
   "outputs": [],
   "source": [
    "piRNA_lncRNA = piRNA_RNA[piRNA_RNA['Category2']=='lncRNA']\n",
    "piRNA_lncRNA = piRNA_lncRNA.drop(columns=['Category1', 'Category2','Interactor1.Symbol','Interactor2.Symbol'])\n",
    "\n",
    "piRNA_lncRNA['Raw_ID1'] = 'piR-hsa-20280'\n",
    "\n",
    "piRNA_lncRNA"
   ]
  },
  {
   "cell_type": "code",
   "execution_count": null,
   "metadata": {},
   "outputs": [],
   "source": [
    "merge_rows(piRNA_lncRNA,'Raw_ID1','Raw_ID2').rename(columns={'Raw_ID1':'piRNA','Raw_ID2':'lncRNA'}).to_csv(\n",
    "    edge_data_location + 'piRNA-lncRNA2434.txt', sep='\\t', index=None)"
   ]
  },
  {
   "cell_type": "markdown",
   "metadata": {},
   "source": [
    "* ##### tRF-RNA"
   ]
  },
  {
   "cell_type": "code",
   "execution_count": null,
   "metadata": {},
   "outputs": [],
   "source": [
    "tRF_RNA = RNA_RNA[(RNA_RNA['Category1']=='tRF')]\n",
    "RNA_tRF = RNA_RNA[(RNA_RNA['Category2']=='tRF')]\n",
    "RNA_tRF.rename(columns={'Interactor1.Symbol':'Interactor2.Symbol','Category1':'Category2','Raw_ID1':'Raw_ID2',\n",
    "                        'Interactor2.Symbol':'Interactor1.Symbol','Category2':'Category1','Raw_ID2':'Raw_ID1'},\n",
    "                 inplace=True)\n",
    "tRF_RNA = pd.concat([tRF_RNA,RNA_tRF])\n",
    "tRF_RNA.Category2.unique()"
   ]
  },
  {
   "cell_type": "code",
   "execution_count": null,
   "metadata": {},
   "outputs": [],
   "source": [
    "tRF_mRNA = tRF_RNA[tRF_RNA['Category2']=='mRNA']\n",
    "tRF_mRNA = tRF_mRNA[(tRF_mRNA['Raw_ID1'].notna())]\n",
    "tRF_mRNA['Raw_ID1'] = tRF_mRNA['Raw_ID1'].str.replace('tRF-','')\n",
    "tRF_mRNA['Raw_ID1'] = 'trfdb?' + tRF_mRNA['Raw_ID1'].astype(str)\n",
    "tRF_mRNA = tRF_mRNA[(tRF_mRNA['Raw_ID2'].notna())]\n",
    "tRF_mRNA = tRF_mRNA[(tRF_mRNA['Raw_ID2'].str[0].str.isdigit())]\n",
    "tRF_mRNA = tRF_mRNA.drop(columns=['Category1', 'Category2'])\n",
    "\n",
    "merge_rows(tRF_mRNA,'Raw_ID1','Raw_ID2').rename(columns={'Raw_ID1':'tRF','Raw_ID2':'mRNA'}).to_csv(\n",
    "    edge_data_location + 'tRF-mRNA2434.txt', sep='\\t', index=None)"
   ]
  },
  {
   "cell_type": "code",
   "execution_count": null,
   "metadata": {},
   "outputs": [],
   "source": [
    "tRF_lncRNA = tRF_RNA[tRF_RNA['Category2']=='lncRNA']\n",
    "tRF_lncRNA = tRF_lncRNA[(tRF_lncRNA['Raw_ID1'].notna())]\n",
    "tRF_lncRNA['Raw_ID1'] = tRF_lncRNA['Raw_ID1'].str.replace('tRF-','')\n",
    "tRF_lncRNA['Raw_ID1'] = 'trfdb?' + tRF_lncRNA['Raw_ID1'].astype(str)\n",
    "tRF_lncRNA = tRF_lncRNA[(tRF_lncRNA['Raw_ID2'].notna())]\n",
    "tRF_lncRNA = tRF_lncRNA[(tRF_lncRNA['Raw_ID2'].str[0].str.isdigit())]\n",
    "tRF_lncRNA = tRF_lncRNA.drop(columns=['Category1', 'Category2'])\n",
    "\n",
    "merge_rows(tRF_lncRNA,'Raw_ID1','Raw_ID2').rename(columns={'Raw_ID1':'tRF','Raw_ID2':'lncRNA'}).to_csv(\n",
    "    edge_data_location + 'tRF-lncRNA2434.txt', sep='\\t', index=None)"
   ]
  },
  {
   "cell_type": "code",
   "execution_count": null,
   "metadata": {},
   "outputs": [],
   "source": [
    "tRF_pseudo = tRF_RNA[tRF_RNA['Category2']=='pseudo']\n",
    "tRF_pseudo = tRF_pseudo[(tRF_pseudo['Raw_ID1'].notna())]\n",
    "tRF_pseudo['Raw_ID1'] = tRF_pseudo['Raw_ID1'].str.replace('tRF-','')\n",
    "tRF_pseudo['Raw_ID1'] = 'trfdb?' + tRF_pseudo['Raw_ID1'].astype(str)\n",
    "tRF_pseudo = tRF_pseudo[(tRF_pseudo['Raw_ID2'].notna())]\n",
    "tRF_pseudo = tRF_pseudo[(tRF_pseudo['Raw_ID2'].str[0].str.isdigit())]\n",
    "tRF_pseudo = tRF_pseudo.drop(columns=['Category1', 'Category2'])\n",
    "\n",
    "merge_rows(tRF_pseudo,'Raw_ID1','Raw_ID2').rename(columns={'Raw_ID1':'tRF','Raw_ID2':'Pseudogene'}).to_csv(\n",
    "    edge_data_location + 'tRF-pseudogene2434.txt', sep='\\t', index=None)"
   ]
  },
  {
   "cell_type": "markdown",
   "metadata": {},
   "source": [
    "* ##### snoRNA-RNA"
   ]
  },
  {
   "cell_type": "code",
   "execution_count": null,
   "metadata": {},
   "outputs": [],
   "source": [
    "snoRNA_RNA = RNA_RNA[(RNA_RNA['Category1']=='snoRNA')]\n",
    "RNA_snoRNA = RNA_RNA[(RNA_RNA['Category2']=='snoRNA')]\n",
    "RNA_snoRNA.rename(columns={'Interactor1.Symbol':'Interactor2.Symbol','Category1':'Category2','Raw_ID1':'Raw_ID2',\n",
    "                           'Interactor2.Symbol':'Interactor1.Symbol','Category2':'Category1','Raw_ID2':'Raw_ID1'},\n",
    "                  inplace=True)\n",
    "snoRNA_RNA = pd.concat([snoRNA_RNA,RNA_snoRNA])\n",
    "snoRNA_RNA.Category2.unique()"
   ]
  },
  {
   "cell_type": "code",
   "execution_count": null,
   "metadata": {},
   "outputs": [],
   "source": [
    "snoRNA_lncRNA = snoRNA_RNA[snoRNA_RNA['Category2']=='lncRNA']\n",
    "snoRNA_lncRNA = snoRNA_lncRNA[(snoRNA_lncRNA['Raw_ID1'].notna())]\n",
    "snoRNA_lncRNA = snoRNA_lncRNA[(snoRNA_lncRNA['Raw_ID2'].notna())]\n",
    "snoRNA_lncRNA = snoRNA_lncRNA[(snoRNA_lncRNA['Raw_ID1'].str[0].str.isdigit()) &\n",
    "                              (snoRNA_lncRNA['Raw_ID2'].str[0].str.isdigit())]\n",
    "snoRNA_lncRNA = snoRNA_lncRNA.drop(columns=['Category1', 'Category2'])\n",
    "\n",
    "merge_rows(snoRNA_lncRNA,'Raw_ID1','Raw_ID2').rename(columns={'Raw_ID1':'snoRNA','Raw_ID2':'lncRNA'}).to_csv(\n",
    "    edge_data_location + 'snoRNA-lncRNA2434.txt', sep='\\t', index=None)"
   ]
  },
  {
   "cell_type": "code",
   "execution_count": null,
   "metadata": {},
   "outputs": [],
   "source": [
    "snoRNA_mRNA = snoRNA_RNA[snoRNA_RNA['Category2']=='mRNA']\n",
    "snoRNA_mRNA = snoRNA_mRNA[(snoRNA_mRNA['Raw_ID1'].notna())]\n",
    "snoRNA_mRNA = snoRNA_mRNA[(snoRNA_mRNA['Raw_ID2'].notna())]\n",
    "snoRNA_mRNA = snoRNA_mRNA[(snoRNA_mRNA['Raw_ID1'].str[0].str.isdigit()) &\n",
    "                              (snoRNA_mRNA['Raw_ID2'].str[0].str.isdigit())]\n",
    "snoRNA_mRNA = snoRNA_mRNA.drop(columns=['Category1', 'Category2'])\n",
    "\n",
    "merge_rows(snoRNA_mRNA,'Raw_ID1','Raw_ID2').rename(columns={'Raw_ID1':'snoRNA','Raw_ID2':'mRNA'}).to_csv(\n",
    "    edge_data_location + 'snoRNA-mRNA2434.txt', sep='\\t', index=None)"
   ]
  },
  {
   "cell_type": "code",
   "execution_count": null,
   "metadata": {},
   "outputs": [],
   "source": [
    "snoRNA_pseudo = snoRNA_RNA[snoRNA_RNA['Category2']=='pseudo']\n",
    "snoRNA_pseudo = snoRNA_pseudo[(snoRNA_pseudo['Raw_ID1'].notna())]\n",
    "snoRNA_pseudo = snoRNA_pseudo[(snoRNA_pseudo['Raw_ID2'].notna())]\n",
    "snoRNA_pseudo = snoRNA_pseudo[(snoRNA_pseudo['Raw_ID1'].str[0].str.isdigit()) &\n",
    "                              (snoRNA_pseudo['Raw_ID2'].str[0].str.isdigit())]\n",
    "snoRNA_pseudo = snoRNA_pseudo.drop(columns=['Category1', 'Category2'])\n",
    "\n",
    "merge_rows(snoRNA_pseudo,'Raw_ID1','Raw_ID2').rename(columns={'Raw_ID1':'snoRNA','Raw_ID2':'Pseudogene'}).to_csv(\n",
    "    edge_data_location + 'snoRNA-pseudogene2434.txt', sep='\\t', index=None)"
   ]
  },
  {
   "cell_type": "markdown",
   "metadata": {},
   "source": [
    "* ##### lncRNA-RNA"
   ]
  },
  {
   "cell_type": "code",
   "execution_count": null,
   "metadata": {},
   "outputs": [],
   "source": [
    "lncRNA_RNA = RNA_RNA[(RNA_RNA['Category1']=='lncRNA')]\n",
    "RNA_lncRNA = RNA_RNA[(RNA_RNA['Category2']=='lncRNA')]\n",
    "RNA_lncRNA.rename(columns={'Interactor1.Symbol':'Interactor2.Symbol','Category1':'Category2','Raw_ID1':'Raw_ID2',\n",
    "                           'Interactor2.Symbol':'Interactor1.Symbol','Category2':'Category1','Raw_ID2':'Raw_ID1'},\n",
    "                  inplace=True)\n",
    "lncRNA_RNA = pd.concat([lncRNA_RNA,RNA_lncRNA])\n",
    "lncRNA_RNA.Category2.unique()"
   ]
  },
  {
   "cell_type": "code",
   "execution_count": null,
   "metadata": {},
   "outputs": [],
   "source": [
    "lncRNA_mRNA = lncRNA_RNA[lncRNA_RNA['Category2']=='mRNA']\n",
    "lncRNA_mRNA = lncRNA_mRNA[(lncRNA_mRNA['Raw_ID1'].notna())]\n",
    "lncRNA_mRNA = lncRNA_mRNA[(lncRNA_mRNA['Raw_ID2'].notna())]\n",
    "lncRNA_mRNA = lncRNA_mRNA[(lncRNA_mRNA['Raw_ID1'].str[0].str.isdigit()) &\n",
    "                          (lncRNA_mRNA['Raw_ID2'].str[0].str.isdigit())]\n",
    "lncRNA_mRNA = lncRNA_mRNA.drop(columns=['Category1', 'Category2'])\n",
    "\n",
    "merge_rows(lncRNA_mRNA,'Raw_ID1','Raw_ID2').rename(columns={'Raw_ID1':'lncRNA','Raw_ID2':'mRNA'}).to_csv(\n",
    "    edge_data_location + 'lncRNA-mRNA2434.txt', sep='\\t', index=None)"
   ]
  },
  {
   "cell_type": "code",
   "execution_count": null,
   "metadata": {},
   "outputs": [],
   "source": [
    "lncRNA_lncRNA = lncRNA_RNA[lncRNA_RNA['Category2']=='lncRNA']\n",
    "lncRNA_lncRNA = lncRNA_lncRNA[(lncRNA_lncRNA['Raw_ID1'].notna())]\n",
    "lncRNA_lncRNA = lncRNA_lncRNA[(lncRNA_lncRNA['Raw_ID2'].notna())]\n",
    "lncRNA_lncRNA = lncRNA_lncRNA[(lncRNA_lncRNA['Raw_ID1'].str[0].str.isdigit()) &\n",
    "                              (lncRNA_lncRNA['Raw_ID2'].str[0].str.isdigit())]\n",
    "lncRNA_lncRNA = lncRNA_lncRNA.drop(columns=['Category1', 'Category2'])\n",
    "\n",
    "merge_rows(lncRNA_lncRNA,'Raw_ID1','Raw_ID2').rename(columns={'Raw_ID1':'lncRNA1','Raw_ID2':'lncRNA2'}).to_csv(\n",
    "    edge_data_location + 'lncRNA-lncRNA2434.txt', sep='\\t', index=None)"
   ]
  },
  {
   "cell_type": "code",
   "execution_count": null,
   "metadata": {},
   "outputs": [],
   "source": [
    "lncRNA_rRNA = lncRNA_RNA[lncRNA_RNA['Category2']=='rRNA']\n",
    "lncRNA_rRNA = lncRNA_rRNA[(lncRNA_rRNA['Raw_ID1'].notna())]\n",
    "lncRNA_rRNA = lncRNA_rRNA[(lncRNA_rRNA['Raw_ID2'].notna())]\n",
    "lncRNA_rRNA = lncRNA_rRNA[(lncRNA_rRNA['Raw_ID1'].str[0].str.isdigit()) &\n",
    "                          (lncRNA_rRNA['Raw_ID2'].str[0].str.isdigit())]\n",
    "lncRNA_rRNA = lncRNA_rRNA.drop(columns=['Category1', 'Category2'])\n",
    "\n",
    "merge_rows(lncRNA_rRNA,'Raw_ID1','Raw_ID2').rename(columns={'Raw_ID1':'lncRNA','Raw_ID2':'rRNA'}).to_csv(\n",
    "    edge_data_location + 'lncRNA-rRNA2434.txt', sep='\\t', index=None)"
   ]
  },
  {
   "cell_type": "code",
   "execution_count": null,
   "metadata": {},
   "outputs": [],
   "source": [
    "lncRNA_pseudo = lncRNA_RNA[lncRNA_RNA['Category2']=='pseudo']\n",
    "lncRNA_pseudo = lncRNA_pseudo[(lncRNA_pseudo['Raw_ID1'].notna())]\n",
    "lncRNA_pseudo = lncRNA_pseudo[(lncRNA_pseudo['Raw_ID2'].notna())]\n",
    "lncRNA_pseudo = lncRNA_pseudo[(lncRNA_pseudo['Raw_ID1'].str[0].str.isdigit()) &\n",
    "                              (lncRNA_pseudo['Raw_ID2'].str[0].str.isdigit())]\n",
    "lncRNA_pseudo = lncRNA_pseudo.drop(columns=['Category1', 'Category2'])\n",
    "\n",
    "merge_rows(lncRNA_pseudo,'Raw_ID1','Raw_ID2').rename(columns={'Raw_ID1':'lncRNA','Raw_ID2':'Pseudogene'}).to_csv(\n",
    "    edge_data_location + 'lncRNA-pseudogene2434.txt', sep='\\t', index=None)"
   ]
  },
  {
   "cell_type": "code",
   "execution_count": null,
   "metadata": {},
   "outputs": [],
   "source": [
    "lncRNA_protein = lncRNA_RNA[(lncRNA_RNA['Category2']=='protein') | (lncRNA_RNA['Category2']=='Orotein')| (lncRNA_RNA['Category2']=='Protein')]\n",
    "lncRNA_protein = lncRNA_protein[(lncRNA_protein['Raw_ID1'].notna())]\n",
    "lncRNA_protein = lncRNA_protein[(lncRNA_protein['Raw_ID2'].notna())]\n",
    "lncRNA_protein = lncRNA_protein[(lncRNA_protein['Raw_ID1'].str[0].str.isdigit()) &\n",
    "                                (lncRNA_protein['Raw_ID2'].str[0].str.isdigit())]\n",
    "\n",
    "lncRNA_protein['Raw_ID2'] = lncRNA_protein['Raw_ID2'].astype(str).astype(int)\n",
    "\n",
    "lncRNA_protein = pd.merge(lncRNA_protein, entrez_pro_map.rename(columns={0: 'Raw_ID2'}), on='Raw_ID2')\n",
    "lncRNA_protein.drop(columns=['Raw_ID2','Category1', 'Category2'], inplace=True)\n",
    "\n",
    "merge_rows(lncRNA_protein,'Raw_ID1',1).rename(columns={'Raw_ID1':'lncRNA',1:'Protein'}).to_csv(\n",
    "    edge_data_location + 'lncRNA-protein2434.txt', sep='\\t', index=None)"
   ]
  },
  {
   "cell_type": "code",
   "execution_count": null,
   "metadata": {},
   "outputs": [],
   "source": [
    "lncRNA_ncRNA = lncRNA_RNA[lncRNA_RNA['Category2']=='ncRNA']\n",
    "lncRNA_ncRNA = lncRNA_ncRNA[(lncRNA_ncRNA['Raw_ID1'].notna())]\n",
    "lncRNA_ncRNA = lncRNA_ncRNA[(lncRNA_ncRNA['Raw_ID2'].notna())]\n",
    "lncRNA_ncRNA = lncRNA_ncRNA[(lncRNA_ncRNA['Raw_ID1'].str[0].str.isdigit()) &\n",
    "                            (lncRNA_ncRNA['Raw_ID2'].str[0].str.isdigit())]\n",
    "lncRNA_ncRNA.drop(columns=['Category1', 'Category2'], inplace=True)\n",
    "\n",
    "merge_rows(lncRNA_ncRNA,'Raw_ID1','Raw_ID2').rename(columns={'Raw_ID1':'lncRNA','Raw_ID2':'ncRNA'}).to_csv(\n",
    "    edge_data_location + 'lncRNA-ncRNA2434.txt', sep='\\t', index=None)"
   ]
  },
  {
   "cell_type": "code",
   "execution_count": null,
   "metadata": {},
   "outputs": [],
   "source": [
    "lncRNA_scaRNA = lncRNA_RNA[lncRNA_RNA['Category2']=='scaRNA']\n",
    "lncRNA_scaRNA = lncRNA_scaRNA[(lncRNA_scaRNA['Raw_ID1'].notna())]\n",
    "lncRNA_scaRNA = lncRNA_scaRNA[(lncRNA_scaRNA['Raw_ID2'].notna())]\n",
    "lncRNA_scaRNA = lncRNA_scaRNA[(lncRNA_scaRNA['Raw_ID1'].str[0].str.isdigit()) &\n",
    "                              (lncRNA_scaRNA['Raw_ID2'].str[0].str.isdigit())]\n",
    "lncRNA_scaRNA.drop(columns=['Category1', 'Category2'], inplace=True)\n",
    "\n",
    "merge_rows(lncRNA_scaRNA,'Raw_ID1','Raw_ID2').rename(columns={'Raw_ID1':'lncRNA','Raw_ID2':'scaRNA'}).to_csv(\n",
    "    edge_data_location + 'lncRNA-scaRNA2434.txt', sep='\\t', index=None)"
   ]
  },
  {
   "cell_type": "code",
   "execution_count": null,
   "metadata": {},
   "outputs": [],
   "source": [
    "lncRNA_TF = lncRNA_RNA[lncRNA_RNA['Category2']=='TF']\n",
    "lncRNA_TF = lncRNA_TF[(lncRNA_TF['Raw_ID1'].notna())]\n",
    "lncRNA_TF = lncRNA_TF[(lncRNA_TF['Raw_ID2'].notna())]\n",
    "lncRNA_TF = lncRNA_TF[(lncRNA_TF['Raw_ID1'].str[0].str.isdigit()) &\n",
    "                      (lncRNA_TF['Raw_ID2'].str[0].str.isdigit())]\n",
    "\n",
    "lncRNA_TF['Raw_ID2'] = lncRNA_TF['Raw_ID2'].astype(str).astype(int)\n",
    "\n",
    "lncRNA_TF = pd.merge(lncRNA_TF, entrez_pro_map.rename(columns={0: 'Raw_ID2'}), on='Raw_ID2')\n",
    "lncRNA_TF.drop(columns=['Raw_ID2','Category1', 'Category2'], inplace=True)\n",
    "\n",
    "merge_rows(lncRNA_TF,'Raw_ID1',1).rename(columns={'Raw_ID1':'lncRNA',1:'TF'}).to_csv(\n",
    "    edge_data_location + 'lncRNA-TF2434.txt', sep='\\t', index=None)"
   ]
  },
  {
   "cell_type": "code",
   "execution_count": null,
   "metadata": {},
   "outputs": [],
   "source": [
    "lncRNA_ribozyme = lncRNA_RNA[lncRNA_RNA['Category2']=='ribozyme']\n",
    "lncRNA_ribozyme = lncRNA_ribozyme[(lncRNA_ribozyme['Raw_ID1'].notna())]\n",
    "lncRNA_ribozyme = lncRNA_ribozyme[(lncRNA_ribozyme['Raw_ID2'].notna())]\n",
    "lncRNA_ribozyme = lncRNA_ribozyme[(lncRNA_ribozyme['Raw_ID1'].str[0].str.isdigit()) &\n",
    "                                  (lncRNA_ribozyme['Raw_ID2'].str[0].str.isdigit())]\n",
    "lncRNA_ribozyme.drop(columns=['Category1', 'Category2'], inplace=True)\n",
    "\n",
    "merge_rows(lncRNA_ribozyme,'Raw_ID1','Raw_ID2').rename(columns={'Raw_ID1':'lncRNA','Raw_ID2':'Ribozyme'}).to_csv(\n",
    "    edge_data_location + 'lncRNA-ribozyme2434.txt', sep='\\t', index=None)"
   ]
  },
  {
   "cell_type": "markdown",
   "metadata": {},
   "source": [
    "* ##### eRNA-RNA"
   ]
  },
  {
   "cell_type": "code",
   "execution_count": null,
   "metadata": {},
   "outputs": [],
   "source": [
    "eRNA_RNA = RNA_RNA_s[(RNA_RNA_s['Category1']=='eRNA')]\n",
    "RNA_eRNA = RNA_RNA_s[(RNA_RNA_s['Category2']=='eRNA')]\n",
    "RNA_eRNA.rename(columns={'Interactor1.Symbol':'Interactor2.Symbol','Category1':'Category2','Raw_ID1':'Raw_ID2',\n",
    "                           'Interactor2.Symbol':'Interactor1.Symbol','Category2':'Category1','Raw_ID2':'Raw_ID1'},\n",
    "                inplace=True)\n",
    "eRNA_RNA = pd.concat([eRNA_RNA,RNA_eRNA])\n",
    "eRNA_RNA.Category2.unique()"
   ]
  },
  {
   "cell_type": "code",
   "execution_count": null,
   "metadata": {},
   "outputs": [],
   "source": [
    "eRNA_RNA.drop(columns=['Category1', 'Category2', 'Raw_ID1', 'Interactor2.Symbol'], inplace=True)\n",
    "\n",
    "merge_rows(eRNA_RNA, 'Interactor1.Symbol','Raw_ID2').rename(columns={'Interactor1.Symbol':'eRNA','Raw_ID2':'mRNA'}).to_csv(\n",
    "    edge_data_location + 'eRNA-mRNA2434.txt', sep='\\t', index=None)"
   ]
  },
  {
   "cell_type": "markdown",
   "metadata": {},
   "source": [
    "* ##### circRNA-RNA"
   ]
  },
  {
   "cell_type": "code",
   "execution_count": null,
   "metadata": {},
   "outputs": [],
   "source": [
    "circRNA_RNA = RNA_RNA[(RNA_RNA['Category1']=='circRNA')]\n",
    "RNA_circRNA = RNA_RNA[(RNA_RNA['Category2']=='circRNA')]\n",
    "RNA_circRNA.rename(columns={'Interactor1.Symbol':'Interactor2.Symbol','Category1':'Category2','Raw_ID1':'Raw_ID2',\n",
    "                           'Interactor2.Symbol':'Interactor1.Symbol','Category2':'Category1','Raw_ID2':'Raw_ID1'},\n",
    "                inplace=True)\n",
    "circRNA_RNA = pd.concat([circRNA_RNA,RNA_circRNA])\n",
    "circRNA_RNA.Category2.unique() \n",
    "# circRNA-mRNA contains no NCBI IDs for circRNA"
   ]
  },
  {
   "cell_type": "markdown",
   "metadata": {},
   "source": [
    "* ##### scRNA-RNA"
   ]
  },
  {
   "cell_type": "code",
   "execution_count": null,
   "metadata": {},
   "outputs": [],
   "source": [
    "scRNA_RNA = RNA_RNA[(RNA_RNA['Category1']=='scRNA')]\n",
    "RNA_scRNA = RNA_RNA[(RNA_RNA['Category2']=='scRNA')]\n",
    "RNA_scRNA.rename(columns={'Interactor1.Symbol':'Interactor2.Symbol','Category1':'Category2','Raw_ID1':'Raw_ID2',\n",
    "                           'Interactor2.Symbol':'Interactor1.Symbol','Category2':'Category1','Raw_ID2':'Raw_ID1'},\n",
    "                inplace=True)\n",
    "scRNA_RNA = pd.concat([scRNA_RNA,RNA_scRNA])\n",
    "scRNA_RNA.Category2.unique()"
   ]
  },
  {
   "cell_type": "code",
   "execution_count": null,
   "metadata": {},
   "outputs": [],
   "source": [
    "scRNA_mRNA = scRNA_RNA[scRNA_RNA.Category2 == 'mRNA']\n",
    "scRNA_mRNA.drop(columns=['Category1', 'Category2'], inplace=True)\n",
    "\n",
    "merge_rows(scRNA_mRNA,'Raw_ID1','Raw_ID2').rename(columns={'Raw_ID1':'scRNA','Raw_ID2':'mRNA'}).to_csv(\n",
    "    edge_data_location + 'scRNA-mRNA2434.txt', sep='\\t', index=None)"
   ]
  },
  {
   "cell_type": "markdown",
   "metadata": {},
   "source": [
    "* ##### unknownRNA-RNA"
   ]
  },
  {
   "cell_type": "code",
   "execution_count": null,
   "metadata": {},
   "outputs": [],
   "source": [
    "unknownRNA_RNA = RNA_RNA[(RNA_RNA['Category1']=='unknown')]\n",
    "RNA_unknownRNA = RNA_RNA[(RNA_RNA['Category2']=='unknown')]\n",
    "RNA_unknownRNA.rename(columns={'Interactor1.Symbol':'Interactor2.Symbol','Category1':'Category2','Raw_ID1':'Raw_ID2',\n",
    "                           'Interactor2.Symbol':'Interactor1.Symbol','Category2':'Category1','Raw_ID2':'Raw_ID1'},\n",
    "                      inplace=True)\n",
    "unknownRNA_RNA = pd.concat([unknownRNA_RNA,RNA_unknownRNA])\n",
    "unknownRNA_RNA.Category2.unique() "
   ]
  },
  {
   "cell_type": "markdown",
   "metadata": {},
   "source": [
    "* ##### TF-RNA"
   ]
  },
  {
   "cell_type": "code",
   "execution_count": null,
   "metadata": {},
   "outputs": [],
   "source": [
    "TF_RNA = RNA_RNA[(RNA_RNA['Category1']=='TF')]\n",
    "RNA_TF = RNA_RNA[(RNA_RNA['Category2']=='TF')]\n",
    "RNA_TF.rename(columns={'Interactor1.Symbol':'Interactor2.Symbol','Category1':'Category2','Raw_ID1':'Raw_ID2',\n",
    "                       'Interactor2.Symbol':'Interactor1.Symbol','Category2':'Category1','Raw_ID2':'Raw_ID1'},\n",
    "                       inplace=True)\n",
    "TF_RNA = pd.concat([RNA_TF,RNA_TF])\n",
    "TF_RNA.Category2.unique() "
   ]
  },
  {
   "cell_type": "markdown",
   "metadata": {},
   "source": [
    "* ##### pseudogene-RNA"
   ]
  },
  {
   "cell_type": "code",
   "execution_count": null,
   "metadata": {},
   "outputs": [],
   "source": [
    "pseudo_RNA = RNA_RNA[(RNA_RNA['Category1']=='pseudo')]\n",
    "RNA_pseudo = RNA_RNA[(RNA_RNA['Category2']=='pseudo')]\n",
    "RNA_pseudo.rename(columns={'Interactor1.Symbol':'Interactor2.Symbol','Category1':'Category2','Raw_ID1':'Raw_ID2',\n",
    "                       'Interactor2.Symbol':'Interactor1.Symbol','Category2':'Category1','Raw_ID2':'Raw_ID1'},\n",
    "                       inplace=True)\n",
    "pseudo_RNA = pd.concat([RNA_pseudo,RNA_pseudo])\n",
    "pseudo_RNA.Category2.unique() "
   ]
  },
  {
   "cell_type": "code",
   "execution_count": null,
   "metadata": {},
   "outputs": [],
   "source": [
    "pseudo_mRNA = pseudo_RNA[pseudo_RNA['Category2']=='mRNA']\n",
    "pseudo_mRNA = pseudo_mRNA[(pseudo_mRNA['Raw_ID1'].notna())]\n",
    "pseudo_mRNA = pseudo_mRNA[(pseudo_mRNA['Raw_ID2'].notna())]\n",
    "pseudo_mRNA = pseudo_mRNA[(pseudo_mRNA['Raw_ID1'].str[0].str.isdigit()) &\n",
    "                          (pseudo_mRNA['Raw_ID2'].str[0].str.isdigit())]\n",
    "pseudo_mRNA.drop(columns=['Category1', 'Category2'], inplace=True)\n",
    "\n",
    "merge_rows(pseudo_mRNA,'Raw_ID1','Raw_ID2').rename(columns={'Raw_ID1':'Pseudogene','Raw_ID2':'mRNA'}).to_csv(\n",
    "    edge_data_location + 'pseudogene-mRNA2434.txt', sep='\\t', index=None)"
   ]
  },
  {
   "cell_type": "code",
   "execution_count": null,
   "metadata": {},
   "outputs": [],
   "source": [
    "pseudo_pseudo = pseudo_RNA[pseudo_RNA['Category2']=='pseudo']\n",
    "pseudo_pseudo = pseudo_pseudo[(pseudo_pseudo['Raw_ID1'].notna())]\n",
    "pseudo_pseudo = pseudo_pseudo[(pseudo_pseudo['Raw_ID2'].notna())]\n",
    "pseudo_pseudo = pseudo_pseudo[(pseudo_pseudo['Raw_ID1'].str[0].str.isdigit()) &\n",
    "                              (pseudo_pseudo['Raw_ID2'].str[0].str.isdigit())]\n",
    "pseudo_pseudo.drop(columns=['Category1', 'Category2'], inplace=True)\n",
    "\n",
    "merge_rows(pseudo_pseudo,'Raw_ID1','Raw_ID2').rename(columns={'Raw_ID1':'Pseudogene1','Raw_ID2':'Pseudogene2'}).to_csv(\n",
    "    edge_data_location + 'pseudogene-pseudogene2434.txt', sep='\\t', index=None)"
   ]
  },
  {
   "cell_type": "code",
   "execution_count": null,
   "metadata": {},
   "outputs": [],
   "source": [
    "pseudo_rRNA = pseudo_RNA[pseudo_RNA['Category2']=='rRNA']\n",
    "pseudo_rRNA = pseudo_rRNA[(pseudo_rRNA['Raw_ID1'].notna())]\n",
    "pseudo_rRNA = pseudo_rRNA[(pseudo_rRNA['Raw_ID2'].notna())]\n",
    "pseudo_rRNA = pseudo_rRNA[(pseudo_rRNA['Raw_ID1'].str[0].str.isdigit()) &\n",
    "                          (pseudo_rRNA['Raw_ID2'].str[0].str.isdigit())]\n",
    "pseudo_rRNA.drop(columns=['Category1', 'Category2'], inplace=True)\n",
    "\n",
    "merge_rows(pseudo_rRNA,'Raw_ID1','Raw_ID2').rename(columns={'Raw_ID1':'Pseudogene','Raw_ID2':'rRNA'}).to_csv(\n",
    "    edge_data_location + 'pseudogene-rRNA2434.txt', sep='\\t', index=None)"
   ]
  },
  {
   "cell_type": "markdown",
   "metadata": {},
   "source": [
    "* ##### ribozyme-RNA"
   ]
  },
  {
   "cell_type": "code",
   "execution_count": null,
   "metadata": {},
   "outputs": [],
   "source": [
    "ribozyme_RNA = RNA_RNA[(RNA_RNA['Category1']=='ribozyme')]\n",
    "RNA_ribozyme = RNA_RNA[(RNA_RNA['Category2']=='ribozyme')]\n",
    "RNA_ribozyme.rename(columns={'Interactor1.Symbol':'Interactor2.Symbol','Category1':'Category2','Raw_ID1':'Raw_ID2',\n",
    "                       'Interactor2.Symbol':'Interactor1.Symbol','Category2':'Category1','Raw_ID2':'Raw_ID1'},\n",
    "                       inplace=True)\n",
    "ribozyme_RNA = pd.concat([RNA_ribozyme,RNA_ribozyme])\n",
    "ribozyme_RNA.Category2.unique() "
   ]
  },
  {
   "cell_type": "markdown",
   "metadata": {},
   "source": [
    "* ##### mRNA-RNA"
   ]
  },
  {
   "cell_type": "code",
   "execution_count": null,
   "metadata": {},
   "outputs": [],
   "source": [
    "mRNA_RNA = RNA_RNA[(RNA_RNA['Category1']=='mRNA')]\n",
    "RNA_mRNA = RNA_RNA[(RNA_RNA['Category2']=='mRNA')]\n",
    "RNA_mRNA.rename(columns={'Interactor1.Symbol':'Interactor2.Symbol','Category1':'Category2','Raw_ID1':'Raw_ID2',\n",
    "                       'Interactor2.Symbol':'Interactor1.Symbol','Category2':'Category1','Raw_ID2':'Raw_ID1'},\n",
    "                       inplace=True)\n",
    "mRNA_RNA = pd.concat([mRNA_RNA,RNA_mRNA])\n",
    "mRNA_RNA.Category2.unique() "
   ]
  },
  {
   "cell_type": "code",
   "execution_count": null,
   "metadata": {},
   "outputs": [],
   "source": [
    "mRNA_mRNA = mRNA_RNA[mRNA_RNA['Category2']=='mRNA']\n",
    "mRNA_mRNA = mRNA_mRNA[(mRNA_mRNA['Raw_ID1'].notna())]\n",
    "mRNA_mRNA = mRNA_mRNA[(mRNA_mRNA['Raw_ID2'].notna())]\n",
    "mRNA_mRNA = mRNA_mRNA[(mRNA_mRNA['Raw_ID1'].str[0].str.isdigit()) &\n",
    "                      (mRNA_mRNA['Raw_ID2'].str[0].str.isdigit())]\n",
    "mRNA_mRNA.drop(columns=['Category1', 'Category2'], inplace=True)\n",
    "\n",
    "merge_rows(mRNA_mRNA,'Raw_ID1','Raw_ID2').rename(columns={'Raw_ID1':'mRNA1','Raw_ID2':'mRNA2'}).to_csv(\n",
    "    edge_data_location + 'mRNA-mRNA2434.txt', sep='\\t', index=None)"
   ]
  },
  {
   "cell_type": "code",
   "execution_count": null,
   "metadata": {},
   "outputs": [],
   "source": [
    "mRNA_rRNA = mRNA_RNA[mRNA_RNA['Category2']=='rRNA']\n",
    "mRNA_rRNA = mRNA_rRNA[(mRNA_rRNA['Raw_ID1'].notna())]\n",
    "mRNA_rRNA = mRNA_rRNA[(mRNA_rRNA['Raw_ID2'].notna())]\n",
    "mRNA_rRNA = mRNA_rRNA[(mRNA_rRNA['Raw_ID1'].str[0].str.isdigit()) &\n",
    "                      (mRNA_rRNA['Raw_ID2'].str[0].str.isdigit())]\n",
    "mRNA_rRNA.drop(columns=['Category1', 'Category2'], inplace=True)\n",
    "\n",
    "merge_rows(mRNA_rRNA,'Raw_ID1','Raw_ID2').rename(columns={'Raw_ID1':'mRNA','Raw_ID2':'rRNA'}).to_csv(\n",
    "    edge_data_location + 'mRNA-rRNA2434.txt', sep='\\t', index=None)"
   ]
  },
  {
   "cell_type": "code",
   "execution_count": null,
   "metadata": {},
   "outputs": [],
   "source": [
    "mRNA_ncRNA = mRNA_RNA[mRNA_RNA['Category2']=='ncRNA']\n",
    "mRNA_ncRNA = mRNA_ncRNA[(mRNA_ncRNA['Raw_ID1'].notna())]\n",
    "mRNA_ncRNA = mRNA_ncRNA[(mRNA_ncRNA['Raw_ID2'].notna())]\n",
    "mRNA_ncRNA = mRNA_ncRNA[(mRNA_ncRNA['Raw_ID1'].str[0].str.isdigit()) &\n",
    "                        (mRNA_ncRNA['Raw_ID2'].str[0].str.isdigit())]\n",
    "mRNA_ncRNA.drop(columns=['Category1', 'Category2'], inplace=True)\n",
    "\n",
    "merge_rows(mRNA_ncRNA,'Raw_ID1','Raw_ID2').rename(columns={'Raw_ID1':'mRNA','Raw_ID2':'ncRNA'}).to_csv(\n",
    "    edge_data_location + 'mRNA-ncRNA2434.txt', sep='\\t', index=None)"
   ]
  },
  {
   "cell_type": "code",
   "execution_count": null,
   "metadata": {},
   "outputs": [],
   "source": [
    "mRNA_scaRNA = mRNA_RNA[mRNA_RNA['Category2']=='scaRNA']\n",
    "mRNA_scaRNA = mRNA_scaRNA[(mRNA_scaRNA['Raw_ID1'].notna())]\n",
    "mRNA_scaRNA = mRNA_scaRNA[(mRNA_scaRNA['Raw_ID2'].notna())]\n",
    "mRNA_scaRNA = mRNA_scaRNA[(mRNA_scaRNA['Raw_ID1'].str[0].str.isdigit()) &\n",
    "                          (mRNA_scaRNA['Raw_ID2'].str[0].str.isdigit())]\n",
    "mRNA_scaRNA.drop(columns=['Category1', 'Category2'], inplace=True)\n",
    "\n",
    "merge_rows(mRNA_scaRNA,'Raw_ID1','Raw_ID2').rename(columns={'Raw_ID1':'mRNA','Raw_ID2':'scaRNA'}).to_csv(\n",
    "    edge_data_location + 'mRNA-scaRNA2434.txt', sep='\\t', index=None)"
   ]
  },
  {
   "cell_type": "markdown",
   "metadata": {},
   "source": [
    "* ##### ncRNA-RNA"
   ]
  },
  {
   "cell_type": "code",
   "execution_count": null,
   "metadata": {},
   "outputs": [],
   "source": [
    "ncRNA_RNA = RNA_RNA[(RNA_RNA['Category1']=='ncRNA')]\n",
    "RNA_ncRNA = RNA_RNA[(RNA_RNA['Category2']=='ncRNA')]\n",
    "RNA_ncRNA.rename(columns={'Interactor1.Symbol':'Interactor2.Symbol','Category1':'Category2','Raw_ID1':'Raw_ID2',\n",
    "                       'Interactor2.Symbol':'Interactor1.Symbol','Category2':'Category1','Raw_ID2':'Raw_ID1'},\n",
    "                       inplace=True)\n",
    "ncRNA_RNA = pd.concat([ncRNA_RNA,RNA_ncRNA])\n",
    "ncRNA_RNA.Category2.unique() "
   ]
  },
  {
   "cell_type": "markdown",
   "metadata": {},
   "source": [
    "* ##### ncRNA-RNA"
   ]
  },
  {
   "cell_type": "code",
   "execution_count": null,
   "metadata": {},
   "outputs": [],
   "source": [
    "rRNA_RNA = RNA_RNA[(RNA_RNA['Category1']=='rRNA')]\n",
    "RNA_rRNA = RNA_RNA[(RNA_RNA['Category2']=='rRNA')]\n",
    "RNA_rRNA.rename(columns={'Interactor1.Symbol':'Interactor2.Symbol','Category1':'Category2','Raw_ID1':'Raw_ID2',\n",
    "                       'Interactor2.Symbol':'Interactor1.Symbol','Category2':'Category1','Raw_ID2':'Raw_ID1'},\n",
    "                       inplace=True)\n",
    "rRNA_RNA = pd.concat([rRNA_RNA,RNA_rRNA])\n",
    "rRNA_RNA.Category2.unique() "
   ]
  },
  {
   "cell_type": "code",
   "execution_count": null,
   "metadata": {},
   "outputs": [],
   "source": [
    "rRNA_rRNA = rRNA_RNA[rRNA_RNA['Category2']=='rRNA']\n",
    "rRNA_rRNA = rRNA_rRNA[(rRNA_rRNA['Raw_ID1'].notna())]\n",
    "rRNA_rRNA = rRNA_rRNA[(rRNA_rRNA['Raw_ID2'].notna())]\n",
    "rRNA_rRNA = rRNA_rRNA[(rRNA_rRNA['Raw_ID1'].str[0].str.isdigit()) &\n",
    "                      (rRNA_rRNA['Raw_ID2'].str[0].str.isdigit())]\n",
    "rRNA_rRNA.drop(columns=['Category1', 'Category2'], inplace=True)\n",
    "\n",
    "merge_rows(rRNA_rRNA,'Raw_ID1','Raw_ID2').rename(columns={'Raw_ID1':'rRNA1','Raw_ID2':'rRNA2'}).to_csv(\n",
    "    edge_data_location + 'rRNA-rRNA2434.txt', sep='\\t', index=None)"
   ]
  },
  {
   "cell_type": "code",
   "execution_count": null,
   "metadata": {},
   "outputs": [],
   "source": [
    "rRNA_scaRNA = rRNA_RNA[rRNA_RNA['Category2']=='scaRNA']\n",
    "rRNA_scaRNA = rRNA_scaRNA[(rRNA_scaRNA['Raw_ID1'].notna())]\n",
    "rRNA_scaRNA = rRNA_scaRNA[(rRNA_scaRNA['Raw_ID2'].notna())]\n",
    "rRNA_scaRNA = rRNA_scaRNA[(rRNA_scaRNA['Raw_ID1'].str[0].str.isdigit()) &\n",
    "                      (rRNA_scaRNA['Raw_ID2'].str[0].str.isdigit())]\n",
    "# Empty"
   ]
  },
  {
   "cell_type": "markdown",
   "metadata": {},
   "source": [
    "* ##### protein-RNA"
   ]
  },
  {
   "cell_type": "code",
   "execution_count": null,
   "metadata": {},
   "outputs": [],
   "source": [
    "protein_RNA = RNA_RNA[(RNA_RNA['Category1']=='protein')]\n",
    "RNA_protein = RNA_RNA[(RNA_RNA['Category2']=='protein')]\n",
    "RNA_protein.rename(columns={'Interactor1.Symbol':'Interactor2.Symbol','Category1':'Category2','Raw_ID1':'Raw_ID2',\n",
    "                            'Interactor2.Symbol':'Interactor1.Symbol','Category2':'Category1','Raw_ID2':'Raw_ID1'},\n",
    "                            inplace=True)\n",
    "protein_RNA = pd.concat([protein_RNA,RNA_protein])\n",
    "protein_RNA.Category2.unique() "
   ]
  },
  {
   "cell_type": "markdown",
   "metadata": {},
   "source": [
    "* ##### protein-RNA"
   ]
  },
  {
   "cell_type": "code",
   "execution_count": null,
   "metadata": {},
   "outputs": [],
   "source": [
    "scaRNA_RNA = RNA_RNA[(RNA_RNA['Category1']=='scaRNA')]\n",
    "RNA_scaRNA = RNA_RNA[(RNA_RNA['Category2']=='scaRNA')]\n",
    "RNA_scaRNA.rename(columns={'Interactor1.Symbol':'Interactor2.Symbol','Category1':'Category2','Raw_ID1':'Raw_ID2',\n",
    "                           'Interactor2.Symbol':'Interactor1.Symbol','Category2':'Category1','Raw_ID2':'Raw_ID1'},\n",
    "                           inplace=True)\n",
    "scaRNA_RNA = pd.concat([scaRNA_RNA,RNA_scaRNA])\n",
    "scaRNA_RNA.Category2.unique() "
   ]
  },
  {
   "cell_type": "markdown",
   "metadata": {},
   "source": [
    "* #### RNA-protein"
   ]
  },
  {
   "cell_type": "code",
   "execution_count": null,
   "metadata": {},
   "outputs": [],
   "source": [
    "! wget http://www.rnainter.org/raidMedia/download/Download_data_RP.tar.gz -P ../resources/processed_data/unprocessed_data/"
   ]
  },
  {
   "cell_type": "code",
   "execution_count": null,
   "metadata": {},
   "outputs": [],
   "source": [
    "RNA_protein = pd.read_csv(unprocessed_data_location+'Download_data_RP.tar.gz',sep='\\t')\n",
    "RNA_protein['Source(s)'] = 'RNAInter'\n",
    "\n",
    "# We select only strong evidence interactions for hsa\n",
    "RNA_protein = RNA_protein[(RNA_protein['score'] >= 0.2886) &\n",
    "                  (RNA_protein['Species1'].str.contains('apiens')) &\n",
    "                  (RNA_protein['Species2'].str.contains('apiens'))]\n",
    "\n",
    "# We keep only entries starting with NCBI, miRBase, tRFdb, HG19_TRNAS_\n",
    "RNA_protein = RNA_protein[((RNA_protein['Raw_ID1'].str.startswith('NCBI')) |\n",
    "                  (RNA_protein['Raw_ID1'].str.startswith('miRBase')) |\n",
    "                  (RNA_protein['Raw_ID1'].str.startswith('nm-tRNA')) |\n",
    "                  (RNA_protein['Raw_ID1'].str.startswith('tRNA'))) &\n",
    "                  (RNA_protein['Raw_ID2'].str.startswith('NCBI'))\n",
    "                ]\n",
    "\n",
    "RNA_protein.Raw_ID1 = RNA_protein.Raw_ID1.str.replace(\"NCBI:\", '')\n",
    "RNA_protein.Raw_ID2 = RNA_protein.Raw_ID2.str.replace(\"NCBI:\", '')\n",
    "\n",
    "# miRNA\n",
    "RNA_protein.Raw_ID1 = RNA_protein.Raw_ID1.str.replace(\"miRBase:\", '')\n",
    "RNA_protein.Raw_ID2 = RNA_protein.Raw_ID2.str.replace(\"miRBase:\", '')\n",
    "\n",
    "RNA_protein['Raw_ID1'] = RNA_protein['Raw_ID1'].str.split(';')\n",
    "RNA_protein = RNA_protein.explode('Raw_ID1')\n",
    "RNA_protein['Raw_ID2'] = RNA_protein['Raw_ID2'].str.split(';')\n",
    "RNA_protein = RNA_protein.explode('Raw_ID2')\n",
    "\n",
    "RNA_protein = RNA_protein[(RNA_protein['Raw_ID2'].notna())]\n",
    "RNA_protein['Raw_ID2'] = RNA_protein['Raw_ID2'].astype(str).astype(int)\n",
    "RNA_protein = pd.merge(RNA_protein, entrez_pro_map.rename(columns={0: 'Raw_ID2'}), on='Raw_ID2')\n",
    "RNA_protein.drop(columns=['Raw_ID2'], inplace=True)\n",
    "\n",
    "i = RNA_protein[~(RNA_protein['Category1']=='miRNA')].index.values\n",
    "RNA_protein.loc[i,\"Raw_ID1\"] = RNA_protein.loc[i,\"Raw_ID1\"] + '?' + RNA_protein.loc[i,\"Category1\"]\n",
    "\n",
    "# Edge properties\n",
    "RNA_protein.strong = RNA_protein.strong.str.replace('//','|')\n",
    "RNA_protein.strong = RNA_protein.strong.str.lower()\n",
    "RNA_protein.strong = [replace_with_ncit(item) for item in RNA_protein.strong]\n",
    "\n",
    "RNA_protein.weak = RNA_protein.weak.str.replace('//','|')\n",
    "RNA_protein.weak = RNA_protein.weak.str.lower()\n",
    "RNA_protein.weak = [replace_with_ncit(item) for item in RNA_protein.weak]\n",
    "\n",
    "RNA_protein.predict = RNA_protein.predict.str.replace('//','|')\n",
    "RNA_protein.predict = RNA_protein.predict.str.lower()\n",
    "RNA_protein.predict = [replace_with_ncit(item) for item in RNA_protein.predict]\n",
    "\n",
    "RNA_protein_s = RNA_protein.copy()\n",
    "RNA_protein_s.drop(columns=['RNAInterID','Species1','Species2'],inplace=True)\n",
    "RNA_protein.drop(columns=['RNAInterID','Interactor1.Symbol','Species1','Interactor2.Symbol','Species2'],inplace=True)\n",
    "RNA_protein.rename(columns={'score':'RNAInter Score','strong':'Strong validation method','weak':'Weak validation method',\n",
    "                            'predict':'Predict validation method'},inplace=True)\n",
    "RNA_protein_s.rename(columns={'score':'RNAInter Score','strong':'Strong validation method','weak':'Weak validation method',\n",
    "                            'predict':'Predict validation method'},inplace=True)\n",
    "RNA_protein.insert(3, 1, RNA_protein.pop(1))\n",
    "RNA_protein_s.insert(5, 1, RNA_protein_s.pop(1))\n",
    "\n",
    "RNA_protein"
   ]
  },
  {
   "cell_type": "code",
   "execution_count": null,
   "metadata": {},
   "outputs": [],
   "source": [
    "set(RNA_protein.Category2)"
   ]
  },
  {
   "cell_type": "code",
   "execution_count": null,
   "metadata": {},
   "outputs": [],
   "source": [
    "RNA_RBP = RNA_protein[RNA_protein.Category2=='RBP']\n",
    "RNA_RBP_s = RNA_protein_s[RNA_protein_s.Category2=='RBP']\n",
    "RNA_TF = RNA_protein[RNA_protein.Category2=='TF']\n",
    "RNA_protein = RNA_protein[(RNA_protein.Category2=='protein') | (RNA_protein.Category2=='Protein')]"
   ]
  },
  {
   "cell_type": "code",
   "execution_count": null,
   "metadata": {},
   "outputs": [],
   "source": [
    "set(RNA_protein.Category1)"
   ]
  },
  {
   "cell_type": "code",
   "execution_count": null,
   "metadata": {},
   "outputs": [],
   "source": [
    "circRNA_protein = RNA_protein[RNA_protein['Category1']=='circRNA']\n",
    "circRNA_protein = circRNA_protein[(circRNA_protein['Raw_ID1'].notna())]\n",
    "circRNA_protein = circRNA_protein[(circRNA_protein['Raw_ID1'].str[0].str.isdigit())]\n",
    "circRNA_protein.drop(columns=['Category1', 'Category2'], inplace=True)\n",
    "\n",
    "merge_rows(circRNA_protein,'Raw_ID1',1).rename(columns={'Raw_ID1':'circRNA',1:'Protein'}).to_csv(\n",
    "    edge_data_location + 'circRNA-protein2434.txt', sep='\\t', index=None)"
   ]
  },
  {
   "cell_type": "code",
   "execution_count": null,
   "metadata": {},
   "outputs": [],
   "source": [
    "lncRNA_protein2 = RNA_protein[RNA_protein['Category1']=='lncRNA']\n",
    "lncRNA_protein2 = lncRNA_protein2[(lncRNA_protein2['Raw_ID1'].notna())]\n",
    "lncRNA_protein2 = lncRNA_protein2[(lncRNA_protein2['Raw_ID1'].str[0].str.isdigit())]\n",
    "\n",
    "lncRNA_protein = pd.concat([lncRNA_protein,lncRNA_protein2])\n",
    "lncRNA_protein.drop(columns=['Category1', 'Category2'], inplace=True)\n",
    "\n",
    "merge_rows(lncRNA_protein,'Raw_ID1',1).rename(columns={'Raw_ID1':'lncRNA',1:'Protein'}).to_csv(\n",
    "    edge_data_location + 'lncRNA-protein2434.txt', sep='\\t', index=None)"
   ]
  },
  {
   "cell_type": "code",
   "execution_count": null,
   "metadata": {},
   "outputs": [],
   "source": [
    "mRNA_protein = RNA_protein[RNA_protein['Category1']=='mRNA']\n",
    "mRNA_protein = mRNA_protein[(mRNA_protein['Raw_ID1'].notna())]\n",
    "mRNA_protein = mRNA_protein[(mRNA_protein['Raw_ID1'].str[0].str.isdigit())]\n",
    "mRNA_protein.drop(columns=['Category1', 'Category2'], inplace=True)\n",
    "\n",
    "merge_rows(mRNA_protein,'Raw_ID1',1).rename(columns={'Raw_ID1':'mRNA',1:'Protein'}).to_csv(\n",
    "    edge_data_location + 'mRNA-protein2434.txt', sep='\\t', index=None)"
   ]
  },
  {
   "cell_type": "code",
   "execution_count": null,
   "metadata": {},
   "outputs": [],
   "source": [
    "ncRNA_protein = RNA_protein[RNA_protein['Category1']=='ncRNA']\n",
    "ncRNA_protein = ncRNA_protein[(ncRNA_protein['Raw_ID1'].notna())]\n",
    "ncRNA_protein = ncRNA_protein[(ncRNA_protein['Raw_ID1'].str[0].str.isdigit())]\n",
    "ncRNA_protein.drop(columns=['Category1', 'Category2'], inplace=True)\n",
    "\n",
    "merge_rows(ncRNA_protein,'Raw_ID1',1).rename(columns={'Raw_ID1':'ncRNA',1:'Protein'}).to_csv(\n",
    "    edge_data_location + 'ncRNA-protein2434.txt', sep='\\t', index=None)"
   ]
  },
  {
   "cell_type": "code",
   "execution_count": null,
   "metadata": {},
   "outputs": [],
   "source": [
    "othersRNA_protein = RNA_protein[RNA_protein['Category1']=='ncRNA']\n",
    "othersRNA_protein = othersRNA_protein[(othersRNA_protein['Raw_ID1'].notna())]\n",
    "othersRNA_protein = othersRNA_protein[(othersRNA_protein['Raw_ID1'].str[0].str.isdigit())]\n",
    "othersRNA_protein.drop(columns=['Category1', 'Category2'], inplace=True)\n",
    "\n",
    "merge_rows(othersRNA_protein,'Raw_ID1',1).rename(columns={'Raw_ID1':'Others RNA',1:'Protein'}).to_csv(\n",
    "    edge_data_location + 'othersRNA-protein2434.txt', sep='\\t', index=None)"
   ]
  },
  {
   "cell_type": "code",
   "execution_count": null,
   "metadata": {},
   "outputs": [],
   "source": [
    "pseudo_protein = RNA_protein[RNA_protein['Category1']=='pseudo']\n",
    "pseudo_protein = pseudo_protein[(pseudo_protein['Raw_ID1'].notna())]\n",
    "pseudo_protein = pseudo_protein[(pseudo_protein['Raw_ID1'].str[0].str.isdigit())]\n",
    "pseudo_protein.drop(columns=['Category1', 'Category2'], inplace=True)\n",
    "\n",
    "merge_rows(pseudo_protein,'Raw_ID1',1).rename(columns={'Raw_ID1':'Pseudogene',1:'Protein'}).to_csv(\n",
    "    edge_data_location + 'pseudogene-protein2434.txt', sep='\\t', index=None)"
   ]
  },
  {
   "cell_type": "code",
   "execution_count": null,
   "metadata": {},
   "outputs": [],
   "source": [
    "ribozyme_protein = RNA_protein[RNA_protein['Category1']=='ribozyme']\n",
    "ribozyme_protein = ribozyme_protein[(ribozyme_protein['Raw_ID1'].notna())]\n",
    "ribozyme_protein = ribozyme_protein[(ribozyme_protein['Raw_ID1'].str[0].str.isdigit())]\n",
    "ribozyme_protein.drop(columns=['Category1', 'Category2'], inplace=True)\n",
    "\n",
    "merge_rows(ribozyme_protein,'Raw_ID1',1).rename(columns={'Raw_ID1':'Ribozyme',1:'Protein'}).to_csv(\n",
    "    edge_data_location + 'ribozyme-protein2434.txt', sep='\\t', index=None)"
   ]
  },
  {
   "cell_type": "code",
   "execution_count": null,
   "metadata": {},
   "outputs": [],
   "source": [
    "scRNA_protein = RNA_protein[RNA_protein['Category1']=='scRNA']\n",
    "scRNA_protein = scRNA_protein[(scRNA_protein['Raw_ID1'].notna())]\n",
    "scRNA_protein = scRNA_protein[(scRNA_protein['Raw_ID1'].str[0].str.isdigit())]\n",
    "scRNA_protein.drop(columns=['Category1', 'Category2'], inplace=True)\n",
    "\n",
    "merge_rows(scRNA_protein,'Raw_ID1',1).rename(columns={'Raw_ID1':'scRNA',1:'Protein'}).to_csv(\n",
    "    edge_data_location + 'scRNA-protein2434.txt', sep='\\t', index=None)"
   ]
  },
  {
   "cell_type": "code",
   "execution_count": null,
   "metadata": {},
   "outputs": [],
   "source": [
    "snRNA_protein = RNA_protein[RNA_protein['Category1']=='snRNA']\n",
    "snRNA_protein = snRNA_protein[(snRNA_protein['Raw_ID1'].notna())]\n",
    "snRNA_protein = snRNA_protein[(snRNA_protein['Raw_ID1'].str[0].str.isdigit())]\n",
    "snRNA_protein.drop(columns=['Category1', 'Category2'], inplace=True)\n",
    "\n",
    "merge_rows(snRNA_protein,'Raw_ID1',1).rename(columns={'Raw_ID1':'snRNA',1:'Protein'}).to_csv(\n",
    "    edge_data_location + 'snRNA-protein2434.txt', sep='\\t', index=None)"
   ]
  },
  {
   "cell_type": "code",
   "execution_count": null,
   "metadata": {},
   "outputs": [],
   "source": [
    "snoRNA_protein = RNA_protein[RNA_protein['Category1']=='snoRNA']\n",
    "snoRNA_protein = snoRNA_protein[(snoRNA_protein['Raw_ID1'].notna())]\n",
    "snoRNA_protein = snoRNA_protein[(snoRNA_protein['Raw_ID1'].str[0].str.isdigit())]\n",
    "snoRNA_protein.drop(columns=['Category1', 'Category2'], inplace=True)\n",
    "\n",
    "merge_rows(snoRNA_protein,'Raw_ID1',1).rename(columns={'Raw_ID1':'snoRNA',1:'Protein'}).to_csv(\n",
    "    edge_data_location + 'snoRNA-protein2434.txt', sep='\\t', index=None)"
   ]
  },
  {
   "cell_type": "code",
   "execution_count": null,
   "metadata": {},
   "outputs": [],
   "source": [
    "unknownRNA_protein = RNA_protein[RNA_protein['Category1']=='unknown']\n",
    "unknownRNA_protein = unknownRNA_protein[(unknownRNA_protein['Raw_ID1'].notna())]\n",
    "unknownRNA_protein = unknownRNA_protein[(unknownRNA_protein['Raw_ID1'].str[0].str.isdigit())]\n",
    "unknownRNA_protein.drop(columns=['Category1', 'Category2'], inplace=True)\n",
    "\n",
    "merge_rows(unknownRNA_protein,'Raw_ID1',1).rename(columns={'Raw_ID1':'Unknown RNA',1:'Protein'}).to_csv(\n",
    "    edge_data_location + 'unknownRNA-protein2434.txt', sep='\\t', index=None)"
   ]
  },
  {
   "cell_type": "code",
   "execution_count": null,
   "metadata": {},
   "outputs": [],
   "source": [
    "vtRNAs_protein = RNA_protein[RNA_protein['Category1']=='vtRNAs']\n",
    "vtRNAs_protein = vtRNAs_protein[(vtRNAs_protein['Raw_ID1'].notna())]\n",
    "vtRNAs_protein = vtRNAs_protein[(vtRNAs_protein['Raw_ID1'].str[0].str.isdigit())]\n",
    "vtRNAs_protein.drop(columns=['Category1', 'Category2'], inplace=True)\n",
    "\n",
    "merge_rows(vtRNAs_protein,'Raw_ID1',1).rename(columns={'Raw_ID1':'vtRNAs',1:'Protein'}).to_csv(\n",
    "    edge_data_location + 'vtRNAs-protein2434.txt', sep='\\t', index=None)"
   ]
  },
  {
   "cell_type": "code",
   "execution_count": null,
   "metadata": {},
   "outputs": [],
   "source": [
    "miRNA_protein2 = RNA_protein[RNA_protein['Category1']=='miRNA']\n",
    "miRNA_protein2 = miRNA_protein2[(miRNA_protein2['Raw_ID1'].notna())]\n",
    "miRNA_protein2 = miRNA_protein2[(miRNA_protein2['Raw_ID1'].str[0].str.isdigit())]\n",
    "\n",
    "maturemiRNA_protein2 = miRNA_protein2[(miRNA_protein2['Raw_ID1'].str.startswith('MIMAT'))]\n",
    "premiRNA_protein2 = miRNA_protein2[(miRNA_protein2['Raw_ID1'].str.startswith('MI')) &\n",
    "                                   (~miRNA_protein2['Raw_ID1'].str.startswith('MIMAT'))]\n",
    "\n",
    "maturemiRNA_protein = pd.concat([maturemiRNA_protein,maturemiRNA_protein2])\n",
    "premiRNA_protein = pd.concat([premiRNA_protein,premiRNA_protein2])\n",
    "premiRNA_protein.drop(columns=['Category1', 'Category2'], inplace=True)\n",
    "maturemiRNA_protein.drop(columns=['Category1', 'Category2'], inplace=True)\n",
    "\n",
    "merge_rows(maturemiRNA_protein,'Raw_ID1',1).rename(columns={'Raw_ID1':'miRNA',1:'Protein'}).to_csv(\n",
    "    edge_data_location + 'miRNA-protein2434.txt', sep='\\t', index=None)\n",
    "merge_rows(premiRNA_protein,'Raw_ID1',1).rename(columns={'Raw_ID1':'miRNA',1:'Protein'}).to_csv(\n",
    "    edge_data_location + 'premiRNA-protein2434.txt', sep='\\t', index=None)"
   ]
  },
  {
   "cell_type": "markdown",
   "metadata": {},
   "source": [
    "***"
   ]
  },
  {
   "cell_type": "code",
   "execution_count": null,
   "metadata": {},
   "outputs": [],
   "source": [
    "set(RNA_RBP.Category1)"
   ]
  },
  {
   "cell_type": "code",
   "execution_count": null,
   "metadata": {},
   "outputs": [],
   "source": [
    "for i in set(RNA_RBP.Category1):\n",
    "    if i != 'miRNA':\n",
    "        RNA_RBP_ = RNA_RBP[RNA_RBP['Category1']==i]\n",
    "        RNA_RBP_ = RNA_RBP_[(RNA_RBP_['Raw_ID1'].notna())]\n",
    "        RNA_RBP_ = RNA_RBP_[(RNA_RBP_['Raw_ID1'].str[0].str.isdigit())]\n",
    "\n",
    "        if not RNA_RBP_.empty:   \n",
    "            #print(i)\n",
    "            RNA_RBP_.drop(columns=['Category1', 'Category2'], inplace=True)\n",
    "            merge_rows(RNA_RBP_,'Raw_ID1',1).rename(columns={'Raw_ID1':i,1:'RBP'}).to_csv(\n",
    "            edge_data_location + i + '-RBP2434.txt', sep='\\t', index=None)"
   ]
  },
  {
   "cell_type": "code",
   "execution_count": null,
   "metadata": {},
   "outputs": [],
   "source": [
    "miRNA_RBP = RNA_RBP_s[RNA_RBP_s['Category1']=='miRNA']\n",
    "miRNA_RBP = miRNA_RBP[(miRNA_RBP['Raw_ID1'].notna())]\n",
    "miRNA_RBP = miRNA_RBP[(miRNA_RBP['Raw_ID1'].str[0].str.isdigit())]\n",
    "miRNA_RBP['Interactor1.Symbol'] = 'hsa-' + miRNA_RBP['Interactor1.Symbol'].str.lower().str.replace(\n",
    "    'mir','mir-').str.replace('let','let-')\n",
    "miRNA_RBP.drop(columns=['Category1', 'Category2','Interactor2.Symbol','Raw_ID1'], inplace=True)\n",
    "\n",
    "miRNA_RBP = pd.merge(miRNA_RBP, mirna_mirbase_map.rename(columns={0:'Interactor1.Symbol'}), on='Interactor1.Symbol')\n",
    "miRNA_RBP.drop(columns=['Interactor1.Symbol'], inplace=True)\n",
    "miRNA_RBP.insert(0, '1_y', miRNA_RBP.pop('1_y'))\n",
    "\n",
    "merge_rows(miRNA_RBP,'1_y','1_x').rename(columns={'1_y':'miRNA','1_x':'RBP'}).to_csv(\n",
    "    edge_data_location + 'premiRNA-RBP2434.txt', sep='\\t', index=None)"
   ]
  },
  {
   "cell_type": "markdown",
   "metadata": {},
   "source": [
    "***"
   ]
  },
  {
   "cell_type": "code",
   "execution_count": null,
   "metadata": {},
   "outputs": [],
   "source": [
    "set(RNA_TF.Category1)"
   ]
  },
  {
   "cell_type": "code",
   "execution_count": null,
   "metadata": {},
   "outputs": [],
   "source": [
    "for i in set(RNA_TF.Category1):\n",
    "    if i != 'miRNA':\n",
    "        RNA_TF_ = RNA_TF[RNA_TF['Category1']==i]\n",
    "        RNA_TF_ = RNA_TF_[(RNA_TF_['Raw_ID1'].notna())]\n",
    "        RNA_TF_ = RNA_TF_[(RNA_TF_['Raw_ID1'].str[0].str.isdigit())]\n",
    "        \n",
    "        if i == 'lncRNA':\n",
    "            RNA_TF_ = pd.concat([lncRNA_TF,RNA_TF_])\n",
    "            \n",
    "        if not RNA_TF_.empty:   \n",
    "            #print(i)\n",
    "            RNA_TF_.drop(columns=['Category1', 'Category2'], inplace=True)\n",
    "            merge_rows(RNA_TF_,'Raw_ID1',1).rename(columns={'Raw_ID1':i,1:'TF'}).to_csv(\n",
    "            edge_data_location + i + '-TF2434.txt', sep='\\t', index=None)"
   ]
  },
  {
   "cell_type": "code",
   "execution_count": null,
   "metadata": {},
   "outputs": [],
   "source": [
    "miRNA_TF = RNA_TF[RNA_TF['Category1']=='miRNA']\n",
    "miRNA_TF = miRNA_TF[(miRNA_TF['Raw_ID1'].notna())]\n",
    "\n",
    "maturemiRNA_TF = miRNA_TF[(miRNA_TF['Raw_ID1'].str.startswith('MIMAT'))]\n",
    "premiRNA_TF = miRNA_TF[(miRNA_TF['Raw_ID1'].str.startswith('MI')) &\n",
    "                       (~miRNA_TF['Raw_ID1'].str.startswith('MIMAT'))]\n",
    "maturemiRNA_TF.drop(columns=['Category1', 'Category2'], inplace=True)\n",
    "premiRNA_TF.drop(columns=['Category1', 'Category2'], inplace=True)\n",
    "\n",
    "merge_rows(maturemiRNA_TF,'Raw_ID1',1).rename(columns={'Raw_ID1':'miRNA',1:'TF'}).to_csv(\n",
    "    edge_data_location + 'miRNA-TF2434.txt', sep='\\t', index=None)\n",
    "merge_rows(premiRNA_TF,'Raw_ID1',1).rename(columns={'Raw_ID1':'miRNA',1:'TF'}).to_csv(\n",
    "    edge_data_location + 'premiRNA-TF2434.txt', sep='\\t', index=None)"
   ]
  },
  {
   "cell_type": "markdown",
   "metadata": {},
   "source": [
    "* #### RNA-gene"
   ]
  },
  {
   "cell_type": "code",
   "execution_count": null,
   "metadata": {},
   "outputs": [],
   "source": [
    "! wget http://www.rnainter.org/raidMedia/download/Download_data_RD.tar.gz -P ../resources/processed_data/unprocessed_data/"
   ]
  },
  {
   "cell_type": "code",
   "execution_count": null,
   "metadata": {},
   "outputs": [],
   "source": [
    "RNA_gene = pd.read_csv(unprocessed_data_location+'Download_data_RD.tar.gz',sep='\\t').rename(columns={'Download_data_RD.txt':'RNAInterID'})\n",
    "RNA_gene['Source(s)'] = 'RNAInter'\n",
    "\n",
    "# We select only strong evidence interactions for hsa\n",
    "RNA_gene = RNA_gene[(RNA_gene['score'] >= 0.2886) &\n",
    "                  (RNA_gene['Species1'].str.contains('apiens')) &\n",
    "                  (RNA_gene['Species2'].str.contains('apiens'))]\n",
    "\n",
    "# We keep only entries starting with NCBI\n",
    "RNA_gene = RNA_gene[(RNA_gene['Raw_ID1'].str.startswith('NCBI')) &\n",
    "                    (RNA_gene['Raw_ID2'].str.startswith('NCBI'))]\n",
    "\n",
    "RNA_gene.Raw_ID1 = RNA_gene.Raw_ID1.str.replace(\"NCBI:\", '')\n",
    "RNA_gene.Raw_ID2 = RNA_gene.Raw_ID2.str.replace(\"NCBI:\", '')\n",
    "\n",
    "RNA_gene['Raw_ID1'] = RNA_gene['Raw_ID1'].str.split(';')\n",
    "RNA_gene = RNA_gene.explode('Raw_ID1')\n",
    "RNA_gene['Raw_ID2'] = RNA_gene['Raw_ID2'].str.split(';')\n",
    "RNA_gene = RNA_gene.explode('Raw_ID2')\n",
    "\n",
    "RNA_gene[\"Raw_ID1\"] = RNA_gene[\"Raw_ID1\"] + '?' + RNA_gene[\"Category1\"]\n",
    "\n",
    "# Edge properties\n",
    "RNA_gene.strong = RNA_gene.strong.str.replace('//','|')\n",
    "RNA_gene.strong = RNA_gene.strong.str.lower()\n",
    "RNA_gene.strong = [replace_with_ncit(item) for item in RNA_gene.strong]\n",
    "\n",
    "RNA_gene.weak = RNA_gene.weak.str.replace('//','|')\n",
    "RNA_gene.weak = RNA_gene.weak.str.lower()\n",
    "RNA_gene.weak = [replace_with_ncit(item) for item in RNA_gene.weak]\n",
    "\n",
    "# RNA_gene.predict contains only nan values, we can remove it\n",
    "RNA_gene.drop(columns=['Interactor1.Symbol','Interactor2.Symbol',\n",
    "                       'RNAInterID','Species1','Species2', 'predict'],inplace=True)\n",
    "RNA_gene.rename(columns={'score':'RNAInter Score','strong':'Strong validation method','weak':'Weak validation method'},inplace=True)\n",
    "RNA_gene"
   ]
  },
  {
   "cell_type": "code",
   "execution_count": null,
   "metadata": {},
   "outputs": [],
   "source": [
    "for i in set(RNA_gene.Category1):\n",
    "    RNA_gene_ = RNA_gene[RNA_gene['Category1']==i]\n",
    "    RNA_gene_ = RNA_gene_[(RNA_gene_['Raw_ID1'].notna())]\n",
    "    RNA_gene_ = RNA_gene_[(RNA_gene_['Raw_ID1'].str[0].str.isdigit())]\n",
    "    RNA_gene_ = RNA_gene_[(RNA_gene_['Raw_ID2'].notna())]\n",
    "    RNA_gene_ = RNA_gene_[(RNA_gene_['Raw_ID2'].str[0].str.isdigit())]\n",
    "        \n",
    "    if not RNA_gene_.empty:   \n",
    "        #print(i)\n",
    "        RNA_gene_.drop(columns=['Category1', 'Category2'], inplace=True)   \n",
    "        merge_rows(RNA_gene_,'Raw_ID1','Raw_ID2').rename(columns={'Raw_ID1':i,'Raw_ID2':'Gene'}).to_csv(\n",
    "            edge_data_location + i + '-gene2434.txt', sep='\\t', index=None)"
   ]
  },
  {
   "cell_type": "markdown",
   "metadata": {},
   "source": [
    "* #### RNA-chemical"
   ]
  },
  {
   "cell_type": "code",
   "execution_count": null,
   "metadata": {},
   "outputs": [],
   "source": [
    "! wget http://www.rnainter.org/raidMedia/download/Download_data_RC.tar.gz -P ../resources/processed_data/unprocessed_data/"
   ]
  },
  {
   "cell_type": "code",
   "execution_count": null,
   "metadata": {},
   "outputs": [],
   "source": [
    "RNA_chemical = pd.read_csv(unprocessed_data_location+'Download_data_RC.tar.gz',sep='\\t').rename(columns={'Download_data_RC.txt':'RNAInterID'})\n",
    "RNA_chemical['Source(s)'] = 'RNAInter'\n",
    "\n",
    "# We select only strong evidence interactions for hsa\n",
    "RNA_chemical = RNA_chemical[(RNA_chemical['score'] >= 0.2886) &\n",
    "                  (RNA_chemical['Species1'].str.contains('apiens'))]\n",
    "\n",
    "# We keep only entries starting with NCBI\n",
    "RNA_chemical = RNA_chemical[(RNA_chemical['Raw_ID1'].str.startswith('NCBI')) |\n",
    "                            (RNA_chemical['Raw_ID1'].str.startswith('miRBase'))]\n",
    "\n",
    "RNA_chemical.Raw_ID1 = RNA_chemical.Raw_ID1.str.replace(\"NCBI:\", '')\n",
    "RNA_chemical.Raw_ID1 = RNA_chemical.Raw_ID1.str.replace(\"miRBase:\", '')\n",
    "\n",
    "RNA_chemical['Raw_ID1'] = RNA_chemical['Raw_ID1'].str.split(';')\n",
    "RNA_chemical = RNA_chemical.explode('Raw_ID1')\n",
    "\n",
    "i = RNA_chemical[~(RNA_chemical['Category1']=='miRNA')].index.values\n",
    "RNA_chemical.loc[i,\"Raw_ID1\"] = RNA_chemical.loc[i,\"Raw_ID1\"] + '?' + RNA_chemical.loc[i,\"Category1\"]\n",
    "\n",
    "RNA_chemical = RNA_chemical[(RNA_chemical['Interactor2.Symbol'].notna())]\n",
    "RNA_chemical['Interactor2.Symbol'] = RNA_chemical['Interactor2.Symbol'].str.lower()\n",
    "RNA_chemical = pd.merge(RNA_chemical, desc_chebi_map.rename(columns={0: 'Interactor2.Symbol'}),\n",
    "                        on='Interactor2.Symbol')\n",
    "\n",
    "# Edge properties\n",
    "RNA_chemical.strong = RNA_chemical.strong.str.replace('//','|')\n",
    "RNA_chemical.strong = RNA_chemical.strong.str.lower()\n",
    "RNA_chemical.strong = [replace_with_ncit(item) for item in RNA_chemical.strong]\n",
    "\n",
    "RNA_chemical.weak = RNA_chemical.weak.str.replace('//','|')\n",
    "RNA_chemical.weak = RNA_chemical.weak.str.lower()\n",
    "RNA_chemical.weak = [replace_with_ncit(item) for item in RNA_chemical.weak]\n",
    "\n",
    "# RNA_gene.predict contains only nan values, we can remove it\n",
    "RNA_chemical.drop(columns=['Interactor1.Symbol','Raw_ID2','Interactor2.Symbol',\n",
    "                           'RNAInterID','Species1','Species2','Category2','predict'],inplace=True)\n",
    "RNA_chemical.rename(columns={'score':'RNAInter Score','strong':'Strong validation method','weak':'Weak validation method'},inplace=True)\n",
    "RNA_chemical.insert(2, 1, RNA_chemical.pop(1))\n",
    "RNA_chemical"
   ]
  },
  {
   "cell_type": "code",
   "execution_count": null,
   "metadata": {},
   "outputs": [],
   "source": [
    "for i in set(RNA_chemical.Category1):\n",
    "    if i != 'miRNA':\n",
    "        RNA_chemical_ = RNA_chemical[RNA_chemical['Category1']==i]\n",
    "        RNA_chemical_ = RNA_chemical_[(RNA_chemical_['Raw_ID1'].notna())]\n",
    "        RNA_chemical_ = RNA_chemical_[(RNA_chemical_['Raw_ID1'].str[0].str.isdigit())]\n",
    "\n",
    "        if not RNA_chemical_.empty:   \n",
    "            #print(i)\n",
    "            RNA_chemical_.drop(columns=['Category1'], inplace=True)   \n",
    "            merge_rows(RNA_chemical_,'Raw_ID1',1).rename(columns={'Raw_ID1':i,1:'Chemical'}).to_csv(\n",
    "                edge_data_location + i + '-chemical2434.txt', sep='\\t', index=None)"
   ]
  },
  {
   "cell_type": "code",
   "execution_count": null,
   "metadata": {},
   "outputs": [],
   "source": [
    "miRNA_chemical = RNA_chemical[RNA_chemical['Category1']=='miRNA']\n",
    "miRNA_chemical = miRNA_chemical[(miRNA_chemical['Raw_ID1'].notna())]\n",
    "\n",
    "maturemiRNA_chemical = miRNA_chemical[(miRNA_chemical['Raw_ID1'].str.startswith('MIMAT'))]\n",
    "premiRNA_chemical = miRNA_chemical[(miRNA_chemical['Raw_ID1'].str.startswith('MI')) &\n",
    "                                   (~miRNA_chemical['Raw_ID1'].str.startswith('MIMAT'))]\n",
    "maturemiRNA_chemical.drop(columns=['Category1'], inplace=True)\n",
    "premiRNA_chemical.drop(columns=['Category1'], inplace=True)      \n",
    "\n",
    "merge_rows(maturemiRNA_chemical,'Raw_ID1',1).rename(columns={'Raw_ID1':'miRNA',1:'Chemical'}).to_csv(\n",
    "    edge_data_location + 'miRNA-chemical2434.txt', sep='\\t', index=None)\n",
    "merge_rows(premiRNA_chemical, 'Raw_ID1',1).rename(columns={'Raw_ID1':'miRNA',1:'Chemical'}).to_csv(\n",
    "    edge_data_location + 'premiRNA-chemical2434.txt', sep='\\t', index=None)"
   ]
  },
  {
   "cell_type": "markdown",
   "metadata": {},
   "source": [
    "* #### RNA-epigenetic modification"
   ]
  },
  {
   "cell_type": "code",
   "execution_count": null,
   "metadata": {},
   "outputs": [],
   "source": [
    "! wget http://www.rnainter.org/raidMedia/download/Download_data_RH.tar.gz -P ../resources/processed_data/unprocessed_data/"
   ]
  },
  {
   "cell_type": "code",
   "execution_count": null,
   "metadata": {},
   "outputs": [],
   "source": [
    "RNA_hisMod = pd.read_csv(unprocessed_data_location+'Download_data_RH.tar.gz',sep='\\t').rename(columns={'Download_data_RH.txt':'RNAInterID'})\n",
    "RNA_hisMod['Source(s)'] = 'RNAInter'\n",
    "\n",
    "# We select only strong evidence interactions for hsa\n",
    "RNA_hisMod = RNA_hisMod[(RNA_hisMod['score'] >= 0.2886) &\n",
    "                  (RNA_hisMod['Species1'].str.contains('apiens'))]\n",
    "\n",
    "# We keep only entries starting with NCBI\n",
    "RNA_hisMod = RNA_hisMod[(RNA_hisMod['Raw_ID1'].str.startswith('NCBI')) |\n",
    "                        (RNA_hisMod['Raw_ID1'].str.startswith('miRBase'))]\n",
    "\n",
    "RNA_hisMod.Raw_ID1 = RNA_hisMod.Raw_ID1.str.replace(\"NCBI:\", '')\n",
    "RNA_hisMod.Raw_ID1 = RNA_hisMod.Raw_ID1.str.replace(\"miRBase:\", '')\n",
    "\n",
    "RNA_hisMod['Raw_ID1'] = RNA_hisMod['Raw_ID1'].str.split(';')\n",
    "RNA_hisMod = RNA_hisMod.explode('Raw_ID1')\n",
    "\n",
    "i = RNA_hisMod[~(RNA_hisMod['Category1']=='miRNA')].index.values\n",
    "RNA_hisMod.loc[i,\"Raw_ID1\"] = RNA_hisMod.loc[i,\"Raw_ID1\"] + '?' + RNA_hisMod.loc[i,\"Category1\"]\n",
    "\n",
    "# Edge properties\n",
    "RNA_hisMod.weak = RNA_hisMod.weak.str.replace('//','|')\n",
    "RNA_hisMod.weak = RNA_hisMod.weak.str.lower()\n",
    "RNA_hisMod.weak = [replace_with_ncit(item) for item in RNA_hisMod.weak]\n",
    "\n",
    "# RNA_gene.predict and RNA_gene.strong contain only nan values, we can remove them\n",
    "RNA_hisMod.drop(columns=['Interactor1.Symbol','Raw_ID2','RNAInterID',\n",
    "                           'Species1','Species2','Category2','predict','strong'],inplace=True)\n",
    "RNA_hisMod.insert(0, 'Raw_ID1', RNA_hisMod.pop('Raw_ID1'))\n",
    "RNA_hisMod.rename(columns={'score':'RNAInter Score','strong':'Strong validation method','weak':'Weak validation method'},inplace=True)\n",
    "RNA_hisMod"
   ]
  },
  {
   "cell_type": "code",
   "execution_count": null,
   "metadata": {},
   "outputs": [],
   "source": [
    "for i in set(RNA_hisMod.Category1):\n",
    "    if i != 'miRNA':\n",
    "        RNA_hisMod_ = RNA_hisMod[RNA_hisMod['Category1']==i]\n",
    "        RNA_hisMod_ = RNA_hisMod_[(RNA_hisMod_['Raw_ID1'].notna())]\n",
    "        RNA_hisMod_ = RNA_hisMod_[(RNA_hisMod_['Raw_ID1'].str[0].str.isdigit())]\n",
    "\n",
    "        if not RNA_hisMod_.empty:   \n",
    "            #print(i)\n",
    "            RNA_hisMod_.drop(columns=['Category1'], inplace=True)   \n",
    "            merge_rows(RNA_hisMod_,'Raw_ID1','Interactor2.Symbol').rename(columns={'Raw_ID1':i,\n",
    "                                                                                   'Interactor2.Symbol':'Histone Modification'}).to_csv(\n",
    "                edge_data_location + i + '-histoneModification2434.txt', sep='\\t', index=None)\n",
    "\n",
    "miRNA_hisMod = RNA_hisMod[RNA_hisMod['Category1']=='miRNA']\n",
    "miRNA_hisMod.drop(columns=['Category1'], inplace=True) \n",
    "miRNA_hisMod = miRNA_hisMod[(miRNA_hisMod['Raw_ID1'].notna())]\n",
    "\n",
    "premiRNA_hisMod = miRNA_hisMod[(miRNA_hisMod['Raw_ID1'].str.startswith('MI')) &\n",
    "                               (~miRNA_hisMod['Raw_ID1'].str.startswith('MIMAT'))]\n",
    "\n",
    "merge_rows(premiRNA_hisMod,'Raw_ID1','Interactor2.Symbol').rename(columns={'Raw_ID1':'miRNA',\n",
    "                                                                           'Interactor2.Symbol':'Histone Modification'}).to_csv(\n",
    "    edge_data_location + 'premiRNA-histoneModification2434.txt', sep='\\t', index=None)"
   ]
  },
  {
   "cell_type": "markdown",
   "metadata": {},
   "source": [
    "***\n",
    "### [RNALocate](http://www.rnalocate.org/)\n",
    "RNALocate aims to provide a resource for efficient manipulation, browsing and analysis of RNA subcellular localization."
   ]
  },
  {
   "cell_type": "code",
   "execution_count": null,
   "metadata": {},
   "outputs": [],
   "source": [
    "! wget http://www.rnalocate.org/download/All%20RNA%20subcellular%20localization%20data.zip -P ../resources/processed_data/unprocessed_data/"
   ]
  },
  {
   "cell_type": "code",
   "execution_count": null,
   "metadata": {},
   "outputs": [],
   "source": [
    "RNA_location = pd.read_csv(unprocessed_data_location+'All RNA subcellular localization data.zip',sep='\\t')\n",
    "RNA_location['Source(s)'] = 'RNALocate'\n",
    "\n",
    "# We select only strong evidence interactions for hsa\n",
    "RNA_location = RNA_location[RNA_location['Species'].str.contains('apiens')]\n",
    "\n",
    "RNA_location.RNA_category = RNA_location.RNA_category.str.replace(\"other\", \"others\")\n",
    "\n",
    "# We keep only entries starting with NCBI\n",
    "RNA_location = RNA_location[(RNA_location['Gene_ID'].str.startswith('NCBI')) |\n",
    "                            (RNA_location['Gene_ID'].str.startswith('miRBase')) ]\n",
    "\n",
    "RNA_location.Gene_ID = RNA_location.Gene_ID.str.replace(\"NCBI:\", '')\n",
    "RNA_location.Gene_ID = RNA_location.Gene_ID.str.replace(\"miRBase:\", '')\n",
    "\n",
    "RNA_location['Gene_ID'] = RNA_location['Gene_ID'].str.split(';')\n",
    "RNA_location = RNA_location.explode('Gene_ID')\n",
    "\n",
    "RNA_location = RNA_location[(RNA_location['SubCellular_Localization'].notna())]\n",
    "RNA_location['SubCellular_Localization'] = RNA_location['SubCellular_Localization'].str.lower()\n",
    "RNA_location = pd.merge(RNA_location, desc_go_map.rename(columns={0: 'SubCellular_Localization'}),\n",
    "                        on='SubCellular_Localization')\n",
    "\n",
    "RNA_location.RNA_category = RNA_location.RNA_category.str.replace('Y RNA', 'Y_RNA')\n",
    "i = RNA_location[(~(RNA_location['RNA_category']=='miRNA'))].index.values\n",
    "RNA_location.loc[i,\"Gene_ID\"] = RNA_location.loc[i,\"Gene_ID\"] + '?' + RNA_location.loc[i,\"RNA_category\"]\n",
    "\n",
    "RNA_location.drop(columns=['RNALocate_ID','Gene_Name','Gene_symbol',\n",
    "                           'Species','SubCellular_Localization'],inplace=True)\n",
    "\n",
    "RNA_location['PMID'] = RNA_location['PMID'].astype(str).str.replace('.0', '', regex=True)\n",
    "RNA_location['PMID'] = 'https://pubmed.ncbi.nlm.nih.gov/' + RNA_location['PMID']\n",
    "RNA_location['PMID'] = RNA_location['PMID'].replace('https://pubmed.ncbi.nlm.nih.gov/nan', np.nan)\n",
    "\n",
    "RNA_location.insert(1, 1, RNA_location.pop(1))\n",
    "RNA_location.rename(columns={'PMID':'References (PMID)'},inplace=True)\n",
    "\n",
    "RNA_location"
   ]
  },
  {
   "cell_type": "code",
   "execution_count": null,
   "metadata": {},
   "outputs": [],
   "source": [
    "miRNA_GO = RNA_location[(RNA_location['RNA_category']=='miRNA')]\n",
    "miRNA_GO = miRNA_GO[(miRNA_GO['Gene_ID'].notna())]\n",
    "miRNA_GO.drop(columns=['RNA_category'], inplace=True) \n",
    "\n",
    "maturemiRNA_GO = miRNA_GO[(miRNA_GO['Gene_ID'].str.startswith('MIMAT'))]\n",
    "premiRNA_GO = miRNA_GO[(miRNA_GO['Gene_ID'].str.startswith('MI')) &\n",
    "                       (~miRNA_GO['Gene_ID'].str.startswith('MIMAT'))]\n",
    "\n",
    "merge_rows(premiRNA_GO,'Gene_ID',1).rename(columns={'Gene_ID':'miRNA',1:'SubCellular localization'}).to_csv(\n",
    "    edge_data_location + 'premiRNA-subCellularLocalization1025.txt', sep='\\t', index=None)\n",
    "merge_rows(maturemiRNA_GO,'Gene_ID',1).rename(columns={'Gene_ID':'miRNA',1:'SubCellular localization'}).to_csv(\n",
    "    edge_data_location + 'miRNA-subCellularLocalization1025.txt', sep='\\t', index=None)"
   ]
  },
  {
   "cell_type": "code",
   "execution_count": null,
   "metadata": {},
   "outputs": [],
   "source": [
    "for i in set(RNA_location.RNA_category):\n",
    "    if i != 'miRNA':\n",
    "        RNA_location_ = RNA_location[RNA_location['RNA_category']==i]\n",
    "        RNA_location_ = RNA_location_[(RNA_location_['Gene_ID'].notna())]\n",
    "        RNA_location_ = RNA_location_[(RNA_location_['Gene_ID'].str[0].str.isdigit())]\n",
    "        \n",
    "        if not RNA_location_.empty:   \n",
    "            #print(i)\n",
    "            RNA_location_.drop(columns=['RNA_category'], inplace=True) \n",
    "            merge_rows(RNA_location_,'Gene_ID',1).rename(columns={'Gene_ID':i,1:'SubCellular localization'}).to_csv(\n",
    "                edge_data_location + i + '-subCellularLocalization1025.txt', sep='\\t', index=None)"
   ]
  },
  {
   "cell_type": "markdown",
   "metadata": {},
   "source": [
    "***\n",
    "### [RNADisease](http://www.rnadisease.org/)\n",
    "RNADisease includes literature-verified RNA-disease interaction entries and uses a variety of algorithms to obtain a large amount of prediction RNA-disease data."
   ]
  },
  {
   "cell_type": "code",
   "execution_count": null,
   "metadata": {},
   "outputs": [],
   "source": [
    "! wget http://www.rnadisease.org/static/download/RNADiseasev4.0_RNA-disease_experiment_all.zip -P ../resources/processed_data/unprocessed_data/"
   ]
  },
  {
   "cell_type": "code",
   "execution_count": null,
   "metadata": {},
   "outputs": [],
   "source": [
    "import zipfile\n",
    "with zipfile.ZipFile(unprocessed_data_location+'RNADiseasev4.0_RNA-disease_experiment_all.zip', 'r') as zip_ref:\n",
    "    zip_ref.extractall(unprocessed_data_location)"
   ]
  },
  {
   "cell_type": "code",
   "execution_count": null,
   "metadata": {},
   "outputs": [],
   "source": [
    "RNA_disease = pd.read_excel(unprocessed_data_location+'RNADiseasev4.0_RNA-disease_experiment_all.xlsx')\n",
    "RNA_disease['Source(s)'] = 'RNADisease'\n",
    "\n",
    "# We select only strong evidence interactions for hsa\n",
    "RNA_disease = RNA_disease[RNA_disease['specise'].str.contains('apiens')]\n",
    "\n",
    "# We keep only entries score is > 0.95 (see http://www.rnadisease.org/help Q10)\n",
    "RNA_disease = RNA_disease[RNA_disease['score']>=0.95]\n",
    "\n",
    "RNA_disease = RNA_disease[(RNA_disease['DO ID'].notna())]\n",
    "RNA_disease['DO ID'] = RNA_disease['DO ID'].str.replace(':','_')\n",
    "RNA_disease = pd.merge(RNA_disease, doid_mondo_map.rename(columns={0:'DO ID'}), on=['DO ID'])\n",
    "\n",
    "RNA_disease[1] = RNA_disease[1].str.split(',')\n",
    "RNA_disease = RNA_disease.explode(1)\n",
    "\n",
    "RNA_disease.drop(columns=['RDID','specise','Disease Name',\n",
    "                           'MeSH ID','KEGG disease ID','DO ID'],inplace=True)\n",
    "RNA_disease.insert(1, 1, RNA_disease.pop(1))\n",
    "RNA_disease['PMID'] = RNA_disease['PMID'].astype(str).str.replace('.0', '', regex=True)\n",
    "RNA_disease['PMID'] = 'https://pubmed.ncbi.nlm.nih.gov/' + RNA_disease['PMID']\n",
    "RNA_disease['PMID'] = RNA_disease['PMID'].replace('https://pubmed.ncbi.nlm.nih.gov/nan', np.nan)\n",
    "RNA_disease.rename(columns={'PMID':'References (PMID)', 'score':'RNADisease score'},inplace=True)\n",
    "RNA_disease"
   ]
  },
  {
   "cell_type": "code",
   "execution_count": null,
   "metadata": {},
   "outputs": [],
   "source": [
    "miRNA_disease = RNA_disease[(RNA_disease['RNA Type']=='miRNA')]\n",
    "miRNA_disease = miRNA_disease[(miRNA_disease['RNA Symbol'].notna())]\n",
    "\n",
    "miRNA_disease = pd.merge(miRNA_disease, mirna_mirbase_map.rename(columns={0: 'RNA Symbol'}),\n",
    "                         on='RNA Symbol')\n",
    "miRNA_disease.insert(0, '1_y', miRNA_disease.pop('1_y'))\n",
    "miRNA_disease.drop(columns=['RNA Symbol','RNA Type'],inplace=True)\n",
    "\n",
    "maturemiRNA_disease = miRNA_disease[(miRNA_disease['1_y'].str.startswith('MIMAT'))]\n",
    "premiRNA_disease = miRNA_disease[(miRNA_disease['1_y'].str.startswith('MI')) &\n",
    "                                 (~miRNA_disease['1_y'].str.startswith('MIMAT'))]\n",
    "\n",
    "merge_rows(maturemiRNA_disease,'1_y','1_x').rename(columns={'1_y':'miRNA','1_x':'Disease'}).to_csv(\n",
    "    edge_data_location + 'miRNA-disease3302.txt', sep='\\t', index=None)\n",
    "merge_rows(premiRNA_disease,'1_y','1_x').rename(columns={'1_y':'miRNA','1_x':'Disease'}).to_csv(\n",
    "    edge_data_location + 'premiRNA-disease3302.txt', sep='\\t', index=None)"
   ]
  },
  {
   "cell_type": "code",
   "execution_count": null,
   "metadata": {},
   "outputs": [],
   "source": [
    "RNA_disease = pd.merge(RNA_disease, symbol_entrez_map.rename(columns={0: 'RNA Symbol'}),\n",
    "                       on='RNA Symbol')\n",
    "\n",
    "i = RNA_disease.index.values\n",
    "RNA_disease.loc[i,'1_y'] = RNA_disease.loc[i,'1_y'].astype(str) + '?' + RNA_disease.loc[i,'RNA Type']\n",
    "RNA_disease.insert(0, '1_y', RNA_disease.pop('1_y'))\n",
    "RNA_disease.drop(columns=['RNA Symbol'],inplace=True)\n",
    "RNA_disease"
   ]
  },
  {
   "cell_type": "code",
   "execution_count": null,
   "metadata": {},
   "outputs": [],
   "source": [
    "for i in set(RNA_disease['RNA Type']):\n",
    "    RNA_disease_ = RNA_disease[RNA_disease['RNA Type']==i]\n",
    "\n",
    "    if not RNA_disease_.empty:   \n",
    "        #print(i)\n",
    "        RNA_disease_.drop(columns=['RNA Type'],inplace=True)\n",
    "        merge_rows(RNA_disease_,'1_y','1_x').rename(columns={'1_y':i,'1_x':'Disease'}).to_csv(\n",
    "            edge_data_location + i + '-disease3302.txt', sep='\\t', index=None)"
   ]
  },
  {
   "cell_type": "markdown",
   "metadata": {},
   "source": [
    "***\n",
    "### [ncRDeathDB](https://www.rna-society.org/ncrdeathdb/)\n",
    "ncRDeathDB includes ncRNA types associated with apoptosis, autophagy, and necrosis."
   ]
  },
  {
   "cell_type": "code",
   "execution_count": null,
   "metadata": {},
   "outputs": [],
   "source": [
    "! wget https://www.rna-society.org/ncrdeathdb/data/allNcRNACelldeathData.xlsx -P ../resources/processed_data/unprocessed_data/"
   ]
  },
  {
   "cell_type": "code",
   "execution_count": null,
   "metadata": {},
   "outputs": [],
   "source": [
    "RNA_pDeath = pd.read_excel(unprocessed_data_location + 'allNcRNACelldeathData.xlsx', dtype={\"geneid\": \"string\"})\n",
    "RNA_pDeath['Source(s)'] = 'ncRDeathDB'\n",
    "\n",
    "RNA_pDeath = RNA_pDeath[RNA_pDeath.Organism.str.contains('apiens')]\n",
    "RNA_pDeath.drop(columns=['id','miRNA_symbol','miRBase_mature_ID','Gene_Symbol','Organism','tax_id','Synonyms',\n",
    "                          'Links','chromosome','map_location','type_of_gene','Full_name_from_nomenclature_authority',\n",
    "                          'Other_designations'],inplace=True)\n",
    "RNA_pDeath = RNA_pDeath[(RNA_pDeath['geneid']!='<NA>') | (RNA_pDeath['miRBase_ID'].notna())]\n",
    "RNA_pDeath['miRBase_ID'] = RNA_pDeath.miRBase_ID.str.split(',')\n",
    "RNA_pDeath = RNA_pDeath.explode('miRBase_ID')\n",
    "\n",
    "# Edge properties\n",
    "print(RNA_pDeath.Action_Mode.unique())\n",
    "RNA_pDeath.Action_Mode = RNA_pDeath.Action_Mode.str.replace('updown', 'http://purl.obolibrary.org/obo/OMIT_0016489|http://purl.obolibrary.org/obo/OMIT_0016265')\n",
    "RNA_pDeath.Action_Mode = RNA_pDeath.Action_Mode.str.replace('down', 'http://purl.obolibrary.org/obo/OMIT_0016265')\n",
    "RNA_pDeath.Action_Mode = RNA_pDeath.Action_Mode.str.replace('dowm', 'http://purl.obolibrary.org/obo/OMIT_0016265')\n",
    "RNA_pDeath.Action_Mode = RNA_pDeath.Action_Mode.str.replace('up ed', 'http://purl.obolibrary.org/obo/OMIT_0016489')\n",
    "RNA_pDeath.Action_Mode = RNA_pDeath.Action_Mode.str.replace('up', 'http://purl.obolibrary.org/obo/OMIT_0016489')\n",
    "print(RNA_pDeath.Tissue.unique())\n",
    "RNA_pDeath.Tissue = [replace_with_clo(item) for item in RNA_pDeath.Tissue]\n",
    "RNA_pDeath.Tissue = [replace_with_clo2(item) for item in RNA_pDeath.Tissue]\n",
    "\n",
    "RNA_pDeath"
   ]
  },
  {
   "cell_type": "code",
   "execution_count": null,
   "metadata": {},
   "outputs": [],
   "source": [
    "# Grounding\n",
    "RNA_pDeath['gobp'] = RNA_pDeath['Pathway'].replace({'necrosis': 'GO_0097300', 'autophagy': 'GO_0006914',\n",
    "                                                    'apoptosis': 'GO_0006915'})\n",
    "RNA_pDeath['PMID'] = 'https://pubmed.ncbi.nlm.nih.gov/' + RNA_pDeath['PMID'].astype(str)\n",
    "RNA_pDeath['PMID'] = RNA_pDeath['PMID'].replace('https://pubmed.ncbi.nlm.nih.gov/<NA>', np.nan)\n",
    "RNA_pDeath['PMID'] = RNA_pDeath['PMID'].str.replace('https://pubmed.ncbi.nlm.nih.gov/prediction', \"Prediction\")\n",
    "RNA_pDeath.drop(columns=['Pathway'],inplace=True)\n",
    "RNA_pDeath.rename(columns={'Action_Mode':'Action mode','PMID':'References (PMID)','Description.1':'Description2'},inplace=True)\n",
    "RNA_pDeath.insert(1, 'gobp', RNA_pDeath.pop('gobp'))\n",
    "RNA_pDeath"
   ]
  },
  {
   "cell_type": "code",
   "execution_count": null,
   "metadata": {},
   "outputs": [],
   "source": [
    "miRNA_pDeath = RNA_pDeath[(RNA_pDeath['RNA Category']=='miRNA') | (RNA_pDeath['RNA Category']=='miRNA ')]\n",
    "miRNA_pDeath = miRNA_pDeath[(miRNA_pDeath['miRBase_ID'].notna())]\n",
    "\n",
    "maturemiRNA_pDeath = miRNA_pDeath[(miRNA_pDeath['miRBase_ID'].str.startswith('MIMAT'))]\n",
    "maturemiRNA_pDeath.drop(columns=['RNA Category'],inplace=True)\n",
    "maturemiRNA_pDeath['geneid'] = \"https://www.ncbi.nlm.nih.gov/gene/\" + maturemiRNA_pDeath['geneid'].astype(str)\n",
    "maturemiRNA_pDeath['geneid'] = maturemiRNA_pDeath['geneid'].replace('https://www.ncbi.nlm.nih.gov/gene/<NA>', np.nan)\n",
    "\n",
    "merge_rows(maturemiRNA_pDeath,'miRBase_ID','gobp').rename(columns={'geneid':'Gene', 'miRBase_ID':'miRNA','gobp':'Programmed death pathway'}).to_csv(\n",
    "    edge_data_location + 'miRNA-pDeath56.txt', sep='\\t', index=None)"
   ]
  },
  {
   "cell_type": "code",
   "execution_count": null,
   "metadata": {},
   "outputs": [],
   "source": [
    "RNA_pDeath['geneid'] = RNA_pDeath['geneid'].astype(str) + '?' + RNA_pDeath['RNA Category']\n",
    "\n",
    "for i in set(RNA_pDeath['RNA Category']):\n",
    "    if (i != 'miRNA') and (i != 'miRNA '):\n",
    "        RNA_pDeath_ = RNA_pDeath[RNA_pDeath['RNA Category']==i]\n",
    "        RNA_pDeath_ = RNA_pDeath_[(RNA_pDeath_['geneid']!='<NA>')]\n",
    "        RNA_pDeath_ = RNA_pDeath_[(RNA_pDeath_['geneid'].str[0].str.isdigit())]\n",
    "        \n",
    "        if not RNA_pDeath_.empty:   \n",
    "            #print(i)\n",
    "            RNA_pDeath_.drop(columns=['RNA Category'],inplace=True)\n",
    "            RNA_pDeath_.insert(0, 'geneid', RNA_pDeath_.pop('geneid'))\n",
    "            RNA_pDeath_.insert(3, 'miRBase_ID', RNA_pDeath_.pop('miRBase_ID'))\n",
    "            RNA_pDeath_['miRBase_ID'] = \"https://www.mirbase.org/mature/\" + RNA_pDeath_['miRBase_ID'].astype(str)\n",
    "            RNA_pDeath_['miRBase_ID'] = RNA_pDeath_['miRBase_ID'].replace('https://www.mirbase.org/mature/nan', np.nan)\n",
    "            merge_rows(RNA_pDeath_,'geneid','gobp').rename(columns={'geneid':i,'miRBase_ID':'miRNA',\n",
    "                                                                    'gobp':'Programmed death pathway'}).to_csv(\n",
    "                edge_data_location + i + '-pDeath56.txt', sep='\\t', index=None)"
   ]
  },
  {
   "cell_type": "markdown",
   "metadata": {},
   "source": [
    "***\n",
    "### [cncRNADB](https://www.rna-society.org/cncrnadb/)\n",
    "cncRNAdb is a manually curated database of experimentally supported cncRNAs, which aims to provide a resource for efficient manipulation, browsing and analysis of cncRNAs."
   ]
  },
  {
   "cell_type": "markdown",
   "metadata": {},
   "source": [
    "#### Anatomy"
   ]
  },
  {
   "cell_type": "code",
   "execution_count": null,
   "metadata": {},
   "outputs": [],
   "source": [
    "! wget https://www.rna-society.org/cncrnadb/download/Translated%20ncRNA.zip -P ../resources/processed_data/unprocessed_data/\n",
    "! wget https://www.rna-society.org/cncrnadb/download/Untranslated%20mRNA.zip -P ../resources/processed_data/unprocessed_data/"
   ]
  },
  {
   "cell_type": "code",
   "execution_count": null,
   "metadata": {},
   "outputs": [],
   "source": [
    "with zipfile.ZipFile(unprocessed_data_location+'Translated ncRNA.zip', 'r') as zip_ref:\n",
    "    zip_ref.extractall(unprocessed_data_location)\n",
    "\n",
    "with zipfile.ZipFile(unprocessed_data_location+'Untranslated mRNA.zip', 'r') as zip_ref:\n",
    "    zip_ref.extractall(unprocessed_data_location)"
   ]
  },
  {
   "cell_type": "code",
   "execution_count": null,
   "metadata": {
    "scrolled": true
   },
   "outputs": [],
   "source": [
    "#Translated ncRNA: \n",
    "RNA_anatomy = pd.read_excel(unprocessed_data_location + 'Translated ncRNA.xlsx')\n",
    "RNA_anatomy['Source(s)'] = 'cncRNADB'\n",
    "\n",
    "RNA_anatomy = RNA_anatomy[RNA_anatomy.Organism.str.contains('apiens')]\n",
    "RNA_anatomy = RNA_anatomy[RNA_anatomy['Gene.ID'].notna()]\n",
    "RNA_anatomy['Tissue/Cell'] = RNA_anatomy['Tissue/Cell'].str.split(';')\n",
    "RNA_anatomy = RNA_anatomy.explode('Tissue/Cell')\n",
    "RNA_anatomy['Tissue/Cell'] = RNA_anatomy['Tissue/Cell'].str.lower()\n",
    "RNA_anatomy = pd.merge(RNA_anatomy, desc_uberon_map.rename(columns={0: 'Tissue/Cell'}),\n",
    "                       on='Tissue/Cell')\n",
    "\n",
    "# Edge properties\n",
    "print(RNA_anatomy['Tissue/Cell'].unique()[:5])\n",
    "RNA_anatomy['Tissue/Cell'] = RNA_anatomy['Tissue/Cell'].str.replace(';','|')\n",
    "RNA_anatomy['Tissue/Cell'] = RNA_anatomy['Tissue/Cell'].str.lower()\n",
    "RNA_anatomy['Tissue/Cell'] = [replace_with_clo(item) for item in RNA_anatomy['Tissue/Cell']]\n",
    "RNA_anatomy['Tissue/Cell'] = [replace_with_clo2(item) for item in RNA_anatomy['Tissue/Cell']]\n",
    "RNA_anatomy['In vivo/vitro assay'] = RNA_anatomy['In vivo/vitro assay'].str.lower()\n",
    "RNA_anatomy['In vivo/vitro assay'] = [replace_with_ncit(item) for item in RNA_anatomy['In vivo/vitro assay']]\n",
    "print(RNA_anatomy['Low-throughput method'].unique()[:5])\n",
    "RNA_anatomy['Low-throughput method'] = RNA_anatomy['Low-throughput method'].str.replace(';','|')\n",
    "RNA_anatomy['Low-throughput method'] = RNA_anatomy['Low-throughput method'].str.lower()\n",
    "RNA_anatomy['Low-throughput method'] = [replace_with_ncit(item) for item in RNA_anatomy['Low-throughput method']]\n",
    "print(RNA_anatomy['High-throuput method'].unique()[:5])\n",
    "RNA_anatomy['High-throuput method'] = RNA_anatomy['High-throuput method'].str.replace(';','|')\n",
    "RNA_anatomy['High-throuput method'] = RNA_anatomy['High-throuput method'].str.lower()\n",
    "RNA_anatomy['High-throuput method'] = [replace_with_ncit(item) for item in RNA_anatomy['High-throuput method']]\n",
    "\n",
    "RNA_anatomy.drop(columns=['cncRNAdb.ID','Name','Chromosome','Start','End','Strand','Peptide_length',\n",
    "                          'Organism','Peptide','Human.gene.stable.ID','Chimpanzee.gene.stable.ID',\n",
    "                          'Mouse.gene.stable.ID','Drosophila.melanogaster.gene.stable.ID',\n",
    "                          'Zebrafish.gene.stable.ID','Tissue/Cell'],inplace=True)\n",
    "RNA_anatomy.rename(columns={'High-throuput method':'High-throughput method'},inplace=True)\n",
    "RNA_anatomy['Pubmed.ID'] = 'https://pubmed.ncbi.nlm.nih.gov/' + RNA_anatomy['Pubmed.ID'].astype(str)\n",
    "RNA_anatomy['Pubmed.ID'] = RNA_anatomy['Pubmed.ID'].replace('https://pubmed.ncbi.nlm.nih.gov/nan', np.nan)\n",
    "RNA_anatomy.rename(columns={'Pubmed.ID':'References (PMID)'},inplace=True)\n",
    "RNA_anatomy"
   ]
  },
  {
   "cell_type": "code",
   "execution_count": null,
   "metadata": {},
   "outputs": [],
   "source": [
    "set(RNA_anatomy['Type'])"
   ]
  },
  {
   "cell_type": "code",
   "execution_count": null,
   "metadata": {},
   "outputs": [],
   "source": [
    "RNA_anatomy['Gene.ID'] = RNA_anatomy['Gene.ID'].astype(str) + '?' + RNA_anatomy['Type']\n",
    "\n",
    "for i in set(RNA_anatomy['Type']):\n",
    "    RNA_anatomy_ = RNA_anatomy[RNA_anatomy['Type']==i]\n",
    "    RNA_anatomy_ = RNA_anatomy_[(RNA_anatomy_['Gene.ID'].str[0].str.isdigit())]\n",
    "    if not RNA_anatomy_.empty: \n",
    "        print(i)\n",
    "        RNA_anatomy_.insert(1, 'Gene.ID', RNA_anatomy_.pop('Gene.ID'))\n",
    "        RNA_anatomy_.drop(columns=['Type'],inplace=True)\n",
    "        merge_rows(RNA_anatomy_,'Gene.ID',1).rename(columns={'Gene.ID':i,1:'Anatomy'}).to_csv(\n",
    "            edge_data_location + i + '-anatomy1025.txt', sep='\\t', index=None)"
   ]
  },
  {
   "cell_type": "code",
   "execution_count": null,
   "metadata": {},
   "outputs": [],
   "source": [
    "#Untranslated mRNA\n",
    "RNA_anatomy = pd.concat([pd.read_excel(unprocessed_data_location + 'Regulatory mRNA.xlsx'),\n",
    "    pd.read_excel(unprocessed_data_location + 'Scaffold mRNA.xlsx'),\n",
    "    pd.read_excel(unprocessed_data_location + 'Sponge mRNA.xlsx')])\n",
    "RNA_anatomy['Source(s)'] = 'cncRNADB'\n",
    "\n",
    "RNA_anatomy = RNA_anatomy[RNA_anatomy.Organism.str.contains('apiens')]\n",
    "RNA_anatomy = RNA_anatomy[RNA_anatomy['Entrez.ID'].notna()]\n",
    "RNA_anatomy['Tissue/Cell'] = RNA_anatomy['Tissue/Cell'].str.split(';')\n",
    "RNA_anatomy = RNA_anatomy.explode('Tissue/Cell')\n",
    "RNA_anatomy['Tissue/Cell'] = RNA_anatomy['Tissue/Cell'].str.lower()\n",
    "RNA_anatomy = pd.merge(RNA_anatomy, desc_uberon_map.rename(columns={0: 'Tissue/Cell'}),\n",
    "                       on='Tissue/Cell')\n",
    "\n",
    "# Edge properties\n",
    "RNA_anatomy['Tissue/Cell'] = RNA_anatomy['Tissue/Cell'].str.replace(';','|')\n",
    "RNA_anatomy['Tissue/Cell'] = RNA_anatomy['Tissue/Cell'].str.lower()\n",
    "RNA_anatomy['Tissue/Cell'] = [replace_with_clo(item) for item in RNA_anatomy['Tissue/Cell']]\n",
    "RNA_anatomy['Tissue/Cell'] = [replace_with_clo2(item) for item in RNA_anatomy['Tissue/Cell']]\n",
    "RNA_anatomy['In vivo/vitro assay'] = RNA_anatomy['In vivo/vitro assay'].str.lower()\n",
    "RNA_anatomy['In vivo/vitro assay'] = [replace_with_ncit(item) for item in RNA_anatomy['In vivo/vitro assay']]\n",
    "RNA_anatomy['Low-throughput method'] = RNA_anatomy['Low-throughput method'].str.replace(';','|')\n",
    "RNA_anatomy['Low-throughput method'] = RNA_anatomy['Low-throughput method'].str.lower()\n",
    "RNA_anatomy['Low-throughput method'] = [replace_with_ncit(item) for item in RNA_anatomy['Low-throughput method']]\n",
    "RNA_anatomy['High-throuput method'] = RNA_anatomy['High-throuput method'].str.replace(';','|')\n",
    "RNA_anatomy['High-throuput method'] = RNA_anatomy['High-throuput method'].str.lower()\n",
    "RNA_anatomy['High-throuput method'] = [replace_with_ncit(item) for item in RNA_anatomy['High-throuput method']]\n",
    "\n",
    "RNA_anatomy.drop(columns=['cncRNAdb.ID','Type','Name','Ensembl.ID','Chromosome','Start','End','Strand','Function',\n",
    "                          'Organism','Human.gene.stable.ID','Chimpanzee.gene.stable.ID',\n",
    "                          'Mouse.gene.stable.ID','Drosophila.melanogaster.gene.stable.ID',\n",
    "                          'Zebrafish.gene.stable.ID','Tissue/Cell'],inplace=True)\n",
    "RNA_anatomy['Entrez.ID'] = RNA_anatomy['Entrez.ID'].astype('Int64').astype(str) + '?mRNA'\n",
    "RNA_anatomy.rename(columns={'High-throuput method':'High-throughput method'},inplace=True)\n",
    "RNA_anatomy['Pubmed.ID'] = 'https://pubmed.ncbi.nlm.nih.gov/' + RNA_anatomy['Pubmed.ID'].astype(str)\n",
    "RNA_anatomy['Pubmed.ID'] = RNA_anatomy['Pubmed.ID'].replace('https://pubmed.ncbi.nlm.nih.gov/nan', np.nan)\n",
    "RNA_anatomy.rename(columns={'Pubmed.ID':'References (PMID)'},inplace=True)\n",
    "RNA_anatomy.head()"
   ]
  },
  {
   "cell_type": "code",
   "execution_count": null,
   "metadata": {},
   "outputs": [],
   "source": [
    "RNA_anatomy.insert(1, 1, RNA_anatomy.pop(1))\n",
    "merge_rows(RNA_anatomy,'Entrez.ID',1).rename(columns={'Entrez.ID':'mRNA',1:'Anatomy'}).to_csv(\n",
    "    edge_data_location + 'mRNA-anatomy1025.txt', sep='\\t', index=None)"
   ]
  },
  {
   "cell_type": "markdown",
   "metadata": {},
   "source": [
    "#### Cell"
   ]
  },
  {
   "cell_type": "code",
   "execution_count": null,
   "metadata": {},
   "outputs": [],
   "source": [
    "#Translated ncRNA: \n",
    "RNA_anatomy = pd.read_excel(unprocessed_data_location + 'Translated ncRNA.xlsx')\n",
    "RNA_anatomy['Source(s)'] = 'cncRNADB'\n",
    "\n",
    "RNA_anatomy = RNA_anatomy[RNA_anatomy.Organism.str.contains('apiens')]\n",
    "RNA_anatomy = RNA_anatomy[RNA_anatomy['Gene.ID'].notna()]\n",
    "RNA_anatomy['Tissue/Cell'] = RNA_anatomy['Tissue/Cell'].str.split(';')\n",
    "RNA_anatomy = RNA_anatomy.explode('Tissue/Cell')\n",
    "RNA_anatomy['Tissue/Cell'] = RNA_anatomy['Tissue/Cell'].str.lower()\n",
    "RNA_anatomy = pd.merge(RNA_anatomy, desc_clo_map.rename(columns={0: 'Tissue/Cell'}),\n",
    "                       on='Tissue/Cell')\n",
    "RNA_anatomy.drop(columns=['cncRNAdb.ID','Name','Chromosome','Start','End','Strand','Peptide_length',\n",
    "                          'Organism','Peptide','Human.gene.stable.ID','Chimpanzee.gene.stable.ID',\n",
    "                          'Mouse.gene.stable.ID','Drosophila.melanogaster.gene.stable.ID',\n",
    "                          'Zebrafish.gene.stable.ID','Tissue/Cell'],inplace=True)\n",
    "\n",
    "set(RNA_anatomy['Type'])\n",
    "\n",
    "RNA_anatomy['Gene.ID'] = RNA_anatomy['Gene.ID'].astype(str) + '?' + RNA_anatomy['Type']\n",
    "RNA_anatomy.rename(columns={'High-throuput method':'High-throughput method'},inplace=True)\n",
    "RNA_anatomy['Pubmed.ID'] = 'https://pubmed.ncbi.nlm.nih.gov/' + RNA_anatomy['Pubmed.ID'].astype(str)\n",
    "RNA_anatomy['Pubmed.ID'] = RNA_anatomy['Pubmed.ID'].replace('https://pubmed.ncbi.nlm.nih.gov/nan', np.nan)\n",
    "RNA_anatomy.rename(columns={'Pubmed.ID':'References (PMID)'},inplace=True)\n",
    "\n",
    "for i in set(RNA_anatomy['Type']):\n",
    "    RNA_anatomy_ = RNA_anatomy[RNA_anatomy['Type']==i]\n",
    "    RNA_anatomy_ = RNA_anatomy_[(RNA_anatomy_['Gene.ID'].str[0].str.isdigit())]\n",
    "    if not RNA_anatomy_.empty: \n",
    "        #print(i)\n",
    "        RNA_anatomy_.insert(1, 'Gene.ID', RNA_anatomy_.pop('Gene.ID'))\n",
    "        RNA_anatomy_.drop(columns=['Type'],inplace=True)\n",
    "        merge_rows(RNA_anatomy_,'Gene.ID',1).rename(columns={'Gene.ID':i,1:'Anatomy'}).to_csv(\n",
    "            edge_data_location + i + '-cell1025.txt', sep='\\t', index=None)\n",
    "\n",
    "#Untranslated mRNA: \n",
    "RNA_anatomy = pd.concat([pd.read_excel(unprocessed_data_location + 'Regulatory mRNA.xlsx'),\n",
    "    pd.read_excel(unprocessed_data_location + 'Scaffold mRNA.xlsx'),\n",
    "    pd.read_excel(unprocessed_data_location + 'Sponge mRNA.xlsx')])\n",
    "RNA_anatomy['Source(s)'] = 'cncRNADB'\n",
    "\n",
    "RNA_anatomy = RNA_anatomy[RNA_anatomy.Organism.str.contains('apiens')]\n",
    "RNA_anatomy = RNA_anatomy[RNA_anatomy['Entrez.ID'].notna()]\n",
    "RNA_anatomy['Tissue/Cell'] = RNA_anatomy['Tissue/Cell'].str.split(';')\n",
    "RNA_anatomy = RNA_anatomy.explode('Tissue/Cell')\n",
    "RNA_anatomy['Tissue/Cell'] = RNA_anatomy['Tissue/Cell'].str.lower()\n",
    "RNA_anatomy = pd.merge(RNA_anatomy, desc_clo_map.rename(columns={0: 'Tissue/Cell'}),\n",
    "                       on='Tissue/Cell')\n",
    "RNA_anatomy.drop(columns=['cncRNAdb.ID','Type','Name','Ensembl.ID','Chromosome','Start','End','Strand','Function',\n",
    "                          'Organism','Human.gene.stable.ID','Chimpanzee.gene.stable.ID',\n",
    "                          'Mouse.gene.stable.ID','Drosophila.melanogaster.gene.stable.ID',\n",
    "                          'Zebrafish.gene.stable.ID','Tissue/Cell'],inplace=True)\n",
    "RNA_anatomy['Entrez.ID'] = RNA_anatomy['Entrez.ID'].astype('Int64').astype(str) + '?mRNA'\n",
    "RNA_anatomy.rename(columns={'High-throuput method':'High-throughput method'},inplace=True)\n",
    "RNA_anatomy['Pubmed.ID'] = 'https://pubmed.ncbi.nlm.nih.gov/' + RNA_anatomy['Pubmed.ID'].astype(str)\n",
    "RNA_anatomy['Pubmed.ID'] = RNA_anatomy['Pubmed.ID'].replace('https://pubmed.ncbi.nlm.nih.gov/nan', np.nan)\n",
    "RNA_anatomy.rename(columns={'Pubmed.ID':'References (PMID)'},inplace=True)\n",
    "print(RNA_anatomy.head())\n",
    "\n",
    "RNA_anatomy.insert(1, 1, RNA_anatomy.pop(1))\n",
    "merge_rows(RNA_anatomy,'Entrez.ID',1).rename(columns={'Entrez.ID':'mRNA',1:'Cell'}).to_csv(\n",
    "    edge_data_location + 'mRNA-cell1025.txt', sep='\\t', index=None)"
   ]
  },
  {
   "cell_type": "markdown",
   "metadata": {},
   "source": [
    "***\n",
    "### [ViRBase](https://www.rna-society.org/ViRBase/)\n",
    "ViRBase aims to construct complex interactions between the viral and cellular ncRNAs with their viral and cellular targets, and provide the detail RNA annotation. It will be contributed to understand viral infection and develop new antiviral therapies."
   ]
  },
  {
   "cell_type": "code",
   "execution_count": null,
   "metadata": {},
   "outputs": [],
   "source": [
    "! wget http://www.rna-society.org/virbase/download/all_ncRNA_associated_interactions.zip -P ../resources/processed_data/unprocessed_data/"
   ]
  },
  {
   "cell_type": "code",
   "execution_count": null,
   "metadata": {},
   "outputs": [],
   "source": [
    "with zipfile.ZipFile(unprocessed_data_location+'all_ncRNA_associated_interactions.zip', 'r') as zip_ref:\n",
    "    zip_ref.extractall(unprocessed_data_location)"
   ]
  },
  {
   "cell_type": "code",
   "execution_count": null,
   "metadata": {},
   "outputs": [],
   "source": [
    "ViRBase = pd.read_csv(unprocessed_data_location+'all_ncRNA_associated_interactions.txt',sep='\\t')\n",
    "ViRBase['Source(s)'] = 'ViRBase'\n",
    "\n",
    "# We select only strong evidence interactions for hsa\n",
    "ViRBase = ViRBase[ViRBase['Host Species'].str.contains('apiens')]\n",
    "\n",
    "# We keep only entries score is > 0.7 (see http://www.rna-society.org/virbase/help.html Q8)\n",
    "ViRBase = ViRBase[ViRBase['Score']>=0.7]\n",
    "\n",
    "ViRBase.drop(columns=['ViRBase ID','Taxonomy ID','Virus Name','Virus Strain Name','Virus Family',\n",
    "                      'Host Species','Interactor1 Symbol','Interactor2 Symbol'],inplace=True)\n",
    "\n",
    "ViRBase['PMID'] = 'https://pubmed.ncbi.nlm.nih.gov/' + ViRBase['PMID'].astype(str)\n",
    "ViRBase['PMID'] = ViRBase['PMID'].replace('https://pubmed.ncbi.nlm.nih.gov/nan', np.nan)\n",
    "ViRBase.rename(columns={'PMID':'References (PMID)','Score':'ViRBase score'},inplace=True)\n",
    "ViRBase"
   ]
  },
  {
   "cell_type": "code",
   "execution_count": null,
   "metadata": {},
   "outputs": [],
   "source": [
    "host_virus = ViRBase[(ViRBase['Interactor1 Source'] == 'host') & (ViRBase['Interactor2 Source'] == 'virus')]\n",
    "host_virus"
   ]
  },
  {
   "cell_type": "code",
   "execution_count": null,
   "metadata": {},
   "outputs": [],
   "source": [
    "virus_host = ViRBase[(ViRBase['Interactor1 Source'] == 'virus') & (ViRBase['Interactor2 Source'] == 'host')]\n",
    "virus_host.rename(columns={'Interactor1 Source':'Interactor2 Source',\n",
    "                           'Interactor1 Category':'Interactor2 Category',\n",
    "                           'Interactor1 ID':'Interactor2 ID',\n",
    "                           'Interactor2 Source':'Interactor1 Source',\n",
    "                           'Interactor2 Category':'Interactor1 Category',\n",
    "                           'Interactor2 ID':'Interactor1 ID'\n",
    "                          },inplace=True)\n",
    "virus_host"
   ]
  },
  {
   "cell_type": "code",
   "execution_count": null,
   "metadata": {},
   "outputs": [],
   "source": [
    "ViRBase = pd.concat([virus_host,host_virus])\n",
    "ViRBase['Interactor2 Category'] = 'viral_'+ViRBase['Interactor2 Category']\n",
    "ViRBase.drop(columns=['Interactor2 Source','Interactor1 Source'],inplace=True)\n",
    "ViRBase"
   ]
  },
  {
   "cell_type": "code",
   "execution_count": null,
   "metadata": {},
   "outputs": [],
   "source": [
    "set(ViRBase['Interactor1 Category'])"
   ]
  },
  {
   "cell_type": "code",
   "execution_count": null,
   "metadata": {},
   "outputs": [],
   "source": [
    "set(ViRBase['Interactor2 Category'])"
   ]
  },
  {
   "cell_type": "code",
   "execution_count": null,
   "metadata": {},
   "outputs": [],
   "source": [
    "i = ViRBase[(ViRBase['Interactor1 Category']=='circRNA') |\n",
    "            (ViRBase['Interactor1 Category']=='lncRNA') |\n",
    "            (ViRBase['Interactor1 Category']=='mRNA') |\n",
    "            (ViRBase['Interactor1 Category']=='other') |\n",
    "            (ViRBase['Interactor1 Category']=='pseudo') |\n",
    "            (ViRBase['Interactor1 Category']=='scRNA') |\n",
    "            (ViRBase['Interactor1 Category']=='snRNA') |\n",
    "            (ViRBase['Interactor1 Category']=='snoRNA') |\n",
    "            (ViRBase['Interactor1 Category']=='unknown')].index.values\n",
    "ViRBase.loc[i,\"Interactor1 ID\"]=ViRBase.loc[i,\"Interactor1 ID\"] + '?' + ViRBase.loc[i,\"Interactor1 Category\"]\n",
    "\n",
    "i = ViRBase[(ViRBase['Interactor2 Category']=='viral_lncRNA') |\n",
    "            (ViRBase['Interactor2 Category']=='viral_mRNA') |\n",
    "            (ViRBase['Interactor2 Category']=='viral_nsRNA') |\n",
    "            (ViRBase['Interactor2 Category']=='viral_snoRNA') |\n",
    "            (ViRBase['Interactor2 Category']=='viral_unassigned RNA')].index.values\n",
    "ViRBase.loc[i,\"Interactor2 ID\"]=ViRBase.loc[i,\"Interactor2 ID\"] + '?' + ViRBase.loc[i,\"Interactor2 Category\"]\n",
    "ViRBase"
   ]
  },
  {
   "cell_type": "code",
   "execution_count": null,
   "metadata": {},
   "outputs": [],
   "source": [
    "i = ViRBase[(ViRBase['Interactor1 Category']=='protein')].index.values\n",
    "ViRBase_pro = ViRBase[(ViRBase['Interactor1 Category']=='protein')]\n",
    "entrez_pro_map[0] = entrez_pro_map[0].astype(str)\n",
    "ViRBase_pro = pd.merge(ViRBase_pro, entrez_pro_map.rename(columns={0:'Interactor1 ID'}), on=['Interactor1 ID'])\n",
    "ViRBase_pro.drop(columns=['Interactor1 ID'],inplace=True)\n",
    "ViRBase_pro.rename(columns={1:'Interactor1 ID'}, inplace=True)\n",
    "ViRBase.drop(index=i,inplace=True,axis=0)\n",
    "ViRBase = pd.concat([ViRBase_pro,ViRBase])\n",
    "ViRBase"
   ]
  },
  {
   "cell_type": "code",
   "execution_count": null,
   "metadata": {},
   "outputs": [],
   "source": [
    "viralprotein_RNA = ViRBase[(ViRBase['Interactor2 Category']=='viral_protein')]\n",
    "                           \n",
    "viralprotein_RNA['Interactor2 ID'].replace({'1489078':'PR_P03126',\n",
    "                                            '1489080':'PR_P03120',\n",
    "                                            # Only papilloma type 16 is considered in PRO\n",
    "                                            '3783750':'PR_P03230',\n",
    "                                            '3783774':'PR_P03211',\n",
    "                                            '944566':'PR_000008466',\n",
    "                                            '944568':'PR_P0C6K0',\n",
    "                                            'E':'PR_000036822',\n",
    "                                            'M1':'PR_000049763',\n",
    "                                            'NP':'PR_000049760',\n",
    "                                            'NS1':'PR_000036824',\n",
    "                                            'NS3':'PR_000036828',\n",
    "                                            'P40':'PR_000038390',\n",
    "                                            'PB1':'PR_000049745',\n",
    "                                            'Pol':'PR_000044455',\n",
    "                                            'env':'PR_000003225',\n",
    "                                            'gag':'PR_000048976'},inplace=True)\n",
    "viralprotein_RNA = viralprotein_RNA[viralprotein_RNA['Interactor2 ID'].str[0] == 'P']\n",
    "viralprotein_RNA"
   ]
  },
  {
   "cell_type": "code",
   "execution_count": null,
   "metadata": {},
   "outputs": [],
   "source": [
    "i = ViRBase[(ViRBase['Interactor2 Category']=='viral_protein')].index.values\n",
    "ViRBase.drop(index=i,inplace=True,axis=0)\n",
    "ViRBase = pd.concat([viralprotein_RNA,ViRBase])\n",
    "ViRBase"
   ]
  },
  {
   "cell_type": "code",
   "execution_count": null,
   "metadata": {},
   "outputs": [],
   "source": [
    "ViRBase = ViRBase[((ViRBase['Interactor2 ID'].str.startswith('PR'))|\n",
    "                  (ViRBase['Interactor2 ID'].str.startswith('MI'))|\n",
    "                  (ViRBase['Interactor2 ID'].str[0].str.isdigit()))\n",
    "                  &\n",
    "                  ((ViRBase['Interactor1 ID'].str.startswith('PR'))|\n",
    "                  (ViRBase['Interactor1 ID'].str.startswith('MI'))|\n",
    "                  (ViRBase['Interactor1 ID'].str[0].str.isdigit()))]\n",
    "\n",
    "ViRBase['Interactor1 ID'] = ViRBase['Interactor1 ID'].str.replace(\"other\", 'others')\n",
    "\n",
    "i = ViRBase[(ViRBase['Interactor1 ID'].str.startswith('MI')) &\n",
    "            (~(ViRBase['Interactor1 ID'].str.startswith('MIMAT')))].index.values\n",
    "ViRBase.loc[i,\"Interactor1 Category\"]='premiRNA'\n",
    "\n",
    "i = ViRBase[(ViRBase['Interactor2 Category'].str.startswith('MIMAT'))].index.values\n",
    "ViRBase.loc[i,\"Interactor2 Category\"]='viral_miRNA'\n",
    "viralmaturemiRNA_RNA = ViRBase[(ViRBase['Interactor2 Category']=='viral_miRNA')]\n",
    "\n",
    "i = ViRBase[(ViRBase['Interactor2 ID'].str.startswith('MI')) &\n",
    "            (~(ViRBase['Interactor2 ID'].str.startswith('MIMAT')))].index.values\n",
    "ViRBase.loc[i,\"Interactor2 Category\"]='viral_maturemiRNA'\n",
    "viralpremiRNA_RNA = ViRBase[(ViRBase['Interactor2 Category']=='viral_premiRNA')]\n",
    "\n",
    "virallncRNA_RNA = ViRBase[(ViRBase['Interactor2 Category']=='viral_lncRNA')]\n",
    "viralmRNA_RNA = ViRBase[(ViRBase['Interactor2 Category']=='viral_mRNA')]\n",
    "viralnsRNA_RNA = ViRBase[(ViRBase['Interactor2 Category']=='viral_nsRNA')]\n",
    "viralsnoRNA_RNA = ViRBase[(ViRBase['Interactor2 Category']=='viral_snoRNA')]\n",
    "viralunRNA_RNA = ViRBase[(ViRBase['Interactor2 Category']=='viral_unassigned RNA')]\n",
    "viralprotein_RNA = ViRBase[(ViRBase['Interactor2 Category']=='viral_protein')]\n",
    "\n",
    "ViRBase"
   ]
  },
  {
   "cell_type": "code",
   "execution_count": null,
   "metadata": {},
   "outputs": [],
   "source": [
    "for i in set(virallncRNA_RNA['Interactor1 Category']):\n",
    "        virallncRNA_RNA_ = virallncRNA_RNA[virallncRNA_RNA['Interactor1 Category']==i]\n",
    "        if not virallncRNA_RNA_.empty :\n",
    "            #print(i)\n",
    "            virallncRNA_RNA_.insert(0, 'Interactor1 ID', virallncRNA_RNA_.pop('Interactor1 ID'))\n",
    "            virallncRNA_RNA_.drop(columns=['Interactor1 Category','Interactor2 Category'],inplace=True)\n",
    "            merge_rows(virallncRNA_RNA_,'Interactor1 ID','Interactor2 ID').rename(columns={'Interactor1 ID':i,\n",
    "                                                                                           'Interactor2 ID':'Viral lncRNA'}).to_csv(\n",
    "                edge_data_location + i + '-virallncRNA2434.txt', sep='\\t', index=None)"
   ]
  },
  {
   "cell_type": "code",
   "execution_count": null,
   "metadata": {},
   "outputs": [],
   "source": [
    "for i in set(viralmRNA_RNA['Interactor1 Category']):\n",
    "        viralmRNA_RNA_ = viralmRNA_RNA[viralmRNA_RNA['Interactor1 Category']==i]\n",
    "        if not viralmRNA_RNA_.empty :\n",
    "            #print(i)\n",
    "            viralmRNA_RNA_.insert(0, 'Interactor1 ID', viralmRNA_RNA_.pop('Interactor1 ID'))\n",
    "            viralmRNA_RNA_.drop(columns=['Interactor1 Category','Interactor2 Category'],inplace=True)\n",
    "            merge_rows(viralmRNA_RNA_,'Interactor1 ID','Interactor2 ID').rename(columns={'Interactor1 ID':i,\n",
    "                                                                                           'Interactor2 ID':'Viral mRNA'}).to_csv(\n",
    "                edge_data_location + i + '-viralmRNA2434.txt', sep='\\t', index=None)"
   ]
  },
  {
   "cell_type": "code",
   "execution_count": null,
   "metadata": {},
   "outputs": [],
   "source": [
    "for i in set(viralnsRNA_RNA['Interactor1 Category']):\n",
    "        viralnsRNA_RNA_ = viralnsRNA_RNA[viralnsRNA_RNA['Interactor1 Category']==i]\n",
    "        if not viralnsRNA_RNA_.empty :\n",
    "            #print(i)\n",
    "            viralnsRNA_RNA_.insert(0, 'Interactor1 ID', viralnsRNA_RNA_.pop('Interactor1 ID'))\n",
    "            viralnsRNA_RNA_.drop(columns=['Interactor1 Category','Interactor2 Category'],inplace=True)\n",
    "            merge_rows(viralnsRNA_RNA_,'Interactor1 ID','Interactor2 ID').rename(columns={'Interactor1 ID':i,\n",
    "                                                                                           'Interactor2 ID':'Viral nsRNA'}).to_csv(\n",
    "                edge_data_location + i + '-viralnsRNA2434.txt', sep='\\t', index=None)"
   ]
  },
  {
   "cell_type": "code",
   "execution_count": null,
   "metadata": {},
   "outputs": [],
   "source": [
    "for i in set(viralsnoRNA_RNA['Interactor1 Category']):\n",
    "        viralsnoRNA_RNA_ = viralsnoRNA_RNA[viralsnoRNA_RNA['Interactor1 Category']==i]\n",
    "        if not viralsnoRNA_RNA_.empty :\n",
    "            #print(i)\n",
    "            viralsnoRNA_RNA_.insert(0, 'Interactor1 ID', viralsnoRNA_RNA_.pop('Interactor1 ID'))\n",
    "            viralsnoRNA_RNA_.drop(columns=['Interactor1 Category','Interactor2 Category'],inplace=True)\n",
    "            merge_rows(viralsnoRNA_RNA_,'Interactor1 ID','Interactor2 ID').rename(columns={'Interactor1 ID':i,\n",
    "                                                                                           'Interactor2 ID':'Viral snoRNA'}).to_csv(\n",
    "                edge_data_location + i + '-viralsnoRNA2434.txt', sep='\\t', index=None)  "
   ]
  },
  {
   "cell_type": "code",
   "execution_count": null,
   "metadata": {},
   "outputs": [],
   "source": [
    "for i in set(viralunRNA_RNA['Interactor1 Category']):\n",
    "        viralunRNA_RNA_ = viralunRNA_RNA[viralunRNA_RNA['Interactor1 Category']==i]\n",
    "        if not viralunRNA_RNA_.empty :\n",
    "            #print(i)\n",
    "            viralunRNA_RNA_.insert(0, 'Interactor1 ID', viralunRNA_RNA_.pop('Interactor1 ID'))\n",
    "            viralunRNA_RNA_.drop(columns=['Interactor1 Category','Interactor2 Category'],inplace=True)\n",
    "            merge_rows(viralunRNA_RNA_,'Interactor1 ID','Interactor2 ID').rename(columns={'Interactor1 ID':i,\n",
    "                                                                                           'Interactor2 ID':'Viral unknown RNA'}).to_csv(\n",
    "                edge_data_location + i + '-viralunRNA2434.txt', sep='\\t', index=None) "
   ]
  },
  {
   "cell_type": "code",
   "execution_count": null,
   "metadata": {},
   "outputs": [],
   "source": [
    "# Fix invalid URI\n",
    "viralunRNA_RNA_ = pd.read_csv(edge_data_location + 'miRNA-viralunRNA2434.txt',sep='\\t')\n",
    "viralunRNA_RNA_['Viral unknown RNA'] = viralunRNA_RNA_['Viral unknown RNA'].str.replace('viral_unassigned RNA','viral_unassigned_RNA')\n",
    "viralunRNA_RNA_.to_csv(edge_data_location + i + '-viralunRNA2434.txt', sep='\\t', index=None) "
   ]
  },
  {
   "cell_type": "code",
   "execution_count": null,
   "metadata": {},
   "outputs": [],
   "source": [
    "for i in set(viralpremiRNA_RNA['Interactor1 Category']):\n",
    "        viralpremiRNA_RNA_ = viralpremiRNA_RNA[viralpremiRNA_RNA['Interactor1 Category']==i]\n",
    "        if not viralpremiRNA_RNA_.empty :\n",
    "            #print(i)\n",
    "            viralpremiRNA_RNA_.insert(0, 'Interactor1 ID', viralpremiRNA_RNA_.pop('Interactor1 ID'))\n",
    "            viralpremiRNA_RNA_.drop(columns=['Interactor1 Category','Interactor2 Category'],inplace=True)\n",
    "            merge_rows(viralpremiRNA_RNA_,'Interactor1 ID','Interactor2 ID').rename(columns={'Interactor1 ID':i,\n",
    "                                                                                           'Interactor2 ID':'Viral miRNA'}).to_csv(\n",
    "                edge_data_location + i + '-viralpremiRNA2434.txt', sep='\\t', index=None)    "
   ]
  },
  {
   "cell_type": "code",
   "execution_count": null,
   "metadata": {},
   "outputs": [],
   "source": [
    "for i in set(viralprotein_RNA['Interactor1 Category']):\n",
    "        viralprotein_RNA_ = viralprotein_RNA[viralprotein_RNA['Interactor1 Category']==i]\n",
    "        if not viralprotein_RNA_.empty :\n",
    "            #print(i)\n",
    "            viralprotein_RNA_.insert(0, 'Interactor1 ID', viralprotein_RNA_.pop('Interactor1 ID'))\n",
    "            viralprotein_RNA_.drop(columns=['Interactor1 Category','Interactor2 Category'],inplace=True)\n",
    "            merge_rows(viralprotein_RNA_,'Interactor1 ID','Interactor2 ID').rename(columns={'Interactor1 ID':i,\n",
    "                                                                                           'Interactor2 ID':'Viral protein'}).to_csv(\n",
    "                edge_data_location + i + '-viralProtein2434.txt', sep='\\t', index=None)"
   ]
  },
  {
   "cell_type": "code",
   "execution_count": null,
   "metadata": {},
   "outputs": [],
   "source": [
    "for i in set(viralmaturemiRNA_RNA['Interactor1 Category']):\n",
    "        viralmaturemiRNA_RNA_ = viralmaturemiRNA_RNA[viralmaturemiRNA_RNA['Interactor1 Category']==i]\n",
    "        if not viralmaturemiRNA_RNA_.empty :\n",
    "            #print(i)\n",
    "            viralmaturemiRNA_RNA_.insert(0, 'Interactor1 ID', viralmaturemiRNA_RNA_.pop('Interactor1 ID'))\n",
    "            viralmaturemiRNA_RNA_.drop(columns=['Interactor1 Category','Interactor2 Category'],inplace=True)\n",
    "            merge_rows(viralmaturemiRNA_RNA_,'Interactor1 ID','Interactor2 ID').rename(columns={'Interactor1 ID':i,\n",
    "                                                                                           'Interactor2 ID':'Viral miRNA'}).to_csv(\n",
    "                edge_data_location + i + '-viralmiRNA2434.txt', sep='\\t', index=None) "
   ]
  },
  {
   "cell_type": "markdown",
   "metadata": {},
   "source": [
    "***\n",
    "### [Vesiclepedia](http://microvesicles.org/index.html)\n",
    "Vesiclepedia is a a manually curated compendium of molecular data (lipid, RNA and protein) identified in different classes of extracellular vesicles. "
   ]
  },
  {
   "cell_type": "code",
   "execution_count": null,
   "metadata": {},
   "outputs": [],
   "source": [
    "! wget http://microvesicles.org/Archive/VESICLEPEDIA_EXPERIMENT_DETAILS_4.1.txt -P ../resources/processed_data/unprocessed_data/\n",
    "! wget http://microvesicles.org/Archive/VESICLEPEDIA_PROTEIN_MRNA_DETAILS_4.1.txt -P ../resources/processed_data/unprocessed_data/"
   ]
  },
  {
   "cell_type": "code",
   "execution_count": null,
   "metadata": {},
   "outputs": [],
   "source": [
    "experiments = pd.read_csv('http://microvesicles.org/Archive/VESICLEPEDIA_EXPERIMENT_DETAILS_4.1.txt', sep='\\t')\n",
    "experiments = experiments[experiments['SPECIES'].str.contains('apiens')]\n",
    "\n",
    "protein_ev = pd.read_csv(unprocessed_data_location+'VESICLEPEDIA_PROTEIN_MRNA_DETAILS_4.1.txt', sep='\\t')\n",
    "protein_ev['Source(s)'] = 'Vesiclepedia'\n",
    "\n",
    "protein_ev = protein_ev[protein_ev['SPECIES'].str.contains('apiens')]\n",
    "protein_ev = pd.merge(protein_ev, experiments, on=['EXPERIMENT ID'])\n",
    "\n",
    "# Edge properties\n",
    "print(protein_ev.SAMPLE.unique()[:5])\n",
    "protein_ev.SAMPLE = protein_ev.SAMPLE.str.lower()\n",
    "protein_ev.SAMPLE = protein_ev.SAMPLE.str.replace(';', '|')\n",
    "protein_ev.SAMPLE = protein_ev.SAMPLE.str.strip()\n",
    "protein_ev.SAMPLE = [replace_with_clo(item) for item in protein_ev.SAMPLE]\n",
    "protein_ev.SAMPLE = [replace_with_clo2(item) for item in protein_ev.SAMPLE]\n",
    "print(protein_ev.IDENTIFICATIONS.unique()[:5])\n",
    "protein_ev['IDENTIFICATIONS'] = protein_ev['IDENTIFICATIONS'].str.replace('Proteins', 'http://purl.obolibrary.org/obo/PR_000000001')\n",
    "protein_ev['IDENTIFICATIONS'] = protein_ev['IDENTIFICATIONS'].str.replace('Protein ', 'http://purl.obolibrary.org/obo/PR_000000001')\n",
    "protein_ev['IDENTIFICATIONS'] = protein_ev['IDENTIFICATIONS'].str.replace('Protein', 'http://purl.obolibrary.org/obo/PR_000000001')\n",
    "protein_ev['IDENTIFICATIONS'] = protein_ev['IDENTIFICATIONS'].str.replace('PTM Ubiquitination', 'http://purl.obolibrary.org/obo/NCIT_C19358')\n",
    "protein_ev['IDENTIFICATIONS'] = protein_ev['IDENTIFICATIONS'].str.replace('Metabolites', 'http://purl.obolibrary.org/obo/NCIT_C61154')\n",
    "protein_ev['IDENTIFICATIONS'] = protein_ev['IDENTIFICATIONS'].str.replace('miRNA', 'http://purl.obolibrary.org/obo/SO_0000276')\n",
    "protein_ev['IDENTIFICATIONS'] = protein_ev['IDENTIFICATIONS'].str.replace('mRNA', 'http://purl.obolibrary.org/obo/SO_0000234')\n",
    "protein_ev['IDENTIFICATIONS'] = protein_ev['IDENTIFICATIONS'].str.replace('miRNA', 'http://purl.obolibrary.org/obo/SO_0000276')\n",
    "protein_ev['IDENTIFICATIONS'] = protein_ev['IDENTIFICATIONS'].str.replace('snRNA', 'http://purl.obolibrary.org/obo/SO_0000274')\n",
    "protein_ev['IDENTIFICATIONS'] = protein_ev['IDENTIFICATIONS'].str.replace('Lipids', 'http://purl.obolibrary.org/obo/CHEBI_18059')\n",
    "print(protein_ev.METHODS_y.unique()[:5])\n",
    "protein_ev['METHODS_y'] = protein_ev['METHODS_y'].str.lower()\n",
    "protein_ev['METHODS_y'] = [replace_with_ncit(item) for item in protein_ev['METHODS_y']] \n",
    "print(protein_ev['ISOLATION METHOD'].unique()[:5])\n",
    "chmo_dict = dict(zip(desc_chmo_map[0], 'http://purl.obolibrary.org/obo/'+desc_chmo_map[1]))\n",
    "\n",
    "def replace_with_chmo(substring):\n",
    "    if pd.isna(substring):\n",
    "        return np.nan\n",
    "    else:\n",
    "        return '|'.join([chmo_dict.get(part, part) for part in substring.split('|')])\n",
    "\n",
    "protein_ev['ISOLATION METHOD'] = protein_ev['ISOLATION METHOD'].str.lower()\n",
    "protein_ev['ISOLATION METHOD'] = [replace_with_chmo(item) for item in protein_ev['ISOLATION METHOD']] \n",
    "\n",
    "protein_ev.drop(columns=['CONTENT ID','GENE SYMBOL','SPECIES_x','EXPERIMENT ID','SPECIES_y',\n",
    "                         'METHODS_x','YEAR'],inplace=True)\n",
    "\n",
    "protein_ev['PUBMED ID'] = 'https://pubmed.ncbi.nlm.nih.gov/' + protein_ev['PUBMED ID'].astype(str)\n",
    "protein_ev['PUBMED ID'] = protein_ev['PUBMED ID'].replace('https://pubmed.ncbi.nlm.nih.gov/nan', np.nan)\n",
    "protein_ev.rename(columns={'PUBMED ID':'References (PMID)'},inplace=True)\n",
    "protein_ev"
   ]
  },
  {
   "cell_type": "code",
   "execution_count": null,
   "metadata": {},
   "outputs": [],
   "source": [
    "protein_ev['VESICLE TYPE'].unique()"
   ]
  },
  {
   "cell_type": "code",
   "execution_count": null,
   "metadata": {},
   "outputs": [],
   "source": [
    "protein_ev['VESICLE TYPE'] = protein_ev['VESICLE TYPE'].str.replace(r\".*xosomes.*\", \"GO_0070062\", regex=True)\n",
    "protein_ev['VESICLE TYPE'] = protein_ev['VESICLE TYPE'].str.replace(\"Membrane blebs\", \"GO_0032059\")\n",
    "protein_ev['VESICLE TYPE'] = protein_ev['VESICLE TYPE'].str.replace(\"Apoptotic bodies\", \"GO_0097189\")\n",
    "protein_ev['VESICLE TYPE'] = protein_ev['VESICLE TYPE'].str.replace(r\".*embrane\", \"GO_0016020\", regex=True)\n",
    "protein_ev['VESICLE TYPE'] = protein_ev['VESICLE TYPE'].str.replace(r\".*icrovesicles\", \"GO_1990742\", regex=True)\n",
    "protein_ev['VESICLE TYPE'] = protein_ev['VESICLE TYPE'].str.replace(r\"^(?!GO_.*)\", \"GO_1990742\", regex=True)\n",
    "protein_ev['VESICLE TYPE'] = 'GO_'+protein_ev['VESICLE TYPE'].str.extract('(\\d+)', expand=False)\n",
    "protein_ev"
   ]
  },
  {
   "cell_type": "code",
   "execution_count": null,
   "metadata": {},
   "outputs": [],
   "source": [
    "protein_ev['CONTENT TYPE'].unique()"
   ]
  },
  {
   "cell_type": "code",
   "execution_count": null,
   "metadata": {},
   "outputs": [],
   "source": [
    "mRNA_ev = protein_ev[(protein_ev['CONTENT TYPE']=='mRNA') | (protein_ev['CONTENT TYPE']=='mrna')]\n",
    "mRNA_ev.drop(columns=['CONTENT TYPE'], inplace=True)\n",
    "mRNA_ev = mRNA_ev[(mRNA_ev['ENTREZ GENE ID'].notna())]\n",
    "mRNA_ev = mRNA_ev[(mRNA_ev['ENTREZ GENE ID'].astype(str).str[0].str.isdigit())]\n",
    "mRNA_ev['ENTREZ GENE ID'] = mRNA_ev['ENTREZ GENE ID'].astype(str) + '?mRNA'\n",
    "\n",
    "mRNA_ev.insert(1, 'VESICLE TYPE', mRNA_ev.pop('VESICLE TYPE'))\n",
    "mRNA_ev.insert(len(mRNA_ev.columns)-1, 'Source(s)', mRNA_ev.pop('Source(s)'))\n",
    "\n",
    "mRNA_ev.rename(columns={'ENTREZ GENE ID':'mRNA','EXPERIMENT DESCRIPTION':'Experiment description', 'SAMPLE':'Sample',\n",
    "                        'SAMPLE SOURCE':'Sample source', 'SAMPLE NAME':'Sample name', 'IDENTIFICATIONS':'Identifications', \n",
    "                        'ISOLATION METHOD':'Isolation method', 'VESICLE TYPE':'Vesicle type'},inplace=True)\n",
    "\n",
    "merge_rows(mRNA_ev,'mRNA','Vesicle type').to_csv(\n",
    "                edge_data_location + 'mRNA-ev1018.txt', sep='\\t', index=None) "
   ]
  },
  {
   "cell_type": "code",
   "execution_count": null,
   "metadata": {},
   "outputs": [],
   "source": [
    "snRNA_ev = protein_ev[protein_ev['CONTENT TYPE']=='snrna']\n",
    "snRNA_ev.drop(columns=['CONTENT TYPE'], inplace=True)\n",
    "snRNA_ev = snRNA_ev[(snRNA_ev['ENTREZ GENE ID'].notna())]\n",
    "snRNA_ev = snRNA_ev[(snRNA_ev['ENTREZ GENE ID'].astype(str).str[0].str.isdigit())]\n",
    "snRNA_ev['ENTREZ GENE ID'] = snRNA_ev['ENTREZ GENE ID'].astype(str) + '?snRNA'\n",
    "snRNA_ev.insert(1, 'VESICLE TYPE', snRNA_ev.pop('VESICLE TYPE'))\n",
    "snRNA_ev.insert(len(snRNA_ev.columns)-1, 'Source(s)', snRNA_ev.pop('Source(s)'))\n",
    "\n",
    "snRNA_ev.rename(columns={'ENTREZ GENE ID':'snRNA','EXPERIMENT DESCRIPTION':'Experiment description', 'SAMPLE':'Sample',\n",
    "                        'SAMPLE SOURCE':'Sample source', 'SAMPLE NAME':'Sample name', 'IDENTIFICATIONS':'Identifications', \n",
    "                        'ISOLATION METHOD':'Isolation method', 'VESICLE TYPE':'Vesicle type'},inplace=True)\n",
    "\n",
    "merge_rows(snRNA_ev,'snRNA','Vesicle type').to_csv(\n",
    "                edge_data_location + 'snRNA-ev1018.txt', sep='\\t', index=None) "
   ]
  },
  {
   "cell_type": "code",
   "execution_count": null,
   "metadata": {},
   "outputs": [],
   "source": [
    "protein_ev = protein_ev[(protein_ev['CONTENT TYPE']=='protein') | (protein_ev['CONTENT TYPE']=='protein ')]\n",
    "protein_ev.drop(columns=['CONTENT TYPE'], inplace=True)\n",
    "protein_ev = protein_ev[(protein_ev['ENTREZ GENE ID'].notna())]\n",
    "protein_ev = protein_ev[(protein_ev['ENTREZ GENE ID'].astype(str).str[0].str.isdigit())]\n",
    "\n",
    "entrez_pro_map[0] = entrez_pro_map[0].astype(int)\n",
    "\n",
    "protein_ev = pd.merge(entrez_pro_map.rename(columns={0:'ENTREZ GENE ID'}), protein_ev, on=['ENTREZ GENE ID'])\n",
    "protein_ev.drop(columns=['ENTREZ GENE ID'], inplace=True)\n",
    "\n",
    "protein_ev.insert(1, 'VESICLE TYPE', protein_ev.pop('VESICLE TYPE'))\n",
    "protein_ev.insert(len(protein_ev.columns)-1, 'Source(s)', protein_ev.pop('Source(s)'))\n",
    "\n",
    "protein_ev.rename(columns={1:'Protein','EXPERIMENT DESCRIPTION':'Experiment description', 'SAMPLE':'Sample',\n",
    "                        'SAMPLE SOURCE':'Sample source', 'SAMPLE NAME':'Sample name', 'IDENTIFICATIONS':'Identifications', \n",
    "                        'ISOLATION METHOD':'Isolation method', 'VESICLE TYPE':'Vesicle type'},inplace=True)\n",
    "\n",
    "merge_rows(protein_ev,'Protein','Vesicle type').to_csv(\n",
    "                edge_data_location + 'protein-ev1018.txt', sep='\\t', index=None) "
   ]
  },
  {
   "cell_type": "code",
   "execution_count": null,
   "metadata": {},
   "outputs": [],
   "source": [
    "! wget http://microvesicles.org/Archive/VESICLEPEDIA_MIRNA_DETAILS_4.1.txt -P ../resources/processed_data/unprocessed_data/"
   ]
  },
  {
   "cell_type": "code",
   "execution_count": null,
   "metadata": {},
   "outputs": [],
   "source": [
    "miRNA_ev = pd.read_csv(unprocessed_data_location+'VESICLEPEDIA_MIRNA_DETAILS_4.1.txt', sep='\\t')\n",
    "miRNA_ev['Source(s)'] = 'Vesiclepedia'\n",
    "\n",
    "miRNA_ev = miRNA_ev[miRNA_ev['SPECIES'].str.contains('apiens')]\n",
    "miRNA_ev = pd.merge(miRNA_ev, experiments, on=['EXPERIMENT ID'])\n",
    "\n",
    "miRNA_ev['MIRNA ID'] = 'hsa-' + miRNA_ev['MIRNA ID'].astype(str)\n",
    "miRNA_ev['VESICLE TYPE'] = miRNA_ev['VESICLE TYPE'].str.replace(r\".*xosomes.*\", \"GO_0070062\", regex=True)\n",
    "miRNA_ev['VESICLE TYPE'] = miRNA_ev['VESICLE TYPE'].str.replace(\"Membrane blebs\", \"GO_0032059\")\n",
    "miRNA_ev['VESICLE TYPE'] = miRNA_ev['VESICLE TYPE'].str.replace(\"Apoptotic bodies\", \"GO_0097189\")\n",
    "miRNA_ev['VESICLE TYPE'] = miRNA_ev['VESICLE TYPE'].str.replace(r\".*embrane\", \"GO_0016020\", regex=True)\n",
    "miRNA_ev['VESICLE TYPE'] = miRNA_ev['VESICLE TYPE'].str.replace(r\".*icrovesicles\", \"GO_1990742\", regex=True)\n",
    "miRNA_ev['VESICLE TYPE'] = miRNA_ev['VESICLE TYPE'].str.replace(r\"^(?!GO_.*)\", \"GO_1990742\", regex=True)\n",
    "miRNA_ev['VESICLE TYPE'] = 'GO_'+miRNA_ev['VESICLE TYPE'].str.extract('(\\d+)', expand=False)\n",
    "\n",
    "# Edge properties\n",
    "print(miRNA_ev.SAMPLE.unique()[:5])\n",
    "miRNA_ev.SAMPLE = miRNA_ev.SAMPLE.str.lower()\n",
    "miRNA_ev.SAMPLE = miRNA_ev.SAMPLE.str.replace(';', '|')\n",
    "miRNA_ev.SAMPLE = miRNA_ev.SAMPLE.str.replace(r's$', '',regex=True)\n",
    "miRNA_ev.SAMPLE = miRNA_ev.SAMPLE.str.strip()\n",
    "miRNA_ev.SAMPLE = [replace_with_clo(item) for item in miRNA_ev.SAMPLE]\n",
    "miRNA_ev.SAMPLE = [replace_with_clo2(item) for item in miRNA_ev.SAMPLE]\n",
    "print(miRNA_ev['IDENTIFICATIONS'].unique()[:5])\n",
    "miRNA_ev['IDENTIFICATIONS'] = miRNA_ev['IDENTIFICATIONS'].str.replace('Proteins', 'http://purl.obolibrary.org/obo/PR_000000001')\n",
    "miRNA_ev['IDENTIFICATIONS'] = miRNA_ev['IDENTIFICATIONS'].str.replace('Protein ', 'http://purl.obolibrary.org/obo/PR_000000001')\n",
    "miRNA_ev['IDENTIFICATIONS'] = miRNA_ev['IDENTIFICATIONS'].str.replace('Protein', 'http://purl.obolibrary.org/obo/PR_000000001')\n",
    "miRNA_ev['IDENTIFICATIONS'] = miRNA_ev['IDENTIFICATIONS'].str.replace('PTM Ubiquitination', 'http://purl.obolibrary.org/obo/NCIT_C19358')\n",
    "miRNA_ev['IDENTIFICATIONS'] = miRNA_ev['IDENTIFICATIONS'].str.replace('Metabolites', 'http://purl.obolibrary.org/obo/NCIT_C61154')\n",
    "miRNA_ev['IDENTIFICATIONS'] = miRNA_ev['IDENTIFICATIONS'].str.replace('miRNA', 'http://purl.obolibrary.org/obo/SO_0000276')\n",
    "miRNA_ev['IDENTIFICATIONS'] = miRNA_ev['IDENTIFICATIONS'].str.replace('mRNA', 'http://purl.obolibrary.org/obo/SO_0000234')\n",
    "miRNA_ev['IDENTIFICATIONS'] = miRNA_ev['IDENTIFICATIONS'].str.replace('miRNA', 'http://purl.obolibrary.org/obo/SO_0000276')\n",
    "miRNA_ev['IDENTIFICATIONS'] = miRNA_ev['IDENTIFICATIONS'].str.replace('snRNA', 'http://purl.obolibrary.org/obo/SO_0000274')\n",
    "miRNA_ev['IDENTIFICATIONS'] = miRNA_ev['IDENTIFICATIONS'].str.replace('Lipids', 'http://purl.obolibrary.org/obo/CHEBI_18059')\n",
    "print(miRNA_ev.METHODS_y.unique()[:5])\n",
    "miRNA_ev['METHODS_y'] = miRNA_ev['METHODS_y'].str.lower()\n",
    "miRNA_ev['METHODS_y'] = [replace_with_ncit(item) for item in miRNA_ev['METHODS_y']] \n",
    "print(miRNA_ev['ISOLATION METHOD'].unique()[:5])\n",
    "miRNA_ev['ISOLATION METHOD'] = miRNA_ev['ISOLATION METHOD'].str.lower()\n",
    "miRNA_ev['ISOLATION METHOD'] = [replace_with_chmo(item) for item in miRNA_ev['ISOLATION METHOD']] \n",
    "\n",
    "miRNA_ev = pd.merge(mirna_mirbase_map.rename(columns={0:'MIRNA ID'}), miRNA_ev, on=['MIRNA ID'])\n",
    "miRNA_ev.drop(columns=['CONTENT ID','CONTENT TYPE','COMMENTS','Entrez GENE ID','SPECIES_x',\n",
    "                       'EXPERIMENT ID','SPECIES_y','SAMPLE NAME','IDENTIFICATIONS','METHODS_x',\n",
    "                       'YEAR','MIRNA ID'],inplace=True)\n",
    "miRNA_ev['PUBMED ID'] = 'https://pubmed.ncbi.nlm.nih.gov/' + miRNA_ev['PUBMED ID'].astype(str)\n",
    "miRNA_ev['PUBMED ID'] = miRNA_ev['PUBMED ID'].replace('https://pubmed.ncbi.nlm.nih.gov/nan', np.nan)\n",
    "miRNA_ev.rename(columns={'PUBMED ID':'References (PMID)'},inplace=True)\n",
    "miRNA_ev"
   ]
  },
  {
   "cell_type": "code",
   "execution_count": null,
   "metadata": {},
   "outputs": [],
   "source": [
    "miRNA_ev.insert(1, 'VESICLE TYPE', miRNA_ev.pop('VESICLE TYPE'))\n",
    "miRNA_ev.insert(len(miRNA_ev.columns)-1, 'Source(s)', miRNA_ev.pop('Source(s)'))\n",
    "\n",
    "miRNA_ev.rename(columns={1:'miRNA','EXPERIMENT DESCRIPTION':'Experiment description', 'SAMPLE':'Sample',\n",
    "                        'SAMPLE SOURCE':'Sample source', 'SAMPLE NAME':'Sample name', 'IDENTIFICATIONS':'Identifications', \n",
    "                        'ISOLATION METHOD':'Isolation method', 'VESICLE TYPE':'Vesicle type'},inplace=True)\n",
    "\n",
    "maturemiRNA_ev = miRNA_ev[miRNA_ev['miRNA'].str.startswith('MIMAT')]\n",
    "premiRNA_ev = miRNA_ev[~miRNA_ev['miRNA'].str.startswith('MIMAT')]\n",
    "merge_rows(maturemiRNA_ev,'miRNA','Vesicle type').to_csv(\n",
    "                edge_data_location + 'miRNA-ev1018.txt', sep='\\t', index=None)\n",
    "merge_rows(premiRNA_ev,'miRNA','Vesicle type').to_csv(\n",
    "                edge_data_location + 'premiRNA-ev1018.txt', sep='\\t', index=None)"
   ]
  },
  {
   "cell_type": "code",
   "execution_count": null,
   "metadata": {},
   "outputs": [],
   "source": [
    "! wget http://microvesicles.org/Archive/VESICLEPEDIA_LIPID_DETAILS_4.1.txt -P ../resources/processed_data/unprocessed_data/"
   ]
  },
  {
   "cell_type": "code",
   "execution_count": null,
   "metadata": {},
   "outputs": [],
   "source": [
    "lipid_ev = pd.read_csv(unprocessed_data_location+'VESICLEPEDIA_LIPID_DETAILS_4.1.txt', sep='\\t')\n",
    "lipid_ev['Source(s)'] = 'Vesiclepedia'\n",
    "\n",
    "lipid_ev = lipid_ev[lipid_ev['SPECIES'].str.contains('apiens')]\n",
    "lipid_ev = pd.merge(lipid_ev, experiments, on=['EXPERIMENT ID'])\n",
    "lipid_ev['LIPID ID'] = lipid_ev['LIPID ID'].str.lower()\n",
    "\n",
    "# Edge properties\n",
    "print(lipid_ev.SAMPLE.unique()[:5])\n",
    "lipid_ev.SAMPLE = lipid_ev.SAMPLE.str.lower()\n",
    "lipid_ev.SAMPLE = lipid_ev.SAMPLE.str.replace(';', '|')\n",
    "lipid_ev.SAMPLE = lipid_ev.SAMPLE.str.replace(r's$', '',regex=True)\n",
    "lipid_ev.SAMPLE = lipid_ev.SAMPLE.str.strip()\n",
    "lipid_ev.SAMPLE = [replace_with_clo(item) for item in lipid_ev.SAMPLE]\n",
    "lipid_ev.SAMPLE = [replace_with_clo2(item) for item in lipid_ev.SAMPLE]\n",
    "print(lipid_ev['IDENTIFICATIONS'].unique()[:5])\n",
    "lipid_ev['IDENTIFICATIONS'] = lipid_ev['IDENTIFICATIONS'].str.replace('Proteins', 'http://purl.obolibrary.org/obo/PR_000000001')\n",
    "lipid_ev['IDENTIFICATIONS'] = lipid_ev['IDENTIFICATIONS'].str.replace('Protein ', 'http://purl.obolibrary.org/obo/PR_000000001')\n",
    "lipid_ev['IDENTIFICATIONS'] = lipid_ev['IDENTIFICATIONS'].str.replace('Protein', 'http://purl.obolibrary.org/obo/PR_000000001')\n",
    "lipid_ev['IDENTIFICATIONS'] = lipid_ev['IDENTIFICATIONS'].str.replace('PTM Ubiquitination', 'http://purl.obolibrary.org/obo/NCIT_C19358')\n",
    "lipid_ev['IDENTIFICATIONS'] = lipid_ev['IDENTIFICATIONS'].str.replace('Metabolites', 'http://purl.obolibrary.org/obo/NCIT_C61154')\n",
    "lipid_ev['IDENTIFICATIONS'] = lipid_ev['IDENTIFICATIONS'].str.replace('miRNA', 'http://purl.obolibrary.org/obo/SO_0000276')\n",
    "lipid_ev['IDENTIFICATIONS'] = lipid_ev['IDENTIFICATIONS'].str.replace('mRNA', 'http://purl.obolibrary.org/obo/SO_0000234')\n",
    "lipid_ev['IDENTIFICATIONS'] = lipid_ev['IDENTIFICATIONS'].str.replace('miRNA', 'http://purl.obolibrary.org/obo/SO_0000276')\n",
    "lipid_ev['IDENTIFICATIONS'] = lipid_ev['IDENTIFICATIONS'].str.replace('snRNA', 'http://purl.obolibrary.org/obo/SO_0000274')\n",
    "lipid_ev['IDENTIFICATIONS'] = lipid_ev['IDENTIFICATIONS'].str.replace('Lipids', 'http://purl.obolibrary.org/obo/CHEBI_18059')\n",
    "print(lipid_ev.METHODS_y.unique()[:5])\n",
    "lipid_ev['METHODS_y'] = lipid_ev['METHODS_y'].str.lower()\n",
    "lipid_ev['METHODS_y'] = [replace_with_ncit(item) for item in lipid_ev['METHODS_y']] \n",
    "print(lipid_ev['ISOLATION METHOD'].unique()[:5])\n",
    "lipid_ev['ISOLATION METHOD'] = lipid_ev['ISOLATION METHOD'].str.lower()\n",
    "lipid_ev['ISOLATION METHOD'] = [replace_with_chmo(item) for item in lipid_ev['ISOLATION METHOD']] \n",
    "\n",
    "lipid_ev['VESICLE TYPE'] = lipid_ev['VESICLE TYPE'].str.replace(r\".*xosomes.*\", \"GO_0070062\", regex=True)\n",
    "lipid_ev['VESICLE TYPE'] = lipid_ev['VESICLE TYPE'].str.replace(\"Membrane blebs\", \"GO_0032059\")\n",
    "lipid_ev['VESICLE TYPE'] = lipid_ev['VESICLE TYPE'].str.replace(\"Apoptotic bodies\", \"GO_0097189\")\n",
    "lipid_ev['VESICLE TYPE'] = lipid_ev['VESICLE TYPE'].str.replace(r\".*embrane\", \"GO_0016020\", regex=True)\n",
    "lipid_ev['VESICLE TYPE'] = lipid_ev['VESICLE TYPE'].str.replace(r\".*icrovesicles\", \"GO_1990742\", regex=True)\n",
    "lipid_ev['VESICLE TYPE'] = lipid_ev['VESICLE TYPE'].str.replace(r\"^(?!GO_.*)\", \"GO_1990742\", regex=True)\n",
    "lipid_ev['VESICLE TYPE'] = 'GO_'+lipid_ev['VESICLE TYPE'].str.extract('(\\d+)', expand=False)\n",
    "\n",
    "lipid_ev = pd.merge(desc_chebi_map.rename(columns={0:'LIPID ID'}), lipid_ev, on=['LIPID ID'])\n",
    "lipid_ev.drop(columns=['LIPID ID', 'CONTENT ID','CONTENT TYPE','SPECIES_x','EXPERIMENT ID','SPECIES_y',\n",
    "                       'SAMPLE NAME','IDENTIFICATIONS','METHODS_x','YEAR'], inplace=True)\n",
    "lipid_ev['PUBMED ID'] = 'https://pubmed.ncbi.nlm.nih.gov/' + lipid_ev['PUBMED ID'].astype(str)\n",
    "lipid_ev['PUBMED ID'] = lipid_ev['PUBMED ID'].replace('https://pubmed.ncbi.nlm.nih.gov/nan', np.nan)\n",
    "lipid_ev.rename(columns={'PUBMED ID':'References (PMID)'},inplace=True)\n",
    "\n",
    "lipid_ev"
   ]
  },
  {
   "cell_type": "code",
   "execution_count": null,
   "metadata": {},
   "outputs": [],
   "source": [
    "lipid_ev.insert(1, 'VESICLE TYPE', lipid_ev.pop('VESICLE TYPE'))\n",
    "lipid_ev.insert(len(lipid_ev.columns)-1, 'Source(s)', lipid_ev.pop('Source(s)'))\n",
    "\n",
    "lipid_ev.rename(columns={1:'Lipid','EXPERIMENT DESCRIPTION':'Experiment description', 'SAMPLE':'Sample',\n",
    "                        'SAMPLE SOURCE':'Sample source', 'SAMPLE NAME':'Sample name', 'IDENTIFICATIONS':'Identifications', \n",
    "                        'ISOLATION METHOD':'Isolation method', 'VESICLE TYPE':'Vesicle type', 'Methods':'Method'},inplace=True)\n",
    "\n",
    "merge_rows(lipid_ev,'Lipid','Vesicle type').to_csv(\n",
    "                edge_data_location + 'lipid-ev1018.txt', sep='\\t', index=None)"
   ]
  },
  {
   "cell_type": "markdown",
   "metadata": {},
   "source": [
    "***\n",
    "### [DirectRMDB](http://www.rnamd.org/directRMDB/index.html)\n",
    "DirectRMDB is a database of quantitative RNA modification profiles."
   ]
  },
  {
   "cell_type": "code",
   "execution_count": null,
   "metadata": {},
   "outputs": [],
   "source": [
    "# http://www.rnamd.org/directRMDB/download.html --> Homo sapiens --> ZIP button\n",
    "DirectRMDB = pd.read_csv(unprocessed_data_location+'DirectRMDB.txt', sep='\\t')\n",
    "DirectRMDB['Source(s)'] = 'DirectRMDB'\n",
    "\n",
    "DirectRMDB.drop(columns=['seqnames','start','end','width','strand','Ensembl_ID','Gene_Biotype'],inplace=True)\n",
    "DirectRMDB2 = pd.read_csv(unprocessed_data_location+'HomoSapiens_miRNA.txt', sep='\\t')\n",
    "DirectRMDB2 = DirectRMDB2[DirectRMDB2['Species'].str.contains('apiens')]\n",
    "DirectRMDB2.drop(columns=['seqnames','start','end','width','strand','Species','Region'],inplace=True)\n",
    "DirectRMDB = pd.merge(DirectRMDB, DirectRMDB2,on ='ID')\n",
    "\n",
    "# Edge properties\n",
    "print(DirectRMDB.software.unique()[:5])\n",
    "DirectRMDB.software = DirectRMDB.software.str.replace(';','|')\n",
    "print(DirectRMDB.cell_line.unique()[:5])\n",
    "DirectRMDB.cell_line = DirectRMDB.cell_line.str.replace(';','|')\n",
    "DirectRMDB.cell_line = DirectRMDB.cell_line.str.lower()\n",
    "DirectRMDB.cell_line = DirectRMDB.cell_line.str.replace(';', '|')\n",
    "DirectRMDB.cell_line = [replace_with_clo(item) for item in DirectRMDB.cell_line]\n",
    "DirectRMDB.cell_line = [replace_with_clo2(item) for item in DirectRMDB.cell_line]\n",
    "\n",
    "DirectRMDB = pd.merge(DirectRMDB, mirna_mirbase_map.rename(columns={0:'Name'}),on ='Name')\n",
    "DirectRMDB.drop(columns=['ID','Name'],inplace=True)\n",
    "DirectRMDB"
   ]
  },
  {
   "cell_type": "code",
   "execution_count": null,
   "metadata": {},
   "outputs": [],
   "source": [
    "DirectRMDB.modification.unique()"
   ]
  },
  {
   "cell_type": "code",
   "execution_count": null,
   "metadata": {},
   "outputs": [],
   "source": [
    "DirectRMDB.modification.replace({'Psi':'SO_0001373',\n",
    "'m5C': 'SO_0001918',\n",
    "'m6A': 'SO_0001920',\n",
    "'m7G':'SO_0001326',\n",
    "'AtoI': 'SO_0001274',\n",
    "'m1A': 'SO_0001295',\n",
    "'Cm': 'SO_0001283',\n",
    "'Tm': 'SO_0001382',\n",
    "'m6Am' :'SO_0001312',\n",
    "'Am': 'SO_0001298',\n",
    "'Gm': 'SO_0001327',\n",
    "'m5U': 'SO_0001344'},inplace=True)"
   ]
  },
  {
   "cell_type": "code",
   "execution_count": null,
   "metadata": {},
   "outputs": [],
   "source": [
    "DirectRMDB.rename(columns={'software':'Software', 'modification':'Modification','cell_line':'Cell line',\n",
    "                           'transcripts_info':'Transcripts info','NGS_site':'NGS site','annotation':'Annotation',\n",
    "                           'Gene_Name':'Gene name','RBP_Num':'RBP num','miRNA_Num':'miRNA num','SplicingSite_Num':'Splicing site num',\n",
    "                           'SNP_Num':'SNP num','neighbor_num':'Neighbor num','Target_RNA':'Target RNA'},inplace=True)\n",
    "DirectRMDB.drop(columns=['Symbol'],inplace=True)\n",
    "DirectRMDB.insert(len(DirectRMDB.columns)-1, 'Source(s)', DirectRMDB.pop('Source(s)'))\n",
    "DirectRMDB.insert(0, 1, DirectRMDB.pop(1))\n",
    "DirectRMDB.insert(1, 'Modification', DirectRMDB.pop('Modification'))"
   ]
  },
  {
   "cell_type": "code",
   "execution_count": null,
   "metadata": {},
   "outputs": [],
   "source": [
    "maturemiRNA_epiMod = DirectRMDB[DirectRMDB[1].str.startswith('MIMAT')]\n",
    "premiRNA_epiMod = DirectRMDB[~DirectRMDB[1].str.startswith('MIMAT')]\n",
    "merge_rows(maturemiRNA_epiMod, 1, 'Modification').rename(columns={1:'miRNA','modification':'Epigenetic modification'}).to_csv(\n",
    "    edge_data_location + 'miRNA-epiMod2434.txt', sep='\\t', index=None)\n",
    "merge_rows(premiRNA_epiMod, 1, 'Modification').rename(columns={1:'miRNA','modification':'Epigenetic modification'}).to_csv(\n",
    "    edge_data_location + 'premiRNA-epiMod2434.txt', sep='\\t', index=None)"
   ]
  },
  {
   "cell_type": "markdown",
   "metadata": {},
   "source": [
    "***\n",
    "### [Modomics](https://genesilico.pl/modomics/)\n",
    "Modomics is a database of RNA modifications that provides comprehensive information concerning the chemical structures of modified ribonucleosides, their biosynthetic pathways, the location of modified residues in RNA sequences, and RNA modifying enzymes."
   ]
  },
  {
   "cell_type": "code",
   "execution_count": null,
   "metadata": {},
   "outputs": [],
   "source": [
    "# https://genesilico.pl/modomics/diseases --> CSV button\n",
    "modomics = pd.read_csv(unprocessed_data_location+'modomics.csv')\n",
    "modomics['Source(s)'] = 'Modomics'\n",
    "modomics['Enzymes'] = modomics['Enzymes'].str.split(' ')\n",
    "modomics = modomics.explode('Enzymes')\n",
    "modomics = pd.merge(modomics, symbol_to_pro.rename(columns={0:'Enzymes'}), on='Enzymes')\n",
    "\n",
    "# Edge properties\n",
    "print(modomics['Disease Name'].unique()[:5])\n",
    "modomics['Disease Name'] = modomics['Disease Name'].str.lower()\n",
    "modomics['Disease Name'] = [replace_with_mondo(item) for item in modomics['Disease Name']]\n",
    "\n",
    "modomics.drop(columns=['Enzymes'],inplace=True)\n",
    "modomics"
   ]
  },
  {
   "cell_type": "code",
   "execution_count": null,
   "metadata": {},
   "outputs": [],
   "source": [
    "modomics.Reaction.unique()"
   ]
  },
  {
   "cell_type": "code",
   "execution_count": null,
   "metadata": {},
   "outputs": [],
   "source": [
    "modomics.Reaction.replace({'C:m5C': 'SO_0001918',\n",
    "'xX:Xm':'SO_0001353',\n",
    "'A:m6A': 'SO_0001920',\n",
    "'A:I': 'SO_0001274',\n",
    "'C:U':'SO_1000011',\n",
    "'U:Y':'SO_0001332',\n",
    "'A:m1A': 'SO_0001295'},inplace=True)\n",
    "\n",
    "modomics.insert(0, 1, modomics.pop(1))\n",
    "modomics.insert(1, 'Reaction', modomics.pop('Reaction'))\n",
    "\n",
    "merge_rows(modomics, 1, 'Reaction').rename(columns={1:'Protein', 'Reaction':'Epigenetic modification'}).to_csv(\n",
    "    edge_data_location + 'protein-epiMod2434.txt', sep='\\t', index=None)"
   ]
  },
  {
   "cell_type": "code",
   "execution_count": null,
   "metadata": {},
   "outputs": [],
   "source": [
    "# https://genesilico.pl/modomics/snornas --> CSV button\n",
    "modomics = pd.read_csv(unprocessed_data_location+'modomics2.csv')\n",
    "modomics['Source(s)'] = 'Modomics'\n",
    "modomics = modomics[modomics['Organism'].str.contains('apiens')]\n",
    "modomics = pd.merge(modomics, symbol_entrez_map.rename(columns={0:'ORF/Alternative name'}),\n",
    "                    on ='ORF/Alternative name')\n",
    "modomics['ORF/Alternative name'] = modomics['ORF/Alternative name'].astype(str).str.lower()\n",
    "modomics[1] = modomics[1].astype(str) + '?' + modomics['ORF/Alternative name'].str[0:3] + 'RNA'\n",
    "modomics['ORF/Alternative name'] = modomics['ORF/Alternative name'].str[0:3] + 'RNA'\n",
    "modomics['Modification type'].unique()"
   ]
  },
  {
   "cell_type": "code",
   "execution_count": null,
   "metadata": {},
   "outputs": [],
   "source": [
    "modomics['Modification type'].replace({'Y':'SO_0001332','Cm': 'SO_0001283','Gm':'SO_0001327',\n",
    "                                       'Am':'SO_0001298','Um':'SO_0001345'},inplace=True)\n",
    "modomics = modomics.drop(columns=['Name','Organism'])\n",
    "modomics.insert(0, 1, modomics.pop(1))\n",
    "modomics.insert(1, 'Modification type', modomics.pop('Modification type'))"
   ]
  },
  {
   "cell_type": "code",
   "execution_count": null,
   "metadata": {},
   "outputs": [],
   "source": [
    "modomics_scaRNA = modomics[modomics['ORF/Alternative name']=='scaRNA']\n",
    "modomics_snoRNA = modomics[modomics['ORF/Alternative name']=='snoRNA']\n",
    "\n",
    "merge_rows(modomics_scaRNA, 1, 'Modification type').rename(columns={1:'scaRNA', 'Modification type':'Epigenetic modification'}).to_csv(\n",
    "    edge_data_location + 'scaRNA-epiMod2434.txt', sep='\\t', index=None)\n",
    "merge_rows(modomics_snoRNA, 1, 'Modification type').rename(columns={1:'snoRNA', 'Modification type':'Epigenetic modification'}).to_csv(\n",
    "    edge_data_location + 'snoRNA-epiMod2434.txt', sep='\\t', index=None)"
   ]
  },
  {
   "cell_type": "markdown",
   "metadata": {},
   "source": [
    "***\n",
    "### [The GO resource](https://geneontology.org/) (GO annotations)\n",
    "The Gene Ontology (GO) knowledgebase is the world’s largest source of information on the functions of genes. This knowledge is both human-readable and machine-readable, and is a foundation for computational analysis of large-scale molecular biology and genetics experiments in biomedical research. "
   ]
  },
  {
   "cell_type": "code",
   "execution_count": null,
   "metadata": {},
   "outputs": [],
   "source": [
    "! wget http://current.geneontology.org/annotations/goa_human_rna.gaf.gz -P ../resources/processed_data/unprocessed_data/"
   ]
  },
  {
   "cell_type": "code",
   "execution_count": null,
   "metadata": {},
   "outputs": [],
   "source": [
    "with gzip.open(unprocessed_data_location+'goa_human_rna.gaf.gz') as f:\n",
    "    go_annotations = pd.read_csv(f, comment='!', delimiter='\\t', names=[\n",
    "        'DB', 'DB Object ID', 'DB Object Symbol', 'Qualifier', 'GO ID', 'DB:Reference (|DB:Reference)', 'Evidence Code',\n",
    "        'With (or) From', 'Aspect', 'DB Object Name', 'DB Object Synonym (|Synonym)', 'DB Object Type', 'Taxon(|taxon)',\n",
    "        'Date', 'Assigned By', 'Annotation Extension', 'Gene Product Form ID'])\n",
    "\n",
    "go_annotations.head()"
   ]
  },
  {
   "cell_type": "code",
   "execution_count": null,
   "metadata": {},
   "outputs": [],
   "source": [
    "# Relationships to be mapped to RO\n",
    "go_annotations['Qualifier'].unique()"
   ]
  },
  {
   "cell_type": "code",
   "execution_count": null,
   "metadata": {},
   "outputs": [],
   "source": [
    "go_annotations = go_annotations[(go_annotations['Qualifier'] != 'NOT|involved_in') &\n",
    "                                (go_annotations['Qualifier'] != 'NOT|located_in')]"
   ]
  },
  {
   "cell_type": "code",
   "execution_count": null,
   "metadata": {},
   "outputs": [],
   "source": [
    "go_annotations['Qualifier'] = go_annotations['Qualifier'].replace('enables', '2327') # RO_0002327\n",
    "go_annotations['Qualifier'] = go_annotations['Qualifier'].replace('involved_in', '2331')\n",
    "go_annotations['Qualifier'] = go_annotations['Qualifier'].replace('part_of', 'BFO50')\n",
    "go_annotations['Qualifier'] = go_annotations['Qualifier'].replace('located_in', '1025')\n",
    "go_annotations['Qualifier'] = go_annotations['Qualifier'].replace('acts_upstream_of', '2263')\n",
    "go_annotations['Qualifier'] = go_annotations['Qualifier'].replace('acts_upstream_of_or_within', '2264')\n",
    "go_annotations['Qualifier'] = go_annotations['Qualifier'].replace('is_active_in', '2432')\n",
    "go_annotations['Qualifier'] = go_annotations['Qualifier'].replace('acts_upstream_of_or_within_negative_effect', '4033')\n",
    "go_annotations['Qualifier'] = go_annotations['Qualifier'].replace('acts_upstream_of_negative_effect', '4035')\n",
    "go_annotations['Qualifier'] = go_annotations['Qualifier'].replace('colocalizes_with', '2325')\n",
    "go_annotations['Qualifier'] = go_annotations['Qualifier'].replace('contributes_to', '2326')"
   ]
  },
  {
   "cell_type": "code",
   "execution_count": null,
   "metadata": {},
   "outputs": [],
   "source": [
    "# Replace GO: with GO_ for storing coherent data into RNA-KG\n",
    "go_annotations['GO ID'] = go_annotations['GO ID'].str.replace('GO:', 'GO_')"
   ]
  },
  {
   "cell_type": "code",
   "execution_count": null,
   "metadata": {},
   "outputs": [],
   "source": [
    "go_annotations['Date'] = pd.to_datetime(go_annotations['Date'], format='%Y%m%d')"
   ]
  },
  {
   "cell_type": "code",
   "execution_count": null,
   "metadata": {},
   "outputs": [],
   "source": [
    "print(\"Are all 'DB Object ID' and 'DB Object Symbol' cells equal?\", all(go_annotations['DB Object ID'] == go_annotations['DB Object Symbol']))\n",
    "go_annotations = go_annotations.drop(columns=['DB Object Symbol'])"
   ]
  },
  {
   "cell_type": "code",
   "execution_count": null,
   "metadata": {},
   "outputs": [],
   "source": [
    "# Empty\n",
    "go_annotations = go_annotations.drop(columns=['Gene Product Form ID'])\n",
    "go_annotations = go_annotations.drop(columns=['DB Object Synonym (|Synonym)'])\n",
    "\n",
    "# We can remove this column since taxa will always be 9606 after mapping\n",
    "go_annotations = go_annotations.drop(columns=['Taxon(|taxon)'])\n",
    "\n",
    "# Replace '_9606' with ''\n",
    "go_annotations['DB Object ID'] = go_annotations['DB Object ID'].str.replace('_.*', '', regex=True)"
   ]
  },
  {
   "cell_type": "code",
   "execution_count": null,
   "metadata": {},
   "outputs": [],
   "source": [
    "print(\"Are all 'DB' cells equal to 'RNAcentral'?\", all(go_annotations['DB'] == 'RNAcentral'))"
   ]
  },
  {
   "cell_type": "code",
   "execution_count": null,
   "metadata": {},
   "outputs": [],
   "source": [
    "# RNA categories included in this annotation file\n",
    "go_annotations['DB Object Type'].unique()"
   ]
  },
  {
   "cell_type": "markdown",
   "metadata": {},
   "source": [
    "We can retrieve mapping from RNAcentral."
   ]
  },
  {
   "cell_type": "code",
   "execution_count": null,
   "metadata": {},
   "outputs": [],
   "source": [
    "! wget https://ftp.ebi.ac.uk/pub/databases/RNAcentral/current_release/id_mapping/id_mapping.tsv.gz -P ../resources/processed_data/unprocessed_data/"
   ]
  },
  {
   "cell_type": "code",
   "execution_count": null,
   "metadata": {},
   "outputs": [],
   "source": [
    "with gzip.open(unprocessed_data_location+'id_mapping.tsv.gz') as f:\n",
    "    rnacentral_map = pd.read_csv(f, delimiter='\\t', names=['DB', 'DB ID', 'Organism', 'RNA category', 'DB Description'])\n",
    "    \n",
    "rnacentral_map['RNAcentral ID'] = rnacentral_map.index\n",
    "rnacentral_map = rnacentral_map[rnacentral_map['Organism'] == 9606]\n",
    "rnacentral_map"
   ]
  },
  {
   "cell_type": "markdown",
   "metadata": {},
   "source": [
    "For each considered RNA category, we chose an appropriate mapping."
   ]
  },
  {
   "cell_type": "markdown",
   "metadata": {},
   "source": [
    "- lncRNA"
   ]
  },
  {
   "cell_type": "code",
   "execution_count": null,
   "metadata": {},
   "outputs": [],
   "source": [
    "rnacentral_map[rnacentral_map['RNA category'].str.contains('lncRNA')]['DB'].unique()"
   ]
  },
  {
   "cell_type": "code",
   "execution_count": null,
   "metadata": {},
   "outputs": [],
   "source": [
    "rnacentral_lncrna_map = rnacentral_map[(rnacentral_map['RNA category'].str.contains('lncRNA')) & (rnacentral_map['DB'] == 'ENSEMBL')]\n",
    "rnacentral_lncrna_map = pd.merge(rnacentral_lncrna_map, ensembl_entrezTranscript_map, left_on=['DB ID'], right_on=[1])\n",
    "rnacentral_lncrna_map = rnacentral_lncrna_map[['RNAcentral ID', 'DB ID', 0]]\n",
    "rnacentral_lncrna_map[0] = rnacentral_lncrna_map[0].astype(str) + '?lncRNA'\n",
    "rnacentral_lncrna_map"
   ]
  },
  {
   "cell_type": "code",
   "execution_count": null,
   "metadata": {},
   "outputs": [],
   "source": [
    "lncRNA_GO = pd.merge(go_annotations, rnacentral_lncrna_map,\n",
    "                     left_on=['DB Object ID'], right_on=['RNAcentral ID'])[[0, 'GO ID', 'Qualifier', 'DB ID',\n",
    "                                                                            'DB:Reference (|DB:Reference)',\n",
    "                                                                            'Evidence Code', 'Aspect',\n",
    "                                                                            'Date', 'Annotation Extension',\n",
    "                                                                            'DB']].rename(columns={0:'lncRNA', 'GO ID':'GO',\n",
    "                                                                                                   'DB ID':'Transcript', 'DB':'Source(s)'})\n",
    "lncRNA_GO.head()"
   ]
  },
  {
   "cell_type": "code",
   "execution_count": null,
   "metadata": {},
   "outputs": [],
   "source": [
    "for qualifier in lncRNA_GO['Qualifier'].unique():\n",
    "    merge_rows(lncRNA_GO[lncRNA_GO['Qualifier'] == qualifier], 'lncRNA', 'GO').drop(columns=['Qualifier']).to_csv(\n",
    "        edge_data_location + 'lncRNA-go' + qualifier + '.txt', sep='\\t', index=None)"
   ]
  },
  {
   "cell_type": "markdown",
   "metadata": {},
   "source": [
    "- snRNA"
   ]
  },
  {
   "cell_type": "code",
   "execution_count": null,
   "metadata": {},
   "outputs": [],
   "source": [
    "rnacentral_map[rnacentral_map['RNA category'].str.contains('snRNA')]['DB'].unique()"
   ]
  },
  {
   "cell_type": "code",
   "execution_count": null,
   "metadata": {},
   "outputs": [],
   "source": [
    "rnacentral_snrna_map = rnacentral_map[(rnacentral_map['RNA category'].str.contains('snRNA')) & (rnacentral_map['DB'] == 'ENSEMBL_GENCODE')]\n",
    "rnacentral_snrna_map = pd.merge(rnacentral_snrna_map, ensembl_entrezTranscript_map, left_on=['DB ID'], right_on=[1])\n",
    "rnacentral_snrna_map = rnacentral_snrna_map[['RNAcentral ID', 'DB ID', 0]]\n",
    "rnacentral_snrna_map[0] = rnacentral_snrna_map[0].astype(str) + '?snRNA'\n",
    "rnacentral_snrna_map"
   ]
  },
  {
   "cell_type": "code",
   "execution_count": null,
   "metadata": {},
   "outputs": [],
   "source": [
    "snRNA_GO = pd.merge(go_annotations, rnacentral_snrna_map,\n",
    "                     left_on=['DB Object ID'], right_on=['RNAcentral ID'])[[0, 'GO ID', 'Qualifier', 'DB ID',\n",
    "                                                                            'DB:Reference (|DB:Reference)',\n",
    "                                                                            'Evidence Code', 'Aspect',\n",
    "                                                                            'Date', 'Annotation Extension',\n",
    "                                                                            'DB']].rename(columns={0:'snRNA', 'GO ID':'GO',\n",
    "                                                                                                   'DB ID':'Transcript', 'DB':'Source(s)'})\n",
    "snRNA_GO.head()"
   ]
  },
  {
   "cell_type": "code",
   "execution_count": null,
   "metadata": {},
   "outputs": [],
   "source": [
    "for qualifier in snRNA_GO['Qualifier'].unique():\n",
    "    merge_rows(snRNA_GO[snRNA_GO['Qualifier'] == qualifier], 'snRNA', 'GO').drop(columns=['Qualifier']).to_csv(\n",
    "        edge_data_location + 'snRNA-go' + qualifier + '.txt', sep='\\t', index=None)"
   ]
  },
  {
   "cell_type": "markdown",
   "metadata": {},
   "source": [
    "- tRNA"
   ]
  },
  {
   "cell_type": "code",
   "execution_count": null,
   "metadata": {},
   "outputs": [],
   "source": [
    "rnacentral_map[rnacentral_map['RNA category'].str.contains('tRNA')]['DB'].unique()"
   ]
  },
  {
   "cell_type": "code",
   "execution_count": null,
   "metadata": {},
   "outputs": [],
   "source": [
    "rnacentral_trna_map = rnacentral_map[(rnacentral_map['RNA category'].str.contains('tRNA')) & (rnacentral_map['DB'] == 'GTRNADB')]\n",
    "rnacentral_trna_map = rnacentral_trna_map[['RNAcentral ID', 'DB Description']].drop_duplicates()\n",
    "rnacentral_trna_map['DB Description'] = rnacentral_trna_map['DB Description'].astype(str) + '.html'\n",
    "rnacentral_trna_map"
   ]
  },
  {
   "cell_type": "code",
   "execution_count": null,
   "metadata": {},
   "outputs": [],
   "source": [
    "tRNA_GO = pd.merge(go_annotations, rnacentral_trna_map,\n",
    "                   left_on=['DB Object ID'], right_on=['RNAcentral ID'])[['DB Description', 'GO ID', 'Qualifier',\n",
    "                                                                          'DB:Reference (|DB:Reference)',\n",
    "                                                                          'Evidence Code', 'Aspect',\n",
    "                                                                          'Date', 'Annotation Extension',\n",
    "                                                                          'DB']].rename(columns={'DB Description':'tRNA',\n",
    "                                                                                                 'GO ID':'GO', 'DB':'Source(s)'})\n",
    "tRNA_GO.head()"
   ]
  },
  {
   "cell_type": "code",
   "execution_count": null,
   "metadata": {},
   "outputs": [],
   "source": [
    "for qualifier in tRNA_GO['Qualifier'].unique():\n",
    "    merge_rows(tRNA_GO[tRNA_GO['Qualifier'] == qualifier], 'tRNA', 'GO').drop(columns=['Qualifier']).to_csv(\n",
    "        edge_data_location + 'tRNA-go' + qualifier + '.txt', sep='\\t', index=None)"
   ]
  },
  {
   "cell_type": "markdown",
   "metadata": {},
   "source": [
    "- rRNA"
   ]
  },
  {
   "cell_type": "code",
   "execution_count": null,
   "metadata": {},
   "outputs": [],
   "source": [
    "rnacentral_map[rnacentral_map['RNA category'].str.contains('rRNA')]['DB'].unique()"
   ]
  },
  {
   "cell_type": "code",
   "execution_count": null,
   "metadata": {},
   "outputs": [],
   "source": [
    "rnacentral_rrna_map = rnacentral_map[(rnacentral_map['RNA category'].str.contains('rRNA')) & (rnacentral_map['DB'] == 'ENSEMBL')]\n",
    "rnacentral_rrna_map = pd.merge(rnacentral_rrna_map, ensembl_entrezTranscript_map, left_on=['DB ID'], right_on=[1])\n",
    "rnacentral_rrna_map = rnacentral_rrna_map[['RNAcentral ID', 'DB ID', 0]]\n",
    "rnacentral_rrna_map[0] = rnacentral_rrna_map[0].astype(str) + '?rRNA'\n",
    "rnacentral_rrna_map.head()"
   ]
  },
  {
   "cell_type": "code",
   "execution_count": null,
   "metadata": {},
   "outputs": [],
   "source": [
    "rRNA_GO = pd.merge(go_annotations, rnacentral_rrna_map,\n",
    "                     left_on=['DB Object ID'], right_on=['RNAcentral ID'])[[0, 'GO ID', 'Qualifier', 'DB ID',\n",
    "                                                                            'DB:Reference (|DB:Reference)',\n",
    "                                                                            'Evidence Code', 'Aspect',\n",
    "                                                                            'Date', 'Annotation Extension',\n",
    "                                                                            'DB']].rename(columns={0:'rRNA', 'GO ID':'GO',\n",
    "                                                                                                   'DB ID':'Transcript', 'DB':'Source(s)'})\n",
    "rRNA_GO.head()"
   ]
  },
  {
   "cell_type": "code",
   "execution_count": null,
   "metadata": {},
   "outputs": [],
   "source": [
    "for qualifier in rRNA_GO['Qualifier'].unique():\n",
    "    merge_rows(rRNA_GO[rRNA_GO['Qualifier'] == qualifier], 'rRNA', 'GO').drop(columns=['Qualifier']).to_csv(\n",
    "        edge_data_location + 'rRNA-go' + qualifier + '.txt', sep='\\t', index=None)"
   ]
  },
  {
   "cell_type": "markdown",
   "metadata": {},
   "source": [
    "- miRNA"
   ]
  },
  {
   "cell_type": "code",
   "execution_count": null,
   "metadata": {},
   "outputs": [],
   "source": [
    "rnacentral_map[rnacentral_map['RNA category'].str.contains('miRNA')]['DB'].unique()"
   ]
  },
  {
   "cell_type": "code",
   "execution_count": null,
   "metadata": {},
   "outputs": [],
   "source": [
    "rnacentral_mirna_map = rnacentral_map[(rnacentral_map['RNA category'].str.contains('miRNA')) & (rnacentral_map['DB'] == 'MIRBASE')]\n",
    "rnacentral_mirna_map = rnacentral_mirna_map[['RNAcentral ID', 'DB ID']]\n",
    "rnacentral_mirna_map.head()"
   ]
  },
  {
   "cell_type": "code",
   "execution_count": null,
   "metadata": {},
   "outputs": [],
   "source": [
    "miRNA_GO = pd.merge(go_annotations, rnacentral_mirna_map,\n",
    "                    left_on=['DB Object ID'], right_on=['RNAcentral ID'])[['DB ID', 'GO ID', 'Qualifier', \n",
    "                                                                            'DB:Reference (|DB:Reference)',\n",
    "                                                                            'Evidence Code', 'Aspect',\n",
    "                                                                            'Date', 'Annotation Extension',\n",
    "                                                                            'DB']].rename(columns={'GO ID':'GO',\n",
    "                                                                                                   'DB ID':'miRNA', 'DB':'Source(s)'})\n",
    "miRNA_GO.head()"
   ]
  },
  {
   "cell_type": "code",
   "execution_count": null,
   "metadata": {},
   "outputs": [],
   "source": [
    "premiRNA_GO = miRNA_GO[(miRNA_GO['miRNA'].str.startswith('MI')) & (~miRNA_GO['miRNA'].str.startswith('MIMAT'))]\n",
    "maturemiRNA_GO = miRNA_GO[miRNA_GO['miRNA'].str.startswith('MIMAT')]"
   ]
  },
  {
   "cell_type": "code",
   "execution_count": null,
   "metadata": {},
   "outputs": [],
   "source": [
    "for qualifier in premiRNA_GO['Qualifier'].unique():\n",
    "    merge_rows(premiRNA_GO[premiRNA_GO['Qualifier'] == qualifier], 'miRNA', 'GO').drop(columns=['Qualifier']).to_csv(\n",
    "        edge_data_location + 'premiRNA-go' + qualifier + '.txt', sep='\\t', index=None)\n",
    "    \n",
    "for qualifier in maturemiRNA_GO['Qualifier'].unique():\n",
    "    merge_rows(maturemiRNA_GO[maturemiRNA_GO['Qualifier'] == qualifier], 'miRNA', 'GO').drop(columns=['Qualifier']).to_csv(\n",
    "        edge_data_location + 'miRNA-go' + qualifier + '.txt', sep='\\t', index=None)"
   ]
  },
  {
   "cell_type": "markdown",
   "metadata": {},
   "source": [
    "- snoRNA"
   ]
  },
  {
   "cell_type": "code",
   "execution_count": null,
   "metadata": {},
   "outputs": [],
   "source": [
    "rnacentral_map[rnacentral_map['RNA category'].str.contains('snoRNA')]['DB'].unique()"
   ]
  },
  {
   "cell_type": "code",
   "execution_count": null,
   "metadata": {},
   "outputs": [],
   "source": [
    "rnacentral_snorna_map = rnacentral_map[(rnacentral_map['RNA category'].str.contains('snoRNA')) & (rnacentral_map['DB'] == 'ENSEMBL')]\n",
    "rnacentral_snorna_map = pd.merge(rnacentral_snorna_map, ensembl_entrezTranscript_map, left_on=['DB ID'], right_on=[1])\n",
    "rnacentral_snorna_map = rnacentral_snorna_map[['RNAcentral ID', 'DB ID', 0]]\n",
    "rnacentral_snorna_map[0] = rnacentral_snorna_map[0].astype(str) + '?snoRNA'\n",
    "rnacentral_snorna_map"
   ]
  },
  {
   "cell_type": "code",
   "execution_count": null,
   "metadata": {},
   "outputs": [],
   "source": [
    "snoRNA_GO = pd.merge(go_annotations, rnacentral_snorna_map,\n",
    "                     left_on=['DB Object ID'], right_on=['RNAcentral ID'])[[0, 'GO ID', 'Qualifier', 'DB ID',\n",
    "                                                                            'DB:Reference (|DB:Reference)',\n",
    "                                                                            'Evidence Code', 'Aspect',\n",
    "                                                                            'Date', 'Annotation Extension',\n",
    "                                                                            'DB']].rename(columns={0:'snoRNA', 'GO ID':'GO',\n",
    "                                                                                                   'DB ID':'Transcript', 'DB':'Source(s)'})\n",
    "snoRNA_GO.head()"
   ]
  },
  {
   "cell_type": "code",
   "execution_count": null,
   "metadata": {},
   "outputs": [],
   "source": [
    "for qualifier in snoRNA_GO['Qualifier'].unique():\n",
    "    merge_rows(snoRNA_GO[snoRNA_GO['Qualifier'] == qualifier], 'snoRNA', 'GO').drop(columns=['Qualifier']).to_csv(\n",
    "        edge_data_location + 'snoRNA-go' + qualifier + '.txt', sep='\\t', index=None)"
   ]
  },
  {
   "cell_type": "markdown",
   "metadata": {},
   "source": [
    "- Telomerase RNA"
   ]
  },
  {
   "cell_type": "code",
   "execution_count": null,
   "metadata": {},
   "outputs": [],
   "source": [
    "rnacentral_map[rnacentral_map['RNA category'].str.contains('telomerase_RNA')]['DB'].unique()"
   ]
  },
  {
   "cell_type": "code",
   "execution_count": null,
   "metadata": {},
   "outputs": [],
   "source": [
    "go_annotations[go_annotations['DB Object Type'] == 'telomerase_RNA']['DB Object ID'].unique() "
   ]
  },
  {
   "cell_type": "markdown",
   "metadata": {},
   "source": [
    "These are all TERC transcripts."
   ]
  },
  {
   "cell_type": "code",
   "execution_count": null,
   "metadata": {},
   "outputs": [],
   "source": [
    "teloRNA_GO = go_annotations[go_annotations['DB Object Type'] == 'telomerase_RNA']\n",
    "teloRNA_GO['Telomerase RNA'] = '7012?telomerase_RNA' \n",
    "teloRNA_GO = teloRNA_GO[['Telomerase RNA', 'GO ID', 'Qualifier', 'DB:Reference (|DB:Reference)', 'Evidence Code', 'Aspect', 'Date',\n",
    "                         'Annotation Extension', 'DB']].rename(columns={'GO ID':'GO', 'DB':'Source(s)'})\n",
    "teloRNA_GO.head()"
   ]
  },
  {
   "cell_type": "code",
   "execution_count": null,
   "metadata": {},
   "outputs": [],
   "source": [
    "for qualifier in teloRNA_GO['Qualifier'].unique():\n",
    "    merge_rows(teloRNA_GO[teloRNA_GO['Qualifier'] == qualifier], 'Telomerase RNA', 'GO').drop(columns=['Qualifier']).to_csv(\n",
    "        edge_data_location + 'teloRNA-go' + qualifier + '.txt', sep='\\t', index=None)"
   ]
  },
  {
   "cell_type": "markdown",
   "metadata": {},
   "source": [
    "- SRP RNA (scRNA)"
   ]
  },
  {
   "cell_type": "code",
   "execution_count": null,
   "metadata": {},
   "outputs": [],
   "source": [
    "rnacentral_map[rnacentral_map['RNA category'].str.contains('SRP_RNA')]['DB'].unique()"
   ]
  },
  {
   "cell_type": "code",
   "execution_count": null,
   "metadata": {},
   "outputs": [],
   "source": [
    "rnacentral_srprna_map = rnacentral_map[(rnacentral_map['RNA category'].str.contains('SRP_RNA')) & (rnacentral_map['DB'] == 'ENSEMBL')]\n",
    "rnacentral_srprna_map = pd.merge(rnacentral_srprna_map, ensembl_entrezTranscript_map, left_on=['DB ID'], right_on=[1])\n",
    "rnacentral_srprna_map = rnacentral_srprna_map[['RNAcentral ID', 'DB ID', 0]]\n",
    "rnacentral_srprna_map[0] = rnacentral_srprna_map[0].astype(str) + '?scRNA'\n",
    "rnacentral_srprna_map"
   ]
  },
  {
   "cell_type": "code",
   "execution_count": null,
   "metadata": {},
   "outputs": [],
   "source": [
    "srpRNA_GO = pd.merge(go_annotations, rnacentral_srprna_map,\n",
    "                     left_on=['DB Object ID'], right_on=['RNAcentral ID'])[[0, 'GO ID', 'Qualifier', 'DB ID',\n",
    "                                                                            'DB:Reference (|DB:Reference)',\n",
    "                                                                            'Evidence Code', 'Aspect',\n",
    "                                                                            'Date', 'Annotation Extension',\n",
    "                                                                            'DB']].rename(columns={0:'scRNA', 'GO ID':'GO',\n",
    "                                                                                                   'DB ID':'Transcript', 'DB':'Source(s)'})\n",
    "srpRNA_GO.head()"
   ]
  },
  {
   "cell_type": "code",
   "execution_count": null,
   "metadata": {},
   "outputs": [],
   "source": [
    "for qualifier in srpRNA_GO['Qualifier'].unique():\n",
    "    merge_rows(srpRNA_GO[srpRNA_GO['Qualifier'] == qualifier], 'scRNA', 'GO').drop(columns=['Qualifier']).to_csv(\n",
    "        edge_data_location + 'scRNA-go' + qualifier + '.txt', sep='\\t', index=None)"
   ]
  },
  {
   "cell_type": "markdown",
   "metadata": {},
   "source": [
    "- ncRNA"
   ]
  },
  {
   "cell_type": "code",
   "execution_count": null,
   "metadata": {},
   "outputs": [],
   "source": [
    "rnacentral_map[rnacentral_map['RNA category'].str.contains('ncRNA')]['DB'].unique()"
   ]
  },
  {
   "cell_type": "code",
   "execution_count": null,
   "metadata": {},
   "outputs": [],
   "source": [
    "rnacentral_ncrna_map = rnacentral_map[(rnacentral_map['RNA category'].str.contains('ncRNA')) & (rnacentral_map['DB'] == 'ENSEMBL')]\n",
    "rnacentral_ncrna_map = pd.merge(rnacentral_ncrna_map, ensembl_entrezTranscript_map, left_on=['DB ID'], right_on=[1])\n",
    "rnacentral_ncrna_map = rnacentral_ncrna_map[['RNAcentral ID', 'DB ID', 0]]\n",
    "rnacentral_ncrna_map[0] = rnacentral_ncrna_map[0].astype(str) + '?ncRNA'\n",
    "rnacentral_ncrna_map"
   ]
  },
  {
   "cell_type": "code",
   "execution_count": null,
   "metadata": {},
   "outputs": [],
   "source": [
    "ncRNA_GO = pd.merge(go_annotations, rnacentral_ncrna_map,\n",
    "                    left_on=['DB Object ID'], right_on=['RNAcentral ID'])[[0, 'GO ID', 'Qualifier', 'DB ID',\n",
    "                                                                            'DB:Reference (|DB:Reference)',\n",
    "                                                                            'Evidence Code', 'Aspect',\n",
    "                                                                            'Date', 'Annotation Extension',\n",
    "                                                                            'DB']].rename(columns={0:'ncRNA', 'GO ID':'GO',\n",
    "                                                                                                   'DB ID':'Transcript', 'DB':'Source(s)'})\n",
    "ncRNA_GO.head()"
   ]
  },
  {
   "cell_type": "code",
   "execution_count": null,
   "metadata": {},
   "outputs": [],
   "source": [
    "for qualifier in ncRNA_GO['Qualifier'].unique():\n",
    "    merge_rows(ncRNA_GO[ncRNA_GO['Qualifier'] == qualifier], 'ncRNA', 'GO').drop(columns=['Qualifier']).to_csv(\n",
    "        edge_data_location + 'ncRNA-go' + qualifier + '.txt', sep='\\t', index=None)"
   ]
  },
  {
   "cell_type": "markdown",
   "metadata": {},
   "source": [
    "- Antisense RNA"
   ]
  },
  {
   "cell_type": "code",
   "execution_count": null,
   "metadata": {},
   "outputs": [],
   "source": [
    "rnacentral_map[rnacentral_map['RNA category'].str.contains('antisense_RNA')]['DB'].unique()"
   ]
  },
  {
   "cell_type": "code",
   "execution_count": null,
   "metadata": {},
   "outputs": [],
   "source": [
    "rnacentral_map[(rnacentral_map['RNA category'].str.contains('antisense_RNA')) & (rnacentral_map['DB'] == 'MALACARDS')]"
   ]
  },
  {
   "cell_type": "code",
   "execution_count": null,
   "metadata": {},
   "outputs": [],
   "source": [
    "rnacentral_asrna_map = rnacentral_map[(rnacentral_map['RNA category'].str.contains('antisense_RNA')) & (rnacentral_map['DB'] == 'MALACARDS')]\n",
    "rnacentral_asrna_map = pd.merge(rnacentral_asrna_map, symbol_entrez_map, left_on=['DB Description'], right_on=[0])\n",
    "rnacentral_asrna_map = rnacentral_asrna_map[['RNAcentral ID', 1]].drop_duplicates()\n",
    "rnacentral_asrna_map[1] = rnacentral_asrna_map[1].astype(str) + '?antisense_RNA'\n",
    "rnacentral_asrna_map.head()"
   ]
  },
  {
   "cell_type": "code",
   "execution_count": null,
   "metadata": {},
   "outputs": [],
   "source": [
    "asRNA_GO = pd.merge(go_annotations, rnacentral_asrna_map,\n",
    "                    left_on=['DB Object ID'], right_on=['RNAcentral ID'])[[1, 'GO ID', 'Qualifier', \n",
    "                                                                            'DB:Reference (|DB:Reference)',\n",
    "                                                                            'Evidence Code', 'Aspect',\n",
    "                                                                            'Date', 'Annotation Extension',\n",
    "                                                                            'DB']].rename(columns={1:'Antisense RNA', 'GO ID':'GO',\n",
    "                                                                                                   'DB':'Source(s)'})\n",
    "asRNA_GO.head()"
   ]
  },
  {
   "cell_type": "code",
   "execution_count": null,
   "metadata": {},
   "outputs": [],
   "source": [
    "for qualifier in asRNA_GO['Qualifier'].unique():\n",
    "    merge_rows(asRNA_GO[asRNA_GO['Qualifier'] == qualifier], 'Antisense RNA', 'GO').drop(columns=['Qualifier']).to_csv(\n",
    "        edge_data_location + 'antisenseRNA-go' + qualifier + '.txt', sep='\\t', index=None)"
   ]
  },
  {
   "cell_type": "markdown",
   "metadata": {},
   "source": [
    "- Guide RNA (scaRNA)"
   ]
  },
  {
   "cell_type": "code",
   "execution_count": null,
   "metadata": {},
   "outputs": [],
   "source": [
    "go_annotations[go_annotations['DB Object Type'] == 'guide_RNA']"
   ]
  },
  {
   "cell_type": "markdown",
   "metadata": {},
   "source": [
    "URS000010BCCA is a scaRNA."
   ]
  },
  {
   "cell_type": "code",
   "execution_count": null,
   "metadata": {},
   "outputs": [],
   "source": [
    "gRNA_GO = go_annotations[go_annotations['DB Object Type'] == 'guide_RNA']\n",
    "gRNA_GO['scaRNA'] = '619383?scaRNA'\n",
    "gRNA_GO = gRNA_GO[['scaRNA', 'GO ID', 'Qualifier', 'DB:Reference (|DB:Reference)', 'Evidence Code', 'Aspect', 'Date',\n",
    "                   'Annotation Extension', 'DB']].rename(columns={'GO ID':'GO', 'DB':'Source(s)'})\n",
    "gRNA_GO.head()"
   ]
  },
  {
   "cell_type": "code",
   "execution_count": null,
   "metadata": {},
   "outputs": [],
   "source": [
    "for qualifier in gRNA_GO['Qualifier'].unique():\n",
    "    merge_rows(gRNA_GO[gRNA_GO['Qualifier'] == qualifier], 'scaRNA', 'GO').drop(columns=['Qualifier']).to_csv(\n",
    "        edge_data_location + 'scaRNA-go' + qualifier + '.txt', sep='\\t', index=None)"
   ]
  },
  {
   "cell_type": "markdown",
   "metadata": {},
   "source": [
    "- RNase P RNA"
   ]
  },
  {
   "cell_type": "code",
   "execution_count": null,
   "metadata": {},
   "outputs": [],
   "source": [
    "go_annotations[go_annotations['DB Object Type'] == 'RNase_P_RNA']['DB Object ID'].unique()"
   ]
  },
  {
   "cell_type": "code",
   "execution_count": null,
   "metadata": {},
   "outputs": [],
   "source": [
    "RNAseP_GO = go_annotations[go_annotations['DB Object Type'] == 'RNase_P_RNA']\n",
    "RNAseP_GO['RNAseP RNA'] = ['4878?RNAseP_RNA','4878?RNAseP_RNA','4878?RNAseP_RNA',\n",
    "                           '4878?RNAseP_RNA','4878?RNAseP_RNA','4878?RNAseP_RNA',\n",
    "                           '4878?RNAseP_RNA','4878?RNAseP_RNA','4878?RNAseP_RNA',\n",
    "                            np.nan,np.nan,np.nan]#-->  MN297223 gene \n",
    "RNAseP_GO = RNAseP_GO[['RNAseP RNA', 'GO ID', 'Qualifier', 'DB:Reference (|DB:Reference)', 'Evidence Code', 'Aspect', 'Date',\n",
    "                   'Annotation Extension', 'DB']].rename(columns={'GO ID':'GO', 'DB':'Source(s)'})\n",
    "RNAseP_GO.head()"
   ]
  },
  {
   "cell_type": "code",
   "execution_count": null,
   "metadata": {},
   "outputs": [],
   "source": [
    "for qualifier in RNAseP_GO['Qualifier'].unique():\n",
    "    merge_rows(RNAseP_GO[RNAseP_GO['Qualifier'] == qualifier], 'RNAseP RNA', 'GO').drop(columns=['Qualifier']).to_csv(\n",
    "        edge_data_location + 'RNAseP-go' + qualifier + '.txt', sep='\\t', index=None)"
   ]
  },
  {
   "cell_type": "markdown",
   "metadata": {},
   "source": [
    "- RNase MRP RNA"
   ]
  },
  {
   "cell_type": "code",
   "execution_count": null,
   "metadata": {},
   "outputs": [],
   "source": [
    "go_annotations[go_annotations['DB Object Type'] == 'RNase_MRP_RNA']['DB Object ID'].unique()"
   ]
  },
  {
   "cell_type": "code",
   "execution_count": null,
   "metadata": {},
   "outputs": [],
   "source": [
    "RNAseMRP_GO = go_annotations[go_annotations['DB Object Type'] == 'RNase_MRP_RNA']\n",
    "RNAseMRP_GO['RNAseMRP RNA'] = ['6023?RNAseMRP_RNA' if x != 'URS0001A04CEF' else np.nan for x in RNAseMRP_GO['DB Object ID']]\n",
    "\n",
    "RNAseMRP_GO = RNAseMRP_GO[['RNAseMRP RNA', 'GO ID', 'Qualifier', 'DB:Reference (|DB:Reference)', 'Evidence Code', 'Aspect', 'Date',\n",
    "                   'Annotation Extension', 'DB']].rename(columns={'GO ID':'GO', 'DB':'Source(s)'})\n",
    "RNAseMRP_GO.head()"
   ]
  },
  {
   "cell_type": "code",
   "execution_count": null,
   "metadata": {},
   "outputs": [],
   "source": [
    "for qualifier in RNAseMRP_GO['Qualifier'].unique():\n",
    "    merge_rows(RNAseMRP_GO[RNAseMRP_GO['Qualifier'] == qualifier], 'RNAseMRP RNA', 'GO').drop(columns=['Qualifier']).to_csv(\n",
    "        edge_data_location + 'RNAseMRP-go' + qualifier + '.txt', sep='\\t', index=None)"
   ]
  },
  {
   "cell_type": "markdown",
   "metadata": {},
   "source": [
    "- piRNA"
   ]
  },
  {
   "cell_type": "code",
   "execution_count": null,
   "metadata": {},
   "outputs": [],
   "source": [
    "go_annotations[go_annotations['DB Object Type'] == 'piRNA']['DB Object ID'].unique()"
   ]
  },
  {
   "cell_type": "code",
   "execution_count": null,
   "metadata": {},
   "outputs": [],
   "source": [
    "RNAsepiRNA_GO = go_annotations[go_annotations['DB Object Type'] == 'piRNA']\n",
    "RNAsepiRNA_GO['piRNA'] = ['piR-43176','piR-43176']\n",
    "\n",
    "RNAsepiRNA_GO = RNAsepiRNA_GO[['piRNA', 'GO ID', 'Qualifier', 'DB:Reference (|DB:Reference)', 'Evidence Code', 'Aspect', 'Date',\n",
    "                   'Annotation Extension', 'DB']].rename(columns={'GO ID':'GO', 'DB':'Source(s)'})\n",
    "\n",
    "RNAsepiRNA_GO['piRNA'] = RNAsepiRNA_GO['piRNA'].str.replace('piR-', 'piR-hsa-')\n",
    "\n",
    "RNAsepiRNA_GO.head()"
   ]
  },
  {
   "cell_type": "code",
   "execution_count": null,
   "metadata": {},
   "outputs": [],
   "source": [
    "for qualifier in RNAsepiRNA_GO['Qualifier'].unique():\n",
    "    merge_rows(RNAsepiRNA_GO[RNAsepiRNA_GO['Qualifier'] == qualifier], 'piRNA', 'GO').drop(columns=['Qualifier']).to_csv(\n",
    "        edge_data_location + '../resources/edge_data/inteRNA-KG_edges/piRNA-go' + qualifier + '.txt', sep='\\t', index=None)"
   ]
  },
  {
   "cell_type": "markdown",
   "metadata": {},
   "source": [
    "- (Hammerhead) ribozyme"
   ]
  },
  {
   "cell_type": "code",
   "execution_count": null,
   "metadata": {},
   "outputs": [],
   "source": [
    "go_annotations[go_annotations['DB Object Type'] == 'hammerhead_ribozyme']['DB Object ID'].unique()"
   ]
  },
  {
   "cell_type": "code",
   "execution_count": null,
   "metadata": {},
   "outputs": [],
   "source": [
    "RNAhr_GO = go_annotations[go_annotations['DB Object Type'] == 'hammerhead_ribozyme']\n",
    "RNAhr_GO['Ribozyme'] = ['family/RF02277' if x != 'URS000069F811' else 'family/RF02275' for x in RNAhr_GO['DB Object ID']]\n",
    "\n",
    "RNAhr_GO = RNAhr_GO[['Ribozyme', 'GO ID', 'Qualifier', 'DB:Reference (|DB:Reference)', 'Evidence Code', 'Aspect', 'Date',\n",
    "                   'Annotation Extension', 'DB']].rename(columns={'GO ID':'GO', 'DB':'Source(s)'})\n",
    "RNAhr_GO.head()"
   ]
  },
  {
   "cell_type": "code",
   "execution_count": null,
   "metadata": {},
   "outputs": [],
   "source": [
    "go_annotations[go_annotations['DB Object Type'] == 'ribozyme']['DB Object ID'].unique()"
   ]
  },
  {
   "cell_type": "code",
   "execution_count": null,
   "metadata": {},
   "outputs": [],
   "source": [
    "RNAribozyme_GO = go_annotations[go_annotations['DB Object Type'] == 'ribozyme']\n",
    "RNAribozyme_GO['Ribozyme'] = ['family/RF02679' if x != 'URS0002328E23' else 'family/RF04188' for x in RNAribozyme_GO['DB Object ID']]\n",
    "\n",
    "RNAribozyme_GO = RNAribozyme_GO[['Ribozyme', 'GO ID', 'Qualifier', 'DB:Reference (|DB:Reference)', 'Evidence Code', 'Aspect', 'Date',\n",
    "                   'Annotation Extension', 'DB']].rename(columns={'GO ID':'GO', 'DB':'Source(s)'})\n",
    "RNAribozyme_GO.head()"
   ]
  },
  {
   "cell_type": "code",
   "execution_count": null,
   "metadata": {},
   "outputs": [],
   "source": [
    "RNAribozyme_GO = pd.concat([RNAribozyme_GO, RNAhr_GO]).drop_duplicates()"
   ]
  },
  {
   "cell_type": "code",
   "execution_count": null,
   "metadata": {},
   "outputs": [],
   "source": [
    "for qualifier in RNAribozyme_GO['Qualifier'].unique():\n",
    "    merge_rows(RNAribozyme_GO[RNAribozyme_GO['Qualifier'] == qualifier], 'Ribozyme', 'GO').drop(columns=['Qualifier']).to_csv(\n",
    "        edge_data_location + 'ribozyme-go' + qualifier + '.txt', sep='\\t', index=None)"
   ]
  },
  {
   "cell_type": "markdown",
   "metadata": {},
   "source": [
    "***\n",
    "## Integrate inteRNA-KG edges into RNA-KG\n",
    "The following steps merge edge properties within RNA-KG and inteRNA-KG."
   ]
  },
  {
   "cell_type": "raw",
   "metadata": {},
   "source": [
    "Within edge data location, files are stored following this pattern: x-yrel1.txt\n",
    "inteRNA-KG edge data location --> z-wrel2.txt\n",
    "df1 = x | y | rel1\n",
    "df2 = z | w | rel2\n",
    "check if (x == z and y == w and rel1=rel2) or (y == z and x == w and rel1=rel2)"
   ]
  },
  {
   "cell_type": "code",
   "execution_count": null,
   "metadata": {},
   "outputs": [],
   "source": [
    "edge = os.listdir(KG_edge_data_location)\n",
    "df_edge = pd.DataFrame()\n",
    "\n",
    "for file in edge:\n",
    "    if file.endswith('.txt'): # remove '.ipynb_checkpoints', 'HDMM_edges'  and 'inteRNA-KG_edges' from list\n",
    "        parts = file.split(\"-\")\n",
    "        x, y = parts[0].lower().replace('pseudo','pseudogene').replace('genegene','gene'), parts[1].replace('.txt','').lower().replace('pseudo','pseudogene').replace('genegene','gene')\n",
    "        df_edge = pd.concat([df_edge, pd.DataFrame({'Interactor1 ID': [x], 'Interactor2 ID': [y]})])\n",
    "\n",
    "df_edge['Relation (RO ID)'] = df_edge['Interactor2 ID'].str.extract(r'(\\d+)$')\n",
    "df_edge['Interactor2 ID'] = df_edge['Interactor2 ID'].str.replace(r'(\\d+)$', '', regex=True)\n",
    "\n",
    "inter_edge = os.listdir(edge_data_location)\n",
    "df_inter_edge = pd.DataFrame()\n",
    "    \n",
    "for file in inter_edge:\n",
    "    parts = file.split(\"-\")\n",
    "    z, w = parts[0].lower().replace('pseudo','pseudogene').replace('genegene','gene'), parts[1].replace('.txt','').lower().replace('pseudo','pseudogene').replace('genegene','gene')\n",
    "    df_inter_edge = pd.concat([df_inter_edge, pd.DataFrame({'Interactor1 ID': [z], 'Interactor2 ID': [w]})])\n",
    "\n",
    "df_inter_edge['Relation (RO ID)'] = df_inter_edge['Interactor2 ID'].str.extract(r'(\\d+)$')\n",
    "df_inter_edge['Interactor2 ID'] = df_inter_edge['Interactor2 ID'].str.replace(r'(\\d+)$', '', regex=True)\n",
    "\n",
    "intersection = pd.merge(df_inter_edge, df_edge, on=['Interactor1 ID', 'Interactor2 ID', 'Relation (RO ID)'])\n",
    "df_inter_edge.rename(columns={'Interactor1 ID': 'Interactor2 ID', 'Interactor2 ID': 'Interactor1 ID'}, inplace=True)\n",
    "intersection2 = pd.merge(df_inter_edge, df_edge, on=['Interactor1 ID', 'Interactor2 ID', 'Relation (RO ID)'])\n",
    "pd.concat([intersection, intersection2]).sort_values(by=['Relation (RO ID)']).reset_index(drop=True)"
   ]
  },
  {
   "cell_type": "code",
   "execution_count": null,
   "metadata": {},
   "outputs": [],
   "source": [
    "a = pd.read_csv(edge_data_location+'lncRNA-mRNA2434.txt', sep='\\t')\n",
    "b = pd.read_csv(KG_edge_data_location+'lncRNA-mRNA2434.txt', sep='\\t')\n",
    "c = pd.merge(a, b, how='outer', on=['lncRNA','mRNA'])\n",
    "c['Source(s)_x'] = c['Source(s)_x'].astype(str)\n",
    "c['Source(s)_y'] = c['Source(s)_y'].astype(str)\n",
    "c['Source(s)'] = c['Source(s)_x'] + '|' + c['Source(s)_y']\n",
    "c = c.drop(columns=['Source(s)_x', 'Source(s)_y'])\n",
    "c['Source(s)'] = c['Source(s)'].str.replace('nan\\||\\|nan', '', regex=True)\n",
    "merge_rows(c,'lncRNA','mRNA').to_csv(KG_edge_data_location + 'lncRNA-mRNA2434.txt', sep='\\t', index=None)\n",
    "os.remove(edge_data_location+'lncRNA-mRNA2434.txt')"
   ]
  },
  {
   "cell_type": "code",
   "execution_count": null,
   "metadata": {},
   "outputs": [],
   "source": [
    "a = pd.read_csv(edge_data_location+'premiRNA-chemical2434.txt', sep='\\t')\n",
    "b = pd.read_csv(KG_edge_data_location+'chemical-premiRNA2434.txt', sep='\\t')\n",
    "c = pd.merge(a, b, how='outer', on=['Chemical','miRNA'])\n",
    "c['Source(s)_x'] = c['Source(s)_x'].astype(str)\n",
    "c['Source(s)_y'] = c['Source(s)_y'].astype(str)\n",
    "c['Source(s)'] = c['Source(s)_x'] + '|' + c['Source(s)_y']\n",
    "c = c.drop(columns=['Source(s)_x', 'Source(s)_y'])\n",
    "c['Source(s)'] = c['Source(s)'].str.replace('nan\\||\\|nan', '', regex=True)\n",
    "merge_rows(c,'Chemical','miRNA').to_csv(KG_edge_data_location + 'chemical-premiRNA2434.txt', sep='\\t', index=None)\n",
    "os.remove(edge_data_location+'premiRNA-chemical2434.txt')"
   ]
  },
  {
   "cell_type": "code",
   "execution_count": null,
   "metadata": {},
   "outputs": [],
   "source": [
    "a = pd.read_csv(edge_data_location+'miRNA-snoRNA2434.txt', sep='\\t')\n",
    "b = pd.read_csv(KG_edge_data_location+'snoRNA-miRNA2434.txt', sep='\\t')\n",
    "c = pd.merge(a, b, how='outer', on=['snoRNA','miRNA'])\n",
    "c['Source(s)_x'] = c['Source(s)_x'].astype(str)\n",
    "c['Source(s)_y'] = c['Source(s)_y'].astype(str)\n",
    "c['Source(s)'] = c['Source(s)_x'] + '|' + c['Source(s)_y']\n",
    "c = c.drop(columns=['Source(s)_x', 'Source(s)_y'])\n",
    "c['Source(s)'] = c['Source(s)'].str.replace('nan\\||\\|nan', '', regex=True)\n",
    "merge_rows(c,'snoRNA','miRNA').to_csv(KG_edge_data_location + 'snoRNA-miRNA2434.txt', sep='\\t', index=None)\n",
    "os.remove(edge_data_location+'miRNA-snoRNA2434.txt')"
   ]
  },
  {
   "cell_type": "code",
   "execution_count": null,
   "metadata": {},
   "outputs": [],
   "source": [
    "a = pd.read_csv(edge_data_location+'miRNA-chemical2434.txt', sep='\\t')\n",
    "b = pd.read_csv(KG_edge_data_location+'chemical-miRNA2434.txt', sep='\\t')\n",
    "c = pd.merge(a, b, how='outer', on=['Chemical','miRNA'])\n",
    "c['Source(s)_x'] = c['Source(s)_x'].astype(str)\n",
    "c['Source(s)_y'] = c['Source(s)_y'].astype(str)\n",
    "c['Source(s)'] = c['Source(s)_x'] + '|' + c['Source(s)_y']\n",
    "c = c.drop(columns=['Source(s)_x', 'Source(s)_y'])\n",
    "c['Source(s)'] = c['Source(s)'].str.replace('nan\\||\\|nan', '', regex=True)\n",
    "merge_rows(c,'Chemical','miRNA').to_csv(KG_edge_data_location + 'chemical-miRNA2434.txt', sep='\\t', index=None)\n",
    "os.remove(edge_data_location+'miRNA-chemical2434.txt')"
   ]
  },
  {
   "cell_type": "code",
   "execution_count": null,
   "metadata": {},
   "outputs": [],
   "source": [
    "a = pd.read_csv(edge_data_location+'lncRNA-gene2434.txt', sep='\\t')\n",
    "b = pd.read_csv(KG_edge_data_location+'lncRNA-gene2434.txt', sep='\\t')\n",
    "c = pd.merge(a, b, how='outer', on=['lncRNA','Gene'])\n",
    "c['Source(s)_x'] = c['Source(s)_x'].astype(str)\n",
    "c['Source(s)_y'] = c['Source(s)_y'].astype(str)\n",
    "c['Source(s)'] = c['Source(s)_x'] + '|' + c['Source(s)_y']\n",
    "c = c.drop(columns=['Source(s)_x', 'Source(s)_y'])\n",
    "c['Source(s)'] = c['Source(s)'].str.replace('nan\\||\\|nan', '', regex=True)\n",
    "merge_rows(c,'lncRNA','Gene').to_csv(KG_edge_data_location + 'lncRNA-gene2434.txt', sep='\\t', index=None)\n",
    "os.remove(edge_data_location+'lncRNA-gene2434.txt')"
   ]
  },
  {
   "cell_type": "code",
   "execution_count": null,
   "metadata": {},
   "outputs": [],
   "source": [
    "a = pd.read_csv(edge_data_location+'premiRNA-epiMod2434.txt', sep='\\t').rename(columns={'Modification':'Epigenetic modification'})\n",
    "b = pd.read_csv(KG_edge_data_location+'premiRNA-epiModclass2434.txt', sep='\\t')\n",
    "pd.concat([a,b]).to_csv(KG_edge_data_location + 'premiRNA-epiModclass2434.txt', sep='\\t', index=None)\n",
    "os.remove(edge_data_location+'premiRNA-epiMod2434.txt')"
   ]
  },
  {
   "cell_type": "code",
   "execution_count": null,
   "metadata": {},
   "outputs": [],
   "source": [
    "a = pd.read_csv(edge_data_location+'miRNA-epiMod2434.txt', sep='\\t').rename(columns={'Modification':'Epigenetic modification'})\n",
    "b = pd.read_csv(KG_edge_data_location+'miRNA-epiModclass2434.txt', sep='\\t')\n",
    "pd.concat([a,b]).to_csv(KG_edge_data_location + 'miRNA-epiModclass2434.txt', sep='\\t', index=None)\n",
    "os.remove(edge_data_location+'miRNA-epiMod2434.txt')"
   ]
  },
  {
   "cell_type": "code",
   "execution_count": null,
   "metadata": {},
   "outputs": [],
   "source": [
    "a = pd.read_csv(edge_data_location+'snRNA-snoRNA2434.txt', sep='\\t')\n",
    "b = pd.read_csv(KG_edge_data_location+'snoRNA-snRNA2434.txt', sep='\\t')\n",
    "c = pd.merge(a, b, how='outer', on=['snoRNA','snRNA'])\n",
    "c['Source(s)_x'] = c['Source(s)_x'].astype(str)\n",
    "c['Source(s)_y'] = c['Source(s)_y'].astype(str)\n",
    "c['Source(s)'] = c['Source(s)_x'] + '|' + c['Source(s)_y']\n",
    "c = c.drop(columns=['Source(s)_x', 'Source(s)_y'])\n",
    "c['Source(s)'] = c['Source(s)'].str.replace('nan\\||\\|nan', '', regex=True)\n",
    "merge_rows(c,'snoRNA','snRNA').to_csv(KG_edge_data_location + 'snoRNA-snRNA2434.txt', sep='\\t', index=None)\n",
    "os.remove(edge_data_location+'snRNA-snoRNA2434.txt')"
   ]
  },
  {
   "cell_type": "code",
   "execution_count": null,
   "metadata": {},
   "outputs": [],
   "source": [
    "a = pd.read_csv(edge_data_location+'snoRNA-lncRNA2434.txt', sep='\\t')\n",
    "b = pd.read_csv(KG_edge_data_location+'snoRNA-lncRNA2434.txt', sep='\\t')\n",
    "c = pd.merge(a, b, how='outer', on=['snoRNA','lncRNA'])\n",
    "c['Source(s)_x'] = c['Source(s)_x'].astype(str)\n",
    "c['Source(s)_y'] = c['Source(s)_y'].astype(str)\n",
    "c['Source(s)'] = c['Source(s)_x'] + '|' + c['Source(s)_y']\n",
    "c = c.drop(columns=['Source(s)_x', 'Source(s)_y'])\n",
    "c['Source(s)'] = c['Source(s)'].str.replace('nan\\||\\|nan', '', regex=True)\n",
    "merge_rows(c,'snoRNA','lncRNA').to_csv(KG_edge_data_location + 'snoRNA-lncRNA2434.txt', sep='\\t', index=None)\n",
    "os.remove(edge_data_location+'snRNA-lncRNA2434.txt')"
   ]
  },
  {
   "cell_type": "code",
   "execution_count": null,
   "metadata": {},
   "outputs": [],
   "source": [
    "a = pd.read_csv(edge_data_location+'lncRNA-chemical2434.txt', sep='\\t')\n",
    "b = pd.read_csv(KG_edge_data_location+'lncRNA-chemical2434.txt', sep='\\t')\n",
    "c = pd.merge(a, b, how='outer', on=['lncRNA','Chemical'])\n",
    "c['Source(s)_x'] = c['Source(s)_x'].astype(str)\n",
    "c['Source(s)_y'] = c['Source(s)_y'].astype(str)\n",
    "c['Source(s)'] = c['Source(s)_x'] + '|' + c['Source(s)_y']\n",
    "c = c.drop(columns=['Source(s)_x', 'Source(s)_y'])\n",
    "c['Source(s)'] = c['Source(s)'].str.replace('nan\\||\\|nan', '', regex=True)\n",
    "merge_rows(c,'lncRNA','Chemical').to_csv(KG_edge_data_location + 'lncRNA-chemical2434.txt', sep='\\t', index=None)\n",
    "os.remove(edge_data_location+'lncRNA-chemical2434.txt')"
   ]
  },
  {
   "cell_type": "code",
   "execution_count": null,
   "metadata": {},
   "outputs": [],
   "source": [
    "a = pd.read_csv(edge_data_location+'snoRNA-mRNA2434.txt', sep='\\t')\n",
    "b = pd.read_csv(KG_edge_data_location+'snoRNA-mRNA2434.txt', sep='\\t')\n",
    "c = pd.merge(a, b, how='outer', on=['snoRNA','mRNA'])\n",
    "c['Source(s)_x'] = c['Source(s)_x'].astype(str)\n",
    "c['Source(s)_y'] = c['Source(s)_y'].astype(str)\n",
    "c['Source(s)'] = c['Source(s)_x'] + '|' + c['Source(s)_y']\n",
    "c = c.drop(columns=['Source(s)_x', 'Source(s)_y'])\n",
    "c['Source(s)'] = c['Source(s)'].str.replace('nan\\||\\|nan', '', regex=True)\n",
    "merge_rows(c,'snoRNA','mRNA').to_csv(KG_edge_data_location + 'snoRNA-mRNA2434.txt', sep='\\t', index=None)\n",
    "os.remove(edge_data_location+'snoRNA-mRNA2434.txt')"
   ]
  },
  {
   "cell_type": "code",
   "execution_count": null,
   "metadata": {},
   "outputs": [],
   "source": [
    "a = pd.read_csv(edge_data_location+'snoRNA-pseudogene2434.txt', sep='\\t')\n",
    "b = pd.read_csv(KG_edge_data_location+'snoRNA-pseudogene2434.txt', sep='\\t')\n",
    "c = pd.merge(a, b, how='outer', on=['snoRNA','Pseudogene'])\n",
    "c['Source(s)_x'] = c['Source(s)_x'].astype(str)\n",
    "c['Source(s)_y'] = c['Source(s)_y'].astype(str)\n",
    "c['Source(s)'] = c['Source(s)_x'] + '|' + c['Source(s)_y']\n",
    "c = c.drop(columns=['Source(s)_x', 'Source(s)_y'])\n",
    "c['Source(s)'] = c['Source(s)'].str.replace('nan\\||\\|nan', '', regex=True)\n",
    "merge_rows(c,'snoRNA','Pseudogene').to_csv(KG_edge_data_location + 'snoRNA-pseudogene2434.txt', sep='\\t', index=None)\n",
    "os.remove(edge_data_location+'snoRNA-pseudogene2434.txt')"
   ]
  },
  {
   "cell_type": "code",
   "execution_count": null,
   "metadata": {},
   "outputs": [],
   "source": [
    "a = pd.read_csv(edge_data_location+'miRNA-lncRNA2434.txt', sep='\\t')\n",
    "b = pd.read_csv(KG_edge_data_location+'miRNA-lncRNA2434.txt', sep='\\t')\n",
    "c = pd.merge(a, b, how='outer', on=['miRNA','lncRNA'])\n",
    "c['Source(s)_x'] = c['Source(s)_x'].astype(str)\n",
    "c['Source(s)_y'] = c['Source(s)_y'].astype(str)\n",
    "c['Source(s)'] = c['Source(s)_x'] + '|' + c['Source(s)_y']\n",
    "c = c.drop(columns=['Source(s)_x', 'Source(s)_y'])\n",
    "c['Source(s)'] = c['Source(s)'].str.replace('nan\\||\\|nan', '', regex=True)\n",
    "merge_rows(c,'miRNA','lncRNA').to_csv(KG_edge_data_location + 'miRNA-lncRNA2434.txt', sep='\\t', index=None)\n",
    "os.remove(edge_data_location+'miRNA-lncRNA2434.txt')"
   ]
  },
  {
   "cell_type": "code",
   "execution_count": null,
   "metadata": {},
   "outputs": [],
   "source": [
    "a = pd.read_csv(edge_data_location+'premiRNA-lncRNA2434.txt', sep='\\t')\n",
    "b = pd.read_csv(KG_edge_data_location+'premiRNA-lncRNA2434.txt', sep='\\t')\n",
    "c = pd.merge(a, b, how='outer', on=['miRNA','lncRNA'])\n",
    "c['Source(s)_x'] = c['Source(s)_x'].astype(str)\n",
    "c['Source(s)_y'] = c['Source(s)_y'].astype(str)\n",
    "c['Source(s)'] = c['Source(s)_x'] + '|' + c['Source(s)_y']\n",
    "c = c.drop(columns=['Source(s)_x', 'Source(s)_y'])\n",
    "c['Source(s)'] = c['Source(s)'].str.replace('nan\\||\\|nan', '', regex=True)\n",
    "merge_rows(c,'miRNA','lncRNA').to_csv(KG_edge_data_location + 'premiRNA-lncRNA2434.txt', sep='\\t', index=None)\n",
    "os.remove(edge_data_location+'premiRNA-lncRNA2434.txt')"
   ]
  },
  {
   "cell_type": "code",
   "execution_count": null,
   "metadata": {},
   "outputs": [],
   "source": [
    "a = pd.read_csv(edge_data_location+'lncRNA-protein2434.txt', sep='\\t')\n",
    "b = pd.read_csv(KG_edge_data_location+'lncRNA-protein2434.txt', sep='\\t')\n",
    "c = pd.merge(a, b, how='outer', on=['lncRNA','Protein'])\n",
    "c['Source(s)_x'] = c['Source(s)_x'].astype(str)\n",
    "c['Source(s)_y'] = c['Source(s)_y'].astype(str)\n",
    "c['Source(s)'] = c['Source(s)_x'] + '|' + c['Source(s)_y']\n",
    "c = c.drop(columns=['Source(s)_x', 'Source(s)_y'])\n",
    "c['Source(s)'] = c['Source(s)'].str.replace('nan\\||\\|nan', '', regex=True)\n",
    "merge_rows(c,'lncRNA','Protein').to_csv(KG_edge_data_location + 'lncRNA-protein2434.txt', sep='\\t', index=None)\n",
    "os.remove(edge_data_location+'lncRNA-protein2434.txt')"
   ]
  },
  {
   "cell_type": "code",
   "execution_count": null,
   "metadata": {},
   "outputs": [],
   "source": [
    "a = pd.read_csv(edge_data_location+'miRNA-circRNA2434.txt', sep='\\t')\n",
    "b = pd.read_csv(KG_edge_data_location+'circRNA-miRNA2434.txt', sep='\\t')\n",
    "c = pd.merge(a, b, how='outer', on=['circRNA','miRNA'])\n",
    "c['Source(s)_x'] = c['Source(s)_x'].astype(str)\n",
    "c['Source(s)_y'] = c['Source(s)_y'].astype(str)\n",
    "c['Source(s)'] = c['Source(s)_x'] + '|' + c['Source(s)_y']\n",
    "c = c.drop(columns=['Source(s)_x', 'Source(s)_y'])\n",
    "c['Source(s)'] = c['Source(s)'].str.replace('nan\\||\\|nan', '', regex=True)\n",
    "merge_rows(c,'circRNA','miRNA').to_csv(KG_edge_data_location + 'circRNA-miRNA2434.txt', sep='\\t', index=None)\n",
    "os.remove(edge_data_location+'miRNA-circRNA2434.txt')"
   ]
  },
  {
   "cell_type": "code",
   "execution_count": null,
   "metadata": {},
   "outputs": [],
   "source": [
    "a = pd.read_csv(edge_data_location+'lncRNA-disease3302.txt', sep='\\t')\n",
    "b = pd.read_csv(KG_edge_data_location+'lncRNA-disease3302.txt', sep='\\t')\n",
    "c = pd.merge(a, b, how='outer', on=['lncRNA','Disease'])\n",
    "c['Source(s)_x'] = c['Source(s)_x'].astype(str)\n",
    "c['Source(s)_y'] = c['Source(s)_y'].astype(str)\n",
    "c['Source(s)'] = c['Source(s)_x'] + '|' + c['Source(s)_y']\n",
    "c = c.drop(columns=['Source(s)_x', 'Source(s)_y'])\n",
    "c['Source(s)'] = c['Source(s)'].str.replace('nan\\||\\|nan', '', regex=True)\n",
    "c['References (PMID)_x'] = c['References (PMID)_x'].astype(str)\n",
    "c['References (PMID)_y'] = c['References (PMID)_y'].astype(str)\n",
    "c['References (PMID)'] = c['References (PMID)_x'] + '|' + c['References (PMID)_y']\n",
    "c = c.drop(columns=['References (PMID)_x', 'References (PMID)_y'])\n",
    "c['References (PMID)'] = c['References (PMID)'].str.replace('nan\\||\\|nan', '', regex=True)\n",
    "merge_rows(c,'lncRNA','Disease').to_csv(KG_edge_data_location + 'lncRNA-disease3302.txt', sep='\\t', index=None)\n",
    "os.remove(edge_data_location+'lncRNA-disease3302.txt')"
   ]
  },
  {
   "cell_type": "code",
   "execution_count": null,
   "metadata": {},
   "outputs": [],
   "source": [
    "a = pd.read_csv(edge_data_location+'premiRNA-disease3302.txt', sep='\\t')\n",
    "b = pd.read_csv(KG_edge_data_location+'premiRNA-disease3302.txt', sep='\\t')\n",
    "c = pd.merge(a, b, how='outer', on=['miRNA','Disease'])\n",
    "c['Source(s)_x'] = c['Source(s)_x'].astype(str)\n",
    "c['Source(s)_y'] = c['Source(s)_y'].astype(str)\n",
    "c['Source(s)'] = c['Source(s)_x'] + '|' + c['Source(s)_y']\n",
    "c = c.drop(columns=['Source(s)_x', 'Source(s)_y'])\n",
    "c['Source(s)'] = c['Source(s)'].str.replace('nan\\||\\|nan', '', regex=True)\n",
    "c['References (PMID)_x'] = c['References (PMID)_x'].astype(str)\n",
    "c['References (PMID)_y'] = c['References (PMID)_y'].astype(str)\n",
    "c['References (PMID)'] = c['References (PMID)_x'] + '|' + c['References (PMID)_y']\n",
    "c = c.drop(columns=['References (PMID)_x', 'References (PMID)_y'])\n",
    "c['References (PMID)'] = c['References (PMID)'].str.replace('nan\\||\\|nan', '', regex=True)\n",
    "merge_rows(c,'miRNA','Disease').to_csv(KG_edge_data_location + 'premiRNA-disease3302.txt', sep='\\t', index=None)\n",
    "os.remove(edge_data_location+'premiRNA-disease3302.txt')"
   ]
  },
  {
   "cell_type": "code",
   "execution_count": null,
   "metadata": {},
   "outputs": [],
   "source": [
    "a = pd.read_csv(edge_data_location+'circRNA-disease3302.txt', sep='\\t')\n",
    "b = pd.read_csv(KG_edge_data_location+'circRNA-disease3302.txt', sep='\\t')\n",
    "c = pd.merge(a, b, how='outer', on=['circRNA','Disease'])\n",
    "c['Source(s)_x'] = c['Source(s)_x'].astype(str)\n",
    "c['Source(s)_y'] = c['Source(s)_y'].astype(str)\n",
    "c['Source(s)'] = c['Source(s)_x'] + '|' + c['Source(s)_y']\n",
    "c = c.drop(columns=['Source(s)_x', 'Source(s)_y'])\n",
    "c['Source(s)'] = c['Source(s)'].str.replace('nan\\||\\|nan', '', regex=True)\n",
    "c['References (PMID)_x'] = c['References (PMID)_x'].astype(str)\n",
    "c['References (PMID)_y'] = c['References (PMID)_y'].astype(str)\n",
    "c['References (PMID)'] = c['References (PMID)_x'] + '|' + c['References (PMID)_y']\n",
    "c = c.drop(columns=['References (PMID)_x', 'References (PMID)_y'])\n",
    "c['References (PMID)'] = c['References (PMID)'].str.replace('nan\\||\\|nan', '', regex=True)\n",
    "merge_rows(c,'circRNA','Disease').to_csv(KG_edge_data_location + 'circRNA-disease3302.txt', sep='\\t', index=None)\n",
    "os.remove(edge_data_location+'circRNA-disease3302.txt')"
   ]
  },
  {
   "cell_type": "code",
   "execution_count": null,
   "metadata": {},
   "outputs": [],
   "source": [
    "a = pd.read_csv(edge_data_location+'miRNA-disease3302.txt', sep='\\t')\n",
    "b = pd.read_csv(KG_edge_data_location+'miRNA-disease3302.txt', sep='\\t')\n",
    "c = pd.merge(a, b, how='outer', on=['miRNA','Disease'])\n",
    "c['Source(s)_x'] = c['Source(s)_x'].astype(str)\n",
    "c['Source(s)_y'] = c['Source(s)_y'].astype(str)\n",
    "c['Source(s)'] = c['Source(s)_x'] + '|' + c['Source(s)_y']\n",
    "c = c.drop(columns=['Source(s)_x', 'Source(s)_y'])\n",
    "c['Source(s)'] = c['Source(s)'].str.replace('nan\\||\\|nan', '', regex=True)\n",
    "c['References (PMID)_x'] = c['References (PMID)_x'].astype(str)\n",
    "c['References (PMID)_y'] = c['References (PMID)_y'].astype(str)\n",
    "c['References (PMID)'] = c['References (PMID)_x'] + '|' + c['References (PMID)_y']\n",
    "c = c.drop(columns=['References (PMID)_x', 'References (PMID)_y'])\n",
    "c['References (PMID)'] = c['References (PMID)'].str.replace('nan\\||\\|nan', '', regex=True)\n",
    "merge_rows(c,'miRNA','Disease').to_csv(KG_edge_data_location + 'miRNA-disease3302.txt', sep='\\t', index=None)\n",
    "os.remove(edge_data_location+'miRNA-disease3302.txt')"
   ]
  },
  {
   "cell_type": "code",
   "execution_count": null,
   "metadata": {},
   "outputs": [],
   "source": [
    "a = pd.read_csv(edge_data_location+'miRNA-go1025.txt', sep='\\t')\n",
    "b = pd.read_csv(KG_edge_data_location+'miRNA-gocc1025.txt', sep='\\t').rename(columns={'Cellular component':'GO'})\n",
    "c = pd.merge(a, b, how='outer', on=['miRNA','GO'])\n",
    "c['Source(s)_x'] = c['Source(s)_x'].astype(str)\n",
    "c['Source(s)_y'] = c['Source(s)_y'].astype(str)\n",
    "c['Source(s)'] = c['Source(s)_x'] + '|' + c['Source(s)_y']\n",
    "c = c.drop(columns=['Source(s)_x', 'Source(s)_y'])\n",
    "c['Source(s)'] = c['Source(s)'].str.replace('nan\\||\\|nan', '', regex=True)\n",
    "merge_rows(c,'miRNA','GO').to_csv(KG_edge_data_location + 'miRNA-go1025.txt', sep='\\t', index=None)\n",
    "os.remove(edge_data_location+'miRNA-go1025.txt')"
   ]
  },
  {
   "cell_type": "code",
   "execution_count": null,
   "metadata": {},
   "outputs": [],
   "source": [
    "# Move all remaining files within edge_data_location directory into KG_edge_data_location directory\n",
    "for file in os.listdir(edge_data_location):\n",
    "    shutil.move(edge_data_location+file, KG_edge_data_location+file)\n",
    "\n",
    "shutil.rmtree(edge_data_location)"
   ]
  },
  {
   "cell_type": "markdown",
   "metadata": {},
   "source": [
    "***\n",
    "### Remove unprocessed raw data\n",
    "Uncomment the following lines if you want to delete the `unprocessed_data_location` subfolder."
   ]
  },
  {
   "cell_type": "code",
   "execution_count": null,
   "metadata": {},
   "outputs": [],
   "source": [
    "#shutil.rmtree(unprocessed_data_location)"
   ]
  },
  {
   "cell_type": "markdown",
   "metadata": {},
   "source": [
    "At this point, please run the [<tt>non-ontological_RNAentities.ipynb</tt>](https://github.com/AnacletoLAB/RNA-KG/blob/main/notebooks/non-ontological_RNAentities.ipynb) notebook for integrating RNA nodes missing a 1-to-1 correspondence with terms/classes from selected bio-ontologies."
   ]
  }
 ],
 "metadata": {
  "kernelspec": {
   "display_name": "Python 3 (ipykernel)",
   "language": "python",
   "name": "python3"
  },
  "language_info": {
   "codemirror_mode": {
    "name": "ipython",
    "version": 3
   },
   "file_extension": ".py",
   "mimetype": "text/x-python",
   "name": "python",
   "nbconvert_exporter": "python",
   "pygments_lexer": "ipython3",
   "version": "3.10.12"
  },
  "latex_envs": {
   "LaTeX_envs_menu_present": true,
   "autoclose": false,
   "autocomplete": true,
   "bibliofile": "biblio.bib",
   "cite_by": "apalike",
   "current_citInitial": 1,
   "eqLabelWithNumbers": true,
   "eqNumInitial": 1,
   "hotkeys": {
    "equation": "Ctrl-E",
    "itemize": "Ctrl-I"
   },
   "labels_anchors": false,
   "latex_user_defs": false,
   "report_style_numbering": false,
   "user_envs_cfg": false
  },
  "pycharm": {
   "stem_cell": {
    "cell_type": "raw",
    "metadata": {
     "collapsed": false
    },
    "source": []
   }
  }
 },
 "nbformat": 4,
 "nbformat_minor": 1
}
