{
 "cells": [
  {
   "cell_type": "markdown",
   "metadata": {
    "collapsed": true
   },
   "source": [
    "# <p style=\"text-align: center;\">Inter-RNA Knowledge Graph Build Data Preparation</p>\n",
    "    \n",
    "***\n",
    "***\n",
    "\n",
    "**Authors:** [ECavalleri](https://mail.google.com/mail/u/0/?view=cm&fs=1&tf=1&to=emanuele.cavalleri@studenti.unimi.it), [TJCallahan](https://mail.google.com/mail/u/0/?view=cm&fs=1&tf=1&to=callahantiff@gmail.com), [MMesiti](https://mail.google.com/mail/u/0/?view=cm&fs=1&tf=1&to=marco.mesiti@unimi.it), [GValentini](https://mail.google.com/mail/u/0/?view=cm&fs=1&tf=1&to=giorgio.valentini@unimi.it)\n",
    "\n",
    "**GitHub Repositories:** [RNA-KG](https://github.com/AnacletoLAB/RNA-KG/), [PheKnowLator](https://github.com/callahantiff/PheKnowLator/)  \n",
    "<!--- **Release:** **[v2.0.0](https://github.com/callahantiff/PheKnowLator/wiki/v2.0.0)** --->\n",
    "  \n",
    "<br>  \n",
    "  \n",
    "**Purpose:** This notebook serves as a script to download, process, map, and clean data in order to build edges for inteRNA-KG. For more information on the data sources utilize within this script, please see the [PheKnowLator Data Sources](https://github.com/callahantiff/PheKnowLator/wiki/v2-Data-Sources) Wiki page.\n",
    "\n",
    "<br>\n",
    "\n",
    "**Assumptions:**   \n",
    "- Edge data downloads ➞ `./resources/edge_data`  \n",
    "- Ontologies ➞ `./resources/ontologies`    \n",
    "- Processed data write location ➞ `./resources/processed_data`  \n",
    "\n",
    "<br>\n",
    "\n",
    "**Dependencies:**   \n",
    "- **Scripts**: This notebook utilizes several helper functions, which are stored in the [`data_utils.py`](https://github.com/callahantiff/PheKnowLator/blob/master/pkt_kg/utils/data_utils.py) and [`kg_utils.py`](https://github.com/callahantiff/PheKnowLator/blob/master/pkt_kg/utils/kg_utils.py) scripts. \n",
    "_____\n",
    "***"
   ]
  },
  {
   "cell_type": "markdown",
   "metadata": {},
   "source": [
    "## Set-Up Environment\n",
    "_____"
   ]
  },
  {
   "cell_type": "code",
   "execution_count": null,
   "metadata": {},
   "outputs": [],
   "source": [
    "%%capture\n",
    "import sys\n",
    "!{sys.executable} -m pip install -r requirements.txt\n",
    "sys.path.append('../')"
   ]
  },
  {
   "cell_type": "code",
   "execution_count": null,
   "metadata": {},
   "outputs": [],
   "source": [
    "# import needed libraries\n",
    "import datetime\n",
    "import glob\n",
    "import itertools\n",
    "import networkx\n",
    "import numpy\n",
    "import os\n",
    "import pickle\n",
    "import re\n",
    "import requests\n",
    "import tarfile\n",
    "import shutil\n",
    "import pandas as pd\n",
    "import numpy as np\n",
    "pd.set_option('display.max_columns', None)\n",
    "import re\n",
    "\n",
    "from collections import Counter\n",
    "from functools import reduce\n",
    "from rdflib import Graph, Namespace, URIRef, BNode, Literal\n",
    "from rdflib.namespace import OWL, RDF, RDFS\n",
    "from reactome2py import content\n",
    "from tqdm import tqdm\n",
    "from typing import Dict\n",
    "\n",
    "from pkt_kg.utils import * \n",
    "from builds.ontology_cleaning import *\n",
    "\n",
    "from typing import Tuple"
   ]
  },
  {
   "cell_type": "markdown",
   "metadata": {},
   "source": [
    "#### Define Global Variables"
   ]
  },
  {
   "cell_type": "code",
   "execution_count": null,
   "metadata": {},
   "outputs": [],
   "source": [
    "# directory to store resources\n",
    "resource_data_location = '../resources/'\n",
    "\n",
    "# directory to use for unprocessed data\n",
    "unprocessed_data_location = '../resources/processed_data/unprocessed_data/'\n",
    "\n",
    "# directory to use for processed data\n",
    "processed_data_location = '../resources/processed_data/'\n",
    "\n",
    "# directory to write ontology data to\n",
    "ontology_data_location = '../resources/ontologies/'\n",
    "\n",
    "# directory to write edges data to\n",
    "edge_data_location = '../resources/edge_data/'\n",
    "\n",
    "# processed data url \n",
    "processed_url = 'https://storage.googleapis.com/pheknowlator/current_build/data/processed_data/'\n",
    "\n",
    "# original data url \n",
    "original_url = 'https://storage.googleapis.com/pheknowlator/current_build/data/original_data/'\n",
    "\n",
    "# owltools location\n",
    "owltools_location = '../pkt_kg/libs/owltools'"
   ]
  },
  {
   "cell_type": "code",
   "execution_count": null,
   "metadata": {},
   "outputs": [],
   "source": [
    "doid_mondo_map = pd.read_csv(processed_data_location+'DOID_MONDO_MAP.txt', header=None, delimiter='\\t')\n",
    "doid_mondo_map"
   ]
  },
  {
   "cell_type": "code",
   "execution_count": null,
   "metadata": {},
   "outputs": [],
   "source": [
    "entrez_pro_map = pd.read_csv(processed_data_location+'ENTREZ_GENE_PRO_ONTOLOGY_MAP.txt', header=None, delimiter='\\t')\n",
    "entrez_pro_map = entrez_pro_map[[0,1]]\n",
    "entrez_pro_map"
   ]
  },
  {
   "cell_type": "code",
   "execution_count": null,
   "metadata": {},
   "outputs": [],
   "source": [
    "desc_chebi_map = pd.read_csv(unprocessed_data_location+'DESC_CHEBI_MAP.txt', header=None, delimiter='\\t')\n",
    "desc_chebi_map"
   ]
  },
  {
   "cell_type": "code",
   "execution_count": null,
   "metadata": {},
   "outputs": [],
   "source": [
    "desc_go_map = pd.read_csv(unprocessed_data_location+'DESC_GO_MAP.txt', header=None, delimiter='\\t')\n",
    "desc_go_map"
   ]
  },
  {
   "cell_type": "code",
   "execution_count": null,
   "metadata": {},
   "outputs": [],
   "source": [
    "desc_pw_map = pd.read_csv(unprocessed_data_location+'DESC_PW_MAP.txt', header=None, delimiter='\\t')\n",
    "desc_pw_map"
   ]
  },
  {
   "cell_type": "code",
   "execution_count": null,
   "metadata": {},
   "outputs": [],
   "source": [
    "syn_pw_map = pd.read_csv(unprocessed_data_location+'SYN_PW_MAP.txt', header=None, delimiter='\\t')\n",
    "desc_pw_map = syn_pw_map.append(desc_pw_map)\n",
    "desc_pw_map"
   ]
  },
  {
   "cell_type": "code",
   "execution_count": null,
   "metadata": {},
   "outputs": [],
   "source": [
    "mirna_mirbase_map = pd.read_csv(processed_data_location + 'MIRNA_MIRBASE_MAP.txt', header=None, sep='\\t')\n",
    "mirna_mirbase_map"
   ]
  },
  {
   "cell_type": "code",
   "execution_count": null,
   "metadata": {},
   "outputs": [],
   "source": [
    "symbol_to_pro = pd.read_csv(processed_data_location + 'GENE_SYMBOL_PRO_ONTOLOGY_MAP.txt', header=None, sep='\\t')\n",
    "symbol_to_pro"
   ]
  },
  {
   "cell_type": "code",
   "execution_count": null,
   "metadata": {},
   "outputs": [],
   "source": [
    "desc_pro_map = pd.read_csv(unprocessed_data_location+'DESC_PRO_MAP.txt', header=None, delimiter='\\t', dtype=object)\n",
    "desc_pro_map[0] = desc_pro_map[0].str.replace(\"human\", '')\n",
    "desc_pro_map[0] = desc_pro_map[0].str.replace(\"(\", '')\n",
    "desc_pro_map[0] = desc_pro_map[0].str.replace(\")\", '')\n",
    "desc_pro_map[0] = desc_pro_map[0].str.replace(\",(.*)\", '')\n",
    "desc_pro_map"
   ]
  },
  {
   "cell_type": "code",
   "execution_count": null,
   "metadata": {},
   "outputs": [],
   "source": [
    "symbol_entrez_map = pd.read_csv(processed_data_location+'GENE_SYMBOL_ENTREZ_ID_MAP.txt',header=None, sep='\\t')\n",
    "symbol_entrez_map"
   ]
  },
  {
   "cell_type": "code",
   "execution_count": null,
   "metadata": {},
   "outputs": [],
   "source": [
    "desc_bto_map = pd.read_csv(unprocessed_data_location+'DESC_BTO_MAP.txt', header=None, delimiter='\\t', dtype=object)\n",
    "desc_bto_map[0] = desc_bto_map[0].str.replace(\"human\", '')\n",
    "desc_bto_map[0] = desc_bto_map[0].str.replace(\"(\", '')\n",
    "desc_bto_map[0] = desc_bto_map[0].str.replace(\")\", '')\n",
    "desc_bto_map[0] = desc_bto_map[0].str.replace(\",(.*)\", '')\n",
    "desc_bto_map"
   ]
  },
  {
   "cell_type": "markdown",
   "metadata": {},
   "source": [
    "***\n",
    "***\n",
    "## DOWNLOAD AND PROCESS EDGE DATASETS  <a class=\"anchor\" id=\"create-edges\"></a>\n",
    "***\n",
    "***"
   ]
  },
  {
   "cell_type": "markdown",
   "metadata": {},
   "source": [
    "### [RNAInter](http://www.rnainter.org/)\n",
    "RNAInter integrates experimentally validated and computationally predicted RNA interactome data from the literature and databases."
   ]
  },
  {
   "cell_type": "markdown",
   "metadata": {},
   "source": [
    "* #### RNA-RNA"
   ]
  },
  {
   "cell_type": "code",
   "execution_count": null,
   "metadata": {},
   "outputs": [],
   "source": [
    "# http://www.rnainter.org/raidMedia/download/Download_data_RR.tar.gz\n",
    "RNA_RNA = pd.read_csv(unprocessed_data_location+'Download_data_RR.txt',sep='\\t')\n",
    "# We select only strong evidence interactions for hsa\n",
    "RNA_RNA = RNA_RNA[(RNA_RNA['score'] >= 0.2886) &\n",
    "                  (RNA_RNA['Species1'].str.contains('apiens')) &\n",
    "                  (RNA_RNA['Species2'].str.contains('apiens'))]\n",
    "\n",
    "# We keep only entries starting with NCBI, miRBase, tRFdb, HG19_TRNAS_\n",
    "RNA_RNA = RNA_RNA[(RNA_RNA['Raw_ID1'].str.startswith('NCBI')) |\n",
    "                  (RNA_RNA['Raw_ID1'].str.startswith('miRBase')) |\n",
    "                  (RNA_RNA['Raw_ID1'].str.startswith('tRFdb')) |\n",
    "                  (RNA_RNA['Raw_ID1'].str.startswith('HG19_TRNAS_')) |\n",
    "                  (RNA_RNA['Raw_ID2'].str.startswith('NCBI')) |\n",
    "                  (RNA_RNA['Raw_ID2'].str.startswith('miRBase')) |\n",
    "                  (RNA_RNA['Raw_ID2'].str.startswith('tRFdb')) |\n",
    "                  (RNA_RNA['Raw_ID2'].str.startswith('HG19_TRNAS_'))\n",
    "                 ]\n",
    "\n",
    "# PCG, circRNA, lncRNA, mRNA, ncRNA, others (RNA gene), pseudo, rRNA,\n",
    "# ribozyme, scRNA, scaRNA, snRNA, snoRNA, unknown (RNA), tRNA\n",
    "RNA_RNA.Raw_ID1 = RNA_RNA.Raw_ID1.str.replace(\"NCBI:\", '')\n",
    "RNA_RNA.Raw_ID2 = RNA_RNA.Raw_ID2.str.replace(\"NCBI:\", '')\n",
    "\n",
    "# miRNA\n",
    "RNA_RNA.Raw_ID1 = RNA_RNA.Raw_ID1.str.replace(\"miRBase:\", '')\n",
    "RNA_RNA.Raw_ID2 = RNA_RNA.Raw_ID2.str.replace(\"miRBase:\", '')\n",
    "\n",
    "# tRF\n",
    "RNA_RNA.Raw_ID1 = RNA_RNA.Raw_ID1.str.replace(\"tRFdb:\", '')\n",
    "RNA_RNA.Raw_ID2 = RNA_RNA.Raw_ID2.str.replace(\"tRFdb:\", '')\n",
    "\n",
    "# tRNA\n",
    "RNA_RNA['Interactor1.Symbol'] = RNA_RNA['Interactor1.Symbol'].str.replace(\"HG19_TRNAS_\", '')\n",
    "\n",
    "RNA_RNA['Raw_ID1'] = RNA_RNA['Raw_ID1'].str.split(';')\n",
    "RNA_RNA = RNA_RNA.explode('Raw_ID1')\n",
    "RNA_RNA['Raw_ID2'] = RNA_RNA['Raw_ID2'].str.split(';')\n",
    "RNA_RNA = RNA_RNA.explode('Raw_ID2')\n",
    "\n",
    "RNA_RNA"
   ]
  },
  {
   "cell_type": "code",
   "execution_count": null,
   "metadata": {},
   "outputs": [],
   "source": [
    "i = RNA_RNA[(RNA_RNA['Category1']=='circRNA') |\n",
    "            (RNA_RNA['Category1']=='lncRNA') |\n",
    "            (RNA_RNA['Category1']=='mRNA') |\n",
    "            (RNA_RNA['Category1']=='ncRNA') |\n",
    "            (RNA_RNA['Category1']=='others') |\n",
    "            (RNA_RNA['Category1']=='rRNA') |\n",
    "            (RNA_RNA['Category1']=='ribozyme') |\n",
    "            (RNA_RNA['Category1']=='pseudo') |\n",
    "            (RNA_RNA['Category1']=='scRNA') |\n",
    "            (RNA_RNA['Category1']=='scaRNA') |\n",
    "            (RNA_RNA['Category1']=='snRNA') |\n",
    "            (RNA_RNA['Category1']=='snoRNA') |\n",
    "            (RNA_RNA['Category1']=='unknown') |\n",
    "            (RNA_RNA['Category1']=='tRNA')].index.values\n",
    "RNA_RNA.loc[i,\"Raw_ID1\"]=RNA_RNA.loc[i,\"Raw_ID1\"] + '#' + RNA_RNA.loc[i,\"Category1\"]\n",
    "\n",
    "i = RNA_RNA[(RNA_RNA['Category2']=='circRNA') |\n",
    "            (RNA_RNA['Category2']=='lncRNA') |\n",
    "            (RNA_RNA['Category2']=='mRNA') |\n",
    "            (RNA_RNA['Category2']=='pseudo') |\n",
    "            (RNA_RNA['Category2']=='ncRNA') |\n",
    "            (RNA_RNA['Category2']=='others') |\n",
    "            (RNA_RNA['Category2']=='rRNA') |\n",
    "            (RNA_RNA['Category2']=='ribozyme') |\n",
    "            (RNA_RNA['Category2']=='scRNA') |\n",
    "            (RNA_RNA['Category2']=='scaRNA') |\n",
    "            (RNA_RNA['Category2']=='snRNA') |\n",
    "            (RNA_RNA['Category2']=='snoRNA') |\n",
    "            (RNA_RNA['Category2']=='unknown') |\n",
    "            (RNA_RNA['Category2']=='tRNA')].index.values\n",
    "RNA_RNA.loc[i,\"Raw_ID2\"]=RNA_RNA.loc[i,\"Raw_ID2\"] + '#' + RNA_RNA.loc[i,\"Category2\"]\n",
    "\n",
    "#RNA_RNA.drop(columns=['RNAInterID','Interactor1.Symbol','Species1','Interactor2.Symbol','Species2'],inplace=True)\n",
    "RNA_RNA"
   ]
  },
  {
   "cell_type": "code",
   "execution_count": null,
   "metadata": {},
   "outputs": [],
   "source": [
    "a = set(RNA_RNA.Category1)\n",
    "b = set(RNA_RNA.Category2)\n",
    "print(a.union(b))"
   ]
  },
  {
   "cell_type": "markdown",
   "metadata": {},
   "source": [
    "* ##### miRNA-RNA"
   ]
  },
  {
   "cell_type": "code",
   "execution_count": null,
   "metadata": {},
   "outputs": [],
   "source": [
    "miRNA_RNA = RNA_RNA[(RNA_RNA['Category1']=='miRNA')]\n",
    "RNA_miRNA = RNA_RNA[(RNA_RNA['Category2']=='miRNA')]\n",
    "RNA_miRNA.rename(columns={'Interactor1.Symbol':'Interactor2.Symbol','Category1':'Category2','Raw_ID1':'Raw_ID2',\n",
    "                          'Interactor2.Symbol':'Interactor1.Symbol','Category2':'Category1','Raw_ID2':'Raw_ID1'},\n",
    "                 inplace=True)\n",
    "miRNA_RNA = miRNA_RNA.append(RNA_miRNA)"
   ]
  },
  {
   "cell_type": "code",
   "execution_count": null,
   "metadata": {},
   "outputs": [],
   "source": [
    "miRNA_RNA['Category2'].unique()"
   ]
  },
  {
   "cell_type": "code",
   "execution_count": null,
   "metadata": {},
   "outputs": [],
   "source": [
    "miRNA_mRNA = miRNA_RNA[(miRNA_RNA['Category1']=='miRNA') & (miRNA_RNA['Category2']=='mRNA')]\n",
    "miRNA_mRNA = miRNA_mRNA[(miRNA_mRNA['Raw_ID1'].notna())]\n",
    "miRNA_mRNA = miRNA_mRNA[(miRNA_mRNA['Raw_ID2'].notna())]\n",
    "\n",
    "maturemiRNA_mRNA = miRNA_mRNA[(miRNA_mRNA['Raw_ID1'].str.startswith('MIMAT')) &\n",
    "                              (miRNA_mRNA['Raw_ID2'].str[0].str.isdigit())]\n",
    "premiRNA_mRNA = miRNA_mRNA[(miRNA_mRNA['Raw_ID1'].str.startswith('MI')) &\n",
    "                           (~miRNA_mRNA['Raw_ID1'].str.startswith('MIMAT')) &\n",
    "                           (miRNA_mRNA['Raw_ID2'].str[0].str.isdigit())]\n",
    "\n",
    "maturemiRNA_mRNA[['Raw_ID1','Raw_ID2']].drop_duplicates().to_csv(\n",
    "    edge_data_location + 'miRNA-mRNA.txt', header=None, sep='\\t', index=None)\n",
    "premiRNA_mRNA[['Raw_ID1','Raw_ID2']].drop_duplicates().to_csv(\n",
    "    edge_data_location + 'premiRNA-mRNA.txt', header=None, sep='\\t', index=None)"
   ]
  },
  {
   "cell_type": "code",
   "execution_count": null,
   "metadata": {},
   "outputs": [],
   "source": [
    "miRNA_lncRNA = miRNA_RNA[(miRNA_RNA['Category1']=='miRNA') & (miRNA_RNA['Category2']=='lncRNA')]\n",
    "miRNA_lncRNA = miRNA_lncRNA[(miRNA_lncRNA['Raw_ID1'].notna())]\n",
    "miRNA_lncRNA = miRNA_lncRNA[(miRNA_lncRNA['Raw_ID2'].notna())]\n",
    "\n",
    "maturemiRNA_lncRNA = miRNA_lncRNA[(miRNA_lncRNA['Raw_ID1'].str.startswith('MIMAT')) &\n",
    "                                  (miRNA_lncRNA['Raw_ID2'].str[0].str.isdigit())]\n",
    "premiRNA_lncRNA = miRNA_lncRNA[(miRNA_lncRNA['Raw_ID1'].str.startswith('MI')) &\n",
    "                               (~miRNA_lncRNA['Raw_ID1'].str.startswith('MIMAT')) &\n",
    "                               (miRNA_lncRNA['Raw_ID2'].str[0].str.isdigit())]\n",
    "\n",
    "maturemiRNA_lncRNA[['Raw_ID1','Raw_ID2']].drop_duplicates().to_csv(\n",
    "    edge_data_location + 'miRNA-lncRNA.txt', header=None, sep='\\t', index=None)\n",
    "premiRNA_lncRNA[['Raw_ID1','Raw_ID2']].drop_duplicates().to_csv(\n",
    "    edge_data_location + 'premiRNA-lncRNA.txt', header=None, sep='\\t', index=None)"
   ]
  },
  {
   "cell_type": "code",
   "execution_count": null,
   "metadata": {},
   "outputs": [],
   "source": [
    "miRNA_circRNA = miRNA_RNA[(miRNA_RNA['Category1']=='miRNA') & (miRNA_RNA['Category2']=='circRNA')]\n",
    "miRNA_circRNA = miRNA_circRNA[(miRNA_circRNA['Raw_ID1'].notna())]\n",
    "miRNA_circRNA = miRNA_circRNA[(miRNA_circRNA['Raw_ID2'].notna())]\n",
    "\n",
    "maturemiRNA_circRNA = miRNA_circRNA[(miRNA_circRNA['Raw_ID1'].str.startswith('MIMAT')) &\n",
    "                                  (miRNA_circRNA['Raw_ID2'].str[0].str.isdigit())]\n",
    "\n",
    "maturemiRNA_circRNA[['Raw_ID1','Raw_ID2']].drop_duplicates().to_csv(\n",
    "    edge_data_location + 'miRNA-circRNA.txt', header=None, sep='\\t', index=None)"
   ]
  },
  {
   "cell_type": "code",
   "execution_count": null,
   "metadata": {},
   "outputs": [],
   "source": [
    "miRNA_othersRNA = miRNA_RNA[(miRNA_RNA['Category1']=='miRNA') & (miRNA_RNA['Category2']=='others')]\n",
    "miRNA_othersRNA = miRNA_othersRNA[(miRNA_othersRNA['Raw_ID1'].notna())]\n",
    "miRNA_othersRNA = miRNA_othersRNA[(miRNA_othersRNA['Raw_ID2'].notna())]\n",
    "\n",
    "maturemiRNA_othersRNA = miRNA_othersRNA[(miRNA_othersRNA['Raw_ID1'].str.startswith('MIMAT')) &\n",
    "                                  (miRNA_othersRNA['Raw_ID2'].str[0].str.isdigit())]\n",
    "\n",
    "maturemiRNA_othersRNA[['Raw_ID1','Raw_ID2']].drop_duplicates().to_csv(\n",
    "    edge_data_location + 'miRNA-othersRNA.txt', header=None, sep='\\t', index=None)"
   ]
  },
  {
   "cell_type": "code",
   "execution_count": null,
   "metadata": {},
   "outputs": [],
   "source": [
    "miRNA_pseudo = miRNA_RNA[(miRNA_RNA['Category1']=='miRNA') & (miRNA_RNA['Category2']=='pseudo')]\n",
    "miRNA_pseudo = miRNA_pseudo[(miRNA_pseudo['Raw_ID1'].notna())]\n",
    "miRNA_pseudo = miRNA_pseudo[(miRNA_pseudo['Raw_ID2'].notna())]\n",
    "\n",
    "maturemiRNA_pseudo = miRNA_pseudo[(miRNA_pseudo['Raw_ID1'].str.startswith('MIMAT')) &\n",
    "                                  (miRNA_pseudo['Raw_ID2'].str[0].str.isdigit())]\n",
    "premiRNA_pseudo = miRNA_pseudo[(miRNA_pseudo['Raw_ID1'].str.startswith('MI')) &\n",
    "                               (~miRNA_pseudo['Raw_ID1'].str.startswith('MIMAT')) &\n",
    "                               (miRNA_pseudo['Raw_ID2'].str[0].str.isdigit())]\n",
    "\n",
    "maturemiRNA_pseudo[['Raw_ID1','Raw_ID2']].drop_duplicates().to_csv(\n",
    "    edge_data_location + 'miRNA-pseudogene.txt', header=None, sep='\\t', index=None)\n",
    "premiRNA_pseudo[['Raw_ID1','Raw_ID2']].drop_duplicates().to_csv(\n",
    "    edge_data_location + 'premiRNA-pseudogene.txt', header=None, sep='\\t', index=None)"
   ]
  },
  {
   "cell_type": "code",
   "execution_count": null,
   "metadata": {},
   "outputs": [],
   "source": [
    "miRNA_protein = miRNA_RNA[(miRNA_RNA['Category1']=='miRNA') & ((miRNA_RNA['Category2']=='protein') |\n",
    "                                                              (miRNA_RNA['Category2']=='Protein'))]\n",
    "miRNA_protein = miRNA_protein[(miRNA_protein['Raw_ID1'].notna())]\n",
    "miRNA_protein = miRNA_protein[(miRNA_protein['Raw_ID2'].notna())]\n",
    "miRNA_protein['Raw_ID2'] = miRNA_protein['Raw_ID2'].astype(str).astype(int)\n",
    "\n",
    "miRNA_protein = pd.merge(miRNA_protein, entrez_pro_map.rename(columns={0: 'Raw_ID2'}), on='Raw_ID2')\n",
    "miRNA_protein.drop(columns=['Raw_ID2'], inplace=True)\n",
    "\n",
    "maturemiRNA_protein = miRNA_protein[(miRNA_protein['Raw_ID1'].str.startswith('MIMAT'))]\n",
    "premiRNA_protein = miRNA_protein[(miRNA_protein['Raw_ID1'].str.startswith('MI')) &\n",
    "                               (~miRNA_protein['Raw_ID1'].str.startswith('MIMAT'))]\n",
    "\n",
    "maturemiRNA_protein[['Raw_ID1',1]].drop_duplicates().to_csv(\n",
    "    edge_data_location + 'miRNA-protein.txt', header=None, sep='\\t', index=None)\n",
    "premiRNA_protein[['Raw_ID1',1]].drop_duplicates().to_csv(\n",
    "    edge_data_location + 'premiRNA-protein.txt', header=None, sep='\\t', index=None)"
   ]
  },
  {
   "cell_type": "code",
   "execution_count": null,
   "metadata": {},
   "outputs": [],
   "source": [
    "miRNA_miRNA = miRNA_RNA[(miRNA_RNA['Category1']=='miRNA') & (miRNA_RNA['Category2']=='miRNA')]\n",
    "miRNA_miRNA = miRNA_miRNA[(miRNA_miRNA['Raw_ID1'].notna())]\n",
    "miRNA_miRNA = miRNA_miRNA[(miRNA_miRNA['Raw_ID2'].notna())]\n",
    "\n",
    "maturemiRNA_maturemiRNA = miRNA_miRNA[(miRNA_miRNA['Raw_ID1'].str.startswith('MIMAT')) &\n",
    "                                      (miRNA_miRNA['Raw_ID2'].str.startswith('MIMAT'))]\n",
    "# Other combinations are empty\n",
    "\n",
    "maturemiRNA_maturemiRNA[['Raw_ID1','Raw_ID2']].drop_duplicates().to_csv(\n",
    "    edge_data_location + 'miRNA-miRNA.txt', header=None, sep='\\t', index=None)"
   ]
  },
  {
   "cell_type": "code",
   "execution_count": null,
   "metadata": {},
   "outputs": [],
   "source": [
    "miRNA_snoRNA = miRNA_RNA[(miRNA_RNA['Category1']=='miRNA') & (miRNA_RNA['Category2']=='snoRNA')]\n",
    "miRNA_snoRNA = miRNA_snoRNA[(miRNA_snoRNA['Raw_ID1'].notna())]\n",
    "miRNA_snoRNA = miRNA_snoRNA[(miRNA_snoRNA['Raw_ID2'].notna())]\n",
    "\n",
    "maturemiRNA_snoRNA = miRNA_snoRNA[(miRNA_snoRNA['Raw_ID1'].str.startswith('MIMAT')) &\n",
    "                                  (miRNA_snoRNA['Raw_ID2'].str[0].str.isdigit())]\n",
    "\n",
    "maturemiRNA_snoRNA[['Raw_ID1','Raw_ID2']].drop_duplicates().to_csv(\n",
    "    edge_data_location + 'miRNA-snoRNA.txt', header=None, sep='\\t', index=None)"
   ]
  },
  {
   "cell_type": "code",
   "execution_count": null,
   "metadata": {},
   "outputs": [],
   "source": [
    "miRNA_snRNA = miRNA_RNA[(miRNA_RNA['Category1']=='miRNA') & (miRNA_RNA['Category2']=='snRNA')]\n",
    "miRNA_snRNA = miRNA_snRNA[(miRNA_snRNA['Raw_ID1'].notna())]\n",
    "miRNA_snRNA = miRNA_snRNA[(miRNA_snRNA['Raw_ID2'].notna())]\n",
    "\n",
    "maturemiRNA_snRNA = miRNA_snRNA[(miRNA_snRNA['Raw_ID1'].str.startswith('MIMAT')) &\n",
    "                                  (miRNA_snRNA['Raw_ID2'].str[0].str.isdigit())]\n",
    "\n",
    "maturemiRNA_snRNA[['Raw_ID1','Raw_ID2']].drop_duplicates().to_csv(\n",
    "    edge_data_location + 'miRNA-snRNA.txt', header=None, sep='\\t', index=None)"
   ]
  },
  {
   "cell_type": "code",
   "execution_count": null,
   "metadata": {},
   "outputs": [],
   "source": [
    "miRNA_scaRNA = miRNA_RNA[(miRNA_RNA['Category1']=='miRNA') & (miRNA_RNA['Category2']=='scaRNA')]\n",
    "miRNA_scaRNA = miRNA_scaRNA[(miRNA_scaRNA['Raw_ID1'].notna())]\n",
    "miRNA_scaRNA = miRNA_scaRNA[(miRNA_scaRNA['Raw_ID2'].notna())]\n",
    "\n",
    "maturemiRNA_scaRNA = miRNA_scaRNA[(miRNA_scaRNA['Raw_ID1'].str.startswith('MIMAT')) &\n",
    "                                  (miRNA_scaRNA['Raw_ID2'].str[0].str.isdigit())]\n",
    "\n",
    "maturemiRNA_scaRNA[['Raw_ID1','Raw_ID2']].drop_duplicates().to_csv(\n",
    "    edge_data_location + 'miRNA-scaRNA.txt', header=None, sep='\\t', index=None)"
   ]
  },
  {
   "cell_type": "code",
   "execution_count": null,
   "metadata": {},
   "outputs": [],
   "source": [
    "miRNA_ncRNA = miRNA_RNA[(miRNA_RNA['Category1']=='miRNA') & (miRNA_RNA['Category2']=='ncRNA')]\n",
    "miRNA_ncRNA = miRNA_ncRNA[(miRNA_ncRNA['Raw_ID1'].notna())]\n",
    "miRNA_ncRNA = miRNA_ncRNA[(miRNA_ncRNA['Raw_ID2'].notna())]\n",
    "\n",
    "maturemiRNA_ncRNA = miRNA_ncRNA[(miRNA_ncRNA['Raw_ID1'].str.startswith('MIMAT')) &\n",
    "                                  (miRNA_ncRNA['Raw_ID2'].str[0].str.isdigit())]\n",
    "\n",
    "maturemiRNA_ncRNA[['Raw_ID1','Raw_ID2']].drop_duplicates().to_csv(\n",
    "    edge_data_location + 'miRNA-ncRNA.txt', header=None, sep='\\t', index=None)"
   ]
  },
  {
   "cell_type": "code",
   "execution_count": null,
   "metadata": {},
   "outputs": [],
   "source": [
    "miRNA_ribozyme = miRNA_RNA[(miRNA_RNA['Category1']=='miRNA') & (miRNA_RNA['Category2']=='ribozyme')]\n",
    "miRNA_ribozyme = miRNA_ribozyme[(miRNA_ribozyme['Raw_ID1'].notna())]\n",
    "miRNA_ribozyme = miRNA_ribozyme[(miRNA_ribozyme['Raw_ID2'].notna())]\n",
    "\n",
    "maturemiRNA_ribozyme = miRNA_ribozyme[(miRNA_ribozyme['Raw_ID1'].str.startswith('MIMAT')) &\n",
    "                                  (miRNA_ribozyme['Raw_ID2'].str[0].str.isdigit())]\n",
    "\n",
    "maturemiRNA_ribozyme[['Raw_ID1','Raw_ID2']].drop_duplicates().to_csv(\n",
    "    edge_data_location + 'miRNA-ribozyme.txt', header=None, sep='\\t', index=None)"
   ]
  },
  {
   "cell_type": "code",
   "execution_count": null,
   "metadata": {},
   "outputs": [],
   "source": [
    "miRNA_unknownRNA = miRNA_RNA[(miRNA_RNA['Category1']=='miRNA') & (miRNA_RNA['Category2']=='unknown')]\n",
    "miRNA_unknownRNA = miRNA_unknownRNA[(miRNA_unknownRNA['Raw_ID1'].notna())]\n",
    "miRNA_unknownRNA = miRNA_unknownRNA[(miRNA_unknownRNA['Raw_ID2'].notna())]\n",
    "\n",
    "maturemiRNA_unknownRNA = miRNA_unknownRNA[(miRNA_unknownRNA['Raw_ID1'].str.startswith('MIMAT')) &\n",
    "                                  (miRNA_unknownRNA['Raw_ID2'].str[0].str.isdigit())]\n",
    "\n",
    "maturemiRNA_unknownRNA[['Raw_ID1','Raw_ID2']].drop_duplicates().to_csv(\n",
    "    edge_data_location + 'miRNA-unknownRNA.txt', header=None, sep='\\t', index=None)"
   ]
  },
  {
   "cell_type": "code",
   "execution_count": null,
   "metadata": {},
   "outputs": [],
   "source": [
    "miRNA_scRNA = miRNA_RNA[(miRNA_RNA['Category1']=='miRNA') & (miRNA_RNA['Category2']=='scRNA')]\n",
    "miRNA_scRNA = miRNA_scRNA[(miRNA_scRNA['Raw_ID1'].notna())]\n",
    "miRNA_scRNA = miRNA_scRNA[(miRNA_scRNA['Raw_ID2'].notna())]\n",
    "\n",
    "maturemiRNA_scRNA = miRNA_scRNA[(miRNA_scRNA['Raw_ID1'].str.startswith('MIMAT')) &\n",
    "                                  (miRNA_scRNA['Raw_ID2'].str[0].str.isdigit())]\n",
    "\n",
    "maturemiRNA_scRNA[['Raw_ID1','Raw_ID2']].drop_duplicates().to_csv(\n",
    "    edge_data_location + 'miRNA-scRNA.txt', header=None, sep='\\t', index=None)"
   ]
  },
  {
   "cell_type": "markdown",
   "metadata": {},
   "source": [
    "* ##### othersRNA-RNA"
   ]
  },
  {
   "cell_type": "code",
   "execution_count": null,
   "metadata": {},
   "outputs": [],
   "source": [
    "othersRNA_RNA = RNA_RNA[(RNA_RNA['Category1']=='others')]\n",
    "RNA_othersRNA = RNA_RNA[(RNA_RNA['Category2']=='others')]\n",
    "RNA_othersRNA.rename(columns={'Interactor1.Symbol':'Interactor2.Symbol','Category1':'Category2','Raw_ID1':'Raw_ID2',\n",
    "                          'Interactor2.Symbol':'Interactor1.Symbol','Category2':'Category1','Raw_ID2':'Raw_ID1'},\n",
    "                 inplace=True)\n",
    "othersRNA_RNA = othersRNA_RNA.append(RNA_othersRNA)"
   ]
  },
  {
   "cell_type": "code",
   "execution_count": null,
   "metadata": {},
   "outputs": [],
   "source": [
    "othersRNA_RNA.Category2.unique()"
   ]
  },
  {
   "cell_type": "code",
   "execution_count": null,
   "metadata": {},
   "outputs": [],
   "source": [
    "othersRNA_mRNA = othersRNA_RNA[othersRNA_RNA['Category2']=='mRNA']\n",
    "othersRNA_mRNA = othersRNA_mRNA[(othersRNA_mRNA['Raw_ID1'].notna())]\n",
    "othersRNA_mRNA = othersRNA_mRNA[(othersRNA_mRNA['Raw_ID2'].notna())]\n",
    "\n",
    "othersRNA_mRNA = othersRNA_mRNA[(othersRNA_mRNA['Raw_ID1'].str[0].str.isdigit()) &\n",
    "                                (othersRNA_mRNA['Raw_ID2'].str[0].str.isdigit())]\n",
    "\n",
    "othersRNA_mRNA[['Raw_ID1','Raw_ID2']].drop_duplicates().to_csv(\n",
    "    edge_data_location + 'othersRNA-mRNA.txt', header=None, sep='\\t', index=None)"
   ]
  },
  {
   "cell_type": "code",
   "execution_count": null,
   "metadata": {},
   "outputs": [],
   "source": [
    "othersRNA_lncRNA = othersRNA_RNA[othersRNA_RNA['Category2']=='lncRNA']\n",
    "othersRNA_lncRNA = othersRNA_lncRNA[(othersRNA_lncRNA['Raw_ID1'].notna())]\n",
    "othersRNA_lncRNA = othersRNA_lncRNA[(othersRNA_lncRNA['Raw_ID2'].notna())]\n",
    "\n",
    "othersRNA_lncRNA = othersRNA_lncRNA[(othersRNA_lncRNA['Raw_ID1'].str[0].str.isdigit()) &\n",
    "                                    (othersRNA_lncRNA['Raw_ID2'].str[0].str.isdigit())]\n",
    "\n",
    "othersRNA_lncRNA[['Raw_ID1','Raw_ID2']].drop_duplicates().to_csv(\n",
    "    edge_data_location + 'othersRNA-lncRNA.txt', header=None, sep='\\t', index=None)"
   ]
  },
  {
   "cell_type": "code",
   "execution_count": null,
   "metadata": {},
   "outputs": [],
   "source": [
    "othersRNA_pseudo = othersRNA_RNA[othersRNA_RNA['Category2']=='pseudo']\n",
    "othersRNA_pseudo = othersRNA_pseudo[(othersRNA_pseudo['Raw_ID1'].notna())]\n",
    "othersRNA_pseudo = othersRNA_pseudo[(othersRNA_pseudo['Raw_ID2'].notna())]\n",
    "\n",
    "othersRNA_pseudo = othersRNA_pseudo[(othersRNA_pseudo['Raw_ID1'].str[0].str.isdigit()) &\n",
    "                                    (othersRNA_pseudo['Raw_ID2'].str[0].str.isdigit())]\n",
    "\n",
    "othersRNA_pseudo[['Raw_ID1','Raw_ID2']].drop_duplicates().to_csv(\n",
    "    edge_data_location + 'othersRNA-pseudogene.txt', header=None, sep='\\t', index=None)"
   ]
  },
  {
   "cell_type": "code",
   "execution_count": null,
   "metadata": {},
   "outputs": [],
   "source": [
    "othersRNA_rRNA = othersRNA_RNA[othersRNA_RNA['Category2']=='rRNA']\n",
    "othersRNA_rRNA = othersRNA_rRNA[(othersRNA_rRNA['Raw_ID1'].notna())]\n",
    "othersRNA_rRNA = othersRNA_rRNA[(othersRNA_rRNA['Raw_ID2'].notna())]\n",
    "\n",
    "othersRNA_rRNA = othersRNA_rRNA[(othersRNA_rRNA['Raw_ID1'].str[0].str.isdigit()) &\n",
    "                                (othersRNA_rRNA['Raw_ID2'].str[0].str.isdigit())]\n",
    "\n",
    "othersRNA_rRNA[['Raw_ID1','Raw_ID2']].drop_duplicates().to_csv(\n",
    "    edge_data_location + 'othersRNA-rRNA.txt', header=None, sep='\\t', index=None)"
   ]
  },
  {
   "cell_type": "markdown",
   "metadata": {},
   "source": [
    "* ##### snRNA-RNA"
   ]
  },
  {
   "cell_type": "code",
   "execution_count": null,
   "metadata": {},
   "outputs": [],
   "source": [
    "snRNA_RNA = RNA_RNA[(RNA_RNA['Category1']=='snRNA')]\n",
    "RNA_snRNA = RNA_RNA[(RNA_RNA['Category2']=='snRNA')]\n",
    "RNA_snRNA.rename(columns={'Interactor1.Symbol':'Interactor2.Symbol','Category1':'Category2','Raw_ID1':'Raw_ID2',\n",
    "                          'Interactor2.Symbol':'Interactor1.Symbol','Category2':'Category1','Raw_ID2':'Raw_ID1'},\n",
    "                 inplace=True)\n",
    "snRNA_RNA = snRNA_RNA.append(RNA_snRNA)\n",
    "snRNA_RNA.Category2.unique()"
   ]
  },
  {
   "cell_type": "code",
   "execution_count": null,
   "metadata": {},
   "outputs": [],
   "source": [
    "snRNA_snRNA = snRNA_RNA[snRNA_RNA['Category2']=='snRNA']\n",
    "snRNA_snRNA = snRNA_snRNA[(snRNA_snRNA['Raw_ID1'].notna())]\n",
    "snRNA_snRNA = snRNA_snRNA[(snRNA_snRNA['Raw_ID2'].notna())]\n",
    "\n",
    "snRNA_snRNA = snRNA_snRNA[(snRNA_snRNA['Raw_ID1'].str[0].str.isdigit()) &\n",
    "                          (snRNA_snRNA['Raw_ID2'].str[0].str.isdigit())]\n",
    "\n",
    "snRNA_snRNA[['Raw_ID1','Raw_ID2']].drop_duplicates().to_csv(\n",
    "    edge_data_location + 'snRNA-snRNA.txt', header=None, sep='\\t', index=None)"
   ]
  },
  {
   "cell_type": "code",
   "execution_count": null,
   "metadata": {},
   "outputs": [],
   "source": [
    "snRNA_lncRNA = snRNA_RNA[snRNA_RNA['Category2']=='lncRNA']\n",
    "snRNA_lncRNA = snRNA_lncRNA[(snRNA_lncRNA['Raw_ID1'].notna())]\n",
    "snRNA_lncRNA = snRNA_lncRNA[(snRNA_lncRNA['Raw_ID2'].notna())]\n",
    "\n",
    "snRNA_lncRNA = snRNA_lncRNA[(snRNA_lncRNA['Raw_ID1'].str[0].str.isdigit()) &\n",
    "                          (snRNA_lncRNA['Raw_ID2'].str[0].str.isdigit())]\n",
    "\n",
    "snRNA_lncRNA[['Raw_ID1','Raw_ID2']].drop_duplicates().to_csv(\n",
    "    edge_data_location + 'snRNA-lncRNA.txt', header=None, sep='\\t', index=None)"
   ]
  },
  {
   "cell_type": "code",
   "execution_count": null,
   "metadata": {},
   "outputs": [],
   "source": [
    "snRNA_mRNA = snRNA_RNA[snRNA_RNA['Category2']=='mRNA']\n",
    "snRNA_mRNA = snRNA_mRNA[(snRNA_mRNA['Raw_ID1'].notna())]\n",
    "snRNA_mRNA = snRNA_mRNA[(snRNA_mRNA['Raw_ID2'].notna())]\n",
    "\n",
    "snRNA_mRNA = snRNA_mRNA[(snRNA_mRNA['Raw_ID1'].str[0].str.isdigit()) &\n",
    "                        (snRNA_mRNA['Raw_ID2'].str[0].str.isdigit())]\n",
    "\n",
    "snRNA_mRNA[['Raw_ID1','Raw_ID2']].drop_duplicates().to_csv(\n",
    "    edge_data_location + 'snRNA-mRNA.txt', header=None, sep='\\t', index=None)"
   ]
  },
  {
   "cell_type": "code",
   "execution_count": null,
   "metadata": {},
   "outputs": [],
   "source": [
    "snRNA_pseudo = snRNA_RNA[snRNA_RNA['Category2']=='pseudo']\n",
    "snRNA_pseudo = snRNA_pseudo[(snRNA_pseudo['Raw_ID1'].notna())]\n",
    "snRNA_pseudo = snRNA_pseudo[(snRNA_pseudo['Raw_ID2'].notna())]\n",
    "\n",
    "snRNA_pseudo = snRNA_pseudo[(snRNA_pseudo['Raw_ID1'].str[0].str.isdigit()) &\n",
    "                            (snRNA_pseudo['Raw_ID2'].str[0].str.isdigit())]\n",
    "\n",
    "snRNA_pseudo[['Raw_ID1','Raw_ID2']].drop_duplicates().to_csv(\n",
    "    edge_data_location + 'snRNA-pseudogene.txt', header=None, sep='\\t', index=None)"
   ]
  },
  {
   "cell_type": "code",
   "execution_count": null,
   "metadata": {},
   "outputs": [],
   "source": [
    "snRNA_snoRNA = snRNA_RNA[snRNA_RNA['Category2']=='snoRNA']\n",
    "snRNA_snoRNA = snRNA_snoRNA[(snRNA_snoRNA['Raw_ID1'].notna())]\n",
    "snRNA_snoRNA = snRNA_snoRNA[(snRNA_snoRNA['Raw_ID2'].notna())]\n",
    "\n",
    "snRNA_snoRNA = snRNA_snoRNA[(snRNA_snoRNA['Raw_ID1'].str[0].str.isdigit()) &\n",
    "                            (snRNA_snoRNA['Raw_ID2'].str[0].str.isdigit())]\n",
    "\n",
    "snRNA_snoRNA[['Raw_ID1','Raw_ID2']].drop_duplicates().to_csv(\n",
    "    edge_data_location + 'snRNA-snoRNA.txt', header=None, sep='\\t', index=None)"
   ]
  },
  {
   "cell_type": "markdown",
   "metadata": {},
   "source": [
    "* ##### PCG-RNA"
   ]
  },
  {
   "cell_type": "code",
   "execution_count": null,
   "metadata": {},
   "outputs": [],
   "source": [
    "PCG_RNA = RNA_RNA[(RNA_RNA['Category1']=='PCG')]\n",
    "RNA_PCG = RNA_RNA[(RNA_RNA['Category2']=='PCG')]\n",
    "RNA_PCG.rename(columns={'Interactor1.Symbol':'Interactor2.Symbol','Category1':'Category2','Raw_ID1':'Raw_ID2',\n",
    "                        'Interactor2.Symbol':'Interactor1.Symbol','Category2':'Category1','Raw_ID2':'Raw_ID1'},\n",
    "                 inplace=True)\n",
    "PCG_RNA = PCG_RNA.append(RNA_PCG)\n",
    "PCG_RNA.Category2.unique()"
   ]
  },
  {
   "cell_type": "code",
   "execution_count": null,
   "metadata": {},
   "outputs": [],
   "source": [
    "PCG_lncRNA = PCG_RNA[(PCG_RNA['Raw_ID1'].notna())]\n",
    "PCG_lncRNA = PCG_RNA[(PCG_RNA['Raw_ID2'].notna())]\n",
    "\n",
    "PCG_lncRNA = PCG_lncRNA[(PCG_lncRNA['Raw_ID1'].str[0].str.isdigit()) &\n",
    "                        (PCG_lncRNA['Raw_ID2'].str[0].str.isdigit())]\n",
    "\n",
    "PCG_lncRNA[['Raw_ID1','Raw_ID2']].drop_duplicates().to_csv(\n",
    "    edge_data_location + 'PCG-lncRNA.txt', header=None, sep='\\t', index=None)"
   ]
  },
  {
   "cell_type": "markdown",
   "metadata": {},
   "source": [
    "* ##### tRNA-RNA"
   ]
  },
  {
   "cell_type": "code",
   "execution_count": null,
   "metadata": {},
   "outputs": [],
   "source": [
    "tRNA_RNA = RNA_RNA[(RNA_RNA['Category1']=='tRNA')]\n",
    "RNA_tRNA = RNA_RNA[(RNA_RNA['Category2']=='tRNA')]\n",
    "RNA_tRNA.rename(columns={'Interactor1.Symbol':'Interactor2.Symbol','Category1':'Category2','Raw_ID1':'Raw_ID2',\n",
    "                        'Interactor2.Symbol':'Interactor1.Symbol','Category2':'Category1','Raw_ID2':'Raw_ID1'},\n",
    "                 inplace=True)\n",
    "tRNA_RNA = tRNA_RNA.append(RNA_tRNA)\n",
    "tRNA_RNA.Raw_ID1.fillna(tRNA_RNA['Interactor1.Symbol'], inplace=True)\n",
    "tRNA_RNA.Category2.unique()"
   ]
  },
  {
   "cell_type": "code",
   "execution_count": null,
   "metadata": {},
   "outputs": [],
   "source": [
    "tRNA_mRNA = tRNA_RNA[tRNA_RNA['Category2']=='mRNA']\n",
    "tRNA_mRNA_NCBI = tRNA_mRNA[(tRNA_mRNA['Raw_ID1'].str[0].str.isdigit())]\n",
    "tRNA_mRNA_gtRNA = tRNA_mRNA[~(tRNA_mRNA['Raw_ID1'].str[0].str.isdigit())]\n",
    "\n",
    "tRNA_mRNA_gtRNA['Raw_ID1'] = tRNA_mRNA_gtRNA['Raw_ID1'] + '.html'\n",
    "\n",
    "tRNA_mRNA_NCBI[['Raw_ID1','Raw_ID2']].drop_duplicates().to_csv(\n",
    "    edge_data_location + 'tRNA-mRNA_NCBI.txt', header=None, sep='\\t', index=None)\n",
    "tRNA_mRNA_gtRNA[['Raw_ID1','Raw_ID2']].drop_duplicates().to_csv(\n",
    "    edge_data_location + 'tRNA-mRNA_gtRNA.txt', header=None, sep='\\t', index=None)"
   ]
  },
  {
   "cell_type": "code",
   "execution_count": null,
   "metadata": {},
   "outputs": [],
   "source": [
    "tRNA_lncRNA = tRNA_RNA[tRNA_RNA['Category2']=='lncRNA']\n",
    "\n",
    "tRNA_lncRNA[['Raw_ID1','Raw_ID2']].drop_duplicates().to_csv(\n",
    "    edge_data_location + 'tRNA-lncRNA.txt', header=None, sep='\\t', index=None)"
   ]
  },
  {
   "cell_type": "markdown",
   "metadata": {},
   "source": [
    "* ##### piRNA-RNA"
   ]
  },
  {
   "cell_type": "code",
   "execution_count": null,
   "metadata": {},
   "outputs": [],
   "source": [
    "piRNA_RNA = RNA_RNA[(RNA_RNA['Category1']=='piRNA')]\n",
    "RNA_piRNA = RNA_RNA[(RNA_RNA['Category2']=='piRNA')]\n",
    "RNA_piRNA.rename(columns={'Interactor1.Symbol':'Interactor2.Symbol','Category1':'Category2','Raw_ID1':'Raw_ID2',\n",
    "                        'Interactor2.Symbol':'Interactor1.Symbol','Category2':'Category1','Raw_ID2':'Raw_ID1'},\n",
    "                 inplace=True)\n",
    "piRNA_RNA = piRNA_RNA.append(RNA_piRNA)\n",
    "piRNA_RNA.Raw_ID1.fillna(piRNA_RNA['Interactor1.Symbol'], inplace=True)\n",
    "piRNA_RNA.Category2.unique()"
   ]
  },
  {
   "cell_type": "code",
   "execution_count": null,
   "metadata": {},
   "outputs": [],
   "source": [
    "piRNA_mRNA = piRNA_RNA[piRNA_RNA['Category2']=='mRNA']\n",
    "\n",
    "piRNA_mRNA[['Raw_ID1','Raw_ID2']].drop_duplicates().to_csv(\n",
    "    edge_data_location + 'piRNA-mRNA.txt', header=None, sep='\\t', index=None)"
   ]
  },
  {
   "cell_type": "code",
   "execution_count": null,
   "metadata": {},
   "outputs": [],
   "source": [
    "piRNA_lncRNA = piRNA_RNA[piRNA_RNA['Category2']=='lncRNA']\n",
    "\n",
    "piRNA_lncRNA[['Raw_ID1','Raw_ID2']].drop_duplicates().to_csv(\n",
    "    edge_data_location + 'piRNA-lncRNA.txt', header=None, sep='\\t', index=None)"
   ]
  },
  {
   "cell_type": "markdown",
   "metadata": {},
   "source": [
    "* ##### tRF-RNA"
   ]
  },
  {
   "cell_type": "code",
   "execution_count": null,
   "metadata": {},
   "outputs": [],
   "source": [
    "tRF_RNA = RNA_RNA[(RNA_RNA['Category1']=='tRF')]\n",
    "RNA_tRF = RNA_RNA[(RNA_RNA['Category2']=='tRF')]\n",
    "RNA_tRF.rename(columns={'Interactor1.Symbol':'Interactor2.Symbol','Category1':'Category2','Raw_ID1':'Raw_ID2',\n",
    "                        'Interactor2.Symbol':'Interactor1.Symbol','Category2':'Category1','Raw_ID2':'Raw_ID1'},\n",
    "                 inplace=True)\n",
    "tRF_RNA = tRF_RNA.append(RNA_tRF)\n",
    "tRF_RNA.Category2.unique()"
   ]
  },
  {
   "cell_type": "code",
   "execution_count": null,
   "metadata": {},
   "outputs": [],
   "source": [
    "tRF_mRNA = tRF_RNA[tRF_RNA['Category2']=='mRNA']\n",
    "tRF_mRNA = tRF_mRNA[(tRF_mRNA['Raw_ID1'].notna())]\n",
    "tRF_mRNA = tRF_mRNA[(tRF_mRNA['Raw_ID2'].notna())]\n",
    "tRF_mRNA = tRF_mRNA[(tRF_mRNA['Raw_ID2'].str[0].str.isdigit())]\n",
    "\n",
    "tRF_mRNA[['Raw_ID1','Raw_ID2']].drop_duplicates().to_csv(\n",
    "    edge_data_location + 'tRF-mRNA.txt', header=None, sep='\\t', index=None)"
   ]
  },
  {
   "cell_type": "code",
   "execution_count": null,
   "metadata": {},
   "outputs": [],
   "source": [
    "tRF_lncRNA = tRF_RNA[tRF_RNA['Category2']=='lncRNA']\n",
    "tRF_lncRNA = tRF_lncRNA[(tRF_lncRNA['Raw_ID1'].notna())]\n",
    "tRF_lncRNA = tRF_lncRNA[(tRF_lncRNA['Raw_ID2'].notna())]\n",
    "tRF_lncRNA = tRF_lncRNA[(tRF_lncRNA['Raw_ID2'].str[0].str.isdigit())]\n",
    "\n",
    "tRF_lncRNA[['Raw_ID1','Raw_ID2']].drop_duplicates().to_csv(\n",
    "    edge_data_location + 'tRF-lncRNA.txt', header=None, sep='\\t', index=None)"
   ]
  },
  {
   "cell_type": "code",
   "execution_count": null,
   "metadata": {},
   "outputs": [],
   "source": [
    "tRF_pseudo = tRF_RNA[tRF_RNA['Category2']=='pseudo']\n",
    "tRF_pseudo = tRF_pseudo[(tRF_pseudo['Raw_ID1'].notna())]\n",
    "tRF_pseudo = tRF_pseudo[(tRF_pseudo['Raw_ID2'].notna())]\n",
    "tRF_pseudo = tRF_pseudo[(tRF_pseudo['Raw_ID2'].str[0].str.isdigit())]\n",
    "\n",
    "tRF_pseudo[['Raw_ID1','Raw_ID2']].drop_duplicates().to_csv(\n",
    "    edge_data_location + 'tRF-pseudogene.txt', header=None, sep='\\t', index=None)"
   ]
  },
  {
   "cell_type": "markdown",
   "metadata": {},
   "source": [
    "* ##### snoRNA-RNA"
   ]
  },
  {
   "cell_type": "code",
   "execution_count": null,
   "metadata": {},
   "outputs": [],
   "source": [
    "snoRNA_RNA = RNA_RNA[(RNA_RNA['Category1']=='snoRNA')]\n",
    "RNA_snoRNA = RNA_RNA[(RNA_RNA['Category2']=='snoRNA')]\n",
    "RNA_snoRNA.rename(columns={'Interactor1.Symbol':'Interactor2.Symbol','Category1':'Category2','Raw_ID1':'Raw_ID2',\n",
    "                           'Interactor2.Symbol':'Interactor1.Symbol','Category2':'Category1','Raw_ID2':'Raw_ID1'},\n",
    "                  inplace=True)\n",
    "snoRNA_RNA = snoRNA_RNA.append(RNA_snoRNA)\n",
    "snoRNA_RNA.Category2.unique()"
   ]
  },
  {
   "cell_type": "code",
   "execution_count": null,
   "metadata": {},
   "outputs": [],
   "source": [
    "snoRNA_lncRNA = snoRNA_RNA[snoRNA_RNA['Category2']=='lncRNA']\n",
    "snoRNA_lncRNA = snoRNA_lncRNA[(snoRNA_lncRNA['Raw_ID1'].notna())]\n",
    "snoRNA_lncRNA = snoRNA_lncRNA[(snoRNA_lncRNA['Raw_ID2'].notna())]\n",
    "snoRNA_lncRNA = snoRNA_lncRNA[(snoRNA_lncRNA['Raw_ID1'].str[0].str.isdigit()) &\n",
    "                              (snoRNA_lncRNA['Raw_ID2'].str[0].str.isdigit())]\n",
    "\n",
    "snoRNA_lncRNA[['Raw_ID1','Raw_ID2']].drop_duplicates().to_csv(\n",
    "    edge_data_location + 'snoRNA-lncRNA.txt', header=None, sep='\\t', index=None)"
   ]
  },
  {
   "cell_type": "code",
   "execution_count": null,
   "metadata": {},
   "outputs": [],
   "source": [
    "snoRNA_mRNA = snoRNA_RNA[snoRNA_RNA['Category2']=='mRNA']\n",
    "snoRNA_mRNA = snoRNA_mRNA[(snoRNA_mRNA['Raw_ID1'].notna())]\n",
    "snoRNA_mRNA = snoRNA_mRNA[(snoRNA_mRNA['Raw_ID2'].notna())]\n",
    "snoRNA_mRNA = snoRNA_mRNA[(snoRNA_mRNA['Raw_ID1'].str[0].str.isdigit()) &\n",
    "                              (snoRNA_mRNA['Raw_ID2'].str[0].str.isdigit())]\n",
    "\n",
    "snoRNA_mRNA[['Raw_ID1','Raw_ID2']].drop_duplicates().to_csv(\n",
    "    edge_data_location + 'snoRNA-mRNA.txt', header=None, sep='\\t', index=None)"
   ]
  },
  {
   "cell_type": "code",
   "execution_count": null,
   "metadata": {},
   "outputs": [],
   "source": [
    "snoRNA_pseudo = snoRNA_RNA[snoRNA_RNA['Category2']=='pseudo']\n",
    "snoRNA_pseudo = snoRNA_pseudo[(snoRNA_pseudo['Raw_ID1'].notna())]\n",
    "snoRNA_pseudo = snoRNA_pseudo[(snoRNA_pseudo['Raw_ID2'].notna())]\n",
    "snoRNA_pseudo = snoRNA_pseudo[(snoRNA_pseudo['Raw_ID1'].str[0].str.isdigit()) &\n",
    "                              (snoRNA_pseudo['Raw_ID2'].str[0].str.isdigit())]\n",
    "\n",
    "snoRNA_pseudo[['Raw_ID1','Raw_ID2']].drop_duplicates().to_csv(\n",
    "    edge_data_location + 'snoRNA-pseudogene.txt', header=None, sep='\\t', index=None)"
   ]
  },
  {
   "cell_type": "markdown",
   "metadata": {},
   "source": [
    "* ##### lncRNA-RNA"
   ]
  },
  {
   "cell_type": "code",
   "execution_count": null,
   "metadata": {},
   "outputs": [],
   "source": [
    "lncRNA_RNA = RNA_RNA[(RNA_RNA['Category1']=='lncRNA')]\n",
    "RNA_lncRNA = RNA_RNA[(RNA_RNA['Category2']=='lncRNA')]\n",
    "RNA_lncRNA.rename(columns={'Interactor1.Symbol':'Interactor2.Symbol','Category1':'Category2','Raw_ID1':'Raw_ID2',\n",
    "                           'Interactor2.Symbol':'Interactor1.Symbol','Category2':'Category1','Raw_ID2':'Raw_ID1'},\n",
    "                  inplace=True)\n",
    "lncRNA_RNA = lncRNA_RNA.append(RNA_lncRNA)\n",
    "lncRNA_RNA.Category2.unique()"
   ]
  },
  {
   "cell_type": "code",
   "execution_count": null,
   "metadata": {},
   "outputs": [],
   "source": [
    "lncRNA_mRNA = lncRNA_RNA[lncRNA_RNA['Category2']=='mRNA']\n",
    "lncRNA_mRNA = lncRNA_mRNA[(lncRNA_mRNA['Raw_ID1'].notna())]\n",
    "lncRNA_mRNA = lncRNA_mRNA[(lncRNA_mRNA['Raw_ID2'].notna())]\n",
    "lncRNA_mRNA = lncRNA_mRNA[(lncRNA_mRNA['Raw_ID1'].str[0].str.isdigit()) &\n",
    "                          (lncRNA_mRNA['Raw_ID2'].str[0].str.isdigit())]\n",
    "\n",
    "lncRNA_mRNA[['Raw_ID1','Raw_ID2']].drop_duplicates().to_csv(\n",
    "    edge_data_location + 'lncRNA-mRNA.txt', header=None, sep='\\t', index=None)"
   ]
  },
  {
   "cell_type": "code",
   "execution_count": null,
   "metadata": {},
   "outputs": [],
   "source": [
    "lncRNA_lncRNA = lncRNA_RNA[lncRNA_RNA['Category2']=='lncRNA']\n",
    "lncRNA_lncRNA = lncRNA_lncRNA[(lncRNA_lncRNA['Raw_ID1'].notna())]\n",
    "lncRNA_lncRNA = lncRNA_lncRNA[(lncRNA_lncRNA['Raw_ID2'].notna())]\n",
    "lncRNA_lncRNA = lncRNA_lncRNA[(lncRNA_lncRNA['Raw_ID1'].str[0].str.isdigit()) &\n",
    "                              (lncRNA_lncRNA['Raw_ID2'].str[0].str.isdigit())]\n",
    "\n",
    "lncRNA_lncRNA[['Raw_ID1','Raw_ID2']].drop_duplicates().to_csv(\n",
    "    edge_data_location + 'lncRNA-lncRNA.txt', header=None, sep='\\t', index=None)"
   ]
  },
  {
   "cell_type": "code",
   "execution_count": null,
   "metadata": {},
   "outputs": [],
   "source": [
    "lncRNA_rRNA = lncRNA_RNA[lncRNA_RNA['Category2']=='rRNA']\n",
    "lncRNA_rRNA = lncRNA_rRNA[(lncRNA_rRNA['Raw_ID1'].notna())]\n",
    "lncRNA_rRNA = lncRNA_rRNA[(lncRNA_rRNA['Raw_ID2'].notna())]\n",
    "lncRNA_rRNA = lncRNA_rRNA[(lncRNA_rRNA['Raw_ID1'].str[0].str.isdigit()) &\n",
    "                          (lncRNA_rRNA['Raw_ID2'].str[0].str.isdigit())]\n",
    "\n",
    "lncRNA_rRNA[['Raw_ID1','Raw_ID2']].drop_duplicates().to_csv(\n",
    "    edge_data_location + 'lncRNA-rRNA.txt', header=None, sep='\\t', index=None)"
   ]
  },
  {
   "cell_type": "code",
   "execution_count": null,
   "metadata": {},
   "outputs": [],
   "source": [
    "lncRNA_pseudo = lncRNA_RNA[lncRNA_RNA['Category2']=='pseudo']\n",
    "lncRNA_pseudo = lncRNA_pseudo[(lncRNA_pseudo['Raw_ID1'].notna())]\n",
    "lncRNA_pseudo = lncRNA_pseudo[(lncRNA_pseudo['Raw_ID2'].notna())]\n",
    "lncRNA_pseudo = lncRNA_pseudo[(lncRNA_pseudo['Raw_ID1'].str[0].str.isdigit()) &\n",
    "                              (lncRNA_pseudo['Raw_ID2'].str[0].str.isdigit())]\n",
    "\n",
    "lncRNA_pseudo[['Raw_ID1','Raw_ID2']].drop_duplicates().to_csv(\n",
    "    edge_data_location + 'lncRNA-pseudogene.txt', header=None, sep='\\t', index=None)"
   ]
  },
  {
   "cell_type": "code",
   "execution_count": null,
   "metadata": {},
   "outputs": [],
   "source": [
    "lncRNA_protein = lncRNA_RNA[(lncRNA_RNA['Category2']=='protein') | (lncRNA_RNA['Category2']=='Orotein')]\n",
    "lncRNA_protein = lncRNA_protein[(lncRNA_protein['Raw_ID1'].notna())]\n",
    "lncRNA_protein = lncRNA_protein[(lncRNA_protein['Raw_ID2'].notna())]\n",
    "lncRNA_protein = lncRNA_protein[(lncRNA_protein['Raw_ID1'].str[0].str.isdigit()) &\n",
    "                                (lncRNA_protein['Raw_ID2'].str[0].str.isdigit())]\n",
    "\n",
    "lncRNA_protein['Raw_ID2'] = lncRNA_protein['Raw_ID2'].astype(str).astype(int)\n",
    "\n",
    "lncRNA_protein = pd.merge(lncRNA_protein, entrez_pro_map.rename(columns={0: 'Raw_ID2'}), on='Raw_ID2')\n",
    "lncRNA_protein.drop(columns=['Raw_ID2'], inplace=True)\n",
    "\n",
    "lncRNA_protein[['Raw_ID1',1]].drop_duplicates().to_csv(\n",
    "    edge_data_location + 'lncRNA-protein.txt', header=None, sep='\\t', index=None)"
   ]
  },
  {
   "cell_type": "code",
   "execution_count": null,
   "metadata": {},
   "outputs": [],
   "source": [
    "lncRNA_ncRNA = lncRNA_RNA[lncRNA_RNA['Category2']=='ncRNA']\n",
    "lncRNA_ncRNA = lncRNA_ncRNA[(lncRNA_ncRNA['Raw_ID1'].notna())]\n",
    "lncRNA_ncRNA = lncRNA_ncRNA[(lncRNA_ncRNA['Raw_ID2'].notna())]\n",
    "lncRNA_ncRNA = lncRNA_ncRNA[(lncRNA_ncRNA['Raw_ID1'].str[0].str.isdigit()) &\n",
    "                            (lncRNA_ncRNA['Raw_ID2'].str[0].str.isdigit())]\n",
    "\n",
    "lncRNA_ncRNA[['Raw_ID1','Raw_ID2']].drop_duplicates().to_csv(\n",
    "    edge_data_location + 'lncRNA-ncRNA.txt', header=None, sep='\\t', index=None)"
   ]
  },
  {
   "cell_type": "code",
   "execution_count": null,
   "metadata": {},
   "outputs": [],
   "source": [
    "lncRNA_scaRNA = lncRNA_RNA[lncRNA_RNA['Category2']=='scaRNA']\n",
    "lncRNA_scaRNA = lncRNA_scaRNA[(lncRNA_scaRNA['Raw_ID1'].notna())]\n",
    "lncRNA_scaRNA = lncRNA_scaRNA[(lncRNA_scaRNA['Raw_ID2'].notna())]\n",
    "lncRNA_scaRNA = lncRNA_scaRNA[(lncRNA_scaRNA['Raw_ID1'].str[0].str.isdigit()) &\n",
    "                              (lncRNA_scaRNA['Raw_ID2'].str[0].str.isdigit())]\n",
    "\n",
    "lncRNA_scaRNA[['Raw_ID1','Raw_ID2']].drop_duplicates().to_csv(\n",
    "    edge_data_location + 'lncRNA-scaRNA.txt', header=None, sep='\\t', index=None)"
   ]
  },
  {
   "cell_type": "code",
   "execution_count": null,
   "metadata": {},
   "outputs": [],
   "source": [
    "lncRNA_TF = lncRNA_RNA[lncRNA_RNA['Category2']=='TF']\n",
    "lncRNA_TF = lncRNA_TF[(lncRNA_TF['Raw_ID1'].notna())]\n",
    "lncRNA_TF = lncRNA_TF[(lncRNA_TF['Raw_ID2'].notna())]\n",
    "lncRNA_TF = lncRNA_TF[(lncRNA_TF['Raw_ID1'].str[0].str.isdigit()) &\n",
    "                      (lncRNA_TF['Raw_ID2'].str[0].str.isdigit())]\n",
    "\n",
    "lncRNA_TF['Raw_ID2'] = lncRNA_TF['Raw_ID2'].astype(str).astype(int)\n",
    "\n",
    "lncRNA_TF = pd.merge(lncRNA_TF, entrez_pro_map.rename(columns={0: 'Raw_ID2'}), on='Raw_ID2')\n",
    "lncRNA_TF.drop(columns=['Raw_ID2'], inplace=True)\n",
    "\n",
    "lncRNA_TF[['Raw_ID1',1]].drop_duplicates().to_csv(\n",
    "    edge_data_location + 'lncRNA-TF.txt', header=None, sep='\\t', index=None)"
   ]
  },
  {
   "cell_type": "code",
   "execution_count": null,
   "metadata": {},
   "outputs": [],
   "source": [
    "lncRNA_ribozyme = lncRNA_RNA[lncRNA_RNA['Category2']=='ribozyme']\n",
    "lncRNA_ribozyme = lncRNA_ribozyme[(lncRNA_ribozyme['Raw_ID1'].notna())]\n",
    "lncRNA_ribozyme = lncRNA_ribozyme[(lncRNA_ribozyme['Raw_ID2'].notna())]\n",
    "lncRNA_ribozyme = lncRNA_ribozyme[(lncRNA_ribozyme['Raw_ID1'].str[0].str.isdigit()) &\n",
    "                                  (lncRNA_ribozyme['Raw_ID2'].str[0].str.isdigit())]\n",
    "\n",
    "lncRNA_ribozyme[['Raw_ID1','Raw_ID2']].drop_duplicates().to_csv(\n",
    "    edge_data_location + 'lncRNA-ribozyme.txt', header=None, sep='\\t', index=None)"
   ]
  },
  {
   "cell_type": "markdown",
   "metadata": {},
   "source": [
    "* ##### eRNA-RNA"
   ]
  },
  {
   "cell_type": "code",
   "execution_count": null,
   "metadata": {},
   "outputs": [],
   "source": [
    "eRNA_RNA = RNA_RNA[(RNA_RNA['Category1']=='eRNA')]\n",
    "RNA_eRNA = RNA_RNA[(RNA_RNA['Category2']=='eRNA')]\n",
    "RNA_eRNA.rename(columns={'Interactor1.Symbol':'Interactor2.Symbol','Category1':'Category2','Raw_ID1':'Raw_ID2',\n",
    "                           'Interactor2.Symbol':'Interactor1.Symbol','Category2':'Category1','Raw_ID2':'Raw_ID1'},\n",
    "                inplace=True)\n",
    "eRNA_RNA = eRNA_RNA.append(RNA_eRNA)\n",
    "eRNA_RNA.Category2.unique()"
   ]
  },
  {
   "cell_type": "code",
   "execution_count": null,
   "metadata": {},
   "outputs": [],
   "source": [
    "eRNA_RNA[['Interactor1.Symbol','Raw_ID2']].drop_duplicates().to_csv(\n",
    "    edge_data_location + 'eRNA-mRNA.txt', header=None, sep='\\t', index=None)"
   ]
  },
  {
   "cell_type": "markdown",
   "metadata": {},
   "source": [
    "* ##### circRNA-RNA"
   ]
  },
  {
   "cell_type": "code",
   "execution_count": null,
   "metadata": {},
   "outputs": [],
   "source": [
    "circRNA_RNA = RNA_RNA[(RNA_RNA['Category1']=='circRNA')]\n",
    "RNA_circRNA = RNA_RNA[(RNA_RNA['Category2']=='circRNA')]\n",
    "RNA_circRNA.rename(columns={'Interactor1.Symbol':'Interactor2.Symbol','Category1':'Category2','Raw_ID1':'Raw_ID2',\n",
    "                           'Interactor2.Symbol':'Interactor1.Symbol','Category2':'Category1','Raw_ID2':'Raw_ID1'},\n",
    "                inplace=True)\n",
    "circRNA_RNA = circRNA_RNA.append(RNA_circRNA)\n",
    "circRNA_RNA.Category2.unique() \n",
    "# circRNA-mRNA contains no NCBI IDs for circRNA"
   ]
  },
  {
   "cell_type": "markdown",
   "metadata": {},
   "source": [
    "* ##### scRNA-RNA"
   ]
  },
  {
   "cell_type": "code",
   "execution_count": null,
   "metadata": {},
   "outputs": [],
   "source": [
    "scRNA_RNA = RNA_RNA[(RNA_RNA['Category1']=='scRNA')]\n",
    "RNA_scRNA = RNA_RNA[(RNA_RNA['Category2']=='scRNA')]\n",
    "RNA_scRNA.rename(columns={'Interactor1.Symbol':'Interactor2.Symbol','Category1':'Category2','Raw_ID1':'Raw_ID2',\n",
    "                           'Interactor2.Symbol':'Interactor1.Symbol','Category2':'Category1','Raw_ID2':'Raw_ID1'},\n",
    "                inplace=True)\n",
    "scRNA_RNA = scRNA_RNA.append(RNA_scRNA)\n",
    "scRNA_RNA.Category2.unique()"
   ]
  },
  {
   "cell_type": "code",
   "execution_count": null,
   "metadata": {},
   "outputs": [],
   "source": [
    "scRNA_mRNA = scRNA_RNA[scRNA_RNA.Category2 == 'mRNA']\n",
    "scRNA_mRNA[['Raw_ID1','Raw_ID2']].drop_duplicates().to_csv(\n",
    "    edge_data_location + 'scRNA-mRNA.txt', header=None, sep='\\t', index=None)"
   ]
  },
  {
   "cell_type": "markdown",
   "metadata": {},
   "source": [
    "* ##### unknownRNA-RNA"
   ]
  },
  {
   "cell_type": "code",
   "execution_count": null,
   "metadata": {},
   "outputs": [],
   "source": [
    "unknownRNA_RNA = RNA_RNA[(RNA_RNA['Category1']=='unknown')]\n",
    "RNA_unknownRNA = RNA_RNA[(RNA_RNA['Category2']=='unknown')]\n",
    "RNA_unknownRNA.rename(columns={'Interactor1.Symbol':'Interactor2.Symbol','Category1':'Category2','Raw_ID1':'Raw_ID2',\n",
    "                           'Interactor2.Symbol':'Interactor1.Symbol','Category2':'Category1','Raw_ID2':'Raw_ID1'},\n",
    "                      inplace=True)\n",
    "unknownRNA_RNA = unknownRNA_RNA.append(RNA_unknownRNA)\n",
    "unknownRNA_RNA.Category2.unique() "
   ]
  },
  {
   "cell_type": "markdown",
   "metadata": {},
   "source": [
    "* ##### TF-RNA"
   ]
  },
  {
   "cell_type": "code",
   "execution_count": null,
   "metadata": {},
   "outputs": [],
   "source": [
    "TF_RNA = RNA_RNA[(RNA_RNA['Category1']=='TF')]\n",
    "RNA_TF = RNA_RNA[(RNA_RNA['Category2']=='TF')]\n",
    "RNA_TF.rename(columns={'Interactor1.Symbol':'Interactor2.Symbol','Category1':'Category2','Raw_ID1':'Raw_ID2',\n",
    "                       'Interactor2.Symbol':'Interactor1.Symbol','Category2':'Category1','Raw_ID2':'Raw_ID1'},\n",
    "                       inplace=True)\n",
    "TF_RNA = RNA_TF.append(RNA_TF)\n",
    "TF_RNA.Category2.unique() "
   ]
  },
  {
   "cell_type": "markdown",
   "metadata": {},
   "source": [
    "* ##### pseudogene-RNA"
   ]
  },
  {
   "cell_type": "code",
   "execution_count": null,
   "metadata": {},
   "outputs": [],
   "source": [
    "pseudo_RNA = RNA_RNA[(RNA_RNA['Category1']=='pseudo')]\n",
    "RNA_pseudo = RNA_RNA[(RNA_RNA['Category2']=='pseudo')]\n",
    "RNA_pseudo.rename(columns={'Interactor1.Symbol':'Interactor2.Symbol','Category1':'Category2','Raw_ID1':'Raw_ID2',\n",
    "                       'Interactor2.Symbol':'Interactor1.Symbol','Category2':'Category1','Raw_ID2':'Raw_ID1'},\n",
    "                       inplace=True)\n",
    "pseudo_RNA = RNA_pseudo.append(RNA_pseudo)\n",
    "pseudo_RNA.Category2.unique() "
   ]
  },
  {
   "cell_type": "code",
   "execution_count": null,
   "metadata": {},
   "outputs": [],
   "source": [
    "pseudo_mRNA = pseudo_RNA[pseudo_RNA['Category2']=='mRNA']\n",
    "pseudo_mRNA = pseudo_mRNA[(pseudo_mRNA['Raw_ID1'].notna())]\n",
    "pseudo_mRNA = pseudo_mRNA[(pseudo_mRNA['Raw_ID2'].notna())]\n",
    "pseudo_mRNA = pseudo_mRNA[(pseudo_mRNA['Raw_ID1'].str[0].str.isdigit()) &\n",
    "                          (pseudo_mRNA['Raw_ID2'].str[0].str.isdigit())]\n",
    "\n",
    "pseudo_mRNA[['Raw_ID1','Raw_ID2']].drop_duplicates().to_csv(\n",
    "    edge_data_location + 'pseudogene-mRNA.txt', header=None, sep='\\t', index=None)"
   ]
  },
  {
   "cell_type": "code",
   "execution_count": null,
   "metadata": {},
   "outputs": [],
   "source": [
    "pseudo_pseudo = pseudo_RNA[pseudo_RNA['Category2']=='pseudo']\n",
    "pseudo_pseudo = pseudo_pseudo[(pseudo_pseudo['Raw_ID1'].notna())]\n",
    "pseudo_pseudo = pseudo_pseudo[(pseudo_pseudo['Raw_ID2'].notna())]\n",
    "pseudo_pseudo = pseudo_pseudo[(pseudo_pseudo['Raw_ID1'].str[0].str.isdigit()) &\n",
    "                              (pseudo_pseudo['Raw_ID2'].str[0].str.isdigit())]\n",
    "\n",
    "pseudo_pseudo[['Raw_ID1','Raw_ID2']].drop_duplicates().to_csv(\n",
    "    edge_data_location + 'pseudogene-pseudogene.txt', header=None, sep='\\t', index=None)"
   ]
  },
  {
   "cell_type": "code",
   "execution_count": null,
   "metadata": {},
   "outputs": [],
   "source": [
    "pseudo_rRNA = pseudo_RNA[pseudo_RNA['Category2']=='rRNA']\n",
    "pseudo_rRNA = pseudo_rRNA[(pseudo_rRNA['Raw_ID1'].notna())]\n",
    "pseudo_rRNA = pseudo_rRNA[(pseudo_rRNA['Raw_ID2'].notna())]\n",
    "pseudo_rRNA = pseudo_rRNA[(pseudo_rRNA['Raw_ID1'].str[0].str.isdigit()) &\n",
    "                          (pseudo_rRNA['Raw_ID2'].str[0].str.isdigit())]\n",
    "\n",
    "pseudo_rRNA[['Raw_ID1','Raw_ID2']].drop_duplicates().to_csv(\n",
    "    edge_data_location + 'pseudogene-rRNA.txt', header=None, sep='\\t', index=None)"
   ]
  },
  {
   "cell_type": "markdown",
   "metadata": {},
   "source": [
    "* ##### ribozyme-RNA"
   ]
  },
  {
   "cell_type": "code",
   "execution_count": null,
   "metadata": {},
   "outputs": [],
   "source": [
    "ribozyme_RNA = RNA_RNA[(RNA_RNA['Category1']=='ribozyme')]\n",
    "RNA_ribozyme = RNA_RNA[(RNA_RNA['Category2']=='ribozyme')]\n",
    "RNA_ribozyme.rename(columns={'Interactor1.Symbol':'Interactor2.Symbol','Category1':'Category2','Raw_ID1':'Raw_ID2',\n",
    "                       'Interactor2.Symbol':'Interactor1.Symbol','Category2':'Category1','Raw_ID2':'Raw_ID1'},\n",
    "                       inplace=True)\n",
    "ribozyme_RNA = RNA_ribozyme.append(RNA_ribozyme)\n",
    "ribozyme_RNA.Category2.unique() "
   ]
  },
  {
   "cell_type": "markdown",
   "metadata": {},
   "source": [
    "* ##### mRNA-RNA"
   ]
  },
  {
   "cell_type": "code",
   "execution_count": null,
   "metadata": {},
   "outputs": [],
   "source": [
    "mRNA_RNA = RNA_RNA[(RNA_RNA['Category1']=='mRNA')]\n",
    "RNA_mRNA = RNA_RNA[(RNA_RNA['Category2']=='mRNA')]\n",
    "RNA_mRNA.rename(columns={'Interactor1.Symbol':'Interactor2.Symbol','Category1':'Category2','Raw_ID1':'Raw_ID2',\n",
    "                       'Interactor2.Symbol':'Interactor1.Symbol','Category2':'Category1','Raw_ID2':'Raw_ID1'},\n",
    "                       inplace=True)\n",
    "mRNA_RNA = mRNA_RNA.append(RNA_mRNA)\n",
    "mRNA_RNA.Category2.unique() "
   ]
  },
  {
   "cell_type": "code",
   "execution_count": null,
   "metadata": {},
   "outputs": [],
   "source": [
    "mRNA_mRNA = mRNA_RNA[mRNA_RNA['Category2']=='mRNA']\n",
    "mRNA_mRNA = mRNA_mRNA[(mRNA_mRNA['Raw_ID1'].notna())]\n",
    "mRNA_mRNA = mRNA_mRNA[(mRNA_mRNA['Raw_ID2'].notna())]\n",
    "mRNA_mRNA = mRNA_mRNA[(mRNA_mRNA['Raw_ID1'].str[0].str.isdigit()) &\n",
    "                      (mRNA_mRNA['Raw_ID2'].str[0].str.isdigit())]\n",
    "\n",
    "mRNA_mRNA[['Raw_ID1','Raw_ID2']].drop_duplicates().to_csv(\n",
    "    edge_data_location + 'mRNA-mRNA.txt', header=None, sep='\\t', index=None)"
   ]
  },
  {
   "cell_type": "code",
   "execution_count": null,
   "metadata": {},
   "outputs": [],
   "source": [
    "mRNA_rRNA = mRNA_RNA[mRNA_RNA['Category2']=='rRNA']\n",
    "mRNA_rRNA = mRNA_rRNA[(mRNA_rRNA['Raw_ID1'].notna())]\n",
    "mRNA_rRNA = mRNA_rRNA[(mRNA_rRNA['Raw_ID2'].notna())]\n",
    "mRNA_rRNA = mRNA_rRNA[(mRNA_rRNA['Raw_ID1'].str[0].str.isdigit()) &\n",
    "                      (mRNA_rRNA['Raw_ID2'].str[0].str.isdigit())]\n",
    "\n",
    "mRNA_rRNA[['Raw_ID1','Raw_ID2']].drop_duplicates().to_csv(\n",
    "    edge_data_location + 'mRNA-rRNA.txt', header=None, sep='\\t', index=None)"
   ]
  },
  {
   "cell_type": "code",
   "execution_count": null,
   "metadata": {},
   "outputs": [],
   "source": [
    "mRNA_ncRNA = mRNA_RNA[mRNA_RNA['Category2']=='ncRNA']\n",
    "mRNA_ncRNA = mRNA_ncRNA[(mRNA_ncRNA['Raw_ID1'].notna())]\n",
    "mRNA_ncRNA = mRNA_ncRNA[(mRNA_ncRNA['Raw_ID2'].notna())]\n",
    "mRNA_ncRNA = mRNA_ncRNA[(mRNA_ncRNA['Raw_ID1'].str[0].str.isdigit()) &\n",
    "                        (mRNA_ncRNA['Raw_ID2'].str[0].str.isdigit())]\n",
    "\n",
    "mRNA_ncRNA[['Raw_ID1','Raw_ID2']].drop_duplicates().to_csv(\n",
    "    edge_data_location + 'mRNA-ncRNA.txt', header=None, sep='\\t', index=None)"
   ]
  },
  {
   "cell_type": "code",
   "execution_count": null,
   "metadata": {},
   "outputs": [],
   "source": [
    "mRNA_scaRNA = mRNA_RNA[mRNA_RNA['Category2']=='scaRNA']\n",
    "mRNA_scaRNA = mRNA_scaRNA[(mRNA_scaRNA['Raw_ID1'].notna())]\n",
    "mRNA_scaRNA = mRNA_scaRNA[(mRNA_scaRNA['Raw_ID2'].notna())]\n",
    "mRNA_scaRNA = mRNA_scaRNA[(mRNA_scaRNA['Raw_ID1'].str[0].str.isdigit()) &\n",
    "                          (mRNA_scaRNA['Raw_ID2'].str[0].str.isdigit())]\n",
    "\n",
    "mRNA_scaRNA[['Raw_ID1','Raw_ID2']].drop_duplicates().to_csv(\n",
    "    edge_data_location + 'mRNA-scaRNA.txt', header=None, sep='\\t', index=None)"
   ]
  },
  {
   "cell_type": "markdown",
   "metadata": {},
   "source": [
    "* ##### ncRNA-RNA"
   ]
  },
  {
   "cell_type": "code",
   "execution_count": null,
   "metadata": {},
   "outputs": [],
   "source": [
    "ncRNA_RNA = RNA_RNA[(RNA_RNA['Category1']=='ncRNA')]\n",
    "RNA_ncRNA = RNA_RNA[(RNA_RNA['Category2']=='ncRNA')]\n",
    "RNA_ncRNA.rename(columns={'Interactor1.Symbol':'Interactor2.Symbol','Category1':'Category2','Raw_ID1':'Raw_ID2',\n",
    "                       'Interactor2.Symbol':'Interactor1.Symbol','Category2':'Category1','Raw_ID2':'Raw_ID1'},\n",
    "                       inplace=True)\n",
    "ncRNA_RNA = ncRNA_RNA.append(RNA_ncRNA)\n",
    "ncRNA_RNA.Category2.unique() "
   ]
  },
  {
   "cell_type": "markdown",
   "metadata": {},
   "source": [
    "* ##### ncRNA-RNA"
   ]
  },
  {
   "cell_type": "code",
   "execution_count": null,
   "metadata": {},
   "outputs": [],
   "source": [
    "rRNA_RNA = RNA_RNA[(RNA_RNA['Category1']=='rRNA')]\n",
    "RNA_rRNA = RNA_RNA[(RNA_RNA['Category2']=='rRNA')]\n",
    "RNA_rRNA.rename(columns={'Interactor1.Symbol':'Interactor2.Symbol','Category1':'Category2','Raw_ID1':'Raw_ID2',\n",
    "                       'Interactor2.Symbol':'Interactor1.Symbol','Category2':'Category1','Raw_ID2':'Raw_ID1'},\n",
    "                       inplace=True)\n",
    "rRNA_RNA = rRNA_RNA.append(RNA_rRNA)\n",
    "rRNA_RNA.Category2.unique() "
   ]
  },
  {
   "cell_type": "code",
   "execution_count": null,
   "metadata": {},
   "outputs": [],
   "source": [
    "rRNA_rRNA = rRNA_RNA[rRNA_RNA['Category2']=='rRNA']\n",
    "rRNA_rRNA = rRNA_rRNA[(rRNA_rRNA['Raw_ID1'].notna())]\n",
    "rRNA_rRNA = rRNA_rRNA[(rRNA_rRNA['Raw_ID2'].notna())]\n",
    "rRNA_rRNA = rRNA_rRNA[(rRNA_rRNA['Raw_ID1'].str[0].str.isdigit()) &\n",
    "                      (rRNA_rRNA['Raw_ID2'].str[0].str.isdigit())]\n",
    "\n",
    "rRNA_rRNA[['Raw_ID1','Raw_ID2']].drop_duplicates().to_csv(\n",
    "    edge_data_location + 'rRNA-rRNA.txt', header=None, sep='\\t', index=None)"
   ]
  },
  {
   "cell_type": "code",
   "execution_count": null,
   "metadata": {},
   "outputs": [],
   "source": [
    "rRNA_scaRNA = rRNA_RNA[rRNA_RNA['Category2']=='scaRNA']\n",
    "rRNA_scaRNA = rRNA_scaRNA[(rRNA_scaRNA['Raw_ID1'].notna())]\n",
    "rRNA_scaRNA = rRNA_scaRNA[(rRNA_scaRNA['Raw_ID2'].notna())]\n",
    "rRNA_scaRNA = rRNA_scaRNA[(rRNA_scaRNA['Raw_ID1'].str[0].str.isdigit()) &\n",
    "                      (rRNA_scaRNA['Raw_ID2'].str[0].str.isdigit())]\n",
    "# Empty"
   ]
  },
  {
   "cell_type": "markdown",
   "metadata": {},
   "source": [
    "* ##### protein-RNA"
   ]
  },
  {
   "cell_type": "code",
   "execution_count": null,
   "metadata": {},
   "outputs": [],
   "source": [
    "protein_RNA = RNA_RNA[(RNA_RNA['Category1']=='protein')]\n",
    "RNA_protein = RNA_RNA[(RNA_RNA['Category2']=='protein')]\n",
    "RNA_protein.rename(columns={'Interactor1.Symbol':'Interactor2.Symbol','Category1':'Category2','Raw_ID1':'Raw_ID2',\n",
    "                            'Interactor2.Symbol':'Interactor1.Symbol','Category2':'Category1','Raw_ID2':'Raw_ID1'},\n",
    "                            inplace=True)\n",
    "protein_RNA = protein_RNA.append(RNA_protein)\n",
    "protein_RNA.Category2.unique() "
   ]
  },
  {
   "cell_type": "markdown",
   "metadata": {},
   "source": [
    "* ##### protein-RNA"
   ]
  },
  {
   "cell_type": "code",
   "execution_count": null,
   "metadata": {},
   "outputs": [],
   "source": [
    "scaRNA_RNA = RNA_RNA[(RNA_RNA['Category1']=='scaRNA')]\n",
    "RNA_scaRNA = RNA_RNA[(RNA_RNA['Category2']=='scaRNA')]\n",
    "RNA_scaRNA.rename(columns={'Interactor1.Symbol':'Interactor2.Symbol','Category1':'Category2','Raw_ID1':'Raw_ID2',\n",
    "                           'Interactor2.Symbol':'Interactor1.Symbol','Category2':'Category1','Raw_ID2':'Raw_ID1'},\n",
    "                           inplace=True)\n",
    "scaRNA_RNA = scaRNA_RNA.append(RNA_scaRNA)\n",
    "scaRNA_RNA.Category2.unique() "
   ]
  },
  {
   "cell_type": "markdown",
   "metadata": {},
   "source": [
    "* #### RNA-protein"
   ]
  },
  {
   "cell_type": "code",
   "execution_count": null,
   "metadata": {},
   "outputs": [],
   "source": [
    "# http://www.rnainter.org/raidMedia/download/Download_data_RP.tar.gz\n",
    "RNA_protein = pd.read_csv(unprocessed_data_location+'Download_data_RP.txt',sep='\\t')\n",
    "# We select only strong evidence interactions for hsa\n",
    "RNA_protein = RNA_protein[(RNA_protein['score'] >= 0.2886) &\n",
    "                  (RNA_protein['Species1'].str.contains('apiens')) &\n",
    "                  (RNA_protein['Species2'].str.contains('apiens'))]\n",
    "\n",
    "# We keep only entries starting with NCBI, miRBase, tRFdb, HG19_TRNAS_\n",
    "RNA_protein = RNA_protein[((RNA_protein['Raw_ID1'].str.startswith('NCBI')) |\n",
    "                  (RNA_protein['Raw_ID1'].str.startswith('miRBase')) |\n",
    "                  (RNA_protein['Raw_ID1'].str.startswith('nm-tRNA')) |\n",
    "                  (RNA_protein['Raw_ID1'].str.startswith('tRNA'))) &\n",
    "                  (RNA_protein['Raw_ID2'].str.startswith('NCBI'))\n",
    "                ]\n",
    "\n",
    "RNA_protein.Raw_ID1 = RNA_protein.Raw_ID1.str.replace(\"NCBI:\", '')\n",
    "RNA_protein.Raw_ID2 = RNA_protein.Raw_ID2.str.replace(\"NCBI:\", '')\n",
    "\n",
    "# miRNA\n",
    "RNA_protein.Raw_ID1 = RNA_protein.Raw_ID1.str.replace(\"miRBase:\", '')\n",
    "RNA_protein.Raw_ID2 = RNA_protein.Raw_ID2.str.replace(\"miRBase:\", '')\n",
    "\n",
    "RNA_protein['Raw_ID1'] = RNA_protein['Raw_ID1'].str.split(';')\n",
    "RNA_protein = RNA_protein.explode('Raw_ID1')\n",
    "RNA_protein['Raw_ID2'] = RNA_protein['Raw_ID2'].str.split(';')\n",
    "RNA_protein = RNA_protein.explode('Raw_ID2')\n",
    "\n",
    "RNA_protein = RNA_protein[(RNA_protein['Raw_ID2'].notna())]\n",
    "RNA_protein['Raw_ID2'] = RNA_protein['Raw_ID2'].astype(str).astype(int)\n",
    "RNA_protein = pd.merge(RNA_protein, entrez_pro_map.rename(columns={0: 'Raw_ID2'}), on='Raw_ID2')\n",
    "RNA_protein.drop(columns=['Raw_ID2'], inplace=True)\n",
    "\n",
    "i = RNA_protein[~(RNA_protein['Category1']=='miRNA')].index.values\n",
    "RNA_protein.loc[i,\"Raw_ID1\"] = RNA_protein.loc[i,\"Raw_ID1\"] + '#' + RNA_protein.loc[i,\"Category1\"]\n",
    "\n",
    "RNA_protein.drop(columns=['RNAInterID','Species1','Species2'],inplace=True)\n",
    "RNA_protein"
   ]
  },
  {
   "cell_type": "code",
   "execution_count": null,
   "metadata": {},
   "outputs": [],
   "source": [
    "set(RNA_protein.Category2)"
   ]
  },
  {
   "cell_type": "code",
   "execution_count": null,
   "metadata": {},
   "outputs": [],
   "source": [
    "RNA_RBP = RNA_protein[RNA_protein.Category2=='RBP']\n",
    "RNA_TF = RNA_protein[RNA_protein.Category2=='TF']\n",
    "RNA_protein = RNA_protein[(RNA_protein.Category2=='protein') | (RNA_protein.Category2=='Protein')]"
   ]
  },
  {
   "cell_type": "code",
   "execution_count": null,
   "metadata": {},
   "outputs": [],
   "source": [
    "set(RNA_protein.Category1)"
   ]
  },
  {
   "cell_type": "code",
   "execution_count": null,
   "metadata": {},
   "outputs": [],
   "source": [
    "circRNA_protein = RNA_protein[RNA_protein['Category1']=='circRNA']\n",
    "circRNA_protein = circRNA_protein[(circRNA_protein['Raw_ID1'].notna())]\n",
    "circRNA_protein = circRNA_protein[(circRNA_protein['Raw_ID1'].str[0].str.isdigit())]\n",
    "\n",
    "circRNA_protein[['Raw_ID1',1]].drop_duplicates().to_csv(\n",
    "    edge_data_location + 'circRNA-protein.txt', header=None, sep='\\t', index=None)"
   ]
  },
  {
   "cell_type": "code",
   "execution_count": null,
   "metadata": {},
   "outputs": [],
   "source": [
    "lncRNA_protein2 = RNA_protein[RNA_protein['Category1']=='lncRNA']\n",
    "lncRNA_protein2 = lncRNA_protein2[(lncRNA_protein2['Raw_ID1'].notna())]\n",
    "lncRNA_protein2 = lncRNA_protein2[(lncRNA_protein2['Raw_ID1'].str[0].str.isdigit())]\n",
    "\n",
    "lncRNA_protein = lncRNA_protein.append(lncRNA_protein2)\n",
    "\n",
    "lncRNA_protein[['Raw_ID1',1]].drop_duplicates().to_csv(\n",
    "    edge_data_location + 'lncRNA-protein.txt', header=None, sep='\\t', index=None)"
   ]
  },
  {
   "cell_type": "code",
   "execution_count": null,
   "metadata": {},
   "outputs": [],
   "source": [
    "mRNA_protein = RNA_protein[RNA_protein['Category1']=='mRNA']\n",
    "mRNA_protein = mRNA_protein[(mRNA_protein['Raw_ID1'].notna())]\n",
    "mRNA_protein = mRNA_protein[(mRNA_protein['Raw_ID1'].str[0].str.isdigit())]\n",
    "\n",
    "mRNA_protein[['Raw_ID1',1]].drop_duplicates().to_csv(\n",
    "    edge_data_location + 'mRNA-protein.txt', header=None, sep='\\t', index=None)"
   ]
  },
  {
   "cell_type": "code",
   "execution_count": null,
   "metadata": {},
   "outputs": [],
   "source": [
    "ncRNA_protein = RNA_protein[RNA_protein['Category1']=='ncRNA']\n",
    "ncRNA_protein = ncRNA_protein[(ncRNA_protein['Raw_ID1'].notna())]\n",
    "ncRNA_protein = ncRNA_protein[(ncRNA_protein['Raw_ID1'].str[0].str.isdigit())]\n",
    "\n",
    "ncRNA_protein[['Raw_ID1',1]].drop_duplicates().to_csv(\n",
    "    edge_data_location + 'ncRNA-protein.txt', header=None, sep='\\t', index=None)"
   ]
  },
  {
   "cell_type": "code",
   "execution_count": null,
   "metadata": {},
   "outputs": [],
   "source": [
    "othersRNA_protein = RNA_protein[RNA_protein['Category1']=='ncRNA']\n",
    "othersRNA_protein = othersRNA_protein[(othersRNA_protein['Raw_ID1'].notna())]\n",
    "othersRNA_protein = othersRNA_protein[(othersRNA_protein['Raw_ID1'].str[0].str.isdigit())]\n",
    "\n",
    "othersRNA_protein[['Raw_ID1',1]].drop_duplicates().to_csv(\n",
    "    edge_data_location + 'othersRNA-protein.txt', header=None, sep='\\t', index=None)"
   ]
  },
  {
   "cell_type": "code",
   "execution_count": null,
   "metadata": {},
   "outputs": [],
   "source": [
    "pseudo_protein = RNA_protein[RNA_protein['Category1']=='pseudo']\n",
    "pseudo_protein = pseudo_protein[(pseudo_protein['Raw_ID1'].notna())]\n",
    "pseudo_protein = pseudo_protein[(pseudo_protein['Raw_ID1'].str[0].str.isdigit())]\n",
    "\n",
    "pseudo_protein[['Raw_ID1',1]].drop_duplicates().to_csv(\n",
    "    edge_data_location + 'pseudogene-protein.txt', header=None, sep='\\t', index=None)"
   ]
  },
  {
   "cell_type": "code",
   "execution_count": null,
   "metadata": {},
   "outputs": [],
   "source": [
    "ribozyme_protein = RNA_protein[RNA_protein['Category1']=='ribozyme']\n",
    "ribozyme_protein = ribozyme_protein[(ribozyme_protein['Raw_ID1'].notna())]\n",
    "ribozyme_protein = ribozyme_protein[(ribozyme_protein['Raw_ID1'].str[0].str.isdigit())]\n",
    "\n",
    "ribozyme_protein[['Raw_ID1',1]].drop_duplicates().to_csv(\n",
    "    edge_data_location + 'ribozyme-protein.txt', header=None, sep='\\t', index=None)"
   ]
  },
  {
   "cell_type": "code",
   "execution_count": null,
   "metadata": {},
   "outputs": [],
   "source": [
    "scRNA_protein = RNA_protein[RNA_protein['Category1']=='scRNA']\n",
    "scRNA_protein = scRNA_protein[(scRNA_protein['Raw_ID1'].notna())]\n",
    "scRNA_protein = scRNA_protein[(scRNA_protein['Raw_ID1'].str[0].str.isdigit())]\n",
    "\n",
    "scRNA_protein[['Raw_ID1',1]].drop_duplicates().to_csv(\n",
    "    edge_data_location + 'scRNA-protein.txt', header=None, sep='\\t', index=None)"
   ]
  },
  {
   "cell_type": "code",
   "execution_count": null,
   "metadata": {},
   "outputs": [],
   "source": [
    "snRNA_protein = RNA_protein[RNA_protein['Category1']=='snRNA']\n",
    "snRNA_protein = snRNA_protein[(snRNA_protein['Raw_ID1'].notna())]\n",
    "snRNA_protein = snRNA_protein[(snRNA_protein['Raw_ID1'].str[0].str.isdigit())]\n",
    "\n",
    "snRNA_protein[['Raw_ID1',1]].drop_duplicates().to_csv(\n",
    "    edge_data_location + 'snRNA-protein.txt', header=None, sep='\\t', index=None)"
   ]
  },
  {
   "cell_type": "code",
   "execution_count": null,
   "metadata": {},
   "outputs": [],
   "source": [
    "snoRNA_protein = RNA_protein[RNA_protein['Category1']=='snoRNA']\n",
    "snoRNA_protein = snoRNA_protein[(snoRNA_protein['Raw_ID1'].notna())]\n",
    "snoRNA_protein = snoRNA_protein[(snoRNA_protein['Raw_ID1'].str[0].str.isdigit())]\n",
    "\n",
    "snoRNA_protein[['Raw_ID1',1]].drop_duplicates().to_csv(\n",
    "    edge_data_location + 'snoRNA-protein.txt', header=None, sep='\\t', index=None)"
   ]
  },
  {
   "cell_type": "code",
   "execution_count": null,
   "metadata": {},
   "outputs": [],
   "source": [
    "unknownRNA_protein = RNA_protein[RNA_protein['Category1']=='unknown']\n",
    "unknownRNA_protein = unknownRNA_protein[(unknownRNA_protein['Raw_ID1'].notna())]\n",
    "unknownRNA_protein = unknownRNA_protein[(unknownRNA_protein['Raw_ID1'].str[0].str.isdigit())]\n",
    "\n",
    "unknownRNA_protein[['Raw_ID1',1]].drop_duplicates().to_csv(\n",
    "    edge_data_location + 'unknownRNA-protein.txt', header=None, sep='\\t', index=None)"
   ]
  },
  {
   "cell_type": "code",
   "execution_count": null,
   "metadata": {},
   "outputs": [],
   "source": [
    "vtRNAs_protein = RNA_protein[RNA_protein['Category1']=='vtRNAs']\n",
    "vtRNAs_protein = vtRNAs_protein[(vtRNAs_protein['Raw_ID1'].notna())]\n",
    "vtRNAs_protein = vtRNAs_protein[(vtRNAs_protein['Raw_ID1'].str[0].str.isdigit())]\n",
    "\n",
    "vtRNAs_protein[['Raw_ID1',1]].drop_duplicates().to_csv(\n",
    "    edge_data_location + 'vtRNAs-protein.txt', header=None, sep='\\t', index=None)"
   ]
  },
  {
   "cell_type": "code",
   "execution_count": null,
   "metadata": {},
   "outputs": [],
   "source": [
    "miRNA_protein2 = RNA_protein[RNA_protein['Category1']=='miRNA']\n",
    "miRNA_protein2 = miRNA_protein2[(miRNA_protein2['Raw_ID1'].notna())]\n",
    "miRNA_protein2 = miRNA_protein2[(miRNA_protein2['Raw_ID1'].str[0].str.isdigit())]\n",
    "\n",
    "maturemiRNA_protein2 = miRNA_protein2[(miRNA_protein2['Raw_ID1'].str.startswith('MIMAT'))]\n",
    "premiRNA_protein2 = miRNA_protein2[(miRNA_protein2['Raw_ID1'].str.startswith('MI')) &\n",
    "                                   (~miRNA_protein2['Raw_ID1'].str.startswith('MIMAT'))]\n",
    "\n",
    "maturemiRNA_protein = maturemiRNA_protein.append(maturemiRNA_protein2)\n",
    "premiRNA_protein = premiRNA_protein.append(premiRNA_protein2)\n",
    "\n",
    "maturemiRNA_protein[['Raw_ID1',1]].drop_duplicates().to_csv(\n",
    "    edge_data_location + 'miRNA-protein.txt', header=None, sep='\\t', index=None)\n",
    "premiRNA_protein[['Raw_ID1',1]].drop_duplicates().to_csv(\n",
    "    edge_data_location + 'premiRNA-protein.txt', header=None, sep='\\t', index=None)"
   ]
  },
  {
   "cell_type": "markdown",
   "metadata": {},
   "source": [
    "***"
   ]
  },
  {
   "cell_type": "code",
   "execution_count": null,
   "metadata": {},
   "outputs": [],
   "source": [
    "set(RNA_RBP.Category1)"
   ]
  },
  {
   "cell_type": "code",
   "execution_count": null,
   "metadata": {},
   "outputs": [],
   "source": [
    "for i in set(RNA_RBP.Category1):\n",
    "    if i != 'miRNA':\n",
    "        RNA_RBP_ = RNA_RBP[RNA_RBP['Category1']==i]\n",
    "        RNA_RBP_ = RNA_RBP_[(RNA_RBP_['Raw_ID1'].notna())]\n",
    "        RNA_RBP_ = RNA_RBP_[(RNA_RBP_['Raw_ID1'].str[0].str.isdigit())]\n",
    "\n",
    "        if not RNA_RBP_.empty:   \n",
    "            #print(i)\n",
    "            #print(RNA_RBP_[['Raw_ID1',1]].drop_duplicates())\n",
    "        \n",
    "            RNA_RBP_[['Raw_ID1',1]].drop_duplicates().to_csv(\n",
    "            edge_data_location + i + '-RBP.txt', header=None, sep='\\t', index=None)"
   ]
  },
  {
   "cell_type": "code",
   "execution_count": null,
   "metadata": {},
   "outputs": [],
   "source": [
    "miRNA_RBP = RNA_RBP[RNA_RBP['Category1']=='miRNA']\n",
    "miRNA_RBP = miRNA_RBP[(miRNA_RBP['Raw_ID1'].notna())]\n",
    "miRNA_RBP = miRNA_RBP[(miRNA_RBP['Raw_ID1'].str[0].str.isdigit())]\n",
    "miRNA_RBP['Interactor1.Symbol'] = 'hsa-' + miRNA_RBP['Interactor1.Symbol'].str.lower().str.replace(\n",
    "    'mir','mir-').str.replace('let','let-')\n",
    "\n",
    "miRNA_RBP = pd.merge(miRNA_RBP, mirna_mirbase_map.rename(columns={0:'Interactor1.Symbol'}), on='Interactor1.Symbol')\n",
    "\n",
    "miRNA_RBP[['1_y','1_x']].drop_duplicates().to_csv(\n",
    "    edge_data_location + 'premiRNA-RBP.txt', header=None, sep='\\t', index=None)"
   ]
  },
  {
   "cell_type": "markdown",
   "metadata": {},
   "source": [
    "***"
   ]
  },
  {
   "cell_type": "code",
   "execution_count": null,
   "metadata": {},
   "outputs": [],
   "source": [
    "set(RNA_TF.Category1)"
   ]
  },
  {
   "cell_type": "code",
   "execution_count": null,
   "metadata": {},
   "outputs": [],
   "source": [
    "for i in set(RNA_TF.Category1):\n",
    "    if i != 'miRNA':\n",
    "        RNA_TF_ = RNA_TF[RNA_TF['Category1']==i]\n",
    "        RNA_TF_ = RNA_TF_[(RNA_TF_['Raw_ID1'].notna())]\n",
    "        RNA_TF_ = RNA_TF_[(RNA_TF_['Raw_ID1'].str[0].str.isdigit())]\n",
    "        \n",
    "        if i == 'lncRNA':\n",
    "            RNA_TF_ = lncRNA_TF.append(RNA_TF_)\n",
    "            \n",
    "        if not RNA_TF_.empty:   \n",
    "            #print(i)\n",
    "            #print(RNA_TF_[['Raw_ID1',1]].drop_duplicates())    \n",
    "            RNA_TF_[['Raw_ID1',1]].drop_duplicates().to_csv(\n",
    "            edge_data_location + i + '-TF.txt', header=None, sep='\\t', index=None)"
   ]
  },
  {
   "cell_type": "code",
   "execution_count": null,
   "metadata": {},
   "outputs": [],
   "source": [
    "miRNA_TF = RNA_TF[RNA_TF['Category1']=='miRNA']\n",
    "miRNA_TF = miRNA_TF[(miRNA_TF['Raw_ID1'].notna())]\n",
    "\n",
    "maturemiRNA_TF = miRNA_TF[(miRNA_TF['Raw_ID1'].str.startswith('MIMAT'))]\n",
    "premiRNA_TF = miRNA_TF[(miRNA_TF['Raw_ID1'].str.startswith('MI')) &\n",
    "                                   (~miRNA_TF['Raw_ID1'].str.startswith('MIMAT'))]\n",
    "\n",
    "maturemiRNA_TF[['Raw_ID1',1]].drop_duplicates().to_csv(\n",
    "    edge_data_location + 'miRNA-TF.txt', header=None, sep='\\t', index=None)\n",
    "premiRNA_TF[['Raw_ID1',1]].drop_duplicates().to_csv(\n",
    "    edge_data_location + 'premiRNA-TF.txt', header=None, sep='\\t', index=None)"
   ]
  },
  {
   "cell_type": "markdown",
   "metadata": {},
   "source": [
    "* #### RNA-gene"
   ]
  },
  {
   "cell_type": "code",
   "execution_count": null,
   "metadata": {},
   "outputs": [],
   "source": [
    "# http://www.rnainter.org/raidMedia/download/Download_data_RD.tar.gz\n",
    "RNA_gene = pd.read_csv(unprocessed_data_location+'Download_data_RD.txt',sep='\\t')\n",
    "# We select only strong evidence interactions for hsa\n",
    "RNA_gene = RNA_gene[(RNA_gene['score'] >= 0.2886) &\n",
    "                  (RNA_gene['Species1'].str.contains('apiens')) &\n",
    "                  (RNA_gene['Species2'].str.contains('apiens'))]\n",
    "\n",
    "# We keep only entries starting with NCBI\n",
    "RNA_gene = RNA_gene[(RNA_gene['Raw_ID1'].str.startswith('NCBI')) &\n",
    "                    (RNA_gene['Raw_ID2'].str.startswith('NCBI'))]\n",
    "\n",
    "RNA_gene.Raw_ID1 = RNA_gene.Raw_ID1.str.replace(\"NCBI:\", '')\n",
    "RNA_gene.Raw_ID2 = RNA_gene.Raw_ID2.str.replace(\"NCBI:\", '')\n",
    "\n",
    "RNA_gene['Raw_ID1'] = RNA_gene['Raw_ID1'].str.split(';')\n",
    "RNA_gene = RNA_gene.explode('Raw_ID1')\n",
    "RNA_gene['Raw_ID2'] = RNA_gene['Raw_ID2'].str.split(';')\n",
    "RNA_gene = RNA_gene.explode('Raw_ID2')\n",
    "\n",
    "RNA_gene[\"Raw_ID1\"] = RNA_gene[\"Raw_ID1\"] + '#' + RNA_gene[\"Category1\"]\n",
    "\n",
    "RNA_gene.drop(columns=['Interactor1.Symbol','Interactor2.Symbol',\n",
    "                       'RNAInterID','Species1','Species2'],inplace=True)\n",
    "RNA_gene"
   ]
  },
  {
   "cell_type": "code",
   "execution_count": null,
   "metadata": {},
   "outputs": [],
   "source": [
    "for i in set(RNA_gene.Category1):\n",
    "    RNA_gene_ = RNA_gene[RNA_gene['Category1']==i]\n",
    "    RNA_gene_ = RNA_gene_[(RNA_gene_['Raw_ID1'].notna())]\n",
    "    RNA_gene_ = RNA_gene_[(RNA_gene_['Raw_ID1'].str[0].str.isdigit())]\n",
    "    RNA_gene_ = RNA_gene_[(RNA_gene_['Raw_ID2'].notna())]\n",
    "    RNA_gene_ = RNA_gene_[(RNA_gene_['Raw_ID2'].str[0].str.isdigit())]\n",
    "        \n",
    "    if not RNA_gene_.empty:   \n",
    "        #print(i)\n",
    "        #print(RNA_gene_[['Raw_ID1','Raw_ID2']].drop_duplicates())      \n",
    "        RNA_gene_[['Raw_ID1','Raw_ID2']].drop_duplicates().to_csv(\n",
    "            edge_data_location + i + '-gene.txt', header=None, sep='\\t', index=None)"
   ]
  },
  {
   "cell_type": "markdown",
   "metadata": {},
   "source": [
    "* #### RNA-chemical"
   ]
  },
  {
   "cell_type": "code",
   "execution_count": null,
   "metadata": {},
   "outputs": [],
   "source": [
    "# http://www.rnainter.org/raidMedia/download/Download_data_RC.tar.gz\n",
    "RNA_chemical = pd.read_csv(unprocessed_data_location+'Download_data_RC.txt',sep='\\t')\n",
    "# We select only strong evidence interactions for hsa\n",
    "RNA_chemical = RNA_chemical[(RNA_chemical['score'] >= 0.2886) &\n",
    "                  (RNA_chemical['Species1'].str.contains('apiens'))]\n",
    "\n",
    "# We keep only entries starting with NCBI\n",
    "RNA_chemical = RNA_chemical[(RNA_chemical['Raw_ID1'].str.startswith('NCBI')) |\n",
    "                            (RNA_chemical['Raw_ID1'].str.startswith('miRBase'))]\n",
    "\n",
    "RNA_chemical.Raw_ID1 = RNA_chemical.Raw_ID1.str.replace(\"NCBI:\", '')\n",
    "RNA_chemical.Raw_ID1 = RNA_chemical.Raw_ID1.str.replace(\"miRBase:\", '')\n",
    "\n",
    "RNA_chemical['Raw_ID1'] = RNA_chemical['Raw_ID1'].str.split(';')\n",
    "RNA_chemical = RNA_chemical.explode('Raw_ID1')\n",
    "\n",
    "i = RNA_chemical[~(RNA_chemical['Category1']=='miRNA')].index.values\n",
    "RNA_chemical.loc[i,\"Raw_ID1\"] = RNA_chemical.loc[i,\"Raw_ID1\"] + '#' + RNA_chemical.loc[i,\"Category1\"]\n",
    "\n",
    "RNA_chemical = RNA_chemical[(RNA_chemical['Interactor2.Symbol'].notna())]\n",
    "RNA_chemical['Interactor2.Symbol'] = RNA_chemical['Interactor2.Symbol'].str.lower()\n",
    "RNA_chemical = pd.merge(RNA_chemical, desc_chebi_map.rename(columns={0: 'Interactor2.Symbol'}),\n",
    "                        on='Interactor2.Symbol')\n",
    "\n",
    "RNA_chemical.drop(columns=['Interactor1.Symbol','Raw_ID2','Interactor2.Symbol',\n",
    "                           'RNAInterID','Species1','Species2','Category2'],inplace=True)\n",
    "RNA_chemical"
   ]
  },
  {
   "cell_type": "code",
   "execution_count": null,
   "metadata": {},
   "outputs": [],
   "source": [
    "for i in set(RNA_chemical.Category1):\n",
    "    if i != 'miRNA':\n",
    "        RNA_chemical_ = RNA_chemical[RNA_chemical['Category1']==i]\n",
    "        RNA_chemical_ = RNA_chemical_[(RNA_chemical_['Raw_ID1'].notna())]\n",
    "        RNA_chemical_ = RNA_chemical_[(RNA_chemical_['Raw_ID1'].str[0].str.isdigit())]\n",
    "\n",
    "        if not RNA_chemical_.empty:   \n",
    "            #print(i)\n",
    "            #print(RNA_chemical_[['Raw_ID1',1]].drop_duplicates())   \n",
    "            RNA_chemical_[['Raw_ID1',1]].drop_duplicates().to_csv(\n",
    "                edge_data_location + i + '-chemical.txt', header=None, sep='\\t', index=None)"
   ]
  },
  {
   "cell_type": "code",
   "execution_count": null,
   "metadata": {},
   "outputs": [],
   "source": [
    "miRNA_chemical = RNA_chemical[RNA_chemical['Category1']=='miRNA']\n",
    "miRNA_chemical = miRNA_chemical[(miRNA_chemical['Raw_ID1'].notna())]\n",
    "\n",
    "maturemiRNA_chemical = miRNA_chemical[(miRNA_chemical['Raw_ID1'].str.startswith('MIMAT'))]\n",
    "premiRNA_chemical = miRNA_chemical[(miRNA_chemical['Raw_ID1'].str.startswith('MI')) &\n",
    "                                   (~miRNA_chemical['Raw_ID1'].str.startswith('MIMAT'))]\n",
    "\n",
    "maturemiRNA_chemical[['Raw_ID1',1]].drop_duplicates().to_csv(\n",
    "    edge_data_location + 'miRNA-chemical.txt', header=None, sep='\\t', index=None)\n",
    "premiRNA_chemical[['Raw_ID1',1]].drop_duplicates().to_csv(\n",
    "    edge_data_location + 'premiRNA-chemical.txt', header=None, sep='\\t', index=None)"
   ]
  },
  {
   "cell_type": "markdown",
   "metadata": {},
   "source": [
    "* #### RNA-epigenetic modification"
   ]
  },
  {
   "cell_type": "code",
   "execution_count": null,
   "metadata": {},
   "outputs": [],
   "source": [
    "# http://www.rnainter.org/raidMedia/download/Download_data_RH.tar.gz\n",
    "RNA_hisMod = pd.read_csv(unprocessed_data_location+'Download_data_RH.txt',sep='\\t')\n",
    "# We select only strong evidence interactions for hsa\n",
    "RNA_hisMod = RNA_hisMod[(RNA_hisMod['score'] >= 0.2886) &\n",
    "                  (RNA_hisMod['Species1'].str.contains('apiens'))]\n",
    "\n",
    "# We keep only entries starting with NCBI\n",
    "RNA_hisMod = RNA_hisMod[(RNA_hisMod['Raw_ID1'].str.startswith('NCBI')) |\n",
    "                        (RNA_hisMod['Raw_ID1'].str.startswith('miRBase'))]\n",
    "\n",
    "RNA_hisMod.Raw_ID1 = RNA_hisMod.Raw_ID1.str.replace(\"NCBI:\", '')\n",
    "RNA_hisMod.Raw_ID1 = RNA_hisMod.Raw_ID1.str.replace(\"miRBase:\", '')\n",
    "\n",
    "RNA_hisMod['Raw_ID1'] = RNA_hisMod['Raw_ID1'].str.split(';')\n",
    "RNA_hisMod = RNA_hisMod.explode('Raw_ID1')\n",
    "\n",
    "i = RNA_hisMod[~(RNA_hisMod['Category1']=='miRNA')].index.values\n",
    "RNA_hisMod.loc[i,\"Raw_ID1\"] = RNA_hisMod.loc[i,\"Raw_ID1\"] + '#' + RNA_hisMod.loc[i,\"Category1\"]\n",
    "\n",
    "RNA_hisMod.drop(columns=['Interactor1.Symbol','Raw_ID2','RNAInterID',\n",
    "                           'Species1','Species2','Category2'],inplace=True)\n",
    "RNA_hisMod"
   ]
  },
  {
   "cell_type": "code",
   "execution_count": null,
   "metadata": {},
   "outputs": [],
   "source": [
    "for i in set(RNA_hisMod.Category1):\n",
    "    if i != 'miRNA':\n",
    "        RNA_hisMod_ = RNA_hisMod[RNA_hisMod['Category1']==i]\n",
    "        RNA_hisMod_ = RNA_hisMod_[(RNA_hisMod_['Raw_ID1'].notna())]\n",
    "        RNA_hisMod_ = RNA_hisMod_[(RNA_hisMod_['Raw_ID1'].str[0].str.isdigit())]\n",
    "\n",
    "        if not RNA_hisMod_.empty:   \n",
    "            #print(i)\n",
    "            #print(RNA_hisMod_[['Raw_ID1','Interactor2.Symbol']].drop_duplicates())  \n",
    "            RNA_hisMod_[['Raw_ID1','Interactor2.Symbol']].drop_duplicates().to_csv(\n",
    "                edge_data_location + i + '-histoneModification.txt', header=None, sep='\\t', index=None)\n",
    "\n",
    "miRNA_hisMod = RNA_hisMod[RNA_hisMod['Category1']=='miRNA']\n",
    "miRNA_hisMod = miRNA_hisMod[(miRNA_hisMod['Raw_ID1'].notna())]\n",
    "\n",
    "premiRNA_hisMod = miRNA_hisMod[(miRNA_hisMod['Raw_ID1'].str.startswith('MI')) &\n",
    "                               (~miRNA_hisMod['Raw_ID1'].str.startswith('MIMAT'))]\n",
    "\n",
    "premiRNA_hisMod[['Raw_ID1','Interactor2.Symbol']].drop_duplicates().to_csv(\n",
    "    edge_data_location + 'premiRNA-histoneModification.txt', header=None, sep='\\t', index=None)"
   ]
  },
  {
   "cell_type": "markdown",
   "metadata": {},
   "source": [
    "***\n",
    "### [RNALocate](http://www.rnalocate.org/)\n",
    "RNALocate aims to provide a resource for efficient manipulation, browsing and analysis of RNA subcellular localization."
   ]
  },
  {
   "cell_type": "code",
   "execution_count": null,
   "metadata": {},
   "outputs": [],
   "source": [
    "#http://www.rnalocate.org/download/All%20RNA%20subcellular%20localization%20data.zip\n",
    "RNA_location = pd.read_csv(unprocessed_data_location+'All RNA subcellular localization data.txt',sep='\\t')\n",
    "# We select only strong evidence interactions for hsa\n",
    "RNA_location = RNA_location[RNA_location['Species'].str.contains('apiens')]\n",
    "\n",
    "RNA_location.RNA_category = RNA_location.RNA_category.str.replace(\"other\", \"others\")\n",
    "\n",
    "# We keep only entries starting with NCBI\n",
    "RNA_location = RNA_location[(RNA_location['Gene_ID'].str.startswith('NCBI')) |\n",
    "                            (RNA_location['Gene_ID'].str.startswith('miRBase')) ]\n",
    "\n",
    "RNA_location.Gene_ID = RNA_location.Gene_ID.str.replace(\"NCBI:\", '')\n",
    "RNA_location.Gene_ID = RNA_location.Gene_ID.str.replace(\"miRBase:\", '')\n",
    "\n",
    "RNA_location['Gene_ID'] = RNA_location['Gene_ID'].str.split(';')\n",
    "RNA_location = RNA_location.explode('Gene_ID')\n",
    "\n",
    "RNA_location = RNA_location[(RNA_location['SubCellular_Localization'].notna())]\n",
    "RNA_location['SubCellular_Localization'] = RNA_location['SubCellular_Localization'].str.lower()\n",
    "RNA_location = pd.merge(RNA_location, desc_go_map.rename(columns={0: 'SubCellular_Localization'}),\n",
    "                        on='SubCellular_Localization')\n",
    "\n",
    "RNA_location.RNA_category = RNA_location.RNA_category.str.replace('Y RNA', 'Y_RNA')\n",
    "i = RNA_location[(~(RNA_location['RNA_category']=='miRNA'))].index.values\n",
    "RNA_location.loc[i,\"Gene_ID\"] = RNA_location.loc[i,\"Gene_ID\"] + '#' + RNA_location.loc[i,\"RNA_category\"]\n",
    "\n",
    "RNA_location.drop(columns=['RNALocate_ID','Gene_Name','Gene_symbol',\n",
    "                           'Species','SubCellular_Localization'],inplace=True)\n",
    "\n",
    "RNA_location"
   ]
  },
  {
   "cell_type": "code",
   "execution_count": null,
   "metadata": {},
   "outputs": [],
   "source": [
    "miRNA_GO = RNA_location[(RNA_location['RNA_category']=='miRNA')]\n",
    "miRNA_GO = miRNA_GO[(miRNA_GO['Gene_ID'].notna())]\n",
    "\n",
    "maturemiRNA_GO = miRNA_GO[(miRNA_GO['Gene_ID'].str.startswith('MIMAT'))]\n",
    "premiRNA_GO = miRNA_GO[(miRNA_GO['Gene_ID'].str.startswith('MI')) &\n",
    "                       (~miRNA_GO['Gene_ID'].str.startswith('MIMAT'))]\n",
    "\n",
    "maturemiRNA_GO[['Gene_ID',1]].drop_duplicates().to_csv(\n",
    "    edge_data_location + 'miRNA-GO.txt', header=None, sep='\\t', index=None)\n",
    "premiRNA_GO[['Gene_ID',1]].drop_duplicates().to_csv(\n",
    "    edge_data_location + 'premiRNA-GO.txt', header=None, sep='\\t', index=None)"
   ]
  },
  {
   "cell_type": "code",
   "execution_count": null,
   "metadata": {},
   "outputs": [],
   "source": [
    "for i in set(RNA_location.RNA_category):\n",
    "    if i != 'miRNA':\n",
    "        RNA_location_ = RNA_location[RNA_location['RNA_category']==i]\n",
    "        RNA_location_ = RNA_location_[(RNA_location_['Gene_ID'].notna())]\n",
    "        RNA_location_ = RNA_location_[(RNA_location_['Gene_ID'].str[0].str.isdigit())]\n",
    "        \n",
    "        if not RNA_location_.empty:   \n",
    "            #print(i)\n",
    "            #print(RNA_location_[['Gene_ID',1]].drop_duplicates())\n",
    "            RNA_location_[['Gene_ID',1]].drop_duplicates().to_csv(\n",
    "                edge_data_location + i + '-GO.txt', header=None, sep='\\t', index=None)"
   ]
  },
  {
   "cell_type": "markdown",
   "metadata": {},
   "source": [
    "***\n",
    "### [RNADisease](http://www.rnadisease.org/)\n",
    "RNADisease includes literature-verified RNA-disease interaction entries and uses a variety of algorithms to obtain a large amount of prediction RNA-disease data."
   ]
  },
  {
   "cell_type": "code",
   "execution_count": null,
   "metadata": {},
   "outputs": [],
   "source": [
    "#http://www.rnadisease.org/static/download/RNADiseasev4.0_RNA-disease_experiment_all.zip\n",
    "RNA_disease = pd.read_excel(unprocessed_data_location+'RNADiseasev4.0_RNA-disease_experiment_all.xlsx')\n",
    "# We select only strong evidence interactions for hsa\n",
    "RNA_disease = RNA_disease[RNA_disease['specise'].str.contains('apiens')]\n",
    "\n",
    "# We keep only entries score is > 0.95 (see http://www.rnadisease.org/help Q10)\n",
    "RNA_disease = RNA_disease[RNA_disease['score']>=0.95]\n",
    "\n",
    "RNA_disease = RNA_disease[(RNA_disease['DO ID'].notna())]\n",
    "RNA_disease['DO ID'] = RNA_disease['DO ID'].str.replace(':','_')\n",
    "RNA_disease = pd.merge(RNA_disease, doid_mondo_map.rename(columns={0:'DO ID'}), on=['DO ID'])\n",
    "\n",
    "RNA_disease[1] = RNA_disease[1].str.split(',')\n",
    "RNA_disease = RNA_disease.explode(1)\n",
    "\n",
    "RNA_disease.drop(columns=['RDID','specise','Disease Name',\n",
    "                           'MeSH ID','KEGG disease ID','DO ID'],inplace=True)\n",
    "RNA_disease"
   ]
  },
  {
   "cell_type": "code",
   "execution_count": null,
   "metadata": {},
   "outputs": [],
   "source": [
    "miRNA_disease = RNA_disease[(RNA_disease['RNA Type']=='miRNA')]\n",
    "miRNA_disease = miRNA_disease[(miRNA_disease['RNA Symbol'].notna())]\n",
    "\n",
    "miRNA_disease = pd.merge(miRNA_disease, mirna_mirbase_map.rename(columns={0: 'RNA Symbol'}),\n",
    "                         on='RNA Symbol')\n",
    "\n",
    "maturemiRNA_disease = miRNA_disease[(miRNA_disease['1_y'].str.startswith('MIMAT'))]\n",
    "premiRNA_disease = miRNA_disease[(miRNA_disease['1_y'].str.startswith('MI')) &\n",
    "                                 (~miRNA_disease['1_y'].str.startswith('MIMAT'))]\n",
    "\n",
    "maturemiRNA_disease[['1_y','1_x']].drop_duplicates().to_csv(\n",
    "    edge_data_location + 'miRNA-disease.txt', header=None, sep='\\t', index=None)\n",
    "premiRNA_disease[['1_y','1_x']].drop_duplicates().to_csv(\n",
    "    edge_data_location + 'premiRNA-disease.txt', header=None, sep='\\t', index=None)"
   ]
  },
  {
   "cell_type": "code",
   "execution_count": null,
   "metadata": {},
   "outputs": [],
   "source": [
    "RNA_disease = pd.merge(RNA_disease, symbol_entrez_map.rename(columns={0: 'RNA Symbol'}),\n",
    "                       on='RNA Symbol')\n",
    "\n",
    "i = RNA_disease.index.values\n",
    "RNA_disease.loc[i,'1_y'] = RNA_disease.loc[i,'1_y'].astype(str) + '#' + RNA_disease.loc[i,'RNA Type']\n",
    "RNA_disease"
   ]
  },
  {
   "cell_type": "code",
   "execution_count": null,
   "metadata": {},
   "outputs": [],
   "source": [
    "for i in set(RNA_disease['RNA Type']):\n",
    "    RNA_disease_ = RNA_disease[RNA_disease['RNA Type']==i]\n",
    "\n",
    "    if not RNA_disease_.empty:   \n",
    "        #print(i)\n",
    "        #print(RNA_disease_[['1_y','1_x']].drop_duplicates())\n",
    "        RNA_disease_[['1_y','1_x']].drop_duplicates().to_csv(\n",
    "            edge_data_location + i + '-disease.txt', header=None, sep='\\t', index=None)"
   ]
  },
  {
   "cell_type": "markdown",
   "metadata": {},
   "source": [
    "***\n",
    "### [ncRDeathDB](https://www.rna-society.org/ncrdeathdb/)\n",
    "ncRDeathDB includes ncRNA types associated with apoptosis, autophagy, and necrosis."
   ]
  },
  {
   "cell_type": "code",
   "execution_count": null,
   "metadata": {},
   "outputs": [],
   "source": [
    "#https://www.rna-society.org/ncrdeathdb/data/allNcRNACelldeathData.xlsx\n",
    "RNA_pDeath = pd.read_excel(unprocessed_data_location + 'allNcRNACelldeathData.xlsx', dtype={\"geneid\": \"string\"})\n",
    "RNA_pDeath = RNA_pDeath[RNA_pDeath.Organism.str.contains('apiens')]\n",
    "RNA_pDeath.drop(columns=['id','miRNA_symbol','miRBase_mature_ID','Gene_Symbol','Organism','tax_id','Synonyms',\n",
    "                          'Links','chromosome','map_location','Description','type_of_gene','Full_name_from_nomenclature_authority',\n",
    "                          'Other_designations'],inplace=True)\n",
    "RNA_pDeath = RNA_pDeath[(RNA_pDeath['geneid']!='<NA>') | (RNA_pDeath['miRBase_ID'].notna())]\n",
    "RNA_pDeath['miRBase_ID'] = RNA_pDeath.miRBase_ID.str.split(',')\n",
    "RNA_pDeath = RNA_pDeath.explode('miRBase_ID')\n",
    "RNA_pDeath"
   ]
  },
  {
   "cell_type": "code",
   "execution_count": null,
   "metadata": {},
   "outputs": [],
   "source": [
    "# Grounding\n",
    "RNA_pDeath['gobp'] = RNA_pDeath['Pathway'].replace({'necrosis': 'GO_0097300', 'autophagy': 'GO_0006914',\n",
    "                                                    'apoptosis': 'GO_0006915'})\n",
    "RNA_pDeath.drop(columns=['Pathway'],inplace=True)\n",
    "RNA_pDeath"
   ]
  },
  {
   "cell_type": "code",
   "execution_count": null,
   "metadata": {},
   "outputs": [],
   "source": [
    "miRNA_pDeath = RNA_pDeath[(RNA_pDeath['RNA Category']=='miRNA') | (RNA_pDeath['RNA Category']=='miRNA ')]\n",
    "miRNA_pDeath = miRNA_pDeath[(miRNA_pDeath['miRBase_ID'].notna())]\n",
    "\n",
    "maturemiRNA_pDeath = miRNA_pDeath[(miRNA_pDeath['miRBase_ID'].str.startswith('MIMAT'))]\n",
    "\n",
    "maturemiRNA_pDeath[['miRBase_ID','gobp']].drop_duplicates().to_csv(\n",
    "    edge_data_location + 'miRNA-pDeath.txt', header=None, sep='\\t', index=None)"
   ]
  },
  {
   "cell_type": "code",
   "execution_count": null,
   "metadata": {},
   "outputs": [],
   "source": [
    "RNA_pDeath['geneid'] = RNA_pDeath['geneid'].astype(str) + '#' + RNA_pDeath['RNA Category']\n",
    "\n",
    "for i in set(RNA_pDeath['RNA Category']):\n",
    "    if (i != 'miRNA') and (i != 'miRNA '):\n",
    "        RNA_pDeath_ = RNA_pDeath[RNA_pDeath['RNA Category']==i]\n",
    "        RNA_pDeath_ = RNA_pDeath_[(RNA_pDeath_['geneid']!='<NA>')]\n",
    "        RNA_pDeath_ = RNA_pDeath_[(RNA_pDeath_['geneid'].str[0].str.isdigit())]\n",
    "        \n",
    "        if not RNA_pDeath_.empty:   \n",
    "            #print(i)\n",
    "            #print(RNA_pDeath_[['geneid','gobp']].drop_duplicates())\n",
    "            RNA_pDeath_[['geneid','gobp']].drop_duplicates().to_csv(\n",
    "                edge_data_location + i + '-pDeath.txt', header=None, sep='\\t', index=None)"
   ]
  },
  {
   "cell_type": "markdown",
   "metadata": {},
   "source": [
    "***\n",
    "### [cncRNADB](https://www.rna-society.org/cncrnadb/)\n",
    "cncRNAdb is a manually curated database of experimentally supported cncRNAs, which aims to provide a resource for efficient manipulation, browsing and analysis of cncRNAs."
   ]
  },
  {
   "cell_type": "code",
   "execution_count": null,
   "metadata": {},
   "outputs": [],
   "source": [
    "#Translated ncRNA: https://www.rna-society.org/cncrnadb/download/Translated%20ncRNA.zip\n",
    "RNA_anatomy = pd.read_excel(unprocessed_data_location + 'Translated ncRNA.xlsx')\n",
    "RNA_anatomy = RNA_anatomy[RNA_anatomy.Organism.str.contains('apiens')]\n",
    "RNA_anatomy = RNA_anatomy[RNA_anatomy['Gene.ID'].notna()]\n",
    "RNA_anatomy['Tissue/Cell'] = RNA_anatomy['Tissue/Cell'].str.split(';')\n",
    "RNA_anatomy = RNA_anatomy.explode('Tissue/Cell')\n",
    "RNA_anatomy['Tissue/Cell'] = RNA_anatomy['Tissue/Cell'].str.lower()\n",
    "RNA_anatomy = pd.merge(RNA_anatomy, desc_bto_map.rename(columns={0: 'Tissue/Cell'}),\n",
    "                       on='Tissue/Cell')\n",
    "RNA_anatomy.drop(columns=['cncRNAdb.ID','Name','Chromosome','Start','End','Strand','Peptide_length',\n",
    "                          'Organism','Peptide','Human.gene.stable.ID','Chimpanzee.gene.stable.ID',\n",
    "                          'Mouse.gene.stable.ID','Drosophila.melanogaster.gene.stable.ID',\n",
    "                          'Zebrafish.gene.stable.ID','Tissue/Cell'],inplace=True)\n",
    "RNA_anatomy"
   ]
  },
  {
   "cell_type": "code",
   "execution_count": null,
   "metadata": {},
   "outputs": [],
   "source": [
    "set(RNA_anatomy['Type'])"
   ]
  },
  {
   "cell_type": "code",
   "execution_count": null,
   "metadata": {},
   "outputs": [],
   "source": [
    "RNA_anatomy['Gene.ID'] = RNA_anatomy['Gene.ID'].astype(str) + '#' + RNA_anatomy['Type']\n",
    "\n",
    "for i in set(RNA_anatomy['Type']):\n",
    "    RNA_anatomy_ = RNA_anatomy[RNA_anatomy['Type']==i]\n",
    "    RNA_anatomy_ = RNA_anatomy_[(RNA_anatomy_['Gene.ID'].str[0].str.isdigit())]\n",
    "    if not RNA_anatomy_.empty: \n",
    "        #print(i)\n",
    "        #print(RNA_anatomy_[['Gene.ID',1]].drop_duplicates())\n",
    "        RNA_anatomy_[['Gene.ID',1]].drop_duplicates().to_csv(\n",
    "            edge_data_location + i + '-anatomy.txt', header=None, sep='\\t', index=None)"
   ]
  },
  {
   "cell_type": "code",
   "execution_count": null,
   "metadata": {},
   "outputs": [],
   "source": [
    "#Untranslated mRNA: https://www.rna-society.org/cncrnadb/download/Untranslated%20mRNA.zip\n",
    "RNA_anatomy = pd.read_excel(unprocessed_data_location + 'Regulatory mRNA.xlsx').append(\n",
    "    pd.read_excel(unprocessed_data_location + 'Scaffold mRNA.xlsx')).append(\n",
    "    pd.read_excel(unprocessed_data_location + 'Sponge mRNA.xlsx'))\n",
    "RNA_anatomy = RNA_anatomy[RNA_anatomy.Organism.str.contains('apiens')]\n",
    "RNA_anatomy = RNA_anatomy[RNA_anatomy['Entrez.ID'].notna()]\n",
    "RNA_anatomy['Tissue/Cell'] = RNA_anatomy['Tissue/Cell'].str.split(';')\n",
    "RNA_anatomy = RNA_anatomy.explode('Tissue/Cell')\n",
    "RNA_anatomy['Tissue/Cell'] = RNA_anatomy['Tissue/Cell'].str.lower()\n",
    "RNA_anatomy = pd.merge(RNA_anatomy, desc_bto_map.rename(columns={0: 'Tissue/Cell'}),\n",
    "                       on='Tissue/Cell')\n",
    "RNA_anatomy.drop(columns=['cncRNAdb.ID','Type','Name','Ensembl.ID','Chromosome','Start','End','Strand','Function',\n",
    "                          'Organism','Human.gene.stable.ID','Chimpanzee.gene.stable.ID',\n",
    "                          'Mouse.gene.stable.ID','Drosophila.melanogaster.gene.stable.ID',\n",
    "                          'Zebrafish.gene.stable.ID','Tissue/Cell'],inplace=True)\n",
    "RNA_anatomy['Entrez.ID'] = RNA_anatomy['Entrez.ID'].astype('Int64').astype(str) + '#mRNA'\n",
    "RNA_anatomy.head()"
   ]
  },
  {
   "cell_type": "code",
   "execution_count": null,
   "metadata": {},
   "outputs": [],
   "source": [
    "RNA_anatomy[['Entrez.ID',1]].drop_duplicates().to_csv(\n",
    "    edge_data_location + 'mRNA-anatomy.txt', header=None, sep='\\t', index=None)"
   ]
  },
  {
   "cell_type": "markdown",
   "metadata": {},
   "source": [
    "***\n",
    "### [ViRBase](https://www.rna-society.org/ViRBase/)\n",
    "ViRBase aims to construct complex interactions between the viral and cellular ncRNAs with their viral and cellular targets, and provide the detail RNA annotation. It will be contributed to understand viral infection and develop new antiviral therapies."
   ]
  },
  {
   "cell_type": "code",
   "execution_count": null,
   "metadata": {},
   "outputs": [],
   "source": [
    "#http://www.rna-society.org/virbase/download/all_ncRNA_associated_interactions.zip\n",
    "ViRBase = pd.read_csv(unprocessed_data_location+'all_ncRNA_associated_interactions.txt',sep='\\t')\n",
    "# We select only strong evidence interactions for hsa\n",
    "ViRBase = ViRBase[ViRBase['Host Species'].str.contains('apiens')]\n",
    "\n",
    "# We keep only entries score is > 0.7 (see http://www.rna-society.org/virbase/help.html Q8)\n",
    "ViRBase = ViRBase[ViRBase['Score']>=0.7]\n",
    "\n",
    "ViRBase.drop(columns=['ViRBase ID','Taxonomy ID','Virus Name','Virus Strain Name','Virus Family',\n",
    "                      'Host Species','Interactor1 Symbol','Interactor2 Symbol'],inplace=True)\n",
    "ViRBase"
   ]
  },
  {
   "cell_type": "code",
   "execution_count": null,
   "metadata": {},
   "outputs": [],
   "source": [
    "host_virus = ViRBase[(ViRBase['Interactor1 Source'] == 'host') & (ViRBase['Interactor2 Source'] == 'virus')]\n",
    "host_virus"
   ]
  },
  {
   "cell_type": "code",
   "execution_count": null,
   "metadata": {},
   "outputs": [],
   "source": [
    "virus_host = ViRBase[(ViRBase['Interactor1 Source'] == 'virus') & (ViRBase['Interactor2 Source'] == 'host')]\n",
    "virus_host.rename(columns={'Interactor1 Source':'Interactor2 Source',\n",
    "                           'Interactor1 Category':'Interactor2 Category',\n",
    "                           'Interactor1 ID':'Interactor2 ID',\n",
    "                           'Interactor2 Source':'Interactor1 Source',\n",
    "                           'Interactor2 Category':'Interactor1 Category',\n",
    "                           'Interactor2 ID':'Interactor1 ID'\n",
    "                          },inplace=True)\n",
    "virus_host"
   ]
  },
  {
   "cell_type": "code",
   "execution_count": null,
   "metadata": {},
   "outputs": [],
   "source": [
    "ViRBase = virus_host.append(host_virus)\n",
    "ViRBase['Interactor2 Category'] = 'viral_'+ViRBase['Interactor2 Category']\n",
    "ViRBase.drop(columns=['Interactor2 Source','Interactor1 Source'],inplace=True)\n",
    "ViRBase"
   ]
  },
  {
   "cell_type": "code",
   "execution_count": null,
   "metadata": {},
   "outputs": [],
   "source": [
    "set(ViRBase['Interactor1 Category'])"
   ]
  },
  {
   "cell_type": "code",
   "execution_count": null,
   "metadata": {},
   "outputs": [],
   "source": [
    "set(ViRBase['Interactor2 Category'])"
   ]
  },
  {
   "cell_type": "code",
   "execution_count": null,
   "metadata": {},
   "outputs": [],
   "source": [
    "i = ViRBase[(ViRBase['Interactor1 Category']=='circRNA') |\n",
    "            (ViRBase['Interactor1 Category']=='lncRNA') |\n",
    "            (ViRBase['Interactor1 Category']=='mRNA') |\n",
    "            (ViRBase['Interactor1 Category']=='other') |\n",
    "            (ViRBase['Interactor1 Category']=='pseudo') |\n",
    "            (ViRBase['Interactor1 Category']=='scRNA') |\n",
    "            (ViRBase['Interactor1 Category']=='snRNA') |\n",
    "            (ViRBase['Interactor1 Category']=='snoRNA') |\n",
    "            (ViRBase['Interactor1 Category']=='unknown')].index.values\n",
    "ViRBase.loc[i,\"Interactor1 ID\"]=ViRBase.loc[i,\"Interactor1 ID\"] + '#' + ViRBase.loc[i,\"Interactor1 Category\"]\n",
    "\n",
    "i = ViRBase[(ViRBase['Interactor2 Category']=='viral_lncRNA') |\n",
    "            (ViRBase['Interactor2 Category']=='viral_mRNA') |\n",
    "            (ViRBase['Interactor2 Category']=='viral_nsRNA') |\n",
    "            (ViRBase['Interactor2 Category']=='viral_snoRNA') |\n",
    "            (ViRBase['Interactor2 Category']=='viral_unassigned RNA')].index.values\n",
    "ViRBase.loc[i,\"Interactor2 ID\"]=ViRBase.loc[i,\"Interactor2 ID\"] + '#' + ViRBase.loc[i,\"Interactor2 Category\"]\n",
    "ViRBase"
   ]
  },
  {
   "cell_type": "code",
   "execution_count": null,
   "metadata": {},
   "outputs": [],
   "source": [
    "i = ViRBase[(ViRBase['Interactor1 Category']=='protein')].index.values\n",
    "ViRBase_pro = ViRBase[(ViRBase['Interactor1 Category']=='protein')]\n",
    "entrez_pro_map[0] = entrez_pro_map[0].astype(str)\n",
    "ViRBase_pro = pd.merge(ViRBase_pro, entrez_pro_map.rename(columns={0:'Interactor1 ID'}), on=['Interactor1 ID'])\n",
    "ViRBase_pro.drop(columns=['Interactor1 ID'],inplace=True)\n",
    "ViRBase_pro.rename(columns={1:'Interactor1 ID'}, inplace=True)\n",
    "ViRBase.drop(index=i,inplace=True,axis=0)\n",
    "ViRBase = ViRBase_pro.append(ViRBase)\n",
    "ViRBase"
   ]
  },
  {
   "cell_type": "code",
   "execution_count": null,
   "metadata": {},
   "outputs": [],
   "source": [
    "viralprotein_RNA = ViRBase[(ViRBase['Interactor2 Category']=='viral_protein')]\n",
    "                           \n",
    "viralprotein_RNA['Interactor2 ID'].replace({'1489078':'PR_P03126',\n",
    "                                            '1489080':'PR_P03120',\n",
    "                                            # Only papilloma type 16 is considered in PRO\n",
    "                                            '3783750':'PR_P03230',\n",
    "                                            '3783774':'PR_P03211',\n",
    "                                            '944566':'PR_000008466',\n",
    "                                            '944568':'PR_P0C6K0',\n",
    "                                            'E':'PR_000036822',\n",
    "                                            'M1':'PR_000049763',\n",
    "                                            'NP':'PR_000049760',\n",
    "                                            'NS1':'PR_000036824',\n",
    "                                            'NS3':'PR_000036828',\n",
    "                                            'P40':'PR_000038390',\n",
    "                                            'PB1':'PR_000049745',\n",
    "                                            'Pol':'PR_000044455',\n",
    "                                            'env':'PR_000003225',\n",
    "                                            'gag':'PR_000048976'},inplace=True)\n",
    "viralprotein_RNA = viralprotein_RNA[viralprotein_RNA['Interactor2 ID'].str[0] == 'P']\n",
    "viralprotein_RNA"
   ]
  },
  {
   "cell_type": "code",
   "execution_count": null,
   "metadata": {},
   "outputs": [],
   "source": [
    "i = ViRBase[(ViRBase['Interactor2 Category']=='viral_protein')].index.values\n",
    "ViRBase.drop(index=i,inplace=True,axis=0)\n",
    "ViRBase = viralprotein_RNA.append(ViRBase)\n",
    "ViRBase"
   ]
  },
  {
   "cell_type": "code",
   "execution_count": null,
   "metadata": {},
   "outputs": [],
   "source": [
    "ViRBase = ViRBase[((ViRBase['Interactor2 ID'].str.startswith('PR'))|\n",
    "                  (ViRBase['Interactor2 ID'].str.startswith('MI'))|\n",
    "                  (ViRBase['Interactor2 ID'].str[0].str.isdigit()))\n",
    "                  &\n",
    "                  ((ViRBase['Interactor1 ID'].str.startswith('PR'))|\n",
    "                  (ViRBase['Interactor1 ID'].str.startswith('MI'))|\n",
    "                  (ViRBase['Interactor1 ID'].str[0].str.isdigit()))]\n",
    "\n",
    "ViRBase['Interactor1 ID'] = ViRBase['Interactor1 ID'].str.replace(\"other\", 'others')\n",
    "\n",
    "i = ViRBase[(ViRBase['Interactor1 ID'].str.startswith('MI')) &\n",
    "            (~(ViRBase['Interactor1 ID'].str.startswith('MIMAT')))].index.values\n",
    "ViRBase.loc[i,\"Interactor1 Category\"]='premiRNA'\n",
    "\n",
    "i = ViRBase[(ViRBase['Interactor2 Category'].str.startswith('MIMAT'))].index.values\n",
    "ViRBase.loc[i,\"Interactor2 Category\"]='viral_miRNA'\n",
    "viralmaturemiRNA_RNA = ViRBase[(ViRBase['Interactor2 Category']=='viral_miRNA')]\n",
    "\n",
    "i = ViRBase[(ViRBase['Interactor2 ID'].str.startswith('MI')) &\n",
    "            (~(ViRBase['Interactor2 ID'].str.startswith('MIMAT')))].index.values\n",
    "ViRBase.loc[i,\"Interactor2 Category\"]='viral_maturemiRNA'\n",
    "viralpremiRNA_RNA = ViRBase[(ViRBase['Interactor2 Category']=='viral_premiRNA')]\n",
    "\n",
    "virallncRNA_RNA = ViRBase[(ViRBase['Interactor2 Category']=='viral_lncRNA')]\n",
    "viralmRNA_RNA = ViRBase[(ViRBase['Interactor2 Category']=='viral_mRNA')]\n",
    "viralnsRNA_RNA = ViRBase[(ViRBase['Interactor2 Category']=='viral_nsRNA')]\n",
    "viralsnoRNA_RNA = ViRBase[(ViRBase['Interactor2 Category']=='viral_snoRNA')]\n",
    "viralunRNA_RNA = ViRBase[(ViRBase['Interactor2 Category']=='viral_unassigned RNA')]\n",
    "viralprotein_RNA = ViRBase[(ViRBase['Interactor2 Category']=='viral_protein')]\n",
    "\n",
    "ViRBase"
   ]
  },
  {
   "cell_type": "code",
   "execution_count": null,
   "metadata": {},
   "outputs": [],
   "source": [
    "for i in set(virallncRNA_RNA['Interactor1 Category']):\n",
    "        virallncRNA_RNA_ = virallncRNA_RNA[virallncRNA_RNA['Interactor1 Category']==i]\n",
    "        if not virallncRNA_RNA_.empty :\n",
    "            #print(i)\n",
    "            #print(virallncRNA_RNA_[['Interactor1 ID','Interactor2 ID']].drop_duplicates())\n",
    "            virallncRNA_RNA_[['Interactor1 ID','Interactor2 ID']].drop_duplicates().to_csv(\n",
    "                edge_data_location + i + '-virallncRNA.txt', header=None, sep='\\t', index=None)\n",
    "            \n",
    "for i in set(viralmRNA_RNA['Interactor1 Category']):\n",
    "        viralmRNA_RNA_ = viralmRNA_RNA[viralmRNA_RNA['Interactor1 Category']==i]\n",
    "        if not viralmRNA_RNA_.empty :\n",
    "            #print(i)\n",
    "            #print(viralmRNA_RNA_[['Interactor1 ID','Interactor2 ID']].drop_duplicates())\n",
    "            viralmRNA_RNA_[['Interactor1 ID','Interactor2 ID']].drop_duplicates().to_csv(\n",
    "                edge_data_location + i + '-viralmRNA.txt', header=None, sep='\\t', index=None)\n",
    "\n",
    "for i in set(viralnsRNA_RNA['Interactor1 Category']):\n",
    "        viralnsRNA_RNA_ = viralnsRNA_RNA[viralnsRNA_RNA['Interactor1 Category']==i]\n",
    "        if not viralnsRNA_RNA_.empty :\n",
    "            #print(i)\n",
    "            #print(viralnsRNA_RNA_[['Interactor1 ID','Interactor2 ID']].drop_duplicates())\n",
    "            viralnsRNA_RNA_[['Interactor1 ID','Interactor2 ID']].drop_duplicates().to_csv(\n",
    "                edge_data_location + i + '-viralnsRNA.txt', header=None, sep='\\t', index=None)\n",
    "            \n",
    "for i in set(viralsnoRNA_RNA['Interactor1 Category']):\n",
    "        viralsnoRNA_RNA_ = viralsnoRNA_RNA[viralsnoRNA_RNA['Interactor1 Category']==i]\n",
    "        if not viralsnoRNA_RNA_.empty :\n",
    "            #print(i)\n",
    "            #print(viralsnoRNA_RNA_[['Interactor1 ID','Interactor2 ID']].drop_duplicates())\n",
    "            viralsnoRNA_RNA_[['Interactor1 ID','Interactor2 ID']].drop_duplicates().to_csv(\n",
    "                edge_data_location + i + '-viralsnoRNA.txt', header=None, sep='\\t', index=None)     \n",
    "            \n",
    "for i in set(viralunRNA_RNA['Interactor1 Category']):\n",
    "        viralunRNA_RNA_ = viralunRNA_RNA[viralunRNA_RNA['Interactor1 Category']==i]\n",
    "        if not viralunRNA_RNA_.empty :\n",
    "            #print(i)\n",
    "            #print(viralunRNA_RNA_[['Interactor1 ID','Interactor2 ID']].drop_duplicates())\n",
    "            viralunRNA_RNA_[['Interactor1 ID','Interactor2 ID']].drop_duplicates().to_csv(\n",
    "                edge_data_location + i + '-viralunRNA.txt', header=None, sep='\\t', index=None) \n",
    "            \n",
    "for i in set(viralpremiRNA_RNA['Interactor1 Category']):\n",
    "        viralpremiRNA_RNA_ = viralpremiRNA_RNA[viralpremiRNA_RNA['Interactor1 Category']==i]\n",
    "        if not viralpremiRNA_RNA_.empty :\n",
    "            #print(i)\n",
    "            #print(viralpremiRNA_RNA_[['Interactor1 ID','Interactor2 ID']].drop_duplicates())\n",
    "            viralpremiRNA_RNA_[['Interactor1 ID','Interactor2 ID']].drop_duplicates().to_csv(\n",
    "                edge_data_location + i + '-viralpremiRNA.txt', header=None, sep='\\t', index=None)        \n",
    "            \n",
    "for i in set(viralprotein_RNA['Interactor1 Category']):\n",
    "        viralprotein_RNA_ = viralprotein_RNA[viralprotein_RNA['Interactor1 Category']==i]\n",
    "        if not viralprotein_RNA_.empty :\n",
    "            #print(i)\n",
    "            #print(viralprotein_RNA_[['Interactor1 ID','Interactor2 ID']].drop_duplicates())\n",
    "            viralprotein_RNA_[['Interactor1 ID','Interactor2 ID']].drop_duplicates().to_csv(\n",
    "                edge_data_location + i + '-viralprotein.txt', header=None, sep='\\t', index=None) \n",
    "            \n",
    "for i in set(viralmaturemiRNA_RNA['Interactor1 Category']):\n",
    "        viralmaturemiRNA_RNA_ = viralmaturemiRNA_RNA[viralmaturemiRNA_RNA['Interactor1 Category']==i]\n",
    "        if not viralmaturemiRNA_RNA_.empty :\n",
    "            #print(i)\n",
    "            #print(viralmaturemiRNA_RNA_[['Interactor1 ID','Interactor2 ID']].drop_duplicates())\n",
    "            viralmaturemiRNA_RNA_[['Interactor1 ID','Interactor2 ID']].drop_duplicates().to_csv(\n",
    "                edge_data_location + i + '-viralmiRNA.txt', header=None, sep='\\t', index=None) "
   ]
  },
  {
   "cell_type": "markdown",
   "metadata": {},
   "source": [
    "***\n",
    "### [Vesciclepedia](http://microvesicles.org/index.html)\n",
    "Vesiclepedia is a a manually curated compendium of molecular data (lipid, RNA and protein) identified in different classes of extracellular vesicles. "
   ]
  },
  {
   "cell_type": "code",
   "execution_count": null,
   "metadata": {},
   "outputs": [],
   "source": [
    "# http://microvesicles.org/Archive/VESICLEPEDIA_EXPERIMENT_DETAILS_4.1.txt\n",
    "experiments = pd.read_csv('http://microvesicles.org/Archive/VESICLEPEDIA_EXPERIMENT_DETAILS_4.1.txt', sep='\\t')\n",
    "experiments = experiments[experiments['SPECIES'].str.contains('apiens')]\n",
    "# http://microvesicles.org/Archive/VESICLEPEDIA_PROTEIN_MRNA_DETAILS_4.1.txt\n",
    "protein_ev = pd.read_csv(unprocessed_data_location+'VESICLEPEDIA_PROTEIN_MRNA_DETAILS_4.1.txt', sep='\\t')\n",
    "protein_ev = protein_ev[protein_ev['SPECIES'].str.contains('apiens')]\n",
    "protein_ev = pd.merge(protein_ev, experiments, on=['EXPERIMENT ID'])\n",
    "protein_ev.drop(columns=['CONTENT ID','GENE SYMBOL','SPECIES_x','EXPERIMENT ID','SPECIES_y',\n",
    "                         'SAMPLE NAME','IDENTIFICATIONS','METHODS_x','YEAR'],inplace=True)\n",
    "protein_ev"
   ]
  },
  {
   "cell_type": "code",
   "execution_count": null,
   "metadata": {},
   "outputs": [],
   "source": [
    "protein_ev['VESICLE TYPE'].unique()"
   ]
  },
  {
   "cell_type": "code",
   "execution_count": null,
   "metadata": {},
   "outputs": [],
   "source": [
    "protein_ev['VESICLE TYPE'] = protein_ev['VESICLE TYPE'].str.replace(r\".*xosomes.*\", \"GO_0070062\", regex=True)\n",
    "protein_ev['VESICLE TYPE'] = protein_ev['VESICLE TYPE'].str.replace(\"Membrane blebs\", \"GO_0032059\")\n",
    "protein_ev['VESICLE TYPE'] = protein_ev['VESICLE TYPE'].str.replace(\"Apoptotic bodies\", \"GO_0097189\")\n",
    "protein_ev['VESICLE TYPE'] = protein_ev['VESICLE TYPE'].str.replace(r\".*embrane\", \"GO_0016020\", regex=True)\n",
    "protein_ev['VESICLE TYPE'] = protein_ev['VESICLE TYPE'].str.replace(r\".*icrovesicles\", \"GO_1990742\", regex=True)\n",
    "protein_ev['VESICLE TYPE'] = protein_ev['VESICLE TYPE'].str.replace(r\"^(?!GO_.*)\", \"GO_1990742\", regex=True)\n",
    "protein_ev['VESICLE TYPE'] = 'GO_'+protein_ev['VESICLE TYPE'].str.extract('(\\d+)', expand=False)\n",
    "protein_ev"
   ]
  },
  {
   "cell_type": "code",
   "execution_count": null,
   "metadata": {},
   "outputs": [],
   "source": [
    "protein_ev['CONTENT TYPE'].unique()"
   ]
  },
  {
   "cell_type": "code",
   "execution_count": null,
   "metadata": {},
   "outputs": [],
   "source": [
    "mRNA_ev = protein_ev[(protein_ev['CONTENT TYPE']=='mRNA') | (protein_ev['CONTENT TYPE']=='mrna')]\n",
    "mRNA_ev.drop(columns=['CONTENT TYPE'], inplace=True)\n",
    "mRNA_ev = mRNA_ev[(mRNA_ev['ENTREZ GENE ID'].notna())]\n",
    "mRNA_ev = mRNA_ev[(mRNA_ev['ENTREZ GENE ID'].astype(str).str[0].str.isdigit())]\n",
    "mRNA_ev['ENTREZ GENE ID'] = mRNA_ev['ENTREZ GENE ID'].astype(str) + '#mRNA'\n",
    "mRNA_ev[['ENTREZ GENE ID','VESICLE TYPE']].drop_duplicates().to_csv(\n",
    "    edge_data_location + 'mRNA-ev.txt', header=None, sep='\\t', index=None)"
   ]
  },
  {
   "cell_type": "code",
   "execution_count": null,
   "metadata": {},
   "outputs": [],
   "source": [
    "snRNA_ev = protein_ev[protein_ev['CONTENT TYPE']=='snrna']\n",
    "snRNA_ev.drop(columns=['CONTENT TYPE'], inplace=True)\n",
    "snRNA_ev = snRNA_ev[(snRNA_ev['ENTREZ GENE ID'].notna())]\n",
    "snRNA_ev = snRNA_ev[(snRNA_ev['ENTREZ GENE ID'].astype(str).str[0].str.isdigit())]\n",
    "snRNA_ev['ENTREZ GENE ID'] = snRNA_ev['ENTREZ GENE ID'].astype(str) + '#snRNA'\n",
    "snRNA_ev[['ENTREZ GENE ID','VESICLE TYPE']].drop_duplicates().to_csv(\n",
    "    edge_data_location + 'snRNA-ev.txt', header=None, sep='\\t', index=None)"
   ]
  },
  {
   "cell_type": "code",
   "execution_count": null,
   "metadata": {},
   "outputs": [],
   "source": [
    "protein_ev = protein_ev[(protein_ev['CONTENT TYPE']=='protein') | (protein_ev['CONTENT TYPE']=='protein ')]\n",
    "protein_ev.drop(columns=['CONTENT TYPE'], inplace=True)\n",
    "protein_ev = protein_ev[(protein_ev['ENTREZ GENE ID'].notna())]\n",
    "protein_ev = protein_ev[(protein_ev['ENTREZ GENE ID'].astype(str).str[0].str.isdigit())]\n",
    "\n",
    "entrez_pro_map[0] = entrez_pro_map[0].astype(int)\n",
    "\n",
    "protein_ev = pd.merge(entrez_pro_map.rename(columns={0:'ENTREZ GENE ID'}), protein_ev, on=['ENTREZ GENE ID'])\n",
    "\n",
    "protein_ev[[1,'VESICLE TYPE']].drop_duplicates().to_csv(\n",
    "    edge_data_location + 'protein-ev.txt', header=None, sep='\\t', index=None)"
   ]
  },
  {
   "cell_type": "code",
   "execution_count": null,
   "metadata": {},
   "outputs": [],
   "source": [
    "# http://microvesicles.org/Archive/VESICLEPEDIA_MIRNA_DETAILS_4.1.txt\n",
    "miRNA_ev = pd.read_csv(unprocessed_data_location+'VESICLEPEDIA_MIRNA_DETAILS_4.1.txt', sep='\\t')\n",
    "miRNA_ev = miRNA_ev[miRNA_ev['SPECIES'].str.contains('apiens')]\n",
    "miRNA_ev = pd.merge(miRNA_ev, experiments, on=['EXPERIMENT ID'])\n",
    "\n",
    "miRNA_ev['MIRNA ID'] = 'hsa-' + miRNA_ev['MIRNA ID'].astype(str)\n",
    "miRNA_ev['VESICLE TYPE'] = miRNA_ev['VESICLE TYPE'].str.replace(r\".*xosomes.*\", \"GO_0070062\", regex=True)\n",
    "miRNA_ev['VESICLE TYPE'] = miRNA_ev['VESICLE TYPE'].str.replace(\"Membrane blebs\", \"GO_0032059\")\n",
    "miRNA_ev['VESICLE TYPE'] = miRNA_ev['VESICLE TYPE'].str.replace(\"Apoptotic bodies\", \"GO_0097189\")\n",
    "miRNA_ev['VESICLE TYPE'] = miRNA_ev['VESICLE TYPE'].str.replace(r\".*embrane\", \"GO_0016020\", regex=True)\n",
    "miRNA_ev['VESICLE TYPE'] = miRNA_ev['VESICLE TYPE'].str.replace(r\".*icrovesicles\", \"GO_1990742\", regex=True)\n",
    "miRNA_ev['VESICLE TYPE'] = miRNA_ev['VESICLE TYPE'].str.replace(r\"^(?!GO_.*)\", \"GO_1990742\", regex=True)\n",
    "miRNA_ev['VESICLE TYPE'] = 'GO_'+miRNA_ev['VESICLE TYPE'].str.extract('(\\d+)', expand=False)\n",
    "\n",
    "miRNA_ev = pd.merge(mirna_mirbase_map.rename(columns={0:'MIRNA ID'}), miRNA_ev, on=['MIRNA ID'])\n",
    "miRNA_ev.drop(columns=['CONTENT ID','CONTENT TYPE','COMMENTS','Entrez GENE ID','SPECIES_x',\n",
    "                       'EXPERIMENT ID','SPECIES_y','SAMPLE NAME','IDENTIFICATIONS','METHODS_x',\n",
    "                       'YEAR','MIRNA ID'],inplace=True)\n",
    "\n",
    "miRNA_ev"
   ]
  },
  {
   "cell_type": "code",
   "execution_count": null,
   "metadata": {},
   "outputs": [],
   "source": [
    "maturemiRNA_ev = miRNA_ev[miRNA_ev[1].str.startswith('MIMAT')]\n",
    "premiRNA_ev = miRNA_ev[~miRNA_ev[1].str.startswith('MIMAT')]\n",
    "maturemiRNA_ev[[1, 'VESICLE TYPE']].drop_duplicates().to_csv(\n",
    "    edge_data_location + 'miRNA-ev.txt', header=None, sep='\\t', index=None)\n",
    "premiRNA_ev[[1, 'VESICLE TYPE']].drop_duplicates().to_csv(\n",
    "    edge_data_location + 'premiRNA-ev.txt', header=None, sep='\\t', index=None)"
   ]
  },
  {
   "cell_type": "code",
   "execution_count": null,
   "metadata": {},
   "outputs": [],
   "source": [
    "# http://microvesicles.org/Archive/VESICLEPEDIA_LIPID_DETAILS_4.1.txt\n",
    "lipid_ev = pd.read_csv(unprocessed_data_location+'VESICLEPEDIA_LIPID_DETAILS_4.1.txt', sep='\\t')\n",
    "lipid_ev = lipid_ev[lipid_ev['SPECIES'].str.contains('apiens')]\n",
    "lipid_ev = pd.merge(lipid_ev, experiments, on=['EXPERIMENT ID'])\n",
    "lipid_ev['LIPID ID'] = lipid_ev['LIPID ID'].str.lower()\n",
    "\n",
    "lipid_ev['VESICLE TYPE'] = lipid_ev['VESICLE TYPE'].str.replace(r\".*xosomes.*\", \"GO_0070062\", regex=True)\n",
    "lipid_ev['VESICLE TYPE'] = lipid_ev['VESICLE TYPE'].str.replace(\"Membrane blebs\", \"GO_0032059\")\n",
    "lipid_ev['VESICLE TYPE'] = lipid_ev['VESICLE TYPE'].str.replace(\"Apoptotic bodies\", \"GO_0097189\")\n",
    "lipid_ev['VESICLE TYPE'] = lipid_ev['VESICLE TYPE'].str.replace(r\".*embrane\", \"GO_0016020\", regex=True)\n",
    "lipid_ev['VESICLE TYPE'] = lipid_ev['VESICLE TYPE'].str.replace(r\".*icrovesicles\", \"GO_1990742\", regex=True)\n",
    "lipid_ev['VESICLE TYPE'] = lipid_ev['VESICLE TYPE'].str.replace(r\"^(?!GO_.*)\", \"GO_1990742\", regex=True)\n",
    "lipid_ev['VESICLE TYPE'] = 'GO_'+lipid_ev['VESICLE TYPE'].str.extract('(\\d+)', expand=False)\n",
    "\n",
    "lipid_ev = pd.merge(desc_chebi_map.rename(columns={0:'LIPID ID'}), lipid_ev, on=['LIPID ID'])\n",
    "lipid_ev.drop(columns=['LIPID ID', 'CONTENT ID','CONTENT TYPE','SPECIES_x','EXPERIMENT ID','SPECIES_y',\n",
    "                       'SAMPLE NAME','IDENTIFICATIONS','METHODS_x','YEAR'], inplace=True)\n",
    "\n",
    "lipid_ev"
   ]
  },
  {
   "cell_type": "code",
   "execution_count": null,
   "metadata": {},
   "outputs": [],
   "source": [
    "lipid_ev[[1, 'VESICLE TYPE']].drop_duplicates().to_csv(\n",
    "    edge_data_location + 'lipid-ev.txt', header=None, sep='\\t', index=None)"
   ]
  },
  {
   "cell_type": "markdown",
   "metadata": {},
   "source": [
    "***\n",
    "### [directRMDB](http://www.rnamd.org/directRMDB/index.html)\n",
    "DirectRMDB is a database of quantitative RNA modification profiles."
   ]
  },
  {
   "cell_type": "code",
   "execution_count": null,
   "metadata": {},
   "outputs": [],
   "source": [
    "DirectRMDB = pd.read_csv(unprocessed_data_location+'DirectRMDB.txt', sep='\\t')\n",
    "DirectRMDB.drop(columns=['seqnames','start','end','width','strand','transcripts_info','NGS_site','Ensembl_ID','miRNA_Num','Gene_Biotype'],inplace=True)\n",
    "DirectRMDB2 = pd.read_csv(unprocessed_data_location+'HomoSapiens_miRNA.txt', sep='\\t')\n",
    "DirectRMDB2 = DirectRMDB2[DirectRMDB2['Species'].str.contains('apiens')]\n",
    "DirectRMDB2.drop(columns=['seqnames','start','end','width','strand','Source','Species','Region'],inplace=True)\n",
    "DirectRMDB = pd.merge(DirectRMDB, DirectRMDB2,on ='ID')\n",
    "\n",
    "DirectRMDB = pd.merge(DirectRMDB, mirna_mirbase_map.rename(columns={0:'Name'}),on ='Name')\n",
    "DirectRMDB.drop(columns=['ID','Name'],inplace=True)\n",
    "DirectRMDB"
   ]
  },
  {
   "cell_type": "code",
   "execution_count": null,
   "metadata": {},
   "outputs": [],
   "source": [
    "DirectRMDB.modification.unique()"
   ]
  },
  {
   "cell_type": "code",
   "execution_count": null,
   "metadata": {},
   "outputs": [],
   "source": [
    "DirectRMDB.modification.replace({'Psi':'SO_0001373',\n",
    "'m5C': 'SO_0001918',\n",
    "'m6A': 'SO_0001920',\n",
    "'m7G':'SO_0001326',\n",
    "'AtoI': 'SO_0001274',\n",
    "'m1A': 'SO_0001295',\n",
    "'Cm': 'SO_0001283',\n",
    "'Tm': 'SO_0001382',\n",
    "'m6Am' :'SO_0001312',\n",
    "'Am': 'SO_0001298',\n",
    "'Gm': 'SO_0001327',\n",
    "'m5U': 'SO_0001344'},inplace=True)"
   ]
  },
  {
   "cell_type": "code",
   "execution_count": null,
   "metadata": {},
   "outputs": [],
   "source": [
    "maturemiRNA_epiMod = DirectRMDB[DirectRMDB[1].str.startswith('MIMAT')]\n",
    "premiRNA_epiMod = DirectRMDB[~DirectRMDB[1].str.startswith('MIMAT')]\n",
    "maturemiRNA_epiMod[[1, 'modification']].drop_duplicates().to_csv(\n",
    "    edge_data_location + 'miRNA-epiMod.txt', header=None, sep='\\t', index=None)\n",
    "premiRNA_epiMod[[1, 'modification']].drop_duplicates().to_csv(\n",
    "    edge_data_location + 'premiRNA-epiMod.txt', header=None, sep='\\t', index=None)"
   ]
  },
  {
   "cell_type": "markdown",
   "metadata": {},
   "source": [
    "***\n",
    "### [Modomics](https://genesilico.pl/modomics/)\n",
    "Modomics is a database of RNA modifications that provides comprehensive information concerning the chemical structures of modified ribonucleosides, their biosynthetic pathways, the location of modified residues in RNA sequences, and RNA modifying enzymes."
   ]
  },
  {
   "cell_type": "code",
   "execution_count": null,
   "metadata": {},
   "outputs": [],
   "source": [
    "modomics = pd.read_csv(unprocessed_data_location+'modomics.csv')\n",
    "modomics['Enzymes'] = modomics['Enzymes'].str.split(' ')\n",
    "modomics = modomics.explode('Enzymes')\n",
    "modomics = pd.merge(modomics, symbol_to_pro.rename(columns={0:'Enzymes'}), on='Enzymes')\n",
    "modomics.drop(columns=['Enzymes'],inplace=True)\n",
    "modomics"
   ]
  },
  {
   "cell_type": "code",
   "execution_count": null,
   "metadata": {},
   "outputs": [],
   "source": [
    "modomics.Reaction.unique()"
   ]
  },
  {
   "cell_type": "code",
   "execution_count": null,
   "metadata": {},
   "outputs": [],
   "source": [
    "modomics.Reaction.replace({'C:m5C': 'SO_0001918',\n",
    "'xX:Xm':'SO:0001353',\n",
    "'A:m6A': 'SO_0001920',\n",
    "'A:I': 'SO_0001274',\n",
    "'C:U':'SO_1000011',\n",
    "'U:Y':'SO_0001332',\n",
    "'A:m1A': 'SO_0001295'},inplace=True)\n",
    "\n",
    "modomics[[1, 'Reaction']].drop_duplicates().to_csv(\n",
    "    edge_data_location + 'protein-epiMod.txt', header=None, sep='\\t', index=None)"
   ]
  },
  {
   "cell_type": "code",
   "execution_count": null,
   "metadata": {},
   "outputs": [],
   "source": [
    "modomics = pd.read_csv(unprocessed_data_location+'modomics2.csv')\n",
    "modomics = modomics[modomics['Organism'].str.contains('apiens')]\n",
    "modomics = pd.merge(modomics, symbol_entrez_map.rename(columns={0:'ORF/Alternative name'}),\n",
    "                    on ='ORF/Alternative name')\n",
    "modomics['ORF/Alternative name'] = modomics['ORF/Alternative name'].astype(str).str.lower()\n",
    "modomics[1] = modomics[1].astype(str) + '#' + modomics['ORF/Alternative name'].str[0:3] + 'RNA'\n",
    "modomics['ORF/Alternative name'] = modomics['ORF/Alternative name'].str[0:3] + 'RNA'\n",
    "modomics['Modification type'].unique()"
   ]
  },
  {
   "cell_type": "code",
   "execution_count": null,
   "metadata": {},
   "outputs": [],
   "source": [
    "modomics['Modification type'].replace({'Y':'SO_0001332','Cm': 'SO_0001283','Gm':'SO_0001327',\n",
    "                                       'Am':'SO_0001298','Um':'SO_0001345'},inplace=True)"
   ]
  },
  {
   "cell_type": "code",
   "execution_count": null,
   "metadata": {},
   "outputs": [],
   "source": [
    "modomics_scaRNA = modomics[modomics['ORF/Alternative name']=='scaRNA']\n",
    "modomics_snoRNA = modomics[modomics['ORF/Alternative name']=='snoRNA']\n",
    "modomics_scaRNA[[1, 'Modification type']].drop_duplicates().to_csv(\n",
    "    edge_data_location + 'scaRNA-epiMod.txt', header=None, sep='\\t', index=None)\n",
    "modomics_snoRNA[[1, 'Modification type']].drop_duplicates().to_csv(\n",
    "    edge_data_location + 'snoRNA-epiMod.txt', header=None, sep='\\t', index=None)"
   ]
  },
  {
   "cell_type": "markdown",
   "metadata": {},
   "source": [
    "***\n",
    "### Remove unprocessed raw data"
   ]
  },
  {
   "cell_type": "code",
   "execution_count": null,
   "metadata": {},
   "outputs": [],
   "source": [
    "#shutil.rmtree(unprocessed_data_location)"
   ]
  },
  {
   "cell_type": "markdown",
   "metadata": {},
   "source": [
    "***\n",
    "#### PheKnowLator works with at least 2 rows (we removed headers) per dataframe"
   ]
  },
  {
   "cell_type": "code",
   "execution_count": null,
   "metadata": {},
   "outputs": [],
   "source": [
    "nodes = pd.read_csv('../resources/edge_source_list.txt',sep=', ',header=None, engine='python')\n",
    "nodes[1] = '../'+nodes[1].astype(str)\n",
    "nodes\n",
    "\n",
    "for i in nodes[1]:\n",
    "    #Read every df\n",
    "    df = pd.read_csv(i,sep='\\t',header=None)\n",
    "    #If df has one single row, then double it\n",
    "    if len(df) == 1:\n",
    "        df.append(df).to_csv(i, header=None, sep='\\t', index=None)"
   ]
  },
  {
   "cell_type": "markdown",
   "metadata": {},
   "source": [
    "## Non-ontology data"
   ]
  },
  {
   "cell_type": "code",
   "execution_count": null,
   "metadata": {},
   "outputs": [],
   "source": [
    "nodes = pd.read_csv('../resources/edge_source_list.txt',sep=', ',header=None, engine='python')\n",
    "nodes[['A', 'B']] = nodes[0].str.split('-', 1, expand=True)\n",
    "a = set(nodes['A'])\n",
    "b = set(nodes['B'])\n",
    "print(a.union(b))"
   ]
  },
  {
   "cell_type": "code",
   "execution_count": null,
   "metadata": {},
   "outputs": [],
   "source": [
    "# Provided by PKL ecosystem\n",
    "data_downloader(processed_url+'subclass_construction_map.pkl', '../resources/construction_approach/')\n",
    "\n",
    "# Load data, print row count, and preview it\n",
    "nonO_data = pd.read_pickle(r'../resources/construction_approach/'+'subclass_construction_map.pkl')\n",
    "\n",
    "# For instance, ncbi IDs are mapped to appropriate SO Ontology entries\n",
    "list(nonO_data.items())[:5]"
   ]
  },
  {
   "cell_type": "markdown",
   "metadata": {},
   "source": [
    "***\n",
    "### Pseudogene sequences"
   ]
  },
  {
   "cell_type": "code",
   "execution_count": null,
   "metadata": {},
   "outputs": [],
   "source": [
    "pseudononO_data = pd.read_csv('../resources/edge_data/premiRNA-pseudogene.txt',sep='\\t',header=None)[1].append(\n",
    "    pd.read_csv('../resources/edge_data/miRNA-pseudogene.txt',sep='\\t',header=None)[1]).append(\n",
    "    pd.read_csv('../resources/edge_data/othersRNA-pseudogene.txt',sep='\\t',header=None)[1]).append(\n",
    "    pd.read_csv('../resources/edge_data/snRNA-pseudogene.txt',sep='\\t',header=None)[1]).append(\n",
    "    pd.read_csv('../resources/edge_data/tRF-pseudogene.txt',sep='\\t',header=None)[1]).append(\n",
    "    pd.read_csv('../resources/edge_data/snoRNA-pseudogene.txt',sep='\\t',header=None)[1]).append(\n",
    "    pd.read_csv('../resources/edge_data/lncRNA-pseudogene.txt',sep='\\t',header=None)[1]).append(\n",
    "    pd.read_csv('../resources/edge_data/pseudogene-mRNA.txt',sep='\\t',header=None)[0]).append(\n",
    "    pd.read_csv('../resources/edge_data/pseudogene-pseudogene.txt',sep='\\t',header=None)[1]).append(\n",
    "    pd.read_csv('../resources/edge_data/pseudogene-rRNA.txt',sep='\\t',header=None)[0]).append(\n",
    "    pd.read_csv('../resources/edge_data/pseudogene-pseudogene.txt',sep='\\t',header=None)[0]).append(\n",
    "    pd.read_csv('../resources/edge_data/pseudogene-protein.txt',sep='\\t',header=None)[0]).append(\n",
    "    pd.read_csv('../resources/edge_data/pseudo-RBP.txt',sep='\\t',header=None)[0]).append(\n",
    "    pd.read_csv('../resources/edge_data/pseudo-TF.txt',sep='\\t',header=None)[0]).append(\n",
    "    pd.read_csv('../resources/edge_data/pseudo-chemical.txt',sep='\\t',header=None)[0]).append(\n",
    "    pd.read_csv('../resources/edge_data/pseudo-histoneModification.txt',sep='\\t',header=None)[0]).append(\n",
    "    pd.read_csv('../resources/edge_data/pseudo-GO.txt',sep='\\t',header=None)[0]).append(\n",
    "    pd.read_csv('../resources/edge_data/pseudo-disease.txt',sep='\\t',header=None)[0]).append(\n",
    "    pd.read_csv('../resources/edge_data/pseudo-viralmRNA.txt',sep='\\t',header=None)[0]).append(\n",
    "    pd.read_csv('../resources/edge_data/pseudo-viralmiRNA.txt',sep='\\t',header=None)[0]).drop_duplicates()\n",
    "\n",
    "pseudononO_data = pd.DataFrame(pseudononO_data)\n",
    "pseudononO_data['SO'] = [['SO_0000336']] * len(pseudononO_data)\n",
    "pseudononO_data = pseudononO_data.set_index(0).to_dict()\n",
    "nonO_data = {**nonO_data, **pseudononO_data['SO']}"
   ]
  },
  {
   "cell_type": "markdown",
   "metadata": {},
   "source": [
    "***\n",
    "### miRNA sequences"
   ]
  },
  {
   "cell_type": "code",
   "execution_count": null,
   "metadata": {},
   "outputs": [],
   "source": [
    "mirna_mirbase_map = pd.read_csv(processed_data_location + 'MIRNA_MIRBASE_MAP.txt', header=None, sep='\\t')\n",
    "\n",
    "mature_mirna = mirna_mirbase_map[mirna_mirbase_map[1].str.startswith('MIMAT')]\n",
    "mature_mirna['SO'] = [['SO_0000276']] * len(mature_mirna)\n",
    "\n",
    "pre_mirna = mirna_mirbase_map[~mirna_mirbase_map[1].str.startswith('MIMAT')]\n",
    "pre_mirna['SO'] = [['SO_0000647']] * len(pre_mirna)\n",
    "\n",
    "mirna_mirbase_map = pd.concat([mature_mirna, pre_mirna])\n",
    "\n",
    "mirna_nonO = mirna_mirbase_map.drop(0, axis=1).set_index(1).to_dict()\n",
    "nonO_data = {**nonO_data, **mirna_nonO['SO']}"
   ]
  },
  {
   "cell_type": "markdown",
   "metadata": {},
   "source": [
    "***\n",
    "### mRNA sequences"
   ]
  },
  {
   "cell_type": "code",
   "execution_count": null,
   "metadata": {},
   "outputs": [],
   "source": [
    "mRNAnonO_data = pd.read_csv('../resources/edge_data/premiRNA-mRNA.txt',sep='\\t',header=None)[1].append(\n",
    "    pd.read_csv('../resources/edge_data/miRNA-mRNA.txt',sep='\\t',header=None)[1]).append(\n",
    "    pd.read_csv('../resources/edge_data/othersRNA-mRNA.txt',sep='\\t',header=None)[1]).append(\n",
    "    pd.read_csv('../resources/edge_data/snRNA-mRNA.txt',sep='\\t',header=None)[1]).append(\n",
    "    pd.read_csv('../resources/edge_data/tRNA-mRNA_NCBI.txt',sep='\\t',header=None)[1]).append(\n",
    "    pd.read_csv('../resources/edge_data/tRNA-mRNA_gtRNA.txt',sep='\\t',header=None)[1]).append(\n",
    "    pd.read_csv('../resources/edge_data/piRNA-mRNA.txt',sep='\\t',header=None)[1]).append(\n",
    "    pd.read_csv('../resources/edge_data/tRF-mRNA.txt',sep='\\t',header=None)[1]).append(\n",
    "    pd.read_csv('../resources/edge_data/snoRNA-mRNA.txt',sep='\\t',header=None)[1]).append(\n",
    "    pd.read_csv('../resources/edge_data/eRNA-mRNA.txt',sep='\\t',header=None)[1]).append(\n",
    "    pd.read_csv('../resources/edge_data/scRNA-mRNA.txt',sep='\\t',header=None)[1]).append(\n",
    "    pd.read_csv('../resources/edge_data/pseudogene-mRNA.txt',sep='\\t',header=None)[1]).append(\n",
    "    pd.read_csv('../resources/edge_data/mRNA-mRNA.txt',sep='\\t',header=None)[0]).append(\n",
    "    pd.read_csv('../resources/edge_data/mRNA-mRNA.txt',sep='\\t',header=None)[1]).append(\n",
    "    pd.read_csv('../resources/edge_data/mRNA-rRNA.txt',sep='\\t',header=None)[0]).append(\n",
    "    pd.read_csv('../resources/edge_data/mRNA-ncRNA.txt',sep='\\t',header=None)[0]).append(\n",
    "    pd.read_csv('../resources/edge_data/mRNA-scaRNA.txt',sep='\\t',header=None)[0]).append(\n",
    "    pd.read_csv('../resources/edge_data/mRNA-protein.txt',sep='\\t',header=None)[0]).append(\n",
    "    pd.read_csv('../resources/edge_data/mRNA-RBP.txt',sep='\\t',header=None)[0]).append(\n",
    "    pd.read_csv('../resources/edge_data/mRNA-TF.txt',sep='\\t',header=None)[0]).append(\n",
    "    pd.read_csv('../resources/edge_data/mRNA-gene.txt',sep='\\t',header=None)[0]).append(\n",
    "    pd.read_csv('../resources/edge_data/mRNA-chemical.txt',sep='\\t',header=None)[0]).append(\n",
    "    pd.read_csv('../resources/edge_data/mRNA-histoneModification.txt',sep='\\t',header=None)[0]).append(\n",
    "    pd.read_csv('../resources/edge_data/mRNA-GO.txt',sep='\\t',header=None)[0]).append(\n",
    "    pd.read_csv('../resources/edge_data/mRNA-disease.txt',sep='\\t',header=None)[0]).append(\n",
    "    pd.read_csv('../resources/edge_data/mRNA-anatomy.txt',sep='\\t',header=None)[0]).append(\n",
    "    pd.read_csv('../resources/edge_data/mRNA-viralnsRNA.txt',sep='\\t',header=None)[0]).append(\n",
    "    pd.read_csv('../resources/edge_data/mRNA-viralmiRNA.txt',sep='\\t',header=None)[0]).append(\n",
    "    pd.read_csv('../resources/edge_data/mRNA-ev.txt',sep='\\t',header=None)[0]).drop_duplicates()\n",
    "\n",
    "mRNAnonO_data = pd.DataFrame(mRNAnonO_data)\n",
    "mRNAnonO_data['SO'] = [['SO_0000234']] * len(mRNAnonO_data)\n",
    "mRNAnonO_data = mRNAnonO_data.set_index(0).to_dict()\n",
    "nonO_data = {**nonO_data, **mRNAnonO_data['SO']}"
   ]
  },
  {
   "cell_type": "markdown",
   "metadata": {},
   "source": [
    "***\n",
    "### TEC sequences"
   ]
  },
  {
   "cell_type": "code",
   "execution_count": null,
   "metadata": {},
   "outputs": [],
   "source": [
    "TECnonO_data = pd.read_csv('../resources/edge_data/TEC-chemical.txt',sep='\\t',header=None)[0].drop_duplicates()\n",
    "\n",
    "TECnonO_data = pd.DataFrame(TECnonO_data)\n",
    "TECnonO_data['SO'] = [['SO_0002139']] * len(TECnonO_data)\n",
    "TECnonO_data = TECnonO_data.set_index(0).to_dict()\n",
    "nonO_data = {**nonO_data, **TECnonO_data['SO']}"
   ]
  },
  {
   "cell_type": "markdown",
   "metadata": {},
   "source": [
    "***\n",
    "### Y_RNA sequences"
   ]
  },
  {
   "cell_type": "code",
   "execution_count": null,
   "metadata": {},
   "outputs": [],
   "source": [
    "YnonO_data = pd.read_csv('../resources/edge_data/Y_RNA-GO.txt',sep='\\t',header=None)[0].drop_duplicates()\n",
    "\n",
    "YnonO_data = pd.DataFrame(YnonO_data)\n",
    "YnonO_data['SO'] = [['SO_0000405']] * len(YnonO_data)\n",
    "YnonO_data = YnonO_data.set_index(0).to_dict()\n",
    "nonO_data = {**nonO_data, **YnonO_data['SO']}"
   ]
  },
  {
   "cell_type": "markdown",
   "metadata": {},
   "source": [
    "***\n",
    "### circRNA sequences"
   ]
  },
  {
   "cell_type": "code",
   "execution_count": null,
   "metadata": {},
   "outputs": [],
   "source": [
    "circRNAnonO_data = pd.read_csv('../resources/edge_data/circRNA-TF.txt',sep='\\t',header=None)[0].append(\n",
    "    pd.read_csv('../resources/edge_data/circRNA-GO.txt',sep='\\t',header=None)[0]).append(\n",
    "    pd.read_csv('../resources/edge_data/circRNA-disease.txt',sep='\\t',header=None)[0]).append(\n",
    "    pd.read_csv('../resources/edge_data/miRNA-circRNA.txt',sep='\\t',header=None)[1]).append(\n",
    "    pd.read_csv('../resources/edge_data/circRNA-protein.txt',sep='\\t',header=None)[0]).append(\n",
    "    pd.read_csv('../resources/edge_data/circRNA-RBP.txt',sep='\\t',header=None)[0]).drop_duplicates()\n",
    "\n",
    "circRNAnonO_data = pd.DataFrame(circRNAnonO_data)\n",
    "circRNAnonO_data['SO'] = [['SO_0002291']] * len(circRNAnonO_data)\n",
    "circRNAnonO_data = circRNAnonO_data.set_index(0).to_dict()\n",
    "nonO_data = {**nonO_data, **circRNAnonO_data['SO']}"
   ]
  },
  {
   "cell_type": "markdown",
   "metadata": {},
   "source": [
    "***\n",
    "### eRNA sequences"
   ]
  },
  {
   "cell_type": "code",
   "execution_count": null,
   "metadata": {},
   "outputs": [],
   "source": [
    "eRNAnonO_data = pd.read_csv('../resources/edge_data/eRNA-mRNA.txt',sep='\\t',header=None)[0].drop_duplicates()\n",
    "\n",
    "eRNAnonO_data = pd.DataFrame(eRNAnonO_data)\n",
    "eRNAnonO_data['SO'] = [['SO_0000165']] * len(eRNAnonO_data)\n",
    "eRNAnonO_data = eRNAnonO_data.set_index(0).to_dict()\n",
    "nonO_data = {**nonO_data, **eRNAnonO_data['SO']}"
   ]
  },
  {
   "cell_type": "markdown",
   "metadata": {},
   "source": [
    "***\n",
    "### Histone modifications"
   ]
  },
  {
   "cell_type": "code",
   "execution_count": null,
   "metadata": {},
   "outputs": [],
   "source": [
    "hModnonO_data = pd.read_csv('../resources/edge_data/unknown-histoneModification.txt',sep='\\t',header=None)[1].append(\n",
    "    pd.read_csv('../resources/edge_data/mRNA-histoneModification.txt',sep='\\t',header=None)[1]).append(\n",
    "    pd.read_csv('../resources/edge_data/others-histoneModification.txt',sep='\\t',header=None)[1]).append(\n",
    "    pd.read_csv('../resources/edge_data/lncRNA-histoneModification.txt',sep='\\t',header=None)[1]).append(\n",
    "    pd.read_csv('../resources/edge_data/ncRNA-histoneModification.txt',sep='\\t',header=None)[1]).append(\n",
    "    pd.read_csv('../resources/edge_data/pseudo-histoneModification.txt',sep='\\t',header=None)[1]).append(\n",
    "    pd.read_csv('../resources/edge_data/premiRNA-histoneModification.txt',sep='\\t',header=None)[1]).drop_duplicates()\n",
    "\n",
    "hModnonO_data = pd.DataFrame(hModnonO_data)\n",
    "hModnonO_data['SO'] = [['SO_0001700']] * len(hModnonO_data)\n",
    "hModnonO_data = hModnonO_data.set_index(1).to_dict()\n",
    "nonO_data = {**nonO_data, **hModnonO_data['SO']}"
   ]
  },
  {
   "cell_type": "markdown",
   "metadata": {},
   "source": [
    "***\n",
    "### lincRNA sequences"
   ]
  },
  {
   "cell_type": "code",
   "execution_count": null,
   "metadata": {},
   "outputs": [],
   "source": [
    "lincRNAnonO_data = pd.read_csv('../resources/edge_data/lincRNA-GO.txt',sep='\\t',header=None)[0].drop_duplicates()\n",
    "\n",
    "lincRNAnonO_data = pd.DataFrame(lincRNAnonO_data)\n",
    "lincRNAnonO_data['SO'] = [['SO_0001463']] * len(lincRNAnonO_data)\n",
    "lincRNAnonO_data = lincRNAnonO_data.set_index(0).to_dict()\n",
    "nonO_data = {**nonO_data, **lincRNAnonO_data['SO']}"
   ]
  },
  {
   "cell_type": "markdown",
   "metadata": {},
   "source": [
    "***\n",
    "### lncRNA sequences"
   ]
  },
  {
   "cell_type": "code",
   "execution_count": null,
   "metadata": {},
   "outputs": [],
   "source": [
    "lncRNAnonO_data = pd.read_csv('../resources/edge_data/premiRNA-lncRNA.txt',sep='\\t',header=None)[1].append(\n",
    "    pd.read_csv('../resources/edge_data/miRNA-lncRNA.txt',sep='\\t',header=None)[1]).append(\n",
    "    pd.read_csv('../resources/edge_data/othersRNA-lncRNA.txt',sep='\\t',header=None)[1]).append(\n",
    "    pd.read_csv('../resources/edge_data/snRNA-lncRNA.txt',sep='\\t',header=None)[1]).append(\n",
    "    pd.read_csv('../resources/edge_data/PCG-lncRNA.txt',sep='\\t',header=None)[1]).append(\n",
    "    pd.read_csv('../resources/edge_data/tRNA-lncRNA.txt',sep='\\t',header=None)[1]).append(\n",
    "    pd.read_csv('../resources/edge_data/piRNA-lncRNA.txt',sep='\\t',header=None)[1]).append(\n",
    "    pd.read_csv('../resources/edge_data/tRF-lncRNA.txt',sep='\\t',header=None)[1]).append(\n",
    "    pd.read_csv('../resources/edge_data/snoRNA-lncRNA.txt',sep='\\t',header=None)[1]).append(\n",
    "    pd.read_csv('../resources/edge_data/lncRNA-mRNA.txt',sep='\\t',header=None)[0]).append(\n",
    "    pd.read_csv('../resources/edge_data/lncRNA-lncRNA.txt',sep='\\t',header=None)[0]).append(\n",
    "    pd.read_csv('../resources/edge_data/lncRNA-lncRNA.txt',sep='\\t',header=None)[1]).append(\n",
    "    pd.read_csv('../resources/edge_data/lncRNA-rRNA.txt',sep='\\t',header=None)[0]).append(\n",
    "    pd.read_csv('../resources/edge_data/lncRNA-pseudogene.txt',sep='\\t',header=None)[0]).append(\n",
    "    pd.read_csv('../resources/edge_data/lncRNA-protein.txt',sep='\\t',header=None)[0]).append(\n",
    "    pd.read_csv('../resources/edge_data/lncRNA-ncRNA.txt',sep='\\t',header=None)[0]).append(\n",
    "    pd.read_csv('../resources/edge_data/lncRNA-scaRNA.txt',sep='\\t',header=None)[0]).append(\n",
    "    pd.read_csv('../resources/edge_data/lncRNA-TF.txt',sep='\\t',header=None)[0]).append(\n",
    "    pd.read_csv('../resources/edge_data/lncRNA-ribozyme.txt',sep='\\t',header=None)[0]).append(\n",
    "    pd.read_csv('../resources/edge_data/lncRNA-RBP.txt',sep='\\t',header=None)[0]).append(\n",
    "    pd.read_csv('../resources/edge_data/lncRNA-gene.txt',sep='\\t',header=None)[0]).append(\n",
    "    pd.read_csv('../resources/edge_data/lncRNA-chemical.txt',sep='\\t',header=None)[0]).append(\n",
    "    pd.read_csv('../resources/edge_data/lncRNA-histoneModification.txt',sep='\\t',header=None)[0]).append(\n",
    "    pd.read_csv('../resources/edge_data/lncRNA-GO.txt',sep='\\t',header=None)[0]).append(\n",
    "    pd.read_csv('../resources/edge_data/lncRNA-disease.txt',sep='\\t',header=None)[0]).append(\n",
    "    pd.read_csv('../resources/edge_data/lncRNA-pDeath.txt',sep='\\t',header=None)[0]).append(\n",
    "    pd.read_csv('../resources/edge_data/lncRNA-anatomy.txt',sep='\\t',header=None)[0]).append(\n",
    "    pd.read_csv('../resources/edge_data/lncRNA-viralmRNA.txt',sep='\\t',header=None)[0]).append(\n",
    "    pd.read_csv('../resources/edge_data/lncRNA-viralmiRNA.txt',sep='\\t',header=None)[0]).append(\n",
    "    pd.read_csv('../resources/edge_data/lncRNA-viralprotein.txt',sep='\\t',header=None)[0]).drop_duplicates()\n",
    "\n",
    "lncRNAnonO_data = pd.DataFrame(lncRNAnonO_data)\n",
    "lncRNAnonO_data['SO'] = [['SO_0001877']] * len(lncRNAnonO_data)\n",
    "lncRNAnonO_data = lncRNAnonO_data.set_index(0).to_dict()\n",
    "nonO_data = {**nonO_data, **lncRNAnonO_data['SO']}"
   ]
  },
  {
   "cell_type": "markdown",
   "metadata": {},
   "source": [
    "***\n",
    "### mtRNA sequences"
   ]
  },
  {
   "cell_type": "code",
   "execution_count": null,
   "metadata": {},
   "outputs": [],
   "source": [
    "mtRNAnonO_data = pd.read_csv('../resources/edge_data/mtRNA-GO.txt',sep='\\t',header=None)[0].drop_duplicates()\n",
    "\n",
    "mtRNAnonO_data = pd.DataFrame(mtRNAnonO_data)\n",
    "mtRNAnonO_data['SO'] = [['NCIT_C25975']] * len(mtRNAnonO_data)\n",
    "mtRNAnonO_data = mtRNAnonO_data.set_index(0).to_dict()\n",
    "nonO_data = {**nonO_data, **mtRNAnonO_data['SO']}"
   ]
  },
  {
   "cell_type": "markdown",
   "metadata": {},
   "source": [
    "***\n",
    "### ncRNA sequences"
   ]
  },
  {
   "cell_type": "code",
   "execution_count": null,
   "metadata": {},
   "outputs": [],
   "source": [
    "ncRNAnonO_data = pd.read_csv('../resources/edge_data/miRNA-ncRNA.txt',sep='\\t',header=None)[1].append(\n",
    "    pd.read_csv('../resources/edge_data/lncRNA-ncRNA.txt',sep='\\t',header=None)[1]).append(\n",
    "    pd.read_csv('../resources/edge_data/mRNA-ncRNA.txt',sep='\\t',header=None)[1]).append(\n",
    "    pd.read_csv('../resources/edge_data/ncRNA-protein.txt',sep='\\t',header=None)[0]).append(\n",
    "    pd.read_csv('../resources/edge_data/ncRNA-RBP.txt',sep='\\t',header=None)[0]).append(\n",
    "    pd.read_csv('../resources/edge_data/ncRNA-TF.txt',sep='\\t',header=None)[0]).append(\n",
    "    pd.read_csv('../resources/edge_data/ncRNA-histoneModification.txt',sep='\\t',header=None)[0]).append(\n",
    "    pd.read_csv('../resources/edge_data/ncRNA-GO.txt',sep='\\t',header=None)[0]).drop_duplicates()\n",
    "\n",
    "ncRNAnonO_data = pd.DataFrame(ncRNAnonO_data)\n",
    "ncRNAnonO_data['SO'] = [['SO_0000655']] * len(ncRNAnonO_data)\n",
    "ncRNAnonO_data = ncRNAnonO_data.set_index(0).to_dict()\n",
    "nonO_data = {**nonO_data, **ncRNAnonO_data['SO']}"
   ]
  },
  {
   "cell_type": "markdown",
   "metadata": {},
   "source": [
    "***\n",
    "### othersRNA sequences"
   ]
  },
  {
   "cell_type": "code",
   "execution_count": null,
   "metadata": {},
   "outputs": [],
   "source": [
    "othersRNAnonO_data = pd.read_csv('../resources/edge_data/miRNA-othersRNA.txt',sep='\\t',header=None)[1].append(\n",
    "    pd.read_csv('../resources/edge_data/othersRNA-mRNA.txt',sep='\\t',header=None)[0]).append(\n",
    "    pd.read_csv('../resources/edge_data/othersRNA-lncRNA.txt',sep='\\t',header=None)[0]).append(\n",
    "    pd.read_csv('../resources/edge_data/othersRNA-pseudogene.txt',sep='\\t',header=None)[0]).append(\n",
    "    pd.read_csv('../resources/edge_data/othersRNA-rRNA.txt',sep='\\t',header=None)[0]).append(\n",
    "    pd.read_csv('../resources/edge_data/othersRNA-protein.txt',sep='\\t',header=None)[0]).append(\n",
    "    pd.read_csv('../resources/edge_data/others-RBP.txt',sep='\\t',header=None)[0]).append(\n",
    "    pd.read_csv('../resources/edge_data/others-TF.txt',sep='\\t',header=None)[0]).append(\n",
    "    pd.read_csv('../resources/edge_data/others-gene.txt',sep='\\t',header=None)[0]).append(\n",
    "    pd.read_csv('../resources/edge_data/others-histoneModification.txt',sep='\\t',header=None)[0]).append(\n",
    "    pd.read_csv('../resources/edge_data/others-GO.txt',sep='\\t',header=None)[0]).append(\n",
    "    pd.read_csv('../resources/edge_data/other-viralmiRNA.txt',sep='\\t',header=None)[0]).drop_duplicates()\n",
    "\n",
    "othersRNAnonO_data = pd.DataFrame(othersRNAnonO_data)\n",
    "othersRNAnonO_data['SO'] = [['SO_0000356']] * len(othersRNAnonO_data)\n",
    "othersRNAnonO_data = othersRNAnonO_data.set_index(0).to_dict()\n",
    "nonO_data = {**nonO_data, **othersRNAnonO_data['SO']}"
   ]
  },
  {
   "cell_type": "markdown",
   "metadata": {},
   "source": [
    "***\n",
    "### piRNA sequences"
   ]
  },
  {
   "cell_type": "code",
   "execution_count": null,
   "metadata": {},
   "outputs": [],
   "source": [
    "piRNAnonO_data = pd.read_csv('../resources/edge_data/piRNA-mRNA.txt',sep='\\t',header=None)[0].append(\n",
    "    pd.read_csv('../resources/edge_data/piRNA-lncRNA.txt',sep='\\t',header=None)[0]).drop_duplicates()\n",
    "\n",
    "piRNAnonO_data = pd.DataFrame(piRNAnonO_data)\n",
    "piRNAnonO_data['SO'] = [['SO_0001035']] * len(piRNAnonO_data)\n",
    "piRNAnonO_data = piRNAnonO_data.set_index(0).to_dict()\n",
    "nonO_data = {**nonO_data, **piRNAnonO_data['SO']}"
   ]
  },
  {
   "cell_type": "markdown",
   "metadata": {},
   "source": [
    "***\n",
    "### rRNA sequences"
   ]
  },
  {
   "cell_type": "code",
   "execution_count": null,
   "metadata": {},
   "outputs": [],
   "source": [
    "rRNAnonO_data = pd.read_csv('../resources/edge_data/othersRNA-rRNA.txt',sep='\\t',header=None)[1].append(\n",
    "    pd.read_csv('../resources/edge_data/lncRNA-rRNA.txt',sep='\\t',header=None)[1]).append(\n",
    "    pd.read_csv('../resources/edge_data/pseudogene-rRNA.txt',sep='\\t',header=None)[1]).append(\n",
    "    pd.read_csv('../resources/edge_data/mRNA-rRNA.txt',sep='\\t',header=None)[1]).append(\n",
    "    pd.read_csv('../resources/edge_data/rRNA-rRNA.txt',sep='\\t',header=None)[0]).append(\n",
    "    pd.read_csv('../resources/edge_data/rRNA-rRNA.txt',sep='\\t',header=None)[1]).append(\n",
    "    pd.read_csv('../resources/edge_data/rRNA-RBP.txt',sep='\\t',header=None)[0]).append(\n",
    "    pd.read_csv('../resources/edge_data/rRNA-TF.txt',sep='\\t',header=None)[0]).append(\n",
    "    pd.read_csv('../resources/edge_data/rRNA-GO.txt',sep='\\t',header=None)[0]).drop_duplicates()\n",
    "\n",
    "rRNAnonO_data = pd.DataFrame(rRNAnonO_data)\n",
    "rRNAnonO_data['SO'] = [['SO_0000252']] * len(rRNAnonO_data)\n",
    "rRNAnonO_data = rRNAnonO_data.set_index(0).to_dict()\n",
    "nonO_data = {**nonO_data, **rRNAnonO_data['SO']}"
   ]
  },
  {
   "cell_type": "markdown",
   "metadata": {},
   "source": [
    "***\n",
    "### Ribozyme sequences"
   ]
  },
  {
   "cell_type": "code",
   "execution_count": null,
   "metadata": {},
   "outputs": [],
   "source": [
    "ribozymenonO_data = pd.read_csv('../resources/edge_data/miRNA-ribozyme.txt',sep='\\t',header=None)[1].append(\n",
    "    pd.read_csv('../resources/edge_data/lncRNA-ribozyme.txt',sep='\\t',header=None)[1]).append(\n",
    "    pd.read_csv('../resources/edge_data/ribozyme-protein.txt',sep='\\t',header=None)[0]).append(\n",
    "    pd.read_csv('../resources/edge_data/ribozyme-RBP.txt',sep='\\t',header=None)[0]).append(\n",
    "    pd.read_csv('../resources/edge_data/ribozyme-TF.txt',sep='\\t',header=None)[0]).drop_duplicates()\n",
    "\n",
    "ribozymenonO_data = pd.DataFrame(ribozymenonO_data)\n",
    "ribozymenonO_data['SO'] = [['SO_0000374']] * len(ribozymenonO_data)\n",
    "ribozymenonO_data = ribozymenonO_data.set_index(0).to_dict()\n",
    "nonO_data = {**nonO_data, **ribozymenonO_data['SO']}"
   ]
  },
  {
   "cell_type": "markdown",
   "metadata": {},
   "source": [
    "***\n",
    "### sRNA sequences"
   ]
  },
  {
   "cell_type": "code",
   "execution_count": null,
   "metadata": {},
   "outputs": [],
   "source": [
    "sRNAnonO_data = pd.read_csv('../resources/edge_data/sRNA-TF.txt',sep='\\t',header=None)[0].drop_duplicates()\n",
    "\n",
    "sRNAnonO_data = pd.DataFrame(sRNAnonO_data)\n",
    "sRNAnonO_data['SO'] = [['SO_0002022']] * len(sRNAnonO_data)\n",
    "sRNAnonO_data = sRNAnonO_data.set_index(0).to_dict()\n",
    "nonO_data = {**nonO_data, **sRNAnonO_data['SO']}"
   ]
  },
  {
   "cell_type": "markdown",
   "metadata": {},
   "source": [
    "***\n",
    "### scRNA sequences"
   ]
  },
  {
   "cell_type": "code",
   "execution_count": null,
   "metadata": {},
   "outputs": [],
   "source": [
    "scRNAnonO_data = pd.read_csv('../resources/edge_data/miRNA-scRNA.txt',sep='\\t',header=None)[1].append(\n",
    "    pd.read_csv('../resources/edge_data/scRNA-mRNA.txt',sep='\\t',header=None)[0]).append(\n",
    "    pd.read_csv('../resources/edge_data/scRNA-protein.txt',sep='\\t',header=None)[0]).append(\n",
    "    pd.read_csv('../resources/edge_data/scRNA-RBP.txt',sep='\\t',header=None)[0]).append(\n",
    "    pd.read_csv('../resources/edge_data/scRNA-GO.txt',sep='\\t',header=None)[0]).append(\n",
    "    pd.read_csv('../resources/edge_data/scRNA-disease.txt',sep='\\t',header=None)[0]).append(\n",
    "    pd.read_csv('../resources/edge_data/scRNA-viralmiRNA.txt',sep='\\t',header=None)[0]).drop_duplicates()\n",
    "\n",
    "scRNAnonO_data = pd.DataFrame(scRNAnonO_data)\n",
    "scRNAnonO_data['SO'] = [['SO_0000013']] * len(scRNAnonO_data)\n",
    "scRNAnonO_data = scRNAnonO_data.set_index(0).to_dict()\n",
    "nonO_data = {**nonO_data, **scRNAnonO_data['SO']}"
   ]
  },
  {
   "cell_type": "markdown",
   "metadata": {},
   "source": [
    "***\n",
    "### scaRNA sequences"
   ]
  },
  {
   "cell_type": "code",
   "execution_count": null,
   "metadata": {},
   "outputs": [],
   "source": [
    "scaRNAnonO_data = pd.read_csv('../resources/edge_data/miRNA-scaRNA.txt',sep='\\t',header=None)[1].append(\n",
    "    pd.read_csv('../resources/edge_data/lncRNA-scaRNA.txt',sep='\\t',header=None)[1]).append(\n",
    "    pd.read_csv('../resources/edge_data/mRNA-scaRNA.txt',sep='\\t',header=None)[1]).append(\n",
    "    pd.read_csv('../resources/edge_data/scaRNA-RBP.txt',sep='\\t',header=None)[0]).append(\n",
    "    pd.read_csv('../resources/edge_data/scaRNA-TF.txt',sep='\\t',header=None)[0]).append(\n",
    "    pd.read_csv('../resources/edge_data/scaRNA-GO.txt',sep='\\t',header=None)[0]).append(\n",
    "    pd.read_csv('../resources/edge_data/scaRNA-epiMod.txt',sep='\\t',header=None)[0]).drop_duplicates()\n",
    "\n",
    "scaRNAnonO_data = pd.DataFrame(scaRNAnonO_data)\n",
    "scaRNAnonO_data['SO'] = [['SO_0002095']] * len(scaRNAnonO_data)\n",
    "scaRNAnonO_data = scaRNAnonO_data.set_index(0).to_dict()\n",
    "nonO_data = {**nonO_data, **scaRNAnonO_data['SO']}"
   ]
  },
  {
   "cell_type": "markdown",
   "metadata": {},
   "source": [
    "***\n",
    "### snRNA sequences"
   ]
  },
  {
   "cell_type": "code",
   "execution_count": null,
   "metadata": {},
   "outputs": [],
   "source": [
    "snRNAnonO_data = pd.read_csv('../resources/edge_data/miRNA-snRNA.txt',sep='\\t',header=None)[1].append(\n",
    "    pd.read_csv('../resources/edge_data/snRNA-snRNA.txt',sep='\\t',header=None)[0]).append(\n",
    "    pd.read_csv('../resources/edge_data/snRNA-snRNA.txt',sep='\\t',header=None)[1]).append(\n",
    "    pd.read_csv('../resources/edge_data/snRNA-lncRNA.txt',sep='\\t',header=None)[0]).append(\n",
    "    pd.read_csv('../resources/edge_data/snRNA-mRNA.txt',sep='\\t',header=None)[0]).append(\n",
    "    pd.read_csv('../resources/edge_data/snRNA-pseudogene.txt',sep='\\t',header=None)[0]).append(\n",
    "    pd.read_csv('../resources/edge_data/snRNA-snoRNA.txt',sep='\\t',header=None)[0]).append(\n",
    "    pd.read_csv('../resources/edge_data/snRNA-protein.txt',sep='\\t',header=None)[0]).append(\n",
    "    pd.read_csv('../resources/edge_data/snRNA-RBP.txt',sep='\\t',header=None)[0]).append(\n",
    "    pd.read_csv('../resources/edge_data/snRNA-TF.txt',sep='\\t',header=None)[0]).append(\n",
    "    pd.read_csv('../resources/edge_data/snRNA-GO.txt',sep='\\t',header=None)[0]).append(\n",
    "    pd.read_csv('../resources/edge_data/snRNA-viralmRNA.txt',sep='\\t',header=None)[0]).append(\n",
    "    pd.read_csv('../resources/edge_data/snRNA-viralmiRNA.txt',sep='\\t',header=None)[0]).append(\n",
    "    pd.read_csv('../resources/edge_data/snRNA-disease.txt',sep='\\t',header=None)[0]).append(\n",
    "    pd.read_csv('../resources/edge_data/snRNA-ev.txt',sep='\\t',header=None)[0]).drop_duplicates()\n",
    "\n",
    "snRNAnonO_data = pd.DataFrame(snRNAnonO_data)\n",
    "snRNAnonO_data['SO'] = [['SO_0000274']] * len(snRNAnonO_data)\n",
    "snRNAnonO_data = snRNAnonO_data.set_index(0).to_dict()\n",
    "nonO_data = {**nonO_data, **snRNAnonO_data['SO']}"
   ]
  },
  {
   "cell_type": "markdown",
   "metadata": {},
   "source": [
    "***\n",
    "### snoRNA sequences"
   ]
  },
  {
   "cell_type": "code",
   "execution_count": null,
   "metadata": {},
   "outputs": [],
   "source": [
    "snoRNAnonO_data = pd.read_csv('../resources/edge_data/miRNA-snoRNA.txt',sep='\\t',header=None)[1].append(\n",
    "    pd.read_csv('../resources/edge_data/snRNA-snoRNA.txt',sep='\\t',header=None)[1]).append(\n",
    "    pd.read_csv('../resources/edge_data/snoRNA-lncRNA.txt',sep='\\t',header=None)[0]).append(\n",
    "    pd.read_csv('../resources/edge_data/snoRNA-mRNA.txt',sep='\\t',header=None)[0]).append(\n",
    "    pd.read_csv('../resources/edge_data/snoRNA-pseudogene.txt',sep='\\t',header=None)[0]).append(\n",
    "    pd.read_csv('../resources/edge_data/snoRNA-protein.txt',sep='\\t',header=None)[0]).append(\n",
    "    pd.read_csv('../resources/edge_data/snoRNA-RBP.txt',sep='\\t',header=None)[0]).append(\n",
    "    pd.read_csv('../resources/edge_data/snoRNA-TF.txt',sep='\\t',header=None)[0]).append(\n",
    "    pd.read_csv('../resources/edge_data/snoRNA-chemical.txt',sep='\\t',header=None)[0]).append(\n",
    "    pd.read_csv('../resources/edge_data/snoRNA-GO.txt',sep='\\t',header=None)[0]).append(\n",
    "    pd.read_csv('../resources/edge_data/snoRNA-pDeath.txt',sep='\\t',header=None)[0]).append(\n",
    "    pd.read_csv('../resources/edge_data/snoRNA-viralmiRNA.txt',sep='\\t',header=None)[0]).append(\n",
    "    pd.read_csv('../resources/edge_data/snoRNA-disease.txt',sep='\\t',header=None)[0]).append(\n",
    "    pd.read_csv('../resources/edge_data/snoRNA-epiMod.txt',sep='\\t',header=None)[0]).drop_duplicates()\n",
    "\n",
    "snoRNAnonO_data = pd.DataFrame(snoRNAnonO_data)\n",
    "snoRNAnonO_data['SO'] = [['SO_0000275']] * len(snoRNAnonO_data)\n",
    "snoRNAnonO_data = snoRNAnonO_data.set_index(0).to_dict()\n",
    "nonO_data = {**nonO_data, **snoRNAnonO_data['SO']}"
   ]
  },
  {
   "cell_type": "markdown",
   "metadata": {},
   "source": [
    "***\n",
    "### tRF sequences"
   ]
  },
  {
   "cell_type": "code",
   "execution_count": null,
   "metadata": {},
   "outputs": [],
   "source": [
    "tRFnonO_data = pd.read_csv('../resources/edge_data/tRF-mRNA.txt',sep='\\t',header=None)[0].append(\n",
    "    pd.read_csv('../resources/edge_data/tRF-lncRNA.txt',sep='\\t',header=None)[0]).append(\n",
    "    pd.read_csv('../resources/edge_data/tRF-pseudogene.txt',sep='\\t',header=None)[0]).drop_duplicates()\n",
    "\n",
    "tRFnonO_data = pd.DataFrame(tRFnonO_data)\n",
    "tRFnonO_data['SO'] = [['SO_0001172']] * len(tRFnonO_data)\n",
    "tRFnonO_data = tRFnonO_data.set_index(0).to_dict()\n",
    "nonO_data = {**nonO_data, **tRFnonO_data['SO']}"
   ]
  },
  {
   "cell_type": "markdown",
   "metadata": {},
   "source": [
    "***\n",
    "### tRNA sequences"
   ]
  },
  {
   "cell_type": "code",
   "execution_count": null,
   "metadata": {},
   "outputs": [],
   "source": [
    "tRNAnonO_data = pd.read_csv('../resources/edge_data/tRNA-mRNA_NCBI.txt',sep='\\t',header=None)[0].append(\n",
    "    pd.read_csv('../resources/edge_data/tRNA-mRNA_gtRNA.txt',sep='\\t',header=None)[0]).append(\n",
    "    pd.read_csv('../resources/edge_data/tRNA-lncRNA.txt',sep='\\t',header=None)[0]).append(\n",
    "    pd.read_csv('../resources/edge_data/tRNA-TF.txt',sep='\\t',header=None)[0]).append(\n",
    "    pd.read_csv('../resources/edge_data/tRNA-GO.txt',sep='\\t',header=None)[0]).drop_duplicates()\n",
    "\n",
    "tRNAnonO_data = pd.DataFrame(tRNAnonO_data)\n",
    "tRNAnonO_data['SO'] = [['SO_0000253']] * len(tRNAnonO_data)\n",
    "tRNAnonO_data = tRNAnonO_data.set_index(0).to_dict()\n",
    "nonO_data = {**nonO_data, **tRNAnonO_data['SO']}"
   ]
  },
  {
   "cell_type": "markdown",
   "metadata": {},
   "source": [
    "***\n",
    "### unknownRNA sequences"
   ]
  },
  {
   "cell_type": "code",
   "execution_count": null,
   "metadata": {},
   "outputs": [],
   "source": [
    "unknownRNAnonO_data = pd.read_csv('../resources/edge_data/miRNA-unknownRNA.txt',sep='\\t',header=None)[1].append(\n",
    "    pd.read_csv('../resources/edge_data/unknownRNA-protein.txt',sep='\\t',header=None)[0]).append(\n",
    "    pd.read_csv('../resources/edge_data/unknown-TF.txt',sep='\\t',header=None)[0]).append(\n",
    "    pd.read_csv('../resources/edge_data/unknown-histoneModification.txt',sep='\\t',header=None)[0]).append(\n",
    "    pd.read_csv('../resources/edge_data/unknown-viralmiRNA.txt',sep='\\t',header=None)[0]).drop_duplicates()\n",
    "\n",
    "unknownRNAnonO_data = pd.DataFrame(unknownRNAnonO_data)\n",
    "unknownRNAnonO_data['SO'] = [['SO_0000356']] * len(unknownRNAnonO_data)\n",
    "unknownRNAnonO_data = unknownRNAnonO_data.set_index(0).to_dict()\n",
    "nonO_data = {**nonO_data, **unknownRNAnonO_data['SO']}"
   ]
  },
  {
   "cell_type": "markdown",
   "metadata": {},
   "source": [
    "***\n",
    "### vRNA sequences"
   ]
  },
  {
   "cell_type": "code",
   "execution_count": null,
   "metadata": {},
   "outputs": [],
   "source": [
    "vRNAnonO_data = pd.read_csv('../resources/edge_data/vRNA-GO.txt',sep='\\t',header=None)[0].drop_duplicates()\n",
    "\n",
    "vRNAnonO_data = pd.DataFrame(vRNAnonO_data)\n",
    "vRNAnonO_data['SO'] = [['SO_0001041']] * len(vRNAnonO_data)\n",
    "vRNAnonO_data = vRNAnonO_data.set_index(0).to_dict()\n",
    "nonO_data = {**nonO_data, **vRNAnonO_data['SO']}"
   ]
  },
  {
   "cell_type": "markdown",
   "metadata": {},
   "source": [
    "***\n",
    "### viralmRNA sequences"
   ]
  },
  {
   "cell_type": "code",
   "execution_count": null,
   "metadata": {},
   "outputs": [],
   "source": [
    "viralmRNAnonO_data = pd.read_csv('../resources/edge_data/miRNA-viralmRNA.txt',sep='\\t',header=None)[1].append(\n",
    "    pd.read_csv('../resources/edge_data/snRNA-viralmRNA.txt',sep='\\t',header=None)[1]).append(\n",
    "    pd.read_csv('../resources/edge_data/lncRNA-viralmRNA.txt',sep='\\t',header=None)[1]).append(\n",
    "    pd.read_csv('../resources/edge_data/pseudo-viralmRNA.txt',sep='\\t',header=None)[1]).drop_duplicates()\n",
    "\n",
    "viralmRNAnonO_data = pd.DataFrame(viralmRNAnonO_data)\n",
    "viralmRNAnonO_data['SO'] = [['SO_0001041']] * len(viralmRNAnonO_data)\n",
    "viralmRNAnonO_data = viralmRNAnonO_data.set_index(1).to_dict()\n",
    "nonO_data = {**nonO_data, **viralmRNAnonO_data['SO']}"
   ]
  },
  {
   "cell_type": "markdown",
   "metadata": {},
   "source": [
    "***\n",
    "### viralnsRNA sequences"
   ]
  },
  {
   "cell_type": "code",
   "execution_count": null,
   "metadata": {},
   "outputs": [],
   "source": [
    "viralnsRNAnonO_data = pd.read_csv('../resources/edge_data/mRNA-viralnsRNA.txt',sep='\\t',header=None)[1].drop_duplicates()\n",
    "\n",
    "viralnsRNAnonO_data = pd.DataFrame(viralnsRNAnonO_data)\n",
    "viralnsRNAnonO_data['SO'] = [['SO_0001041']] * len(viralnsRNAnonO_data)\n",
    "viralnsRNAnonO_data = viralnsRNAnonO_data.set_index(1).to_dict()\n",
    "nonO_data = {**nonO_data, **viralnsRNAnonO_data['SO']}"
   ]
  },
  {
   "cell_type": "markdown",
   "metadata": {},
   "source": [
    "***\n",
    "### vtRNAs sequences"
   ]
  },
  {
   "cell_type": "code",
   "execution_count": null,
   "metadata": {},
   "outputs": [],
   "source": [
    "vtRNAsnonO_data = pd.read_csv('../resources/edge_data/vtRNAs-protein.txt',sep='\\t',header=None)[0].drop_duplicates()\n",
    "\n",
    "vtRNAsnonO_data = pd.DataFrame(vtRNAsnonO_data)\n",
    "vtRNAsnonO_data['SO'] = [['SO_0000404']] * len(vtRNAsnonO_data)\n",
    "vtRNAsnonO_data = vtRNAsnonO_data.set_index(0).to_dict()\n",
    "nonO_data = {**nonO_data, **vtRNAsnonO_data['SO']}"
   ]
  },
  {
   "cell_type": "code",
   "execution_count": null,
   "metadata": {},
   "outputs": [],
   "source": [
    "with open('../resources/construction_approach/'+'subclass_construction_map.pkl', 'wb') as handle:\n",
    "    pickle.dump(nonO_data, handle, protocol=pickle.HIGHEST_PROTOCOL)"
   ]
  },
  {
   "cell_type": "code",
   "execution_count": null,
   "metadata": {},
   "outputs": [],
   "source": [
    "# DO NOT RUN, this cell is only intended to CHECK everything's OK\n",
    "nonO_data = pd.read_pickle(r'../resources/construction_approach/'+'subclass_construction_map.pkl')\n",
    "\n",
    "nonO_data.items()"
   ]
  }
 ],
 "metadata": {
  "kernelspec": {
   "display_name": "Python 3",
   "language": "python",
   "name": "python3"
  },
  "language_info": {
   "codemirror_mode": {
    "name": "ipython",
    "version": 3
   },
   "file_extension": ".py",
   "mimetype": "text/x-python",
   "name": "python",
   "nbconvert_exporter": "python",
   "pygments_lexer": "ipython3",
   "version": "3.10.6"
  },
  "latex_envs": {
   "LaTeX_envs_menu_present": true,
   "autoclose": false,
   "autocomplete": true,
   "bibliofile": "biblio.bib",
   "cite_by": "apalike",
   "current_citInitial": 1,
   "eqLabelWithNumbers": true,
   "eqNumInitial": 1,
   "hotkeys": {
    "equation": "Ctrl-E",
    "itemize": "Ctrl-I"
   },
   "labels_anchors": false,
   "latex_user_defs": false,
   "report_style_numbering": false,
   "user_envs_cfg": false
  },
  "pycharm": {
   "stem_cell": {
    "cell_type": "raw",
    "metadata": {
     "collapsed": false
    },
    "source": []
   }
  }
 },
 "nbformat": 4,
 "nbformat_minor": 1
}
