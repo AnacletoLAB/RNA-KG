{
 "cells": [
  {
   "cell_type": "code",
   "execution_count": null,
   "id": "82f86aea",
   "metadata": {},
   "outputs": [],
   "source": [
    "%%capture\n",
    "import sys\n",
    "!{sys.executable} -m pip install -r requirements.txt\n",
    "sys.path.append('../')"
   ]
  },
  {
   "cell_type": "code",
   "execution_count": null,
   "id": "0254d7bd",
   "metadata": {},
   "outputs": [],
   "source": [
    "# import needed libraries\n",
    "import datetime\n",
    "import glob\n",
    "import itertools\n",
    "import networkx\n",
    "import numpy\n",
    "import os\n",
    "import pickle\n",
    "import re\n",
    "import requests\n",
    "import tarfile\n",
    "import shutil\n",
    "import pandas as pd\n",
    "import gffpandas.gffpandas as gffpd\n",
    "import numpy as np\n",
    "pd.set_option('display.max_columns', None)\n",
    "import re\n",
    "\n",
    "from collections import Counter\n",
    "from functools import reduce\n",
    "from rdflib import Graph, Namespace, URIRef, BNode, Literal\n",
    "from rdflib.namespace import OWL, RDF, RDFS\n",
    "from reactome2py import content\n",
    "from tqdm import tqdm\n",
    "from typing import Dict\n",
    "\n",
    "from pkt_kg.utils import * \n",
    "from builds.ontology_cleaning import *\n",
    "\n",
    "from typing import Tuple"
   ]
  },
  {
   "cell_type": "code",
   "execution_count": null,
   "id": "ae6aa0b3",
   "metadata": {},
   "outputs": [],
   "source": [
    "# directory to store resources\n",
    "resource_data_location = '../resources/'\n",
    "\n",
    "# directory to use for unprocessed data\n",
    "unprocessed_data_location = '../resources/processed_data/unprocessed_data/'\n",
    "\n",
    "# directory to use for processed data\n",
    "processed_data_location = '../resources/processed_data/'\n",
    "\n",
    "# directory to write ontology data to\n",
    "ontology_data_location = '../resources/ontologies/'\n",
    "\n",
    "# directory to write edges data to\n",
    "edge_data_location = '../resources/edge_data/'\n",
    "\n",
    "# directory to write node properties to\n",
    "properties_location = '../resources/properties_data/'\n",
    "\n",
    "# processed data url \n",
    "processed_url = 'https://storage.googleapis.com/pheknowlator/current_build/data/processed_data/'\n",
    "\n",
    "# original data url \n",
    "original_url = 'https://storage.googleapis.com/pheknowlator/current_build/data/original_data/'\n",
    "\n",
    "# owltools location\n",
    "owltools_location = '../pkt_kg/libs/owltools'"
   ]
  },
  {
   "cell_type": "markdown",
   "id": "01429237",
   "metadata": {},
   "source": [
    "***\n",
    "### Utility functions"
   ]
  },
  {
   "cell_type": "code",
   "execution_count": null,
   "id": "1cfd9d82",
   "metadata": {},
   "outputs": [],
   "source": [
    "# Get dbxrefs for all ontology classes' label\n",
    "def gets_ontology_class_label(graph: Graph) -> Tuple:\n",
    "    dbx_uris: Dict = dict()\n",
    "    dbx = [x for x in graph if 'label' in str(x[1]).lower() if isinstance(x[0], URIRef)]\n",
    "    for x in dbx:\n",
    "        if str(x[2]).lower() in dbx_uris.keys(): dbx_uris[str(x[2]).lower()].append(str(x[0]))\n",
    "        else: dbx_uris[str(x[2]).lower()] = [str(x[0])]\n",
    "    dbx_type = {str(x[2]).lower(): 'DbXref' for x in dbx}\n",
    "\n",
    "    ex_uris: Dict = dict()\n",
    "    ex = [x for x in graph if 'exactmatch' in str(x[1]).lower() if isinstance([0], URIRef)]\n",
    "    for x in ex:\n",
    "        if str(x[2]).lower() in ex_uris.keys(): ex_uris[str(x[2]).lower()].append(str(x[0]))\n",
    "        else: ex_uris[str(x[2]).lower()] = [str(x[0])]\n",
    "    ex_type = {str(x[2]).lower(): 'ExactMatch' for x in ex}\n",
    "\n",
    "    return {**dbx_uris, **ex_uris}, {**dbx_type, **ex_type}"
   ]
  },
  {
   "cell_type": "code",
   "execution_count": null,
   "id": "06447aac",
   "metadata": {},
   "outputs": [],
   "source": [
    "# Get dbxrefs for all ontology classes' label\n",
    "def gets_ontology_class_synonym(graph: Graph) -> Tuple:\n",
    "    dbx_uris: Dict = dict()\n",
    "    dbx = [x for x in graph if 'synonym' in str(x[1]).lower() if isinstance(x[0], URIRef)]\n",
    "    for x in dbx:\n",
    "        if str(x[2]).lower() in dbx_uris.keys(): dbx_uris[str(x[2]).lower()].append(str(x[0]))\n",
    "        else: dbx_uris[str(x[2]).lower()] = [str(x[0])]\n",
    "    dbx_type = {str(x[2]).lower(): 'DbXref' for x in dbx}\n",
    "\n",
    "    ex_uris: Dict = dict()\n",
    "    ex = [x for x in graph if 'exactmatch' in str(x[1]).lower() if isinstance([0], URIRef)]\n",
    "    for x in ex:\n",
    "        if str(x[2]).lower() in ex_uris.keys(): ex_uris[str(x[2]).lower()].append(str(x[0]))\n",
    "        else: ex_uris[str(x[2]).lower()] = [str(x[0])]\n",
    "    ex_type = {str(x[2]).lower(): 'ExactMatch' for x in ex}\n",
    "\n",
    "    return {**dbx_uris, **ex_uris}, {**dbx_type, **ex_type}"
   ]
  },
  {
   "cell_type": "code",
   "execution_count": null,
   "id": "846044f2",
   "metadata": {},
   "outputs": [],
   "source": [
    "data_downloader('https://www.mirbase.org/download/hsa.gff3', unprocessed_data_location)\n",
    "\n",
    "miRBaseMap = gffpd.read_gff3(unprocessed_data_location + 'hsa.gff3')  \n",
    "os.remove(unprocessed_data_location + 'hsa.gff3')\n",
    "\n",
    "miRBaseMap = miRBaseMap.attributes_to_columns()\n",
    "miRBaseMap = miRBaseMap[['attributes']]\n",
    "miRBaseMap\n",
    "\n",
    "miRBaseMap = miRBaseMap.attributes.str.split(';',expand=True)\n",
    "# Keep only \"ID\" and \"Name\" columns\n",
    "miRBaseMap = miRBaseMap[[2,0]]\n",
    "# Remove substring \"ID=\"\n",
    "miRBaseMap[0] = miRBaseMap[0].str[3:]\n",
    "# Remove substring \"Name=\"\n",
    "miRBaseMap[2] = miRBaseMap[2].str[5:]"
   ]
  },
  {
   "cell_type": "markdown",
   "id": "299f66b9",
   "metadata": {},
   "source": [
    "***\n",
    "# miRNA-mRNA"
   ]
  },
  {
   "cell_type": "code",
   "execution_count": null,
   "id": "2cbeb252",
   "metadata": {},
   "outputs": [],
   "source": [
    "maturemRNA_miRNA = pd.read_csv(\n",
    "    edge_data_location + 'testmiRNA-mRNA.txt', sep='\\t',\n",
    "    names=['miRNA', 'ENTREZID', 'mRNA', 'miRDB score', 'Pubmed_id', 'Target site_number', 'miRNA_regulation',\n",
    "           'Reporter_target gene/region', 'Reporter link element', 'Test_method_inter', 'Target gene mRNA_level',\n",
    "           'Original description', 'Mutation_target region', 'Post mutation_method',\n",
    "           'Original description_mutation_region', 'Target site_position', 'miRNA_regulation_site',\n",
    "           'Reporter_target site', 'Reporter link element.1', 'Test_method_inter_site',\n",
    "           'Original description_inter_site', 'Mutation_target site', 'Post mutation_method_site',\n",
    "           'Original description_mutation_site', 'Additional note', 'tissue', 'category',\n",
    "           'method', 'positive_negative', 'direct_indirect', 'up_down', 'condition', 'Support Type', 'Site Type',\n",
    "           'UTR_start', 'UTR end', 'TargetScan context++ score', 'TargetScan context++ score percentile',\n",
    "           'TargetScan weighted context++ score',\n",
    "           'TargetScan weighted context++ score percentile', 'Predicted relative KD', 'U_mut_id', 'Mutationid', 'Refseq',\n",
    "           'Mutationlocation', 'WTallele', 'Mutantallele', 'Targetsiteclass', 'Seed_mod', 'mRNAseq', 'miRseedseq',\n",
    "           'Seedclass', 'WTconservation', 'Sample_id', 'wildtype_csp', 'mutant_csp', 'display_first', 'pita_ref',\n",
    "           'pita_mut', 'pita_diff', 'SNP', 'diseases', 'distance', 'Source(s)', 'cell_line'], dtype=object)\n",
    "maturemRNA_miRNA"
   ]
  },
  {
   "cell_type": "markdown",
   "id": "e51ad456",
   "metadata": {},
   "source": [
    "### disease"
   ]
  },
  {
   "cell_type": "code",
   "execution_count": null,
   "id": "6917cff6",
   "metadata": {},
   "outputs": [],
   "source": [
    "mondo_graph = Graph().parse(ontology_data_location + 'mondo_with_imports.owl')\n",
    "\n",
    "mondo_label = gets_ontology_class_label(mondo_graph)[0]\n",
    "mondo_dict = {str(k): {str(i).split('/')[-1] for i in v} for k, v in mondo_label.items()}\n",
    "list({**mondo_dict}.items())[:5]\n",
    "\n",
    "with open(unprocessed_data_location + 'DESC_Mondo_MAP.txt', 'w') as outfile:\n",
    "    for k, v in {**mondo_dict}.items():\n",
    "        outfile.write(str(k) + '\\t' + str(v).replace('{','').replace('\\'','').replace('}','') + '\\n')\n",
    "\n",
    "desc_mondo_map = pd.read_csv(unprocessed_data_location+'DESC_Mondo_MAP.txt', header=None, delimiter='\\t')\n",
    "desc_mondo_map[1] = desc_mondo_map[1].str.split(', ')\n",
    "desc_mondo_map = desc_mondo_map.explode(1)\n",
    "\n",
    "mondo_syn = gets_ontology_class_synonym(mondo_graph)[0]\n",
    "mondo_dict = {str(k): {str(i).split('/')[-1] for i in v} for k, v in mondo_syn.items()}\n",
    "\n",
    "with open(unprocessed_data_location + 'SYN_Mondo_MAP.txt', 'w') as outfile:\n",
    "    for k, v in {**mondo_dict}.items():\n",
    "        outfile.write(str(k) + '\\t' + str(v).replace('{','').replace('\\'','').replace('}','') + '\\n')\n",
    "\n",
    "syn_mondo_map = pd.read_csv(unprocessed_data_location+'SYN_Mondo_MAP.txt', header=None, delimiter='\\t')\n",
    "syn_mondo_map[1] = syn_mondo_map[1].str.split(', ')\n",
    "syn_mondo_map = syn_mondo_map.explode(1)\n",
    "desc_mondo_map = pd.concat([desc_mondo_map, syn_mondo_map], ignore_index=True)\n",
    "desc_mondo_map"
   ]
  },
  {
   "cell_type": "code",
   "execution_count": null,
   "id": "dc67458a",
   "metadata": {},
   "outputs": [],
   "source": [
    "maturemRNA_miRNA.diseases = maturemRNA_miRNA.diseases.str.lower()\n",
    "maturemRNA_miRNA.diseases = maturemRNA_miRNA.diseases.str.replace(\"[ns]\", ']')\n",
    "maturemRNA_miRNA.diseases = maturemRNA_miRNA.diseases.str.replace(\"]\", '|')\n",
    "maturemRNA_miRNA.diseases = maturemRNA_miRNA.diseases.str.replace(\"[\", '')\n",
    "maturemRNA_miRNA.diseases = maturemRNA_miRNA.diseases.str.replace(\", \", '|')\n",
    "maturemRNA_miRNA.diseases = maturemRNA_miRNA.diseases.str.replace(\"||\", '|')\n",
    "maturemRNA_miRNA.diseases = maturemRNA_miRNA.diseases.replace(\"|||\", np.nan)\n",
    "maturemRNA_miRNA.diseases = maturemRNA_miRNA.diseases.str.replace('_', ' ')\n",
    "maturemRNA_miRNA.diseases = maturemRNA_miRNA.diseases.str.replace('lung/sclc', 'small cell lung carcinoma')\n",
    "maturemRNA_miRNA.diseases = maturemRNA_miRNA.diseases.replace(r'\\(.*?\\)', '', regex=True)\n",
    "maturemRNA_miRNA.diseases = maturemRNA_miRNA.diseases.replace(r'\\|$', '', regex=True)\n",
    "maturemRNA_miRNA.diseases.unique()"
   ]
  },
  {
   "cell_type": "code",
   "execution_count": null,
   "id": "9cd29c53",
   "metadata": {},
   "outputs": [],
   "source": [
    "mondo_dict = dict(zip(desc_mondo_map[0], 'http://purl.obolibrary.org/obo/'+desc_mondo_map[1]))\n",
    "\n",
    "def replace_with_mondo(substring):\n",
    "    if pd.isna(substring):\n",
    "        return np.nan\n",
    "    else:\n",
    "        return '|'.join([mondo_dict.get(part, part) for part in substring.split('|')])\n",
    "\n",
    "maturemRNA_miRNA.diseases = [replace_with_mondo(item) for item in maturemRNA_miRNA.diseases]\n",
    "maturemRNA_miRNA.diseases.unique()"
   ]
  },
  {
   "cell_type": "markdown",
   "id": "3df2f49f",
   "metadata": {},
   "source": [
    "### method"
   ]
  },
  {
   "cell_type": "code",
   "execution_count": null,
   "id": "6909f72b",
   "metadata": {},
   "outputs": [],
   "source": [
    "maturemRNA_miRNA.method = maturemRNA_miRNA.method.str.lower()\n",
    "maturemRNA_miRNA.method = maturemRNA_miRNA.method.str.replace(\"//\", '|')\n",
    "maturemRNA_miRNA.method = maturemRNA_miRNA.method.str.replace(\"/\", '|')\n",
    "\n",
    "maturemRNA_miRNA.method.unique()"
   ]
  },
  {
   "cell_type": "code",
   "execution_count": null,
   "id": "771efd97",
   "metadata": {},
   "outputs": [],
   "source": [
    "data_downloader('http://purl.obolibrary.org/obo/ncit.owl', ontology_data_location)"
   ]
  },
  {
   "cell_type": "code",
   "execution_count": null,
   "id": "132d6cbb",
   "metadata": {},
   "outputs": [],
   "source": [
    "ncit_graph = Graph().parse(ontology_data_location + 'ncit.owl')\n",
    "\n",
    "ncit_label = gets_ontology_class_label(ncit_graph)[0]\n",
    "ncit_dict = {str(k): {str(i).split('/')[-1] for i in v} for k, v in ncit_label.items()}\n",
    "list({**ncit_dict}.items())[:5]\n",
    "\n",
    "with open(unprocessed_data_location + 'DESC_ncit_MAP.txt', 'w') as outfile:\n",
    "    for k, v in {**ncit_dict}.items():\n",
    "        outfile.write(str(k) + '\\t' + str(v).replace('{','').replace('\\'','').replace('}','') + '\\n')\n",
    "\n",
    "desc_ncit_map = pd.read_csv(unprocessed_data_location+'DESC_ncit_MAP.txt', header=None, delimiter='\\t')\n",
    "desc_ncit_map[1] = desc_ncit_map[1].str.split(', ')\n",
    "desc_ncit_map = desc_ncit_map.explode(1)\n",
    "\n",
    "ncit_syn = gets_ontology_class_synonym(ncit_graph)[0]\n",
    "ncit_dict = {str(k): {str(i).split('/')[-1] for i in v} for k, v in ncit_syn.items()}\n",
    "\n",
    "with open(unprocessed_data_location + 'SYN_ncit_MAP.txt', 'w') as outfile:\n",
    "    for k, v in {**ncit_dict}.items():\n",
    "        outfile.write(str(k) + '\\t' + str(v).replace('{','').replace('\\'','').replace('}','') + '\\n')\n",
    "\n",
    "syn_ncit_map = pd.read_csv(unprocessed_data_location+'SYN_ncit_MAP.txt', header=None, delimiter='\\t')\n",
    "syn_ncit_map[1] = syn_ncit_map[1].str.split(', ')\n",
    "syn_ncit_map = syn_ncit_map.explode(1)\n",
    "desc_ncit_map = pd.concat([desc_ncit_map, syn_ncit_map], ignore_index=True)\n",
    "desc_ncit_map"
   ]
  },
  {
   "cell_type": "code",
   "execution_count": null,
   "id": "4b6996b7",
   "metadata": {},
   "outputs": [],
   "source": [
    "ncit_dict = dict(zip(desc_ncit_map[0], 'http://purl.obolibrary.org/obo/'+desc_ncit_map[1]))\n",
    "\n",
    "def replace_with_ncit(substring):\n",
    "    if pd.isna(substring):\n",
    "        return np.nan\n",
    "    else:\n",
    "        return '|'.join([ncit_dict.get(part, part) for part in substring.split('|')])\n",
    "\n",
    "maturemRNA_miRNA.method = [replace_with_ncit(item) for item in maturemRNA_miRNA.method]\n",
    "maturemRNA_miRNA.method.unique()"
   ]
  },
  {
   "cell_type": "markdown",
   "id": "a5d12d87",
   "metadata": {},
   "source": [
    "### tissue"
   ]
  },
  {
   "cell_type": "code",
   "execution_count": null,
   "id": "ee7df0f8",
   "metadata": {},
   "outputs": [],
   "source": [
    "maturemRNA_miRNA.tissue = maturemRNA_miRNA.tissue.str.lower()\n",
    "maturemRNA_miRNA.tissue = maturemRNA_miRNA.tissue.str.replace(\"/\", '|')\n",
    "maturemRNA_miRNA.tissue = maturemRNA_miRNA.tissue.str.replace(\"larva, whole\", 'larva')\n",
    "\n",
    "maturemRNA_miRNA.tissue.unique()"
   ]
  },
  {
   "cell_type": "code",
   "execution_count": null,
   "id": "b33afdc4",
   "metadata": {
    "scrolled": true
   },
   "outputs": [],
   "source": [
    "uberon_graph = Graph().parse(ontology_data_location + 'ext_with_imports.owl')\n",
    "\n",
    "uberon_label = gets_ontology_class_label(uberon_graph)[0]\n",
    "uberon_dict = {str(k): {str(i).split('/')[-1] for i in v} for k, v in uberon_label.items()}\n",
    "list({**uberon_dict}.items())[:5]\n",
    "\n",
    "with open(unprocessed_data_location + 'DESC_Uberon_MAP.txt', 'w') as outfile:\n",
    "    for k, v in {**uberon_dict}.items():\n",
    "        outfile.write(str(k) + '\\t' + str(v).replace('{','').replace('\\'','').replace('}','') + '\\n')\n",
    "\n",
    "desc_uberon_map = pd.read_csv(unprocessed_data_location+'DESC_Uberon_MAP.txt', header=None, delimiter='\\t')\n",
    "desc_uberon_map[1] = desc_uberon_map[1].str.split(', ')\n",
    "desc_uberon_map = desc_uberon_map.explode(1)\n",
    "\n",
    "uberon_syn = gets_ontology_class_synonym(uberon_graph)[0]\n",
    "uberon_dict = {str(k): {str(i).split('/')[-1] for i in v} for k, v in uberon_syn.items()}\n",
    "\n",
    "with open(unprocessed_data_location + 'SYN_Uberon_MAP.txt', 'w') as outfile:\n",
    "    for k, v in {**uberon_dict}.items():\n",
    "        outfile.write(str(k) + '\\t' + str(v).replace('{','').replace('\\'','').replace('}','') + '\\n')\n",
    "\n",
    "syn_uberon_map = pd.read_csv(unprocessed_data_location+'SYN_Uberon_MAP.txt', header=None, delimiter='\\t')\n",
    "syn_uberon_map[1] = syn_uberon_map[1].str.split(', ')\n",
    "syn_uberon_map = syn_uberon_map.explode(1)\n",
    "desc_uberon_map = pd.concat([desc_uberon_map, syn_uberon_map], ignore_index=True)\n",
    "desc_uberon_map"
   ]
  },
  {
   "cell_type": "code",
   "execution_count": null,
   "id": "9e7674ba",
   "metadata": {},
   "outputs": [],
   "source": [
    "uberon_dict = dict(zip(desc_uberon_map[0], 'http://purl.obolibrary.org/obo/'+desc_uberon_map[1]))\n",
    "\n",
    "def replace_with_uberon(substring):\n",
    "    if pd.isna(substring):\n",
    "        return np.nan\n",
    "    else:\n",
    "        return '|'.join([uberon_dict.get(part, part) for part in substring.split('|')])\n",
    "\n",
    "maturemRNA_miRNA.tissue = [replace_with_uberon(item) for item in maturemRNA_miRNA.tissue]\n",
    "maturemRNA_miRNA.tissue.unique()"
   ]
  },
  {
   "cell_type": "markdown",
   "id": "713e40a5",
   "metadata": {},
   "source": [
    "***\n",
    "# miRNA-pseudogene\n",
    "#### nota: da applicare a monte a dataframe miRNA_epiMod"
   ]
  },
  {
   "cell_type": "code",
   "execution_count": null,
   "id": "884f4754",
   "metadata": {},
   "outputs": [],
   "source": [
    "maturemiRNA_epiMod_class = pd.read_csv(\n",
    "    edge_data_location + 'RmiRNA-epiModclass.txt', names=[\n",
    "        'mir_acc','epi_modification','epi_regulator','experiment','expression','pmid','epi_target',\n",
    "        'condition','detect','support','Source(s)'], sep='\\t')\n",
    "maturemiRNA_epiMod_class"
   ]
  },
  {
   "cell_type": "markdown",
   "id": "2413976d",
   "metadata": {},
   "source": [
    "#### epi target"
   ]
  },
  {
   "cell_type": "code",
   "execution_count": null,
   "id": "75af135e",
   "metadata": {},
   "outputs": [],
   "source": [
    "maturemiRNA_epiMod_class.epi_target = maturemiRNA_epiMod_class.epi_target.str.lower()\n",
    "maturemiRNA_epiMod_class.epi_target = maturemiRNA_epiMod_class.epi_target.str.replace(\"/\", '|')\n",
    "maturemiRNA_epiMod_class.epi_target = maturemiRNA_epiMod_class.epi_target.str.replace(\" cluster\", '')\n",
    "maturemiRNA_epiMod_class.epi_target = maturemiRNA_epiMod_class.epi_target.replace(\"\\\\\\\\\\\\\\\\N\", np.nan)\n",
    "maturemiRNA_epiMod_class.epi_target = maturemiRNA_epiMod_class.epi_target.replace(r'\\(.*?\\)', '', regex=True)\n",
    "maturemiRNA_epiMod_class.epi_target = maturemiRNA_epiMod_class.epi_target.replace(r' \\(.*?\\)', '', regex=True)\n",
    "maturemiRNA_epiMod_class.epi_target.unique()"
   ]
  },
  {
   "cell_type": "code",
   "execution_count": null,
   "id": "eb9e0125",
   "metadata": {},
   "outputs": [],
   "source": [
    "pro_graph = Graph().parse(ontology_data_location + 'pr_with_imports.owl')\n",
    "\n",
    "pro_label = gets_ontology_class_label(pro_graph)[0]\n",
    "pro_dict = {str(k): {str(i).split('/')[-1] for i in v} for k, v in pro_label.items()}\n",
    "list({**pro_dict}.items())[:5]\n",
    "\n",
    "with open(unprocessed_data_location + 'DESC_PRO_MAP.txt', 'w') as outfile:\n",
    "    for k, v in {**pro_dict}.items():\n",
    "        outfile.write(str(k) + '\\t' + str(v).replace('{','').replace('\\'','').replace('}','') + '\\n')\n",
    "\n",
    "desc_pro_map = pd.read_csv(unprocessed_data_location+'DESC_PRO_MAP.txt', header=None, delimiter='\\t')\n",
    "desc_pro_map[1] = desc_pro_map[1].str.split(', ')\n",
    "desc_pro_map = desc_pro_map.explode(1)\n",
    "\n",
    "pro_syn = gets_ontology_class_synonym(pro_graph)[0]\n",
    "pro_dict = {str(k): {str(i).split('/')[-1] for i in v} for k, v in pro_syn.items()}\n",
    "\n",
    "with open(unprocessed_data_location + 'SYN_PRO_MAP.txt', 'w') as outfile:\n",
    "    for k, v in {**pro_dict}.items():\n",
    "        outfile.write(str(k) + '\\t' + str(v).replace('{','').replace('\\'','').replace('}','') + '\\n')\n",
    "\n",
    "syn_pro_map = pd.read_csv(unprocessed_data_location+'SYN_PRO_MAP.txt', header=None, delimiter='\\t')\n",
    "syn_pro_map[1] = syn_pro_map[1].str.split(', ')\n",
    "syn_pro_map = syn_pro_map.explode(1)\n",
    "desc_pro_map = pd.concat([desc_pro_map, syn_pro_map], ignore_index=True)\n",
    "desc_pro_map\n",
    "\n",
    "pro_dict = dict(zip(desc_pro_map[0], 'http://purl.obolibrary.org/obo/'+desc_pro_map[1]))\n",
    "\n",
    "def replace_with_pro(substring):\n",
    "    if pd.isna(substring):\n",
    "        return np.nan\n",
    "    else:\n",
    "        return '|'.join([pro_dict.get(part, part) for part in substring.split('|')])\n",
    "\n",
    "maturemiRNA_epiMod_class.epi_target = [replace_with_pro(item) for item in maturemiRNA_epiMod_class.epi_target]\n",
    "maturemiRNA_epiMod_class.epi_target.unique()"
   ]
  },
  {
   "cell_type": "markdown",
   "id": "f47d2b3c",
   "metadata": {},
   "source": [
    "#### condition"
   ]
  },
  {
   "cell_type": "code",
   "execution_count": null,
   "id": "1ef3336d",
   "metadata": {},
   "outputs": [],
   "source": [
    "maturemiRNA_epiMod_class.condition.unique()"
   ]
  },
  {
   "cell_type": "code",
   "execution_count": null,
   "id": "7ffebdd3",
   "metadata": {},
   "outputs": [],
   "source": [
    "maturemiRNA_epiMod_class.condition = maturemiRNA_epiMod_class.condition.str.replace('non-small-cell lung cancer', 'non-small cell lung carcinoma')\n",
    "maturemiRNA_epiMod_class.condition = [replace_with_mondo(item) for item in maturemiRNA_epiMod_class.condition]\n",
    "maturemiRNA_epiMod_class.condition.unique()"
   ]
  },
  {
   "cell_type": "markdown",
   "id": "79031ecd",
   "metadata": {},
   "source": [
    "***\n",
    "# miRNA-disease"
   ]
  },
  {
   "cell_type": "code",
   "execution_count": null,
   "id": "7a7fd074",
   "metadata": {},
   "outputs": [],
   "source": [
    "miRNA_disease=pd.read_csv(\n",
    "    edge_data_location + 'testmiRNA-disease.txt', names=[0,4,5,'pmid_x','method','pmid_y','evidence',\n",
    "                                                         'CancerSubtype','Cellline','ExperimentalDesign',\n",
    "                                                         'adjPvalue','gene_name','refseq_id','SNP',\n",
    "                                                         'distance',1,'Source(s)'], sep='\\t')\n",
    "miRNA_disease"
   ]
  },
  {
   "cell_type": "markdown",
   "id": "53d8d7e8",
   "metadata": {},
   "source": [
    "#### method"
   ]
  },
  {
   "cell_type": "code",
   "execution_count": null,
   "id": "dedbced3",
   "metadata": {},
   "outputs": [],
   "source": [
    "miRNA_disease['method'].unique()"
   ]
  },
  {
   "cell_type": "code",
   "execution_count": null,
   "id": "55f87370",
   "metadata": {},
   "outputs": [],
   "source": [
    "miRNA_disease.method = miRNA_disease.method.str.lower()\n",
    "miRNA_disease.method = miRNA_disease.method.str.replace(' etc', '')\n",
    "miRNA_disease.method = miRNA_disease.method.str.replace(', ', '|')\n",
    "miRNA_disease.method = miRNA_disease.method.str.replace(' + ', '|')\n",
    "miRNA_disease.method = [replace_with_ncit(item) for item in miRNA_disease.method]\n",
    "miRNA_disease.method.unique()"
   ]
  },
  {
   "cell_type": "markdown",
   "id": "6fafc54a",
   "metadata": {},
   "source": [
    "#### disease"
   ]
  },
  {
   "cell_type": "code",
   "execution_count": null,
   "id": "8b1e2c9a",
   "metadata": {},
   "outputs": [],
   "source": [
    "miRNA_disease.CancerSubtype = miRNA_disease.CancerSubtype.str.lower()\n",
    "miRNA_disease.CancerSubtype = [replace_with_mondo(item) for item in miRNA_disease.CancerSubtype]\n",
    "miRNA_disease.CancerSubtype.unique()"
   ]
  },
  {
   "cell_type": "markdown",
   "id": "8d729a74",
   "metadata": {},
   "source": [
    "#### cell line"
   ]
  },
  {
   "cell_type": "code",
   "execution_count": null,
   "id": "c6cff5e3",
   "metadata": {},
   "outputs": [],
   "source": [
    "clo_graph = Graph().parse(ontology_data_location + 'clo_with_imports.owl')\n",
    "\n",
    "clo_label = gets_ontology_class_label(clo_graph)[0]\n",
    "clo_dict = {str(k): {str(i).split('/')[-1] for i in v} for k, v in clo_label.items()}\n",
    "list({**clo_dict}.items())[:5]\n",
    "\n",
    "with open(unprocessed_data_location + 'DESC_CLO_MAP.txt', 'w') as outfile:\n",
    "    for k, v in {**clo_dict}.items():\n",
    "        outfile.write(str(k) + '\\t' + str(v).replace('{','').replace('\\'','').replace('}','') + '\\n')\n",
    "\n",
    "desc_clo_map = pd.read_csv(unprocessed_data_location+'DESC_CLO_MAP.txt', header=None, delimiter='\\t')\n",
    "desc_clo_map[1] = desc_clo_map[1].str.split(', ')\n",
    "desc_clo_map = desc_clo_map.explode(1)\n",
    "\n",
    "clo_syn = gets_ontology_class_synonym(clo_graph)[0]\n",
    "clo_dict = {str(k): {str(i).split('/')[-1] for i in v} for k, v in clo_syn.items()}\n",
    "\n",
    "with open(unprocessed_data_location + 'SYN_CLO_MAP.txt', 'w') as outfile:\n",
    "    for k, v in {**clo_dict}.items():\n",
    "        outfile.write(str(k) + '\\t' + str(v).replace('{','').replace('\\'','').replace('}','') + '\\n')\n",
    "\n",
    "syn_clo_map = pd.read_csv(unprocessed_data_location+'SYN_CLO_MAP.txt', header=None, delimiter='\\t')\n",
    "syn_clo_map[1] = syn_clo_map[1].str.split(', ')\n",
    "syn_clo_map = syn_clo_map.explode(1)\n",
    "desc_clo_map = pd.concat([desc_clo_map, syn_clo_map], ignore_index=True)\n",
    "desc_clo_map"
   ]
  },
  {
   "cell_type": "code",
   "execution_count": null,
   "id": "29fee564",
   "metadata": {},
   "outputs": [],
   "source": [
    "clo_dict = dict(zip(desc_clo_map[0], 'http://purl.obolibrary.org/obo/'+desc_clo_map[1]))\n",
    "\n",
    "def replace_with_clo(substring):\n",
    "    if pd.isna(substring):\n",
    "        return np.nan\n",
    "    else:\n",
    "        return '|'.join([clo_dict.get(part, part) for part in substring.split('|')])\n",
    "\n",
    "miRNA_disease.Cellline = miRNA_disease.Cellline.str.lower()\n",
    "miRNA_disease.Cellline = miRNA_disease.Cellline.str.replace(',', ' cell|')\n",
    "miRNA_disease.Cellline = miRNA_disease.Cellline + ' cell'\n",
    "miRNA_disease.Cellline = [replace_with_clo(item) for item in miRNA_disease.Cellline]\n",
    "miRNA_disease.Cellline.unique()"
   ]
  },
  {
   "cell_type": "markdown",
   "id": "dc3e974c",
   "metadata": {},
   "source": [
    "***\n",
    "# miRNA-lncRNA"
   ]
  },
  {
   "cell_type": "code",
   "execution_count": null,
   "id": "811c9f9f",
   "metadata": {},
   "outputs": [],
   "source": [
    "miRNA_lncRNA=pd.read_csv(\n",
    "    edge_data_location + 'testmiRNA-lncRNA.txt',\n",
    "    names=['mir_id', '0_y', 'symbol', 'conservation', 'conservation_ortholog', 'conservation_species',\n",
    "           'biological_context', 'context_detail', 'tissue/cell line', 'genome_variation', 'variation_detail',\n",
    "           'epigenetic_modification', 'modification_detail', 'expression', 'expression_detail', 'regulator_type',\n",
    "           'regulator', 'regulator_interaction', 'regulator_effect', 'target_type', 'target_effect',\n",
    "           'experimental_method', 'molecular_function', 'biological_process', 'pathway', 'functional_mechanism',\n",
    "           'clinical_detail', 'drug', 'description', 'pmid', 'Transcript', 'Mut_ID', 'COSMIC_ID', 'Chromosome',\n",
    "           'Location', 'Ref_Allele', 'Mut_Allele', 'FuncClass', 'Alteration', 'Target_Site', 'Seed', 'SeedClass',\n",
    "           'TargetScan_Site(0=No;1=Yes)', 'Sample_Name', 'Cancer_Class', 0, 'Source(s)'], sep='\\t',dtype=object)\n",
    "miRNA_lncRNA"
   ]
  },
  {
   "cell_type": "markdown",
   "id": "54a8c5b9",
   "metadata": {},
   "source": [
    "#### disease"
   ]
  },
  {
   "cell_type": "code",
   "execution_count": null,
   "id": "58fedde6",
   "metadata": {},
   "outputs": [],
   "source": [
    "miRNA_lncRNA.context_detail = [replace_with_mondo(item) for item in miRNA_lncRNA.context_detail]\n",
    "miRNA_lncRNA.context_detail.unique()"
   ]
  },
  {
   "cell_type": "markdown",
   "id": "707cde06",
   "metadata": {},
   "source": [
    "#### tissue/cell line"
   ]
  },
  {
   "cell_type": "code",
   "execution_count": null,
   "id": "8d4bc0b9",
   "metadata": {},
   "outputs": [],
   "source": [
    "clo_dict2 = dict(zip(desc_clo_map[0].str.replace(' cell',''), 'http://purl.obolibrary.org/obo/'+desc_clo_map[1]))\n",
    "\n",
    "def replace_with_clo2(substring):\n",
    "    if pd.isna(substring):\n",
    "        return np.nan\n",
    "    else:\n",
    "        return '|'.join([clo_dict2.get(part, part) for part in substring.split('|')])\n",
    "\n",
    "miRNA_lncRNA['tissue/cell line'] = miRNA_lncRNA['tissue/cell line'].str.lower()\n",
    "miRNA_lncRNA['tissue/cell line'] = miRNA_lncRNA['tissue/cell line'].str.replace(';', '|')\n",
    "miRNA_lncRNA['tissue/cell line'] = [replace_with_clo(item) for item in miRNA_lncRNA['tissue/cell line']]\n",
    "miRNA_lncRNA['tissue/cell line'] = [replace_with_clo2(item) for item in miRNA_lncRNA['tissue/cell line']]\n",
    "miRNA_lncRNA['tissue/cell line'] = [replace_with_uberon(item) for item in miRNA_lncRNA['tissue/cell line']]\n",
    "miRNA_lncRNA['tissue/cell line'].unique()"
   ]
  },
  {
   "cell_type": "markdown",
   "id": "3b455e24",
   "metadata": {},
   "source": [
    "#### experimental method"
   ]
  },
  {
   "cell_type": "code",
   "execution_count": null,
   "id": "b418e197",
   "metadata": {},
   "outputs": [],
   "source": [
    "print(miRNA_lncRNA['experimental_method'].unique())\n",
    "miRNA_lncRNA['experimental_method'] = miRNA_lncRNA['experimental_method'].str.replace('wetern', 'western')\n",
    "miRNA_lncRNA['experimental_method'] = miRNA_lncRNA['experimental_method'].str.replace('assay assay', 'assay')\n",
    "miRNA_lncRNA['experimental_method'] = miRNA_lncRNA['experimental_method'].str.lower()\n",
    "miRNA_lncRNA['experimental_method'] = miRNA_lncRNA['experimental_method'].str.replace(';', '|')\n",
    "miRNA_lncRNA['experimental_method'] = [replace_with_ncit(item) for item in miRNA_lncRNA['experimental_method']]"
   ]
  },
  {
   "cell_type": "markdown",
   "id": "2c33b984",
   "metadata": {},
   "source": [
    "#### biological process"
   ]
  },
  {
   "cell_type": "code",
   "execution_count": null,
   "id": "3d0d9bca",
   "metadata": {},
   "outputs": [],
   "source": [
    "go_graph = Graph().parse(ontology_data_location + 'go_with_imports.owl')\n",
    "\n",
    "go_label = gets_ontology_class_label(go_graph)[0]\n",
    "go_dict = {str(k): {str(i).split('/')[-1] for i in v} for k, v in go_label.items()}\n",
    "list({**go_dict}.items())[:5]\n",
    "\n",
    "with open(unprocessed_data_location + 'DESC_GO_MAP.txt', 'w') as outfile:\n",
    "    for k, v in {**go_dict}.items():\n",
    "        outfile.write(str(k) + '\\t' + str(v).replace('{','').replace('\\'','').replace('}','') + '\\n')\n",
    "\n",
    "desc_go_map = pd.read_csv(unprocessed_data_location+'DESC_GO_MAP.txt', header=None, delimiter='\\t')\n",
    "desc_go_map[1] = desc_go_map[1].str.split(', ')\n",
    "desc_go_map = desc_go_map.explode(1)\n",
    "\n",
    "go_syn = gets_ontology_class_synonym(go_graph)[0]\n",
    "go_dict = {str(k): {str(i).split('/')[-1] for i in v} for k, v in go_syn.items()}\n",
    "\n",
    "with open(unprocessed_data_location + 'SYN_GO_MAP.txt', 'w') as outfile:\n",
    "    for k, v in {**go_dict}.items():\n",
    "        outfile.write(str(k) + '\\t' + str(v).replace('{','').replace('\\'','').replace('}','') + '\\n')\n",
    "\n",
    "syn_go_map = pd.read_csv(unprocessed_data_location+'SYN_GO_MAP.txt', header=None, delimiter='\\t')\n",
    "syn_go_map[1] = syn_go_map[1].str.split(', ')\n",
    "syn_go_map = syn_go_map.explode(1)\n",
    "desc_go_map = pd.concat([desc_go_map, syn_go_map], ignore_index=True)\n",
    "desc_go_map"
   ]
  },
  {
   "cell_type": "code",
   "execution_count": null,
   "id": "aded88f3",
   "metadata": {},
   "outputs": [],
   "source": [
    "go_dict = dict(zip(desc_go_map[0], 'http://purl.obolibrary.org/obo/'+desc_go_map[1]))\n",
    "\n",
    "def replace_with_go(substring):\n",
    "    if pd.isna(substring):\n",
    "        return np.nan\n",
    "    else:\n",
    "        return '|'.join([go_dict.get(part, part) for part in substring.split('|')])"
   ]
  },
  {
   "cell_type": "code",
   "execution_count": null,
   "id": "50aee38b",
   "metadata": {},
   "outputs": [],
   "source": [
    "print(miRNA_lncRNA['biological_process'].unique())\n",
    "miRNA_lncRNA['biological_process'] = miRNA_lncRNA['biological_process'].str.lower()\n",
    "miRNA_lncRNA['biological_process'] = miRNA_lncRNA['biological_process'].str.replace(';', '|')\n",
    "miRNA_lncRNA['biological_process'] = [replace_with_go(item) for item in miRNA_lncRNA['biological_process']]"
   ]
  },
  {
   "cell_type": "markdown",
   "id": "bacfc1f7",
   "metadata": {},
   "source": [
    "#### pathway"
   ]
  },
  {
   "cell_type": "code",
   "execution_count": null,
   "id": "f3f90806",
   "metadata": {},
   "outputs": [],
   "source": [
    "desc_pw_map = pd.read_csv(unprocessed_data_location+'DESC_PW_MAP.txt', header=None, delimiter='\\t')\n",
    "desc_pw_map[1] = desc_pw_map[1].str.split(', ')\n",
    "desc_pw_map = desc_pw_map.explode(1)\n",
    "\n",
    "syn_pw_map = pd.read_csv(unprocessed_data_location+'SYN_PW_MAP.txt', header=None, delimiter='\\t')\n",
    "syn_pw_map[1] = syn_pw_map[1].str.split(', ')\n",
    "syn_pw_map = syn_pw_map.explode(1)\n",
    "desc_pw_map = pd.concat([desc_pw_map, syn_pw_map], ignore_index=True)\n",
    "desc_pw_map\n",
    "\n",
    "pw_dict = dict(zip(desc_pw_map[0], 'http://purl.obolibrary.org/obo/'+desc_pw_map[1]))\n",
    "\n",
    "def replace_with_pw(substring):\n",
    "    if pd.isna(substring):\n",
    "        return np.nan\n",
    "    else:\n",
    "        return '|'.join([pw_dict.get(part, part) for part in substring.split('|')])"
   ]
  },
  {
   "cell_type": "code",
   "execution_count": null,
   "id": "e51f897c",
   "metadata": {},
   "outputs": [],
   "source": [
    "print(miRNA_lncRNA['pathway'].unique())\n",
    "miRNA_lncRNA['pathway'] = miRNA_lncRNA['pathway'].str.lower()\n",
    "miRNA_lncRNA['pathway'] = miRNA_lncRNA['pathway'].str.replace(';', '|')\n",
    "miRNA_lncRNA['pathway'] = miRNA_lncRNA['pathway'].str.replace('nf-??b', 'nuclear factor kappa B')\n",
    "miRNA_lncRNA['pathway'] = miRNA_lncRNA['pathway'].str.replace('/??-catenin', '')\n",
    "miRNA_lncRNA['pathway'] = miRNA_lncRNA['pathway'].str.replace('pi3k/akt ', '')\n",
    "miRNA_lncRNA['pathway'] = [replace_with_pw(item) for item in miRNA_lncRNA['pathway']]"
   ]
  },
  {
   "cell_type": "markdown",
   "id": "0db562af",
   "metadata": {},
   "source": [
    "#### drug"
   ]
  },
  {
   "cell_type": "code",
   "execution_count": null,
   "id": "2d344bb3",
   "metadata": {},
   "outputs": [],
   "source": [
    "DrugBank = pd.read_csv(unprocessed_data_location + 'drugbank vocabulary.csv') \n",
    "DrugBank['Common name'] = DrugBank['Common name'].str.lower()\n",
    "DrugBank"
   ]
  },
  {
   "cell_type": "code",
   "execution_count": null,
   "id": "f28be42a",
   "metadata": {},
   "outputs": [],
   "source": [
    "drugbank_dict = dict(zip(DrugBank['Common name'], 'https://go.drugbank.com/drugs/'+DrugBank['DrugBank ID']))\n",
    "def replace_with_drugbank(substring):\n",
    "    if pd.isna(substring):\n",
    "        return np.nan\n",
    "    else:\n",
    "        return '|'.join([drugbank_dict.get(part, part) for part in substring.split('|')])\n",
    "\n",
    "print(miRNA_lncRNA['drug'].unique())\n",
    "miRNA_lncRNA['drug'] = miRNA_lncRNA['drug'].str.lower()\n",
    "miRNA_lncRNA['drug'] = miRNA_lncRNA['drug'].str.replace(';', '|')\n",
    "\n",
    "miRNA_lncRNA['drug'] = [replace_with_drugbank(item) for item in miRNA_lncRNA['drug']]"
   ]
  },
  {
   "cell_type": "markdown",
   "id": "5d3d79a3",
   "metadata": {},
   "source": [
    "#### chromosome"
   ]
  },
  {
   "cell_type": "code",
   "execution_count": null,
   "id": "6d34a678",
   "metadata": {},
   "outputs": [],
   "source": [
    "desc_ncit_map = pd.read_csv(unprocessed_data_location+'DESC_ncit_MAP.txt', header=None, delimiter='\\t')\n",
    "desc_ncit_map[1] = desc_ncit_map[1].str.split(', ')\n",
    "desc_ncit_map = desc_ncit_map.explode(1)\n",
    "\n",
    "syn_ncit_map = pd.read_csv(unprocessed_data_location+'SYN_ncit_MAP.txt', header=None, delimiter='\\t')\n",
    "syn_ncit_map[1] = syn_ncit_map[1].str.split(', ')\n",
    "syn_ncit_map = syn_ncit_map.explode(1)\n",
    "desc_ncit_map = pd.concat([desc_ncit_map, syn_ncit_map], ignore_index=True)\n",
    "desc_ncit_map\n",
    "\n",
    "ncit_dict = dict(zip(desc_ncit_map[0], 'http://purl.obolibrary.org/obo/'+desc_ncit_map[1]))\n",
    "\n",
    "def replace_with_ncit(substring):\n",
    "    if pd.isna(substring):\n",
    "        return np.nan\n",
    "    else:\n",
    "        return '|'.join([ncit_dict.get(part, part) for part in substring.split('|')])"
   ]
  },
  {
   "cell_type": "code",
   "execution_count": null,
   "id": "bb691233",
   "metadata": {},
   "outputs": [],
   "source": [
    "print(miRNA_lncRNA['Chromosome'].unique())\n",
    "miRNA_lncRNA['Chromosome'] = miRNA_lncRNA['Chromosome'].str.lower()\n",
    "miRNA_lncRNA['Chromosome'] = [replace_with_ncit(item) for item in miRNA_lncRNA['Chromosome']]"
   ]
  },
  {
   "cell_type": "markdown",
   "id": "d39e44f6",
   "metadata": {},
   "source": [
    "#### cancer class"
   ]
  },
  {
   "cell_type": "code",
   "execution_count": null,
   "id": "67508fe1",
   "metadata": {},
   "outputs": [],
   "source": [
    "print(miRNA_lncRNA['Cancer_Class'].unique())\n",
    "miRNA_lncRNA['Cancer_Class'] = miRNA_lncRNA['Cancer_Class'].str.lower()\n",
    "miRNA_lncRNA['Cancer_Class'] = miRNA_lncRNA['Cancer_Class'].str.replace(\"[ns]\", ']')\n",
    "miRNA_lncRNA['Cancer_Class'] = miRNA_lncRNA['Cancer_Class'].str.replace(\"]\", '|')\n",
    "miRNA_lncRNA['Cancer_Class'] = miRNA_lncRNA['Cancer_Class'].str.replace(\"[\", '')\n",
    "miRNA_lncRNA['Cancer_Class'] = miRNA_lncRNA['Cancer_Class'].str.replace(\", \", '|')\n",
    "miRNA_lncRNA['Cancer_Class'] = miRNA_lncRNA['Cancer_Class'].str.replace(\"||\", '|')\n",
    "miRNA_lncRNA['Cancer_Class'] = miRNA_lncRNA['Cancer_Class'].str.replace('_', ' ')\n",
    "miRNA_lncRNA['Cancer_Class'] = miRNA_lncRNA['Cancer_Class'].str.replace('lung/sclc', 'small cell lung carcinoma')\n",
    "miRNA_lncRNA['Cancer_Class'] = miRNA_lncRNA['Cancer_Class'].replace(r'\\(.*?\\)', '', regex=True)\n",
    "miRNA_lncRNA['Cancer_Class'] = miRNA_lncRNA['Cancer_Class'].replace(r'\\|$', '', regex=True)\n",
    "miRNA_lncRNA['Cancer_Class'] = [replace_with_mondo(item) for item in miRNA_lncRNA['Cancer_Class']]"
   ]
  },
  {
   "cell_type": "markdown",
   "id": "2dd16695",
   "metadata": {},
   "source": [
    "***\n",
    "# miRNA-SNP"
   ]
  },
  {
   "cell_type": "code",
   "execution_count": null,
   "id": "ba72cc1d",
   "metadata": {},
   "outputs": [],
   "source": [
    "miRNA_variant=pd.read_csv(\n",
    "    edge_data_location + 'testmiRNA-variant.txt',\n",
    "    names=['rsid','gnomAD_MAF','MIRNA_Name','MIRNA_Acc','MIRNA_Domain','Precursor_Pos','Predicted_Motif','gene_name','refseq_id','diseases','distance','experimentally_confirmed','Source(s)'], sep='\\t',dtype=object)\n",
    "miRNA_variant['Source(s)'] = miRNA_variant['Source(s)'].str.replace('nan\\||\\|nan', '', regex=True)\n",
    "miRNA_variant"
   ]
  },
  {
   "cell_type": "markdown",
   "id": "38d0eb08",
   "metadata": {},
   "source": [
    "#### disease"
   ]
  },
  {
   "cell_type": "code",
   "execution_count": null,
   "id": "fba3e20a",
   "metadata": {},
   "outputs": [],
   "source": [
    "miRNA_variant['diseases'] = miRNA_variant['diseases'].str.lower()\n",
    "miRNA_variant['diseases'] = miRNA_variant['diseases'].str.replace(\", \", '|')\n",
    "miRNA_variant['diseases'] = [replace_with_mondo(item) for item in miRNA_variant['diseases']]\n",
    "miRNA_variant['diseases'].unique()"
   ]
  },
  {
   "cell_type": "markdown",
   "id": "00287b62",
   "metadata": {},
   "source": [
    "# lncRNA-gene"
   ]
  },
  {
   "cell_type": "code",
   "execution_count": null,
   "id": "448b6de5",
   "metadata": {},
   "outputs": [],
   "source": [
    "lncRNA_gene=pd.read_csv(\n",
    "    edge_data_location + 'testlncRNA-gene.txt', names=['transcript_id',\n",
    "                                                       'conservation', 'conservation_ortholog',\n",
    "                                                       'conservation_species', 'biological_context',\n",
    "                                                       'context_detail',\n",
    "       'tissue/cell line', 'genome_variation', 'variation_detail',\n",
    "       'epigenetic_modification', 'modification_detail', 'expression',\n",
    "       'expression_detail', 'regulator_type', 'regulator',\n",
    "       'regulator_interaction', 'regulator_effect', 'target_interaction',\n",
    "       'target_effect', 'experimental_method', 'molecular_function',\n",
    "       'biological_process', 'pathway', 'functional_mechanism',\n",
    "       'clinical_detail', 'drug', 'description', 'pmid', '0_y_x', '3_x_x',\n",
    "       '0_y_y', '3_x_y', 'Source(s)'], sep='\\t')\n",
    "\n",
    "lncRNA_gene = lncRNA_gene.drop(columns=['3_x_x','3_x_y'])\n",
    "lncRNA_gene"
   ]
  },
  {
   "cell_type": "code",
   "execution_count": null,
   "id": "49bfb1c2",
   "metadata": {},
   "outputs": [],
   "source": [
    "#### disease\n",
    "\n",
    "lncRNA_gene.context_detail = [replace_with_mondo(item) for item in lncRNA_gene.context_detail]\n",
    "\n",
    "#### tissue/cell line\n",
    "\n",
    "print(lncRNA_gene['tissue/cell line'].unique())\n",
    "lncRNA_gene['tissue/cell line'] = lncRNA_gene['tissue/cell line'].str.lower()\n",
    "lncRNA_gene['tissue/cell line'] = lncRNA_gene['tissue/cell line'].str.replace(';', '|')\n",
    "lncRNA_gene['tissue/cell line'] = [replace_with_clo(item) for item in lncRNA_gene['tissue/cell line']]\n",
    "lncRNA_gene['tissue/cell line'] = [replace_with_clo2(item) for item in lncRNA_gene['tissue/cell line']]\n",
    "lncRNA_gene['tissue/cell line'] = [replace_with_uberon(item) for item in lncRNA_gene['tissue/cell line']]\n",
    "\n",
    "#### experimental method\n",
    "\n",
    "print(lncRNA_gene['experimental_method'].unique())\n",
    "lncRNA_gene['experimental_method'] = lncRNA_gene['experimental_method'].str.replace('wetern', 'western')\n",
    "lncRNA_gene['experimental_method'] = lncRNA_gene['experimental_method'].str.replace('assay assay', 'assay')\n",
    "lncRNA_gene['experimental_method'] = lncRNA_gene['experimental_method'].str.lower()\n",
    "lncRNA_gene['experimental_method'] = lncRNA_gene['experimental_method'].str.replace(';', '|')\n",
    "lncRNA_gene['experimental_method'] = [replace_with_ncit(item) for item in lncRNA_gene['experimental_method']]\n",
    "\n",
    "#### biological process\n",
    "\n",
    "print(lncRNA_gene['biological_process'].unique())\n",
    "lncRNA_gene['biological_process'] = lncRNA_gene['biological_process'].str.lower()\n",
    "lncRNA_gene['biological_process'] = lncRNA_gene['biological_process'].str.replace(';', '|')\n",
    "lncRNA_gene['biological_process'] = [replace_with_go(item) for item in lncRNA_gene['biological_process']]\n",
    "\n",
    "#### pathway\n",
    "\n",
    "print(lncRNA_gene['pathway'].unique())\n",
    "lncRNA_gene['pathway'] = lncRNA_gene['pathway'].str.lower()\n",
    "lncRNA_gene['pathway'] = lncRNA_gene['pathway'].str.replace(';', '|')\n",
    "lncRNA_gene['pathway'] = lncRNA_gene['pathway'].str.replace('nf-??b', 'nuclear factor kappa B')\n",
    "lncRNA_gene['pathway'] = lncRNA_gene['pathway'].str.replace('/??-catenin', '')\n",
    "lncRNA_gene['pathway'] = lncRNA_gene['pathway'].str.replace('pi3k/akt ', '')\n",
    "lncRNA_gene['pathway'] = [replace_with_pw(item) for item in lncRNA_gene['pathway']]\n",
    "\n",
    "#### drug\n",
    "\n",
    "print(lncRNA_gene['drug'].unique())\n",
    "lncRNA_gene['drug'] = lncRNA_gene['drug'].str.lower()\n",
    "lncRNA_gene['drug'] = lncRNA_gene['drug'].str.replace(';', '|')\n",
    "lncRNA_gene['drug'] = [replace_with_drugbank(item) for item in lncRNA_gene['drug']]"
   ]
  },
  {
   "cell_type": "markdown",
   "id": "d40bf725",
   "metadata": {},
   "source": [
    "# lncRNA-disease"
   ]
  },
  {
   "cell_type": "code",
   "execution_count": null,
   "id": "b355a96a",
   "metadata": {},
   "outputs": [],
   "source": [
    "lncRNA_disease = pd.read_csv(\n",
    "    edge_data_location + 'testlncRNA-disease.txt', names=['0_y', 'ncRNA Symbol', 'Sample', 'Dysfunction Pattern',\n",
    "       'Validated Method', 'Description', 'PubMed ID', 'function description',\n",
    "       'gene_id', 'transcript_id', 'conservation', 'conservation_ortholog',\n",
    "       'conservation_species', 'biological_context', 'genome_variation',\n",
    "       'variation_detail', 'epigenetic_modification', 'modification_detail',\n",
    "       'expression', 'expression_detail', 'regulator_type', 'regulator',\n",
    "       'regulator_interaction', 'regulator_effect', 'target_type', 'target',\n",
    "       'target_interaction', 'target_effect', 'experimental_method',\n",
    "       'molecular_function', 'biological_process', 'pathway',\n",
    "       'functional_mechanism', 'clinical_detail', 'drug', 'description',\n",
    "       'desc', 'Gene ID', 'Variant Name', 'dbSNP ID', 'COSMIC Mutation ID',\n",
    "       'COSMIC Variation Effect', 'ClinVar Allele ID',\n",
    "       'ClinVar Variation Effect', 'ClinVar Disease Name', 'GWAS Trait', '3_x',\n",
    "       'Source(s)'], sep='\\t', dtype=object)\n",
    "lncRNA_disease"
   ]
  },
  {
   "cell_type": "markdown",
   "id": "fa6d03a3",
   "metadata": {},
   "source": [
    "#### Dysfunction pattern"
   ]
  },
  {
   "cell_type": "code",
   "execution_count": null,
   "id": "52094502",
   "metadata": {},
   "outputs": [],
   "source": [
    "lncRNA_disease.loc[(lncRNA_disease[\"Dysfunction Pattern\"].notna()) &\n",
    "                   (lncRNA_disease[\"expression_detail\"].notna()),\n",
    "                   [\"Dysfunction Pattern\"]] = lncRNA_disease['Dysfunction Pattern'] + '|' + lncRNA_disease['expression_detail']\n",
    "lncRNA_disease = lncRNA_disease.drop(columns=['expression_detail'])\n",
    "\n",
    "mirna_dict = dict(zip(miRBaseMap[2], miRBaseMap[0]))\n",
    "\n",
    "def replace_with_mirbase(substring):\n",
    "    if pd.isna(substring):\n",
    "        return np.nan\n",
    "    else:\n",
    "        return '|'.join([mirna_dict.get(part, part) for part in substring.split('|')])\n",
    "\n",
    "def extract_pattern(value):\n",
    "    if pd.notna(value) and '[' in value and ']' in value:\n",
    "        return pd.Series([value.split('[')[1]])\n",
    "    else:\n",
    "        return pd.Series([value])\n",
    "\n",
    "lncRNA_disease['Dysfunction Pattern'] = lncRNA_disease['Dysfunction Pattern'].str.replace('/', '+')\n",
    "lncRNA_disease['Dysfunction Pattern'] = lncRNA_disease['Dysfunction Pattern'].apply(extract_pattern)\n",
    "lncRNA_disease['Dysfunction Pattern'] = lncRNA_disease['Dysfunction Pattern'].squeeze()\n",
    "\n",
    "lncRNA_disease['Dysfunction Pattern'] = [replace_with_mirbase(item) for item in lncRNA_disease['Dysfunction Pattern']]\n",
    "lncRNA_disease['Dysfunction Pattern'] = lncRNA_disease['Dysfunction Pattern'].str.replace('miR', 'hsa-miR')\n",
    "lncRNA_disease['Dysfunction Pattern'] = [replace_with_mirbase(item) for item in lncRNA_disease['Dysfunction Pattern']]\n",
    "\n",
    "lncRNA_disease['Dysfunction Pattern'] = lncRNA_disease['Dysfunction Pattern'].str.replace('Down-regulated','http://purl.obolibrary.org/obo/OMIT_0016265')\n",
    "lncRNA_disease['Dysfunction Pattern'] = lncRNA_disease['Dysfunction Pattern'].str.replace('Up-regulated','http://purl.obolibrary.org/obo/OMIT_0016489')\n",
    "lncRNA_disease['Dysfunction Pattern'] = lncRNA_disease['Dysfunction Pattern'].str.replace('Differentially expressed','http://purl.obolibrary.org/obo/OBI_0002584')\n",
    "lncRNA_disease['Dysfunction Pattern'] = lncRNA_disease['Dysfunction Pattern'].str.replace('Mutation','http://purl.obolibrary.org/obo/OMIT_0010192')\n",
    "\n",
    "lncRNA_disease['Dysfunction Pattern'] = lncRNA_disease['Dysfunction Pattern'].str.replace(']', '')\n",
    "lncRNA_disease['Dysfunction Pattern'] = lncRNA_disease['Dysfunction Pattern'].str.replace('regulation', 'http://purl.obolibrary.org/obo/GO_0010468')"
   ]
  },
  {
   "cell_type": "markdown",
   "id": "9eaccbc0",
   "metadata": {},
   "source": [
    "#### Validated Method"
   ]
  },
  {
   "cell_type": "code",
   "execution_count": null,
   "id": "7d514521",
   "metadata": {},
   "outputs": [],
   "source": [
    "lncRNA_disease.loc[(lncRNA_disease[\"Validated Method\"].notna()) &\n",
    "                   (lncRNA_disease[\"experimental_method\"].notna()),\n",
    "                   [\"Validated Method\"]] = lncRNA_disease['Validated Method'] + '|' + lncRNA_disease['experimental_method']\n",
    "lncRNA_disease = lncRNA_disease.drop(columns=['experimental_method'])\n",
    "\n",
    "lncRNA_disease['Validated Method'] = lncRNA_disease['Validated Method'].str.replace('wetern', 'western')\n",
    "lncRNA_disease['Validated Method'] = lncRNA_disease['Validated Method'].str.replace('assay assay', 'assay')\n",
    "lncRNA_disease['Validated Method'] = lncRNA_disease['Validated Method'].str.lower()\n",
    "lncRNA_disease['Validated Method'] = lncRNA_disease['Validated Method'].str.replace('//', '|')\n",
    "lncRNA_disease['Validated Method'] = lncRNA_disease['Validated Method'].str.replace(', ', '|')\n",
    "lncRNA_disease['Validated Method'] = [replace_with_ncit(item) for item in lncRNA_disease['Validated Method']]"
   ]
  },
  {
   "cell_type": "markdown",
   "id": "ce06b9d7",
   "metadata": {},
   "source": [
    "#### sample"
   ]
  },
  {
   "cell_type": "code",
   "execution_count": null,
   "id": "0f0a2587",
   "metadata": {},
   "outputs": [],
   "source": [
    "uberon_dict2 = dict(zip(desc_uberon_map[0].str.replace(' tissue',''), 'http://purl.obolibrary.org/obo/'+desc_uberon_map[1]))\n",
    "\n",
    "def replace_with_uberon2(substring):\n",
    "    if pd.isna(substring):\n",
    "        return np.nan\n",
    "    else:\n",
    "        return '|'.join([uberon_dict2.get(part, part) for part in substring.split('|')])\n",
    "    \n",
    "lncRNA_disease.Sample = lncRNA_disease.Sample.str.replace(';', '|')\n",
    "lncRNA_disease.Sample = lncRNA_disease.Sample.str.replace(',', '|')\n",
    "lncRNA_disease.Sample = lncRNA_disease.Sample.str.replace('(', '')\n",
    "lncRNA_disease.Sample = lncRNA_disease.Sample.str.replace(')', '')\n",
    "lncRNA_disease.Sample = lncRNA_disease.Sample.str.replace(' as well as ', '|')\n",
    "lncRNA_disease.Sample = lncRNA_disease.Sample.str.replace(' and ', '|')\n",
    "lncRNA_disease.Sample = lncRNA_disease.Sample.str.replace(' |', '|')\n",
    "lncRNA_disease.Sample = lncRNA_disease.Sample.str.replace('| ', '|')\n",
    "lncRNA_disease.Sample = lncRNA_disease.Sample.str.replace(' | ', '|')\n",
    "lncRNA_disease.Sample = lncRNA_disease.Sample.str.replace(', ', '|')\n",
    "lncRNA_disease.Sample = [replace_with_clo(item) for item in lncRNA_disease.Sample]\n",
    "lncRNA_disease.Sample = [replace_with_clo2(item) for item in lncRNA_disease.Sample]\n",
    "lncRNA_disease.Sample = [replace_with_uberon(item) for item in lncRNA_disease.Sample]\n",
    "lncRNA_disease.Sample = [replace_with_uberon2(item) for item in lncRNA_disease.Sample]\n",
    "lncRNA_disease.Sample.unique()"
   ]
  },
  {
   "cell_type": "markdown",
   "id": "c5808a7e",
   "metadata": {},
   "source": [
    "#### target"
   ]
  },
  {
   "cell_type": "code",
   "execution_count": null,
   "id": "b36cde0e",
   "metadata": {},
   "outputs": [],
   "source": [
    "lncRNA_disease['target'] = lncRNA_disease['target'].str.replace('miR', 'hsa-miR')\n",
    "lncRNA_disease['target'] = [replace_with_mirbase(item) for item in lncRNA_disease['target']]\n",
    "lncRNA_disease['target'] = lncRNA_disease['target'].str.replace(';', '|').str.lower()\n",
    "lncRNA_disease['target'] = [replace_with_pro(item) for item in lncRNA_disease['target']]\n",
    "lncRNA_disease['target'].unique()"
   ]
  },
  {
   "cell_type": "markdown",
   "id": "2069d057",
   "metadata": {},
   "source": [
    "#### ClinVar Variation Effect"
   ]
  },
  {
   "cell_type": "code",
   "execution_count": null,
   "id": "344b868f",
   "metadata": {},
   "outputs": [],
   "source": [
    "lncRNA_disease['ClinVar Variation Effect'] = lncRNA_disease['ClinVar Variation Effect'].str.replace('; ', '|').str.lower()\n",
    "lncRNA_disease['ClinVar Variation Effect'] = [replace_with_mondo(item) for item in lncRNA_disease['ClinVar Variation Effect']]\n",
    "lncRNA_disease['ClinVar Variation Effect'] = lncRNA_disease['ClinVar Variation Effect'].str.replace(r's$', '', regex=True)\n",
    "lncRNA_disease['ClinVar Variation Effect'] = [replace_with_mondo(item) for item in lncRNA_disease['ClinVar Variation Effect']]\n",
    "lncRNA_disease['ClinVar Variation Effect'].unique()"
   ]
  },
  {
   "cell_type": "markdown",
   "id": "c539a555",
   "metadata": {},
   "source": [
    "#### GWAS Trait"
   ]
  },
  {
   "cell_type": "code",
   "execution_count": null,
   "id": "d82ef515",
   "metadata": {},
   "outputs": [],
   "source": [
    "lncRNA_disease['GWAS Trait'] = lncRNA_disease['GWAS Trait'].str.replace('; ', '|')\n",
    "lncRNA_disease['GWAS Trait'] = lncRNA_disease['GWAS Trait'].str.replace('; ', '|').str.lower()\n",
    "lncRNA_disease['GWAS Trait'] = [replace_with_mondo(item) for item in lncRNA_disease['GWAS Trait']]\n",
    "lncRNA_disease['GWAS Trait'] = lncRNA_disease['GWAS Trait'].str.replace(r's$', '', regex=True)\n",
    "lncRNA_disease['GWAS Trait'] = [replace_with_mondo(item) for item in lncRNA_disease['GWAS Trait']]\n",
    "\n",
    "lncRNA_disease['GWAS Trait'] = [replace_with_ncit(item) for item in lncRNA_disease['GWAS Trait']]\n",
    "lncRNA_disease['GWAS Trait'].unique()"
   ]
  },
  {
   "cell_type": "code",
   "execution_count": null,
   "id": "ff80c962",
   "metadata": {},
   "outputs": [],
   "source": [
    "#### biological process\n",
    "\n",
    "lncRNA_disease['biological_process'] = lncRNA_disease['biological_process'].str.lower()\n",
    "lncRNA_disease['biological_process'] = lncRNA_disease['biological_process'].str.replace(';', '|')\n",
    "lncRNA_disease['biological_process'] = [replace_with_go(item) for item in lncRNA_disease['biological_process']]\n",
    "\n",
    "#### pathway\n",
    "\n",
    "print(lncRNA_disease['pathway'].unique())\n",
    "lncRNA_disease['pathway'] = lncRNA_disease['pathway'].str.lower()\n",
    "lncRNA_disease['pathway'] = lncRNA_disease['pathway'].str.replace(';', '|')\n",
    "lncRNA_disease['pathway'] = lncRNA_disease['pathway'].str.replace('nf-??b', 'nuclear factor kappa B')\n",
    "lncRNA_disease['pathway'] = lncRNA_disease['pathway'].str.replace('/??-catenin', '')\n",
    "lncRNA_disease['pathway'] = lncRNA_disease['pathway'].str.replace('pi3k/akt ', '')\n",
    "lncRNA_disease['pathway'] = [replace_with_pw(item) for item in lncRNA_disease['pathway']]\n",
    "\n",
    "#### drug\n",
    "\n",
    "print(lncRNA_disease['drug'].unique())\n",
    "lncRNA_disease['drug'] = lncRNA_disease['drug'].str.lower()\n",
    "lncRNA_disease['drug'] = lncRNA_disease['drug'].str.replace(';', '|')\n",
    "lncRNA_disease['drug'] = [replace_with_drugbank(item) for item in lncRNA_disease['drug']]\n",
    "\n",
    "#### regulator\n",
    "lncRNA_disease['regulator'] = lncRNA_disease['regulator'].str.replace(';', '|').str.lower()\n",
    "lncRNA_disease['regulator'] = [replace_with_pro(item) for item in lncRNA_disease['regulator']]"
   ]
  },
  {
   "cell_type": "markdown",
   "id": "714f84ef",
   "metadata": {},
   "source": [
    "# circRNA-disease"
   ]
  },
  {
   "cell_type": "code",
   "execution_count": null,
   "id": "cf504583",
   "metadata": {},
   "outputs": [],
   "source": [
    "circRNA_disease = pd.read_csv(\n",
    "    edge_data_location + 'testcircRNA-disease.txt', names=['0_y','Sample',\n",
    "                                                          'Dysfunction Pattern','Validated Method','Description',\n",
    "                                                          'PubMed ID','Source(s)',1], sep='\\t', dtype=object)\n",
    "circRNA_disease"
   ]
  },
  {
   "cell_type": "code",
   "execution_count": null,
   "id": "49242463",
   "metadata": {},
   "outputs": [],
   "source": [
    "#### Dysfunction pattern\n",
    "\n",
    "circRNA_disease['Dysfunction Pattern'] = circRNA_disease['Dysfunction Pattern'].apply(extract_pattern)\n",
    "circRNA_disease['Dysfunction Pattern'] = circRNA_disease['Dysfunction Pattern'].squeeze()\n",
    "\n",
    "circRNA_disease['Dysfunction Pattern'] = circRNA_disease['Dysfunction Pattern'].str.replace('down-regulated','http://purl.obolibrary.org/obo/OMIT_0016265')\n",
    "circRNA_disease['Dysfunction Pattern'] = circRNA_disease['Dysfunction Pattern'].str.replace('up-regulated','http://purl.obolibrary.org/obo/OMIT_0016489')\n",
    "circRNA_disease['Dysfunction Pattern'] = circRNA_disease['Dysfunction Pattern'].str.replace('differentially expressed','http://purl.obolibrary.org/obo/OBI_0002584')\n",
    "\n",
    "circRNA_disease['Dysfunction Pattern'] = circRNA_disease['Dysfunction Pattern'].str.replace(']', '')\n",
    "circRNA_disease['Dysfunction Pattern'] = circRNA_disease['Dysfunction Pattern'].str.replace('regulation', 'http://purl.obolibrary.org/obo/GO_0010468')\n",
    "\n",
    "#### Validated Method\n",
    "\n",
    "circRNA_disease['Validated Method'] = circRNA_disease['Validated Method'].str.replace('wetern', 'western')\n",
    "circRNA_disease['Validated Method'] = circRNA_disease['Validated Method'].str.replace('assay assay', 'assay')\n",
    "circRNA_disease['Validated Method'] = circRNA_disease['Validated Method'].str.lower()\n",
    "circRNA_disease['Validated Method'] = circRNA_disease['Validated Method'].str.replace('//', '|')\n",
    "circRNA_disease['Validated Method'] = circRNA_disease['Validated Method'].str.replace(', ', '|')\n",
    "circRNA_disease['Validated Method'] = [replace_with_ncit(item) for item in circRNA_disease['Validated Method']]\n",
    "\n",
    "#### sample\n",
    "\n",
    "circRNA_disease.Sample = circRNA_disease.Sample.str.replace(';', '|')\n",
    "circRNA_disease.Sample = circRNA_disease.Sample.str.replace(',', '|')\n",
    "circRNA_disease.Sample = circRNA_disease.Sample.str.replace('(', '')\n",
    "circRNA_disease.Sample = circRNA_disease.Sample.str.replace(')', '')\n",
    "circRNA_disease.Sample = circRNA_disease.Sample.str.replace(' as well as ', '|')\n",
    "circRNA_disease.Sample = circRNA_disease.Sample.str.replace(' and ', '|')\n",
    "circRNA_disease.Sample = circRNA_disease.Sample.str.replace(' |', '|')\n",
    "circRNA_disease.Sample = circRNA_disease.Sample.str.replace('| ', '|')\n",
    "circRNA_disease.Sample = circRNA_disease.Sample.str.replace(' | ', '|')\n",
    "circRNA_disease.Sample = circRNA_disease.Sample.str.replace(', ', '|')\n",
    "circRNA_disease.Sample = [replace_with_clo(item) for item in circRNA_disease.Sample]\n",
    "circRNA_disease.Sample = [replace_with_clo2(item) for item in circRNA_disease.Sample]\n",
    "circRNA_disease.Sample = [replace_with_uberon(item) for item in circRNA_disease.Sample]\n",
    "circRNA_disease.Sample = [replace_with_uberon2(item) for item in circRNA_disease.Sample]\n",
    "circRNA_disease.Sample.unique()"
   ]
  },
  {
   "cell_type": "markdown",
   "id": "5cad2a22",
   "metadata": {},
   "source": [
    "# lncRNA-chemical"
   ]
  },
  {
   "cell_type": "code",
   "execution_count": null,
   "id": "fb0ae9c6",
   "metadata": {},
   "outputs": [],
   "source": [
    "lncRNA_chemical = pd.read_csv(\n",
    "    edge_data_location + 'testlncRNA-chemical.txt', names=[1,'transcript_id','conservation',\n",
    "                                                           'conservation_ortholog','conservation_species',\n",
    "                                                           'biological_context','context_detail',\n",
    "                                                           'tissue/cell line','genome_variation',\n",
    "                                                           'variation_detail','epigenetic_modification',\n",
    "                                                           'modification_detail','expression','expression_detail',\n",
    "                                                           'regulator_type','regulator','regulator_interaction',\n",
    "                                                           'regulator_effect','target_type','target',\n",
    "                                                           'target_interaction','target_effect',\n",
    "                                                           'experimental_method','molecular_function',\n",
    "                                                           'biological_process','pathway','functional_mechanism',\n",
    "                                                           'clinical_detail','description','pmid','0_y',\n",
    "                                                           'Source(s)'], sep='\\t', dtype=object)\n",
    "lncRNA_chemical"
   ]
  },
  {
   "cell_type": "code",
   "execution_count": null,
   "id": "66f30f23",
   "metadata": {},
   "outputs": [],
   "source": [
    "#### regulator\n",
    "\n",
    "lncRNA_chemical['regulator'] = lncRNA_chemical['regulator'].str.replace(';', '|').str.lower()\n",
    "lncRNA_chemical['regulator'] = [replace_with_pro(item) for item in lncRNA_chemical['regulator']]\n",
    "\n",
    "#### target\n",
    "\n",
    "lncRNA_chemical['target'] = lncRNA_chemical['target'].str.replace('miR', 'hsa-miR')\n",
    "lncRNA_chemical['target'] = [replace_with_mirbase(item) for item in lncRNA_chemical['target']]\n",
    "lncRNA_chemical['target'] = lncRNA_chemical['target'].str.replace(';', '|').str.lower()\n",
    "lncRNA_chemical['target'] = [replace_with_pro(item) for item in lncRNA_chemical['target']]\n",
    "\n",
    "#### disease\n",
    "\n",
    "lncRNA_chemical.context_detail = [replace_with_mondo(item) for item in lncRNA_chemical.context_detail]\n",
    "\n",
    "#### tissue/cell line\n",
    "\n",
    "lncRNA_chemical['tissue/cell line'] = lncRNA_chemical['tissue/cell line'].str.lower()\n",
    "lncRNA_chemical['tissue/cell line'] = lncRNA_chemical['tissue/cell line'].str.replace(';', '|')\n",
    "lncRNA_chemical['tissue/cell line'] = [replace_with_clo(item) for item in lncRNA_chemical['tissue/cell line']]\n",
    "lncRNA_chemical['tissue/cell line'] = [replace_with_clo2(item) for item in lncRNA_chemical['tissue/cell line']]\n",
    "lncRNA_chemical['tissue/cell line'] = [replace_with_uberon(item) for item in lncRNA_chemical['tissue/cell line']]\n",
    "\n",
    "#### experimental method\n",
    "\n",
    "lncRNA_chemical['experimental_method'] = lncRNA_chemical['experimental_method'].str.replace('wetern', 'western')\n",
    "lncRNA_chemical['experimental_method'] = lncRNA_chemical['experimental_method'].str.replace('assay assay', 'assay')\n",
    "lncRNA_chemical['experimental_method'] = lncRNA_chemical['experimental_method'].str.lower()\n",
    "lncRNA_chemical['experimental_method'] = lncRNA_chemical['experimental_method'].str.replace(';', '|')\n",
    "lncRNA_chemical['experimental_method'] = [replace_with_ncit(item) for item in lncRNA_chemical['experimental_method']]\n",
    "\n",
    "#### biological process\n",
    "\n",
    "lncRNA_chemical['biological_process'] = lncRNA_chemical['biological_process'].str.lower()\n",
    "lncRNA_chemical['biological_process'] = lncRNA_chemical['biological_process'].str.replace(';', '|')\n",
    "lncRNA_chemical['biological_process'] = [replace_with_go(item) for item in lncRNA_chemical['biological_process']]\n",
    "\n",
    "#### pathway\n",
    "\n",
    "lncRNA_chemical['pathway'] = lncRNA_chemical['pathway'].str.lower()\n",
    "lncRNA_chemical['pathway'] = lncRNA_chemical['pathway'].str.replace(';', '|')\n",
    "lncRNA_chemical['pathway'] = lncRNA_chemical['pathway'].str.replace('nf-??b', 'nuclear factor kappa B')\n",
    "lncRNA_chemical['pathway'] = lncRNA_chemical['pathway'].str.replace('/??-catenin', '')\n",
    "lncRNA_chemical['pathway'] = lncRNA_chemical['pathway'].str.replace('pi3k/akt ', '')\n",
    "lncRNA_chemical['pathway'] = [replace_with_pw(item) for item in lncRNA_chemical['pathway']]"
   ]
  },
  {
   "cell_type": "markdown",
   "id": "55f17e94",
   "metadata": {},
   "source": [
    "# lncRNA-protein"
   ]
  },
  {
   "cell_type": "code",
   "execution_count": null,
   "id": "956efbf5",
   "metadata": {},
   "outputs": [],
   "source": [
    "lncRNA_protein=pd.read_csv(\n",
    "    edge_data_location + 'testlncRNA-protein.txt', names=['Transcript ID', 'Cell Line', 'Start', 'End', 'conservation',\n",
    "       'conservation_ortholog', 'conservation_species', 'biological_context',\n",
    "       'context_detail', 'tissue/cell line', 'genome_variation',\n",
    "       'variation_detail', 'epigenetic_modification', 'modification_detail',\n",
    "       'expression', 'expression_detail', 'regulator_type', 'regulator',\n",
    "       'regulator_interaction', 'regulator_effect', 'target_type',\n",
    "       'target_interaction', 'target_effect', 'experimental_method',\n",
    "       'molecular_function', 'biological_process', 'pathway',\n",
    "       'functional_mechanism', 'clinical_detail', 'drug', 'description',\n",
    "       'pmid', '0_y', '1_y', 'Source(s)'], sep='\\t', dtype=object)\n",
    "lncRNA_protein"
   ]
  },
  {
   "cell_type": "code",
   "execution_count": null,
   "id": "8d18f006",
   "metadata": {},
   "outputs": [],
   "source": [
    "#### disease\n",
    "\n",
    "lncRNA_protein.context_detail = [replace_with_mondo(item) for item in lncRNA_protein.context_detail]\n",
    "\n",
    "#### tissue/cell line\n",
    "\n",
    "lncRNA_protein['tissue/cell line'] = lncRNA_protein['tissue/cell line'].str.lower()\n",
    "lncRNA_protein['tissue/cell line'] = lncRNA_protein['tissue/cell line'].str.replace(';', '|')\n",
    "lncRNA_protein['tissue/cell line'] = [replace_with_clo(item) for item in lncRNA_protein['tissue/cell line']]\n",
    "lncRNA_protein['tissue/cell line'] = [replace_with_clo2(item) for item in lncRNA_protein['tissue/cell line']]\n",
    "lncRNA_protein['tissue/cell line'] = [replace_with_uberon(item) for item in lncRNA_protein['tissue/cell line']]\n",
    "\n",
    "#### experimental method\n",
    "\n",
    "lncRNA_protein['experimental_method'] = lncRNA_protein['experimental_method'].str.replace('wetern', 'western')\n",
    "lncRNA_protein['experimental_method'] = lncRNA_protein['experimental_method'].str.replace('assay assay', 'assay')\n",
    "lncRNA_protein['experimental_method'] = lncRNA_protein['experimental_method'].str.lower()\n",
    "lncRNA_protein['experimental_method'] = lncRNA_protein['experimental_method'].str.replace(';', '|')\n",
    "lncRNA_protein['experimental_method'] = [replace_with_ncit(item) for item in lncRNA_protein['experimental_method']]\n",
    "\n",
    "#### biological process\n",
    "\n",
    "lncRNA_protein['biological_process'] = lncRNA_protein['biological_process'].str.lower()\n",
    "lncRNA_protein['biological_process'] = lncRNA_protein['biological_process'].str.replace(';', '|')\n",
    "lncRNA_protein['biological_process'] = [replace_with_go(item) for item in lncRNA_protein['biological_process']]\n",
    "\n",
    "#### pathway\n",
    "\n",
    "lncRNA_protein['pathway'] = lncRNA_protein['pathway'].str.lower()\n",
    "lncRNA_protein['pathway'] = lncRNA_protein['pathway'].str.replace(';', '|')\n",
    "lncRNA_protein['pathway'] = lncRNA_protein['pathway'].str.replace('nf-??b', 'nuclear factor kappa B')\n",
    "lncRNA_protein['pathway'] = lncRNA_protein['pathway'].str.replace('/??-catenin', '')\n",
    "lncRNA_protein['pathway'] = lncRNA_protein['pathway'].str.replace('pi3k/akt ', '')\n",
    "lncRNA_protein['pathway'] = [replace_with_pw(item) for item in lncRNA_protein['pathway']]\n",
    "\n",
    "#### drug\n",
    "\n",
    "lncRNA_protein['drug'] = lncRNA_protein['drug'].str.lower()\n",
    "lncRNA_protein['drug'] = lncRNA_protein['drug'].str.replace(';', '|')\n",
    "\n",
    "lncRNA_protein['drug'] = [replace_with_drugbank(item) for item in lncRNA_protein['drug']]"
   ]
  },
  {
   "cell_type": "markdown",
   "id": "7e3e195a",
   "metadata": {},
   "source": [
    "# lncRNA-GOCC"
   ]
  },
  {
   "cell_type": "code",
   "execution_count": null,
   "id": "dc3f5bb8",
   "metadata": {},
   "outputs": [],
   "source": [
    "lncRNA_gocc = pd.read_csv(\n",
    "    edge_data_location + 'testlncRNA-gocc.txt', names=['Data Source', 'Value', '0_y', 'gocc', 'Source(s)'],\n",
    "    sep='\\t', dtype=object)\n",
    "lncRNA_gocc"
   ]
  },
  {
   "cell_type": "code",
   "execution_count": null,
   "id": "93d5d61f",
   "metadata": {},
   "outputs": [],
   "source": [
    "lncRNA_gocc['Data Source'] = lncRNA_gocc['Data Source'].str.replace('.', ' ').str.lower()\n",
    "lncRNA_gocc['Data Source'] = [replace_with_clo(item) for item in lncRNA_gocc['Data Source']]\n",
    "lncRNA_gocc['Data Source'] = [replace_with_clo2(item) for item in lncRNA_gocc['Data Source']]\n",
    "\n",
    "lncRNA_gocc['Data Source'].unique()"
   ]
  },
  {
   "cell_type": "markdown",
   "id": "87918a8b",
   "metadata": {},
   "source": [
    "# lncRNA-gobp"
   ]
  },
  {
   "cell_type": "code",
   "execution_count": null,
   "id": "cb5136bf",
   "metadata": {},
   "outputs": [],
   "source": [
    "lncRNA_gobp2=pd.read_csv(\n",
    "    edge_data_location + 'testlncRNA-gobp.txt', names=['transcript_id', 'conservation', 'conservation_ortholog',\n",
    "       'conservation_species', 'context_detail', 'epigenetic_modification',\n",
    "       'modification_detail', 'target_type', 'target', 'target_interaction',\n",
    "       'target_effect', 'biological_process', 'pathway',\n",
    "       'functional_mechanism', 'description', 'PMID', 'gobp', 'geneid',\n",
    "       'Source(s)'], sep='\\t')\n",
    "lncRNA_gobp2"
   ]
  },
  {
   "cell_type": "code",
   "execution_count": null,
   "id": "7dff025e",
   "metadata": {},
   "outputs": [],
   "source": [
    "#### disease\n",
    "\n",
    "lncRNA_gobp2.context_detail = [replace_with_mondo(item) for item in lncRNA_gobp2.context_detail]\n",
    "\n",
    "#### pathway\n",
    "\n",
    "lncRNA_gobp2['pathway'] = lncRNA_gobp2['pathway'].str.lower()\n",
    "lncRNA_gobp2['pathway'] = lncRNA_gobp2['pathway'].str.replace(';', '|')\n",
    "lncRNA_gobp2['pathway'] = lncRNA_gobp2['pathway'].str.replace('nf-??b', 'nuclear factor kappa B')\n",
    "lncRNA_gobp2['pathway'] = lncRNA_gobp2['pathway'].str.replace('/??-catenin', '')\n",
    "lncRNA_gobp2['pathway'] = lncRNA_gobp2['pathway'].str.replace('pi3k/akt ', '')\n",
    "lncRNA_gobp2['pathway'] = [replace_with_pw(item) for item in lncRNA_gobp2['pathway']]"
   ]
  },
  {
   "cell_type": "markdown",
   "id": "782c5177",
   "metadata": {},
   "source": [
    "# lncRNA-pathway"
   ]
  },
  {
   "cell_type": "code",
   "execution_count": null,
   "id": "54c5ae66",
   "metadata": {
    "scrolled": false
   },
   "outputs": [],
   "source": [
    "lncRNA_pw=pd.read_csv(\n",
    "    edge_data_location + 'testlncRNA-pw.txt', names=['transcript_id','conservation',\n",
    "                                                     'conservation_ortholog','conservation_species',\n",
    "                                                     'biological_context','context_detail',\n",
    "                                                     'tissue/cell line','epigenetic_modification','expression',\n",
    "                                                     'expression_detail','regulator_type','regulator',\n",
    "                                                     'regulator_interaction','regulator_effect','target_type',\n",
    "                                                     'target','target_effect','experimental_method',\n",
    "                                                     'biological_process','functional_mechanism',\n",
    "                                                     'clinical_detail','drug','description','pmid','0_y',1,\n",
    "                                                     'Source(s)'], sep='\\t')\n",
    "lncRNA_pw"
   ]
  },
  {
   "cell_type": "code",
   "execution_count": null,
   "id": "bf5b8c95",
   "metadata": {},
   "outputs": [],
   "source": [
    "#### disease\n",
    "\n",
    "lncRNA_pw.context_detail = [replace_with_mondo(item) for item in lncRNA_pw.context_detail]\n",
    "\n",
    "#### tissue/cell line\n",
    "lncRNA_pw['tissue/cell line'] = lncRNA_pw['tissue/cell line'].str.lower()\n",
    "lncRNA_pw['tissue/cell line'] = lncRNA_pw['tissue/cell line'].str.replace(';', '|')\n",
    "lncRNA_pw['tissue/cell line'] = [replace_with_clo(item) for item in lncRNA_pw['tissue/cell line']]\n",
    "lncRNA_pw['tissue/cell line'] = [replace_with_clo2(item) for item in lncRNA_pw['tissue/cell line']]\n",
    "lncRNA_pw['tissue/cell line'] = [replace_with_uberon(item) for item in lncRNA_pw['tissue/cell line']]\n",
    "\n",
    "#### regulator\n",
    "\n",
    "lncRNA_pw['regulator'] = lncRNA_pw['regulator'].str.replace(';', '|').str.lower()\n",
    "lncRNA_pw['regulator'] = [replace_with_pro(item) for item in lncRNA_pw['regulator']]\n",
    "\n",
    "# target\n",
    "\n",
    "lncRNA_pw['target'] = lncRNA_pw['target'].str.replace('miR', 'hsa-miR')\n",
    "lncRNA_pw['target'] = [replace_with_mirbase(item) for item in lncRNA_pw['target']]\n",
    "lncRNA_pw['target'] = lncRNA_pw['target'].str.replace(';', '|').str.lower()\n",
    "lncRNA_pw['target'] = [replace_with_pro(item) for item in lncRNA_pw['target']]\n",
    "\n",
    "#### experimental method\n",
    "lncRNA_pw['experimental_method'] = lncRNA_pw['experimental_method'].str.replace('wetern', 'western')\n",
    "lncRNA_pw['experimental_method'] = lncRNA_pw['experimental_method'].str.replace('assay assay', 'assay')\n",
    "lncRNA_pw['experimental_method'] = lncRNA_pw['experimental_method'].str.lower()\n",
    "lncRNA_pw['experimental_method'] = lncRNA_pw['experimental_method'].str.replace(';', '|')\n",
    "lncRNA_pw['experimental_method'] = [replace_with_ncit(item) for item in lncRNA_pw['experimental_method']]\n",
    "\n",
    "#### biological process\n",
    "\n",
    "lncRNA_pw['biological_process'] = lncRNA_pw['biological_process'].str.lower()\n",
    "lncRNA_pw['biological_process'] = lncRNA_pw['biological_process'].str.replace(';', '|')\n",
    "lncRNA_pw['biological_process'] = [replace_with_go(item) for item in lncRNA_pw['biological_process']]\n",
    "\n",
    "#### drug\n",
    "\n",
    "lncRNA_pw['drug'] = lncRNA_pw['drug'].str.lower()\n",
    "lncRNA_pw['drug'] = [replace_with_drugbank(item) for item in lncRNA_pw['drug']]"
   ]
  },
  {
   "cell_type": "markdown",
   "id": "4b4855ef",
   "metadata": {},
   "source": [
    "# miRNA-TF"
   ]
  },
  {
   "cell_type": "code",
   "execution_count": null,
   "id": "4497ee1a",
   "metadata": {},
   "outputs": [],
   "source": [
    "miRNA_TF_up=pd.read_csv(\n",
    "    edge_data_location + 'testmiRNA-TFup.txt', names=['chrom','strand',\n",
    "                                                      'Start10kb','End10kb','chromStartTF','chromEndTF',\n",
    "                                                      'Refseq','score','zScore','1_y',0,'Source(s)'], sep='\\t')\n",
    "\n",
    "miRNA_TF_down=pd.read_csv(\n",
    "    edge_data_location + 'testmiRNA-TFdown.txt', names=['chrom','strand',\n",
    "                                                        'Start10kb','End10kb','chromStartTF','chromEndTF',\n",
    "                                                        'Refseq','score','zScore','1_y',0,'Source(s)'], sep='\\t')\n",
    "\n",
    "miRNA_TF_up"
   ]
  },
  {
   "cell_type": "code",
   "execution_count": null,
   "id": "172c9c98",
   "metadata": {},
   "outputs": [],
   "source": [
    "miRNA_TF_up['chrom'] = miRNA_TF_up['chrom'].str.lower()\n",
    "miRNA_TF_up['chrom'] = [replace_with_ncit(item) for item in miRNA_TF_up['chrom']]\n",
    "\n",
    "miRNA_TF_down['chrom'] = miRNA_TF_down['chrom'].str.lower()\n",
    "miRNA_TF_down['chrom'] = [replace_with_ncit(item) for item in miRNA_TF_down['chrom']]"
   ]
  },
  {
   "cell_type": "markdown",
   "id": "e0aac2d4",
   "metadata": {},
   "source": [
    "# premiRNA-TF"
   ]
  },
  {
   "cell_type": "code",
   "execution_count": null,
   "id": "611214ae",
   "metadata": {},
   "outputs": [],
   "source": [
    "miRNA_TF=pd.read_csv(\n",
    "    edge_data_location + 'testpremiRNA-TF.txt', names=['action_type', 'pmid', '1_y', 0, 'Source(s)'], sep='\\t')\n",
    "miRNA_TF"
   ]
  },
  {
   "cell_type": "markdown",
   "id": "6e6f513a",
   "metadata": {},
   "source": [
    "#### action type"
   ]
  },
  {
   "cell_type": "code",
   "execution_count": null,
   "id": "caf48ade",
   "metadata": {},
   "outputs": [],
   "source": [
    "miRNA_TF['action_type'] = miRNA_TF['action_type'].str.lower()\n",
    "miRNA_TF['action_type'] = [replace_with_ncit(item) for item in miRNA_TF['action_type']]\n",
    "miRNA_TF['action_type'].unique()"
   ]
  },
  {
   "cell_type": "markdown",
   "id": "a0a4aed3",
   "metadata": {},
   "source": [
    "# miRNA-chemical"
   ]
  },
  {
   "cell_type": "code",
   "execution_count": null,
   "id": "fdb13aa8",
   "metadata": {},
   "outputs": [],
   "source": [
    "miRNA_chemical=pd.read_csv(\n",
    "    edge_data_location + 'testchemical-miRNA.txt', names=['Detection method ','Condition','PMID','Support',1,\n",
    "                                                          'expression','miRBase Accession',\n",
    "                                                          'Potential biomarker role defined in the literature',\n",
    "                                                          'exRNA form','Sample','Sample source',\n",
    "                                                          'Diseases, Cell Lines or normal status','Methods',\n",
    "                                                          'Experiment Description/Results','Source(s)'], sep='\\t')\n",
    "miRNA_chemical"
   ]
  },
  {
   "cell_type": "markdown",
   "id": "f8fdfcd7",
   "metadata": {},
   "source": [
    "#### detection method"
   ]
  },
  {
   "cell_type": "code",
   "execution_count": null,
   "id": "46ce4a5a",
   "metadata": {},
   "outputs": [],
   "source": [
    "miRNA_chemical['Detection method '] = miRNA_chemical['Detection method '].str.lower()\n",
    "miRNA_chemical['method'] = miRNA_chemical['method'].str.lower()\n",
    "miRNA_chemical['Methods'] = miRNA_chemical['Methods'].str.lower()\n",
    "miRNA_chemical['Detection method '] = miRNA_chemical['Detection method '].str.replace('quantitative real-time pcr', 'http://purl.obolibrary.org/obo/NCIT_C28408')\n",
    "miRNA_chemical['Detection method '] = miRNA_chemical['Detection method '].str.replace('qrt-pcr', 'http://purl.obolibrary.org/obo/NCIT_C28408')\n",
    "miRNA_chemical['method'] = miRNA_chemical['method'].str.replace('quantitative real-time pcr', 'http://purl.obolibrary.org/obo/NCIT_C28408')\n",
    "miRNA_chemical['method'] = miRNA_chemical['method'].str.replace('qrt-pcr', 'http://purl.obolibrary.org/obo/NCIT_C28408')\n",
    "miRNA_chemical['Methods'] = miRNA_chemical['Methods'].str.replace('real-time rt-pcr', 'http://purl.obolibrary.org/obo/NCIT_C28408')\n",
    "miRNA_chemical['Methods'] = miRNA_chemical['Methods'].str.replace('qrt-pcr', 'http://purl.obolibrary.org/obo/NCIT_C28408')\n",
    "\n",
    "miRNA_chemical['Detection method '] = miRNA_chemical['Detection method '].astype(str)\n",
    "miRNA_chemical['method'] = miRNA_chemical['method'].astype(str)\n",
    "miRNA_chemical['Detection method '].fillna(miRNA_chemical['method'], inplace=True)\n",
    "miRNA_chemical.loc[(~miRNA_chemical['Detection method '].isna()) & (~miRNA_chemical['method'].isna()) &\n",
    "                   (miRNA_chemical['Detection method '] != miRNA_chemical['method']),\n",
    "                   [\"Detection method \"]] = miRNA_chemical[\"Detection method \"\n",
    "                                                         ].astype(str) + '|' + miRNA_chemical['method'].astype(str)\n",
    "\n",
    "miRNA_chemical['Detection method '] = miRNA_chemical['Detection method '].astype(str)\n",
    "miRNA_chemical['Methods'] = miRNA_chemical['Methods'].astype(str)\n",
    "miRNA_chemical['Detection method '].fillna(miRNA_chemical['Methods'], inplace=True)\n",
    "miRNA_chemical.loc[(~miRNA_chemical['Detection method '].isna()) & (~miRNA_chemical['Methods'].isna()) &\n",
    "                   (miRNA_chemical['Detection method '] != miRNA_chemical['Methods']),\n",
    "                   [\"Detection method \"]] = miRNA_chemical[\"Detection method \"\n",
    "                                                         ].astype(str) + '|' + miRNA_chemical['Methods'].astype(str)\n",
    "\n",
    "miRNA_chemical['Detection method '] = [replace_with_ncit(item) for item in miRNA_chemical['Detection method ']]\n",
    "miRNA_chemical['Detection method '].unique()"
   ]
  },
  {
   "cell_type": "markdown",
   "id": "6fa10a2e",
   "metadata": {},
   "source": [
    "#### condition"
   ]
  },
  {
   "cell_type": "code",
   "execution_count": null,
   "id": "59920d44",
   "metadata": {},
   "outputs": [],
   "source": [
    "miRNA_chemical['Condition'] = miRNA_chemical['Condition'].str.replace(r's$', '', regex=True)\n",
    "miRNA_chemical['Condition'] = miRNA_chemical['Condition'].str.replace(r's|', '', regex=True)\n",
    "miRNA_chemical['Condition'] = miRNA_chemical['Condition'].str.replace(', ', '|')\n",
    "miRNA_chemical['Condition'] = miRNA_chemical['Condition'].str.replace('- ', '-')\n",
    "miRNA_chemical['Condition'] = miRNA_chemical['Condition'].str.lower()\n",
    "miRNA_chemical['Condition'] = [replace_with_clo(item) for item in miRNA_chemical['Condition']]\n",
    "miRNA_chemical['Condition'] = [replace_with_clo2(item) for item in miRNA_chemical['Condition']]\n",
    "miRNA_chemical['Condition'] = [replace_with_ncit(item) for item in miRNA_chemical['Condition']]\n",
    "miRNA_chemical['Condition'].unique()"
   ]
  },
  {
   "cell_type": "markdown",
   "id": "fc1718ab",
   "metadata": {},
   "source": [
    "# circRNA-miRNA"
   ]
  },
  {
   "cell_type": "code",
   "execution_count": null,
   "id": "fac5a653",
   "metadata": {},
   "outputs": [],
   "source": [
    "circRNA_miRNA=pd.read_csv(\n",
    "    edge_data_location + 'testcircRNA-miRNA.txt', names=[2, 6, 9, 10, 11, 12, 13, 14, 15, 16, 17, 'genbank_id',\n",
    "                                                         '0_y', 'a', 'Source(s)'], sep='\\t',dtype=object)\n",
    "circRNA_miRNA"
   ]
  },
  {
   "cell_type": "markdown",
   "id": "37525a02",
   "metadata": {},
   "source": [
    "#### disease"
   ]
  },
  {
   "cell_type": "code",
   "execution_count": null,
   "id": "5becd75b",
   "metadata": {},
   "outputs": [],
   "source": [
    "circRNA_miRNA[16] = circRNA_miRNA[16].str.lower()\n",
    "circRNA_miRNA[16] = circRNA_miRNA[16].str.replace(\"[ns]\", ']')\n",
    "circRNA_miRNA[16] = circRNA_miRNA[16].str.replace(\"]\", '|')\n",
    "circRNA_miRNA[16] = circRNA_miRNA[16].str.replace(\"[\", '')\n",
    "circRNA_miRNA[16] = circRNA_miRNA[16].str.replace(\", \", '|')\n",
    "circRNA_miRNA[16] = circRNA_miRNA[16].str.replace(\"||\", '|')\n",
    "circRNA_miRNA[16] = circRNA_miRNA[16].replace(\"|||\", np.nan)\n",
    "circRNA_miRNA[16] = circRNA_miRNA[16].str.replace('_', ' ')\n",
    "circRNA_miRNA[16] = circRNA_miRNA[16].str.replace('lung/sclc', 'small cell lung carcinoma')\n",
    "circRNA_miRNA[16] = circRNA_miRNA[16].replace(r'\\(.*?\\)', '', regex=True)\n",
    "circRNA_miRNA[16] = circRNA_miRNA[16].replace(r'\\|$', '', regex=True)\n",
    "circRNA_miRNA[16] = [replace_with_mondo(item) for item in circRNA_miRNA[16]]\n",
    "print(circRNA_miRNA[16].unique())"
   ]
  },
  {
   "cell_type": "code",
   "execution_count": null,
   "id": "064fc645",
   "metadata": {},
   "outputs": [],
   "source": [
    "circRNA_miRNA[16].unique()"
   ]
  },
  {
   "cell_type": "markdown",
   "id": "3293f6f9",
   "metadata": {},
   "source": [
    "# RNAInter"
   ]
  },
  {
   "cell_type": "code",
   "execution_count": null,
   "id": "a008ebaf",
   "metadata": {},
   "outputs": [],
   "source": [
    "RNA_RNA = pd.read_csv(unprocessed_data_location+'Download_data_RR.tar.gz',sep='\\t')\n",
    "RNA_RNA"
   ]
  },
  {
   "cell_type": "code",
   "execution_count": null,
   "id": "5641697e",
   "metadata": {},
   "outputs": [],
   "source": [
    "RNA_RNA.strong = RNA_RNA.strong.str.replace('//','|')\n",
    "RNA_RNA.strong = RNA_RNA.strong.str.lower()\n",
    "RNA_RNA.strong = [replace_with_ncit(item) for item in RNA_RNA.strong]\n",
    "\n",
    "RNA_RNA.weak = RNA_RNA.weak.str.replace('//','|')\n",
    "RNA_RNA.weak = RNA_RNA.weak.str.lower()\n",
    "RNA_RNA.weak = [replace_with_ncit(item) for item in RNA_RNA.weak]\n",
    "\n",
    "RNA_RNA.predict = RNA_RNA.predict.str.replace('//','|')\n",
    "RNA_RNA.predict = RNA_RNA.predict.str.lower()\n",
    "RNA_RNA.predict = [replace_with_ncit(item) for item in RNA_RNA.predict]"
   ]
  },
  {
   "cell_type": "code",
   "execution_count": null,
   "id": "89a7a7e5",
   "metadata": {},
   "outputs": [],
   "source": [
    "RNA_protein = pd.read_csv(unprocessed_data_location+'Download_data_RP.tar.gz',sep='\\t')\n",
    "RNA_protein"
   ]
  },
  {
   "cell_type": "code",
   "execution_count": null,
   "id": "a5896ab8",
   "metadata": {},
   "outputs": [],
   "source": [
    "RNA_protein.strong = RNA_protein.strong.str.replace('//','|')\n",
    "RNA_protein.strong = RNA_protein.strong.str.lower()\n",
    "RNA_protein.strong = [replace_with_ncit(item) for item in RNA_protein.strong]\n",
    "\n",
    "RNA_protein.weak = RNA_protein.weak.str.replace('//','|')\n",
    "RNA_protein.weak = RNA_protein.weak.str.lower()\n",
    "RNA_protein.weak = [replace_with_ncit(item) for item in RNA_protein.weak]\n",
    "\n",
    "RNA_protein.predict = RNA_protein.predict.str.replace('//','|')\n",
    "RNA_protein.predict = RNA_protein.predict.str.lower()\n",
    "RNA_protein.predict = [replace_with_ncit(item) for item in RNA_protein.predict]"
   ]
  },
  {
   "cell_type": "code",
   "execution_count": null,
   "id": "b51f3e2a",
   "metadata": {},
   "outputs": [],
   "source": [
    "RNA_gene = pd.read_csv(unprocessed_data_location+'Download_data_RD.tar.gz',sep='\\t')\n",
    "RNA_gene"
   ]
  },
  {
   "cell_type": "code",
   "execution_count": null,
   "id": "d4d0729e",
   "metadata": {},
   "outputs": [],
   "source": [
    "RNA_gene.strong = RNA_gene.strong.str.replace('//','|')\n",
    "RNA_gene.strong = RNA_gene.strong.str.lower()\n",
    "RNA_gene.strong = [replace_with_ncit(item) for item in RNA_gene.strong]\n",
    "\n",
    "RNA_gene.weak = RNA_gene.weak.str.replace('//','|')\n",
    "RNA_gene.weak = RNA_gene.weak.str.lower()\n",
    "RNA_gene.weak = [replace_with_ncit(item) for item in RNA_gene.weak]\n",
    "\n",
    "RNA_gene.predict = RNA_gene.predict.str.replace('//','|')\n",
    "RNA_gene.predict = RNA_gene.predict.str.lower()\n",
    "RNA_gene.predict = [replace_with_ncit(item) for item in RNA_gene.predict]"
   ]
  },
  {
   "cell_type": "code",
   "execution_count": null,
   "id": "c0c42a45",
   "metadata": {},
   "outputs": [],
   "source": [
    "RNA_chemical = pd.read_csv(unprocessed_data_location+'Download_data_RC.tar.gz',sep='\\t')\n",
    "RNA_chemical"
   ]
  },
  {
   "cell_type": "code",
   "execution_count": null,
   "id": "bb3de715",
   "metadata": {},
   "outputs": [],
   "source": [
    "RNA_chemical.strong = RNA_chemical.strong.str.replace('//','|')\n",
    "RNA_chemical.strong = RNA_chemical.strong.str.lower()\n",
    "RNA_chemical.strong = [replace_with_ncit(item) for item in RNA_chemical.strong]\n",
    "\n",
    "RNA_chemical.weak = RNA_chemical.weak.str.replace('//','|')\n",
    "RNA_chemical.weak = RNA_chemical.weak.str.lower()\n",
    "RNA_chemical.weak = [replace_with_ncit(item) for item in RNA_chemical.weak]\n",
    "\n",
    "RNA_chemical.predict = RNA_chemical.predict.str.replace('//','|')\n",
    "RNA_chemical.predict = RNA_chemical.predict.str.lower()\n",
    "RNA_chemical.predict = [replace_with_ncit(item) for item in RNA_chemical.predict]"
   ]
  },
  {
   "cell_type": "code",
   "execution_count": null,
   "id": "60e4f508",
   "metadata": {},
   "outputs": [],
   "source": [
    "RNA_hisMod = pd.read_csv(unprocessed_data_location+'Download_data_RH.tar.gz',sep='\\t')\n",
    "RNA_hisMod"
   ]
  },
  {
   "cell_type": "code",
   "execution_count": null,
   "id": "065916df",
   "metadata": {},
   "outputs": [],
   "source": [
    "RNA_hisMod.strong = RNA_hisMod.strong.str.replace('//','|')\n",
    "RNA_hisMod.strong = RNA_hisMod.strong.str.lower()\n",
    "RNA_hisMod.strong = [replace_with_ncit(item) for item in RNA_hisMod.strong]\n",
    "\n",
    "RNA_hisMod.weak = RNA_hisMod.weak.str.replace('//','|')\n",
    "RNA_hisMod.weak = RNA_hisMod.weak.str.lower()\n",
    "RNA_hisMod.weak = [replace_with_ncit(item) for item in RNA_hisMod.weak]\n",
    "\n",
    "RNA_hisMod.predict = RNA_hisMod.predict.str.replace('//','|')\n",
    "RNA_hisMod.predict = RNA_hisMod.predict.str.lower()\n",
    "RNA_hisMod.predict = [replace_with_ncit(item) for item in RNA_hisMod.predict]"
   ]
  },
  {
   "cell_type": "markdown",
   "id": "33904bc6",
   "metadata": {},
   "source": [
    "# ncRDeathDB"
   ]
  },
  {
   "cell_type": "code",
   "execution_count": null,
   "id": "c9af4f53",
   "metadata": {},
   "outputs": [],
   "source": [
    "RNA_pDeath = pd.read_excel(unprocessed_data_location + 'allNcRNACelldeathData.xlsx', dtype={\"geneid\": \"string\"})\n",
    "RNA_pDeath"
   ]
  },
  {
   "cell_type": "code",
   "execution_count": null,
   "id": "4064c4eb",
   "metadata": {},
   "outputs": [],
   "source": [
    "print(RNA_pDeath.Action_Mode.unique())\n",
    "RNA_pDeath.Action_Mode = RNA_pDeath.Action_Mode.str.replace('updown', 'http://purl.obolibrary.org/obo/OMIT_0016489|http://purl.obolibrary.org/obo/OMIT_0016265')\n",
    "RNA_pDeath.Action_Mode = RNA_pDeath.Action_Mode.str.replace('down', 'http://purl.obolibrary.org/obo/OMIT_0016265')\n",
    "RNA_pDeath.Action_Mode = RNA_pDeath.Action_Mode.str.replace('dowm', 'http://purl.obolibrary.org/obo/OMIT_0016265')\n",
    "RNA_pDeath.Action_Mode = RNA_pDeath.Action_Mode.str.replace('up ed', 'http://purl.obolibrary.org/obo/OMIT_0016489')\n",
    "RNA_pDeath.Action_Mode = RNA_pDeath.Action_Mode.str.replace('up', 'http://purl.obolibrary.org/obo/OMIT_0016489')"
   ]
  },
  {
   "cell_type": "code",
   "execution_count": null,
   "id": "456a9d61",
   "metadata": {},
   "outputs": [],
   "source": [
    "print(RNA_pDeath.Tissue.unique())\n",
    "RNA_pDeath.Tissue = [replace_with_clo(item) for item in RNA_pDeath.Tissue]\n",
    "RNA_pDeath.Tissue = [replace_with_clo2(item) for item in RNA_pDeath.Tissue]"
   ]
  },
  {
   "cell_type": "markdown",
   "id": "5325641b",
   "metadata": {},
   "source": [
    "# cncRNAdb"
   ]
  },
  {
   "cell_type": "code",
   "execution_count": null,
   "id": "5c954df8",
   "metadata": {},
   "outputs": [],
   "source": [
    "RNA_anatomy = pd.read_excel(unprocessed_data_location + 'Translated ncRNA.xlsx')\n",
    "RNA_anatomy"
   ]
  },
  {
   "cell_type": "code",
   "execution_count": null,
   "id": "a3fbb823",
   "metadata": {},
   "outputs": [],
   "source": [
    "RNA_anatomy['In vivo/vitro assay'] = RNA_anatomy['In vivo/vitro assay'].str.lower()\n",
    "RNA_anatomy['In vivo/vitro assay'] = [replace_with_ncit(item) for item in RNA_anatomy['In vivo/vitro assay']]\n",
    "\n",
    "RNA_anatomy['Low-throughput method'] = RNA_anatomy['Low-throughput method'].str.replace(';','|')\n",
    "RNA_anatomy['Low-throughput method'] = RNA_anatomy['Low-throughput method'].str.lower()\n",
    "RNA_anatomy['Low-throughput method'] = [replace_with_ncit(item) for item in RNA_anatomy['Low-throughput method']]\n",
    "\n",
    "RNA_anatomy['High-throuput method'] = RNA_anatomy['High-throuput method'].str.replace(';','|')\n",
    "RNA_anatomy['High-throuput method'] = RNA_anatomy['High-throuput method'].str.lower()\n",
    "RNA_anatomy['High-throuput method'] = [replace_with_ncit(item) for item in RNA_anatomy['High-throuput method']]"
   ]
  },
  {
   "cell_type": "code",
   "execution_count": null,
   "id": "1eddc2be",
   "metadata": {},
   "outputs": [],
   "source": [
    "RNA_anatomy['In vivo/vitro assay'].unique()"
   ]
  },
  {
   "cell_type": "code",
   "execution_count": null,
   "id": "1a4a687b",
   "metadata": {},
   "outputs": [],
   "source": [
    "RNA_anatomy['Tissue/Cell'] = RNA_anatomy['Tissue/Cell'].str.replace(';','|')\n",
    "RNA_anatomy['Tissue/Cell'] = RNA_anatomy['Tissue/Cell'].str.lower()\n",
    "RNA_anatomy['Tissue/Cell'] = [replace_with_clo(item) for item in RNA_anatomy['Tissue/Cell']]\n",
    "RNA_anatomy['Tissue/Cell'] = [replace_with_clo2(item) for item in RNA_anatomy['Tissue/Cell']]\n",
    "RNA_anatomy['Tissue/Cell'].unique()"
   ]
  },
  {
   "cell_type": "code",
   "execution_count": null,
   "id": "468be8ac",
   "metadata": {},
   "outputs": [],
   "source": [
    "RNA_anatomy = pd.concat([pd.read_excel(unprocessed_data_location + 'Regulatory mRNA.xlsx'),\n",
    "    pd.read_excel(unprocessed_data_location + 'Scaffold mRNA.xlsx'),\n",
    "    pd.read_excel(unprocessed_data_location + 'Sponge mRNA.xlsx')])\n",
    "RNA_anatomy"
   ]
  },
  {
   "cell_type": "code",
   "execution_count": null,
   "id": "430c56e8",
   "metadata": {},
   "outputs": [],
   "source": [
    "RNA_anatomy['In vivo/vitro assay'] = RNA_anatomy['In vivo/vitro assay'].str.lower()\n",
    "RNA_anatomy['In vivo/vitro assay'] = [replace_with_ncit(item) for item in RNA_anatomy['In vivo/vitro assay']]\n",
    "\n",
    "RNA_anatomy['Low-throughput method'] = RNA_anatomy['Low-throughput method'].str.replace(';','|')\n",
    "RNA_anatomy['Low-throughput method'] = RNA_anatomy['Low-throughput method'].str.lower()\n",
    "RNA_anatomy['Low-throughput method'] = [replace_with_ncit(item) for item in RNA_anatomy['Low-throughput method']]\n",
    "\n",
    "RNA_anatomy['High-throuput method'] = RNA_anatomy['High-throuput method'].str.replace(';','|')\n",
    "RNA_anatomy['High-throuput method'] = RNA_anatomy['High-throuput method'].str.lower()\n",
    "RNA_anatomy['High-throuput method'] = [replace_with_ncit(item) for item in RNA_anatomy['High-throuput method']]\n",
    "\n",
    "RNA_anatomy['Tissue/Cell'] = RNA_anatomy['Tissue/Cell'].str.replace(';','|')\n",
    "RNA_anatomy['Tissue/Cell'] = RNA_anatomy['Tissue/Cell'].str.lower()\n",
    "RNA_anatomy['Tissue/Cell'] = [replace_with_clo(item) for item in RNA_anatomy['Tissue/Cell']]\n",
    "RNA_anatomy['Tissue/Cell'] = [replace_with_clo2(item) for item in RNA_anatomy['Tissue/Cell']]\n",
    "RNA_anatomy['Tissue/Cell'].unique()"
   ]
  },
  {
   "cell_type": "markdown",
   "id": "c90132ce",
   "metadata": {},
   "source": [
    "# Vesiclepedia"
   ]
  },
  {
   "cell_type": "code",
   "execution_count": null,
   "id": "53eb8edb",
   "metadata": {},
   "outputs": [],
   "source": [
    "experiments = pd.read_csv('http://microvesicles.org/Archive/VESICLEPEDIA_EXPERIMENT_DETAILS_4.1.txt', sep='\\t')\n",
    "protein_ev = pd.read_csv(unprocessed_data_location+'VESICLEPEDIA_PROTEIN_MRNA_DETAILS_4.1.txt', sep='\\t')\n",
    "protein_ev = pd.merge(protein_ev, experiments, on=['EXPERIMENT ID'])\n",
    "protein_ev"
   ]
  },
  {
   "cell_type": "code",
   "execution_count": null,
   "id": "3fb51d9f",
   "metadata": {
    "scrolled": true
   },
   "outputs": [],
   "source": [
    "protein_ev.SAMPLE = protein_ev.SAMPLE.str.lower()\n",
    "protein_ev.SAMPLE = protein_ev.SAMPLE.str.replace(';', '|')\n",
    "protein_ev.SAMPLE = protein_ev.SAMPLE.str.strip()\n",
    "protein_ev.SAMPLE = [replace_with_clo(item) for item in protein_ev.SAMPLE]\n",
    "protein_ev.SAMPLE = [replace_with_clo2(item) for item in protein_ev.SAMPLE]\n",
    "protein_ev.SAMPLE.unique()"
   ]
  },
  {
   "cell_type": "code",
   "execution_count": null,
   "id": "e8b4d502",
   "metadata": {},
   "outputs": [],
   "source": [
    "protein_ev['IDENTIFICATIONS'] = protein_ev['IDENTIFICATIONS'].str.replace('Proteins', 'http://purl.obolibrary.org/obo/PR_000000001')\n",
    "protein_ev['IDENTIFICATIONS'] = protein_ev['IDENTIFICATIONS'].str.replace('Protein ', 'http://purl.obolibrary.org/obo/PR_000000001')\n",
    "protein_ev['IDENTIFICATIONS'] = protein_ev['IDENTIFICATIONS'].str.replace('Protein', 'http://purl.obolibrary.org/obo/PR_000000001')\n",
    "protein_ev['IDENTIFICATIONS'] = protein_ev['IDENTIFICATIONS'].str.replace('PTM Ubiquitination', 'http://purl.obolibrary.org/obo/NCIT_C19358')\n",
    "protein_ev['IDENTIFICATIONS'] = protein_ev['IDENTIFICATIONS'].str.replace('Metabolites', 'http://purl.obolibrary.org/obo/NCIT_C61154')\n",
    "protein_ev['IDENTIFICATIONS'] = protein_ev['IDENTIFICATIONS'].str.replace('miRNA', 'http://purl.obolibrary.org/obo/SO_0000276')\n",
    "protein_ev['IDENTIFICATIONS'] = protein_ev['IDENTIFICATIONS'].str.replace('mRNA', 'http://purl.obolibrary.org/obo/SO_0000234')\n",
    "protein_ev['IDENTIFICATIONS'] = protein_ev['IDENTIFICATIONS'].str.replace('miRNA', 'http://purl.obolibrary.org/obo/SO_0000276')\n",
    "protein_ev['IDENTIFICATIONS'] = protein_ev['IDENTIFICATIONS'].str.replace('snRNA', 'http://purl.obolibrary.org/obo/SO_0000274')\n",
    "protein_ev['IDENTIFICATIONS'] = protein_ev['IDENTIFICATIONS'].str.replace('Lipids', 'http://purl.obolibrary.org/obo/CHEBI_18059')\n",
    "protein_ev['IDENTIFICATIONS'].unique()"
   ]
  },
  {
   "cell_type": "code",
   "execution_count": null,
   "id": "a8733109",
   "metadata": {},
   "outputs": [],
   "source": [
    "protein_ev['METHODS_y'] = protein_ev['METHODS_y'].str.lower()\n",
    "protein_ev['METHODS_y'] = [replace_with_ncit(item) for item in protein_ev['METHODS_y']] \n",
    "protein_ev.METHODS_y.unique()"
   ]
  },
  {
   "cell_type": "code",
   "execution_count": null,
   "id": "1123530f",
   "metadata": {},
   "outputs": [],
   "source": [
    "data_downloader('http://purl.obolibrary.org/obo/chmo.owl', ontology_data_location)\n",
    "\n",
    "chmo_graph = Graph().parse(ontology_data_location + 'chmo.owl')\n",
    "\n",
    "chmo_label = gets_ontology_class_label(chmo_graph)[0]\n",
    "chmo_dict = {str(k): {str(i).split('/')[-1] for i in v} for k, v in chmo_label.items()}\n",
    "list({**chmo_dict}.items())[:5]\n",
    "\n",
    "with open(unprocessed_data_location + 'DESC_chmo_MAP.txt', 'w') as outfile:\n",
    "    for k, v in {**chmo_dict}.items():\n",
    "        outfile.write(str(k) + '\\t' + str(v).replace('{','').replace('\\'','').replace('}','') + '\\n')\n",
    "\n",
    "desc_chmo_map = pd.read_csv(unprocessed_data_location+'DESC_chmo_MAP.txt', header=None, delimiter='\\t')\n",
    "desc_chmo_map[1] = desc_chmo_map[1].str.split(', ')\n",
    "desc_chmo_map = desc_chmo_map.explode(1)\n",
    "\n",
    "chmo_syn = gets_ontology_class_synonym(chmo_graph)[0]\n",
    "chmo_dict = {str(k): {str(i).split('/')[-1] for i in v} for k, v in chmo_syn.items()}\n",
    "\n",
    "with open(unprocessed_data_location + 'SYN_chmo_MAP.txt', 'w') as outfile:\n",
    "    for k, v in {**chmo_dict}.items():\n",
    "        outfile.write(str(k) + '\\t' + str(v).replace('{','').replace('\\'','').replace('}','') + '\\n')\n",
    "\n",
    "syn_chmo_map = pd.read_csv(unprocessed_data_location+'SYN_chmo_MAP.txt', header=None, delimiter='\\t')\n",
    "syn_chmo_map[1] = syn_chmo_map[1].str.split(', ')\n",
    "syn_chmo_map = syn_chmo_map.explode(1)\n",
    "desc_chmo_map = pd.concat([desc_chmo_map, syn_chmo_map], ignore_index=True)\n",
    "desc_chmo_map"
   ]
  },
  {
   "cell_type": "code",
   "execution_count": null,
   "id": "ad505135",
   "metadata": {},
   "outputs": [],
   "source": [
    "chmo_dict = dict(zip(desc_chmo_map[0], 'http://purl.obolibrary.org/obo/'+desc_chmo_map[1]))\n",
    "\n",
    "def replace_with_chmo(substring):\n",
    "    if pd.isna(substring):\n",
    "        return np.nan\n",
    "    else:\n",
    "        return '|'.join([chmo_dict.get(part, part) for part in substring.split('|')])\n",
    "\n",
    "protein_ev['ISOLATION METHOD'] = protein_ev['ISOLATION METHOD'].str.lower()\n",
    "protein_ev['ISOLATION METHOD'] = [replace_with_chmo(item) for item in protein_ev['ISOLATION METHOD']] \n",
    "protein_ev['ISOLATION METHOD'].unique()"
   ]
  },
  {
   "cell_type": "code",
   "execution_count": null,
   "id": "8b5f4f4b",
   "metadata": {},
   "outputs": [],
   "source": [
    "miRNA_ev = pd.read_csv(unprocessed_data_location+'VESICLEPEDIA_MIRNA_DETAILS_4.1.txt', sep='\\t')\n",
    "miRNA_ev = pd.merge(miRNA_ev, experiments, on=['EXPERIMENT ID'])\n",
    "miRNA_ev"
   ]
  },
  {
   "cell_type": "code",
   "execution_count": null,
   "id": "e49930f1",
   "metadata": {},
   "outputs": [],
   "source": [
    "miRNA_ev.SAMPLE = miRNA_ev.SAMPLE.str.lower()\n",
    "miRNA_ev.SAMPLE = miRNA_ev.SAMPLE.str.replace(';', '|')\n",
    "miRNA_ev.SAMPLE = miRNA_ev.SAMPLE.str.replace(r's$', '',regex=True)\n",
    "miRNA_ev.SAMPLE = miRNA_ev.SAMPLE.str.strip()\n",
    "miRNA_ev.SAMPLE = [replace_with_clo(item) for item in miRNA_ev.SAMPLE]\n",
    "miRNA_ev.SAMPLE = [replace_with_clo2(item) for item in miRNA_ev.SAMPLE]\n",
    "print(miRNA_ev.SAMPLE.unique())\n",
    "\n",
    "miRNA_ev['IDENTIFICATIONS'] = miRNA_ev['IDENTIFICATIONS'].str.replace('Proteins', 'http://purl.obolibrary.org/obo/PR_000000001')\n",
    "miRNA_ev['IDENTIFICATIONS'] = miRNA_ev['IDENTIFICATIONS'].str.replace('Protein ', 'http://purl.obolibrary.org/obo/PR_000000001')\n",
    "miRNA_ev['IDENTIFICATIONS'] = miRNA_ev['IDENTIFICATIONS'].str.replace('Protein', 'http://purl.obolibrary.org/obo/PR_000000001')\n",
    "miRNA_ev['IDENTIFICATIONS'] = miRNA_ev['IDENTIFICATIONS'].str.replace('PTM Ubiquitination', 'http://purl.obolibrary.org/obo/NCIT_C19358')\n",
    "miRNA_ev['IDENTIFICATIONS'] = miRNA_ev['IDENTIFICATIONS'].str.replace('Metabolites', 'http://purl.obolibrary.org/obo/NCIT_C61154')\n",
    "miRNA_ev['IDENTIFICATIONS'] = miRNA_ev['IDENTIFICATIONS'].str.replace('miRNA', 'http://purl.obolibrary.org/obo/SO_0000276')\n",
    "miRNA_ev['IDENTIFICATIONS'] = miRNA_ev['IDENTIFICATIONS'].str.replace('mRNA', 'http://purl.obolibrary.org/obo/SO_0000234')\n",
    "miRNA_ev['IDENTIFICATIONS'] = miRNA_ev['IDENTIFICATIONS'].str.replace('miRNA', 'http://purl.obolibrary.org/obo/SO_0000276')\n",
    "miRNA_ev['IDENTIFICATIONS'] = miRNA_ev['IDENTIFICATIONS'].str.replace('snRNA', 'http://purl.obolibrary.org/obo/SO_0000274')\n",
    "miRNA_ev['IDENTIFICATIONS'] = miRNA_ev['IDENTIFICATIONS'].str.replace('Lipids', 'http://purl.obolibrary.org/obo/CHEBI_18059')\n",
    "print(miRNA_ev['IDENTIFICATIONS'].unique())\n",
    "\n",
    "miRNA_ev['METHODS_y'] = miRNA_ev['METHODS_y'].str.lower()\n",
    "miRNA_ev['METHODS_y'] = [replace_with_ncit(item) for item in miRNA_ev['METHODS_y']] \n",
    "print(miRNA_ev.METHODS_y.unique())\n",
    "\n",
    "miRNA_ev['ISOLATION METHOD'] = miRNA_ev['ISOLATION METHOD'].str.lower()\n",
    "miRNA_ev['ISOLATION METHOD'] = [replace_with_chmo(item) for item in miRNA_ev['ISOLATION METHOD']] \n",
    "miRNA_ev['ISOLATION METHOD'].unique()"
   ]
  },
  {
   "cell_type": "code",
   "execution_count": null,
   "id": "f1ff5057",
   "metadata": {},
   "outputs": [],
   "source": [
    "lipid_ev = pd.read_csv(unprocessed_data_location+'VESICLEPEDIA_LIPID_DETAILS_4.1.txt', sep='\\t')\n",
    "lipid_ev = pd.merge(lipid_ev, experiments, on=['EXPERIMENT ID'])\n",
    "lipid_ev"
   ]
  },
  {
   "cell_type": "code",
   "execution_count": null,
   "id": "c7beaeb0",
   "metadata": {},
   "outputs": [],
   "source": [
    "lipid_ev.SAMPLE = lipid_ev.SAMPLE.str.lower()\n",
    "lipid_ev.SAMPLE = lipid_ev.SAMPLE.str.replace(';', '|')\n",
    "lipid_ev.SAMPLE = lipid_ev.SAMPLE.str.replace(r's$', '',regex=True)\n",
    "lipid_ev.SAMPLE = lipid_ev.SAMPLE.str.strip()\n",
    "lipid_ev.SAMPLE = [replace_with_clo(item) for item in lipid_ev.SAMPLE]\n",
    "lipid_ev.SAMPLE = [replace_with_clo2(item) for item in lipid_ev.SAMPLE]\n",
    "print(lipid_ev.SAMPLE.unique())\n",
    "\n",
    "lipid_ev['IDENTIFICATIONS'] = lipid_ev['IDENTIFICATIONS'].str.replace('Proteins', 'http://purl.obolibrary.org/obo/PR_000000001')\n",
    "lipid_ev['IDENTIFICATIONS'] = lipid_ev['IDENTIFICATIONS'].str.replace('Protein ', 'http://purl.obolibrary.org/obo/PR_000000001')\n",
    "lipid_ev['IDENTIFICATIONS'] = lipid_ev['IDENTIFICATIONS'].str.replace('Protein', 'http://purl.obolibrary.org/obo/PR_000000001')\n",
    "lipid_ev['IDENTIFICATIONS'] = lipid_ev['IDENTIFICATIONS'].str.replace('PTM Ubiquitination', 'http://purl.obolibrary.org/obo/NCIT_C19358')\n",
    "lipid_ev['IDENTIFICATIONS'] = lipid_ev['IDENTIFICATIONS'].str.replace('Metabolites', 'http://purl.obolibrary.org/obo/NCIT_C61154')\n",
    "lipid_ev['IDENTIFICATIONS'] = lipid_ev['IDENTIFICATIONS'].str.replace('miRNA', 'http://purl.obolibrary.org/obo/SO_0000276')\n",
    "lipid_ev['IDENTIFICATIONS'] = lipid_ev['IDENTIFICATIONS'].str.replace('mRNA', 'http://purl.obolibrary.org/obo/SO_0000234')\n",
    "lipid_ev['IDENTIFICATIONS'] = lipid_ev['IDENTIFICATIONS'].str.replace('miRNA', 'http://purl.obolibrary.org/obo/SO_0000276')\n",
    "lipid_ev['IDENTIFICATIONS'] = lipid_ev['IDENTIFICATIONS'].str.replace('snRNA', 'http://purl.obolibrary.org/obo/SO_0000274')\n",
    "lipid_ev['IDENTIFICATIONS'] = lipid_ev['IDENTIFICATIONS'].str.replace('Lipids', 'http://purl.obolibrary.org/obo/CHEBI_18059')\n",
    "print(lipid_ev['IDENTIFICATIONS'].unique())\n",
    "\n",
    "lipid_ev['METHODS_y'] = lipid_ev['METHODS_y'].str.lower()\n",
    "lipid_ev['METHODS_y'] = [replace_with_ncit(item) for item in lipid_ev['METHODS_y']] \n",
    "print(lipid_ev.METHODS_y.unique())\n",
    "\n",
    "lipid_ev['ISOLATION METHOD'] = lipid_ev['ISOLATION METHOD'].str.lower()\n",
    "lipid_ev['ISOLATION METHOD'] = [replace_with_chmo(item) for item in lipid_ev['ISOLATION METHOD']] \n",
    "lipid_ev['ISOLATION METHOD'].unique()"
   ]
  },
  {
   "cell_type": "markdown",
   "id": "b0e4d646",
   "metadata": {},
   "source": [
    "# DirectRMDB"
   ]
  },
  {
   "cell_type": "code",
   "execution_count": null,
   "id": "63bcc275",
   "metadata": {},
   "outputs": [],
   "source": [
    "DirectRMDB = pd.read_csv(unprocessed_data_location+'DirectRMDB.txt', sep='\\t')\n",
    "DirectRMDB2 = pd.read_csv(unprocessed_data_location+'HomoSapiens_miRNA.txt', sep='\\t')\n",
    "DirectRMDB = pd.merge(DirectRMDB, DirectRMDB2,on ='ID')\n",
    "DirectRMDB"
   ]
  },
  {
   "cell_type": "code",
   "execution_count": null,
   "id": "bf943125",
   "metadata": {},
   "outputs": [],
   "source": [
    "DirectRMDB.software = DirectRMDB.software.str.replace(';','|')\n",
    "DirectRMDB.software.unique()"
   ]
  },
  {
   "cell_type": "code",
   "execution_count": null,
   "id": "46df1bd5",
   "metadata": {},
   "outputs": [],
   "source": [
    "DirectRMDB.cell_line = DirectRMDB.cell_line.str.replace(';','|')\n",
    "DirectRMDB.cell_line = DirectRMDB.cell_line.str.lower()\n",
    "DirectRMDB.cell_line = DirectRMDB.cell_line.str.replace(';', '|')\n",
    "DirectRMDB.cell_line = [replace_with_clo(item) for item in DirectRMDB.cell_line]\n",
    "DirectRMDB.cell_line = [replace_with_clo2(item) for item in DirectRMDB.cell_line]\n",
    "DirectRMDB.cell_line.unique()"
   ]
  },
  {
   "cell_type": "markdown",
   "id": "868837a4",
   "metadata": {},
   "source": [
    "# Modomics"
   ]
  },
  {
   "cell_type": "code",
   "execution_count": null,
   "id": "a370325e",
   "metadata": {},
   "outputs": [],
   "source": [
    "modomics = pd.read_csv(unprocessed_data_location+'modomics.csv')\n",
    "modomics"
   ]
  },
  {
   "cell_type": "code",
   "execution_count": null,
   "id": "33255c61",
   "metadata": {},
   "outputs": [],
   "source": [
    "modomics['Disease Name'] = modomics['Disease Name'].str.lower()\n",
    "modomics['Disease Name'] = [replace_with_mondo(item) for item in modomics['Disease Name']]\n",
    "modomics['Disease Name'].unique()"
   ]
  }
 ],
 "metadata": {
  "kernelspec": {
   "display_name": "Python 3 (ipykernel)",
   "language": "python",
   "name": "python3"
  },
  "language_info": {
   "codemirror_mode": {
    "name": "ipython",
    "version": 3
   },
   "file_extension": ".py",
   "mimetype": "text/x-python",
   "name": "python",
   "nbconvert_exporter": "python",
   "pygments_lexer": "ipython3",
   "version": "3.9.7"
  }
 },
 "nbformat": 4,
 "nbformat_minor": 5
}
