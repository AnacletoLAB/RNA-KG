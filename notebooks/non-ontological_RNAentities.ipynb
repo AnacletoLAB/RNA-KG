{
 "cells": [
  {
   "cell_type": "markdown",
   "id": "4fc3f4a2",
   "metadata": {},
   "source": [
    "# <p style=\"text-align: center;\">RNA non-ontological entities</p>\n",
    "    \n",
    "***\n",
    "***\n",
    "\n",
    "**Authors:** [ECavalleri](https://mail.google.com/mail/u/0/?view=cm&fs=1&tf=1&to=emanuele.cavalleri@unimi.it), [TJCallahan](https://mail.google.com/mail/u/0/?view=cm&fs=1&tf=1&to=callahantiff@gmail.com)\n",
    "\n",
    "**GitHub Repositories:** [RNA-KG](https://github.com/AnacletoLAB/RNA-KG/), [PheKnowLator](https://github.com/callahantiff/PheKnowLator/)  \n",
    "<!--- **Release:** **[v2.0.0](https://github.com/callahantiff/PheKnowLator/wiki/v2.0.0)** --->\n",
    "  \n",
    "<br>  \n",
    "  \n",
    "**Purpose:** Non-ontological entities' identifiers **must** be added to PheKnowLator's `subclass_construction_map.pkl`. Proper classes have to be chosen and entities linked as their subClass(es).\n",
    "\n",
    "<br>\n",
    "\n",
    "**Assumptions:**   \n",
    "- [RNA-KG_preparation.ipynb](https://github.com/AnacletoLAB/RNA-KG/blob/main/notebooks/RNA-KG_Preparation.ipynb) notebook has already been run.\n",
    "- [inteRNA-KG_preparation.ipynb](https://github.com/AnacletoLAB/RNA-KG/blob/main/notebooks/inteRNA-KG_Preparation.ipynb) notebook has already been run.\n",
    "\n",
    "<br>\n",
    "\n",
    "**Dependencies:**   \n",
    "- **Scripts**: This notebook utilizes several helper functions, which are stored in the [`data_utils.py`](https://github.com/callahantiff/PheKnowLator/blob/master/pkt_kg/utils/data_utils.py) and [`kg_utils.py`](https://github.com/callahantiff/PheKnowLator/blob/master/pkt_kg/utils/kg_utils.py) scripts.  \n",
    "- **Data**: All downloaded and generated data sources are provided through [10.5281/zenodo.10078876](https://zenodo.org/doi/10.5281/zenodo.10078876) dedicated repository. <u>This notebook will download everything that is needed for you</u>.  \n",
    "_____\n",
    "***"
   ]
  },
  {
   "cell_type": "code",
   "execution_count": null,
   "id": "a975898a",
   "metadata": {},
   "outputs": [],
   "source": [
    "%%capture\n",
    "import sys\n",
    "!{sys.executable} -m pip install -r requirements.txt\n",
    "sys.path.append('../')\n",
    "# import needed libraries\n",
    "import datetime\n",
    "import glob\n",
    "import itertools\n",
    "import networkx\n",
    "import numpy\n",
    "import os\n",
    "import pickle\n",
    "import re\n",
    "import requests\n",
    "import tarfile\n",
    "import shutil\n",
    "import pandas as pd\n",
    "import numpy as np\n",
    "pd.set_option('display.max_columns', None)\n",
    "import re\n",
    "\n",
    "from collections import Counter\n",
    "from functools import reduce\n",
    "from rdflib import Graph, Namespace, URIRef, BNode, Literal\n",
    "from rdflib.namespace import OWL, RDF, RDFS\n",
    "from reactome2py import content\n",
    "from tqdm import tqdm\n",
    "from typing import Dict\n",
    "\n",
    "from pkt_kg.utils import * \n",
    "from builds.ontology_cleaning import *\n",
    "\n",
    "from typing import Tuple"
   ]
  },
  {
   "cell_type": "code",
   "execution_count": null,
   "id": "c0e2b0f4",
   "metadata": {},
   "outputs": [],
   "source": [
    "df = pd.DataFrame()\n",
    "    \n",
    "for file in os.listdir('../resources/edge_data/'):\n",
    "    if file.endswith('.txt'): # remove '.ipynb_checkpoints' from list\n",
    "        parts = file.split(\"-\")\n",
    "        z, w = parts[0], parts[1].replace('.txt','')\n",
    "        df = pd.concat([df, pd.DataFrame({'Interactor1 ID': [z], 'Interactor2 ID': [w]})])\n",
    "\n",
    "df['Relation (RO ID)'] = df['Interactor2 ID'].str.extract(r'(\\d+)$')\n",
    "df['Interactor2 ID'] = df['Interactor2 ID'].str.replace(r'(\\d+)$', '', regex=True)\n",
    "\n",
    "a = set(df['Interactor1 ID'])\n",
    "b = set(df['Interactor2 ID'])\n",
    "print(sorted(a.union(b)))"
   ]
  },
  {
   "cell_type": "code",
   "execution_count": null,
   "id": "f9330b4c",
   "metadata": {},
   "outputs": [],
   "source": [
    "# Provided by PKT ecosystem\n",
    "data_downloader('https://storage.googleapis.com/pheknowlator/current_build/data/processed_data/subclass_construction_map.pkl',\n",
    "                '../resources/construction_approach/')\n",
    "\n",
    "# Load data, print row count, and preview it\n",
    "nonO_data = pd.read_pickle(r'../resources/construction_approach/'+'subclass_construction_map.pkl')\n",
    "\n",
    "# For instance, ncbi IDs are mapped to appropriate SO Ontology entries\n",
    "list(nonO_data.items())[:5]"
   ]
  },
  {
   "cell_type": "markdown",
   "id": "88d03c7d",
   "metadata": {},
   "source": [
    "***\n",
    "### ASO sequences"
   ]
  },
  {
   "cell_type": "code",
   "execution_count": null,
   "id": "06ee80ce",
   "metadata": {},
   "outputs": [],
   "source": [
    "ASOnonO_data = pd.read_csv('../resources/edge_data/ASO-mRNA3002.txt',sep='\\t')['Oligo name in literature'].drop_duplicates()\n",
    "ASOnonO_data = pd.DataFrame(ASOnonO_data)\n",
    "ASOnonO_data['SO'] = [['SO_0000644']] * len(ASOnonO_data)\n",
    "ASOnonO_data = ASOnonO_data.set_index('Oligo name in literature').to_dict()\n",
    "nonO_data = {**nonO_data, **ASOnonO_data['SO']}"
   ]
  },
  {
   "cell_type": "code",
   "execution_count": null,
   "id": "d30d67c2",
   "metadata": {},
   "outputs": [],
   "source": [
    "list(nonO_data.items())[-5:]"
   ]
  },
  {
   "cell_type": "markdown",
   "id": "9d96c554",
   "metadata": {},
   "source": [
    "***\n",
    "### ASO drugs"
   ]
  },
  {
   "cell_type": "code",
   "execution_count": null,
   "id": "b57192ef",
   "metadata": {},
   "outputs": [],
   "source": [
    "ASOdnonO_data = pd.concat([pd.read_csv('../resources/edge_data/ASOd-mRNA2430.txt',sep='\\t')['DrugBank ID'],\n",
    "    pd.read_csv('../resources/edge_data/ASOd-disease2606.txt',sep='\\t')['DB ID'],\n",
    "    pd.read_csv('../resources/edge_data/ASOd-protein11007.txt',sep='\\t')['DrugBank ID'],\n",
    "    pd.read_csv('../resources/edge_data/ASOd-protein10002.txt',sep='\\t')['DrugBank ID']]).drop_duplicates()\n",
    "\n",
    "ASOdnonO_data = pd.DataFrame(ASOdnonO_data)\n",
    "ASOdnonO_data['SO'] = [['CHEBI_76720']] * len(ASOdnonO_data)\n",
    "ASOdnonO_data = ASOdnonO_data.set_index(0).to_dict()\n",
    "nonO_data = {**nonO_data, **ASOdnonO_data['SO']}"
   ]
  },
  {
   "cell_type": "markdown",
   "id": "081a4b7f",
   "metadata": {},
   "source": [
    "***\n",
    "### Aptamer drugs"
   ]
  },
  {
   "cell_type": "code",
   "execution_count": null,
   "id": "d1b780fb",
   "metadata": {},
   "outputs": [],
   "source": [
    "aptamerdnonO_data = pd.concat([pd.read_csv('../resources/edge_data/aptamerd-protein2436.txt',sep='\\t')['DrugBank ID'],\n",
    "    pd.read_csv('../resources/edge_data/aptamerd-disease2606.txt',sep='\\t')['DrugBank ID']]).drop_duplicates()\n",
    "\n",
    "aptamerdnonO_data = pd.DataFrame(aptamerdnonO_data)\n",
    "aptamerdnonO_data['SO'] = [['CHEBI_140490']] * len(aptamerdnonO_data)\n",
    "aptamerdnonO_data = aptamerdnonO_data.set_index('DrugBank ID').to_dict()\n",
    "nonO_data = {**nonO_data, **aptamerdnonO_data['SO']}"
   ]
  },
  {
   "cell_type": "markdown",
   "id": "e95d264e",
   "metadata": {},
   "source": [
    "***\n",
    "### Aptamer sequences"
   ]
  },
  {
   "cell_type": "code",
   "execution_count": null,
   "id": "a24351b7",
   "metadata": {},
   "outputs": [],
   "source": [
    "aptamernonO_data = pd.concat([pd.read_csv('../resources/edge_data/aptamer-protein2436.txt',sep='\\t')['Aptamer'],\n",
    "    pd.read_csv('../resources/edge_data/aptamer-chemical2436.txt',sep='\\t')['Aptamer']]).drop_duplicates()\n",
    "\n",
    "aptamernonO_data = pd.DataFrame(aptamernonO_data)\n",
    "aptamernonO_data['SO'] = [['CHEBI_140490']] * len(aptamernonO_data)\n",
    "aptamernonO_data = aptamernonO_data.set_index('Aptamer').to_dict()\n",
    "nonO_data = {**nonO_data, **aptamernonO_data['SO']}"
   ]
  },
  {
   "cell_type": "markdown",
   "id": "c178e150",
   "metadata": {},
   "source": [
    "***\n",
    "### circRNA sequences"
   ]
  },
  {
   "cell_type": "code",
   "execution_count": null,
   "id": "09be0c39",
   "metadata": {},
   "outputs": [],
   "source": [
    "circRNAnonO_data = pd.concat([pd.read_csv('../resources/edge_data/circRNA-disease3302.txt',sep='\\t')['circRNA'],\n",
    "    pd.read_csv('../resources/edge_data/circRNA-gocc1018.txt',sep='\\t')['circRNA'],\n",
    "    pd.read_csv('../resources/edge_data/circRNA-miRNA2434.txt',sep='\\t')['circRNA'],\n",
    "    pd.read_csv('../resources/edge_data/circRNA-premiRNA2434.txt',sep='\\t')['circRNA'],\n",
    "    pd.read_csv('../resources/edge_data/circRNA-protein2434.txt',sep='\\t')['circRNA'],\n",
    "    pd.read_csv('../resources/edge_data/circRNA-RBP2434.txt',sep='\\t')['circRNA'],\n",
    "    pd.read_csv('../resources/edge_data/circRNA-subCellularLocalization1025.txt',sep='\\t')['circRNA'],\n",
    "    pd.read_csv('../resources/edge_data/circRNA-TF2434.txt',sep='\\t')['circRNA']]).drop_duplicates()\n",
    "\n",
    "circRNAnonO_data = pd.DataFrame(circRNAnonO_data)\n",
    "circRNAnonO_data['SO'] = [['SO_0002291']] * len(circRNAnonO_data)\n",
    "circRNAnonO_data = circRNAnonO_data.set_index('circRNA').to_dict()\n",
    "nonO_data = {**nonO_data, **circRNAnonO_data['SO']}"
   ]
  },
  {
   "cell_type": "markdown",
   "id": "e08aa328",
   "metadata": {},
   "source": [
    "***\n",
    "### gRNA sequences"
   ]
  },
  {
   "cell_type": "code",
   "execution_count": null,
   "id": "92af0508",
   "metadata": {},
   "outputs": [],
   "source": [
    "gRNAnonO_data = pd.read_csv('../resources/edge_data/gRNA-gene11007.txt',sep='\\t')['Plasmid ID'].drop_duplicates()\n",
    "\n",
    "gRNAnonO_data = pd.DataFrame(gRNAnonO_data)\n",
    "gRNAnonO_data['SO'] = [['SO_0000602']] * len(gRNAnonO_data)\n",
    "gRNAnonO_data = gRNAnonO_data.set_index('Plasmid ID').to_dict()\n",
    "nonO_data = {**nonO_data, **gRNAnonO_data['SO']}"
   ]
  },
  {
   "cell_type": "markdown",
   "id": "968a2027",
   "metadata": {},
   "source": [
    "***\n",
    "### lncRNA sequences"
   ]
  },
  {
   "cell_type": "code",
   "execution_count": null,
   "id": "7b4b4097",
   "metadata": {},
   "outputs": [],
   "source": [
    "lncRNAnonO_data = pd.concat([\n",
    "    pd.read_csv('../resources/edge_data/lncRNA-go1025.txt',sep='\\t')['lncRNA'],\n",
    "    pd.read_csv('../resources/edge_data/lncRNA-go2263.txt',sep='\\t')['lncRNA'],\n",
    "    pd.read_csv('../resources/edge_data/lncRNA-go2327.txt',sep='\\t')['lncRNA'],\n",
    "    pd.read_csv('../resources/edge_data/lncRNA-go2331.txt',sep='\\t')['lncRNA'],\n",
    "    pd.read_csv('../resources/edge_data/lncRNA-go2432.txt',sep='\\t')['lncRNA'],\n",
    "    pd.read_csv('../resources/edge_data/lncRNA-go4033.txt',sep='\\t')['lncRNA'],\n",
    "    pd.read_csv('../resources/edge_data/lncRNA-goBFO50.txt',sep='\\t')['lncRNA'],\n",
    "    pd.read_csv('../resources/edge_data/lncRNA-histoneModification2434.txt',sep='\\t')['lncRNA'],\n",
    "    pd.read_csv('../resources/edge_data/lncRNA-biologicalContext2245.txt',sep='\\t')['lncRNA'],\n",
    "    pd.read_csv('../resources/edge_data/lncRNA-rRNA2434.txt',sep='\\t')['lncRNA'],\n",
    "    pd.read_csv('../resources/edge_data/lncRNA-mRNA2434.txt',sep='\\t')['lncRNA'],\n",
    "    pd.read_csv('../resources/edge_data/lncRNA-biologicalContext2291.txt',sep='\\t')['lncRNA'],\n",
    "    pd.read_csv('../resources/edge_data/lncRNA-TF2434.txt',sep='\\t')['lncRNA'],\n",
    "    pd.read_csv('../resources/edge_data/lncRNA-lncRNA2434.txt',sep='\\t')['lncRNA1'],\n",
    "    pd.read_csv('../resources/edge_data/lncRNA-lncRNA2434.txt',sep='\\t')['lncRNA2'],\n",
    "    pd.read_csv('../resources/edge_data/lncRNA-ribozyme2434.txt',sep='\\t')['lncRNA'],\n",
    "    pd.read_csv('../resources/edge_data/lncRNA-subCellularLocalization1025.txt',sep='\\t')['lncRNA'],\n",
    "    pd.read_csv('../resources/edge_data/lncRNA-pDeath56.txt',sep='\\t')['lncRNA'],\n",
    "    pd.read_csv('../resources/edge_data/lncRNA-pseudogene2434.txt',sep='\\t')['lncRNA'],\n",
    "    pd.read_csv('../resources/edge_data/lncRNA-protein2434.txt',sep='\\t')['lncRNA'],\n",
    "    pd.read_csv('../resources/edge_data/lncRNA-viralProtein2434.txt',sep='\\t')['lncRNA'],\n",
    "    pd.read_csv('../resources/edge_data/lncRNA-chemical2434.txt',sep='\\t')['lncRNA'],\n",
    "    pd.read_csv('../resources/edge_data/lncRNA-disease3302.txt',sep='\\t')['lncRNA'],\n",
    "    pd.read_csv('../resources/edge_data/lncRNA-gocc1018.txt',sep='\\t')['lncRNA'],\n",
    "    pd.read_csv('../resources/edge_data/lncRNA-ncRNA2434.txt',sep='\\t')['lncRNA'],\n",
    "    pd.read_csv('../resources/edge_data/lncRNA-gobp56.txt',sep='\\t')['lncRNA'],\n",
    "    pd.read_csv('../resources/edge_data/lncRNA-biologicalContext2246.txt',sep='\\t')['lncRNA'],\n",
    "    pd.read_csv('../resources/edge_data/lncRNA-gene2434.txt',sep='\\t')['lncRNA'],\n",
    "    pd.read_csv('../resources/edge_data/lncRNA-viralmiRNA2434.txt',sep='\\t')['lncRNA'],\n",
    "    pd.read_csv('../resources/edge_data/lncRNA-role2260.txt',sep='\\t')['lncRNA'],\n",
    "    pd.read_csv('../resources/edge_data/lncRNA-RBP2434.txt',sep='\\t')['lncRNA'],\n",
    "    pd.read_csv('../resources/edge_data/lncRNA-cell1025.txt',sep='\\t')['lncRNA'],\n",
    "    pd.read_csv('../resources/edge_data/lncRNA-scaRNA2434.txt',sep='\\t')['lncRNA'],\n",
    "    pd.read_csv('../resources/edge_data/lncRNA-viralmRNA2434.txt',sep='\\t')['lncRNA'],\n",
    "    pd.read_csv('../resources/edge_data/lncRNA-pw56.txt',sep='\\t')['lncRNA'],\n",
    "    pd.read_csv('../resources/edge_data/lncRNA-anatomy1025.txt',sep='\\t')['lncRNA'],\n",
    "    pd.read_csv('../resources/edge_data/premiRNA-lncRNA2434.txt',sep='\\t')['lncRNA'],\n",
    "    pd.read_csv('../resources/edge_data/piRNA-lncRNA2434.txt',sep='\\t')['lncRNA'],\n",
    "    pd.read_csv('../resources/edge_data/miRNA-lncRNA2434.txt',sep='\\t')['lncRNA'],\n",
    "    pd.read_csv('../resources/edge_data/PCG-lncRNA2434.txt',sep='\\t')['lncRNA'],\n",
    "    pd.read_csv('../resources/edge_data/othersRNA-lncRNA2434.txt',sep='\\t')['lncRNA'],\n",
    "    pd.read_csv('../resources/edge_data/snoRNA-lncRNA2434.txt',sep='\\t')['lncRNA'],\n",
    "    pd.read_csv('../resources/edge_data/smallProtein-lncRNA2204.txt',sep='\\t')['lncRNA'],\n",
    "    pd.read_csv('../resources/edge_data/tRF-lncRNA2434.txt',sep='\\t')['lncRNA'],\n",
    "    pd.read_csv('../resources/edge_data/tRNA-lncRNA2434.txt',sep='\\t')['lncRNA']]).drop_duplicates()\n",
    "\n",
    "lncRNAnonO_data = pd.DataFrame(lncRNAnonO_data)\n",
    "lncRNAnonO_data['SO'] = [['SO_0001877']] * len(lncRNAnonO_data)\n",
    "lncRNAnonO_data = lncRNAnonO_data.set_index(0).to_dict()\n",
    "nonO_data = {**nonO_data, **lncRNAnonO_data['SO']}"
   ]
  },
  {
   "cell_type": "markdown",
   "id": "d650eaa4",
   "metadata": {},
   "source": [
    "***\n",
    "### miRNA sequences"
   ]
  },
  {
   "cell_type": "code",
   "execution_count": null,
   "id": "bd5a8922",
   "metadata": {},
   "outputs": [],
   "source": [
    "mirna_mirbase_map = pd.read_csv('../resources/processed_data/MIRNA_MIRBASE_MAP.txt', header=None, names=[1,0], sep='\\t')\n",
    "\n",
    "mature_mirna = mirna_mirbase_map[mirna_mirbase_map[0].str.startswith('MIMAT')]\n",
    "mature_mirna['SO'] = [['SO_0000276']] * len(mature_mirna)\n",
    "\n",
    "pre_mirna = mirna_mirbase_map[~mirna_mirbase_map[0].str.startswith('MIMAT')]\n",
    "pre_mirna['SO'] = [['SO_0000647']] * len(pre_mirna)\n",
    "\n",
    "mirna_mirbase_map = pd.concat([mature_mirna, pre_mirna])\n",
    "\n",
    "mirna_nonO = mirna_mirbase_map.drop(1, axis=1).set_index(0).to_dict()\n",
    "nonO_data = {**nonO_data, **mirna_nonO['SO']}"
   ]
  },
  {
   "cell_type": "markdown",
   "id": "68a8f2ea",
   "metadata": {},
   "source": [
    "***\n",
    "### mRNA vaccines sequences"
   ]
  },
  {
   "cell_type": "code",
   "execution_count": null,
   "id": "effd0e7a",
   "metadata": {},
   "outputs": [],
   "source": [
    "mRNAvnonO_data = pd.read_csv('../resources/edge_data/mRNAv-disease2606.txt',sep='\\t')['DrugBank ID'].drop_duplicates()\n",
    "\n",
    "mRNAvnonO_data = pd.DataFrame(mRNAvnonO_data)\n",
    "mRNAvnonO_data['SO'] = [['VO_0000186']] * len(mRNAvnonO_data)\n",
    "mRNAvnonO_data = mRNAvnonO_data.set_index('DrugBank ID').to_dict()\n",
    "nonO_data = {**nonO_data, **mRNAvnonO_data['SO']}"
   ]
  },
  {
   "cell_type": "markdown",
   "id": "029a274a",
   "metadata": {},
   "source": [
    "***\n",
    "### scaRNA sequences"
   ]
  },
  {
   "cell_type": "code",
   "execution_count": null,
   "id": "7c697a0a",
   "metadata": {},
   "outputs": [],
   "source": [
    "scaRNAnonO_data = pd.concat([\n",
    "    pd.read_csv('../resources/edge_data/scaRNA-go1025.txt',sep='\\t')['scaRNA'],\n",
    "    pd.read_csv('../resources/edge_data/scaRNA-go2331.txt',sep='\\t')['scaRNA'],\n",
    "    pd.read_csv('../resources/edge_data/scaRNA-TF2434.txt',sep='\\t')['scaRNA'],\n",
    "    pd.read_csv('../resources/edge_data/scaRNA-RBP2434.txt',sep='\\t')['scaRNA'],\n",
    "    pd.read_csv('../resources/edge_data/miRNA-scaRNA2434.txt',sep='\\t')['scaRNA'],\n",
    "    pd.read_csv('../resources/edge_data/scaRNA-epiMod2434.txt',sep='\\t')['scaRNA'],\n",
    "    pd.read_csv('../resources/edge_data/snoRNA-scaRNA2434.txt',sep='\\t')['scaRNA'],\n",
    "    pd.read_csv('../resources/edge_data/scaRNA-subCellularLocalization1025.txt',sep='\\t')['scaRNA'],\n",
    "    pd.read_csv('../resources/edge_data/mRNA-scaRNA2434.txt',sep='\\t')['scaRNA'],\n",
    "    pd.read_csv('../resources/edge_data/lncRNA-scaRNA2434.txt',sep='\\t')['scaRNA']]).drop_duplicates()\n",
    "\n",
    "scaRNAnonO_data = pd.DataFrame(scaRNAnonO_data)\n",
    "scaRNAnonO_data['SO'] = [['SO_0002095']] * len(scaRNAnonO_data)\n",
    "scaRNAnonO_data = scaRNAnonO_data.set_index('scaRNA').to_dict()\n",
    "nonO_data = {**nonO_data, **scaRNAnonO_data['SO']}"
   ]
  },
  {
   "cell_type": "markdown",
   "id": "70483413",
   "metadata": {},
   "source": [
    "***\n",
    "### scRNA sequences"
   ]
  },
  {
   "cell_type": "code",
   "execution_count": null,
   "id": "1349f4e8",
   "metadata": {},
   "outputs": [],
   "source": [
    "scRNAnonO_data = pd.concat([\n",
    "    pd.read_csv('../resources/edge_data/scRNA-goBFO50.txt',sep='\\t')['scRNA'],\n",
    "    pd.read_csv('../resources/edge_data/scRNA-go2331.txt',sep='\\t')['scRNA'],\n",
    "    pd.read_csv('../resources/edge_data/scRNA-disease3302.txt',sep='\\t')['scRNA'],\n",
    "    pd.read_csv('../resources/edge_data/scRNA-viralmiRNA2434.txt',sep='\\t')['scRNA'],\n",
    "    pd.read_csv('../resources/edge_data/scRNA-protein2434.txt',sep='\\t')['scRNA'],\n",
    "    pd.read_csv('../resources/edge_data/miRNA-scRNA2434.txt',sep='\\t')['scRNA'],\n",
    "    pd.read_csv('../resources/edge_data/scRNA-mRNA2434.txt',sep='\\t')['scRNA'],\n",
    "    pd.read_csv('../resources/edge_data/scRNA-RBP2434.txt',sep='\\t')['scRNA'],\n",
    "    pd.read_csv('../resources/edge_data/scRNA-subCellularLocalization1025.txt',sep='\\t')['scRNA']]).drop_duplicates()\n",
    "\n",
    "scRNAnonO_data = pd.DataFrame(scRNAnonO_data)\n",
    "scRNAnonO_data['SO'] = [['SO_0000013']] * len(scRNAnonO_data)\n",
    "scRNAnonO_data = scRNAnonO_data.set_index('scRNA').to_dict()\n",
    "nonO_data = {**nonO_data, **scRNAnonO_data['SO']}"
   ]
  },
  {
   "cell_type": "markdown",
   "id": "6870bddd",
   "metadata": {},
   "source": [
    "***\n",
    "### snRNA sequences"
   ]
  },
  {
   "cell_type": "code",
   "execution_count": null,
   "id": "e636ca15",
   "metadata": {},
   "outputs": [],
   "source": [
    "snRNAnonO_data = pd.concat([\n",
    "    pd.read_csv('../resources/edge_data/snRNA-goBFO50.txt',sep='\\t')['snRNA'],\n",
    "    pd.read_csv('../resources/edge_data/snRNA-go2331.txt',sep='\\t')['snRNA'],\n",
    "    pd.read_csv('../resources/edge_data/snRNA-go2327.txt',sep='\\t')['snRNA'],\n",
    "    pd.read_csv('../resources/edge_data/snRNA-mRNA2434.txt',sep='\\t')['snRNA'],\n",
    "    pd.read_csv('../resources/edge_data/snRNA-viralmiRNA2434.txt',sep='\\t')['snRNA'],\n",
    "    pd.read_csv('../resources/edge_data/snRNA-protein2434.txt',sep='\\t')['snRNA'],\n",
    "    pd.read_csv('../resources/edge_data/snoRNA-snRNA2434.txt',sep='\\t')['snRNA'],\n",
    "    pd.read_csv('../resources/edge_data/snRNA-snRNA2434.txt',sep='\\t')['snRNA1'],\n",
    "    pd.read_csv('../resources/edge_data/snRNA-snRNA2434.txt',sep='\\t')['snRNA2'],\n",
    "    pd.read_csv('../resources/edge_data/snRNA-ev1018.txt',sep='\\t')['snRNA'],\n",
    "    pd.read_csv('../resources/edge_data/snRNA-RBP2434.txt',sep='\\t')['snRNA'],\n",
    "    pd.read_csv('../resources/edge_data/snRNA-disease3302.txt',sep='\\t')['snRNA'],\n",
    "    pd.read_csv('../resources/edge_data/miRNA-snRNA2434.txt',sep='\\t')['snRNA'],\n",
    "    pd.read_csv('../resources/edge_data/snRNA-pseudogene2434.txt',sep='\\t')['snRNA'],\n",
    "    pd.read_csv('../resources/edge_data/snRNA-subCellularLocalization1025.txt',sep='\\t')['snRNA'],\n",
    "    pd.read_csv('../resources/edge_data/snRNA-TF2434.txt',sep='\\t')['snRNA'],\n",
    "    pd.read_csv('../resources/edge_data/snRNA-viralmRNA2434.txt',sep='\\t')['snRNA']]).drop_duplicates()\n",
    "\n",
    "snRNAnonO_data = pd.DataFrame(snRNAnonO_data)\n",
    "snRNAnonO_data['SO'] = [['SO_0000274']] * len(snRNAnonO_data)\n",
    "snRNAnonO_data = snRNAnonO_data.set_index(0).to_dict()\n",
    "nonO_data = {**nonO_data, **snRNAnonO_data['SO']}"
   ]
  },
  {
   "cell_type": "markdown",
   "id": "9466f121",
   "metadata": {},
   "source": [
    "***\n",
    "### tRNA sequences"
   ]
  },
  {
   "cell_type": "code",
   "execution_count": null,
   "id": "6b97c8ba",
   "metadata": {},
   "outputs": [],
   "source": [
    "tRNAnonO_data = pd.concat([\n",
    "    pd.read_csv('../resources/edge_data/tRNA-go2331.txt',sep='\\t')['tRNA'],\n",
    "    pd.read_csv('../resources/edge_data/tRNA-go2327.txt',sep='\\t')['tRNA'],\n",
    "    pd.read_csv('../resources/edge_data/tRNA-subCellularLocalization1025.txt',sep='\\t')['tRNA'],\n",
    "    pd.read_csv('../resources/edge_data/snoRNA-tRNA2434.txt',sep='\\t')['tRNA'],\n",
    "    pd.read_csv('../resources/edge_data/tRNA-mRNA_gtRNA2434.txt',sep='\\t')['tRNA'],\n",
    "    pd.read_csv('../resources/edge_data/tRNA-TF2434.txt',sep='\\t')['tRNA'],\n",
    "    pd.read_csv('../resources/edge_data/tRNA-aminoacid2436.txt',sep='\\t')['tRNA'],\n",
    "    pd.read_csv('../resources/edge_data/tRF-tRNA_MINTbase2202.txt',sep='\\t')['tRNA'],\n",
    "    pd.read_csv('../resources/edge_data/tRF-tRNA_tRFdb2202.txt',sep='\\t')['tRNA'],\n",
    "    pd.read_csv('../resources/edge_data/tRNA-lncRNA2434.txt',sep='\\t')['tRNA'],\n",
    "    pd.read_csv('../resources/edge_data/tRNA-mRNA_NCBI2434.txt',sep='\\t')['tRNA'],\n",
    "    pd.read_csv('../resources/edge_data/tRNA-modification2434.txt',sep='\\t')['tRNA']]).drop_duplicates()\n",
    "\n",
    "tRNAnonO_data = pd.DataFrame(tRNAnonO_data)\n",
    "tRNAnonO_data['SO'] = [['SO_0000253']] * len(tRNAnonO_data)\n",
    "tRNAnonO_data = tRNAnonO_data.set_index('tRNA').to_dict()\n",
    "nonO_data = {**nonO_data, **tRNAnonO_data['SO']}"
   ]
  },
  {
   "cell_type": "markdown",
   "id": "a97744f6",
   "metadata": {},
   "source": [
    "***\n",
    "### Retained intron sequences"
   ]
  },
  {
   "cell_type": "code",
   "execution_count": null,
   "id": "6a8a07a7",
   "metadata": {},
   "outputs": [],
   "source": [
    "rinonO_data = pd.read_csv('../resources/edge_data/snoRNA-retainedIntron2434.txt',sep='\\t')['Retained intron'].drop_duplicates()\n",
    "\n",
    "rinonO_data = pd.DataFrame(rinonO_data)\n",
    "rinonO_data['SO'] = [['SO_0000188']] * len(rinonO_data)\n",
    "rinonO_data = rinonO_data.set_index('Retained intron').to_dict()\n",
    "nonO_data = {**nonO_data, **rinonO_data['SO']}"
   ]
  },
  {
   "cell_type": "markdown",
   "id": "6ba2d3ec",
   "metadata": {},
   "source": [
    "***\n",
    "### rRNA sequences"
   ]
  },
  {
   "cell_type": "code",
   "execution_count": null,
   "id": "73aa779e",
   "metadata": {},
   "outputs": [],
   "source": [
    "rRNAnonO_data = pd.concat([\n",
    "    pd.read_csv('../resources/edge_data/rRNA-go2327.txt',sep='\\t')['rRNA'],\n",
    "    pd.read_csv('../resources/edge_data/rRNA-go1025.txt',sep='\\t')['rRNA'],\n",
    "    pd.read_csv('../resources/edge_data/pseudogene-rRNA2434.txt',sep='\\t')['rRNA'],\n",
    "    pd.read_csv('../resources/edge_data/lncRNA-rRNA2434.txt',sep='\\t')['rRNA'],\n",
    "    pd.read_csv('../resources/edge_data/othersRNA-rRNA2434.txt',sep='\\t')['rRNA'],\n",
    "    pd.read_csv('../resources/edge_data/snoRNA-rRNA2434.txt',sep='\\t')['rRNA'],\n",
    "    pd.read_csv('../resources/edge_data/rRNA-RBP2434.txt',sep='\\t')['rRNA'],\n",
    "    pd.read_csv('../resources/edge_data/rRNA-rRNA2434.txt',sep='\\t')['rRNA1'],\n",
    "    pd.read_csv('../resources/edge_data/rRNA-rRNA2434.txt',sep='\\t')['rRNA2'],\n",
    "    pd.read_csv('../resources/edge_data/rRNA-subCellularLocalization1025.txt',sep='\\t')['rRNA'],\n",
    "    pd.read_csv('../resources/edge_data/mRNA-rRNA2434.txt',sep='\\t')['rRNA'],\n",
    "    pd.read_csv('../resources/edge_data/rRNA-TF2434.txt',sep='\\t')['rRNA']]).drop_duplicates()\n",
    "\n",
    "rRNAnonO_data = pd.DataFrame(rRNAnonO_data)\n",
    "rRNAnonO_data['SO'] = [['SO_0000252']] * len(rRNAnonO_data)\n",
    "rRNAnonO_data = rRNAnonO_data.set_index(0).to_dict()\n",
    "nonO_data = {**nonO_data, **rRNAnonO_data['SO']}"
   ]
  },
  {
   "cell_type": "markdown",
   "id": "b9b42621",
   "metadata": {},
   "source": [
    "***\n",
    "### miscRNA sequences"
   ]
  },
  {
   "cell_type": "code",
   "execution_count": null,
   "id": "2429c650",
   "metadata": {},
   "outputs": [],
   "source": [
    "unknownRNAnonO_data = pd.read_csv('../resources/edge_data/snoRNA-miscRNA2434.txt',sep='\\t')['miscRNA'].drop_duplicates()\n",
    "\n",
    "unknownRNAnonO_data = pd.DataFrame(unknownRNAnonO_data)\n",
    "unknownRNAnonO_data['SO'] = [['SO_0000356']] * len(unknownRNAnonO_data)\n",
    "unknownRNAnonO_data = unknownRNAnonO_data.set_index('miscRNA').to_dict()\n",
    "nonO_data = {**nonO_data, **unknownRNAnonO_data['SO']}"
   ]
  },
  {
   "cell_type": "markdown",
   "id": "2d19ee5a",
   "metadata": {},
   "source": [
    "***\n",
    "### mRNA sequences"
   ]
  },
  {
   "cell_type": "code",
   "execution_count": null,
   "id": "dd7260a8",
   "metadata": {},
   "outputs": [],
   "source": [
    "mRNAnonO_data = pd.concat([pd.read_csv('../resources/edge_data/mRNA-TF2434.txt',sep='\\t')['mRNA'],\n",
    "    pd.read_csv('../resources/edge_data/mRNA-viralmiRNA2434.txt',sep='\\t')['mRNA'],\n",
    "    pd.read_csv('../resources/edge_data/mRNA-histoneModification2434.txt',sep='\\t')['mRNA'],\n",
    "    pd.read_csv('../resources/edge_data/mRNA-mRNA2434.txt',sep='\\t')['mRNA1'],\n",
    "    pd.read_csv('../resources/edge_data/mRNA-protein2434.txt',sep='\\t')['mRNA'],\n",
    "    pd.read_csv('../resources/edge_data/mRNA-disease3302.txt',sep='\\t')['mRNA'],\n",
    "    pd.read_csv('../resources/edge_data/mRNA-ncRNA2434.txt',sep='\\t')['mRNA'],\n",
    "    pd.read_csv('../resources/edge_data/mRNA-RBP2434.txt',sep='\\t')['mRNA'],\n",
    "    pd.read_csv('../resources/edge_data/mRNA-ev1018.txt',sep='\\t')['mRNA'],\n",
    "    pd.read_csv('../resources/edge_data/mRNA-scaRNA2434.txt',sep='\\t')['mRNA'],\n",
    "    pd.read_csv('../resources/edge_data/mRNA-viralnsRNA2434.txt',sep='\\t')['mRNA'],\n",
    "    pd.read_csv('../resources/edge_data/mRNA-subCellularLocalization1025.txt',sep='\\t')['mRNA'],\n",
    "    pd.read_csv('../resources/edge_data/mRNA-rRNA2434.txt',sep='\\t')['mRNA'],\n",
    "    pd.read_csv('../resources/edge_data/mRNA-chemical2434.txt',sep='\\t')['mRNA'],\n",
    "    pd.read_csv('../resources/edge_data/mRNA-gene2434.txt',sep='\\t')['mRNA'],\n",
    "    pd.read_csv('../resources/edge_data/mRNA-cell1025.txt',sep='\\t')['mRNA'],\n",
    "    pd.read_csv('../resources/edge_data/mRNA-anatomy1025.txt',sep='\\t')['mRNA'],\n",
    "    pd.read_csv('../resources/edge_data/pseudogene-mRNA2434.txt',sep='\\t')['mRNA'],\n",
    "    pd.read_csv('../resources/edge_data/snRNA-mRNA2434.txt',sep='\\t')['mRNA'],\n",
    "    pd.read_csv('../resources/edge_data/lncRNA-mRNA2434.txt',sep='\\t')['mRNA'],\n",
    "    pd.read_csv('../resources/edge_data/piRNA-mRNA2434.txt',sep='\\t')['mRNA'],\n",
    "    pd.read_csv('../resources/edge_data/tRNA-mRNA_gtRNA2434.txt',sep='\\t')['mRNA'],\n",
    "    pd.read_csv('../resources/edge_data/ASO-mRNA3002.txt',sep='\\t')['mRNA'],\n",
    "    pd.read_csv('../resources/edge_data/mRNA-mRNA2434.txt',sep='\\t')['mRNA2'],\n",
    "    pd.read_csv('../resources/edge_data/tRF-mRNA2434.txt',sep='\\t')['mRNA'],\n",
    "    pd.read_csv('../resources/edge_data/snoRNA-mRNA2434.txt',sep='\\t')['mRNA'],\n",
    "    pd.read_csv('../resources/edge_data/miRNA-mRNA11002.txt',sep='\\t')['mRNA'],\n",
    "    pd.read_csv('../resources/edge_data/miRNA-mRNA2434.txt',sep='\\t')['mRNA'],\n",
    "    pd.read_csv('../resources/edge_data/siRNAd-mRNA2430.txt',sep='\\t')['mRNA'],\n",
    "    pd.read_csv('../resources/edge_data/othersRNA-mRNA2434.txt',sep='\\t')['mRNA'],\n",
    "    pd.read_csv('../resources/edge_data/shRNA-mRNA2430.txt',sep='\\t')['mRNA'],\n",
    "    pd.read_csv('../resources/edge_data/scRNA-mRNA2434.txt',sep='\\t')['mRNA'],\n",
    "    pd.read_csv('../resources/edge_data/ASOd-mRNA2430.txt',sep='\\t')['mRNA'],\n",
    "    pd.read_csv('../resources/edge_data/premiRNA-mRNA11002.txt',sep='\\t')['mRNA'],\n",
    "    pd.read_csv('../resources/edge_data/eRNA-mRNA2434.txt',sep='\\t')['mRNA'],\n",
    "    pd.read_csv('../resources/edge_data/premiRNA-mRNA2434.txt',sep='\\t')['mRNA'],\n",
    "    pd.read_csv('../resources/edge_data/siRNA-mRNA2430.txt',sep='\\t')['mRNA'],\n",
    "    pd.read_csv('../resources/edge_data/tRNA-mRNA_NCBI2434.txt',sep='\\t')['mRNA']]).drop_duplicates()\n",
    "\n",
    "mRNAnonO_data = pd.DataFrame(mRNAnonO_data)\n",
    "mRNAnonO_data['SO'] = [['SO_0000234']] * len(mRNAnonO_data)\n",
    "mRNAnonO_data = mRNAnonO_data.set_index(0).to_dict()\n",
    "nonO_data = {**nonO_data, **mRNAnonO_data['SO']}"
   ]
  },
  {
   "cell_type": "markdown",
   "id": "d3fb2bfd",
   "metadata": {},
   "source": [
    "***\n",
    "### TEC sequences"
   ]
  },
  {
   "cell_type": "code",
   "execution_count": null,
   "id": "7b8b6708",
   "metadata": {},
   "outputs": [],
   "source": [
    "TECnonO_data = pd.read_csv('../resources/edge_data/TEC-chemical2434.txt',sep='\\t')['TEC'].drop_duplicates()\n",
    "\n",
    "TECnonO_data = pd.DataFrame(TECnonO_data)\n",
    "TECnonO_data['SO'] = [['SO_0002139']] * len(TECnonO_data)\n",
    "TECnonO_data = TECnonO_data.set_index('TEC').to_dict()\n",
    "nonO_data = {**nonO_data, **TECnonO_data['SO']}"
   ]
  },
  {
   "cell_type": "markdown",
   "id": "d4f7d41e",
   "metadata": {},
   "source": [
    "***\n",
    "### tsRNA sequences"
   ]
  },
  {
   "cell_type": "code",
   "execution_count": null,
   "id": "0b732df2",
   "metadata": {},
   "outputs": [],
   "source": [
    "tsRNAnonO_data = pd.concat([pd.read_csv('../resources/edge_data/miRNA-tsRNA2434.txt',sep='\\t')['tsRNA'],\n",
    "    pd.read_csv('../resources/edge_data/tsRNA-disease3302.txt',sep='\\t')['tRF']]).drop_duplicates()\n",
    "\n",
    "tsRNAnonO_data = pd.DataFrame(tsRNAnonO_data)\n",
    "tsRNAnonO_data['SO'] = [['SO_0000253']] * len(tsRNAnonO_data)\n",
    "tsRNAnonO_data = tsRNAnonO_data.set_index(0).to_dict()\n",
    "nonO_data = {**nonO_data, **tsRNAnonO_data['SO']}"
   ]
  },
  {
   "cell_type": "markdown",
   "id": "3039574c",
   "metadata": {},
   "source": [
    "***\n",
    "### Riboswitch sequences"
   ]
  },
  {
   "cell_type": "code",
   "execution_count": null,
   "id": "2beeb659",
   "metadata": {},
   "outputs": [],
   "source": [
    "riboswitchnonO_data = pd.concat([pd.read_csv('../resources/edge_data/riboswitch-bactStrain2434.txt',sep='\\t')['Riboswitch'],\n",
    "    pd.read_csv('../resources/edge_data/riboswitch-gobp56.txt',sep='\\t')['Riboswitch'],\n",
    "    pd.read_csv('../resources/edge_data/riboswitch-protein2529.txt',sep='\\t')['Riboswitch']]).drop_duplicates()\n",
    "\n",
    "riboswitchnonO_data = pd.DataFrame(riboswitchnonO_data)\n",
    "riboswitchnonO_data['SO'] = [['SO_0000035']] * len(riboswitchnonO_data)\n",
    "riboswitchnonO_data = riboswitchnonO_data.set_index('Riboswitch').to_dict()\n",
    "nonO_data = {**nonO_data, **riboswitchnonO_data['SO']}"
   ]
  },
  {
   "cell_type": "markdown",
   "id": "472742a5",
   "metadata": {},
   "source": [
    "***\n",
    "### Ribozyme sequences"
   ]
  },
  {
   "cell_type": "code",
   "execution_count": null,
   "id": "0bf7eaaf",
   "metadata": {},
   "outputs": [],
   "source": [
    "ribozymenonO_data = pd.concat([\n",
    "    pd.read_csv('../resources/edge_data/ribozyme-go2327.txt',sep='\\t')['Ribozyme'],\n",
    "    pd.read_csv('../resources/edge_data/ribozyme-gomf1025.txt',sep='\\t')['Ribozyme'],\n",
    "    pd.read_csv('../resources/edge_data/miRNA-ribozyme2434.txt',sep='\\t')['Ribozyme'],\n",
    "    pd.read_csv('../resources/edge_data/lncRNA-ribozyme2434.txt',sep='\\t')['Ribozyme'],\n",
    "    pd.read_csv('../resources/edge_data/ribozyme-gocc85.txt',sep='\\t')['Ribozyme'],\n",
    "    pd.read_csv('../resources/edge_data/ribozyme-TF2434.txt',sep='\\t')['ribozyme'],\n",
    "    pd.read_csv('../resources/edge_data/viralRNA-ribozyme2526.txt',sep='\\t')['Ribozyme'],\n",
    "    pd.read_csv('../resources/edge_data/ribozyme-gobp56.txt',sep='\\t')['Ribozyme'],\n",
    "    pd.read_csv('../resources/edge_data/ribozyme-RBP2434.txt',sep='\\t')['ribozyme'],\n",
    "    pd.read_csv('../resources/edge_data/ribozyme-protein2434.txt',sep='\\t')['Ribozyme']]).drop_duplicates()\n",
    "\n",
    "ribozymenonO_data = pd.DataFrame(ribozymenonO_data)\n",
    "ribozymenonO_data['SO'] = [['SO_0000374']] * len(ribozymenonO_data)\n",
    "ribozymenonO_data = ribozymenonO_data.set_index(0).to_dict()\n",
    "nonO_data = {**nonO_data, **ribozymenonO_data['SO']}"
   ]
  },
  {
   "cell_type": "markdown",
   "id": "bfa48b30",
   "metadata": {},
   "source": [
    "***\n",
    "### Viral RNA sequences"
   ]
  },
  {
   "cell_type": "code",
   "execution_count": null,
   "id": "d14970fc",
   "metadata": {},
   "outputs": [],
   "source": [
    "ribozyme_rfam_map = pd.DataFrame(data=[['LC ribozyme','family/RF00011'],\n",
    "                                 ['hammerhead ribozyme','clan/CL00010'],\n",
    "                                 ['glmS ribozyme','family/RF00234'],\n",
    "                                 ['HDV-F-prausnitzii','family/RF02682'],\n",
    "                                 ['HDV ribozyme','family/RF00094'],\n",
    "                                 ['HDV_ribozyme','family/RF00094'],\n",
    "                                 ['Hairpin','family/RF00173'],\n",
    "                                 ['Hammerhead_1','clan/CL00010'],\n",
    "                                 ['Hammerhead_HH9','clan/CL00010'],\n",
    "                                 ['Hammerhead_3','clan/CL00010'],\n",
    "                                 ['Hammerhead_HH10','clan/CL00010'],\n",
    "                                 ['Hammerhead_II','clan/CL00010'],\n",
    "                                 ['Pistol','family/RF02679'],\n",
    "                                 ['Pistol ribozyme','family/RF02679'],\n",
    "                                 ['twister ribozyme','clan/CL00120'],\n",
    "                                 ['Twister-P5','clan/CL00120'],\n",
    "                                 ['Twister-P3','clan/CL00120'],\n",
    "                                 ['RNAse P','family/RF00009']#,\n",
    "                                 #['VS ribozyme',''] absent in RFAM\n",
    "                                 ])\n",
    "\n",
    "vRNA_ribozyme = pd.read_json('../resources/processed_data/unprocessed_data/all.json').T \n",
    "\n",
    "# Extract ribozymes \n",
    "myre = re.compile(r\"\\n>> .*?\\n\")\n",
    "ribozyme = [myre.findall(i) for i in vRNA_ribozyme.ribozymes]\n",
    "ribozyme = [[j.replace(\"\\n\",'').replace(\">> \",'') for j in i] for i in ribozyme]\n",
    "\n",
    "# List of all possible ribozymes (useful for mapping)\n",
    "a = [i for j in ribozyme for i in j]\n",
    "set(a)\n",
    "vRNA_ribozyme = pd.concat([vRNA_ribozyme.reset_index().drop(columns=['index']),\n",
    "                           pd.Series(ribozyme)], axis=1)\n",
    "vRNA_ribozyme = vRNA_ribozyme.explode(0)\n",
    "vRNA_ribozyme[0] = vRNA_ribozyme[0].str.split().str[0]\n",
    "vRNA_ribozyme.drop(columns=['isolationSource','collectionDate','gc','bioSample','genus','family','identicalSeqs','genBankTitle','displayTitle','length',\n",
    "                           'sequenceType','nucCompleteness','genotype','segment','publications',\n",
    "                           'geoLocation','country','usa','submitters','releaseDate','isolate',\n",
    "                            'genus','family','sequence','structure','type','ribozymes','Cls_ID80',\n",
    "                            'Cls_ID70','Cls_ID85','Cls_ID75','Cls_ID95','Cls_ID90','sraAccession','submitters','species','host'],\n",
    "                   inplace=True)\n",
    "vRNA_ribozyme.insert(0,1,vRNA_ribozyme.pop(0))\n",
    "vRNA_ribozyme\n",
    "vRNA_ribozyme = pd.merge(ribozyme_rfam_map,vRNA_ribozyme,left_on=0,right_on=1)\n",
    "vRNA_ribozyme.drop(columns=[0],inplace=True)\n",
    "vRNA_ribozyme.insert(1,'accession',vRNA_ribozyme.pop('accession'))\n",
    "vRNA_ribozyme['Source(s)'] = 'ViroidDB'\n",
    "vRNA_ribozyme = vRNA_ribozyme.drop(columns=['1_y'])\n",
    "\n",
    "vRNA_ribozyme.moleculeType.unique()"
   ]
  },
  {
   "cell_type": "code",
   "execution_count": null,
   "id": "e3ac3d0d",
   "metadata": {},
   "outputs": [],
   "source": [
    "ssRNA = vRNA_ribozyme[['accession', 'moleculeType']].loc[vRNA_ribozyme['moleculeType'] == 'ssRNA']\n",
    "ssRNA['SO'] = [['SO_0001199']] * len(ssRNA)\n",
    "ssRNA"
   ]
  },
  {
   "cell_type": "code",
   "execution_count": null,
   "id": "61a71a22",
   "metadata": {},
   "outputs": [],
   "source": [
    "ssRNAnonO_data = ssRNA.drop(columns=['moleculeType']).set_index('accession').to_dict()\n",
    "nonO_data = {**nonO_data, **ssRNAnonO_data['SO']}"
   ]
  },
  {
   "cell_type": "code",
   "execution_count": null,
   "id": "fe3ee09c",
   "metadata": {},
   "outputs": [],
   "source": [
    "ssRNAm = vRNA_ribozyme[['accession', 'moleculeType']].loc[vRNA_ribozyme['moleculeType'] == 'ssRNA(-)']\n",
    "ssRNAm['SO'] = [['SO_0001200']] * len(ssRNAm)\n",
    "ssRNAmnonO_data = ssRNAm.drop(columns=['moleculeType']).set_index('accession').to_dict()\n",
    "nonO_data = {**nonO_data, **ssRNAmnonO_data['SO']}\n",
    "    \n",
    "dsRNA = vRNA_ribozyme[['accession', 'moleculeType']].loc[vRNA_ribozyme['moleculeType'] == 'RNA']\n",
    "dsRNA['SO'] = [['SO_0001169']] * len(dsRNA)\n",
    "dsRNAnonO_data = dsRNA.drop(columns=['moleculeType']).set_index('accession').to_dict()\n",
    "nonO_data = {**nonO_data, **dsRNAnonO_data['SO']}\n",
    "    \n",
    "viralRNA = vRNA_ribozyme[['accession', 'moleculeType']].loc[vRNA_ribozyme['moleculeType'].isna()]\n",
    "viralRNA['SO'] = [['SO_0001041']] * len(viralRNA)\n",
    "viralRNAnonO_data = viralRNA.drop(columns=['moleculeType']).set_index('accession').to_dict()\n",
    "nonO_data = {**nonO_data, **viralRNAnonO_data['SO']}"
   ]
  },
  {
   "cell_type": "markdown",
   "id": "050d8405",
   "metadata": {},
   "source": [
    "***\n",
    "### siRNA sequences"
   ]
  },
  {
   "cell_type": "code",
   "execution_count": null,
   "id": "19e82e47",
   "metadata": {},
   "outputs": [],
   "source": [
    "siRNAnonO_data = pd.read_csv('../resources/edge_data/siRNA-mRNA2430.txt',sep='\\t')['siRNA'].drop_duplicates()\n",
    "\n",
    "siRNAnonO_data = pd.DataFrame(siRNAnonO_data)\n",
    "siRNAnonO_data['SO'] = [['SO_0000646']] * len(siRNAnonO_data)\n",
    "siRNAnonO_data = siRNAnonO_data.set_index('siRNA').to_dict()\n",
    "nonO_data = {**nonO_data, **siRNAnonO_data['SO']}"
   ]
  },
  {
   "cell_type": "markdown",
   "id": "2e5e0656",
   "metadata": {},
   "source": [
    "***\n",
    "### shRNA sequences"
   ]
  },
  {
   "cell_type": "code",
   "execution_count": null,
   "id": "085a08c0",
   "metadata": {},
   "outputs": [],
   "source": [
    "shRNAnonO_data = pd.read_csv('../resources/edge_data/shRNA-mRNA2430.txt',sep='\\t')['shRNA'].drop_duplicates()\n",
    "\n",
    "shRNAnonO_data = pd.DataFrame(shRNAnonO_data)\n",
    "shRNAnonO_data['SO'] = [['SO_0002031']] * len(shRNAnonO_data)\n",
    "shRNAnonO_data = shRNAnonO_data.set_index('shRNA').to_dict()\n",
    "nonO_data = {**nonO_data, **shRNAnonO_data['SO']}"
   ]
  },
  {
   "cell_type": "markdown",
   "id": "4915a662",
   "metadata": {},
   "source": [
    "***\n",
    "### snoRNA sequences"
   ]
  },
  {
   "cell_type": "code",
   "execution_count": null,
   "id": "8f659383",
   "metadata": {},
   "outputs": [],
   "source": [
    "snoRNAnonO_data = pd.concat([\n",
    "    pd.read_csv('../resources/edge_data/snoRNA-go2327.txt',sep='\\t')['snoRNA'],\n",
    "    pd.read_csv('../resources/edge_data/snoRNA-go2331.txt',sep='\\t')['snoRNA'],\n",
    "    pd.read_csv('../resources/edge_data/snoRNA-go1025.txt',sep='\\t')['snoRNA'],\n",
    "    pd.read_csv('../resources/edge_data/snoRNA-chemical2434.txt',sep='\\t')['snoRNA'],\n",
    "    pd.read_csv('../resources/edge_data/snoRNA-tRNA2434.txt',sep='\\t')['snoRNA'],\n",
    "    pd.read_csv('../resources/edge_data/snoRNA-disease3302.txt',sep='\\t')['snoRNA'],\n",
    "    pd.read_csv('../resources/edge_data/snoRNA-viralmiRNA2434.txt',sep='\\t')['snoRNA'],\n",
    "    pd.read_csv('../resources/edge_data/snoRNA-snRNA2434.txt',sep='\\t')['snoRNA'],\n",
    "    pd.read_csv('../resources/edge_data/snoRNA-protein2434.txt',sep='\\t')['snoRNA'],\n",
    "    pd.read_csv('../resources/edge_data/snoRNA-rRNA2434.txt',sep='\\t')['snoRNA'],\n",
    "    pd.read_csv('../resources/edge_data/snoRNA-RBP2434.txt',sep='\\t')['snoRNA'],\n",
    "    pd.read_csv('../resources/edge_data/snoRNA-pseudogene2434.txt',sep='\\t')['snoRNA'],\n",
    "    pd.read_csv('../resources/edge_data/snoRNA-pDeath56.txt',sep='\\t')['snoRNA'],\n",
    "    pd.read_csv('../resources/edge_data/snoRNA-mRNA2434.txt',sep='\\t')['snoRNA'],\n",
    "    pd.read_csv('../resources/edge_data/snoRNA-gene2434.txt',sep='\\t')['snoRNA'],\n",
    "    pd.read_csv('../resources/edge_data/snoRNA-lncRNA2434.txt',sep='\\t')['snoRNA'],\n",
    "    pd.read_csv('../resources/edge_data/snoRNA-TF2434.txt',sep='\\t')['snoRNA'],\n",
    "    pd.read_csv('../resources/edge_data/snoRNA-epiMod2434.txt',sep='\\t')['snoRNA'],\n",
    "    pd.read_csv('../resources/edge_data/snoRNA-premiRNA2434.txt',sep='\\t')['snoRNA'],\n",
    "    pd.read_csv('../resources/edge_data/snoRNA-scaRNA2434.txt',sep='\\t')['snoRNA'],\n",
    "    pd.read_csv('../resources/edge_data/snoRNA-retainedIntron2434.txt',sep='\\t')['snoRNA'],\n",
    "    pd.read_csv('../resources/edge_data/snoRNA-miRNA2434.txt',sep='\\t')['snoRNA'],\n",
    "    pd.read_csv('../resources/edge_data/snoRNA-miscRNA2434.txt',sep='\\t')['snoRNA'],\n",
    "    pd.read_csv('../resources/edge_data/snoRNA-subCellularLocalization1025.txt',sep='\\t')['snoRNA'],\n",
    "    pd.read_csv('../resources/edge_data/snoRNA-snoRNA2434.txt',sep='\\t')['snoRNA1'],\n",
    "    pd.read_csv('../resources/edge_data/snoRNA-snoRNA2434.txt',sep='\\t')['snoRNA2']]).drop_duplicates()\n",
    "\n",
    "snoRNAnonO_data = pd.DataFrame(snoRNAnonO_data)\n",
    "snoRNAnonO_data['SO'] = [['SO_0000275']] * len(snoRNAnonO_data)\n",
    "snoRNAnonO_data = snoRNAnonO_data.set_index(0).to_dict()\n",
    "nonO_data = {**nonO_data, **snoRNAnonO_data['SO']}"
   ]
  },
  {
   "cell_type": "markdown",
   "id": "390bfc9d",
   "metadata": {},
   "source": [
    "***\n",
    "### Small proteins"
   ]
  },
  {
   "cell_type": "code",
   "execution_count": null,
   "id": "67201506",
   "metadata": {},
   "outputs": [],
   "source": [
    "spnonO_data = pd.read_csv('../resources/edge_data/smallProtein-lncRNA2204.txt',sep='\\t')['Small protein'].drop_duplicates()\n",
    "\n",
    "spnonO_data = pd.DataFrame(spnonO_data)\n",
    "spnonO_data['SO'] = [['SO_0000104']] * len(spnonO_data)\n",
    "spnonO_data = spnonO_data.set_index('Small protein').to_dict()\n",
    "nonO_data = {**nonO_data, **spnonO_data['SO']}"
   ]
  },
  {
   "cell_type": "markdown",
   "id": "decb69a0",
   "metadata": {},
   "source": [
    "***\n",
    "### siRNA drugs"
   ]
  },
  {
   "cell_type": "code",
   "execution_count": null,
   "id": "b4c8d460",
   "metadata": {},
   "outputs": [],
   "source": [
    "siRNAdnonO_data = pd.concat([pd.read_csv('../resources/edge_data/siRNAd-mRNA2430.txt',sep='\\t')['DrugBank ID'],\n",
    "    pd.read_csv('../resources/edge_data/siRNAd-disease2606.txt',sep='\\t')['DrugBank ID']]).drop_duplicates()\n",
    "\n",
    "siRNAdnonO_data = pd.DataFrame(siRNAdnonO_data)\n",
    "siRNAdnonO_data['SO'] = [['SO_0002031', 'CHEBI_23888']] * len(siRNAdnonO_data)\n",
    "siRNAdnonO_data = siRNAdnonO_data.set_index('DrugBank ID').to_dict()\n",
    "nonO_data = {**nonO_data, **siRNAdnonO_data['SO']}"
   ]
  },
  {
   "cell_type": "markdown",
   "id": "c3d15668",
   "metadata": {},
   "source": [
    "***\n",
    "### Biological roles in ChEBI"
   ]
  },
  {
   "cell_type": "code",
   "execution_count": null,
   "id": "5c6e4e92",
   "metadata": {},
   "outputs": [],
   "source": [
    "bio_role = pd.DataFrame(columns = [\"role\", \"ChEBI\"])\n",
    "bio_role['role'] = ['General', 'Tumor-Suppressor-Gene', 'Oncogene']\n",
    "bio_role['ChEBI'] = [['CHEBI_24432']] * 3\n",
    "bio_role"
   ]
  },
  {
   "cell_type": "code",
   "execution_count": null,
   "id": "5ced6f18",
   "metadata": {},
   "outputs": [],
   "source": [
    "role_nonO_data = bio_role.set_index('role').to_dict()\n",
    "nonO_data = {**nonO_data, **role_nonO_data['ChEBI']}"
   ]
  },
  {
   "cell_type": "markdown",
   "id": "91126928",
   "metadata": {},
   "source": [
    "***\n",
    "### Epigenetic modifications in GO"
   ]
  },
  {
   "cell_type": "code",
   "execution_count": null,
   "id": "e7fab34f",
   "metadata": {},
   "outputs": [],
   "source": [
    "pd.concat([pd.read_csv('../resources/edge_data/miRNA-epiMod2434.txt',sep='\\t')['Epigenetic modification'],\n",
    "           pd.read_csv('../resources/edge_data/premiRNA-epiMod2434.txt',sep='\\t')['Epigenetic modification']]).unique()"
   ]
  },
  {
   "cell_type": "code",
   "execution_count": null,
   "id": "ce3d7406",
   "metadata": {},
   "outputs": [],
   "source": [
    "epiMod = pd.DataFrame(columns = [\"mod\", \"GO\"])\n",
    "epiMod['mod'] = ['H3K4me3', 'H3K9me2', 'H3K9me3', 'H3K27me3', 'H3K4me', 'H3K79me2', 'H3K4me2',\n",
    "                 'H3K9me', 'H3K27me', 'H3K36me2', 'H3R17me2']\n",
    "epiMod['GO'] = [['GO_0016571']] * len(epiMod['mod'])\n",
    "epiMod"
   ]
  },
  {
   "cell_type": "code",
   "execution_count": null,
   "id": "43d0aa19",
   "metadata": {},
   "outputs": [],
   "source": [
    "go_nonO_data = epiMod.set_index('mod').to_dict()\n",
    "nonO_data = {**nonO_data, **go_nonO_data['GO']}"
   ]
  },
  {
   "cell_type": "code",
   "execution_count": null,
   "id": "8ef02ad1",
   "metadata": {},
   "outputs": [],
   "source": [
    "epiMod = pd.DataFrame(columns = [\"mod\", \"GO\"])\n",
    "epiMod['mod'] = ['H3S10P']\n",
    "epiMod['GO'] = [['GO_0006468']]\n",
    "epiMod"
   ]
  },
  {
   "cell_type": "code",
   "execution_count": null,
   "id": "26129b25",
   "metadata": {},
   "outputs": [],
   "source": [
    "go_nonO_data = epiMod.set_index('mod').to_dict()\n",
    "nonO_data = {**nonO_data, **go_nonO_data['GO']}"
   ]
  },
  {
   "cell_type": "code",
   "execution_count": null,
   "id": "ef5315fa",
   "metadata": {},
   "outputs": [],
   "source": [
    "epiMod = pd.DataFrame(columns = [\"mod\", \"GO\"])\n",
    "epiMod['mod'] = ['H3ac', 'H4ac', 'H3K9ac', 'H5ac', 'H3K4ac', 'H3K14ac']\n",
    "epiMod['GO'] = [['GO_0016573']] * len(epiMod['mod'])\n",
    "epiMod"
   ]
  },
  {
   "cell_type": "code",
   "execution_count": null,
   "id": "d32c55c0",
   "metadata": {},
   "outputs": [],
   "source": [
    "go_nonO_data = epiMod.set_index('mod').to_dict()\n",
    "nonO_data = {**nonO_data, **go_nonO_data['GO']}"
   ]
  },
  {
   "cell_type": "markdown",
   "id": "5464ee05",
   "metadata": {},
   "source": [
    "***\n",
    "### Pseudogene sequences"
   ]
  },
  {
   "cell_type": "code",
   "execution_count": null,
   "id": "f1a07bb7",
   "metadata": {},
   "outputs": [],
   "source": [
    "pseudononO_data = pd.concat([pd.read_csv('../resources/edge_data/pseudogene-rRNA2434.txt',sep='\\t')['Pseudogene'],\n",
    "    pd.read_csv('../resources/edge_data/pseudogene-protein2434.txt',sep='\\t')['Pseudogene'],\n",
    "    pd.read_csv('../resources/edge_data/pseudogene-mRNA2434.txt',sep='\\t')['Pseudogene'],\n",
    "    pd.read_csv('../resources/edge_data/pseudo-TF2434.txt',sep='\\t')['pseudo'],\n",
    "    pd.read_csv('../resources/edge_data/pseudo-chemical2434.txt',sep='\\t')['pseudo'],\n",
    "    pd.read_csv('../resources/edge_data/pseudo-disease3302.txt',sep='\\t')['pseudo'],\n",
    "    pd.read_csv('../resources/edge_data/pseudo-RBP2434.txt',sep='\\t')['pseudo'],\n",
    "    pd.read_csv('../resources/edge_data/snoRNA-pseudogene2434.txt',sep='\\t')['Pseudogene'],\n",
    "    pd.read_csv('../resources/edge_data/lncRNA-pseudogene2434.txt',sep='\\t')['Pseudogene'],\n",
    "    pd.read_csv('../resources/edge_data/pseudo-viralmiRNA2434.txt',sep='\\t')['pseudo'],\n",
    "    pd.read_csv('../resources/edge_data/miRNA-pseudogene11002.txt',sep='\\t')['Pseudogene'],\n",
    "    pd.read_csv('../resources/edge_data/pseudo-histoneModification2434.txt',sep='\\t')['pseudo'],\n",
    "    pd.read_csv('../resources/edge_data/pseudogene-pseudogene2434.txt',sep='\\t')['Pseudogene1'],\n",
    "    pd.read_csv('../resources/edge_data/pseudogene-pseudogene2434.txt',sep='\\t')['Pseudogene2'],\n",
    "    pd.read_csv('../resources/edge_data/premiRNA-pseudogene2434.txt',sep='\\t')['Pseudogene'],\n",
    "    pd.read_csv('../resources/edge_data/pseudo-viralmRNA2434.txt',sep='\\t')['pseudo'],\n",
    "    pd.read_csv('../resources/edge_data/tRF-pseudogene2434.txt',sep='\\t')['Pseudogene'],\n",
    "    pd.read_csv('../resources/edge_data/othersRNA-pseudogene2434.txt',sep='\\t')['Pseudogene'],\n",
    "    pd.read_csv('../resources/edge_data/miRNA-pseudogene2434.txt',sep='\\t')['Pseudogene'],\n",
    "    pd.read_csv('../resources/edge_data/snRNA-pseudogene2434.txt',sep='\\t')['Pseudogene'],\n",
    "    pd.read_csv('../resources/edge_data/pseudo-subCellularLocalization1025.txt',sep='\\t')['pseudo']]).drop_duplicates()\n",
    "\n",
    "pseudononO_data = pd.DataFrame(pseudononO_data)\n",
    "pseudononO_data['SO'] = [['SO_0000336']] * len(pseudononO_data)\n",
    "pseudononO_data = pseudononO_data.set_index(0).to_dict()\n",
    "nonO_data = {**nonO_data, **pseudononO_data['SO']}"
   ]
  },
  {
   "cell_type": "markdown",
   "id": "dac98a3b",
   "metadata": {},
   "source": [
    "***\n",
    "### Y_RNA sequences"
   ]
  },
  {
   "cell_type": "code",
   "execution_count": null,
   "id": "30544b44",
   "metadata": {},
   "outputs": [],
   "source": [
    "YnonO_data = pd.read_csv('../resources/edge_data/Y_RNA-subCellularLocalization1025.txt',sep='\\t')['Y_RNA'].drop_duplicates()\n",
    "\n",
    "YnonO_data = pd.DataFrame(YnonO_data)\n",
    "YnonO_data['SO'] = [['SO_0000405']] * len(YnonO_data)\n",
    "YnonO_data = YnonO_data.set_index('Y_RNA').to_dict()\n",
    "nonO_data = {**nonO_data, **YnonO_data['SO']}"
   ]
  },
  {
   "cell_type": "markdown",
   "id": "cd830b2d",
   "metadata": {},
   "source": [
    "***\n",
    "### eRNA sequences"
   ]
  },
  {
   "cell_type": "code",
   "execution_count": null,
   "id": "ae94a297",
   "metadata": {},
   "outputs": [],
   "source": [
    "eRNAnonO_data = pd.read_csv('../resources/edge_data/eRNA-mRNA2434.txt',sep='\\t')['eRNA'].drop_duplicates()\n",
    "\n",
    "eRNAnonO_data = pd.DataFrame(eRNAnonO_data)\n",
    "eRNAnonO_data['SO'] = [['SO_0000165']] * len(eRNAnonO_data)\n",
    "eRNAnonO_data = eRNAnonO_data.set_index('eRNA').to_dict()\n",
    "nonO_data = {**nonO_data, **eRNAnonO_data['SO']}"
   ]
  },
  {
   "cell_type": "markdown",
   "id": "2fda4ca6",
   "metadata": {},
   "source": [
    "***\n",
    "### Histone modifications"
   ]
  },
  {
   "cell_type": "code",
   "execution_count": null,
   "id": "b7456dec",
   "metadata": {},
   "outputs": [],
   "source": [
    "hModnonO_data = pd.concat([pd.read_csv('../resources/edge_data/premiRNA-histoneModification2434.txt',sep='\\t')['Histone Modification'],\n",
    "    pd.read_csv('../resources/edge_data/lncRNA-histoneModification2434.txt',sep='\\t')['Histone Modification'],\n",
    "    pd.read_csv('../resources/edge_data/mRNA-histoneModification2434.txt',sep='\\t')['Histone Modification'],\n",
    "    pd.read_csv('../resources/edge_data/pseudo-histoneModification2434.txt',sep='\\t')['Histone Modification'],\n",
    "    pd.read_csv('../resources/edge_data/unknown-histoneModification2434.txt',sep='\\t')['Histone Modification'],\n",
    "    pd.read_csv('../resources/edge_data/others-histoneModification2434.txt',sep='\\t')['Histone Modification'],\n",
    "    pd.read_csv('../resources/edge_data/ncRNA-histoneModification2434.txt',sep='\\t')['Histone Modification']]).drop_duplicates()\n",
    "\n",
    "hModnonO_data = pd.DataFrame(hModnonO_data)\n",
    "hModnonO_data['SO'] = [['SO_0001700']] * len(hModnonO_data)\n",
    "hModnonO_data = hModnonO_data.set_index('Histone Modification').to_dict()\n",
    "nonO_data = {**nonO_data, **hModnonO_data['SO']}"
   ]
  },
  {
   "cell_type": "markdown",
   "id": "5e320890",
   "metadata": {},
   "source": [
    "***\n",
    "### lincRNA sequences"
   ]
  },
  {
   "cell_type": "code",
   "execution_count": null,
   "id": "20d5bd07",
   "metadata": {},
   "outputs": [],
   "source": [
    "lincRNAnonO_data = pd.read_csv('../resources/edge_data/lincRNA-subCellularLocalization1025.txt',sep='\\t')['lincRNA'].drop_duplicates()\n",
    "\n",
    "lincRNAnonO_data = pd.DataFrame(lincRNAnonO_data)\n",
    "lincRNAnonO_data['SO'] = [['SO_0001463']] * len(lincRNAnonO_data)\n",
    "lincRNAnonO_data = lincRNAnonO_data.set_index('lincRNA').to_dict()\n",
    "nonO_data = {**nonO_data, **lincRNAnonO_data['SO']}"
   ]
  },
  {
   "cell_type": "markdown",
   "id": "778f6622",
   "metadata": {},
   "source": [
    "***\n",
    "### mtRNA sequences"
   ]
  },
  {
   "cell_type": "code",
   "execution_count": null,
   "id": "7a985338",
   "metadata": {},
   "outputs": [],
   "source": [
    "mtRNAnonO_data = pd.read_csv('../resources/edge_data/mtRNA-subCellularLocalization1025.txt',sep='\\t')['mtRNA'].drop_duplicates()\n",
    "\n",
    "mtRNAnonO_data = pd.DataFrame(mtRNAnonO_data)\n",
    "mtRNAnonO_data['SO'] = [['NCIT_C25975']] * len(mtRNAnonO_data)\n",
    "mtRNAnonO_data = mtRNAnonO_data.set_index('mtRNA').to_dict()\n",
    "nonO_data = {**nonO_data, **mtRNAnonO_data['SO']}"
   ]
  },
  {
   "cell_type": "markdown",
   "id": "a5938ef8",
   "metadata": {},
   "source": [
    "***\n",
    "### ncRNA sequences"
   ]
  },
  {
   "cell_type": "code",
   "execution_count": null,
   "id": "083385fb",
   "metadata": {},
   "outputs": [],
   "source": [
    "ncRNAnonO_data = pd.concat([\n",
    "    pd.read_csv('../resources/edge_data/ncRNA-go2263.txt',sep='\\t')['ncRNA'],\n",
    "    pd.read_csv('../resources/edge_data/ncRNA-go1025.txt',sep='\\t')['ncRNA'],\n",
    "    pd.read_csv('../resources/edge_data/ncRNA-go2327.txt',sep='\\t')['ncRNA'],\n",
    "    pd.read_csv('../resources/edge_data/ncRNA-go2432.txt',sep='\\t')['ncRNA'],\n",
    "    pd.read_csv('../resources/edge_data/ncRNA-go4033.txt',sep='\\t')['ncRNA'],\n",
    "    pd.read_csv('../resources/edge_data/ncRNA-goBFO50.txt',sep='\\t')['ncRNA'],\n",
    "    pd.read_csv('../resources/edge_data/ncRNA-go2331.txt',sep='\\t')['ncRNA'],\n",
    "    pd.read_csv('../resources/edge_data/lncRNA-ncRNA2434.txt',sep='\\t')['ncRNA'],\n",
    "    pd.read_csv('../resources/edge_data/miRNA-ncRNA2434.txt',sep='\\t')['ncRNA'],\n",
    "    pd.read_csv('../resources/edge_data/mRNA-ncRNA2434.txt',sep='\\t')['ncRNA'],\n",
    "    pd.read_csv('../resources/edge_data/ncRNA-histoneModification2434.txt',sep='\\t')['ncRNA'],\n",
    "    pd.read_csv('../resources/edge_data/ncRNA-protein2434.txt',sep='\\t')['ncRNA'],\n",
    "    pd.read_csv('../resources/edge_data/ncRNA-RBP2434.txt',sep='\\t')['ncRNA'],\n",
    "    pd.read_csv('../resources/edge_data/ncRNA-subCellularLocalization1025.txt',sep='\\t')['ncRNA'],\n",
    "    pd.read_csv('../resources/edge_data/ncRNA-TF2434.txt',sep='\\t')['ncRNA']]).drop_duplicates()\n",
    "\n",
    "ncRNAnonO_data = pd.DataFrame(ncRNAnonO_data)\n",
    "ncRNAnonO_data['SO'] = [['SO_0000655']] * len(ncRNAnonO_data)\n",
    "ncRNAnonO_data = ncRNAnonO_data.set_index('ncRNA').to_dict()\n",
    "nonO_data = {**nonO_data, **ncRNAnonO_data['SO']}"
   ]
  },
  {
   "cell_type": "markdown",
   "id": "b544aec3",
   "metadata": {},
   "source": [
    "***\n",
    "### othersRNA sequences"
   ]
  },
  {
   "cell_type": "code",
   "execution_count": null,
   "id": "d963ecbb",
   "metadata": {},
   "outputs": [],
   "source": [
    "othersRNAnonO_data = pd.concat([pd.read_csv('../resources/edge_data/others-subCellularLocalization1025.txt',sep='\\t')['others'],\n",
    "    pd.read_csv('../resources/edge_data/othersRNA-rRNA2434.txt',sep='\\t')['Others RNA'],\n",
    "    pd.read_csv('../resources/edge_data/othersRNA-lncRNA2434.txt',sep='\\t')['Others RNA'],\n",
    "    pd.read_csv('../resources/edge_data/othersRNA-mRNA2434.txt',sep='\\t')['Others RNA'],\n",
    "    pd.read_csv('../resources/edge_data/miRNA-othersRNA2434.txt',sep='\\t')['others RNA'],\n",
    "    pd.read_csv('../resources/edge_data/other-viralmiRNA2434.txt',sep='\\t')['other'],\n",
    "    pd.read_csv('../resources/edge_data/othersRNA-protein2434.txt',sep='\\t')['Others RNA'],\n",
    "    pd.read_csv('../resources/edge_data/othersRNA-pseudogene2434.txt',sep='\\t')['Others RNA'],\n",
    "    pd.read_csv('../resources/edge_data/others-TF2434.txt',sep='\\t')['others'],\n",
    "    pd.read_csv('../resources/edge_data/others-gene2434.txt',sep='\\t')['others'],\n",
    "    pd.read_csv('../resources/edge_data/others-RBP2434.txt',sep='\\t')['others'],\n",
    "    pd.read_csv('../resources/edge_data/others-histoneModification2434.txt',sep='\\t')['others']]).drop_duplicates()\n",
    "\n",
    "othersRNAnonO_data = pd.DataFrame(othersRNAnonO_data)\n",
    "othersRNAnonO_data['SO'] = [['SO_0000356']] * len(othersRNAnonO_data)\n",
    "othersRNAnonO_data = othersRNAnonO_data.set_index(0).to_dict()\n",
    "nonO_data = {**nonO_data, **othersRNAnonO_data['SO']}"
   ]
  },
  {
   "cell_type": "markdown",
   "id": "960368ae",
   "metadata": {},
   "source": [
    "***\n",
    "### piRNA sequences"
   ]
  },
  {
   "cell_type": "code",
   "execution_count": null,
   "id": "f7043056",
   "metadata": {},
   "outputs": [],
   "source": [
    "piRNAnonO_data = pd.read_csv('../resources/property_data/piRNA.csv')['Name'].drop_duplicates()\n",
    "\n",
    "piRNAnonO_data = pd.DataFrame(piRNAnonO_data)\n",
    "piRNAnonO_data['SO'] = [['SO_0001035']] * len(piRNAnonO_data)\n",
    "piRNAnonO_data = piRNAnonO_data.set_index('Name').to_dict()\n",
    "nonO_data = {**nonO_data, **piRNAnonO_data['SO']}"
   ]
  },
  {
   "cell_type": "markdown",
   "id": "11925396",
   "metadata": {},
   "source": [
    "***\n",
    "### sRNA sequences"
   ]
  },
  {
   "cell_type": "code",
   "execution_count": null,
   "id": "7796dd08",
   "metadata": {},
   "outputs": [],
   "source": [
    "sRNAnonO_data = pd.read_csv('../resources/edge_data/sRNA-TF2434.txt',sep='\\t')['sRNA'].drop_duplicates()\n",
    "\n",
    "sRNAnonO_data = pd.DataFrame(sRNAnonO_data)\n",
    "sRNAnonO_data['SO'] = [['SO_0002022']] * len(sRNAnonO_data)\n",
    "sRNAnonO_data = sRNAnonO_data.set_index('sRNA').to_dict()\n",
    "nonO_data = {**nonO_data, **sRNAnonO_data['SO']}"
   ]
  },
  {
   "cell_type": "markdown",
   "id": "8888c1d5",
   "metadata": {},
   "source": [
    "***\n",
    "### Telomerase RNA sequences"
   ]
  },
  {
   "cell_type": "code",
   "execution_count": null,
   "id": "e188506a",
   "metadata": {},
   "outputs": [],
   "source": [
    "teloRNAnonO_data = pd.concat([pd.read_csv('../resources/edge_data/teloRNA-goBFO50.txt',sep='\\t')['Telomerase RNA'],\n",
    "    pd.read_csv('../resources/edge_data/teloRNA-go2331.txt',sep='\\t')['Telomerase RNA'],\n",
    "    pd.read_csv('../resources/edge_data/teloRNA-go2326.txt',sep='\\t')['Telomerase RNA'],\n",
    "    pd.read_csv('../resources/edge_data/teloRNA-go2325.txt',sep='\\t')['Telomerase RNA'],\n",
    "    pd.read_csv('../resources/edge_data/teloRNA-go1025.txt',sep='\\t')['Telomerase RNA'],\n",
    "    pd.read_csv('../resources/edge_data/teloRNA-go2327.txt',sep='\\t')['Telomerase RNA']]).drop_duplicates()\n",
    "\n",
    "teloRNAnonO_data = pd.DataFrame(teloRNAnonO_data)\n",
    "teloRNAnonO_data['SO'] = [['SO_0000390']] * len(teloRNAnonO_data)\n",
    "teloRNAnonO_data = teloRNAnonO_data.set_index('Telomerase RNA').to_dict()\n",
    "nonO_data = {**nonO_data, **teloRNAnonO_data['SO']}"
   ]
  },
  {
   "cell_type": "markdown",
   "id": "3375bd12",
   "metadata": {},
   "source": [
    "***\n",
    "### RNAse P sequences"
   ]
  },
  {
   "cell_type": "code",
   "execution_count": null,
   "id": "2268d7b4",
   "metadata": {},
   "outputs": [],
   "source": [
    "RNAsePnonO_data = pd.concat([\n",
    "    pd.read_csv('../resources/edge_data/RNAseP-goBFO50.txt',sep='\\t')['RNAseP RNA'],\n",
    "    pd.read_csv('../resources/edge_data/RNAseP-go2331.txt',sep='\\t')['RNAseP RNA'],\n",
    "    pd.read_csv('../resources/edge_data/RNAseP-go2327.txt',sep='\\t')['RNAseP RNA']]).drop_duplicates()\n",
    "\n",
    "RNAsePnonO_data = pd.DataFrame(RNAsePnonO_data)\n",
    "RNAsePnonO_data['SO'] = [['SO_0000386']] * len(RNAsePnonO_data)\n",
    "RNAsePnonO_data = RNAsePnonO_data.set_index('RNAseP RNA').to_dict()\n",
    "nonO_data = {**nonO_data, **RNAsePnonO_data['SO']}"
   ]
  },
  {
   "cell_type": "markdown",
   "id": "158ed71d",
   "metadata": {},
   "source": [
    "***\n",
    "### RNAse MRP sequences"
   ]
  },
  {
   "cell_type": "code",
   "execution_count": null,
   "id": "3fb1a474",
   "metadata": {},
   "outputs": [],
   "source": [
    "RNAseMRPnonO_data = pd.concat([\n",
    "    pd.read_csv('../resources/edge_data/RNAseMRP-go1025.txt',sep='\\t')['RNAseMRP RNA'],\n",
    "    pd.read_csv('../resources/edge_data/RNAseMRP-go2326.txt',sep='\\t')['RNAseMRP RNA'],\n",
    "    pd.read_csv('../resources/edge_data/RNAseMRP-go2327.txt',sep='\\t')['RNAseMRP RNA'],\n",
    "    pd.read_csv('../resources/edge_data/RNAseMRP-go2331.txt',sep='\\t')['RNAseMRP RNA'],\n",
    "    pd.read_csv('../resources/edge_data/RNAseMRP-goBFO50.txt',sep='\\t')['RNAseMRP RNA']]).drop_duplicates()\n",
    "\n",
    "RNAseMRPnonO_data = pd.DataFrame(RNAseMRPnonO_data)\n",
    "RNAseMRPnonO_data['SO'] = [['SO_0000385']] * len(RNAseMRPnonO_data)\n",
    "RNAseMRPnonO_data = RNAseMRPnonO_data.set_index('RNAseMRP RNA').to_dict()\n",
    "nonO_data = {**nonO_data, **RNAseMRPnonO_data['SO']}"
   ]
  },
  {
   "cell_type": "markdown",
   "id": "56a9a9d5",
   "metadata": {},
   "source": [
    "***\n",
    "### tRF sequences"
   ]
  },
  {
   "cell_type": "code",
   "execution_count": null,
   "id": "323d1b60",
   "metadata": {},
   "outputs": [],
   "source": [
    "tRFnonO_data = pd.concat([pd.read_csv('../resources/edge_data/tRF-cellLine1025.txt',sep='\\t')['tRF'],\n",
    "    pd.read_csv('../resources/edge_data/tRF-lncRNA2434.txt',sep='\\t')['tRF'],\n",
    "    pd.read_csv('../resources/edge_data/tRF-mRNA2434.txt',sep='\\t')['tRF'],\n",
    "    pd.read_csv('../resources/edge_data/tRF-pseudogene2434.txt',sep='\\t')['tRF'],\n",
    "    pd.read_csv('../resources/edge_data/tRF-tRNA_MINTbase2202.txt',sep='\\t')['tRF'],\n",
    "    pd.read_csv('../resources/edge_data/tRF-tRNA_tRFdb2202.txt',sep='\\t')['tRF']]).drop_duplicates()\n",
    "\n",
    "tRFnonO_data = pd.DataFrame(tRFnonO_data)\n",
    "tRFnonO_data['SO'] = [['SO_0001172']] * len(tRFnonO_data)\n",
    "tRFnonO_data = tRFnonO_data.set_index('tRF').to_dict()\n",
    "nonO_data = {**nonO_data, **tRFnonO_data['SO']}"
   ]
  },
  {
   "cell_type": "markdown",
   "id": "d5a3a11c",
   "metadata": {},
   "source": [
    "***\n",
    "### unknownRNA sequences"
   ]
  },
  {
   "cell_type": "code",
   "execution_count": null,
   "id": "0762bb81",
   "metadata": {},
   "outputs": [],
   "source": [
    "unknownRNAnonO_data = pd.concat([pd.read_csv('../resources/edge_data/unknown-viralmiRNA2434.txt',sep='\\t')['unknown'],\n",
    "    pd.read_csv('../resources/edge_data/unknownRNA-protein2434.txt',sep='\\t')['Unknown RNA'],\n",
    "    pd.read_csv('../resources/edge_data/unknown-histoneModification2434.txt',sep='\\t')['unknown'],\n",
    "    pd.read_csv('../resources/edge_data/unknown-TF2434.txt',sep='\\t')['unknown'],\n",
    "    pd.read_csv('../resources/edge_data/miRNA-unknownRNA2434.txt',sep='\\t')['Unknown RNA']]).drop_duplicates()\n",
    "\n",
    "unknownRNAnonO_data = pd.DataFrame(unknownRNAnonO_data)\n",
    "unknownRNAnonO_data['SO'] = [['SO_0000356']] * len(unknownRNAnonO_data)\n",
    "unknownRNAnonO_data = unknownRNAnonO_data.set_index(0).to_dict()\n",
    "nonO_data = {**nonO_data, **unknownRNAnonO_data['SO']}"
   ]
  },
  {
   "cell_type": "markdown",
   "id": "4a3eed26",
   "metadata": {},
   "source": [
    "***\n",
    "### vRNA sequences"
   ]
  },
  {
   "cell_type": "code",
   "execution_count": null,
   "id": "d93b037e",
   "metadata": {},
   "outputs": [],
   "source": [
    "vRNAnonO_data = pd.read_csv('../resources/edge_data/vRNA-subCellularLocalization1025.txt',sep='\\t')['vRNA'].drop_duplicates()\n",
    "\n",
    "vRNAnonO_data = pd.DataFrame(vRNAnonO_data)\n",
    "vRNAnonO_data['SO'] = [['SO_0001041']] * len(vRNAnonO_data)\n",
    "vRNAnonO_data = vRNAnonO_data.set_index('vRNA').to_dict()\n",
    "nonO_data = {**nonO_data, **vRNAnonO_data['SO']}"
   ]
  },
  {
   "cell_type": "markdown",
   "id": "2323b561",
   "metadata": {},
   "source": [
    "***\n",
    "### viralmiRNA sequences"
   ]
  },
  {
   "cell_type": "code",
   "execution_count": null,
   "id": "51217b51",
   "metadata": {},
   "outputs": [],
   "source": [
    "vRNAnonO_data = pd.concat([pd.read_csv('../resources/edge_data/scRNA-viralmiRNA2434.txt',sep='\\t')['Viral miRNA'],\n",
    "    pd.read_csv('../resources/edge_data/snRNA-viralmiRNA2434.txt',sep='\\t')['Viral miRNA'],\n",
    "    pd.read_csv('../resources/edge_data/mRNA-viralmiRNA2434.txt',sep='\\t')['Viral miRNA'],\n",
    "    pd.read_csv('../resources/edge_data/snoRNA-viralmiRNA2434.txt',sep='\\t')['Viral miRNA'],\n",
    "    pd.read_csv('../resources/edge_data/unknown-viralmiRNA2434.txt',sep='\\t')['Viral miRNA'],\n",
    "    pd.read_csv('../resources/edge_data/pseudo-viralmiRNA2434.txt',sep='\\t')['Viral miRNA'],\n",
    "    pd.read_csv('../resources/edge_data/protein-viralmiRNA2434.txt',sep='\\t')['Viral miRNA'],\n",
    "    pd.read_csv('../resources/edge_data/miRNA-viralmiRNA2434.txt',sep='\\t')['Viral miRNA'],\n",
    "    pd.read_csv('../resources/edge_data/other-viralmiRNA2434.txt',sep='\\t')['Viral miRNA'],\n",
    "    pd.read_csv('../resources/edge_data/lncRNA-viralmiRNA2434.txt',sep='\\t')['Viral miRNA'],\n",
    "    pd.read_csv('../resources/edge_data/premiRNA-viralmiRNA2434.txt',sep='\\t')['Viral miRNA']]).drop_duplicates()\n",
    "\n",
    "vRNAnonO_data = pd.DataFrame(vRNAnonO_data)\n",
    "vRNAnonO_data['SO'] = [['SO_0001041', 'SO_0000276']] * len(vRNAnonO_data)\n",
    "vRNAnonO_data = vRNAnonO_data.set_index('Viral miRNA').to_dict()\n",
    "nonO_data = {**nonO_data, **vRNAnonO_data['SO']}"
   ]
  },
  {
   "cell_type": "markdown",
   "id": "473a9fd8",
   "metadata": {},
   "source": [
    "***\n",
    "### viralmRNA sequences"
   ]
  },
  {
   "cell_type": "code",
   "execution_count": null,
   "id": "e40aea76",
   "metadata": {},
   "outputs": [],
   "source": [
    "viralmRNAnonO_data = pd.concat([pd.read_csv('../resources/edge_data/lncRNA-viralmRNA2434.txt',sep='\\t')['Viral mRNA'],\n",
    "    pd.read_csv('../resources/edge_data/miRNA-viralmRNA2434.txt',sep='\\t')['Viral mRNA'],\n",
    "    pd.read_csv('../resources/edge_data/pseudo-viralmRNA2434.txt',sep='\\t')['Viral mRNA'],\n",
    "    pd.read_csv('../resources/edge_data/snRNA-viralmRNA2434.txt',sep='\\t')['Viral mRNA']]).drop_duplicates()\n",
    "\n",
    "viralmRNAnonO_data = pd.DataFrame(viralmRNAnonO_data)\n",
    "viralmRNAnonO_data['SO'] = [['SO_0001041']] * len(viralmRNAnonO_data)\n",
    "viralmRNAnonO_data = viralmRNAnonO_data.set_index('Viral mRNA').to_dict()\n",
    "nonO_data = {**nonO_data, **viralmRNAnonO_data['SO']}"
   ]
  },
  {
   "cell_type": "markdown",
   "id": "eccdabf8",
   "metadata": {},
   "source": [
    "***\n",
    "### viralnsRNA sequences"
   ]
  },
  {
   "cell_type": "code",
   "execution_count": null,
   "id": "b071052a",
   "metadata": {},
   "outputs": [],
   "source": [
    "viralnsRNAnonO_data = pd.read_csv('../resources/edge_data/mRNA-viralnsRNA2434.txt',sep='\\t')['Viral nsRNA'].drop_duplicates()\n",
    "\n",
    "viralnsRNAnonO_data = pd.DataFrame(viralnsRNAnonO_data)\n",
    "viralnsRNAnonO_data['SO'] = [['SO_0001041']] * len(viralnsRNAnonO_data)\n",
    "viralnsRNAnonO_data = viralnsRNAnonO_data.set_index('Viral nsRNA').to_dict()\n",
    "nonO_data = {**nonO_data, **viralnsRNAnonO_data['SO']}"
   ]
  },
  {
   "cell_type": "markdown",
   "id": "0439ebb5",
   "metadata": {},
   "source": [
    "***\n",
    "### viralunRNA sequences"
   ]
  },
  {
   "cell_type": "code",
   "execution_count": null,
   "id": "ddb3680e",
   "metadata": {},
   "outputs": [],
   "source": [
    "vtRNAsnonO_data = pd.read_csv('../resources/edge_data/miRNA-viralunRNA2434.txt',sep='\\t')['Viral unknown RNA'].drop_duplicates()\n",
    "\n",
    "vtRNAsnonO_data = pd.DataFrame(vtRNAsnonO_data)\n",
    "vtRNAsnonO_data['SO'] = [['SO_0001041']] * len(vtRNAsnonO_data)\n",
    "vtRNAsnonO_data = vtRNAsnonO_data.set_index('Viral unknown RNA').to_dict()\n",
    "nonO_data = {**nonO_data, **vtRNAsnonO_data['SO']}"
   ]
  },
  {
   "cell_type": "markdown",
   "id": "eb87d827",
   "metadata": {},
   "source": [
    "***\n",
    "### vtRNAs sequences"
   ]
  },
  {
   "cell_type": "code",
   "execution_count": null,
   "id": "4d7f8ce2",
   "metadata": {},
   "outputs": [],
   "source": [
    "vtRNAsnonO_data = pd.read_csv('../resources/edge_data/vtRNAs-protein2434.txt',sep='\\t')['vtRNAs'].drop_duplicates()\n",
    "\n",
    "vtRNAsnonO_data = pd.DataFrame(vtRNAsnonO_data)\n",
    "vtRNAsnonO_data['SO'] = [['SO_0000404']] * len(vtRNAsnonO_data)\n",
    "vtRNAsnonO_data = vtRNAsnonO_data.set_index('vtRNAs').to_dict()\n",
    "nonO_data = {**nonO_data, **vtRNAsnonO_data['SO']}"
   ]
  },
  {
   "cell_type": "markdown",
   "id": "36b81a66",
   "metadata": {},
   "source": [
    "***\n",
    "### tRNA-related modifications"
   ]
  },
  {
   "cell_type": "code",
   "execution_count": null,
   "id": "59fb0cb3",
   "metadata": {},
   "outputs": [],
   "source": [
    "tRNAmodnonO_data = pd.read_csv('../resources/edge_data/tRNA-modification2434.txt',sep='\\t')['Modification'].drop_duplicates()\n",
    "\n",
    "tRNAmodnonO_data = pd.DataFrame(tRNAmodnonO_data)\n",
    "tRNAmodnonO_data['SO'] = [['GO_0140101']] * len(tRNAmodnonO_data)\n",
    "tRNAmodnonO_data = tRNAmodnonO_data.set_index('Modification').to_dict()\n",
    "nonO_data = {**nonO_data, **tRNAmodnonO_data['SO']}\n"
   ]
  },
  {
   "cell_type": "markdown",
   "id": "224f44fb",
   "metadata": {},
   "source": [
    "***\n",
    "### Reactome pathways"
   ]
  },
  {
   "cell_type": "code",
   "execution_count": null,
   "id": "b91fab1e",
   "metadata": {},
   "outputs": [],
   "source": [
    "reactomenonO_data = pd.read_csv('../resources/processed_data/DESC_REACTOME_MAP.txt', header=None, sep='\\t')[1]\n",
    "\n",
    "nonO_data_series = pd.Series(nonO_data)\n",
    "\n",
    "a = pd.DataFrame(reactomenonO_data)\n",
    "a.rename(columns={1:'Reactome'}, inplace=True)\n",
    "b = pd.DataFrame(nonO_data_series)\n",
    "b['Reactome'] = b.index\n",
    "c = pd.merge(a,b, on=['Reactome'])\n",
    "\n",
    "# Adding Reactome Pathways not covered by PKT\n",
    "SNPnonO_data = a[~a['Reactome'].isin(c['Reactome'])]['Reactome'].unique()\n",
    "\n",
    "reactomenonO_data = pd.DataFrame(reactomenonO_data)\n",
    "reactomenonO_data['SO'] = [['PW_0000001']] * len(reactomenonO_data)\n",
    "reactomenonO_data = reactomenonO_data.set_index(1).to_dict()\n",
    "nonO_data = {**nonO_data, **reactomenonO_data['SO']}"
   ]
  },
  {
   "cell_type": "markdown",
   "id": "91703ca5",
   "metadata": {},
   "source": [
    "***\n",
    "### Wikipathways"
   ]
  },
  {
   "cell_type": "code",
   "execution_count": null,
   "id": "aa40e55c",
   "metadata": {},
   "outputs": [],
   "source": [
    "wpwnonO_data = pd.read_csv('../resources/processed_data/DESC_WIKIPATHWAYS_MAP.txt', header=None, sep='\\t')[1]\n",
    "\n",
    "wpwnonO_data = pd.DataFrame(wpwnonO_data)\n",
    "wpwnonO_data['SO'] = [['PW_0000001']] * len(wpwnonO_data)\n",
    "wpwnonO_data = wpwnonO_data.set_index(1).to_dict()\n",
    "nonO_data = {**nonO_data, **wpwnonO_data['SO']}"
   ]
  },
  {
   "cell_type": "markdown",
   "id": "77711b0a",
   "metadata": {},
   "source": [
    "***\n",
    "### Antisense RNA sequences"
   ]
  },
  {
   "cell_type": "code",
   "execution_count": null,
   "id": "7d33b416",
   "metadata": {},
   "outputs": [],
   "source": [
    "asRNAnonO_data = pd.concat([pd.read_csv('../resources/edge_data/antisenseRNA-go2327.txt',sep='\\t')['Antisense RNA'],\n",
    "    pd.read_csv('../resources/edge_data/antisenseRNA-go2331.txt',sep='\\t')['Antisense RNA']]).drop_duplicates()\n",
    "\n",
    "asRNAnonO_data = pd.DataFrame(asRNAnonO_data)\n",
    "asRNAnonO_data['SO'] = [['SO_0000644']] * len(asRNAnonO_data)\n",
    "asRNAnonO_data = asRNAnonO_data.set_index('Antisense RNA').to_dict()\n",
    "nonO_data = {**nonO_data, **asRNAnonO_data['SO']}"
   ]
  },
  {
   "cell_type": "markdown",
   "id": "07686288",
   "metadata": {},
   "source": [
    "***\n",
    "### Variants (SNPs)"
   ]
  },
  {
   "cell_type": "code",
   "execution_count": null,
   "id": "507609ea",
   "metadata": {},
   "outputs": [],
   "source": [
    "SNPnonO_data = pd.concat([pd.read_csv('../resources/edge_data/variant-piRNA2566.txt',sep='\\t').rename(columns={'rs Id':'SNP'})['SNP'],\n",
    "                          pd.read_csv('../resources/edge_data/variant-miRNA2566.txt',sep='\\t')['SNP'],\n",
    "                          pd.read_csv('../resources/edge_data/variant-premiRNA2566.txt', sep='\\t')['SNP'],\n",
    "                          pd.read_csv('../resources/edge_data/variant-gene2566.txt', sep='\\t')['SNP'],\n",
    "                          pd.read_csv('../resources/edge_data/variant-disease2566.txt', sep='\\t')['SNP'],\n",
    "                          pd.read_csv('../resources/edge_data/variant-TF2566.txt', sep='\\t')['SNP']]).drop_duplicates()\n",
    "\n",
    "nonO_data_series = pd.Series(nonO_data)\n",
    "\n",
    "a = pd.DataFrame(SNPnonO_data)\n",
    "b = pd.DataFrame(nonO_data_series)\n",
    "b['SNP'] = b.index\n",
    "c = pd.merge(a,b, on=['SNP'])\n",
    "\n",
    "# Adding SNPs not covered by PKT\n",
    "SNPnonO_data = a[~a['SNP'].isin(c['SNP'])]['SNP'].unique()\n",
    "\n",
    "SNPnonO_data = pd.DataFrame(SNPnonO_data)\n",
    "SNPnonO_data['SO'] = [['SO_0001059']] * len(SNPnonO_data)\n",
    "SNPnonO_data = SNPnonO_data.set_index(0).to_dict()\n",
    "nonO_data = {**nonO_data, **SNPnonO_data['SO']}"
   ]
  },
  {
   "cell_type": "markdown",
   "id": "1ea5cc5e",
   "metadata": {},
   "source": [
    "***\n",
    "### Genes"
   ]
  },
  {
   "cell_type": "code",
   "execution_count": null,
   "id": "6fadf9f5",
   "metadata": {},
   "outputs": [],
   "source": [
    "genenonO_data = pd.concat([pd.read_csv('../resources/edge_data/snoRNA-gene2434.txt',sep='\\t')['Gene'],\n",
    "                          pd.read_csv('../resources/edge_data/miRNA-gene2449.txt', sep='\\t')['Gene'],\n",
    "                          pd.read_csv('../resources/edge_data/others-gene2434.txt', sep='\\t')['Gene'],\n",
    "                          pd.read_csv('../resources/edge_data/variant-gene2566.txt', sep='\\t')['Gene'],\n",
    "                          pd.read_csv('../resources/edge_data/gRNA-gene11007.txt', sep='\\t')['Gene'],\n",
    "                          pd.read_csv('../resources/edge_data/mRNA-gene2434.txt', sep='\\t')['Gene'],\n",
    "                          pd.read_csv('../resources/edge_data/miRNA-gene11002.txt', sep='\\t')['Gene'],\n",
    "                          pd.read_csv('../resources/edge_data/lncRNA-gene2434.txt', sep='\\t')['Gene'],\n",
    "                          pd.read_csv('../resources/edge_data/miRNA-gene11013.txt', sep='\\t')['Gene'],\n",
    "                          pd.read_csv('../resources/edge_data/miRNA-gene11016.txt', sep='\\t')['Gene'],\n",
    "                          pd.read_csv('../resources/edge_data/miRNA-gene2450.txt', sep='\\t')['Gene']]).drop_duplicates()\n",
    "\n",
    "nonO_data_series = pd.Series(nonO_data)\n",
    "\n",
    "a = pd.DataFrame(genenonO_data)\n",
    "a['Gene'] = a['Gene'].astype('str')\n",
    "b = pd.DataFrame(nonO_data_series)\n",
    "b['Gene'] = b.index.astype('str')\n",
    "c = pd.merge(a,b, on=['Gene'])\n",
    "\n",
    "# Adding genes not covered by PKT\n",
    "genenonO_data = a[~a['Gene'].isin(c['Gene'])]['Gene'].unique()\n",
    "\n",
    "genenonO_data = pd.DataFrame(genenonO_data)\n",
    "genenonO_data['SO'] = [['SO_0000704']] * len(genenonO_data)\n",
    "genenonO_data = genenonO_data.set_index(0).to_dict()\n",
    "nonO_data = {**nonO_data, **genenonO_data['SO']}"
   ]
  },
  {
   "cell_type": "markdown",
   "id": "e25c9ef9",
   "metadata": {},
   "source": [
    "***"
   ]
  },
  {
   "cell_type": "code",
   "execution_count": null,
   "id": "2c2125b6",
   "metadata": {},
   "outputs": [],
   "source": [
    "# Write data\n",
    "with open('../resources/construction_approach/subclass_construction_map.pkl', 'wb') as handle:\n",
    "    pickle.dump(nonO_data, handle, protocol=pickle.HIGHEST_PROTOCOL)"
   ]
  },
  {
   "cell_type": "code",
   "execution_count": null,
   "id": "1ed927c0",
   "metadata": {},
   "outputs": [],
   "source": [
    "# DO NOT RUN, this cell is only intended to CHECK everything's OK\n",
    "#nonO_data = pd.read_pickle(r'../resources/construction_approach/'+'subclass_construction_map.pkl')\n",
    "\n",
    "#nonO_data.items()"
   ]
  },
  {
   "cell_type": "markdown",
   "id": "3e200969",
   "metadata": {},
   "source": [
    "At this point, please run the [<tt>main.ipynb</tt>](https://github.com/AnacletoLAB/RNA-KG/blob/main/main.ipynb) notebook for generating RNA-KG."
   ]
  }
 ],
 "metadata": {
  "kernelspec": {
   "display_name": "Python 3 (ipykernel)",
   "language": "python",
   "name": "python3"
  },
  "language_info": {
   "codemirror_mode": {
    "name": "ipython",
    "version": 3
   },
   "file_extension": ".py",
   "mimetype": "text/x-python",
   "name": "python",
   "nbconvert_exporter": "python",
   "pygments_lexer": "ipython3",
   "version": "3.10.12"
  }
 },
 "nbformat": 4,
 "nbformat_minor": 5
}
